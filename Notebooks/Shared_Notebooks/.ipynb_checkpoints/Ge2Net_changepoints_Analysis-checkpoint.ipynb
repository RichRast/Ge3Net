{
 "cells": [
  {
   "cell_type": "code",
   "execution_count": 51,
   "metadata": {
    "collapsed": true
   },
   "outputs": [],
   "source": [
    "import torch\n",
    "import sys\n",
    "import os\n",
    "import os.path as osp\n",
    "import pandas as pd\n",
    "import numpy as np\n",
    "import matplotlib.pyplot as plt\n",
    "import seaborn as sns\n",
    "from mpl_toolkits.mplot3d import Axes3D\n",
    "from matplotlib import ticker\n",
    "import matplotlib as mpl\n",
    "from sklearn.metrics import precision_recall_curve"
   ]
  },
  {
   "cell_type": "code",
   "execution_count": 2,
   "metadata": {
    "collapsed": true
   },
   "outputs": [],
   "source": [
    "root_dir = \"/home/users/richras/Ge2Net_Repo\"\n",
    "os.chdir(root_dir)"
   ]
  },
  {
   "cell_type": "code",
   "execution_count": 3,
   "metadata": {},
   "outputs": [
    {
     "name": "stdout",
     "output_type": "stream",
     "text": [
      "set environment variables\r\n",
      "All done\r\n"
     ]
    }
   ],
   "source": [
    "!./ini.sh"
   ]
  },
  {
   "cell_type": "code",
   "execution_count": 4,
   "metadata": {
    "collapsed": true
   },
   "outputs": [],
   "source": [
    "os.environ['USER_PATH']='/home/users/richras/Ge2Net_Repo'\n",
    "os.environ['USER_SCRATCH_PATH']=\"/scratch/users/richras\"\n",
    "os.environ['IN_PATH']='/scratch/groups/cdbustam/richras/data_in'\n",
    "os.environ['OUT_PATH']='/scratch/groups/cdbustam/richras/data_out'\n",
    "os.environ['LOG_PATH']='/scratch/groups/cdbustam/richras/logs/'"
   ]
  },
  {
   "cell_type": "code",
   "execution_count": 5,
   "metadata": {},
   "outputs": [],
   "source": [
    "%load_ext autoreload\n",
    "%autoreload 2\n",
    "from src.utils.dataUtil import load_path, save_file, vcf2npy, get_recomb_rate, interpolate_genetic_pos, form_windows,\\\n",
    "getValueBySelection\n",
    "from src.utils.modelUtil import Params, load_model\n",
    "from src.utils.decorators import timer\n",
    "from src.utils.labelUtil import repeat_pop_arr, getSuperpopBins\n",
    "from src.models import AuxiliaryTask, LSTM, Attention, BasicBlock, Model_A, Model_B, Model_C\n",
    "from src.models.distributions import Multivariate_Gaussian\n",
    "from src.main.evaluation import eval_cp_batch, reportChangePointMetrics, t_prMetrics, cpMethod\n",
    "from src.main.settings_model import parse_args, MODEL_CLASS\n",
    "import test"
   ]
  },
  {
   "cell_type": "code",
   "execution_count": 6,
   "metadata": {
    "collapsed": true
   },
   "outputs": [],
   "source": [
    "# Specify the dataset to be evaluated\n",
    "# chm22 pca full dataset and model\n",
    "labels_path = osp.join(os.environ['OUT_PATH'],'humans/labels/data_id_3_pca')\n",
    "data_path = osp.join(os.environ['OUT_PATH'],'humans/labels/data_id_3_pca')\n",
    "models_path=osp.join(os.environ['OUT_PATH'],'humans/training/Model_B_exp_id_4_data_id_3_pca/') \n",
    "dataset_type='valid'"
   ]
  },
  {
   "cell_type": "code",
   "execution_count": 8,
   "metadata": {
    "collapsed": true
   },
   "outputs": [],
   "source": [
    "# load the params file and run test.py"
   ]
  },
  {
   "cell_type": "code",
   "execution_count": 18,
   "metadata": {},
   "outputs": [
    {
     "name": "stdout",
     "output_type": "stream",
     "text": [
      " device used: cuda\n",
      "Loading the datasets...\n",
      "Finished 'transform_data' in 26.7762 secs\n",
      "Finished '__init__' in 32.7749 secs\n",
      "model ['Model_B.model_B'] : AuxiliaryTask.AuxNetwork\n",
      "model ['Model_B.model_B'] : LSTM.BiRNN\n",
      "model ['Model_B.model_B'] : BasicBlock.logits_Block\n",
      "best val loss metrics : {'gcd': None, 'mse': 0.20966243415029062, 'smooth_l1': 0.09892145020944967, 'weighted_loss': 0.3524936370038568, 'loss_main': 0.3524936370038568, 'loss_aux': 0.8679943420903375}\n",
      "at epoch : 94\n",
      "train loss metrics: {'gcd': None, 'mse': 0.09787766041908866, 'smooth_l1': 0.046797061544382804, 'weighted_loss': 0.2386510676702706, 'loss_main': 0.21970770299296133, 'loss_aux': 0.8715258090012372}\n",
      "best val cp metrics : {'loss_cp': 1.3071895907791774e-06, 'Precision': 1.0, 'Recall': 0.4043835616438356, 'Accuracy': 0.9863497688086083, 'A_major': 1.0, 'BalancedAccuracy': 0.7021917808219178}\n",
      "train cp metrics: {'loss_cp': 2.140980156204126e-06, 'Precision': 1.0, 'Recall': 0.6669736034376919, 'Accuracy': 0.9923624061519037, 'A_major': 1.0, 'BalancedAccuracy': 0.8334868017188459}\n",
      "best val sp metrics : None\n",
      "train sp metrics: None\n",
      "best val balanced gcd metrics : None\n",
      "train balanced gcd metrics: None\n",
      "Finished 'load_model' in 0.3189 secs\n",
      "Finished 'valid' in 3.2550 secs\n",
      "Finished 'main' in 36.5788 secs\n"
     ]
    }
   ],
   "source": [
    "config={}\n",
    "config['data.labels']=labels_path \n",
    "config['data.dir']=data_path \n",
    "config['models.dir']=models_path\n",
    "config['data.dataset_type']=dataset_type\n",
    "config['cuda']='cuda'\n",
    "json_path = osp.join(config['models.dir'], 'params.json')\n",
    "assert osp.isfile(json_path), \"No json configuration file found at {}\".format(json_path)\n",
    "params = Params(json_path)\n",
    "params.rtnOuts=True\n",
    "params.mc_dropout=True\n",
    "params.mc_samples=100\n",
    "results, test_dataset=test.main(config, params)"
   ]
  },
  {
   "cell_type": "code",
   "execution_count": 10,
   "metadata": {},
   "outputs": [
    {
     "data": {
      "text/plain": [
       "torch.Size([3650, 317])"
      ]
     },
     "execution_count": 10,
     "metadata": {},
     "output_type": "execute_result"
    }
   ],
   "source": [
    "test_dataset.data['cps'].shape"
   ]
  },
  {
   "cell_type": "code",
   "execution_count": 11,
   "metadata": {},
   "outputs": [
    {
     "data": {
      "text/plain": [
       "((3650, 317, 1), (3650, 317, 3), (3650, 317, 3))"
      ]
     },
     "execution_count": 11,
     "metadata": {},
     "output_type": "execute_result"
    }
   ],
   "source": [
    "results.t_out.cp_logits.shape, results.t_out.coord_main.shape, results.t_out.y_var.shape"
   ]
  },
  {
   "cell_type": "code",
   "execution_count": 42,
   "metadata": {},
   "outputs": [
    {
     "data": {
      "text/html": [
       "<style type=\"text/css\">\n",
       "table.dataframe td, table.dataframe th {\n",
       "    border: 1px  black solid !important;\n",
       "  color: black !important;\n",
       "}\n",
       "</style>"
      ],
      "text/plain": [
       "<IPython.core.display.HTML object>"
      ]
     },
     "metadata": {},
     "output_type": "display_data"
    }
   ],
   "source": [
    "%%HTML\n",
    "<style type=\"text/css\">\n",
    "table.dataframe td, table.dataframe th {\n",
    "    border: 1px  black solid !important;\n",
    "  color: black !important;\n",
    "}\n",
    "</style>"
   ]
  },
  {
   "cell_type": "code",
   "execution_count": 46,
   "metadata": {},
   "outputs": [],
   "source": [
    "@timer\n",
    "def prMetricsByThresh(method_name, cp_pred_raw, cp_target, steps):\n",
    "    num_samples = cp_target.shape[0]\n",
    "    seqlen = cp_target.shape[1]\n",
    "    min_prob = 0.0\n",
    "    max_prob = 1.0\n",
    "    increment = (max_prob - min_prob)/steps\n",
    "    df=pd.DataFrame(columns=list(t_prMetrics._fields)+['thresh'])\n",
    "    for thresh in np.arange(min_prob, max_prob + increment, increment):\n",
    "        prMetrics = reportChangePointMetrics(method_name, cp_pred_raw, cp_target, seqlen, thresh)\n",
    "        prMetrics['thresh']=thresh\n",
    "        df=df.append(prMetrics, ignore_index=True)\n",
    "    return df"
   ]
  },
  {
   "cell_type": "code",
   "execution_count": 50,
   "metadata": {},
   "outputs": [
    {
     "name": "stdout",
     "output_type": "stream",
     "text": [
      "Finished 'prMetricsByThresh' in 9.9794 secs\n"
     ]
    },
    {
     "data": {
      "text/html": [
       "<div>\n",
       "<style scoped>\n",
       "    .dataframe tbody tr th:only-of-type {\n",
       "        vertical-align: middle;\n",
       "    }\n",
       "\n",
       "    .dataframe tbody tr th {\n",
       "        vertical-align: top;\n",
       "    }\n",
       "\n",
       "    .dataframe thead th {\n",
       "        text-align: right;\n",
       "    }\n",
       "</style>\n",
       "<table border=\"1\" class=\"dataframe\">\n",
       "  <thead>\n",
       "    <tr style=\"text-align: right;\">\n",
       "      <th></th>\n",
       "      <th>Precision</th>\n",
       "      <th>Recall</th>\n",
       "      <th>Accuracy</th>\n",
       "      <th>A_major</th>\n",
       "      <th>BalancedAccuracy</th>\n",
       "      <th>thresh</th>\n",
       "    </tr>\n",
       "  </thead>\n",
       "  <tbody>\n",
       "    <tr>\n",
       "      <th>0</th>\n",
       "      <td>0.014539</td>\n",
       "      <td>1.000000</td>\n",
       "      <td>0.039666</td>\n",
       "      <td>0.026872</td>\n",
       "      <td>0.513436</td>\n",
       "      <td>0.00</td>\n",
       "    </tr>\n",
       "    <tr>\n",
       "      <th>1</th>\n",
       "      <td>0.019973</td>\n",
       "      <td>0.989428</td>\n",
       "      <td>0.095478</td>\n",
       "      <td>0.083749</td>\n",
       "      <td>0.536588</td>\n",
       "      <td>0.05</td>\n",
       "    </tr>\n",
       "    <tr>\n",
       "      <th>2</th>\n",
       "      <td>0.977078</td>\n",
       "      <td>0.409891</td>\n",
       "      <td>0.986329</td>\n",
       "      <td>0.999846</td>\n",
       "      <td>0.704869</td>\n",
       "      <td>0.10</td>\n",
       "    </tr>\n",
       "    <tr>\n",
       "      <th>3</th>\n",
       "      <td>0.998630</td>\n",
       "      <td>0.404431</td>\n",
       "      <td>0.986343</td>\n",
       "      <td>0.999989</td>\n",
       "      <td>0.702210</td>\n",
       "      <td>0.15</td>\n",
       "    </tr>\n",
       "    <tr>\n",
       "      <th>4</th>\n",
       "      <td>1.000000</td>\n",
       "      <td>0.404384</td>\n",
       "      <td>0.986350</td>\n",
       "      <td>1.000000</td>\n",
       "      <td>0.702192</td>\n",
       "      <td>0.20</td>\n",
       "    </tr>\n",
       "    <tr>\n",
       "      <th>5</th>\n",
       "      <td>1.000000</td>\n",
       "      <td>0.404384</td>\n",
       "      <td>0.986350</td>\n",
       "      <td>1.000000</td>\n",
       "      <td>0.702192</td>\n",
       "      <td>0.25</td>\n",
       "    </tr>\n",
       "    <tr>\n",
       "      <th>6</th>\n",
       "      <td>1.000000</td>\n",
       "      <td>0.404384</td>\n",
       "      <td>0.986350</td>\n",
       "      <td>1.000000</td>\n",
       "      <td>0.702192</td>\n",
       "      <td>0.30</td>\n",
       "    </tr>\n",
       "    <tr>\n",
       "      <th>7</th>\n",
       "      <td>1.000000</td>\n",
       "      <td>0.404384</td>\n",
       "      <td>0.986350</td>\n",
       "      <td>1.000000</td>\n",
       "      <td>0.702192</td>\n",
       "      <td>0.35</td>\n",
       "    </tr>\n",
       "    <tr>\n",
       "      <th>8</th>\n",
       "      <td>1.000000</td>\n",
       "      <td>0.404384</td>\n",
       "      <td>0.986350</td>\n",
       "      <td>1.000000</td>\n",
       "      <td>0.702192</td>\n",
       "      <td>0.40</td>\n",
       "    </tr>\n",
       "    <tr>\n",
       "      <th>9</th>\n",
       "      <td>1.000000</td>\n",
       "      <td>0.404384</td>\n",
       "      <td>0.986350</td>\n",
       "      <td>1.000000</td>\n",
       "      <td>0.702192</td>\n",
       "      <td>0.45</td>\n",
       "    </tr>\n",
       "    <tr>\n",
       "      <th>10</th>\n",
       "      <td>1.000000</td>\n",
       "      <td>0.404384</td>\n",
       "      <td>0.986350</td>\n",
       "      <td>1.000000</td>\n",
       "      <td>0.702192</td>\n",
       "      <td>0.50</td>\n",
       "    </tr>\n",
       "    <tr>\n",
       "      <th>11</th>\n",
       "      <td>1.000000</td>\n",
       "      <td>0.404384</td>\n",
       "      <td>0.986350</td>\n",
       "      <td>1.000000</td>\n",
       "      <td>0.702192</td>\n",
       "      <td>0.55</td>\n",
       "    </tr>\n",
       "    <tr>\n",
       "      <th>12</th>\n",
       "      <td>1.000000</td>\n",
       "      <td>0.404384</td>\n",
       "      <td>0.986350</td>\n",
       "      <td>1.000000</td>\n",
       "      <td>0.702192</td>\n",
       "      <td>0.60</td>\n",
       "    </tr>\n",
       "    <tr>\n",
       "      <th>13</th>\n",
       "      <td>1.000000</td>\n",
       "      <td>0.404384</td>\n",
       "      <td>0.986350</td>\n",
       "      <td>1.000000</td>\n",
       "      <td>0.702192</td>\n",
       "      <td>0.65</td>\n",
       "    </tr>\n",
       "    <tr>\n",
       "      <th>14</th>\n",
       "      <td>1.000000</td>\n",
       "      <td>0.404384</td>\n",
       "      <td>0.986350</td>\n",
       "      <td>1.000000</td>\n",
       "      <td>0.702192</td>\n",
       "      <td>0.70</td>\n",
       "    </tr>\n",
       "    <tr>\n",
       "      <th>15</th>\n",
       "      <td>1.000000</td>\n",
       "      <td>0.404384</td>\n",
       "      <td>0.986350</td>\n",
       "      <td>1.000000</td>\n",
       "      <td>0.702192</td>\n",
       "      <td>0.75</td>\n",
       "    </tr>\n",
       "    <tr>\n",
       "      <th>16</th>\n",
       "      <td>1.000000</td>\n",
       "      <td>0.404384</td>\n",
       "      <td>0.986350</td>\n",
       "      <td>1.000000</td>\n",
       "      <td>0.702192</td>\n",
       "      <td>0.80</td>\n",
       "    </tr>\n",
       "    <tr>\n",
       "      <th>17</th>\n",
       "      <td>1.000000</td>\n",
       "      <td>0.404384</td>\n",
       "      <td>0.986350</td>\n",
       "      <td>1.000000</td>\n",
       "      <td>0.702192</td>\n",
       "      <td>0.85</td>\n",
       "    </tr>\n",
       "    <tr>\n",
       "      <th>18</th>\n",
       "      <td>1.000000</td>\n",
       "      <td>0.404384</td>\n",
       "      <td>0.986350</td>\n",
       "      <td>1.000000</td>\n",
       "      <td>0.702192</td>\n",
       "      <td>0.90</td>\n",
       "    </tr>\n",
       "    <tr>\n",
       "      <th>19</th>\n",
       "      <td>1.000000</td>\n",
       "      <td>0.404384</td>\n",
       "      <td>0.986350</td>\n",
       "      <td>1.000000</td>\n",
       "      <td>0.702192</td>\n",
       "      <td>0.95</td>\n",
       "    </tr>\n",
       "    <tr>\n",
       "      <th>20</th>\n",
       "      <td>1.000000</td>\n",
       "      <td>0.404384</td>\n",
       "      <td>0.986350</td>\n",
       "      <td>1.000000</td>\n",
       "      <td>0.702192</td>\n",
       "      <td>1.00</td>\n",
       "    </tr>\n",
       "  </tbody>\n",
       "</table>\n",
       "</div>"
      ],
      "text/plain": [
       "    Precision    Recall  Accuracy   A_major  BalancedAccuracy  thresh\n",
       "0    0.014539  1.000000  0.039666  0.026872          0.513436    0.00\n",
       "1    0.019973  0.989428  0.095478  0.083749          0.536588    0.05\n",
       "2    0.977078  0.409891  0.986329  0.999846          0.704869    0.10\n",
       "3    0.998630  0.404431  0.986343  0.999989          0.702210    0.15\n",
       "4    1.000000  0.404384  0.986350  1.000000          0.702192    0.20\n",
       "5    1.000000  0.404384  0.986350  1.000000          0.702192    0.25\n",
       "6    1.000000  0.404384  0.986350  1.000000          0.702192    0.30\n",
       "7    1.000000  0.404384  0.986350  1.000000          0.702192    0.35\n",
       "8    1.000000  0.404384  0.986350  1.000000          0.702192    0.40\n",
       "9    1.000000  0.404384  0.986350  1.000000          0.702192    0.45\n",
       "10   1.000000  0.404384  0.986350  1.000000          0.702192    0.50\n",
       "11   1.000000  0.404384  0.986350  1.000000          0.702192    0.55\n",
       "12   1.000000  0.404384  0.986350  1.000000          0.702192    0.60\n",
       "13   1.000000  0.404384  0.986350  1.000000          0.702192    0.65\n",
       "14   1.000000  0.404384  0.986350  1.000000          0.702192    0.70\n",
       "15   1.000000  0.404384  0.986350  1.000000          0.702192    0.75\n",
       "16   1.000000  0.404384  0.986350  1.000000          0.702192    0.80\n",
       "17   1.000000  0.404384  0.986350  1.000000          0.702192    0.85\n",
       "18   1.000000  0.404384  0.986350  1.000000          0.702192    0.90\n",
       "19   1.000000  0.404384  0.986350  1.000000          0.702192    0.95\n",
       "20   1.000000  0.404384  0.986350  1.000000          0.702192    1.00"
      ]
     },
     "execution_count": 50,
     "metadata": {},
     "output_type": "execute_result"
    }
   ],
   "source": [
    "df_nn=prMetricsByThresh(cpMethod.neural_network.name, torch.tensor(results.t_out.cp_logits).float(), \\\n",
    "                        test_dataset.data['cps'].unsqueeze(2).float(), 20)\n",
    "df_nn"
   ]
  },
  {
   "cell_type": "code",
   "execution_count": 56,
   "metadata": {},
   "outputs": [],
   "source": [
    "precision, recall, thresholds = precision_recall_curve(test_dataset.data['cps'].detach().cpu().numpy().flatten(), \\\n",
    "                                                       results.t_out.cp_logits.flatten())"
   ]
  },
  {
   "cell_type": "code",
   "execution_count": 57,
   "metadata": {},
   "outputs": [
    {
     "data": {
      "text/plain": [
       "(array([0.01365023, 0.01364938, 0.01364939, ..., 0.        , 0.        ,\n",
       "        1.        ]),\n",
       " array([1.        , 0.99993668, 0.99993668, ..., 0.        , 0.        ,\n",
       "        0.        ]),\n",
       " array([-3.3164587, -3.3088896, -3.3083174, ..., -1.4701847, -1.4203497,\n",
       "        -1.4023982], dtype=float32))"
      ]
     },
     "execution_count": 57,
     "metadata": {},
     "output_type": "execute_result"
    }
   ],
   "source": [
    "precision, recall, thresholds"
   ]
  },
  {
   "cell_type": "code",
   "execution_count": 48,
   "metadata": {},
   "outputs": [
    {
     "name": "stdout",
     "output_type": "stream",
     "text": [
      "Finished 'prMetricsByThresh' in 9.7473 secs\n",
      "    Precision    Recall  Accuracy   A_major  BalancedAccuracy  thresh\n",
      "0    0.014586  1.000000  0.042789  0.030038          0.515019    0.00\n",
      "1    0.272116  0.876770  0.941270  0.943058          0.909914    0.05\n",
      "2    0.432153  0.854147  0.969532  0.972404          0.913275    0.10\n",
      "3    0.544122  0.839733  0.979048  0.982456          0.911094    0.15\n",
      "4    0.609237  0.829436  0.983503  0.987244          0.908340    0.20\n",
      "5    0.657852  0.821463  0.986212  0.990198          0.905831    0.25\n",
      "6    0.687876  0.812147  0.987828  0.992076          0.902111    0.30\n",
      "7    0.713363  0.803981  0.988939  0.993405          0.898693    0.35\n",
      "8    0.735169  0.797256  0.989877  0.994518          0.895887    0.40\n",
      "9    0.756630  0.792530  0.990585  0.995372          0.893951    0.45\n",
      "10   0.774287  0.785963  0.991073  0.996026          0.890994    0.50\n",
      "11   0.791523  0.780229  0.991501  0.996602          0.888415    0.55\n",
      "12   0.808017  0.773052  0.991853  0.997117          0.885085    0.60\n",
      "13   0.821867  0.766576  0.992081  0.997495          0.882036    0.65\n",
      "14   0.834679  0.759308  0.992236  0.997810          0.878559    0.70\n",
      "15   0.845627  0.751976  0.992330  0.998085          0.875031    0.75\n",
      "16   0.854079  0.745879  0.992404  0.998319          0.872099    0.80\n",
      "17   0.865569  0.737147  0.992410  0.998526          0.867836    0.85\n",
      "18   0.873697  0.728431  0.992369  0.998693          0.863562    0.90\n",
      "19   0.881143  0.717647  0.992264  0.998835          0.858241    0.95\n",
      "20   0.889347  0.707401  0.992167  0.998972          0.853187    1.00\n"
     ]
    }
   ],
   "source": [
    "print(prMetricsByThresh(cpMethod.gradient.name, torch.tensor(results.t_out.coord_main).float(), \\\n",
    "                        test_dataset.data['cps'].unsqueeze(2).float(), 20))"
   ]
  },
  {
   "cell_type": "code",
   "execution_count": 49,
   "metadata": {},
   "outputs": [
    {
     "ename": "RuntimeError",
     "evalue": "Could not infer dtype of NoneType",
     "output_type": "error",
     "traceback": [
      "\u001b[0;31m---------------------------------------------------------------------------\u001b[0m",
      "\u001b[0;31mRuntimeError\u001b[0m                              Traceback (most recent call last)",
      "\u001b[0;32m<ipython-input-49-7281ab2f610b>\u001b[0m in \u001b[0;36m<module>\u001b[0;34m()\u001b[0m\n\u001b[0;32m----> 1\u001b[0;31m \u001b[0mprint\u001b[0m\u001b[0;34m(\u001b[0m\u001b[0mprMetricsByThresh\u001b[0m\u001b[0;34m(\u001b[0m\u001b[0mcpMethod\u001b[0m\u001b[0;34m.\u001b[0m\u001b[0mmc_dropout\u001b[0m\u001b[0;34m.\u001b[0m\u001b[0mname\u001b[0m\u001b[0;34m,\u001b[0m \u001b[0mtorch\u001b[0m\u001b[0;34m.\u001b[0m\u001b[0mtensor\u001b[0m\u001b[0;34m(\u001b[0m\u001b[0mresults\u001b[0m\u001b[0;34m.\u001b[0m\u001b[0mt_out\u001b[0m\u001b[0;34m.\u001b[0m\u001b[0my_var\u001b[0m\u001b[0;34m)\u001b[0m\u001b[0;34m.\u001b[0m\u001b[0mfloat\u001b[0m\u001b[0;34m(\u001b[0m\u001b[0;34m)\u001b[0m\u001b[0;34m,\u001b[0m                         \u001b[0mtest_dataset\u001b[0m\u001b[0;34m.\u001b[0m\u001b[0mdata\u001b[0m\u001b[0;34m[\u001b[0m\u001b[0;34m'cps'\u001b[0m\u001b[0;34m]\u001b[0m\u001b[0;34m.\u001b[0m\u001b[0munsqueeze\u001b[0m\u001b[0;34m(\u001b[0m\u001b[0;36m2\u001b[0m\u001b[0;34m)\u001b[0m\u001b[0;34m.\u001b[0m\u001b[0mfloat\u001b[0m\u001b[0;34m(\u001b[0m\u001b[0;34m)\u001b[0m\u001b[0;34m,\u001b[0m \u001b[0;36m20\u001b[0m\u001b[0;34m)\u001b[0m\u001b[0;34m)\u001b[0m\u001b[0;34m\u001b[0m\u001b[0m\n\u001b[0m",
      "\u001b[0;31mRuntimeError\u001b[0m: Could not infer dtype of NoneType"
     ]
    }
   ],
   "source": [
    "print(prMetricsByThresh(cpMethod.mc_dropout.name, torch.tensor(results.t_out.y_var).float(), \\\n",
    "                        test_dataset.data['cps'].unsqueeze(2).float(), 20))"
   ]
  },
  {
   "cell_type": "code",
   "execution_count": 17,
   "metadata": {},
   "outputs": [
    {
     "data": {
      "text/plain": [
       "array([[[4.08605410e-05, 1.11367030e-04, 8.47110714e-05],\n",
       "        [1.86296820e-05, 3.08456802e-05, 4.80170966e-05],\n",
       "        [7.14375028e-06, 1.93669312e-05, 4.94519409e-05],\n",
       "        ...,\n",
       "        [1.16939300e-04, 4.82083671e-03, 1.69717390e-02],\n",
       "        [8.71554366e-05, 4.84260218e-03, 1.16324173e-02],\n",
       "        [1.37436844e-04, 6.07324066e-03, 2.18241196e-02]],\n",
       "\n",
       "       [[1.41916913e-04, 4.34661109e-04, 1.98118243e-04],\n",
       "        [7.95282976e-05, 1.30294502e-04, 2.02928961e-04],\n",
       "        [8.34068414e-05, 1.42203149e-04, 1.62174430e-04],\n",
       "        ...,\n",
       "        [2.00957275e-05, 2.12317245e-05, 2.12823201e-04],\n",
       "        [2.22179351e-05, 3.06492148e-05, 2.56553642e-04],\n",
       "        [6.27382469e-05, 2.20274887e-04, 5.75352751e-04]],\n",
       "\n",
       "       [[1.88451450e-04, 1.07953709e-03, 1.82134460e-03],\n",
       "        [1.26131839e-04, 3.90142959e-04, 1.14504073e-03],\n",
       "        [7.57835587e-05, 1.82555072e-04, 6.90431450e-04],\n",
       "        ...,\n",
       "        [3.87039006e-04, 2.94174021e-03, 2.76402328e-02],\n",
       "        [2.37477114e-04, 2.35611503e-03, 1.34626245e-02],\n",
       "        [1.69305669e-04, 2.59417715e-03, 1.25601795e-02]],\n",
       "\n",
       "       ...,\n",
       "\n",
       "       [[1.31130320e-04, 6.64433828e-05, 1.55737391e-04],\n",
       "        [1.88052309e-05, 9.09574919e-06, 9.02176034e-05],\n",
       "        [5.58671854e-06, 7.53598988e-06, 6.61206213e-05],\n",
       "        ...,\n",
       "        [1.61361477e-05, 1.60839463e-05, 1.61345524e-04],\n",
       "        [1.78793580e-05, 3.38770078e-05, 2.42856957e-04],\n",
       "        [4.67475656e-05, 4.42492928e-05, 3.39915190e-04]],\n",
       "\n",
       "       [[8.79154308e-04, 9.06938294e-05, 1.17519514e-04],\n",
       "        [1.37243973e-04, 7.18108786e-05, 8.13484949e-05],\n",
       "        [2.15188746e-04, 8.63369205e-05, 1.05899235e-04],\n",
       "        ...,\n",
       "        [1.54071444e-04, 2.41337257e-04, 6.99441764e-04],\n",
       "        [1.94034117e-04, 2.47962162e-04, 6.63194864e-04],\n",
       "        [3.33045406e-04, 2.22035707e-03, 2.49106553e-03]],\n",
       "\n",
       "       [[1.62571610e-04, 2.82362016e-04, 5.13855659e-04],\n",
       "        [1.93167543e-05, 2.50598932e-05, 3.37976875e-04],\n",
       "        [1.18121061e-05, 2.06473869e-05, 3.37466598e-04],\n",
       "        ...,\n",
       "        [3.16950059e-06, 1.60939599e-05, 2.89845630e-05],\n",
       "        [1.83018947e-05, 1.31048044e-04, 6.03206063e-05],\n",
       "        [3.04373796e-04, 1.59778586e-03, 6.12291973e-04]]], dtype=float32)"
      ]
     },
     "execution_count": 17,
     "metadata": {},
     "output_type": "execute_result"
    }
   ],
   "source": [
    "results.t_out.y_var"
   ]
  },
  {
   "cell_type": "code",
   "execution_count": null,
   "metadata": {},
   "outputs": [],
   "source": []
  },
  {
   "cell_type": "code",
   "execution_count": null,
   "metadata": {
    "collapsed": true
   },
   "outputs": [],
   "source": []
  }
 ],
 "metadata": {
  "kernelspec": {
   "display_name": "Python 3",
   "language": "python",
   "name": "python3"
  },
  "language_info": {
   "codemirror_mode": {
    "name": "ipython",
    "version": 3
   },
   "file_extension": ".py",
   "mimetype": "text/x-python",
   "name": "python",
   "nbconvert_exporter": "python",
   "pygments_lexer": "ipython3",
   "version": "3.6.1"
  }
 },
 "nbformat": 4,
 "nbformat_minor": 2
}
