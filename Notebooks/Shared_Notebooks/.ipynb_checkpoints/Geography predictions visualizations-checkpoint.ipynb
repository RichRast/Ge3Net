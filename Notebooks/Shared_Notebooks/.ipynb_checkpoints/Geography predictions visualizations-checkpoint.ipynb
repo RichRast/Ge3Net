{
 "cells": [
  {
   "cell_type": "code",
   "execution_count": 148,
   "metadata": {
    "collapsed": true
   },
   "outputs": [],
   "source": [
    "import torch\n",
    "import sys\n",
    "import os\n",
    "import os.path as osp\n",
    "import pandas as pd\n",
    "import numpy as np\n",
    "import itertools\n",
    "import matplotlib.pyplot as plt\n",
    "import seaborn as sns\n",
    "import plotly.graph_objects as go\n",
    "from mpl_toolkits.mplot3d import Axes3D\n",
    "from matplotlib import ticker\n",
    "import matplotlib as mpl\n",
    "from matplotlib.colors import LogNorm\n",
    "import matplotlib.patches as mpatches\n",
    "from sklearn.metrics import precision_recall_curve, recall_score, precision_score, \\\n",
    "balanced_accuracy_score, accuracy_score\n",
    "from sklearn import metrics\n",
    "import math"
   ]
  },
  {
   "cell_type": "code",
   "execution_count": 2,
   "metadata": {
    "collapsed": true
   },
   "outputs": [],
   "source": [
    "os.environ['USER_PATH']='/home/users/richras/Ge2Net_Repo'\n",
    "os.environ['USER_SCRATCH_PATH']=\"/scratch/users/richras\"\n",
    "os.environ['IN_PATH']='/scratch/groups/cdbustam/richras/data_in'\n",
    "os.environ['OUT_PATH']='/scratch/groups/cdbustam/richras/data_out'\n",
    "os.environ['LOG_PATH']='/scratch/groups/cdbustam/richras/logs/'"
   ]
  },
  {
   "cell_type": "code",
   "execution_count": 3,
   "metadata": {
    "collapsed": true
   },
   "outputs": [],
   "source": [
    "os.chdir(os.environ.get('USER_PATH'))"
   ]
  },
  {
   "cell_type": "code",
   "execution_count": 142,
   "metadata": {},
   "outputs": [
    {
     "name": "stdout",
     "output_type": "stream",
     "text": [
      "The autoreload extension is already loaded. To reload it, use:\n",
      "  %reload_ext autoreload\n"
     ]
    }
   ],
   "source": [
    "%load_ext autoreload\n",
    "%autoreload 2\n",
    "from src.utils.dataUtil import load_path, save_file, vcf2npy, get_recomb_rate, interpolate_genetic_pos, form_windows\n",
    "from src.utils.modelUtil import Params, load_model, convert_coordinates\n",
    "from src.utils.labelUtil import getSuperpopBins, repeat_pop_arr\n",
    "from src.utils.decorators import timer\n",
    "from src.models import AuxiliaryTask, LSTM, Attention, BasicBlock, Model_A, Model_B, Model_C, BOCD\n",
    "from src.models.distributions import Multivariate_Gaussian\n",
    "from src.main.evaluation import eval_cp_batch, reportChangePointMetrics, t_prMetrics, cpMethod, eval_cp_matrix, \\\n",
    "getCpPred\n",
    "from src.main.settings_model import parse_args, MODEL_CLASS\n",
    "import test"
   ]
  },
  {
   "cell_type": "markdown",
   "metadata": {},
   "source": [
    "# load the model and use valid data "
   ]
  },
  {
   "cell_type": "code",
   "execution_count": 5,
   "metadata": {
    "collapsed": true
   },
   "outputs": [],
   "source": [
    "# Specify the dataset to be evaluated\n",
    "# chm22 pca full dataset and model\n",
    "labels_path = osp.join(os.environ['OUT_PATH'],'humans/labels/data_id_1_geo')\n",
    "data_path = osp.join(os.environ['OUT_PATH'],'humans/labels/data_id_1_geo')\n",
    "models_path=osp.join(os.environ['OUT_PATH'],'humans/training/Model_B_exp_id_9_data_id_1_geo/') \n",
    "dataset_type='valid'"
   ]
  },
  {
   "cell_type": "code",
   "execution_count": 6,
   "metadata": {},
   "outputs": [
    {
     "name": "stdout",
     "output_type": "stream",
     "text": [
      " device used: cuda\n",
      "Loading the datasets...\n",
      "Finished 'transform_data' in 27.9905 secs\n",
      "Finished '__init__' in 109.8005 secs\n",
      "model ['Model_B.model_B'] : AuxiliaryTask.AuxNetwork\n",
      "model ['Model_B.model_B'] : LSTM.BiRNN\n",
      "model ['Model_B.model_B'] : BasicBlock.logits_Block\n",
      "best val loss metrics : {'l1_loss': 0.2528095822552504, 'mse': 0.060184916821064346, 'smooth_l1': 0.030036991086910138, 'weighted_loss': 0.2528095822552504, 'loss_main': 1087.0188012618296, 'loss_aux': 2346.6816334644136}\n",
      "at epoch : 499\n",
      "train loss metrics: {'l1_loss': 0.13092479523915124, 'mse': 0.026870303912922156, 'smooth_l1': 0.013421181732888374, 'weighted_loss': 0.13092479523915124, 'loss_main': 594.8854704321795, 'loss_aux': 2130.4857966353725}\n",
      "best val cp metrics : {'loss_cp': 0.09881759427936347, 'Precision': 1.0, 'Recall': 0.4043835616438356, 'Accuracy': 0.9863497688086083, 'A_major': 1.0, 'BalancedAccuracy': 0.7021917808219178}\n",
      "train cp metrics: {'loss_cp': 0.19673313592130898, 'Precision': 0.030794964379797396, 'Recall': 0.8043858461561653, 'Accuracy': 0.8996466838241417, 'A_major': 0.9034146401223873, 'BalancedAccuracy': 0.8539002431392763}\n",
      "best val sp metrics : None\n",
      "train sp metrics: None\n",
      "best val balanced gcd metrics : {'meanBalancedGcdSp': 1078.311279296875, 'meanBalancedGcdGp': 1304.6673583984375, 'medianBalancedGcdSp': 887.5817260742188, 'medianBalancedGcdGp': 1091.2296142578125, 'median': <bound method balancedMetrics.medianMetric of balancedMetrics()>}\n",
      "train balanced gcd metrics: {'meanBalancedGcdSp': 1078.186279296875, 'meanBalancedGcdGp': 1304.5478515625, 'medianBalancedGcdSp': 887.4137573242188, 'medianBalancedGcdGp': 1091.007080078125, 'median': <bound method balancedMetrics.medianMetric of balancedMetrics()>}\n",
      "Finished 'load_model' in 1.2803 secs\n",
      "Finished 'valid' in 80.6570 secs\n",
      "Finished 'main' in 193.9291 secs\n"
     ]
    }
   ],
   "source": [
    "config={}\n",
    "config['data.labels']=labels_path \n",
    "config['data.dir']=data_path \n",
    "config['models.dir']=models_path\n",
    "config['data.dataset_type']=dataset_type\n",
    "config['cuda']='cuda'\n",
    "config['model.loadBest']=False\n",
    "json_path = osp.join(config['models.dir'], 'params.json')\n",
    "assert osp.isfile(json_path), \"No json configuration file found at {}\".format(json_path)\n",
    "params = Params(json_path)\n",
    "params.rtnOuts=True\n",
    "params.mc_dropout=True\n",
    "params.mc_samples=100\n",
    "params.cp_tol=0\n",
    "results, valid_dataset=test.main(config, params)"
   ]
  },
  {
   "cell_type": "code",
   "execution_count": 7,
   "metadata": {},
   "outputs": [
    {
     "data": {
      "text/plain": [
       "({'l1_loss': 0.23901393858235923,\n",
       "  'loss_aux': 2635.874916382179,\n",
       "  'loss_main': 1151.9075545568471,\n",
       "  'mse': 0.0521045723685099,\n",
       "  'smooth_l1': 0.026010518524682922,\n",
       "  'weighted_loss': 0.23901393858235923},\n",
       " {'A_major': 0.905782941595612,\n",
       "  'Accuracy': 0.9022868501793353,\n",
       "  'BalancedAccuracy': 0.7757973997242829,\n",
       "  'Precision': 0.02908362763666808,\n",
       "  'Recall': 0.6458118578529538,\n",
       "  'loss_cp': 0.19409764797869583})"
      ]
     },
     "execution_count": 7,
     "metadata": {},
     "output_type": "execute_result"
    }
   ],
   "source": [
    "results.t_accr, results.t_cp_accr"
   ]
  },
  {
   "cell_type": "code",
   "execution_count": 10,
   "metadata": {
    "collapsed": true
   },
   "outputs": [],
   "source": [
    "results.t_out.coord_main=results.t_out.coord_main.mean(0)"
   ]
  },
  {
   "cell_type": "code",
   "execution_count": 11,
   "metadata": {},
   "outputs": [
    {
     "name": "stdout",
     "output_type": "stream",
     "text": [
      "Finished 'run_recursive' in 189.0541 secs\n"
     ]
    }
   ],
   "source": [
    "y_pred = results.t_out.coord_main\n",
    "n_vec_dim=y_pred.shape[-1]\n",
    "data_tensor = torch.tensor(y_pred).float()\n",
    "batch_size_cpd = data_tensor.shape[0]\n",
    "mu_prior = torch.zeros((batch_size_cpd, 1,n_vec_dim))\n",
    "mean_var=torch.mean(torch.var(data_tensor, dim =1),dim=0).unsqueeze(0)\n",
    "cov_prior = (mean_var.repeat(batch_size_cpd,1).unsqueeze(1)* torch.eye(n_vec_dim)).reshape(batch_size_cpd,1,n_vec_dim,n_vec_dim)\n",
    "cov_x = cov_prior\n",
    "likelihood_model = Multivariate_Gaussian(mu_prior, cov_prior, cov_x)\n",
    "T = params.n_win\n",
    "model_cpd = BOCD.BOCD(None, T, likelihood_model, batch_size_cpd)\n",
    "posterior, _, predictive, e_mean = model_cpd.run_recursive(data_tensor, 'cpu')"
   ]
  },
  {
   "cell_type": "code",
   "execution_count": 12,
   "metadata": {
    "collapsed": true
   },
   "outputs": [],
   "source": [
    "granular_pop_dict = load_path(osp.join(labels_path, 'granular_pop.pkl'), en_pickle=True)\n",
    "superop_dict=load_path(osp.join(labels_path, 'superpop.pkl'), en_pickle=True)\n",
    "pop_sample_map=pd.read_csv(osp.join(labels_path, 'pop_sample_map.tsv'),sep=\"\\t\")\n",
    "pop_arr=repeat_pop_arr(pop_sample_map)\n",
    "cp_target=valid_dataset.data['cps']\n",
    "seqlen=cp_target.shape[1]\n",
    "rev_pop_dict={v:k for k,v in granular_pop_dict.items()}"
   ]
  },
  {
   "cell_type": "code",
   "execution_count": 130,
   "metadata": {
    "collapsed": true,
    "scrolled": false
   },
   "outputs": [],
   "source": [
    "# index = 2500\n",
    "# index=2620\n",
    "# index=2650\n",
    "# index=3000\n",
    "# index=3100\n",
    "# index=2300\n",
    "index=2320\n",
    "true_cpsSample=cp_target[index,:].detach().cpu().numpy()\n",
    "y_predSample=results.t_out.coord_main[index,:]\n",
    "y_trueSample=valid_dataset.data['y'][index,:].detach().cpu().numpy()\n",
    "granularpopSample=valid_dataset.data['granular_pop'][index,:].detach().cpu().numpy()\n",
    "namesSample=[rev_pop_dict[i] for i in granularpopSample.astype(int)]"
   ]
  },
  {
   "cell_type": "code",
   "execution_count": 131,
   "metadata": {},
   "outputs": [
    {
     "data": {
      "text/plain": [
       "(317, 3)"
      ]
     },
     "execution_count": 131,
     "metadata": {},
     "output_type": "execute_result"
    }
   ],
   "source": [
    "y_predSample.shape"
   ]
  },
  {
   "cell_type": "code",
   "execution_count": 132,
   "metadata": {
    "collapsed": true
   },
   "outputs": [],
   "source": [
    "pred_cps=getCpPred(cpMethod.gradient.name, y_predSample, 0.1, 1, len(true_cpsSample))\n",
    "pred_cps=pred_cps.squeeze(0).detach().cpu().numpy()# squeeze the batch dimension of 1"
   ]
  },
  {
   "cell_type": "code",
   "execution_count": 133,
   "metadata": {},
   "outputs": [],
   "source": [
    "predBOCDSample=model_cpd.cp[index,:]\n",
    "pred_cps_BOCD=getCpPred(cpMethod.BOCD.name, predBOCDSample, 5.0, 1, len(true_cpsSample))\n",
    "pred_cps_BOCD=pred_cps_BOCD.squeeze(0).detach().cpu().numpy()# squeeze the batch dimension of 1"
   ]
  },
  {
   "cell_type": "code",
   "execution_count": 134,
   "metadata": {
    "collapsed": true
   },
   "outputs": [],
   "source": [
    "cpIdx=np.nonzero(pred_cps_BOCD)[0]\n",
    "remWin=5\n",
    "for i in cpIdx:\n",
    "    low=max(0,i-remWin)\n",
    "    high=min(seqlen, i+remWin)\n",
    "    pred_cps_BOCD[low:high]=1"
   ]
  },
  {
   "cell_type": "code",
   "execution_count": 135,
   "metadata": {},
   "outputs": [
    {
     "name": "stdout",
     "output_type": "stream",
     "text": [
      "Finished 'getSuperpopBins' in 0.0823 secs\n"
     ]
    }
   ],
   "source": [
    "mappedSpArr=getSuperpopBins(pop_arr, labels_path, y_predSample.reshape(-1,3))\n",
    "mappedSpArr=mappedSpArr.squeeze(1)"
   ]
  },
  {
   "cell_type": "code",
   "execution_count": 136,
   "metadata": {
    "collapsed": true
   },
   "outputs": [],
   "source": [
    "y_predsTrue=valid_dataset.data['y'].detach().cpu().numpy().reshape(-1,3)\n",
    "superpopsTrue=valid_dataset.data['superpop'].detach().cpu().numpy().reshape(-1,)"
   ]
  },
  {
   "cell_type": "code",
   "execution_count": 137,
   "metadata": {
    "collapsed": true
   },
   "outputs": [],
   "source": [
    "@timer\n",
    "def plot_sample(granularPopSample, y_predSample, y_trueSample, **kwargs):\n",
    "    backgroundAxis=kwargs.get('backgroundAxis')\n",
    "    y_predCps=kwargs.get('y_predCps')\n",
    "    y_preds=kwargs.get('y_preds')\n",
    "    superpops=kwargs.get('superpops')\n",
    "    cpShow=kwargs.get('cpShow')\n",
    "    pred_cps=kwargs.get('pred_cps')\n",
    "    mappedSpArr=kwargs.get('mappedSpArr')\n",
    "    fig, ax = plt.subplots(figsize=(12,14))\n",
    "    \n",
    "    gs1 = fig.add_gridspec(nrows=3, ncols=1, height_ratios=[13,1,1])\n",
    "    ax1=fig.add_subplot(gs1[0],projection='3d')\n",
    "    ax2=fig.add_subplot(gs1[1])\n",
    "    ax3=fig.add_subplot(gs1[2])\n",
    "    for axis in [ax, ax2, ax3]:\n",
    "        axis.set_yticks([])\n",
    "        axis.spines['top'].set_color('none')\n",
    "        axis.spines['left'].set_color('none')\n",
    "        axis.spines['right'].set_color('none')\n",
    "    ax.set_xticks([])\n",
    "    plt.subplots_adjust(hspace=0.01)\n",
    "    \n",
    "    if backgroundAxis is not None:\n",
    "        lgnd, colorsPop_sp_dict =plot_all(ax1, y_preds, superpops, cpShow=False)\n",
    "    else:\n",
    "        continentaPops=list(superop_dict.values())\n",
    "        colors_Sp = sns.color_palette(\"bright\", 10)\n",
    "        del colors_Sp[1]\n",
    "        del colors_Sp[4]\n",
    "        del colors_Sp[5]\n",
    "        colorsPop_sp_dict = {k:v for k,v in zip(continentaPops, colors_Sp)}\n",
    "        patches=[]\n",
    "        for k, val in superop_dict.items():\n",
    "            patches.append(mpatches.Patch(color = colorsPop_sp_dict[val], label = k))\n",
    "        lgnd = ax1.legend(handles=patches, loc=\"upper right\",fontsize=15)\n",
    "    ax1.add_artist(lgnd)    \n",
    "    colors_pop = sns.color_palette(\"rainbow\", len(np.unique(granularPopSample)))\n",
    "    colors_pop_dict = {k:v for k,v in zip(np.unique(granularPopSample), colors_pop)}\n",
    "\n",
    "    alpha=[1]*len(y_predSample)\n",
    "    if cpShow is None:\n",
    "        alpha=(pred_cps==0).astype(float)\n",
    "    \n",
    "    ax1.scatter(y_predSample[:,0], y_predSample[:,1], y_predSample[:,2], \\\n",
    "               color = [colors_pop_dict[x]+(y,) for x,y in zip(granularPopSample, alpha)], s=50, zorder=0) \n",
    "    ax1.scatter(y_trueSample[:,0], y_trueSample[:,1], y_trueSample[:,2], \\\n",
    "               color = [colors_pop_dict[x] for x in granularPopSample], marker='X', s=200, zorder=0)\n",
    "    \n",
    "    for axis in [ax1.xaxis, ax1.yaxis, ax1.zaxis]:\n",
    "        axis.set_pane_color((1.0, 1.0, 1.0, 0.0))\n",
    "        axis._axinfo[\"grid\"]['color'] = (1,1,1,0)\n",
    "    patches=[]\n",
    "    for i, val in enumerate(np.unique(granularPopSample)):\n",
    "        patches.append(mpatches.Patch(color = colors_pop_dict[val], label = val))\n",
    "    ax1.legend(handles=patches, loc=\"upper left\", fontsize=20)\n",
    "    \n",
    "    #chm plot ground truth\n",
    "    ax2.scatter(np.arange(len(y_trueSample)),np.ones(len(y_trueSample)),\\\n",
    "                color=[colors_pop_dict[x] for x in granularPopSample], marker='s')\n",
    "    ax2.set_title('Labeled Chromosome22', fontsize=30, y=0.3)\n",
    "    #chm plot of predictions\n",
    "    ax3.scatter(np.arange(len(mappedSpArr)),np.ones(len(mappedSpArr)),\\\n",
    "                color=[colorsPop_sp_dict[x]+(y,) for x,y in zip(mappedSpArr,alpha)], marker='s')\n",
    "    ax3.set_title('Predicted Chromosome22', fontsize=30, y=0.3)\n",
    "    \n",
    "    for ax in [ax2, ax3]:\n",
    "        ax.xaxis.set_major_locator(ticker.MultipleLocator(1.0))\n",
    "        ax.xaxis.set_minor_locator(ticker.MultipleLocator(4))\n",
    "        ax.xaxis.set_ticks_position('bottom')\n",
    "        ax.tick_params(which='major', width=2, length=10, labelsize=25)\n",
    "        ax.tick_params(which='minor', width=2, length=10, labelsize=10)\n",
    "        ax.set_xlim(0, 316)\n",
    "        ax.set_ylim(0.99,1.09)\n",
    "        positions = [0, 160, 300]\n",
    "        x_labels = [0, 150000, 317000]\n",
    "        ax.xaxis.set_major_locator(ticker.FixedLocator(positions))\n",
    "        ax.xaxis.set_major_formatter(ticker.FixedFormatter(x_labels))\n",
    "    \n",
    "    fig.tight_layout()\n",
    "    plt.show()"
   ]
  },
  {
   "cell_type": "code",
   "execution_count": 138,
   "metadata": {
    "scrolled": false
   },
   "outputs": [
    {
     "data": {
      "image/png": "[encoded data removed]",
      "text/plain": [
       "<Figure size 864x1008 with 4 Axes>"
      ]
     },
     "metadata": {},
     "output_type": "display_data"
    },
    {
     "name": "stdout",
     "output_type": "stream",
     "text": [
      "Finished 'plot_sample' in 0.7706 secs\n"
     ]
    }
   ],
   "source": [
    "plot_sample(namesSample, y_predSample, y_trueSample, pred_cps=pred_cps_BOCD, mappedSpArr=mappedSpArr)"
   ]
  },
  {
   "cell_type": "code",
   "execution_count": 155,
   "metadata": {},
   "outputs": [],
   "source": [
    "def plot_coordinates_map(granularPopNames, pred_coord, lbl_coord):\n",
    "    \"\"\"\n",
    "    plotly plot for coordinates on a map\n",
    "    label: target label vector (int) for the specific sample\n",
    "    data_coordinates: lat, long for the specific sample\n",
    "    rev_pop_order: dict with keys as target label ints and values\n",
    "    as granular population name\n",
    "    \"\"\"\n",
    "    fig = go.Figure(go.Scattergeo())\n",
    "    \n",
    "    fig.add_trace(go.Scattergeo(lon=pred_coord[:,1], lat=pred_coord[:,0],text = granularPopNames))\n",
    "    fig.update_traces(marker_size = 5)\n",
    "    fig.add_trace(go.Scattergeo(lon=lbl_coord[:,1], lat=lbl_coord[:,0], marker = dict(symbol = 'square'), \\\n",
    "                                text = granularPopNames))\n",
    "    fig.update_traces(marker_size = 5)\n",
    "\n",
    "    fig.show()"
   ]
  },
  {
   "cell_type": "code",
   "execution_count": 156,
   "metadata": {},
   "outputs": [
    {
     "data": {
      "text/plain": [
       "(317, 3)"
      ]
     },
     "execution_count": 156,
     "metadata": {},
     "output_type": "execute_result"
    }
   ],
   "source": [
    "y_trueSample.shape"
   ]
  },
  {
   "cell_type": "code",
   "execution_count": 157,
   "metadata": {},
   "outputs": [
    {
     "data": {
      "application/vnd.plotly.v1+json": {
       "config": {
        "plotlyServerURL": "https://plot.ly"
       },
       "data": [
        {
         "marker": {
          "size": 5
         },
         "type": "scattergeo"
        },
        {
         "lat": [
          7.256951332092285,
          7.735919952392578,
          8.347983360290527,
          9.08056640625,
          9.495412826538086,
          9.918020248413086,
          10.15324592590332,
          10.250890731811523,
          10.209650039672852,
          10.159017562866211,
          10.104199409484863,
          9.952203750610352,
          9.852582931518555,
          9.700087547302246,
          9.598174095153809,
          9.47005844116211,
          9.391751289367676,
          9.385038375854492,
          9.282201766967773,
          9.219025611877441,
          9.233433723449707,
          9.226619720458984,
          9.160181045532227,
          9.09237289428711,
          8.9688720703125,
          8.983268737792969,
          9.002881050109863,
          8.866724967956543,
          8.696474075317383,
          8.6416654586792,
          8.629676818847656,
          8.590296745300293,
          8.47862720489502,
          8.398513793945312,
          8.368345260620117,
          8.468194007873535,
          8.522439002990723,
          8.525019645690918,
          8.515960693359375,
          8.417810440063477,
          8.373234748840332,
          8.322860717773438,
          8.274612426757812,
          8.210620880126953,
          8.117597579956055,
          8.015993118286133,
          7.91180944442749,
          7.8048553466796875,
          7.67703104019165,
          7.604825496673584,
          7.5518975257873535,
          7.341696262359619,
          7.304523468017578,
          7.230559349060059,
          7.120048999786377,
          7.038377285003662,
          6.957399368286133,
          6.896711826324463,
          6.902724266052246,
          6.862921714782715,
          6.817121982574463,
          6.699200630187988,
          6.5988688468933105,
          6.846841335296631,
          6.911253929138184,
          7.0268754959106445,
          7.265509605407715,
          7.312089443206787,
          7.424665451049805,
          7.422389030456543,
          7.4775567054748535,
          7.5109543800354,
          7.466899871826172,
          7.4767680168151855,
          7.502586841583252,
          7.436885833740234,
          7.456514835357666,
          7.45838737487793,
          7.543365001678467,
          7.5722761154174805,
          7.625710487365723,
          7.623353004455566,
          7.6341400146484375,
          7.587873458862305,
          7.562646389007568,
          7.635085582733154,
          7.664198875427246,
          7.662835597991943,
          7.706782341003418,
          7.697610378265381,
          7.706064701080322,
          7.727062225341797,
          7.717695713043213,
          7.685188293457031,
          7.692552089691162,
          7.651091575622559,
          7.614425182342529,
          7.565426349639893,
          7.607285976409912,
          7.632789134979248,
          7.692849636077881,
          7.684460639953613,
          7.665397644042969,
          7.641390323638916,
          7.625052452087402,
          7.6172075271606445,
          7.635112285614014,
          7.61969518661499,
          7.6088643074035645,
          7.666260719299316,
          7.683623790740967,
          7.600840091705322,
          7.585200309753418,
          7.6113128662109375,
          7.635108470916748,
          7.678791046142578,
          7.748526573181152,
          7.725660800933838,
          7.680315971374512,
          7.704036712646484,
          7.7737531661987305,
          7.7857890129089355,
          8.178418159484863,
          8.694958686828613,
          9.041448593139648,
          9.271952629089355,
          9.079183578491211,
          9.03927993774414,
          8.980828285217285,
          8.817599296569824,
          8.796916007995605,
          8.891044616699219,
          8.966666221618652,
          8.99978256225586,
          8.990525245666504,
          8.994322776794434,
          9.07260513305664,
          9.028196334838867,
          8.828756332397461,
          8.743133544921875,
          8.725756645202637,
          8.672216415405273,
          8.618812561035156,
          8.560680389404297,
          8.538495063781738,
          8.503437995910645,
          8.563279151916504,
          8.508953094482422,
          8.481794357299805,
          8.4878568649292,
          8.51236343383789,
          8.600586891174316,
          9.889617919921875,
          24.239654541015625,
          39.563777923583984,
          43.581233978271484,
          44.82415008544922,
          45.554473876953125,
          45.769187927246094,
          46.19749450683594,
          46.168426513671875,
          45.88661575317383,
          45.69077682495117,
          46.1072883605957,
          46.65143585205078,
          47.14926528930664,
          47.36594009399414,
          47.42842102050781,
          47.37751770019531,
          46.81551742553711,
          47.47562026977539,
          47.74635696411133,
          47.33259963989258,
          46.688751220703125,
          45.47429275512695,
          37.24260711669922,
          26.557605743408203,
          19.60784912109375,
          16.644332885742188,
          15.877464294433594,
          15.656204223632812,
          15.976614952087402,
          16.31034278869629,
          16.755962371826172,
          16.465118408203125,
          16.34731101989746,
          16.450044631958008,
          16.131113052368164,
          15.863455772399902,
          15.862981796264648,
          15.561598777770996,
          15.30911922454834,
          15.130439758300781,
          14.425158500671387,
          14.636741638183594,
          14.778616905212402,
          14.858057975769043,
          15.042900085449219,
          14.939658164978027,
          14.777304649353027,
          14.69880199432373,
          14.648674011230469,
          14.594866752624512,
          14.576269149780273,
          14.464792251586914,
          14.27198314666748,
          14.215343475341797,
          13.979169845581055,
          13.82931137084961,
          13.769678115844727,
          13.918028831481934,
          13.824097633361816,
          13.814508438110352,
          13.70121955871582,
          13.046868324279785,
          12.639456748962402,
          12.657862663269043,
          12.888830184936523,
          13.101822853088379,
          12.995606422424316,
          12.886981964111328,
          13.027433395385742,
          12.868067741394043,
          13.07911491394043,
          13.179662704467773,
          13.402009963989258,
          13.528288841247559,
          13.216543197631836,
          13.491832733154297,
          13.771623611450195,
          13.973933219909668,
          14.116786003112793,
          14.22848129272461,
          14.14795970916748,
          14.139734268188477,
          14.157654762268066,
          14.231406211853027,
          14.147712707519531,
          14.227398872375488,
          14.257052421569824,
          13.87506103515625,
          14.180585861206055,
          14.428624153137207,
          14.472103118896484,
          14.509978294372559,
          14.679808616638184,
          14.931150436401367,
          15.01679801940918,
          15.431925773620605,
          16.5693359375,
          19.403688430786133,
          23.720191955566406,
          28.25657844543457,
          30.707040786743164,
          31.313148498535156,
          31.48175621032715,
          31.347187042236328,
          31.19125747680664,
          31.356367111206055,
          31.509077072143555,
          31.729232788085938,
          31.796451568603516,
          32.01154708862305,
          32.00938034057617,
          32.084930419921875,
          32.108436584472656,
          32.097110748291016,
          32.04534149169922,
          31.98480224609375,
          31.955686569213867,
          32.02784729003906,
          31.929378509521484,
          32.07843017578125,
          31.78001594543457,
          32.08814239501953,
          32.120887756347656,
          32.386722564697266,
          32.70736312866211,
          33.15754318237305,
          33.6123161315918,
          33.60956573486328,
          34.721595764160156,
          35.913394927978516,
          37.25705337524414,
          38.71944046020508,
          39.97835922241211,
          41.02535629272461,
          41.43796920776367,
          41.634117126464844,
          41.647178649902344,
          41.61785888671875,
          41.76190948486328,
          41.91094207763672,
          41.96831512451172,
          41.914344787597656,
          41.34590148925781,
          39.12944030761719,
          32.1597900390625,
          18.538318634033203,
          14.561358451843262,
          13.4451265335083,
          11.739827156066895,
          11.113900184631348,
          10.992295265197754,
          10.44811725616455,
          10.324520111083984,
          9.396184921264648,
          9.092905044555664,
          8.996756553649902,
          8.867717742919922,
          9.06637191772461,
          8.702312469482422,
          8.527576446533203,
          8.385347366333008,
          8.202937126159668,
          8.206367492675781,
          8.892316818237305
         ],
         "lon": [
          2.7144906520843506,
          1.3230206966400146,
          -0.6396476030349731,
          -3.9761853218078613,
          -5.868477821350098,
          -7.1909613609313965,
          -8.12339973449707,
          -8.942602157592773,
          -9.029924392700195,
          -9.035719871520996,
          -9.085826873779297,
          -8.880993843078613,
          -8.713135719299316,
          -8.252699851989746,
          -7.718142509460449,
          -7.739500999450684,
          -7.966919898986816,
          -8.09556770324707,
          -7.9601898193359375,
          -7.920070171356201,
          -7.993025779724121,
          -8.177541732788086,
          -8.173758506774902,
          -8.171378135681152,
          -7.974654674530029,
          -7.061585426330566,
          -6.25620698928833,
          -6.208349704742432,
          -6.786634922027588,
          -6.7580647468566895,
          -6.756773471832275,
          -6.47898006439209,
          -6.0294108390808105,
          -5.552615165710449,
          -5.981651306152344,
          -6.476068496704102,
          -6.9987664222717285,
          -7.244814872741699,
          -7.4356489181518555,
          -7.232058525085449,
          -7.039638996124268,
          -6.9062418937683105,
          -6.706892013549805,
          -6.402737617492676,
          -5.889589309692383,
          -5.472619533538818,
          -5.073520183563232,
          -4.741642475128174,
          -4.306991100311279,
          -3.918954610824585,
          -2.9939653873443604,
          -2.640216588973999,
          -2.112868309020996,
          -1.79903244972229,
          -1.3222945928573608,
          -0.611320972442627,
          -0.03645426407456398,
          0.5860535502433777,
          1.1580474376678467,
          1.809423804283142,
          2.455000638961792,
          3.0407047271728516,
          5.170373439788818,
          5.922574043273926,
          5.687982082366943,
          5.474255084991455,
          5.830818176269531,
          6.256652355194092,
          5.781787872314453,
          5.766115188598633,
          5.577443599700928,
          5.351127624511719,
          5.178782939910889,
          5.006039142608643,
          4.9004597663879395,
          4.80538272857666,
          4.735904693603516,
          4.697078704833984,
          4.652925491333008,
          4.598840713500977,
          4.527528762817383,
          4.5296196937561035,
          4.544651031494141,
          4.51580286026001,
          4.5032639503479,
          4.518119812011719,
          4.536906719207764,
          4.526181697845459,
          4.535368919372559,
          4.502664566040039,
          4.563873767852783,
          4.52401876449585,
          4.557344913482666,
          4.509303092956543,
          4.5579423904418945,
          4.508538722991943,
          4.525726795196533,
          4.558897018432617,
          4.577168941497803,
          4.618450164794922,
          4.565710067749023,
          4.480569362640381,
          4.484846115112305,
          4.404270172119141,
          4.428187847137451,
          4.459929466247559,
          4.407975196838379,
          4.368854522705078,
          4.281797409057617,
          4.104030609130859,
          4.097654342651367,
          4.1486496925354,
          4.051644802093506,
          4.194675445556641,
          4.209242343902588,
          4.210707664489746,
          3.7259273529052734,
          3.8351850509643555,
          3.871558427810669,
          3.9509711265563965,
          3.872727870941162,
          3.4789376258850098,
          2.427475929260254,
          0.7609129548072815,
          -0.4121382236480713,
          -0.9790968894958496,
          -0.8299093842506409,
          -0.612389862537384,
          -0.27356788516044617,
          -0.01200394332408905,
          0.2063082605600357,
          0.11254791915416718,
          -0.29599636793136597,
          -0.5272648334503174,
          -0.6616010665893555,
          -1.0110812187194824,
          -1.4605107307434082,
          -1.2849417924880981,
          -0.8273319005966187,
          -0.5599019527435303,
          -0.4322490096092224,
          -0.38576048612594604,
          -0.2935121953487396,
          -0.1548057496547699,
          -0.05000382661819458,
          0.0011477302759885788,
          -0.14164775609970093,
          -0.04061989113688469,
          0.045742686837911606,
          -0.002272232435643673,
          0.2917974889278412,
          1.0061792135238647,
          2.305572271347046,
          8.698437690734863,
          12.265921592712402,
          7.356130123138428,
          5.199922561645508,
          4.682746887207031,
          4.266959190368652,
          3.6814475059509277,
          2.8349931240081787,
          1.752081274986267,
          0.870903491973877,
          0.7819557785987854,
          0.8619279861450195,
          0.7596780061721802,
          0.4175441265106201,
          0.6621978878974915,
          0.5099812150001526,
          3.07659649848938,
          5.677026748657227,
          8.017727851867676,
          10.444537162780762,
          16.817241668701172,
          28.016380310058594,
          51.96029281616211,
          69.93031311035156,
          77.3839111328125,
          79.92459106445312,
          81.13594055175781,
          81.499267578125,
          81.86522674560547,
          82.02696990966797,
          82.3399887084961,
          82.45403289794922,
          82.2305679321289,
          81.92420196533203,
          81.71292877197266,
          81.51395416259766,
          81.4268798828125,
          81.22057342529297,
          81.08403015136719,
          81.36575317382812,
          81.62361907958984,
          81.53861236572266,
          81.68487548828125,
          81.43624877929688,
          80.89461517333984,
          80.83380889892578,
          80.84132385253906,
          80.83563995361328,
          80.85470581054688,
          80.7776107788086,
          80.70356750488281,
          80.60562133789062,
          80.46343994140625,
          80.53385162353516,
          80.41641998291016,
          80.61161804199219,
          80.4811019897461,
          80.50655364990234,
          80.44580078125,
          80.37904357910156,
          80.244384765625,
          80.366943359375,
          80.31720733642578,
          80.5595703125,
          80.66519165039062,
          80.27300262451172,
          80.31747436523438,
          80.13673400878906,
          80.36048126220703,
          80.24847412109375,
          80.30480194091797,
          80.39131927490234,
          80.34969329833984,
          80.32962799072266,
          80.06639862060547,
          80.02043151855469,
          79.96139526367188,
          79.90858459472656,
          79.79534912109375,
          79.7923583984375,
          79.77003479003906,
          79.77565002441406,
          79.75591278076172,
          79.69811248779297,
          79.6419677734375,
          79.438720703125,
          79.3901138305664,
          79.43395233154297,
          79.4926528930664,
          79.0005111694336,
          78.70130157470703,
          78.5731201171875,
          78.20886993408203,
          77.74117279052734,
          77.57945251464844,
          76.84874725341797,
          74.08265686035156,
          68.02595520019531,
          56.07309341430664,
          42.11343765258789,
          35.89573669433594,
          34.71739959716797,
          34.49471664428711,
          34.365665435791016,
          34.63694381713867,
          34.62444305419922,
          34.4868278503418,
          34.37331008911133,
          34.413429260253906,
          34.31719970703125,
          34.572845458984375,
          34.57704162597656,
          34.43763732910156,
          34.287296295166016,
          34.0491943359375,
          33.651756286621094,
          33.30806350708008,
          32.89867401123047,
          32.63552474975586,
          32.08983612060547,
          32.17267990112305,
          31.567276000976562,
          31.824941635131836,
          31.382781982421875,
          30.75358009338379,
          30.03169822692871,
          29.329387664794922,
          30.453603744506836,
          28.666671752929688,
          26.34244728088379,
          23.374353408813477,
          20.60666847229004,
          18.658077239990234,
          15.582119941711426,
          15.064420700073242,
          15.045005798339844,
          15.581052780151367,
          15.439135551452637,
          15.09560775756836,
          13.718011856079102,
          12.160717010498047,
          11.705765724182129,
          13.350441932678223,
          14.312962532043457,
          10.448317527770996,
          2.518423557281494,
          0.4572567045688629,
          -0.4917046129703522,
          1.1695833206176758,
          1.8468668460845947,
          2.0444188117980957,
          2.8036773204803467,
          3.1537511348724365,
          3.303732395172119,
          3.6024935245513916,
          3.153838872909546,
          2.9080419540405273,
          2.7193565368652344,
          3.5662755966186523,
          3.6126866340637207,
          4.525883674621582,
          4.956360816955566,
          5.279855728149414,
          7.405134677886963
         ],
         "marker": {
          "size": 5
         },
         "text": [
          "Yoruba",
          "Yoruba",
          "Yoruba",
          "Yoruba",
          "Yoruba",
          "Yoruba",
          "Yoruba",
          "Yoruba",
          "Yoruba",
          "Yoruba",
          "Yoruba",
          "Yoruba",
          "Yoruba",
          "Yoruba",
          "Yoruba",
          "Yoruba",
          "Yoruba",
          "Yoruba",
          "Yoruba",
          "Yoruba",
          "Yoruba",
          "Yoruba",
          "Yoruba",
          "Yoruba",
          "Yoruba",
          "Yoruba",
          "Yoruba",
          "Yoruba",
          "Yoruba",
          "Yoruba",
          "Yoruba",
          "Yoruba",
          "Yoruba",
          "Yoruba",
          "Yoruba",
          "Yoruba",
          "Yoruba",
          "Yoruba",
          "Yoruba",
          "Yoruba",
          "Yoruba",
          "Yoruba",
          "Yoruba",
          "Yoruba",
          "Yoruba",
          "Yoruba",
          "Yoruba",
          "Yoruba",
          "Yoruba",
          "Yoruba",
          "Yoruba",
          "Yoruba",
          "Yoruba",
          "Yoruba",
          "Yoruba",
          "Yoruba",
          "Yoruba",
          "Yoruba",
          "Yoruba",
          "Yoruba",
          "Yoruba",
          "Yoruba",
          "Yoruba",
          "Yoruba",
          "Yoruba",
          "Yoruba",
          "Yoruba",
          "Yoruba",
          "Yoruba",
          "Yoruba",
          "Yoruba",
          "Yoruba",
          "Yoruba",
          "Yoruba",
          "Yoruba",
          "Yoruba",
          "Yoruba",
          "Yoruba",
          "Yoruba",
          "Yoruba",
          "Yoruba",
          "Yoruba",
          "Yoruba",
          "Yoruba",
          "Yoruba",
          "Yoruba",
          "Yoruba",
          "Yoruba",
          "Yoruba",
          "Yoruba",
          "Yoruba",
          "Yoruba",
          "Yoruba",
          "Yoruba",
          "Yoruba",
          "Yoruba",
          "Yoruba",
          "Yoruba",
          "Yoruba",
          "Yoruba",
          "Yoruba",
          "Yoruba",
          "Yoruba",
          "Yoruba",
          "Yoruba",
          "Yoruba",
          "Yoruba",
          "Yoruba",
          "Yoruba",
          "Yoruba",
          "Yoruba",
          "Yoruba",
          "Yoruba",
          "Yoruba",
          "Yoruba",
          "Yoruba",
          "Yoruba",
          "Yoruba",
          "Yoruba",
          "Yoruba",
          "Yoruba",
          "Yoruba",
          "Yoruba",
          "Yoruba",
          "Yoruba",
          "Yoruba",
          "Yoruba",
          "Yoruba",
          "Yoruba",
          "Yoruba",
          "Yoruba",
          "Yoruba",
          "Yoruba",
          "Yoruba",
          "Yoruba",
          "Yoruba",
          "Yoruba",
          "Yoruba",
          "Yoruba",
          "Yoruba",
          "Yoruba",
          "Yoruba",
          "Yoruba",
          "Yoruba",
          "Yoruba",
          "Yoruba",
          "Yoruba",
          "Yoruba",
          "Yoruba",
          "Yoruba",
          "Yoruba",
          "Yoruba",
          "Yoruba",
          "Yoruba",
          "Bengali",
          "Bengali",
          "Bengali",
          "Bengali",
          "Bengali",
          "Bengali",
          "Bengali",
          "Bengali",
          "Bengali",
          "Bengali",
          "Bengali",
          "Bengali",
          "Bengali",
          "Bengali",
          "Bengali",
          "Bengali",
          "Bengali",
          "Bengali",
          "Bengali",
          "Bengali",
          "Bengali",
          "Bengali",
          "Bengali",
          "Bengali",
          "Bengali",
          "Bengali",
          "Bengali",
          "Bengali",
          "Bengali",
          "Bengali",
          "Bengali",
          "Bengali",
          "Bengali",
          "Bengali",
          "Bengali",
          "Bengali",
          "Bengali",
          "Bengali",
          "Bengali",
          "Bengali",
          "Bengali",
          "Bengali",
          "Bengali",
          "Bengali",
          "Bengali",
          "Bengali",
          "Bengali",
          "Bengali",
          "Bengali",
          "Bengali",
          "Bengali",
          "Bengali",
          "Bengali",
          "Bengali",
          "Bengali",
          "Bengali",
          "Bengali",
          "Bengali",
          "Bengali",
          "Bengali",
          "Bengali",
          "Bengali",
          "Bengali",
          "Bengali",
          "Bengali",
          "Bengali",
          "Bengali",
          "Bengali",
          "Bengali",
          "Bengali",
          "Bengali",
          "Bengali",
          "Bengali",
          "Bengali",
          "Bengali",
          "Bengali",
          "Bengali",
          "Bengali",
          "Bengali",
          "Bengali",
          "Bengali",
          "Bengali",
          "Bengali",
          "Bengali",
          "Bengali",
          "Bengali",
          "Bengali",
          "Bengali",
          "Bengali",
          "Bengali",
          "Bengali",
          "Bengali",
          "Bengali",
          "Punjabi",
          "Punjabi",
          "Punjabi",
          "Palestinian",
          "Palestinian",
          "Palestinian",
          "Palestinian",
          "Palestinian",
          "Palestinian",
          "Palestinian",
          "Palestinian",
          "Palestinian",
          "Palestinian",
          "Palestinian",
          "Palestinian",
          "Palestinian",
          "Palestinian",
          "Palestinian",
          "Palestinian",
          "Palestinian",
          "Palestinian",
          "Palestinian",
          "Palestinian",
          "Palestinian",
          "Palestinian",
          "Palestinian",
          "Palestinian",
          "Palestinian",
          "Palestinian",
          "Palestinian",
          "Palestinian",
          "Palestinian",
          "Palestinian",
          "Palestinian",
          "Palestinian",
          "Palestinian",
          "Palestinian",
          "Palestinian",
          "Palestinian",
          "Palestinian",
          "Palestinian",
          "Palestinian",
          "Palestinian",
          "Palestinian",
          "Palestinian",
          "Palestinian",
          "Palestinian",
          "Palestinian",
          "Palestinian",
          "Palestinian",
          "Palestinian",
          "Mende",
          "Mende",
          "Mende",
          "Mende",
          "Mende",
          "Mende",
          "Mende",
          "Mende",
          "Mende",
          "Mende",
          "Mende",
          "Mende",
          "Mende",
          "Mende",
          "Mende",
          "Mende",
          "Mende",
          "Mende",
          "Mende"
         ],
         "type": "scattergeo"
        },
        {
         "lat": [
          7.400652885437012,
          7.400652885437012,
          7.400652885437012,
          7.400652885437012,
          7.400652885437012,
          7.400652885437012,
          7.400652885437012,
          7.400652885437012,
          7.400652885437012,
          7.400652885437012,
          7.400652885437012,
          7.400652885437012,
          7.400652885437012,
          7.400652885437012,
          7.400652885437012,
          7.400652885437012,
          7.400652885437012,
          7.400652885437012,
          7.400652885437012,
          7.400652885437012,
          7.400652885437012,
          7.400652885437012,
          7.400652885437012,
          7.400652885437012,
          7.400652885437012,
          7.400652885437012,
          7.400652885437012,
          7.400652885437012,
          7.400652885437012,
          7.400652885437012,
          7.400652885437012,
          7.400652885437012,
          7.400652885437012,
          7.400652885437012,
          7.400652885437012,
          7.400652885437012,
          7.400652885437012,
          7.400652885437012,
          7.400652885437012,
          7.400652885437012,
          7.400652885437012,
          7.400652885437012,
          7.400652885437012,
          7.400652885437012,
          7.400652885437012,
          7.400652885437012,
          7.400652885437012,
          7.400652885437012,
          7.400652885437012,
          7.400652885437012,
          7.400652885437012,
          7.400652885437012,
          7.400652885437012,
          7.400652885437012,
          7.400652885437012,
          7.400652885437012,
          7.400652885437012,
          7.400652885437012,
          7.400652885437012,
          7.400652885437012,
          7.400652885437012,
          7.400652885437012,
          7.400652885437012,
          7.400652885437012,
          7.400652885437012,
          7.400652885437012,
          7.400652885437012,
          7.400652885437012,
          7.400652885437012,
          7.400652885437012,
          7.400652885437012,
          7.400652885437012,
          7.400652885437012,
          7.400652885437012,
          7.400652885437012,
          7.400652885437012,
          7.400652885437012,
          7.400652885437012,
          7.400652885437012,
          7.400652885437012,
          7.400652885437012,
          7.400652885437012,
          7.400652885437012,
          7.400652885437012,
          7.400652885437012,
          7.400652885437012,
          7.400652885437012,
          7.400652885437012,
          7.400652885437012,
          7.400652885437012,
          7.400652885437012,
          7.400652885437012,
          7.400652885437012,
          7.400652885437012,
          7.400652885437012,
          7.400652885437012,
          7.400652885437012,
          7.400652885437012,
          7.400652885437012,
          7.400652885437012,
          7.400652885437012,
          7.400652885437012,
          7.400652885437012,
          7.400652885437012,
          7.400652885437012,
          7.400652885437012,
          7.400652885437012,
          7.400652885437012,
          7.400652885437012,
          7.400652885437012,
          7.400652885437012,
          7.400652885437012,
          7.400652885437012,
          7.400652885437012,
          7.400652885437012,
          7.400652885437012,
          7.400652885437012,
          7.400652885437012,
          7.400652885437012,
          7.400652885437012,
          7.400652885437012,
          7.400652885437012,
          7.400652885437012,
          7.400652885437012,
          7.400652885437012,
          7.400652885437012,
          7.400652885437012,
          7.400652885437012,
          7.400652885437012,
          7.400652885437012,
          7.400652885437012,
          7.400652885437012,
          7.400652885437012,
          7.400652885437012,
          7.400652885437012,
          7.400652885437012,
          7.400652885437012,
          7.400652885437012,
          7.400652885437012,
          7.400652885437012,
          7.400652885437012,
          7.400652885437012,
          7.400652885437012,
          7.400652885437012,
          7.400652885437012,
          7.400652885437012,
          7.400652885437012,
          7.400652885437012,
          7.400652885437012,
          7.400652885437012,
          7.400652885437012,
          7.400652885437012,
          7.400652885437012,
          7.400652885437012,
          23.867313385009766,
          23.867313385009766,
          23.867313385009766,
          23.867313385009766,
          23.867313385009766,
          23.867313385009766,
          23.867313385009766,
          23.867313385009766,
          23.867313385009766,
          23.867313385009766,
          23.867313385009766,
          23.867313385009766,
          23.867313385009766,
          23.867313385009766,
          23.867313385009766,
          23.867313385009766,
          23.867313385009766,
          23.867313385009766,
          23.867313385009766,
          23.867313385009766,
          23.867313385009766,
          23.867313385009766,
          23.867313385009766,
          23.867313385009766,
          23.867313385009766,
          23.867313385009766,
          23.867313385009766,
          23.867313385009766,
          23.867313385009766,
          23.867313385009766,
          23.867313385009766,
          23.867313385009766,
          23.867313385009766,
          23.867313385009766,
          23.867313385009766,
          23.867313385009766,
          23.867313385009766,
          23.867313385009766,
          23.867313385009766,
          23.867313385009766,
          23.867313385009766,
          23.867313385009766,
          23.867313385009766,
          23.867313385009766,
          23.867313385009766,
          23.867313385009766,
          23.867313385009766,
          23.867313385009766,
          23.867313385009766,
          23.867313385009766,
          23.867313385009766,
          23.867313385009766,
          23.867313385009766,
          23.867313385009766,
          23.867313385009766,
          23.867313385009766,
          23.867313385009766,
          23.867313385009766,
          23.867313385009766,
          23.867313385009766,
          23.867313385009766,
          23.867313385009766,
          23.867313385009766,
          23.867313385009766,
          23.867313385009766,
          23.867313385009766,
          23.867313385009766,
          23.867313385009766,
          23.867313385009766,
          23.867313385009766,
          23.867313385009766,
          23.867313385009766,
          23.867313385009766,
          23.867313385009766,
          23.867313385009766,
          23.867313385009766,
          23.867313385009766,
          23.867313385009766,
          23.867313385009766,
          23.867313385009766,
          23.867313385009766,
          23.867313385009766,
          23.867313385009766,
          23.867313385009766,
          23.867313385009766,
          23.867313385009766,
          23.867313385009766,
          23.867313385009766,
          23.867313385009766,
          23.867313385009766,
          23.867313385009766,
          23.867313385009766,
          23.867313385009766,
          31.54972267150879,
          31.54972267150879,
          31.54972267150879,
          32,
          32,
          32,
          32,
          32,
          32,
          32,
          32,
          32,
          32,
          32,
          32,
          32,
          32,
          32,
          32,
          32,
          32,
          32,
          32,
          32,
          32,
          32,
          32,
          32,
          32,
          32,
          32,
          32,
          32,
          32,
          32,
          32,
          32,
          32,
          32,
          32,
          32,
          32,
          32,
          32,
          32,
          32,
          32,
          32,
          32,
          32,
          32,
          8.563295364379883,
          8.563295364379883,
          8.563295364379883,
          8.563295364379883,
          8.563295364379883,
          8.563295364379883,
          8.563295364379883,
          8.563295364379883,
          8.563295364379883,
          8.563295364379883,
          8.563295364379883,
          8.563295364379883,
          8.563295364379883,
          8.563295364379883,
          8.563295364379883,
          8.563295364379883,
          8.563295364379883,
          8.563295364379883,
          8.563295364379883
         ],
         "lon": [
          3.9000492095947266,
          3.9000492095947266,
          3.9000492095947266,
          3.9000492095947266,
          3.9000492095947266,
          3.9000492095947266,
          3.9000492095947266,
          3.9000492095947266,
          3.9000492095947266,
          3.9000492095947266,
          3.9000492095947266,
          3.9000492095947266,
          3.9000492095947266,
          3.9000492095947266,
          3.9000492095947266,
          3.9000492095947266,
          3.9000492095947266,
          3.9000492095947266,
          3.9000492095947266,
          3.9000492095947266,
          3.9000492095947266,
          3.9000492095947266,
          3.9000492095947266,
          3.9000492095947266,
          3.9000492095947266,
          3.9000492095947266,
          3.9000492095947266,
          3.9000492095947266,
          3.9000492095947266,
          3.9000492095947266,
          3.9000492095947266,
          3.9000492095947266,
          3.9000492095947266,
          3.9000492095947266,
          3.9000492095947266,
          3.9000492095947266,
          3.9000492095947266,
          3.9000492095947266,
          3.9000492095947266,
          3.9000492095947266,
          3.9000492095947266,
          3.9000492095947266,
          3.9000492095947266,
          3.9000492095947266,
          3.9000492095947266,
          3.9000492095947266,
          3.9000492095947266,
          3.9000492095947266,
          3.9000492095947266,
          3.9000492095947266,
          3.9000492095947266,
          3.9000492095947266,
          3.9000492095947266,
          3.9000492095947266,
          3.9000492095947266,
          3.9000492095947266,
          3.9000492095947266,
          3.9000492095947266,
          3.9000492095947266,
          3.9000492095947266,
          3.9000492095947266,
          3.9000492095947266,
          3.9000492095947266,
          3.9000492095947266,
          3.9000492095947266,
          3.9000492095947266,
          3.9000492095947266,
          3.9000492095947266,
          3.9000492095947266,
          3.9000492095947266,
          3.9000492095947266,
          3.9000492095947266,
          3.9000492095947266,
          3.9000492095947266,
          3.9000492095947266,
          3.9000492095947266,
          3.9000492095947266,
          3.9000492095947266,
          3.9000492095947266,
          3.9000492095947266,
          3.9000492095947266,
          3.9000492095947266,
          3.9000492095947266,
          3.9000492095947266,
          3.9000492095947266,
          3.9000492095947266,
          3.9000492095947266,
          3.9000492095947266,
          3.9000492095947266,
          3.9000492095947266,
          3.9000492095947266,
          3.9000492095947266,
          3.9000492095947266,
          3.9000492095947266,
          3.9000492095947266,
          3.9000492095947266,
          3.9000492095947266,
          3.9000492095947266,
          3.9000492095947266,
          3.9000492095947266,
          3.9000492095947266,
          3.9000492095947266,
          3.9000492095947266,
          3.9000492095947266,
          3.9000492095947266,
          3.9000492095947266,
          3.9000492095947266,
          3.9000492095947266,
          3.9000492095947266,
          3.9000492095947266,
          3.9000492095947266,
          3.9000492095947266,
          3.9000492095947266,
          3.9000492095947266,
          3.9000492095947266,
          3.9000492095947266,
          3.9000492095947266,
          3.9000492095947266,
          3.9000492095947266,
          3.9000492095947266,
          3.9000492095947266,
          3.9000492095947266,
          3.9000492095947266,
          3.9000492095947266,
          3.9000492095947266,
          3.9000492095947266,
          3.9000492095947266,
          3.9000492095947266,
          3.9000492095947266,
          3.9000492095947266,
          3.9000492095947266,
          3.9000492095947266,
          3.9000492095947266,
          3.9000492095947266,
          3.9000492095947266,
          3.9000492095947266,
          3.9000492095947266,
          3.9000492095947266,
          3.9000492095947266,
          3.9000492095947266,
          3.9000492095947266,
          3.9000492095947266,
          3.9000492095947266,
          3.9000492095947266,
          3.9000492095947266,
          3.9000492095947266,
          3.9000492095947266,
          3.9000492095947266,
          3.9000492095947266,
          3.9000492095947266,
          3.9000492095947266,
          3.9000492095947266,
          3.9000492095947266,
          3.9000492095947266,
          90.23812103271484,
          90.23812103271484,
          90.23812103271484,
          90.23812103271484,
          90.23812103271484,
          90.23812103271484,
          90.23812103271484,
          90.23812103271484,
          90.23812103271484,
          90.23812103271484,
          90.23812103271484,
          90.23812103271484,
          90.23812103271484,
          90.23812103271484,
          90.23812103271484,
          90.23812103271484,
          90.23812103271484,
          90.23812103271484,
          90.23812103271484,
          90.23812103271484,
          90.23812103271484,
          90.23812103271484,
          90.23812103271484,
          90.23812103271484,
          90.23812103271484,
          90.23812103271484,
          90.23812103271484,
          90.23812103271484,
          90.23812103271484,
          90.23812103271484,
          90.23812103271484,
          90.23812103271484,
          90.23812103271484,
          90.23812103271484,
          90.23812103271484,
          90.23812103271484,
          90.23812103271484,
          90.23812103271484,
          90.23812103271484,
          90.23812103271484,
          90.23812103271484,
          90.23812103271484,
          90.23812103271484,
          90.23812103271484,
          90.23812103271484,
          90.23812103271484,
          90.23812103271484,
          90.23812103271484,
          90.23812103271484,
          90.23812103271484,
          90.23812103271484,
          90.23812103271484,
          90.23812103271484,
          90.23812103271484,
          90.23812103271484,
          90.23812103271484,
          90.23812103271484,
          90.23812103271484,
          90.23812103271484,
          90.23812103271484,
          90.23812103271484,
          90.23812103271484,
          90.23812103271484,
          90.23812103271484,
          90.23812103271484,
          90.23812103271484,
          90.23812103271484,
          90.23812103271484,
          90.23812103271484,
          90.23812103271484,
          90.23812103271484,
          90.23812103271484,
          90.23812103271484,
          90.23812103271484,
          90.23812103271484,
          90.23812103271484,
          90.23812103271484,
          90.23812103271484,
          90.23812103271484,
          90.23812103271484,
          90.23812103271484,
          90.23812103271484,
          90.23812103271484,
          90.23812103271484,
          90.23812103271484,
          90.23812103271484,
          90.23812103271484,
          90.23812103271484,
          90.23812103271484,
          90.23812103271484,
          90.23812103271484,
          90.23812103271484,
          90.23812103271484,
          74.34361267089844,
          74.34361267089844,
          74.34361267089844,
          35,
          35,
          35,
          35,
          35,
          35,
          35,
          35,
          35,
          35,
          35,
          35,
          35,
          35,
          35,
          35,
          35,
          35,
          35,
          35,
          35,
          35,
          35,
          35,
          35,
          35,
          35,
          35,
          35,
          35,
          35,
          35,
          35,
          35,
          35,
          35,
          35,
          35,
          35,
          35,
          35,
          35,
          35,
          35,
          35,
          35,
          35,
          35,
          -11.792713165283203,
          -11.792713165283203,
          -11.792713165283203,
          -11.792713165283203,
          -11.792713165283203,
          -11.792713165283203,
          -11.792713165283203,
          -11.792713165283203,
          -11.792713165283203,
          -11.792713165283203,
          -11.792713165283203,
          -11.792713165283203,
          -11.792713165283203,
          -11.792713165283203,
          -11.792713165283203,
          -11.792713165283203,
          -11.792713165283203,
          -11.792713165283203,
          -11.792713165283203
         ],
         "marker": {
          "size": 5,
          "symbol": "square"
         },
         "text": [
          "Yoruba",
          "Yoruba",
          "Yoruba",
          "Yoruba",
          "Yoruba",
          "Yoruba",
          "Yoruba",
          "Yoruba",
          "Yoruba",
          "Yoruba",
          "Yoruba",
          "Yoruba",
          "Yoruba",
          "Yoruba",
          "Yoruba",
          "Yoruba",
          "Yoruba",
          "Yoruba",
          "Yoruba",
          "Yoruba",
          "Yoruba",
          "Yoruba",
          "Yoruba",
          "Yoruba",
          "Yoruba",
          "Yoruba",
          "Yoruba",
          "Yoruba",
          "Yoruba",
          "Yoruba",
          "Yoruba",
          "Yoruba",
          "Yoruba",
          "Yoruba",
          "Yoruba",
          "Yoruba",
          "Yoruba",
          "Yoruba",
          "Yoruba",
          "Yoruba",
          "Yoruba",
          "Yoruba",
          "Yoruba",
          "Yoruba",
          "Yoruba",
          "Yoruba",
          "Yoruba",
          "Yoruba",
          "Yoruba",
          "Yoruba",
          "Yoruba",
          "Yoruba",
          "Yoruba",
          "Yoruba",
          "Yoruba",
          "Yoruba",
          "Yoruba",
          "Yoruba",
          "Yoruba",
          "Yoruba",
          "Yoruba",
          "Yoruba",
          "Yoruba",
          "Yoruba",
          "Yoruba",
          "Yoruba",
          "Yoruba",
          "Yoruba",
          "Yoruba",
          "Yoruba",
          "Yoruba",
          "Yoruba",
          "Yoruba",
          "Yoruba",
          "Yoruba",
          "Yoruba",
          "Yoruba",
          "Yoruba",
          "Yoruba",
          "Yoruba",
          "Yoruba",
          "Yoruba",
          "Yoruba",
          "Yoruba",
          "Yoruba",
          "Yoruba",
          "Yoruba",
          "Yoruba",
          "Yoruba",
          "Yoruba",
          "Yoruba",
          "Yoruba",
          "Yoruba",
          "Yoruba",
          "Yoruba",
          "Yoruba",
          "Yoruba",
          "Yoruba",
          "Yoruba",
          "Yoruba",
          "Yoruba",
          "Yoruba",
          "Yoruba",
          "Yoruba",
          "Yoruba",
          "Yoruba",
          "Yoruba",
          "Yoruba",
          "Yoruba",
          "Yoruba",
          "Yoruba",
          "Yoruba",
          "Yoruba",
          "Yoruba",
          "Yoruba",
          "Yoruba",
          "Yoruba",
          "Yoruba",
          "Yoruba",
          "Yoruba",
          "Yoruba",
          "Yoruba",
          "Yoruba",
          "Yoruba",
          "Yoruba",
          "Yoruba",
          "Yoruba",
          "Yoruba",
          "Yoruba",
          "Yoruba",
          "Yoruba",
          "Yoruba",
          "Yoruba",
          "Yoruba",
          "Yoruba",
          "Yoruba",
          "Yoruba",
          "Yoruba",
          "Yoruba",
          "Yoruba",
          "Yoruba",
          "Yoruba",
          "Yoruba",
          "Yoruba",
          "Yoruba",
          "Yoruba",
          "Yoruba",
          "Yoruba",
          "Yoruba",
          "Yoruba",
          "Yoruba",
          "Yoruba",
          "Yoruba",
          "Yoruba",
          "Bengali",
          "Bengali",
          "Bengali",
          "Bengali",
          "Bengali",
          "Bengali",
          "Bengali",
          "Bengali",
          "Bengali",
          "Bengali",
          "Bengali",
          "Bengali",
          "Bengali",
          "Bengali",
          "Bengali",
          "Bengali",
          "Bengali",
          "Bengali",
          "Bengali",
          "Bengali",
          "Bengali",
          "Bengali",
          "Bengali",
          "Bengali",
          "Bengali",
          "Bengali",
          "Bengali",
          "Bengali",
          "Bengali",
          "Bengali",
          "Bengali",
          "Bengali",
          "Bengali",
          "Bengali",
          "Bengali",
          "Bengali",
          "Bengali",
          "Bengali",
          "Bengali",
          "Bengali",
          "Bengali",
          "Bengali",
          "Bengali",
          "Bengali",
          "Bengali",
          "Bengali",
          "Bengali",
          "Bengali",
          "Bengali",
          "Bengali",
          "Bengali",
          "Bengali",
          "Bengali",
          "Bengali",
          "Bengali",
          "Bengali",
          "Bengali",
          "Bengali",
          "Bengali",
          "Bengali",
          "Bengali",
          "Bengali",
          "Bengali",
          "Bengali",
          "Bengali",
          "Bengali",
          "Bengali",
          "Bengali",
          "Bengali",
          "Bengali",
          "Bengali",
          "Bengali",
          "Bengali",
          "Bengali",
          "Bengali",
          "Bengali",
          "Bengali",
          "Bengali",
          "Bengali",
          "Bengali",
          "Bengali",
          "Bengali",
          "Bengali",
          "Bengali",
          "Bengali",
          "Bengali",
          "Bengali",
          "Bengali",
          "Bengali",
          "Bengali",
          "Bengali",
          "Bengali",
          "Bengali",
          "Punjabi",
          "Punjabi",
          "Punjabi",
          "Palestinian",
          "Palestinian",
          "Palestinian",
          "Palestinian",
          "Palestinian",
          "Palestinian",
          "Palestinian",
          "Palestinian",
          "Palestinian",
          "Palestinian",
          "Palestinian",
          "Palestinian",
          "Palestinian",
          "Palestinian",
          "Palestinian",
          "Palestinian",
          "Palestinian",
          "Palestinian",
          "Palestinian",
          "Palestinian",
          "Palestinian",
          "Palestinian",
          "Palestinian",
          "Palestinian",
          "Palestinian",
          "Palestinian",
          "Palestinian",
          "Palestinian",
          "Palestinian",
          "Palestinian",
          "Palestinian",
          "Palestinian",
          "Palestinian",
          "Palestinian",
          "Palestinian",
          "Palestinian",
          "Palestinian",
          "Palestinian",
          "Palestinian",
          "Palestinian",
          "Palestinian",
          "Palestinian",
          "Palestinian",
          "Palestinian",
          "Palestinian",
          "Palestinian",
          "Palestinian",
          "Palestinian",
          "Mende",
          "Mende",
          "Mende",
          "Mende",
          "Mende",
          "Mende",
          "Mende",
          "Mende",
          "Mende",
          "Mende",
          "Mende",
          "Mende",
          "Mende",
          "Mende",
          "Mende",
          "Mende",
          "Mende",
          "Mende",
          "Mende"
         ],
         "type": "scattergeo"
        }
       ],
       "layout": {
        "template": {
         "data": {
          "bar": [
           {
            "error_x": {
             "color": "#2a3f5f"
            },
            "error_y": {
             "color": "#2a3f5f"
            },
            "marker": {
             "line": {
              "color": "#E5ECF6",
              "width": 0.5
             }
            },
            "type": "bar"
           }
          ],
          "barpolar": [
           {
            "marker": {
             "line": {
              "color": "#E5ECF6",
              "width": 0.5
             }
            },
            "type": "barpolar"
           }
          ],
          "carpet": [
           {
            "aaxis": {
             "endlinecolor": "#2a3f5f",
             "gridcolor": "white",
             "linecolor": "white",
             "minorgridcolor": "white",
             "startlinecolor": "#2a3f5f"
            },
            "baxis": {
             "endlinecolor": "#2a3f5f",
             "gridcolor": "white",
             "linecolor": "white",
             "minorgridcolor": "white",
             "startlinecolor": "#2a3f5f"
            },
            "type": "carpet"
           }
          ],
          "choropleth": [
           {
            "colorbar": {
             "outlinewidth": 0,
             "ticks": ""
            },
            "type": "choropleth"
           }
          ],
          "contour": [
           {
            "colorbar": {
             "outlinewidth": 0,
             "ticks": ""
            },
            "colorscale": [
             [
              0,
              "#0d0887"
             ],
             [
              0.1111111111111111,
              "#46039f"
             ],
             [
              0.2222222222222222,
              "#7201a8"
             ],
             [
              0.3333333333333333,
              "#9c179e"
             ],
             [
              0.4444444444444444,
              "#bd3786"
             ],
             [
              0.5555555555555556,
              "#d8576b"
             ],
             [
              0.6666666666666666,
              "#ed7953"
             ],
             [
              0.7777777777777778,
              "#fb9f3a"
             ],
             [
              0.8888888888888888,
              "#fdca26"
             ],
             [
              1,
              "#f0f921"
             ]
            ],
            "type": "contour"
           }
          ],
          "contourcarpet": [
           {
            "colorbar": {
             "outlinewidth": 0,
             "ticks": ""
            },
            "type": "contourcarpet"
           }
          ],
          "heatmap": [
           {
            "colorbar": {
             "outlinewidth": 0,
             "ticks": ""
            },
            "colorscale": [
             [
              0,
              "#0d0887"
             ],
             [
              0.1111111111111111,
              "#46039f"
             ],
             [
              0.2222222222222222,
              "#7201a8"
             ],
             [
              0.3333333333333333,
              "#9c179e"
             ],
             [
              0.4444444444444444,
              "#bd3786"
             ],
             [
              0.5555555555555556,
              "#d8576b"
             ],
             [
              0.6666666666666666,
              "#ed7953"
             ],
             [
              0.7777777777777778,
              "#fb9f3a"
             ],
             [
              0.8888888888888888,
              "#fdca26"
             ],
             [
              1,
              "#f0f921"
             ]
            ],
            "type": "heatmap"
           }
          ],
          "heatmapgl": [
           {
            "colorbar": {
             "outlinewidth": 0,
             "ticks": ""
            },
            "colorscale": [
             [
              0,
              "#0d0887"
             ],
             [
              0.1111111111111111,
              "#46039f"
             ],
             [
              0.2222222222222222,
              "#7201a8"
             ],
             [
              0.3333333333333333,
              "#9c179e"
             ],
             [
              0.4444444444444444,
              "#bd3786"
             ],
             [
              0.5555555555555556,
              "#d8576b"
             ],
             [
              0.6666666666666666,
              "#ed7953"
             ],
             [
              0.7777777777777778,
              "#fb9f3a"
             ],
             [
              0.8888888888888888,
              "#fdca26"
             ],
             [
              1,
              "#f0f921"
             ]
            ],
            "type": "heatmapgl"
           }
          ],
          "histogram": [
           {
            "marker": {
             "colorbar": {
              "outlinewidth": 0,
              "ticks": ""
             }
            },
            "type": "histogram"
           }
          ],
          "histogram2d": [
           {
            "colorbar": {
             "outlinewidth": 0,
             "ticks": ""
            },
            "colorscale": [
             [
              0,
              "#0d0887"
             ],
             [
              0.1111111111111111,
              "#46039f"
             ],
             [
              0.2222222222222222,
              "#7201a8"
             ],
             [
              0.3333333333333333,
              "#9c179e"
             ],
             [
              0.4444444444444444,
              "#bd3786"
             ],
             [
              0.5555555555555556,
              "#d8576b"
             ],
             [
              0.6666666666666666,
              "#ed7953"
             ],
             [
              0.7777777777777778,
              "#fb9f3a"
             ],
             [
              0.8888888888888888,
              "#fdca26"
             ],
             [
              1,
              "#f0f921"
             ]
            ],
            "type": "histogram2d"
           }
          ],
          "histogram2dcontour": [
           {
            "colorbar": {
             "outlinewidth": 0,
             "ticks": ""
            },
            "colorscale": [
             [
              0,
              "#0d0887"
             ],
             [
              0.1111111111111111,
              "#46039f"
             ],
             [
              0.2222222222222222,
              "#7201a8"
             ],
             [
              0.3333333333333333,
              "#9c179e"
             ],
             [
              0.4444444444444444,
              "#bd3786"
             ],
             [
              0.5555555555555556,
              "#d8576b"
             ],
             [
              0.6666666666666666,
              "#ed7953"
             ],
             [
              0.7777777777777778,
              "#fb9f3a"
             ],
             [
              0.8888888888888888,
              "#fdca26"
             ],
             [
              1,
              "#f0f921"
             ]
            ],
            "type": "histogram2dcontour"
           }
          ],
          "mesh3d": [
           {
            "colorbar": {
             "outlinewidth": 0,
             "ticks": ""
            },
            "type": "mesh3d"
           }
          ],
          "parcoords": [
           {
            "line": {
             "colorbar": {
              "outlinewidth": 0,
              "ticks": ""
             }
            },
            "type": "parcoords"
           }
          ],
          "pie": [
           {
            "automargin": true,
            "type": "pie"
           }
          ],
          "scatter": [
           {
            "marker": {
             "colorbar": {
              "outlinewidth": 0,
              "ticks": ""
             }
            },
            "type": "scatter"
           }
          ],
          "scatter3d": [
           {
            "line": {
             "colorbar": {
              "outlinewidth": 0,
              "ticks": ""
             }
            },
            "marker": {
             "colorbar": {
              "outlinewidth": 0,
              "ticks": ""
             }
            },
            "type": "scatter3d"
           }
          ],
          "scattercarpet": [
           {
            "marker": {
             "colorbar": {
              "outlinewidth": 0,
              "ticks": ""
             }
            },
            "type": "scattercarpet"
           }
          ],
          "scattergeo": [
           {
            "marker": {
             "colorbar": {
              "outlinewidth": 0,
              "ticks": ""
             }
            },
            "type": "scattergeo"
           }
          ],
          "scattergl": [
           {
            "marker": {
             "colorbar": {
              "outlinewidth": 0,
              "ticks": ""
             }
            },
            "type": "scattergl"
           }
          ],
          "scattermapbox": [
           {
            "marker": {
             "colorbar": {
              "outlinewidth": 0,
              "ticks": ""
             }
            },
            "type": "scattermapbox"
           }
          ],
          "scatterpolar": [
           {
            "marker": {
             "colorbar": {
              "outlinewidth": 0,
              "ticks": ""
             }
            },
            "type": "scatterpolar"
           }
          ],
          "scatterpolargl": [
           {
            "marker": {
             "colorbar": {
              "outlinewidth": 0,
              "ticks": ""
             }
            },
            "type": "scatterpolargl"
           }
          ],
          "scatterternary": [
           {
            "marker": {
             "colorbar": {
              "outlinewidth": 0,
              "ticks": ""
             }
            },
            "type": "scatterternary"
           }
          ],
          "surface": [
           {
            "colorbar": {
             "outlinewidth": 0,
             "ticks": ""
            },
            "colorscale": [
             [
              0,
              "#0d0887"
             ],
             [
              0.1111111111111111,
              "#46039f"
             ],
             [
              0.2222222222222222,
              "#7201a8"
             ],
             [
              0.3333333333333333,
              "#9c179e"
             ],
             [
              0.4444444444444444,
              "#bd3786"
             ],
             [
              0.5555555555555556,
              "#d8576b"
             ],
             [
              0.6666666666666666,
              "#ed7953"
             ],
             [
              0.7777777777777778,
              "#fb9f3a"
             ],
             [
              0.8888888888888888,
              "#fdca26"
             ],
             [
              1,
              "#f0f921"
             ]
            ],
            "type": "surface"
           }
          ],
          "table": [
           {
            "cells": {
             "fill": {
              "color": "#EBF0F8"
             },
             "line": {
              "color": "white"
             }
            },
            "header": {
             "fill": {
              "color": "#C8D4E3"
             },
             "line": {
              "color": "white"
             }
            },
            "type": "table"
           }
          ]
         },
         "layout": {
          "annotationdefaults": {
           "arrowcolor": "#2a3f5f",
           "arrowhead": 0,
           "arrowwidth": 1
          },
          "autotypenumbers": "strict",
          "coloraxis": {
           "colorbar": {
            "outlinewidth": 0,
            "ticks": ""
           }
          },
          "colorscale": {
           "diverging": [
            [
             0,
             "#8e0152"
            ],
            [
             0.1,
             "#c51b7d"
            ],
            [
             0.2,
             "#de77ae"
            ],
            [
             0.3,
             "#f1b6da"
            ],
            [
             0.4,
             "#fde0ef"
            ],
            [
             0.5,
             "#f7f7f7"
            ],
            [
             0.6,
             "#e6f5d0"
            ],
            [
             0.7,
             "#b8e186"
            ],
            [
             0.8,
             "#7fbc41"
            ],
            [
             0.9,
             "#4d9221"
            ],
            [
             1,
             "#276419"
            ]
           ],
           "sequential": [
            [
             0,
             "#0d0887"
            ],
            [
             0.1111111111111111,
             "#46039f"
            ],
            [
             0.2222222222222222,
             "#7201a8"
            ],
            [
             0.3333333333333333,
             "#9c179e"
            ],
            [
             0.4444444444444444,
             "#bd3786"
            ],
            [
             0.5555555555555556,
             "#d8576b"
            ],
            [
             0.6666666666666666,
             "#ed7953"
            ],
            [
             0.7777777777777778,
             "#fb9f3a"
            ],
            [
             0.8888888888888888,
             "#fdca26"
            ],
            [
             1,
             "#f0f921"
            ]
           ],
           "sequentialminus": [
            [
             0,
             "#0d0887"
            ],
            [
             0.1111111111111111,
             "#46039f"
            ],
            [
             0.2222222222222222,
             "#7201a8"
            ],
            [
             0.3333333333333333,
             "#9c179e"
            ],
            [
             0.4444444444444444,
             "#bd3786"
            ],
            [
             0.5555555555555556,
             "#d8576b"
            ],
            [
             0.6666666666666666,
             "#ed7953"
            ],
            [
             0.7777777777777778,
             "#fb9f3a"
            ],
            [
             0.8888888888888888,
             "#fdca26"
            ],
            [
             1,
             "#f0f921"
            ]
           ]
          },
          "colorway": [
           "#636efa",
           "#EF553B",
           "#00cc96",
           "#ab63fa",
           "#FFA15A",
           "#19d3f3",
           "#FF6692",
           "#B6E880",
           "#FF97FF",
           "#FECB52"
          ],
          "font": {
           "color": "#2a3f5f"
          },
          "geo": {
           "bgcolor": "white",
           "lakecolor": "white",
           "landcolor": "#E5ECF6",
           "showlakes": true,
           "showland": true,
           "subunitcolor": "white"
          },
          "hoverlabel": {
           "align": "left"
          },
          "hovermode": "closest",
          "mapbox": {
           "style": "light"
          },
          "paper_bgcolor": "white",
          "plot_bgcolor": "#E5ECF6",
          "polar": {
           "angularaxis": {
            "gridcolor": "white",
            "linecolor": "white",
            "ticks": ""
           },
           "bgcolor": "#E5ECF6",
           "radialaxis": {
            "gridcolor": "white",
            "linecolor": "white",
            "ticks": ""
           }
          },
          "scene": {
           "xaxis": {
            "backgroundcolor": "#E5ECF6",
            "gridcolor": "white",
            "gridwidth": 2,
            "linecolor": "white",
            "showbackground": true,
            "ticks": "",
            "zerolinecolor": "white"
           },
           "yaxis": {
            "backgroundcolor": "#E5ECF6",
            "gridcolor": "white",
            "gridwidth": 2,
            "linecolor": "white",
            "showbackground": true,
            "ticks": "",
            "zerolinecolor": "white"
           },
           "zaxis": {
            "backgroundcolor": "#E5ECF6",
            "gridcolor": "white",
            "gridwidth": 2,
            "linecolor": "white",
            "showbackground": true,
            "ticks": "",
            "zerolinecolor": "white"
           }
          },
          "shapedefaults": {
           "line": {
            "color": "#2a3f5f"
           }
          },
          "ternary": {
           "aaxis": {
            "gridcolor": "white",
            "linecolor": "white",
            "ticks": ""
           },
           "baxis": {
            "gridcolor": "white",
            "linecolor": "white",
            "ticks": ""
           },
           "bgcolor": "#E5ECF6",
           "caxis": {
            "gridcolor": "white",
            "linecolor": "white",
            "ticks": ""
           }
          },
          "title": {
           "x": 0.05
          },
          "xaxis": {
           "automargin": true,
           "gridcolor": "white",
           "linecolor": "white",
           "ticks": "",
           "title": {
            "standoff": 15
           },
           "zerolinecolor": "white",
           "zerolinewidth": 2
          },
          "yaxis": {
           "automargin": true,
           "gridcolor": "white",
           "linecolor": "white",
           "ticks": "",
           "title": {
            "standoff": 15
           },
           "zerolinecolor": "white",
           "zerolinewidth": 2
          }
         }
        }
       }
      },
      "text/html": [
       "<div>                            <div id=\"304dd4e7-a440-411f-87b4-8c3fada53879\" class=\"plotly-graph-div\" style=\"height:525px; width:100%;\"></div>            <script type=\"text/javascript\">                require([\"plotly\"], function(Plotly) {                    window.PLOTLYENV=window.PLOTLYENV || {};                                    if (document.getElementById(\"304dd4e7-a440-411f-87b4-8c3fada53879\")) {                    Plotly.newPlot(                        \"304dd4e7-a440-411f-87b4-8c3fada53879\",                        [{\"marker\": {\"size\": 5}, \"type\": \"scattergeo\"}, {\"lat\": [7.256951332092285, 7.735919952392578, 8.347983360290527, 9.08056640625, 9.495412826538086, 9.918020248413086, 10.15324592590332, 10.250890731811523, 10.209650039672852, 10.159017562866211, 10.104199409484863, 9.952203750610352, 9.852582931518555, 9.700087547302246, 9.598174095153809, 9.47005844116211, 9.391751289367676, 9.385038375854492, 9.282201766967773, 9.219025611877441, 9.233433723449707, 9.226619720458984, 9.160181045532227, 9.09237289428711, 8.9688720703125, 8.983268737792969, 9.002881050109863, 8.866724967956543, 8.696474075317383, 8.6416654586792, 8.629676818847656, 8.590296745300293, 8.47862720489502, 8.398513793945312, 8.368345260620117, 8.468194007873535, 8.522439002990723, 8.525019645690918, 8.515960693359375, 8.417810440063477, 8.373234748840332, 8.322860717773438, 8.274612426757812, 8.210620880126953, 8.117597579956055, 8.015993118286133, 7.91180944442749, 7.8048553466796875, 7.67703104019165, 7.604825496673584, 7.5518975257873535, 7.341696262359619, 7.304523468017578, 7.230559349060059, 7.120048999786377, 7.038377285003662, 6.957399368286133, 6.896711826324463, 6.902724266052246, 6.862921714782715, 6.817121982574463, 6.699200630187988, 6.5988688468933105, 6.846841335296631, 6.911253929138184, 7.0268754959106445, 7.265509605407715, 7.312089443206787, 7.424665451049805, 7.422389030456543, 7.4775567054748535, 7.5109543800354, 7.466899871826172, 7.4767680168151855, 7.502586841583252, 7.436885833740234, 7.456514835357666, 7.45838737487793, 7.543365001678467, 7.5722761154174805, 7.625710487365723, 7.623353004455566, 7.6341400146484375, 7.587873458862305, 7.562646389007568, 7.635085582733154, 7.664198875427246, 7.662835597991943, 7.706782341003418, 7.697610378265381, 7.706064701080322, 7.727062225341797, 7.717695713043213, 7.685188293457031, 7.692552089691162, 7.651091575622559, 7.614425182342529, 7.565426349639893, 7.607285976409912, 7.632789134979248, 7.692849636077881, 7.684460639953613, 7.665397644042969, 7.641390323638916, 7.625052452087402, 7.6172075271606445, 7.635112285614014, 7.61969518661499, 7.6088643074035645, 7.666260719299316, 7.683623790740967, 7.600840091705322, 7.585200309753418, 7.6113128662109375, 7.635108470916748, 7.678791046142578, 7.748526573181152, 7.725660800933838, 7.680315971374512, 7.704036712646484, 7.7737531661987305, 7.7857890129089355, 8.178418159484863, 8.694958686828613, 9.041448593139648, 9.271952629089355, 9.079183578491211, 9.03927993774414, 8.980828285217285, 8.817599296569824, 8.796916007995605, 8.891044616699219, 8.966666221618652, 8.99978256225586, 8.990525245666504, 8.994322776794434, 9.07260513305664, 9.028196334838867, 8.828756332397461, 8.743133544921875, 8.725756645202637, 8.672216415405273, 8.618812561035156, 8.560680389404297, 8.538495063781738, 8.503437995910645, 8.563279151916504, 8.508953094482422, 8.481794357299805, 8.4878568649292, 8.51236343383789, 8.600586891174316, 9.889617919921875, 24.239654541015625, 39.563777923583984, 43.581233978271484, 44.82415008544922, 45.554473876953125, 45.769187927246094, 46.19749450683594, 46.168426513671875, 45.88661575317383, 45.69077682495117, 46.1072883605957, 46.65143585205078, 47.14926528930664, 47.36594009399414, 47.42842102050781, 47.37751770019531, 46.81551742553711, 47.47562026977539, 47.74635696411133, 47.33259963989258, 46.688751220703125, 45.47429275512695, 37.24260711669922, 26.557605743408203, 19.60784912109375, 16.644332885742188, 15.877464294433594, 15.656204223632812, 15.976614952087402, 16.31034278869629, 16.755962371826172, 16.465118408203125, 16.34731101989746, 16.450044631958008, 16.131113052368164, 15.863455772399902, 15.862981796264648, 15.561598777770996, 15.30911922454834, 15.130439758300781, 14.425158500671387, 14.636741638183594, 14.778616905212402, 14.858057975769043, 15.042900085449219, 14.939658164978027, 14.777304649353027, 14.69880199432373, 14.648674011230469, 14.594866752624512, 14.576269149780273, 14.464792251586914, 14.27198314666748, 14.215343475341797, 13.979169845581055, 13.82931137084961, 13.769678115844727, 13.918028831481934, 13.824097633361816, 13.814508438110352, 13.70121955871582, 13.046868324279785, 12.639456748962402, 12.657862663269043, 12.888830184936523, 13.101822853088379, 12.995606422424316, 12.886981964111328, 13.027433395385742, 12.868067741394043, 13.07911491394043, 13.179662704467773, 13.402009963989258, 13.528288841247559, 13.216543197631836, 13.491832733154297, 13.771623611450195, 13.973933219909668, 14.116786003112793, 14.22848129272461, 14.14795970916748, 14.139734268188477, 14.157654762268066, 14.231406211853027, 14.147712707519531, 14.227398872375488, 14.257052421569824, 13.87506103515625, 14.180585861206055, 14.428624153137207, 14.472103118896484, 14.509978294372559, 14.679808616638184, 14.931150436401367, 15.01679801940918, 15.431925773620605, 16.5693359375, 19.403688430786133, 23.720191955566406, 28.25657844543457, 30.707040786743164, 31.313148498535156, 31.48175621032715, 31.347187042236328, 31.19125747680664, 31.356367111206055, 31.509077072143555, 31.729232788085938, 31.796451568603516, 32.01154708862305, 32.00938034057617, 32.084930419921875, 32.108436584472656, 32.097110748291016, 32.04534149169922, 31.98480224609375, 31.955686569213867, 32.02784729003906, 31.929378509521484, 32.07843017578125, 31.78001594543457, 32.08814239501953, 32.120887756347656, 32.386722564697266, 32.70736312866211, 33.15754318237305, 33.6123161315918, 33.60956573486328, 34.721595764160156, 35.913394927978516, 37.25705337524414, 38.71944046020508, 39.97835922241211, 41.02535629272461, 41.43796920776367, 41.634117126464844, 41.647178649902344, 41.61785888671875, 41.76190948486328, 41.91094207763672, 41.96831512451172, 41.914344787597656, 41.34590148925781, 39.12944030761719, 32.1597900390625, 18.538318634033203, 14.561358451843262, 13.4451265335083, 11.739827156066895, 11.113900184631348, 10.992295265197754, 10.44811725616455, 10.324520111083984, 9.396184921264648, 9.092905044555664, 8.996756553649902, 8.867717742919922, 9.06637191772461, 8.702312469482422, 8.527576446533203, 8.385347366333008, 8.202937126159668, 8.206367492675781, 8.892316818237305], \"lon\": [2.7144906520843506, 1.3230206966400146, -0.6396476030349731, -3.9761853218078613, -5.868477821350098, -7.1909613609313965, -8.12339973449707, -8.942602157592773, -9.029924392700195, -9.035719871520996, -9.085826873779297, -8.880993843078613, -8.713135719299316, -8.252699851989746, -7.718142509460449, -7.739500999450684, -7.966919898986816, -8.09556770324707, -7.9601898193359375, -7.920070171356201, -7.993025779724121, -8.177541732788086, -8.173758506774902, -8.171378135681152, -7.974654674530029, -7.061585426330566, -6.25620698928833, -6.208349704742432, -6.786634922027588, -6.7580647468566895, -6.756773471832275, -6.47898006439209, -6.0294108390808105, -5.552615165710449, -5.981651306152344, -6.476068496704102, -6.9987664222717285, -7.244814872741699, -7.4356489181518555, -7.232058525085449, -7.039638996124268, -6.9062418937683105, -6.706892013549805, -6.402737617492676, -5.889589309692383, -5.472619533538818, -5.073520183563232, -4.741642475128174, -4.306991100311279, -3.918954610824585, -2.9939653873443604, -2.640216588973999, -2.112868309020996, -1.79903244972229, -1.3222945928573608, -0.611320972442627, -0.03645426407456398, 0.5860535502433777, 1.1580474376678467, 1.809423804283142, 2.455000638961792, 3.0407047271728516, 5.170373439788818, 5.922574043273926, 5.687982082366943, 5.474255084991455, 5.830818176269531, 6.256652355194092, 5.781787872314453, 5.766115188598633, 5.577443599700928, 5.351127624511719, 5.178782939910889, 5.006039142608643, 4.9004597663879395, 4.80538272857666, 4.735904693603516, 4.697078704833984, 4.652925491333008, 4.598840713500977, 4.527528762817383, 4.5296196937561035, 4.544651031494141, 4.51580286026001, 4.5032639503479, 4.518119812011719, 4.536906719207764, 4.526181697845459, 4.535368919372559, 4.502664566040039, 4.563873767852783, 4.52401876449585, 4.557344913482666, 4.509303092956543, 4.5579423904418945, 4.508538722991943, 4.525726795196533, 4.558897018432617, 4.577168941497803, 4.618450164794922, 4.565710067749023, 4.480569362640381, 4.484846115112305, 4.404270172119141, 4.428187847137451, 4.459929466247559, 4.407975196838379, 4.368854522705078, 4.281797409057617, 4.104030609130859, 4.097654342651367, 4.1486496925354, 4.051644802093506, 4.194675445556641, 4.209242343902588, 4.210707664489746, 3.7259273529052734, 3.8351850509643555, 3.871558427810669, 3.9509711265563965, 3.872727870941162, 3.4789376258850098, 2.427475929260254, 0.7609129548072815, -0.4121382236480713, -0.9790968894958496, -0.8299093842506409, -0.612389862537384, -0.27356788516044617, -0.01200394332408905, 0.2063082605600357, 0.11254791915416718, -0.29599636793136597, -0.5272648334503174, -0.6616010665893555, -1.0110812187194824, -1.4605107307434082, -1.2849417924880981, -0.8273319005966187, -0.5599019527435303, -0.4322490096092224, -0.38576048612594604, -0.2935121953487396, -0.1548057496547699, -0.05000382661819458, 0.0011477302759885788, -0.14164775609970093, -0.04061989113688469, 0.045742686837911606, -0.002272232435643673, 0.2917974889278412, 1.0061792135238647, 2.305572271347046, 8.698437690734863, 12.265921592712402, 7.356130123138428, 5.199922561645508, 4.682746887207031, 4.266959190368652, 3.6814475059509277, 2.8349931240081787, 1.752081274986267, 0.870903491973877, 0.7819557785987854, 0.8619279861450195, 0.7596780061721802, 0.4175441265106201, 0.6621978878974915, 0.5099812150001526, 3.07659649848938, 5.677026748657227, 8.017727851867676, 10.444537162780762, 16.817241668701172, 28.016380310058594, 51.96029281616211, 69.93031311035156, 77.3839111328125, 79.92459106445312, 81.13594055175781, 81.499267578125, 81.86522674560547, 82.02696990966797, 82.3399887084961, 82.45403289794922, 82.2305679321289, 81.92420196533203, 81.71292877197266, 81.51395416259766, 81.4268798828125, 81.22057342529297, 81.08403015136719, 81.36575317382812, 81.62361907958984, 81.53861236572266, 81.68487548828125, 81.43624877929688, 80.89461517333984, 80.83380889892578, 80.84132385253906, 80.83563995361328, 80.85470581054688, 80.7776107788086, 80.70356750488281, 80.60562133789062, 80.46343994140625, 80.53385162353516, 80.41641998291016, 80.61161804199219, 80.4811019897461, 80.50655364990234, 80.44580078125, 80.37904357910156, 80.244384765625, 80.366943359375, 80.31720733642578, 80.5595703125, 80.66519165039062, 80.27300262451172, 80.31747436523438, 80.13673400878906, 80.36048126220703, 80.24847412109375, 80.30480194091797, 80.39131927490234, 80.34969329833984, 80.32962799072266, 80.06639862060547, 80.02043151855469, 79.96139526367188, 79.90858459472656, 79.79534912109375, 79.7923583984375, 79.77003479003906, 79.77565002441406, 79.75591278076172, 79.69811248779297, 79.6419677734375, 79.438720703125, 79.3901138305664, 79.43395233154297, 79.4926528930664, 79.0005111694336, 78.70130157470703, 78.5731201171875, 78.20886993408203, 77.74117279052734, 77.57945251464844, 76.84874725341797, 74.08265686035156, 68.02595520019531, 56.07309341430664, 42.11343765258789, 35.89573669433594, 34.71739959716797, 34.49471664428711, 34.365665435791016, 34.63694381713867, 34.62444305419922, 34.4868278503418, 34.37331008911133, 34.413429260253906, 34.31719970703125, 34.572845458984375, 34.57704162597656, 34.43763732910156, 34.287296295166016, 34.0491943359375, 33.651756286621094, 33.30806350708008, 32.89867401123047, 32.63552474975586, 32.08983612060547, 32.17267990112305, 31.567276000976562, 31.824941635131836, 31.382781982421875, 30.75358009338379, 30.03169822692871, 29.329387664794922, 30.453603744506836, 28.666671752929688, 26.34244728088379, 23.374353408813477, 20.60666847229004, 18.658077239990234, 15.582119941711426, 15.064420700073242, 15.045005798339844, 15.581052780151367, 15.439135551452637, 15.09560775756836, 13.718011856079102, 12.160717010498047, 11.705765724182129, 13.350441932678223, 14.312962532043457, 10.448317527770996, 2.518423557281494, 0.4572567045688629, -0.4917046129703522, 1.1695833206176758, 1.8468668460845947, 2.0444188117980957, 2.8036773204803467, 3.1537511348724365, 3.303732395172119, 3.6024935245513916, 3.153838872909546, 2.9080419540405273, 2.7193565368652344, 3.5662755966186523, 3.6126866340637207, 4.525883674621582, 4.956360816955566, 5.279855728149414, 7.405134677886963], \"marker\": {\"size\": 5}, \"text\": [\"Yoruba\", \"Yoruba\", \"Yoruba\", \"Yoruba\", \"Yoruba\", \"Yoruba\", \"Yoruba\", \"Yoruba\", \"Yoruba\", \"Yoruba\", \"Yoruba\", \"Yoruba\", \"Yoruba\", \"Yoruba\", \"Yoruba\", \"Yoruba\", \"Yoruba\", \"Yoruba\", \"Yoruba\", \"Yoruba\", \"Yoruba\", \"Yoruba\", \"Yoruba\", \"Yoruba\", \"Yoruba\", \"Yoruba\", \"Yoruba\", \"Yoruba\", \"Yoruba\", \"Yoruba\", \"Yoruba\", \"Yoruba\", \"Yoruba\", \"Yoruba\", \"Yoruba\", \"Yoruba\", \"Yoruba\", \"Yoruba\", \"Yoruba\", \"Yoruba\", \"Yoruba\", \"Yoruba\", \"Yoruba\", \"Yoruba\", \"Yoruba\", \"Yoruba\", \"Yoruba\", \"Yoruba\", \"Yoruba\", \"Yoruba\", \"Yoruba\", \"Yoruba\", \"Yoruba\", \"Yoruba\", \"Yoruba\", \"Yoruba\", \"Yoruba\", \"Yoruba\", \"Yoruba\", \"Yoruba\", \"Yoruba\", \"Yoruba\", \"Yoruba\", \"Yoruba\", \"Yoruba\", \"Yoruba\", \"Yoruba\", \"Yoruba\", \"Yoruba\", \"Yoruba\", \"Yoruba\", \"Yoruba\", \"Yoruba\", \"Yoruba\", \"Yoruba\", \"Yoruba\", \"Yoruba\", \"Yoruba\", \"Yoruba\", \"Yoruba\", \"Yoruba\", \"Yoruba\", \"Yoruba\", \"Yoruba\", \"Yoruba\", \"Yoruba\", \"Yoruba\", \"Yoruba\", \"Yoruba\", \"Yoruba\", \"Yoruba\", \"Yoruba\", \"Yoruba\", \"Yoruba\", \"Yoruba\", \"Yoruba\", \"Yoruba\", \"Yoruba\", \"Yoruba\", \"Yoruba\", \"Yoruba\", \"Yoruba\", \"Yoruba\", \"Yoruba\", \"Yoruba\", \"Yoruba\", \"Yoruba\", \"Yoruba\", \"Yoruba\", \"Yoruba\", \"Yoruba\", \"Yoruba\", \"Yoruba\", \"Yoruba\", \"Yoruba\", \"Yoruba\", \"Yoruba\", \"Yoruba\", \"Yoruba\", \"Yoruba\", \"Yoruba\", \"Yoruba\", \"Yoruba\", \"Yoruba\", \"Yoruba\", \"Yoruba\", \"Yoruba\", \"Yoruba\", \"Yoruba\", \"Yoruba\", \"Yoruba\", \"Yoruba\", \"Yoruba\", \"Yoruba\", \"Yoruba\", \"Yoruba\", \"Yoruba\", \"Yoruba\", \"Yoruba\", \"Yoruba\", \"Yoruba\", \"Yoruba\", \"Yoruba\", \"Yoruba\", \"Yoruba\", \"Yoruba\", \"Yoruba\", \"Yoruba\", \"Yoruba\", \"Yoruba\", \"Yoruba\", \"Yoruba\", \"Yoruba\", \"Yoruba\", \"Bengali\", \"Bengali\", \"Bengali\", \"Bengali\", \"Bengali\", \"Bengali\", \"Bengali\", \"Bengali\", \"Bengali\", \"Bengali\", \"Bengali\", \"Bengali\", \"Bengali\", \"Bengali\", \"Bengali\", \"Bengali\", \"Bengali\", \"Bengali\", \"Bengali\", \"Bengali\", \"Bengali\", \"Bengali\", \"Bengali\", \"Bengali\", \"Bengali\", \"Bengali\", \"Bengali\", \"Bengali\", \"Bengali\", \"Bengali\", \"Bengali\", \"Bengali\", \"Bengali\", \"Bengali\", \"Bengali\", \"Bengali\", \"Bengali\", \"Bengali\", \"Bengali\", \"Bengali\", \"Bengali\", \"Bengali\", \"Bengali\", \"Bengali\", \"Bengali\", \"Bengali\", \"Bengali\", \"Bengali\", \"Bengali\", \"Bengali\", \"Bengali\", \"Bengali\", \"Bengali\", \"Bengali\", \"Bengali\", \"Bengali\", \"Bengali\", \"Bengali\", \"Bengali\", \"Bengali\", \"Bengali\", \"Bengali\", \"Bengali\", \"Bengali\", \"Bengali\", \"Bengali\", \"Bengali\", \"Bengali\", \"Bengali\", \"Bengali\", \"Bengali\", \"Bengali\", \"Bengali\", \"Bengali\", \"Bengali\", \"Bengali\", \"Bengali\", \"Bengali\", \"Bengali\", \"Bengali\", \"Bengali\", \"Bengali\", \"Bengali\", \"Bengali\", \"Bengali\", \"Bengali\", \"Bengali\", \"Bengali\", \"Bengali\", \"Bengali\", \"Bengali\", \"Bengali\", \"Bengali\", \"Punjabi\", \"Punjabi\", \"Punjabi\", \"Palestinian\", \"Palestinian\", \"Palestinian\", \"Palestinian\", \"Palestinian\", \"Palestinian\", \"Palestinian\", \"Palestinian\", \"Palestinian\", \"Palestinian\", \"Palestinian\", \"Palestinian\", \"Palestinian\", \"Palestinian\", \"Palestinian\", \"Palestinian\", \"Palestinian\", \"Palestinian\", \"Palestinian\", \"Palestinian\", \"Palestinian\", \"Palestinian\", \"Palestinian\", \"Palestinian\", \"Palestinian\", \"Palestinian\", \"Palestinian\", \"Palestinian\", \"Palestinian\", \"Palestinian\", \"Palestinian\", \"Palestinian\", \"Palestinian\", \"Palestinian\", \"Palestinian\", \"Palestinian\", \"Palestinian\", \"Palestinian\", \"Palestinian\", \"Palestinian\", \"Palestinian\", \"Palestinian\", \"Palestinian\", \"Palestinian\", \"Palestinian\", \"Palestinian\", \"Palestinian\", \"Palestinian\", \"Mende\", \"Mende\", \"Mende\", \"Mende\", \"Mende\", \"Mende\", \"Mende\", \"Mende\", \"Mende\", \"Mende\", \"Mende\", \"Mende\", \"Mende\", \"Mende\", \"Mende\", \"Mende\", \"Mende\", \"Mende\", \"Mende\"], \"type\": \"scattergeo\"}, {\"lat\": [7.400652885437012, 7.400652885437012, 7.400652885437012, 7.400652885437012, 7.400652885437012, 7.400652885437012, 7.400652885437012, 7.400652885437012, 7.400652885437012, 7.400652885437012, 7.400652885437012, 7.400652885437012, 7.400652885437012, 7.400652885437012, 7.400652885437012, 7.400652885437012, 7.400652885437012, 7.400652885437012, 7.400652885437012, 7.400652885437012, 7.400652885437012, 7.400652885437012, 7.400652885437012, 7.400652885437012, 7.400652885437012, 7.400652885437012, 7.400652885437012, 7.400652885437012, 7.400652885437012, 7.400652885437012, 7.400652885437012, 7.400652885437012, 7.400652885437012, 7.400652885437012, 7.400652885437012, 7.400652885437012, 7.400652885437012, 7.400652885437012, 7.400652885437012, 7.400652885437012, 7.400652885437012, 7.400652885437012, 7.400652885437012, 7.400652885437012, 7.400652885437012, 7.400652885437012, 7.400652885437012, 7.400652885437012, 7.400652885437012, 7.400652885437012, 7.400652885437012, 7.400652885437012, 7.400652885437012, 7.400652885437012, 7.400652885437012, 7.400652885437012, 7.400652885437012, 7.400652885437012, 7.400652885437012, 7.400652885437012, 7.400652885437012, 7.400652885437012, 7.400652885437012, 7.400652885437012, 7.400652885437012, 7.400652885437012, 7.400652885437012, 7.400652885437012, 7.400652885437012, 7.400652885437012, 7.400652885437012, 7.400652885437012, 7.400652885437012, 7.400652885437012, 7.400652885437012, 7.400652885437012, 7.400652885437012, 7.400652885437012, 7.400652885437012, 7.400652885437012, 7.400652885437012, 7.400652885437012, 7.400652885437012, 7.400652885437012, 7.400652885437012, 7.400652885437012, 7.400652885437012, 7.400652885437012, 7.400652885437012, 7.400652885437012, 7.400652885437012, 7.400652885437012, 7.400652885437012, 7.400652885437012, 7.400652885437012, 7.400652885437012, 7.400652885437012, 7.400652885437012, 7.400652885437012, 7.400652885437012, 7.400652885437012, 7.400652885437012, 7.400652885437012, 7.400652885437012, 7.400652885437012, 7.400652885437012, 7.400652885437012, 7.400652885437012, 7.400652885437012, 7.400652885437012, 7.400652885437012, 7.400652885437012, 7.400652885437012, 7.400652885437012, 7.400652885437012, 7.400652885437012, 7.400652885437012, 7.400652885437012, 7.400652885437012, 7.400652885437012, 7.400652885437012, 7.400652885437012, 7.400652885437012, 7.400652885437012, 7.400652885437012, 7.400652885437012, 7.400652885437012, 7.400652885437012, 7.400652885437012, 7.400652885437012, 7.400652885437012, 7.400652885437012, 7.400652885437012, 7.400652885437012, 7.400652885437012, 7.400652885437012, 7.400652885437012, 7.400652885437012, 7.400652885437012, 7.400652885437012, 7.400652885437012, 7.400652885437012, 7.400652885437012, 7.400652885437012, 7.400652885437012, 7.400652885437012, 7.400652885437012, 7.400652885437012, 7.400652885437012, 7.400652885437012, 7.400652885437012, 7.400652885437012, 7.400652885437012, 7.400652885437012, 23.867313385009766, 23.867313385009766, 23.867313385009766, 23.867313385009766, 23.867313385009766, 23.867313385009766, 23.867313385009766, 23.867313385009766, 23.867313385009766, 23.867313385009766, 23.867313385009766, 23.867313385009766, 23.867313385009766, 23.867313385009766, 23.867313385009766, 23.867313385009766, 23.867313385009766, 23.867313385009766, 23.867313385009766, 23.867313385009766, 23.867313385009766, 23.867313385009766, 23.867313385009766, 23.867313385009766, 23.867313385009766, 23.867313385009766, 23.867313385009766, 23.867313385009766, 23.867313385009766, 23.867313385009766, 23.867313385009766, 23.867313385009766, 23.867313385009766, 23.867313385009766, 23.867313385009766, 23.867313385009766, 23.867313385009766, 23.867313385009766, 23.867313385009766, 23.867313385009766, 23.867313385009766, 23.867313385009766, 23.867313385009766, 23.867313385009766, 23.867313385009766, 23.867313385009766, 23.867313385009766, 23.867313385009766, 23.867313385009766, 23.867313385009766, 23.867313385009766, 23.867313385009766, 23.867313385009766, 23.867313385009766, 23.867313385009766, 23.867313385009766, 23.867313385009766, 23.867313385009766, 23.867313385009766, 23.867313385009766, 23.867313385009766, 23.867313385009766, 23.867313385009766, 23.867313385009766, 23.867313385009766, 23.867313385009766, 23.867313385009766, 23.867313385009766, 23.867313385009766, 23.867313385009766, 23.867313385009766, 23.867313385009766, 23.867313385009766, 23.867313385009766, 23.867313385009766, 23.867313385009766, 23.867313385009766, 23.867313385009766, 23.867313385009766, 23.867313385009766, 23.867313385009766, 23.867313385009766, 23.867313385009766, 23.867313385009766, 23.867313385009766, 23.867313385009766, 23.867313385009766, 23.867313385009766, 23.867313385009766, 23.867313385009766, 23.867313385009766, 23.867313385009766, 23.867313385009766, 31.54972267150879, 31.54972267150879, 31.54972267150879, 32.0, 32.0, 32.0, 32.0, 32.0, 32.0, 32.0, 32.0, 32.0, 32.0, 32.0, 32.0, 32.0, 32.0, 32.0, 32.0, 32.0, 32.0, 32.0, 32.0, 32.0, 32.0, 32.0, 32.0, 32.0, 32.0, 32.0, 32.0, 32.0, 32.0, 32.0, 32.0, 32.0, 32.0, 32.0, 32.0, 32.0, 32.0, 32.0, 32.0, 32.0, 32.0, 32.0, 32.0, 32.0, 32.0, 32.0, 32.0, 8.563295364379883, 8.563295364379883, 8.563295364379883, 8.563295364379883, 8.563295364379883, 8.563295364379883, 8.563295364379883, 8.563295364379883, 8.563295364379883, 8.563295364379883, 8.563295364379883, 8.563295364379883, 8.563295364379883, 8.563295364379883, 8.563295364379883, 8.563295364379883, 8.563295364379883, 8.563295364379883, 8.563295364379883], \"lon\": [3.9000492095947266, 3.9000492095947266, 3.9000492095947266, 3.9000492095947266, 3.9000492095947266, 3.9000492095947266, 3.9000492095947266, 3.9000492095947266, 3.9000492095947266, 3.9000492095947266, 3.9000492095947266, 3.9000492095947266, 3.9000492095947266, 3.9000492095947266, 3.9000492095947266, 3.9000492095947266, 3.9000492095947266, 3.9000492095947266, 3.9000492095947266, 3.9000492095947266, 3.9000492095947266, 3.9000492095947266, 3.9000492095947266, 3.9000492095947266, 3.9000492095947266, 3.9000492095947266, 3.9000492095947266, 3.9000492095947266, 3.9000492095947266, 3.9000492095947266, 3.9000492095947266, 3.9000492095947266, 3.9000492095947266, 3.9000492095947266, 3.9000492095947266, 3.9000492095947266, 3.9000492095947266, 3.9000492095947266, 3.9000492095947266, 3.9000492095947266, 3.9000492095947266, 3.9000492095947266, 3.9000492095947266, 3.9000492095947266, 3.9000492095947266, 3.9000492095947266, 3.9000492095947266, 3.9000492095947266, 3.9000492095947266, 3.9000492095947266, 3.9000492095947266, 3.9000492095947266, 3.9000492095947266, 3.9000492095947266, 3.9000492095947266, 3.9000492095947266, 3.9000492095947266, 3.9000492095947266, 3.9000492095947266, 3.9000492095947266, 3.9000492095947266, 3.9000492095947266, 3.9000492095947266, 3.9000492095947266, 3.9000492095947266, 3.9000492095947266, 3.9000492095947266, 3.9000492095947266, 3.9000492095947266, 3.9000492095947266, 3.9000492095947266, 3.9000492095947266, 3.9000492095947266, 3.9000492095947266, 3.9000492095947266, 3.9000492095947266, 3.9000492095947266, 3.9000492095947266, 3.9000492095947266, 3.9000492095947266, 3.9000492095947266, 3.9000492095947266, 3.9000492095947266, 3.9000492095947266, 3.9000492095947266, 3.9000492095947266, 3.9000492095947266, 3.9000492095947266, 3.9000492095947266, 3.9000492095947266, 3.9000492095947266, 3.9000492095947266, 3.9000492095947266, 3.9000492095947266, 3.9000492095947266, 3.9000492095947266, 3.9000492095947266, 3.9000492095947266, 3.9000492095947266, 3.9000492095947266, 3.9000492095947266, 3.9000492095947266, 3.9000492095947266, 3.9000492095947266, 3.9000492095947266, 3.9000492095947266, 3.9000492095947266, 3.9000492095947266, 3.9000492095947266, 3.9000492095947266, 3.9000492095947266, 3.9000492095947266, 3.9000492095947266, 3.9000492095947266, 3.9000492095947266, 3.9000492095947266, 3.9000492095947266, 3.9000492095947266, 3.9000492095947266, 3.9000492095947266, 3.9000492095947266, 3.9000492095947266, 3.9000492095947266, 3.9000492095947266, 3.9000492095947266, 3.9000492095947266, 3.9000492095947266, 3.9000492095947266, 3.9000492095947266, 3.9000492095947266, 3.9000492095947266, 3.9000492095947266, 3.9000492095947266, 3.9000492095947266, 3.9000492095947266, 3.9000492095947266, 3.9000492095947266, 3.9000492095947266, 3.9000492095947266, 3.9000492095947266, 3.9000492095947266, 3.9000492095947266, 3.9000492095947266, 3.9000492095947266, 3.9000492095947266, 3.9000492095947266, 3.9000492095947266, 3.9000492095947266, 3.9000492095947266, 3.9000492095947266, 3.9000492095947266, 3.9000492095947266, 3.9000492095947266, 3.9000492095947266, 90.23812103271484, 90.23812103271484, 90.23812103271484, 90.23812103271484, 90.23812103271484, 90.23812103271484, 90.23812103271484, 90.23812103271484, 90.23812103271484, 90.23812103271484, 90.23812103271484, 90.23812103271484, 90.23812103271484, 90.23812103271484, 90.23812103271484, 90.23812103271484, 90.23812103271484, 90.23812103271484, 90.23812103271484, 90.23812103271484, 90.23812103271484, 90.23812103271484, 90.23812103271484, 90.23812103271484, 90.23812103271484, 90.23812103271484, 90.23812103271484, 90.23812103271484, 90.23812103271484, 90.23812103271484, 90.23812103271484, 90.23812103271484, 90.23812103271484, 90.23812103271484, 90.23812103271484, 90.23812103271484, 90.23812103271484, 90.23812103271484, 90.23812103271484, 90.23812103271484, 90.23812103271484, 90.23812103271484, 90.23812103271484, 90.23812103271484, 90.23812103271484, 90.23812103271484, 90.23812103271484, 90.23812103271484, 90.23812103271484, 90.23812103271484, 90.23812103271484, 90.23812103271484, 90.23812103271484, 90.23812103271484, 90.23812103271484, 90.23812103271484, 90.23812103271484, 90.23812103271484, 90.23812103271484, 90.23812103271484, 90.23812103271484, 90.23812103271484, 90.23812103271484, 90.23812103271484, 90.23812103271484, 90.23812103271484, 90.23812103271484, 90.23812103271484, 90.23812103271484, 90.23812103271484, 90.23812103271484, 90.23812103271484, 90.23812103271484, 90.23812103271484, 90.23812103271484, 90.23812103271484, 90.23812103271484, 90.23812103271484, 90.23812103271484, 90.23812103271484, 90.23812103271484, 90.23812103271484, 90.23812103271484, 90.23812103271484, 90.23812103271484, 90.23812103271484, 90.23812103271484, 90.23812103271484, 90.23812103271484, 90.23812103271484, 90.23812103271484, 90.23812103271484, 90.23812103271484, 74.34361267089844, 74.34361267089844, 74.34361267089844, 35.0, 35.0, 35.0, 35.0, 35.0, 35.0, 35.0, 35.0, 35.0, 35.0, 35.0, 35.0, 35.0, 35.0, 35.0, 35.0, 35.0, 35.0, 35.0, 35.0, 35.0, 35.0, 35.0, 35.0, 35.0, 35.0, 35.0, 35.0, 35.0, 35.0, 35.0, 35.0, 35.0, 35.0, 35.0, 35.0, 35.0, 35.0, 35.0, 35.0, 35.0, 35.0, 35.0, 35.0, 35.0, 35.0, 35.0, 35.0, -11.792713165283203, -11.792713165283203, -11.792713165283203, -11.792713165283203, -11.792713165283203, -11.792713165283203, -11.792713165283203, -11.792713165283203, -11.792713165283203, -11.792713165283203, -11.792713165283203, -11.792713165283203, -11.792713165283203, -11.792713165283203, -11.792713165283203, -11.792713165283203, -11.792713165283203, -11.792713165283203, -11.792713165283203], \"marker\": {\"size\": 5, \"symbol\": \"square\"}, \"text\": [\"Yoruba\", \"Yoruba\", \"Yoruba\", \"Yoruba\", \"Yoruba\", \"Yoruba\", \"Yoruba\", \"Yoruba\", \"Yoruba\", \"Yoruba\", \"Yoruba\", \"Yoruba\", \"Yoruba\", \"Yoruba\", \"Yoruba\", \"Yoruba\", \"Yoruba\", \"Yoruba\", \"Yoruba\", \"Yoruba\", \"Yoruba\", \"Yoruba\", \"Yoruba\", \"Yoruba\", \"Yoruba\", \"Yoruba\", \"Yoruba\", \"Yoruba\", \"Yoruba\", \"Yoruba\", \"Yoruba\", \"Yoruba\", \"Yoruba\", \"Yoruba\", \"Yoruba\", \"Yoruba\", \"Yoruba\", \"Yoruba\", \"Yoruba\", \"Yoruba\", \"Yoruba\", \"Yoruba\", \"Yoruba\", \"Yoruba\", \"Yoruba\", \"Yoruba\", \"Yoruba\", \"Yoruba\", \"Yoruba\", \"Yoruba\", \"Yoruba\", \"Yoruba\", \"Yoruba\", \"Yoruba\", \"Yoruba\", \"Yoruba\", \"Yoruba\", \"Yoruba\", \"Yoruba\", \"Yoruba\", \"Yoruba\", \"Yoruba\", \"Yoruba\", \"Yoruba\", \"Yoruba\", \"Yoruba\", \"Yoruba\", \"Yoruba\", \"Yoruba\", \"Yoruba\", \"Yoruba\", \"Yoruba\", \"Yoruba\", \"Yoruba\", \"Yoruba\", \"Yoruba\", \"Yoruba\", \"Yoruba\", \"Yoruba\", \"Yoruba\", \"Yoruba\", \"Yoruba\", \"Yoruba\", \"Yoruba\", \"Yoruba\", \"Yoruba\", \"Yoruba\", \"Yoruba\", \"Yoruba\", \"Yoruba\", \"Yoruba\", \"Yoruba\", \"Yoruba\", \"Yoruba\", \"Yoruba\", \"Yoruba\", \"Yoruba\", \"Yoruba\", \"Yoruba\", \"Yoruba\", \"Yoruba\", \"Yoruba\", \"Yoruba\", \"Yoruba\", \"Yoruba\", \"Yoruba\", \"Yoruba\", \"Yoruba\", \"Yoruba\", \"Yoruba\", \"Yoruba\", \"Yoruba\", \"Yoruba\", \"Yoruba\", \"Yoruba\", \"Yoruba\", \"Yoruba\", \"Yoruba\", \"Yoruba\", \"Yoruba\", \"Yoruba\", \"Yoruba\", \"Yoruba\", \"Yoruba\", \"Yoruba\", \"Yoruba\", \"Yoruba\", \"Yoruba\", \"Yoruba\", \"Yoruba\", \"Yoruba\", \"Yoruba\", \"Yoruba\", \"Yoruba\", \"Yoruba\", \"Yoruba\", \"Yoruba\", \"Yoruba\", \"Yoruba\", \"Yoruba\", \"Yoruba\", \"Yoruba\", \"Yoruba\", \"Yoruba\", \"Yoruba\", \"Yoruba\", \"Yoruba\", \"Yoruba\", \"Yoruba\", \"Yoruba\", \"Yoruba\", \"Yoruba\", \"Yoruba\", \"Yoruba\", \"Bengali\", \"Bengali\", \"Bengali\", \"Bengali\", \"Bengali\", \"Bengali\", \"Bengali\", \"Bengali\", \"Bengali\", \"Bengali\", \"Bengali\", \"Bengali\", \"Bengali\", \"Bengali\", \"Bengali\", \"Bengali\", \"Bengali\", \"Bengali\", \"Bengali\", \"Bengali\", \"Bengali\", \"Bengali\", \"Bengali\", \"Bengali\", \"Bengali\", \"Bengali\", \"Bengali\", \"Bengali\", \"Bengali\", \"Bengali\", \"Bengali\", \"Bengali\", \"Bengali\", \"Bengali\", \"Bengali\", \"Bengali\", \"Bengali\", \"Bengali\", \"Bengali\", \"Bengali\", \"Bengali\", \"Bengali\", \"Bengali\", \"Bengali\", \"Bengali\", \"Bengali\", \"Bengali\", \"Bengali\", \"Bengali\", \"Bengali\", \"Bengali\", \"Bengali\", \"Bengali\", \"Bengali\", \"Bengali\", \"Bengali\", \"Bengali\", \"Bengali\", \"Bengali\", \"Bengali\", \"Bengali\", \"Bengali\", \"Bengali\", \"Bengali\", \"Bengali\", \"Bengali\", \"Bengali\", \"Bengali\", \"Bengali\", \"Bengali\", \"Bengali\", \"Bengali\", \"Bengali\", \"Bengali\", \"Bengali\", \"Bengali\", \"Bengali\", \"Bengali\", \"Bengali\", \"Bengali\", \"Bengali\", \"Bengali\", \"Bengali\", \"Bengali\", \"Bengali\", \"Bengali\", \"Bengali\", \"Bengali\", \"Bengali\", \"Bengali\", \"Bengali\", \"Bengali\", \"Bengali\", \"Punjabi\", \"Punjabi\", \"Punjabi\", \"Palestinian\", \"Palestinian\", \"Palestinian\", \"Palestinian\", \"Palestinian\", \"Palestinian\", \"Palestinian\", \"Palestinian\", \"Palestinian\", \"Palestinian\", \"Palestinian\", \"Palestinian\", \"Palestinian\", \"Palestinian\", \"Palestinian\", \"Palestinian\", \"Palestinian\", \"Palestinian\", \"Palestinian\", \"Palestinian\", \"Palestinian\", \"Palestinian\", \"Palestinian\", \"Palestinian\", \"Palestinian\", \"Palestinian\", \"Palestinian\", \"Palestinian\", \"Palestinian\", \"Palestinian\", \"Palestinian\", \"Palestinian\", \"Palestinian\", \"Palestinian\", \"Palestinian\", \"Palestinian\", \"Palestinian\", \"Palestinian\", \"Palestinian\", \"Palestinian\", \"Palestinian\", \"Palestinian\", \"Palestinian\", \"Palestinian\", \"Palestinian\", \"Palestinian\", \"Palestinian\", \"Palestinian\", \"Mende\", \"Mende\", \"Mende\", \"Mende\", \"Mende\", \"Mende\", \"Mende\", \"Mende\", \"Mende\", \"Mende\", \"Mende\", \"Mende\", \"Mende\", \"Mende\", \"Mende\", \"Mende\", \"Mende\", \"Mende\", \"Mende\"], \"type\": \"scattergeo\"}],                        {\"template\": {\"data\": {\"bar\": [{\"error_x\": {\"color\": \"#2a3f5f\"}, \"error_y\": {\"color\": \"#2a3f5f\"}, \"marker\": {\"line\": {\"color\": \"#E5ECF6\", \"width\": 0.5}}, \"type\": \"bar\"}], \"barpolar\": [{\"marker\": {\"line\": {\"color\": \"#E5ECF6\", \"width\": 0.5}}, \"type\": \"barpolar\"}], \"carpet\": [{\"aaxis\": {\"endlinecolor\": \"#2a3f5f\", \"gridcolor\": \"white\", \"linecolor\": \"white\", \"minorgridcolor\": \"white\", \"startlinecolor\": \"#2a3f5f\"}, \"baxis\": {\"endlinecolor\": \"#2a3f5f\", \"gridcolor\": \"white\", \"linecolor\": \"white\", \"minorgridcolor\": \"white\", \"startlinecolor\": \"#2a3f5f\"}, \"type\": \"carpet\"}], \"choropleth\": [{\"colorbar\": {\"outlinewidth\": 0, \"ticks\": \"\"}, \"type\": \"choropleth\"}], \"contour\": [{\"colorbar\": {\"outlinewidth\": 0, \"ticks\": \"\"}, \"colorscale\": [[0.0, \"#0d0887\"], [0.1111111111111111, \"#46039f\"], [0.2222222222222222, \"#7201a8\"], [0.3333333333333333, \"#9c179e\"], [0.4444444444444444, \"#bd3786\"], [0.5555555555555556, \"#d8576b\"], [0.6666666666666666, \"#ed7953\"], [0.7777777777777778, \"#fb9f3a\"], [0.8888888888888888, \"#fdca26\"], [1.0, \"#f0f921\"]], \"type\": \"contour\"}], \"contourcarpet\": [{\"colorbar\": {\"outlinewidth\": 0, \"ticks\": \"\"}, \"type\": \"contourcarpet\"}], \"heatmap\": [{\"colorbar\": {\"outlinewidth\": 0, \"ticks\": \"\"}, \"colorscale\": [[0.0, \"#0d0887\"], [0.1111111111111111, \"#46039f\"], [0.2222222222222222, \"#7201a8\"], [0.3333333333333333, \"#9c179e\"], [0.4444444444444444, \"#bd3786\"], [0.5555555555555556, \"#d8576b\"], [0.6666666666666666, \"#ed7953\"], [0.7777777777777778, \"#fb9f3a\"], [0.8888888888888888, \"#fdca26\"], [1.0, \"#f0f921\"]], \"type\": \"heatmap\"}], \"heatmapgl\": [{\"colorbar\": {\"outlinewidth\": 0, \"ticks\": \"\"}, \"colorscale\": [[0.0, \"#0d0887\"], [0.1111111111111111, \"#46039f\"], [0.2222222222222222, \"#7201a8\"], [0.3333333333333333, \"#9c179e\"], [0.4444444444444444, \"#bd3786\"], [0.5555555555555556, \"#d8576b\"], [0.6666666666666666, \"#ed7953\"], [0.7777777777777778, \"#fb9f3a\"], [0.8888888888888888, \"#fdca26\"], [1.0, \"#f0f921\"]], \"type\": \"heatmapgl\"}], \"histogram\": [{\"marker\": {\"colorbar\": {\"outlinewidth\": 0, \"ticks\": \"\"}}, \"type\": \"histogram\"}], \"histogram2d\": [{\"colorbar\": {\"outlinewidth\": 0, \"ticks\": \"\"}, \"colorscale\": [[0.0, \"#0d0887\"], [0.1111111111111111, \"#46039f\"], [0.2222222222222222, \"#7201a8\"], [0.3333333333333333, \"#9c179e\"], [0.4444444444444444, \"#bd3786\"], [0.5555555555555556, \"#d8576b\"], [0.6666666666666666, \"#ed7953\"], [0.7777777777777778, \"#fb9f3a\"], [0.8888888888888888, \"#fdca26\"], [1.0, \"#f0f921\"]], \"type\": \"histogram2d\"}], \"histogram2dcontour\": [{\"colorbar\": {\"outlinewidth\": 0, \"ticks\": \"\"}, \"colorscale\": [[0.0, \"#0d0887\"], [0.1111111111111111, \"#46039f\"], [0.2222222222222222, \"#7201a8\"], [0.3333333333333333, \"#9c179e\"], [0.4444444444444444, \"#bd3786\"], [0.5555555555555556, \"#d8576b\"], [0.6666666666666666, \"#ed7953\"], [0.7777777777777778, \"#fb9f3a\"], [0.8888888888888888, \"#fdca26\"], [1.0, \"#f0f921\"]], \"type\": \"histogram2dcontour\"}], \"mesh3d\": [{\"colorbar\": {\"outlinewidth\": 0, \"ticks\": \"\"}, \"type\": \"mesh3d\"}], \"parcoords\": [{\"line\": {\"colorbar\": {\"outlinewidth\": 0, \"ticks\": \"\"}}, \"type\": \"parcoords\"}], \"pie\": [{\"automargin\": true, \"type\": \"pie\"}], \"scatter\": [{\"marker\": {\"colorbar\": {\"outlinewidth\": 0, \"ticks\": \"\"}}, \"type\": \"scatter\"}], \"scatter3d\": [{\"line\": {\"colorbar\": {\"outlinewidth\": 0, \"ticks\": \"\"}}, \"marker\": {\"colorbar\": {\"outlinewidth\": 0, \"ticks\": \"\"}}, \"type\": \"scatter3d\"}], \"scattercarpet\": [{\"marker\": {\"colorbar\": {\"outlinewidth\": 0, \"ticks\": \"\"}}, \"type\": \"scattercarpet\"}], \"scattergeo\": [{\"marker\": {\"colorbar\": {\"outlinewidth\": 0, \"ticks\": \"\"}}, \"type\": \"scattergeo\"}], \"scattergl\": [{\"marker\": {\"colorbar\": {\"outlinewidth\": 0, \"ticks\": \"\"}}, \"type\": \"scattergl\"}], \"scattermapbox\": [{\"marker\": {\"colorbar\": {\"outlinewidth\": 0, \"ticks\": \"\"}}, \"type\": \"scattermapbox\"}], \"scatterpolar\": [{\"marker\": {\"colorbar\": {\"outlinewidth\": 0, \"ticks\": \"\"}}, \"type\": \"scatterpolar\"}], \"scatterpolargl\": [{\"marker\": {\"colorbar\": {\"outlinewidth\": 0, \"ticks\": \"\"}}, \"type\": \"scatterpolargl\"}], \"scatterternary\": [{\"marker\": {\"colorbar\": {\"outlinewidth\": 0, \"ticks\": \"\"}}, \"type\": \"scatterternary\"}], \"surface\": [{\"colorbar\": {\"outlinewidth\": 0, \"ticks\": \"\"}, \"colorscale\": [[0.0, \"#0d0887\"], [0.1111111111111111, \"#46039f\"], [0.2222222222222222, \"#7201a8\"], [0.3333333333333333, \"#9c179e\"], [0.4444444444444444, \"#bd3786\"], [0.5555555555555556, \"#d8576b\"], [0.6666666666666666, \"#ed7953\"], [0.7777777777777778, \"#fb9f3a\"], [0.8888888888888888, \"#fdca26\"], [1.0, \"#f0f921\"]], \"type\": \"surface\"}], \"table\": [{\"cells\": {\"fill\": {\"color\": \"#EBF0F8\"}, \"line\": {\"color\": \"white\"}}, \"header\": {\"fill\": {\"color\": \"#C8D4E3\"}, \"line\": {\"color\": \"white\"}}, \"type\": \"table\"}]}, \"layout\": {\"annotationdefaults\": {\"arrowcolor\": \"#2a3f5f\", \"arrowhead\": 0, \"arrowwidth\": 1}, \"autotypenumbers\": \"strict\", \"coloraxis\": {\"colorbar\": {\"outlinewidth\": 0, \"ticks\": \"\"}}, \"colorscale\": {\"diverging\": [[0, \"#8e0152\"], [0.1, \"#c51b7d\"], [0.2, \"#de77ae\"], [0.3, \"#f1b6da\"], [0.4, \"#fde0ef\"], [0.5, \"#f7f7f7\"], [0.6, \"#e6f5d0\"], [0.7, \"#b8e186\"], [0.8, \"#7fbc41\"], [0.9, \"#4d9221\"], [1, \"#276419\"]], \"sequential\": [[0.0, \"#0d0887\"], [0.1111111111111111, \"#46039f\"], [0.2222222222222222, \"#7201a8\"], [0.3333333333333333, \"#9c179e\"], [0.4444444444444444, \"#bd3786\"], [0.5555555555555556, \"#d8576b\"], [0.6666666666666666, \"#ed7953\"], [0.7777777777777778, \"#fb9f3a\"], [0.8888888888888888, \"#fdca26\"], [1.0, \"#f0f921\"]], \"sequentialminus\": [[0.0, \"#0d0887\"], [0.1111111111111111, \"#46039f\"], [0.2222222222222222, \"#7201a8\"], [0.3333333333333333, \"#9c179e\"], [0.4444444444444444, \"#bd3786\"], [0.5555555555555556, \"#d8576b\"], [0.6666666666666666, \"#ed7953\"], [0.7777777777777778, \"#fb9f3a\"], [0.8888888888888888, \"#fdca26\"], [1.0, \"#f0f921\"]]}, \"colorway\": [\"#636efa\", \"#EF553B\", \"#00cc96\", \"#ab63fa\", \"#FFA15A\", \"#19d3f3\", \"#FF6692\", \"#B6E880\", \"#FF97FF\", \"#FECB52\"], \"font\": {\"color\": \"#2a3f5f\"}, \"geo\": {\"bgcolor\": \"white\", \"lakecolor\": \"white\", \"landcolor\": \"#E5ECF6\", \"showlakes\": true, \"showland\": true, \"subunitcolor\": \"white\"}, \"hoverlabel\": {\"align\": \"left\"}, \"hovermode\": \"closest\", \"mapbox\": {\"style\": \"light\"}, \"paper_bgcolor\": \"white\", \"plot_bgcolor\": \"#E5ECF6\", \"polar\": {\"angularaxis\": {\"gridcolor\": \"white\", \"linecolor\": \"white\", \"ticks\": \"\"}, \"bgcolor\": \"#E5ECF6\", \"radialaxis\": {\"gridcolor\": \"white\", \"linecolor\": \"white\", \"ticks\": \"\"}}, \"scene\": {\"xaxis\": {\"backgroundcolor\": \"#E5ECF6\", \"gridcolor\": \"white\", \"gridwidth\": 2, \"linecolor\": \"white\", \"showbackground\": true, \"ticks\": \"\", \"zerolinecolor\": \"white\"}, \"yaxis\": {\"backgroundcolor\": \"#E5ECF6\", \"gridcolor\": \"white\", \"gridwidth\": 2, \"linecolor\": \"white\", \"showbackground\": true, \"ticks\": \"\", \"zerolinecolor\": \"white\"}, \"zaxis\": {\"backgroundcolor\": \"#E5ECF6\", \"gridcolor\": \"white\", \"gridwidth\": 2, \"linecolor\": \"white\", \"showbackground\": true, \"ticks\": \"\", \"zerolinecolor\": \"white\"}}, \"shapedefaults\": {\"line\": {\"color\": \"#2a3f5f\"}}, \"ternary\": {\"aaxis\": {\"gridcolor\": \"white\", \"linecolor\": \"white\", \"ticks\": \"\"}, \"baxis\": {\"gridcolor\": \"white\", \"linecolor\": \"white\", \"ticks\": \"\"}, \"bgcolor\": \"#E5ECF6\", \"caxis\": {\"gridcolor\": \"white\", \"linecolor\": \"white\", \"ticks\": \"\"}}, \"title\": {\"x\": 0.05}, \"xaxis\": {\"automargin\": true, \"gridcolor\": \"white\", \"linecolor\": \"white\", \"ticks\": \"\", \"title\": {\"standoff\": 15}, \"zerolinecolor\": \"white\", \"zerolinewidth\": 2}, \"yaxis\": {\"automargin\": true, \"gridcolor\": \"white\", \"linecolor\": \"white\", \"ticks\": \"\", \"title\": {\"standoff\": 15}, \"zerolinecolor\": \"white\", \"zerolinewidth\": 2}}}},                        {\"responsive\": true}                    ).then(function(){\n",
       "                            \n",
       "var gd = document.getElementById('304dd4e7-a440-411f-87b4-8c3fada53879');\n",
       "var x = new MutationObserver(function (mutations, observer) {{\n",
       "        var display = window.getComputedStyle(gd).display;\n",
       "        if (!display || display === 'none') {{\n",
       "            console.log([gd, 'removed!']);\n",
       "            Plotly.purge(gd);\n",
       "            observer.disconnect();\n",
       "        }}\n",
       "}});\n",
       "\n",
       "// Listen for the removal of the full notebook cells\n",
       "var notebookContainer = gd.closest('#notebook-container');\n",
       "if (notebookContainer) {{\n",
       "    x.observe(notebookContainer, {childList: true});\n",
       "}}\n",
       "\n",
       "// Listen for the clearing of the current output cell\n",
       "var outputEl = gd.closest('.output');\n",
       "if (outputEl) {{\n",
       "    x.observe(outputEl, {childList: true});\n",
       "}}\n",
       "\n",
       "                        })                };                });            </script>        </div>"
      ]
     },
     "metadata": {},
     "output_type": "display_data"
    }
   ],
   "source": [
    "lbl_coord=convert_coordinates(y_trueSample[:,0], y_trueSample[:,1], y_trueSample[:,2])\n",
    "pred_coord=convert_coordinates(y_predSample[:,0], y_predSample[:,1], y_predSample[:,2])\n",
    "granularPopNames=namesSample\n",
    "plot_coordinates_map(granularPopNames, pred_coord, lbl_coord)"
   ]
  },
  {
   "cell_type": "code",
   "execution_count": 119,
   "metadata": {
    "collapsed": true
   },
   "outputs": [],
   "source": [
    "@timer\n",
    "def plot_all(ax, y_preds, superpops, **kwargs):\n",
    "    cpShow=kwargs.get('cpShow')\n",
    "    pred_cps=kwargs.get('pred_cps')    \n",
    "    continentaPops=list(superop_dict.values())\n",
    "    colors_pop = sns.color_palette(\"bright\", 10)\n",
    "    del colors_pop[1]\n",
    "    del colors_pop[4]\n",
    "    del colors_pop[5]\n",
    "    colors_pop_dict = {k:v for k,v in zip(continentaPops, colors_pop)}\n",
    "    \n",
    "    alpha=[0.03]*len(y_preds)\n",
    "    if cpShow is None:\n",
    "        alpha=(pred_cps==0).astype(float)\n",
    "    \n",
    "    ax.scatter(y_preds[:,0], y_preds[:,1], y_preds[:,2], \\\n",
    "               color = [colors_pop_dict[x]+(y,) for x,y in zip(superpops, alpha)], marker=\".\", s=0.05,zorder=-1) \n",
    "    \n",
    "    patches=[]\n",
    "    for k, val in superop_dict.items():\n",
    "        patches.append(mpatches.Patch(color = colors_pop_dict[val], label = k))\n",
    "    lgnd = ax.legend(handles=patches, loc=\"upper right\", fontsize=15)\n",
    "    return lgnd, colors_pop_dict\n"
   ]
  },
  {
   "cell_type": "code",
   "execution_count": null,
   "metadata": {
    "collapsed": true
   },
   "outputs": [],
   "source": [
    "y_preds=results.t_out.coord_main\n",
    "y_predCps=getCpPred(cpMethod.gradient.name, y_predSample, 0.1, y_preds.shape[0], y_preds.shape[1])\n",
    "y_predCps=y_predCps.detach().cpu().numpy().reshape(-1,)\n",
    "y_preds=y_preds.reshape(-1,3)\n",
    "superpops=valid_dataset.data['superpop'].detach().cpu().numpy().reshape(-1,)"
   ]
  },
  {
   "cell_type": "code",
   "execution_count": 130,
   "metadata": {
    "scrolled": false
   },
   "outputs": [
    {
     "data": {
      "image/png": "[encoded data removed]",
      "text/plain": [
       "<Figure size 1008x1080 with 2 Axes>"
      ]
     },
     "metadata": {},
     "output_type": "display_data"
    },
    {
     "name": "stdout",
     "output_type": "stream",
     "text": [
      "Finished 'plot_all' in 27.6816 secs\n"
     ]
    }
   ],
   "source": [
    "lgnd, _=plot_all(y_preds, superpops, pred_cps=y_predCps)"
   ]
  },
  {
   "cell_type": "code",
   "execution_count": 65,
   "metadata": {},
   "outputs": [
    {
     "data": {
      "text/plain": [
       "{'AFR': 4, 'AMR': 2, 'EAS': 1, 'EUR': 0, 'OCE': 5, 'SAS': 3, 'WAS': 6}"
      ]
     },
     "execution_count": 65,
     "metadata": {},
     "output_type": "execute_result"
    }
   ],
   "source": [
    "superop_dict"
   ]
  },
  {
   "cell_type": "code",
   "execution_count": null,
   "metadata": {
    "collapsed": true
   },
   "outputs": [],
   "source": []
  }
 ],
 "metadata": {
  "kernelspec": {
   "display_name": "Python 3",
   "language": "python",
   "name": "python3"
  },
  "language_info": {
   "codemirror_mode": {
    "name": "ipython",
    "version": 3
   },
   "file_extension": ".py",
   "mimetype": "text/x-python",
   "name": "python",
   "nbconvert_exporter": "python",
   "pygments_lexer": "ipython3",
   "version": "3.6.1"
  }
 },
 "nbformat": 4,
 "nbformat_minor": 2
}
