{
 "cells": [
  {
   "cell_type": "code",
   "execution_count": 1,
   "metadata": {
    "collapsed": true
   },
   "outputs": [],
   "source": [
    "import torch\n",
    "import sys\n",
    "import os\n",
    "import os.path as osp\n",
    "import pandas as pd\n",
    "import numpy as np\n",
    "import matplotlib.pyplot as plt"
   ]
  },
  {
   "cell_type": "code",
   "execution_count": 2,
   "metadata": {
    "collapsed": true
   },
   "outputs": [],
   "source": [
    "%load_ext autoreload\n",
    "%autoreload 2\n",
    "sys.path.insert(1, '/home/users/richras/Ge2Net_Repo')\n",
    "from helper_funcs import load_path, save_file, vcf2npy, Params, load_model, get_recomb_rate, interpolate_genetic_pos,\\\n",
    "form_windows\n",
    "from models import AuxiliaryTask, LSTM, Attention, BasicBlock, Model_D,\\\n",
    "Model_E, Model_F, Model_G, Model_H, Model_I, Model_L, BOCD\n",
    "from models.distributions import Multivariate_Gaussian\n",
    "from evaluation import eval_cp_batch"
   ]
  },
  {
   "cell_type": "code",
   "execution_count": 3,
   "metadata": {
    "collapsed": true
   },
   "outputs": [],
   "source": [
    "seed = 1233\n",
    "np.random.seed(seed)"
   ]
  },
  {
   "cell_type": "code",
   "execution_count": 4,
   "metadata": {
    "collapsed": true
   },
   "outputs": [],
   "source": [
    "config={}\n",
    "config['data.data_dir'] = '/scratch/groups/cdbustam/richras'\n",
    "config['data.params_dir'] =  '/home/users/richras/Ge2Net_Repo/experiments/coordinates/exp_D7_dogs_chr22/' \n",
    "config['train.experiment_name'] = 'unsupervised_labeling' \n",
    "config['train.experiment_id'] = 6\n",
    "config['data.labels_dir'] = '/scratch/groups/cdbustam/richras/data_out/dogs/sm_expt1/unsupervised_labels/Umap'\n",
    "config['model.working_dir'] = '/scratch/groups/cdbustam/richras/data_out/dogs/models_dir'\n",
    "# config['data.vcf_dir'] = '/scratch/groups/cdbustam/richras/master_vcf_files/ref_final_beagle_phased_1kg_hgdp_sgdp_chr22.vcf.gz'\n",
    "# config['data.genetic_map'] = '/scratch/groups/cdbustam/richras/reference_files/allchrs.b38.gmap'\n",
    "config['model.pretrained_version'] = 'Model_D_7.1.1'\n",
    "config['cuda'] = 'cuda:0'\n",
    "\n",
    "json_path = os.path.join(config['data.params_dir'], 'params.json')\n",
    "assert os.path.isfile(json_path), \"No json configuration file found at {}\".format(json_path)\n",
    "params = Params(json_path)\n",
    "params.cuda = torch.cuda.is_available()\n",
    "params.device = torch.device(config['cuda'] if params.cuda else 'cpu')"
   ]
  },
  {
   "cell_type": "code",
   "execution_count": 7,
   "metadata": {},
   "outputs": [
    {
     "name": "stdout",
     "output_type": "stream",
     "text": [
      "best val accuracy : accr(l1_loss=0.5356340396367602, mse_loss=1.0645197550292207, smoothl1_loss=tensor(0.3748, device='cuda:0'), weighted_loss=tensor(0.5356, device='cuda:0'), cp_accr=cp_accr(cp_loss=0.4086052546687627, Precision=0.998828125, Recall=0.20344265109890108, Balanced_Accuracy=0.6017194413891563), sp_accr=None)\n",
      "at epoch : 144\n",
      "train accuracy: accr(l1_loss=0.28766463528220954, mse_loss=0.23085409556151357, smoothl1_loss=tensor(0.1090, device='cuda:0'), weighted_loss=tensor(0.2877, device='cuda:0'), cp_accr=cp_accr(cp_loss=0.39814230768458025, Precision=0.9985795454545454, Recall=0.2643386994949495, Balanced_Accuracy=0.6321670872455354), sp_accr=None)\n"
     ]
    }
   ],
   "source": [
    "model_aux = AuxiliaryTask.AuxNetwork(params).to(params.device)\n",
    "model_main = LSTM.BiRNN(params).to(params.device)\n",
    "model_cp = BasicBlock.logits_Block(params).to(params.device)\n",
    "model_sp = BasicBlock.Multi_Block(params).to(params.device)\n",
    "model_residual = BasicBlock.Residual_Block(params).to(params.device)\n",
    "model_path = osp.join(config['model.working_dir'], config['model.pretrained_version'], 'best.pt')\n",
    "model_ls = [model_aux, model_main, model_cp, model_sp, model_residual]\n",
    "\n",
    "model_ret = load_model(model_path, model_ls)\n",
    "model = Model_D.model_D(*model_ret, params=params)"
   ]
  },
  {
   "cell_type": "code",
   "execution_count": null,
   "metadata": {
    "collapsed": true
   },
   "outputs": [],
   "source": []
  }
 ],
 "metadata": {
  "kernelspec": {
   "display_name": "Python 3",
   "language": "python",
   "name": "python3"
  },
  "language_info": {
   "codemirror_mode": {
    "name": "ipython",
    "version": 3
   },
   "file_extension": ".py",
   "mimetype": "text/x-python",
   "name": "python",
   "nbconvert_exporter": "python",
   "pygments_lexer": "ipython3",
   "version": "3.6.1"
  }
 },
 "nbformat": 4,
 "nbformat_minor": 2
}
