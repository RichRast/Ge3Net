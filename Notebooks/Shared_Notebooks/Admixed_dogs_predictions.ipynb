{
 "cells": [
  {
   "cell_type": "code",
   "execution_count": 1,
   "metadata": {
    "collapsed": true
   },
   "outputs": [],
   "source": [
    "import torch\n",
    "import sys\n",
    "import os\n",
    "import os.path as osp\n",
    "import pandas as pd\n",
    "import numpy as np\n",
    "import itertools\n",
    "import matplotlib.pyplot as plt\n",
    "import seaborn as sns\n",
    "from mpl_toolkits.mplot3d import Axes3D\n",
    "from matplotlib import ticker\n",
    "import matplotlib as mpl\n",
    "from matplotlib.colors import LogNorm\n",
    "import matplotlib.patches as mpatches\n",
    "from sklearn.metrics import precision_recall_curve, recall_score, precision_score, \\\n",
    "balanced_accuracy_score, accuracy_score\n",
    "from sklearn import metrics\n",
    "import math\n",
    "import allel"
   ]
  },
  {
   "cell_type": "code",
   "execution_count": 2,
   "metadata": {
    "collapsed": true
   },
   "outputs": [],
   "source": [
    "os.environ['USER_PATH']='/home/users/richras/Ge2Net_Repo'\n",
    "os.environ['USER_SCRATCH_PATH']=\"/scratch/users/richras\"\n",
    "os.environ['IN_PATH']='/scratch/groups/cdbustam/richras/data_in'\n",
    "os.environ['OUT_PATH']='/scratch/groups/cdbustam/richras/data_out'\n",
    "os.environ['LOG_PATH']='/scratch/groups/cdbustam/richras/logs/'"
   ]
  },
  {
   "cell_type": "code",
   "execution_count": 3,
   "metadata": {
    "collapsed": true
   },
   "outputs": [],
   "source": [
    "os.chdir(os.environ.get('USER_PATH'))"
   ]
  },
  {
   "cell_type": "code",
   "execution_count": 71,
   "metadata": {},
   "outputs": [
    {
     "name": "stdout",
     "output_type": "stream",
     "text": [
      "The autoreload extension is already loaded. To reload it, use:\n",
      "  %reload_ext autoreload\n"
     ]
    }
   ],
   "source": [
    "%load_ext autoreload\n",
    "%autoreload 2\n",
    "from src.utils.dataUtil import load_path, save_file, vcf2npy, get_recomb_rate, interpolate_genetic_pos, form_windows\n",
    "from src.utils.modelUtil import Params, load_model\n",
    "from src.utils.labelUtil import nearestNeighbourMapping, repeat_pop_arr\n",
    "from src.utils.decorators import timer\n",
    "from src.main.dataset import Haplotype\n",
    "from src.models import AuxiliaryTask, LSTM, Attention, BasicBlock, Model_A, Model_B, Model_C, BOCD\n",
    "from src.models.distributions import Multivariate_Gaussian\n",
    "from src.main.evaluation import eval_cp_batch, reportChangePointMetrics, t_prMetrics, cpMethod, eval_cp_matrix, \\\n",
    "getCpPred\n",
    "import inference"
   ]
  },
  {
   "cell_type": "markdown",
   "metadata": {},
   "source": [
    "# load the model and use valid data "
   ]
  },
  {
   "cell_type": "code",
   "execution_count": 5,
   "metadata": {
    "collapsed": true
   },
   "outputs": [],
   "source": [
    "# Specify the dataset to be evaluated\n",
    "# chm22 pca full dataset and model\n",
    "\n",
    "labels_path = osp.join(os.environ['OUT_PATH'],'dogs/labels/data_id_1_umap')\n",
    "data_path = osp.join(os.environ['OUT_PATH'],'dogs/labels/data_id_1_umap')\n",
    "models_path=osp.join(os.environ['OUT_PATH'],'dogs/training/Model_B_exp_id_1_data_id_1_umap/') \n",
    "dataset_type='valid'"
   ]
  },
  {
   "cell_type": "code",
   "execution_count": 6,
   "metadata": {},
   "outputs": [
    {
     "name": "stdout",
     "output_type": "stream",
     "text": [
      " device used: cuda\n",
      "Loading the datasets...\n",
      "Finished 'mapping_func' in 0.2930 secs\n",
      "Finished 'pop_mapping' in 0.1138 secs\n",
      "Finished 'pop_mapping' in 0.1089 secs\n",
      "Finished 'transform_data' in 31.5462 secs\n",
      "Finished '__init__' in 78.2232 secs\n",
      "Parameter count for model AuxNetwork:37553303\n",
      "Parameter count for model BiRNN:60355\n",
      "Parameter count for model logits_Block:2289\n",
      "Total parameters:37615947\n",
      "best val loss metrics : {'loss_main': 0.5517209414387235, 'loss_aux': 1.4160133832796997, 'gcd': None, 'mse': 0.5826061695494771, 'smooth_l1': 0.26564804991284524, 'weighted_loss': 0.5517209414387235}\n",
      "at epoch : 66\n",
      "train loss metrics: {'loss_main': 0.20956871436848928, 'loss_aux': 1.3196917931910426, 'gcd': None, 'mse': 0.08542019169977416, 'smooth_l1': 0.04027420185643524, 'weighted_loss': 0.2095687129282177}\n",
      "best val cp metrics : {'loss_cp': 0.6172345509855189, 'prMetrics': OrderedDict([('Precision', array(0.9375)), ('Recall', array(0.00163541)), ('Accuracy', array(0.99017645)), ('A_major', array(0.99999892)), ('BalancedAccuracy', 0.5008171643958929)])}\n",
      "train cp metrics: {'loss_cp': 0.6205542367508162, 'prMetrics': OrderedDict([('Precision', array(0.02518472)), ('Recall', array(0.85100789)), ('Accuracy', array(0.69946965)), ('A_major', array(0.69808068)), ('BalancedAccuracy', 0.7745442824262517)])}\n",
      "best val sp metrics : None\n",
      "train sp metrics: None\n",
      "best val balanced gcd metrics : None\n",
      "train balanced gcd metrics: None\n",
      "Finished 'load_model' in 2.8439 secs\n",
      "is the model on cuda? : True\n",
      "Finished 'batchLoopValid' in 1.3697 secs\n",
      "Finished 'main' in 82.7485 secs\n"
     ]
    }
   ],
   "source": [
    "config={}\n",
    "config['data.labels']=labels_path \n",
    "config['data.dir']=data_path \n",
    "config['models.dir']=models_path\n",
    "config['data.dataset_type']=dataset_type\n",
    "config['cuda']='cuda'\n",
    "config['model.loadBest']=False\n",
    "json_path = osp.join(config['models.dir'], 'params.json')\n",
    "assert osp.isfile(json_path), \"No json configuration file found at {}\".format(json_path)\n",
    "params = Params(json_path)\n",
    "params.rtnOuts=True\n",
    "params.mc_dropout=False\n",
    "params.mc_samples=100\n",
    "params.cp_tol=1\n",
    "params.balancedLoss=False\n",
    "_, _, model, _=inference.main(config, params)"
   ]
  },
  {
   "cell_type": "code",
   "execution_count": 72,
   "metadata": {},
   "outputs": [
    {
     "name": "stdout",
     "output_type": "stream",
     "text": [
      "Finished 'mapping_func' in 0.3134 secs\n",
      "Finished 'pop_mapping' in 0.1197 secs\n",
      "Finished 'pop_mapping' in 0.1190 secs\n",
      "Finished 'transform_data' in 34.4394 secs\n",
      "Finished '__init__' in 82.4516 secs\n"
     ]
    }
   ],
   "source": [
    "train_dataset = Haplotype(\"train\", params, data_path, labels_path=labels_path)"
   ]
  },
  {
   "cell_type": "code",
   "execution_count": 7,
   "metadata": {
    "collapsed": true
   },
   "outputs": [],
   "source": [
    "#load dataset of admixed population\n",
    "ref_map_e=pd.read_csv(osp.join(os.environ['OUT_PATH'],'dogs/ref_map_e.tsv'), sep='\\t')\n",
    "ref_map_expt1 = pd.read_csv(osp.join(os.environ['OUT_PATH'],'dogs/ref_map_expt1.tsv'), sep='\\t')"
   ]
  },
  {
   "cell_type": "code",
   "execution_count": 8,
   "metadata": {
    "collapsed": true
   },
   "outputs": [],
   "source": [
    "ref_map_expt1=ref_map_expt1[ref_map_e.columns]"
   ]
  },
  {
   "cell_type": "code",
   "execution_count": 9,
   "metadata": {},
   "outputs": [
    {
     "data": {
      "text/plain": [
       "(                 Sample         Population Superpopulation code\n",
       " 0         AfghanHound01       Afghan Hound         Afghan Hound\n",
       " 1         AfghanHound03       Afghan Hound         Afghan Hound\n",
       " 2         AfghanHound04       Afghan Hound         Afghan Hound\n",
       " 3     AiredaleTerrier01   Airedale Terrier     Airedale Terrier\n",
       " 4     AiredaleTerrier02   Airedale Terrier     Airedale Terrier\n",
       " ..                  ...                ...                  ...\n",
       " 517            PER00758  Yorkshire Terrier    Yorkshire Terrier\n",
       " 518            PER00777  Yorkshire Terrier    Yorkshire Terrier\n",
       " 519            PER00816  Yorkshire Terrier    Yorkshire Terrier\n",
       " 520  YorkshireTerrier01  Yorkshire Terrier    Yorkshire Terrier\n",
       " 521  YorkshireTerrier02  Yorkshire Terrier    Yorkshire Terrier\n",
       " \n",
       " [522 rows x 3 columns],\n",
       "                       Sample                   Population Superpopulation code\n",
       " 0                 140447_S11             Golden Retriever            Retriever\n",
       " 1                  149323_S6           Labrador Retriever            Retriever\n",
       " 2                  152721_S5           Labrador Retriever            Retriever\n",
       " 3                  160822_S4           Labrador Retriever            Retriever\n",
       " 4                  164612_S9             Golden Retriever            Retriever\n",
       " ..                       ...                          ...                  ...\n",
       " 193  WestHighlandWhiteTerr09  West Highland White Terrier              Terrier\n",
       " 194                Whippet01                      Whippet            Greyhound\n",
       " 195               XiasiDog01                    Xiasi Dog                 East\n",
       " 196       YorkshireTerrier01            Yorkshire Terrier              Terrier\n",
       " 197       YorkshireTerrier02            Yorkshire Terrier              Terrier\n",
       " \n",
       " [198 rows x 3 columns])"
      ]
     },
     "execution_count": 9,
     "metadata": {},
     "output_type": "execute_result"
    }
   ],
   "source": [
    "ref_map_e, ref_map_expt1"
   ]
  },
  {
   "cell_type": "code",
   "execution_count": 590,
   "metadata": {},
   "outputs": [
    {
     "data": {
      "text/html": [
       "<div>\n",
       "<style scoped>\n",
       "    .dataframe tbody tr th:only-of-type {\n",
       "        vertical-align: middle;\n",
       "    }\n",
       "\n",
       "    .dataframe tbody tr th {\n",
       "        vertical-align: top;\n",
       "    }\n",
       "\n",
       "    .dataframe thead th {\n",
       "        text-align: right;\n",
       "    }\n",
       "</style>\n",
       "<table border=\"1\" class=\"dataframe\">\n",
       "  <thead>\n",
       "    <tr style=\"text-align: right;\">\n",
       "      <th></th>\n",
       "      <th>Sample</th>\n",
       "      <th>Population</th>\n",
       "      <th>Superpopulation code</th>\n",
       "    </tr>\n",
       "  </thead>\n",
       "  <tbody>\n",
       "    <tr>\n",
       "      <th>91</th>\n",
       "      <td>NGSD1</td>\n",
       "      <td>New Guinea Singing Dog</td>\n",
       "      <td>East</td>\n",
       "    </tr>\n",
       "    <tr>\n",
       "      <th>92</th>\n",
       "      <td>NGSD2</td>\n",
       "      <td>New Guinea Singing Dog</td>\n",
       "      <td>East</td>\n",
       "    </tr>\n",
       "    <tr>\n",
       "      <th>93</th>\n",
       "      <td>NGSD3</td>\n",
       "      <td>New Guinea Singing Dog</td>\n",
       "      <td>East</td>\n",
       "    </tr>\n",
       "    <tr>\n",
       "      <th>100</th>\n",
       "      <td>NewGuineaSingingDog01</td>\n",
       "      <td>New Guinea Singing Dog</td>\n",
       "      <td>East</td>\n",
       "    </tr>\n",
       "  </tbody>\n",
       "</table>\n",
       "</div>"
      ],
      "text/plain": [
       "                    Sample              Population Superpopulation code\n",
       "91                   NGSD1  New Guinea Singing Dog                 East\n",
       "92                   NGSD2  New Guinea Singing Dog                 East\n",
       "93                   NGSD3  New Guinea Singing Dog                 East\n",
       "100  NewGuineaSingingDog01  New Guinea Singing Dog                 East"
      ]
     },
     "execution_count": 590,
     "metadata": {},
     "output_type": "execute_result"
    }
   ],
   "source": [
    "ref_map_expt1[ref_map_expt1.Population=='New Guinea Singing Dog']"
   ]
  },
  {
   "cell_type": "code",
   "execution_count": 18,
   "metadata": {},
   "outputs": [
    {
     "data": {
      "text/plain": [
       "<bound method Series.unique of 0                 Golden Retriever\n",
       "1               Labrador Retriever\n",
       "2               Labrador Retriever\n",
       "3               Labrador Retriever\n",
       "4                 Golden Retriever\n",
       "                  ...             \n",
       "193    West Highland White Terrier\n",
       "194                        Whippet\n",
       "195                      Xiasi Dog\n",
       "196              Yorkshire Terrier\n",
       "197              Yorkshire Terrier\n",
       "Name: Population, Length: 198, dtype: object>"
      ]
     },
     "execution_count": 18,
     "metadata": {},
     "output_type": "execute_result"
    }
   ],
   "source": [
    "ref_map_expt1['Population'].unique"
   ]
  },
  {
   "cell_type": "code",
   "execution_count": 11,
   "metadata": {
    "collapsed": true
   },
   "outputs": [],
   "source": [
    "only_admixed = ref_map_e[~ref_map_e['Sample'].isin(ref_map_expt1['Sample'])].dropna()"
   ]
  },
  {
   "cell_type": "code",
   "execution_count": 12,
   "metadata": {},
   "outputs": [
    {
     "data": {
      "text/html": [
       "<div>\n",
       "<style scoped>\n",
       "    .dataframe tbody tr th:only-of-type {\n",
       "        vertical-align: middle;\n",
       "    }\n",
       "\n",
       "    .dataframe tbody tr th {\n",
       "        vertical-align: top;\n",
       "    }\n",
       "\n",
       "    .dataframe thead th {\n",
       "        text-align: right;\n",
       "    }\n",
       "</style>\n",
       "<table border=\"1\" class=\"dataframe\">\n",
       "  <thead>\n",
       "    <tr style=\"text-align: right;\">\n",
       "      <th></th>\n",
       "      <th>Sample</th>\n",
       "      <th>Population</th>\n",
       "      <th>Superpopulation code</th>\n",
       "    </tr>\n",
       "  </thead>\n",
       "  <tbody>\n",
       "    <tr>\n",
       "      <th>3</th>\n",
       "      <td>AiredaleTerrier01</td>\n",
       "      <td>Airedale Terrier</td>\n",
       "      <td>Airedale Terrier</td>\n",
       "    </tr>\n",
       "    <tr>\n",
       "      <th>4</th>\n",
       "      <td>AiredaleTerrier02</td>\n",
       "      <td>Airedale Terrier</td>\n",
       "      <td>Airedale Terrier</td>\n",
       "    </tr>\n",
       "    <tr>\n",
       "      <th>5</th>\n",
       "      <td>AiredaleTerrier05</td>\n",
       "      <td>Airedale Terrier</td>\n",
       "      <td>Airedale Terrier</td>\n",
       "    </tr>\n",
       "    <tr>\n",
       "      <th>6</th>\n",
       "      <td>TA001</td>\n",
       "      <td>Airedale Terrier</td>\n",
       "      <td>Airedale Terrier</td>\n",
       "    </tr>\n",
       "    <tr>\n",
       "      <th>12</th>\n",
       "      <td>Bern_AlpineDachsbracke</td>\n",
       "      <td>Alpine Dachsbracke</td>\n",
       "      <td>Alpine Dachsbracke</td>\n",
       "    </tr>\n",
       "    <tr>\n",
       "      <th>...</th>\n",
       "      <td>...</td>\n",
       "      <td>...</td>\n",
       "      <td>...</td>\n",
       "    </tr>\n",
       "    <tr>\n",
       "      <th>439</th>\n",
       "      <td>IndigenousDogVietnam05</td>\n",
       "      <td>Vietnamese Indigenous Dog</td>\n",
       "      <td>Vietnamese Indigenous Dog</td>\n",
       "    </tr>\n",
       "    <tr>\n",
       "      <th>440</th>\n",
       "      <td>Vizsla01</td>\n",
       "      <td>Vizsla</td>\n",
       "      <td>Vizsla</td>\n",
       "    </tr>\n",
       "    <tr>\n",
       "      <th>441</th>\n",
       "      <td>WE006</td>\n",
       "      <td>Weimaraner</td>\n",
       "      <td>Weimaraner</td>\n",
       "    </tr>\n",
       "    <tr>\n",
       "      <th>455</th>\n",
       "      <td>MexicanHairless01</td>\n",
       "      <td>Xoloitzcuintli</td>\n",
       "      <td>Xoloitzcuintli</td>\n",
       "    </tr>\n",
       "    <tr>\n",
       "      <th>456</th>\n",
       "      <td>Xoloitzcuintli01</td>\n",
       "      <td>Xoloitzcuintli</td>\n",
       "      <td>Xoloitzcuintli</td>\n",
       "    </tr>\n",
       "  </tbody>\n",
       "</table>\n",
       "<p>339 rows × 3 columns</p>\n",
       "</div>"
      ],
      "text/plain": [
       "                     Sample                 Population  \\\n",
       "3         AiredaleTerrier01           Airedale Terrier   \n",
       "4         AiredaleTerrier02           Airedale Terrier   \n",
       "5         AiredaleTerrier05           Airedale Terrier   \n",
       "6                     TA001           Airedale Terrier   \n",
       "12   Bern_AlpineDachsbracke         Alpine Dachsbracke   \n",
       "..                      ...                        ...   \n",
       "439  IndigenousDogVietnam05  Vietnamese Indigenous Dog   \n",
       "440                Vizsla01                     Vizsla   \n",
       "441                   WE006                 Weimaraner   \n",
       "455       MexicanHairless01             Xoloitzcuintli   \n",
       "456        Xoloitzcuintli01             Xoloitzcuintli   \n",
       "\n",
       "          Superpopulation code  \n",
       "3             Airedale Terrier  \n",
       "4             Airedale Terrier  \n",
       "5             Airedale Terrier  \n",
       "6             Airedale Terrier  \n",
       "12          Alpine Dachsbracke  \n",
       "..                         ...  \n",
       "439  Vietnamese Indigenous Dog  \n",
       "440                     Vizsla  \n",
       "441                 Weimaraner  \n",
       "455             Xoloitzcuintli  \n",
       "456             Xoloitzcuintli  \n",
       "\n",
       "[339 rows x 3 columns]"
      ]
     },
     "execution_count": 12,
     "metadata": {},
     "output_type": "execute_result"
    }
   ],
   "source": [
    "only_admixed"
   ]
  },
  {
   "cell_type": "code",
   "execution_count": 367,
   "metadata": {},
   "outputs": [
    {
     "data": {
      "text/plain": [
       "array(['Afghan Hound', 'Alaskan Husky', 'Alaskan Malamute', 'Basenji',\n",
       "       'Cairn Terrier', 'Chinese Shar-Pei', 'Chongqing Dog', 'Chow Chow',\n",
       "       'Golden Retriever', 'Greenland Dog', 'Greyhound',\n",
       "       'Italian Greyhound', 'Jindo', 'Labrador Retriever',\n",
       "       'New Guinea Singing Dog', 'Norwich Terrier', 'Saluki',\n",
       "       'Scottish Deerhound', 'Scottish Terrier', 'Shiba Inu',\n",
       "       'Siberian Husky', 'Tibetan Mastiff', 'Tibetan Mastiff - China',\n",
       "       'West Highland White Terrier', 'Whippet', 'Xiasi Dog',\n",
       "       'Yorkshire Terrier'], dtype=object)"
      ]
     },
     "execution_count": 367,
     "metadata": {},
     "output_type": "execute_result"
    }
   ],
   "source": [
    "np.unique(ref_map_expt1['Population'].values)"
   ]
  },
  {
   "cell_type": "code",
   "execution_count": 366,
   "metadata": {
    "scrolled": false
   },
   "outputs": [
    {
     "data": {
      "text/plain": [
       "array(['Airedale Terrier', 'Alpine Dachsbracke',\n",
       "       'American Hairless Terrier', 'Australian Cattle Dog',\n",
       "       'Australian Terrier',\n",
       "       'Bavarian Hound (Bayerischer Gebirgsschweisshund)', 'Beagle',\n",
       "       'Bearded Collie', 'Belgian Malinois', 'Belgian Sheepdog',\n",
       "       'Belgian Tervuren', 'Berger Blanc Suisse', 'Berger Picard',\n",
       "       'Bernese Mountain Dog', 'Black Russian Terrier',\n",
       "       'Black and Tan Coonhound', 'Bloodhound', 'Border Collie',\n",
       "       'Border Terrier', 'Borzoi', 'Boston Terrier',\n",
       "       'Bouvier des Flandres', 'Brittany', 'Bull Terrier', 'Bulldog',\n",
       "       'Bullmastiff', 'Cane Corso', 'Carolina Dog', 'Caucasian Ovcharka',\n",
       "       'Cavalier King Charles Spaniel', 'Chesapeake Bay Retriever',\n",
       "       'Chihuahua', 'Chinese Crested', 'Chinese Indigenous Dog',\n",
       "       'Chinook', 'Clumber Spaniel', 'Cocker Spaniel (American)',\n",
       "       'Curly-Coated Retriever', 'Dachshund', 'Dalmatian', 'Dingo',\n",
       "       'Doberman Pinscher', 'East Siberian Laika', 'Elo',\n",
       "       'English Cocker Spaniel', 'English Setter',\n",
       "       'English Springer Spaniel', 'Entlebucher Sennenhund', 'Eurasier',\n",
       "       'Field Spaniel', 'Finnish Lapphund', 'Flat-Coated Retriever',\n",
       "       \"Fonni's Dog\", 'French Bulldog', 'German Hunting Terrier',\n",
       "       'German Shepherd Dog', 'German Wirehaired Pointer',\n",
       "       'Gordon Setter', 'Great Dane', 'Great Pyrenees',\n",
       "       'Greater Swiss Mountain Dog', 'Grossspitz', 'Heideterrier',\n",
       "       'Hovawart', 'Irish Setter', 'Irish Terrier', 'Irish Water Spaniel',\n",
       "       'Istrian Shorthaired Hound', 'Jack Russell Terrier', 'Jamthund',\n",
       "       'Keeshond', 'Kerry Blue Terrier', 'Komondor', 'Kromfohrländer',\n",
       "       'Lagotto Romagnolo', 'Landseer', 'Lapponian Herder', 'Leonberger',\n",
       "       'Lowchen', 'Mastiff (English)', 'Miniature Bull Terrier ',\n",
       "       'Miniature Poodle', 'Miniature Schnauzer',\n",
       "       'Nigerian Indigenous Dog', 'Norwegian Elkhound',\n",
       "       'Norwegian Lundehund', 'Nova Scotia Duck Tolling Retriever',\n",
       "       'Pekingese', 'Pembroke Welsh Corgi', 'Peruvian Inca Orchid',\n",
       "       'Petit Basset Griffon Vendeen', 'Pointer (English)', 'Pomeranian',\n",
       "       'Poodle unspecified variety', 'Portuguese Podengo',\n",
       "       'Portuguese Water Dog', 'Pug', 'Qingchuan Dog',\n",
       "       'Rhodesian Ridgeback', 'Rottweiler', 'Saint Bernard', 'Samoyed',\n",
       "       'Shetland Sheepdog', 'Shih Tzu', 'Sloughi',\n",
       "       'Soft Coated Wheaten Terrier', 'Spanish Water Dog',\n",
       "       'Spinone Italiano', 'Standard Poodle', 'Standard Schnauzer',\n",
       "       'Tibetan Terrier', 'Toy Poodle', 'Vietnamese Indigenous Dog',\n",
       "       'Vizsla', 'Weimaraner', 'Xoloitzcuintli'], dtype=object)"
      ]
     },
     "execution_count": 366,
     "metadata": {},
     "output_type": "execute_result"
    }
   ],
   "source": [
    "np.unique(only_admixed['Population'].values)"
   ]
  },
  {
   "cell_type": "code",
   "execution_count": 137,
   "metadata": {
    "scrolled": false
   },
   "outputs": [
    {
     "data": {
      "text/plain": [
       "array(['AiredaleTerrier01', 'AiredaleTerrier02', 'AiredaleTerrier05',\n",
       "       'TA001', 'Bern_AlpineDachsbracke', 'AmericanHairlessTerrier01',\n",
       "       'AC023', 'AustralianCattleDog01', 'AustralianCattleDog02',\n",
       "       'AustralianCattleDog03', 'AR001', 'BG064', 'CFA.117995',\n",
       "       'Beagle01', 'Beagle02', 'Beagle03', 'Beagle04', 'BeardedCollie01',\n",
       "       'BeardedCollie02', 'BeardedCollie03', 'BeardedCollie04',\n",
       "       'BeardedCollie05', 'BeardedCollie06', 'BeardedCollie07',\n",
       "       'BelgianMalinois01', 'BelgianMalinois02', 'BelgianMalinois03',\n",
       "       'MA0163', 'MA142', 'BelgianSheepdog01', 'BelgianSheepdog02',\n",
       "       'BelgianSheepdog03', 'BelgianSheepdog04', 'BelgianSheepdog05',\n",
       "       'BelgianSheepdog06', 'BelgianSheepdog07', 'BelgianTervuren01',\n",
       "       'BelgianTervuren02', 'BelgianTervuren03', 'BelgianTervuren05',\n",
       "       'BelgianTervuren06', 'BelgianTervuren07', 'BelgianTervuren08',\n",
       "       'BelgianTervuren09', 'BelgianTervuren10', 'BelgianTervuren11',\n",
       "       'BelgianTervuren04', 'BergerBlancSuisse01', 'CFA.109670',\n",
       "       'BergerPicard01', 'BergerPicard02', 'BergerPicard03',\n",
       "       'BerneseMountainDog01', 'BerneseMountainDog02',\n",
       "       'BerneseMountainDog03', 'BerneseMountainDog04',\n",
       "       'BerneseMountainDog05', 'BerneseMountainDog06',\n",
       "       'BerneseMountainDog07', 'BerneseMountainDog08',\n",
       "       'BerneseMountainDog09', 'BerneseMountainDog10',\n",
       "       'BerneseMountainDog11', 'BerneseMountainDog12',\n",
       "       'BerneseMountainDog13', 'BerneseMountainDog14',\n",
       "       'BerneseMountainDog15', 'BerneseMountainDog16',\n",
       "       'BerneseMountainDog17', 'BerneseMountainDog18', 'Coonhound01',\n",
       "       'BlackRussianTerrier01', 'Bloodhound01', 'BorderCollie06',\n",
       "       'BC0480', 'Helsinki_BC1028', 'Helsinki_BC1029', 'Helsinki_BC222',\n",
       "       'Helsinki_BC387', 'BC485', 'BC518', 'Helsinki_BC578', 'BC597',\n",
       "       'BorderCollie01', 'BorderCollie02', 'BorderCollie03',\n",
       "       'BorderCollie07', 'BorderCollie08', 'CFA.107838',\n",
       "       'BorderTerrier01', 'BorderTerrier02', 'BorderTerrier03',\n",
       "       'Borzoi01', 'BostonTerrier01', 'CFA.107836',\n",
       "       'BouvierDesFlandres01', 'BouvierDesFlandres02',\n",
       "       'BrittanySpaniel01', 'BT1021', 'BullTerrier01', 'BullTerrier02',\n",
       "       'BullTerrier03', 'BullTerrier04', 'BullTerrier05', 'BullTerrier06',\n",
       "       'BullTerrier07', 'BullTerrier08', 'BT007', 'Bulldog01', 'BU002',\n",
       "       'CaneCorso01', 'CarolinaDog01', 'CaucasianOvcharka01', 'CK006',\n",
       "       'CK023', 'CFA.109671', 'Chihuahua01', 'Chihuahua03', 'Chihuahua05',\n",
       "       'ChineseCrested01', 'ChineseCrested05', 'ChineseIndigenousDog01',\n",
       "       'ChineseIndigenousDog02', 'ChineseIndigenousDog03',\n",
       "       'ChineseIndigenousDog04', 'ChineseIndigenousDog05',\n",
       "       'ChineseIndigenousDog06', 'ChineseIndigenousDog07',\n",
       "       'ChineseIndigenousDog08', 'ChineseIndigenousDog09',\n",
       "       'ChineseIndigenousDog10', 'ChineseIndigenousDog11',\n",
       "       'ChineseIndigenousDog12', 'ChineseIndigenousDog13',\n",
       "       'ChineseIndigenousDog14', 'ChineseIndigenousDog15', 'Chinook01',\n",
       "       'ClumberSpaniel01', 'CockerSpanielAmerican01',\n",
       "       'CockerSpanielAmerican02', 'CockerSpanielAmerican03',\n",
       "       'CockerSpanielAmerican04', 'CockerSpanielAmerican05',\n",
       "       'CockerSpanielAmerican06', 'CR039', 'CFA.107835', 'CFA.109668',\n",
       "       'Dachshund01', 'DH0117', 'DH126', 'DAL162K1', 'Dalmatian01',\n",
       "       'Dingo01', 'DO242', 'Doberman01', 'Doberman02', 'Doberman03',\n",
       "       'Doberman04', 'EastSiberianLaika01', 'Elo01', 'CP003',\n",
       "       'CockerSpanielEnglish01', 'CockerSpanielEnglish02',\n",
       "       'CockerSpanielEnglish03', 'CockerSpanielEnglish04',\n",
       "       'CockerSpanielEnglish05', 'CFA.105990', 'CFA.117996',\n",
       "       'EnglishSetter01', 'EnglishSpringerSpaniel01',\n",
       "       'EnglishSpringerSpaniel03', 'EntlebucherSennenhund01',\n",
       "       'EntlebucherSennenhund02', 'EntlebucherSennenhund03',\n",
       "       'EntlebucherSennenhund04', 'EntlebucherSennenhund05',\n",
       "       'EntlebucherSennenhund06', 'EntlebucherSennenhund07',\n",
       "       'EntlebucherSennenhund08', 'Eurasier01', 'Eurasier02',\n",
       "       'CFA.107833', 'FinnishLapphund01', 'FlatcoatedRetriever01',\n",
       "       'FlatcoatedRetriever02', 'FlatcoatedRetriever03', 'FonniDog01',\n",
       "       'FB065', 'FrenchBulldog01', 'JT007', 'DS043', 'DS051', 'DS053',\n",
       "       'GermanShepherd01', 'GermanShepherd02', 'GermanShepherd03',\n",
       "       'GermanShepherd04', 'GermanShepherd05', 'GermanShepherd06',\n",
       "       'GermanShepherd07', 'GermanShepherd08', 'GermanShepherd09',\n",
       "       'GermanShepherd10', 'GermanShepherd11', 'GermanShepherd12',\n",
       "       'GermanWirehairedPointer01', 'CFA.109672', 'GordonSetter01',\n",
       "       'DD116', 'CFA.107837', 'CFA.117997', 'GreatDane01', 'GreatDane02',\n",
       "       'GreatPyrenees01', 'CFA.107841', 'GreaterSwissMountainDog01',\n",
       "       'GS104', 'Heideterrier01', 'HW1706', 'IrishSetter01', 'CFA.117998',\n",
       "       'IrishTerrier01', 'IrishWaterSpaniel01', 'IrishWaterSpaniel02',\n",
       "       'IrishWaterSpaniel03', 'IstrianShorthairedHound01',\n",
       "       'JackRussellTerrier02', 'JackRussellTerrier03',\n",
       "       'JackRussellTerrier04', 'JackRussellTerrier05', 'Jamthund01',\n",
       "       'Keeshond01', 'KerryBlueTerrier02', 'Komondor01',\n",
       "       'Kromfohrlander01', 'LagottoRomagnolo01', 'LagottoRomagnolo02',\n",
       "       'LagottoRomagnolo03', 'LagottoRomagnolo04', 'LR1030', 'Landseer01',\n",
       "       'LapponianHerder01', 'Leonberger01', 'Lowchen01',\n",
       "       'EnglishMastiff01', 'EnglishMastiff02', 'BAN00024',\n",
       "       'MiniaturePoodle01', 'MS04563', 'MS04593', 'MiniatureSchnauzer01',\n",
       "       'IndigenousDogNigeria01', 'IndigenousDogNigeria02',\n",
       "       'IndigenousDogNigeria03', 'IndigenousDogNigeria04',\n",
       "       'NorwegianElkhound01', 'NorwegianElkhound02',\n",
       "       'NorwegianLundehund01', 'NorwegianLundehund02',\n",
       "       'NorwegianLundehund03', 'NovaScotiaDuckTollingRetriever01',\n",
       "       'Pekingese01', 'PembrokeWelshCorgi01', 'PembrokeWelshCorgi02',\n",
       "       'PembrokeWelshCorgi03', 'PeruvianHairless01',\n",
       "       'PetitBassetGriffonVendeen01', 'EnglishPointer01',\n",
       "       'EnglishPointer02', 'Pomeranian01', 'PL116', 'PortuguesePodengo01',\n",
       "       'PortugueseWaterDog01', 'PortugueseWaterDog02',\n",
       "       'PortugueseWaterDog03', 'PortugueseWaterDog04',\n",
       "       'PortugueseWaterDog05', 'PortugueseWaterDog06',\n",
       "       'PortugueseWaterDog07', 'PortugueseWaterDog08',\n",
       "       'PortugueseWaterDog09', 'PortugueseWaterDog10',\n",
       "       'PortugueseWaterDog11', 'Pug03', 'Pug05', 'QingchuanDog01',\n",
       "       'RhodesianRidgeback01', 'RhodesianRidgeback02',\n",
       "       'RhodesianRidgeback03', 'RhodesianRidgeback04', 'RR098',\n",
       "       '165414_S20', '168979_S18', '171515_S19', 'AND10232010_S17',\n",
       "       'LEW02122013_S15', 'Rottweiler01', 'Rottweiler02', 'Rottweiler03',\n",
       "       'Rottweiler04', 'WS42321902_S16', 'SaintBernard01',\n",
       "       'SaintBernard02', 'Samoyed01', 'Samoyed02', 'SS004',\n",
       "       'ShetlandSheepdog01', 'ShetlandSheepdog02', 'PER00751',\n",
       "       'Sloughi02', 'Sloughi01', 'Sloughi03', 'Sloughi04',\n",
       "       'SoftCoatedWheatenTerrier01', 'SoftCoatedWheatenTerrier02',\n",
       "       'SoftCoatedWheatenTerrier03', 'SoftCoatedWheatenTerrier04',\n",
       "       'SpanishWaterDog01', 'CFA.109669', 'CFA.107842',\n",
       "       'StandardPoodle01', 'StandardPoodle02', 'StandardPoodle03',\n",
       "       'CFA.107834', 'CFA.118001', 'CFA.118002', 'StandardSchnauzer01',\n",
       "       'TibetanTerrier01', 'TibetanTerrier02', 'ToyPoodle01',\n",
       "       'IndigenousDogVietnam01', 'IndigenousDogVietnam02',\n",
       "       'IndigenousDogVietnam03', 'IndigenousDogVietnam04',\n",
       "       'IndigenousDogVietnam05', 'Vizsla01', 'WE006', 'MexicanHairless01',\n",
       "       'Xoloitzcuintli01'], dtype=object)"
      ]
     },
     "execution_count": 137,
     "metadata": {},
     "output_type": "execute_result"
    }
   ],
   "source": [
    "only_admixed['Sample'].values"
   ]
  },
  {
   "cell_type": "code",
   "execution_count": 14,
   "metadata": {
    "collapsed": true
   },
   "outputs": [],
   "source": [
    "#now from the vcf of expt_e, get chr22_filtered for an admixed sample\n",
    "vcf=allel.read_vcf(osp.join(os.environ['OUT_PATH'],'dogs/sm_expt1/chr22/chr22_filtered.vcf'))"
   ]
  },
  {
   "cell_type": "code",
   "execution_count": 15,
   "metadata": {
    "scrolled": false
   },
   "outputs": [
    {
     "data": {
      "text/plain": [
       "{'calldata/GT': array([[[0, 1],\n",
       "         [0, 1],\n",
       "         [0, 1],\n",
       "         ...,\n",
       "         [0, 1],\n",
       "         [0, 1],\n",
       "         [0, 0]],\n",
       " \n",
       "        [[0, 0],\n",
       "         [0, 0],\n",
       "         [0, 0],\n",
       "         ...,\n",
       "         [0, 0],\n",
       "         [0, 0],\n",
       "         [0, 0]],\n",
       " \n",
       "        [[0, 0],\n",
       "         [0, 0],\n",
       "         [0, 0],\n",
       "         ...,\n",
       "         [0, 0],\n",
       "         [0, 0],\n",
       "         [0, 0]],\n",
       " \n",
       "        ...,\n",
       " \n",
       "        [[0, 1],\n",
       "         [0, 0],\n",
       "         [0, 1],\n",
       "         ...,\n",
       "         [0, 0],\n",
       "         [0, 0],\n",
       "         [0, 0]],\n",
       " \n",
       "        [[0, 1],\n",
       "         [0, 0],\n",
       "         [0, 1],\n",
       "         ...,\n",
       "         [0, 0],\n",
       "         [0, 0],\n",
       "         [0, 0]],\n",
       " \n",
       "        [[1, 1],\n",
       "         [1, 1],\n",
       "         [1, 1],\n",
       "         ...,\n",
       "         [1, 1],\n",
       "         [1, 1],\n",
       "         [1, 1]]], dtype=int8),\n",
       " 'samples': array(['140447_S11', '149323_S6', '152721_S5', '160822_S4', '164612_S9',\n",
       "        '172281_S2', '172384_S14', '172724_S8', '173006_S10', '173486_S3',\n",
       "        '175885_S12', '87125_S1', '91072_S13', '91317_S7', 'AM007',\n",
       "        'AfghanHound01', 'AfghanHound03', 'AfghanHound04',\n",
       "        'AlaskanHusky01', 'AlaskanHusky02', 'AlaskanMalamute01',\n",
       "        'AlaskanMalamute02', 'BAN00032', 'BAN00041', 'BAN00079',\n",
       "        'BAN00127', 'BAN00133', 'BAN00136', 'BAN00150', 'BAN00183',\n",
       "        'BAN00235', 'BAN00283', 'BAN00289', 'BAN00315', 'BAN00368',\n",
       "        'BAN00380', 'BAN00437', 'BAN00449', 'BAN00461', 'Basenji01',\n",
       "        'Basenji02', 'Basenji03', 'CE073', 'CFA.107839', 'CFA.117999',\n",
       "        'CFA.118003', 'CW011', 'ChongqingDog01', 'ChowChow01',\n",
       "        'ChowChow02', 'ChowChow03', 'GR0892', 'GY432', 'GoldenRetriever01',\n",
       "        'GoldenRetriever02', 'GoldenRetriever03', 'GoldenRetriever04',\n",
       "        'GoldenRetriever05', 'GoldenRetriever06', 'GoldenRetriever07',\n",
       "        'GoldenRetriever08', 'GoldenRetriever09', 'GoldenRetriever10',\n",
       "        'GoldenRetriever11', 'GoldenRetriever12', 'GoldenRetriever13',\n",
       "        'GreenlandDog01', 'Greyhound01', 'Greyhound02', 'Greyhound03',\n",
       "        'Greyhound04', 'Greyhound05', 'Greyhound06', 'Greyhound07',\n",
       "        'Greyhound08', 'ItalianGreyhound01', 'ItalianGreyhound02',\n",
       "        'Jindo01', 'LA2443', 'LR04989', 'LabradorRetriever01',\n",
       "        'LabradorRetriever02', 'LabradorRetriever03',\n",
       "        'LabradorRetriever04', 'LabradorRetriever05',\n",
       "        'LabradorRetriever06', 'LabradorRetriever07',\n",
       "        'LabradorRetriever08', 'LabradorRetriever10',\n",
       "        'LabradorRetriever12', 'LabradorRetriever13', 'NGSD1', 'NGSD2',\n",
       "        'NGSD3', 'NGSDOG024', 'NGSDOG025', 'NW062', 'NW152', 'NW206',\n",
       "        'NW255', 'NewGuineaSingingDog01', 'PER00016', 'PER00018',\n",
       "        'PER00025', 'PER00061', 'PER00064', 'PER00075', 'PER00107',\n",
       "        'PER00138', 'PER00142', 'PER00144', 'PER00152', 'PER00167',\n",
       "        'PER00177', 'PER00204', 'PER00226', 'PER00259', 'PER00274',\n",
       "        'PER00313', 'PER00314', 'PER00321', 'PER00324', 'PER00327',\n",
       "        'PER00344', 'PER00361', 'PER00393', 'PER00394', 'PER00408',\n",
       "        'PER00409', 'PER00425', 'PER00429', 'PER00438', 'PER00449',\n",
       "        'PER00454', 'PER00462', 'PER00465', 'PER00481', 'PER00484',\n",
       "        'PER00550', 'PER00594', 'PER00602', 'PER00605', 'PER00606',\n",
       "        'PER00607', 'PER00622', 'PER00626', 'PER00640', 'PER00642',\n",
       "        'PER00646', 'PER00650', 'PER00658', 'PER00738', 'PER00739',\n",
       "        'PER00747', 'PER00750', 'PER00758', 'PER00777', 'PER00806',\n",
       "        'PER00816', 'SY046', 'Saluki01', 'Saluki02', 'Saluki03',\n",
       "        'ScottishDeerhound01', 'ScottishTerrier01', 'ScottishTerrier02',\n",
       "        'ScottishTerrier03', 'ScottishTerrier04', 'ShibaInu01',\n",
       "        'SiberianHusky01', 'SiberianHusky02', 'SiberianHusky04',\n",
       "        'TibetanMastiff01', 'TibetanMastiff02', 'TibetanMastiff03',\n",
       "        'TibetanMastiff04', 'TibetanMastiff05', 'TibetanMastiff06',\n",
       "        'TibetanMastiff07', 'TibetanMastiff08', 'TibetanMastiff09',\n",
       "        'TibetanMastiff10', 'TibetanMastiff11', 'WW174', 'WW362', 'WW558',\n",
       "        'WestHighlandWhiteTerr01', 'WestHighlandWhiteTerr02',\n",
       "        'WestHighlandWhiteTerr03', 'WestHighlandWhiteTerr04',\n",
       "        'WestHighlandWhiteTerr05', 'WestHighlandWhiteTerr06',\n",
       "        'WestHighlandWhiteTerr08', 'WestHighlandWhiteTerr09', 'Whippet01',\n",
       "        'XiasiDog01', 'YorkshireTerrier01', 'YorkshireTerrier02'],\n",
       "       dtype=object),\n",
       " 'variants/ALT': array([['T', '', ''],\n",
       "        ['A', '', ''],\n",
       "        ['G', '', ''],\n",
       "        ...,\n",
       "        ['T', '', ''],\n",
       "        ['C', '', ''],\n",
       "        ['G', '', '']], dtype=object),\n",
       " 'variants/CHROM': array(['22', '22', '22', ..., '22', '22', '22'], dtype=object),\n",
       " 'variants/FILTER_PASS': array([False, False, False, ..., False, False, False]),\n",
       " 'variants/ID': array(['22:173[b37]A,T', '22:205[b37]T,A', '22:228[b37]T,G', ...,\n",
       "        '22:61439855[b37]G,T', '22:61439857[b37]T,C',\n",
       "        '22:61439866[b37]T,G'], dtype=object),\n",
       " 'variants/POS': array([     173,      205,      228, ..., 61439855, 61439857, 61439866],\n",
       "       dtype=int32),\n",
       " 'variants/QUAL': array([nan, nan, nan, ..., nan, nan, nan], dtype=float32),\n",
       " 'variants/REF': array(['A', 'T', 'T', ..., 'G', 'T', 'T'], dtype=object)}"
      ]
     },
     "execution_count": 15,
     "metadata": {},
     "output_type": "execute_result"
    }
   ],
   "source": [
    "vcf"
   ]
  },
  {
   "cell_type": "code",
   "execution_count": 44,
   "metadata": {},
   "outputs": [
    {
     "data": {
      "text/plain": [
       "(375825,)"
      ]
     },
     "execution_count": 44,
     "metadata": {},
     "output_type": "execute_result"
    }
   ],
   "source": [
    "vcf['variants/POS'].shape"
   ]
  },
  {
   "cell_type": "code",
   "execution_count": 45,
   "metadata": {},
   "outputs": [
    {
     "data": {
      "text/plain": [
       "(375825, 198, 2)"
      ]
     },
     "execution_count": 45,
     "metadata": {},
     "output_type": "execute_result"
    }
   ],
   "source": [
    "vcf['calldata/GT'].shape"
   ]
  },
  {
   "cell_type": "code",
   "execution_count": 19,
   "metadata": {
    "collapsed": true
   },
   "outputs": [],
   "source": [
    "vcf_unfiltered=allel.read_vcf(osp.join(os.environ['IN_PATH'],'dogs/chr22/chr22_unfiltered_phased.vcf.gz'))"
   ]
  },
  {
   "cell_type": "code",
   "execution_count": 21,
   "metadata": {},
   "outputs": [
    {
     "data": {
      "text/plain": [
       "((1870317, 722, 2), (1870317,))"
      ]
     },
     "execution_count": 21,
     "metadata": {},
     "output_type": "execute_result"
    }
   ],
   "source": [
    "vcf_unfiltered['calldata/GT'].shape, vcf_unfiltered['variants/POS'].shape"
   ]
  },
  {
   "cell_type": "code",
   "execution_count": 30,
   "metadata": {},
   "outputs": [
    {
     "data": {
      "text/plain": [
       "array([      1,       3,       6, ..., 1870313, 1870314, 1870316])"
      ]
     },
     "execution_count": 30,
     "metadata": {},
     "output_type": "execute_result"
    }
   ],
   "source": [
    "selectedPos=vcf['variants/POS']\n",
    "selectedidx = np.where(np.isin(vcf_unfiltered['variants/POS'],selectedPos))[0]\n",
    "selectedidx"
   ]
  },
  {
   "cell_type": "code",
   "execution_count": 31,
   "metadata": {},
   "outputs": [
    {
     "data": {
      "text/plain": [
       "(375825,)"
      ]
     },
     "execution_count": 31,
     "metadata": {},
     "output_type": "execute_result"
    }
   ],
   "source": [
    "selectedidx.shape"
   ]
  },
  {
   "cell_type": "code",
   "execution_count": 32,
   "metadata": {
    "collapsed": true
   },
   "outputs": [],
   "source": [
    "vcf_all=vcf_unfiltered['calldata/GT'][selectedidx,...]"
   ]
  },
  {
   "cell_type": "code",
   "execution_count": 33,
   "metadata": {},
   "outputs": [
    {
     "data": {
      "text/plain": [
       "(375825, 722, 2)"
      ]
     },
     "execution_count": 33,
     "metadata": {},
     "output_type": "execute_result"
    }
   ],
   "source": [
    "vcf_all.shape"
   ]
  },
  {
   "cell_type": "code",
   "execution_count": 36,
   "metadata": {},
   "outputs": [
    {
     "data": {
      "text/plain": [
       "(1444, 375825)"
      ]
     },
     "execution_count": 36,
     "metadata": {},
     "output_type": "execute_result"
    }
   ],
   "source": [
    "vcf_all_npy=vcf_all.reshape(-1,vcf_all.shape[1]*vcf_all.shape[2]).T\n",
    "vcf_all_npy.shape"
   ]
  },
  {
   "cell_type": "code",
   "execution_count": 1125,
   "metadata": {},
   "outputs": [],
   "source": [
    "sample_name='StandardSchnauzer01'\n",
    "i=np.where(vcf_unfiltered['samples']==sample_name)[0].item()\n",
    "vcf_sample=torch.tensor(vcf_all_npy[2*i,:params.chmlen].reshape(1,-1)).float().to(params.device)"
   ]
  },
  {
   "cell_type": "code",
   "execution_count": 1126,
   "metadata": {},
   "outputs": [
    {
     "data": {
      "text/plain": [
       "torch.Size([1, 375000])"
      ]
     },
     "execution_count": 1126,
     "metadata": {},
     "output_type": "execute_result"
    }
   ],
   "source": [
    "vcf_sample.shape"
   ]
  },
  {
   "cell_type": "code",
   "execution_count": 1127,
   "metadata": {},
   "outputs": [
    {
     "data": {
      "text/plain": [
       "375"
      ]
     },
     "execution_count": 1127,
     "metadata": {},
     "output_type": "execute_result"
    }
   ],
   "source": [
    "params.n_win"
   ]
  },
  {
   "cell_type": "code",
   "execution_count": 1128,
   "metadata": {},
   "outputs": [],
   "source": [
    "model.eval()\n",
    "with torch.no_grad():\n",
    "    test_results=model(vcf_sample, mask=torch.ones(1,params.n_win,1).to(params.device))"
   ]
  },
  {
   "cell_type": "code",
   "execution_count": 1129,
   "metadata": {},
   "outputs": [
    {
     "data": {
      "text/plain": [
       "modelOuts(coord_aux=tensor([[[ 0.3744, -0.1482, -0.2230],\n",
       "         [ 0.2461,  0.8981,  0.6970],\n",
       "         [-0.8378, -0.5440, -0.6827],\n",
       "         ...,\n",
       "         [-0.2437,  0.2515, -0.5280],\n",
       "         [ 0.0525,  0.1473,  0.1988],\n",
       "         [-0.7065, -0.0516, -0.1476]]], device='cuda:0'), coord_main=tensor([[[ 0.0297,  1.5203,  1.7216],\n",
       "         [ 0.2863,  1.7395,  1.7830],\n",
       "         [ 0.4611,  1.8516,  1.7188],\n",
       "         ...,\n",
       "         [-0.3041, -1.0727,  0.6645],\n",
       "         [-0.1942, -0.9325,  0.7581],\n",
       "         [-0.3826, -0.7959,  0.1962]]], device='cuda:0'), cp_logits=tensor([[[-0.3433],\n",
       "         [-0.3432],\n",
       "         [-0.3435],\n",
       "         [-0.3429],\n",
       "         [-0.3431],\n",
       "         [-0.3434],\n",
       "         [-0.3432],\n",
       "         [-0.3434],\n",
       "         [-0.3432],\n",
       "         [-0.3439],\n",
       "         [-0.3439],\n",
       "         [-0.3438],\n",
       "         [-0.3439],\n",
       "         [-0.3441],\n",
       "         [-0.3441],\n",
       "         [-0.3440],\n",
       "         [-0.3440],\n",
       "         [-0.3441],\n",
       "         [-0.3441],\n",
       "         [-0.3440],\n",
       "         [-0.3441],\n",
       "         [-0.3443],\n",
       "         [-0.3440],\n",
       "         [-0.3439],\n",
       "         [-0.3438],\n",
       "         [-0.3437],\n",
       "         [-0.3445],\n",
       "         [-0.3444],\n",
       "         [-0.3443],\n",
       "         [-0.3445],\n",
       "         [-0.3444],\n",
       "         [-0.3443],\n",
       "         [-0.3443],\n",
       "         [-0.3441],\n",
       "         [-0.3437],\n",
       "         [-0.3431],\n",
       "         [-0.3432],\n",
       "         [-0.3433],\n",
       "         [-0.3434],\n",
       "         [-0.3434],\n",
       "         [-0.3403],\n",
       "         [-0.3409],\n",
       "         [-0.3416],\n",
       "         [-0.3411],\n",
       "         [-0.3411],\n",
       "         [-0.3409],\n",
       "         [-0.3410],\n",
       "         [-0.3434],\n",
       "         [-0.3445],\n",
       "         [-0.3444],\n",
       "         [-0.3445],\n",
       "         [-0.3445],\n",
       "         [-0.3445],\n",
       "         [-0.3445],\n",
       "         [-0.3442],\n",
       "         [-0.3441],\n",
       "         [-0.3439],\n",
       "         [-0.3439],\n",
       "         [-0.3435],\n",
       "         [-0.3436],\n",
       "         [-0.3432],\n",
       "         [-0.3421],\n",
       "         [-0.3421],\n",
       "         [-0.3421],\n",
       "         [-0.3430],\n",
       "         [-0.3435],\n",
       "         [-0.3429],\n",
       "         [-0.3425],\n",
       "         [-0.3426],\n",
       "         [-0.3437],\n",
       "         [-0.3431],\n",
       "         [-0.3433],\n",
       "         [-0.3431],\n",
       "         [-0.3433],\n",
       "         [-0.3434],\n",
       "         [-0.3433],\n",
       "         [-0.3435],\n",
       "         [-0.3438],\n",
       "         [-0.3442],\n",
       "         [-0.3445],\n",
       "         [-0.3443],\n",
       "         [-0.3441],\n",
       "         [-0.3440],\n",
       "         [-0.3441],\n",
       "         [-0.3442],\n",
       "         [-0.3445],\n",
       "         [-0.3438],\n",
       "         [-0.3433],\n",
       "         [-0.3431],\n",
       "         [-0.3430],\n",
       "         [-0.3441],\n",
       "         [-0.3442],\n",
       "         [-0.3445],\n",
       "         [-0.3445],\n",
       "         [-0.3436],\n",
       "         [-0.3442],\n",
       "         [-0.3445],\n",
       "         [-0.3444],\n",
       "         [-0.3439],\n",
       "         [-0.3437],\n",
       "         [-0.3441],\n",
       "         [-0.3445],\n",
       "         [-0.3444],\n",
       "         [-0.3442],\n",
       "         [-0.3440],\n",
       "         [-0.3439],\n",
       "         [-0.3439],\n",
       "         [-0.3440],\n",
       "         [-0.3442],\n",
       "         [-0.3445],\n",
       "         [-0.3442],\n",
       "         [-0.3440],\n",
       "         [-0.3443],\n",
       "         [-0.3443],\n",
       "         [-0.3440],\n",
       "         [-0.3441],\n",
       "         [-0.3423],\n",
       "         [-0.3420],\n",
       "         [-0.3428],\n",
       "         [-0.3418],\n",
       "         [-0.3399],\n",
       "         [-0.3417],\n",
       "         [-0.3420],\n",
       "         [-0.3434],\n",
       "         [-0.3425],\n",
       "         [-0.3393],\n",
       "         [-0.3356],\n",
       "         [-0.3360],\n",
       "         [-0.3392],\n",
       "         [-0.3430],\n",
       "         [-0.3389],\n",
       "         [-0.3417],\n",
       "         [-0.3437],\n",
       "         [-0.3441],\n",
       "         [-0.3422],\n",
       "         [-0.3421],\n",
       "         [-0.3391],\n",
       "         [-0.3383],\n",
       "         [-0.3411],\n",
       "         [-0.3424],\n",
       "         [-0.3434],\n",
       "         [-0.3429],\n",
       "         [-0.3434],\n",
       "         [-0.3442],\n",
       "         [-0.3443],\n",
       "         [-0.3442],\n",
       "         [-0.3443],\n",
       "         [-0.3443],\n",
       "         [-0.3443],\n",
       "         [-0.3440],\n",
       "         [-0.3434],\n",
       "         [-0.3436],\n",
       "         [-0.3442],\n",
       "         [-0.3441],\n",
       "         [-0.3441],\n",
       "         [-0.3440],\n",
       "         [-0.3445],\n",
       "         [-0.3445],\n",
       "         [-0.3445],\n",
       "         [-0.3442],\n",
       "         [-0.3439],\n",
       "         [-0.3429],\n",
       "         [-0.3412],\n",
       "         [-0.3425],\n",
       "         [-0.3445],\n",
       "         [-0.3445],\n",
       "         [-0.3440],\n",
       "         [-0.3439],\n",
       "         [-0.3435],\n",
       "         [-0.3431],\n",
       "         [-0.3433],\n",
       "         [-0.3432],\n",
       "         [-0.3435],\n",
       "         [-0.3433],\n",
       "         [-0.3434],\n",
       "         [-0.3437],\n",
       "         [-0.3444],\n",
       "         [-0.3445],\n",
       "         [-0.3434],\n",
       "         [-0.3438],\n",
       "         [-0.3441],\n",
       "         [-0.3440],\n",
       "         [-0.3444],\n",
       "         [-0.3443],\n",
       "         [-0.3444],\n",
       "         [-0.3444],\n",
       "         [-0.3443],\n",
       "         [-0.3443],\n",
       "         [-0.3445],\n",
       "         [-0.3445],\n",
       "         [-0.3445],\n",
       "         [-0.3443],\n",
       "         [-0.3441],\n",
       "         [-0.3441],\n",
       "         [-0.3443],\n",
       "         [-0.3442],\n",
       "         [-0.3443],\n",
       "         [-0.3443],\n",
       "         [-0.3442],\n",
       "         [-0.3441],\n",
       "         [-0.3440],\n",
       "         [-0.3439],\n",
       "         [-0.3441],\n",
       "         [-0.3437],\n",
       "         [-0.3440],\n",
       "         [-0.3440],\n",
       "         [-0.3440],\n",
       "         [-0.3443],\n",
       "         [-0.3443],\n",
       "         [-0.3444],\n",
       "         [-0.3445],\n",
       "         [-0.3444],\n",
       "         [-0.3444],\n",
       "         [-0.3445],\n",
       "         [-0.3444],\n",
       "         [-0.3444],\n",
       "         [-0.3441],\n",
       "         [-0.3442],\n",
       "         [-0.3440],\n",
       "         [-0.3445],\n",
       "         [-0.3444],\n",
       "         [-0.3442],\n",
       "         [-0.3427],\n",
       "         [-0.3428],\n",
       "         [-0.3418],\n",
       "         [-0.3410],\n",
       "         [-0.3426],\n",
       "         [-0.3436],\n",
       "         [-0.3419],\n",
       "         [-0.3420],\n",
       "         [-0.3435],\n",
       "         [-0.3442],\n",
       "         [-0.3442],\n",
       "         [-0.3445],\n",
       "         [-0.3444],\n",
       "         [-0.3421],\n",
       "         [-0.3424],\n",
       "         [-0.3428],\n",
       "         [-0.3413],\n",
       "         [-0.3389],\n",
       "         [-0.3387],\n",
       "         [-0.3425],\n",
       "         [-0.3431],\n",
       "         [-0.3433],\n",
       "         [-0.3438],\n",
       "         [-0.3440],\n",
       "         [-0.3442],\n",
       "         [-0.3443],\n",
       "         [-0.3443],\n",
       "         [-0.3444],\n",
       "         [-0.3442],\n",
       "         [-0.3443],\n",
       "         [-0.3442],\n",
       "         [-0.3443],\n",
       "         [-0.3445],\n",
       "         [-0.3443],\n",
       "         [-0.3438],\n",
       "         [-0.3440],\n",
       "         [-0.3441],\n",
       "         [-0.3440],\n",
       "         [-0.3440],\n",
       "         [-0.3437],\n",
       "         [-0.3437],\n",
       "         [-0.3440],\n",
       "         [-0.3440],\n",
       "         [-0.3441],\n",
       "         [-0.3438],\n",
       "         [-0.3434],\n",
       "         [-0.3441],\n",
       "         [-0.3442],\n",
       "         [-0.3442],\n",
       "         [-0.3442],\n",
       "         [-0.3426],\n",
       "         [-0.3404],\n",
       "         [-0.3402],\n",
       "         [-0.3388],\n",
       "         [-0.3410],\n",
       "         [-0.3414],\n",
       "         [-0.3411],\n",
       "         [-0.3402],\n",
       "         [-0.3422],\n",
       "         [-0.3437],\n",
       "         [-0.3440],\n",
       "         [-0.3437],\n",
       "         [-0.3430],\n",
       "         [-0.3432],\n",
       "         [-0.3442],\n",
       "         [-0.3437],\n",
       "         [-0.3414],\n",
       "         [-0.3437],\n",
       "         [-0.3445],\n",
       "         [-0.3441],\n",
       "         [-0.3438],\n",
       "         [-0.3434],\n",
       "         [-0.3435],\n",
       "         [-0.3434],\n",
       "         [-0.3435],\n",
       "         [-0.3438],\n",
       "         [-0.3434],\n",
       "         [-0.3443],\n",
       "         [-0.3444],\n",
       "         [-0.3436],\n",
       "         [-0.3419],\n",
       "         [-0.3411],\n",
       "         [-0.3403],\n",
       "         [-0.3386],\n",
       "         [-0.3393],\n",
       "         [-0.3381],\n",
       "         [-0.3346],\n",
       "         [-0.3289],\n",
       "         [-0.2925],\n",
       "         [-0.3421],\n",
       "         [-0.3434],\n",
       "         [-0.3436],\n",
       "         [-0.3434],\n",
       "         [-0.3430],\n",
       "         [-0.3430],\n",
       "         [-0.3434],\n",
       "         [-0.3437],\n",
       "         [-0.3438],\n",
       "         [-0.3422],\n",
       "         [-0.3411],\n",
       "         [-0.3406],\n",
       "         [-0.3396],\n",
       "         [-0.3402],\n",
       "         [-0.3405],\n",
       "         [-0.3408],\n",
       "         [-0.3420],\n",
       "         [-0.3428],\n",
       "         [-0.3421],\n",
       "         [-0.3402],\n",
       "         [-0.3422],\n",
       "         [-0.3430],\n",
       "         [-0.3431],\n",
       "         [-0.3433],\n",
       "         [-0.3432],\n",
       "         [-0.3440],\n",
       "         [-0.3439],\n",
       "         [-0.3439],\n",
       "         [-0.3440],\n",
       "         [-0.3432],\n",
       "         [-0.3429],\n",
       "         [-0.3440],\n",
       "         [-0.3441],\n",
       "         [-0.3429],\n",
       "         [-0.3423],\n",
       "         [-0.3411],\n",
       "         [-0.3426],\n",
       "         [-0.3421],\n",
       "         [-0.3437],\n",
       "         [-0.3444],\n",
       "         [-0.3417],\n",
       "         [-0.3389],\n",
       "         [-0.3444],\n",
       "         [-0.3438],\n",
       "         [-0.3440],\n",
       "         [-0.3440],\n",
       "         [-0.3428],\n",
       "         [-0.3419],\n",
       "         [-0.3411],\n",
       "         [-0.3405],\n",
       "         [-0.3427],\n",
       "         [-0.3431],\n",
       "         [-0.3435],\n",
       "         [-0.3440],\n",
       "         [-0.3441],\n",
       "         [-0.3442],\n",
       "         [-0.3441],\n",
       "         [-0.3441],\n",
       "         [-0.3440],\n",
       "         [-0.3441],\n",
       "         [-0.3437],\n",
       "         [-0.3423],\n",
       "         [-0.3419],\n",
       "         [-0.3395]]], device='cuda:0'), y_var=None, sp=None)"
      ]
     },
     "execution_count": 1129,
     "metadata": {},
     "output_type": "execute_result"
    }
   ],
   "source": [
    "test_results"
   ]
  },
  {
   "cell_type": "code",
   "execution_count": 1130,
   "metadata": {},
   "outputs": [
    {
     "name": "stdout",
     "output_type": "stream",
     "text": [
      "Finished 'run_recursive' in 0.3831 secs\n"
     ]
    }
   ],
   "source": [
    "y_pred = test_results.coord_main.detach().cpu()\n",
    "n_vec_dim=y_pred.shape[-1]\n",
    "data_tensor = y_pred\n",
    "batch_size_cpd = data_tensor.shape[0]\n",
    "mu_prior = torch.zeros((batch_size_cpd, 1,n_vec_dim))\n",
    "mean_var=torch.mean(torch.var(data_tensor, dim =1),dim=0).unsqueeze(0)\n",
    "cov_prior = (mean_var.repeat(batch_size_cpd,1).unsqueeze(1)* torch.eye(n_vec_dim)).reshape(batch_size_cpd,1,n_vec_dim,n_vec_dim)\n",
    "cov_x = cov_prior\n",
    "likelihood_model = Multivariate_Gaussian(mu_prior, cov_prior, cov_x)\n",
    "T = params.n_win\n",
    "model_cpd = BOCD.BOCD(None, T, likelihood_model, batch_size_cpd)\n",
    "_,_,_,_=model_cpd.run_recursive(data_tensor, 'cpu')"
   ]
  },
  {
   "cell_type": "code",
   "execution_count": 1131,
   "metadata": {
    "collapsed": true
   },
   "outputs": [],
   "source": [
    "# granular_pop_dict = load_path(osp.join(labels_path, 'granular_pop.pkl'), en_pickle=True)\n",
    "# superop_dict=load_path(osp.join(labels_path, 'superpop.pkl'), en_pickle=True)\n",
    "# pop_sample_map=pd.read_csv(osp.join(labels_path, 'pop_sample_map.tsv'),sep=\"\\t\")\n",
    "# pop_arr=repeat_pop_arr(pop_sample_map)\n",
    "# cp_target=valid_dataset.data['cps']\n",
    "# seqlen=cp_target.shape[1]\n",
    "# rev_pop_dict={v:k for k,v in granular_pop_dict.items()}\n",
    "# rev_sp_dict={v:k for k,v in superop_dict.items()}"
   ]
  },
  {
   "cell_type": "code",
   "execution_count": 1132,
   "metadata": {
    "collapsed": true,
    "scrolled": false
   },
   "outputs": [],
   "source": [
    "# index = 2500\n",
    "# index=2620\n",
    "# index=51\n",
    "# index=3000\n",
    "# index=3100\n",
    "# index=2445\n",
    "# index=np.random.choice(idxOfInterest)\n",
    "# print(index)\n",
    "# true_cpsSample=cp_target[index,:]\n",
    "y_predSample=y_pred.squeeze(0)\n",
    "# y_trueSample=valid_dataset.data['y'][index,:]\n",
    "# granularpopSample=valid_dataset.data['granular_pop'][index,:]\n",
    "# namesSample=[rev_pop_dict[i] for i in granularpopSample.astype(int)]\n",
    "# superPopSample=valid_dataset.data['superpop'][index,:]\n",
    "# SpNamesSample=[rev_sp_dict[i] for i in superPopSample.astype(int)]"
   ]
  },
  {
   "cell_type": "code",
   "execution_count": 1133,
   "metadata": {},
   "outputs": [
    {
     "data": {
      "text/plain": [
       "torch.Size([375, 3])"
      ]
     },
     "execution_count": 1133,
     "metadata": {},
     "output_type": "execute_result"
    }
   ],
   "source": [
    "y_predSample.shape"
   ]
  },
  {
   "cell_type": "code",
   "execution_count": 1134,
   "metadata": {},
   "outputs": [],
   "source": [
    "pred_cps=getCpPred(cpMethod.gradient.name, y_predSample, 0.1, 1, params.n_win)\n",
    "pred_cps=pred_cps.squeeze(0).detach().cpu().numpy()# squeeze the batch dimension of 1"
   ]
  },
  {
   "cell_type": "code",
   "execution_count": 1135,
   "metadata": {},
   "outputs": [],
   "source": [
    "predBOCDSample=model_cpd.cp\n",
    "pred_cps_BOCD=getCpPred(cpMethod.BOCD.name, predBOCDSample, 5.0, 1, params.n_win)\n",
    "pred_cps_BOCD=pred_cps_BOCD.squeeze(0).detach().cpu().numpy()# squeeze the batch dimension of 1"
   ]
  },
  {
   "cell_type": "code",
   "execution_count": 1136,
   "metadata": {},
   "outputs": [],
   "source": [
    "cpIdx=np.nonzero(pred_cps_BOCD)[0]\n",
    "remWin=3\n",
    "for i in cpIdx:\n",
    "    low=max(0,i-remWin)\n",
    "    high=min(params.n_win, i+remWin)\n",
    "    pred_cps_BOCD[low:high]=1"
   ]
  },
  {
   "cell_type": "code",
   "execution_count": 1137,
   "metadata": {},
   "outputs": [
    {
     "name": "stdout",
     "output_type": "stream",
     "text": [
      "Finished 'nearestNeighbourMapping' in 0.0115 secs\n"
     ]
    }
   ],
   "source": [
    "mappedSpArr=nearestNeighbourMapping(labels_path, y_predSample.numpy().reshape(-1,3))"
   ]
  },
  {
   "cell_type": "code",
   "execution_count": 1138,
   "metadata": {},
   "outputs": [
    {
     "data": {
      "text/plain": [
       "(375,)"
      ]
     },
     "execution_count": 1138,
     "metadata": {},
     "output_type": "execute_result"
    }
   ],
   "source": [
    "mappedSpArr.shape"
   ]
  },
  {
   "cell_type": "code",
   "execution_count": 1139,
   "metadata": {},
   "outputs": [],
   "source": [
    "y_True=train_dataset.data['y'].reshape(-1,3)\n",
    "superpopsTrue=train_dataset.data['superpop'].reshape(-1,)\n",
    "superop_dict=load_path(osp.join(labels_path, 'superpop.pkl'), en_pickle=True)"
   ]
  },
  {
   "cell_type": "code",
   "execution_count": 1140,
   "metadata": {
    "collapsed": true
   },
   "outputs": [],
   "source": [
    "@timer\n",
    "def plot_unlabeledSample(granularPopSample, y_predSample, **kwargs):\n",
    "    backgroundAxis=kwargs.get('backgroundAxis')\n",
    "    y_predCps=kwargs.get('y_predCps')\n",
    "    y_True=kwargs.get('y_True')\n",
    "    superpopsTrue=kwargs.get('superpopsTrue')\n",
    "    superop_dict=kwargs.get('superop_dict')\n",
    "    cpShow=kwargs.get('cpShow')\n",
    "    pred_cps=kwargs.get('pred_cps')\n",
    "    mappedSpArr=kwargs.get('mappedSpArr')\n",
    "    \n",
    "    fig, ax = plt.subplots(figsize=(12,14))\n",
    "    plt.rcParams['hatch.color']='grey'\n",
    "    \n",
    "    gs1 = fig.add_gridspec(nrows=2, ncols=1, height_ratios=[13,1])\n",
    "    ax1=fig.add_subplot(gs1[0],projection='3d')\n",
    "    ax1.set_xlim(np.array([-2,2])*.77)\n",
    "    ax1.set_ylim(np.array([-2,2])*.77)\n",
    "    ax1.set_zlim(np.array([-2,2])*.77)\n",
    "    ax2=fig.add_subplot(gs1[1])\n",
    "\n",
    "    for axis in [ax, ax2]:\n",
    "        axis.set_yticks([])\n",
    "        axis.spines['top'].set_color('none')\n",
    "        axis.spines['left'].set_color('none')\n",
    "        axis.spines['right'].set_color('none')\n",
    "    ax.set_xticks([])\n",
    "    fig.subplots_adjust(left=0, right=0.5, bottom=0, top=0.5)\n",
    "    plt.subplots_adjust(hspace=0.01)\n",
    "    \n",
    "    if backgroundAxis:\n",
    "        lgnd, colorsPop_sp_dict =plot_all(ax1, y_True, superpopsTrue, superop_dict, cpShow=False)\n",
    "    else:\n",
    "        continentaPops=list(superop_dict.values())\n",
    "        colorsPop_sp = sns.color_palette(\"bright\", 10)\n",
    "#         del colorsPop_sp[1]\n",
    "#         del colorsPop_sp[4]\n",
    "#         del colorsPop_sp[5]\n",
    "        colorsPop_sp_dict = {k:v for k,v in zip(continentaPops, colorsPop_sp)}\n",
    "        patches=[]\n",
    "        for k, val in superop_dict.items():\n",
    "            patches.append(mpatches.Patch(color = colorsPop_sp_dict[val], label = k))\n",
    "        lgnd = ax1.legend(handles=patches, loc=\"upper right\", fontsize=15, bbox_to_anchor=(-0.15, 0.49, 1., .5))\n",
    "\n",
    "    ax1.add_artist(lgnd)\n",
    "    colors_pop_dict={granularPopSample[0]:(0/255, 111/255, 84/255)}\n",
    "    \n",
    "    alpha=[1]*len(y_predSample)\n",
    "    if cpShow is None:\n",
    "        unknownIdx=np.nonzero(pred_cps)[0]\n",
    "        print(f\"number of changepoints removed:{len(unknownIdx)},{len(unknownIdx)*100/len(y_predSample)}\")\n",
    "        granularPopNames=[\"UNK\" if i in unknownIdx else granularPopSample[i] for i in range(len(granularPopSample))]\n",
    "        colors_pop_dict[\"UNK\"]=(0.9,0.9,0.9) # grey color\n",
    "        mappedSpArr[unknownIdx]=-1\n",
    "        colorsPop_sp_dict[-1]=(0.9,0.9,0.9) # grey color\n",
    "        knownIdx=[i for i in range(len(granularPopNames)) if granularPopNames[i]!=\"UNK\"]\n",
    "    \n",
    "    #predictions\n",
    "    ax1.scatter(y_predSample[knownIdx,0], y_predSample[knownIdx,1], y_predSample[knownIdx,2],\\\n",
    "    color = [tuple(colors_pop_dict[x])+(y,) for x,y in zip([granularPopNames[i] for i in knownIdx], alpha)], s=50, zorder=0)\n",
    "    #changepoints\n",
    "    ax1.scatter(y_predSample[unknownIdx,0], y_predSample[unknownIdx,1], y_predSample[unknownIdx,2], facecolor='grey', hatch=3*'+',\\\n",
    "    color = [tuple(colors_pop_dict[x])+(y,) for x,y in zip([granularPopNames[i] for i in unknownIdx], alpha)], s=50, zorder=0, marker=\"D\") \n",
    "    \n",
    "    for axis in [ax1.xaxis, ax1.yaxis, ax1.zaxis]:\n",
    "        axis.set_pane_color((1.0, 1.0, 1.0, 0.0))\n",
    "        axis._axinfo[\"grid\"]['color'] = (1,1,1,0)\n",
    "    patches=[]\n",
    "    for i, val in enumerate(np.unique(granularPopSample)):\n",
    "        patches.append(mpatches.Patch(color = colors_pop_dict[val], label = val))\n",
    "    patches.append(mpatches.Patch(facecolor = (0.9,0.9,0.9), label = \"Changepoint\", hatch=3*'+')) #add UNK legend patch separately\n",
    "    ax1.legend(handles=patches, loc=\"upper left\", fontsize=20)\n",
    "    \n",
    "    \n",
    "    #chm plot of predictions\n",
    "    ax2.bar(knownIdx, 1.02*np.ones(len(mappedSpArr[knownIdx])), \\\n",
    "            color=[colorsPop_sp_dict[x]+(y,) for x,y in zip(mappedSpArr[knownIdx],alpha)], \\\n",
    "            width=1.0)\n",
    "    ax2.bar(unknownIdx, 1.02*np.ones(len(mappedSpArr[unknownIdx])), \\\n",
    "        color=[colorsPop_sp_dict[x]+(y,) for x,y in zip(mappedSpArr[unknownIdx],alpha)], \\\n",
    "        width=1.0, hatch=3*\"+\")\n",
    "    ax2.set_title('Predicted Chromosome22', fontsize=30, y=0.3)\n",
    "    \n",
    "    for ax in [ax2]:\n",
    "        ax.xaxis.set_major_locator(ticker.MultipleLocator(1.0))\n",
    "        ax.xaxis.set_minor_locator(ticker.MultipleLocator(4))\n",
    "        ax.xaxis.set_ticks_position('bottom')\n",
    "        ax.tick_params(which='major', width=2, length=10, labelsize=25)\n",
    "        ax.tick_params(which='minor', width=2, length=6, labelsize=10)\n",
    "        ax.set_xlim(0, params.n_win)\n",
    "        ax.set_ylim(0.99,1.09)\n",
    "        positions = [0, 160, 300]\n",
    "        x_labels = [0, 150000, 317000]\n",
    "        ax.xaxis.set_major_locator(ticker.FixedLocator(positions))\n",
    "        ax.xaxis.set_major_formatter(ticker.FixedFormatter(x_labels))\n",
    "    \n",
    "    plt.tight_layout(pad=0.4, w_pad=0.3, h_pad=0.3)\n",
    "    plt.show()\n",
    "    plt.close('all')"
   ]
  },
  {
   "cell_type": "code",
   "execution_count": 1141,
   "metadata": {
    "scrolled": false
   },
   "outputs": [
    {
     "name": "stdout",
     "output_type": "stream",
     "text": [
      "Finished 'plot_all' in 10.0287 secs\n",
      "number of changepoints removed:173,46.13333333333333\n"
     ]
    },
    {
     "data": {
      "image/png": "[encoded data removed]",
      "text/plain": [
       "<Figure size 864x1008 with 3 Axes>"
      ]
     },
     "metadata": {},
     "output_type": "display_data"
    },
    {
     "name": "stdout",
     "output_type": "stream",
     "text": [
      "Finished 'plot_unlabeledSample' in 22.0432 secs\n"
     ]
    }
   ],
   "source": [
    "granularPopSample=[sample_name]*params.n_win\n",
    "plot_unlabeledSample(granularPopSample, y_predSample, pred_cps=pred_cps_BOCD, mappedSpArr=mappedSpArr, \\\n",
    "backgroundAxis=True, y_True=y_True, superpopsTrue=superpopsTrue, superop_dict=superop_dict)"
   ]
  },
  {
   "cell_type": "code",
   "execution_count": 538,
   "metadata": {
    "collapsed": true
   },
   "outputs": [],
   "source": [
    "@timer\n",
    "def plot_all(ax, y_True, superpopsTrue, superop_dict, **kwargs):\n",
    "    cpShow=kwargs.get('cpShow')\n",
    "    pred_cps=kwargs.get('pred_cps')    \n",
    "    continentaPops=list(superop_dict.values())\n",
    "    colors_pop = sns.color_palette(\"bright\", 10)\n",
    "#     del colors_pop[1]\n",
    "#     del colors_pop[4]\n",
    "#     del colors_pop[5]\n",
    "    colors_pop_dict = {k:v for k,v in zip(continentaPops, colors_pop)}\n",
    "    alpha=[0.03]*len(y_True)\n",
    "    if cpShow is None:\n",
    "        alpha=(pred_cps==0).astype(float)\n",
    "    \n",
    "    ax.scatter(y_True[:,0], y_True[:,1], y_True[:,2], \\\n",
    "               color = [colors_pop_dict[x]+(y,) for x,y in zip(superpopsTrue, alpha)], marker=\".\", s=5, zorder=-1) \n",
    "    \n",
    "    patches=[]\n",
    "   \n",
    "    for k, val in superop_dict.items():\n",
    "        patches.append(mpatches.Patch(color = colors_pop_dict[val], label = k))\n",
    "    lgnd = ax.legend(handles=patches, loc=\"upper right\", fontsize=15, bbox_to_anchor=(-0.75, 0.12, 1., .5))\n",
    "    return lgnd, colors_pop_dict\n"
   ]
  },
  {
   "cell_type": "code",
   "execution_count": 647,
   "metadata": {
    "collapsed": true
   },
   "outputs": [],
   "source": [
    "@timer\n",
    "def plot_unlabeledSample(granularPopSample, y_predSample, **kwargs):\n",
    "    backgroundAxis=kwargs.get('backgroundAxis')\n",
    "    y_predCps=kwargs.get('y_predCps')\n",
    "    y_True=kwargs.get('y_True')\n",
    "    superpopsTrue=kwargs.get('superpopsTrue')\n",
    "    superop_dict=kwargs.get('superop_dict')\n",
    "    cpShow=kwargs.get('cpShow')\n",
    "    pred_cps=kwargs.get('pred_cps')\n",
    "    mappedSpArr=kwargs.get('mappedSpArr')\n",
    "    \n",
    "    fig, ax = plt.subplots(figsize=(12,14))\n",
    "    plt.rcParams['hatch.color']='grey'\n",
    "    \n",
    "    gs1 = fig.add_gridspec(nrows=2, ncols=1, height_ratios=[13,1])\n",
    "    ax1=fig.add_subplot(gs1[0],projection='3d')\n",
    "    ax1.set_xlim(np.array([-2,2])*.77)\n",
    "    ax1.set_ylim(np.array([-2,2])*.77)\n",
    "    ax1.set_zlim(np.array([-2,2])*.77)\n",
    "    ax2=fig.add_subplot(gs1[1])\n",
    "\n",
    "    for axis in [ax, ax2]:\n",
    "        axis.set_yticks([])\n",
    "        axis.spines['top'].set_color('none')\n",
    "        axis.spines['left'].set_color('none')\n",
    "        axis.spines['right'].set_color('none')\n",
    "    ax.set_xticks([])\n",
    "    fig.subplots_adjust(left=0, right=0.5, bottom=0, top=0.5)\n",
    "    plt.subplots_adjust(hspace=0.01)\n",
    "    \n",
    "    if backgroundAxis:\n",
    "        lgnd, colorsPop_sp_dict =plot_all(ax1, y_True, superpopsTrue, superop_dict, cpShow=False)\n",
    "    else:\n",
    "        continentaPops=list(superop_dict.values())\n",
    "        colorsPop_sp = sns.color_palette(\"bright\", 10)\n",
    "#         del colorsPop_sp[1]\n",
    "#         del colorsPop_sp[4]\n",
    "#         del colorsPop_sp[5]\n",
    "        colorsPop_sp_dict = {k:v for k,v in zip(continentaPops, colorsPop_sp)}\n",
    "        patches=[]\n",
    "        for k, val in superop_dict.items():\n",
    "            patches.append(mpatches.Patch(color = colorsPop_sp_dict[val], label = k))\n",
    "        lgnd = ax1.legend(handles=patches, loc=\"upper right\", fontsize=15, bbox_to_anchor=(-0.15, 0.49, 1., .5))\n",
    "\n",
    "    ax1.add_artist(lgnd)\n",
    "    colors_pop_dict=colorsPop_sp_dict\n",
    "    \n",
    "    alpha=[1]*len(y_predSample)\n",
    "    if cpShow is None:\n",
    "        unknownIdx=np.nonzero(pred_cps)[0]\n",
    "        print(f\"number of changepoints removed:{len(unknownIdx)},{len(unknownIdx)*100/len(y_predSample)}\")\n",
    "        granularPopNames=[\"UNK\" if i in unknownIdx else granularPopSample[i] for i in range(len(granularPopSample))]\n",
    "        colors_pop_dict[\"UNK\"]=(0.9,0.9,0.9) # grey color\n",
    "        mappedSpArr[unknownIdx]=-1\n",
    "        colorsPop_sp_dict[-1]=(0.9,0.9,0.9) # grey color\n",
    "        knownIdx=[i for i in range(len(granularPopNames)) if granularPopNames[i]!=\"UNK\"]\n",
    "    \n",
    "    #predictions\n",
    "    ax1.scatter(y_predSample[knownIdx,0], y_predSample[knownIdx,1], y_predSample[knownIdx,2],\\\n",
    "    color = [colorsPop_sp_dict[x]+(y,) for x,y in zip(mappedSpArr[knownIdx],alpha)], s=50, zorder=0)\n",
    "    #changepoints\n",
    "    ax1.scatter(y_predSample[unknownIdx,0], y_predSample[unknownIdx,1], y_predSample[unknownIdx,2], facecolor='grey', hatch=3*'+',\\\n",
    "    color = [colorsPop_sp_dict[x]+(y,) for x,y in zip(mappedSpArr[unknownIdx],alpha)], s=50, zorder=0, marker=\"D\") \n",
    "    \n",
    "    for axis in [ax1.xaxis, ax1.yaxis, ax1.zaxis]:\n",
    "        axis.set_pane_color((1.0, 1.0, 1.0, 0.0))\n",
    "        axis._axinfo[\"grid\"]['color'] = (1,1,1,0)\n",
    "    patches=[]\n",
    "#     for i, val in enumerate(np.unique(granularPopSample)):\n",
    "#         patches.append(mpatches.Patch(color = colors_pop_dict[val], label = val))\n",
    "#     patches.append(mpatches.Patch(facecolor = (0.9,0.9,0.9), label = \"Changepoint\", hatch=3*'+')) #add UNK legend patch separately\n",
    "#     ax1.legend(handles=patches, loc=\"upper left\", fontsize=20)\n",
    "    \n",
    "    \n",
    "    #chm plot of predictions\n",
    "    ax2.bar(knownIdx, 1.02*np.ones(len(mappedSpArr[knownIdx])), \\\n",
    "            color=[colorsPop_sp_dict[x]+(y,) for x,y in zip(mappedSpArr[knownIdx],alpha)], \\\n",
    "            width=1.0)\n",
    "    ax2.bar(unknownIdx, 1.02*np.ones(len(mappedSpArr[unknownIdx])), \\\n",
    "        color=[colorsPop_sp_dict[x]+(y,) for x,y in zip(mappedSpArr[unknownIdx],alpha)], \\\n",
    "        width=1.0, hatch=3*\"+\")\n",
    "    ax2.set_title('Predicted Chromosome22', fontsize=30, y=0.3)\n",
    "    \n",
    "    for ax in [ax2]:\n",
    "        ax.xaxis.set_major_locator(ticker.MultipleLocator(1.0))\n",
    "        ax.xaxis.set_minor_locator(ticker.MultipleLocator(4))\n",
    "        ax.xaxis.set_ticks_position('bottom')\n",
    "        ax.tick_params(which='major', width=2, length=10, labelsize=25)\n",
    "        ax.tick_params(which='minor', width=2, length=6, labelsize=10)\n",
    "        ax.set_xlim(0, params.n_win)\n",
    "        ax.set_ylim(0.99,1.09)\n",
    "        positions = [0, 160, 300]\n",
    "        x_labels = [0, 150000, 317000]\n",
    "        ax.xaxis.set_major_locator(ticker.FixedLocator(positions))\n",
    "        ax.xaxis.set_major_formatter(ticker.FixedFormatter(x_labels))\n",
    "    \n",
    "    plt.tight_layout(pad=0.4, w_pad=0.3, h_pad=0.3)\n",
    "    plt.show()\n",
    "    plt.close('all')"
   ]
  },
  {
   "cell_type": "code",
   "execution_count": 648,
   "metadata": {},
   "outputs": [
    {
     "name": "stdout",
     "output_type": "stream",
     "text": [
      "Finished 'plot_all' in 10.0256 secs\n",
      "number of changepoints removed:139,37.06666666666667\n"
     ]
    },
    {
     "data": {
      "image/png": "[encoded data removed]",
      "text/plain": [
       "<Figure size 864x1008 with 3 Axes>"
      ]
     },
     "metadata": {},
     "output_type": "display_data"
    },
    {
     "name": "stdout",
     "output_type": "stream",
     "text": [
      "Finished 'plot_unlabeledSample' in 21.9865 secs\n"
     ]
    }
   ],
   "source": [
    "granularPopSample=[sample_name]*params.n_win\n",
    "plot_unlabeledSample(granularPopSample, y_predSample, pred_cps=pred_cps_BOCD, mappedSpArr=mappedSpArr, \\\n",
    "backgroundAxis=True, y_True=y_True, superpopsTrue=superpopsTrue, superop_dict=superop_dict)"
   ]
  },
  {
   "cell_type": "code",
   "execution_count": null,
   "metadata": {
    "collapsed": true
   },
   "outputs": [],
   "source": []
  }
 ],
 "metadata": {
  "kernelspec": {
   "display_name": "Python 3",
   "language": "python",
   "name": "python3"
  },
  "language_info": {
   "codemirror_mode": {
    "name": "ipython",
    "version": 3
   },
   "file_extension": ".py",
   "mimetype": "text/x-python",
   "name": "python",
   "nbconvert_exporter": "python",
   "pygments_lexer": "ipython3",
   "version": "3.6.1"
  }
 },
 "nbformat": 4,
 "nbformat_minor": 2
}
