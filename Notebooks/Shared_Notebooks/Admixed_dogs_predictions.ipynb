{
 "cells": [
  {
   "cell_type": "code",
   "execution_count": 1,
   "metadata": {
    "collapsed": true
   },
   "outputs": [],
   "source": [
    "import torch\n",
    "import sys\n",
    "import os\n",
    "import os.path as osp\n",
    "import pandas as pd\n",
    "import numpy as np\n",
    "import itertools\n",
    "import matplotlib.pyplot as plt\n",
    "import seaborn as sns\n",
    "from mpl_toolkits.mplot3d import Axes3D\n",
    "from matplotlib import ticker\n",
    "import matplotlib as mpl\n",
    "from matplotlib.colors import LogNorm\n",
    "import matplotlib.patches as mpatches\n",
    "from sklearn.metrics import precision_recall_curve, recall_score, precision_score, \\\n",
    "balanced_accuracy_score, accuracy_score\n",
    "from sklearn import metrics\n",
    "import math\n",
    "import allel"
   ]
  },
  {
   "cell_type": "code",
   "execution_count": 2,
   "metadata": {
    "collapsed": true
   },
   "outputs": [],
   "source": [
    "os.environ['USER_PATH']='/home/users/richras/Ge2Net_Repo'\n",
    "os.environ['USER_SCRATCH_PATH']=\"/scratch/users/richras\"\n",
    "os.environ['IN_PATH']='/scratch/groups/cdbustam/richras/data_in'\n",
    "os.environ['OUT_PATH']='/scratch/groups/cdbustam/richras/data_out'\n",
    "os.environ['LOG_PATH']='/scratch/groups/cdbustam/richras/logs/'"
   ]
  },
  {
   "cell_type": "code",
   "execution_count": 3,
   "metadata": {
    "collapsed": true
   },
   "outputs": [],
   "source": [
    "os.chdir(os.environ.get('USER_PATH'))"
   ]
  },
  {
   "cell_type": "code",
   "execution_count": 4,
   "metadata": {
    "collapsed": true
   },
   "outputs": [],
   "source": [
    "%load_ext autoreload\n",
    "%autoreload 2\n",
    "from src.utils.dataUtil import load_path, save_file, vcf2npy, get_recomb_rate, interpolate_genetic_pos, form_windows\n",
    "from src.utils.modelUtil import Params, load_model\n",
    "from src.utils.labelUtil import nearestNeighbourMapping, repeat_pop_arr\n",
    "from src.utils.decorators import timer\n",
    "from src.models import AuxiliaryTask, LSTM, Attention, BasicBlock, Model_A, Model_B, Model_C, BOCD\n",
    "from src.models.distributions import Multivariate_Gaussian\n",
    "from src.main.evaluation import eval_cp_batch, reportChangePointMetrics, t_prMetrics, cpMethod, eval_cp_matrix, \\\n",
    "getCpPred\n",
    "import inference"
   ]
  },
  {
   "cell_type": "markdown",
   "metadata": {},
   "source": [
    "# load the model and use valid data "
   ]
  },
  {
   "cell_type": "code",
   "execution_count": 5,
   "metadata": {
    "collapsed": true
   },
   "outputs": [],
   "source": [
    "# Specify the dataset to be evaluated\n",
    "# chm22 pca full dataset and model\n",
    "\n",
    "labels_path = osp.join(os.environ['OUT_PATH'],'dogs/labels/data_id_1_umap')\n",
    "data_path = osp.join(os.environ['OUT_PATH'],'dogs/labels/data_id_1_umap')\n",
    "models_path=osp.join(os.environ['OUT_PATH'],'dogs/training/Model_B_exp_id_1_data_id_1_umap/') \n",
    "dataset_type='valid'"
   ]
  },
  {
   "cell_type": "code",
   "execution_count": 6,
   "metadata": {},
   "outputs": [
    {
     "name": "stdout",
     "output_type": "stream",
     "text": [
      " device used: cuda\n",
      "Loading the datasets...\n",
      "Finished 'mapping_func' in 0.2572 secs\n",
      "Finished 'pop_mapping' in 0.0952 secs\n",
      "Finished 'pop_mapping' in 0.0923 secs\n",
      "Finished 'transform_data' in 33.5973 secs\n",
      "Finished '__init__' in 44.6693 secs\n",
      "Parameter count for model AuxNetwork:37553303\n",
      "Parameter count for model BiRNN:60355\n",
      "Parameter count for model logits_Block:2289\n",
      "Total parameters:37615947\n",
      "best val loss metrics : {'loss_main': 0.5517209414387235, 'loss_aux': 1.4160133832796997, 'gcd': None, 'mse': 0.5826061695494771, 'smooth_l1': 0.26564804991284524, 'weighted_loss': 0.5517209414387235}\n",
      "at epoch : 66\n",
      "train loss metrics: {'loss_main': 0.20956871436848928, 'loss_aux': 1.3196917931910426, 'gcd': None, 'mse': 0.08542019169977416, 'smooth_l1': 0.04027420185643524, 'weighted_loss': 0.2095687129282177}\n",
      "best val cp metrics : {'loss_cp': 0.6172345509855189, 'prMetrics': OrderedDict([('Precision', array(0.9375)), ('Recall', array(0.00163541)), ('Accuracy', array(0.99017645)), ('A_major', array(0.99999892)), ('BalancedAccuracy', 0.5008171643958929)])}\n",
      "train cp metrics: {'loss_cp': 0.6205542367508162, 'prMetrics': OrderedDict([('Precision', array(0.02518472)), ('Recall', array(0.85100789)), ('Accuracy', array(0.69946965)), ('A_major', array(0.69808068)), ('BalancedAccuracy', 0.7745442824262517)])}\n",
      "best val sp metrics : None\n",
      "train sp metrics: None\n",
      "best val balanced gcd metrics : None\n",
      "train balanced gcd metrics: None\n",
      "Finished 'load_model' in 2.2096 secs\n",
      "is the model on cuda? : True\n",
      "Finished 'batchLoopValid' in 2.0617 secs\n",
      "Finished 'main' in 49.3366 secs\n"
     ]
    }
   ],
   "source": [
    "config={}\n",
    "config['data.labels']=labels_path \n",
    "config['data.dir']=data_path \n",
    "config['models.dir']=models_path\n",
    "config['data.dataset_type']=dataset_type\n",
    "config['cuda']='cuda'\n",
    "config['model.loadBest']=False\n",
    "json_path = osp.join(config['models.dir'], 'params.json')\n",
    "assert osp.isfile(json_path), \"No json configuration file found at {}\".format(json_path)\n",
    "params = Params(json_path)\n",
    "params.rtnOuts=True\n",
    "params.mc_dropout=False\n",
    "params.mc_samples=100\n",
    "params.cp_tol=1\n",
    "params.balancedLoss=False\n",
    "_, _, model, _=inference.main(config, params)"
   ]
  },
  {
   "cell_type": "code",
   "execution_count": 8,
   "metadata": {
    "collapsed": true
   },
   "outputs": [],
   "source": [
    "#load dataset of admixed population\n",
    "ref_map_e=pd.read_csv(osp.join(os.environ['OUT_PATH'],'dogs/ref_map_e.tsv'), sep='\\t')\n",
    "ref_map_expt1 = pd.read_csv(osp.join(os.environ['OUT_PATH'],'dogs/ref_map_expt1.tsv'), sep='\\t')"
   ]
  },
  {
   "cell_type": "code",
   "execution_count": 9,
   "metadata": {
    "collapsed": true
   },
   "outputs": [],
   "source": [
    "ref_map_expt1=ref_map_expt1[ref_map_e.columns]"
   ]
  },
  {
   "cell_type": "code",
   "execution_count": 10,
   "metadata": {},
   "outputs": [
    {
     "data": {
      "text/plain": [
       "(                 Sample         Population Superpopulation code\n",
       " 0         AfghanHound01       Afghan Hound         Afghan Hound\n",
       " 1         AfghanHound03       Afghan Hound         Afghan Hound\n",
       " 2         AfghanHound04       Afghan Hound         Afghan Hound\n",
       " 3     AiredaleTerrier01   Airedale Terrier     Airedale Terrier\n",
       " 4     AiredaleTerrier02   Airedale Terrier     Airedale Terrier\n",
       " ..                  ...                ...                  ...\n",
       " 517            PER00758  Yorkshire Terrier    Yorkshire Terrier\n",
       " 518            PER00777  Yorkshire Terrier    Yorkshire Terrier\n",
       " 519            PER00816  Yorkshire Terrier    Yorkshire Terrier\n",
       " 520  YorkshireTerrier01  Yorkshire Terrier    Yorkshire Terrier\n",
       " 521  YorkshireTerrier02  Yorkshire Terrier    Yorkshire Terrier\n",
       " \n",
       " [522 rows x 3 columns],\n",
       "                       Sample                   Population Superpopulation code\n",
       " 0                 140447_S11             Golden Retriever            Retriever\n",
       " 1                  149323_S6           Labrador Retriever            Retriever\n",
       " 2                  152721_S5           Labrador Retriever            Retriever\n",
       " 3                  160822_S4           Labrador Retriever            Retriever\n",
       " 4                  164612_S9             Golden Retriever            Retriever\n",
       " ..                       ...                          ...                  ...\n",
       " 193  WestHighlandWhiteTerr09  West Highland White Terrier              Terrier\n",
       " 194                Whippet01                      Whippet            Greyhound\n",
       " 195               XiasiDog01                    Xiasi Dog                 East\n",
       " 196       YorkshireTerrier01            Yorkshire Terrier              Terrier\n",
       " 197       YorkshireTerrier02            Yorkshire Terrier              Terrier\n",
       " \n",
       " [198 rows x 3 columns])"
      ]
     },
     "execution_count": 10,
     "metadata": {},
     "output_type": "execute_result"
    }
   ],
   "source": [
    "ref_map_e, ref_map_expt1"
   ]
  },
  {
   "cell_type": "code",
   "execution_count": 11,
   "metadata": {
    "collapsed": true
   },
   "outputs": [],
   "source": [
    "only_admixed = ref_map_e[~ref_map_e['Sample'].isin(ref_map_expt1['Sample'])].dropna()"
   ]
  },
  {
   "cell_type": "code",
   "execution_count": 12,
   "metadata": {},
   "outputs": [
    {
     "data": {
      "text/html": [
       "<div>\n",
       "<style scoped>\n",
       "    .dataframe tbody tr th:only-of-type {\n",
       "        vertical-align: middle;\n",
       "    }\n",
       "\n",
       "    .dataframe tbody tr th {\n",
       "        vertical-align: top;\n",
       "    }\n",
       "\n",
       "    .dataframe thead th {\n",
       "        text-align: right;\n",
       "    }\n",
       "</style>\n",
       "<table border=\"1\" class=\"dataframe\">\n",
       "  <thead>\n",
       "    <tr style=\"text-align: right;\">\n",
       "      <th></th>\n",
       "      <th>Sample</th>\n",
       "      <th>Population</th>\n",
       "      <th>Superpopulation code</th>\n",
       "    </tr>\n",
       "  </thead>\n",
       "  <tbody>\n",
       "    <tr>\n",
       "      <th>3</th>\n",
       "      <td>AiredaleTerrier01</td>\n",
       "      <td>Airedale Terrier</td>\n",
       "      <td>Airedale Terrier</td>\n",
       "    </tr>\n",
       "    <tr>\n",
       "      <th>4</th>\n",
       "      <td>AiredaleTerrier02</td>\n",
       "      <td>Airedale Terrier</td>\n",
       "      <td>Airedale Terrier</td>\n",
       "    </tr>\n",
       "    <tr>\n",
       "      <th>5</th>\n",
       "      <td>AiredaleTerrier05</td>\n",
       "      <td>Airedale Terrier</td>\n",
       "      <td>Airedale Terrier</td>\n",
       "    </tr>\n",
       "    <tr>\n",
       "      <th>6</th>\n",
       "      <td>TA001</td>\n",
       "      <td>Airedale Terrier</td>\n",
       "      <td>Airedale Terrier</td>\n",
       "    </tr>\n",
       "    <tr>\n",
       "      <th>12</th>\n",
       "      <td>Bern_AlpineDachsbracke</td>\n",
       "      <td>Alpine Dachsbracke</td>\n",
       "      <td>Alpine Dachsbracke</td>\n",
       "    </tr>\n",
       "    <tr>\n",
       "      <th>...</th>\n",
       "      <td>...</td>\n",
       "      <td>...</td>\n",
       "      <td>...</td>\n",
       "    </tr>\n",
       "    <tr>\n",
       "      <th>439</th>\n",
       "      <td>IndigenousDogVietnam05</td>\n",
       "      <td>Vietnamese Indigenous Dog</td>\n",
       "      <td>Vietnamese Indigenous Dog</td>\n",
       "    </tr>\n",
       "    <tr>\n",
       "      <th>440</th>\n",
       "      <td>Vizsla01</td>\n",
       "      <td>Vizsla</td>\n",
       "      <td>Vizsla</td>\n",
       "    </tr>\n",
       "    <tr>\n",
       "      <th>441</th>\n",
       "      <td>WE006</td>\n",
       "      <td>Weimaraner</td>\n",
       "      <td>Weimaraner</td>\n",
       "    </tr>\n",
       "    <tr>\n",
       "      <th>455</th>\n",
       "      <td>MexicanHairless01</td>\n",
       "      <td>Xoloitzcuintli</td>\n",
       "      <td>Xoloitzcuintli</td>\n",
       "    </tr>\n",
       "    <tr>\n",
       "      <th>456</th>\n",
       "      <td>Xoloitzcuintli01</td>\n",
       "      <td>Xoloitzcuintli</td>\n",
       "      <td>Xoloitzcuintli</td>\n",
       "    </tr>\n",
       "  </tbody>\n",
       "</table>\n",
       "<p>339 rows × 3 columns</p>\n",
       "</div>"
      ],
      "text/plain": [
       "                     Sample                 Population  \\\n",
       "3         AiredaleTerrier01           Airedale Terrier   \n",
       "4         AiredaleTerrier02           Airedale Terrier   \n",
       "5         AiredaleTerrier05           Airedale Terrier   \n",
       "6                     TA001           Airedale Terrier   \n",
       "12   Bern_AlpineDachsbracke         Alpine Dachsbracke   \n",
       "..                      ...                        ...   \n",
       "439  IndigenousDogVietnam05  Vietnamese Indigenous Dog   \n",
       "440                Vizsla01                     Vizsla   \n",
       "441                   WE006                 Weimaraner   \n",
       "455       MexicanHairless01             Xoloitzcuintli   \n",
       "456        Xoloitzcuintli01             Xoloitzcuintli   \n",
       "\n",
       "          Superpopulation code  \n",
       "3             Airedale Terrier  \n",
       "4             Airedale Terrier  \n",
       "5             Airedale Terrier  \n",
       "6             Airedale Terrier  \n",
       "12          Alpine Dachsbracke  \n",
       "..                         ...  \n",
       "439  Vietnamese Indigenous Dog  \n",
       "440                     Vizsla  \n",
       "441                 Weimaraner  \n",
       "455             Xoloitzcuintli  \n",
       "456             Xoloitzcuintli  \n",
       "\n",
       "[339 rows x 3 columns]"
      ]
     },
     "execution_count": 12,
     "metadata": {},
     "output_type": "execute_result"
    }
   ],
   "source": [
    "only_admixed"
   ]
  },
  {
   "cell_type": "code",
   "execution_count": 13,
   "metadata": {
    "collapsed": true
   },
   "outputs": [],
   "source": [
    "#now from the vcf of expt_e, get chr22_filtered for an admixed sample\n",
    "vcf=allel.read_vcf(osp.join(os.environ['OUT_PATH'],'dogs/sm_e/chr22/chr22_filtered.vcf'))"
   ]
  },
  {
   "cell_type": "code",
   "execution_count": 14,
   "metadata": {},
   "outputs": [
    {
     "data": {
      "text/plain": [
       "(522,)"
      ]
     },
     "execution_count": 14,
     "metadata": {},
     "output_type": "execute_result"
    }
   ],
   "source": [
    "vcf['samples'].shape"
   ]
  },
  {
   "cell_type": "code",
   "execution_count": 33,
   "metadata": {
    "collapsed": true
   },
   "outputs": [],
   "source": [
    "vcf_npy=vcf2npy(osp.join(os.environ['OUT_PATH'],'dogs/sm_expt1/chr22/chr22_biallelic.vcf.gz'))"
   ]
  },
  {
   "cell_type": "code",
   "execution_count": 34,
   "metadata": {},
   "outputs": [
    {
     "data": {
      "text/plain": [
       "(396, 1870317)"
      ]
     },
     "execution_count": 34,
     "metadata": {},
     "output_type": "execute_result"
    }
   ],
   "source": [
    "vcf_npy.shape"
   ]
  },
  {
   "cell_type": "code",
   "execution_count": 29,
   "metadata": {
    "collapsed": true
   },
   "outputs": [],
   "source": [
    "i=np.where(vcf['samples']=='Xoloitzcuintli01')[0].item()\n",
    "vcf_sample=torch.tensor(vcf_npy[2*i,:params.chmlen].reshape(1,-1)).float().to(params.device)"
   ]
  },
  {
   "cell_type": "code",
   "execution_count": 30,
   "metadata": {},
   "outputs": [
    {
     "data": {
      "text/plain": [
       "torch.Size([1, 361632])"
      ]
     },
     "execution_count": 30,
     "metadata": {},
     "output_type": "execute_result"
    }
   ],
   "source": [
    "vcf_sample.shape"
   ]
  },
  {
   "cell_type": "code",
   "execution_count": 27,
   "metadata": {},
   "outputs": [
    {
     "data": {
      "text/plain": [
       "375"
      ]
     },
     "execution_count": 27,
     "metadata": {},
     "output_type": "execute_result"
    }
   ],
   "source": [
    "params.n_win"
   ]
  },
  {
   "cell_type": "code",
   "execution_count": 28,
   "metadata": {},
   "outputs": [
    {
     "ename": "RuntimeError",
     "evalue": "size mismatch, m1: [1 x 632], m2: [1000 x 100] at /pytorch/aten/src/THC/generic/THCTensorMathBlas.cu:290",
     "output_type": "error",
     "traceback": [
      "\u001b[0;31m---------------------------------------------------------------------------\u001b[0m",
      "\u001b[0;31mRuntimeError\u001b[0m                              Traceback (most recent call last)",
      "\u001b[0;32m<ipython-input-28-4d20bb38b0ef>\u001b[0m in \u001b[0;36m<module>\u001b[0;34m()\u001b[0m\n\u001b[0;32m----> 1\u001b[0;31m \u001b[0mtest_results\u001b[0m\u001b[0;34m=\u001b[0m\u001b[0mmodel\u001b[0m\u001b[0;34m(\u001b[0m\u001b[0mvcf_sample\u001b[0m\u001b[0;34m,\u001b[0m \u001b[0mmask\u001b[0m\u001b[0;34m=\u001b[0m\u001b[0mtorch\u001b[0m\u001b[0;34m.\u001b[0m\u001b[0mones\u001b[0m\u001b[0;34m(\u001b[0m\u001b[0;36m1\u001b[0m\u001b[0;34m,\u001b[0m\u001b[0mparams\u001b[0m\u001b[0;34m.\u001b[0m\u001b[0mn_win\u001b[0m\u001b[0;34m)\u001b[0m\u001b[0;34m.\u001b[0m\u001b[0mto\u001b[0m\u001b[0;34m(\u001b[0m\u001b[0mparams\u001b[0m\u001b[0;34m.\u001b[0m\u001b[0mdevice\u001b[0m\u001b[0;34m)\u001b[0m\u001b[0;34m)\u001b[0m\u001b[0;34m\u001b[0m\u001b[0m\n\u001b[0m",
      "\u001b[0;32m/share/software/user/open/py-pytorch/1.4.0_py36/lib/python3.6/site-packages/torch/nn/modules/module.py\u001b[0m in \u001b[0;36m__call__\u001b[0;34m(self, *input, **kwargs)\u001b[0m\n\u001b[1;32m    530\u001b[0m             \u001b[0mresult\u001b[0m \u001b[0;34m=\u001b[0m \u001b[0mself\u001b[0m\u001b[0;34m.\u001b[0m\u001b[0m_slow_forward\u001b[0m\u001b[0;34m(\u001b[0m\u001b[0;34m*\u001b[0m\u001b[0minput\u001b[0m\u001b[0;34m,\u001b[0m \u001b[0;34m**\u001b[0m\u001b[0mkwargs\u001b[0m\u001b[0;34m)\u001b[0m\u001b[0;34m\u001b[0m\u001b[0m\n\u001b[1;32m    531\u001b[0m         \u001b[0;32melse\u001b[0m\u001b[0;34m:\u001b[0m\u001b[0;34m\u001b[0m\u001b[0m\n\u001b[0;32m--> 532\u001b[0;31m             \u001b[0mresult\u001b[0m \u001b[0;34m=\u001b[0m \u001b[0mself\u001b[0m\u001b[0;34m.\u001b[0m\u001b[0mforward\u001b[0m\u001b[0;34m(\u001b[0m\u001b[0;34m*\u001b[0m\u001b[0minput\u001b[0m\u001b[0;34m,\u001b[0m \u001b[0;34m**\u001b[0m\u001b[0mkwargs\u001b[0m\u001b[0;34m)\u001b[0m\u001b[0;34m\u001b[0m\u001b[0m\n\u001b[0m\u001b[1;32m    533\u001b[0m         \u001b[0;32mfor\u001b[0m \u001b[0mhook\u001b[0m \u001b[0;32min\u001b[0m \u001b[0mself\u001b[0m\u001b[0;34m.\u001b[0m\u001b[0m_forward_hooks\u001b[0m\u001b[0;34m.\u001b[0m\u001b[0mvalues\u001b[0m\u001b[0;34m(\u001b[0m\u001b[0;34m)\u001b[0m\u001b[0;34m:\u001b[0m\u001b[0;34m\u001b[0m\u001b[0m\n\u001b[1;32m    534\u001b[0m             \u001b[0mhook_result\u001b[0m \u001b[0;34m=\u001b[0m \u001b[0mhook\u001b[0m\u001b[0;34m(\u001b[0m\u001b[0mself\u001b[0m\u001b[0;34m,\u001b[0m \u001b[0minput\u001b[0m\u001b[0;34m,\u001b[0m \u001b[0mresult\u001b[0m\u001b[0;34m)\u001b[0m\u001b[0;34m\u001b[0m\u001b[0m\n",
      "\u001b[0;32m~/Ge2Net_Repo/src/models/Model_B.py\u001b[0m in \u001b[0;36mforward\u001b[0;34m(self, x, mask, **kwargs)\u001b[0m\n\u001b[1;32m     62\u001b[0m \u001b[0;34m\u001b[0m\u001b[0m\n\u001b[1;32m     63\u001b[0m         \u001b[0;32mif\u001b[0m \u001b[0mmc_dropout\u001b[0m \u001b[0;32mis\u001b[0m \u001b[0;32mNone\u001b[0m\u001b[0;34m:\u001b[0m\u001b[0;34m\u001b[0m\u001b[0m\n\u001b[0;32m---> 64\u001b[0;31m             \u001b[0mouts\u001b[0m\u001b[0;34m,\u001b[0m \u001b[0mout_nxt\u001b[0m \u001b[0;34m=\u001b[0m \u001b[0m_forwardNet\u001b[0m\u001b[0;34m(\u001b[0m\u001b[0mx\u001b[0m\u001b[0;34m)\u001b[0m\u001b[0;34m\u001b[0m\u001b[0m\n\u001b[0m\u001b[1;32m     65\u001b[0m             \u001b[0mouts\u001b[0m\u001b[0;34m.\u001b[0m\u001b[0mcoord_mainLs\u001b[0m\u001b[0;34m=\u001b[0m\u001b[0;34m[\u001b[0m\u001b[0mouts\u001b[0m\u001b[0;34m.\u001b[0m\u001b[0mcoord_main\u001b[0m\u001b[0;34m]\u001b[0m\u001b[0;34m\u001b[0m\u001b[0m\n\u001b[1;32m     66\u001b[0m         \u001b[0;32melse\u001b[0m\u001b[0;34m:\u001b[0m\u001b[0;34m\u001b[0m\u001b[0m\n",
      "\u001b[0;32m~/Ge2Net_Repo/src/models/Model_B.py\u001b[0m in \u001b[0;36m_forwardNet\u001b[0;34m(x)\u001b[0m\n\u001b[1;32m     48\u001b[0m         \u001b[0;31m# Run Aux and LSTM Network\u001b[0m\u001b[0;34m\u001b[0m\u001b[0;34m\u001b[0m\u001b[0m\n\u001b[1;32m     49\u001b[0m         \u001b[0;32mdef\u001b[0m \u001b[0m_forwardNet\u001b[0m\u001b[0;34m(\u001b[0m\u001b[0mx\u001b[0m\u001b[0;34m)\u001b[0m\u001b[0;34m:\u001b[0m\u001b[0;34m\u001b[0m\u001b[0m\n\u001b[0;32m---> 50\u001b[0;31m             \u001b[0mout1\u001b[0m\u001b[0;34m,\u001b[0m \u001b[0m_\u001b[0m\u001b[0;34m,\u001b[0m \u001b[0m_\u001b[0m\u001b[0;34m,\u001b[0m \u001b[0mout4\u001b[0m \u001b[0;34m=\u001b[0m \u001b[0mself\u001b[0m\u001b[0;34m.\u001b[0m\u001b[0maux\u001b[0m\u001b[0;34m(\u001b[0m\u001b[0mx\u001b[0m\u001b[0;34m)\u001b[0m\u001b[0;34m\u001b[0m\u001b[0m\n\u001b[0m\u001b[1;32m     51\u001b[0m             \u001b[0mout1\u001b[0m \u001b[0;34m=\u001b[0m \u001b[0mout1\u001b[0m\u001b[0;34m.\u001b[0m\u001b[0mreshape\u001b[0m\u001b[0;34m(\u001b[0m\u001b[0mx\u001b[0m\u001b[0;34m.\u001b[0m\u001b[0mshape\u001b[0m\u001b[0;34m[\u001b[0m\u001b[0;36m0\u001b[0m\u001b[0;34m]\u001b[0m\u001b[0;34m,\u001b[0m \u001b[0mself\u001b[0m\u001b[0;34m.\u001b[0m\u001b[0mparams\u001b[0m\u001b[0;34m.\u001b[0m\u001b[0mn_win\u001b[0m\u001b[0;34m,\u001b[0m \u001b[0mself\u001b[0m\u001b[0;34m.\u001b[0m\u001b[0mparams\u001b[0m\u001b[0;34m.\u001b[0m\u001b[0maux_net_hidden\u001b[0m\u001b[0;34m)\u001b[0m\u001b[0;34m\u001b[0m\u001b[0m\n\u001b[1;32m     52\u001b[0m \u001b[0;34m\u001b[0m\u001b[0m\n",
      "\u001b[0;32m/share/software/user/open/py-pytorch/1.4.0_py36/lib/python3.6/site-packages/torch/nn/modules/module.py\u001b[0m in \u001b[0;36m__call__\u001b[0;34m(self, *input, **kwargs)\u001b[0m\n\u001b[1;32m    530\u001b[0m             \u001b[0mresult\u001b[0m \u001b[0;34m=\u001b[0m \u001b[0mself\u001b[0m\u001b[0;34m.\u001b[0m\u001b[0m_slow_forward\u001b[0m\u001b[0;34m(\u001b[0m\u001b[0;34m*\u001b[0m\u001b[0minput\u001b[0m\u001b[0;34m,\u001b[0m \u001b[0;34m**\u001b[0m\u001b[0mkwargs\u001b[0m\u001b[0;34m)\u001b[0m\u001b[0;34m\u001b[0m\u001b[0m\n\u001b[1;32m    531\u001b[0m         \u001b[0;32melse\u001b[0m\u001b[0;34m:\u001b[0m\u001b[0;34m\u001b[0m\u001b[0m\n\u001b[0;32m--> 532\u001b[0;31m             \u001b[0mresult\u001b[0m \u001b[0;34m=\u001b[0m \u001b[0mself\u001b[0m\u001b[0;34m.\u001b[0m\u001b[0mforward\u001b[0m\u001b[0;34m(\u001b[0m\u001b[0;34m*\u001b[0m\u001b[0minput\u001b[0m\u001b[0;34m,\u001b[0m \u001b[0;34m**\u001b[0m\u001b[0mkwargs\u001b[0m\u001b[0;34m)\u001b[0m\u001b[0;34m\u001b[0m\u001b[0m\n\u001b[0m\u001b[1;32m    533\u001b[0m         \u001b[0;32mfor\u001b[0m \u001b[0mhook\u001b[0m \u001b[0;32min\u001b[0m \u001b[0mself\u001b[0m\u001b[0;34m.\u001b[0m\u001b[0m_forward_hooks\u001b[0m\u001b[0;34m.\u001b[0m\u001b[0mvalues\u001b[0m\u001b[0;34m(\u001b[0m\u001b[0;34m)\u001b[0m\u001b[0;34m:\u001b[0m\u001b[0;34m\u001b[0m\u001b[0m\n\u001b[1;32m    534\u001b[0m             \u001b[0mhook_result\u001b[0m \u001b[0;34m=\u001b[0m \u001b[0mhook\u001b[0m\u001b[0;34m(\u001b[0m\u001b[0mself\u001b[0m\u001b[0;34m,\u001b[0m \u001b[0minput\u001b[0m\u001b[0;34m,\u001b[0m \u001b[0mresult\u001b[0m\u001b[0;34m)\u001b[0m\u001b[0;34m\u001b[0m\u001b[0m\n",
      "\u001b[0;32m~/Ge2Net_Repo/src/models/AuxiliaryTask.py\u001b[0m in \u001b[0;36mforward\u001b[0;34m(self, x)\u001b[0m\n\u001b[1;32m     44\u001b[0m \u001b[0;34m\u001b[0m\u001b[0m\n\u001b[1;32m     45\u001b[0m         \u001b[0;32mfor\u001b[0m \u001b[0mi\u001b[0m \u001b[0;32min\u001b[0m \u001b[0mrange\u001b[0m\u001b[0;34m(\u001b[0m\u001b[0mself\u001b[0m\u001b[0;34m.\u001b[0m\u001b[0mn_win\u001b[0m\u001b[0;34m)\u001b[0m\u001b[0;34m:\u001b[0m\u001b[0;34m\u001b[0m\u001b[0m\n\u001b[0;32m---> 46\u001b[0;31m             \u001b[0mout_1\u001b[0m\u001b[0;34m[\u001b[0m\u001b[0;34m:\u001b[0m\u001b[0;34m,\u001b[0m \u001b[0;36m0\u001b[0m\u001b[0;34m:\u001b[0m\u001b[0mself\u001b[0m\u001b[0;34m.\u001b[0m\u001b[0mhidden_unit\u001b[0m\u001b[0;34m,\u001b[0m \u001b[0mi\u001b[0m\u001b[0;34m]\u001b[0m \u001b[0;34m=\u001b[0m \u001b[0mself\u001b[0m\u001b[0;34m.\u001b[0m\u001b[0mlinears\u001b[0m\u001b[0;34m[\u001b[0m\u001b[0mi\u001b[0m\u001b[0;34m]\u001b[0m\u001b[0;34m(\u001b[0m\u001b[0mx\u001b[0m\u001b[0;34m[\u001b[0m\u001b[0;34m:\u001b[0m\u001b[0;34m,\u001b[0m \u001b[0mi\u001b[0m \u001b[0;34m*\u001b[0m \u001b[0mself\u001b[0m\u001b[0;34m.\u001b[0m\u001b[0minput\u001b[0m\u001b[0;34m:\u001b[0m\u001b[0;34m(\u001b[0m\u001b[0mi\u001b[0m \u001b[0;34m+\u001b[0m \u001b[0;36m1\u001b[0m\u001b[0;34m)\u001b[0m \u001b[0;34m*\u001b[0m \u001b[0mself\u001b[0m\u001b[0;34m.\u001b[0m\u001b[0minput\u001b[0m\u001b[0;34m]\u001b[0m\u001b[0;34m.\u001b[0m\u001b[0mclone\u001b[0m\u001b[0;34m(\u001b[0m\u001b[0;34m)\u001b[0m\u001b[0;34m)\u001b[0m\u001b[0;34m\u001b[0m\u001b[0m\n\u001b[0m\u001b[1;32m     47\u001b[0m \u001b[0;34m\u001b[0m\u001b[0m\n\u001b[1;32m     48\u001b[0m         \u001b[0mout_1\u001b[0m \u001b[0;34m=\u001b[0m \u001b[0mself\u001b[0m\u001b[0;34m.\u001b[0m\u001b[0mdropout\u001b[0m\u001b[0;34m(\u001b[0m\u001b[0mout_1\u001b[0m\u001b[0;34m)\u001b[0m  \u001b[0;31m# shape 256x100x317\u001b[0m\u001b[0;34m\u001b[0m\u001b[0m\n",
      "\u001b[0;32m/share/software/user/open/py-pytorch/1.4.0_py36/lib/python3.6/site-packages/torch/nn/modules/module.py\u001b[0m in \u001b[0;36m__call__\u001b[0;34m(self, *input, **kwargs)\u001b[0m\n\u001b[1;32m    530\u001b[0m             \u001b[0mresult\u001b[0m \u001b[0;34m=\u001b[0m \u001b[0mself\u001b[0m\u001b[0;34m.\u001b[0m\u001b[0m_slow_forward\u001b[0m\u001b[0;34m(\u001b[0m\u001b[0;34m*\u001b[0m\u001b[0minput\u001b[0m\u001b[0;34m,\u001b[0m \u001b[0;34m**\u001b[0m\u001b[0mkwargs\u001b[0m\u001b[0;34m)\u001b[0m\u001b[0;34m\u001b[0m\u001b[0m\n\u001b[1;32m    531\u001b[0m         \u001b[0;32melse\u001b[0m\u001b[0;34m:\u001b[0m\u001b[0;34m\u001b[0m\u001b[0m\n\u001b[0;32m--> 532\u001b[0;31m             \u001b[0mresult\u001b[0m \u001b[0;34m=\u001b[0m \u001b[0mself\u001b[0m\u001b[0;34m.\u001b[0m\u001b[0mforward\u001b[0m\u001b[0;34m(\u001b[0m\u001b[0;34m*\u001b[0m\u001b[0minput\u001b[0m\u001b[0;34m,\u001b[0m \u001b[0;34m**\u001b[0m\u001b[0mkwargs\u001b[0m\u001b[0;34m)\u001b[0m\u001b[0;34m\u001b[0m\u001b[0m\n\u001b[0m\u001b[1;32m    533\u001b[0m         \u001b[0;32mfor\u001b[0m \u001b[0mhook\u001b[0m \u001b[0;32min\u001b[0m \u001b[0mself\u001b[0m\u001b[0;34m.\u001b[0m\u001b[0m_forward_hooks\u001b[0m\u001b[0;34m.\u001b[0m\u001b[0mvalues\u001b[0m\u001b[0;34m(\u001b[0m\u001b[0;34m)\u001b[0m\u001b[0;34m:\u001b[0m\u001b[0;34m\u001b[0m\u001b[0m\n\u001b[1;32m    534\u001b[0m             \u001b[0mhook_result\u001b[0m \u001b[0;34m=\u001b[0m \u001b[0mhook\u001b[0m\u001b[0;34m(\u001b[0m\u001b[0mself\u001b[0m\u001b[0;34m,\u001b[0m \u001b[0minput\u001b[0m\u001b[0;34m,\u001b[0m \u001b[0mresult\u001b[0m\u001b[0;34m)\u001b[0m\u001b[0;34m\u001b[0m\u001b[0m\n",
      "\u001b[0;32m/share/software/user/open/py-pytorch/1.4.0_py36/lib/python3.6/site-packages/torch/nn/modules/linear.py\u001b[0m in \u001b[0;36mforward\u001b[0;34m(self, input)\u001b[0m\n\u001b[1;32m     85\u001b[0m \u001b[0;34m\u001b[0m\u001b[0m\n\u001b[1;32m     86\u001b[0m     \u001b[0;32mdef\u001b[0m \u001b[0mforward\u001b[0m\u001b[0;34m(\u001b[0m\u001b[0mself\u001b[0m\u001b[0;34m,\u001b[0m \u001b[0minput\u001b[0m\u001b[0;34m)\u001b[0m\u001b[0;34m:\u001b[0m\u001b[0;34m\u001b[0m\u001b[0m\n\u001b[0;32m---> 87\u001b[0;31m         \u001b[0;32mreturn\u001b[0m \u001b[0mF\u001b[0m\u001b[0;34m.\u001b[0m\u001b[0mlinear\u001b[0m\u001b[0;34m(\u001b[0m\u001b[0minput\u001b[0m\u001b[0;34m,\u001b[0m \u001b[0mself\u001b[0m\u001b[0;34m.\u001b[0m\u001b[0mweight\u001b[0m\u001b[0;34m,\u001b[0m \u001b[0mself\u001b[0m\u001b[0;34m.\u001b[0m\u001b[0mbias\u001b[0m\u001b[0;34m)\u001b[0m\u001b[0;34m\u001b[0m\u001b[0m\n\u001b[0m\u001b[1;32m     88\u001b[0m \u001b[0;34m\u001b[0m\u001b[0m\n\u001b[1;32m     89\u001b[0m     \u001b[0;32mdef\u001b[0m \u001b[0mextra_repr\u001b[0m\u001b[0;34m(\u001b[0m\u001b[0mself\u001b[0m\u001b[0;34m)\u001b[0m\u001b[0;34m:\u001b[0m\u001b[0;34m\u001b[0m\u001b[0m\n",
      "\u001b[0;32m/share/software/user/open/py-pytorch/1.4.0_py36/lib/python3.6/site-packages/torch/nn/functional.py\u001b[0m in \u001b[0;36mlinear\u001b[0;34m(input, weight, bias)\u001b[0m\n\u001b[1;32m   1368\u001b[0m     \u001b[0;32mif\u001b[0m \u001b[0minput\u001b[0m\u001b[0;34m.\u001b[0m\u001b[0mdim\u001b[0m\u001b[0;34m(\u001b[0m\u001b[0;34m)\u001b[0m \u001b[0;34m==\u001b[0m \u001b[0;36m2\u001b[0m \u001b[0;32mand\u001b[0m \u001b[0mbias\u001b[0m \u001b[0;32mis\u001b[0m \u001b[0;32mnot\u001b[0m \u001b[0;32mNone\u001b[0m\u001b[0;34m:\u001b[0m\u001b[0;34m\u001b[0m\u001b[0m\n\u001b[1;32m   1369\u001b[0m         \u001b[0;31m# fused op is marginally faster\u001b[0m\u001b[0;34m\u001b[0m\u001b[0;34m\u001b[0m\u001b[0m\n\u001b[0;32m-> 1370\u001b[0;31m         \u001b[0mret\u001b[0m \u001b[0;34m=\u001b[0m \u001b[0mtorch\u001b[0m\u001b[0;34m.\u001b[0m\u001b[0maddmm\u001b[0m\u001b[0;34m(\u001b[0m\u001b[0mbias\u001b[0m\u001b[0;34m,\u001b[0m \u001b[0minput\u001b[0m\u001b[0;34m,\u001b[0m \u001b[0mweight\u001b[0m\u001b[0;34m.\u001b[0m\u001b[0mt\u001b[0m\u001b[0;34m(\u001b[0m\u001b[0;34m)\u001b[0m\u001b[0;34m)\u001b[0m\u001b[0;34m\u001b[0m\u001b[0m\n\u001b[0m\u001b[1;32m   1371\u001b[0m     \u001b[0;32melse\u001b[0m\u001b[0;34m:\u001b[0m\u001b[0;34m\u001b[0m\u001b[0m\n\u001b[1;32m   1372\u001b[0m         \u001b[0moutput\u001b[0m \u001b[0;34m=\u001b[0m \u001b[0minput\u001b[0m\u001b[0;34m.\u001b[0m\u001b[0mmatmul\u001b[0m\u001b[0;34m(\u001b[0m\u001b[0mweight\u001b[0m\u001b[0;34m.\u001b[0m\u001b[0mt\u001b[0m\u001b[0;34m(\u001b[0m\u001b[0;34m)\u001b[0m\u001b[0;34m)\u001b[0m\u001b[0;34m\u001b[0m\u001b[0m\n",
      "\u001b[0;31mRuntimeError\u001b[0m: size mismatch, m1: [1 x 632], m2: [1000 x 100] at /pytorch/aten/src/THC/generic/THCTensorMathBlas.cu:290"
     ]
    }
   ],
   "source": [
    "test_results=model(vcf_sample, mask=torch.ones(1,params.n_win).to(params.device))"
   ]
  },
  {
   "cell_type": "code",
   "execution_count": null,
   "metadata": {
    "collapsed": true
   },
   "outputs": [],
   "source": [
    "test_results"
   ]
  },
  {
   "cell_type": "code",
   "execution_count": null,
   "metadata": {},
   "outputs": [],
   "source": [
    "y_pred = test_results.t_out.coord_main\n",
    "n_vec_dim=y_pred.shape[-1]\n",
    "data_tensor = torch.tensor(y_pred).float()\n",
    "batch_size_cpd = data_tensor.shape[0]\n",
    "mu_prior = torch.zeros((batch_size_cpd, 1,n_vec_dim))\n",
    "mean_var=torch.mean(torch.var(data_tensor, dim =1),dim=0).unsqueeze(0)\n",
    "cov_prior = (mean_var.repeat(batch_size_cpd,1).unsqueeze(1)* torch.eye(n_vec_dim)).reshape(batch_size_cpd,1,n_vec_dim,n_vec_dim)\n",
    "cov_x = cov_prior\n",
    "likelihood_model = Multivariate_Gaussian(mu_prior, cov_prior, cov_x)\n",
    "T = params.n_win\n",
    "model_cpd = BOCD.BOCD(None, T, likelihood_model, batch_size_cpd)\n",
    "_,_,_,_=model_cpd.run_recursive(data_tensor, 'cpu')"
   ]
  },
  {
   "cell_type": "code",
   "execution_count": null,
   "metadata": {
    "collapsed": true
   },
   "outputs": [],
   "source": [
    "granular_pop_dict = load_path(osp.join(labels_path, 'granular_pop.pkl'), en_pickle=True)\n",
    "superop_dict=load_path(osp.join(labels_path, 'superpop.pkl'), en_pickle=True)\n",
    "pop_sample_map=pd.read_csv(osp.join(labels_path, 'pop_sample_map.tsv'),sep=\"\\t\")\n",
    "pop_arr=repeat_pop_arr(pop_sample_map)\n",
    "cp_target=valid_dataset.data['cps']\n",
    "seqlen=cp_target.shape[1]\n",
    "rev_pop_dict={v:k for k,v in granular_pop_dict.items()}\n",
    "rev_sp_dict={v:k for k,v in superop_dict.items()}"
   ]
  },
  {
   "cell_type": "code",
   "execution_count": null,
   "metadata": {
    "scrolled": false
   },
   "outputs": [],
   "source": [
    "# index = 2500\n",
    "# index=2620\n",
    "# index=51\n",
    "# index=3000\n",
    "# index=3100\n",
    "# index=2445\n",
    "index=np.random.choice(idxOfInterest)\n",
    "print(index)\n",
    "true_cpsSample=cp_target[index,:]\n",
    "y_predSample=results.t_out.coord_main[index,:]\n",
    "y_trueSample=valid_dataset.data['y'][index,:]\n",
    "granularpopSample=valid_dataset.data['granular_pop'][index,:]\n",
    "namesSample=[rev_pop_dict[i] for i in granularpopSample.astype(int)]\n",
    "superPopSample=valid_dataset.data['superpop'][index,:]\n",
    "SpNamesSample=[rev_sp_dict[i] for i in superPopSample.astype(int)]"
   ]
  },
  {
   "cell_type": "code",
   "execution_count": null,
   "metadata": {},
   "outputs": [],
   "source": [
    "y_predSample.shape"
   ]
  },
  {
   "cell_type": "code",
   "execution_count": null,
   "metadata": {
    "collapsed": true
   },
   "outputs": [],
   "source": [
    "pred_cps=getCpPred(cpMethod.gradient.name, y_predSample, 0.1, 1, len(true_cpsSample))\n",
    "pred_cps=pred_cps.squeeze(0).detach().cpu().numpy()# squeeze the batch dimension of 1"
   ]
  },
  {
   "cell_type": "code",
   "execution_count": null,
   "metadata": {
    "collapsed": true
   },
   "outputs": [],
   "source": [
    "predBOCDSample=model_cpd.cp[index,:]\n",
    "pred_cps_BOCD=getCpPred(cpMethod.BOCD.name, predBOCDSample, 5.0, 1, len(true_cpsSample))\n",
    "pred_cps_BOCD=pred_cps_BOCD.squeeze(0).detach().cpu().numpy()# squeeze the batch dimension of 1"
   ]
  },
  {
   "cell_type": "code",
   "execution_count": null,
   "metadata": {
    "collapsed": true
   },
   "outputs": [],
   "source": [
    "cpIdx=np.nonzero(pred_cps_BOCD)[0]\n",
    "remWin=3\n",
    "for i in cpIdx:\n",
    "    low=max(0,i-remWin)\n",
    "    high=min(seqlen, i+remWin)\n",
    "    pred_cps_BOCD[low:high]=1"
   ]
  },
  {
   "cell_type": "code",
   "execution_count": null,
   "metadata": {},
   "outputs": [],
   "source": [
    "mappedSpArr=nearestNeighbourMapping(labels_path, y_predSample.reshape(-1,3))"
   ]
  },
  {
   "cell_type": "code",
   "execution_count": null,
   "metadata": {},
   "outputs": [],
   "source": [
    "mappedSpArr.shape"
   ]
  },
  {
   "cell_type": "code",
   "execution_count": null,
   "metadata": {
    "collapsed": true
   },
   "outputs": [],
   "source": [
    "y_predsTrue=valid_dataset.data['y'].reshape(-1,3)\n",
    "superpopsTrue=valid_dataset.data['superpop'].reshape(-1,)"
   ]
  },
  {
   "cell_type": "code",
   "execution_count": null,
   "metadata": {
    "collapsed": true
   },
   "outputs": [],
   "source": [
    "@timer\n",
    "def plot_sample(granularPopSample, y_predSample, y_trueSample, **kwargs):\n",
    "    backgroundAxis=kwargs.get('backgroundAxis')\n",
    "    y_predCps=kwargs.get('y_predCps')\n",
    "    y_preds=kwargs.get('y_preds')\n",
    "    superpops=kwargs.get('superpops')\n",
    "    cpShow=kwargs.get('cpShow')\n",
    "    pred_cps=kwargs.get('pred_cps')\n",
    "    mappedSpArr=kwargs.get('mappedSpArr')\n",
    "    superPopSample=kwargs.get('superPopSample')\n",
    "    \n",
    "    \n",
    "    fig, ax = plt.subplots(figsize=(12,14))\n",
    "    plt.rcParams['hatch.color']='grey'\n",
    "    \n",
    "    gs1 = fig.add_gridspec(nrows=3, ncols=1, height_ratios=[13,1,1])\n",
    "    ax1=fig.add_subplot(gs1[0],projection='3d')\n",
    "    ax1.set_xlim(np.array([-2,2])*.77)\n",
    "    ax1.set_ylim(np.array([-2,2])*.77)\n",
    "    ax1.set_zlim(np.array([-2,2])*.77)\n",
    "    ax2=fig.add_subplot(gs1[1])\n",
    "    ax3=fig.add_subplot(gs1[2])\n",
    "    for axis in [ax, ax2, ax3]:\n",
    "        axis.set_yticks([])\n",
    "        axis.spines['top'].set_color('none')\n",
    "        axis.spines['left'].set_color('none')\n",
    "        axis.spines['right'].set_color('none')\n",
    "    ax.set_xticks([])\n",
    "    fig.subplots_adjust(left=0, right=0.5, bottom=0, top=0.5)\n",
    "    plt.subplots_adjust(hspace=0.01)\n",
    "    \n",
    "    if backgroundAxis:\n",
    "        lgnd, colorsPop_sp_dict =plot_all(ax1, y_preds, superpops, cpShow=False)\n",
    "    else:\n",
    "        continentaPops=list(superop_dict.values())\n",
    "        colorsPop_sp = sns.color_palette(\"bright\", 10)\n",
    "#         del colorsPop_sp[1]\n",
    "#         del colorsPop_sp[4]\n",
    "#         del colorsPop_sp[5]\n",
    "        colorsPop_sp_dict = {k:v for k,v in zip(continentaPops, colorsPop_sp)}\n",
    "        patches=[]\n",
    "        for k, val in superop_dict.items():\n",
    "            patches.append(mpatches.Patch(color = colorsPop_sp_dict[val], label = k))\n",
    "        lgnd = ax1.legend(handles=patches, loc=\"upper right\", fontsize=15, bbox_to_anchor=(-0.15, 0.49, 1., .5))\n",
    "\n",
    "    ax1.add_artist(lgnd)\n",
    "    #colors_pop = sns.color_palette(\"rainbow\", len(np.unique(granularPopSample)))\n",
    "    #colors_pop_dict = {k:v for k,v in zip(np.unique(granularPopSample), colors_pop)}\n",
    "    colors_Gp_dict,_,_=getColorsPop(granularpopSample, superPopSample, colorsPop_sp_dict)\n",
    "    colors_pop_dict=colors_Gp_dict\n",
    "    \n",
    "    alpha=[1]*len(y_predSample)\n",
    "    if cpShow is None:\n",
    "        unknownIdx=np.nonzero(pred_cps)[0]\n",
    "        print(f\"number of changepoints removed:{len(unknownIdx)},{len(unknownIdx)/len(y_predSample)}\")\n",
    "        granularPopNames=[\"UNK\" if i in unknownIdx else granularPopSample[i] for i in range(len(granularPopSample))]\n",
    "        colors_pop_dict[\"UNK\"]=(0.9,0.9,0.9) # grey color\n",
    "        mappedSpArr[unknownIdx]=-1\n",
    "        colorsPop_sp_dict[-1]=(0.9,0.9,0.9) # grey color\n",
    "        knownIdx=[i for i in range(len(granularPopNames)) if granularPopNames[i]!=\"UNK\"]\n",
    "    \n",
    "    #predictions\n",
    "    ax1.scatter(y_predSample[knownIdx,0], y_predSample[knownIdx,1], y_predSample[knownIdx,2],\\\n",
    "    color = [tuple(colors_pop_dict[x])+(y,) for x,y in zip([granularPopNames[i] for i in knownIdx], alpha)], s=50, zorder=0)\n",
    "    #changepoints\n",
    "    ax1.scatter(y_predSample[unknownIdx,0], y_predSample[unknownIdx,1], y_predSample[unknownIdx,2], facecolor='grey', hatch=3*'+',\\\n",
    "    color = [tuple(colors_pop_dict[x])+(y,) for x,y in zip([granularPopNames[i] for i in unknownIdx], alpha)], s=50, zorder=0, marker=\"D\") \n",
    "    \n",
    "    #ToDo: plot only the unique trueSample instead of all the windows\n",
    "    ax1.scatter(y_trueSample[:,0], y_trueSample[:,1], y_trueSample[:,2], linewidth=1, \\\n",
    "    color = [tuple(colors_pop_dict[x]) for x in granularPopSample], marker='X', s=200, zorder=0)\n",
    "    \n",
    "    for axis in [ax1.xaxis, ax1.yaxis, ax1.zaxis]:\n",
    "        axis.set_pane_color((1.0, 1.0, 1.0, 0.0))\n",
    "        axis._axinfo[\"grid\"]['color'] = (1,1,1,0)\n",
    "    patches=[]\n",
    "    for i, val in enumerate(np.unique(granularPopSample)):\n",
    "        patches.append(mpatches.Patch(color = colors_pop_dict[val], label = rev_pop_dict[val]))\n",
    "    patches.append(mpatches.Patch(facecolor = (0.9,0.9,0.9), label = \"Changepoint\", hatch=3*'+')) #add UNK legend patch separately\n",
    "    ax1.legend(handles=patches, loc=\"upper left\", fontsize=20)\n",
    "    \n",
    "    #chm plot ground truth\n",
    "    ax2.bar(np.arange(len(y_trueSample)),\\\n",
    "    color=[colors_pop_dict[x] for x in granularPopSample], width=1.0, height=1.02)\n",
    "    ax2.set_title('Labeled Chromosome22', fontsize=30, y=0.3)\n",
    "    \n",
    "    #chm plot of predictions\n",
    "    ax3.bar(knownIdx, 1.02*np.ones(len(mappedSpArr[knownIdx])), \\\n",
    "            color=[colorsPop_sp_dict[x]+(y,) for x,y in zip(mappedSpArr[knownIdx],alpha)], \\\n",
    "            width=1.0)\n",
    "    ax3.bar(unknownIdx, 1.02*np.ones(len(mappedSpArr[unknownIdx])), \\\n",
    "        color=[colorsPop_sp_dict[x]+(y,) for x,y in zip(mappedSpArr[unknownIdx],alpha)], \\\n",
    "        width=1.0, hatch=3*\"+\")\n",
    "    ax3.set_title('Predicted Chromosome22', fontsize=30, y=0.3)\n",
    "    \n",
    "    for ax in [ax2, ax3]:\n",
    "        ax.xaxis.set_major_locator(ticker.MultipleLocator(1.0))\n",
    "        ax.xaxis.set_minor_locator(ticker.MultipleLocator(4))\n",
    "        ax.xaxis.set_ticks_position('bottom')\n",
    "        ax.tick_params(which='major', width=2, length=10, labelsize=25)\n",
    "        ax.tick_params(which='minor', width=2, length=6, labelsize=10)\n",
    "        ax.set_xlim(0, params.n_win)\n",
    "        ax.set_ylim(0.99,1.09)\n",
    "        positions = [0, 160, 300]\n",
    "        x_labels = [0, 150000, 317000]\n",
    "        ax.xaxis.set_major_locator(ticker.FixedLocator(positions))\n",
    "        ax.xaxis.set_major_formatter(ticker.FixedFormatter(x_labels))\n",
    "    \n",
    "    plt.tight_layout(pad=0.4, w_pad=0.3, h_pad=0.3)\n",
    "    plt.show()\n",
    "    plt.close('all')"
   ]
  },
  {
   "cell_type": "code",
   "execution_count": null,
   "metadata": {
    "scrolled": false
   },
   "outputs": [],
   "source": [
    "plot_sample(granularpopSample, y_predSample, y_trueSample, pred_cps=pred_cps_BOCD, mappedSpArr=mappedSpArr, \\\n",
    "backgroundAxis=True, y_preds=y_predsTrue, superpops=superpopsTrue, superPopSample=superPopSample)"
   ]
  },
  {
   "cell_type": "code",
   "execution_count": null,
   "metadata": {
    "collapsed": true
   },
   "outputs": [],
   "source": [
    "@timer\n",
    "def plot_all(ax, y_preds, superpops, **kwargs):\n",
    "    cpShow=kwargs.get('cpShow')\n",
    "    pred_cps=kwargs.get('pred_cps')    \n",
    "    continentaPops=list(superop_dict.values())\n",
    "    colors_pop = sns.color_palette(\"bright\", 10)\n",
    "#     del colors_pop[1]\n",
    "#     del colors_pop[4]\n",
    "#     del colors_pop[5]\n",
    "    colors_pop_dict = {k:v for k,v in zip(continentaPops, colors_pop)}\n",
    "    \n",
    "    alpha=[0.03]*len(y_preds)\n",
    "    if cpShow is None:\n",
    "        alpha=(pred_cps==0).astype(float)\n",
    "    \n",
    "    ax.scatter(y_preds[:,0], y_preds[:,1], y_preds[:,2], \\\n",
    "               color = [colors_pop_dict[x]+(y,) for x,y in zip(superpops, alpha)], marker=\".\", s=5, zorder=-1) \n",
    "    \n",
    "    patches=[]\n",
    "    for k, val in superop_dict.items():\n",
    "        patches.append(mpatches.Patch(color = colors_pop_dict[val], label = k))\n",
    "    lgnd = ax.legend(handles=patches, loc=\"upper right\", fontsize=15, bbox_to_anchor=(-0.75, 0.12, 1., .5))\n",
    "    return lgnd, colors_pop_dict\n"
   ]
  },
  {
   "cell_type": "code",
   "execution_count": null,
   "metadata": {
    "collapsed": true
   },
   "outputs": [],
   "source": [
    "y_preds=results.t_out.coord_main\n",
    "y_predCps=getCpPred(cpMethod.gradient.name, y_predSample, 0.1, y_preds.shape[0], y_preds.shape[1])\n",
    "y_predCps=y_predCps.reshape(-1,)\n",
    "y_preds=y_preds.reshape(-1,3)\n",
    "superpops=valid_dataset.data['superpop'].reshape(-1,)"
   ]
  },
  {
   "cell_type": "code",
   "execution_count": null,
   "metadata": {
    "collapsed": true,
    "scrolled": false
   },
   "outputs": [],
   "source": [
    "# lgnd, _=plot_all(y_preds, superpops, pred_cps=y_predCps)"
   ]
  },
  {
   "cell_type": "code",
   "execution_count": null,
   "metadata": {},
   "outputs": [],
   "source": [
    "superop_dict"
   ]
  },
  {
   "cell_type": "code",
   "execution_count": null,
   "metadata": {
    "collapsed": true
   },
   "outputs": [],
   "source": [
    "def linear_gradient(start_rgb, finish_rgb, n):\n",
    "    ''' returns a gradient list of (n) colors between\n",
    "      two rgb colors. start_rgb and finish_rgb\n",
    "       '''\n",
    "    # Initilize a list of the output colors with the starting color\n",
    "    RGB_list = [start_rgb]\n",
    "    # Calcuate a color at each evenly spaced value of t from 1 to n\n",
    "    for t in range(1, n):\n",
    "        # Interpolate RGB vector for color at the current value of t\n",
    "        curr_vector = [\n",
    "            (start_rgb[j] + (float(t)/(n-1))*(finish_rgb[j]-start_rgb[j]))\n",
    "            for j in range(3)\n",
    "        ]\n",
    "        # Add it to our list of output colors\n",
    "        RGB_list.append(curr_vector)\n",
    "    \n",
    "    return RGB_list"
   ]
  },
  {
   "cell_type": "code",
   "execution_count": null,
   "metadata": {
    "collapsed": true
   },
   "outputs": [],
   "source": [
    "idxOfInterest=np.unique(np.nonzero(valid_dataset.data['granular_pop']==granular_pop_dict[\"Chow Chow\"])[0])"
   ]
  },
  {
   "cell_type": "code",
   "execution_count": null,
   "metadata": {},
   "outputs": [],
   "source": [
    "idxOfInterest"
   ]
  },
  {
   "cell_type": "code",
   "execution_count": null,
   "metadata": {
    "collapsed": true
   },
   "outputs": [],
   "source": [
    "def getColorsPop(granularpopSample, superPopSample, colorsSP_dict):\n",
    "    counterSPUsed={k:0 for k in range(len(list(superop_dict.keys())))}\n",
    "    haploGp ={}\n",
    "    gpMap2Sp_Color={}\n",
    "    for i in np.unique(granularpopSample):\n",
    "        idx=np.nonzero(granularpopSample==i)[0][0]\n",
    "        sp=superPopSample[idx]\n",
    "        colorIdx=3*counterSPUsed[sp]+3 # because we want to pick alternate colors separated by 2 hops\n",
    "        gpMap2Sp_Color[i]=(sp,colorIdx)\n",
    "        counterSPUsed[sp] +=1\n",
    "    \n",
    "    spGradient=getGradient(counterSPUsed, colorsSP_dict)\n",
    "    \n",
    "    for i in np.unique(granularpopSample):\n",
    "        haploGp[i]=spGradient[gpMap2Sp_Color[i][0]][gpMap2Sp_Color[i][1]]\n",
    "    \n",
    "    return haploGp, counterSPUsed, gpMap2Sp_Color"
   ]
  },
  {
   "cell_type": "code",
   "execution_count": null,
   "metadata": {
    "collapsed": true
   },
   "outputs": [],
   "source": [
    "\n",
    "continentaPops=list(superop_dict.values())\n",
    "colorsPop = sns.color_palette(\"bright\", 10)\n",
    "# del colorsPop[1]\n",
    "# del colorsPop[4]\n",
    "# del colorsPop[5]\n",
    "colorsSP_dict = {k:v for k,v in zip(continentaPops, colorsPop)}\n",
    "\n",
    "def getGradient(counterSPUsed, colorsSP_dict):\n",
    "    spGradient={}\n",
    "    for k,v in colorsSP_dict.items():\n",
    "        if counterSPUsed[k]>0:\n",
    "            if k<=len(colorsSP_dict)-2:\n",
    "                finish_rgb=k+1\n",
    "            else:\n",
    "                finish_rgb=0\n",
    "#             if k == 3:\n",
    "#                 spGradient[k]=linear_gradient(start_rgb=[147.0/255.0, 112.0/255.0, 219.0/255.0], finish_rgb=[139.0/255.0, 0.0/255.0, 139.0/255.0],\\\n",
    "#                 n= max(15,3*counterSPUsed[k]+3))                \n",
    "#             else:\n",
    "#                 spGradient[k]=linear_gradient(start_rgb=v, finish_rgb=colorsSP_dict[finish_rgb],\\\n",
    "#                 n= max(15,3*counterSPUsed[k]+3))\n",
    "            spGradient[k]=linear_gradient(start_rgb=v, finish_rgb=[1.0, 1.0, 1.0],\\\n",
    "            n= max(10,3*counterSPUsed[k]+3))\n",
    "\n",
    "    return spGradient\n",
    "    \n",
    "uniqueGpSample=np.unique(namesSample)\n",
    "uniqueSpSample=np.unique(SpNamesSample)\n",
    "colors_Gp_dict, counterSPUsed, gpMap2Sp_Color=getColorsPop(granularpopSample, superPopSample, colorsSP_dict)"
   ]
  },
  {
   "cell_type": "code",
   "execution_count": null,
   "metadata": {},
   "outputs": [],
   "source": [
    "for k, v in colors_Gp_dict.items():\n",
    "    print(f\"granular_pop:{rev_pop_dict[int(k)]}\")\n",
    "    print(f\"superpop:{rev_sp_dict[int(gpMap2Sp_Color[k][0])]}\")\n",
    "    sns.palplot(v)\n",
    "    plt.show()\n"
   ]
  },
  {
   "cell_type": "code",
   "execution_count": null,
   "metadata": {},
   "outputs": [],
   "source": [
    "continentaPops=list(superop_dict.keys())\n",
    "for i in range(7):\n",
    "    print(f\"{continentaPops[i]} color\")\n",
    "    sns.palplot(colorsSP_dict[i])\n",
    "    print(\"gradient color\")\n",
    "    sns.palplot(spGradient[i])\n",
    "    plt.show()\n",
    "plt.close('all')"
   ]
  },
  {
   "cell_type": "code",
   "execution_count": null,
   "metadata": {},
   "outputs": [],
   "source": [
    "granular_pop_dict"
   ]
  },
  {
   "cell_type": "code",
   "execution_count": null,
   "metadata": {},
   "outputs": [],
   "source": [
    "spGradient[3]"
   ]
  },
  {
   "cell_type": "code",
   "execution_count": null,
   "metadata": {
    "scrolled": false
   },
   "outputs": [],
   "source": [
    "cmaps = [('Perceptually Uniform Sequential', [\n",
    "            'viridis', 'plasma', 'inferno', 'magma','rainbow']),\n",
    "         ('Sequential', [\n",
    "            'Greys', 'Purples', 'Blues', 'Greens', 'Oranges', 'Reds',\n",
    "            'YlOrBr', 'YlOrRd', 'OrRd', 'PuRd', 'RdPu', 'BuPu',\n",
    "            'GnBu', 'PuBu', 'YlGnBu', 'PuBuGn', 'BuGn', 'YlGn']),\n",
    "         ('Sequential (2)', [\n",
    "            'binary', 'gist_yarg', 'gist_gray', 'gray', 'bone', 'pink',\n",
    "            'spring', 'summer', 'autumn', 'winter', 'cool', 'Wistia',\n",
    "            'hot', 'afmhot', 'gist_heat', 'copper']),\n",
    "         ('Diverging', [\n",
    "            'PiYG', 'PRGn', 'BrBG', 'PuOr', 'RdGy', 'RdBu',\n",
    "            'RdYlBu', 'RdYlGn', 'Spectral', 'coolwarm', 'bwr', 'seismic']),\n",
    "         ]\n",
    "\n",
    "\n",
    "nrows = max(len(cmap_list) for cmap_category, cmap_list in cmaps)\n",
    "gradient = np.linspace(0, 1, 14)\n",
    "gradient = np.vstack((gradient, gradient))\n",
    "\n",
    "\n",
    "def plot_color_gradients(cmap_category, cmap_list, nrows):\n",
    "    fig, axes = plt.subplots(nrows=nrows)\n",
    "    fig.subplots_adjust(top=0.95, bottom=0.01, left=0.2, right=0.99)\n",
    "    axes[0].set_title(cmap_category + ' colormaps', fontsize=14)\n",
    "\n",
    "    for ax, name in zip(axes, cmap_list):\n",
    "        ax.imshow(gradient, aspect='auto', cmap=plt.get_cmap(name))\n",
    "        pos = list(ax.get_position().bounds)\n",
    "        x_text = pos[0] - 0.01\n",
    "        y_text = pos[1] + pos[3]/2.\n",
    "        fig.text(x_text, y_text, name, va='center', ha='right', fontsize=10)\n",
    "\n",
    "    # Turn off *all* ticks & spines, not just the ones with colormaps.\n",
    "    for ax in axes:\n",
    "        ax.set_axis_off()\n",
    "\n",
    "\n",
    "for cmap_category, cmap_list in cmaps:\n",
    "    plot_color_gradients(cmap_category, cmap_list, nrows)\n",
    "\n",
    "plt.show()"
   ]
  },
  {
   "cell_type": "code",
   "execution_count": null,
   "metadata": {},
   "outputs": [],
   "source": [
    "fig,ax=plt.subplots()\n",
    "gradient = np.linspace(0, 1, 34)\n",
    "gradient = np.vstack((gradient, gradient))\n",
    "ax.imshow(gradient, aspect='auto', cmap='tab10')\n",
    "plt.show()"
   ]
  },
  {
   "cell_type": "code",
   "execution_count": null,
   "metadata": {
    "collapsed": true
   },
   "outputs": [],
   "source": [
    "gradient"
   ]
  },
  {
   "cell_type": "code",
   "execution_count": null,
   "metadata": {
    "collapsed": true
   },
   "outputs": [],
   "source": [
    "from matplotlib.colors import LinearSegmentedColormap\n",
    "\n",
    "def grayscale_cmap(cmap):\n",
    "    \"\"\"Return a grayscale version of the given colormap\"\"\"\n",
    "    cmap = plt.cm.get_cmap(cmap)\n",
    "    colors = cmap(np.arange(cmap.N))\n",
    "\n",
    "    # convert RGBA to perceived grayscale luminance\n",
    "    # cf. http://alienryderflex.com/hsp.html\n",
    "    RGB_weight = [0.299, 0.587, 0.114]\n",
    "    luminance = np.sqrt(np.dot(colors[:, :3] ** 2, RGB_weight))\n",
    "    colors[:, :3] = luminance[:, np.newaxis]\n",
    "\n",
    "    return LinearSegmentedColormap.from_list(cmap.name + \"_gray\", colors, cmap.N)\n",
    "\n",
    "\n",
    "def view_colormap(cmap):\n",
    "    \"\"\"Plot a colormap with its grayscale equivalent\"\"\"\n",
    "    cmap = plt.cm.get_cmap(cmap)\n",
    "    colors = cmap(np.arange(cmap.N))\n",
    "\n",
    "    cmap = grayscale_cmap(cmap)\n",
    "    grayscale = cmap(np.arange(cmap.N))\n",
    "\n",
    "    fig, ax = plt.subplots(2, figsize=(6, 2),\n",
    "                           subplot_kw=dict(xticks=[], yticks=[]))\n",
    "    ax[0].imshow([colors], extent=[0, 10, 0, 1])\n",
    "    ax[1].imshow([grayscale], extent=[0, 10, 0, 1])\n",
    "    plt.show()"
   ]
  },
  {
   "cell_type": "code",
   "execution_count": null,
   "metadata": {
    "collapsed": true
   },
   "outputs": [],
   "source": [
    "view_colormap('Blues')"
   ]
  },
  {
   "cell_type": "code",
   "execution_count": null,
   "metadata": {
    "collapsed": true
   },
   "outputs": [],
   "source": [
    "fig, ax = plt.subplots(figsize=(6, 1))\n",
    "fig.subplots_adjust(bottom=0.5)\n",
    "\n",
    "cmap = mpl.cm.rainbow\n",
    "bounds = [-1, 2, 5, 7, 12, 15,16,17,60]\n",
    "norm = mpl.colors.BoundaryNorm(bounds, cmap.N)\n",
    "\n",
    "fig.colorbar(mpl.cm.ScalarMappable(norm=norm, cmap=cmap),\n",
    "             cax=ax, orientation='horizontal',\n",
    "             label=\"Discrete intervals with extend='both' keyword\")\n",
    "plt.show()"
   ]
  },
  {
   "cell_type": "code",
   "execution_count": null,
   "metadata": {
    "collapsed": true
   },
   "outputs": [],
   "source": [
    "mpl.cm.ScalarMappable(norm=norm, cmap=cmap)"
   ]
  },
  {
   "cell_type": "code",
   "execution_count": null,
   "metadata": {
    "collapsed": true
   },
   "outputs": [],
   "source": [
    "colors_Gp_dict"
   ]
  },
  {
   "cell_type": "code",
   "execution_count": null,
   "metadata": {
    "collapsed": true
   },
   "outputs": [],
   "source": [
    "from matplotlib.colors import LinearSegmentedColormap\n",
    "LinearSegmentedColormap.from_list(name=\"custom\", colors=list(colors_Gp_dict.values()))"
   ]
  },
  {
   "cell_type": "code",
   "execution_count": null,
   "metadata": {
    "collapsed": true
   },
   "outputs": [],
   "source": [
    "fig,ax=plt.subplots(figsize=(30,14))\n",
    "ax.imshow(np.ones(shape=(10,317)), cmap=LinearSegmentedColormap.from_list(name=\"custom\", colors=list(colors_Gp_dict.values())))\n",
    "plt.show()"
   ]
  },
  {
   "cell_type": "code",
   "execution_count": null,
   "metadata": {
    "collapsed": true
   },
   "outputs": [],
   "source": []
  }
 ],
 "metadata": {
  "kernelspec": {
   "display_name": "Python 3",
   "language": "python",
   "name": "python3"
  },
  "language_info": {
   "codemirror_mode": {
    "name": "ipython",
    "version": 3
   },
   "file_extension": ".py",
   "mimetype": "text/x-python",
   "name": "python",
   "nbconvert_exporter": "python",
   "pygments_lexer": "ipython3",
   "version": "3.6.1"
  }
 },
 "nbformat": 4,
 "nbformat_minor": 2
}
