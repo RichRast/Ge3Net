{
 "cells": [
  {
   "cell_type": "code",
   "execution_count": 1,
   "metadata": {
    "collapsed": true
   },
   "outputs": [],
   "source": [
    "import torch\n",
    "import sys\n",
    "import os\n",
    "import os.path as osp\n",
    "import pandas as pd\n",
    "import numpy as np\n",
    "import itertools\n",
    "import matplotlib.pyplot as plt\n",
    "import seaborn as sns\n",
    "from mpl_toolkits.mplot3d import Axes3D\n",
    "from matplotlib import ticker\n",
    "import matplotlib as mpl\n",
    "from matplotlib.colors import LinearSegmentedColormap\n",
    "from matplotlib.colors import LogNorm\n",
    "import matplotlib.patches as mpatches\n",
    "from sklearn.metrics import precision_recall_curve, recall_score, precision_score, \\\n",
    "balanced_accuracy_score, accuracy_score\n",
    "from sklearn import metrics\n",
    "import math\n",
    "import allel"
   ]
  },
  {
   "cell_type": "code",
   "execution_count": 2,
   "metadata": {
    "collapsed": true
   },
   "outputs": [],
   "source": [
    "os.environ['USER_PATH']='/home/users/richras/Ge2Net_Repo'\n",
    "os.environ['USER_SCRATCH_PATH']=\"/scratch/users/richras\"\n",
    "os.environ['IN_PATH']='/scratch/groups/cdbustam/richras/data_in'\n",
    "os.environ['OUT_PATH']='/scratch/groups/cdbustam/richras/data_out'\n",
    "os.environ['LOG_PATH']='/scratch/groups/cdbustam/richras/logs/'"
   ]
  },
  {
   "cell_type": "code",
   "execution_count": 3,
   "metadata": {
    "collapsed": true
   },
   "outputs": [],
   "source": [
    "os.chdir(os.environ.get('USER_PATH'))"
   ]
  },
  {
   "cell_type": "code",
   "execution_count": 4,
   "metadata": {
    "collapsed": true
   },
   "outputs": [],
   "source": [
    "%load_ext autoreload\n",
    "%autoreload 2\n",
    "from src.utils.dataUtil import load_path, save_file, vcf2npy, get_recomb_rate, interpolate_genetic_pos, form_windows\n",
    "from src.utils.modelUtil import Params, load_model\n",
    "from src.utils.labelUtil import nearestNeighbourMapping, repeat_pop_arr\n",
    "from src.utils.decorators import timer\n",
    "from src.main.dataset import Haplotype\n",
    "from src.models import AuxiliaryTask, LSTM, Attention, BasicBlock, Model_A, Model_B, Model_C, BOCD\n",
    "from src.models.distributions import Multivariate_Gaussian\n",
    "from src.main.evaluation import eval_cp_batch, reportChangePointMetrics, t_prMetrics, cpMethod, eval_cp_matrix, \\\n",
    "getCpPred\n",
    "import inference"
   ]
  },
  {
   "cell_type": "markdown",
   "metadata": {},
   "source": [
    "# load the model and use valid data "
   ]
  },
  {
   "cell_type": "code",
   "execution_count": 5,
   "metadata": {
    "collapsed": true
   },
   "outputs": [],
   "source": [
    "# Specify the dataset to be evaluated\n",
    "# chm22 pca full dataset and model\n",
    "\n",
    "labels_path = osp.join(os.environ['OUT_PATH'],'dogs/labels/data_id_3_umap')\n",
    "data_path = osp.join(os.environ['OUT_PATH'],'dogs/labels/data_id_3_umap')\n",
    "models_path=osp.join(os.environ['OUT_PATH'],'dogs/training/Model_Q_exp_id_1_data_id_3_umap/') \n",
    "dataset_type='test'"
   ]
  },
  {
   "cell_type": "code",
   "execution_count": 6,
   "metadata": {},
   "outputs": [
    {
     "name": "stderr",
     "output_type": "stream",
     "text": [
      "INFO: __init__:src.main.dataset: Loading test Dataset\n",
      "INFO: __init__:src.main.dataset:Loading gen 0\n",
      "INFO: __init__:src.main.dataset: snps data: (36, 524864)\n"
     ]
    },
    {
     "name": "stdout",
     "output_type": "stream",
     "text": [
      " device used: cuda\n",
      "Loading the datasets...\n"
     ]
    },
    {
     "name": "stderr",
     "output_type": "stream",
     "text": [
      "INFO: __init__:src.main.dataset: y_labels data :(36, 524864)\n",
      "INFO: __init__:src.main.dataset:Loading gen 2\n",
      "INFO: __init__:src.main.dataset: snps data: (800, 524864)\n",
      "INFO: __init__:src.main.dataset: y_labels data :(800, 524864)\n",
      "INFO: __init__:src.main.dataset:Loading gen 4\n",
      "INFO: __init__:src.main.dataset: snps data: (800, 524864)\n",
      "INFO: __init__:src.main.dataset: y_labels data :(800, 524864)\n",
      "INFO: __init__:src.main.dataset:Loading gen 8\n",
      "INFO: __init__:src.main.dataset: snps data: (800, 524864)\n",
      "INFO: __init__:src.main.dataset: y_labels data :(800, 524864)\n",
      "INFO: transform_data:src.main.dataset:Transforming the data\n"
     ]
    },
    {
     "name": "stdout",
     "output_type": "stream",
     "text": [
      "Finished 'mapping_func' in 0.4409 secs\n",
      "Finished 'pop_mapping' in 0.1623 secs\n",
      "Finished 'pop_mapping' in 0.1611 secs\n",
      "Finished 'transform_data' in 44.4592 secs\n",
      "Finished '__init__' in 124.5394 secs\n",
      "Parameter count for model AuxNetwork:52468203\n",
      "Parameter count for model TransformerModel:107528\n",
      "Parameter count for model BiRNN:34499\n",
      "Parameter count for model logits_Block:2289\n",
      "Total parameters:52612519\n",
      "device in load model:None\n",
      "Finished 'load_model' in 0.6568 secs\n",
      "best val loss metrics : {'loss_main': 0.315209464211453, 'loss_aux': 0.8947960030149106, 'gcd': None, 'mse': 0.19268142796993307, 'smooth_l1': 0.09475352589803951, 'weighted_loss': 0.315209464211453}\n",
      "at epoch : 110\n",
      "train loss metrics: {'loss_main': 0.2677480816865698, 'loss_aux': 0.3831430327689332, 'gcd': None, 'mse': 0.07214449174141804, 'smooth_l1': 0.03606346916806092, 'weighted_loss': 0.2677480816865698}\n",
      "best val cp metrics : {'loss_cp': 0.26504278590152375, 'prMetrics': OrderedDict([('Precision', array(0.0701982)), ('Recall', array(0.87129318)), ('Accuracy', array(0.91123784)), ('A_major', array(0.911544)), ('BalancedAccuracy', 0.8914185933654184)])}\n",
      "train cp metrics: {'loss_cp': 0.08895933579523194, 'prMetrics': OrderedDict([('Precision', array(0.57411592)), ('Recall', array(0.96668038)), ('Accuracy', array(0.99501947)), ('A_major', array(0.99520881)), ('BalancedAccuracy', 0.980944594944759)])}\n",
      "best val sp metrics : None\n",
      "train sp metrics: None\n",
      "best val balanced gcd metrics : None\n",
      "train balanced gcd metrics: None\n",
      "is the model on cuda? : True\n",
      "Finished 'batchLoopValid' in 2.4902 secs\n",
      "Finished 'main' in 129.9299 secs\n"
     ]
    }
   ],
   "source": [
    "config={}\n",
    "config['data.labels']=labels_path \n",
    "config['data.dir']=data_path \n",
    "config['models.dir']=models_path\n",
    "config['data.dataset_type']=dataset_type\n",
    "config['cuda']='cuda'\n",
    "config['model.loadBest']=True\n",
    "yaml_path = osp.join(config['models.dir'], 'params.yaml')\n",
    "assert osp.isfile(yaml_path), \"No json configuration file found at {}\".format(yaml_path)\n",
    "params = Params(yaml_path)\n",
    "params.rtnOuts=True\n",
    "params.mc_dropout=False\n",
    "params.mc_samples=100\n",
    "params.cp_tol=1\n",
    "params.balancedLoss=False\n",
    "_, _, model, _=inference.main(config, params)"
   ]
  },
  {
   "cell_type": "code",
   "execution_count": 7,
   "metadata": {},
   "outputs": [
    {
     "name": "stderr",
     "output_type": "stream",
     "text": [
      "INFO: __init__:src.main.dataset: Loading train Dataset\n",
      "INFO: __init__:src.main.dataset:Loading gen 0\n",
      "INFO: __init__:src.main.dataset: snps data: (396, 524864)\n",
      "INFO: __init__:src.main.dataset: y_labels data :(396, 524864)\n",
      "INFO: __init__:src.main.dataset:Loading gen 2\n",
      "INFO: __init__:src.main.dataset: snps data: (800, 524864)\n",
      "INFO: __init__:src.main.dataset: y_labels data :(800, 524864)\n",
      "INFO: __init__:src.main.dataset:Loading gen 4\n",
      "INFO: __init__:src.main.dataset: snps data: (800, 524864)\n",
      "INFO: __init__:src.main.dataset: y_labels data :(800, 524864)\n",
      "INFO: __init__:src.main.dataset:Loading gen 8\n",
      "INFO: __init__:src.main.dataset: snps data: (800, 524864)\n",
      "INFO: __init__:src.main.dataset: y_labels data :(800, 524864)\n",
      "INFO: transform_data:src.main.dataset:Transforming the data\n"
     ]
    },
    {
     "name": "stdout",
     "output_type": "stream",
     "text": [
      "Finished 'mapping_func' in 0.4761 secs\n",
      "Finished 'pop_mapping' in 0.1791 secs\n",
      "Finished 'pop_mapping' in 0.1789 secs\n",
      "Finished 'transform_data' in 51.4217 secs\n",
      "Finished '__init__' in 126.1545 secs\n"
     ]
    }
   ],
   "source": [
    "train_dataset = Haplotype(\"train\", params, data_path, labels_path=labels_path)"
   ]
  },
  {
   "cell_type": "code",
   "execution_count": 8,
   "metadata": {
    "collapsed": true
   },
   "outputs": [],
   "source": [
    "#load dataset of admixed population\n",
    "ref_map_a=pd.read_csv(osp.join(os.environ['OUT_PATH'],'dogs/ref_map_a.tsv'), sep='\\t')\n",
    "ref_map_expt1 = pd.read_csv(osp.join(os.environ['OUT_PATH'],'dogs/ref_map_expt1_w_wolf_coyote.tsv'), sep='\\t')"
   ]
  },
  {
   "cell_type": "code",
   "execution_count": 9,
   "metadata": {
    "collapsed": true
   },
   "outputs": [],
   "source": [
    "ref_map_expt1=ref_map_expt1[ref_map_a.columns]"
   ]
  },
  {
   "cell_type": "code",
   "execution_count": 10,
   "metadata": {},
   "outputs": [
    {
     "data": {
      "text/plain": [
       "(                 Sample         Population Superpopulation code\n",
       " 0         AfghanHound01       Afghan Hound         Afghan Hound\n",
       " 1         AfghanHound03       Afghan Hound         Afghan Hound\n",
       " 2         AfghanHound04       Afghan Hound         Afghan Hound\n",
       " 3     AiredaleTerrier01   Airedale Terrier     Airedale Terrier\n",
       " 4     AiredaleTerrier02   Airedale Terrier     Airedale Terrier\n",
       " ..                  ...                ...                  ...\n",
       " 662            PER00777  Yorkshire Terrier    Yorkshire Terrier\n",
       " 663            PER00806  Yorkshire Terrier    Yorkshire Terrier\n",
       " 664            PER00816  Yorkshire Terrier    Yorkshire Terrier\n",
       " 665  YorkshireTerrier01  Yorkshire Terrier    Yorkshire Terrier\n",
       " 666  YorkshireTerrier02  Yorkshire Terrier    Yorkshire Terrier\n",
       " \n",
       " [667 rows x 3 columns],\n",
       "                  Sample                      Population Superpopulation code\n",
       " 0            140447_S11                Golden Retriever            Retriever\n",
       " 1             149323_S6              Labrador Retriever            Retriever\n",
       " 2             152721_S5              Labrador Retriever            Retriever\n",
       " 3             160822_S4              Labrador Retriever            Retriever\n",
       " 4             164612_S9                Golden Retriever            Retriever\n",
       " ..                  ...                             ...                  ...\n",
       " 242       WolfTibetan07  Grey Wolf (Canis Lupus chanco)                 Wolf\n",
       " 243       WolfTibetan08  Grey Wolf (Canis Lupus chanco)                 Wolf\n",
       " 244          XiasiDog01                       Xiasi Dog                 East\n",
       " 245  YorkshireTerrier01               Yorkshire Terrier              Terrier\n",
       " 246  YorkshireTerrier02               Yorkshire Terrier              Terrier\n",
       " \n",
       " [247 rows x 3 columns])"
      ]
     },
     "execution_count": 10,
     "metadata": {},
     "output_type": "execute_result"
    }
   ],
   "source": [
    "ref_map_a, ref_map_expt1"
   ]
  },
  {
   "cell_type": "code",
   "execution_count": 11,
   "metadata": {},
   "outputs": [
    {
     "data": {
      "text/html": [
       "<div>\n",
       "<style scoped>\n",
       "    .dataframe tbody tr th:only-of-type {\n",
       "        vertical-align: middle;\n",
       "    }\n",
       "\n",
       "    .dataframe tbody tr th {\n",
       "        vertical-align: top;\n",
       "    }\n",
       "\n",
       "    .dataframe thead th {\n",
       "        text-align: right;\n",
       "    }\n",
       "</style>\n",
       "<table border=\"1\" class=\"dataframe\">\n",
       "  <thead>\n",
       "    <tr style=\"text-align: right;\">\n",
       "      <th></th>\n",
       "      <th>Sample</th>\n",
       "      <th>Population</th>\n",
       "      <th>Superpopulation code</th>\n",
       "    </tr>\n",
       "  </thead>\n",
       "  <tbody>\n",
       "    <tr>\n",
       "      <th>97</th>\n",
       "      <td>NGSD1</td>\n",
       "      <td>New Guinea Singing Dog</td>\n",
       "      <td>East</td>\n",
       "    </tr>\n",
       "    <tr>\n",
       "      <th>98</th>\n",
       "      <td>NGSD2</td>\n",
       "      <td>New Guinea Singing Dog</td>\n",
       "      <td>East</td>\n",
       "    </tr>\n",
       "    <tr>\n",
       "      <th>99</th>\n",
       "      <td>NGSD3</td>\n",
       "      <td>New Guinea Singing Dog</td>\n",
       "      <td>East</td>\n",
       "    </tr>\n",
       "    <tr>\n",
       "      <th>106</th>\n",
       "      <td>NewGuineaSingingDog01</td>\n",
       "      <td>New Guinea Singing Dog</td>\n",
       "      <td>East</td>\n",
       "    </tr>\n",
       "  </tbody>\n",
       "</table>\n",
       "</div>"
      ],
      "text/plain": [
       "                    Sample              Population Superpopulation code\n",
       "97                   NGSD1  New Guinea Singing Dog                 East\n",
       "98                   NGSD2  New Guinea Singing Dog                 East\n",
       "99                   NGSD3  New Guinea Singing Dog                 East\n",
       "106  NewGuineaSingingDog01  New Guinea Singing Dog                 East"
      ]
     },
     "execution_count": 11,
     "metadata": {},
     "output_type": "execute_result"
    }
   ],
   "source": [
    "ref_map_expt1[ref_map_expt1.Population=='New Guinea Singing Dog']"
   ]
  },
  {
   "cell_type": "code",
   "execution_count": 12,
   "metadata": {},
   "outputs": [
    {
     "data": {
      "text/plain": [
       "<bound method Series.unique of 0                    Golden Retriever\n",
       "1                  Labrador Retriever\n",
       "2                  Labrador Retriever\n",
       "3                  Labrador Retriever\n",
       "4                    Golden Retriever\n",
       "                    ...              \n",
       "242    Grey Wolf (Canis Lupus chanco)\n",
       "243    Grey Wolf (Canis Lupus chanco)\n",
       "244                         Xiasi Dog\n",
       "245                 Yorkshire Terrier\n",
       "246                 Yorkshire Terrier\n",
       "Name: Population, Length: 247, dtype: object>"
      ]
     },
     "execution_count": 12,
     "metadata": {},
     "output_type": "execute_result"
    }
   ],
   "source": [
    "ref_map_expt1['Population'].unique"
   ]
  },
  {
   "cell_type": "code",
   "execution_count": 13,
   "metadata": {
    "collapsed": true
   },
   "outputs": [],
   "source": [
    "only_admixed = ref_map_a[~ref_map_a['Sample'].isin(ref_map_expt1['Sample'])].dropna()"
   ]
  },
  {
   "cell_type": "code",
   "execution_count": 14,
   "metadata": {},
   "outputs": [
    {
     "data": {
      "text/html": [
       "<div>\n",
       "<style scoped>\n",
       "    .dataframe tbody tr th:only-of-type {\n",
       "        vertical-align: middle;\n",
       "    }\n",
       "\n",
       "    .dataframe tbody tr th {\n",
       "        vertical-align: top;\n",
       "    }\n",
       "\n",
       "    .dataframe thead th {\n",
       "        text-align: right;\n",
       "    }\n",
       "</style>\n",
       "<table border=\"1\" class=\"dataframe\">\n",
       "  <thead>\n",
       "    <tr style=\"text-align: right;\">\n",
       "      <th></th>\n",
       "      <th>Sample</th>\n",
       "      <th>Population</th>\n",
       "      <th>Superpopulation code</th>\n",
       "    </tr>\n",
       "  </thead>\n",
       "  <tbody>\n",
       "    <tr>\n",
       "      <th>3</th>\n",
       "      <td>AiredaleTerrier01</td>\n",
       "      <td>Airedale Terrier</td>\n",
       "      <td>Airedale Terrier</td>\n",
       "    </tr>\n",
       "    <tr>\n",
       "      <th>4</th>\n",
       "      <td>AiredaleTerrier02</td>\n",
       "      <td>Airedale Terrier</td>\n",
       "      <td>Airedale Terrier</td>\n",
       "    </tr>\n",
       "    <tr>\n",
       "      <th>5</th>\n",
       "      <td>AiredaleTerrier05</td>\n",
       "      <td>Airedale Terrier</td>\n",
       "      <td>Airedale Terrier</td>\n",
       "    </tr>\n",
       "    <tr>\n",
       "      <th>6</th>\n",
       "      <td>TA001</td>\n",
       "      <td>Airedale Terrier</td>\n",
       "      <td>Airedale Terrier</td>\n",
       "    </tr>\n",
       "    <tr>\n",
       "      <th>12</th>\n",
       "      <td>Bern_AlpineDachsbracke</td>\n",
       "      <td>Alpine Dachsbracke</td>\n",
       "      <td>Alpine Dachsbracke</td>\n",
       "    </tr>\n",
       "    <tr>\n",
       "      <th>...</th>\n",
       "      <td>...</td>\n",
       "      <td>...</td>\n",
       "      <td>...</td>\n",
       "    </tr>\n",
       "    <tr>\n",
       "      <th>574</th>\n",
       "      <td>VillDog_Vietnam06</td>\n",
       "      <td>Village Dog - Vietnam</td>\n",
       "      <td>Village Dog - Vietnam</td>\n",
       "    </tr>\n",
       "    <tr>\n",
       "      <th>575</th>\n",
       "      <td>Vizsla01</td>\n",
       "      <td>Vizsla</td>\n",
       "      <td>Vizsla</td>\n",
       "    </tr>\n",
       "    <tr>\n",
       "      <th>576</th>\n",
       "      <td>WE006</td>\n",
       "      <td>Weimaraner</td>\n",
       "      <td>Weimaraner</td>\n",
       "    </tr>\n",
       "    <tr>\n",
       "      <th>590</th>\n",
       "      <td>MexicanHairless01</td>\n",
       "      <td>Xoloitzcuintli</td>\n",
       "      <td>Xoloitzcuintli</td>\n",
       "    </tr>\n",
       "    <tr>\n",
       "      <th>591</th>\n",
       "      <td>Xoloitzcuintli01</td>\n",
       "      <td>Xoloitzcuintli</td>\n",
       "      <td>Xoloitzcuintli</td>\n",
       "    </tr>\n",
       "  </tbody>\n",
       "</table>\n",
       "<p>469 rows × 3 columns</p>\n",
       "</div>"
      ],
      "text/plain": [
       "                     Sample             Population   Superpopulation code\n",
       "3         AiredaleTerrier01       Airedale Terrier       Airedale Terrier\n",
       "4         AiredaleTerrier02       Airedale Terrier       Airedale Terrier\n",
       "5         AiredaleTerrier05       Airedale Terrier       Airedale Terrier\n",
       "6                     TA001       Airedale Terrier       Airedale Terrier\n",
       "12   Bern_AlpineDachsbracke     Alpine Dachsbracke     Alpine Dachsbracke\n",
       "..                      ...                    ...                    ...\n",
       "574       VillDog_Vietnam06  Village Dog - Vietnam  Village Dog - Vietnam\n",
       "575                Vizsla01                 Vizsla                 Vizsla\n",
       "576                   WE006             Weimaraner             Weimaraner\n",
       "590       MexicanHairless01         Xoloitzcuintli         Xoloitzcuintli\n",
       "591        Xoloitzcuintli01         Xoloitzcuintli         Xoloitzcuintli\n",
       "\n",
       "[469 rows x 3 columns]"
      ]
     },
     "execution_count": 14,
     "metadata": {},
     "output_type": "execute_result"
    }
   ],
   "source": [
    "only_admixed"
   ]
  },
  {
   "cell_type": "code",
   "execution_count": 15,
   "metadata": {},
   "outputs": [
    {
     "data": {
      "text/plain": [
       "array(['Afghan Hound', 'Alaskan Husky', 'Alaskan Malamute', 'Basenji',\n",
       "       'Cairn Terrier', 'Chinese Shar-Pei', 'Chongqing Dog', 'Chow Chow',\n",
       "       'Coyote', 'Golden Retriever', 'Greenland Dog', 'Grey Wolf',\n",
       "       'Grey Wolf (Canis Lupus chanco)', 'Greyhound',\n",
       "       'Iberian Wolf (Canis lupus signatus)', 'Italian Greyhound',\n",
       "       'Jindo', 'Labrador Retriever', 'New Guinea Singing Dog',\n",
       "       'Norwich Terrier', 'Saluki', 'Scottish Deerhound',\n",
       "       'Scottish Terrier', 'Shiba Inu', 'Siberian Husky',\n",
       "       'Tibetan Mastiff', 'Tibetan Mastiff - China',\n",
       "       'West Highland White Terrier', 'Whippet', 'Wolf', 'Xiasi Dog',\n",
       "       'Yorkshire Terrier'], dtype=object)"
      ]
     },
     "execution_count": 15,
     "metadata": {},
     "output_type": "execute_result"
    }
   ],
   "source": [
    "np.unique(ref_map_expt1['Population'].values)"
   ]
  },
  {
   "cell_type": "code",
   "execution_count": 16,
   "metadata": {
    "scrolled": false
   },
   "outputs": [
    {
     "data": {
      "text/plain": [
       "array(['Airedale Terrier', 'Alpine Dachsbracke',\n",
       "       'American Hairless Terrier', 'Australian Cattle Dog',\n",
       "       'Australian Terrier',\n",
       "       'Bavarian Hound (Bayerischer Gebirgsschweisshund)', 'Beagle',\n",
       "       'Bearded Collie', 'Belgian Malinois', 'Belgian Sheepdog',\n",
       "       'Belgian Tervuren', 'Berger Blanc Suisse', 'Berger Picard',\n",
       "       'Bernese Mountain Dog', 'Black Russian Terrier',\n",
       "       'Black and Tan Coonhound', 'Bloodhound', 'Border Collie',\n",
       "       'Border Terrier', 'Borzoi', 'Boston Terrier',\n",
       "       'Bouvier des Flandres', 'Boxer', 'Brittany', 'Bull Terrier',\n",
       "       'Bulldog', 'Bullmastiff', 'Cane Corso', 'Carolina Dog',\n",
       "       'Caucasian Ovcharka', 'Cavalier King Charles Spaniel',\n",
       "       'Chesapeake Bay Retriever', 'Chihuahua', 'Chinese Crested',\n",
       "       'Chinese Indigenous Dog', 'Chinook', 'Clumber Spaniel',\n",
       "       'Cocker Spaniel (American)', 'Curly-Coated Retriever', 'Dachshund',\n",
       "       'Dalmatian', 'Dingo', 'Doberman Pinscher', 'East Siberian Laika',\n",
       "       'Elo', 'English Cocker Spaniel', 'English Setter',\n",
       "       'English Springer Spaniel', 'Entlebucher Sennenhund', 'Eurasier',\n",
       "       'Field Spaniel', 'Finnish Lapphund', 'Flat-Coated Retriever',\n",
       "       \"Fonni's Dog\", 'French Bulldog', 'German Hunting Terrier',\n",
       "       'German Shepherd Dog', 'German Wirehaired Pointer',\n",
       "       'Gordon Setter', 'Great Dane', 'Great Pyrenees',\n",
       "       'Greater Swiss Mountain Dog', 'Grossspitz', 'Heideterrier',\n",
       "       'Hovawart', 'Irish Setter', 'Irish Terrier', 'Irish Water Spaniel',\n",
       "       'Istrian Shorthaired Hound', 'Jack Russell Terrier', 'Jamthund',\n",
       "       'Keeshond', 'Kerry Blue Terrier', 'Komondor', 'Kromfohrländer',\n",
       "       'Kunming Dog', 'Lagotto Romagnolo', 'Landseer', 'Lapponian Herder',\n",
       "       'Leonberger', 'Lowchen', 'MIX: American Cocker Spaniel and Beagle',\n",
       "       'MIX: Dachsund', 'MIX: Golden Retriever',\n",
       "       'MIX: Kerry Blue Terrier and Beagle', 'MIX: Labrador Retriever',\n",
       "       'MIX: Miniature Schnauzer and Beagle', 'MIX: Mixed Breed',\n",
       "       'MIX: Siberian Husky', 'MIX: Tibetan Mastiff', 'Mastiff (English)',\n",
       "       'Miniature Bull Terrier ', 'Miniature Poodle',\n",
       "       'Miniature Schnauzer', 'Nigerian Indigenous Dog',\n",
       "       'Norwegian Elkhound', 'Norwegian Lundehund',\n",
       "       'Nova Scotia Duck Tolling Retriever', 'Pekingese',\n",
       "       'Pembroke Welsh Corgi', 'Peruvian Inca Orchid',\n",
       "       'Petit Basset Griffon Vendeen', 'Pointer (English)', 'Pomeranian',\n",
       "       'Poodle unspecified variety', 'Portuguese Podengo',\n",
       "       'Portuguese Water Dog', 'Pug', 'Qingchuan Dog',\n",
       "       'Rhodesian Ridgeback', 'Rottweiler', 'Saint Bernard', 'Samoyed',\n",
       "       'Shetland Sheepdog', 'Shih Tzu', 'Sloughi',\n",
       "       'Soft Coated Wheaten Terrier', 'Spanish Galgo',\n",
       "       'Spanish Water Dog', 'Spinone Italiano', 'Standard Poodle',\n",
       "       'Standard Schnauzer', 'Swedish Lapphund', 'Tibetan Terrier',\n",
       "       'Tornjak', 'Toy Poodle', 'UNKNOWN', 'Vietnamese Indigenous Dog',\n",
       "       'Village Dog - Aboriginal Camp Dog', 'Village Dog - Borneo',\n",
       "       'Village Dog - China', 'Village Dog - Egypt',\n",
       "       'Village Dog - India', 'Village Dog - Lebanon',\n",
       "       'Village Dog - Namibia', 'Village Dog - Papua New Guinea',\n",
       "       'Village Dog - Portugal', 'Village Dog - Qatar',\n",
       "       'Village Dog - Sub-Saharan Africa', 'Village Dog - Taiwan',\n",
       "       'Village Dog - Vietnam', 'Vizsla', 'Weimaraner', 'Xoloitzcuintli'],\n",
       "      dtype=object)"
      ]
     },
     "execution_count": 16,
     "metadata": {},
     "output_type": "execute_result"
    }
   ],
   "source": [
    "np.unique(only_admixed['Population'].values)"
   ]
  },
  {
   "cell_type": "code",
   "execution_count": 17,
   "metadata": {
    "scrolled": false
   },
   "outputs": [
    {
     "data": {
      "text/plain": [
       "array(['AiredaleTerrier01', 'AiredaleTerrier02', 'AiredaleTerrier05',\n",
       "       'TA001', 'Bern_AlpineDachsbracke', 'AmericanHairlessTerrier01',\n",
       "       'AC023', 'AustralianCattleDog01', 'AustralianCattleDog02',\n",
       "       'AustralianCattleDog03', 'AR001', 'BG064', 'CFA.117995',\n",
       "       'Beagle01', 'Beagle02', 'Beagle03', 'Beagle04', 'BeardedCollie01',\n",
       "       'BeardedCollie02', 'BeardedCollie03', 'BeardedCollie04',\n",
       "       'BeardedCollie05', 'BeardedCollie06', 'BeardedCollie07',\n",
       "       'BelgianMalinois01', 'BelgianMalinois02', 'BelgianMalinois03',\n",
       "       'MA0163', 'MA142', 'BelgianSheepdog01', 'BelgianSheepdog02',\n",
       "       'BelgianSheepdog03', 'BelgianSheepdog04', 'BelgianSheepdog05',\n",
       "       'BelgianSheepdog06', 'BelgianSheepdog07', 'BelgianTervuren01',\n",
       "       'BelgianTervuren02', 'BelgianTervuren03', 'BelgianTervuren05',\n",
       "       'BelgianTervuren06', 'BelgianTervuren07', 'BelgianTervuren08',\n",
       "       'BelgianTervuren09', 'BelgianTervuren10', 'BelgianTervuren11',\n",
       "       'BelgianTervuren04', 'BergerBlancSuisse01', 'CFA.109670',\n",
       "       'BergerPicard01', 'BergerPicard02', 'BergerPicard03',\n",
       "       'BerneseMountainDog01', 'BerneseMountainDog02',\n",
       "       'BerneseMountainDog03', 'BerneseMountainDog04',\n",
       "       'BerneseMountainDog05', 'BerneseMountainDog06',\n",
       "       'BerneseMountainDog07', 'BerneseMountainDog08',\n",
       "       'BerneseMountainDog09', 'BerneseMountainDog10',\n",
       "       'BerneseMountainDog11', 'BerneseMountainDog12',\n",
       "       'BerneseMountainDog13', 'BerneseMountainDog14',\n",
       "       'BerneseMountainDog15', 'BerneseMountainDog16',\n",
       "       'BerneseMountainDog17', 'BerneseMountainDog18', 'Coonhound01',\n",
       "       'BlackRussianTerrier01', 'Bloodhound01', 'BorderCollie06',\n",
       "       'BC0480', 'Helsinki_BC1028', 'Helsinki_BC1029', 'Helsinki_BC222',\n",
       "       'Helsinki_BC387', 'BC485', 'BC518', 'Helsinki_BC578', 'BC597',\n",
       "       'BorderCollie01', 'BorderCollie02', 'BorderCollie03',\n",
       "       'BorderCollie07', 'BorderCollie08', 'CFA.107838',\n",
       "       'BorderTerrier01', 'BorderTerrier02', 'BorderTerrier03',\n",
       "       'Borzoi01', 'BostonTerrier01', 'CFA.107836',\n",
       "       'BouvierDesFlandres01', 'BouvierDesFlandres02', 'Boxer01',\n",
       "       'BrittanySpaniel01', 'BT1021', 'BullTerrier01', 'BullTerrier02',\n",
       "       'BullTerrier03', 'BullTerrier04', 'BullTerrier05', 'BullTerrier06',\n",
       "       'BullTerrier07', 'BullTerrier08', 'BT007', 'Bulldog01', 'BU002',\n",
       "       'CaneCorso01', 'CarolinaDog01', 'CaucasianOvcharka01', 'CK006',\n",
       "       'CK023', 'CFA.109671', 'Chihuahua01', 'Chihuahua03', 'Chihuahua05',\n",
       "       'ChineseCrested01', 'ChineseCrested05', 'ChineseIndigenousDog01',\n",
       "       'ChineseIndigenousDog02', 'ChineseIndigenousDog03',\n",
       "       'ChineseIndigenousDog04', 'ChineseIndigenousDog05',\n",
       "       'ChineseIndigenousDog06', 'ChineseIndigenousDog07',\n",
       "       'ChineseIndigenousDog08', 'ChineseIndigenousDog09',\n",
       "       'ChineseIndigenousDog10', 'ChineseIndigenousDog11',\n",
       "       'ChineseIndigenousDog12', 'ChineseIndigenousDog13',\n",
       "       'ChineseIndigenousDog14', 'ChineseIndigenousDog15', 'Chinook01',\n",
       "       'ClumberSpaniel01', 'CockerSpanielAmerican01',\n",
       "       'CockerSpanielAmerican02', 'CockerSpanielAmerican03',\n",
       "       'CockerSpanielAmerican04', 'CockerSpanielAmerican05',\n",
       "       'CockerSpanielAmerican06', 'CR039', 'CFA.107835', 'CFA.109668',\n",
       "       'Dachshund01', 'DH0117', 'DH126', 'DAL162K1', 'Dalmatian01',\n",
       "       'Dingo01', 'DO242', 'Doberman01', 'Doberman02', 'Doberman03',\n",
       "       'Doberman04', 'EastSiberianLaika01', 'Elo01', 'CP003',\n",
       "       'CockerSpanielEnglish01', 'CockerSpanielEnglish02',\n",
       "       'CockerSpanielEnglish03', 'CockerSpanielEnglish04',\n",
       "       'CockerSpanielEnglish05', 'CFA.105990', 'CFA.117996',\n",
       "       'EnglishSetter01', 'EnglishSpringerSpaniel01',\n",
       "       'EnglishSpringerSpaniel03', 'EntlebucherSennenhund01',\n",
       "       'EntlebucherSennenhund02', 'EntlebucherSennenhund03',\n",
       "       'EntlebucherSennenhund04', 'EntlebucherSennenhund05',\n",
       "       'EntlebucherSennenhund06', 'EntlebucherSennenhund07',\n",
       "       'EntlebucherSennenhund08', 'Eurasier01', 'Eurasier02',\n",
       "       'CFA.107833', 'FinnishLapphund01', 'FlatcoatedRetriever01',\n",
       "       'FlatcoatedRetriever02', 'FlatcoatedRetriever03', 'FonniDog01',\n",
       "       'FB065', 'FrenchBulldog01', 'JT007', 'DS043', 'DS051', 'DS053',\n",
       "       'GermanShepherd01', 'GermanShepherd02', 'GermanShepherd03',\n",
       "       'GermanShepherd04', 'GermanShepherd05', 'GermanShepherd06',\n",
       "       'GermanShepherd07', 'GermanShepherd08', 'GermanShepherd09',\n",
       "       'GermanShepherd10', 'GermanShepherd11', 'GermanShepherd12',\n",
       "       'GermanWirehairedPointer01', 'CFA.109672', 'GordonSetter01',\n",
       "       'DD116', 'CFA.107837', 'CFA.117997', 'GreatDane01', 'GreatDane02',\n",
       "       'GreatPyrenees01', 'CFA.107841', 'GreaterSwissMountainDog01',\n",
       "       'GS104', 'Heideterrier01', 'HW1706', 'IrishSetter01', 'CFA.117998',\n",
       "       'IrishTerrier01', 'IrishWaterSpaniel01', 'IrishWaterSpaniel02',\n",
       "       'IrishWaterSpaniel03', 'IstrianShorthairedHound01',\n",
       "       'JackRussellTerrier02', 'JackRussellTerrier03',\n",
       "       'JackRussellTerrier04', 'JackRussellTerrier05', 'Jamthund01',\n",
       "       'Keeshond01', 'KerryBlueTerrier02', 'Komondor01',\n",
       "       'Kromfohrlander01', 'VillDog_China10', 'VillDog_China11',\n",
       "       'VillDog_China12', 'VillDog_China13', 'VillDog_China14',\n",
       "       'VillDog_China15', 'VillDog_China16', 'LagottoRomagnolo01',\n",
       "       'LagottoRomagnolo02', 'LagottoRomagnolo03', 'LagottoRomagnolo04',\n",
       "       'LR1030', 'Landseer01', 'LapponianHerder01', 'Leonberger01',\n",
       "       'Lowchen01', 'EnglishMastiff01', 'EnglishMastiff02', 'BAN00024',\n",
       "       'MiniaturePoodle01', 'MS04563', 'MS04593', 'MiniatureSchnauzer01',\n",
       "       'C3549', 'C750', 'C783', 'CFA.118000', 'GR1078',\n",
       "       'MIX_KerryBlueTerrier_Beagle01', 'LA2382', 'A168', 'MI016',\n",
       "       'MixedBreed07', 'MixedBreed06', 'IndigenousDogNigeria01',\n",
       "       'IndigenousDogNigeria02', 'IndigenousDogNigeria03',\n",
       "       'IndigenousDogNigeria04', 'NorwegianElkhound01',\n",
       "       'NorwegianElkhound02', 'NorwegianLundehund01',\n",
       "       'NorwegianLundehund02', 'NorwegianLundehund03',\n",
       "       'NovaScotiaDuckTollingRetriever01', 'Pekingese01',\n",
       "       'PembrokeWelshCorgi01', 'PembrokeWelshCorgi02',\n",
       "       'PembrokeWelshCorgi03', 'PeruvianHairless01',\n",
       "       'PetitBassetGriffonVendeen01', 'EnglishPointer01',\n",
       "       'EnglishPointer02', 'Pomeranian01', 'PL116', 'PortuguesePodengo01',\n",
       "       'PortugueseWaterDog01', 'PortugueseWaterDog02',\n",
       "       'PortugueseWaterDog03', 'PortugueseWaterDog04',\n",
       "       'PortugueseWaterDog05', 'PortugueseWaterDog06',\n",
       "       'PortugueseWaterDog07', 'PortugueseWaterDog08',\n",
       "       'PortugueseWaterDog09', 'PortugueseWaterDog10',\n",
       "       'PortugueseWaterDog11', 'Pug01', 'Pug02', 'Pug03', 'Pug04',\n",
       "       'Pug05', 'QingchuanDog01', 'RhodesianRidgeback01',\n",
       "       'RhodesianRidgeback02', 'RhodesianRidgeback03',\n",
       "       'RhodesianRidgeback04', 'RR098', '165414_S20', '168979_S18',\n",
       "       '171515_S19', 'AND10232010_S17', 'LEW02122013_S15', 'Rottweiler01',\n",
       "       'Rottweiler02', 'Rottweiler03', 'Rottweiler04', 'WS42321902_S16',\n",
       "       'SaintBernard01', 'SaintBernard02', 'Samoyed01', 'Samoyed02',\n",
       "       'SS004', 'ShetlandSheepdog01', 'ShetlandSheepdog02', 'PER00751',\n",
       "       'Sloughi02', 'Sloughi01', 'Sloughi03', 'Sloughi04',\n",
       "       'SoftCoatedWheatenTerrier01', 'SoftCoatedWheatenTerrier02',\n",
       "       'SoftCoatedWheatenTerrier03', 'SoftCoatedWheatenTerrier04',\n",
       "       'SpanishGalgo01', 'SpanishWaterDog01', 'CFA.109669', 'CFA.107842',\n",
       "       'StandardPoodle01', 'StandardPoodle02', 'StandardPoodle03',\n",
       "       'CFA.107834', 'CFA.118001', 'CFA.118002', 'StandardSchnauzer01',\n",
       "       'SwedishLapphund01', 'TibetanTerrier01', 'TibetanTerrier02',\n",
       "       'Tornjak01', 'ToyPoodle01', 'VillDog_China17', 'VillDog_China18',\n",
       "       'VillDog_China19', 'UnknownBreed09', 'KunmingDog01', '406434N',\n",
       "       'BH003', 'JR0034', 'UnknownBreed02', 'UnknownBreed03',\n",
       "       'UnknownBreed04', 'UnknownBreed05', 'UnknownBreed07',\n",
       "       'UnknownBreed10', 'UnknownBreed11', 'UnknownBreed12',\n",
       "       'UnknownBreed13', 'WGS-76N', 'AF14-170_S13', 'AF14-259_S12',\n",
       "       'AF14-260_S7', 'AF14-296_S9', 'AF14-297_S10', 'AF15-019_S2',\n",
       "       'AF15-074_S4', 'AF15-098_S11', 'NA13-359_S6', 'NA14-125_S8',\n",
       "       'NA14-126_S5', 'BAN00143', 'IndigenousDogVietnam01',\n",
       "       'IndigenousDogVietnam02', 'IndigenousDogVietnam03',\n",
       "       'IndigenousDogVietnam04', 'IndigenousDogVietnam05',\n",
       "       'VillDog_Australia01', 'VillDog_Borneo01', 'VillDog_Borneo02',\n",
       "       'VillDog_Borneo03', 'VillDog_China09', 'VillDog_China01',\n",
       "       'VillDog_China02', 'VillDog_China03', 'VillDog_China04',\n",
       "       'VillDog_China05', 'VillDog_China06', 'VillDog_China07',\n",
       "       'VillDog_China08', 'VillDog_China20', 'VillDog_China21',\n",
       "       'VillDog_China22', 'VillDog_China23', 'VillDog_China24',\n",
       "       'VillDog_China25', 'VillDog_China26', 'VillDog_China27',\n",
       "       'VillDog_China28', 'VillDog_China29', 'VillDog_China30',\n",
       "       'VillDog_China31', 'VillDog_China32', 'VillDog_China33',\n",
       "       'VillDog_China34', 'VillDog_China35', 'VillDog_China36',\n",
       "       'VillDog_China37', 'VillDog_China38', 'VillDog_China39',\n",
       "       'VillDog_China40', 'VillDog_China41', 'VillDog_China42',\n",
       "       'VillDog_China43', 'VillDog_China44', 'VillDog_China45',\n",
       "       'VillDog_China46', 'VillDog_China47', 'VillDog_China48',\n",
       "       'VillDog_China49', 'VillDog_China50', 'VillDog_China51',\n",
       "       'VillDog_China52', 'VillDog_Egypt01', 'VillDog_Egypt02',\n",
       "       'VillDog_India01', 'VillDog_India02', 'VillDog_India03',\n",
       "       'VillDog_India04', 'VillDog_India05', 'VillDog_Lebanon01',\n",
       "       'VillDog_Lebanon02', 'VillDog_Lebanon03', 'VillDog_Namibia01',\n",
       "       'VillDog_Namibia02', 'VillDog_Namibia03', 'VillDog_PapuaNG01',\n",
       "       'VillDog_PapuaNG02', 'VillDog_PapuaNG03', 'PT49',\n",
       "       'VillDog_Portugal01', 'VillDog_Portugal02', 'VillDog_Qatar01',\n",
       "       'VillDog_Qatar02', 'VillDog_Africa01', 'VillDog_Taiwan01',\n",
       "       'VillDog_Vietnam01', 'VillDog_Vietnam02', 'VillDog_Vietnam03',\n",
       "       'VillDog_Vietnam04', 'VillDog_Vietnam05', 'VillDog_Vietnam06',\n",
       "       'Vizsla01', 'WE006', 'MexicanHairless01', 'Xoloitzcuintli01'],\n",
       "      dtype=object)"
      ]
     },
     "execution_count": 17,
     "metadata": {},
     "output_type": "execute_result"
    }
   ],
   "source": [
    "only_admixed['Sample'].values"
   ]
  },
  {
   "cell_type": "code",
   "execution_count": 18,
   "metadata": {
    "collapsed": true
   },
   "outputs": [],
   "source": [
    "#now from the vcf of expt_a, get chr22_filtered for an admixed sample\n",
    "vcf=allel.read_vcf(osp.join('/scratch/groups/cdbustam/richras_dogs_copy','dogs/sm_expt1_w_wolf_coyote/chr22/chr22_filtered.vcf'))"
   ]
  },
  {
   "cell_type": "code",
   "execution_count": 19,
   "metadata": {},
   "outputs": [
    {
     "data": {
      "text/plain": [
       "(524864,)"
      ]
     },
     "execution_count": 19,
     "metadata": {},
     "output_type": "execute_result"
    }
   ],
   "source": [
    "vcf['variants/POS'].shape"
   ]
  },
  {
   "cell_type": "code",
   "execution_count": 20,
   "metadata": {},
   "outputs": [
    {
     "data": {
      "text/plain": [
       "(524864, 247, 2)"
      ]
     },
     "execution_count": 20,
     "metadata": {},
     "output_type": "execute_result"
    }
   ],
   "source": [
    "vcf['calldata/GT'].shape"
   ]
  },
  {
   "cell_type": "code",
   "execution_count": 21,
   "metadata": {
    "collapsed": true
   },
   "outputs": [],
   "source": [
    "vcf_unfiltered=allel.read_vcf(osp.join(os.environ['IN_PATH'],'dogs/chr22/chr22_unfiltered_phased.vcf.gz'))"
   ]
  },
  {
   "cell_type": "code",
   "execution_count": 22,
   "metadata": {},
   "outputs": [
    {
     "data": {
      "text/plain": [
       "((1870317, 722, 2), (1870317,))"
      ]
     },
     "execution_count": 22,
     "metadata": {},
     "output_type": "execute_result"
    }
   ],
   "source": [
    "vcf_unfiltered['calldata/GT'].shape, vcf_unfiltered['variants/POS'].shape"
   ]
  },
  {
   "cell_type": "code",
   "execution_count": 23,
   "metadata": {},
   "outputs": [
    {
     "data": {
      "text/plain": [
       "array([      1,       3,       6, ..., 1870313, 1870314, 1870316])"
      ]
     },
     "execution_count": 23,
     "metadata": {},
     "output_type": "execute_result"
    }
   ],
   "source": [
    "selectedPos=vcf['variants/POS']\n",
    "selectedidx = np.where(np.isin(vcf_unfiltered['variants/POS'],selectedPos))[0]\n",
    "selectedidx"
   ]
  },
  {
   "cell_type": "code",
   "execution_count": 24,
   "metadata": {},
   "outputs": [
    {
     "data": {
      "text/plain": [
       "(524864,)"
      ]
     },
     "execution_count": 24,
     "metadata": {},
     "output_type": "execute_result"
    }
   ],
   "source": [
    "selectedidx.shape"
   ]
  },
  {
   "cell_type": "code",
   "execution_count": 25,
   "metadata": {
    "collapsed": true
   },
   "outputs": [],
   "source": [
    "vcf_all=vcf_unfiltered['calldata/GT'][selectedidx,...]"
   ]
  },
  {
   "cell_type": "code",
   "execution_count": 26,
   "metadata": {},
   "outputs": [
    {
     "data": {
      "text/plain": [
       "(524864, 722, 2)"
      ]
     },
     "execution_count": 26,
     "metadata": {},
     "output_type": "execute_result"
    }
   ],
   "source": [
    "vcf_all.shape"
   ]
  },
  {
   "cell_type": "code",
   "execution_count": 27,
   "metadata": {},
   "outputs": [
    {
     "data": {
      "text/plain": [
       "(1444, 524864)"
      ]
     },
     "execution_count": 27,
     "metadata": {},
     "output_type": "execute_result"
    }
   ],
   "source": [
    "vcf_all_npy=vcf_all.reshape(-1,vcf_all.shape[1]*vcf_all.shape[2]).T\n",
    "vcf_all_npy.shape"
   ]
  },
  {
   "cell_type": "code",
   "execution_count": 177,
   "metadata": {},
   "outputs": [
    {
     "name": "stdout",
     "output_type": "stream",
     "text": [
      "Vietnamese Indigenous Dog\n"
     ]
    }
   ],
   "source": [
    "sample_name='IndigenousDogVietnam04'\n",
    "i=np.where(vcf_unfiltered['samples']==sample_name)[0].item()\n",
    "population_description = only_admixed[only_admixed.Sample==sample_name]['Population'].values[0]\n",
    "print(population_description)\n",
    "vcf_sample=torch.tensor(vcf_all_npy[2*i,:params.chmlen].reshape(1,-1)).float().to(params.device)"
   ]
  },
  {
   "cell_type": "code",
   "execution_count": 178,
   "metadata": {},
   "outputs": [
    {
     "data": {
      "text/plain": [
       "torch.Size([1, 524000])"
      ]
     },
     "execution_count": 178,
     "metadata": {},
     "output_type": "execute_result"
    }
   ],
   "source": [
    "vcf_sample.shape"
   ]
  },
  {
   "cell_type": "code",
   "execution_count": 179,
   "metadata": {},
   "outputs": [
    {
     "data": {
      "text/plain": [
       "524"
      ]
     },
     "execution_count": 179,
     "metadata": {},
     "output_type": "execute_result"
    }
   ],
   "source": [
    "params.n_win"
   ]
  },
  {
   "cell_type": "code",
   "execution_count": 180,
   "metadata": {
    "collapsed": true
   },
   "outputs": [],
   "source": [
    "model.eval()\n",
    "with torch.no_grad():\n",
    "    test_results=model(vcf_sample, mask=torch.ones(1,params.n_win,1).to(params.device))"
   ]
  },
  {
   "cell_type": "code",
   "execution_count": 181,
   "metadata": {},
   "outputs": [
    {
     "name": "stdout",
     "output_type": "stream",
     "text": [
      "Finished 'run_recursive' in 0.5900 secs\n"
     ]
    }
   ],
   "source": [
    "y_pred = test_results.coord_main.detach().cpu()\n",
    "n_vec_dim=y_pred.shape[-1]\n",
    "data_tensor = y_pred\n",
    "batch_size_cpd = data_tensor.shape[0]\n",
    "mu_prior = torch.zeros((batch_size_cpd, 1,n_vec_dim))\n",
    "mean_var=torch.mean(torch.var(data_tensor, dim =1),dim=0).unsqueeze(0)\n",
    "cov_prior = (mean_var.repeat(batch_size_cpd,1).unsqueeze(1)* torch.eye(n_vec_dim)).reshape(batch_size_cpd,1,n_vec_dim,n_vec_dim)\n",
    "cov_x = cov_prior\n",
    "likelihood_model = Multivariate_Gaussian(mu_prior, cov_prior, cov_x)\n",
    "T = params.n_win\n",
    "model_cpd = BOCD.BOCD(None, T, likelihood_model, batch_size_cpd)\n",
    "_,_,_,_=model_cpd.run_recursive(data_tensor, 'cpu')"
   ]
  },
  {
   "cell_type": "code",
   "execution_count": 182,
   "metadata": {
    "collapsed": true
   },
   "outputs": [],
   "source": [
    "# granular_pop_dict = load_path(osp.join(labels_path, 'granular_pop.pkl'), en_pickle=True)\n",
    "# superop_dict=load_path(osp.join(labels_path, 'superpop.pkl'), en_pickle=True)\n",
    "# pop_sample_map=pd.read_csv(osp.join(labels_path, 'pop_sample_map.tsv'),sep=\"\\t\")\n",
    "# pop_arr=repeat_pop_arr(pop_sample_map)\n",
    "# cp_target=valid_dataset.data['cps']\n",
    "# seqlen=cp_target.shape[1]\n",
    "# rev_pop_dict={v:k for k,v in granular_pop_dict.items()}\n",
    "# rev_sp_dict={v:k for k,v in superop_dict.items()}"
   ]
  },
  {
   "cell_type": "code",
   "execution_count": 183,
   "metadata": {
    "collapsed": true,
    "scrolled": false
   },
   "outputs": [],
   "source": [
    "# index = 2500\n",
    "# index=2620\n",
    "# index=51\n",
    "# index=3000\n",
    "# index=3100\n",
    "# index=2445\n",
    "# index=np.random.choice(idxOfInterest)\n",
    "# print(index)\n",
    "# true_cpsSample=cp_target[index,:]\n",
    "y_predSample=y_pred.squeeze(0)\n",
    "# y_trueSample=valid_dataset.data['y'][index,:]\n",
    "# granularpopSample=valid_dataset.data['granular_pop'][index,:]\n",
    "# namesSample=[rev_pop_dict[i] for i in granularpopSample.astype(int)]\n",
    "# superPopSample=valid_dataset.data['superpop'][index,:]\n",
    "# SpNamesSample=[rev_sp_dict[i] for i in superPopSample.astype(int)]"
   ]
  },
  {
   "cell_type": "code",
   "execution_count": 184,
   "metadata": {},
   "outputs": [
    {
     "data": {
      "text/plain": [
       "torch.Size([524, 3])"
      ]
     },
     "execution_count": 184,
     "metadata": {},
     "output_type": "execute_result"
    }
   ],
   "source": [
    "y_predSample.shape"
   ]
  },
  {
   "cell_type": "code",
   "execution_count": 185,
   "metadata": {
    "collapsed": true
   },
   "outputs": [],
   "source": [
    "pred_cps=getCpPred(cpMethod.gradient.name, y_predSample, 0.1, 1, params.n_win)\n",
    "pred_cps=pred_cps.squeeze(0).detach().cpu().numpy()# squeeze the batch dimension of 1"
   ]
  },
  {
   "cell_type": "code",
   "execution_count": 186,
   "metadata": {
    "collapsed": true
   },
   "outputs": [],
   "source": [
    "predBOCDSample=model_cpd.cp\n",
    "pred_cps_BOCD=getCpPred(cpMethod.BOCD.name, predBOCDSample, 5.0, 1, params.n_win)\n",
    "pred_cps_BOCD=pred_cps_BOCD.squeeze(0).detach().cpu().numpy()# squeeze the batch dimension of 1"
   ]
  },
  {
   "cell_type": "code",
   "execution_count": 187,
   "metadata": {
    "collapsed": true
   },
   "outputs": [],
   "source": [
    "cpIdx=np.nonzero(pred_cps_BOCD)[0]\n",
    "remWin=3\n",
    "for i in cpIdx:\n",
    "    low=max(0,i-remWin)\n",
    "    high=min(params.n_win, i+remWin)\n",
    "    pred_cps_BOCD[low:high]=1"
   ]
  },
  {
   "cell_type": "code",
   "execution_count": 188,
   "metadata": {},
   "outputs": [
    {
     "name": "stdout",
     "output_type": "stream",
     "text": [
      "Finished 'nearestNeighbourMapping' in 0.0143 secs\n"
     ]
    }
   ],
   "source": [
    "mappedSpArr=nearestNeighbourMapping(labels_path, y_predSample.numpy().reshape(-1,3))"
   ]
  },
  {
   "cell_type": "code",
   "execution_count": 189,
   "metadata": {},
   "outputs": [
    {
     "data": {
      "text/plain": [
       "(524,)"
      ]
     },
     "execution_count": 189,
     "metadata": {},
     "output_type": "execute_result"
    }
   ],
   "source": [
    "mappedSpArr.shape"
   ]
  },
  {
   "cell_type": "code",
   "execution_count": 190,
   "metadata": {
    "collapsed": true
   },
   "outputs": [],
   "source": [
    "y_True=train_dataset.data['y'].reshape(-1,3)\n",
    "superpopsTrue=train_dataset.data['superpop'].reshape(-1,)\n",
    "superop_dict=load_path(osp.join(labels_path, 'superpop.pkl'), en_pickle=True)"
   ]
  },
  {
   "cell_type": "code",
   "execution_count": 191,
   "metadata": {
    "collapsed": true
   },
   "outputs": [],
   "source": [
    "def formColorMapBySP(superpop_dict):\n",
    "    continentalPops=list(superpop_dict.values())\n",
    "    colors_pop = sns.color_palette(\"rainbow\", 10)\n",
    "    colors_pop_dict = {k:v for k,v in zip(continentalPops, colors_pop)}\n",
    "    return colors_pop_dict"
   ]
  },
  {
   "cell_type": "code",
   "execution_count": 192,
   "metadata": {
    "collapsed": true
   },
   "outputs": [],
   "source": [
    "@timer\n",
    "def plot_all(ax, y_preds, superpops, reduce_alpha=0.03, size=0.05, zorder=-1,**kwargs):\n",
    "    plt.rcParams['lines.solid_capstyle'] = 'round'\n",
    "    def expand(x, y, z, gap=1e-4):\n",
    "        add = np.tile([0, gap, np.nan], len(x))\n",
    "        x1 = np.repeat(x, 3) + add\n",
    "        y1 = np.repeat(y, 3) + add\n",
    "        z1 = np.repeat(z, 3) + add\n",
    "        return x1, y1, z1\n",
    "    \n",
    "    cpShow=kwargs.get('cpShow')\n",
    "    pred_cps=kwargs.get('pred_cps') \n",
    "    superop_dict=kwargs.get('superop_dict')\n",
    "    print(superop_dict)\n",
    "    continentalPops=list(superop_dict.values())\n",
    "    colors_pop_dict = formColorMapBySP(superop_dict)\n",
    "    \n",
    "    alpha=[1.0]*len(y_preds)\n",
    "    if cpShow is None:\n",
    "        alpha=(pred_cps==0).astype(float)\n",
    "        \n",
    "    colors_pop_dict2={}  \n",
    "    for pop in continentalPops:\n",
    "        start_rgb=colors_pop_dict[pop]\n",
    "        finish_rgb=(1.,1.,1.)\n",
    "        n=10\n",
    "        colors_pop_dict2[pop]=linear_gradient(start_rgb, finish_rgb, n)[0]\n",
    "    for pop in continentalPops:\n",
    "        idx = np.where(superpops==pop)[0]\n",
    "        ax.plot(*expand(y_preds[idx,0], y_preds[idx,1], y_preds[idx,2]), \\\n",
    "               color = colors_pop_dict[pop], alpha=0.2, linewidth=12) \n",
    "    \n",
    "    return colors_pop_dict"
   ]
  },
  {
   "cell_type": "code",
   "execution_count": 193,
   "metadata": {
    "collapsed": true
   },
   "outputs": [],
   "source": [
    "def linear_gradient(start_rgb, finish_rgb, n):\n",
    "    ''' returns a gradient list of (n) colors between\n",
    "      two rgb colors. start_rgb and finish_rgb\n",
    "       '''\n",
    "    # Initilize a list of the output colors with the starting color\n",
    "    RGB_list = [start_rgb]\n",
    "    # Calcuate a color at each evenly spaced value of t from 1 to n\n",
    "    for t in range(1, n):\n",
    "        # Interpolate RGB vector for color at the current value of t\n",
    "        curr_vector = [\n",
    "            (start_rgb[j] + (float(t)/(n-1))*(finish_rgb[j]-start_rgb[j]))\n",
    "            for j in range(3)]\n",
    "        # Add it to our list of output colors\n",
    "        RGB_list.append(curr_vector)\n",
    "    \n",
    "    return RGB_list"
   ]
  },
  {
   "cell_type": "code",
   "execution_count": 194,
   "metadata": {
    "collapsed": true
   },
   "outputs": [],
   "source": [
    "def getGradient(counterSPUsed, colorsSP_dict):\n",
    "    spGradient={}\n",
    "    for k,v in colorsSP_dict.items():\n",
    "        if counterSPUsed[k]>0:\n",
    "            if k<=len(colorsSP_dict)-2:\n",
    "                finish_rgb=k+1\n",
    "            else:\n",
    "                finish_rgb=0\n",
    "            spGradient[k]=linear_gradient(start_rgb=v, finish_rgb=[1.0, 1.0, 1.0],\\\n",
    "            n= max(10,3*counterSPUsed[k]+3))\n",
    "\n",
    "    return spGradient"
   ]
  },
  {
   "cell_type": "code",
   "execution_count": 195,
   "metadata": {},
   "outputs": [],
   "source": [
    "def getCmap(colorsPop_sp_dict, superpop_dict, vertical=True):\n",
    "    if vertical:\n",
    "        colorlist=[colorsPop_sp_dict[superpop_dict[k]] for k in ['East','Tibetan_Mastiff','Terrier',\\\n",
    "                           'Basenji','Retriever']]\n",
    "        norm=mpl.colors.Normalize(vmin=-1.5, vmax=1.5)\n",
    "    else:\n",
    "        colorlist=[colorsPop_sp_dict[superpop_dict[k]] for k in ['Terrier','Husky','Wolf']]\n",
    "        norm=mpl.colors.Normalize(vmin=-1.5, vmax=1.5)\n",
    "    cmap = LinearSegmentedColormap.from_list('Cmap', colors=colorlist, N=317)\n",
    "    return cmap, norm"
   ]
  },
  {
   "cell_type": "code",
   "execution_count": 196,
   "metadata": {
    "collapsed": true
   },
   "outputs": [],
   "source": [
    "def plotColorBar(superpop_dict, vertical=True):\n",
    "    fig, ax = plt.subplots(figsize=(6, 1))\n",
    "    if vertical:\n",
    "        rotation=90\n",
    "    else:\n",
    "        rotation=0\n",
    "    \n",
    "    colorsPop_sp_dict=formColorMapBySP(superpop_dict)\n",
    "    cmap, norm = getCmap(colorsPop_sp_dict, superpop_dict, vertical=vertical)\n",
    "    cbar=plt.colorbar(mpl.cm.ScalarMappable(norm=norm, cmap=cmap),\n",
    "             cax=ax, orientation='horizontal')\n",
    "    cbar.ax.tick_params(labelsize=20, rotation=rotation)\n",
    "    plt.show()"
   ]
  },
  {
   "cell_type": "code",
   "execution_count": 197,
   "metadata": {},
   "outputs": [
    {
     "data": {
      "image/png": "[encoded data removed]",
      "text/plain": [
       "<Figure size 432x72 with 1 Axes>"
      ]
     },
     "metadata": {},
     "output_type": "display_data"
    }
   ],
   "source": [
    "plotColorBar(superop_dict, vertical=True)"
   ]
  },
  {
   "cell_type": "code",
   "execution_count": 198,
   "metadata": {},
   "outputs": [
    {
     "data": {
      "text/plain": [
       "{'Basenji': 5,\n",
       " 'Coyote': 7,\n",
       " 'East': 6,\n",
       " 'Greyhound': 8,\n",
       " 'Hound': 2,\n",
       " 'Husky': 1,\n",
       " 'Retriever': 0,\n",
       " 'Terrier': 4,\n",
       " 'Tibetan_Mastiff': 9,\n",
       " 'Wolf': 3}"
      ]
     },
     "execution_count": 198,
     "metadata": {},
     "output_type": "execute_result"
    }
   ],
   "source": [
    "superop_dict"
   ]
  },
  {
   "cell_type": "code",
   "execution_count": 199,
   "metadata": {
    "collapsed": true
   },
   "outputs": [],
   "source": [
    "@timer\n",
    "def plotAdmixed(granularPopSample, y_predSample, **kwargs):\n",
    "    backgroundAxis=kwargs.get('backgroundAxis')\n",
    "    y_predCps=kwargs.get('y_predCps')\n",
    "    y_trainTrue=kwargs.get('y_trainTrue')\n",
    "    superpopsTrue=kwargs.get('superpopsTrue')\n",
    "    cpShow=kwargs.get('cpShow')\n",
    "    pred_cps=kwargs.get('pred_cps')\n",
    "    mappedSpArr=kwargs.get('mappedSpArr')\n",
    "    superop_dict=kwargs.get('superop_dict')\n",
    "    showLegend=kwargs.get('showLegend')\n",
    "    \n",
    "    fig, ax = plt.subplots(figsize=(13,11))\n",
    "    plt.rcParams['hatch.color']='grey'\n",
    "    \n",
    "    gs1 = fig.add_gridspec(nrows=2, ncols=1, height_ratios=[13,2])\n",
    "    ax1=fig.add_subplot(gs1[0],projection='3d')\n",
    "    ax1.set_xlim(np.array([-2,2]))\n",
    "    ax1.set_ylim(np.array([-2,2]))\n",
    "    ax1.set_zlim(np.array([-2,2])*.77)\n",
    "    ax2=fig.add_subplot(gs1[1])\n",
    "    for axis in [ax, ax2]:\n",
    "        axis.set_yticks([])\n",
    "        axis.spines['top'].set_color('none')\n",
    "        axis.spines['left'].set_color('none')\n",
    "        axis.spines['right'].set_color('none')\n",
    "    ax.set_xticks([])\n",
    "#     fig.subplots_adjust(left=0, right=0.5, bottom=0, top=0.5)\n",
    "    fig.subplots_adjust(left=-0.5, right=-0.49, bottom=0.0, top=0.4)\n",
    "    plt.subplots_adjust(hspace=-0.9)\n",
    "    \n",
    "    if backgroundAxis:\n",
    "        colorsPop_sp_dict =plot_all(ax1, y_trainTrue, superpopsTrue, reduce_alpha=1.0, size=100, \\\n",
    "                            superop_dict=superop_dict, cpShow=False)\n",
    "    else:\n",
    "        colorsPop_sp_dict = formColorMapBySP(superop_dict)\n",
    "        \n",
    "    cmap, norm = getCmap(colorsPop_sp_dict, superop_dict, vertical=True)\n",
    "    if showLegend:\n",
    "        patches=[]\n",
    "        for k, val in superop_dict.items():\n",
    "            patches.append(mpatches.Patch(color = colorsPop_sp_dict[val], label = k))\n",
    "        lgnd = ax1.legend(handles=patches, loc=\"upper right\", fontsize=15, bbox_to_anchor=(-0.15, 0.49, 1., .5))\n",
    "        ax1.add_artist(lgnd)\n",
    "    alpha=[1]*len(y_predSample)\n",
    "    \n",
    "    unknownIdx=np.nonzero(pred_cps)[0]\n",
    "    print(f\"number of changepoints removed:{len(unknownIdx)},{len(unknownIdx)/len(y_predSample)}\")\n",
    "    mappedSpArr[unknownIdx]=-1\n",
    "    colorsPop_sp_dict[-1]=(0.9,0.9,0.9) # grey color\n",
    "    granularPopNames=[\"UNK\" if i in unknownIdx else granularPopSample[i] for i in range(len(granularPopSample))]\n",
    "    knownIdx=[i for i in range(len(granularPopNames)) if granularPopNames[i]!=\"UNK\"]\n",
    "        \n",
    "    # No effect of zorder arg because its a 3d plot and has z axis\n",
    "    ax1.scatter(y_predSample[knownIdx,0], y_predSample[knownIdx,1], y_predSample[knownIdx,2],\\\n",
    "    c =cmap(norm(y_predSample[knownIdx,2])), cmap=cmap, s=70, zorder=0, edgecolor='black', linewidth=1.)\n",
    "    \n",
    "    if cpShow:\n",
    "        ax1.scatter(y_predSample[unknownIdx,0], y_predSample[unknownIdx,1], y_predSample[unknownIdx,2],\\\n",
    "                    facecolor='grey', hatch=3*'+',\\\n",
    "        color=[tuple(colorsPop_sp_dict[x])+(y,) for x,y in zip(mappedSpArr[unknownIdx] , alpha)], s=50, zorder=0) \n",
    "    \n",
    "    for axis in [ax1.xaxis, ax1.yaxis, ax1.zaxis]:\n",
    "        axis.set_pane_color((1.0, 1.0, 1.0, 0.0))\n",
    "        axis._axinfo[\"grid\"]['color'] = (1,1,1,0)\n",
    "    \n",
    "    #chm plot of predictions\n",
    "    ax2.bar(knownIdx, 1.02*np.ones(len(mappedSpArr[knownIdx])), \\\n",
    "            color=cmap(norm(y_predSample[knownIdx,2])), \\\n",
    "            width=1.0)\n",
    "    ax2.bar(unknownIdx, 1.02*np.ones(len(mappedSpArr[unknownIdx])), \\\n",
    "        color=[colorsPop_sp_dict[x]+(y,) for x,y in zip(mappedSpArr[unknownIdx],alpha)], \\\n",
    "        width=1.0, hatch=3*\"+\")\n",
    "    \n",
    "    xtickOffsetBegin=2\n",
    "    xtickOffsetEnd=-36\n",
    "\n",
    "    for ax in [ax2]:\n",
    "        ax.xaxis.set_major_locator(ticker.MultipleLocator(1))\n",
    "        ax.xaxis.set_minor_locator(ticker.MultipleLocator(4))\n",
    "        ax.xaxis.set_ticks_position('bottom')\n",
    "        ax.tick_params(which='major', width=2, length=10, labelsize=30)\n",
    "        ax.tick_params(which='minor', width=2, length=10, labelsize=10)\n",
    "        ax.set_xlim(0, params.n_win)\n",
    "        ax.set_ylim(0.99,1.09)\n",
    "        positions = [0+xtickOffsetBegin, int(params.n_win/2), params.n_win+xtickOffsetEnd]\n",
    "        x_labels = [0, int(params.n_win*params.win_size/2), params.n_win*params.win_size]\n",
    "        ax.xaxis.set_major_locator(ticker.FixedLocator(positions))\n",
    "        ax.xaxis.set_major_formatter(ticker.FixedFormatter(x_labels))\n",
    "        for tick in ax.xaxis.get_majorticklabels():\n",
    "            tick.set_horizontalalignment(\"center\")\n",
    "    \n",
    "    if kwargs.get('population_description') is not None:\n",
    "        ax1.set_title(kwargs.get('population_description'), fontsize=50, loc='left')\n",
    "    plt.tight_layout(pad=0.4, w_pad=0.3, h_pad=0.3)\n",
    "#     plt.tight_layout(pad=0., w_pad=0., h_pad=0.)\n",
    "    plt.show()\n",
    "    plt.close('all')"
   ]
  },
  {
   "cell_type": "code",
   "execution_count": 200,
   "metadata": {
    "collapsed": true,
    "scrolled": false
   },
   "outputs": [],
   "source": [
    "# granularPopSample=[sample_name]*params.n_win\n",
    "# plot_unlabeledSample(granularPopSample, y_predSample, pred_cps=pred_cps_BOC D, mappedSpArr=mappedSpArr, \\\n",
    "# backgroundAxis=True, y_True=y_True, superpopsTrue=superpopsTrue, superop_dict=superop_dict,\\\n",
    "#                      cpShow=False, population_description=population_description)"
   ]
  },
  {
   "cell_type": "code",
   "execution_count": 201,
   "metadata": {},
   "outputs": [
    {
     "name": "stdout",
     "output_type": "stream",
     "text": [
      "{'Retriever': 0, 'Husky': 1, 'Hound': 2, 'Wolf': 3, 'Terrier': 4, 'Basenji': 5, 'East': 6, 'Coyote': 7, 'Greyhound': 8, 'Tibetan_Mastiff': 9}\n",
      "Finished 'plot_all' in 0.2933 secs\n",
      "number of changepoints removed:114,0.21755725190839695\n"
     ]
    },
    {
     "data": {
      "image/png": "[encoded data removed]",
      "text/plain": [
       "<Figure size 936x792 with 3 Axes>"
      ]
     },
     "metadata": {},
     "output_type": "display_data"
    },
    {
     "name": "stdout",
     "output_type": "stream",
     "text": [
      "Finished 'plotAdmixed' in 7.1656 secs\n"
     ]
    }
   ],
   "source": [
    "granularPopSample=[sample_name]*params.n_win\n",
    "plotAdmixed(granularPopSample, y_predSample, pred_cps=pred_cps_BOCD, mappedSpArr=mappedSpArr, \\\n",
    "backgroundAxis=True, y_trainTrue=y_True, superpopsTrue=superpopsTrue, superop_dict=superop_dict,\\\n",
    "cpShow=False, population_description=None, showLegend=False)"
   ]
  },
  {
   "cell_type": "code",
   "execution_count": null,
   "metadata": {
    "collapsed": true
   },
   "outputs": [],
   "source": [
    "superop_dict"
   ]
  },
  {
   "cell_type": "code",
   "execution_count": null,
   "metadata": {
    "collapsed": true
   },
   "outputs": [],
   "source": []
  }
 ],
 "metadata": {
  "kernelspec": {
   "display_name": "Python 3",
   "language": "python",
   "name": "python3"
  },
  "language_info": {
   "codemirror_mode": {
    "name": "ipython",
    "version": 3
   },
   "file_extension": ".py",
   "mimetype": "text/x-python",
   "name": "python",
   "nbconvert_exporter": "python",
   "pygments_lexer": "ipython3",
   "version": "3.6.1"
  }
 },
 "nbformat": 4,
 "nbformat_minor": 2
}
