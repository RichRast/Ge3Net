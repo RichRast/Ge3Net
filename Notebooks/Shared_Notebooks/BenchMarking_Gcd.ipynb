{
 "cells": [
  {
   "cell_type": "code",
   "execution_count": 1,
   "metadata": {
    "collapsed": true
   },
   "outputs": [],
   "source": [
    "import torch\n",
    "import sys\n",
    "import os\n",
    "import os.path as osp\n",
    "import pandas as pd\n",
    "import numpy as np\n",
    "from scipy import stats\n",
    "import itertools\n",
    "import matplotlib.pyplot as plt\n",
    "import seaborn as sns\n",
    "from mpl_toolkits.mplot3d import Axes3D\n",
    "from matplotlib import ticker\n",
    "import matplotlib as mpl\n",
    "from   matplotlib.colors import LogNorm\n",
    "from sklearn.metrics import precision_recall_curve, recall_score, precision_score, \\\n",
    "balanced_accuracy_score, accuracy_score, auc\n",
    "from sklearn import metrics\n",
    "import scipy"
   ]
  },
  {
   "cell_type": "code",
   "execution_count": 2,
   "metadata": {
    "collapsed": true
   },
   "outputs": [],
   "source": [
    "root_dir = \"/home/users/richras/Ge2Net_Repo\"\n",
    "os.chdir(root_dir)"
   ]
  },
  {
   "cell_type": "code",
   "execution_count": 3,
   "metadata": {
    "collapsed": true
   },
   "outputs": [],
   "source": [
    "os.environ['USER_PATH']='/home/users/richras/Ge2Net_Repo'\n",
    "os.environ['USER_SCRATCH_PATH']=\"/scratch/users/richras\"\n",
    "os.environ['IN_PATH']='/scratch/groups/cdbustam/richras/data_in'\n",
    "os.environ['OUT_PATH']='/scratch/groups/cdbustam/richras/data_out'\n",
    "os.environ['LOG_PATH']='/scratch/groups/cdbustam/richras/logs/'"
   ]
  },
  {
   "cell_type": "code",
   "execution_count": 4,
   "metadata": {
    "collapsed": true
   },
   "outputs": [],
   "source": [
    "%load_ext autoreload\n",
    "%autoreload 2\n",
    "from src.utils.dataUtil import load_path, save_file, vcf2npy, getWinInfo, getValueBySelection\n",
    "from src.utils.modelUtil import Params, load_model, convert_nVector\n",
    "from src.utils.labelUtil import nearestNeighbourMapping, repeat_pop_arr\n",
    "from src.utils.decorators import timer\n",
    "from src.main.evaluation import GcdLoss\n",
    "import test"
   ]
  },
  {
   "cell_type": "code",
   "execution_count": 5,
   "metadata": {
    "collapsed": true
   },
   "outputs": [],
   "source": [
    "# Specify the dataset to be evaluated\n",
    "labels_path = osp.join(os.environ['OUT_PATH'],'humans/labels/data_id_2_geo')\n",
    "data_path = osp.join(os.environ['OUT_PATH'],'humans/labels/data_id_2_geo')\n",
    "dataset_type='valid'"
   ]
  },
  {
   "cell_type": "code",
   "execution_count": 6,
   "metadata": {},
   "outputs": [
    {
     "name": "stdout",
     "output_type": "stream",
     "text": [
      "Loading gen 0\n",
      " snps data: (1250, 317410)\n",
      " y_labels data :(1250, 317410)\n"
     ]
    }
   ],
   "source": [
    "#load test data snps and labels\n",
    "gens_to_ret=[0]\n",
    "for i, gen in enumerate(gens_to_ret):\n",
    "    print(f\"Loading gen {gen}\")\n",
    "    curr_snps = load_path(osp.join(data_path, str(dataset_type) ,'gen_' + str(gen), 'mat_vcf_2d.npy'))\n",
    "    print(f' snps data: {curr_snps.shape}')\n",
    "    curr_vcf_idx = load_path(osp.join(data_path , str(dataset_type) ,'gen_' + str(gen) ,'mat_map.npy'))\n",
    "    print(f' y_labels data :{curr_vcf_idx.shape}')\n",
    "\n",
    "    if i>0:\n",
    "        snps = np.concatenate((snps, curr_snps),axis=0)\n",
    "        vcf_idx = np.concatenate((vcf_idx, curr_vcf_idx),axis=0)\n",
    "    else:\n",
    "        snps = curr_snps\n",
    "        vcf_idx = curr_vcf_idx"
   ]
  },
  {
   "cell_type": "code",
   "execution_count": 7,
   "metadata": {
    "collapsed": true
   },
   "outputs": [],
   "source": [
    "# load train/ref data snps and labels\n",
    "gen=0\n",
    "dataset_type=\"train\"\n",
    "trainSnps_npy = load_path(osp.join(data_path, str(dataset_type) ,'gen_' + str(gen), 'mat_vcf_2d.npy'))\n",
    "train_y_vcf = load_path(osp.join(data_path , str(dataset_type) ,'gen_' + str(gen) ,'mat_map.npy'))"
   ]
  },
  {
   "cell_type": "code",
   "execution_count": 8,
   "metadata": {
    "collapsed": true
   },
   "outputs": [],
   "source": [
    "# transform the data into right shape \n",
    "chmLen=snps.shape[1]\n",
    "winSize=1000\n",
    "newChmLen, nWin=getWinInfo(chmLen, winSize)\n",
    "query_snps = snps[:,:newChmLen]\n",
    "trainSnps_npy = trainSnps_npy[:,:newChmLen]"
   ]
  },
  {
   "cell_type": "code",
   "execution_count": 9,
   "metadata": {
    "collapsed": true
   },
   "outputs": [],
   "source": [
    "def transformData(trainSnps_npy, query_snps, train_y_vcf, vcf_idx, labels_path, evalGlobalAnc):\n",
    "    trainSnps=trainSnps_npy\n",
    "    inputSnps=query_snps\n",
    "    query_labels = vcf_idx[:,0]\n",
    "    if not evalGlobalAnc:\n",
    "        trainSnps=trainSnps.reshape(-1,nWin, winSize)\n",
    "        inputSnps=inputSnps.reshape(-1,nWin, winSize)\n",
    "        query_labels = vcf_idx[:,:newChmLen].reshape(-1,nWin, winSize)\n",
    "        query_labels = stats.mode(query_labels, axis=2)[0].squeeze(2)\n",
    "    # get granular pop labels for train/ref and test dataset\n",
    "    pop_sample_map=pd.read_csv(osp.join(labels_path, 'pop_sample_map.tsv'),sep=\"\\t\")\n",
    "    pop_arr=repeat_pop_arr(pop_sample_map)\n",
    "    granular_pop_dict = load_path(osp.join(labels_path, 'granular_pop.pkl'), en_pickle=True)\n",
    "    superpop_dict=load_path(osp.join(labels_path, 'superpop.pkl'), en_pickle=True)\n",
    "    rev_pop_dict={v:k for k,v in granular_pop_dict.items()}\n",
    "    idx2gp_dict={k:v for k,v in zip(pop_arr[:,1],pop_arr[:,2])}\n",
    "    idx2sp_dict={k:v for k,v in zip(pop_arr[:,1],pop_arr[:,3])}\n",
    "    trainGranularPops=np.vectorize(idx2gp_dict.get)(train_y_vcf[:,0])\n",
    "    trainSuperPops=np.vectorize(idx2sp_dict.get)(train_y_vcf[:,0])\n",
    "    if not evalGlobalAnc:\n",
    "        trainGranularPops=trainGranularPops[:,np.newaxis, np.newaxis].astype(\"int16\")\n",
    "        trainSuperPops=trainSuperPops[:,np.newaxis, np.newaxis].astype(\"int16\")\n",
    "    uniqueGranularPops=np.unique(np.array(list(idx2gp_dict.values())))\n",
    "    uniqueSuperPops=np.unique(np.array(list(idx2sp_dict.values())))\n",
    "    query_gp = np.vectorize(idx2gp_dict.get)(query_labels)\n",
    "    query_sp = np.vectorize(idx2sp_dict.get)(query_labels)\n",
    "    idx2lbl_dict=load_path(osp.join(labels_path, 'labels.pkl'), en_pickle=True)\n",
    "    gp2labels_lat_dict={idx2gp_dict[k]:idx2lbl_dict[k][0] for k in pop_arr[:,1]}\n",
    "    gp2labels_long_dict={idx2gp_dict[k]:idx2lbl_dict[k][1] for k in pop_arr[:,1]}\n",
    "    return uniqueGranularPops, uniqueSuperPops, trainGranularPops, trainSuperPops, query_gp, query_sp, \\\n",
    "            trainSnps, inputSnps, gp2labels_lat_dict, gp2labels_long_dict"
   ]
  },
  {
   "cell_type": "code",
   "execution_count": 10,
   "metadata": {
    "collapsed": true
   },
   "outputs": [],
   "source": [
    "@timer\n",
    "def DistSimilarity(inputSnps, refTarget, distType=\"L2\",**kwargs):\n",
    "    \"\"\"\n",
    "    Computes L2 distance of each window with each window of target\n",
    "    and returns the sample from the refTarget that it is most closest to\n",
    "    Input:\n",
    "        inputSnps: tensor (num_query_samples x n_win x win_size)\n",
    "        refTarget: tensor (num_ref_anc x n_win x win_size)\n",
    "    Returns:\n",
    "        preds: tensor (num_query_samples,) indices of target that it is closest to\n",
    "    \"\"\"\n",
    "    labelType=kwargs.get('labelType')\n",
    "    matrix1 = np.repeat(inputSnps[:,np.newaxis,...], refTarget.shape[0], axis=1)\n",
    "    matrix2 = refTarget[np.newaxis,...]\n",
    "    if distType==\"L2\":\n",
    "        distMatrix = np.sum(np.square(matrix1-matrix2), axis=-1) # num_query_samples x num_ref_anc x n_win \n",
    "        print(f\"distance Matrix shape:{distMatrix.shape}\")\n",
    "        idx=np.argmin(distMatrix, axis=1) #num_query_anc\n",
    "        return idx\n",
    "    elif distType==\"hamming\":\n",
    "        print(f\"inputSnps shape, refTarget shape:{inputSnps.shape}, {refTarget.shape}\")\n",
    "        distFunc = np.vectorize(scipy.spatial.distance.cdist, signature='(m,n),(k,n)->(m,k)', excluded=['metric'])\n",
    "        distMatrix = distFunc(inputSnps, refTarget, metric=\"hamming\")\n",
    "        print(f\"distance Matrix shape:{distMatrix.shape}\")\n",
    "        idx=np.argmin(distMatrix, axis=-1) #num_query_anc\n",
    "        labels_path=osp.join(os.environ['OUT_PATH'],'humans/labels/data_id_2_geo')\n",
    "        train_sample_map=pd.read_csv(osp.join(labels_path, 'train_sample_map.tsv'), sep=\"\\t\")\n",
    "        pop_arr_train = repeat_pop_arr(train_sample_map)\n",
    "        mappedSpArr = mappedSpArr=np.array(pop_arr_train[idx,3]) if labelType==\"superpop\" else np.array(pop_arr_train[idx,2])\n",
    "        return idx"
   ]
  },
  {
   "cell_type": "code",
   "execution_count": 15,
   "metadata": {},
   "outputs": [],
   "source": [
    "@timer\n",
    "def getPredsbySimilarity(uniquePops, trainPoplabels, trainSnps, inputSnps, evalGlobalAnc, methodType,\\\n",
    "                         distType=\"L2\", labelType=\"superpop\"):\n",
    "    PopMask=np.zeros((uniquePops.shape[0], trainPoplabels.shape[0],1), dtype='int8') if evalGlobalAnc \\\n",
    "    else np.zeros((uniquePops.shape[0], trainPoplabels.shape[0],1,1), dtype='int8')\n",
    "    if evalGlobalAnc:trainPoplabels=trainPoplabels[...,np.newaxis]\n",
    "    for i in uniquePops:\n",
    "        PopMask[i,...]=trainPoplabels==i\n",
    "    trainSnps=trainSnps[np.newaxis,...]\n",
    "    print(trainSnps.shape, PopMask.shape)\n",
    "    if methodType==\"nearestNeighbour\":\n",
    "        refTarget=trainSnps\n",
    "        distType=\"hamming\"\n",
    "    else:\n",
    "        refTarget_tmp=np.sum(trainSnps*PopMask, axis=1)\n",
    "        if distType==\"hamming\":\n",
    "            refTarget_tmp=np.round(refTarget_tmp)\n",
    "        print(refTarget_tmp.shape)\n",
    "        refTarget=refTarget_tmp/np.sum(PopMask, axis=1) \n",
    "        print(f\"refTarget shape:{refTarget.shape}\")\n",
    "    return DistSimilarity(inputSnps, refTarget, distType, labelType=labelType)"
   ]
  },
  {
   "cell_type": "code",
   "execution_count": 16,
   "metadata": {
    "collapsed": true
   },
   "outputs": [],
   "source": [
    "#calculate gcd between coordinates mapped to testPred and true coordinates of testPred\n",
    "\n",
    "def gp2NVector(PredPops, gp2labels_lat_dict, gp2labels_long_dict):\n",
    "    Lat = np.vectorize(gp2labels_lat_dict.get)(PredPops)\n",
    "    Long = np.vectorize(gp2labels_long_dict.get)(PredPops)\n",
    "    nVector = convert_nVector(Lat, Long)\n",
    "    return nVector\n",
    "\n",
    "def getAcc(PredPops, TargetPops):\n",
    "    if len(TargetPops.shape)==2:\n",
    "        acc = len(PredPops[PredPops==TargetPops])*100/(TargetPops.shape[0]*TargetPops.shape[1])\n",
    "    elif len(TargetPops.shape)==1:\n",
    "        acc = len(PredPops[PredPops==TargetPops])*100/(TargetPops.shape[0])\n",
    "    return acc"
   ]
  },
  {
   "cell_type": "code",
   "execution_count": 17,
   "metadata": {
    "collapsed": true
   },
   "outputs": [],
   "source": [
    "# compute for granular pops \n",
    "def getMetrics(uniquePops, trainPops, trainSnps, inputSnps, query_pop, evalGlobalAnc, \\\n",
    "               labelType=\"granular_pop\", methodType=\"centroid\"):\n",
    "    metrics={}\n",
    "    if methodType==\"centroid\":\n",
    "        PredPops=getPredsbySimilarity(uniquePops, trainPops, trainSnps, inputSnps, evalGlobalAnc, methodType=methodType)\n",
    "    elif methodType==\"nearestNeighbour\":\n",
    "        PredPops=getPredsbySimilarity(uniquePops, trainPops, trainSnps, inputSnps, evalGlobalAnc, \\\n",
    "                                      methodType=methodType, labelType=labelType)\n",
    "        PredPops=PredPops.squeeze(0)\n",
    "        print(f\"PredPops shape:{PredPops.shape},{PredPops}\")\n",
    "    if labelType==\"granular_pop\":\n",
    "        PredNVector = gp2NVector(PredPops, gp2labels_lat_dict, gp2labels_long_dict)\n",
    "        testNVector = gp2NVector(query_gp, gp2labels_lat_dict, gp2labels_long_dict)\n",
    "        print(f\"PredNVector.shape, testNVector.shape:{PredNVector.shape}, {testNVector.shape}\")\n",
    "        gcdObj=GcdLoss()\n",
    "        metrics['gcd']=np.mean(gcdObj.rawGcd(PredNVector, testNVector))\n",
    "        print(f\"gcd:{metrics['gcd']}Km\")\n",
    "    metrics['acc'] = getAcc(PredPops, query_pop)\n",
    "    print(f\"Classification accuracy:{metrics['acc']}\")\n",
    "    return metrics"
   ]
  },
  {
   "cell_type": "code",
   "execution_count": 19,
   "metadata": {},
   "outputs": [
    {
     "name": "stdout",
     "output_type": "stream",
     "text": [
      " query_gp shape :(1250,)\n",
      "trainGranularPops.shape, trainSuperPops.shape:(4116,), (4116,)\n",
      "*******global granular anc nearest neighbour metrics*******\n",
      "(1, 4116, 317000) (136, 4116, 1)\n",
      "inputSnps shape, refTarget shape:(1250, 317000), (1, 4116, 317000)\n",
      "distance Matrix shape:(1, 1250, 4116)\n",
      "Finished 'DistSimilarity' in 1783.6690 secs\n",
      "Finished 'getPredsbySimilarity' in 1783.6708 secs\n",
      "PredPops shape:(1250,),[  92 3930  179 ...  560 1712   40]\n",
      "PredNVector.shape, testNVector.shape:(1250, 3), (1250, 3)\n",
      "gcd:nanKm\n",
      "Classification accuracy:0.0\n",
      "*******global super anc nearest neighbour metrics*******\n",
      "(1, 4116, 317000) (7, 4116, 1)\n",
      "inputSnps shape, refTarget shape:(1250, 317000), (1, 4116, 317000)\n",
      "distance Matrix shape:(1, 1250, 4116)\n",
      "Finished 'DistSimilarity' in 1809.9381 secs\n",
      "Finished 'getPredsbySimilarity' in 1809.9387 secs\n",
      "PredPops shape:(1250,),[  92 3930  179 ...  560 1712   40]\n",
      "Classification accuracy:0.0\n",
      " query_gp shape :(1250, 317)\n",
      "trainGranularPops.shape, trainSuperPops.shape:(4116, 1, 1), (4116, 1, 1)\n",
      "*******local granular anc metrics*******\n",
      "(1, 4116, 317, 1000) (136, 4116, 1, 1)\n",
      "(136, 317, 1000)\n",
      "refTarget shape:(136, 317, 1000)\n",
      "distance Matrix shape:(1250, 136, 317)\n",
      "Finished 'DistSimilarity' in 715.3210 secs\n",
      "Finished 'getPredsbySimilarity' in 987.7343 secs\n",
      "PredNVector.shape, testNVector.shape:(1250, 317, 3), (1250, 317, 3)\n",
      "gcd:5201.505430378055Km\n",
      "Classification accuracy:2.606687697160883\n",
      "*******local super anc metrics*******\n",
      "(1, 4116, 317, 1000) (7, 4116, 1, 1)\n",
      "(7, 317, 1000)\n",
      "refTarget shape:(7, 317, 1000)\n",
      "distance Matrix shape:(1250, 7, 317)\n",
      "Finished 'DistSimilarity' in 26.4836 secs\n",
      "Finished 'getPredsbySimilarity' in 41.8339 secs\n",
      "Classification accuracy:36.926940063091486\n",
      "*******global granular anc nearest neighbour metrics*******\n",
      "(1, 4116, 317, 1000) (136, 4116, 1, 1)\n",
      "inputSnps shape, refTarget shape:(1250, 317, 1000), (1, 4116, 317, 1000)\n"
     ]
    },
    {
     "ename": "ValueError",
     "evalue": "shape mismatch: objects cannot be broadcast to a single shape",
     "output_type": "error",
     "traceback": [
      "\u001b[0;31m---------------------------------------------------------------------------\u001b[0m",
      "\u001b[0;31mValueError\u001b[0m                                Traceback (most recent call last)",
      "\u001b[0;32m<ipython-input-19-db58a4d5284d>\u001b[0m in \u001b[0;36m<module>\u001b[0;34m()\u001b[0m\n\u001b[1;32m     21\u001b[0m         \u001b[0mSuperMetrics\u001b[0m\u001b[0;34m=\u001b[0m\u001b[0mgetMetrics\u001b[0m\u001b[0;34m(\u001b[0m\u001b[0muniqueSuperPops\u001b[0m\u001b[0;34m,\u001b[0m \u001b[0mtrainSuperPops\u001b[0m\u001b[0;34m,\u001b[0m \u001b[0mtrainSnps\u001b[0m\u001b[0;34m,\u001b[0m \u001b[0minputSnps\u001b[0m\u001b[0;34m,\u001b[0m \u001b[0mquery_sp\u001b[0m\u001b[0;34m,\u001b[0m \u001b[0mevalGlobalAnc\u001b[0m\u001b[0;34m=\u001b[0m\u001b[0;32mFalse\u001b[0m\u001b[0;34m,\u001b[0m                                         \u001b[0mlabelType\u001b[0m\u001b[0;34m=\u001b[0m\u001b[0;34m\"super_pop\"\u001b[0m\u001b[0;34m,\u001b[0m \u001b[0mmethodType\u001b[0m\u001b[0;34m=\u001b[0m\u001b[0;34m\"centroid\"\u001b[0m\u001b[0;34m)\u001b[0m\u001b[0;34m\u001b[0m\u001b[0m\n\u001b[1;32m     22\u001b[0m         \u001b[0mprint\u001b[0m\u001b[0;34m(\u001b[0m\u001b[0;34mf\"*******global granular anc nearest neighbour metrics*******\"\u001b[0m\u001b[0;34m)\u001b[0m\u001b[0;34m\u001b[0m\u001b[0m\n\u001b[0;32m---> 23\u001b[0;31m         \u001b[0mlocalGranularNnMetrics\u001b[0m\u001b[0;34m=\u001b[0m\u001b[0mgetMetrics\u001b[0m\u001b[0;34m(\u001b[0m\u001b[0muniqueGranularPops\u001b[0m\u001b[0;34m,\u001b[0m \u001b[0mtrainGranularPops\u001b[0m\u001b[0;34m,\u001b[0m \u001b[0mtrainSnps\u001b[0m\u001b[0;34m,\u001b[0m \u001b[0minputSnps\u001b[0m\u001b[0;34m,\u001b[0m \u001b[0mquery_gp\u001b[0m\u001b[0;34m,\u001b[0m \u001b[0mevalGlobalAnc\u001b[0m\u001b[0;34m=\u001b[0m\u001b[0;32mFalse\u001b[0m\u001b[0;34m,\u001b[0m                                         \u001b[0mlabelType\u001b[0m\u001b[0;34m=\u001b[0m\u001b[0;34m\"granular_pop\"\u001b[0m\u001b[0;34m,\u001b[0m \u001b[0mmethodType\u001b[0m\u001b[0;34m=\u001b[0m\u001b[0;34m\"nearestNeighbour\"\u001b[0m\u001b[0;34m)\u001b[0m\u001b[0;34m\u001b[0m\u001b[0m\n\u001b[0m\u001b[1;32m     24\u001b[0m         \u001b[0mprint\u001b[0m\u001b[0;34m(\u001b[0m\u001b[0;34mf\"*******global super anc nearest neighbour metrics*******\"\u001b[0m\u001b[0;34m)\u001b[0m\u001b[0;34m\u001b[0m\u001b[0m\n\u001b[1;32m     25\u001b[0m         \u001b[0mlocalSuperNnMetrics\u001b[0m\u001b[0;34m=\u001b[0m\u001b[0mgetMetrics\u001b[0m\u001b[0;34m(\u001b[0m\u001b[0muniqueSuperPops\u001b[0m\u001b[0;34m,\u001b[0m \u001b[0mtrainSuperPops\u001b[0m\u001b[0;34m,\u001b[0m \u001b[0mtrainSnps\u001b[0m\u001b[0;34m,\u001b[0m \u001b[0minputSnps\u001b[0m\u001b[0;34m,\u001b[0m \u001b[0mquery_sp\u001b[0m\u001b[0;34m,\u001b[0m \u001b[0mevalGlobalAnc\u001b[0m\u001b[0;34m=\u001b[0m\u001b[0;32mFalse\u001b[0m\u001b[0;34m,\u001b[0m                                         \u001b[0mlabelType\u001b[0m\u001b[0;34m=\u001b[0m\u001b[0;34m\"super_pop\"\u001b[0m\u001b[0;34m,\u001b[0m \u001b[0mmethodType\u001b[0m\u001b[0;34m=\u001b[0m\u001b[0;34m\"nearestNeighbour\"\u001b[0m\u001b[0;34m)\u001b[0m\u001b[0;34m\u001b[0m\u001b[0m\n",
      "\u001b[0;32m<ipython-input-17-ea12e1b9fcce>\u001b[0m in \u001b[0;36mgetMetrics\u001b[0;34m(uniquePops, trainPops, trainSnps, inputSnps, query_pop, evalGlobalAnc, labelType, methodType)\u001b[0m\n\u001b[1;32m      5\u001b[0m         \u001b[0mPredPops\u001b[0m\u001b[0;34m=\u001b[0m\u001b[0mgetPredsbySimilarity\u001b[0m\u001b[0;34m(\u001b[0m\u001b[0muniquePops\u001b[0m\u001b[0;34m,\u001b[0m \u001b[0mtrainPops\u001b[0m\u001b[0;34m,\u001b[0m \u001b[0mtrainSnps\u001b[0m\u001b[0;34m,\u001b[0m \u001b[0minputSnps\u001b[0m\u001b[0;34m,\u001b[0m \u001b[0mevalGlobalAnc\u001b[0m\u001b[0;34m,\u001b[0m \u001b[0mmethodType\u001b[0m\u001b[0;34m=\u001b[0m\u001b[0mmethodType\u001b[0m\u001b[0;34m)\u001b[0m\u001b[0;34m\u001b[0m\u001b[0m\n\u001b[1;32m      6\u001b[0m     \u001b[0;32melif\u001b[0m \u001b[0mmethodType\u001b[0m\u001b[0;34m==\u001b[0m\u001b[0;34m\"nearestNeighbour\"\u001b[0m\u001b[0;34m:\u001b[0m\u001b[0;34m\u001b[0m\u001b[0m\n\u001b[0;32m----> 7\u001b[0;31m         \u001b[0mPredPops\u001b[0m\u001b[0;34m=\u001b[0m\u001b[0mgetPredsbySimilarity\u001b[0m\u001b[0;34m(\u001b[0m\u001b[0muniquePops\u001b[0m\u001b[0;34m,\u001b[0m \u001b[0mtrainPops\u001b[0m\u001b[0;34m,\u001b[0m \u001b[0mtrainSnps\u001b[0m\u001b[0;34m,\u001b[0m \u001b[0minputSnps\u001b[0m\u001b[0;34m,\u001b[0m \u001b[0mevalGlobalAnc\u001b[0m\u001b[0;34m,\u001b[0m                                       \u001b[0mmethodType\u001b[0m\u001b[0;34m=\u001b[0m\u001b[0mmethodType\u001b[0m\u001b[0;34m,\u001b[0m \u001b[0mlabelType\u001b[0m\u001b[0;34m=\u001b[0m\u001b[0mlabelType\u001b[0m\u001b[0;34m)\u001b[0m\u001b[0;34m\u001b[0m\u001b[0m\n\u001b[0m\u001b[1;32m      8\u001b[0m         \u001b[0mPredPops\u001b[0m\u001b[0;34m=\u001b[0m\u001b[0mPredPops\u001b[0m\u001b[0;34m.\u001b[0m\u001b[0msqueeze\u001b[0m\u001b[0;34m(\u001b[0m\u001b[0;36m0\u001b[0m\u001b[0;34m)\u001b[0m\u001b[0;34m\u001b[0m\u001b[0m\n\u001b[1;32m      9\u001b[0m         \u001b[0mprint\u001b[0m\u001b[0;34m(\u001b[0m\u001b[0;34mf\"PredPops shape:{PredPops.shape},{PredPops}\"\u001b[0m\u001b[0;34m)\u001b[0m\u001b[0;34m\u001b[0m\u001b[0m\n",
      "\u001b[0;32m~/Ge2Net_Repo/src/utils/decorators.py\u001b[0m in \u001b[0;36mwrapper_timer\u001b[0;34m(*args, **kwargs)\u001b[0m\n\u001b[1;32m      9\u001b[0m     \u001b[0;32mdef\u001b[0m \u001b[0mwrapper_timer\u001b[0m\u001b[0;34m(\u001b[0m\u001b[0;34m*\u001b[0m\u001b[0margs\u001b[0m\u001b[0;34m,\u001b[0m \u001b[0;34m**\u001b[0m\u001b[0mkwargs\u001b[0m\u001b[0;34m)\u001b[0m\u001b[0;34m:\u001b[0m\u001b[0;34m\u001b[0m\u001b[0m\n\u001b[1;32m     10\u001b[0m         \u001b[0mstart_time\u001b[0m \u001b[0;34m=\u001b[0m \u001b[0mtime\u001b[0m\u001b[0;34m.\u001b[0m\u001b[0mperf_counter\u001b[0m\u001b[0;34m(\u001b[0m\u001b[0;34m)\u001b[0m\u001b[0;34m\u001b[0m\u001b[0m\n\u001b[0;32m---> 11\u001b[0;31m         \u001b[0mvalue\u001b[0m \u001b[0;34m=\u001b[0m \u001b[0mfunc\u001b[0m\u001b[0;34m(\u001b[0m\u001b[0;34m*\u001b[0m\u001b[0margs\u001b[0m\u001b[0;34m,\u001b[0m \u001b[0;34m**\u001b[0m\u001b[0mkwargs\u001b[0m\u001b[0;34m)\u001b[0m\u001b[0;34m\u001b[0m\u001b[0m\n\u001b[0m\u001b[1;32m     12\u001b[0m         \u001b[0mend_time\u001b[0m \u001b[0;34m=\u001b[0m \u001b[0mtime\u001b[0m\u001b[0;34m.\u001b[0m\u001b[0mperf_counter\u001b[0m\u001b[0;34m(\u001b[0m\u001b[0;34m)\u001b[0m\u001b[0;34m\u001b[0m\u001b[0m\n\u001b[1;32m     13\u001b[0m         \u001b[0mrun_time\u001b[0m \u001b[0;34m=\u001b[0m \u001b[0mend_time\u001b[0m \u001b[0;34m-\u001b[0m \u001b[0mstart_time\u001b[0m\u001b[0;34m\u001b[0m\u001b[0m\n",
      "\u001b[0;32m<ipython-input-15-cdf68830b2b6>\u001b[0m in \u001b[0;36mgetPredsbySimilarity\u001b[0;34m(uniquePops, trainPoplabels, trainSnps, inputSnps, evalGlobalAnc, methodType, distType, labelType)\u001b[0m\n\u001b[1;32m     17\u001b[0m         \u001b[0mrefTarget\u001b[0m\u001b[0;34m=\u001b[0m\u001b[0mrefTarget_tmp\u001b[0m\u001b[0;34m/\u001b[0m\u001b[0mnp\u001b[0m\u001b[0;34m.\u001b[0m\u001b[0msum\u001b[0m\u001b[0;34m(\u001b[0m\u001b[0mPopMask\u001b[0m\u001b[0;34m,\u001b[0m \u001b[0maxis\u001b[0m\u001b[0;34m=\u001b[0m\u001b[0;36m1\u001b[0m\u001b[0;34m)\u001b[0m\u001b[0;34m\u001b[0m\u001b[0m\n\u001b[1;32m     18\u001b[0m         \u001b[0mprint\u001b[0m\u001b[0;34m(\u001b[0m\u001b[0;34mf\"refTarget shape:{refTarget.shape}\"\u001b[0m\u001b[0;34m)\u001b[0m\u001b[0;34m\u001b[0m\u001b[0m\n\u001b[0;32m---> 19\u001b[0;31m     \u001b[0;32mreturn\u001b[0m \u001b[0mDistSimilarity\u001b[0m\u001b[0;34m(\u001b[0m\u001b[0minputSnps\u001b[0m\u001b[0;34m,\u001b[0m \u001b[0mrefTarget\u001b[0m\u001b[0;34m,\u001b[0m \u001b[0mdistType\u001b[0m\u001b[0;34m,\u001b[0m \u001b[0mlabelType\u001b[0m\u001b[0;34m=\u001b[0m\u001b[0mlabelType\u001b[0m\u001b[0;34m)\u001b[0m\u001b[0;34m\u001b[0m\u001b[0m\n\u001b[0m",
      "\u001b[0;32m~/Ge2Net_Repo/src/utils/decorators.py\u001b[0m in \u001b[0;36mwrapper_timer\u001b[0;34m(*args, **kwargs)\u001b[0m\n\u001b[1;32m      9\u001b[0m     \u001b[0;32mdef\u001b[0m \u001b[0mwrapper_timer\u001b[0m\u001b[0;34m(\u001b[0m\u001b[0;34m*\u001b[0m\u001b[0margs\u001b[0m\u001b[0;34m,\u001b[0m \u001b[0;34m**\u001b[0m\u001b[0mkwargs\u001b[0m\u001b[0;34m)\u001b[0m\u001b[0;34m:\u001b[0m\u001b[0;34m\u001b[0m\u001b[0m\n\u001b[1;32m     10\u001b[0m         \u001b[0mstart_time\u001b[0m \u001b[0;34m=\u001b[0m \u001b[0mtime\u001b[0m\u001b[0;34m.\u001b[0m\u001b[0mperf_counter\u001b[0m\u001b[0;34m(\u001b[0m\u001b[0;34m)\u001b[0m\u001b[0;34m\u001b[0m\u001b[0m\n\u001b[0;32m---> 11\u001b[0;31m         \u001b[0mvalue\u001b[0m \u001b[0;34m=\u001b[0m \u001b[0mfunc\u001b[0m\u001b[0;34m(\u001b[0m\u001b[0;34m*\u001b[0m\u001b[0margs\u001b[0m\u001b[0;34m,\u001b[0m \u001b[0;34m**\u001b[0m\u001b[0mkwargs\u001b[0m\u001b[0;34m)\u001b[0m\u001b[0;34m\u001b[0m\u001b[0m\n\u001b[0m\u001b[1;32m     12\u001b[0m         \u001b[0mend_time\u001b[0m \u001b[0;34m=\u001b[0m \u001b[0mtime\u001b[0m\u001b[0;34m.\u001b[0m\u001b[0mperf_counter\u001b[0m\u001b[0;34m(\u001b[0m\u001b[0;34m)\u001b[0m\u001b[0;34m\u001b[0m\u001b[0m\n\u001b[1;32m     13\u001b[0m         \u001b[0mrun_time\u001b[0m \u001b[0;34m=\u001b[0m \u001b[0mend_time\u001b[0m \u001b[0;34m-\u001b[0m \u001b[0mstart_time\u001b[0m\u001b[0;34m\u001b[0m\u001b[0m\n",
      "\u001b[0;32m<ipython-input-10-74d32c9da61d>\u001b[0m in \u001b[0;36mDistSimilarity\u001b[0;34m(inputSnps, refTarget, distType, **kwargs)\u001b[0m\n\u001b[1;32m     21\u001b[0m         \u001b[0mprint\u001b[0m\u001b[0;34m(\u001b[0m\u001b[0;34mf\"inputSnps shape, refTarget shape:{inputSnps.shape}, {refTarget.shape}\"\u001b[0m\u001b[0;34m)\u001b[0m\u001b[0;34m\u001b[0m\u001b[0m\n\u001b[1;32m     22\u001b[0m         \u001b[0mdistFunc\u001b[0m \u001b[0;34m=\u001b[0m \u001b[0mnp\u001b[0m\u001b[0;34m.\u001b[0m\u001b[0mvectorize\u001b[0m\u001b[0;34m(\u001b[0m\u001b[0mscipy\u001b[0m\u001b[0;34m.\u001b[0m\u001b[0mspatial\u001b[0m\u001b[0;34m.\u001b[0m\u001b[0mdistance\u001b[0m\u001b[0;34m.\u001b[0m\u001b[0mcdist\u001b[0m\u001b[0;34m,\u001b[0m \u001b[0msignature\u001b[0m\u001b[0;34m=\u001b[0m\u001b[0;34m'(m,n),(k,n)->(m,k)'\u001b[0m\u001b[0;34m,\u001b[0m \u001b[0mexcluded\u001b[0m\u001b[0;34m=\u001b[0m\u001b[0;34m[\u001b[0m\u001b[0;34m'metric'\u001b[0m\u001b[0;34m]\u001b[0m\u001b[0;34m)\u001b[0m\u001b[0;34m\u001b[0m\u001b[0m\n\u001b[0;32m---> 23\u001b[0;31m         \u001b[0mdistMatrix\u001b[0m \u001b[0;34m=\u001b[0m \u001b[0mdistFunc\u001b[0m\u001b[0;34m(\u001b[0m\u001b[0minputSnps\u001b[0m\u001b[0;34m,\u001b[0m \u001b[0mrefTarget\u001b[0m\u001b[0;34m,\u001b[0m \u001b[0mmetric\u001b[0m\u001b[0;34m=\u001b[0m\u001b[0;34m\"hamming\"\u001b[0m\u001b[0;34m)\u001b[0m\u001b[0;34m\u001b[0m\u001b[0m\n\u001b[0m\u001b[1;32m     24\u001b[0m         \u001b[0mprint\u001b[0m\u001b[0;34m(\u001b[0m\u001b[0;34mf\"distance Matrix shape:{distMatrix.shape}\"\u001b[0m\u001b[0;34m)\u001b[0m\u001b[0;34m\u001b[0m\u001b[0m\n\u001b[1;32m     25\u001b[0m         \u001b[0midx\u001b[0m\u001b[0;34m=\u001b[0m\u001b[0mnp\u001b[0m\u001b[0;34m.\u001b[0m\u001b[0margmin\u001b[0m\u001b[0;34m(\u001b[0m\u001b[0mdistMatrix\u001b[0m\u001b[0;34m,\u001b[0m \u001b[0maxis\u001b[0m\u001b[0;34m=\u001b[0m\u001b[0;34m-\u001b[0m\u001b[0;36m1\u001b[0m\u001b[0;34m)\u001b[0m \u001b[0;31m#num_query_anc\u001b[0m\u001b[0;34m\u001b[0m\u001b[0m\n",
      "\u001b[0;32m/share/software/user/open/py-numpy/1.18.1_py36/lib/python3.6/site-packages/numpy/lib/function_base.py\u001b[0m in \u001b[0;36m__call__\u001b[0;34m(self, *args, **kwargs)\u001b[0m\n\u001b[1;32m   2089\u001b[0m             \u001b[0mvargs\u001b[0m\u001b[0;34m.\u001b[0m\u001b[0mextend\u001b[0m\u001b[0;34m(\u001b[0m\u001b[0;34m[\u001b[0m\u001b[0mkwargs\u001b[0m\u001b[0;34m[\u001b[0m\u001b[0m_n\u001b[0m\u001b[0;34m]\u001b[0m \u001b[0;32mfor\u001b[0m \u001b[0m_n\u001b[0m \u001b[0;32min\u001b[0m \u001b[0mnames\u001b[0m\u001b[0;34m]\u001b[0m\u001b[0;34m)\u001b[0m\u001b[0;34m\u001b[0m\u001b[0m\n\u001b[1;32m   2090\u001b[0m \u001b[0;34m\u001b[0m\u001b[0m\n\u001b[0;32m-> 2091\u001b[0;31m         \u001b[0;32mreturn\u001b[0m \u001b[0mself\u001b[0m\u001b[0;34m.\u001b[0m\u001b[0m_vectorize_call\u001b[0m\u001b[0;34m(\u001b[0m\u001b[0mfunc\u001b[0m\u001b[0;34m=\u001b[0m\u001b[0mfunc\u001b[0m\u001b[0;34m,\u001b[0m \u001b[0margs\u001b[0m\u001b[0;34m=\u001b[0m\u001b[0mvargs\u001b[0m\u001b[0;34m)\u001b[0m\u001b[0;34m\u001b[0m\u001b[0m\n\u001b[0m\u001b[1;32m   2092\u001b[0m \u001b[0;34m\u001b[0m\u001b[0m\n\u001b[1;32m   2093\u001b[0m     \u001b[0;32mdef\u001b[0m \u001b[0m_get_ufunc_and_otypes\u001b[0m\u001b[0;34m(\u001b[0m\u001b[0mself\u001b[0m\u001b[0;34m,\u001b[0m \u001b[0mfunc\u001b[0m\u001b[0;34m,\u001b[0m \u001b[0margs\u001b[0m\u001b[0;34m)\u001b[0m\u001b[0;34m:\u001b[0m\u001b[0;34m\u001b[0m\u001b[0m\n",
      "\u001b[0;32m/share/software/user/open/py-numpy/1.18.1_py36/lib/python3.6/site-packages/numpy/lib/function_base.py\u001b[0m in \u001b[0;36m_vectorize_call\u001b[0;34m(self, func, args)\u001b[0m\n\u001b[1;32m   2155\u001b[0m         \u001b[0;34m\"\"\"Vectorized call to `func` over positional `args`.\"\"\"\u001b[0m\u001b[0;34m\u001b[0m\u001b[0m\n\u001b[1;32m   2156\u001b[0m         \u001b[0;32mif\u001b[0m \u001b[0mself\u001b[0m\u001b[0;34m.\u001b[0m\u001b[0msignature\u001b[0m \u001b[0;32mis\u001b[0m \u001b[0;32mnot\u001b[0m \u001b[0;32mNone\u001b[0m\u001b[0;34m:\u001b[0m\u001b[0;34m\u001b[0m\u001b[0m\n\u001b[0;32m-> 2157\u001b[0;31m             \u001b[0mres\u001b[0m \u001b[0;34m=\u001b[0m \u001b[0mself\u001b[0m\u001b[0;34m.\u001b[0m\u001b[0m_vectorize_call_with_signature\u001b[0m\u001b[0;34m(\u001b[0m\u001b[0mfunc\u001b[0m\u001b[0;34m,\u001b[0m \u001b[0margs\u001b[0m\u001b[0;34m)\u001b[0m\u001b[0;34m\u001b[0m\u001b[0m\n\u001b[0m\u001b[1;32m   2158\u001b[0m         \u001b[0;32melif\u001b[0m \u001b[0;32mnot\u001b[0m \u001b[0margs\u001b[0m\u001b[0;34m:\u001b[0m\u001b[0;34m\u001b[0m\u001b[0m\n\u001b[1;32m   2159\u001b[0m             \u001b[0mres\u001b[0m \u001b[0;34m=\u001b[0m \u001b[0mfunc\u001b[0m\u001b[0;34m(\u001b[0m\u001b[0;34m)\u001b[0m\u001b[0;34m\u001b[0m\u001b[0m\n",
      "\u001b[0;32m/share/software/user/open/py-numpy/1.18.1_py36/lib/python3.6/site-packages/numpy/lib/function_base.py\u001b[0m in \u001b[0;36m_vectorize_call_with_signature\u001b[0;34m(self, func, args)\u001b[0m\n\u001b[1;32m   2185\u001b[0m \u001b[0;34m\u001b[0m\u001b[0m\n\u001b[1;32m   2186\u001b[0m         broadcast_shape, dim_sizes = _parse_input_dimensions(\n\u001b[0;32m-> 2187\u001b[0;31m             args, input_core_dims)\n\u001b[0m\u001b[1;32m   2188\u001b[0m         input_shapes = _calculate_shapes(broadcast_shape, dim_sizes,\n\u001b[1;32m   2189\u001b[0m                                          input_core_dims)\n",
      "\u001b[0;32m/share/software/user/open/py-numpy/1.18.1_py36/lib/python3.6/site-packages/numpy/lib/function_base.py\u001b[0m in \u001b[0;36m_parse_input_dimensions\u001b[0;34m(args, input_core_dims)\u001b[0m\n\u001b[1;32m   1858\u001b[0m         \u001b[0mdummy_array\u001b[0m \u001b[0;34m=\u001b[0m \u001b[0mnp\u001b[0m\u001b[0;34m.\u001b[0m\u001b[0mlib\u001b[0m\u001b[0;34m.\u001b[0m\u001b[0mstride_tricks\u001b[0m\u001b[0;34m.\u001b[0m\u001b[0mas_strided\u001b[0m\u001b[0;34m(\u001b[0m\u001b[0;36m0\u001b[0m\u001b[0;34m,\u001b[0m \u001b[0marg\u001b[0m\u001b[0;34m.\u001b[0m\u001b[0mshape\u001b[0m\u001b[0;34m[\u001b[0m\u001b[0;34m:\u001b[0m\u001b[0mndim\u001b[0m\u001b[0;34m]\u001b[0m\u001b[0;34m)\u001b[0m\u001b[0;34m\u001b[0m\u001b[0m\n\u001b[1;32m   1859\u001b[0m         \u001b[0mbroadcast_args\u001b[0m\u001b[0;34m.\u001b[0m\u001b[0mappend\u001b[0m\u001b[0;34m(\u001b[0m\u001b[0mdummy_array\u001b[0m\u001b[0;34m)\u001b[0m\u001b[0;34m\u001b[0m\u001b[0m\n\u001b[0;32m-> 1860\u001b[0;31m     \u001b[0mbroadcast_shape\u001b[0m \u001b[0;34m=\u001b[0m \u001b[0mnp\u001b[0m\u001b[0;34m.\u001b[0m\u001b[0mlib\u001b[0m\u001b[0;34m.\u001b[0m\u001b[0mstride_tricks\u001b[0m\u001b[0;34m.\u001b[0m\u001b[0m_broadcast_shape\u001b[0m\u001b[0;34m(\u001b[0m\u001b[0;34m*\u001b[0m\u001b[0mbroadcast_args\u001b[0m\u001b[0;34m)\u001b[0m\u001b[0;34m\u001b[0m\u001b[0m\n\u001b[0m\u001b[1;32m   1861\u001b[0m     \u001b[0;32mreturn\u001b[0m \u001b[0mbroadcast_shape\u001b[0m\u001b[0;34m,\u001b[0m \u001b[0mdim_sizes\u001b[0m\u001b[0;34m\u001b[0m\u001b[0m\n\u001b[1;32m   1862\u001b[0m \u001b[0;34m\u001b[0m\u001b[0m\n",
      "\u001b[0;32m/share/software/user/open/py-numpy/1.18.1_py36/lib/python3.6/site-packages/numpy/lib/stride_tricks.py\u001b[0m in \u001b[0;36m_broadcast_shape\u001b[0;34m(*args)\u001b[0m\n\u001b[1;32m    189\u001b[0m     \u001b[0;31m# use the old-iterator because np.nditer does not handle size 0 arrays\u001b[0m\u001b[0;34m\u001b[0m\u001b[0;34m\u001b[0m\u001b[0m\n\u001b[1;32m    190\u001b[0m     \u001b[0;31m# consistently\u001b[0m\u001b[0;34m\u001b[0m\u001b[0;34m\u001b[0m\u001b[0m\n\u001b[0;32m--> 191\u001b[0;31m     \u001b[0mb\u001b[0m \u001b[0;34m=\u001b[0m \u001b[0mnp\u001b[0m\u001b[0;34m.\u001b[0m\u001b[0mbroadcast\u001b[0m\u001b[0;34m(\u001b[0m\u001b[0;34m*\u001b[0m\u001b[0margs\u001b[0m\u001b[0;34m[\u001b[0m\u001b[0;34m:\u001b[0m\u001b[0;36m32\u001b[0m\u001b[0;34m]\u001b[0m\u001b[0;34m)\u001b[0m\u001b[0;34m\u001b[0m\u001b[0m\n\u001b[0m\u001b[1;32m    192\u001b[0m     \u001b[0;31m# unfortunately, it cannot handle 32 or more arguments directly\u001b[0m\u001b[0;34m\u001b[0m\u001b[0;34m\u001b[0m\u001b[0m\n\u001b[1;32m    193\u001b[0m     \u001b[0;32mfor\u001b[0m \u001b[0mpos\u001b[0m \u001b[0;32min\u001b[0m \u001b[0mrange\u001b[0m\u001b[0;34m(\u001b[0m\u001b[0;36m32\u001b[0m\u001b[0;34m,\u001b[0m \u001b[0mlen\u001b[0m\u001b[0;34m(\u001b[0m\u001b[0margs\u001b[0m\u001b[0;34m)\u001b[0m\u001b[0;34m,\u001b[0m \u001b[0;36m31\u001b[0m\u001b[0;34m)\u001b[0m\u001b[0;34m:\u001b[0m\u001b[0;34m\u001b[0m\u001b[0m\n",
      "\u001b[0;31mValueError\u001b[0m: shape mismatch: objects cannot be broadcast to a single shape"
     ]
    }
   ],
   "source": [
    "# get global ancestry\n",
    "for evalGlobalAnc in [True, False]:\n",
    "    uniqueGranularPops, uniqueSuperPops, trainGranularPops, trainSuperPops, query_gp, query_sp, \\\n",
    "    trainSnps, inputSnps, gp2labels_lat_dict, gp2labels_long_dict = \\\n",
    "    transformData(trainSnps_npy, query_snps, train_y_vcf, vcf_idx, labels_path, evalGlobalAnc)\n",
    "    print(f\" query_gp shape :{query_gp.shape}\")\n",
    "    print(f\"trainGranularPops.shape, trainSuperPops.shape:{trainGranularPops.shape}, {trainSuperPops.shape}\")\n",
    "    if evalGlobalAnc:\n",
    "#         print(f\"*******global granular anc metrics*******\")\n",
    "#         globalGranularMetrics=getMetrics(uniqueGranularPops, trainGranularPops, trainSnps, inputSnps, query_gp, evalGlobalAnc=True,\\\n",
    "#                                          labelType=\"granular_pop\", methodType=\"centroid\")\n",
    "#         print(f\"*******global super anc metrics*******\")\n",
    "#         globalSuperMetrics=getMetrics(uniqueSuperPops, trainSuperPops, trainSnps, inputSnps, query_sp, evalGlobalAnc=True,\\\n",
    "#                                          labelType=\"super_pop\", methodType=\"centroid\")\n",
    "        print(f\"*******global granular anc nearest neighbour metrics*******\")\n",
    "        globalGranularNnMetrics=getMetrics(uniqueGranularPops, trainGranularPops, trainSnps, inputSnps, query_gp, evalGlobalAnc=True,\\\n",
    "                                         labelType=\"granular_pop\", methodType=\"nearestNeighbour\")\n",
    "        print(f\"*******global super anc nearest neighbour metrics*******\")\n",
    "        globalSuperNnMetrics=getMetrics(uniqueSuperPops, trainSuperPops, trainSnps, inputSnps, query_sp, evalGlobalAnc=True,\\\n",
    "                                         labelType=\"super_pop\", methodType=\"nearestNeighbour\")\n",
    "    else:\n",
    "        print(f\"*******local granular anc metrics*******\")\n",
    "        GranularMetrics=getMetrics(uniqueGranularPops, trainGranularPops, trainSnps, inputSnps, query_gp, evalGlobalAnc=False,\\\n",
    "                                         labelType=\"granular_pop\", methodType=\"centroid\")\n",
    "        print(f\"*******local super anc metrics*******\")\n",
    "        SuperMetrics=getMetrics(uniqueSuperPops, trainSuperPops, trainSnps, inputSnps, query_sp, evalGlobalAnc=False,\\\n",
    "                                         labelType=\"super_pop\", methodType=\"centroid\")\n",
    "        print(f\"*******global granular anc nearest neighbour metrics*******\")\n",
    "        localGranularNnMetrics=getMetrics(uniqueGranularPops, trainGranularPops, trainSnps, inputSnps, query_gp, evalGlobalAnc=False,\\\n",
    "                                         labelType=\"granular_pop\", methodType=\"nearestNeighbour\")\n",
    "        print(f\"*******global super anc nearest neighbour metrics*******\")\n",
    "        localSuperNnMetrics=getMetrics(uniqueSuperPops, trainSuperPops, trainSnps, inputSnps, query_sp, evalGlobalAnc=False,\\\n",
    "                                         labelType=\"super_pop\", methodType=\"nearestNeighbour\")"
   ]
  },
  {
   "cell_type": "code",
   "execution_count": null,
   "metadata": {
    "collapsed": true
   },
   "outputs": [],
   "source": [
    "globalGranularMetrics, globalSuperMetrics, GranularMetrics, SuperMetrics"
   ]
  },
  {
   "cell_type": "code",
   "execution_count": null,
   "metadata": {
    "collapsed": true
   },
   "outputs": [],
   "source": [
    "df_summary=pd.DataFrame(columns=['ClassificationAccuracy', 'Gcd', 'LabelType', 'PopType', 'DistType', 'gen', 'chm', 'DatasetType'])\n",
    "\n",
    "df_summary.loc[0]=[globalGranularMetrics['acc'], globalGranularMetrics['gcd'], 'Granular_Pop', 'Global', 'L2', gen, '22', 'Single_Ancestry==1']\n",
    "df_summary.loc[1]=[globalSuperMetrics['acc'], \"N/A\", 'Super_Pop', 'Global', 'L2', gen, '22', 'Single_Ancestry==1']\n",
    "df_summary.loc[2]=[GranularMetrics['acc'], GranularMetrics['gcd'], 'Granular_Pop', 'Local', 'L2', gen, '22', 'Single_Ancestry==1']\n",
    "df_summary.loc[3]=[SuperMetrics['acc'], \"N/A\", 'Super_Pop', 'Local', 'L2', gen, '22', 'Single_Ancestry==1']"
   ]
  },
  {
   "cell_type": "code",
   "execution_count": null,
   "metadata": {
    "collapsed": true
   },
   "outputs": [],
   "source": [
    "df_summary"
   ]
  },
  {
   "cell_type": "code",
   "execution_count": null,
   "metadata": {
    "collapsed": true
   },
   "outputs": [],
   "source": [
    "#evaluate the same by binning\n",
    "getSuperpopBins(labels_path:str, preds: np.ndarray)"
   ]
  }
 ],
 "metadata": {
  "kernelspec": {
   "display_name": "Python 3",
   "language": "python",
   "name": "python3"
  },
  "language_info": {
   "codemirror_mode": {
    "name": "ipython",
    "version": 3
   },
   "file_extension": ".py",
   "mimetype": "text/x-python",
   "name": "python",
   "nbconvert_exporter": "python",
   "pygments_lexer": "ipython3",
   "version": "3.6.1"
  }
 },
 "nbformat": 4,
 "nbformat_minor": 2
}
