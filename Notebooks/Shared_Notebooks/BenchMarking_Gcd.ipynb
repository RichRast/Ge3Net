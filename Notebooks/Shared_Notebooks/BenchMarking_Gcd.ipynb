{
 "cells": [
  {
   "cell_type": "code",
   "execution_count": 1,
   "metadata": {
    "collapsed": true
   },
   "outputs": [],
   "source": [
    "import torch\n",
    "import sys\n",
    "import os\n",
    "import os.path as osp\n",
    "import pandas as pd\n",
    "import numpy as np\n",
    "from scipy import stats\n",
    "import itertools\n",
    "import matplotlib.pyplot as plt\n",
    "import seaborn as sns\n",
    "from mpl_toolkits.mplot3d import Axes3D\n",
    "from matplotlib import ticker\n",
    "import matplotlib as mpl\n",
    "from   matplotlib.colors import LogNorm\n",
    "from sklearn.metrics import precision_recall_curve, recall_score, precision_score, \\\n",
    "balanced_accuracy_score, accuracy_score, auc\n",
    "from sklearn import metrics\n",
    "import scipy"
   ]
  },
  {
   "cell_type": "code",
   "execution_count": 2,
   "metadata": {
    "collapsed": true
   },
   "outputs": [],
   "source": [
    "root_dir = \"/home/users/richras/Ge2Net_Repo\"\n",
    "os.chdir(root_dir)"
   ]
  },
  {
   "cell_type": "code",
   "execution_count": 3,
   "metadata": {
    "collapsed": true
   },
   "outputs": [],
   "source": [
    "os.environ['USER_PATH']='/home/users/richras/Ge2Net_Repo'\n",
    "os.environ['USER_SCRATCH_PATH']=\"/scratch/users/richras\"\n",
    "os.environ['IN_PATH']='/scratch/groups/cdbustam/richras/data_in'\n",
    "os.environ['OUT_PATH']='/scratch/groups/cdbustam/richras/data_out'\n",
    "os.environ['LOG_PATH']='/scratch/groups/cdbustam/richras/logs/'"
   ]
  },
  {
   "cell_type": "code",
   "execution_count": 4,
   "metadata": {
    "collapsed": true
   },
   "outputs": [],
   "source": [
    "%load_ext autoreload\n",
    "%autoreload 2\n",
    "from src.utils.dataUtil import load_path, save_file, vcf2npy, getWinInfo, getValueBySelection\n",
    "from src.utils.modelUtil import Params, load_model, convert_nVector\n",
    "from src.utils.labelUtil import getSuperpopBins, repeat_pop_arr\n",
    "from src.utils.decorators import timer\n",
    "from src.main.evaluation import GcdLoss\n",
    "import test"
   ]
  },
  {
   "cell_type": "code",
   "execution_count": 5,
   "metadata": {
    "collapsed": true
   },
   "outputs": [],
   "source": [
    "# Specify the dataset to be evaluated\n",
    "labels_path = osp.join(os.environ['OUT_PATH'],'humans/labels/data_id_2_geo')\n",
    "data_path = osp.join(os.environ['OUT_PATH'],'humans/labels/data_id_2_geo')\n",
    "dataset_type='valid'"
   ]
  },
  {
   "cell_type": "code",
   "execution_count": 6,
   "metadata": {},
   "outputs": [
    {
     "name": "stdout",
     "output_type": "stream",
     "text": [
      "Loading gen 0\n",
      " snps data: (1250, 317410)\n",
      " y_labels data :(1250, 317410)\n"
     ]
    }
   ],
   "source": [
    "#load test data snps and labels\n",
    "gens_to_ret=[0]\n",
    "for i, gen in enumerate(gens_to_ret):\n",
    "    print(f\"Loading gen {gen}\")\n",
    "    curr_snps = load_path(osp.join(data_path, str(dataset_type) ,'gen_' + str(gen), 'mat_vcf_2d.npy'))\n",
    "    print(f' snps data: {curr_snps.shape}')\n",
    "    curr_vcf_idx = load_path(osp.join(data_path , str(dataset_type) ,'gen_' + str(gen) ,'mat_map.npy'))\n",
    "    print(f' y_labels data :{curr_vcf_idx.shape}')\n",
    "\n",
    "    if i>0:\n",
    "        snps = np.concatenate((snps, curr_snps),axis=0)\n",
    "        vcf_idx = np.concatenate((vcf_idx, curr_vcf_idx),axis=0)\n",
    "    else:\n",
    "        snps = curr_snps\n",
    "        vcf_idx = curr_vcf_idx"
   ]
  },
  {
   "cell_type": "code",
   "execution_count": 7,
   "metadata": {
    "collapsed": true
   },
   "outputs": [],
   "source": [
    "# load train/ref data snps and labels\n",
    "gen=0\n",
    "dataset_type=\"train\"\n",
    "trainSnps_npy = load_path(osp.join(data_path, str(dataset_type) ,'gen_' + str(gen), 'mat_vcf_2d.npy'))\n",
    "train_y_vcf = load_path(osp.join(data_path , str(dataset_type) ,'gen_' + str(gen) ,'mat_map.npy'))"
   ]
  },
  {
   "cell_type": "code",
   "execution_count": 8,
   "metadata": {
    "collapsed": true
   },
   "outputs": [],
   "source": [
    "# transform the data into right shape \n",
    "chmLen=snps.shape[1]\n",
    "winSize=1000\n",
    "newChmLen, nWin=getWinInfo(chmLen, winSize)\n",
    "query_snps = snps[:,:newChmLen]\n",
    "trainSnps_npy = trainSnps_npy[:,:newChmLen]"
   ]
  },
  {
   "cell_type": "code",
   "execution_count": 9,
   "metadata": {
    "collapsed": true
   },
   "outputs": [],
   "source": [
    "def transformData(trainSnps_npy, query_snps, train_y_vcf, vcf_idx, labels_path, evalGlobalAnc):\n",
    "    trainSnps=trainSnps_npy\n",
    "    inputSnps=query_snps\n",
    "    query_labels = vcf_idx[:,0]\n",
    "    if not evalGlobalAnc:\n",
    "        trainSnps=trainSnps.reshape(-1,nWin, winSize)\n",
    "        inputSnps=inputSnps.reshape(-1,nWin, winSize)\n",
    "        query_labels = vcf_idx[:,:newChmLen].reshape(-1,nWin, winSize)\n",
    "        query_labels = stats.mode(query_labels, axis=2)[0].squeeze(2)\n",
    "    # get granular pop labels for train/ref and test dataset\n",
    "    pop_sample_map=pd.read_csv(osp.join(labels_path, 'pop_sample_map.tsv'),sep=\"\\t\")\n",
    "    pop_arr=repeat_pop_arr(pop_sample_map)\n",
    "    granular_pop_dict = load_path(osp.join(labels_path, 'granular_pop.pkl'), en_pickle=True)\n",
    "    superpop_dict=load_path(osp.join(labels_path, 'superpop.pkl'), en_pickle=True)\n",
    "    rev_pop_dict={v:k for k,v in granular_pop_dict.items()}\n",
    "    idx2gp_dict={k:v for k,v in zip(pop_arr[:,1],pop_arr[:,2])}\n",
    "    idx2sp_dict={k:v for k,v in zip(pop_arr[:,1],pop_arr[:,3])}\n",
    "    trainGranularPops=np.vectorize(idx2gp_dict.get)(train_y_vcf[:,0])\n",
    "    trainSuperPops=np.vectorize(idx2sp_dict.get)(train_y_vcf[:,0])\n",
    "    if not evalGlobalAnc:\n",
    "        trainGranularPops=trainGranularPops[:,np.newaxis, np.newaxis].astype(\"int16\")\n",
    "        trainSuperPops=trainSuperPops[:,np.newaxis, np.newaxis].astype(\"int16\")\n",
    "    uniqueGranularPops=np.unique(np.array(list(idx2gp_dict.values())))\n",
    "    uniqueSuperPops=np.unique(np.array(list(idx2sp_dict.values())))\n",
    "    query_gp = np.vectorize(idx2gp_dict.get)(query_labels)\n",
    "    query_sp = np.vectorize(idx2sp_dict.get)(query_labels)\n",
    "    idx2lbl_dict=load_path(osp.join(labels_path, 'labels.pkl'), en_pickle=True)\n",
    "    gp2labels_lat_dict={idx2gp_dict[k]:idx2lbl_dict[k][0] for k in pop_arr[:,1]}\n",
    "    gp2labels_long_dict={idx2gp_dict[k]:idx2lbl_dict[k][1] for k in pop_arr[:,1]}\n",
    "    return uniqueGranularPops, uniqueSuperPops, trainGranularPops, trainSuperPops, query_gp, query_sp, \\\n",
    "            trainSnps, inputSnps, gp2labels_lat_dict, gp2labels_long_dict"
   ]
  },
  {
   "cell_type": "code",
   "execution_count": 10,
   "metadata": {
    "collapsed": true
   },
   "outputs": [],
   "source": [
    "@timer\n",
    "def DistSimilarity(inputSnps, refTarget, distType=\"L2\"):\n",
    "    \"\"\"\n",
    "    Computes L2 distance of each window with each window of target\n",
    "    and returns the sample from the refTarget that it is most closest to\n",
    "    Input:\n",
    "        inputSnps: tensor (num_query_samples x n_win x win_size)\n",
    "        refTarget: tensor (num_ref_anc x n_win x win_size)\n",
    "    Returns:\n",
    "        preds: tensor (num_query_samples,) indices of target that it is closest to\n",
    "    \"\"\"\n",
    "    \n",
    "    matrix1 = np.repeat(inputSnps[:,np.newaxis,...], refTarget.shape[0], axis=1)\n",
    "    matrix2 = refTarget[np.newaxis,...]\n",
    "    if distType==\"L2\":\n",
    "        distMatrix = np.sum(np.square(matrix1-matrix2), axis=-1) # num_query_samples x num_ref_anc x n_win \n",
    "    elif distType==\"hamming\":\n",
    "        print(f\"inputSnps shape, refTarget shape:{inputSnps.shape}, {refTarget.shape}\")\n",
    "        distFunc = np.vectorize(scipy.spatial.distance.cdist, signature='(m,n),(k,n)->(m,k)', excluded=['metric'])\n",
    "        distMatrix = distFunc(inputSnps, refTarget, metric=\"hamming\")\n",
    "    print(f\"distance Matrix shape:{distMatrix.shape}\")\n",
    "    idx=np.argmin(distMatrix, axis=1) #num_query_anc\n",
    "    return idx"
   ]
  },
  {
   "cell_type": "code",
   "execution_count": 21,
   "metadata": {
    "collapsed": true
   },
   "outputs": [],
   "source": [
    "@timer\n",
    "def getPredsbySimilarity(uniquePops, trainPoplabels, trainSnps, inputSnps, evalGlobalAnc, distType=\"L2\"):\n",
    "    PopMask=np.zeros((uniquePops.shape[0], trainPoplabels.shape[0],1), dtype='int8') if evalGlobalAnc \\\n",
    "    else np.zeros((uniquePops.shape[0], trainPoplabels.shape[0],1,1), dtype='int8')\n",
    "    if evalGlobalAnc:trainPoplabels=trainPoplabels[...,np.newaxis]\n",
    "    for i in uniquePops:\n",
    "        PopMask[i,...]=trainPoplabels==i\n",
    "    trainSnps=trainSnps[np.newaxis,...]\n",
    "    print(trainSnps.shape, PopMask.shape)\n",
    "    refTarget_tmp=np.sum(trainSnps*PopMask, axis=1)\n",
    "    if distType==\"hamming\":\n",
    "        refTarget_tmp=np.round(refTarget_tmp)\n",
    "    print(refTarget_tmp.shape)\n",
    "    refTarget=refTarget_tmp/np.sum(PopMask, axis=1) \n",
    "    print(f\"refTarget shape:{refTarget.shape}\")\n",
    "    return DistSimilarity(inputSnps, refTarget, distType)"
   ]
  },
  {
   "cell_type": "code",
   "execution_count": 12,
   "metadata": {
    "collapsed": true
   },
   "outputs": [],
   "source": [
    "#calculate gcd between coordinates mapped to testPred and true coordinates of testPred\n",
    "\n",
    "def gp2NVector(PredPops, gp2labels_lat_dict, gp2labels_long_dict):\n",
    "    Lat = np.vectorize(gp2labels_lat_dict.get)(PredPops)\n",
    "    Long = np.vectorize(gp2labels_long_dict.get)(PredPops)\n",
    "    nVector = convert_nVector(Lat, Long)\n",
    "    return nVector\n",
    "\n",
    "def getAcc(PredPops, TargetPops):\n",
    "    if len(TargetPops.shape)==2:\n",
    "        acc = len(PredPops[PredPops==TargetPops])*100/(TargetPops.shape[0]*TargetPops.shape[1])\n",
    "    elif len(TargetPops.shape)==1:\n",
    "        acc = len(PredPops[PredPops==TargetPops])*100/(TargetPops.shape[0])\n",
    "    return acc"
   ]
  },
  {
   "cell_type": "code",
   "execution_count": 13,
   "metadata": {
    "collapsed": true
   },
   "outputs": [],
   "source": [
    "# compute for granular pops \n",
    "def getMetrics(uniquePops, trainPops, trainSnps, inputSnps, query_pop, evalGlobalAnc, labelType=\"granular_pop\"):\n",
    "    metrics={}\n",
    "    PredPops=getPredsbySimilarity(uniquePops, trainPops, trainSnps, inputSnps, evalGlobalAnc)\n",
    "    if labelType==\"granular_pop\":\n",
    "        PredNVector = gp2NVector(PredPops, gp2labels_lat_dict, gp2labels_long_dict)\n",
    "        testNVector = gp2NVector(query_gp, gp2labels_lat_dict, gp2labels_long_dict)\n",
    "        print(f\"PredNVector.shape, testNVector.shape:{PredNVector.shape}, {testNVector.shape}\")\n",
    "        gcdObj=GcdLoss()\n",
    "        metrics['gcd']=np.mean(gcdObj.rawGcd(PredNVector, testNVector))\n",
    "        print(f\"gcd:{metrics['gcd']}Km\")\n",
    "    metrics['acc'] = getAcc(PredPops, query_pop)\n",
    "    print(f\"Classification accuracy:{metrics['acc']}\")\n",
    "    return metrics"
   ]
  },
  {
   "cell_type": "code",
   "execution_count": 22,
   "metadata": {},
   "outputs": [
    {
     "name": "stdout",
     "output_type": "stream",
     "text": [
      " query_gp shape :(1250,)\n",
      "trainGranularPops.shape, trainSuperPops.shape:(4116,), (4116,)\n",
      "*******global granular anc metrics*******\n",
      "(1, 4116, 317000) (136, 4116, 1)\n",
      "(136, 317000)\n",
      "refTarget shape:(136, 317000)\n",
      "distance Matrix shape:(1250, 136)\n",
      "Finished 'DistSimilarity' in 702.6993 secs\n",
      "Finished 'getPredsbySimilarity' in 1098.8307 secs\n",
      "PredNVector.shape, testNVector.shape:(1250, 3), (1250, 3)\n",
      "gcd:871.9780957715071Km\n",
      "Classification accuracy:47.6\n",
      "*******global super anc metrics*******\n",
      "(1, 4116, 317000) (7, 4116, 1)\n",
      "(7, 317000)\n",
      "refTarget shape:(7, 317000)\n",
      "distance Matrix shape:(1250, 7)\n",
      "Finished 'DistSimilarity' in 26.8546 secs\n",
      "Finished 'getPredsbySimilarity' in 46.8522 secs\n",
      "Classification accuracy:95.04\n",
      " query_gp shape :(1250, 317)\n",
      "trainGranularPops.shape, trainSuperPops.shape:(4116, 1, 1), (4116, 1, 1)\n",
      "*******local granular anc metrics*******\n",
      "(1, 4116, 317, 1000) (136, 4116, 1, 1)\n",
      "(136, 317, 1000)\n",
      "refTarget shape:(136, 317, 1000)\n",
      "distance Matrix shape:(1250, 136, 317)\n",
      "Finished 'DistSimilarity' in 570.9537 secs\n",
      "Finished 'getPredsbySimilarity' in 877.8839 secs\n",
      "PredNVector.shape, testNVector.shape:(1250, 317, 3), (1250, 317, 3)\n",
      "gcd:5201.505430378055Km\n",
      "Classification accuracy:2.606687697160883\n",
      "*******local super anc metrics*******\n",
      "(1, 4116, 317, 1000) (7, 4116, 1, 1)\n",
      "(7, 317, 1000)\n",
      "refTarget shape:(7, 317, 1000)\n",
      "distance Matrix shape:(1250, 7, 317)\n",
      "Finished 'DistSimilarity' in 26.7223 secs\n",
      "Finished 'getPredsbySimilarity' in 41.1904 secs\n",
      "Classification accuracy:36.926940063091486\n"
     ]
    }
   ],
   "source": [
    "# get global ancestry\n",
    "for evalGlobalAnc in [True, False]:\n",
    "    uniqueGranularPops, uniqueSuperPops, trainGranularPops, trainSuperPops, query_gp, query_sp, \\\n",
    "    trainSnps, inputSnps, gp2labels_lat_dict, gp2labels_long_dict = \\\n",
    "    transformData(trainSnps_npy, query_snps, train_y_vcf, vcf_idx, labels_path, evalGlobalAnc)\n",
    "    print(f\" query_gp shape :{query_gp.shape}\")\n",
    "    print(f\"trainGranularPops.shape, trainSuperPops.shape:{trainGranularPops.shape}, {trainSuperPops.shape}\")\n",
    "    if evalGlobalAnc:\n",
    "        print(f\"*******global granular anc metrics*******\")\n",
    "        globalGranularMetrics=getMetrics(uniqueGranularPops, trainGranularPops, trainSnps, inputSnps, query_gp, evalGlobalAnc=True,\\\n",
    "                                         labelType=\"granular_pop\")\n",
    "        print(f\"*******global super anc metrics*******\")\n",
    "        globalSuperMetrics=getMetrics(uniqueSuperPops, trainSuperPops, trainSnps, inputSnps, query_sp, evalGlobalAnc=True,\\\n",
    "                                         labelType=\"super_pop\")\n",
    "    else:\n",
    "        print(f\"*******local granular anc metrics*******\")\n",
    "        GranularMetrics=getMetrics(uniqueGranularPops, trainGranularPops, trainSnps, inputSnps, query_gp, evalGlobalAnc=False,\\\n",
    "                                         labelType=\"granular_pop\")\n",
    "        print(f\"*******local super anc metrics*******\")\n",
    "        SuperMetrics=getMetrics(uniqueSuperPops, trainSuperPops, trainSnps, inputSnps, query_sp, evalGlobalAnc=False,\\\n",
    "                                         labelType=\"super_pop\")"
   ]
  },
  {
   "cell_type": "code",
   "execution_count": 23,
   "metadata": {},
   "outputs": [
    {
     "data": {
      "text/plain": [
       "({'acc': 47.6, 'gcd': 871.9780957715071},\n",
       " {'acc': 95.04},\n",
       " {'acc': 2.606687697160883, 'gcd': 5201.505430378055},\n",
       " {'acc': 36.926940063091486})"
      ]
     },
     "execution_count": 23,
     "metadata": {},
     "output_type": "execute_result"
    }
   ],
   "source": [
    "globalGranularMetrics, globalSuperMetrics, GranularMetrics, SuperMetrics"
   ]
  },
  {
   "cell_type": "code",
   "execution_count": 31,
   "metadata": {},
   "outputs": [],
   "source": [
    "df_summary=pd.DataFrame(columns=['ClassificationAccuracy', 'Gcd', 'LabelType', 'PopType', 'DistType', 'gen', 'chm', 'DatasetType'])\n",
    "\n",
    "df_summary.loc[0]=[globalGranularMetrics['acc'], globalGranularMetrics['gcd'], 'Granular_Pop', 'Global', 'L2', gen, '22', 'Single_Ancestry==1']\n",
    "df_summary.loc[1]=[globalSuperMetrics['acc'], \"N/A\", 'Super_Pop', 'Global', 'L2', gen, '22', 'Single_Ancestry==1']\n",
    "df_summary.loc[2]=[GranularMetrics['acc'], GranularMetrics['gcd'], 'Granular_Pop', 'Local', 'L2', gen, '22', 'Single_Ancestry==1']\n",
    "df_summary.loc[3]=[SuperMetrics['acc'], \"N/A\", 'Super_Pop', 'Local', 'L2', gen, '22', 'Single_Ancestry==1']"
   ]
  },
  {
   "cell_type": "code",
   "execution_count": 32,
   "metadata": {},
   "outputs": [
    {
     "data": {
      "text/html": [
       "<div>\n",
       "<style scoped>\n",
       "    .dataframe tbody tr th:only-of-type {\n",
       "        vertical-align: middle;\n",
       "    }\n",
       "\n",
       "    .dataframe tbody tr th {\n",
       "        vertical-align: top;\n",
       "    }\n",
       "\n",
       "    .dataframe thead th {\n",
       "        text-align: right;\n",
       "    }\n",
       "</style>\n",
       "<table border=\"1\" class=\"dataframe\">\n",
       "  <thead>\n",
       "    <tr style=\"text-align: right;\">\n",
       "      <th></th>\n",
       "      <th>ClassificationAccuracy</th>\n",
       "      <th>Gcd</th>\n",
       "      <th>LabelType</th>\n",
       "      <th>PopType</th>\n",
       "      <th>DistType</th>\n",
       "      <th>gen</th>\n",
       "      <th>chm</th>\n",
       "      <th>DatasetType</th>\n",
       "    </tr>\n",
       "  </thead>\n",
       "  <tbody>\n",
       "    <tr>\n",
       "      <th>0</th>\n",
       "      <td>47.600000</td>\n",
       "      <td>871.978</td>\n",
       "      <td>Granular_Pop</td>\n",
       "      <td>Global</td>\n",
       "      <td>L2</td>\n",
       "      <td>0</td>\n",
       "      <td>22</td>\n",
       "      <td>Single_Ancestry==1</td>\n",
       "    </tr>\n",
       "    <tr>\n",
       "      <th>1</th>\n",
       "      <td>95.040000</td>\n",
       "      <td>N/A</td>\n",
       "      <td>Super_Pop</td>\n",
       "      <td>Global</td>\n",
       "      <td>L2</td>\n",
       "      <td>0</td>\n",
       "      <td>22</td>\n",
       "      <td>Single_Ancestry==1</td>\n",
       "    </tr>\n",
       "    <tr>\n",
       "      <th>2</th>\n",
       "      <td>2.606688</td>\n",
       "      <td>5201.51</td>\n",
       "      <td>Granular_Pop</td>\n",
       "      <td>Local</td>\n",
       "      <td>L2</td>\n",
       "      <td>0</td>\n",
       "      <td>22</td>\n",
       "      <td>Single_Ancestry==1</td>\n",
       "    </tr>\n",
       "    <tr>\n",
       "      <th>3</th>\n",
       "      <td>36.926940</td>\n",
       "      <td>N/A</td>\n",
       "      <td>Super_Pop</td>\n",
       "      <td>Local</td>\n",
       "      <td>L2</td>\n",
       "      <td>0</td>\n",
       "      <td>22</td>\n",
       "      <td>Single_Ancestry==1</td>\n",
       "    </tr>\n",
       "  </tbody>\n",
       "</table>\n",
       "</div>"
      ],
      "text/plain": [
       "   ClassificationAccuracy      Gcd     LabelType PopType DistType gen chm  \\\n",
       "0               47.600000  871.978  Granular_Pop  Global       L2   0  22   \n",
       "1               95.040000      N/A     Super_Pop  Global       L2   0  22   \n",
       "2                2.606688  5201.51  Granular_Pop   Local       L2   0  22   \n",
       "3               36.926940      N/A     Super_Pop   Local       L2   0  22   \n",
       "\n",
       "          DatasetType  \n",
       "0  Single_Ancestry==1  \n",
       "1  Single_Ancestry==1  \n",
       "2  Single_Ancestry==1  \n",
       "3  Single_Ancestry==1  "
      ]
     },
     "execution_count": 32,
     "metadata": {},
     "output_type": "execute_result"
    }
   ],
   "source": [
    "df_summary"
   ]
  },
  {
   "cell_type": "code",
   "execution_count": null,
   "metadata": {
    "collapsed": true
   },
   "outputs": [],
   "source": []
  }
 ],
 "metadata": {
  "kernelspec": {
   "display_name": "Python 3",
   "language": "python",
   "name": "python3"
  },
  "language_info": {
   "codemirror_mode": {
    "name": "ipython",
    "version": 3
   },
   "file_extension": ".py",
   "mimetype": "text/x-python",
   "name": "python",
   "nbconvert_exporter": "python",
   "pygments_lexer": "ipython3",
   "version": "3.6.1"
  }
 },
 "nbformat": 4,
 "nbformat_minor": 2
}
