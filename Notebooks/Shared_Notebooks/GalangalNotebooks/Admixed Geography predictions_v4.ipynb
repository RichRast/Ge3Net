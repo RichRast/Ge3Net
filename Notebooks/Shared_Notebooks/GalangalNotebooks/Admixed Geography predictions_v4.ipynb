{
 "cells": [
  {
   "cell_type": "code",
   "execution_count": 1,
   "metadata": {},
   "outputs": [],
   "source": [
    "import torch\n",
    "import sys\n",
    "import os\n",
    "import os.path as osp\n",
    "import pandas as pd\n",
    "import numpy as np\n",
    "import itertools\n",
    "import matplotlib.pyplot as plt\n",
    "import seaborn as sns\n",
    "import plotly.graph_objects as go\n",
    "from mpl_toolkits.mplot3d import Axes3D\n",
    "from matplotlib import ticker\n",
    "import matplotlib as mpl\n",
    "from matplotlib.colors import LinearSegmentedColormap\n",
    "from mpl_toolkits.axes_grid1.inset_locator import inset_axes\n",
    "from matplotlib.colors import LogNorm\n",
    "import matplotlib.patches as mpatches\n",
    "from sklearn.metrics import precision_recall_curve, recall_score, precision_score, \\\n",
    "balanced_accuracy_score, accuracy_score\n",
    "from sklearn import metrics\n",
    "import math\n",
    "import cartopy.feature\n",
    "import cartopy.crs as ccrs\n",
    "import allel\n",
    "import os.path as osp"
   ]
  },
  {
   "cell_type": "code",
   "execution_count": 2,
   "metadata": {},
   "outputs": [],
   "source": [
    "os.environ['USER_PATH']='/home/richras/Ge3Net_Journal/Ge2Net_Repo/'\n",
    "os.environ['USER_SCRATCH_PATH']=\"/home/richras/Ge3Net_Journal\"\n",
    "os.environ['OUT_PATH']='/home/richras/Ge3Net_Journal'"
   ]
  },
  {
   "cell_type": "code",
   "execution_count": 3,
   "metadata": {},
   "outputs": [],
   "source": [
    "os.chdir(os.environ.get('USER_PATH'))"
   ]
  },
  {
   "cell_type": "code",
   "execution_count": 4,
   "metadata": {},
   "outputs": [
    {
     "name": "stdout",
     "output_type": "stream",
     "text": [
      "1.2.0\n"
     ]
    }
   ],
   "source": [
    "print(torch.__version__)"
   ]
  },
  {
   "cell_type": "code",
   "execution_count": 5,
   "metadata": {},
   "outputs": [],
   "source": [
    "%load_ext autoreload\n",
    "%autoreload 2\n",
    "from src.utils.dataUtil import load_path, save_file, vcf2npy\n",
    "from src.utils.modelUtil import Params, load_model, convert_coordinates\n",
    "from src.utils.labelUtil import nearestNeighbourMapping, repeat_pop_arr, convert_nVector\n",
    "from src.utils.decorators import timer\n",
    "from src.models.modelSelection import modelSelect\n",
    "from src.models.modelParamsSelection import Selections\n",
    "from src.models import Model_A, Model_B, Model_C, BOCD\n",
    "from src.models.distributions import Multivariate_Gaussian\n",
    "from src.main.evaluation import eval_cp_batch, reportChangePointMetrics, t_prMetrics, cpMethod, eval_cp_matrix, \\\n",
    "getCpPred, GcdLoss\n",
    "from src.main.settings_model import parse_args\n",
    "from src.main.dataset import Haplotype\n",
    "from src.models.Ge3Net import Ge3NetBase\n",
    "from src.main.visualization import plot_changepoints\n",
    "import inference"
   ]
  },
  {
   "cell_type": "markdown",
   "metadata": {},
   "source": [
    "# load the model and use valid data "
   ]
  },
  {
   "cell_type": "code",
   "execution_count": 6,
   "metadata": {},
   "outputs": [],
   "source": [
    "# Specify the dataset to be evaluated\n",
    "# chm22 pca full dataset and model\n",
    "labels_path = osp.join(os.environ['OUT_PATH'], 'data','data_id_4_geo')\n",
    "data_path = osp.join(os.environ['OUT_PATH'],'data','data_id_4_geo')\n",
    "models_path=osp.join(os.environ['OUT_PATH'],'models','Model_Q_exp_id_3_data_id_4_geo/') \n",
    "dataset_type='test'"
   ]
  },
  {
   "cell_type": "code",
   "execution_count": 7,
   "metadata": {
    "scrolled": false
   },
   "outputs": [
    {
     "name": "stdout",
     "output_type": "stream",
     "text": [
      " device used: cuda\n",
      "Loading the datasets...\n"
     ]
    },
    {
     "name": "stderr",
     "output_type": "stream",
     "text": [
      "INFO: __init__:src.main.dataset: Loading test Dataset\n",
      "INFO: __init__:src.main.dataset:Loading gen 0\n",
      "INFO: __init__:src.main.dataset: snps data: (540, 317410)\n",
      "INFO: __init__:src.main.dataset: y_labels data :(540, 317410)\n",
      "INFO: __init__:src.main.dataset:Loading gen 2\n",
      "INFO: __init__:src.main.dataset: snps data: (800, 317410)\n",
      "INFO: __init__:src.main.dataset: y_labels data :(800, 317410)\n",
      "INFO: __init__:src.main.dataset:Loading gen 4\n",
      "INFO: __init__:src.main.dataset: snps data: (800, 317410)\n",
      "INFO: __init__:src.main.dataset: y_labels data :(800, 317410)\n",
      "INFO: __init__:src.main.dataset:Loading gen 8\n",
      "INFO: __init__:src.main.dataset: snps data: (800, 317410)\n",
      "INFO: __init__:src.main.dataset: y_labels data :(800, 317410)\n",
      "INFO: transform_data:src.main.dataset:Transforming the data\n"
     ]
    },
    {
     "name": "stdout",
     "output_type": "stream",
     "text": [
      "Finished '_geoConvertLatLong2nVec' in 0.0722 secs\n",
      "Finished 'mapping_func' in 0.2716 secs\n",
      "Finished 'pop_mapping' in 0.0999 secs\n",
      "Finished 'pop_mapping' in 0.0934 secs\n",
      "Finished 'transform_data' in 29.5688 secs\n",
      "Finished '__init__' in 52.9613 secs\n",
      "Parameter count for model AuxNetwork:31747503\n",
      "Parameter count for model TransformerModel:107528\n",
      "Parameter count for model BiRNN:34499\n",
      "Parameter count for model logits_Block:2289\n",
      "Total parameters:31891819\n",
      "Finished 'load_model' in 1.7953 secs\n",
      "best val loss metrics : {'loss_main': 866.6805836590546, 'loss_aux': 2160.2513772460106, 'l1_loss': 0.20087590047931303, 'mse': 0.045047710068923504, 'smooth_l1': 0.022466416130238673, 'weighted_loss': 0.20087590047931303}\n",
      "at epoch : 227\n",
      "train loss metrics: {'loss_main': 260.368462953392, 'loss_aux': 1561.6972164885574, 'l1_loss': 0.05821169218555197, 'mse': 0.005354038258400175, 'smooth_l1': 0.0026711223615385584, 'weighted_loss': 0.05821169218555197}\n",
      "best val cp metrics : {'loss_cp': 0.49852718259127005, 'prMetrics': OrderedDict([('Precision', array(0.04698644)), ('Recall', array(0.87514953)), ('Accuracy', array(0.70264787)), ('A_major', array(0.6997298)), ('BalancedAccuracy', 0.7874396635842865)])}\n",
      "train cp metrics: {'loss_cp': 0.27772317325980933, 'prMetrics': OrderedDict([('Precision', array(0.43709188)), ('Recall', array(0.81219869)), ('Accuracy', array(0.98198753)), ('A_major', array(0.98450305)), ('BalancedAccuracy', 0.8983508717877995)])}\n",
      "best val sp metrics : None\n",
      "train sp metrics: None\n",
      "best val balanced gcd metrics : {'meanBalancedGcdSp': 847.5928733386421, 'meanBalancedGcdGp': 983.3434251590701, 'medianBalancedGcdSp': 862.1782041181356, 'medianBalancedGcdGp': 880.1238600391921, 'median': 507.4490966796875}\n",
      "train balanced gcd metrics: {'meanBalancedGcdSp': 349.9616934236061, 'meanBalancedGcdGp': 473.6187598408302, 'medianBalancedGcdSp': 255.46220687890678, 'medianBalancedGcdGp': 416.00432274095226, 'median': 124.59101867675781}\n",
      "is the model on cuda? : True\n",
      "Finished 'batchLoopValid' in 6.2702 secs\n",
      "Finished 'main' in 61.5457 secs\n"
     ]
    }
   ],
   "source": [
    "config={}\n",
    "config['data.labels']=labels_path \n",
    "config['data.dir']=data_path \n",
    "config['models.dir']=models_path\n",
    "config['data.dataset_type']=dataset_type\n",
    "config['cuda']='cuda'\n",
    "config['model.loadBest']=True\n",
    "json_path = osp.join(config['models.dir'], 'params.yaml')\n",
    "assert osp.isfile(json_path), \"No json configuration file found at {}\".format(json_path)\n",
    "params = Params(json_path)\n",
    "params.rtnOuts=True\n",
    "params.mc_dropout=False\n",
    "params.mc_samples=100\n",
    "params.cp_tol=1\n",
    "params.test_gens=[0,2,4,8]\n",
    "params.evalCp=True\n",
    "params.evalBalancedGcd=True\n",
    "params.evalExtraMainLosses=True\n",
    "model_path = osp.join(config['models.dir'], 'models_dir')\n",
    "modelOption=modelSelect.get_selection()\n",
    "option = Selections.get_selection()\n",
    "criterion = option['loss'][params.criteria](reduction='sum', alpha=params.criteria_alpha, geography=params.geography)\n",
    "cp_criterion=option['cpMetrics']['loss_cp']\n",
    "params.pretrained=True\n",
    "params.optimizer='AdamW'\n",
    "results, test_dataset, model, _=inference.main(config, params)"
   ]
  },
  {
   "cell_type": "code",
   "execution_count": 8,
   "metadata": {
    "scrolled": true
   },
   "outputs": [
    {
     "name": "stderr",
     "output_type": "stream",
     "text": [
      "INFO: __init__:src.main.dataset: Loading train Dataset\n",
      "INFO: __init__:src.main.dataset:Loading gen 0\n",
      "INFO: __init__:src.main.dataset: snps data: (4778, 317410)\n",
      "INFO: __init__:src.main.dataset: y_labels data :(4778, 317410)\n",
      "INFO: __init__:src.main.dataset:Loading gen 2\n",
      "INFO: __init__:src.main.dataset: snps data: (800, 317410)\n",
      "INFO: __init__:src.main.dataset: y_labels data :(800, 317410)\n",
      "INFO: __init__:src.main.dataset:Loading gen 4\n",
      "INFO: __init__:src.main.dataset: snps data: (800, 317410)\n",
      "INFO: __init__:src.main.dataset: y_labels data :(800, 317410)\n",
      "INFO: __init__:src.main.dataset:Loading gen 8\n",
      "INFO: __init__:src.main.dataset: snps data: (800, 317410)\n",
      "INFO: __init__:src.main.dataset: y_labels data :(800, 317410)\n",
      "INFO: __init__:src.main.dataset:Loading gen 16\n",
      "INFO: __init__:src.main.dataset: snps data: (400, 317410)\n",
      "INFO: __init__:src.main.dataset: y_labels data :(400, 317410)\n",
      "INFO: __init__:src.main.dataset:Loading gen 24\n",
      "INFO: __init__:src.main.dataset: snps data: (400, 317410)\n",
      "INFO: __init__:src.main.dataset: y_labels data :(400, 317410)\n",
      "INFO: transform_data:src.main.dataset:Transforming the data\n"
     ]
    },
    {
     "name": "stdout",
     "output_type": "stream",
     "text": [
      "Finished '_geoConvertLatLong2nVec' in 0.1849 secs\n",
      "Finished 'mapping_func' in 0.6697 secs\n",
      "Finished 'pop_mapping' in 0.2769 secs\n",
      "Finished 'pop_mapping' in 0.2474 secs\n",
      "Finished 'transform_data' in 78.4256 secs\n",
      "Finished '__init__' in 93.1976 secs\n"
     ]
    }
   ],
   "source": [
    "# Need to read training dataset to mark training locations on the map\n",
    "train_dataset = Haplotype(\"train\", params, data_path, labels_path=labels_path)"
   ]
  },
  {
   "cell_type": "code",
   "execution_count": 9,
   "metadata": {},
   "outputs": [
    {
     "data": {
      "text/plain": [
       "True"
      ]
     },
     "execution_count": 9,
     "metadata": {},
     "output_type": "execute_result"
    }
   ],
   "source": [
    "model.to(params.device)\n",
    "next(model.parameters()).is_cuda"
   ]
  },
  {
   "cell_type": "code",
   "execution_count": 10,
   "metadata": {},
   "outputs": [],
   "source": [
    "def getAdmixedSamples(ref_map_path):\n",
    "    ref_map=pd.read_csv(ref_map_path, sep=\"\\t\")\n",
    "    admixed_ref=ref_map[ref_map.Single_Ancestry==0].reset_index(drop=True)\n",
    "    return admixed_ref, ref_map"
   ]
  },
  {
   "cell_type": "code",
   "execution_count": 11,
   "metadata": {},
   "outputs": [],
   "source": [
    "ref_map_path=osp.join(os.environ['OUT_PATH'], 'reference_panel_metadata.tsv')\n",
    "admixed_ref , full_ref=getAdmixedSamples(ref_map_path)"
   ]
  },
  {
   "cell_type": "code",
   "execution_count": 12,
   "metadata": {},
   "outputs": [
    {
     "data": {
      "text/plain": [
       "array(['African-American SW', 'African-Caribbean', 'Aleut', 'CEPH',\n",
       "       'Chukchi', 'Colombian', 'Hawaiian', 'Maori', 'Maya',\n",
       "       'Mexican-American', 'Mixtec', 'Peruvian', 'Pima', 'Puerto Rican',\n",
       "       'Tlingit'], dtype=object)"
      ]
     },
     "execution_count": 12,
     "metadata": {},
     "output_type": "execute_result"
    }
   ],
   "source": [
    "np.unique(admixed_ref[['Population']].values)"
   ]
  },
  {
   "cell_type": "code",
   "execution_count": 13,
   "metadata": {},
   "outputs": [],
   "source": [
    "vcf=allel.read_vcf(osp.join(os.environ['OUT_PATH'], 'ref_final_beagle_phased_1kg_hgdp_sgdp_chr22.vcf.gz'))"
   ]
  },
  {
   "cell_type": "code",
   "execution_count": 14,
   "metadata": {},
   "outputs": [],
   "source": [
    "vcf_npy=vcf2npy(osp.join(os.environ['OUT_PATH'], 'ref_final_beagle_phased_1kg_hgdp_sgdp_chr22.vcf.gz'))"
   ]
  },
  {
   "cell_type": "code",
   "execution_count": 15,
   "metadata": {},
   "outputs": [],
   "source": [
    "def getAdmixedSnps(sampleID, vcf, vcf_npy):\n",
    "    idx=np.where(vcf['samples']==sampleID)[0].item()\n",
    "    admixedSnps_1=vcf_npy[2*idx,:]\n",
    "    admixedSnps_2=vcf_npy[2*idx+1,:]\n",
    "    return admixedSnps_1, admixedSnps_2"
   ]
  },
  {
   "cell_type": "code",
   "execution_count": 16,
   "metadata": {},
   "outputs": [],
   "source": [
    "# idx=0"
   ]
  },
  {
   "cell_type": "code",
   "execution_count": 17,
   "metadata": {},
   "outputs": [
    {
     "name": "stdout",
     "output_type": "stream",
     "text": [
      "NA20126\n",
      "African-American SW\n"
     ]
    }
   ],
   "source": [
    "samples=admixed_ref[admixed_ref.Population==\"African-American SW\"]['Sample'].values\n",
    "sampleID = np.random.choice(samples)\n",
    "# idx+=1\n",
    "# sampleID=samples[idx]\n",
    "sampleID='NA20126'\n",
    "print(sampleID)\n",
    "samplePopulation=admixed_ref[admixed_ref.Sample==sampleID]['Population'].values[0]\n",
    "print(samplePopulation)\n",
    "admixedSnps_1, admixedSnps_2=getAdmixedSnps(sampleID, vcf, vcf_npy)"
   ]
  },
  {
   "cell_type": "code",
   "execution_count": null,
   "metadata": {},
   "outputs": [],
   "source": []
  },
  {
   "cell_type": "code",
   "execution_count": 118,
   "metadata": {},
   "outputs": [
    {
     "name": "stdout",
     "output_type": "stream",
     "text": [
      "HG02278\n",
      "Peruvian\n"
     ]
    }
   ],
   "source": [
    "# for any sample\n",
    "sampleID='HG02278'\n",
    "print(sampleID)\n",
    "samplePopulation=full_ref[full_ref.Sample==sampleID]['Population'].values[0]\n",
    "print(samplePopulation)\n",
    "admixedSnps_1, admixedSnps_2=getAdmixedSnps(sampleID, vcf, vcf_npy)"
   ]
  },
  {
   "cell_type": "code",
   "execution_count": 119,
   "metadata": {},
   "outputs": [
    {
     "data": {
      "text/plain": [
       "61"
      ]
     },
     "execution_count": 119,
     "metadata": {},
     "output_type": "execute_result"
    }
   ],
   "source": [
    "len(samples)"
   ]
  },
  {
   "cell_type": "code",
   "execution_count": 120,
   "metadata": {},
   "outputs": [
    {
     "data": {
      "text/plain": [
       "torch.Size([1, 317410])"
      ]
     },
     "execution_count": 120,
     "metadata": {},
     "output_type": "execute_result"
    }
   ],
   "source": [
    "admixedSnps=torch.tensor(admixedSnps_1.reshape(1,-1)).float().to(params.device) #use admixedSnps_2 for African-American sample\n",
    "admixedSnps.shape"
   ]
  },
  {
   "cell_type": "code",
   "execution_count": 121,
   "metadata": {},
   "outputs": [],
   "source": [
    "torch.cuda.empty_cache()\n",
    "model.eval()\n",
    "with torch.no_grad():\n",
    "    test_results=model(admixedSnps[:,:params.chmlen],\\\n",
    "                        mask=torch.ones(1,params.n_win,1).to(params.device))"
   ]
  },
  {
   "cell_type": "code",
   "execution_count": 122,
   "metadata": {},
   "outputs": [
    {
     "name": "stdout",
     "output_type": "stream",
     "text": [
      "Finished 'run_recursive' in 0.5028 secs\n"
     ]
    }
   ],
   "source": [
    "y_pred = test_results.coord_main.detach().cpu()\n",
    "n_vec_dim=y_pred.shape[-1]\n",
    "data_tensor = y_pred\n",
    "batch_size_cpd = data_tensor.shape[0]\n",
    "mu_prior = torch.zeros((batch_size_cpd, 1,n_vec_dim))\n",
    "mean_var=torch.mean(torch.var(data_tensor, dim =1),dim=0).unsqueeze(0)\n",
    "cov_prior = (mean_var.repeat(batch_size_cpd,1).unsqueeze(1)* torch.eye(n_vec_dim)).reshape(batch_size_cpd,1,n_vec_dim,n_vec_dim)\n",
    "cov_x = cov_prior\n",
    "likelihood_model = Multivariate_Gaussian(mu_prior, cov_prior, cov_x)\n",
    "T = params.n_win\n",
    "model_cpd = BOCD.BOCD(None, T, likelihood_model, batch_size_cpd)\n",
    "_,_,_,_=model_cpd.run_recursive(data_tensor, 'cpu')"
   ]
  },
  {
   "cell_type": "code",
   "execution_count": 123,
   "metadata": {},
   "outputs": [],
   "source": [
    "y_predSample=y_pred.squeeze(0)"
   ]
  },
  {
   "cell_type": "code",
   "execution_count": 124,
   "metadata": {},
   "outputs": [],
   "source": [
    "pred_cps=getCpPred(cpMethod.gradient.name, y_predSample, 0.1, 1, params.n_win)\n",
    "pred_cps=pred_cps.squeeze(0).detach().cpu().numpy()# squeeze the batch dimension of 1"
   ]
  },
  {
   "cell_type": "code",
   "execution_count": 125,
   "metadata": {},
   "outputs": [],
   "source": [
    "predBOCDSample=model_cpd.cp\n",
    "pred_cps_BOCD=getCpPred(cpMethod.BOCD.name, predBOCDSample, 5.0, 1, params.n_win)\n",
    "pred_cps_BOCD=pred_cps_BOCD.squeeze(0).detach().cpu().numpy()# squeeze the batch dimension of 1"
   ]
  },
  {
   "cell_type": "code",
   "execution_count": 126,
   "metadata": {},
   "outputs": [],
   "source": [
    "cpIdx=np.nonzero(pred_cps_BOCD)[0]\n",
    "remWin=3\n",
    "for i in cpIdx:\n",
    "    low=max(0,i-remWin)\n",
    "    high=min(params.n_win, i+remWin)\n",
    "    pred_cps_BOCD[low:high]=1"
   ]
  },
  {
   "cell_type": "code",
   "execution_count": 127,
   "metadata": {},
   "outputs": [
    {
     "name": "stdout",
     "output_type": "stream",
     "text": [
      "Finished 'nearestNeighbourMapping' in 0.0798 secs\n"
     ]
    }
   ],
   "source": [
    "mappedSpArr=nearestNeighbourMapping(labels_path, y_predSample.numpy().reshape(-1,3))"
   ]
  },
  {
   "cell_type": "code",
   "execution_count": 128,
   "metadata": {},
   "outputs": [],
   "source": [
    "y_True=train_dataset.data['y'].reshape(-1,3)\n",
    "superpopsTrue=train_dataset.data['superpop'].reshape(-1,)\n",
    "superop_dict=load_path(osp.join(labels_path, 'superpop.pkl'), en_pickle=True)"
   ]
  },
  {
   "cell_type": "code",
   "execution_count": 129,
   "metadata": {},
   "outputs": [],
   "source": [
    "def linear_gradient(start_rgb, finish_rgb, n):\n",
    "    ''' returns a gradient list of (n) colors between\n",
    "      two rgb colors. start_rgb and finish_rgb\n",
    "       '''\n",
    "    # Initilize a list of the output colors with the starting color\n",
    "    RGB_list = [start_rgb]\n",
    "    # Calcuate a color at each evenly spaced value of t from 1 to n\n",
    "    for t in range(1, n):\n",
    "        # Interpolate RGB vector for color at the current value of t\n",
    "        curr_vector = [\n",
    "            (start_rgb[j] + (float(t)/(n-1))*(finish_rgb[j]-start_rgb[j]))\n",
    "            for j in range(3)]\n",
    "        # Add it to our list of output colors\n",
    "        RGB_list.append(curr_vector)\n",
    "    \n",
    "    return RGB_list"
   ]
  },
  {
   "cell_type": "code",
   "execution_count": 130,
   "metadata": {},
   "outputs": [],
   "source": [
    "def formColorMapBySP(superop_dict):\n",
    "    continentalPops=[superop_dict['EUR'], superop_dict['EAS'], superop_dict['AMR'], superop_dict['SAS'],\\\n",
    "                 superop_dict['AFR'], superop_dict['OCE'], superop_dict['WAS']]\n",
    "    colors_pop = sns.color_palette(\"bright\", 10)\n",
    "    del colors_pop[1]\n",
    "    del colors_pop[4]\n",
    "    del colors_pop[5]\n",
    "    colors_pop_dict = {k:v for k,v in zip(continentalPops, colors_pop)}\n",
    "    return colors_pop_dict"
   ]
  },
  {
   "cell_type": "code",
   "execution_count": 131,
   "metadata": {},
   "outputs": [
    {
     "name": "stdout",
     "output_type": "stream",
     "text": [
      "[(0.9098039215686274, 0.0, 0.043137254901960784), (0.9450980392156862, 0.2980392156862745, 0.7568627450980392), (0.00784313725490196, 0.24313725490196078, 1.0)]\n"
     ]
    },
    {
     "data": {
      "image/png": "[encoded data removed]",
      "text/plain": [
       "<Figure size 432x72 with 1 Axes>"
      ]
     },
     "metadata": {
      "needs_background": "light"
     },
     "output_type": "display_data"
    }
   ],
   "source": [
    "fig, ax = plt.subplots(figsize=(6, 1))\n",
    "fig.subplots_adjust(bottom=0.5)\n",
    "\n",
    "colorsPop_sp_dict = formColorMapBySP(superop_dict)\n",
    "\n",
    "colorlistH=[colorsPop_sp_dict[superop_dict[k]] for k in ['AMR', 'AFR', 'EUR', 'WAS', 'SAS','EAS', 'OCE' ]]\n",
    "cmapH = LinearSegmentedColormap.from_list('CmapH', colors=colorlistH, N=317)\n",
    "# colors_linear_gradient = linear_gradient(colorsPop_sp_dict[superop_dict['AFR']], colorsPop_sp_dict[superop_dict['EUR']], n=317)\n",
    "colorlistV=[colorsPop_sp_dict[superop_dict['AMR']], colorsPop_sp_dict[superop_dict['AFR']], colorsPop_sp_dict[superop_dict['EUR']]]\n",
    "print(colorlistV)\n",
    "\n",
    "cmapV = LinearSegmentedColormap.from_list('CmapV', colors=colorlistV)\n",
    "# cmapV = LinearSegmentedColormap.from_list('CmapV', colors=colors_linear_gradient)\n",
    "# norm = plt.Normalize(-90, 90)\n",
    "# cb1 = mpl.colorbar.ColorbarBase(ax, cmap=cmapH,orientation='horizontal')\n",
    "# cb1.set_label('Longitude')\n",
    "norm=mpl.colors.Normalize(vmin=-90, vmax=90)\n",
    "fig.colorbar(mpl.cm.ScalarMappable(norm=norm, cmap=cmapV),\n",
    "             cax=ax, orientation='horizontal', label='horizontal')\n",
    "# cb2 = mpl.colorbar.ColorbarBase(ax, cmap=cmapV ,orientation='horizontal')\n",
    "# cb2.set_label('Latitude')\n",
    "fig.show()"
   ]
  },
  {
   "cell_type": "code",
   "execution_count": 132,
   "metadata": {},
   "outputs": [],
   "source": [
    "def getCmap(colorsPop_sp_dict, vertical=True):\n",
    "    if vertical:\n",
    "        colorlist=[colorsPop_sp_dict[superop_dict['AMR']],colorsPop_sp_dict[superop_dict['AFR']], colorsPop_sp_dict[superop_dict['AFR']], colorsPop_sp_dict[superop_dict['EUR']]]\n",
    "        norm=mpl.colors.Normalize(vmin=-90, vmax=90)\n",
    "    else:\n",
    "        colorlist=[colorsPop_sp_dict[superop_dict[k]] for k in ['OCE', 'AMR', 'AFR', 'EUR', 'WAS', 'SAS','EAS', 'OCE' ]]\n",
    "        norm=mpl.colors.Normalize(vmin=-180, vmax=180)\n",
    "    cmap = LinearSegmentedColormap.from_list('Cmap', colors=colorlist, N=317)\n",
    "    return cmap, norm"
   ]
  },
  {
   "cell_type": "code",
   "execution_count": 144,
   "metadata": {},
   "outputs": [],
   "source": [
    "@timer\n",
    "def plot_unlabeledSample(granularPopSample, y_predSample, vertical, **kwargs):\n",
    "    backgroundAxis=kwargs.get('backgroundAxis')\n",
    "    y_predCps=kwargs.get('y_predCps')\n",
    "    y_True=kwargs.get('y_True')\n",
    "    superpopsTrue=kwargs.get('superpopsTrue')\n",
    "    superop_dict=kwargs.get('superop_dict')\n",
    "    cpShow=kwargs.get('cpShow')\n",
    "    pred_cps=kwargs.get('pred_cps')\n",
    "    mappedSpArr=kwargs.get('mappedSpArr')\n",
    "    set_title=kwargs.get('set_title')\n",
    "    showCbar=kwargs.get('showCbar')\n",
    "    showLegend=kwargs.get('showLegend')\n",
    "    offsets=kwargs.get('offsets')\n",
    "    \n",
    "    fig, ax = plt.subplots(figsize=(offsets[4],offsets[5]))\n",
    "    \n",
    "    gs1 = fig.add_gridspec(nrows=1, ncols=2, width_ratios=[24,1])\n",
    "    ax1=fig.add_subplot(gs1[0],projection=ccrs.PlateCarree())\n",
    "    ax2=fig.add_subplot(gs1[1])\n",
    "    for axis in [ax, ax2]:\n",
    "        axis.set_yticks([])\n",
    "        axis.spines['top'].set_color('none')\n",
    "        axis.spines['left'].set_color('none')\n",
    "        axis.spines['bottom'].set_color('none')\n",
    "        \n",
    "    ax.set_xticks([])\n",
    "    plt.subplots_adjust(hspace=0.0)\n",
    "\n",
    "    ax1.add_feature(cartopy.feature.OCEAN, facecolor=(\"lightblue\"), alpha=0.8)\n",
    "    ax1.add_feature(cartopy.feature.LAND, alpha =0.3)\n",
    "    ax1.add_feature(cartopy.feature.COASTLINE, alpha =0.5)\n",
    "    \n",
    "    # for zoom in\n",
    "    x_min=np.min(y_predSample[:,1])-offsets[0]\n",
    "    x_max=np.max(y_predSample[:,1])+offsets[1]\n",
    "    y_min=np.min(y_predSample[:,0])-offsets[2]\n",
    "    y_max=np.max(y_predSample[:,0])+offsets[3]\n",
    "    ax1.set_extent([x_min, x_max, y_min, y_max], ccrs.PlateCarree())\n",
    "    #ax1.set_extent([-180, 180, -60, 90], ccrs.PlateCarree())\n",
    "\n",
    "    colorsPop_sp_dict = formColorMapBySP(superop_dict)\n",
    "    cmap, norm = getCmap(colorsPop_sp_dict, vertical=vertical)\n",
    "    if showLegend:\n",
    "        patches=[]\n",
    "        patches.append(mpatches.Patch(facecolor = (0.9,0.9,0.9), label = \"Changepoint\", hatch=1*'+')) #add UNK legend patch separately\n",
    "        patches.append(ax1.scatter([],[], color = 'black', marker='x', s=600, linewidths=1, alpha=0.5, label = \"Training Locations\")) #add training locations\n",
    "        lgnd = ax1.legend(handles=patches, loc=\"upper left\", fontsize=40)\n",
    "        ax1.add_artist(lgnd)\n",
    "    \n",
    "    # assign color for changepoints\n",
    "    alpha=[1]*len(y_predSample)\n",
    "    unknownIdx=np.nonzero(pred_cps)[0]\n",
    "    print(f\"number of changepoints removed:{len(unknownIdx)},{len(unknownIdx)*100/len(y_predSample)}\")\n",
    "    granularPopNames=[\"UNK\" if i in unknownIdx else granularPopSample[i] for i in range(len(granularPopSample))]\n",
    "    mappedSpArr[unknownIdx]=-1\n",
    "    colorsPop_sp_dict[-1]=(0.9,0.9,0.9) # grey color\n",
    "    knownIdx=[i for i in range(len(granularPopNames)) if granularPopNames[i]!=\"UNK\"]\n",
    "\n",
    "    #plot the predicted coordinates\n",
    "    if vertical:\n",
    "        ax1.scatter(y_predSample[knownIdx,1], y_predSample[knownIdx,0],\\\n",
    "        edgecolor='grey', linewidth=1.5, c = cmap(norm(y_predSample[knownIdx,0])),\\\n",
    "        cmap=cmap, s=600, zorder=0.5)\n",
    "    else:\n",
    "        ax1.scatter(y_predSample[knownIdx,1], y_predSample[knownIdx,0],\\\n",
    "        edgecolor='grey', linewidth=1.5, c = cmap(norm(y_predSample[knownIdx,1])),\\\n",
    "        cmap=cmap, s=600, zorder=0.5)\n",
    "    if cpShow:\n",
    "        #changepoints\n",
    "        ax1.scatter(y_predSample[unknownIdx,1], y_predSample[unknownIdx,0], facecolor='grey', hatch=1*'+',\\\n",
    "        color = [tuple(colorsPop_sp_dict[x])+(y,) for x,y in zip(mappedSpArr[unknownIdx], alpha)], s=250, zorder=0, marker=\"D\") \n",
    "    \n",
    "    #training locations\n",
    "    ax1.scatter(y_True[1].values, y_True[0].values, transform=ccrs.PlateCarree(),\\\n",
    "               color = 'black', marker='x', s=500, linewidths=1, alpha=0.5)\n",
    "        \n",
    "    #chm plot of predictions\n",
    "    for j in unknownIdx:\n",
    "        bottom=j-1\n",
    "        ax2.bar( 1, 1.04, color=colorsPop_sp_dict[mappedSpArr[j]], hatch=1*\"+\", bottom=bottom )\n",
    "    if vertical:\n",
    "        for i in knownIdx:\n",
    "            bottom=i-1\n",
    "            ax2.bar( 1, 1.04, color=cmap(norm(y_predSample[i,0])), bottom=bottom )\n",
    "    else:\n",
    "        for i in knownIdx:\n",
    "            bottom=i-1\n",
    "            ax2.bar( 1, 1.04, color=cmap(norm(y_predSample[i,1])), bottom=bottom )\n",
    "   \n",
    "    for ax in [ax2]:\n",
    "        ax.yaxis.set_major_locator(ticker.MultipleLocator(1.0))\n",
    "        ax.yaxis.set_minor_locator(ticker.MultipleLocator(4))\n",
    "        ax.yaxis.set_ticks_position('right')\n",
    "        ax.tick_params(which='major', width=2, length=10, labelsize=50)\n",
    "        ax.tick_params(which='minor', width=2, length=6, labelsize=10)\n",
    "        ax.set_ylim(0, params.n_win)\n",
    "        ax.set_xlim(0.99,1.09)\n",
    "        positions = [5, int(params.n_win/2), params.n_win-4]\n",
    "        y_labels = [0, int(params.n_win*1000/2), params.n_win*1000]\n",
    "        ax.yaxis.set_major_locator(ticker.FixedLocator(positions))\n",
    "        ax.yaxis.set_major_formatter(ticker.FixedFormatter(y_labels))\n",
    "        ax.axes.get_xaxis().set_visible(False)\n",
    "\n",
    "    if set_title is not None:\n",
    "        ax1.set_title(granularPopSample[0], fontsize=50, loc='left')\n",
    "    plt.tight_layout(pad=0.4, w_pad=0.4, h_pad=0.4)\n",
    "    if showCbar:\n",
    "        cbaxes = inset_axes(ax1, width=\"3%\", height=\"30%\", loc=3, bbox_to_anchor=(0.03, 0.3, 1, 1),\\\n",
    "                              bbox_transform=ax1.transAxes, borderpad=0) \n",
    "        cbaxes.tick_params(labelsize=25)\n",
    "        if vertical:\n",
    "            orientation='vertical' \n",
    "            ticks= [-90,0,90]\n",
    "        else:\n",
    "            orientation='horizontal'\n",
    "            ticks= [-180,0,180]\n",
    "           \n",
    "        plt.colorbar(mpl.cm.ScalarMappable(norm=norm, cmap=cmap), ticks=ticks,cax=cbaxes, orientation=orientation)\n",
    "    plt.show()\n",
    "    plt.close('all')"
   ]
  },
  {
   "cell_type": "code",
   "execution_count": 145,
   "metadata": {},
   "outputs": [],
   "source": [
    "granularPopSample=['_'.join([str(sampleID), str(samplePopulation)])]*params.n_win\n",
    "pred_coord=convert_coordinates(y_predSample[:,0], y_predSample[:,1], y_predSample[:,2])\n",
    "unique_coord = train_dataset.data['y']\n",
    "labels_all=load_path(osp.join(labels_path, 'labels.pkl'), en_pickle=True)\n",
    "train_sample_map=pd.read_csv(osp.join(labels_path, 'train_sample_map.tsv'), sep=\"\\t\")\n",
    "pop_arr_train = repeat_pop_arr(train_sample_map)\n",
    "n_dim=2\n",
    "labelsTrainArr=np.zeros((len(pop_arr_train), n_dim))\n",
    "for i,j in enumerate(pop_arr_train[:,1]):\n",
    "    labelsTrainArr[i,:]=labels_all.get(j) #5930x3 #samplesxdim\n",
    "df_trainLabels=pd.DataFrame(labelsTrainArr)\n",
    "df_trainLabels=df_trainLabels.drop_duplicates().reset_index(drop=True)"
   ]
  },
  {
   "cell_type": "code",
   "execution_count": 148,
   "metadata": {},
   "outputs": [
    {
     "data": {
      "text/html": [
       "<div>\n",
       "<style scoped>\n",
       "    .dataframe tbody tr th:only-of-type {\n",
       "        vertical-align: middle;\n",
       "    }\n",
       "\n",
       "    .dataframe tbody tr th {\n",
       "        vertical-align: top;\n",
       "    }\n",
       "\n",
       "    .dataframe thead th {\n",
       "        text-align: right;\n",
       "    }\n",
       "</style>\n",
       "<table border=\"1\" class=\"dataframe\">\n",
       "  <thead>\n",
       "    <tr style=\"text-align: right;\">\n",
       "      <th></th>\n",
       "      <th>0</th>\n",
       "      <th>1</th>\n",
       "    </tr>\n",
       "  </thead>\n",
       "  <tbody>\n",
       "    <tr>\n",
       "      <th>0</th>\n",
       "      <td>54.003660</td>\n",
       "      <td>-2.547855</td>\n",
       "    </tr>\n",
       "    <tr>\n",
       "      <th>1</th>\n",
       "      <td>64.498846</td>\n",
       "      <td>26.274666</td>\n",
       "    </tr>\n",
       "    <tr>\n",
       "      <th>2</th>\n",
       "      <td>25.900000</td>\n",
       "      <td>118.300000</td>\n",
       "    </tr>\n",
       "    <tr>\n",
       "      <th>3</th>\n",
       "      <td>22.000302</td>\n",
       "      <td>100.798370</td>\n",
       "    </tr>\n",
       "    <tr>\n",
       "      <th>4</th>\n",
       "      <td>40.244487</td>\n",
       "      <td>-3.647550</td>\n",
       "    </tr>\n",
       "    <tr>\n",
       "      <th>...</th>\n",
       "      <td>...</td>\n",
       "      <td>...</td>\n",
       "    </tr>\n",
       "    <tr>\n",
       "      <th>138</th>\n",
       "      <td>69.900000</td>\n",
       "      <td>27.000000</td>\n",
       "    </tr>\n",
       "    <tr>\n",
       "      <th>139</th>\n",
       "      <td>32.200000</td>\n",
       "      <td>35.300000</td>\n",
       "    </tr>\n",
       "    <tr>\n",
       "      <th>140</th>\n",
       "      <td>37.498611</td>\n",
       "      <td>71.544798</td>\n",
       "    </tr>\n",
       "    <tr>\n",
       "      <th>141</th>\n",
       "      <td>38.700000</td>\n",
       "      <td>35.500000</td>\n",
       "    </tr>\n",
       "    <tr>\n",
       "      <th>142</th>\n",
       "      <td>15.400000</td>\n",
       "      <td>44.200000</td>\n",
       "    </tr>\n",
       "  </tbody>\n",
       "</table>\n",
       "<p>143 rows × 2 columns</p>\n",
       "</div>"
      ],
      "text/plain": [
       "             0           1\n",
       "0    54.003660   -2.547855\n",
       "1    64.498846   26.274666\n",
       "2    25.900000  118.300000\n",
       "3    22.000302  100.798370\n",
       "4    40.244487   -3.647550\n",
       "..         ...         ...\n",
       "138  69.900000   27.000000\n",
       "139  32.200000   35.300000\n",
       "140  37.498611   71.544798\n",
       "141  38.700000   35.500000\n",
       "142  15.400000   44.200000\n",
       "\n",
       "[143 rows x 2 columns]"
      ]
     },
     "execution_count": 148,
     "metadata": {},
     "output_type": "execute_result"
    }
   ],
   "source": [
    "df_trainLabels"
   ]
  },
  {
   "cell_type": "code",
   "execution_count": 150,
   "metadata": {
    "scrolled": false
   },
   "outputs": [
    {
     "name": "stdout",
     "output_type": "stream",
     "text": [
      "number of changepoints removed:0,0.0\n"
     ]
    },
    {
     "data": {
      "image/png": "[encoded data removed]",
      "text/plain": [
       "<Figure size 1080x1080 with 3 Axes>"
      ]
     },
     "metadata": {
      "needs_background": "light"
     },
     "output_type": "display_data"
    },
    {
     "name": "stdout",
     "output_type": "stream",
     "text": [
      "Finished 'plot_unlabeledSample' in 1.0521 secs\n"
     ]
    }
   ],
   "source": [
    "# offsets=[15,5,5,15,17,18] #African-American sample\n",
    "# offsets=[15,5,5,15,17,18] #mozabite/Algeria sample \n",
    "# offsets=[30,20,20,15,17,18] #Kailash sample \n",
    "offsets=[70,70,20,50,15,15] #Peruvian sample \n",
    "plot_unlabeledSample(granularPopSample, pred_coord, vertical=False, pred_cps=pred_cps_BOCD, mappedSpArr=mappedSpArr, \\\n",
    "backgroundAxis=True, y_True=df_trainLabels, superpopsTrue=superpopsTrue, superop_dict=superop_dict, \\\n",
    "cpShow=False, showCbar=False, showLegend=False, offsets=offsets)"
   ]
  },
  {
   "cell_type": "code",
   "execution_count": 122,
   "metadata": {},
   "outputs": [],
   "source": [
    "def plot_coordinates_map(granularPopNames, pred_coord, lbl_coord, **kwargs):\n",
    "    \"\"\"\n",
    "    plotly plot for coordinates on a map\n",
    "    label: target label vector (int) for the specific sample\n",
    "    data_coordinates: lat, long for the specific sample\n",
    "    rev_pop_order: dict with keys as target label ints and values\n",
    "    as granular population name\n",
    "    \"\"\"\n",
    "    cpShow=kwargs.get('cpShow')\n",
    "    pred_cps=kwargs.get('pred_cps') \n",
    "    alpha=[1.0]*len(lbl_coord)\n",
    "    if cpShow:\n",
    "        unknownIdx=np.nonzero(pred_cps)[0]\n",
    "        granularPopNames=[\"UNK\" if i in unknownIdx else granularPopNames[i] for i in range(len(granularPopNames))]\n",
    "    fig = go.Figure(go.Scattergeo())\n",
    "    colors_pop = sns.color_palette(\"rainbow\", len(np.unique(granularPopNames)))\n",
    "    \n",
    "    colors_pop_dict = {k:v for k,v in zip(np.unique(granularPopNames), colors_pop)}\n",
    "    colors_pop_dict['UNK']=(188,188,188) # grey color\n",
    "    fig.add_trace(go.Scattergeo(lon=pred_coord[:,1], lat=pred_coord[:,0], text = granularPopNames,\\\n",
    "    marker_color=['rgba'+str(colors_pop_dict[x]+(y,)) for x,y in zip(granularPopNames, alpha)]))\n",
    "    fig.update_traces(marker_size = 5)\n",
    "    fig.add_trace(go.Scattergeo(lon=lbl_coord[:,1], lat=lbl_coord[:,0], marker = dict(symbol = 'square'), \\\n",
    "                                text = granularPopNames))\n",
    "    fig.update_traces(marker_size = 5)\n",
    "\n",
    "    fig.show()\n",
    "    plt.show()\n",
    "    plt.close('all')"
   ]
  },
  {
   "cell_type": "code",
   "execution_count": null,
   "metadata": {},
   "outputs": [],
   "source": []
  },
  {
   "cell_type": "code",
   "execution_count": null,
   "metadata": {},
   "outputs": [],
   "source": []
  }
 ],
 "metadata": {
  "kernelspec": {
   "display_name": "richras_pytorch",
   "language": "python",
   "name": "richras_pytorch"
  },
  "language_info": {
   "codemirror_mode": {
    "name": "ipython",
    "version": 3
   },
   "file_extension": ".py",
   "mimetype": "text/x-python",
   "name": "python",
   "nbconvert_exporter": "python",
   "pygments_lexer": "ipython3",
   "version": "3.6.11"
  }
 },
 "nbformat": 4,
 "nbformat_minor": 2
}
