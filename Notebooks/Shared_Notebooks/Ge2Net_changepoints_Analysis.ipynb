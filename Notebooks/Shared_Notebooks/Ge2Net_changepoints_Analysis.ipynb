{
 "cells": [
  {
   "cell_type": "code",
   "execution_count": 1,
   "metadata": {
    "collapsed": true
   },
   "outputs": [],
   "source": [
    "import torch\n",
    "import sys\n",
    "import os\n",
    "import os.path as osp\n",
    "import pandas as pd\n",
    "import numpy as np\n",
    "import matplotlib.pyplot as plt\n",
    "import seaborn as sns\n",
    "from mpl_toolkits.mplot3d import Axes3D\n",
    "from matplotlib import ticker\n",
    "import matplotlib as mpl\n",
    "from sklearn.metrics import precision_recall_curve"
   ]
  },
  {
   "cell_type": "code",
   "execution_count": 2,
   "metadata": {
    "collapsed": true
   },
   "outputs": [],
   "source": [
    "root_dir = \"/home/users/richras/Ge2Net_Repo\"\n",
    "os.chdir(root_dir)"
   ]
  },
  {
   "cell_type": "code",
   "execution_count": 3,
   "metadata": {},
   "outputs": [
    {
     "name": "stdout",
     "output_type": "stream",
     "text": [
      "set environment variables\r\n",
      "All done\r\n"
     ]
    }
   ],
   "source": [
    "!./ini.sh"
   ]
  },
  {
   "cell_type": "code",
   "execution_count": 4,
   "metadata": {
    "collapsed": true
   },
   "outputs": [],
   "source": [
    "os.environ['USER_PATH']='/home/users/richras/Ge2Net_Repo'\n",
    "os.environ['USER_SCRATCH_PATH']=\"/scratch/users/richras\"\n",
    "os.environ['IN_PATH']='/scratch/groups/cdbustam/richras/data_in'\n",
    "os.environ['OUT_PATH']='/scratch/groups/cdbustam/richras/data_out'\n",
    "os.environ['LOG_PATH']='/scratch/groups/cdbustam/richras/logs/'"
   ]
  },
  {
   "cell_type": "code",
   "execution_count": 5,
   "metadata": {},
   "outputs": [],
   "source": [
    "%load_ext autoreload\n",
    "%autoreload 2\n",
    "from src.utils.dataUtil import load_path, save_file, vcf2npy, get_recomb_rate, interpolate_genetic_pos, form_windows,\\\n",
    "getValueBySelection\n",
    "from src.utils.modelUtil import Params, load_model\n",
    "from src.utils.decorators import timer\n",
    "from src.utils.labelUtil import repeat_pop_arr, getSuperpopBins\n",
    "from src.models import AuxiliaryTask, LSTM, Attention, BasicBlock, Model_A, Model_B, Model_C\n",
    "from src.models.distributions import Multivariate_Gaussian\n",
    "from src.main.evaluation import eval_cp_batch, reportChangePointMetrics, t_prMetrics, cpMethod\n",
    "from src.main.settings_model import parse_args, MODEL_CLASS\n",
    "import test"
   ]
  },
  {
   "cell_type": "code",
   "execution_count": 19,
   "metadata": {
    "collapsed": true
   },
   "outputs": [],
   "source": [
    "# Specify the dataset to be evaluated\n",
    "# chm22 pca full dataset and model\n",
    "labels_path = osp.join(os.environ['OUT_PATH'],'humans/data/data_id_3_pca/labels')\n",
    "data_path = osp.join(os.environ['OUT_PATH'],'humans/data/data_id_3_pca')\n",
    "models_path=osp.join(os.environ['OUT_PATH'],'humans/training/Model_B_exp_id_4_data_id_3_pca/') \n",
    "dataset_type='test'"
   ]
  },
  {
   "cell_type": "code",
   "execution_count": 20,
   "metadata": {
    "collapsed": true
   },
   "outputs": [],
   "source": [
    "# load the params file and run test.py"
   ]
  },
  {
   "cell_type": "code",
   "execution_count": 21,
   "metadata": {},
   "outputs": [
    {
     "name": "stdout",
     "output_type": "stream",
     "text": [
      " device used: cuda\n",
      "Loading the datasets...\n",
      "Finished 'transform_data' in 17.0328 secs\n",
      "Finished '__init__' in 78.6597 secs\n",
      "model ['Model_B.model_B'] : AuxiliaryTask.AuxNetwork\n",
      "model ['Model_B.model_B'] : LSTM.BiRNN\n",
      "model ['Model_B.model_B'] : BasicBlock.logits_Block\n",
      "best val loss metrics : {'gcd': None, 'mse': 0.20966243415029062, 'smooth_l1': 0.09892145020944967, 'weighted_loss': 0.3524936370038568, 'loss_main': 0.3524936370038568, 'loss_aux': 0.8679943420903375}\n",
      "at epoch : 94\n",
      "train loss metrics: {'gcd': None, 'mse': 0.09787766041908866, 'smooth_l1': 0.046797061544382804, 'weighted_loss': 0.2386510676702706, 'loss_main': 0.21970770299296133, 'loss_aux': 0.8715258090012372}\n",
      "best val cp metrics : {'loss_cp': 1.3071895907791774e-06, 'Precision': 1.0, 'Recall': 0.4043835616438356, 'Accuracy': 0.9863497688086083, 'A_major': 1.0, 'BalancedAccuracy': 0.7021917808219178}\n",
      "train cp metrics: {'loss_cp': 2.140980156204126e-06, 'Precision': 1.0, 'Recall': 0.6669736034376919, 'Accuracy': 0.9923624061519037, 'A_major': 1.0, 'BalancedAccuracy': 0.8334868017188459}\n",
      "best val sp metrics : None\n",
      "train sp metrics: None\n",
      "best val balanced gcd metrics : None\n",
      "train balanced gcd metrics: None\n",
      "Finished 'load_model' in 0.3243 secs\n",
      "Finished 'valid' in 63.3077 secs\n",
      "Finished 'main' in 142.5331 secs\n"
     ]
    }
   ],
   "source": [
    "config={}\n",
    "config['data.labels']=labels_path \n",
    "config['data.dir']=data_path \n",
    "config['models.dir']=models_path\n",
    "config['data.dataset_type']=dataset_type\n",
    "config['cuda']='cuda'\n",
    "json_path = osp.join(config['models.dir'], 'params.json')\n",
    "assert osp.isfile(json_path), \"No json configuration file found at {}\".format(json_path)\n",
    "params = Params(json_path)\n",
    "params.rtnOuts=True\n",
    "params.mc_dropout=True\n",
    "params.mc_samples=100\n",
    "results, test_dataset=test.main(config, params)"
   ]
  },
  {
   "cell_type": "code",
   "execution_count": 22,
   "metadata": {},
   "outputs": [
    {
     "data": {
      "text/plain": [
       "torch.Size([2964, 317])"
      ]
     },
     "execution_count": 22,
     "metadata": {},
     "output_type": "execute_result"
    }
   ],
   "source": [
    "test_dataset.data['cps'].shape"
   ]
  },
  {
   "cell_type": "code",
   "execution_count": 23,
   "metadata": {},
   "outputs": [
    {
     "data": {
      "text/plain": [
       "((2964, 317, 1), (2964, 317, 3), (2964, 317, 3))"
      ]
     },
     "execution_count": 23,
     "metadata": {},
     "output_type": "execute_result"
    }
   ],
   "source": [
    "results.t_out.cp_logits.shape, results.t_out.coord_main.shape, results.t_out.y_var.shape"
   ]
  },
  {
   "cell_type": "code",
   "execution_count": 24,
   "metadata": {},
   "outputs": [
    {
     "data": {
      "text/html": [
       "<style type=\"text/css\">\n",
       "table.dataframe td, table.dataframe th {\n",
       "    border: 1px  black solid !important;\n",
       "  color: black !important;\n",
       "}\n",
       "</style>"
      ],
      "text/plain": [
       "<IPython.core.display.HTML object>"
      ]
     },
     "metadata": {},
     "output_type": "display_data"
    }
   ],
   "source": [
    "%%HTML\n",
    "<style type=\"text/css\">\n",
    "table.dataframe td, table.dataframe th {\n",
    "    border: 1px  black solid !important;\n",
    "  color: black !important;\n",
    "}\n",
    "</style>"
   ]
  },
  {
   "cell_type": "code",
   "execution_count": 25,
   "metadata": {},
   "outputs": [],
   "source": [
    "@timer\n",
    "def prMetricsByThresh(method_name, cp_pred_raw, cp_target, steps):\n",
    "    num_samples = cp_target.shape[0]\n",
    "    seqlen = cp_target.shape[1]\n",
    "    min_prob = 0.0\n",
    "    max_prob = 1.0\n",
    "    increment = (max_prob - min_prob)/steps\n",
    "    df=pd.DataFrame(columns=list(t_prMetrics._fields)+['thresh'])\n",
    "    for thresh in np.arange(min_prob, max_prob + increment, increment):\n",
    "        prMetrics = reportChangePointMetrics(method_name, cp_pred_raw, cp_target, seqlen, thresh)\n",
    "        prMetrics['thresh']=thresh\n",
    "        df=df.append(prMetrics, ignore_index=True)\n",
    "    return df"
   ]
  },
  {
   "cell_type": "code",
   "execution_count": 26,
   "metadata": {},
   "outputs": [
    {
     "name": "stdout",
     "output_type": "stream",
     "text": [
      "Finished 'prMetricsByThresh' in 15.0383 secs\n"
     ]
    },
    {
     "data": {
      "text/html": [
       "<div>\n",
       "<style scoped>\n",
       "    .dataframe tbody tr th:only-of-type {\n",
       "        vertical-align: middle;\n",
       "    }\n",
       "\n",
       "    .dataframe tbody tr th {\n",
       "        vertical-align: top;\n",
       "    }\n",
       "\n",
       "    .dataframe thead th {\n",
       "        text-align: right;\n",
       "    }\n",
       "</style>\n",
       "<table border=\"1\" class=\"dataframe\">\n",
       "  <thead>\n",
       "    <tr style=\"text-align: right;\">\n",
       "      <th></th>\n",
       "      <th>Precision</th>\n",
       "      <th>Recall</th>\n",
       "      <th>Accuracy</th>\n",
       "      <th>A_major</th>\n",
       "      <th>BalancedAccuracy</th>\n",
       "      <th>thresh</th>\n",
       "    </tr>\n",
       "  </thead>\n",
       "  <tbody>\n",
       "    <tr>\n",
       "      <th>0</th>\n",
       "      <td>0.017822</td>\n",
       "      <td>1.000000</td>\n",
       "      <td>0.048657</td>\n",
       "      <td>0.032968</td>\n",
       "      <td>0.516484</td>\n",
       "      <td>0.00</td>\n",
       "    </tr>\n",
       "    <tr>\n",
       "      <th>1</th>\n",
       "      <td>0.042087</td>\n",
       "      <td>0.922180</td>\n",
       "      <td>0.655469</td>\n",
       "      <td>0.651624</td>\n",
       "      <td>0.786902</td>\n",
       "      <td>0.05</td>\n",
       "    </tr>\n",
       "    <tr>\n",
       "      <th>2</th>\n",
       "      <td>0.046379</td>\n",
       "      <td>0.884937</td>\n",
       "      <td>0.706812</td>\n",
       "      <td>0.704686</td>\n",
       "      <td>0.794812</td>\n",
       "      <td>0.10</td>\n",
       "    </tr>\n",
       "    <tr>\n",
       "      <th>3</th>\n",
       "      <td>0.046747</td>\n",
       "      <td>0.879263</td>\n",
       "      <td>0.711363</td>\n",
       "      <td>0.709418</td>\n",
       "      <td>0.794340</td>\n",
       "      <td>0.15</td>\n",
       "    </tr>\n",
       "    <tr>\n",
       "      <th>4</th>\n",
       "      <td>0.046794</td>\n",
       "      <td>0.877395</td>\n",
       "      <td>0.712335</td>\n",
       "      <td>0.710438</td>\n",
       "      <td>0.793917</td>\n",
       "      <td>0.20</td>\n",
       "    </tr>\n",
       "    <tr>\n",
       "      <th>5</th>\n",
       "      <td>0.047094</td>\n",
       "      <td>0.872191</td>\n",
       "      <td>0.716549</td>\n",
       "      <td>0.714854</td>\n",
       "      <td>0.793523</td>\n",
       "      <td>0.25</td>\n",
       "    </tr>\n",
       "    <tr>\n",
       "      <th>6</th>\n",
       "      <td>0.059157</td>\n",
       "      <td>0.749204</td>\n",
       "      <td>0.819975</td>\n",
       "      <td>0.822863</td>\n",
       "      <td>0.786033</td>\n",
       "      <td>0.30</td>\n",
       "    </tr>\n",
       "    <tr>\n",
       "      <th>7</th>\n",
       "      <td>0.071257</td>\n",
       "      <td>0.594242</td>\n",
       "      <td>0.895560</td>\n",
       "      <td>0.903193</td>\n",
       "      <td>0.748717</td>\n",
       "      <td>0.35</td>\n",
       "    </tr>\n",
       "    <tr>\n",
       "      <th>8</th>\n",
       "      <td>0.067497</td>\n",
       "      <td>0.543478</td>\n",
       "      <td>0.903920</td>\n",
       "      <td>0.912849</td>\n",
       "      <td>0.728163</td>\n",
       "      <td>0.40</td>\n",
       "    </tr>\n",
       "    <tr>\n",
       "      <th>9</th>\n",
       "      <td>0.996626</td>\n",
       "      <td>0.269286</td>\n",
       "      <td>0.983281</td>\n",
       "      <td>0.999989</td>\n",
       "      <td>0.634638</td>\n",
       "      <td>0.45</td>\n",
       "    </tr>\n",
       "    <tr>\n",
       "      <th>10</th>\n",
       "      <td>1.000000</td>\n",
       "      <td>0.268219</td>\n",
       "      <td>0.983264</td>\n",
       "      <td>1.000000</td>\n",
       "      <td>0.634109</td>\n",
       "      <td>0.50</td>\n",
       "    </tr>\n",
       "    <tr>\n",
       "      <th>11</th>\n",
       "      <td>1.000000</td>\n",
       "      <td>0.268219</td>\n",
       "      <td>0.983264</td>\n",
       "      <td>1.000000</td>\n",
       "      <td>0.634109</td>\n",
       "      <td>0.55</td>\n",
       "    </tr>\n",
       "    <tr>\n",
       "      <th>12</th>\n",
       "      <td>1.000000</td>\n",
       "      <td>0.268219</td>\n",
       "      <td>0.983264</td>\n",
       "      <td>1.000000</td>\n",
       "      <td>0.634109</td>\n",
       "      <td>0.60</td>\n",
       "    </tr>\n",
       "    <tr>\n",
       "      <th>13</th>\n",
       "      <td>1.000000</td>\n",
       "      <td>0.268219</td>\n",
       "      <td>0.983264</td>\n",
       "      <td>1.000000</td>\n",
       "      <td>0.634109</td>\n",
       "      <td>0.65</td>\n",
       "    </tr>\n",
       "    <tr>\n",
       "      <th>14</th>\n",
       "      <td>1.000000</td>\n",
       "      <td>0.268219</td>\n",
       "      <td>0.983264</td>\n",
       "      <td>1.000000</td>\n",
       "      <td>0.634109</td>\n",
       "      <td>0.70</td>\n",
       "    </tr>\n",
       "    <tr>\n",
       "      <th>15</th>\n",
       "      <td>1.000000</td>\n",
       "      <td>0.268219</td>\n",
       "      <td>0.983264</td>\n",
       "      <td>1.000000</td>\n",
       "      <td>0.634109</td>\n",
       "      <td>0.75</td>\n",
       "    </tr>\n",
       "    <tr>\n",
       "      <th>16</th>\n",
       "      <td>1.000000</td>\n",
       "      <td>0.268219</td>\n",
       "      <td>0.983264</td>\n",
       "      <td>1.000000</td>\n",
       "      <td>0.634109</td>\n",
       "      <td>0.80</td>\n",
       "    </tr>\n",
       "    <tr>\n",
       "      <th>17</th>\n",
       "      <td>1.000000</td>\n",
       "      <td>0.268219</td>\n",
       "      <td>0.983264</td>\n",
       "      <td>1.000000</td>\n",
       "      <td>0.634109</td>\n",
       "      <td>0.85</td>\n",
       "    </tr>\n",
       "    <tr>\n",
       "      <th>18</th>\n",
       "      <td>1.000000</td>\n",
       "      <td>0.268219</td>\n",
       "      <td>0.983264</td>\n",
       "      <td>1.000000</td>\n",
       "      <td>0.634109</td>\n",
       "      <td>0.90</td>\n",
       "    </tr>\n",
       "    <tr>\n",
       "      <th>19</th>\n",
       "      <td>1.000000</td>\n",
       "      <td>0.268219</td>\n",
       "      <td>0.983264</td>\n",
       "      <td>1.000000</td>\n",
       "      <td>0.634109</td>\n",
       "      <td>0.95</td>\n",
       "    </tr>\n",
       "    <tr>\n",
       "      <th>20</th>\n",
       "      <td>1.000000</td>\n",
       "      <td>0.268219</td>\n",
       "      <td>0.983264</td>\n",
       "      <td>1.000000</td>\n",
       "      <td>0.634109</td>\n",
       "      <td>1.00</td>\n",
       "    </tr>\n",
       "  </tbody>\n",
       "</table>\n",
       "</div>"
      ],
      "text/plain": [
       "    Precision    Recall  Accuracy   A_major  BalancedAccuracy  thresh\n",
       "0    0.017822  1.000000  0.048657  0.032968          0.516484    0.00\n",
       "1    0.042087  0.922180  0.655469  0.651624          0.786902    0.05\n",
       "2    0.046379  0.884937  0.706812  0.704686          0.794812    0.10\n",
       "3    0.046747  0.879263  0.711363  0.709418          0.794340    0.15\n",
       "4    0.046794  0.877395  0.712335  0.710438          0.793917    0.20\n",
       "5    0.047094  0.872191  0.716549  0.714854          0.793523    0.25\n",
       "6    0.059157  0.749204  0.819975  0.822863          0.786033    0.30\n",
       "7    0.071257  0.594242  0.895560  0.903193          0.748717    0.35\n",
       "8    0.067497  0.543478  0.903920  0.912849          0.728163    0.40\n",
       "9    0.996626  0.269286  0.983281  0.999989          0.634638    0.45\n",
       "10   1.000000  0.268219  0.983264  1.000000          0.634109    0.50\n",
       "11   1.000000  0.268219  0.983264  1.000000          0.634109    0.55\n",
       "12   1.000000  0.268219  0.983264  1.000000          0.634109    0.60\n",
       "13   1.000000  0.268219  0.983264  1.000000          0.634109    0.65\n",
       "14   1.000000  0.268219  0.983264  1.000000          0.634109    0.70\n",
       "15   1.000000  0.268219  0.983264  1.000000          0.634109    0.75\n",
       "16   1.000000  0.268219  0.983264  1.000000          0.634109    0.80\n",
       "17   1.000000  0.268219  0.983264  1.000000          0.634109    0.85\n",
       "18   1.000000  0.268219  0.983264  1.000000          0.634109    0.90\n",
       "19   1.000000  0.268219  0.983264  1.000000          0.634109    0.95\n",
       "20   1.000000  0.268219  0.983264  1.000000          0.634109    1.00"
      ]
     },
     "execution_count": 26,
     "metadata": {},
     "output_type": "execute_result"
    }
   ],
   "source": [
    "df_nn=prMetricsByThresh(cpMethod.neural_network.name, torch.tensor(results.t_out.cp_logits).float(), \\\n",
    "                        test_dataset.data['cps'].unsqueeze(2).float(), 20)\n",
    "df_nn"
   ]
  },
  {
   "cell_type": "code",
   "execution_count": 27,
   "metadata": {},
   "outputs": [],
   "source": [
    "precision, recall, thresholds = precision_recall_curve(test_dataset.data['cps'].detach().cpu().numpy().flatten(), \\\n",
    "                                                       results.t_out.cp_logits.flatten())"
   ]
  },
  {
   "cell_type": "code",
   "execution_count": 28,
   "metadata": {},
   "outputs": [
    {
     "data": {
      "text/plain": [
       "(array([0.01673608, 0.01673503, 0.01673505, ..., 0.5       , 0.        ,\n",
       "        1.        ]),\n",
       " array([1.00000000e+00, 9.99936407e-01, 9.99936407e-01, ...,\n",
       "        6.35930048e-05, 0.00000000e+00, 0.00000000e+00]),\n",
       " array([-4.738904  , -4.73328   , -4.7315416 , ..., -0.13503137,\n",
       "        -0.12965311, -0.09035808], dtype=float32))"
      ]
     },
     "execution_count": 28,
     "metadata": {},
     "output_type": "execute_result"
    }
   ],
   "source": [
    "precision, recall, thresholds"
   ]
  },
  {
   "cell_type": "code",
   "execution_count": 29,
   "metadata": {},
   "outputs": [
    {
     "name": "stdout",
     "output_type": "stream",
     "text": [
      "Finished 'prMetricsByThresh' in 9.0654 secs\n",
      "    Precision    Recall  Accuracy   A_major  BalancedAccuracy  thresh\n",
      "0    0.017881  1.000000  0.051772  0.036136          0.518068    0.00\n",
      "1    0.334019  0.839978  0.951593  0.954127          0.897053    0.05\n",
      "2    0.529031  0.806928  0.976245  0.980137          0.893532    0.10\n",
      "3    0.649115  0.788282  0.983920  0.988459          0.888371    0.15\n",
      "4    0.717262  0.771951  0.987406  0.992411          0.882181    0.20\n",
      "5    0.770964  0.759673  0.989247  0.994637          0.877155    0.25\n",
      "6    0.807340  0.748504  0.990277  0.995981          0.872242    0.30\n",
      "7    0.836436  0.738577  0.990903  0.996868          0.867722    0.35\n",
      "8    0.860834  0.727823  0.991345  0.997576          0.862700    0.40\n",
      "9    0.880875  0.719159  0.991674  0.998132          0.858646    0.45\n",
      "10   0.893181  0.710182  0.991756  0.998453          0.854318    0.50\n",
      "11   0.904334  0.700741  0.991811  0.998731          0.849736    0.55\n",
      "12   0.914051  0.688568  0.991746  0.998944          0.843756    0.60\n",
      "13   0.922654  0.679236  0.991672  0.999107          0.839171    0.65\n",
      "14   0.931800  0.666849  0.991538  0.999259          0.833054    0.70\n",
      "15   0.937061  0.651441  0.991309  0.999376          0.825408    0.75\n",
      "16   0.943745  0.637644  0.991120  0.999485          0.818564    0.80\n",
      "17   0.951264  0.625318  0.990898  0.999566          0.812442    0.85\n",
      "18   0.959406  0.609336  0.990632  0.999661          0.804498    0.90\n",
      "19   0.965653  0.596932  0.990421  0.999725          0.798328    0.95\n",
      "20   0.972375  0.582810  0.990150  0.999780          0.791295    1.00\n"
     ]
    }
   ],
   "source": [
    "print(prMetricsByThresh(cpMethod.gradient.name, torch.tensor(results.t_out.coord_main).float(), \\\n",
    "                        test_dataset.data['cps'].unsqueeze(2).float(), 20))"
   ]
  },
  {
   "cell_type": "code",
   "execution_count": 30,
   "metadata": {},
   "outputs": [
    {
     "name": "stdout",
     "output_type": "stream",
     "text": [
      "Finished 'prMetricsByThresh' in 7.4925 secs\n",
      "    Precision    Recall  Accuracy   A_major  BalancedAccuracy  thresh\n",
      "0    0.017822  1.000000  0.048657  0.032968          0.516484    0.00\n",
      "1    0.438972  0.710644  0.920012  0.924702          0.817673    0.05\n",
      "2    0.525303  0.566634  0.951765  0.960339          0.763486    0.10\n",
      "3    0.583514  0.457536  0.963347  0.974736          0.716136    0.15\n",
      "4    0.637952  0.390869  0.970277  0.983471          0.687170    0.20\n",
      "5    0.705055  0.345043  0.974572  0.989003          0.667023    0.25\n",
      "6    0.762848  0.315954  0.977040  0.992311          0.654132    0.30\n",
      "7    0.811474  0.297258  0.978710  0.994507          0.645882    0.35\n",
      "8    0.853438  0.284836  0.979782  0.995925          0.640381    0.40\n",
      "9    0.883706  0.278528  0.980584  0.996940          0.637734    0.45\n",
      "10   0.908890  0.274868  0.981208  0.997689          0.636278    0.50\n",
      "11   0.924831  0.272223  0.981636  0.998203          0.635213    0.55\n",
      "12   0.940855  0.271001  0.981983  0.998603          0.634802    0.60\n",
      "13   0.952392  0.270245  0.982259  0.998915          0.634580    0.65\n",
      "14   0.966084  0.269893  0.982467  0.999139          0.634516    0.70\n",
      "15   0.973299  0.269367  0.982576  0.999268          0.634318    0.75\n",
      "16   0.977269  0.269061  0.982683  0.999385          0.634223    0.80\n",
      "17   0.979626  0.268909  0.982789  0.999499          0.634204    0.85\n",
      "18   0.981774  0.268829  0.982881  0.999596          0.634212    0.90\n",
      "19   0.984115  0.268716  0.982951  0.999671          0.634194    0.95\n",
      "20   0.986153  0.268716  0.983036  0.999758          0.634237    1.00\n"
     ]
    }
   ],
   "source": [
    "print(prMetricsByThresh(cpMethod.mc_dropout.name, torch.tensor(results.t_out.y_var).float(), \\\n",
    "                        test_dataset.data['cps'].unsqueeze(2).float(), 20))"
   ]
  },
  {
   "cell_type": "code",
   "execution_count": 31,
   "metadata": {},
   "outputs": [
    {
     "data": {
      "text/plain": [
       "array([[[3.20023799e-04, 5.42979408e-03, 9.68458597e-03],\n",
       "        [1.42561854e-04, 1.34131662e-03, 5.84353600e-03],\n",
       "        [8.83527828e-05, 1.64349936e-03, 9.06498730e-03],\n",
       "        ...,\n",
       "        [9.61053593e-05, 1.60546741e-04, 1.61960884e-03],\n",
       "        [1.12768328e-04, 2.53641745e-04, 1.13692658e-03],\n",
       "        [2.74925027e-04, 2.00151629e-03, 4.89353249e-03]],\n",
       "\n",
       "       [[4.45431302e-04, 5.46904630e-04, 2.40227149e-04],\n",
       "        [2.16418575e-05, 2.57266602e-05, 1.19130855e-04],\n",
       "        [9.73592432e-06, 1.25187053e-05, 1.06627405e-04],\n",
       "        ...,\n",
       "        [4.51691267e-05, 3.00417469e-05, 2.72930221e-04],\n",
       "        [4.64569603e-05, 2.62130779e-05, 3.05910653e-04],\n",
       "        [6.64300896e-05, 1.31366367e-04, 5.32812264e-04]],\n",
       "\n",
       "       [[2.90593161e-04, 6.66218519e-04, 6.20053441e-04],\n",
       "        [7.95598462e-05, 2.86212366e-04, 5.55668317e-04],\n",
       "        [7.90640770e-05, 2.30348422e-04, 2.72534584e-04],\n",
       "        ...,\n",
       "        [1.38824980e-04, 4.00882069e-04, 7.13199915e-05],\n",
       "        [1.38684321e-04, 4.05159895e-04, 1.20260891e-04],\n",
       "        [1.50440785e-04, 5.66972943e-04, 2.95965554e-04]],\n",
       "\n",
       "       ...,\n",
       "\n",
       "       [[5.20862779e-03, 1.98554453e-02, 2.90585984e-03],\n",
       "        [1.56333685e-04, 1.17593200e-03, 1.54254679e-03],\n",
       "        [1.93784126e-05, 3.27473361e-04, 8.34780454e-04],\n",
       "        ...,\n",
       "        [7.13139525e-05, 4.90904749e-05, 4.69018269e-05],\n",
       "        [7.47264276e-05, 4.34863141e-05, 2.19933299e-05],\n",
       "        [1.50568187e-04, 6.01449829e-05, 2.45547053e-05]],\n",
       "\n",
       "       [[3.19200056e-03, 5.70461564e-02, 1.42111376e-01],\n",
       "        [1.93848892e-03, 4.42461334e-02, 1.49697885e-01],\n",
       "        [1.13824441e-03, 3.49321328e-02, 1.53948575e-01],\n",
       "        ...,\n",
       "        [1.58268108e-03, 1.38044066e-03, 9.24664055e-05],\n",
       "        [1.37962180e-03, 1.00978825e-03, 6.58365461e-05],\n",
       "        [1.99658610e-03, 1.30533113e-03, 2.17611028e-04]],\n",
       "\n",
       "       [[2.41769867e-05, 2.26195425e-05, 4.18675394e-04],\n",
       "        [1.09857738e-05, 1.38850846e-05, 4.31929046e-04],\n",
       "        [7.80002847e-06, 1.16273250e-05, 4.02225356e-04],\n",
       "        ...,\n",
       "        [5.81688291e-05, 1.08576423e-04, 6.29241229e-04],\n",
       "        [5.77637584e-05, 8.96769561e-05, 6.97640760e-04],\n",
       "        [1.72794767e-04, 2.24861596e-03, 3.39312386e-03]]], dtype=float32)"
      ]
     },
     "execution_count": 31,
     "metadata": {},
     "output_type": "execute_result"
    }
   ],
   "source": [
    "results.t_out.y_var"
   ]
  },
  {
   "cell_type": "code",
   "execution_count": null,
   "metadata": {},
   "outputs": [],
   "source": []
  },
  {
   "cell_type": "code",
   "execution_count": null,
   "metadata": {
    "collapsed": true
   },
   "outputs": [],
   "source": []
  }
 ],
 "metadata": {
  "kernelspec": {
   "display_name": "Python 3",
   "language": "python",
   "name": "python3"
  },
  "language_info": {
   "codemirror_mode": {
    "name": "ipython",
    "version": 3
   },
   "file_extension": ".py",
   "mimetype": "text/x-python",
   "name": "python",
   "nbconvert_exporter": "python",
   "pygments_lexer": "ipython3",
   "version": "3.6.1"
  }
 },
 "nbformat": 4,
 "nbformat_minor": 2
}
