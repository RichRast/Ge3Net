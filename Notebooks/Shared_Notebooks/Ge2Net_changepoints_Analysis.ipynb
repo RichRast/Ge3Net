{
 "cells": [
  {
   "cell_type": "code",
   "execution_count": 1,
   "metadata": {},
   "outputs": [],
   "source": [
    "import torch\n",
    "import sys\n",
    "import os\n",
    "import os.path as osp\n",
    "import pandas as pd\n",
    "import numpy as np\n",
    "import matplotlib.pyplot as plt\n",
    "import seaborn as sns\n",
    "from mpl_toolkits.mplot3d import Axes3D\n",
    "from matplotlib import ticker\n",
    "import matplotlib as mpl\n",
    "from sklearn.metrics import precision_recall_curve\n",
    "from sklearn import metrics"
   ]
  },
  {
   "cell_type": "code",
   "execution_count": 2,
   "metadata": {
    "collapsed": true
   },
   "outputs": [],
   "source": [
    "root_dir = \"/home/users/richras/Ge2Net_Repo\"\n",
    "os.chdir(root_dir)"
   ]
  },
  {
   "cell_type": "code",
   "execution_count": 3,
   "metadata": {},
   "outputs": [
    {
     "name": "stdout",
     "output_type": "stream",
     "text": [
      "set environment variables\r\n",
      "All done\r\n"
     ]
    }
   ],
   "source": [
    "!./ini.sh"
   ]
  },
  {
   "cell_type": "code",
   "execution_count": 4,
   "metadata": {
    "collapsed": true
   },
   "outputs": [],
   "source": [
    "os.environ['USER_PATH']='/home/users/richras/Ge2Net_Repo'\n",
    "os.environ['USER_SCRATCH_PATH']=\"/scratch/users/richras\"\n",
    "os.environ['IN_PATH']='/scratch/groups/cdbustam/richras/data_in'\n",
    "os.environ['OUT_PATH']='/scratch/groups/cdbustam/richras/data_out'\n",
    "os.environ['LOG_PATH']='/scratch/groups/cdbustam/richras/logs/'"
   ]
  },
  {
   "cell_type": "code",
   "execution_count": 108,
   "metadata": {},
   "outputs": [
    {
     "name": "stdout",
     "output_type": "stream",
     "text": [
      "The autoreload extension is already loaded. To reload it, use:\n",
      "  %reload_ext autoreload\n"
     ]
    }
   ],
   "source": [
    "%load_ext autoreload\n",
    "%autoreload 2\n",
    "from src.utils.dataUtil import load_path, save_file, vcf2npy, get_recomb_rate, interpolate_genetic_pos, form_windows,\\\n",
    "getValueBySelection\n",
    "from src.utils.modelUtil import Params, load_model\n",
    "from src.utils.decorators import timer\n",
    "from src.utils.labelUtil import repeat_pop_arr, getSuperpopBins\n",
    "from src.models import AuxiliaryTask, LSTM, Attention, BasicBlock, Model_A, Model_B, Model_C, BOCD\n",
    "from src.models.distributions import Multivariate_Gaussian\n",
    "from src.main.evaluation import eval_cp_batch, reportChangePointMetrics, t_prMetrics, cpMethod, eval_cp_matrix\n",
    "from src.main.settings_model import parse_args, MODEL_CLASS\n",
    "import test"
   ]
  },
  {
   "cell_type": "code",
   "execution_count": 6,
   "metadata": {
    "collapsed": true
   },
   "outputs": [],
   "source": [
    "# Specify the dataset to be evaluated\n",
    "# chm22 pca full dataset and model\n",
    "labels_path = osp.join(os.environ['OUT_PATH'],'humans/labels/data_id_3_pca')\n",
    "data_path = osp.join(os.environ['OUT_PATH'],'humans/labels/data_id_3_pca')\n",
    "models_path=osp.join(os.environ['OUT_PATH'],'humans/training/Model_B_exp_id_6_data_id_3_pca/') \n",
    "dataset_type='valid'"
   ]
  },
  {
   "cell_type": "code",
   "execution_count": 7,
   "metadata": {
    "collapsed": true
   },
   "outputs": [],
   "source": [
    "# load the params file and run test.py"
   ]
  },
  {
   "cell_type": "code",
   "execution_count": 8,
   "metadata": {},
   "outputs": [
    {
     "name": "stdout",
     "output_type": "stream",
     "text": [
      " device used: cuda\n",
      "Loading the datasets...\n",
      "Finished 'transform_data' in 28.1629 secs\n",
      "Finished '__init__' in 34.5348 secs\n",
      "model ['Model_B.model_B'] : AuxiliaryTask.AuxNetwork\n",
      "model ['Model_B.model_B'] : LSTM.BiRNN\n",
      "model ['Model_B.model_B'] : BasicBlock.logits_Block\n",
      "best val loss metrics : {'gcd': None, 'mse': 0.2178936406499827, 'smooth_l1': 0.10351521903088674, 'weighted_loss': 0.3591735236903656, 'loss_main': 0.3591735236903656, 'loss_aux': 0.8821184329220864}\n",
      "at epoch : 87\n",
      "train loss metrics: {'gcd': None, 'mse': 0.10320528280809713, 'smooth_l1': 0.04959562086833885, 'weighted_loss': 0.2486219141212711, 'loss_main': 0.2296785485357874, 'loss_aux': 0.9173492295086926}\n",
      "best val cp metrics : {'loss_cp': 0.07215550060296119, 'Precision': 1.0, 'Recall': 0.4043835616438356, 'Accuracy': 0.9863497688086083, 'A_major': 1.0, 'BalancedAccuracy': 0.7021917808219178}\n",
      "train cp metrics: {'loss_cp': 0.20510284079111923, 'Precision': 0.9839462324729361, 'Recall': 0.713593694662275, 'Accuracy': 0.9933568038296412, 'A_major': 0.9999229818872182, 'BalancedAccuracy': 0.8567583382747467}\n",
      "best val sp metrics : None\n",
      "train sp metrics: None\n",
      "best val balanced gcd metrics : None\n",
      "train balanced gcd metrics: None\n",
      "Finished 'load_model' in 0.3192 secs\n",
      "Finished 'valid' in 77.8947 secs\n",
      "Finished 'main' in 114.8042 secs\n"
     ]
    }
   ],
   "source": [
    "config={}\n",
    "config['data.labels']=labels_path \n",
    "config['data.dir']=data_path \n",
    "config['models.dir']=models_path\n",
    "config['data.dataset_type']=dataset_type\n",
    "config['cuda']='cuda'\n",
    "json_path = osp.join(config['models.dir'], 'params.json')\n",
    "assert osp.isfile(json_path), \"No json configuration file found at {}\".format(json_path)\n",
    "params = Params(json_path)\n",
    "params.rtnOuts=True\n",
    "params.mc_dropout=True\n",
    "params.mc_samples=100\n",
    "params.cp_tol=0\n",
    "results, test_dataset=test.main(config, params)"
   ]
  },
  {
   "cell_type": "code",
   "execution_count": 9,
   "metadata": {},
   "outputs": [
    {
     "data": {
      "text/plain": [
       "True"
      ]
     },
     "execution_count": 9,
     "metadata": {},
     "output_type": "execute_result"
    }
   ],
   "source": [
    "torch.cuda.is_available()"
   ]
  },
  {
   "cell_type": "code",
   "execution_count": 10,
   "metadata": {},
   "outputs": [
    {
     "data": {
      "text/plain": [
       "({'gcd': None,\n",
       "  'loss_aux': 0.9119396815986777,\n",
       "  'loss_main': 0.3461540393673566,\n",
       "  'mse': 0.18840505032328983,\n",
       "  'smooth_l1': 0.09020874936023994,\n",
       "  'weighted_loss': 0.3461540393673566},\n",
       " {'A_major': 0.9998428948598298,\n",
       "  'Accuracy': 0.9939553174020138,\n",
       "  'BalancedAccuracy': 0.7441329258297497,\n",
       "  'Precision': 0.9674990215264188,\n",
       "  'Recall': 0.4884229567996692,\n",
       "  'loss_cp': 0.20465141559150965})"
      ]
     },
     "execution_count": 10,
     "metadata": {},
     "output_type": "execute_result"
    }
   ],
   "source": [
    "results.t_accr, results.t_cp_accr"
   ]
  },
  {
   "cell_type": "code",
   "execution_count": 11,
   "metadata": {},
   "outputs": [
    {
     "data": {
      "text/plain": [
       "torch.Size([3650, 317])"
      ]
     },
     "execution_count": 11,
     "metadata": {},
     "output_type": "execute_result"
    }
   ],
   "source": [
    "test_dataset.data['cps'].shape"
   ]
  },
  {
   "cell_type": "code",
   "execution_count": 12,
   "metadata": {},
   "outputs": [
    {
     "data": {
      "text/plain": [
       "((3650, 317, 1), (3650, 317, 3), (3650, 317, 3))"
      ]
     },
     "execution_count": 12,
     "metadata": {},
     "output_type": "execute_result"
    }
   ],
   "source": [
    "results.t_out.cp_logits.shape, results.t_out.coord_main.shape, results.t_out.y_var.shape"
   ]
  },
  {
   "cell_type": "code",
   "execution_count": 13,
   "metadata": {},
   "outputs": [
    {
     "data": {
      "text/html": [
       "<style type=\"text/css\">\n",
       "table.dataframe td, table.dataframe th {\n",
       "    border: 1px  black solid !important;\n",
       "  color: black !important;\n",
       "}\n",
       "</style>"
      ],
      "text/plain": [
       "<IPython.core.display.HTML object>"
      ]
     },
     "metadata": {},
     "output_type": "display_data"
    }
   ],
   "source": [
    "%%HTML\n",
    "<style type=\"text/css\">\n",
    "table.dataframe td, table.dataframe th {\n",
    "    border: 1px  black solid !important;\n",
    "  color: black !important;\n",
    "}\n",
    "</style>"
   ]
  },
  {
   "cell_type": "code",
   "execution_count": 94,
   "metadata": {
    "collapsed": true
   },
   "outputs": [],
   "source": [
    "@timer\n",
    "def prMetricsByThresh(method_name, cp_pred_raw, cp_target, steps):\n",
    "    num_samples = cp_target.shape[0]\n",
    "    seqlen = cp_target.shape[1]\n",
    "    min_prob = 0.0\n",
    "    max_prob = 10.0\n",
    "    increment = (max_prob - min_prob)/steps\n",
    "    df=pd.DataFrame(columns=list(t_prMetrics._fields)+['thresh'])\n",
    "    for thresh in np.arange(min_prob, max_prob + increment, increment):\n",
    "        prMetrics,_ = reportChangePointMetrics(method_name, cp_pred_raw, cp_target, seqlen, thresh)\n",
    "        prMetrics['thresh']=thresh\n",
    "        df=df.append(prMetrics, ignore_index=True)\n",
    "    return df"
   ]
  },
  {
   "cell_type": "code",
   "execution_count": 68,
   "metadata": {},
   "outputs": [
    {
     "name": "stdout",
     "output_type": "stream",
     "text": [
      "Finished 'prMetricsByThresh' in 18.9422 secs\n"
     ]
    },
    {
     "data": {
      "text/html": [
       "<div>\n",
       "<style scoped>\n",
       "    .dataframe tbody tr th:only-of-type {\n",
       "        vertical-align: middle;\n",
       "    }\n",
       "\n",
       "    .dataframe tbody tr th {\n",
       "        vertical-align: top;\n",
       "    }\n",
       "\n",
       "    .dataframe thead th {\n",
       "        text-align: right;\n",
       "    }\n",
       "</style>\n",
       "<table border=\"1\" class=\"dataframe\">\n",
       "  <thead>\n",
       "    <tr style=\"text-align: right;\">\n",
       "      <th></th>\n",
       "      <th>Precision</th>\n",
       "      <th>Recall</th>\n",
       "      <th>Accuracy</th>\n",
       "      <th>A_major</th>\n",
       "      <th>BalancedAccuracy</th>\n",
       "      <th>thresh</th>\n",
       "    </tr>\n",
       "  </thead>\n",
       "  <tbody>\n",
       "    <tr>\n",
       "      <th>0</th>\n",
       "      <td>0.007335</td>\n",
       "      <td>1.000000</td>\n",
       "      <td>0.033319</td>\n",
       "      <td>0.026874</td>\n",
       "      <td>0.513437</td>\n",
       "      <td>0.00</td>\n",
       "    </tr>\n",
       "    <tr>\n",
       "      <th>1</th>\n",
       "      <td>0.021447</td>\n",
       "      <td>0.952573</td>\n",
       "      <td>0.705880</td>\n",
       "      <td>0.704433</td>\n",
       "      <td>0.828503</td>\n",
       "      <td>0.05</td>\n",
       "    </tr>\n",
       "    <tr>\n",
       "      <th>2</th>\n",
       "      <td>0.021489</td>\n",
       "      <td>0.947606</td>\n",
       "      <td>0.707674</td>\n",
       "      <td>0.706301</td>\n",
       "      <td>0.826954</td>\n",
       "      <td>0.10</td>\n",
       "    </tr>\n",
       "    <tr>\n",
       "      <th>3</th>\n",
       "      <td>0.021433</td>\n",
       "      <td>0.943957</td>\n",
       "      <td>0.708310</td>\n",
       "      <td>0.706986</td>\n",
       "      <td>0.825472</td>\n",
       "      <td>0.15</td>\n",
       "    </tr>\n",
       "    <tr>\n",
       "      <th>4</th>\n",
       "      <td>0.021424</td>\n",
       "      <td>0.942471</td>\n",
       "      <td>0.708682</td>\n",
       "      <td>0.707380</td>\n",
       "      <td>0.824926</td>\n",
       "      <td>0.20</td>\n",
       "    </tr>\n",
       "    <tr>\n",
       "      <th>5</th>\n",
       "      <td>0.021382</td>\n",
       "      <td>0.940592</td>\n",
       "      <td>0.708924</td>\n",
       "      <td>0.707647</td>\n",
       "      <td>0.824120</td>\n",
       "      <td>0.25</td>\n",
       "    </tr>\n",
       "    <tr>\n",
       "      <th>6</th>\n",
       "      <td>0.021364</td>\n",
       "      <td>0.939705</td>\n",
       "      <td>0.709095</td>\n",
       "      <td>0.707833</td>\n",
       "      <td>0.823769</td>\n",
       "      <td>0.30</td>\n",
       "    </tr>\n",
       "    <tr>\n",
       "      <th>7</th>\n",
       "      <td>0.021358</td>\n",
       "      <td>0.939086</td>\n",
       "      <td>0.709223</td>\n",
       "      <td>0.707968</td>\n",
       "      <td>0.823527</td>\n",
       "      <td>0.35</td>\n",
       "    </tr>\n",
       "    <tr>\n",
       "      <th>8</th>\n",
       "      <td>0.021336</td>\n",
       "      <td>0.938091</td>\n",
       "      <td>0.709356</td>\n",
       "      <td>0.708113</td>\n",
       "      <td>0.823102</td>\n",
       "      <td>0.40</td>\n",
       "    </tr>\n",
       "    <tr>\n",
       "      <th>9</th>\n",
       "      <td>0.021366</td>\n",
       "      <td>0.937233</td>\n",
       "      <td>0.710164</td>\n",
       "      <td>0.708941</td>\n",
       "      <td>0.823087</td>\n",
       "      <td>0.45</td>\n",
       "    </tr>\n",
       "    <tr>\n",
       "      <th>10</th>\n",
       "      <td>0.967499</td>\n",
       "      <td>0.488423</td>\n",
       "      <td>0.993955</td>\n",
       "      <td>0.999843</td>\n",
       "      <td>0.744133</td>\n",
       "      <td>0.50</td>\n",
       "    </tr>\n",
       "    <tr>\n",
       "      <th>11</th>\n",
       "      <td>1.000000</td>\n",
       "      <td>0.404384</td>\n",
       "      <td>0.993123</td>\n",
       "      <td>1.000000</td>\n",
       "      <td>0.702192</td>\n",
       "      <td>0.55</td>\n",
       "    </tr>\n",
       "    <tr>\n",
       "      <th>12</th>\n",
       "      <td>1.000000</td>\n",
       "      <td>0.404384</td>\n",
       "      <td>0.993123</td>\n",
       "      <td>1.000000</td>\n",
       "      <td>0.702192</td>\n",
       "      <td>0.60</td>\n",
       "    </tr>\n",
       "    <tr>\n",
       "      <th>13</th>\n",
       "      <td>1.000000</td>\n",
       "      <td>0.404384</td>\n",
       "      <td>0.993123</td>\n",
       "      <td>1.000000</td>\n",
       "      <td>0.702192</td>\n",
       "      <td>0.65</td>\n",
       "    </tr>\n",
       "    <tr>\n",
       "      <th>14</th>\n",
       "      <td>1.000000</td>\n",
       "      <td>0.404384</td>\n",
       "      <td>0.993123</td>\n",
       "      <td>1.000000</td>\n",
       "      <td>0.702192</td>\n",
       "      <td>0.70</td>\n",
       "    </tr>\n",
       "    <tr>\n",
       "      <th>15</th>\n",
       "      <td>1.000000</td>\n",
       "      <td>0.404384</td>\n",
       "      <td>0.993123</td>\n",
       "      <td>1.000000</td>\n",
       "      <td>0.702192</td>\n",
       "      <td>0.75</td>\n",
       "    </tr>\n",
       "    <tr>\n",
       "      <th>16</th>\n",
       "      <td>1.000000</td>\n",
       "      <td>0.404384</td>\n",
       "      <td>0.993123</td>\n",
       "      <td>1.000000</td>\n",
       "      <td>0.702192</td>\n",
       "      <td>0.80</td>\n",
       "    </tr>\n",
       "    <tr>\n",
       "      <th>17</th>\n",
       "      <td>1.000000</td>\n",
       "      <td>0.404384</td>\n",
       "      <td>0.993123</td>\n",
       "      <td>1.000000</td>\n",
       "      <td>0.702192</td>\n",
       "      <td>0.85</td>\n",
       "    </tr>\n",
       "    <tr>\n",
       "      <th>18</th>\n",
       "      <td>1.000000</td>\n",
       "      <td>0.404384</td>\n",
       "      <td>0.993123</td>\n",
       "      <td>1.000000</td>\n",
       "      <td>0.702192</td>\n",
       "      <td>0.90</td>\n",
       "    </tr>\n",
       "    <tr>\n",
       "      <th>19</th>\n",
       "      <td>1.000000</td>\n",
       "      <td>0.404384</td>\n",
       "      <td>0.993123</td>\n",
       "      <td>1.000000</td>\n",
       "      <td>0.702192</td>\n",
       "      <td>0.95</td>\n",
       "    </tr>\n",
       "    <tr>\n",
       "      <th>20</th>\n",
       "      <td>1.000000</td>\n",
       "      <td>0.404384</td>\n",
       "      <td>0.993123</td>\n",
       "      <td>1.000000</td>\n",
       "      <td>0.702192</td>\n",
       "      <td>1.00</td>\n",
       "    </tr>\n",
       "  </tbody>\n",
       "</table>\n",
       "</div>"
      ],
      "text/plain": [
       "    Precision    Recall  Accuracy   A_major  BalancedAccuracy  thresh\n",
       "0    0.007335  1.000000  0.033319  0.026874          0.513437    0.00\n",
       "1    0.021447  0.952573  0.705880  0.704433          0.828503    0.05\n",
       "2    0.021489  0.947606  0.707674  0.706301          0.826954    0.10\n",
       "3    0.021433  0.943957  0.708310  0.706986          0.825472    0.15\n",
       "4    0.021424  0.942471  0.708682  0.707380          0.824926    0.20\n",
       "5    0.021382  0.940592  0.708924  0.707647          0.824120    0.25\n",
       "6    0.021364  0.939705  0.709095  0.707833          0.823769    0.30\n",
       "7    0.021358  0.939086  0.709223  0.707968          0.823527    0.35\n",
       "8    0.021336  0.938091  0.709356  0.708113          0.823102    0.40\n",
       "9    0.021366  0.937233  0.710164  0.708941          0.823087    0.45\n",
       "10   0.967499  0.488423  0.993955  0.999843          0.744133    0.50\n",
       "11   1.000000  0.404384  0.993123  1.000000          0.702192    0.55\n",
       "12   1.000000  0.404384  0.993123  1.000000          0.702192    0.60\n",
       "13   1.000000  0.404384  0.993123  1.000000          0.702192    0.65\n",
       "14   1.000000  0.404384  0.993123  1.000000          0.702192    0.70\n",
       "15   1.000000  0.404384  0.993123  1.000000          0.702192    0.75\n",
       "16   1.000000  0.404384  0.993123  1.000000          0.702192    0.80\n",
       "17   1.000000  0.404384  0.993123  1.000000          0.702192    0.85\n",
       "18   1.000000  0.404384  0.993123  1.000000          0.702192    0.90\n",
       "19   1.000000  0.404384  0.993123  1.000000          0.702192    0.95\n",
       "20   1.000000  0.404384  0.993123  1.000000          0.702192    1.00"
      ]
     },
     "execution_count": 68,
     "metadata": {},
     "output_type": "execute_result"
    }
   ],
   "source": [
    "df_nn=prMetricsByThresh(cpMethod.neural_network.name, torch.tensor(results.t_out.cp_logits).float(), \\\n",
    "                        test_dataset.data['cps'].unsqueeze(2).float(), 20)\n",
    "df_nn"
   ]
  },
  {
   "cell_type": "code",
   "execution_count": 16,
   "metadata": {},
   "outputs": [],
   "source": [
    "precision, recall, thresholds = metrics.roc_curve(test_dataset.data['cps'].detach().cpu().numpy().flatten(),\n",
    "                                    torch.sigmoid(torch.tensor(results.t_out.cp_logits.flatten()).float()))"
   ]
  },
  {
   "cell_type": "code",
   "execution_count": 17,
   "metadata": {},
   "outputs": [
    {
     "data": {
      "text/plain": [
       "(array([0.        , 0.        , 0.        , ..., 0.99998695, 0.99999304,\n",
       "        1.        ]),\n",
       " array([0.00000000e+00, 1.25675506e-04, 3.77026518e-04, ...,\n",
       "        1.00000000e+00, 1.00000000e+00, 1.00000000e+00]),\n",
       " array([1.5073826 , 0.5073827 , 0.50719225, ..., 0.0112325 , 0.01123249,\n",
       "        0.01123249], dtype=float32))"
      ]
     },
     "execution_count": 17,
     "metadata": {},
     "output_type": "execute_result"
    }
   ],
   "source": [
    "precision, recall, thresholds"
   ]
  },
  {
   "cell_type": "code",
   "execution_count": 18,
   "metadata": {},
   "outputs": [
    {
     "name": "stdout",
     "output_type": "stream",
     "text": [
      "Finished 'prMetricsByThresh' in 9.0287 secs\n",
      "    Precision    Recall  Accuracy   A_major  BalancedAccuracy  thresh\n",
      "0    0.007360  1.000000  0.036458  0.030035          0.515017    0.00\n",
      "1    0.181647  0.868860  0.952505  0.953578          0.911219    0.05\n",
      "2    0.406363  0.843936  0.978609  0.980243          0.912089    0.10\n",
      "3    0.519962  0.825680  0.986490  0.988422          0.907051    0.15\n",
      "4    0.616492  0.809002  0.990187  0.992341          0.900671    0.20\n",
      "5    0.701802  0.796062  0.992365  0.994692          0.895377    0.25\n",
      "6    0.753902  0.785613  0.993629  0.996103          0.890858    0.30\n",
      "7    0.793192  0.775167  0.994400  0.997011          0.886089    0.35\n",
      "8    0.822036  0.766072  0.994916  0.997653          0.881863    0.40\n",
      "9    0.841695  0.754351  0.995256  0.998128          0.876239    0.45\n",
      "10   0.862171  0.744114  0.995496  0.998488          0.871301    0.50\n",
      "11   0.883946  0.735353  0.995694  0.998794          0.867074    0.55\n",
      "12   0.900143  0.725445  0.995820  0.999049          0.862247    0.60\n",
      "13   0.914540  0.716335  0.995895  0.999231          0.857783    0.65\n",
      "14   0.926006  0.705674  0.995908  0.999356          0.852515    0.70\n",
      "15   0.935036  0.696622  0.995895  0.999450          0.848036    0.75\n",
      "16   0.943352  0.684817  0.995851  0.999540          0.842179    0.80\n",
      "17   0.950787  0.673168  0.995783  0.999609          0.836389    0.85\n",
      "18   0.958909  0.664268  0.995731  0.999675          0.831972    0.90\n",
      "19   0.964377  0.653119  0.995668  0.999732          0.826426    0.95\n",
      "20   0.967658  0.643597  0.995590  0.999764          0.821681    1.00\n"
     ]
    }
   ],
   "source": [
    "print(prMetricsByThresh(cpMethod.gradient.name, torch.tensor(results.t_out.coord_main).float(), \\\n",
    "                        test_dataset.data['cps'].unsqueeze(2).float(), 20))"
   ]
  },
  {
   "cell_type": "code",
   "execution_count": 19,
   "metadata": {},
   "outputs": [
    {
     "name": "stdout",
     "output_type": "stream",
     "text": [
      "Finished 'prMetricsByThresh' in 7.3621 secs\n",
      "    Precision    Recall  Accuracy   A_major  BalancedAccuracy  thresh\n",
      "0    0.007335  1.000000  0.033319  0.026874          0.513437    0.00\n",
      "1    0.430133  0.756694  0.932110  0.934266          0.845480    0.05\n",
      "2    0.522339  0.630189  0.959826  0.963675          0.796932    0.10\n",
      "3    0.583650  0.541147  0.971425  0.976395          0.758771    0.15\n",
      "4    0.641437  0.486312  0.978285  0.983974          0.735143    0.20\n",
      "5    0.700557  0.452758  0.982394  0.988514          0.720636    0.25\n",
      "6    0.748513  0.435593  0.985258  0.991625          0.713609    0.30\n",
      "7    0.794554  0.425203  0.987269  0.993800          0.709501    0.35\n",
      "8    0.840617  0.419616  0.988818  0.995443          0.707530    0.40\n",
      "9    0.873519  0.414872  0.989944  0.996643          0.705757    0.45\n",
      "10   0.898652  0.411545  0.990809  0.997563          0.704554    0.50\n",
      "11   0.920543  0.409068  0.991451  0.998246          0.703657    0.55\n",
      "12   0.943452  0.407240  0.991929  0.998756          0.702998    0.60\n",
      "13   0.958776  0.406159  0.992292  0.999138          0.702649    0.65\n",
      "14   0.970975  0.405599  0.992550  0.999408          0.702503    0.70\n",
      "15   0.982283  0.404888  0.992729  0.999596          0.702242    0.75\n",
      "16   0.986393  0.404648  0.992816  0.999687          0.702168    0.80\n",
      "17   0.990137  0.404498  0.992902  0.999776          0.702137    0.85\n",
      "18   0.992877  0.404384  0.992969  0.999845          0.702115    0.90\n",
      "19   0.994247  0.404384  0.993023  0.999899          0.702141    0.95\n",
      "20   0.996164  0.404384  0.993063  0.999940          0.702162    1.00\n"
     ]
    }
   ],
   "source": [
    "print(prMetricsByThresh(cpMethod.mc_dropout.name, torch.tensor(results.t_out.y_var).float(), \\\n",
    "                        test_dataset.data['cps'].unsqueeze(2).float(), 20))"
   ]
  },
  {
   "cell_type": "code",
   "execution_count": null,
   "metadata": {
    "collapsed": true
   },
   "outputs": [],
   "source": []
  },
  {
   "cell_type": "code",
   "execution_count": 20,
   "metadata": {
    "collapsed": true
   },
   "outputs": [],
   "source": [
    "#chm22 genetic map and vcf (vcf is used to get the snp position)\n",
    "config['data.genetic_map'] = osp.join(os.environ.get('IN_PATH'), 'humans/reference_files/allchrs.b38.gmap')\n",
    "config['data.vcf_dir'] = osp.join(os.environ.get('IN_PATH'), 'humans/master_vcf_files/ref_final_beagle_phased_1kg_hgdp_sgdp_chr22.vcf.gz')"
   ]
  },
  {
   "cell_type": "code",
   "execution_count": 21,
   "metadata": {},
   "outputs": [
    {
     "name": "stdout",
     "output_type": "stream",
     "text": [
      "Finished 'get_recomb_rate' in 70.1698 secs\n",
      "Finished 'interpolate_genetic_pos' in 0.0033 secs\n",
      "Finished 'form_windows' in 0.0018 secs\n"
     ]
    }
   ],
   "source": [
    "#get recomb_rate\n",
    "genetic_map_path = config['data.genetic_map']\n",
    "vcf_file_path = config['data.vcf_dir']\n",
    "df_gm_chm22, df_vcf, df_snp_pos = get_recomb_rate(genetic_map_path, vcf_file_path, chm='chr22')\n",
    "df_snp_pos = interpolate_genetic_pos(df_snp_pos, df_gm_chm22)\n",
    "recomb_w = form_windows(df_snp_pos, params.chmlen, params.win_size)\n",
    "recomb_rate = np.diff(recomb_w)"
   ]
  },
  {
   "cell_type": "code",
   "execution_count": 22,
   "metadata": {},
   "outputs": [
    {
     "data": {
      "text/plain": [
       "(316,)"
      ]
     },
     "execution_count": 22,
     "metadata": {},
     "output_type": "execute_result"
    }
   ],
   "source": [
    "recomb_rate.shape"
   ]
  },
  {
   "cell_type": "code",
   "execution_count": 109,
   "metadata": {},
   "outputs": [
    {
     "name": "stdout",
     "output_type": "stream",
     "text": [
      "torch.Size([3650, 317, 3]) torch.Size([3650, 1, 3, 3]) torch.Size([3650, 1, 3]) torch.Size([3650, 1, 3, 3])\n",
      "Finished 'run_recursive' in 208.5128 secs\n"
     ]
    }
   ],
   "source": [
    "y_pred = results.t_out.coord_main\n",
    "n_vec_dim=y_pred.shape[-1]\n",
    "data_tensor = torch.tensor(y_pred).float()\n",
    "pred_cps, predictive_ls, e_mean_ls = [], [] ,[]\n",
    "\n",
    "batch_size_cpd = data_tensor.shape[0]\n",
    "mu_prior = torch.mean(data_tensor, dim =1).float().reshape(batch_size_cpd, 1,n_vec_dim)\n",
    "cov_prior = (torch.var(data_tensor, dim =1).float().unsqueeze(1) * \\\n",
    "             torch.eye(n_vec_dim)).reshape(batch_size_cpd,1,n_vec_dim,n_vec_dim)\n",
    "cov_x = torch.eye(n_vec_dim).unsqueeze(0).repeat([batch_size_cpd,1,1]).reshape(batch_size_cpd,1,n_vec_dim,n_vec_dim)\n",
    "print(data_tensor.shape, cov_prior.shape, mu_prior.shape, cov_x.shape)\n",
    "likelihood_model = Multivariate_Gaussian(mu_prior, cov_prior, cov_x)\n",
    "T = params.n_win\n",
    "model_cpd = BOCD.BOCD(recomb_rate, T, likelihood_model, batch_size_cpd)\n",
    "\n",
    "posterior, _, predictive, e_mean = model_cpd.run_recursive(data_tensor, 'cpu')\n",
    "pred_cps.append(model_cpd.cp)\n",
    "predictive_ls.append(predictive)\n",
    "e_mean_ls.append(e_mean)"
   ]
  },
  {
   "cell_type": "code",
   "execution_count": 110,
   "metadata": {},
   "outputs": [],
   "source": [
    "bocp_rl = model_cpd.cp.detach().numpy()\n",
    "bocp_rl_diff = bocp_rl[:,1:]-bocp_rl[:,:-1]\n",
    "bocd_cp = np.zeros((batch_size_cpd, T))\n",
    "bocd_cp_idx = np.nonzero((bocp_rl_diff<-4))\n",
    "for i,j in zip(bocd_cp_idx[0], bocd_cp_idx[1]):\n",
    "    if bocp_rl[i,j+1]<4:\n",
    "        bocd_cp[i,j]=1"
   ]
  },
  {
   "cell_type": "code",
   "execution_count": 111,
   "metadata": {},
   "outputs": [
    {
     "name": "stdout",
     "output_type": "stream",
     "text": [
      "Finished 'prMetricsByThresh' in 13.3733 secs\n"
     ]
    },
    {
     "data": {
      "text/html": [
       "<div>\n",
       "<style scoped>\n",
       "    .dataframe tbody tr th:only-of-type {\n",
       "        vertical-align: middle;\n",
       "    }\n",
       "\n",
       "    .dataframe tbody tr th {\n",
       "        vertical-align: top;\n",
       "    }\n",
       "\n",
       "    .dataframe thead th {\n",
       "        text-align: right;\n",
       "    }\n",
       "</style>\n",
       "<table border=\"1\" class=\"dataframe\">\n",
       "  <thead>\n",
       "    <tr style=\"text-align: right;\">\n",
       "      <th></th>\n",
       "      <th>Precision</th>\n",
       "      <th>Recall</th>\n",
       "      <th>Accuracy</th>\n",
       "      <th>A_major</th>\n",
       "      <th>BalancedAccuracy</th>\n",
       "      <th>thresh</th>\n",
       "    </tr>\n",
       "  </thead>\n",
       "  <tbody>\n",
       "    <tr>\n",
       "      <th>0</th>\n",
       "      <td>1.000000</td>\n",
       "      <td>0.404384</td>\n",
       "      <td>0.993123</td>\n",
       "      <td>1.000000</td>\n",
       "      <td>0.702192</td>\n",
       "      <td>0.0</td>\n",
       "    </tr>\n",
       "    <tr>\n",
       "      <th>1</th>\n",
       "      <td>1.000000</td>\n",
       "      <td>0.404384</td>\n",
       "      <td>0.993123</td>\n",
       "      <td>1.000000</td>\n",
       "      <td>0.702192</td>\n",
       "      <td>0.5</td>\n",
       "    </tr>\n",
       "    <tr>\n",
       "      <th>2</th>\n",
       "      <td>1.000000</td>\n",
       "      <td>0.404384</td>\n",
       "      <td>0.993123</td>\n",
       "      <td>1.000000</td>\n",
       "      <td>0.702192</td>\n",
       "      <td>1.0</td>\n",
       "    </tr>\n",
       "    <tr>\n",
       "      <th>3</th>\n",
       "      <td>0.898862</td>\n",
       "      <td>0.655931</td>\n",
       "      <td>0.995381</td>\n",
       "      <td>0.999413</td>\n",
       "      <td>0.827672</td>\n",
       "      <td>1.5</td>\n",
       "    </tr>\n",
       "    <tr>\n",
       "      <th>4</th>\n",
       "      <td>0.898862</td>\n",
       "      <td>0.655337</td>\n",
       "      <td>0.995378</td>\n",
       "      <td>0.999413</td>\n",
       "      <td>0.827375</td>\n",
       "      <td>2.0</td>\n",
       "    </tr>\n",
       "    <tr>\n",
       "      <th>5</th>\n",
       "      <td>0.785622</td>\n",
       "      <td>0.745094</td>\n",
       "      <td>0.995397</td>\n",
       "      <td>0.998380</td>\n",
       "      <td>0.871737</td>\n",
       "      <td>2.5</td>\n",
       "    </tr>\n",
       "    <tr>\n",
       "      <th>6</th>\n",
       "      <td>0.784089</td>\n",
       "      <td>0.741601</td>\n",
       "      <td>0.995367</td>\n",
       "      <td>0.998388</td>\n",
       "      <td>0.869995</td>\n",
       "      <td>3.0</td>\n",
       "    </tr>\n",
       "    <tr>\n",
       "      <th>7</th>\n",
       "      <td>0.724825</td>\n",
       "      <td>0.757222</td>\n",
       "      <td>0.994842</td>\n",
       "      <td>0.997689</td>\n",
       "      <td>0.877456</td>\n",
       "      <td>3.5</td>\n",
       "    </tr>\n",
       "    <tr>\n",
       "      <th>8</th>\n",
       "      <td>0.724537</td>\n",
       "      <td>0.752698</td>\n",
       "      <td>0.994813</td>\n",
       "      <td>0.997712</td>\n",
       "      <td>0.875205</td>\n",
       "      <td>4.0</td>\n",
       "    </tr>\n",
       "    <tr>\n",
       "      <th>9</th>\n",
       "      <td>0.687652</td>\n",
       "      <td>0.758183</td>\n",
       "      <td>0.994378</td>\n",
       "      <td>0.997211</td>\n",
       "      <td>0.877697</td>\n",
       "      <td>4.5</td>\n",
       "    </tr>\n",
       "    <tr>\n",
       "      <th>10</th>\n",
       "      <td>0.686860</td>\n",
       "      <td>0.753106</td>\n",
       "      <td>0.994340</td>\n",
       "      <td>0.997245</td>\n",
       "      <td>0.875176</td>\n",
       "      <td>5.0</td>\n",
       "    </tr>\n",
       "    <tr>\n",
       "      <th>11</th>\n",
       "      <td>0.659815</td>\n",
       "      <td>0.755206</td>\n",
       "      <td>0.993973</td>\n",
       "      <td>0.996849</td>\n",
       "      <td>0.876027</td>\n",
       "      <td>5.5</td>\n",
       "    </tr>\n",
       "    <tr>\n",
       "      <th>12</th>\n",
       "      <td>0.659532</td>\n",
       "      <td>0.747596</td>\n",
       "      <td>0.993935</td>\n",
       "      <td>0.996904</td>\n",
       "      <td>0.872250</td>\n",
       "      <td>6.0</td>\n",
       "    </tr>\n",
       "    <tr>\n",
       "      <th>13</th>\n",
       "      <td>0.641331</td>\n",
       "      <td>0.748649</td>\n",
       "      <td>0.993657</td>\n",
       "      <td>0.996611</td>\n",
       "      <td>0.872630</td>\n",
       "      <td>6.5</td>\n",
       "    </tr>\n",
       "    <tr>\n",
       "      <th>14</th>\n",
       "      <td>0.641132</td>\n",
       "      <td>0.743078</td>\n",
       "      <td>0.993635</td>\n",
       "      <td>0.996660</td>\n",
       "      <td>0.869869</td>\n",
       "      <td>7.0</td>\n",
       "    </tr>\n",
       "    <tr>\n",
       "      <th>15</th>\n",
       "      <td>0.625822</td>\n",
       "      <td>0.743626</td>\n",
       "      <td>0.993423</td>\n",
       "      <td>0.996441</td>\n",
       "      <td>0.870034</td>\n",
       "      <td>7.5</td>\n",
       "    </tr>\n",
       "    <tr>\n",
       "      <th>16</th>\n",
       "      <td>0.626508</td>\n",
       "      <td>0.739069</td>\n",
       "      <td>0.993422</td>\n",
       "      <td>0.996499</td>\n",
       "      <td>0.867784</td>\n",
       "      <td>8.0</td>\n",
       "    </tr>\n",
       "    <tr>\n",
       "      <th>17</th>\n",
       "      <td>0.618375</td>\n",
       "      <td>0.739507</td>\n",
       "      <td>0.993264</td>\n",
       "      <td>0.996333</td>\n",
       "      <td>0.867920</td>\n",
       "      <td>8.5</td>\n",
       "    </tr>\n",
       "    <tr>\n",
       "      <th>18</th>\n",
       "      <td>0.618564</td>\n",
       "      <td>0.733498</td>\n",
       "      <td>0.993262</td>\n",
       "      <td>0.996406</td>\n",
       "      <td>0.864952</td>\n",
       "      <td>9.0</td>\n",
       "    </tr>\n",
       "    <tr>\n",
       "      <th>19</th>\n",
       "      <td>0.611147</td>\n",
       "      <td>0.733868</td>\n",
       "      <td>0.993145</td>\n",
       "      <td>0.996284</td>\n",
       "      <td>0.865076</td>\n",
       "      <td>9.5</td>\n",
       "    </tr>\n",
       "    <tr>\n",
       "      <th>20</th>\n",
       "      <td>0.610981</td>\n",
       "      <td>0.728494</td>\n",
       "      <td>0.993126</td>\n",
       "      <td>0.996328</td>\n",
       "      <td>0.862411</td>\n",
       "      <td>10.0</td>\n",
       "    </tr>\n",
       "  </tbody>\n",
       "</table>\n",
       "</div>"
      ],
      "text/plain": [
       "    Precision    Recall  Accuracy   A_major  BalancedAccuracy  thresh\n",
       "0    1.000000  0.404384  0.993123  1.000000          0.702192     0.0\n",
       "1    1.000000  0.404384  0.993123  1.000000          0.702192     0.5\n",
       "2    1.000000  0.404384  0.993123  1.000000          0.702192     1.0\n",
       "3    0.898862  0.655931  0.995381  0.999413          0.827672     1.5\n",
       "4    0.898862  0.655337  0.995378  0.999413          0.827375     2.0\n",
       "5    0.785622  0.745094  0.995397  0.998380          0.871737     2.5\n",
       "6    0.784089  0.741601  0.995367  0.998388          0.869995     3.0\n",
       "7    0.724825  0.757222  0.994842  0.997689          0.877456     3.5\n",
       "8    0.724537  0.752698  0.994813  0.997712          0.875205     4.0\n",
       "9    0.687652  0.758183  0.994378  0.997211          0.877697     4.5\n",
       "10   0.686860  0.753106  0.994340  0.997245          0.875176     5.0\n",
       "11   0.659815  0.755206  0.993973  0.996849          0.876027     5.5\n",
       "12   0.659532  0.747596  0.993935  0.996904          0.872250     6.0\n",
       "13   0.641331  0.748649  0.993657  0.996611          0.872630     6.5\n",
       "14   0.641132  0.743078  0.993635  0.996660          0.869869     7.0\n",
       "15   0.625822  0.743626  0.993423  0.996441          0.870034     7.5\n",
       "16   0.626508  0.739069  0.993422  0.996499          0.867784     8.0\n",
       "17   0.618375  0.739507  0.993264  0.996333          0.867920     8.5\n",
       "18   0.618564  0.733498  0.993262  0.996406          0.864952     9.0\n",
       "19   0.611147  0.733868  0.993145  0.996284          0.865076     9.5\n",
       "20   0.610981  0.728494  0.993126  0.996328          0.862411    10.0"
      ]
     },
     "execution_count": 111,
     "metadata": {},
     "output_type": "execute_result"
    }
   ],
   "source": [
    "df_bocd=prMetricsByThresh(cpMethod.BOCD.name, model_cpd.cp, \\\n",
    "                        test_dataset.data['cps'].unsqueeze(2).float(), 20)\n",
    "df_bocd"
   ]
  },
  {
   "cell_type": "code",
   "execution_count": 112,
   "metadata": {},
   "outputs": [
    {
     "data": {
      "text/plain": [
       "(3650, 317)"
      ]
     },
     "execution_count": 112,
     "metadata": {},
     "output_type": "execute_result"
    }
   ],
   "source": [
    "bocp_rl_diff.shape"
   ]
  },
  {
   "cell_type": "code",
   "execution_count": 113,
   "metadata": {},
   "outputs": [
    {
     "data": {
      "text/plain": [
       "((2174,), (2526,))"
      ]
     },
     "execution_count": 113,
     "metadata": {},
     "output_type": "execute_result"
    }
   ],
   "source": [
    "np.unique(np.nonzero(test_dataset.data['cps'])[:,0]).shape, np.unique(np.nonzero(bocd_cp)[0]).shape"
   ]
  },
  {
   "cell_type": "code",
   "execution_count": 114,
   "metadata": {},
   "outputs": [
    {
     "data": {
      "text/plain": [
       "(tensor([[199]]), (array([199]),))"
      ]
     },
     "execution_count": 114,
     "metadata": {},
     "output_type": "execute_result"
    }
   ],
   "source": [
    "np.nonzero(test_dataset.data['cps'][1253,:]), np.nonzero(bocd_cp[1253,:])"
   ]
  },
  {
   "cell_type": "code",
   "execution_count": 115,
   "metadata": {},
   "outputs": [
    {
     "data": {
      "text/plain": [
       "(1, 0, 0, 316, array([[0.]]))"
      ]
     },
     "execution_count": 115,
     "metadata": {},
     "output_type": "execute_result"
    }
   ],
   "source": [
    "eval_cp_matrix(np.nonzero(test_dataset.data['cps'][1253,:].detach().cpu()), np.nonzero(bocd_cp[1253,:])[0], seq_len=317)"
   ]
  },
  {
   "cell_type": "markdown",
   "metadata": {
    "collapsed": true
   },
   "source": [
    "# Qualitative by looking at anecdotes/samples"
   ]
  },
  {
   "cell_type": "code",
   "execution_count": 116,
   "metadata": {},
   "outputs": [
    {
     "data": {
      "text/plain": [
       "['neural_network', 'gradient', 'mc_dropout', 'BOCD']"
      ]
     },
     "execution_count": 116,
     "metadata": {},
     "output_type": "execute_result"
    }
   ],
   "source": [
    "[cp.name for cp in cpMethod]"
   ]
  },
  {
   "cell_type": "code",
   "execution_count": 117,
   "metadata": {},
   "outputs": [],
   "source": [
    "# index=2500\n",
    "index = 1313\n",
    "cp_target=test_dataset.data['cps']\n",
    "seqlen=cp_target.shape[1]\n",
    "cpThresh=[0.49, 0.2, 0.10, 3]\n",
    "cp_pred_raw=[  torch.tensor(results.t_out.cp_logits).float(), torch.tensor(results.t_out.coord_main).float(), \n",
    "             torch.tensor(results.t_out.y_var).float(), model_cpd.cp]\n",
    "pred_cps = {}\n",
    "for name, thresh, pred_raw in zip([cp.name for cp in cpMethod], cpThresh, cp_pred_raw):\n",
    "    _, pred_cps[name]= reportChangePointMetrics(name, pred_raw, cp_target, seqlen, thresh)\n",
    "\n",
    "true_cps=cp_target.detach().cpu().numpy()\n",
    "pred_cps={k:v.detach().cpu().numpy() for k,v in pred_cps.items()}"
   ]
  },
  {
   "cell_type": "code",
   "execution_count": 118,
   "metadata": {},
   "outputs": [],
   "source": [
    "def plot_changepoints(true_cps, pred_cps, y_pred, bocp_rl, y_var):\n",
    "    fig, ax = plt.subplots(8,1,figsize=[18,30])\n",
    "    ax[0].plot(y_pred)\n",
    "#     ax1.text(0, np.max(y_pred_index_np), s=rev_pop_dict[granular_pop_map[int(y_vcf_idx[1,:].item())]])\n",
    "    for i in true_cps:\n",
    "        ax[0].plot([i,i], [np.min(y_pred), np.max(y_pred)], 'r' )\n",
    "#         ax1.text(i, np.max(y_pred_index_np), s=rev_pop_dict[granular_pop_map[int(y_vcf_idx[i+1,:].item())]])\n",
    "    ax[1].plot(pred_cps[cpMethod.gradient.name])\n",
    "    ax[2].plot(y_var)\n",
    "    ax[3].plot(pred_cps[cpMethod.mc_dropout.name])\n",
    "    ax[4].plot(pred_cps[cpMethod.neural_network.name])\n",
    "    ax[5].plot(np.arange(T+1), bocp_rl)\n",
    "    ax[6].plot(pred_cps[cpMethod.BOCD.name])\n",
    "    ax[7].plot(true_cps)\n",
    "    \n",
    "    ax[0].set_title(\"n_vectors\")\n",
    "    ax[1].set_title(\"Simple gradient(post_process)\")\n",
    "    ax[2].set_title(\"Mc dropout variance\")\n",
    "    ax[3].set_title(\"Mc dropout\")\n",
    "    ax[4].set_title(\"Neural Network predicted cp\")\n",
    "    ax[5].set_title(\"BOCD (post process) run_length\")\n",
    "    ax[6].set_title(\"BOCD (post process) cp\")\n",
    "    ax[7].set_title(\"True Cps\")\n",
    "    plt.show()"
   ]
  },
  {
   "cell_type": "code",
   "execution_count": 119,
   "metadata": {
    "scrolled": false
   },
   "outputs": [
    {
     "data": {
      "image/png": "[encoded data removed]",
      "text/plain": [
       "<Figure size 1296x2160 with 8 Axes>"
      ]
     },
     "metadata": {},
     "output_type": "display_data"
    }
   ],
   "source": [
    "true_cpsSample=true_cps[index,:]\n",
    "pred_cpsSample={k:v[index,:] for k,v in pred_cps.items()}\n",
    "y_predSample=results.t_out.coord_main[index,:]\n",
    "y_varSample=results.t_out.y_var[index,:,:]\n",
    "bocp_rlSample=bocp_rl[index,:]\n",
    "plot_changepoints(true_cpsSample, pred_cpsSample, y_predSample, bocp_rlSample, y_varSample)"
   ]
  },
  {
   "cell_type": "code",
   "execution_count": 35,
   "metadata": {},
   "outputs": [
    {
     "data": {
      "text/plain": [
       "(array([   0,    0,    0, ..., 3649, 3649, 3649]),\n",
       " array([  3,   5,   6, ..., 313, 314, 315]),\n",
       " array([0, 0, 0, ..., 0, 0, 0]))"
      ]
     },
     "execution_count": 35,
     "metadata": {},
     "output_type": "execute_result"
    }
   ],
   "source": [
    "np.nonzero(pred_cps[cpMethod.neural_network.name])"
   ]
  },
  {
   "cell_type": "code",
   "execution_count": 36,
   "metadata": {},
   "outputs": [
    {
     "data": {
      "text/plain": [
       "array([], dtype=float32)"
      ]
     },
     "execution_count": 36,
     "metadata": {},
     "output_type": "execute_result"
    }
   ],
   "source": [
    "results.t_out.cp_logits[results.t_out.cp_logits>0.5]"
   ]
  },
  {
   "cell_type": "code",
   "execution_count": 37,
   "metadata": {},
   "outputs": [],
   "source": [
    "tmp_cpprob = torch.sigmoid(torch.tensor(results.t_out.cp_logits).float())"
   ]
  },
  {
   "cell_type": "code",
   "execution_count": 38,
   "metadata": {},
   "outputs": [
    {
     "data": {
      "text/plain": [
       "(tensor(0.0112), tensor(0.5074), tensor([[   0,    3,    0],\n",
       "         [   0,    5,    0],\n",
       "         [   0,    6,    0],\n",
       "         ...,\n",
       "         [3649,  313,    0],\n",
       "         [3649,  314,    0],\n",
       "         [3649,  315,    0]]))"
      ]
     },
     "execution_count": 38,
     "metadata": {},
     "output_type": "execute_result"
    }
   ],
   "source": [
    "torch.min(tmp_cpprob), torch.max(tmp_cpprob), torch.nonzero(tmp_cpprob>0.4)"
   ]
  },
  {
   "cell_type": "code",
   "execution_count": 66,
   "metadata": {},
   "outputs": [
    {
     "data": {
      "text/plain": [
       "((array([160, 288, 300]),), (array([155, 289, 301]),))"
      ]
     },
     "execution_count": 66,
     "metadata": {},
     "output_type": "execute_result"
    }
   ],
   "source": [
    "np.nonzero(true_cpsSample), np.nonzero(pred_cps[cpMethod.BOCD.name][index,:])"
   ]
  },
  {
   "cell_type": "code",
   "execution_count": null,
   "metadata": {
    "collapsed": true
   },
   "outputs": [],
   "source": []
  }
 ],
 "metadata": {
  "kernelspec": {
   "display_name": "Python 3",
   "language": "python",
   "name": "python3"
  },
  "language_info": {
   "codemirror_mode": {
    "name": "ipython",
    "version": 3
   },
   "file_extension": ".py",
   "mimetype": "text/x-python",
   "name": "python",
   "nbconvert_exporter": "python",
   "pygments_lexer": "ipython3",
   "version": "3.6.1"
  }
 },
 "nbformat": 4,
 "nbformat_minor": 2
}
