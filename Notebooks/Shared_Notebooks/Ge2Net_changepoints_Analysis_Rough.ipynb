{
 "cells": [
  {
   "cell_type": "code",
   "execution_count": 1,
   "metadata": {
    "collapsed": true
   },
   "outputs": [],
   "source": [
    "import torch\n",
    "import sys\n",
    "import os\n",
    "import os.path as osp\n",
    "import pandas as pd\n",
    "import numpy as np\n",
    "import matplotlib.pyplot as plt\n",
    "import seaborn as sns\n",
    "from mpl_toolkits.mplot3d import Axes3D\n",
    "from matplotlib import ticker\n",
    "import matplotlib as mpl\n",
    "from   matplotlib.colors import LogNorm\n",
    "from sklearn.metrics import precision_recall_curve, recall_score, precision_score, \\\n",
    "balanced_accuracy_score, accuracy_score\n",
    "from sklearn import metrics"
   ]
  },
  {
   "cell_type": "code",
   "execution_count": 2,
   "metadata": {
    "collapsed": true
   },
   "outputs": [],
   "source": [
    "root_dir = \"/home/users/richras/Ge2Net_Repo\"\n",
    "os.chdir(root_dir)"
   ]
  },
  {
   "cell_type": "code",
   "execution_count": 3,
   "metadata": {},
   "outputs": [
    {
     "name": "stdout",
     "output_type": "stream",
     "text": [
      "set environment variables\r\n",
      "All done\r\n"
     ]
    }
   ],
   "source": [
    "!./ini.sh"
   ]
  },
  {
   "cell_type": "code",
   "execution_count": 4,
   "metadata": {
    "collapsed": true
   },
   "outputs": [],
   "source": [
    "os.environ['USER_PATH']='/home/users/richras/Ge2Net_Repo'\n",
    "os.environ['USER_SCRATCH_PATH']=\"/scratch/users/richras\"\n",
    "os.environ['IN_PATH']='/scratch/groups/cdbustam/richras/data_in'\n",
    "os.environ['OUT_PATH']='/scratch/groups/cdbustam/richras/data_out'\n",
    "os.environ['LOG_PATH']='/scratch/groups/cdbustam/richras/logs/'"
   ]
  },
  {
   "cell_type": "code",
   "execution_count": 5,
   "metadata": {},
   "outputs": [],
   "source": [
    "%load_ext autoreload\n",
    "%autoreload 2\n",
    "from src.utils.dataUtil import load_path, save_file, vcf2npy, get_recomb_rate, interpolate_genetic_pos, form_windows,\\\n",
    "getValueBySelection\n",
    "from src.utils.modelUtil import Params, load_model\n",
    "from src.utils.decorators import timer\n",
    "from src.utils.labelUtil import repeat_pop_arr, getSuperpopBins\n",
    "from src.models import AuxiliaryTask, LSTM, Attention, BasicBlock, Model_A, Model_B, Model_C, BOCD\n",
    "from src.models.distributions import Multivariate_Gaussian\n",
    "from src.main.evaluation import eval_cp_batch, reportChangePointMetrics, t_prMetrics, cpMethod, eval_cp_matrix\n",
    "from src.main.settings_model import parse_args, MODEL_CLASS\n",
    "import test"
   ]
  },
  {
   "cell_type": "code",
   "execution_count": 6,
   "metadata": {
    "collapsed": true
   },
   "outputs": [],
   "source": [
    "# Specify the dataset to be evaluated\n",
    "# chm22 pca full dataset and model\n",
    "labels_path = osp.join(os.environ['OUT_PATH'],'humans/labels/data_id_2_geo')\n",
    "data_path = osp.join(os.environ['OUT_PATH'],'humans/labels/data_id_2_geo')\n",
    "models_path=osp.join(os.environ['OUT_PATH'],'humans/training/Model_B_exp_id_1_data_id_2_geo/') \n",
    "dataset_type='valid'"
   ]
  },
  {
   "cell_type": "code",
   "execution_count": 7,
   "metadata": {
    "collapsed": true
   },
   "outputs": [],
   "source": [
    "# load the params file and run test.py"
   ]
  },
  {
   "cell_type": "code",
   "execution_count": 8,
   "metadata": {},
   "outputs": [
    {
     "name": "stdout",
     "output_type": "stream",
     "text": [
      " device used: cuda\n",
      "Loading the datasets...\n",
      "x:(3650, 317, 1)\n",
      "Finished 'transform_data' in 28.5874 secs\n",
      "Finished '__init__' in 53.4166 secs\n",
      "model ['Model_B.model_B'] : AuxiliaryTask.AuxNetwork\n",
      "model ['Model_B.model_B'] : LSTM.BiRNN\n",
      "model ['Model_B.model_B'] : BasicBlock.logits_Block\n",
      "best val loss metrics : {'l1_loss': 0.2538944380712264, 'mse': 0.05881699935737031, 'smooth_l1': 0.029355305803197652, 'weighted_loss': 0.2538944380712264, 'loss_main': 1092.3769897584375, 'loss_aux': 2373.657338922259}\n",
      "at epoch : 79\n",
      "train loss metrics: {'l1_loss': 0.14732649957910446, 'mse': 0.031141912059766404, 'smooth_l1': 0.015557927181191141, 'weighted_loss': 0.14732649957910446, 'loss_main': 665.1075336277366, 'loss_aux': 2210.7819509843907}\n",
      "best val cp metrics : {'loss_cp': 0.08854438972629748, 'Precision': 1.0, 'Recall': 0.40457182999648755, 'Accuracy': 0.9863549544099219, 'A_major': 1.0, 'BalancedAccuracy': 0.7022859149982439}\n",
      "train cp metrics: {'loss_cp': 0.21701293623585258, 'Precision': 0.021313580802611146, 'Recall': 0.940445859281342, 'Accuracy': 0.7084976945853254, 'A_major': 0.7077292941783604, 'BalancedAccuracy': 0.8240875767298511}\n",
      "best val sp metrics : None\n",
      "train sp metrics: None\n",
      "best val balanced gcd metrics : {'meanBalancedGcdSp': 2098.05517578125, 'meanBalancedGcdGp': 1984.77294921875, 'medianBalancedGcdSp': 1367.0977783203125, 'medianBalancedGcdGp': 1589.478515625, 'median': <bound method balancedMetrics.medianMetric of balancedMetrics()>}\n",
      "train balanced gcd metrics: {'meanBalancedGcdSp': 2102.198486328125, 'meanBalancedGcdGp': 1987.2198486328125, 'medianBalancedGcdSp': 1368.4112548828125, 'medianBalancedGcdGp': 1591.1685791015625, 'median': <bound method balancedMetrics.medianMetric of balancedMetrics()>}\n",
      "Finished 'load_model' in 0.9492 secs\n",
      "Finished 'valid' in 80.2994 secs\n",
      "Finished 'main' in 136.7307 secs\n"
     ]
    }
   ],
   "source": [
    "config={}\n",
    "config['data.labels']=labels_path \n",
    "config['data.dir']=data_path \n",
    "config['models.dir']=models_path\n",
    "config['data.dataset_type']=dataset_type\n",
    "config['cuda']='cuda'\n",
    "json_path = osp.join(config['models.dir'], 'params.json')\n",
    "assert osp.isfile(json_path), \"No json configuration file found at {}\".format(json_path)\n",
    "params = Params(json_path)\n",
    "params.rtnOuts=True\n",
    "params.mc_dropout=True\n",
    "params.mc_samples=100\n",
    "params.cp_tol=0\n",
    "results, test_dataset=test.main(config, params)"
   ]
  },
  {
   "cell_type": "code",
   "execution_count": 9,
   "metadata": {},
   "outputs": [
    {
     "data": {
      "text/plain": [
       "True"
      ]
     },
     "execution_count": 9,
     "metadata": {},
     "output_type": "execute_result"
    }
   ],
   "source": [
    "torch.cuda.is_available()"
   ]
  },
  {
   "cell_type": "code",
   "execution_count": 10,
   "metadata": {},
   "outputs": [
    {
     "data": {
      "text/plain": [
       "({'l1_loss': 0.2480571031428255,\n",
       "  'loss_aux': 2679.354727971998,\n",
       "  'loss_main': 1169.538873860248,\n",
       "  'mse': 0.053966904296453,\n",
       "  'smooth_l1': 0.026940420213480674,\n",
       "  'weighted_loss': 0.2480571031428255},\n",
       " {'A_major': 0.7118767804379791,\n",
       "  'Accuracy': 0.7125569335810898,\n",
       "  'BalancedAccuracy': 0.802116103677525,\n",
       "  'Precision': 0.019840389540539374,\n",
       "  'Recall': 0.8923554269170709,\n",
       "  'loss_cp': 0.21409545355105655})"
      ]
     },
     "execution_count": 10,
     "metadata": {},
     "output_type": "execute_result"
    }
   ],
   "source": [
    "results.t_accr, results.t_cp_accr"
   ]
  },
  {
   "cell_type": "code",
   "execution_count": 11,
   "metadata": {},
   "outputs": [
    {
     "data": {
      "text/plain": [
       "torch.Size([3650, 317])"
      ]
     },
     "execution_count": 11,
     "metadata": {},
     "output_type": "execute_result"
    }
   ],
   "source": [
    "test_dataset.data['cps'].shape"
   ]
  },
  {
   "cell_type": "code",
   "execution_count": 12,
   "metadata": {},
   "outputs": [
    {
     "data": {
      "text/plain": [
       "((3650, 317, 1), (3650, 317, 3), (3650, 317, 3))"
      ]
     },
     "execution_count": 12,
     "metadata": {},
     "output_type": "execute_result"
    }
   ],
   "source": [
    "results.t_out.cp_logits.shape, results.t_out.coord_main.shape, results.t_out.y_var.shape"
   ]
  },
  {
   "cell_type": "code",
   "execution_count": 13,
   "metadata": {},
   "outputs": [
    {
     "data": {
      "text/html": [
       "<style type=\"text/css\">\n",
       "table.dataframe td, table.dataframe th {\n",
       "    border: 1px  black solid !important;\n",
       "  color: black !important;\n",
       "}\n",
       "</style>"
      ],
      "text/plain": [
       "<IPython.core.display.HTML object>"
      ]
     },
     "metadata": {},
     "output_type": "display_data"
    }
   ],
   "source": [
    "%%HTML\n",
    "<style type=\"text/css\">\n",
    "table.dataframe td, table.dataframe th {\n",
    "    border: 1px  black solid !important;\n",
    "  color: black !important;\n",
    "}\n",
    "</style>"
   ]
  },
  {
   "cell_type": "code",
   "execution_count": 14,
   "metadata": {
    "collapsed": true
   },
   "outputs": [],
   "source": [
    "@timer\n",
    "def prMetricsByThresh(method_name, cp_pred_raw, cp_target, steps, minThresh, maxThresh, win_tol=2, byWindows=False):\n",
    "    increment = (maxThresh - minThresh)/steps\n",
    "    df=pd.DataFrame(columns=list(t_prMetrics._fields)+['thresh'])\n",
    "    for thresh in np.arange(minThresh, maxThresh + increment, increment):\n",
    "        prMetrics, cp_pred = reportChangePointMetrics(method_name, cp_pred_raw, cp_target, thresh, win_tol)\n",
    "        if byWindows: \n",
    "            prMetrics={}\n",
    "            prMetrics['Precision']=precision_score(cp_target.flatten(), cp_pred.flatten())\n",
    "            prMetrics['Recall']=recall_score(cp_target.flatten(), cp_pred.flatten())\n",
    "            prMetrics['BalancedAccuracy']=balanced_accuracy_score(cp_target.flatten(), cp_pred.flatten())\n",
    "            prMetrics['Accuracy']=accuracy_score(cp_target.flatten(), cp_pred.flatten())\n",
    "        prMetrics['thresh']=thresh\n",
    "        prMetrics['F1']=2*prMetrics['Precision']*prMetrics['Recall']/(prMetrics['Precision']+prMetrics['Recall'])\n",
    "        df=df.append(prMetrics, ignore_index=True)\n",
    "    return df"
   ]
  },
  {
   "cell_type": "code",
   "execution_count": 15,
   "metadata": {},
   "outputs": [
    {
     "name": "stdout",
     "output_type": "stream",
     "text": [
      "Finished 'prMetricsByThresh' in 17.7430 secs\n"
     ]
    },
    {
     "data": {
      "text/html": [
       "<div>\n",
       "<style scoped>\n",
       "    .dataframe tbody tr th:only-of-type {\n",
       "        vertical-align: middle;\n",
       "    }\n",
       "\n",
       "    .dataframe tbody tr th {\n",
       "        vertical-align: top;\n",
       "    }\n",
       "\n",
       "    .dataframe thead th {\n",
       "        text-align: right;\n",
       "    }\n",
       "</style>\n",
       "<table border=\"1\" class=\"dataframe\">\n",
       "  <thead>\n",
       "    <tr style=\"text-align: right;\">\n",
       "      <th></th>\n",
       "      <th>Precision</th>\n",
       "      <th>Recall</th>\n",
       "      <th>Accuracy</th>\n",
       "      <th>A_major</th>\n",
       "      <th>BalancedAccuracy</th>\n",
       "      <th>thresh</th>\n",
       "      <th>F1</th>\n",
       "    </tr>\n",
       "  </thead>\n",
       "  <tbody>\n",
       "    <tr>\n",
       "      <th>0</th>\n",
       "      <td>0.019797</td>\n",
       "      <td>0.896191</td>\n",
       "      <td>0.709594</td>\n",
       "      <td>0.708847</td>\n",
       "      <td>0.802519</td>\n",
       "      <td>0.400</td>\n",
       "      <td>0.038738</td>\n",
       "    </tr>\n",
       "    <tr>\n",
       "      <th>1</th>\n",
       "      <td>0.019795</td>\n",
       "      <td>0.896136</td>\n",
       "      <td>0.709605</td>\n",
       "      <td>0.708859</td>\n",
       "      <td>0.802498</td>\n",
       "      <td>0.405</td>\n",
       "      <td>0.038734</td>\n",
       "    </tr>\n",
       "    <tr>\n",
       "      <th>2</th>\n",
       "      <td>0.019794</td>\n",
       "      <td>0.896113</td>\n",
       "      <td>0.709626</td>\n",
       "      <td>0.708881</td>\n",
       "      <td>0.802497</td>\n",
       "      <td>0.410</td>\n",
       "      <td>0.038733</td>\n",
       "    </tr>\n",
       "    <tr>\n",
       "      <th>3</th>\n",
       "      <td>0.019782</td>\n",
       "      <td>0.895782</td>\n",
       "      <td>0.709650</td>\n",
       "      <td>0.708910</td>\n",
       "      <td>0.802346</td>\n",
       "      <td>0.415</td>\n",
       "      <td>0.038709</td>\n",
       "    </tr>\n",
       "    <tr>\n",
       "      <th>4</th>\n",
       "      <td>0.019780</td>\n",
       "      <td>0.895721</td>\n",
       "      <td>0.709709</td>\n",
       "      <td>0.708971</td>\n",
       "      <td>0.802346</td>\n",
       "      <td>0.420</td>\n",
       "      <td>0.038705</td>\n",
       "    </tr>\n",
       "    <tr>\n",
       "      <th>5</th>\n",
       "      <td>0.019779</td>\n",
       "      <td>0.895574</td>\n",
       "      <td>0.709794</td>\n",
       "      <td>0.709059</td>\n",
       "      <td>0.802316</td>\n",
       "      <td>0.425</td>\n",
       "      <td>0.038704</td>\n",
       "    </tr>\n",
       "    <tr>\n",
       "      <th>6</th>\n",
       "      <td>0.019770</td>\n",
       "      <td>0.895212</td>\n",
       "      <td>0.709931</td>\n",
       "      <td>0.709202</td>\n",
       "      <td>0.802207</td>\n",
       "      <td>0.430</td>\n",
       "      <td>0.038686</td>\n",
       "    </tr>\n",
       "    <tr>\n",
       "      <th>7</th>\n",
       "      <td>0.019783</td>\n",
       "      <td>0.895121</td>\n",
       "      <td>0.710176</td>\n",
       "      <td>0.709449</td>\n",
       "      <td>0.802285</td>\n",
       "      <td>0.435</td>\n",
       "      <td>0.038711</td>\n",
       "    </tr>\n",
       "    <tr>\n",
       "      <th>8</th>\n",
       "      <td>0.019804</td>\n",
       "      <td>0.895075</td>\n",
       "      <td>0.710553</td>\n",
       "      <td>0.709829</td>\n",
       "      <td>0.802452</td>\n",
       "      <td>0.440</td>\n",
       "      <td>0.038751</td>\n",
       "    </tr>\n",
       "    <tr>\n",
       "      <th>9</th>\n",
       "      <td>0.019826</td>\n",
       "      <td>0.894507</td>\n",
       "      <td>0.711210</td>\n",
       "      <td>0.710497</td>\n",
       "      <td>0.802502</td>\n",
       "      <td>0.445</td>\n",
       "      <td>0.038792</td>\n",
       "    </tr>\n",
       "    <tr>\n",
       "      <th>10</th>\n",
       "      <td>0.019840</td>\n",
       "      <td>0.892355</td>\n",
       "      <td>0.712557</td>\n",
       "      <td>0.711877</td>\n",
       "      <td>0.802116</td>\n",
       "      <td>0.450</td>\n",
       "      <td>0.038818</td>\n",
       "    </tr>\n",
       "    <tr>\n",
       "      <th>11</th>\n",
       "      <td>0.019933</td>\n",
       "      <td>0.890027</td>\n",
       "      <td>0.715024</td>\n",
       "      <td>0.714386</td>\n",
       "      <td>0.802207</td>\n",
       "      <td>0.455</td>\n",
       "      <td>0.038994</td>\n",
       "    </tr>\n",
       "    <tr>\n",
       "      <th>12</th>\n",
       "      <td>0.605785</td>\n",
       "      <td>0.421703</td>\n",
       "      <td>0.991407</td>\n",
       "      <td>0.998080</td>\n",
       "      <td>0.709891</td>\n",
       "      <td>0.460</td>\n",
       "      <td>0.497254</td>\n",
       "    </tr>\n",
       "    <tr>\n",
       "      <th>13</th>\n",
       "      <td>0.867671</td>\n",
       "      <td>0.412140</td>\n",
       "      <td>0.992704</td>\n",
       "      <td>0.999492</td>\n",
       "      <td>0.705816</td>\n",
       "      <td>0.465</td>\n",
       "      <td>0.558836</td>\n",
       "    </tr>\n",
       "    <tr>\n",
       "      <th>14</th>\n",
       "      <td>0.953151</td>\n",
       "      <td>0.408427</td>\n",
       "      <td>0.993003</td>\n",
       "      <td>0.999832</td>\n",
       "      <td>0.704129</td>\n",
       "      <td>0.470</td>\n",
       "      <td>0.571825</td>\n",
       "    </tr>\n",
       "    <tr>\n",
       "      <th>15</th>\n",
       "      <td>0.976712</td>\n",
       "      <td>0.406899</td>\n",
       "      <td>0.993070</td>\n",
       "      <td>0.999919</td>\n",
       "      <td>0.703409</td>\n",
       "      <td>0.475</td>\n",
       "      <td>0.574472</td>\n",
       "    </tr>\n",
       "    <tr>\n",
       "      <th>16</th>\n",
       "      <td>0.985479</td>\n",
       "      <td>0.406396</td>\n",
       "      <td>0.993095</td>\n",
       "      <td>0.999950</td>\n",
       "      <td>0.703173</td>\n",
       "      <td>0.480</td>\n",
       "      <td>0.575475</td>\n",
       "    </tr>\n",
       "    <tr>\n",
       "      <th>17</th>\n",
       "      <td>0.990959</td>\n",
       "      <td>0.405795</td>\n",
       "      <td>0.993109</td>\n",
       "      <td>0.999970</td>\n",
       "      <td>0.702883</td>\n",
       "      <td>0.485</td>\n",
       "      <td>0.575802</td>\n",
       "    </tr>\n",
       "    <tr>\n",
       "      <th>18</th>\n",
       "      <td>0.996712</td>\n",
       "      <td>0.405660</td>\n",
       "      <td>0.993126</td>\n",
       "      <td>0.999990</td>\n",
       "      <td>0.702825</td>\n",
       "      <td>0.490</td>\n",
       "      <td>0.576632</td>\n",
       "    </tr>\n",
       "    <tr>\n",
       "      <th>19</th>\n",
       "      <td>0.998082</td>\n",
       "      <td>0.405382</td>\n",
       "      <td>0.993126</td>\n",
       "      <td>0.999994</td>\n",
       "      <td>0.702688</td>\n",
       "      <td>0.495</td>\n",
       "      <td>0.576579</td>\n",
       "    </tr>\n",
       "    <tr>\n",
       "      <th>20</th>\n",
       "      <td>0.998630</td>\n",
       "      <td>0.405290</td>\n",
       "      <td>0.993126</td>\n",
       "      <td>0.999996</td>\n",
       "      <td>0.702643</td>\n",
       "      <td>0.500</td>\n",
       "      <td>0.576578</td>\n",
       "    </tr>\n",
       "  </tbody>\n",
       "</table>\n",
       "</div>"
      ],
      "text/plain": [
       "    Precision    Recall  Accuracy   A_major  BalancedAccuracy  thresh  \\\n",
       "0    0.019797  0.896191  0.709594  0.708847          0.802519   0.400   \n",
       "1    0.019795  0.896136  0.709605  0.708859          0.802498   0.405   \n",
       "2    0.019794  0.896113  0.709626  0.708881          0.802497   0.410   \n",
       "3    0.019782  0.895782  0.709650  0.708910          0.802346   0.415   \n",
       "4    0.019780  0.895721  0.709709  0.708971          0.802346   0.420   \n",
       "5    0.019779  0.895574  0.709794  0.709059          0.802316   0.425   \n",
       "6    0.019770  0.895212  0.709931  0.709202          0.802207   0.430   \n",
       "7    0.019783  0.895121  0.710176  0.709449          0.802285   0.435   \n",
       "8    0.019804  0.895075  0.710553  0.709829          0.802452   0.440   \n",
       "9    0.019826  0.894507  0.711210  0.710497          0.802502   0.445   \n",
       "10   0.019840  0.892355  0.712557  0.711877          0.802116   0.450   \n",
       "11   0.019933  0.890027  0.715024  0.714386          0.802207   0.455   \n",
       "12   0.605785  0.421703  0.991407  0.998080          0.709891   0.460   \n",
       "13   0.867671  0.412140  0.992704  0.999492          0.705816   0.465   \n",
       "14   0.953151  0.408427  0.993003  0.999832          0.704129   0.470   \n",
       "15   0.976712  0.406899  0.993070  0.999919          0.703409   0.475   \n",
       "16   0.985479  0.406396  0.993095  0.999950          0.703173   0.480   \n",
       "17   0.990959  0.405795  0.993109  0.999970          0.702883   0.485   \n",
       "18   0.996712  0.405660  0.993126  0.999990          0.702825   0.490   \n",
       "19   0.998082  0.405382  0.993126  0.999994          0.702688   0.495   \n",
       "20   0.998630  0.405290  0.993126  0.999996          0.702643   0.500   \n",
       "\n",
       "          F1  \n",
       "0   0.038738  \n",
       "1   0.038734  \n",
       "2   0.038733  \n",
       "3   0.038709  \n",
       "4   0.038705  \n",
       "5   0.038704  \n",
       "6   0.038686  \n",
       "7   0.038711  \n",
       "8   0.038751  \n",
       "9   0.038792  \n",
       "10  0.038818  \n",
       "11  0.038994  \n",
       "12  0.497254  \n",
       "13  0.558836  \n",
       "14  0.571825  \n",
       "15  0.574472  \n",
       "16  0.575475  \n",
       "17  0.575802  \n",
       "18  0.576632  \n",
       "19  0.576579  \n",
       "20  0.576578  "
      ]
     },
     "execution_count": 15,
     "metadata": {},
     "output_type": "execute_result"
    }
   ],
   "source": [
    "df_nn=prMetricsByThresh(cpMethod.neural_network.name, torch.tensor(results.t_out.cp_logits).float(), \\\n",
    "                        test_dataset.data['cps'].unsqueeze(2).float(), 20, 0.4, 0.5)\n",
    "df_nn"
   ]
  },
  {
   "cell_type": "code",
   "execution_count": 16,
   "metadata": {
    "collapsed": true
   },
   "outputs": [],
   "source": [
    "fpr, tpr, thresholds = metrics.roc_curve(test_dataset.data['cps'].detach().cpu().numpy().flatten(),\n",
    "                                    torch.sigmoid(torch.tensor(results.t_out.cp_logits.flatten()).float()))\n",
    "precision, recall, thresholds = precision_recall_curve(test_dataset.data['cps'].detach().cpu().numpy().flatten(),\n",
    "                                    torch.sigmoid(torch.tensor(results.t_out.cp_logits.flatten()).float()))"
   ]
  },
  {
   "cell_type": "code",
   "execution_count": 17,
   "metadata": {},
   "outputs": [
    {
     "data": {
      "image/png": "[encoded data removed]",
      "text/plain": [
       "<Figure size 432x288 with 1 Axes>"
      ]
     },
     "metadata": {},
     "output_type": "display_data"
    }
   ],
   "source": [
    "plt.plot(fpr, tpr)\n",
    "plt.xlabel('false_positives')\n",
    "plt.ylabel('true_positives')\n",
    "plt.show()"
   ]
  },
  {
   "cell_type": "code",
   "execution_count": 18,
   "metadata": {},
   "outputs": [
    {
     "data": {
      "image/png": "[encoded data removed]",
      "text/plain": [
       "<Figure size 432x288 with 1 Axes>"
      ]
     },
     "metadata": {},
     "output_type": "display_data"
    }
   ],
   "source": [
    "plt.plot(precision, recall)\n",
    "plt.xlabel('Precision')\n",
    "plt.ylabel('Recall')\n",
    "plt.show()"
   ]
  },
  {
   "cell_type": "code",
   "execution_count": 19,
   "metadata": {},
   "outputs": [
    {
     "data": {
      "text/plain": [
       "0.29659419379163"
      ]
     },
     "execution_count": 19,
     "metadata": {},
     "output_type": "execute_result"
    }
   ],
   "source": [
    "recall_score(test_dataset.data['cps'].detach().cpu().numpy().flatten(),\n",
    "            torch.sigmoid(torch.tensor(results.t_out.cp_logits.flatten()).float())>0.455, zero_division=1)"
   ]
  },
  {
   "cell_type": "code",
   "execution_count": 20,
   "metadata": {},
   "outputs": [
    {
     "data": {
      "text/plain": [
       "0.006949536354025872"
      ]
     },
     "execution_count": 20,
     "metadata": {},
     "output_type": "execute_result"
    }
   ],
   "source": [
    "precision_score(test_dataset.data['cps'].detach().cpu().numpy().flatten(),\n",
    "            torch.sigmoid(torch.tensor(results.t_out.cp_logits.flatten()).float())>0.455, zero_division=0)"
   ]
  },
  {
   "cell_type": "code",
   "execution_count": 21,
   "metadata": {},
   "outputs": [
    {
     "data": {
      "text/plain": [
       "0.49938124"
      ]
     },
     "execution_count": 21,
     "metadata": {},
     "output_type": "execute_result"
    }
   ],
   "source": [
    "thresholds[-15]"
   ]
  },
  {
   "cell_type": "code",
   "execution_count": 22,
   "metadata": {},
   "outputs": [
    {
     "data": {
      "image/png": "[encoded data removed]",
      "text/plain": [
       "<Figure size 432x288 with 1 Axes>"
      ]
     },
     "metadata": {},
     "output_type": "display_data"
    }
   ],
   "source": [
    "plt.plot(df_nn['Precision'], df_nn['Recall'])\n",
    "plt.xlabel('Precision')\n",
    "plt.ylabel('Recall')\n",
    "plt.show()"
   ]
  },
  {
   "cell_type": "code",
   "execution_count": 23,
   "metadata": {},
   "outputs": [
    {
     "name": "stdout",
     "output_type": "stream",
     "text": [
      "Finished 'prMetricsByThresh' in 7.3549 secs\n"
     ]
    },
    {
     "data": {
      "text/html": [
       "<div>\n",
       "<style scoped>\n",
       "    .dataframe tbody tr th:only-of-type {\n",
       "        vertical-align: middle;\n",
       "    }\n",
       "\n",
       "    .dataframe tbody tr th {\n",
       "        vertical-align: top;\n",
       "    }\n",
       "\n",
       "    .dataframe thead th {\n",
       "        text-align: right;\n",
       "    }\n",
       "</style>\n",
       "<table border=\"1\" class=\"dataframe\">\n",
       "  <thead>\n",
       "    <tr style=\"text-align: right;\">\n",
       "      <th></th>\n",
       "      <th>Precision</th>\n",
       "      <th>Recall</th>\n",
       "      <th>Accuracy</th>\n",
       "      <th>A_major</th>\n",
       "      <th>BalancedAccuracy</th>\n",
       "      <th>thresh</th>\n",
       "      <th>F1</th>\n",
       "    </tr>\n",
       "  </thead>\n",
       "  <tbody>\n",
       "    <tr>\n",
       "      <th>0</th>\n",
       "      <td>0.007360</td>\n",
       "      <td>1.000000</td>\n",
       "      <td>0.036458</td>\n",
       "      <td>0.030035</td>\n",
       "      <td>0.515017</td>\n",
       "      <td>0.00</td>\n",
       "      <td>0.014612</td>\n",
       "    </tr>\n",
       "    <tr>\n",
       "      <th>1</th>\n",
       "      <td>0.401342</td>\n",
       "      <td>0.819978</td>\n",
       "      <td>0.981255</td>\n",
       "      <td>0.983203</td>\n",
       "      <td>0.901591</td>\n",
       "      <td>0.05</td>\n",
       "      <td>0.538912</td>\n",
       "    </tr>\n",
       "    <tr>\n",
       "      <th>2</th>\n",
       "      <td>0.722469</td>\n",
       "      <td>0.747005</td>\n",
       "      <td>0.992415</td>\n",
       "      <td>0.995300</td>\n",
       "      <td>0.871153</td>\n",
       "      <td>0.10</td>\n",
       "      <td>0.734533</td>\n",
       "    </tr>\n",
       "    <tr>\n",
       "      <th>3</th>\n",
       "      <td>0.835708</td>\n",
       "      <td>0.698908</td>\n",
       "      <td>0.994481</td>\n",
       "      <td>0.997968</td>\n",
       "      <td>0.848438</td>\n",
       "      <td>0.15</td>\n",
       "      <td>0.761210</td>\n",
       "    </tr>\n",
       "    <tr>\n",
       "      <th>4</th>\n",
       "      <td>0.892308</td>\n",
       "      <td>0.662023</td>\n",
       "      <td>0.994971</td>\n",
       "      <td>0.998911</td>\n",
       "      <td>0.830467</td>\n",
       "      <td>0.20</td>\n",
       "      <td>0.760106</td>\n",
       "    </tr>\n",
       "    <tr>\n",
       "      <th>5</th>\n",
       "      <td>0.928999</td>\n",
       "      <td>0.629732</td>\n",
       "      <td>0.995072</td>\n",
       "      <td>0.999383</td>\n",
       "      <td>0.814557</td>\n",
       "      <td>0.25</td>\n",
       "      <td>0.750637</td>\n",
       "    </tr>\n",
       "    <tr>\n",
       "      <th>6</th>\n",
       "      <td>0.951078</td>\n",
       "      <td>0.599684</td>\n",
       "      <td>0.994976</td>\n",
       "      <td>0.999620</td>\n",
       "      <td>0.799652</td>\n",
       "      <td>0.30</td>\n",
       "      <td>0.735569</td>\n",
       "    </tr>\n",
       "    <tr>\n",
       "      <th>7</th>\n",
       "      <td>0.965252</td>\n",
       "      <td>0.579236</td>\n",
       "      <td>0.994889</td>\n",
       "      <td>0.999758</td>\n",
       "      <td>0.789497</td>\n",
       "      <td>0.35</td>\n",
       "      <td>0.724005</td>\n",
       "    </tr>\n",
       "    <tr>\n",
       "      <th>8</th>\n",
       "      <td>0.973411</td>\n",
       "      <td>0.556852</td>\n",
       "      <td>0.994721</td>\n",
       "      <td>0.999841</td>\n",
       "      <td>0.778347</td>\n",
       "      <td>0.40</td>\n",
       "      <td>0.708435</td>\n",
       "    </tr>\n",
       "    <tr>\n",
       "      <th>9</th>\n",
       "      <td>0.981822</td>\n",
       "      <td>0.538727</td>\n",
       "      <td>0.994568</td>\n",
       "      <td>0.999900</td>\n",
       "      <td>0.769313</td>\n",
       "      <td>0.45</td>\n",
       "      <td>0.695714</td>\n",
       "    </tr>\n",
       "    <tr>\n",
       "      <th>10</th>\n",
       "      <td>0.985868</td>\n",
       "      <td>0.523849</td>\n",
       "      <td>0.994418</td>\n",
       "      <td>0.999927</td>\n",
       "      <td>0.761888</td>\n",
       "      <td>0.50</td>\n",
       "      <td>0.684163</td>\n",
       "    </tr>\n",
       "    <tr>\n",
       "      <th>11</th>\n",
       "      <td>0.988082</td>\n",
       "      <td>0.511318</td>\n",
       "      <td>0.994280</td>\n",
       "      <td>0.999943</td>\n",
       "      <td>0.755631</td>\n",
       "      <td>0.55</td>\n",
       "      <td>0.673902</td>\n",
       "    </tr>\n",
       "    <tr>\n",
       "      <th>12</th>\n",
       "      <td>0.991187</td>\n",
       "      <td>0.498603</td>\n",
       "      <td>0.994150</td>\n",
       "      <td>0.999964</td>\n",
       "      <td>0.749284</td>\n",
       "      <td>0.60</td>\n",
       "      <td>0.663461</td>\n",
       "    </tr>\n",
       "    <tr>\n",
       "      <th>13</th>\n",
       "      <td>0.993927</td>\n",
       "      <td>0.487648</td>\n",
       "      <td>0.994031</td>\n",
       "      <td>0.999975</td>\n",
       "      <td>0.743812</td>\n",
       "      <td>0.65</td>\n",
       "      <td>0.654286</td>\n",
       "    </tr>\n",
       "    <tr>\n",
       "      <th>14</th>\n",
       "      <td>0.994749</td>\n",
       "      <td>0.479406</td>\n",
       "      <td>0.993932</td>\n",
       "      <td>0.999980</td>\n",
       "      <td>0.739693</td>\n",
       "      <td>0.70</td>\n",
       "      <td>0.647000</td>\n",
       "    </tr>\n",
       "    <tr>\n",
       "      <th>15</th>\n",
       "      <td>0.996530</td>\n",
       "      <td>0.471619</td>\n",
       "      <td>0.993847</td>\n",
       "      <td>0.999987</td>\n",
       "      <td>0.735803</td>\n",
       "      <td>0.75</td>\n",
       "      <td>0.640238</td>\n",
       "    </tr>\n",
       "    <tr>\n",
       "      <th>16</th>\n",
       "      <td>0.997215</td>\n",
       "      <td>0.464687</td>\n",
       "      <td>0.993769</td>\n",
       "      <td>0.999989</td>\n",
       "      <td>0.732338</td>\n",
       "      <td>0.80</td>\n",
       "      <td>0.633959</td>\n",
       "    </tr>\n",
       "    <tr>\n",
       "      <th>17</th>\n",
       "      <td>0.997763</td>\n",
       "      <td>0.458153</td>\n",
       "      <td>0.993694</td>\n",
       "      <td>0.999991</td>\n",
       "      <td>0.729072</td>\n",
       "      <td>0.85</td>\n",
       "      <td>0.627959</td>\n",
       "    </tr>\n",
       "    <tr>\n",
       "      <th>18</th>\n",
       "      <td>0.998037</td>\n",
       "      <td>0.451813</td>\n",
       "      <td>0.993624</td>\n",
       "      <td>0.999992</td>\n",
       "      <td>0.725902</td>\n",
       "      <td>0.90</td>\n",
       "      <td>0.622031</td>\n",
       "    </tr>\n",
       "    <tr>\n",
       "      <th>19</th>\n",
       "      <td>0.998447</td>\n",
       "      <td>0.446180</td>\n",
       "      <td>0.993560</td>\n",
       "      <td>0.999994</td>\n",
       "      <td>0.723087</td>\n",
       "      <td>0.95</td>\n",
       "      <td>0.616750</td>\n",
       "    </tr>\n",
       "    <tr>\n",
       "      <th>20</th>\n",
       "      <td>0.998950</td>\n",
       "      <td>0.439375</td>\n",
       "      <td>0.993499</td>\n",
       "      <td>0.999996</td>\n",
       "      <td>0.719685</td>\n",
       "      <td>1.00</td>\n",
       "      <td>0.610312</td>\n",
       "    </tr>\n",
       "  </tbody>\n",
       "</table>\n",
       "</div>"
      ],
      "text/plain": [
       "    Precision    Recall  Accuracy   A_major  BalancedAccuracy  thresh  \\\n",
       "0    0.007360  1.000000  0.036458  0.030035          0.515017    0.00   \n",
       "1    0.401342  0.819978  0.981255  0.983203          0.901591    0.05   \n",
       "2    0.722469  0.747005  0.992415  0.995300          0.871153    0.10   \n",
       "3    0.835708  0.698908  0.994481  0.997968          0.848438    0.15   \n",
       "4    0.892308  0.662023  0.994971  0.998911          0.830467    0.20   \n",
       "5    0.928999  0.629732  0.995072  0.999383          0.814557    0.25   \n",
       "6    0.951078  0.599684  0.994976  0.999620          0.799652    0.30   \n",
       "7    0.965252  0.579236  0.994889  0.999758          0.789497    0.35   \n",
       "8    0.973411  0.556852  0.994721  0.999841          0.778347    0.40   \n",
       "9    0.981822  0.538727  0.994568  0.999900          0.769313    0.45   \n",
       "10   0.985868  0.523849  0.994418  0.999927          0.761888    0.50   \n",
       "11   0.988082  0.511318  0.994280  0.999943          0.755631    0.55   \n",
       "12   0.991187  0.498603  0.994150  0.999964          0.749284    0.60   \n",
       "13   0.993927  0.487648  0.994031  0.999975          0.743812    0.65   \n",
       "14   0.994749  0.479406  0.993932  0.999980          0.739693    0.70   \n",
       "15   0.996530  0.471619  0.993847  0.999987          0.735803    0.75   \n",
       "16   0.997215  0.464687  0.993769  0.999989          0.732338    0.80   \n",
       "17   0.997763  0.458153  0.993694  0.999991          0.729072    0.85   \n",
       "18   0.998037  0.451813  0.993624  0.999992          0.725902    0.90   \n",
       "19   0.998447  0.446180  0.993560  0.999994          0.723087    0.95   \n",
       "20   0.998950  0.439375  0.993499  0.999996          0.719685    1.00   \n",
       "\n",
       "          F1  \n",
       "0   0.014612  \n",
       "1   0.538912  \n",
       "2   0.734533  \n",
       "3   0.761210  \n",
       "4   0.760106  \n",
       "5   0.750637  \n",
       "6   0.735569  \n",
       "7   0.724005  \n",
       "8   0.708435  \n",
       "9   0.695714  \n",
       "10  0.684163  \n",
       "11  0.673902  \n",
       "12  0.663461  \n",
       "13  0.654286  \n",
       "14  0.647000  \n",
       "15  0.640238  \n",
       "16  0.633959  \n",
       "17  0.627959  \n",
       "18  0.622031  \n",
       "19  0.616750  \n",
       "20  0.610312  "
      ]
     },
     "execution_count": 23,
     "metadata": {},
     "output_type": "execute_result"
    }
   ],
   "source": [
    "df_grad=prMetricsByThresh(cpMethod.gradient.name, torch.tensor(results.t_out.coord_main).float(), \\\n",
    "                        test_dataset.data['cps'].unsqueeze(2).float(), 20, 0,1)\n",
    "df_grad"
   ]
  },
  {
   "cell_type": "code",
   "execution_count": 24,
   "metadata": {},
   "outputs": [
    {
     "name": "stdout",
     "output_type": "stream",
     "text": [
      "Finished 'prMetricsByThresh' in 6.2755 secs\n"
     ]
    },
    {
     "data": {
      "text/html": [
       "<div>\n",
       "<style scoped>\n",
       "    .dataframe tbody tr th:only-of-type {\n",
       "        vertical-align: middle;\n",
       "    }\n",
       "\n",
       "    .dataframe tbody tr th {\n",
       "        vertical-align: top;\n",
       "    }\n",
       "\n",
       "    .dataframe thead th {\n",
       "        text-align: right;\n",
       "    }\n",
       "</style>\n",
       "<table border=\"1\" class=\"dataframe\">\n",
       "  <thead>\n",
       "    <tr style=\"text-align: right;\">\n",
       "      <th></th>\n",
       "      <th>Precision</th>\n",
       "      <th>Recall</th>\n",
       "      <th>Accuracy</th>\n",
       "      <th>A_major</th>\n",
       "      <th>BalancedAccuracy</th>\n",
       "      <th>thresh</th>\n",
       "      <th>F1</th>\n",
       "    </tr>\n",
       "  </thead>\n",
       "  <tbody>\n",
       "    <tr>\n",
       "      <th>0</th>\n",
       "      <td>0.007335</td>\n",
       "      <td>1.000000</td>\n",
       "      <td>0.033319</td>\n",
       "      <td>0.026874</td>\n",
       "      <td>0.513437</td>\n",
       "      <td>0.000</td>\n",
       "      <td>0.014563</td>\n",
       "    </tr>\n",
       "    <tr>\n",
       "      <th>1</th>\n",
       "      <td>0.611856</td>\n",
       "      <td>0.524180</td>\n",
       "      <td>0.975489</td>\n",
       "      <td>0.980716</td>\n",
       "      <td>0.752448</td>\n",
       "      <td>0.025</td>\n",
       "      <td>0.564635</td>\n",
       "    </tr>\n",
       "    <tr>\n",
       "      <th>2</th>\n",
       "      <td>0.822666</td>\n",
       "      <td>0.448210</td>\n",
       "      <td>0.988645</td>\n",
       "      <td>0.994936</td>\n",
       "      <td>0.721573</td>\n",
       "      <td>0.050</td>\n",
       "      <td>0.580272</td>\n",
       "    </tr>\n",
       "    <tr>\n",
       "      <th>3</th>\n",
       "      <td>0.912341</td>\n",
       "      <td>0.430061</td>\n",
       "      <td>0.991087</td>\n",
       "      <td>0.997628</td>\n",
       "      <td>0.713845</td>\n",
       "      <td>0.075</td>\n",
       "      <td>0.584568</td>\n",
       "    </tr>\n",
       "    <tr>\n",
       "      <th>4</th>\n",
       "      <td>0.939745</td>\n",
       "      <td>0.422397</td>\n",
       "      <td>0.991849</td>\n",
       "      <td>0.998490</td>\n",
       "      <td>0.710444</td>\n",
       "      <td>0.100</td>\n",
       "      <td>0.582825</td>\n",
       "    </tr>\n",
       "    <tr>\n",
       "      <th>5</th>\n",
       "      <td>0.952345</td>\n",
       "      <td>0.416802</td>\n",
       "      <td>0.992211</td>\n",
       "      <td>0.998916</td>\n",
       "      <td>0.707859</td>\n",
       "      <td>0.125</td>\n",
       "      <td>0.579834</td>\n",
       "    </tr>\n",
       "    <tr>\n",
       "      <th>6</th>\n",
       "      <td>0.961141</td>\n",
       "      <td>0.414391</td>\n",
       "      <td>0.992472</td>\n",
       "      <td>0.999210</td>\n",
       "      <td>0.706800</td>\n",
       "      <td>0.150</td>\n",
       "      <td>0.579104</td>\n",
       "    </tr>\n",
       "    <tr>\n",
       "      <th>7</th>\n",
       "      <td>0.967481</td>\n",
       "      <td>0.413185</td>\n",
       "      <td>0.992702</td>\n",
       "      <td>0.999461</td>\n",
       "      <td>0.706323</td>\n",
       "      <td>0.175</td>\n",
       "      <td>0.579067</td>\n",
       "    </tr>\n",
       "    <tr>\n",
       "      <th>8</th>\n",
       "      <td>0.976307</td>\n",
       "      <td>0.410899</td>\n",
       "      <td>0.992858</td>\n",
       "      <td>0.999644</td>\n",
       "      <td>0.705272</td>\n",
       "      <td>0.200</td>\n",
       "      <td>0.578377</td>\n",
       "    </tr>\n",
       "    <tr>\n",
       "      <th>9</th>\n",
       "      <td>0.980999</td>\n",
       "      <td>0.410368</td>\n",
       "      <td>0.992941</td>\n",
       "      <td>0.999737</td>\n",
       "      <td>0.705052</td>\n",
       "      <td>0.225</td>\n",
       "      <td>0.578669</td>\n",
       "    </tr>\n",
       "    <tr>\n",
       "      <th>10</th>\n",
       "      <td>0.983279</td>\n",
       "      <td>0.409506</td>\n",
       "      <td>0.992983</td>\n",
       "      <td>0.999794</td>\n",
       "      <td>0.704650</td>\n",
       "      <td>0.250</td>\n",
       "      <td>0.578206</td>\n",
       "    </tr>\n",
       "    <tr>\n",
       "      <th>11</th>\n",
       "      <td>0.987023</td>\n",
       "      <td>0.408660</td>\n",
       "      <td>0.993025</td>\n",
       "      <td>0.999846</td>\n",
       "      <td>0.704253</td>\n",
       "      <td>0.275</td>\n",
       "      <td>0.578007</td>\n",
       "    </tr>\n",
       "    <tr>\n",
       "      <th>12</th>\n",
       "      <td>0.988658</td>\n",
       "      <td>0.407879</td>\n",
       "      <td>0.993053</td>\n",
       "      <td>0.999882</td>\n",
       "      <td>0.703880</td>\n",
       "      <td>0.300</td>\n",
       "      <td>0.577504</td>\n",
       "    </tr>\n",
       "    <tr>\n",
       "      <th>13</th>\n",
       "      <td>0.990507</td>\n",
       "      <td>0.407245</td>\n",
       "      <td>0.993079</td>\n",
       "      <td>0.999917</td>\n",
       "      <td>0.703581</td>\n",
       "      <td>0.325</td>\n",
       "      <td>0.577183</td>\n",
       "    </tr>\n",
       "    <tr>\n",
       "      <th>14</th>\n",
       "      <td>0.992073</td>\n",
       "      <td>0.406571</td>\n",
       "      <td>0.993090</td>\n",
       "      <td>0.999934</td>\n",
       "      <td>0.703253</td>\n",
       "      <td>0.350</td>\n",
       "      <td>0.576770</td>\n",
       "    </tr>\n",
       "    <tr>\n",
       "      <th>15</th>\n",
       "      <td>0.993799</td>\n",
       "      <td>0.406043</td>\n",
       "      <td>0.993102</td>\n",
       "      <td>0.999953</td>\n",
       "      <td>0.702998</td>\n",
       "      <td>0.375</td>\n",
       "      <td>0.576530</td>\n",
       "    </tr>\n",
       "    <tr>\n",
       "      <th>16</th>\n",
       "      <td>0.993950</td>\n",
       "      <td>0.405639</td>\n",
       "      <td>0.993107</td>\n",
       "      <td>0.999963</td>\n",
       "      <td>0.702801</td>\n",
       "      <td>0.400</td>\n",
       "      <td>0.576148</td>\n",
       "    </tr>\n",
       "    <tr>\n",
       "      <th>17</th>\n",
       "      <td>0.994269</td>\n",
       "      <td>0.405418</td>\n",
       "      <td>0.993110</td>\n",
       "      <td>0.999970</td>\n",
       "      <td>0.702694</td>\n",
       "      <td>0.425</td>\n",
       "      <td>0.575978</td>\n",
       "    </tr>\n",
       "    <tr>\n",
       "      <th>18</th>\n",
       "      <td>0.995639</td>\n",
       "      <td>0.405155</td>\n",
       "      <td>0.993114</td>\n",
       "      <td>0.999978</td>\n",
       "      <td>0.702567</td>\n",
       "      <td>0.450</td>\n",
       "      <td>0.575943</td>\n",
       "    </tr>\n",
       "    <tr>\n",
       "      <th>19</th>\n",
       "      <td>0.997169</td>\n",
       "      <td>0.405130</td>\n",
       "      <td>0.993120</td>\n",
       "      <td>0.999985</td>\n",
       "      <td>0.702558</td>\n",
       "      <td>0.475</td>\n",
       "      <td>0.576173</td>\n",
       "    </tr>\n",
       "    <tr>\n",
       "      <th>20</th>\n",
       "      <td>0.998539</td>\n",
       "      <td>0.404930</td>\n",
       "      <td>0.993126</td>\n",
       "      <td>0.999993</td>\n",
       "      <td>0.702461</td>\n",
       "      <td>0.500</td>\n",
       "      <td>0.576198</td>\n",
       "    </tr>\n",
       "  </tbody>\n",
       "</table>\n",
       "</div>"
      ],
      "text/plain": [
       "    Precision    Recall  Accuracy   A_major  BalancedAccuracy  thresh  \\\n",
       "0    0.007335  1.000000  0.033319  0.026874          0.513437   0.000   \n",
       "1    0.611856  0.524180  0.975489  0.980716          0.752448   0.025   \n",
       "2    0.822666  0.448210  0.988645  0.994936          0.721573   0.050   \n",
       "3    0.912341  0.430061  0.991087  0.997628          0.713845   0.075   \n",
       "4    0.939745  0.422397  0.991849  0.998490          0.710444   0.100   \n",
       "5    0.952345  0.416802  0.992211  0.998916          0.707859   0.125   \n",
       "6    0.961141  0.414391  0.992472  0.999210          0.706800   0.150   \n",
       "7    0.967481  0.413185  0.992702  0.999461          0.706323   0.175   \n",
       "8    0.976307  0.410899  0.992858  0.999644          0.705272   0.200   \n",
       "9    0.980999  0.410368  0.992941  0.999737          0.705052   0.225   \n",
       "10   0.983279  0.409506  0.992983  0.999794          0.704650   0.250   \n",
       "11   0.987023  0.408660  0.993025  0.999846          0.704253   0.275   \n",
       "12   0.988658  0.407879  0.993053  0.999882          0.703880   0.300   \n",
       "13   0.990507  0.407245  0.993079  0.999917          0.703581   0.325   \n",
       "14   0.992073  0.406571  0.993090  0.999934          0.703253   0.350   \n",
       "15   0.993799  0.406043  0.993102  0.999953          0.702998   0.375   \n",
       "16   0.993950  0.405639  0.993107  0.999963          0.702801   0.400   \n",
       "17   0.994269  0.405418  0.993110  0.999970          0.702694   0.425   \n",
       "18   0.995639  0.405155  0.993114  0.999978          0.702567   0.450   \n",
       "19   0.997169  0.405130  0.993120  0.999985          0.702558   0.475   \n",
       "20   0.998539  0.404930  0.993126  0.999993          0.702461   0.500   \n",
       "\n",
       "          F1  \n",
       "0   0.014563  \n",
       "1   0.564635  \n",
       "2   0.580272  \n",
       "3   0.584568  \n",
       "4   0.582825  \n",
       "5   0.579834  \n",
       "6   0.579104  \n",
       "7   0.579067  \n",
       "8   0.578377  \n",
       "9   0.578669  \n",
       "10  0.578206  \n",
       "11  0.578007  \n",
       "12  0.577504  \n",
       "13  0.577183  \n",
       "14  0.576770  \n",
       "15  0.576530  \n",
       "16  0.576148  \n",
       "17  0.575978  \n",
       "18  0.575943  \n",
       "19  0.576173  \n",
       "20  0.576198  "
      ]
     },
     "execution_count": 24,
     "metadata": {},
     "output_type": "execute_result"
    }
   ],
   "source": [
    "df_var=prMetricsByThresh(cpMethod.mc_dropout.name, torch.tensor(results.t_out.y_var).float(), \\\n",
    "                        test_dataset.data['cps'].unsqueeze(2).float(), 20, 0,0.5)\n",
    "df_var"
   ]
  },
  {
   "cell_type": "code",
   "execution_count": null,
   "metadata": {
    "collapsed": true
   },
   "outputs": [],
   "source": []
  },
  {
   "cell_type": "code",
   "execution_count": 25,
   "metadata": {
    "collapsed": true
   },
   "outputs": [],
   "source": [
    "#chm22 genetic map and vcf (vcf is used to get the snp position)\n",
    "config['data.genetic_map'] = osp.join(os.environ.get('IN_PATH'), 'humans/reference_files/allchrs.b38.gmap')\n",
    "config['data.vcf_dir'] = osp.join(os.environ.get('IN_PATH'), 'humans/master_vcf_files/ref_final_beagle_phased_1kg_hgdp_sgdp_chr22.vcf.gz')"
   ]
  },
  {
   "cell_type": "code",
   "execution_count": 26,
   "metadata": {},
   "outputs": [
    {
     "name": "stdout",
     "output_type": "stream",
     "text": [
      "Finished 'get_recomb_rate' in 71.3477 secs\n",
      "Finished 'interpolate_genetic_pos' in 0.0038 secs\n",
      "Finished 'form_windows' in 0.0177 secs\n"
     ]
    }
   ],
   "source": [
    "#get recomb_rate\n",
    "genetic_map_path = config['data.genetic_map']\n",
    "vcf_file_path = config['data.vcf_dir']\n",
    "df_gm_chm22, df_vcf, df_snp_pos = get_recomb_rate(genetic_map_path, vcf_file_path, chm='chr22')\n",
    "df_snp_pos = interpolate_genetic_pos(df_snp_pos, df_gm_chm22)\n",
    "recomb_w = form_windows(df_snp_pos, params.chmlen, params.win_size)\n",
    "recomb_rate = np.diff(recomb_w)"
   ]
  },
  {
   "cell_type": "code",
   "execution_count": 27,
   "metadata": {},
   "outputs": [
    {
     "name": "stdout",
     "output_type": "stream",
     "text": [
      "torch.Size([3650, 317, 3]) torch.Size([3650, 1, 3, 3]) torch.Size([3650, 1, 3]) torch.Size([3650, 1, 3, 3])\n",
      "Finished 'run_recursive' in 210.2481 secs\n"
     ]
    }
   ],
   "source": [
    "y_pred = results.t_out.coord_main\n",
    "n_vec_dim=y_pred.shape[-1]\n",
    "data_tensor = torch.tensor(y_pred).float()\n",
    "pred_cps, predictive_ls, e_mean_ls = [], [] ,[]\n",
    "\n",
    "batch_size_cpd = data_tensor.shape[0]\n",
    "# mu_prior = torch.mean(data_tensor, dim =1).float().reshape(batch_size_cpd, 1,n_vec_dim)\n",
    "mu_prior = torch.zeros((batch_size_cpd, 1,n_vec_dim))\n",
    "cov_prior = (torch.var(data_tensor, dim =1).float().unsqueeze(1) * \\\n",
    "             torch.eye(n_vec_dim)).reshape(batch_size_cpd,1,n_vec_dim,n_vec_dim)\n",
    "cov_x = 0.01*torch.eye(n_vec_dim).unsqueeze(0).repeat([batch_size_cpd,1,1]).reshape(batch_size_cpd,1,n_vec_dim,n_vec_dim)\n",
    "print(data_tensor.shape, cov_prior.shape, mu_prior.shape, cov_x.shape)\n",
    "likelihood_model = Multivariate_Gaussian(mu_prior, cov_prior, cov_x)\n",
    "T = params.n_win\n",
    "model_cpd = BOCD.BOCD(recomb_rate, T, likelihood_model, batch_size_cpd)\n",
    "\n",
    "posterior, _, predictive, e_mean = model_cpd.run_recursive(data_tensor, 'cpu')\n",
    "pred_cps.append(model_cpd.cp)\n",
    "predictive_ls.append(predictive)\n",
    "e_mean_ls.append(e_mean)"
   ]
  },
  {
   "cell_type": "code",
   "execution_count": 28,
   "metadata": {
    "collapsed": true
   },
   "outputs": [],
   "source": [
    "bocp_rl = model_cpd.cp.detach().numpy()\n",
    "bocp_rl_diff = bocp_rl[:,1:]-bocp_rl[:,:-1]\n",
    "bocd_cp = np.zeros((batch_size_cpd, T))\n",
    "bocd_cp_idx = np.nonzero((bocp_rl_diff<-4))\n",
    "for i,j in zip(bocd_cp_idx[0], bocd_cp_idx[1]):\n",
    "    if bocp_rl[i,j+1]<4:\n",
    "        bocd_cp[i,j]=1"
   ]
  },
  {
   "cell_type": "code",
   "execution_count": 29,
   "metadata": {},
   "outputs": [
    {
     "name": "stdout",
     "output_type": "stream",
     "text": [
      "Finished 'prMetricsByThresh' in 24.0461 secs\n"
     ]
    },
    {
     "data": {
      "text/html": [
       "<div>\n",
       "<style scoped>\n",
       "    .dataframe tbody tr th:only-of-type {\n",
       "        vertical-align: middle;\n",
       "    }\n",
       "\n",
       "    .dataframe tbody tr th {\n",
       "        vertical-align: top;\n",
       "    }\n",
       "\n",
       "    .dataframe thead th {\n",
       "        text-align: right;\n",
       "    }\n",
       "</style>\n",
       "<table border=\"1\" class=\"dataframe\">\n",
       "  <thead>\n",
       "    <tr style=\"text-align: right;\">\n",
       "      <th></th>\n",
       "      <th>Precision</th>\n",
       "      <th>Recall</th>\n",
       "      <th>Accuracy</th>\n",
       "      <th>A_major</th>\n",
       "      <th>BalancedAccuracy</th>\n",
       "      <th>thresh</th>\n",
       "      <th>F1</th>\n",
       "    </tr>\n",
       "  </thead>\n",
       "  <tbody>\n",
       "    <tr>\n",
       "      <th>0</th>\n",
       "      <td>1.000000</td>\n",
       "      <td>0.404384</td>\n",
       "      <td>0.993123</td>\n",
       "      <td>1.000000</td>\n",
       "      <td>0.702192</td>\n",
       "      <td>0.0</td>\n",
       "      <td>0.575888</td>\n",
       "    </tr>\n",
       "    <tr>\n",
       "      <th>1</th>\n",
       "      <td>1.000000</td>\n",
       "      <td>0.404384</td>\n",
       "      <td>0.993123</td>\n",
       "      <td>1.000000</td>\n",
       "      <td>0.702192</td>\n",
       "      <td>0.5</td>\n",
       "      <td>0.575888</td>\n",
       "    </tr>\n",
       "    <tr>\n",
       "      <th>2</th>\n",
       "      <td>0.796577</td>\n",
       "      <td>0.644719</td>\n",
       "      <td>0.994583</td>\n",
       "      <td>0.998723</td>\n",
       "      <td>0.821721</td>\n",
       "      <td>1.0</td>\n",
       "      <td>0.712648</td>\n",
       "    </tr>\n",
       "    <tr>\n",
       "      <th>3</th>\n",
       "      <td>0.796577</td>\n",
       "      <td>0.644719</td>\n",
       "      <td>0.994583</td>\n",
       "      <td>0.998723</td>\n",
       "      <td>0.821721</td>\n",
       "      <td>1.5</td>\n",
       "      <td>0.712648</td>\n",
       "    </tr>\n",
       "    <tr>\n",
       "      <th>4</th>\n",
       "      <td>0.646367</td>\n",
       "      <td>0.747832</td>\n",
       "      <td>0.993458</td>\n",
       "      <td>0.996350</td>\n",
       "      <td>0.872091</td>\n",
       "      <td>2.0</td>\n",
       "      <td>0.693407</td>\n",
       "    </tr>\n",
       "    <tr>\n",
       "      <th>5</th>\n",
       "      <td>0.646367</td>\n",
       "      <td>0.747832</td>\n",
       "      <td>0.993458</td>\n",
       "      <td>0.996350</td>\n",
       "      <td>0.872091</td>\n",
       "      <td>2.5</td>\n",
       "      <td>0.693407</td>\n",
       "    </tr>\n",
       "    <tr>\n",
       "      <th>6</th>\n",
       "      <td>0.571747</td>\n",
       "      <td>0.785241</td>\n",
       "      <td>0.991696</td>\n",
       "      <td>0.994108</td>\n",
       "      <td>0.889674</td>\n",
       "      <td>3.0</td>\n",
       "      <td>0.661699</td>\n",
       "    </tr>\n",
       "    <tr>\n",
       "      <th>7</th>\n",
       "      <td>0.571747</td>\n",
       "      <td>0.785241</td>\n",
       "      <td>0.991696</td>\n",
       "      <td>0.994108</td>\n",
       "      <td>0.889674</td>\n",
       "      <td>3.5</td>\n",
       "      <td>0.661699</td>\n",
       "    </tr>\n",
       "    <tr>\n",
       "      <th>8</th>\n",
       "      <td>0.524997</td>\n",
       "      <td>0.802608</td>\n",
       "      <td>0.990045</td>\n",
       "      <td>0.992223</td>\n",
       "      <td>0.897415</td>\n",
       "      <td>4.0</td>\n",
       "      <td>0.634777</td>\n",
       "    </tr>\n",
       "    <tr>\n",
       "      <th>9</th>\n",
       "      <td>0.524997</td>\n",
       "      <td>0.802608</td>\n",
       "      <td>0.990045</td>\n",
       "      <td>0.992223</td>\n",
       "      <td>0.897415</td>\n",
       "      <td>4.5</td>\n",
       "      <td>0.634777</td>\n",
       "    </tr>\n",
       "    <tr>\n",
       "      <th>10</th>\n",
       "      <td>0.490047</td>\n",
       "      <td>0.810290</td>\n",
       "      <td>0.988622</td>\n",
       "      <td>0.990686</td>\n",
       "      <td>0.900488</td>\n",
       "      <td>5.0</td>\n",
       "      <td>0.610734</td>\n",
       "    </tr>\n",
       "    <tr>\n",
       "      <th>11</th>\n",
       "      <td>0.490047</td>\n",
       "      <td>0.810290</td>\n",
       "      <td>0.988622</td>\n",
       "      <td>0.990686</td>\n",
       "      <td>0.900488</td>\n",
       "      <td>5.5</td>\n",
       "      <td>0.610734</td>\n",
       "    </tr>\n",
       "    <tr>\n",
       "      <th>12</th>\n",
       "      <td>0.464593</td>\n",
       "      <td>0.815058</td>\n",
       "      <td>0.987473</td>\n",
       "      <td>0.989470</td>\n",
       "      <td>0.902264</td>\n",
       "      <td>6.0</td>\n",
       "      <td>0.591833</td>\n",
       "    </tr>\n",
       "    <tr>\n",
       "      <th>13</th>\n",
       "      <td>0.464593</td>\n",
       "      <td>0.815058</td>\n",
       "      <td>0.987473</td>\n",
       "      <td>0.989470</td>\n",
       "      <td>0.902264</td>\n",
       "      <td>6.5</td>\n",
       "      <td>0.591833</td>\n",
       "    </tr>\n",
       "    <tr>\n",
       "      <th>14</th>\n",
       "      <td>0.445027</td>\n",
       "      <td>0.817391</td>\n",
       "      <td>0.986429</td>\n",
       "      <td>0.988381</td>\n",
       "      <td>0.902886</td>\n",
       "      <td>7.0</td>\n",
       "      <td>0.576293</td>\n",
       "    </tr>\n",
       "    <tr>\n",
       "      <th>15</th>\n",
       "      <td>0.445027</td>\n",
       "      <td>0.817391</td>\n",
       "      <td>0.986429</td>\n",
       "      <td>0.988381</td>\n",
       "      <td>0.902886</td>\n",
       "      <td>7.5</td>\n",
       "      <td>0.576293</td>\n",
       "    </tr>\n",
       "    <tr>\n",
       "      <th>16</th>\n",
       "      <td>0.427739</td>\n",
       "      <td>0.819220</td>\n",
       "      <td>0.985502</td>\n",
       "      <td>0.987419</td>\n",
       "      <td>0.903319</td>\n",
       "      <td>8.0</td>\n",
       "      <td>0.562027</td>\n",
       "    </tr>\n",
       "    <tr>\n",
       "      <th>17</th>\n",
       "      <td>0.427739</td>\n",
       "      <td>0.819220</td>\n",
       "      <td>0.985502</td>\n",
       "      <td>0.987419</td>\n",
       "      <td>0.903319</td>\n",
       "      <td>8.5</td>\n",
       "      <td>0.562027</td>\n",
       "    </tr>\n",
       "    <tr>\n",
       "      <th>18</th>\n",
       "      <td>0.415100</td>\n",
       "      <td>0.820665</td>\n",
       "      <td>0.984655</td>\n",
       "      <td>0.986540</td>\n",
       "      <td>0.903603</td>\n",
       "      <td>9.0</td>\n",
       "      <td>0.551332</td>\n",
       "    </tr>\n",
       "    <tr>\n",
       "      <th>19</th>\n",
       "      <td>0.415100</td>\n",
       "      <td>0.820665</td>\n",
       "      <td>0.984655</td>\n",
       "      <td>0.986540</td>\n",
       "      <td>0.903603</td>\n",
       "      <td>9.5</td>\n",
       "      <td>0.551332</td>\n",
       "    </tr>\n",
       "    <tr>\n",
       "      <th>20</th>\n",
       "      <td>0.404592</td>\n",
       "      <td>0.821570</td>\n",
       "      <td>0.983964</td>\n",
       "      <td>0.985830</td>\n",
       "      <td>0.903700</td>\n",
       "      <td>10.0</td>\n",
       "      <td>0.542181</td>\n",
       "    </tr>\n",
       "  </tbody>\n",
       "</table>\n",
       "</div>"
      ],
      "text/plain": [
       "    Precision    Recall  Accuracy   A_major  BalancedAccuracy  thresh  \\\n",
       "0    1.000000  0.404384  0.993123  1.000000          0.702192     0.0   \n",
       "1    1.000000  0.404384  0.993123  1.000000          0.702192     0.5   \n",
       "2    0.796577  0.644719  0.994583  0.998723          0.821721     1.0   \n",
       "3    0.796577  0.644719  0.994583  0.998723          0.821721     1.5   \n",
       "4    0.646367  0.747832  0.993458  0.996350          0.872091     2.0   \n",
       "5    0.646367  0.747832  0.993458  0.996350          0.872091     2.5   \n",
       "6    0.571747  0.785241  0.991696  0.994108          0.889674     3.0   \n",
       "7    0.571747  0.785241  0.991696  0.994108          0.889674     3.5   \n",
       "8    0.524997  0.802608  0.990045  0.992223          0.897415     4.0   \n",
       "9    0.524997  0.802608  0.990045  0.992223          0.897415     4.5   \n",
       "10   0.490047  0.810290  0.988622  0.990686          0.900488     5.0   \n",
       "11   0.490047  0.810290  0.988622  0.990686          0.900488     5.5   \n",
       "12   0.464593  0.815058  0.987473  0.989470          0.902264     6.0   \n",
       "13   0.464593  0.815058  0.987473  0.989470          0.902264     6.5   \n",
       "14   0.445027  0.817391  0.986429  0.988381          0.902886     7.0   \n",
       "15   0.445027  0.817391  0.986429  0.988381          0.902886     7.5   \n",
       "16   0.427739  0.819220  0.985502  0.987419          0.903319     8.0   \n",
       "17   0.427739  0.819220  0.985502  0.987419          0.903319     8.5   \n",
       "18   0.415100  0.820665  0.984655  0.986540          0.903603     9.0   \n",
       "19   0.415100  0.820665  0.984655  0.986540          0.903603     9.5   \n",
       "20   0.404592  0.821570  0.983964  0.985830          0.903700    10.0   \n",
       "\n",
       "          F1  \n",
       "0   0.575888  \n",
       "1   0.575888  \n",
       "2   0.712648  \n",
       "3   0.712648  \n",
       "4   0.693407  \n",
       "5   0.693407  \n",
       "6   0.661699  \n",
       "7   0.661699  \n",
       "8   0.634777  \n",
       "9   0.634777  \n",
       "10  0.610734  \n",
       "11  0.610734  \n",
       "12  0.591833  \n",
       "13  0.591833  \n",
       "14  0.576293  \n",
       "15  0.576293  \n",
       "16  0.562027  \n",
       "17  0.562027  \n",
       "18  0.551332  \n",
       "19  0.551332  \n",
       "20  0.542181  "
      ]
     },
     "execution_count": 29,
     "metadata": {},
     "output_type": "execute_result"
    }
   ],
   "source": [
    "df_bocd=prMetricsByThresh(cpMethod.BOCD.name, model_cpd.cp, \\\n",
    "                        test_dataset.data['cps'].unsqueeze(2).float(), 20,0,10)\n",
    "df_bocd"
   ]
  },
  {
   "cell_type": "code",
   "execution_count": 30,
   "metadata": {},
   "outputs": [
    {
     "data": {
      "text/plain": [
       "(3650, 317)"
      ]
     },
     "execution_count": 30,
     "metadata": {},
     "output_type": "execute_result"
    }
   ],
   "source": [
    "bocp_rl_diff.shape"
   ]
  },
  {
   "cell_type": "code",
   "execution_count": 31,
   "metadata": {},
   "outputs": [
    {
     "data": {
      "text/plain": [
       "((2174,), (2607,))"
      ]
     },
     "execution_count": 31,
     "metadata": {},
     "output_type": "execute_result"
    }
   ],
   "source": [
    "np.unique(np.nonzero(test_dataset.data['cps'])[:,0]).shape, np.unique(np.nonzero(bocd_cp)[0]).shape"
   ]
  },
  {
   "cell_type": "code",
   "execution_count": 32,
   "metadata": {},
   "outputs": [
    {
     "data": {
      "text/plain": [
       "(tensor([[199]]), (array([199, 316]),))"
      ]
     },
     "execution_count": 32,
     "metadata": {},
     "output_type": "execute_result"
    }
   ],
   "source": [
    "np.nonzero(test_dataset.data['cps'][1253,:]), np.nonzero(bocd_cp[1253,:])"
   ]
  },
  {
   "cell_type": "code",
   "execution_count": 33,
   "metadata": {},
   "outputs": [
    {
     "data": {
      "text/plain": [
       "(1, 1, 0, 315, array([[  0., 117.]]))"
      ]
     },
     "execution_count": 33,
     "metadata": {},
     "output_type": "execute_result"
    }
   ],
   "source": [
    "eval_cp_matrix(np.nonzero(test_dataset.data['cps'][1253,:].detach().cpu()), np.nonzero(bocd_cp[1253,:])[0], seq_len=317)"
   ]
  },
  {
   "cell_type": "markdown",
   "metadata": {
    "collapsed": true
   },
   "source": [
    "# Qualitative by looking at anecdotes/samples"
   ]
  },
  {
   "cell_type": "code",
   "execution_count": 34,
   "metadata": {},
   "outputs": [
    {
     "data": {
      "text/plain": [
       "['neural_network', 'gradient', 'mc_dropout', 'BOCD']"
      ]
     },
     "execution_count": 34,
     "metadata": {},
     "output_type": "execute_result"
    }
   ],
   "source": [
    "[cp.name for cp in cpMethod]"
   ]
  },
  {
   "cell_type": "code",
   "execution_count": 35,
   "metadata": {
    "collapsed": true
   },
   "outputs": [],
   "source": [
    "# index=2500\n",
    "index = 2900\n",
    "granular_pop_dict = load_path(osp.join(labels_path, 'granular_pop.pkl'), en_pickle=True)\n",
    "cp_target=test_dataset.data['cps']\n",
    "seqlen=cp_target.shape[1]\n",
    "cpThresh=[0.460, 0.1, 0.025, 4]\n",
    "cp_pred_raw=[torch.tensor(results.t_out.cp_logits).float(), torch.tensor(results.t_out.coord_main).float(), \n",
    "             torch.tensor(results.t_out.y_var).float(), model_cpd.cp]\n",
    "pred_cps = {}\n",
    "for name, thresh, pred_raw in zip([cp.name for cp in cpMethod], cpThresh, cp_pred_raw):\n",
    "    _, pred_cps[name]= reportChangePointMetrics(name, pred_raw, cp_target, thresh)\n",
    "\n",
    "true_cps=cp_target.detach().cpu().numpy()\n",
    "pred_cps={k:v.detach().cpu().numpy() for k,v in pred_cps.items()}"
   ]
  },
  {
   "cell_type": "code",
   "execution_count": 36,
   "metadata": {
    "collapsed": true
   },
   "outputs": [],
   "source": [
    "def plot_changepoints(true_cps, pred_cps, y_pred, bocp_rl, y_var, popNames):\n",
    "    fig, ax = plt.subplots(8,1,figsize=[18,30])\n",
    "    ax[0].plot(y_pred)\n",
    "    ax[0].text(0, np.max(y_pred)-0.5, s=popNames[0], size=15)\n",
    "    for i in np.nonzero(true_cps)[0]:\n",
    "        ax[0].plot([i,i], [np.min(y_pred), np.max(y_pred)], 'r' )\n",
    "        ax[0].text(i, np.max(y_pred)-0.5, s=popNames[i+1], size=15)\n",
    "    ax[1].plot(pred_cps[cpMethod.gradient.name])\n",
    "    ax[2].plot(y_var)\n",
    "    ax[3].plot(pred_cps[cpMethod.mc_dropout.name])\n",
    "    ax[4].plot(pred_cps[cpMethod.neural_network.name])\n",
    "    ax[5].plot(np.arange(T+1), bocp_rl)\n",
    "    ax[6].plot(pred_cps[cpMethod.BOCD.name])\n",
    "    ax[7].plot(true_cps)\n",
    "    \n",
    "    ax[0].set_title(\"n_vectors\")\n",
    "    ax[1].set_title(\"Simple gradient(post_process)\")\n",
    "    ax[2].set_title(\"Mc dropout variance\")\n",
    "    ax[3].set_title(\"Mc dropout\")\n",
    "    ax[4].set_title(\"Neural Network predicted cp\")\n",
    "    ax[5].set_title(\"BOCD (post process) run_length\")\n",
    "    ax[6].set_title(\"BOCD (post process) cp\")\n",
    "    ax[7].set_title(\"True Cps\")\n",
    "    plt.show()"
   ]
  },
  {
   "cell_type": "code",
   "execution_count": 37,
   "metadata": {
    "scrolled": false
   },
   "outputs": [
    {
     "data": {
      "image/png": "[encoded data removed]",
      "text/plain": [
       "<Figure size 1296x2160 with 8 Axes>"
      ]
     },
     "metadata": {},
     "output_type": "display_data"
    }
   ],
   "source": [
    "true_cpsSample=true_cps[index,:]\n",
    "pred_cpsSample={k:v[index,:] for k,v in pred_cps.items()}\n",
    "y_predSample=results.t_out.coord_main[index,:]\n",
    "y_varSample=results.t_out.y_var[index,:,:]\n",
    "bocp_rlSample=bocp_rl[index,:]\n",
    "granularpopSample=test_dataset.data['granular_pop'][index,:].detach().cpu().numpy()\n",
    "rev_pop_dict={v:k for k,v in granular_pop_dict.items()}\n",
    "namesSample=[rev_pop_dict[i] for i in granularpopSample.astype(int)]\n",
    "plot_changepoints(true_cpsSample, pred_cpsSample, y_predSample, bocp_rlSample, y_varSample, namesSample)"
   ]
  },
  {
   "cell_type": "code",
   "execution_count": 38,
   "metadata": {},
   "outputs": [
    {
     "data": {
      "text/plain": [
       "(array([   3,    7,    9, ..., 3646, 3648, 3649]),\n",
       " array([243,  48,  36, ...,  92,  10, 244]),\n",
       " array([0, 0, 0, ..., 0, 0, 0]))"
      ]
     },
     "execution_count": 38,
     "metadata": {},
     "output_type": "execute_result"
    }
   ],
   "source": [
    "np.nonzero(pred_cps[cpMethod.neural_network.name])"
   ]
  },
  {
   "cell_type": "code",
   "execution_count": 39,
   "metadata": {},
   "outputs": [
    {
     "data": {
      "text/plain": [
       "(3650, 317, 1)"
      ]
     },
     "execution_count": 39,
     "metadata": {},
     "output_type": "execute_result"
    }
   ],
   "source": [
    "results.t_out.cp_logits.shape"
   ]
  },
  {
   "cell_type": "code",
   "execution_count": 40,
   "metadata": {
    "collapsed": true
   },
   "outputs": [],
   "source": [
    "tmp_cpprob = torch.sigmoid(torch.tensor(results.t_out.cp_logits).float())"
   ]
  },
  {
   "cell_type": "code",
   "execution_count": 41,
   "metadata": {},
   "outputs": [
    {
     "data": {
      "text/plain": [
       "((array([ 15,  34,  57, 151, 200, 252, 288]),),\n",
       " (array([ 31,  32,  57, 151, 156, 275, 288, 291, 297, 313]),))"
      ]
     },
     "execution_count": 41,
     "metadata": {},
     "output_type": "execute_result"
    }
   ],
   "source": [
    "np.nonzero(true_cpsSample), np.nonzero(pred_cps[cpMethod.BOCD.name][index,:])"
   ]
  },
  {
   "cell_type": "code",
   "execution_count": 42,
   "metadata": {},
   "outputs": [
    {
     "data": {
      "text/plain": [
       "((array([ 31,  32,  57, 151, 156, 275, 288, 291, 297, 313]),),\n",
       " (array([ 15,  34,  57, 151, 200, 252, 288]),),\n",
       " (array([ 31,  32,  33,  56,  57,  58, 151, 152, 154, 155, 156, 288, 289,\n",
       "         290, 291, 297, 298]),))"
      ]
     },
     "execution_count": 42,
     "metadata": {},
     "output_type": "execute_result"
    }
   ],
   "source": [
    "np.nonzero(pred_cps[cpMethod.BOCD.name][index,:]), np.nonzero(true_cps[index,:]), np.nonzero(pred_cps[cpMethod.gradient.name][index,:])"
   ]
  },
  {
   "cell_type": "code",
   "execution_count": 43,
   "metadata": {
    "collapsed": true
   },
   "outputs": [],
   "source": [
    "bocp_rl_diff_1 = bocp_rl[:,1:] - bocp_rl[:,:-1]\n",
    "bocd_cp2 = np.zeros((batch_size_cpd, T))\n",
    "bocd_cp_idx1 = np.nonzero((bocp_rl_diff_1<0))\n",
    "for i,j in zip(bocd_cp_idx1[0], bocd_cp_idx1[1]):\n",
    "    if bocp_rl[i,j+1]<3:               \n",
    "        bocd_cp2[i,j]=1"
   ]
  },
  {
   "cell_type": "code",
   "execution_count": 44,
   "metadata": {},
   "outputs": [
    {
     "data": {
      "image/png": "[encoded data removed]",
      "text/plain": [
       "<Figure size 432x288 with 1 Axes>"
      ]
     },
     "metadata": {},
     "output_type": "display_data"
    }
   ],
   "source": [
    "plt.plot(torch.exp(posterior[index,:][:,210]))\n",
    "plt.show()"
   ]
  },
  {
   "cell_type": "code",
   "execution_count": 45,
   "metadata": {
    "scrolled": false
   },
   "outputs": [
    {
     "data": {
      "image/png": "[encoded data removed]",
      "text/plain": [
       "<Figure size 432x288 with 1 Axes>"
      ]
     },
     "metadata": {},
     "output_type": "display_data"
    }
   ],
   "source": [
    "plt.imshow(torch.exp(posterior[index,:]), aspect='auto', cmap='gray_r', \n",
    "               norm=LogNorm(vmin=0.0001, vmax=1))\n",
    "plt.show()"
   ]
  },
  {
   "cell_type": "code",
   "execution_count": 46,
   "metadata": {
    "collapsed": true
   },
   "outputs": [],
   "source": [
    "fpr, tpr, thresholds = metrics.roc_curve(test_dataset.data['cps'].detach().cpu().numpy().flatten(),\n",
    "                                    pred_cps['gradient'].flatten())"
   ]
  },
  {
   "cell_type": "code",
   "execution_count": 47,
   "metadata": {},
   "outputs": [
    {
     "data": {
      "image/png": "[encoded data removed]",
      "text/plain": [
       "<Figure size 432x288 with 1 Axes>"
      ]
     },
     "metadata": {},
     "output_type": "display_data"
    }
   ],
   "source": [
    "plt.plot(fpr, tpr)\n",
    "plt.xlabel('false_positives')\n",
    "plt.ylabel('true_positives')\n",
    "plt.show()"
   ]
  },
  {
   "cell_type": "code",
   "execution_count": 48,
   "metadata": {},
   "outputs": [
    {
     "ename": "ValueError",
     "evalue": "Found input variables with inconsistent numbers of samples: [1157050, 3471150]",
     "output_type": "error",
     "traceback": [
      "\u001b[0;31m---------------------------------------------------------------------------\u001b[0m",
      "\u001b[0;31mValueError\u001b[0m                                Traceback (most recent call last)",
      "\u001b[0;32m<ipython-input-48-fb3fad3fd00e>\u001b[0m in \u001b[0;36m<module>\u001b[0;34m()\u001b[0m\n\u001b[1;32m      1\u001b[0m fpr, tpr, thresholds = metrics.roc_curve(test_dataset.data['cps'].detach().cpu().numpy().flatten(),\n\u001b[0;32m----> 2\u001b[0;31m                                     results.t_out.y_var.flatten())\n\u001b[0m\u001b[1;32m      3\u001b[0m \u001b[0mplt\u001b[0m\u001b[0;34m.\u001b[0m\u001b[0mplot\u001b[0m\u001b[0;34m(\u001b[0m\u001b[0mfpr\u001b[0m\u001b[0;34m,\u001b[0m \u001b[0mtpr\u001b[0m\u001b[0;34m)\u001b[0m\u001b[0;34m\u001b[0m\u001b[0m\n\u001b[1;32m      4\u001b[0m \u001b[0mplt\u001b[0m\u001b[0;34m.\u001b[0m\u001b[0mxlabel\u001b[0m\u001b[0;34m(\u001b[0m\u001b[0;34m'false_positives'\u001b[0m\u001b[0;34m)\u001b[0m\u001b[0;34m\u001b[0m\u001b[0m\n\u001b[1;32m      5\u001b[0m \u001b[0mplt\u001b[0m\u001b[0;34m.\u001b[0m\u001b[0mylabel\u001b[0m\u001b[0;34m(\u001b[0m\u001b[0;34m'true_positives'\u001b[0m\u001b[0;34m)\u001b[0m\u001b[0;34m\u001b[0m\u001b[0m\n",
      "\u001b[0;32m~/.local/lib/python3.6/site-packages/sklearn/utils/validation.py\u001b[0m in \u001b[0;36minner_f\u001b[0;34m(*args, **kwargs)\u001b[0m\n\u001b[1;32m     70\u001b[0m                           FutureWarning)\n\u001b[1;32m     71\u001b[0m         \u001b[0mkwargs\u001b[0m\u001b[0;34m.\u001b[0m\u001b[0mupdate\u001b[0m\u001b[0;34m(\u001b[0m\u001b[0;34m{\u001b[0m\u001b[0mk\u001b[0m\u001b[0;34m:\u001b[0m \u001b[0marg\u001b[0m \u001b[0;32mfor\u001b[0m \u001b[0mk\u001b[0m\u001b[0;34m,\u001b[0m \u001b[0marg\u001b[0m \u001b[0;32min\u001b[0m \u001b[0mzip\u001b[0m\u001b[0;34m(\u001b[0m\u001b[0msig\u001b[0m\u001b[0;34m.\u001b[0m\u001b[0mparameters\u001b[0m\u001b[0;34m,\u001b[0m \u001b[0margs\u001b[0m\u001b[0;34m)\u001b[0m\u001b[0;34m}\u001b[0m\u001b[0;34m)\u001b[0m\u001b[0;34m\u001b[0m\u001b[0m\n\u001b[0;32m---> 72\u001b[0;31m         \u001b[0;32mreturn\u001b[0m \u001b[0mf\u001b[0m\u001b[0;34m(\u001b[0m\u001b[0;34m**\u001b[0m\u001b[0mkwargs\u001b[0m\u001b[0;34m)\u001b[0m\u001b[0;34m\u001b[0m\u001b[0m\n\u001b[0m\u001b[1;32m     73\u001b[0m     \u001b[0;32mreturn\u001b[0m \u001b[0minner_f\u001b[0m\u001b[0;34m\u001b[0m\u001b[0m\n\u001b[1;32m     74\u001b[0m \u001b[0;34m\u001b[0m\u001b[0m\n",
      "\u001b[0;32m~/.local/lib/python3.6/site-packages/sklearn/metrics/_ranking.py\u001b[0m in \u001b[0;36mroc_curve\u001b[0;34m(y_true, y_score, pos_label, sample_weight, drop_intermediate)\u001b[0m\n\u001b[1;32m    774\u001b[0m     \"\"\"\n\u001b[1;32m    775\u001b[0m     fps, tps, thresholds = _binary_clf_curve(\n\u001b[0;32m--> 776\u001b[0;31m         y_true, y_score, pos_label=pos_label, sample_weight=sample_weight)\n\u001b[0m\u001b[1;32m    777\u001b[0m \u001b[0;34m\u001b[0m\u001b[0m\n\u001b[1;32m    778\u001b[0m     \u001b[0;31m# Attempt to drop thresholds corresponding to points in between and\u001b[0m\u001b[0;34m\u001b[0m\u001b[0;34m\u001b[0m\u001b[0m\n",
      "\u001b[0;32m~/.local/lib/python3.6/site-packages/sklearn/metrics/_ranking.py\u001b[0m in \u001b[0;36m_binary_clf_curve\u001b[0;34m(y_true, y_score, pos_label, sample_weight)\u001b[0m\n\u001b[1;32m    539\u001b[0m         \u001b[0;32mraise\u001b[0m \u001b[0mValueError\u001b[0m\u001b[0;34m(\u001b[0m\u001b[0;34m\"{0} format is not supported\"\u001b[0m\u001b[0;34m.\u001b[0m\u001b[0mformat\u001b[0m\u001b[0;34m(\u001b[0m\u001b[0my_type\u001b[0m\u001b[0;34m)\u001b[0m\u001b[0;34m)\u001b[0m\u001b[0;34m\u001b[0m\u001b[0m\n\u001b[1;32m    540\u001b[0m \u001b[0;34m\u001b[0m\u001b[0m\n\u001b[0;32m--> 541\u001b[0;31m     \u001b[0mcheck_consistent_length\u001b[0m\u001b[0;34m(\u001b[0m\u001b[0my_true\u001b[0m\u001b[0;34m,\u001b[0m \u001b[0my_score\u001b[0m\u001b[0;34m,\u001b[0m \u001b[0msample_weight\u001b[0m\u001b[0;34m)\u001b[0m\u001b[0;34m\u001b[0m\u001b[0m\n\u001b[0m\u001b[1;32m    542\u001b[0m     \u001b[0my_true\u001b[0m \u001b[0;34m=\u001b[0m \u001b[0mcolumn_or_1d\u001b[0m\u001b[0;34m(\u001b[0m\u001b[0my_true\u001b[0m\u001b[0;34m)\u001b[0m\u001b[0;34m\u001b[0m\u001b[0m\n\u001b[1;32m    543\u001b[0m     \u001b[0my_score\u001b[0m \u001b[0;34m=\u001b[0m \u001b[0mcolumn_or_1d\u001b[0m\u001b[0;34m(\u001b[0m\u001b[0my_score\u001b[0m\u001b[0;34m)\u001b[0m\u001b[0;34m\u001b[0m\u001b[0m\n",
      "\u001b[0;32m~/.local/lib/python3.6/site-packages/sklearn/utils/validation.py\u001b[0m in \u001b[0;36mcheck_consistent_length\u001b[0;34m(*arrays)\u001b[0m\n\u001b[1;32m    254\u001b[0m     \u001b[0;32mif\u001b[0m \u001b[0mlen\u001b[0m\u001b[0;34m(\u001b[0m\u001b[0muniques\u001b[0m\u001b[0;34m)\u001b[0m \u001b[0;34m>\u001b[0m \u001b[0;36m1\u001b[0m\u001b[0;34m:\u001b[0m\u001b[0;34m\u001b[0m\u001b[0m\n\u001b[1;32m    255\u001b[0m         raise ValueError(\"Found input variables with inconsistent numbers of\"\n\u001b[0;32m--> 256\u001b[0;31m                          \" samples: %r\" % [int(l) for l in lengths])\n\u001b[0m\u001b[1;32m    257\u001b[0m \u001b[0;34m\u001b[0m\u001b[0m\n\u001b[1;32m    258\u001b[0m \u001b[0;34m\u001b[0m\u001b[0m\n",
      "\u001b[0;31mValueError\u001b[0m: Found input variables with inconsistent numbers of samples: [1157050, 3471150]"
     ]
    }
   ],
   "source": [
    "fpr, tpr, thresholds = metrics.roc_curve(test_dataset.data['cps'].detach().cpu().numpy().flatten(),\n",
    "                                    results.t_out.y_var.flatten())\n",
    "plt.plot(fpr, tpr)\n",
    "plt.xlabel('false_positives')\n",
    "plt.ylabel('true_positives')\n",
    "plt.show()"
   ]
  },
  {
   "cell_type": "code",
   "execution_count": null,
   "metadata": {},
   "outputs": [],
   "source": [
    "fpr, tpr, thresholds = metrics.roc_curve(test_dataset.data['cps'].detach().cpu().numpy().flatten(),\n",
    "                                    pred_cps['neural_network'].flatten())\n",
    "plt.plot(fpr, tpr)\n",
    "plt.xlabel('false_positives')\n",
    "plt.ylabel('true_positives')\n",
    "plt.show()"
   ]
  },
  {
   "cell_type": "markdown",
   "metadata": {},
   "source": [
    "# evaluate on a subset of samples that have at least 1 changepoint \n"
   ]
  },
  {
   "cell_type": "code",
   "execution_count": null,
   "metadata": {
    "collapsed": true
   },
   "outputs": [],
   "source": [
    "subset_idx=torch.unique(torch.nonzero(test_dataset.data['cps'])[:,0])"
   ]
  },
  {
   "cell_type": "code",
   "execution_count": null,
   "metadata": {},
   "outputs": [],
   "source": [
    "subsetSamples_trueCps=test_dataset.data['cps'][subset_idx,:]\n",
    "df_nn=prMetricsByThresh(cpMethod.neural_network.name, torch.tensor(results.t_out.cp_logits[subset_idx,:]).float(), \\\n",
    "                        subsetSamples_trueCps.unsqueeze(2).float(), 20, 0.4, 0.5)\n",
    "df_nn"
   ]
  },
  {
   "cell_type": "code",
   "execution_count": null,
   "metadata": {},
   "outputs": [],
   "source": [
    "df_grad=prMetricsByThresh(cpMethod.gradient.name, torch.tensor(results.t_out.coord_main[subset_idx,:]).float(), \\\n",
    "                        subsetSamples_trueCps.unsqueeze(2).float(), 20, 0,1)\n",
    "df_grad"
   ]
  },
  {
   "cell_type": "code",
   "execution_count": null,
   "metadata": {},
   "outputs": [],
   "source": [
    "df_var=prMetricsByThresh(cpMethod.mc_dropout.name, torch.tensor(results.t_out.y_var[subset_idx,:]).float(), \\\n",
    "                        subsetSamples_trueCps.unsqueeze(2).float(), 20, 0,0.5)\n",
    "df_var"
   ]
  },
  {
   "cell_type": "code",
   "execution_count": null,
   "metadata": {},
   "outputs": [],
   "source": [
    "df_bocd=prMetricsByThresh(cpMethod.BOCD.name, model_cpd.cp[subset_idx,:], \\\n",
    "                        subsetSamples_trueCps.unsqueeze(2).float(), 20,0,10)\n",
    "df_bocd"
   ]
  },
  {
   "cell_type": "markdown",
   "metadata": {},
   "source": [
    "# evaluate all by windows , i.e no win tolerance"
   ]
  },
  {
   "cell_type": "code",
   "execution_count": null,
   "metadata": {},
   "outputs": [],
   "source": [
    "df_nn=prMetricsByThresh(cpMethod.neural_network.name, torch.tensor(results.t_out.cp_logits).float(), \\\n",
    "                        test_dataset.data['cps'].unsqueeze(2).float(), 20, 0.4, 0.5, byWindows=True)\n",
    "df_nn"
   ]
  },
  {
   "cell_type": "code",
   "execution_count": null,
   "metadata": {},
   "outputs": [],
   "source": [
    "df_grad=prMetricsByThresh(cpMethod.gradient.name, torch.tensor(results.t_out.coord_main).float(), \\\n",
    "                        test_dataset.data['cps'].unsqueeze(2).float(), 20, 0,1, byWindows=True)\n",
    "df_grad"
   ]
  },
  {
   "cell_type": "code",
   "execution_count": null,
   "metadata": {},
   "outputs": [],
   "source": [
    "df_var=prMetricsByThresh(cpMethod.mc_dropout.name, torch.tensor(results.t_out.y_var).float(), \\\n",
    "                        test_dataset.data['cps'].unsqueeze(2).float(), 20, 0,0.5, byWindows=True)\n",
    "df_var"
   ]
  },
  {
   "cell_type": "code",
   "execution_count": null,
   "metadata": {},
   "outputs": [],
   "source": [
    "df_bocd=prMetricsByThresh(cpMethod.BOCD.name, model_cpd.cp, \\\n",
    "                        test_dataset.data['cps'].unsqueeze(2).float(), 20,1,10, byWindows=True)\n",
    "df_bocd"
   ]
  },
  {
   "cell_type": "markdown",
   "metadata": {},
   "source": [
    "# compute metrics by placing win_tol=0"
   ]
  },
  {
   "cell_type": "code",
   "execution_count": null,
   "metadata": {},
   "outputs": [],
   "source": [
    "df_nn=prMetricsByThresh(cpMethod.neural_network.name, torch.tensor(results.t_out.cp_logits).float(), \\\n",
    "                        test_dataset.data['cps'].unsqueeze(2).float(), 20, 0.4, 0.5, win_tol=0, byWindows=False)\n",
    "df_nn"
   ]
  },
  {
   "cell_type": "code",
   "execution_count": null,
   "metadata": {},
   "outputs": [],
   "source": [
    "df_grad=prMetricsByThresh(cpMethod.gradient.name, torch.tensor(results.t_out.coord_main).float(), \\\n",
    "                        test_dataset.data['cps'].unsqueeze(2).float(), 20, 0,1, win_tol=0, byWindows=False)\n",
    "df_grad"
   ]
  },
  {
   "cell_type": "code",
   "execution_count": null,
   "metadata": {},
   "outputs": [],
   "source": [
    "df_var=prMetricsByThresh(cpMethod.mc_dropout.name, torch.tensor(results.t_out.y_var).float(), \\\n",
    "                        test_dataset.data['cps'].unsqueeze(2).float(), 20, 0,0.5, win_tol=0, byWindows=False)\n",
    "df_var"
   ]
  },
  {
   "cell_type": "code",
   "execution_count": null,
   "metadata": {},
   "outputs": [],
   "source": [
    "df_bocd=prMetricsByThresh(cpMethod.BOCD.name, model_cpd.cp, \\\n",
    "                        test_dataset.data['cps'].unsqueeze(2).float(), 20,1,10, win_tol=2, byWindows=False)\n",
    "df_bocd"
   ]
  },
  {
   "cell_type": "markdown",
   "metadata": {},
   "source": [
    "# evaluate to make sure matches with scikit learn (subset with samples that have cp, and win_tol=0 for evaluation"
   ]
  },
  {
   "cell_type": "code",
   "execution_count": null,
   "metadata": {},
   "outputs": [],
   "source": [
    "subsetSamples_trueCps=test_dataset.data['cps'][subset_idx,:]\n",
    "df_nn=prMetricsByThresh(cpMethod.neural_network.name, torch.tensor(results.t_out.cp_logits[subset_idx,:]).float(), \\\n",
    "                        subsetSamples_trueCps.unsqueeze(2).float(), 20, 0.4, 0.5, win_tol=0)\n",
    "df_grad=prMetricsByThresh(cpMethod.gradient.name, torch.tensor(results.t_out.coord_main[subset_idx,:]).float(), \\\n",
    "                        subsetSamples_trueCps.unsqueeze(2).float(), 20, 0,1, win_tol=0)\n",
    "df_var=prMetricsByThresh(cpMethod.mc_dropout.name, torch.tensor(results.t_out.y_var[subset_idx,:]).float(), \\\n",
    "                        subsetSamples_trueCps.unsqueeze(2).float(), 20, 0,0.5, win_tol=0)\n",
    "df_bocd=prMetricsByThresh(cpMethod.BOCD.name, model_cpd.cp[subset_idx,:], \\\n",
    "                        subsetSamples_trueCps.unsqueeze(2).float(), 20,0,10, win_tol=0)"
   ]
  },
  {
   "cell_type": "code",
   "execution_count": null,
   "metadata": {},
   "outputs": [],
   "source": [
    "df_nn"
   ]
  },
  {
   "cell_type": "code",
   "execution_count": null,
   "metadata": {},
   "outputs": [],
   "source": [
    "df_grad"
   ]
  },
  {
   "cell_type": "code",
   "execution_count": null,
   "metadata": {},
   "outputs": [],
   "source": [
    "df_var"
   ]
  },
  {
   "cell_type": "code",
   "execution_count": null,
   "metadata": {},
   "outputs": [],
   "source": [
    "df_bocd"
   ]
  },
  {
   "cell_type": "code",
   "execution_count": null,
   "metadata": {
    "collapsed": true
   },
   "outputs": [],
   "source": []
  }
 ],
 "metadata": {
  "kernelspec": {
   "display_name": "Python 3",
   "language": "python",
   "name": "python3"
  },
  "language_info": {
   "codemirror_mode": {
    "name": "ipython",
    "version": 3
   },
   "file_extension": ".py",
   "mimetype": "text/x-python",
   "name": "python",
   "nbconvert_exporter": "python",
   "pygments_lexer": "ipython3",
   "version": "3.6.1"
  }
 },
 "nbformat": 4,
 "nbformat_minor": 2
}
