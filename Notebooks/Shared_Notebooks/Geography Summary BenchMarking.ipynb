{
 "cells": [
  {
   "cell_type": "code",
   "execution_count": 1,
   "metadata": {
    "collapsed": true
   },
   "outputs": [],
   "source": [
    "import torch\n",
    "import sys\n",
    "import os\n",
    "import os.path as osp\n",
    "import pandas as pd\n",
    "import numpy as np\n",
    "import itertools\n",
    "import matplotlib.pyplot as plt\n",
    "import seaborn as sns\n",
    "import plotly.graph_objects as go\n",
    "from mpl_toolkits.mplot3d import Axes3D\n",
    "from matplotlib import ticker\n",
    "import matplotlib as mpl\n",
    "from matplotlib.colors import LogNorm\n",
    "import matplotlib.patches as mpatches\n",
    "from sklearn.metrics import precision_recall_curve, recall_score, precision_score, \\\n",
    "balanced_accuracy_score, accuracy_score\n",
    "from sklearn import metrics\n",
    "from IPython.display import display\n",
    "import math\n",
    "from dataclasses import dataclass\n",
    "import allel"
   ]
  },
  {
   "cell_type": "code",
   "execution_count": 2,
   "metadata": {
    "collapsed": true
   },
   "outputs": [],
   "source": [
    "os.environ['USER_PATH']='/home/users/richras/Ge2Net_Repo'\n",
    "os.environ['USER_SCRATCH_PATH']=\"/scratch/users/richras\"\n",
    "os.environ['IN_PATH']='/scratch/groups/cdbustam/richras/data_in'\n",
    "os.environ['OUT_PATH']='/scratch/groups/cdbustam/richras/data_out'\n",
    "os.environ['LOG_PATH']='/scratch/groups/cdbustam/richras/logs/'"
   ]
  },
  {
   "cell_type": "code",
   "execution_count": 3,
   "metadata": {
    "collapsed": true
   },
   "outputs": [],
   "source": [
    "os.chdir(os.environ.get('USER_PATH'))"
   ]
  },
  {
   "cell_type": "code",
   "execution_count": 4,
   "metadata": {
    "collapsed": true
   },
   "outputs": [],
   "source": [
    "%load_ext autoreload\n",
    "%autoreload 2\n",
    "from src.utils.dataUtil import load_path, save_file, vcf2npy\n",
    "from src.utils.modelUtil import Params, load_model, convert_coordinates, convert_nVector\n",
    "from src.utils.labelUtil import nearestNeighbourMapping, repeat_pop_arr\n",
    "from src.utils.decorators import timer\n",
    "from src.main.visualization import plot_coordinates_map, plot_sample, plot_changepoints\n",
    "from src.models.modelSelection import modelSelect\n",
    "from src.models.modelParamsSelection import Selections\n",
    "from src.models import Model_A, Model_B, Model_C, BOCD\n",
    "from src.models.distributions import Multivariate_Gaussian\n",
    "from src.main.evaluation import eval_cp_batch, reportChangePointMetrics, t_prMetrics, cpMethod, eval_cp_matrix, \\\n",
    "getCpPred, GcdLoss, balancedMetrics, class_accuracy, Running_Average\n",
    "from src.main.settings_model import parse_args\n",
    "from src.models.Ge3Net import Ge3NetBase\n",
    "import inference"
   ]
  },
  {
   "cell_type": "markdown",
   "metadata": {},
   "source": [
    "# load the model and use valid data "
   ]
  },
  {
   "cell_type": "code",
   "execution_count": 5,
   "metadata": {
    "collapsed": true
   },
   "outputs": [],
   "source": [
    "def rmAdditionalWin(pred_cps_BOCD):\n",
    "    cpIdx=np.nonzero(pred_cps_BOCD)[0]\n",
    "    remWin=3\n",
    "    seqlen=317\n",
    "    for i in cpIdx:\n",
    "        low=max(0,i-remWin)\n",
    "        high=min(seqlen, i+remWin)\n",
    "        pred_cps_BOCD[low:high]=1\n",
    "    return pred_cps_BOCD\n"
   ]
  },
  {
   "cell_type": "code",
   "execution_count": 6,
   "metadata": {
    "collapsed": true
   },
   "outputs": [],
   "source": [
    "@dataclass\n",
    "class balancedMetrics():\n",
    "    def __init__(self):\n",
    "        self.batchMetricLs=[]\n",
    "        self.classSuperpop= {}\n",
    "        self.classGranularpop={}\n",
    "    \n",
    "    def fillData(self, dataTensor):\n",
    "        self.batchMetricLs.append(dataTensor)\n",
    "\n",
    "    def balancedMetric(self, superpop, granular_pop):\n",
    "        gcdTensor = self.batchMetricLs[-1]\n",
    "        superpop_num=np.unique(superpop).astype(int)\n",
    "        granularpop_num=np.unique(granular_pop).astype(int)\n",
    "        for i in superpop_num:\n",
    "            if self.classSuperpop.get(i) is None: self.classSuperpop[i]=Running_Average()\n",
    "            idx=np.nonzero(superpop==i)\n",
    "            self.classSuperpop[i].update(np.sum(gcdTensor[idx[0], idx[1]]), len(idx[0]))\n",
    "            \n",
    "        for i in granularpop_num:\n",
    "            if self.classGranularpop.get(i) is None: self.classGranularpop[i]=Running_Average()\n",
    "            idx=np.nonzero(granular_pop==i)\n",
    "            self.classGranularpop[i].update(np.sum(gcdTensor[idx[0], idx[1]]), len(idx[0]))             \n",
    "                \n",
    "    def meanBalanced(self):\n",
    "        meanBalancedSuperpop={k:self.classSuperpop[k]() for k in self.classSuperpop.keys()}\n",
    "        meanBalancedGranularpop={k:self.classGranularpop[k]() for k in self.classGranularpop.keys()}\n",
    "        return meanBalancedSuperpop, meanBalancedGranularpop"
   ]
  },
  {
   "cell_type": "code",
   "execution_count": 7,
   "metadata": {
    "collapsed": true,
    "scrolled": false
   },
   "outputs": [],
   "source": [
    "data_id=['data_id_4_geo', 'data_id_4_geo', 'data_id_4_geo']\n",
    "model_id_data_id=['Model_Q_exp_id_3_data_id_4_geo', 'Model_Q_exp_id_31_data_id_4_geo','Model_Q_exp_id_37_data_id_4_geo']\n",
    "\n",
    "geno_type=\"humans\"\n",
    "def loadModelStats(data_id, model_id_data_id, dataset_type):\n",
    "    results = {}\n",
    "    \n",
    "    for d, m in zip(data_id, model_id_data_id):\n",
    "        results_gen = {}\n",
    "        labels_path = osp.join(os.environ['OUT_PATH'], geno_type, 'labels', d)\n",
    "        data_path = osp.join(os.environ['OUT_PATH'], geno_type, 'labels', d)\n",
    "        models_path = osp.join(os.environ['OUT_PATH'], geno_type, 'training', m)\n",
    "        config = {}\n",
    "        config['data.labels']=labels_path \n",
    "        config['data.dir']=data_path \n",
    "        config['models.dir']=models_path\n",
    "        config['data.dataset_type']=dataset_type\n",
    "        config['cuda']='cuda'\n",
    "        config['model.loadBest']=True\n",
    "        yaml_path = osp.join(config['models.dir'], 'params.yaml')\n",
    "        assert osp.isfile(yaml_path), \"No yaml configuration file found at {}\".format(yaml_path)\n",
    "        params = Params(yaml_path)\n",
    "        params.rtnOuts=True\n",
    "        params.mc_dropout=False\n",
    "        params.mc_samples=100\n",
    "        params.cp_tol=1\n",
    "        params.evalCp=True\n",
    "        params.evalBalancedGcd=True\n",
    "        params.evalExtraMainLosses=True\n",
    "        list_all_gens = params.valid_gens\n",
    "        \n",
    "        balancedMetricsObj_allGens=balancedMetrics()\n",
    "        for gen in [[0], [2], [4], [8], [16], [32], [64]]:\n",
    "            if gen[0] not in list_all_gens:\n",
    "                continue\n",
    "            loss_main={}\n",
    "            params.test_gens=gen\n",
    "            params.valid_gens=gen\n",
    "            Stats_gen, dataset, _, trainingStats = inference.main(config, params)\n",
    "            \n",
    "            print(f\"num_samples for gen {gen} ={Stats_gen.t_out.coord_main.shape[1]}\")\n",
    "            trueCp=dataset.data['cps']\n",
    "            trueCpMask=(trueCp==0)\n",
    "            superpop = dataset.data['superpop']\n",
    "            granular_pop = dataset.data['granular_pop']\n",
    "            \n",
    "            #BOCD\n",
    "            y_pred = Stats_gen.t_out.coord_main.squeeze(0)\n",
    "            n_vec_dim = y_pred.shape[-1]\n",
    "            data_tensor = torch.tensor(y_pred).float()\n",
    "            batch_size_cpd = data_tensor.shape[0]\n",
    "            mu_prior = torch.zeros((batch_size_cpd, 1,n_vec_dim))\n",
    "            mean_var = torch.mean(torch.var(data_tensor, dim =1),dim=0).unsqueeze(0)\n",
    "            cov_prior = (mean_var.repeat(batch_size_cpd,1).unsqueeze(1)* torch.eye(n_vec_dim)).reshape(batch_size_cpd,1,n_vec_dim,n_vec_dim)\n",
    "            cov_x = cov_prior\n",
    "            likelihood_model = Multivariate_Gaussian(mu_prior, cov_prior, cov_x)\n",
    "            T = params.n_win\n",
    "            model_cpd = BOCD.BOCD(None, T, likelihood_model, batch_size_cpd)\n",
    "            posterior, _, predictive, e_mean = model_cpd.run_recursive(data_tensor, 'cpu')\n",
    "            \n",
    "            predCp=getCpPred(cpMethod.BOCD.name, model_cpd.cp, cpThresh=2.0, \\\n",
    "            Batch_size=Stats_gen.t_out.coord_main.shape[1], \\\n",
    "            T=Stats_gen.t_out.coord_main.shape[2])\n",
    "            predCp=predCp.detach().cpu().numpy()\n",
    "            predCpMask=(predCp==0)\n",
    "            predCp = np.apply_along_axis(rmAdditionalWin, 1, predCp)\n",
    "            predCpMask=predCpMask\n",
    "            intersectSum=trueCp+predCp\n",
    "            intersectCp=(intersectSum!=2)\n",
    "            loss_main['no_mask']= Stats_gen.t_accr['loss_main']\n",
    "            coord_main=Stats_gen.t_out.coord_main.squeeze(0)\n",
    "            loss_main['trueCpMask']= GcdLoss()(coord_main,\\\n",
    "                                    dataset.data['y'], mask=trueCpMask[...,np.newaxis])/trueCpMask.sum()\n",
    "\n",
    "            loss_main['intersectCpMask']=GcdLoss()(coord_main,\\\n",
    "                                    dataset.data['y'], mask=intersectCp[...,np.newaxis])/intersectCp.sum()\n",
    "            loss_main['predCpMask']= GcdLoss()(coord_main,\\\n",
    "                                    dataset.data['y'], mask=predCpMask[...,np.newaxis])/predCpMask.sum()\n",
    "            results_gen[str(gen)]={'meanBalancedGcdGp':Stats_gen.t_balanced_gcd['meanBalancedGcdGp']}\n",
    "            results_gen[str(gen)]['loss_main_w_masks']=loss_main\n",
    "            results_gen[str(gen)]['num_samples'] = Stats_gen.t_out.coord_main.shape[1]\n",
    "            # calculated balancedGcd by granular pop\n",
    "            balancedMetricsObj=balancedMetrics()\n",
    "            loss_tensor = GcdLoss().rawGcd(Stats_gen.t_out.coord_main.squeeze(0), dataset.data['y'])\n",
    "            balancedMetricsObj.fillData(loss_tensor)\n",
    "            balancedMetricsObj.balancedMetric(superpop, granular_pop)\n",
    "            _, results_gen[str(gen)]['balancedGcdMatrix']=balancedMetricsObj.meanBalanced()\n",
    "            \n",
    "            balancedMetricsObj_allGens.fillData(loss_tensor)\n",
    "            balancedMetricsObj_allGens.balancedMetric(superpop, granular_pop)\n",
    "        \n",
    "        results[m]=results_gen\n",
    "        \n",
    "        _, results[m]['balancedGcdMatrix_allGens'] = balancedMetricsObj_allGens.meanBalanced()\n",
    "        \n",
    "        \n",
    "    return results"
   ]
  },
  {
   "cell_type": "code",
   "execution_count": 8,
   "metadata": {
    "scrolled": true
   },
   "outputs": [
    {
     "name": "stderr",
     "output_type": "stream",
     "text": [
      "INFO: __init__:src.main.dataset: Loading test Dataset\n",
      "INFO: __init__:src.main.dataset:Loading gen 0\n"
     ]
    },
    {
     "name": "stdout",
     "output_type": "stream",
     "text": [
      " device used: cuda\n",
      "Loading the datasets...\n"
     ]
    },
    {
     "name": "stderr",
     "output_type": "stream",
     "text": [
      "INFO: __init__:src.main.dataset: snps data: (540, 317410)\n",
      "INFO: __init__:src.main.dataset: y_labels data :(540, 317410)\n",
      "INFO: transform_data:src.main.dataset:Transforming the data\n"
     ]
    },
    {
     "name": "stdout",
     "output_type": "stream",
     "text": [
      "Finished '_geoConvertLatLong2nVec' in 0.0108 secs\n",
      "Finished 'mapping_func' in 0.0563 secs\n",
      "Finished 'pop_mapping' in 0.0243 secs\n",
      "Finished 'pop_mapping' in 0.0237 secs\n",
      "Finished 'transform_data' in 5.8999 secs\n",
      "Finished '__init__' in 30.0839 secs\n",
      "Parameter count for model AuxNetwork:31747503\n",
      "Parameter count for model TransformerModel:107528\n",
      "Parameter count for model BiRNN:34499\n",
      "Parameter count for model logits_Block:2289\n",
      "Total parameters:31891819\n",
      "Finished 'load_model' in 15.0937 secs\n",
      "best val loss metrics : {'loss_main': 866.6805836590546, 'loss_aux': 2160.2513772460106, 'l1_loss': 0.20087590047931303, 'mse': 0.045047710068923504, 'smooth_l1': 0.022466416130238673, 'weighted_loss': 0.20087590047931303}\n",
      "at epoch : 227\n",
      "train loss metrics: {'loss_main': 260.368462953392, 'loss_aux': 1561.6972164885574, 'l1_loss': 0.05821169218555197, 'mse': 0.005354038258400175, 'smooth_l1': 0.0026711223615385584, 'weighted_loss': 0.05821169218555197}\n",
      "best val cp metrics : {'loss_cp': 0.49852718259127005, 'prMetrics': OrderedDict([('Precision', array(0.04698644)), ('Recall', array(0.87514953)), ('Accuracy', array(0.70264787)), ('A_major', array(0.6997298)), ('BalancedAccuracy', 0.7874396635842865)])}\n",
      "train cp metrics: {'loss_cp': 0.27772317325980933, 'prMetrics': OrderedDict([('Precision', array(0.43709188)), ('Recall', array(0.81219869)), ('Accuracy', array(0.98198753)), ('A_major', array(0.98450305)), ('BalancedAccuracy', 0.8983508717877995)])}\n",
      "best val sp metrics : None\n",
      "train sp metrics: None\n",
      "best val balanced gcd metrics : {'meanBalancedGcdSp': 847.5928733386421, 'meanBalancedGcdGp': 983.3434251590701, 'medianBalancedGcdSp': 862.1782041181356, 'medianBalancedGcdGp': 880.1238600391921, 'median': 507.4490966796875}\n",
      "train balanced gcd metrics: {'meanBalancedGcdSp': 349.9616934236061, 'meanBalancedGcdGp': 473.6187598408302, 'medianBalancedGcdSp': 255.46220687890678, 'medianBalancedGcdGp': 416.00432274095226, 'median': 124.59101867675781}\n",
      "is the model on cuda? : True\n",
      "Finished 'batchLoopValid' in 1.5581 secs\n",
      "Finished 'main' in 47.5479 secs\n",
      "num_samples for gen [0] =540\n"
     ]
    },
    {
     "name": "stderr",
     "output_type": "stream",
     "text": [
      "INFO: __init__:src.main.dataset: Loading test Dataset\n",
      "INFO: __init__:src.main.dataset:Loading gen 2\n"
     ]
    },
    {
     "name": "stdout",
     "output_type": "stream",
     "text": [
      "Finished 'run_recursive' in 27.5236 secs\n",
      " device used: cuda\n",
      "Loading the datasets...\n"
     ]
    },
    {
     "name": "stderr",
     "output_type": "stream",
     "text": [
      "INFO: __init__:src.main.dataset: snps data: (800, 317410)\n",
      "INFO: __init__:src.main.dataset: y_labels data :(800, 317410)\n",
      "INFO: transform_data:src.main.dataset:Transforming the data\n"
     ]
    },
    {
     "name": "stdout",
     "output_type": "stream",
     "text": [
      "Finished '_geoConvertLatLong2nVec' in 0.0156 secs\n",
      "Finished 'mapping_func' in 0.0818 secs\n",
      "Finished 'pop_mapping' in 0.0354 secs\n",
      "Finished 'pop_mapping' in 0.0350 secs\n",
      "Finished 'transform_data' in 8.7564 secs\n",
      "Finished '__init__' in 26.9854 secs\n",
      "Parameter count for model AuxNetwork:31747503\n",
      "Parameter count for model TransformerModel:107528\n",
      "Parameter count for model BiRNN:34499\n",
      "Parameter count for model logits_Block:2289\n",
      "Total parameters:31891819\n",
      "Finished 'load_model' in 0.1523 secs\n",
      "best val loss metrics : {'loss_main': 866.6805836590546, 'loss_aux': 2160.2513772460106, 'l1_loss': 0.20087590047931303, 'mse': 0.045047710068923504, 'smooth_l1': 0.022466416130238673, 'weighted_loss': 0.20087590047931303}\n",
      "at epoch : 227\n",
      "train loss metrics: {'loss_main': 260.368462953392, 'loss_aux': 1561.6972164885574, 'l1_loss': 0.05821169218555197, 'mse': 0.005354038258400175, 'smooth_l1': 0.0026711223615385584, 'weighted_loss': 0.05821169218555197}\n",
      "best val cp metrics : {'loss_cp': 0.49852718259127005, 'prMetrics': OrderedDict([('Precision', array(0.04698644)), ('Recall', array(0.87514953)), ('Accuracy', array(0.70264787)), ('A_major', array(0.6997298)), ('BalancedAccuracy', 0.7874396635842865)])}\n",
      "train cp metrics: {'loss_cp': 0.27772317325980933, 'prMetrics': OrderedDict([('Precision', array(0.43709188)), ('Recall', array(0.81219869)), ('Accuracy', array(0.98198753)), ('A_major', array(0.98450305)), ('BalancedAccuracy', 0.8983508717877995)])}\n",
      "best val sp metrics : None\n",
      "train sp metrics: None\n",
      "best val balanced gcd metrics : {'meanBalancedGcdSp': 847.5928733386421, 'meanBalancedGcdGp': 983.3434251590701, 'medianBalancedGcdSp': 862.1782041181356, 'medianBalancedGcdGp': 880.1238600391921, 'median': 507.4490966796875}\n",
      "train balanced gcd metrics: {'meanBalancedGcdSp': 349.9616934236061, 'meanBalancedGcdGp': 473.6187598408302, 'medianBalancedGcdSp': 255.46220687890678, 'medianBalancedGcdGp': 416.00432274095226, 'median': 124.59101867675781}\n",
      "is the model on cuda? : True\n",
      "Finished 'batchLoopValid' in 0.6946 secs\n",
      "Finished 'main' in 28.0473 secs\n",
      "num_samples for gen [2] =800\n",
      "Finished 'run_recursive' in 40.7670 secs\n"
     ]
    },
    {
     "name": "stderr",
     "output_type": "stream",
     "text": [
      "INFO: __init__:src.main.dataset: Loading test Dataset\n",
      "INFO: __init__:src.main.dataset:Loading gen 4\n"
     ]
    },
    {
     "name": "stdout",
     "output_type": "stream",
     "text": [
      " device used: cuda\n",
      "Loading the datasets...\n"
     ]
    },
    {
     "name": "stderr",
     "output_type": "stream",
     "text": [
      "INFO: __init__:src.main.dataset: snps data: (800, 317410)\n",
      "INFO: __init__:src.main.dataset: y_labels data :(800, 317410)\n",
      "INFO: transform_data:src.main.dataset:Transforming the data\n"
     ]
    },
    {
     "name": "stdout",
     "output_type": "stream",
     "text": [
      "Finished '_geoConvertLatLong2nVec' in 0.0150 secs\n",
      "Finished 'mapping_func' in 0.0816 secs\n",
      "Finished 'pop_mapping' in 0.0351 secs\n",
      "Finished 'pop_mapping' in 0.0347 secs\n",
      "Finished 'transform_data' in 8.7719 secs\n",
      "Finished '__init__' in 22.8486 secs\n",
      "Parameter count for model AuxNetwork:31747503\n",
      "Parameter count for model TransformerModel:107528\n",
      "Parameter count for model BiRNN:34499\n",
      "Parameter count for model logits_Block:2289\n",
      "Total parameters:31891819\n",
      "Finished 'load_model' in 0.1560 secs\n",
      "best val loss metrics : {'loss_main': 866.6805836590546, 'loss_aux': 2160.2513772460106, 'l1_loss': 0.20087590047931303, 'mse': 0.045047710068923504, 'smooth_l1': 0.022466416130238673, 'weighted_loss': 0.20087590047931303}\n",
      "at epoch : 227\n",
      "train loss metrics: {'loss_main': 260.368462953392, 'loss_aux': 1561.6972164885574, 'l1_loss': 0.05821169218555197, 'mse': 0.005354038258400175, 'smooth_l1': 0.0026711223615385584, 'weighted_loss': 0.05821169218555197}\n",
      "best val cp metrics : {'loss_cp': 0.49852718259127005, 'prMetrics': OrderedDict([('Precision', array(0.04698644)), ('Recall', array(0.87514953)), ('Accuracy', array(0.70264787)), ('A_major', array(0.6997298)), ('BalancedAccuracy', 0.7874396635842865)])}\n",
      "train cp metrics: {'loss_cp': 0.27772317325980933, 'prMetrics': OrderedDict([('Precision', array(0.43709188)), ('Recall', array(0.81219869)), ('Accuracy', array(0.98198753)), ('A_major', array(0.98450305)), ('BalancedAccuracy', 0.8983508717877995)])}\n",
      "best val sp metrics : None\n",
      "train sp metrics: None\n",
      "best val balanced gcd metrics : {'meanBalancedGcdSp': 847.5928733386421, 'meanBalancedGcdGp': 983.3434251590701, 'medianBalancedGcdSp': 862.1782041181356, 'medianBalancedGcdGp': 880.1238600391921, 'median': 507.4490966796875}\n",
      "train balanced gcd metrics: {'meanBalancedGcdSp': 349.9616934236061, 'meanBalancedGcdGp': 473.6187598408302, 'medianBalancedGcdSp': 255.46220687890678, 'medianBalancedGcdGp': 416.00432274095226, 'median': 124.59101867675781}\n",
      "is the model on cuda? : True\n",
      "Finished 'batchLoopValid' in 0.7680 secs\n",
      "Finished 'main' in 23.9902 secs\n",
      "num_samples for gen [4] =800\n",
      "Finished 'run_recursive' in 40.7719 secs\n"
     ]
    },
    {
     "name": "stderr",
     "output_type": "stream",
     "text": [
      "INFO: __init__:src.main.dataset: Loading test Dataset\n",
      "INFO: __init__:src.main.dataset:Loading gen 8\n"
     ]
    },
    {
     "name": "stdout",
     "output_type": "stream",
     "text": [
      " device used: cuda\n",
      "Loading the datasets...\n"
     ]
    },
    {
     "name": "stderr",
     "output_type": "stream",
     "text": [
      "INFO: __init__:src.main.dataset: snps data: (800, 317410)\n",
      "INFO: __init__:src.main.dataset: y_labels data :(800, 317410)\n",
      "INFO: transform_data:src.main.dataset:Transforming the data\n"
     ]
    },
    {
     "name": "stdout",
     "output_type": "stream",
     "text": [
      "Finished '_geoConvertLatLong2nVec' in 0.0155 secs\n",
      "Finished 'mapping_func' in 0.0819 secs\n",
      "Finished 'pop_mapping' in 0.0358 secs\n",
      "Finished 'pop_mapping' in 0.0350 secs\n",
      "Finished 'transform_data' in 8.7216 secs\n",
      "Finished '__init__' in 22.9224 secs\n",
      "Parameter count for model AuxNetwork:31747503\n",
      "Parameter count for model TransformerModel:107528\n",
      "Parameter count for model BiRNN:34499\n",
      "Parameter count for model logits_Block:2289\n",
      "Total parameters:31891819\n",
      "Finished 'load_model' in 0.1497 secs\n",
      "best val loss metrics : {'loss_main': 866.6805836590546, 'loss_aux': 2160.2513772460106, 'l1_loss': 0.20087590047931303, 'mse': 0.045047710068923504, 'smooth_l1': 0.022466416130238673, 'weighted_loss': 0.20087590047931303}\n",
      "at epoch : 227\n",
      "train loss metrics: {'loss_main': 260.368462953392, 'loss_aux': 1561.6972164885574, 'l1_loss': 0.05821169218555197, 'mse': 0.005354038258400175, 'smooth_l1': 0.0026711223615385584, 'weighted_loss': 0.05821169218555197}\n",
      "best val cp metrics : {'loss_cp': 0.49852718259127005, 'prMetrics': OrderedDict([('Precision', array(0.04698644)), ('Recall', array(0.87514953)), ('Accuracy', array(0.70264787)), ('A_major', array(0.6997298)), ('BalancedAccuracy', 0.7874396635842865)])}\n",
      "train cp metrics: {'loss_cp': 0.27772317325980933, 'prMetrics': OrderedDict([('Precision', array(0.43709188)), ('Recall', array(0.81219869)), ('Accuracy', array(0.98198753)), ('A_major', array(0.98450305)), ('BalancedAccuracy', 0.8983508717877995)])}\n",
      "best val sp metrics : None\n",
      "train sp metrics: None\n",
      "best val balanced gcd metrics : {'meanBalancedGcdSp': 847.5928733386421, 'meanBalancedGcdGp': 983.3434251590701, 'medianBalancedGcdSp': 862.1782041181356, 'medianBalancedGcdGp': 880.1238600391921, 'median': 507.4490966796875}\n",
      "train balanced gcd metrics: {'meanBalancedGcdSp': 349.9616934236061, 'meanBalancedGcdGp': 473.6187598408302, 'medianBalancedGcdSp': 255.46220687890678, 'medianBalancedGcdGp': 416.00432274095226, 'median': 124.59101867675781}\n",
      "is the model on cuda? : True\n",
      "Finished 'batchLoopValid' in 0.8531 secs\n",
      "Finished 'main' in 24.1411 secs\n",
      "num_samples for gen [8] =800\n",
      "Finished 'run_recursive' in 40.7915 secs\n"
     ]
    },
    {
     "name": "stderr",
     "output_type": "stream",
     "text": [
      "INFO: __init__:src.main.dataset: Loading test Dataset\n",
      "INFO: __init__:src.main.dataset:Loading gen 0\n",
      "INFO: __init__:src.main.dataset: snps data: (540, 317410)\n"
     ]
    },
    {
     "name": "stdout",
     "output_type": "stream",
     "text": [
      " device used: cuda\n",
      "Loading the datasets...\n"
     ]
    },
    {
     "name": "stderr",
     "output_type": "stream",
     "text": [
      "INFO: __init__:src.main.dataset: y_labels data :(540, 317410)\n",
      "INFO: transform_data:src.main.dataset:Transforming the data\n"
     ]
    },
    {
     "name": "stdout",
     "output_type": "stream",
     "text": [
      "Finished '_geoConvertLatLong2nVec' in 0.0100 secs\n",
      "Finished 'mapping_func' in 0.0550 secs\n",
      "Finished 'pop_mapping' in 0.0239 secs\n",
      "Finished 'pop_mapping' in 0.0244 secs\n",
      "Finished 'transform_data' in 5.8601 secs\n",
      "Finished '__init__' in 6.3502 secs\n",
      "Parameter count for model AuxNetwork:31747503\n",
      "Parameter count for model TransformerModel:133256\n",
      "Parameter count for model BiRNN:34499\n",
      "Parameter count for model logits_Block:2289\n",
      "Total parameters:31917547\n",
      "Finished 'load_model' in 0.5047 secs\n",
      "best val loss metrics : {'loss_main': 837.5976891592411, 'loss_aux': 2177.4945391933843, 'l1_loss': 0.19298167763685006, 'mse': 0.044127899415007554, 'smooth_l1': 0.02203047697393506, 'weighted_loss': 0.19298167763685006}\n",
      "at epoch : 183\n",
      "train loss metrics: {'loss_main': 275.2866365127619, 'loss_aux': 1618.251100275109, 'l1_loss': 0.061813042006208345, 'mse': 0.0061231461747121955, 'smooth_l1': 0.0030536770945753505, 'weighted_loss': 0.061813042006208345}\n",
      "best val cp metrics : {'loss_cp': 0.6768083546138789, 'prMetrics': OrderedDict([('Precision', array(0.06698455)), ('Recall', array(0.84820248)), ('Accuracy', array(0.80094344)), ('A_major', array(0.800144)), ('BalancedAccuracy', 0.8241732378574378)])}\n",
      "train cp metrics: {'loss_cp': 0.5279171083149946, 'prMetrics': OrderedDict([('Precision', array(0.25574094)), ('Recall', array(0.89794702)), ('Accuracy', array(0.96035905)), ('A_major', array(0.96128372)), ('BalancedAccuracy', 0.929615370975675)])}\n",
      "best val sp metrics : None\n",
      "train sp metrics: None\n",
      "best val balanced gcd metrics : {'meanBalancedGcdSp': 821.1345627288277, 'meanBalancedGcdGp': 984.1779095219819, 'medianBalancedGcdSp': 827.0826022613547, 'medianBalancedGcdGp': 787.2551252492523, 'median': 461.4395751953125}\n",
      "train balanced gcd metrics: {'meanBalancedGcdSp': 378.09116935597467, 'meanBalancedGcdGp': 523.1459564801853, 'medianBalancedGcdSp': 249.31050238614384, 'medianBalancedGcdGp': 414.68956049307343, 'median': 123.1456069946289}\n",
      "is the model on cuda? : True\n",
      "Finished 'batchLoopValid' in 0.3311 secs\n",
      "Finished 'main' in 7.4825 secs\n",
      "num_samples for gen [0] =540\n"
     ]
    },
    {
     "name": "stderr",
     "output_type": "stream",
     "text": [
      "INFO: __init__:src.main.dataset: Loading test Dataset\n",
      "INFO: __init__:src.main.dataset:Loading gen 2\n"
     ]
    },
    {
     "name": "stdout",
     "output_type": "stream",
     "text": [
      "Finished 'run_recursive' in 27.4605 secs\n",
      " device used: cuda\n",
      "Loading the datasets...\n"
     ]
    },
    {
     "name": "stderr",
     "output_type": "stream",
     "text": [
      "INFO: __init__:src.main.dataset: snps data: (800, 317410)\n",
      "INFO: __init__:src.main.dataset: y_labels data :(800, 317410)\n",
      "INFO: transform_data:src.main.dataset:Transforming the data\n"
     ]
    },
    {
     "name": "stdout",
     "output_type": "stream",
     "text": [
      "Finished '_geoConvertLatLong2nVec' in 0.0156 secs\n",
      "Finished 'mapping_func' in 0.0832 secs\n",
      "Finished 'pop_mapping' in 0.0360 secs\n",
      "Finished 'pop_mapping' in 0.0341 secs\n",
      "Finished 'transform_data' in 8.7782 secs\n",
      "Finished '__init__' in 9.4419 secs\n",
      "Parameter count for model AuxNetwork:31747503\n",
      "Parameter count for model TransformerModel:133256\n",
      "Parameter count for model BiRNN:34499\n",
      "Parameter count for model logits_Block:2289\n",
      "Total parameters:31917547\n",
      "Finished 'load_model' in 0.1505 secs\n",
      "best val loss metrics : {'loss_main': 837.5976891592411, 'loss_aux': 2177.4945391933843, 'l1_loss': 0.19298167763685006, 'mse': 0.044127899415007554, 'smooth_l1': 0.02203047697393506, 'weighted_loss': 0.19298167763685006}\n",
      "at epoch : 183\n",
      "train loss metrics: {'loss_main': 275.2866365127619, 'loss_aux': 1618.251100275109, 'l1_loss': 0.061813042006208345, 'mse': 0.0061231461747121955, 'smooth_l1': 0.0030536770945753505, 'weighted_loss': 0.061813042006208345}\n",
      "best val cp metrics : {'loss_cp': 0.6768083546138789, 'prMetrics': OrderedDict([('Precision', array(0.06698455)), ('Recall', array(0.84820248)), ('Accuracy', array(0.80094344)), ('A_major', array(0.800144)), ('BalancedAccuracy', 0.8241732378574378)])}\n",
      "train cp metrics: {'loss_cp': 0.5279171083149946, 'prMetrics': OrderedDict([('Precision', array(0.25574094)), ('Recall', array(0.89794702)), ('Accuracy', array(0.96035905)), ('A_major', array(0.96128372)), ('BalancedAccuracy', 0.929615370975675)])}\n",
      "best val sp metrics : None\n",
      "train sp metrics: None\n",
      "best val balanced gcd metrics : {'meanBalancedGcdSp': 821.1345627288277, 'meanBalancedGcdGp': 984.1779095219819, 'medianBalancedGcdSp': 827.0826022613547, 'medianBalancedGcdGp': 787.2551252492523, 'median': 461.4395751953125}\n",
      "train balanced gcd metrics: {'meanBalancedGcdSp': 378.09116935597467, 'meanBalancedGcdGp': 523.1459564801853, 'medianBalancedGcdSp': 249.31050238614384, 'medianBalancedGcdGp': 414.68956049307343, 'median': 123.1456069946289}\n",
      "is the model on cuda? : True\n",
      "Finished 'batchLoopValid' in 0.8131 secs\n",
      "Finished 'main' in 10.6259 secs\n",
      "num_samples for gen [2] =800\n",
      "Finished 'run_recursive' in 40.8093 secs\n"
     ]
    },
    {
     "name": "stderr",
     "output_type": "stream",
     "text": [
      "INFO: __init__:src.main.dataset: Loading test Dataset\n",
      "INFO: __init__:src.main.dataset:Loading gen 4\n",
      "INFO: __init__:src.main.dataset: snps data: (800, 317410)\n"
     ]
    },
    {
     "name": "stdout",
     "output_type": "stream",
     "text": [
      " device used: cuda\n",
      "Loading the datasets...\n"
     ]
    },
    {
     "name": "stderr",
     "output_type": "stream",
     "text": [
      "INFO: __init__:src.main.dataset: y_labels data :(800, 317410)\n",
      "INFO: transform_data:src.main.dataset:Transforming the data\n"
     ]
    },
    {
     "name": "stdout",
     "output_type": "stream",
     "text": [
      "Finished '_geoConvertLatLong2nVec' in 0.0150 secs\n",
      "Finished 'mapping_func' in 0.0825 secs\n",
      "Finished 'pop_mapping' in 0.0365 secs\n",
      "Finished 'pop_mapping' in 0.0347 secs\n",
      "Finished 'transform_data' in 8.7247 secs\n",
      "Finished '__init__' in 9.3842 secs\n",
      "Parameter count for model AuxNetwork:31747503\n",
      "Parameter count for model TransformerModel:133256\n",
      "Parameter count for model BiRNN:34499\n",
      "Parameter count for model logits_Block:2289\n",
      "Total parameters:31917547\n",
      "Finished 'load_model' in 0.1501 secs\n",
      "best val loss metrics : {'loss_main': 837.5976891592411, 'loss_aux': 2177.4945391933843, 'l1_loss': 0.19298167763685006, 'mse': 0.044127899415007554, 'smooth_l1': 0.02203047697393506, 'weighted_loss': 0.19298167763685006}\n",
      "at epoch : 183\n",
      "train loss metrics: {'loss_main': 275.2866365127619, 'loss_aux': 1618.251100275109, 'l1_loss': 0.061813042006208345, 'mse': 0.0061231461747121955, 'smooth_l1': 0.0030536770945753505, 'weighted_loss': 0.061813042006208345}\n",
      "best val cp metrics : {'loss_cp': 0.6768083546138789, 'prMetrics': OrderedDict([('Precision', array(0.06698455)), ('Recall', array(0.84820248)), ('Accuracy', array(0.80094344)), ('A_major', array(0.800144)), ('BalancedAccuracy', 0.8241732378574378)])}\n",
      "train cp metrics: {'loss_cp': 0.5279171083149946, 'prMetrics': OrderedDict([('Precision', array(0.25574094)), ('Recall', array(0.89794702)), ('Accuracy', array(0.96035905)), ('A_major', array(0.96128372)), ('BalancedAccuracy', 0.929615370975675)])}\n",
      "best val sp metrics : None\n",
      "train sp metrics: None\n",
      "best val balanced gcd metrics : {'meanBalancedGcdSp': 821.1345627288277, 'meanBalancedGcdGp': 984.1779095219819, 'medianBalancedGcdSp': 827.0826022613547, 'medianBalancedGcdGp': 787.2551252492523, 'median': 461.4395751953125}\n",
      "train balanced gcd metrics: {'meanBalancedGcdSp': 378.09116935597467, 'meanBalancedGcdGp': 523.1459564801853, 'medianBalancedGcdSp': 249.31050238614384, 'medianBalancedGcdGp': 414.68956049307343, 'median': 123.1456069946289}\n",
      "is the model on cuda? : True\n",
      "Finished 'batchLoopValid' in 0.8610 secs\n",
      "Finished 'main' in 10.6109 secs\n",
      "num_samples for gen [4] =800\n",
      "Finished 'run_recursive' in 40.3480 secs\n"
     ]
    },
    {
     "name": "stderr",
     "output_type": "stream",
     "text": [
      "INFO: __init__:src.main.dataset: Loading test Dataset\n",
      "INFO: __init__:src.main.dataset:Loading gen 8\n",
      "INFO: __init__:src.main.dataset: snps data: (800, 317410)\n"
     ]
    },
    {
     "name": "stdout",
     "output_type": "stream",
     "text": [
      " device used: cuda\n",
      "Loading the datasets...\n"
     ]
    },
    {
     "name": "stderr",
     "output_type": "stream",
     "text": [
      "INFO: __init__:src.main.dataset: y_labels data :(800, 317410)\n",
      "INFO: transform_data:src.main.dataset:Transforming the data\n"
     ]
    },
    {
     "name": "stdout",
     "output_type": "stream",
     "text": [
      "Finished '_geoConvertLatLong2nVec' in 0.0156 secs\n",
      "Finished 'mapping_func' in 0.0829 secs\n",
      "Finished 'pop_mapping' in 0.0369 secs\n",
      "Finished 'pop_mapping' in 0.0347 secs\n",
      "Finished 'transform_data' in 8.7446 secs\n",
      "Finished '__init__' in 9.4083 secs\n",
      "Parameter count for model AuxNetwork:31747503\n",
      "Parameter count for model TransformerModel:133256\n",
      "Parameter count for model BiRNN:34499\n",
      "Parameter count for model logits_Block:2289\n",
      "Total parameters:31917547\n",
      "Finished 'load_model' in 0.1525 secs\n",
      "best val loss metrics : {'loss_main': 837.5976891592411, 'loss_aux': 2177.4945391933843, 'l1_loss': 0.19298167763685006, 'mse': 0.044127899415007554, 'smooth_l1': 0.02203047697393506, 'weighted_loss': 0.19298167763685006}\n",
      "at epoch : 183\n",
      "train loss metrics: {'loss_main': 275.2866365127619, 'loss_aux': 1618.251100275109, 'l1_loss': 0.061813042006208345, 'mse': 0.0061231461747121955, 'smooth_l1': 0.0030536770945753505, 'weighted_loss': 0.061813042006208345}\n",
      "best val cp metrics : {'loss_cp': 0.6768083546138789, 'prMetrics': OrderedDict([('Precision', array(0.06698455)), ('Recall', array(0.84820248)), ('Accuracy', array(0.80094344)), ('A_major', array(0.800144)), ('BalancedAccuracy', 0.8241732378574378)])}\n",
      "train cp metrics: {'loss_cp': 0.5279171083149946, 'prMetrics': OrderedDict([('Precision', array(0.25574094)), ('Recall', array(0.89794702)), ('Accuracy', array(0.96035905)), ('A_major', array(0.96128372)), ('BalancedAccuracy', 0.929615370975675)])}\n",
      "best val sp metrics : None\n",
      "train sp metrics: None\n",
      "best val balanced gcd metrics : {'meanBalancedGcdSp': 821.1345627288277, 'meanBalancedGcdGp': 984.1779095219819, 'medianBalancedGcdSp': 827.0826022613547, 'medianBalancedGcdGp': 787.2551252492523, 'median': 461.4395751953125}\n",
      "train balanced gcd metrics: {'meanBalancedGcdSp': 378.09116935597467, 'meanBalancedGcdGp': 523.1459564801853, 'medianBalancedGcdSp': 249.31050238614384, 'medianBalancedGcdGp': 414.68956049307343, 'median': 123.1456069946289}\n",
      "is the model on cuda? : True\n",
      "Finished 'batchLoopValid' in 1.0054 secs\n",
      "Finished 'main' in 10.7850 secs\n",
      "num_samples for gen [8] =800\n",
      "Finished 'run_recursive' in 40.7442 secs\n"
     ]
    },
    {
     "name": "stderr",
     "output_type": "stream",
     "text": [
      "INFO: __init__:src.main.dataset: Loading test Dataset\n",
      "INFO: __init__:src.main.dataset:Loading gen 0\n",
      "INFO: __init__:src.main.dataset: snps data: (540, 317410)\n"
     ]
    },
    {
     "name": "stdout",
     "output_type": "stream",
     "text": [
      " device used: cuda\n",
      "Loading the datasets...\n"
     ]
    },
    {
     "name": "stderr",
     "output_type": "stream",
     "text": [
      "INFO: __init__:src.main.dataset: y_labels data :(540, 317410)\n",
      "INFO: transform_data:src.main.dataset:Transforming the data\n"
     ]
    },
    {
     "name": "stdout",
     "output_type": "stream",
     "text": [
      "Finished '_geoConvertLatLong2nVec' in 0.0099 secs\n",
      "Finished 'mapping_func' in 0.0557 secs\n",
      "Finished 'pop_mapping' in 0.0241 secs\n",
      "Finished 'pop_mapping' in 0.0237 secs\n",
      "Finished 'transform_data' in 5.8400 secs\n",
      "Finished '__init__' in 6.3076 secs\n",
      "Parameter count for model AuxNetwork:31747503\n",
      "Parameter count for model TransformerModel:133256\n",
      "Parameter count for model BiRNN:34499\n",
      "Parameter count for model logits_Block:2289\n",
      "Total parameters:31917547\n",
      "Finished 'load_model' in 0.4556 secs\n",
      "best val loss metrics : {'loss_main': 836.0798488485595, 'loss_aux': 2152.1262835094954, 'l1_loss': 0.19240272414547907, 'mse': 0.04447463351996686, 'smooth_l1': 0.022191767132209692, 'weighted_loss': 0.19240272414547907}\n",
      "at epoch : 238\n",
      "train loss metrics: {'loss_main': 218.46175901968778, 'loss_aux': 1485.8314123327116, 'l1_loss': 0.046999104912408475, 'mse': 0.003854911350544717, 'smooth_l1': 0.0019230075228341427, 'weighted_loss': 0.046999104912408475}\n",
      "best val cp metrics : {'loss_cp': 0.019878406516587763, 'prMetrics': OrderedDict([('Precision', array(0.)), ('Recall', array(0.)), ('Accuracy', array(0.98336517)), ('A_major', array(1.)), ('BalancedAccuracy', 0.5)])}\n",
      "train cp metrics: {'loss_cp': 0.01903197231413228, 'prMetrics': OrderedDict([('Precision', array(0.)), ('Recall', array(0.)), ('Accuracy', array(0.9854007)), ('A_major', array(1.)), ('BalancedAccuracy', 0.5)])}\n",
      "best val sp metrics : None\n",
      "train sp metrics: None\n",
      "best val balanced gcd metrics : {'meanBalancedGcdSp': 799.4577393573433, 'meanBalancedGcdGp': 956.5323609536281, 'medianBalancedGcdSp': 823.3493095628473, 'medianBalancedGcdGp': 864.5888205556256, 'median': 452.2863464355469}\n",
      "train balanced gcd metrics: {'meanBalancedGcdSp': 308.49955039564946, 'meanBalancedGcdGp': 406.2450776863834, 'medianBalancedGcdSp': 211.9825854236464, 'medianBalancedGcdGp': 359.1320566537453, 'median': 90.10777282714844}\n",
      "is the model on cuda? : True\n",
      "Finished 'batchLoopValid' in 0.3623 secs\n",
      "Finished 'main' in 7.4145 secs\n",
      "num_samples for gen [0] =540\n"
     ]
    },
    {
     "name": "stderr",
     "output_type": "stream",
     "text": [
      "INFO: __init__:src.main.dataset: Loading test Dataset\n",
      "INFO: __init__:src.main.dataset:Loading gen 2\n"
     ]
    },
    {
     "name": "stdout",
     "output_type": "stream",
     "text": [
      "Finished 'run_recursive' in 27.4689 secs\n",
      " device used: cuda\n",
      "Loading the datasets...\n"
     ]
    },
    {
     "name": "stderr",
     "output_type": "stream",
     "text": [
      "INFO: __init__:src.main.dataset: snps data: (800, 317410)\n",
      "INFO: __init__:src.main.dataset: y_labels data :(800, 317410)\n",
      "INFO: transform_data:src.main.dataset:Transforming the data\n"
     ]
    },
    {
     "name": "stdout",
     "output_type": "stream",
     "text": [
      "Finished '_geoConvertLatLong2nVec' in 0.0149 secs\n",
      "Finished 'mapping_func' in 0.0800 secs\n",
      "Finished 'pop_mapping' in 0.0351 secs\n",
      "Finished 'pop_mapping' in 0.0347 secs\n",
      "Finished 'transform_data' in 8.7914 secs\n",
      "Finished '__init__' in 9.4355 secs\n",
      "Parameter count for model AuxNetwork:31747503\n",
      "Parameter count for model TransformerModel:133256\n",
      "Parameter count for model BiRNN:34499\n",
      "Parameter count for model logits_Block:2289\n",
      "Total parameters:31917547\n",
      "Finished 'load_model' in 0.1550 secs\n",
      "best val loss metrics : {'loss_main': 836.0798488485595, 'loss_aux': 2152.1262835094954, 'l1_loss': 0.19240272414547907, 'mse': 0.04447463351996686, 'smooth_l1': 0.022191767132209692, 'weighted_loss': 0.19240272414547907}\n",
      "at epoch : 238\n",
      "train loss metrics: {'loss_main': 218.46175901968778, 'loss_aux': 1485.8314123327116, 'l1_loss': 0.046999104912408475, 'mse': 0.003854911350544717, 'smooth_l1': 0.0019230075228341427, 'weighted_loss': 0.046999104912408475}\n",
      "best val cp metrics : {'loss_cp': 0.019878406516587763, 'prMetrics': OrderedDict([('Precision', array(0.)), ('Recall', array(0.)), ('Accuracy', array(0.98336517)), ('A_major', array(1.)), ('BalancedAccuracy', 0.5)])}\n",
      "train cp metrics: {'loss_cp': 0.01903197231413228, 'prMetrics': OrderedDict([('Precision', array(0.)), ('Recall', array(0.)), ('Accuracy', array(0.9854007)), ('A_major', array(1.)), ('BalancedAccuracy', 0.5)])}\n",
      "best val sp metrics : None\n",
      "train sp metrics: None\n",
      "best val balanced gcd metrics : {'meanBalancedGcdSp': 799.4577393573433, 'meanBalancedGcdGp': 956.5323609536281, 'medianBalancedGcdSp': 823.3493095628473, 'medianBalancedGcdGp': 864.5888205556256, 'median': 452.2863464355469}\n",
      "train balanced gcd metrics: {'meanBalancedGcdSp': 308.49955039564946, 'meanBalancedGcdGp': 406.2450776863834, 'medianBalancedGcdSp': 211.9825854236464, 'medianBalancedGcdGp': 359.1320566537453, 'median': 90.10777282714844}\n",
      "is the model on cuda? : True\n",
      "Finished 'batchLoopValid' in 0.7084 secs\n",
      "Finished 'main' in 10.5143 secs\n",
      "num_samples for gen [2] =800\n",
      "Finished 'run_recursive' in 40.6931 secs\n"
     ]
    },
    {
     "name": "stderr",
     "output_type": "stream",
     "text": [
      "INFO: __init__:src.main.dataset: Loading test Dataset\n",
      "INFO: __init__:src.main.dataset:Loading gen 4\n",
      "INFO: __init__:src.main.dataset: snps data: (800, 317410)\n"
     ]
    },
    {
     "name": "stdout",
     "output_type": "stream",
     "text": [
      " device used: cuda\n",
      "Loading the datasets...\n"
     ]
    },
    {
     "name": "stderr",
     "output_type": "stream",
     "text": [
      "INFO: __init__:src.main.dataset: y_labels data :(800, 317410)\n",
      "INFO: transform_data:src.main.dataset:Transforming the data\n"
     ]
    },
    {
     "name": "stdout",
     "output_type": "stream",
     "text": [
      "Finished '_geoConvertLatLong2nVec' in 0.0157 secs\n",
      "Finished 'mapping_func' in 0.0830 secs\n",
      "Finished 'pop_mapping' in 0.0361 secs\n",
      "Finished 'pop_mapping' in 0.0344 secs\n",
      "Finished 'transform_data' in 8.7907 secs\n",
      "Finished '__init__' in 9.4188 secs\n",
      "Parameter count for model AuxNetwork:31747503\n",
      "Parameter count for model TransformerModel:133256\n",
      "Parameter count for model BiRNN:34499\n",
      "Parameter count for model logits_Block:2289\n",
      "Total parameters:31917547\n",
      "Finished 'load_model' in 0.1529 secs\n",
      "best val loss metrics : {'loss_main': 836.0798488485595, 'loss_aux': 2152.1262835094954, 'l1_loss': 0.19240272414547907, 'mse': 0.04447463351996686, 'smooth_l1': 0.022191767132209692, 'weighted_loss': 0.19240272414547907}\n",
      "at epoch : 238\n",
      "train loss metrics: {'loss_main': 218.46175901968778, 'loss_aux': 1485.8314123327116, 'l1_loss': 0.046999104912408475, 'mse': 0.003854911350544717, 'smooth_l1': 0.0019230075228341427, 'weighted_loss': 0.046999104912408475}\n",
      "best val cp metrics : {'loss_cp': 0.019878406516587763, 'prMetrics': OrderedDict([('Precision', array(0.)), ('Recall', array(0.)), ('Accuracy', array(0.98336517)), ('A_major', array(1.)), ('BalancedAccuracy', 0.5)])}\n",
      "train cp metrics: {'loss_cp': 0.01903197231413228, 'prMetrics': OrderedDict([('Precision', array(0.)), ('Recall', array(0.)), ('Accuracy', array(0.9854007)), ('A_major', array(1.)), ('BalancedAccuracy', 0.5)])}\n",
      "best val sp metrics : None\n",
      "train sp metrics: None\n",
      "best val balanced gcd metrics : {'meanBalancedGcdSp': 799.4577393573433, 'meanBalancedGcdGp': 956.5323609536281, 'medianBalancedGcdSp': 823.3493095628473, 'medianBalancedGcdGp': 864.5888205556256, 'median': 452.2863464355469}\n",
      "train balanced gcd metrics: {'meanBalancedGcdSp': 308.49955039564946, 'meanBalancedGcdGp': 406.2450776863834, 'medianBalancedGcdSp': 211.9825854236464, 'medianBalancedGcdGp': 359.1320566537453, 'median': 90.10777282714844}\n",
      "is the model on cuda? : True\n",
      "Finished 'batchLoopValid' in 0.5694 secs\n",
      "Finished 'main' in 10.3585 secs\n",
      "num_samples for gen [4] =800\n",
      "Finished 'run_recursive' in 40.4676 secs\n"
     ]
    },
    {
     "name": "stderr",
     "output_type": "stream",
     "text": [
      "INFO: __init__:src.main.dataset: Loading test Dataset\n",
      "INFO: __init__:src.main.dataset:Loading gen 8\n",
      "INFO: __init__:src.main.dataset: snps data: (800, 317410)\n"
     ]
    },
    {
     "name": "stdout",
     "output_type": "stream",
     "text": [
      " device used: cuda\n",
      "Loading the datasets...\n"
     ]
    },
    {
     "name": "stderr",
     "output_type": "stream",
     "text": [
      "INFO: __init__:src.main.dataset: y_labels data :(800, 317410)\n",
      "INFO: transform_data:src.main.dataset:Transforming the data\n"
     ]
    },
    {
     "name": "stdout",
     "output_type": "stream",
     "text": [
      "Finished '_geoConvertLatLong2nVec' in 0.0157 secs\n",
      "Finished 'mapping_func' in 0.0853 secs\n",
      "Finished 'pop_mapping' in 0.0355 secs\n",
      "Finished 'pop_mapping' in 0.0352 secs\n",
      "Finished 'transform_data' in 8.7626 secs\n",
      "Finished '__init__' in 9.3901 secs\n",
      "Parameter count for model AuxNetwork:31747503\n",
      "Parameter count for model TransformerModel:133256\n",
      "Parameter count for model BiRNN:34499\n",
      "Parameter count for model logits_Block:2289\n",
      "Total parameters:31917547\n",
      "Finished 'load_model' in 0.1523 secs\n",
      "best val loss metrics : {'loss_main': 836.0798488485595, 'loss_aux': 2152.1262835094954, 'l1_loss': 0.19240272414547907, 'mse': 0.04447463351996686, 'smooth_l1': 0.022191767132209692, 'weighted_loss': 0.19240272414547907}\n",
      "at epoch : 238\n",
      "train loss metrics: {'loss_main': 218.46175901968778, 'loss_aux': 1485.8314123327116, 'l1_loss': 0.046999104912408475, 'mse': 0.003854911350544717, 'smooth_l1': 0.0019230075228341427, 'weighted_loss': 0.046999104912408475}\n",
      "best val cp metrics : {'loss_cp': 0.019878406516587763, 'prMetrics': OrderedDict([('Precision', array(0.)), ('Recall', array(0.)), ('Accuracy', array(0.98336517)), ('A_major', array(1.)), ('BalancedAccuracy', 0.5)])}\n",
      "train cp metrics: {'loss_cp': 0.01903197231413228, 'prMetrics': OrderedDict([('Precision', array(0.)), ('Recall', array(0.)), ('Accuracy', array(0.9854007)), ('A_major', array(1.)), ('BalancedAccuracy', 0.5)])}\n",
      "best val sp metrics : None\n",
      "train sp metrics: None\n",
      "best val balanced gcd metrics : {'meanBalancedGcdSp': 799.4577393573433, 'meanBalancedGcdGp': 956.5323609536281, 'medianBalancedGcdSp': 823.3493095628473, 'medianBalancedGcdGp': 864.5888205556256, 'median': 452.2863464355469}\n",
      "train balanced gcd metrics: {'meanBalancedGcdSp': 308.49955039564946, 'meanBalancedGcdGp': 406.2450776863834, 'medianBalancedGcdSp': 211.9825854236464, 'medianBalancedGcdGp': 359.1320566537453, 'median': 90.10777282714844}\n",
      "is the model on cuda? : True\n",
      "Finished 'batchLoopValid' in 0.6508 secs\n",
      "Finished 'main' in 10.4094 secs\n",
      "num_samples for gen [8] =800\n",
      "Finished 'run_recursive' in 40.4860 secs\n"
     ]
    },
    {
     "name": "stderr",
     "output_type": "stream",
     "text": [
      "INFO: __init__:src.main.dataset: Loading valid Dataset\n",
      "INFO: __init__:src.main.dataset:Loading gen 0\n"
     ]
    },
    {
     "name": "stdout",
     "output_type": "stream",
     "text": [
      " device used: cuda\n",
      "Loading the datasets...\n"
     ]
    },
    {
     "name": "stderr",
     "output_type": "stream",
     "text": [
      "INFO: __init__:src.main.dataset: snps data: (612, 317410)\n",
      "INFO: __init__:src.main.dataset: y_labels data :(612, 317410)\n",
      "INFO: transform_data:src.main.dataset:Transforming the data\n"
     ]
    },
    {
     "name": "stdout",
     "output_type": "stream",
     "text": [
      "Finished '_geoConvertLatLong2nVec' in 0.0113 secs\n",
      "Finished 'mapping_func' in 0.0628 secs\n",
      "Finished 'pop_mapping' in 0.0268 secs\n",
      "Finished 'pop_mapping' in 0.0266 secs\n",
      "Finished 'transform_data' in 6.7173 secs\n",
      "Finished '__init__' in 19.0957 secs\n",
      "Parameter count for model AuxNetwork:31747503\n",
      "Parameter count for model TransformerModel:107528\n",
      "Parameter count for model BiRNN:34499\n",
      "Parameter count for model logits_Block:2289\n",
      "Total parameters:31891819\n",
      "Finished 'load_model' in 0.1775 secs\n",
      "best val loss metrics : {'loss_main': 866.6805836590546, 'loss_aux': 2160.2513772460106, 'l1_loss': 0.20087590047931303, 'mse': 0.045047710068923504, 'smooth_l1': 0.022466416130238673, 'weighted_loss': 0.20087590047931303}\n",
      "at epoch : 227\n",
      "train loss metrics: {'loss_main': 260.368462953392, 'loss_aux': 1561.6972164885574, 'l1_loss': 0.05821169218555197, 'mse': 0.005354038258400175, 'smooth_l1': 0.0026711223615385584, 'weighted_loss': 0.05821169218555197}\n",
      "best val cp metrics : {'loss_cp': 0.49852718259127005, 'prMetrics': OrderedDict([('Precision', array(0.04698644)), ('Recall', array(0.87514953)), ('Accuracy', array(0.70264787)), ('A_major', array(0.6997298)), ('BalancedAccuracy', 0.7874396635842865)])}\n",
      "train cp metrics: {'loss_cp': 0.27772317325980933, 'prMetrics': OrderedDict([('Precision', array(0.43709188)), ('Recall', array(0.81219869)), ('Accuracy', array(0.98198753)), ('A_major', array(0.98450305)), ('BalancedAccuracy', 0.8983508717877995)])}\n",
      "best val sp metrics : None\n",
      "train sp metrics: None\n",
      "best val balanced gcd metrics : {'meanBalancedGcdSp': 847.5928733386421, 'meanBalancedGcdGp': 983.3434251590701, 'medianBalancedGcdSp': 862.1782041181356, 'medianBalancedGcdGp': 880.1238600391921, 'median': 507.4490966796875}\n",
      "train balanced gcd metrics: {'meanBalancedGcdSp': 349.9616934236061, 'meanBalancedGcdGp': 473.6187598408302, 'medianBalancedGcdSp': 255.46220687890678, 'medianBalancedGcdGp': 416.00432274095226, 'median': 124.59101867675781}\n",
      "is the model on cuda? : True\n",
      "Finished 'batchLoopValid' in 0.3887 secs\n",
      "Finished 'main' in 19.8754 secs\n",
      "num_samples for gen [0] =612\n",
      "Finished 'run_recursive' in 30.7169 secs\n"
     ]
    },
    {
     "name": "stderr",
     "output_type": "stream",
     "text": [
      "INFO: __init__:src.main.dataset: Loading valid Dataset\n",
      "INFO: __init__:src.main.dataset:Loading gen 2\n"
     ]
    },
    {
     "name": "stdout",
     "output_type": "stream",
     "text": [
      " device used: cuda\n",
      "Loading the datasets...\n"
     ]
    },
    {
     "name": "stderr",
     "output_type": "stream",
     "text": [
      "INFO: __init__:src.main.dataset: snps data: (800, 317410)\n",
      "INFO: __init__:src.main.dataset: y_labels data :(800, 317410)\n",
      "INFO: transform_data:src.main.dataset:Transforming the data\n"
     ]
    },
    {
     "name": "stdout",
     "output_type": "stream",
     "text": [
      "Finished '_geoConvertLatLong2nVec' in 0.0148 secs\n",
      "Finished 'mapping_func' in 0.0818 secs\n",
      "Finished 'pop_mapping' in 0.0363 secs\n",
      "Finished 'pop_mapping' in 0.0343 secs\n",
      "Finished 'transform_data' in 8.7623 secs\n",
      "Finished '__init__' in 27.4743 secs\n",
      "Parameter count for model AuxNetwork:31747503\n",
      "Parameter count for model TransformerModel:107528\n",
      "Parameter count for model BiRNN:34499\n",
      "Parameter count for model logits_Block:2289\n",
      "Total parameters:31891819\n",
      "Finished 'load_model' in 0.1494 secs\n",
      "best val loss metrics : {'loss_main': 866.6805836590546, 'loss_aux': 2160.2513772460106, 'l1_loss': 0.20087590047931303, 'mse': 0.045047710068923504, 'smooth_l1': 0.022466416130238673, 'weighted_loss': 0.20087590047931303}\n",
      "at epoch : 227\n",
      "train loss metrics: {'loss_main': 260.368462953392, 'loss_aux': 1561.6972164885574, 'l1_loss': 0.05821169218555197, 'mse': 0.005354038258400175, 'smooth_l1': 0.0026711223615385584, 'weighted_loss': 0.05821169218555197}\n",
      "best val cp metrics : {'loss_cp': 0.49852718259127005, 'prMetrics': OrderedDict([('Precision', array(0.04698644)), ('Recall', array(0.87514953)), ('Accuracy', array(0.70264787)), ('A_major', array(0.6997298)), ('BalancedAccuracy', 0.7874396635842865)])}\n",
      "train cp metrics: {'loss_cp': 0.27772317325980933, 'prMetrics': OrderedDict([('Precision', array(0.43709188)), ('Recall', array(0.81219869)), ('Accuracy', array(0.98198753)), ('A_major', array(0.98450305)), ('BalancedAccuracy', 0.8983508717877995)])}\n",
      "best val sp metrics : None\n",
      "train sp metrics: None\n",
      "best val balanced gcd metrics : {'meanBalancedGcdSp': 847.5928733386421, 'meanBalancedGcdGp': 983.3434251590701, 'medianBalancedGcdSp': 862.1782041181356, 'medianBalancedGcdGp': 880.1238600391921, 'median': 507.4490966796875}\n",
      "train balanced gcd metrics: {'meanBalancedGcdSp': 349.9616934236061, 'meanBalancedGcdGp': 473.6187598408302, 'medianBalancedGcdSp': 255.46220687890678, 'medianBalancedGcdGp': 416.00432274095226, 'median': 124.59101867675781}\n",
      "is the model on cuda? : True\n",
      "Finished 'batchLoopValid' in 0.7540 secs\n",
      "Finished 'main' in 28.5932 secs\n",
      "num_samples for gen [2] =800\n",
      "Finished 'run_recursive' in 40.5666 secs\n"
     ]
    },
    {
     "name": "stderr",
     "output_type": "stream",
     "text": [
      "INFO: __init__:src.main.dataset: Loading valid Dataset\n",
      "INFO: __init__:src.main.dataset:Loading gen 4\n"
     ]
    },
    {
     "name": "stdout",
     "output_type": "stream",
     "text": [
      " device used: cuda\n",
      "Loading the datasets...\n"
     ]
    },
    {
     "name": "stderr",
     "output_type": "stream",
     "text": [
      "INFO: __init__:src.main.dataset: snps data: (800, 317410)\n",
      "INFO: __init__:src.main.dataset: y_labels data :(800, 317410)\n",
      "INFO: transform_data:src.main.dataset:Transforming the data\n"
     ]
    },
    {
     "name": "stdout",
     "output_type": "stream",
     "text": [
      "Finished '_geoConvertLatLong2nVec' in 0.0157 secs\n",
      "Finished 'mapping_func' in 0.0830 secs\n",
      "Finished 'pop_mapping' in 0.0361 secs\n",
      "Finished 'pop_mapping' in 0.0345 secs\n",
      "Finished 'transform_data' in 8.7715 secs\n",
      "Finished '__init__' in 20.9837 secs\n",
      "Parameter count for model AuxNetwork:31747503\n",
      "Parameter count for model TransformerModel:107528\n",
      "Parameter count for model BiRNN:34499\n",
      "Parameter count for model logits_Block:2289\n",
      "Total parameters:31891819\n",
      "Finished 'load_model' in 0.1496 secs\n",
      "best val loss metrics : {'loss_main': 866.6805836590546, 'loss_aux': 2160.2513772460106, 'l1_loss': 0.20087590047931303, 'mse': 0.045047710068923504, 'smooth_l1': 0.022466416130238673, 'weighted_loss': 0.20087590047931303}\n",
      "at epoch : 227\n",
      "train loss metrics: {'loss_main': 260.368462953392, 'loss_aux': 1561.6972164885574, 'l1_loss': 0.05821169218555197, 'mse': 0.005354038258400175, 'smooth_l1': 0.0026711223615385584, 'weighted_loss': 0.05821169218555197}\n",
      "best val cp metrics : {'loss_cp': 0.49852718259127005, 'prMetrics': OrderedDict([('Precision', array(0.04698644)), ('Recall', array(0.87514953)), ('Accuracy', array(0.70264787)), ('A_major', array(0.6997298)), ('BalancedAccuracy', 0.7874396635842865)])}\n",
      "train cp metrics: {'loss_cp': 0.27772317325980933, 'prMetrics': OrderedDict([('Precision', array(0.43709188)), ('Recall', array(0.81219869)), ('Accuracy', array(0.98198753)), ('A_major', array(0.98450305)), ('BalancedAccuracy', 0.8983508717877995)])}\n",
      "best val sp metrics : None\n",
      "train sp metrics: None\n",
      "best val balanced gcd metrics : {'meanBalancedGcdSp': 847.5928733386421, 'meanBalancedGcdGp': 983.3434251590701, 'medianBalancedGcdSp': 862.1782041181356, 'medianBalancedGcdGp': 880.1238600391921, 'median': 507.4490966796875}\n",
      "train balanced gcd metrics: {'meanBalancedGcdSp': 349.9616934236061, 'meanBalancedGcdGp': 473.6187598408302, 'medianBalancedGcdSp': 255.46220687890678, 'medianBalancedGcdGp': 416.00432274095226, 'median': 124.59101867675781}\n",
      "is the model on cuda? : True\n",
      "Finished 'batchLoopValid' in 0.9529 secs\n",
      "Finished 'main' in 22.3034 secs\n",
      "num_samples for gen [4] =800\n",
      "Finished 'run_recursive' in 40.6520 secs\n"
     ]
    },
    {
     "name": "stderr",
     "output_type": "stream",
     "text": [
      "INFO: __init__:src.main.dataset: Loading valid Dataset\n",
      "INFO: __init__:src.main.dataset:Loading gen 8\n"
     ]
    },
    {
     "name": "stdout",
     "output_type": "stream",
     "text": [
      " device used: cuda\n",
      "Loading the datasets...\n"
     ]
    },
    {
     "name": "stderr",
     "output_type": "stream",
     "text": [
      "INFO: __init__:src.main.dataset: snps data: (800, 317410)\n",
      "INFO: __init__:src.main.dataset: y_labels data :(800, 317410)\n",
      "INFO: transform_data:src.main.dataset:Transforming the data\n"
     ]
    },
    {
     "name": "stdout",
     "output_type": "stream",
     "text": [
      "Finished '_geoConvertLatLong2nVec' in 0.0150 secs\n",
      "Finished 'mapping_func' in 0.0824 secs\n",
      "Finished 'pop_mapping' in 0.0360 secs\n",
      "Finished 'pop_mapping' in 0.0343 secs\n",
      "Finished 'transform_data' in 8.6929 secs\n",
      "Finished '__init__' in 27.9974 secs\n",
      "Parameter count for model AuxNetwork:31747503\n",
      "Parameter count for model TransformerModel:107528\n",
      "Parameter count for model BiRNN:34499\n",
      "Parameter count for model logits_Block:2289\n",
      "Total parameters:31891819\n",
      "Finished 'load_model' in 0.1508 secs\n",
      "best val loss metrics : {'loss_main': 866.6805836590546, 'loss_aux': 2160.2513772460106, 'l1_loss': 0.20087590047931303, 'mse': 0.045047710068923504, 'smooth_l1': 0.022466416130238673, 'weighted_loss': 0.20087590047931303}\n",
      "at epoch : 227\n",
      "train loss metrics: {'loss_main': 260.368462953392, 'loss_aux': 1561.6972164885574, 'l1_loss': 0.05821169218555197, 'mse': 0.005354038258400175, 'smooth_l1': 0.0026711223615385584, 'weighted_loss': 0.05821169218555197}\n",
      "best val cp metrics : {'loss_cp': 0.49852718259127005, 'prMetrics': OrderedDict([('Precision', array(0.04698644)), ('Recall', array(0.87514953)), ('Accuracy', array(0.70264787)), ('A_major', array(0.6997298)), ('BalancedAccuracy', 0.7874396635842865)])}\n",
      "train cp metrics: {'loss_cp': 0.27772317325980933, 'prMetrics': OrderedDict([('Precision', array(0.43709188)), ('Recall', array(0.81219869)), ('Accuracy', array(0.98198753)), ('A_major', array(0.98450305)), ('BalancedAccuracy', 0.8983508717877995)])}\n",
      "best val sp metrics : None\n",
      "train sp metrics: None\n",
      "best val balanced gcd metrics : {'meanBalancedGcdSp': 847.5928733386421, 'meanBalancedGcdGp': 983.3434251590701, 'medianBalancedGcdSp': 862.1782041181356, 'medianBalancedGcdGp': 880.1238600391921, 'median': 507.4490966796875}\n",
      "train balanced gcd metrics: {'meanBalancedGcdSp': 349.9616934236061, 'meanBalancedGcdGp': 473.6187598408302, 'medianBalancedGcdSp': 255.46220687890678, 'medianBalancedGcdGp': 416.00432274095226, 'median': 124.59101867675781}\n",
      "is the model on cuda? : True\n",
      "Finished 'batchLoopValid' in 0.9759 secs\n",
      "Finished 'main' in 29.3389 secs\n",
      "num_samples for gen [8] =800\n",
      "Finished 'run_recursive' in 40.3146 secs\n"
     ]
    },
    {
     "name": "stderr",
     "output_type": "stream",
     "text": [
      "INFO: __init__:src.main.dataset: Loading valid Dataset\n",
      "INFO: __init__:src.main.dataset:Loading gen 0\n",
      "INFO: __init__:src.main.dataset: snps data: (612, 317410)\n"
     ]
    },
    {
     "name": "stdout",
     "output_type": "stream",
     "text": [
      " device used: cuda\n",
      "Loading the datasets...\n"
     ]
    },
    {
     "name": "stderr",
     "output_type": "stream",
     "text": [
      "INFO: __init__:src.main.dataset: y_labels data :(612, 317410)\n",
      "INFO: transform_data:src.main.dataset:Transforming the data\n"
     ]
    },
    {
     "name": "stdout",
     "output_type": "stream",
     "text": [
      "Finished '_geoConvertLatLong2nVec' in 0.0113 secs\n",
      "Finished 'mapping_func' in 0.0634 secs\n",
      "Finished 'pop_mapping' in 0.0266 secs\n",
      "Finished 'pop_mapping' in 0.0260 secs\n",
      "Finished 'transform_data' in 6.6859 secs\n",
      "Finished '__init__' in 7.2002 secs\n",
      "Parameter count for model AuxNetwork:31747503\n",
      "Parameter count for model TransformerModel:133256\n",
      "Parameter count for model BiRNN:34499\n",
      "Parameter count for model logits_Block:2289\n",
      "Total parameters:31917547\n",
      "Finished 'load_model' in 0.1482 secs\n",
      "best val loss metrics : {'loss_main': 837.5976891592411, 'loss_aux': 2177.4945391933843, 'l1_loss': 0.19298167763685006, 'mse': 0.044127899415007554, 'smooth_l1': 0.02203047697393506, 'weighted_loss': 0.19298167763685006}\n",
      "at epoch : 183\n",
      "train loss metrics: {'loss_main': 275.2866365127619, 'loss_aux': 1618.251100275109, 'l1_loss': 0.061813042006208345, 'mse': 0.0061231461747121955, 'smooth_l1': 0.0030536770945753505, 'weighted_loss': 0.061813042006208345}\n",
      "best val cp metrics : {'loss_cp': 0.6768083546138789, 'prMetrics': OrderedDict([('Precision', array(0.06698455)), ('Recall', array(0.84820248)), ('Accuracy', array(0.80094344)), ('A_major', array(0.800144)), ('BalancedAccuracy', 0.8241732378574378)])}\n",
      "train cp metrics: {'loss_cp': 0.5279171083149946, 'prMetrics': OrderedDict([('Precision', array(0.25574094)), ('Recall', array(0.89794702)), ('Accuracy', array(0.96035905)), ('A_major', array(0.96128372)), ('BalancedAccuracy', 0.929615370975675)])}\n",
      "best val sp metrics : None\n",
      "train sp metrics: None\n",
      "best val balanced gcd metrics : {'meanBalancedGcdSp': 821.1345627288277, 'meanBalancedGcdGp': 984.1779095219819, 'medianBalancedGcdSp': 827.0826022613547, 'medianBalancedGcdGp': 787.2551252492523, 'median': 461.4395751953125}\n",
      "train balanced gcd metrics: {'meanBalancedGcdSp': 378.09116935597467, 'meanBalancedGcdGp': 523.1459564801853, 'medianBalancedGcdSp': 249.31050238614384, 'medianBalancedGcdGp': 414.68956049307343, 'median': 123.1456069946289}\n",
      "is the model on cuda? : True\n",
      "Finished 'batchLoopValid' in 0.4373 secs\n",
      "Finished 'main' in 7.9995 secs\n",
      "num_samples for gen [0] =612\n",
      "Finished 'run_recursive' in 30.9770 secs\n"
     ]
    },
    {
     "name": "stderr",
     "output_type": "stream",
     "text": [
      "INFO: __init__:src.main.dataset: Loading valid Dataset\n",
      "INFO: __init__:src.main.dataset:Loading gen 2\n",
      "INFO: __init__:src.main.dataset: snps data: (800, 317410)\n"
     ]
    },
    {
     "name": "stdout",
     "output_type": "stream",
     "text": [
      " device used: cuda\n",
      "Loading the datasets...\n"
     ]
    },
    {
     "name": "stderr",
     "output_type": "stream",
     "text": [
      "INFO: __init__:src.main.dataset: y_labels data :(800, 317410)\n",
      "INFO: transform_data:src.main.dataset:Transforming the data\n"
     ]
    },
    {
     "name": "stdout",
     "output_type": "stream",
     "text": [
      "Finished '_geoConvertLatLong2nVec' in 0.0148 secs\n",
      "Finished 'mapping_func' in 0.0811 secs\n",
      "Finished 'pop_mapping' in 0.0363 secs\n",
      "Finished 'pop_mapping' in 0.0354 secs\n",
      "Finished 'transform_data' in 8.7484 secs\n",
      "Finished '__init__' in 9.4055 secs\n",
      "Parameter count for model AuxNetwork:31747503\n",
      "Parameter count for model TransformerModel:133256\n",
      "Parameter count for model BiRNN:34499\n",
      "Parameter count for model logits_Block:2289\n",
      "Total parameters:31917547\n",
      "Finished 'load_model' in 0.1782 secs\n",
      "best val loss metrics : {'loss_main': 837.5976891592411, 'loss_aux': 2177.4945391933843, 'l1_loss': 0.19298167763685006, 'mse': 0.044127899415007554, 'smooth_l1': 0.02203047697393506, 'weighted_loss': 0.19298167763685006}\n",
      "at epoch : 183\n",
      "train loss metrics: {'loss_main': 275.2866365127619, 'loss_aux': 1618.251100275109, 'l1_loss': 0.061813042006208345, 'mse': 0.0061231461747121955, 'smooth_l1': 0.0030536770945753505, 'weighted_loss': 0.061813042006208345}\n",
      "best val cp metrics : {'loss_cp': 0.6768083546138789, 'prMetrics': OrderedDict([('Precision', array(0.06698455)), ('Recall', array(0.84820248)), ('Accuracy', array(0.80094344)), ('A_major', array(0.800144)), ('BalancedAccuracy', 0.8241732378574378)])}\n",
      "train cp metrics: {'loss_cp': 0.5279171083149946, 'prMetrics': OrderedDict([('Precision', array(0.25574094)), ('Recall', array(0.89794702)), ('Accuracy', array(0.96035905)), ('A_major', array(0.96128372)), ('BalancedAccuracy', 0.929615370975675)])}\n",
      "best val sp metrics : None\n",
      "train sp metrics: None\n",
      "best val balanced gcd metrics : {'meanBalancedGcdSp': 821.1345627288277, 'meanBalancedGcdGp': 984.1779095219819, 'medianBalancedGcdSp': 827.0826022613547, 'medianBalancedGcdGp': 787.2551252492523, 'median': 461.4395751953125}\n",
      "train balanced gcd metrics: {'meanBalancedGcdSp': 378.09116935597467, 'meanBalancedGcdGp': 523.1459564801853, 'medianBalancedGcdSp': 249.31050238614384, 'medianBalancedGcdGp': 414.68956049307343, 'median': 123.1456069946289}\n",
      "is the model on cuda? : True\n",
      "Finished 'batchLoopValid' in 0.7903 secs\n",
      "Finished 'main' in 10.5871 secs\n",
      "num_samples for gen [2] =800\n",
      "Finished 'run_recursive' in 40.6812 secs\n"
     ]
    },
    {
     "name": "stderr",
     "output_type": "stream",
     "text": [
      "INFO: __init__:src.main.dataset: Loading valid Dataset\n",
      "INFO: __init__:src.main.dataset:Loading gen 4\n",
      "INFO: __init__:src.main.dataset: snps data: (800, 317410)\n"
     ]
    },
    {
     "name": "stdout",
     "output_type": "stream",
     "text": [
      " device used: cuda\n",
      "Loading the datasets...\n"
     ]
    },
    {
     "name": "stderr",
     "output_type": "stream",
     "text": [
      "INFO: __init__:src.main.dataset: y_labels data :(800, 317410)\n",
      "INFO: transform_data:src.main.dataset:Transforming the data\n"
     ]
    },
    {
     "name": "stdout",
     "output_type": "stream",
     "text": [
      "Finished '_geoConvertLatLong2nVec' in 0.0157 secs\n",
      "Finished 'mapping_func' in 0.0831 secs\n",
      "Finished 'pop_mapping' in 0.0358 secs\n",
      "Finished 'pop_mapping' in 0.0355 secs\n",
      "Finished 'transform_data' in 8.7675 secs\n",
      "Finished '__init__' in 9.4251 secs\n",
      "Parameter count for model AuxNetwork:31747503\n",
      "Parameter count for model TransformerModel:133256\n",
      "Parameter count for model BiRNN:34499\n",
      "Parameter count for model logits_Block:2289\n",
      "Total parameters:31917547\n",
      "Finished 'load_model' in 0.1494 secs\n",
      "best val loss metrics : {'loss_main': 837.5976891592411, 'loss_aux': 2177.4945391933843, 'l1_loss': 0.19298167763685006, 'mse': 0.044127899415007554, 'smooth_l1': 0.02203047697393506, 'weighted_loss': 0.19298167763685006}\n",
      "at epoch : 183\n",
      "train loss metrics: {'loss_main': 275.2866365127619, 'loss_aux': 1618.251100275109, 'l1_loss': 0.061813042006208345, 'mse': 0.0061231461747121955, 'smooth_l1': 0.0030536770945753505, 'weighted_loss': 0.061813042006208345}\n",
      "best val cp metrics : {'loss_cp': 0.6768083546138789, 'prMetrics': OrderedDict([('Precision', array(0.06698455)), ('Recall', array(0.84820248)), ('Accuracy', array(0.80094344)), ('A_major', array(0.800144)), ('BalancedAccuracy', 0.8241732378574378)])}\n",
      "train cp metrics: {'loss_cp': 0.5279171083149946, 'prMetrics': OrderedDict([('Precision', array(0.25574094)), ('Recall', array(0.89794702)), ('Accuracy', array(0.96035905)), ('A_major', array(0.96128372)), ('BalancedAccuracy', 0.929615370975675)])}\n",
      "best val sp metrics : None\n",
      "train sp metrics: None\n",
      "best val balanced gcd metrics : {'meanBalancedGcdSp': 821.1345627288277, 'meanBalancedGcdGp': 984.1779095219819, 'medianBalancedGcdSp': 827.0826022613547, 'medianBalancedGcdGp': 787.2551252492523, 'median': 461.4395751953125}\n",
      "train balanced gcd metrics: {'meanBalancedGcdSp': 378.09116935597467, 'meanBalancedGcdGp': 523.1459564801853, 'medianBalancedGcdSp': 249.31050238614384, 'medianBalancedGcdGp': 414.68956049307343, 'median': 123.1456069946289}\n",
      "is the model on cuda? : True\n",
      "Finished 'batchLoopValid' in 0.9408 secs\n",
      "Finished 'main' in 10.7316 secs\n",
      "num_samples for gen [4] =800\n",
      "Finished 'run_recursive' in 40.3787 secs\n"
     ]
    },
    {
     "name": "stderr",
     "output_type": "stream",
     "text": [
      "INFO: __init__:src.main.dataset: Loading valid Dataset\n",
      "INFO: __init__:src.main.dataset:Loading gen 8\n",
      "INFO: __init__:src.main.dataset: snps data: (800, 317410)\n"
     ]
    },
    {
     "name": "stdout",
     "output_type": "stream",
     "text": [
      " device used: cuda\n",
      "Loading the datasets...\n"
     ]
    },
    {
     "name": "stderr",
     "output_type": "stream",
     "text": [
      "INFO: __init__:src.main.dataset: y_labels data :(800, 317410)\n",
      "INFO: transform_data:src.main.dataset:Transforming the data\n"
     ]
    },
    {
     "name": "stdout",
     "output_type": "stream",
     "text": [
      "Finished '_geoConvertLatLong2nVec' in 0.0150 secs\n",
      "Finished 'mapping_func' in 0.0827 secs\n",
      "Finished 'pop_mapping' in 0.0357 secs\n",
      "Finished 'pop_mapping' in 0.0346 secs\n",
      "Finished 'transform_data' in 8.7402 secs\n",
      "Finished '__init__' in 9.3947 secs\n",
      "Parameter count for model AuxNetwork:31747503\n",
      "Parameter count for model TransformerModel:133256\n",
      "Parameter count for model BiRNN:34499\n",
      "Parameter count for model logits_Block:2289\n",
      "Total parameters:31917547\n",
      "Finished 'load_model' in 0.1487 secs\n",
      "best val loss metrics : {'loss_main': 837.5976891592411, 'loss_aux': 2177.4945391933843, 'l1_loss': 0.19298167763685006, 'mse': 0.044127899415007554, 'smooth_l1': 0.02203047697393506, 'weighted_loss': 0.19298167763685006}\n",
      "at epoch : 183\n",
      "train loss metrics: {'loss_main': 275.2866365127619, 'loss_aux': 1618.251100275109, 'l1_loss': 0.061813042006208345, 'mse': 0.0061231461747121955, 'smooth_l1': 0.0030536770945753505, 'weighted_loss': 0.061813042006208345}\n",
      "best val cp metrics : {'loss_cp': 0.6768083546138789, 'prMetrics': OrderedDict([('Precision', array(0.06698455)), ('Recall', array(0.84820248)), ('Accuracy', array(0.80094344)), ('A_major', array(0.800144)), ('BalancedAccuracy', 0.8241732378574378)])}\n",
      "train cp metrics: {'loss_cp': 0.5279171083149946, 'prMetrics': OrderedDict([('Precision', array(0.25574094)), ('Recall', array(0.89794702)), ('Accuracy', array(0.96035905)), ('A_major', array(0.96128372)), ('BalancedAccuracy', 0.929615370975675)])}\n",
      "best val sp metrics : None\n",
      "train sp metrics: None\n",
      "best val balanced gcd metrics : {'meanBalancedGcdSp': 821.1345627288277, 'meanBalancedGcdGp': 984.1779095219819, 'medianBalancedGcdSp': 827.0826022613547, 'medianBalancedGcdGp': 787.2551252492523, 'median': 461.4395751953125}\n",
      "train balanced gcd metrics: {'meanBalancedGcdSp': 378.09116935597467, 'meanBalancedGcdGp': 523.1459564801853, 'medianBalancedGcdSp': 249.31050238614384, 'medianBalancedGcdGp': 414.68956049307343, 'median': 123.1456069946289}\n",
      "is the model on cuda? : True\n",
      "Finished 'batchLoopValid' in 1.1021 secs\n",
      "Finished 'main' in 10.8510 secs\n",
      "num_samples for gen [8] =800\n",
      "Finished 'run_recursive' in 40.4165 secs\n"
     ]
    },
    {
     "name": "stderr",
     "output_type": "stream",
     "text": [
      "INFO: __init__:src.main.dataset: Loading valid Dataset\n",
      "INFO: __init__:src.main.dataset:Loading gen 0\n",
      "INFO: __init__:src.main.dataset: snps data: (612, 317410)\n"
     ]
    },
    {
     "name": "stdout",
     "output_type": "stream",
     "text": [
      " device used: cuda\n",
      "Loading the datasets...\n"
     ]
    },
    {
     "name": "stderr",
     "output_type": "stream",
     "text": [
      "INFO: __init__:src.main.dataset: y_labels data :(612, 317410)\n",
      "INFO: transform_data:src.main.dataset:Transforming the data\n"
     ]
    },
    {
     "name": "stdout",
     "output_type": "stream",
     "text": [
      "Finished '_geoConvertLatLong2nVec' in 0.0113 secs\n",
      "Finished 'mapping_func' in 0.0635 secs\n",
      "Finished 'pop_mapping' in 0.0274 secs\n",
      "Finished 'pop_mapping' in 0.0270 secs\n",
      "Finished 'transform_data' in 6.7124 secs\n",
      "Finished '__init__' in 7.2016 secs\n",
      "Parameter count for model AuxNetwork:31747503\n",
      "Parameter count for model TransformerModel:133256\n",
      "Parameter count for model BiRNN:34499\n",
      "Parameter count for model logits_Block:2289\n",
      "Total parameters:31917547\n",
      "Finished 'load_model' in 0.1480 secs\n",
      "best val loss metrics : {'loss_main': 836.0798488485595, 'loss_aux': 2152.1262835094954, 'l1_loss': 0.19240272414547907, 'mse': 0.04447463351996686, 'smooth_l1': 0.022191767132209692, 'weighted_loss': 0.19240272414547907}\n",
      "at epoch : 238\n",
      "train loss metrics: {'loss_main': 218.46175901968778, 'loss_aux': 1485.8314123327116, 'l1_loss': 0.046999104912408475, 'mse': 0.003854911350544717, 'smooth_l1': 0.0019230075228341427, 'weighted_loss': 0.046999104912408475}\n",
      "best val cp metrics : {'loss_cp': 0.019878406516587763, 'prMetrics': OrderedDict([('Precision', array(0.)), ('Recall', array(0.)), ('Accuracy', array(0.98336517)), ('A_major', array(1.)), ('BalancedAccuracy', 0.5)])}\n",
      "train cp metrics: {'loss_cp': 0.01903197231413228, 'prMetrics': OrderedDict([('Precision', array(0.)), ('Recall', array(0.)), ('Accuracy', array(0.9854007)), ('A_major', array(1.)), ('BalancedAccuracy', 0.5)])}\n",
      "best val sp metrics : None\n",
      "train sp metrics: None\n",
      "best val balanced gcd metrics : {'meanBalancedGcdSp': 799.4577393573433, 'meanBalancedGcdGp': 956.5323609536281, 'medianBalancedGcdSp': 823.3493095628473, 'medianBalancedGcdGp': 864.5888205556256, 'median': 452.2863464355469}\n",
      "train balanced gcd metrics: {'meanBalancedGcdSp': 308.49955039564946, 'meanBalancedGcdGp': 406.2450776863834, 'medianBalancedGcdSp': 211.9825854236464, 'medianBalancedGcdGp': 359.1320566537453, 'median': 90.10777282714844}\n",
      "is the model on cuda? : True\n",
      "Finished 'batchLoopValid' in 0.5031 secs\n",
      "Finished 'main' in 8.0662 secs\n",
      "num_samples for gen [0] =612\n",
      "Finished 'run_recursive' in 31.1691 secs\n"
     ]
    },
    {
     "name": "stderr",
     "output_type": "stream",
     "text": [
      "INFO: __init__:src.main.dataset: Loading valid Dataset\n",
      "INFO: __init__:src.main.dataset:Loading gen 2\n",
      "INFO: __init__:src.main.dataset: snps data: (800, 317410)\n"
     ]
    },
    {
     "name": "stdout",
     "output_type": "stream",
     "text": [
      " device used: cuda\n",
      "Loading the datasets...\n"
     ]
    },
    {
     "name": "stderr",
     "output_type": "stream",
     "text": [
      "INFO: __init__:src.main.dataset: y_labels data :(800, 317410)\n",
      "INFO: transform_data:src.main.dataset:Transforming the data\n"
     ]
    },
    {
     "name": "stdout",
     "output_type": "stream",
     "text": [
      "Finished '_geoConvertLatLong2nVec' in 0.0148 secs\n",
      "Finished 'mapping_func' in 0.0819 secs\n",
      "Finished 'pop_mapping' in 0.0357 secs\n",
      "Finished 'pop_mapping' in 0.0349 secs\n",
      "Finished 'transform_data' in 8.7573 secs\n",
      "Finished '__init__' in 9.3855 secs\n",
      "Parameter count for model AuxNetwork:31747503\n",
      "Parameter count for model TransformerModel:133256\n",
      "Parameter count for model BiRNN:34499\n",
      "Parameter count for model logits_Block:2289\n",
      "Total parameters:31917547\n",
      "Finished 'load_model' in 0.1634 secs\n",
      "best val loss metrics : {'loss_main': 836.0798488485595, 'loss_aux': 2152.1262835094954, 'l1_loss': 0.19240272414547907, 'mse': 0.04447463351996686, 'smooth_l1': 0.022191767132209692, 'weighted_loss': 0.19240272414547907}\n",
      "at epoch : 238\n",
      "train loss metrics: {'loss_main': 218.46175901968778, 'loss_aux': 1485.8314123327116, 'l1_loss': 0.046999104912408475, 'mse': 0.003854911350544717, 'smooth_l1': 0.0019230075228341427, 'weighted_loss': 0.046999104912408475}\n",
      "best val cp metrics : {'loss_cp': 0.019878406516587763, 'prMetrics': OrderedDict([('Precision', array(0.)), ('Recall', array(0.)), ('Accuracy', array(0.98336517)), ('A_major', array(1.)), ('BalancedAccuracy', 0.5)])}\n",
      "train cp metrics: {'loss_cp': 0.01903197231413228, 'prMetrics': OrderedDict([('Precision', array(0.)), ('Recall', array(0.)), ('Accuracy', array(0.9854007)), ('A_major', array(1.)), ('BalancedAccuracy', 0.5)])}\n",
      "best val sp metrics : None\n",
      "train sp metrics: None\n",
      "best val balanced gcd metrics : {'meanBalancedGcdSp': 799.4577393573433, 'meanBalancedGcdGp': 956.5323609536281, 'medianBalancedGcdSp': 823.3493095628473, 'medianBalancedGcdGp': 864.5888205556256, 'median': 452.2863464355469}\n",
      "train balanced gcd metrics: {'meanBalancedGcdSp': 308.49955039564946, 'meanBalancedGcdGp': 406.2450776863834, 'medianBalancedGcdSp': 211.9825854236464, 'medianBalancedGcdGp': 359.1320566537453, 'median': 90.10777282714844}\n",
      "is the model on cuda? : True\n",
      "Finished 'batchLoopValid' in 0.5640 secs\n",
      "Finished 'main' in 10.3218 secs\n",
      "num_samples for gen [2] =800\n",
      "Finished 'run_recursive' in 40.6579 secs\n"
     ]
    },
    {
     "name": "stderr",
     "output_type": "stream",
     "text": [
      "INFO: __init__:src.main.dataset: Loading valid Dataset\n",
      "INFO: __init__:src.main.dataset:Loading gen 4\n",
      "INFO: __init__:src.main.dataset: snps data: (800, 317410)\n"
     ]
    },
    {
     "name": "stdout",
     "output_type": "stream",
     "text": [
      " device used: cuda\n",
      "Loading the datasets...\n"
     ]
    },
    {
     "name": "stderr",
     "output_type": "stream",
     "text": [
      "INFO: __init__:src.main.dataset: y_labels data :(800, 317410)\n",
      "INFO: transform_data:src.main.dataset:Transforming the data\n"
     ]
    },
    {
     "name": "stdout",
     "output_type": "stream",
     "text": [
      "Finished '_geoConvertLatLong2nVec' in 0.0157 secs\n",
      "Finished 'mapping_func' in 0.0845 secs\n",
      "Finished 'pop_mapping' in 0.0355 secs\n",
      "Finished 'pop_mapping' in 0.0348 secs\n",
      "Finished 'transform_data' in 8.7634 secs\n",
      "Finished '__init__' in 9.3909 secs\n",
      "Parameter count for model AuxNetwork:31747503\n",
      "Parameter count for model TransformerModel:133256\n",
      "Parameter count for model BiRNN:34499\n",
      "Parameter count for model logits_Block:2289\n",
      "Total parameters:31917547\n",
      "Finished 'load_model' in 0.2343 secs\n",
      "best val loss metrics : {'loss_main': 836.0798488485595, 'loss_aux': 2152.1262835094954, 'l1_loss': 0.19240272414547907, 'mse': 0.04447463351996686, 'smooth_l1': 0.022191767132209692, 'weighted_loss': 0.19240272414547907}\n",
      "at epoch : 238\n",
      "train loss metrics: {'loss_main': 218.46175901968778, 'loss_aux': 1485.8314123327116, 'l1_loss': 0.046999104912408475, 'mse': 0.003854911350544717, 'smooth_l1': 0.0019230075228341427, 'weighted_loss': 0.046999104912408475}\n",
      "best val cp metrics : {'loss_cp': 0.019878406516587763, 'prMetrics': OrderedDict([('Precision', array(0.)), ('Recall', array(0.)), ('Accuracy', array(0.98336517)), ('A_major', array(1.)), ('BalancedAccuracy', 0.5)])}\n",
      "train cp metrics: {'loss_cp': 0.01903197231413228, 'prMetrics': OrderedDict([('Precision', array(0.)), ('Recall', array(0.)), ('Accuracy', array(0.9854007)), ('A_major', array(1.)), ('BalancedAccuracy', 0.5)])}\n",
      "best val sp metrics : None\n",
      "train sp metrics: None\n",
      "best val balanced gcd metrics : {'meanBalancedGcdSp': 799.4577393573433, 'meanBalancedGcdGp': 956.5323609536281, 'medianBalancedGcdSp': 823.3493095628473, 'medianBalancedGcdGp': 864.5888205556256, 'median': 452.2863464355469}\n",
      "train balanced gcd metrics: {'meanBalancedGcdSp': 308.49955039564946, 'meanBalancedGcdGp': 406.2450776863834, 'medianBalancedGcdSp': 211.9825854236464, 'medianBalancedGcdGp': 359.1320566537453, 'median': 90.10777282714844}\n",
      "is the model on cuda? : True\n",
      "Finished 'batchLoopValid' in 0.5747 secs\n",
      "Finished 'main' in 10.4153 secs\n",
      "num_samples for gen [4] =800\n",
      "Finished 'run_recursive' in 40.5434 secs\n"
     ]
    },
    {
     "name": "stderr",
     "output_type": "stream",
     "text": [
      "INFO: __init__:src.main.dataset: Loading valid Dataset\n",
      "INFO: __init__:src.main.dataset:Loading gen 8\n",
      "INFO: __init__:src.main.dataset: snps data: (800, 317410)\n"
     ]
    },
    {
     "name": "stdout",
     "output_type": "stream",
     "text": [
      " device used: cuda\n",
      "Loading the datasets...\n"
     ]
    },
    {
     "name": "stderr",
     "output_type": "stream",
     "text": [
      "INFO: __init__:src.main.dataset: y_labels data :(800, 317410)\n",
      "INFO: transform_data:src.main.dataset:Transforming the data\n"
     ]
    },
    {
     "name": "stdout",
     "output_type": "stream",
     "text": [
      "Finished '_geoConvertLatLong2nVec' in 0.0150 secs\n",
      "Finished 'mapping_func' in 0.0818 secs\n",
      "Finished 'pop_mapping' in 0.0360 secs\n",
      "Finished 'pop_mapping' in 0.0349 secs\n",
      "Finished 'transform_data' in 8.7983 secs\n",
      "Finished '__init__' in 9.4282 secs\n",
      "Parameter count for model AuxNetwork:31747503\n",
      "Parameter count for model TransformerModel:133256\n",
      "Parameter count for model BiRNN:34499\n",
      "Parameter count for model logits_Block:2289\n",
      "Total parameters:31917547\n",
      "Finished 'load_model' in 0.1504 secs\n",
      "best val loss metrics : {'loss_main': 836.0798488485595, 'loss_aux': 2152.1262835094954, 'l1_loss': 0.19240272414547907, 'mse': 0.04447463351996686, 'smooth_l1': 0.022191767132209692, 'weighted_loss': 0.19240272414547907}\n",
      "at epoch : 238\n",
      "train loss metrics: {'loss_main': 218.46175901968778, 'loss_aux': 1485.8314123327116, 'l1_loss': 0.046999104912408475, 'mse': 0.003854911350544717, 'smooth_l1': 0.0019230075228341427, 'weighted_loss': 0.046999104912408475}\n",
      "best val cp metrics : {'loss_cp': 0.019878406516587763, 'prMetrics': OrderedDict([('Precision', array(0.)), ('Recall', array(0.)), ('Accuracy', array(0.98336517)), ('A_major', array(1.)), ('BalancedAccuracy', 0.5)])}\n",
      "train cp metrics: {'loss_cp': 0.01903197231413228, 'prMetrics': OrderedDict([('Precision', array(0.)), ('Recall', array(0.)), ('Accuracy', array(0.9854007)), ('A_major', array(1.)), ('BalancedAccuracy', 0.5)])}\n",
      "best val sp metrics : None\n",
      "train sp metrics: None\n",
      "best val balanced gcd metrics : {'meanBalancedGcdSp': 799.4577393573433, 'meanBalancedGcdGp': 956.5323609536281, 'medianBalancedGcdSp': 823.3493095628473, 'medianBalancedGcdGp': 864.5888205556256, 'median': 452.2863464355469}\n",
      "train balanced gcd metrics: {'meanBalancedGcdSp': 308.49955039564946, 'meanBalancedGcdGp': 406.2450776863834, 'medianBalancedGcdSp': 211.9825854236464, 'medianBalancedGcdGp': 359.1320566537453, 'median': 90.10777282714844}\n",
      "is the model on cuda? : True\n",
      "Finished 'batchLoopValid' in 0.6059 secs\n",
      "Finished 'main' in 10.4003 secs\n",
      "num_samples for gen [8] =800\n",
      "Finished 'run_recursive' in 40.4955 secs\n"
     ]
    }
   ],
   "source": [
    "results_test = loadModelStats(data_id, model_id_data_id, dataset_type=\"test\")\n",
    "results_valid = loadModelStats(data_id, model_id_data_id, dataset_type=\"valid\")"
   ]
  },
  {
   "cell_type": "code",
   "execution_count": 9,
   "metadata": {
    "collapsed": true
   },
   "outputs": [],
   "source": [
    "def get_all_accr_new(results, gens, dataset):\n",
    "    col_names = ['gen', 'dataset', 'num_samples']\n",
    "    col_names += list(results[str(gens[0])]['loss_main_w_masks'].keys())\n",
    "    col_names += ['meanBalancedGcdGp']\n",
    "    test=[]\n",
    "    for gen in gens:\n",
    "        if results.get(str(gen)) is None: continue\n",
    "        test_gen = [gen[0], dataset, results.get(str(gen))['num_samples']]\n",
    "        test_gen += list(results.get(str(gen))['loss_main_w_masks'].values())\n",
    "        test_gen.append(results.get(str(gen))['meanBalancedGcdGp'])\n",
    "        test.append(test_gen)\n",
    "    \n",
    "    df_test = pd.DataFrame(test)\n",
    "    df_test.columns = col_names\n",
    "    \n",
    "    df_all_gens=['all_gens', dataset, sum(df_test['num_samples'])]\n",
    "    for col in ['no_mask' , 'trueCpMask', 'intersectCpMask', 'predCpMask', 'meanBalancedGcdGp']:\n",
    "        df_all_gens.append(sum(df_test['num_samples']*df_test[col])/sum(df_test['num_samples']))\n",
    "    df_all_gens=pd.DataFrame([df_all_gens])\n",
    "    df_all_gens.columns = col_names\n",
    "    df_test = pd.concat([df_test, df_all_gens]).reset_index(drop=True)\n",
    "    \n",
    "    return df_test"
   ]
  },
  {
   "cell_type": "code",
   "execution_count": 10,
   "metadata": {},
   "outputs": [
    {
     "name": "stdout",
     "output_type": "stream",
     "text": [
      "Model_id_data_id: Model_Q_exp_id_3_data_id_4_geo\n"
     ]
    },
    {
     "data": {
      "text/html": [
       "<div>\n",
       "<style scoped>\n",
       "    .dataframe tbody tr th:only-of-type {\n",
       "        vertical-align: middle;\n",
       "    }\n",
       "\n",
       "    .dataframe tbody tr th {\n",
       "        vertical-align: top;\n",
       "    }\n",
       "\n",
       "    .dataframe thead th {\n",
       "        text-align: right;\n",
       "    }\n",
       "</style>\n",
       "<table border=\"1\" class=\"dataframe\">\n",
       "  <thead>\n",
       "    <tr style=\"text-align: right;\">\n",
       "      <th></th>\n",
       "      <th>gen</th>\n",
       "      <th>dataset</th>\n",
       "      <th>num_samples</th>\n",
       "      <th>no_mask</th>\n",
       "      <th>trueCpMask</th>\n",
       "      <th>intersectCpMask</th>\n",
       "      <th>predCpMask</th>\n",
       "      <th>meanBalancedGcdGp</th>\n",
       "    </tr>\n",
       "  </thead>\n",
       "  <tbody>\n",
       "    <tr>\n",
       "      <th>0</th>\n",
       "      <td>0</td>\n",
       "      <td>valid</td>\n",
       "      <td>612</td>\n",
       "      <td>622.826550</td>\n",
       "      <td>622.824630</td>\n",
       "      <td>622.824630</td>\n",
       "      <td>620.371282</td>\n",
       "      <td>736.513418</td>\n",
       "    </tr>\n",
       "    <tr>\n",
       "      <th>1</th>\n",
       "      <td>2</td>\n",
       "      <td>valid</td>\n",
       "      <td>800</td>\n",
       "      <td>801.032303</td>\n",
       "      <td>783.732002</td>\n",
       "      <td>787.693799</td>\n",
       "      <td>792.968200</td>\n",
       "      <td>936.533550</td>\n",
       "    </tr>\n",
       "    <tr>\n",
       "      <th>2</th>\n",
       "      <td>4</td>\n",
       "      <td>valid</td>\n",
       "      <td>800</td>\n",
       "      <td>900.781017</td>\n",
       "      <td>867.527821</td>\n",
       "      <td>876.554423</td>\n",
       "      <td>887.305242</td>\n",
       "      <td>1037.788212</td>\n",
       "    </tr>\n",
       "    <tr>\n",
       "      <th>3</th>\n",
       "      <td>8</td>\n",
       "      <td>valid</td>\n",
       "      <td>800</td>\n",
       "      <td>1084.776755</td>\n",
       "      <td>1023.772114</td>\n",
       "      <td>1040.539002</td>\n",
       "      <td>1062.319291</td>\n",
       "      <td>1223.572165</td>\n",
       "    </tr>\n",
       "    <tr>\n",
       "      <th>4</th>\n",
       "      <td>all_gens</td>\n",
       "      <td>valid</td>\n",
       "      <td>3012</td>\n",
       "      <td>866.680581</td>\n",
       "      <td>837.049875</td>\n",
       "      <td>844.953006</td>\n",
       "      <td>854.495820</td>\n",
       "      <td>999.024354</td>\n",
       "    </tr>\n",
       "  </tbody>\n",
       "</table>\n",
       "</div>"
      ],
      "text/plain": [
       "        gen dataset  num_samples      no_mask   trueCpMask  intersectCpMask  \\\n",
       "0         0   valid          612   622.826550   622.824630       622.824630   \n",
       "1         2   valid          800   801.032303   783.732002       787.693799   \n",
       "2         4   valid          800   900.781017   867.527821       876.554423   \n",
       "3         8   valid          800  1084.776755  1023.772114      1040.539002   \n",
       "4  all_gens   valid         3012   866.680581   837.049875       844.953006   \n",
       "\n",
       "    predCpMask  meanBalancedGcdGp  \n",
       "0   620.371282         736.513418  \n",
       "1   792.968200         936.533550  \n",
       "2   887.305242        1037.788212  \n",
       "3  1062.319291        1223.572165  \n",
       "4   854.495820         999.024354  "
      ]
     },
     "metadata": {},
     "output_type": "display_data"
    },
    {
     "data": {
      "text/html": [
       "<div>\n",
       "<style scoped>\n",
       "    .dataframe tbody tr th:only-of-type {\n",
       "        vertical-align: middle;\n",
       "    }\n",
       "\n",
       "    .dataframe tbody tr th {\n",
       "        vertical-align: top;\n",
       "    }\n",
       "\n",
       "    .dataframe thead th {\n",
       "        text-align: right;\n",
       "    }\n",
       "</style>\n",
       "<table border=\"1\" class=\"dataframe\">\n",
       "  <thead>\n",
       "    <tr style=\"text-align: right;\">\n",
       "      <th></th>\n",
       "      <th>gen</th>\n",
       "      <th>dataset</th>\n",
       "      <th>num_samples</th>\n",
       "      <th>no_mask</th>\n",
       "      <th>trueCpMask</th>\n",
       "      <th>intersectCpMask</th>\n",
       "      <th>predCpMask</th>\n",
       "      <th>meanBalancedGcdGp</th>\n",
       "    </tr>\n",
       "  </thead>\n",
       "  <tbody>\n",
       "    <tr>\n",
       "      <th>0</th>\n",
       "      <td>0</td>\n",
       "      <td>test</td>\n",
       "      <td>540</td>\n",
       "      <td>588.810615</td>\n",
       "      <td>588.808458</td>\n",
       "      <td>588.808458</td>\n",
       "      <td>586.386368</td>\n",
       "      <td>674.742117</td>\n",
       "    </tr>\n",
       "    <tr>\n",
       "      <th>1</th>\n",
       "      <td>2</td>\n",
       "      <td>test</td>\n",
       "      <td>800</td>\n",
       "      <td>735.841512</td>\n",
       "      <td>718.426744</td>\n",
       "      <td>722.865618</td>\n",
       "      <td>728.379502</td>\n",
       "      <td>907.908691</td>\n",
       "    </tr>\n",
       "    <tr>\n",
       "      <th>2</th>\n",
       "      <td>4</td>\n",
       "      <td>test</td>\n",
       "      <td>800</td>\n",
       "      <td>871.574138</td>\n",
       "      <td>838.546458</td>\n",
       "      <td>847.971394</td>\n",
       "      <td>858.952272</td>\n",
       "      <td>957.419337</td>\n",
       "    </tr>\n",
       "    <tr>\n",
       "      <th>3</th>\n",
       "      <td>8</td>\n",
       "      <td>test</td>\n",
       "      <td>800</td>\n",
       "      <td>1040.129168</td>\n",
       "      <td>979.627320</td>\n",
       "      <td>997.054585</td>\n",
       "      <td>1018.132121</td>\n",
       "      <td>1147.204468</td>\n",
       "    </tr>\n",
       "    <tr>\n",
       "      <th>4</th>\n",
       "      <td>all_gens</td>\n",
       "      <td>test</td>\n",
       "      <td>2940</td>\n",
       "      <td>828.569247</td>\n",
       "      <td>798.379927</td>\n",
       "      <td>806.894505</td>\n",
       "      <td>816.673386</td>\n",
       "      <td>943.668959</td>\n",
       "    </tr>\n",
       "  </tbody>\n",
       "</table>\n",
       "</div>"
      ],
      "text/plain": [
       "        gen dataset  num_samples      no_mask  trueCpMask  intersectCpMask  \\\n",
       "0         0    test          540   588.810615  588.808458       588.808458   \n",
       "1         2    test          800   735.841512  718.426744       722.865618   \n",
       "2         4    test          800   871.574138  838.546458       847.971394   \n",
       "3         8    test          800  1040.129168  979.627320       997.054585   \n",
       "4  all_gens    test         2940   828.569247  798.379927       806.894505   \n",
       "\n",
       "    predCpMask  meanBalancedGcdGp  \n",
       "0   586.386368         674.742117  \n",
       "1   728.379502         907.908691  \n",
       "2   858.952272         957.419337  \n",
       "3  1018.132121        1147.204468  \n",
       "4   816.673386         943.668959  "
      ]
     },
     "metadata": {},
     "output_type": "display_data"
    },
    {
     "name": "stdout",
     "output_type": "stream",
     "text": [
      "Model_id_data_id: Model_Q_exp_id_31_data_id_4_geo\n"
     ]
    },
    {
     "data": {
      "text/html": [
       "<div>\n",
       "<style scoped>\n",
       "    .dataframe tbody tr th:only-of-type {\n",
       "        vertical-align: middle;\n",
       "    }\n",
       "\n",
       "    .dataframe tbody tr th {\n",
       "        vertical-align: top;\n",
       "    }\n",
       "\n",
       "    .dataframe thead th {\n",
       "        text-align: right;\n",
       "    }\n",
       "</style>\n",
       "<table border=\"1\" class=\"dataframe\">\n",
       "  <thead>\n",
       "    <tr style=\"text-align: right;\">\n",
       "      <th></th>\n",
       "      <th>gen</th>\n",
       "      <th>dataset</th>\n",
       "      <th>num_samples</th>\n",
       "      <th>no_mask</th>\n",
       "      <th>trueCpMask</th>\n",
       "      <th>intersectCpMask</th>\n",
       "      <th>predCpMask</th>\n",
       "      <th>meanBalancedGcdGp</th>\n",
       "    </tr>\n",
       "  </thead>\n",
       "  <tbody>\n",
       "    <tr>\n",
       "      <th>0</th>\n",
       "      <td>0</td>\n",
       "      <td>valid</td>\n",
       "      <td>612</td>\n",
       "      <td>582.790437</td>\n",
       "      <td>582.788393</td>\n",
       "      <td>582.788393</td>\n",
       "      <td>580.060035</td>\n",
       "      <td>748.009818</td>\n",
       "    </tr>\n",
       "    <tr>\n",
       "      <th>1</th>\n",
       "      <td>2</td>\n",
       "      <td>valid</td>\n",
       "      <td>800</td>\n",
       "      <td>775.191526</td>\n",
       "      <td>757.729652</td>\n",
       "      <td>761.496534</td>\n",
       "      <td>766.950597</td>\n",
       "      <td>931.358239</td>\n",
       "    </tr>\n",
       "    <tr>\n",
       "      <th>2</th>\n",
       "      <td>4</td>\n",
       "      <td>valid</td>\n",
       "      <td>800</td>\n",
       "      <td>865.516491</td>\n",
       "      <td>831.654867</td>\n",
       "      <td>840.839864</td>\n",
       "      <td>851.578355</td>\n",
       "      <td>1046.757159</td>\n",
       "    </tr>\n",
       "    <tr>\n",
       "      <th>3</th>\n",
       "      <td>8</td>\n",
       "      <td>valid</td>\n",
       "      <td>800</td>\n",
       "      <td>1067.012634</td>\n",
       "      <td>1006.893575</td>\n",
       "      <td>1023.991807</td>\n",
       "      <td>1047.082351</td>\n",
       "      <td>1214.567112</td>\n",
       "    </tr>\n",
       "    <tr>\n",
       "      <th>4</th>\n",
       "      <td>all_gens</td>\n",
       "      <td>valid</td>\n",
       "      <td>3012</td>\n",
       "      <td>837.597699</td>\n",
       "      <td>807.997667</td>\n",
       "      <td>815.979104</td>\n",
       "      <td>825.858494</td>\n",
       "      <td>999.976101</td>\n",
       "    </tr>\n",
       "  </tbody>\n",
       "</table>\n",
       "</div>"
      ],
      "text/plain": [
       "        gen dataset  num_samples      no_mask   trueCpMask  intersectCpMask  \\\n",
       "0         0   valid          612   582.790437   582.788393       582.788393   \n",
       "1         2   valid          800   775.191526   757.729652       761.496534   \n",
       "2         4   valid          800   865.516491   831.654867       840.839864   \n",
       "3         8   valid          800  1067.012634  1006.893575      1023.991807   \n",
       "4  all_gens   valid         3012   837.597699   807.997667       815.979104   \n",
       "\n",
       "    predCpMask  meanBalancedGcdGp  \n",
       "0   580.060035         748.009818  \n",
       "1   766.950597         931.358239  \n",
       "2   851.578355        1046.757159  \n",
       "3  1047.082351        1214.567112  \n",
       "4   825.858494         999.976101  "
      ]
     },
     "metadata": {},
     "output_type": "display_data"
    },
    {
     "data": {
      "text/html": [
       "<div>\n",
       "<style scoped>\n",
       "    .dataframe tbody tr th:only-of-type {\n",
       "        vertical-align: middle;\n",
       "    }\n",
       "\n",
       "    .dataframe tbody tr th {\n",
       "        vertical-align: top;\n",
       "    }\n",
       "\n",
       "    .dataframe thead th {\n",
       "        text-align: right;\n",
       "    }\n",
       "</style>\n",
       "<table border=\"1\" class=\"dataframe\">\n",
       "  <thead>\n",
       "    <tr style=\"text-align: right;\">\n",
       "      <th></th>\n",
       "      <th>gen</th>\n",
       "      <th>dataset</th>\n",
       "      <th>num_samples</th>\n",
       "      <th>no_mask</th>\n",
       "      <th>trueCpMask</th>\n",
       "      <th>intersectCpMask</th>\n",
       "      <th>predCpMask</th>\n",
       "      <th>meanBalancedGcdGp</th>\n",
       "    </tr>\n",
       "  </thead>\n",
       "  <tbody>\n",
       "    <tr>\n",
       "      <th>0</th>\n",
       "      <td>0</td>\n",
       "      <td>test</td>\n",
       "      <td>540</td>\n",
       "      <td>552.054358</td>\n",
       "      <td>552.052061</td>\n",
       "      <td>552.052061</td>\n",
       "      <td>549.524409</td>\n",
       "      <td>657.846607</td>\n",
       "    </tr>\n",
       "    <tr>\n",
       "      <th>1</th>\n",
       "      <td>2</td>\n",
       "      <td>test</td>\n",
       "      <td>800</td>\n",
       "      <td>715.797979</td>\n",
       "      <td>698.504330</td>\n",
       "      <td>702.978124</td>\n",
       "      <td>707.766332</td>\n",
       "      <td>893.677718</td>\n",
       "    </tr>\n",
       "    <tr>\n",
       "      <th>2</th>\n",
       "      <td>4</td>\n",
       "      <td>test</td>\n",
       "      <td>800</td>\n",
       "      <td>855.217303</td>\n",
       "      <td>821.937341</td>\n",
       "      <td>831.506360</td>\n",
       "      <td>843.748474</td>\n",
       "      <td>959.769180</td>\n",
       "    </tr>\n",
       "    <tr>\n",
       "      <th>3</th>\n",
       "      <td>8</td>\n",
       "      <td>test</td>\n",
       "      <td>800</td>\n",
       "      <td>1015.760852</td>\n",
       "      <td>955.607743</td>\n",
       "      <td>973.534594</td>\n",
       "      <td>996.541371</td>\n",
       "      <td>1129.455668</td>\n",
       "    </tr>\n",
       "    <tr>\n",
       "      <th>4</th>\n",
       "      <td>all_gens</td>\n",
       "      <td>test</td>\n",
       "      <td>2940</td>\n",
       "      <td>805.282401</td>\n",
       "      <td>775.152260</td>\n",
       "      <td>783.851488</td>\n",
       "      <td>794.281674</td>\n",
       "      <td>932.503136</td>\n",
       "    </tr>\n",
       "  </tbody>\n",
       "</table>\n",
       "</div>"
      ],
      "text/plain": [
       "        gen dataset  num_samples      no_mask  trueCpMask  intersectCpMask  \\\n",
       "0         0    test          540   552.054358  552.052061       552.052061   \n",
       "1         2    test          800   715.797979  698.504330       702.978124   \n",
       "2         4    test          800   855.217303  821.937341       831.506360   \n",
       "3         8    test          800  1015.760852  955.607743       973.534594   \n",
       "4  all_gens    test         2940   805.282401  775.152260       783.851488   \n",
       "\n",
       "   predCpMask  meanBalancedGcdGp  \n",
       "0  549.524409         657.846607  \n",
       "1  707.766332         893.677718  \n",
       "2  843.748474         959.769180  \n",
       "3  996.541371        1129.455668  \n",
       "4  794.281674         932.503136  "
      ]
     },
     "metadata": {},
     "output_type": "display_data"
    },
    {
     "name": "stdout",
     "output_type": "stream",
     "text": [
      "Model_id_data_id: Model_Q_exp_id_37_data_id_4_geo\n"
     ]
    },
    {
     "data": {
      "text/html": [
       "<div>\n",
       "<style scoped>\n",
       "    .dataframe tbody tr th:only-of-type {\n",
       "        vertical-align: middle;\n",
       "    }\n",
       "\n",
       "    .dataframe tbody tr th {\n",
       "        vertical-align: top;\n",
       "    }\n",
       "\n",
       "    .dataframe thead th {\n",
       "        text-align: right;\n",
       "    }\n",
       "</style>\n",
       "<table border=\"1\" class=\"dataframe\">\n",
       "  <thead>\n",
       "    <tr style=\"text-align: right;\">\n",
       "      <th></th>\n",
       "      <th>gen</th>\n",
       "      <th>dataset</th>\n",
       "      <th>num_samples</th>\n",
       "      <th>no_mask</th>\n",
       "      <th>trueCpMask</th>\n",
       "      <th>intersectCpMask</th>\n",
       "      <th>predCpMask</th>\n",
       "      <th>meanBalancedGcdGp</th>\n",
       "    </tr>\n",
       "  </thead>\n",
       "  <tbody>\n",
       "    <tr>\n",
       "      <th>0</th>\n",
       "      <td>0</td>\n",
       "      <td>valid</td>\n",
       "      <td>612</td>\n",
       "      <td>594.697810</td>\n",
       "      <td>594.694897</td>\n",
       "      <td>594.694897</td>\n",
       "      <td>591.301121</td>\n",
       "      <td>701.638392</td>\n",
       "    </tr>\n",
       "    <tr>\n",
       "      <th>1</th>\n",
       "      <td>2</td>\n",
       "      <td>valid</td>\n",
       "      <td>800</td>\n",
       "      <td>784.915868</td>\n",
       "      <td>767.761117</td>\n",
       "      <td>771.025771</td>\n",
       "      <td>776.523318</td>\n",
       "      <td>931.518776</td>\n",
       "    </tr>\n",
       "    <tr>\n",
       "      <th>2</th>\n",
       "      <td>4</td>\n",
       "      <td>valid</td>\n",
       "      <td>800</td>\n",
       "      <td>853.483289</td>\n",
       "      <td>820.252975</td>\n",
       "      <td>828.599316</td>\n",
       "      <td>840.860012</td>\n",
       "      <td>994.247668</td>\n",
       "    </tr>\n",
       "    <tr>\n",
       "      <th>3</th>\n",
       "      <td>8</td>\n",
       "      <td>valid</td>\n",
       "      <td>800</td>\n",
       "      <td>1054.497800</td>\n",
       "      <td>993.765270</td>\n",
       "      <td>1009.613965</td>\n",
       "      <td>1034.529532</td>\n",
       "      <td>1191.720523</td>\n",
       "    </tr>\n",
       "    <tr>\n",
       "      <th>4</th>\n",
       "      <td>all_gens</td>\n",
       "      <td>valid</td>\n",
       "      <td>3012</td>\n",
       "      <td>836.079889</td>\n",
       "      <td>806.565991</td>\n",
       "      <td>813.859402</td>\n",
       "      <td>824.504175</td>\n",
       "      <td>970.581763</td>\n",
       "    </tr>\n",
       "  </tbody>\n",
       "</table>\n",
       "</div>"
      ],
      "text/plain": [
       "        gen dataset  num_samples      no_mask  trueCpMask  intersectCpMask  \\\n",
       "0         0   valid          612   594.697810  594.694897       594.694897   \n",
       "1         2   valid          800   784.915868  767.761117       771.025771   \n",
       "2         4   valid          800   853.483289  820.252975       828.599316   \n",
       "3         8   valid          800  1054.497800  993.765270      1009.613965   \n",
       "4  all_gens   valid         3012   836.079889  806.565991       813.859402   \n",
       "\n",
       "    predCpMask  meanBalancedGcdGp  \n",
       "0   591.301121         701.638392  \n",
       "1   776.523318         931.518776  \n",
       "2   840.860012         994.247668  \n",
       "3  1034.529532        1191.720523  \n",
       "4   824.504175         970.581763  "
      ]
     },
     "metadata": {},
     "output_type": "display_data"
    },
    {
     "data": {
      "text/html": [
       "<div>\n",
       "<style scoped>\n",
       "    .dataframe tbody tr th:only-of-type {\n",
       "        vertical-align: middle;\n",
       "    }\n",
       "\n",
       "    .dataframe tbody tr th {\n",
       "        vertical-align: top;\n",
       "    }\n",
       "\n",
       "    .dataframe thead th {\n",
       "        text-align: right;\n",
       "    }\n",
       "</style>\n",
       "<table border=\"1\" class=\"dataframe\">\n",
       "  <thead>\n",
       "    <tr style=\"text-align: right;\">\n",
       "      <th></th>\n",
       "      <th>gen</th>\n",
       "      <th>dataset</th>\n",
       "      <th>num_samples</th>\n",
       "      <th>no_mask</th>\n",
       "      <th>trueCpMask</th>\n",
       "      <th>intersectCpMask</th>\n",
       "      <th>predCpMask</th>\n",
       "      <th>meanBalancedGcdGp</th>\n",
       "    </tr>\n",
       "  </thead>\n",
       "  <tbody>\n",
       "    <tr>\n",
       "      <th>0</th>\n",
       "      <td>0</td>\n",
       "      <td>test</td>\n",
       "      <td>540</td>\n",
       "      <td>568.687758</td>\n",
       "      <td>568.684634</td>\n",
       "      <td>568.684634</td>\n",
       "      <td>566.137058</td>\n",
       "      <td>647.029344</td>\n",
       "    </tr>\n",
       "    <tr>\n",
       "      <th>1</th>\n",
       "      <td>2</td>\n",
       "      <td>test</td>\n",
       "      <td>800</td>\n",
       "      <td>728.191485</td>\n",
       "      <td>710.704668</td>\n",
       "      <td>714.843791</td>\n",
       "      <td>720.969975</td>\n",
       "      <td>866.127092</td>\n",
       "    </tr>\n",
       "    <tr>\n",
       "      <th>2</th>\n",
       "      <td>4</td>\n",
       "      <td>test</td>\n",
       "      <td>800</td>\n",
       "      <td>843.065710</td>\n",
       "      <td>809.861743</td>\n",
       "      <td>818.710462</td>\n",
       "      <td>831.789542</td>\n",
       "      <td>929.281292</td>\n",
       "    </tr>\n",
       "    <tr>\n",
       "      <th>3</th>\n",
       "      <td>8</td>\n",
       "      <td>test</td>\n",
       "      <td>800</td>\n",
       "      <td>998.518202</td>\n",
       "      <td>938.135381</td>\n",
       "      <td>954.056687</td>\n",
       "      <td>978.545135</td>\n",
       "      <td>1083.268396</td>\n",
       "    </tr>\n",
       "    <tr>\n",
       "      <th>4</th>\n",
       "      <td>all_gens</td>\n",
       "      <td>test</td>\n",
       "      <td>2940</td>\n",
       "      <td>803.711465</td>\n",
       "      <td>773.486781</td>\n",
       "      <td>781.353216</td>\n",
       "      <td>792.774739</td>\n",
       "      <td>902.155534</td>\n",
       "    </tr>\n",
       "  </tbody>\n",
       "</table>\n",
       "</div>"
      ],
      "text/plain": [
       "        gen dataset  num_samples     no_mask  trueCpMask  intersectCpMask  \\\n",
       "0         0    test          540  568.687758  568.684634       568.684634   \n",
       "1         2    test          800  728.191485  710.704668       714.843791   \n",
       "2         4    test          800  843.065710  809.861743       818.710462   \n",
       "3         8    test          800  998.518202  938.135381       954.056687   \n",
       "4  all_gens    test         2940  803.711465  773.486781       781.353216   \n",
       "\n",
       "   predCpMask  meanBalancedGcdGp  \n",
       "0  566.137058         647.029344  \n",
       "1  720.969975         866.127092  \n",
       "2  831.789542         929.281292  \n",
       "3  978.545135        1083.268396  \n",
       "4  792.774739         902.155534  "
      ]
     },
     "metadata": {},
     "output_type": "display_data"
    }
   ],
   "source": [
    "df_test=[]\n",
    "df_valid=[]\n",
    "gens = [[0], [2],[4],[8]]\n",
    "for d, m in zip(data_id, model_id_data_id):\n",
    "    df_test_sub=get_all_accr_new(results_test[m],gens, dataset=\"test\")\n",
    "    df_valid_sub=get_all_accr_new(results_valid[m],gens, dataset=\"valid\")\n",
    "    df_test.append(df_test_sub.copy(deep=True))\n",
    "    df_valid.append(df_valid_sub.copy(deep=True))\n",
    "\n",
    "for i, d in enumerate(model_id_data_id):\n",
    "    print(f\"Model_id_data_id: {d}\")\n",
    "    display(df_valid[i])\n",
    "    display(df_test[i])"
   ]
  },
  {
   "cell_type": "code",
   "execution_count": null,
   "metadata": {
    "collapsed": true
   },
   "outputs": [],
   "source": [
    "# plot the accuracy curves for comparison on a single plot\n"
   ]
  },
  {
   "cell_type": "code",
   "execution_count": null,
   "metadata": {
    "collapsed": true
   },
   "outputs": [],
   "source": [
    "data_id='data_id_4_geo'\n",
    "labels_path=osp.join(os.environ['OUT_PATH'], geno_type,'labels', data_id)\n",
    "granular_pop_dict = load_path(osp.join(labels_path, 'granular_pop.pkl'), en_pickle=True)\n",
    "rev_pop_dict={v:k for k,v in granular_pop_dict.items()}"
   ]
  },
  {
   "cell_type": "code",
   "execution_count": 17,
   "metadata": {
    "collapsed": true
   },
   "outputs": [],
   "source": [
    "# plot of overall gcd\n"
   ]
  },
  {
   "cell_type": "code",
   "execution_count": 312,
   "metadata": {},
   "outputs": [
    {
     "name": "stdout",
     "output_type": "stream",
     "text": [
      "24\n"
     ]
    }
   ],
   "source": [
    "print(len(results_valid['Model_H_exp_id_2_data_id_4_geo']['[0]']['balancedGcdMatrix']))\n",
    "# print(len(results_test['Model_H_exp_id_1_data_id_4_geo']['[0]']['balancedGcdMatrix']))"
   ]
  },
  {
   "cell_type": "code",
   "execution_count": 313,
   "metadata": {
    "scrolled": false
   },
   "outputs": [
    {
     "data": {
      "image/png": "[encoded data removed]",
      "text/plain": [
       "<Figure size 1440x720 with 1 Axes>"
      ]
     },
     "metadata": {},
     "output_type": "display_data"
    },
    {
     "data": {
      "image/png": "[encoded data removed]",
      "text/plain": [
       "<Figure size 1440x720 with 1 Axes>"
      ]
     },
     "metadata": {},
     "output_type": "display_data"
    },
    {
     "data": {
      "image/png": "[encoded data removed]",
      "text/plain": [
       "<Figure size 1440x720 with 1 Axes>"
      ]
     },
     "metadata": {},
     "output_type": "display_data"
    },
    {
     "data": {
      "image/png": "[encoded data removed]",
      "text/plain": [
       "<Figure size 1440x720 with 1 Axes>"
      ]
     },
     "metadata": {},
     "output_type": "display_data"
    }
   ],
   "source": [
    "dataset='valid'\n",
    "for gen in [[0], [2],[4],[8]]:\n",
    "    plt.rcParams[\"figure.figsize\"] = (20,10)\n",
    "    gen_balancedGcd_dict={rev_pop_dict[k]:v for k,v in \\\n",
    "    results_valid['Model_H_exp_id_2_data_id_4_geo'][str(gen)]['balancedGcdMatrix'].items()}\n",
    "    #sort the dict by gcd\n",
    "    gen_balancedGcd_ls=sorted(gen_balancedGcd_dict.items(), key=lambda item:item[1])\n",
    "    x, y=zip(*gen_balancedGcd_ls)\n",
    "    plt.plot(x,y)\n",
    "    plt.xlabel('Granular pops', fontsize=20)\n",
    "    plt.xticks(rotation=90)\n",
    "    plt.ylabel('Mean Gcd', fontsize=20)\n",
    "    plt.title(f\"Mean Gcd by population for {dataset} for gen {gen[0]}\", fontsize=20)\n",
    "    plt.show()"
   ]
  },
  {
   "cell_type": "code",
   "execution_count": 21,
   "metadata": {
    "collapsed": true,
    "scrolled": false
   },
   "outputs": [],
   "source": [
    "# dataset='test'\n",
    "# for gen in [[0], [2],[4],[8]]:\n",
    "#     plt.rcParams[\"figure.figsize\"] = (20,10)\n",
    "#     gen_balancedGcd_dict={rev_pop_dict[k]:v for k,v in \\\n",
    "#     results_test['Model_O_exp_id_8_data_id_1_geo'][str(gen)]['balancedGcdMatrix'].items()}\n",
    "#     #sort the dict by gcd\n",
    "#     gen_balancedGcd_ls=sorted(gen_balancedGcd_dict.items(), key=lambda item:item[1])\n",
    "#     x, y=zip(*gen_balancedGcd_ls)\n",
    "#     plt.plot(x,y)\n",
    "#     plt.xlabel('Granular pops', fontsize=20)\n",
    "#     plt.xticks(rotation=90)\n",
    "#     plt.ylabel('Mean Gcd', fontsize=20)\n",
    "#     plt.title(f\"Mean Gcd by population for {dataset} for gen {gen[0]}\", fontsize=20)\n",
    "#     plt.show()"
   ]
  },
  {
   "cell_type": "markdown",
   "metadata": {},
   "source": [
    "# visualization (Map for geography)"
   ]
  },
  {
   "cell_type": "code",
   "execution_count": 385,
   "metadata": {},
   "outputs": [
    {
     "name": "stderr",
     "output_type": "stream",
     "text": [
      "INFO: __init__:src.main.dataset: Loading valid Dataset\n",
      "INFO: __init__:src.main.dataset:Loading gen 0\n",
      "INFO: __init__:src.main.dataset: snps data: (112, 16416)\n",
      "INFO: __init__:src.main.dataset: y_labels data :(112, 16416)\n",
      "INFO: __init__:src.main.dataset:Loading gen 2\n",
      "INFO: __init__:src.main.dataset: snps data: (800, 16416)\n",
      "INFO: __init__:src.main.dataset: y_labels data :(800, 16416)\n",
      "INFO: __init__:src.main.dataset:Loading gen 4\n",
      "INFO: __init__:src.main.dataset: snps data: (800, 16416)\n"
     ]
    },
    {
     "name": "stdout",
     "output_type": "stream",
     "text": [
      " device used: cuda\n",
      "Loading the datasets...\n"
     ]
    },
    {
     "name": "stderr",
     "output_type": "stream",
     "text": [
      "INFO: __init__:src.main.dataset: y_labels data :(800, 16416)\n",
      "INFO: __init__:src.main.dataset:Loading gen 8\n",
      "INFO: __init__:src.main.dataset: snps data: (800, 16416)\n",
      "INFO: __init__:src.main.dataset: y_labels data :(800, 16416)\n",
      "INFO: transform_data:src.main.dataset:Transforming the data\n"
     ]
    },
    {
     "name": "stdout",
     "output_type": "stream",
     "text": [
      "Finished '_geoConvertLatLong2nVec' in 0.0055 secs\n",
      "Finished 'mapping_func' in 0.0233 secs\n",
      "Finished 'pop_mapping' in 0.0092 secs\n",
      "Finished 'pop_mapping' in 0.0091 secs\n",
      "Finished 'transform_data' in 2.6378 secs\n",
      "Finished '__init__' in 3.1819 secs\n",
      "Parameter count for model AuxNetwork:1619003\n",
      "Parameter count for model PositionalEncoding:0\n",
      "Parameter count for model attention_single:32342\n",
      "Parameter count for model FFNN:28492\n",
      "Parameter count for model BiRNN:25283\n",
      "Parameter count for model logits_Block:2289\n",
      "Total parameters:1707409\n",
      "Finished 'load_model' in 0.0196 secs\n",
      "best val loss metrics : {'loss_main': 1148.7813868431529, 'loss_aux': 2870.7487559713377, 'l1_loss': 0.27315462318954953, 'mse': 0.05931933214710017, 'smooth_l1': 0.029648422625414124, 'weighted_loss': 0.27315462318954953}\n",
      "at epoch : 47\n",
      "train loss metrics: {'loss_main': 426.51722367910685, 'loss_aux': 815.768280857379, 'l1_loss': 0.09983692130268566, 'mse': 0.008701525532696918, 'smooth_l1': 0.004350268213753395, 'weighted_loss': 0.09983692130268566}\n",
      "best val cp metrics : {'loss_cp': 0.08806702779356841, 'prMetrics': OrderedDict([('Precision', array(0.)), ('Recall', array(0.)), ('Accuracy', array(0.99825836)), ('A_major', array(1.)), ('BalancedAccuracy', 0.5)])}\n",
      "train cp metrics: {'loss_cp': 0.1129039224588646, 'prMetrics': OrderedDict([('Precision', array(0.)), ('Recall', array(0.)), ('Accuracy', array(0.99887129)), ('A_major', array(0.99993254)), ('BalancedAccuracy', 0.49996627148085065)])}\n",
      "best val sp metrics : None\n",
      "train sp metrics: None\n",
      "best val balanced gcd metrics : {'meanBalancedGcdSp': 1019.604985256721, 'meanBalancedGcdGp': 1251.317742352491, 'medianBalancedGcdSp': 1154.514735422406, 'medianBalancedGcdGp': 930.5537055121385, 'median': 846.522216796875}\n",
      "train balanced gcd metrics: {'meanBalancedGcdSp': 504.3249682933289, 'meanBalancedGcdGp': 630.9462321906336, 'medianBalancedGcdSp': 476.9665266098815, 'medianBalancedGcdGp': 520.5457874644886, 'median': 305.3673095703125}\n",
      "is the model on cuda? : True\n",
      "Finished 'batchLoopValid' in 0.3363 secs\n",
      "Finished 'main' in 3.5640 secs\n"
     ]
    }
   ],
   "source": [
    "\n",
    "labels_path = osp.join(os.environ['OUT_PATH'], geno_type,'labels/data_id_4_geo')\n",
    "data_path = osp.join(os.environ['OUT_PATH'], geno_type, 'labels/data_id_4_geo')\n",
    "models_path=osp.join(os.environ['OUT_PATH'], geno_type, 'training/Model_H_exp_id_3_data_id_4_geo/') \n",
    "dataset_type='valid'\n",
    "config={}\n",
    "config['data.labels']=labels_path \n",
    "config['data.dir']=data_path \n",
    "config['models.dir']=models_path\n",
    "config['data.dataset_type']=dataset_type\n",
    "config['cuda']='cuda'\n",
    "config['model.loadBest']=True\n",
    "json_path = osp.join(config['models.dir'], 'params.yaml')\n",
    "assert osp.isfile(json_path), \"No json configuration file found at {}\".format(json_path)\n",
    "params = Params(json_path)\n",
    "params.rtnOuts=True\n",
    "params.mc_dropout=False\n",
    "params.mc_samples=100\n",
    "params.cp_tol=1\n",
    "params.test_gens=[0,2,4,8]\n",
    "params.evalCp=True\n",
    "params.evalBalancedGcd=True\n",
    "params.evalExtraMainLosses=True\n",
    "results, test_dataset, model, _=inference.main(config, params)\n"
   ]
  },
  {
   "cell_type": "code",
   "execution_count": 335,
   "metadata": {},
   "outputs": [
    {
     "name": "stdout",
     "output_type": "stream",
     "text": [
      "shape of coord main:(2512, 32, 3)\n",
      "Finished 'run_recursive' in 1.6919 secs\n"
     ]
    }
   ],
   "source": [
    "results_coord_main=results.t_out.coord_main.mean(0)\n",
    "print(f\"shape of coord main:{results_coord_main.shape}\")\n",
    "y_pred = results_coord_main\n",
    "n_vec_dim=y_pred.shape[-1]\n",
    "data_tensor = torch.tensor(y_pred).float()\n",
    "batch_size_cpd = data_tensor.shape[0]\n",
    "mu_prior = torch.zeros((batch_size_cpd, 1,n_vec_dim))\n",
    "mean_var=torch.mean(torch.var(data_tensor, dim =1),dim=0).unsqueeze(0)\n",
    "cov_prior = (mean_var.repeat(batch_size_cpd,1).unsqueeze(1)* torch.eye(n_vec_dim)).reshape(batch_size_cpd,1,n_vec_dim,n_vec_dim)\n",
    "cov_x = cov_prior\n",
    "likelihood_model = Multivariate_Gaussian(mu_prior, cov_prior, cov_x)\n",
    "T = params.n_win\n",
    "model_cpd = BOCD.BOCD(None, T, likelihood_model, batch_size_cpd)\n",
    "_,_,_,_=model_cpd.run_recursive(data_tensor, 'cpu')"
   ]
  },
  {
   "cell_type": "code",
   "execution_count": 336,
   "metadata": {
    "collapsed": true
   },
   "outputs": [],
   "source": [
    "granular_pop_dict = load_path(osp.join(labels_path, 'granular_pop.pkl'), en_pickle=True)\n",
    "superop_dict=load_path(osp.join(labels_path, 'superpop.pkl'), en_pickle=True)\n",
    "pop_sample_map=pd.read_csv(osp.join(labels_path, 'pop_sample_map.tsv'),sep=\"\\t\")\n",
    "pop_arr=repeat_pop_arr(pop_sample_map)\n",
    "cp_target=test_dataset.data['cps']\n",
    "seqlen=cp_target.shape[1]\n",
    "rev_pop_dict={v:k for k,v in granular_pop_dict.items()}"
   ]
  },
  {
   "cell_type": "code",
   "execution_count": 397,
   "metadata": {},
   "outputs": [
    {
     "name": "stdout",
     "output_type": "stream",
     "text": [
      "2461\n"
     ]
    }
   ],
   "source": [
    "index=2461\n",
    "print(index)\n",
    "true_cpsSample=cp_target[index,:]\n",
    "y_predSample=results_coord_main[index,:]\n",
    "y_trueSample=test_dataset.data['y'][index,:]\n",
    "granularpopSample=test_dataset.data['granular_pop'][index,:]\n",
    "namesSample=[rev_pop_dict[i] for i in granularpopSample.astype(int)]"
   ]
  },
  {
   "cell_type": "code",
   "execution_count": 398,
   "metadata": {
    "collapsed": true
   },
   "outputs": [],
   "source": [
    "predBOCDSample=model_cpd.cp[index,:]\n",
    "pred_cps_BOCD=getCpPred(cpMethod.BOCD.name, predBOCDSample, 5.0, 1, len(true_cpsSample))\n",
    "pred_cps_BOCD=pred_cps_BOCD.squeeze(0).detach().cpu().numpy()# squeeze the batch dimension of 1\n",
    "\n",
    "cpIdx=np.nonzero(pred_cps_BOCD)[0]\n",
    "remWin=3\n",
    "for i in cpIdx:\n",
    "    low=max(0,i-remWin)\n",
    "    high=min(seqlen, i+remWin)\n",
    "    pred_cps_BOCD[low:high]=1"
   ]
  },
  {
   "cell_type": "code",
   "execution_count": 399,
   "metadata": {},
   "outputs": [
    {
     "name": "stdout",
     "output_type": "stream",
     "text": [
      "Finished 'nearestNeighbourMapping' in 0.0158 secs\n"
     ]
    }
   ],
   "source": [
    "mappedSpArr=nearestNeighbourMapping(labels_path, y_predSample.reshape(-1,3))\n",
    "y_predsTrue=test_dataset.data['y'].reshape(-1,3)\n",
    "superpopsTrue=test_dataset.data['superpop'].reshape(-1,)"
   ]
  },
  {
   "cell_type": "code",
   "execution_count": 400,
   "metadata": {},
   "outputs": [
    {
     "name": "stdout",
     "output_type": "stream",
     "text": [
      "number of changepoints removed:6,0.1875\n"
     ]
    },
    {
     "data": {
      "image/png": "[encoded data removed]",
      "text/plain": [
       "<Figure size 864x1008 with 4 Axes>"
      ]
     },
     "metadata": {},
     "output_type": "display_data"
    }
   ],
   "source": [
    "plot_sample(namesSample, y_predSample, y_trueSample, superop_dict, params.chmlen, pred_cps=pred_cps_BOCD,\\\n",
    "            mappedSpArr=mappedSpArr)"
   ]
  },
  {
   "cell_type": "code",
   "execution_count": 401,
   "metadata": {},
   "outputs": [
    {
     "data": {
      "application/vnd.plotly.v1+json": {
       "config": {
        "plotlyServerURL": "https://plot.ly"
       },
       "data": [
        {
         "marker": {
          "size": 5
         },
         "type": "scattergeo"
        },
        {
         "lat": [
          39.861968994140625,
          43.89683532714844,
          45.14026641845703,
          46.194026947021484,
          45.045291900634766,
          44.29787826538086,
          46.95684051513672,
          44.54986572265625,
          39.37472152709961,
          33.29427719116211,
          28.318735122680664,
          25.343135833740234,
          24.64143180847168,
          24.531354904174805,
          24.551572799682617,
          24.13292694091797,
          24.024173736572266,
          23.619239807128906,
          23.23541831970215,
          23.970657348632812,
          23.594900131225586,
          23.29534912109375,
          23.164892196655273,
          23.017919540405273,
          22.934091567993164,
          22.316171646118164,
          22.588756561279297,
          22.587142944335938,
          23.111255645751953,
          23.081958770751953,
          22.91090965270996,
          23.11094093322754
         ],
         "lon": [
          -44.25178146362305,
          -28.87200927734375,
          -28.37766456604004,
          -25.253393173217773,
          -27.052749633789062,
          -29.038312911987305,
          -31.890342712402344,
          -42.53934097290039,
          -55.73937225341797,
          -65.67156219482422,
          -72.97203063964844,
          -74.99329376220703,
          -75.79623413085938,
          -76.71641540527344,
          -76.48796844482422,
          -77.59510040283203,
          -77.88373565673828,
          -76.97209167480469,
          -77.94248962402344,
          -77.82331848144531,
          -78.34925079345703,
          -78.2796630859375,
          -78.78607177734375,
          -78.72425842285156,
          -78.46187591552734,
          -78.53671264648438,
          -78.38163757324219,
          -78.54171752929688,
          -79.61705780029297,
          -79.36030578613281,
          -79.33544158935547,
          -77.9962387084961
         ],
         "marker": {
          "color": [
           "rgba(0.503921568627451, 0.9999810273487268, 0.7049255469061472, 1.0)",
           "rgba(0.503921568627451, 0.9999810273487268, 0.7049255469061472, 1.0)",
           "rgba(0.503921568627451, 0.9999810273487268, 0.7049255469061472, 1.0)",
           "rgba(0.503921568627451, 0.9999810273487268, 0.7049255469061472, 1.0)",
           "rgba(0.503921568627451, 0.9999810273487268, 0.7049255469061472, 1.0)",
           "rgba(188, 188, 188, 1.0)",
           "rgba(188, 188, 188, 1.0)",
           "rgba(188, 188, 188, 1.0)",
           "rgba(188, 188, 188, 1.0)",
           "rgba(188, 188, 188, 1.0)",
           "rgba(188, 188, 188, 1.0)",
           "rgba(0.0019607843137254832, 0.7092813076058534, 0.9232891061054893, 1.0)",
           "rgba(0.0019607843137254832, 0.7092813076058534, 0.9232891061054893, 1.0)",
           "rgba(0.0019607843137254832, 0.7092813076058534, 0.9232891061054893, 1.0)",
           "rgba(0.0019607843137254832, 0.7092813076058534, 0.9232891061054893, 1.0)",
           "rgba(0.0019607843137254832, 0.7092813076058534, 0.9232891061054893, 1.0)",
           "rgba(0.0019607843137254832, 0.7092813076058534, 0.9232891061054893, 1.0)",
           "rgba(0.0019607843137254832, 0.7092813076058534, 0.9232891061054893, 1.0)",
           "rgba(0.0019607843137254832, 0.7092813076058534, 0.9232891061054893, 1.0)",
           "rgba(0.0019607843137254832, 0.7092813076058534, 0.9232891061054893, 1.0)",
           "rgba(0.0019607843137254832, 0.7092813076058534, 0.9232891061054893, 1.0)",
           "rgba(0.0019607843137254832, 0.7092813076058534, 0.9232891061054893, 1.0)",
           "rgba(0.0019607843137254832, 0.7092813076058534, 0.9232891061054893, 1.0)",
           "rgba(0.0019607843137254832, 0.7092813076058534, 0.9232891061054893, 1.0)",
           "rgba(0.0019607843137254832, 0.7092813076058534, 0.9232891061054893, 1.0)",
           "rgba(0.0019607843137254832, 0.7092813076058534, 0.9232891061054893, 1.0)",
           "rgba(0.0019607843137254832, 0.7092813076058534, 0.9232891061054893, 1.0)",
           "rgba(0.0019607843137254832, 0.7092813076058534, 0.9232891061054893, 1.0)",
           "rgba(0.0019607843137254832, 0.7092813076058534, 0.9232891061054893, 1.0)",
           "rgba(0.0019607843137254832, 0.7092813076058534, 0.9232891061054893, 1.0)",
           "rgba(0.0019607843137254832, 0.7092813076058534, 0.9232891061054893, 1.0)",
           "rgba(0.0019607843137254832, 0.7092813076058534, 0.9232891061054893, 1.0)"
          ],
          "size": 5
         },
         "text": [
          "Italy",
          "Italy",
          "Italy",
          "Italy",
          "Italy",
          "UNK",
          "UNK",
          "UNK",
          "UNK",
          "UNK",
          "UNK",
          "Cuba",
          "Cuba",
          "Cuba",
          "Cuba",
          "Cuba",
          "Cuba",
          "Cuba",
          "Cuba",
          "Cuba",
          "Cuba",
          "Cuba",
          "Cuba",
          "Cuba",
          "Cuba",
          "Cuba",
          "Cuba",
          "Cuba",
          "Cuba",
          "Cuba",
          "Cuba",
          "Cuba"
         ],
         "type": "scattergeo"
        },
        {
         "lat": [
          41.92068510000001,
          41.92068510000001,
          41.92068510000001,
          41.92068510000001,
          41.92068510000001,
          41.92068510000001,
          41.92068510000001,
          41.92068510000001,
          23.050000000000004,
          23.050000000000004,
          23.050000000000004,
          23.050000000000004,
          23.050000000000004,
          23.050000000000004,
          23.050000000000004,
          23.050000000000004,
          23.050000000000004,
          23.050000000000004,
          23.050000000000004,
          23.050000000000004,
          23.050000000000004,
          23.050000000000004,
          23.050000000000004,
          23.050000000000004,
          23.050000000000004,
          23.050000000000004,
          23.050000000000004,
          23.050000000000004,
          23.050000000000004,
          23.050000000000004,
          23.050000000000004,
          23.050000000000004
         ],
         "lon": [
          12.4894765,
          12.4894765,
          12.4894765,
          12.4894765,
          12.4894765,
          12.4894765,
          12.4894765,
          12.4894765,
          -81.317,
          -81.317,
          -81.317,
          -81.317,
          -81.317,
          -81.317,
          -81.317,
          -81.317,
          -81.317,
          -81.317,
          -81.317,
          -81.317,
          -81.317,
          -81.317,
          -81.317,
          -81.317,
          -81.317,
          -81.317,
          -81.317,
          -81.317,
          -81.317,
          -81.317,
          -81.317,
          -81.317
         ],
         "marker": {
          "size": 5,
          "symbol": "square"
         },
         "text": [
          "Italy",
          "Italy",
          "Italy",
          "Italy",
          "Italy",
          "UNK",
          "UNK",
          "UNK",
          "UNK",
          "UNK",
          "UNK",
          "Cuba",
          "Cuba",
          "Cuba",
          "Cuba",
          "Cuba",
          "Cuba",
          "Cuba",
          "Cuba",
          "Cuba",
          "Cuba",
          "Cuba",
          "Cuba",
          "Cuba",
          "Cuba",
          "Cuba",
          "Cuba",
          "Cuba",
          "Cuba",
          "Cuba",
          "Cuba",
          "Cuba"
         ],
         "type": "scattergeo"
        }
       ],
       "layout": {
        "template": {
         "data": {
          "bar": [
           {
            "error_x": {
             "color": "#2a3f5f"
            },
            "error_y": {
             "color": "#2a3f5f"
            },
            "marker": {
             "line": {
              "color": "#E5ECF6",
              "width": 0.5
             }
            },
            "type": "bar"
           }
          ],
          "barpolar": [
           {
            "marker": {
             "line": {
              "color": "#E5ECF6",
              "width": 0.5
             }
            },
            "type": "barpolar"
           }
          ],
          "carpet": [
           {
            "aaxis": {
             "endlinecolor": "#2a3f5f",
             "gridcolor": "white",
             "linecolor": "white",
             "minorgridcolor": "white",
             "startlinecolor": "#2a3f5f"
            },
            "baxis": {
             "endlinecolor": "#2a3f5f",
             "gridcolor": "white",
             "linecolor": "white",
             "minorgridcolor": "white",
             "startlinecolor": "#2a3f5f"
            },
            "type": "carpet"
           }
          ],
          "choropleth": [
           {
            "colorbar": {
             "outlinewidth": 0,
             "ticks": ""
            },
            "type": "choropleth"
           }
          ],
          "contour": [
           {
            "colorbar": {
             "outlinewidth": 0,
             "ticks": ""
            },
            "colorscale": [
             [
              0,
              "#0d0887"
             ],
             [
              0.1111111111111111,
              "#46039f"
             ],
             [
              0.2222222222222222,
              "#7201a8"
             ],
             [
              0.3333333333333333,
              "#9c179e"
             ],
             [
              0.4444444444444444,
              "#bd3786"
             ],
             [
              0.5555555555555556,
              "#d8576b"
             ],
             [
              0.6666666666666666,
              "#ed7953"
             ],
             [
              0.7777777777777778,
              "#fb9f3a"
             ],
             [
              0.8888888888888888,
              "#fdca26"
             ],
             [
              1,
              "#f0f921"
             ]
            ],
            "type": "contour"
           }
          ],
          "contourcarpet": [
           {
            "colorbar": {
             "outlinewidth": 0,
             "ticks": ""
            },
            "type": "contourcarpet"
           }
          ],
          "heatmap": [
           {
            "colorbar": {
             "outlinewidth": 0,
             "ticks": ""
            },
            "colorscale": [
             [
              0,
              "#0d0887"
             ],
             [
              0.1111111111111111,
              "#46039f"
             ],
             [
              0.2222222222222222,
              "#7201a8"
             ],
             [
              0.3333333333333333,
              "#9c179e"
             ],
             [
              0.4444444444444444,
              "#bd3786"
             ],
             [
              0.5555555555555556,
              "#d8576b"
             ],
             [
              0.6666666666666666,
              "#ed7953"
             ],
             [
              0.7777777777777778,
              "#fb9f3a"
             ],
             [
              0.8888888888888888,
              "#fdca26"
             ],
             [
              1,
              "#f0f921"
             ]
            ],
            "type": "heatmap"
           }
          ],
          "heatmapgl": [
           {
            "colorbar": {
             "outlinewidth": 0,
             "ticks": ""
            },
            "colorscale": [
             [
              0,
              "#0d0887"
             ],
             [
              0.1111111111111111,
              "#46039f"
             ],
             [
              0.2222222222222222,
              "#7201a8"
             ],
             [
              0.3333333333333333,
              "#9c179e"
             ],
             [
              0.4444444444444444,
              "#bd3786"
             ],
             [
              0.5555555555555556,
              "#d8576b"
             ],
             [
              0.6666666666666666,
              "#ed7953"
             ],
             [
              0.7777777777777778,
              "#fb9f3a"
             ],
             [
              0.8888888888888888,
              "#fdca26"
             ],
             [
              1,
              "#f0f921"
             ]
            ],
            "type": "heatmapgl"
           }
          ],
          "histogram": [
           {
            "marker": {
             "colorbar": {
              "outlinewidth": 0,
              "ticks": ""
             }
            },
            "type": "histogram"
           }
          ],
          "histogram2d": [
           {
            "colorbar": {
             "outlinewidth": 0,
             "ticks": ""
            },
            "colorscale": [
             [
              0,
              "#0d0887"
             ],
             [
              0.1111111111111111,
              "#46039f"
             ],
             [
              0.2222222222222222,
              "#7201a8"
             ],
             [
              0.3333333333333333,
              "#9c179e"
             ],
             [
              0.4444444444444444,
              "#bd3786"
             ],
             [
              0.5555555555555556,
              "#d8576b"
             ],
             [
              0.6666666666666666,
              "#ed7953"
             ],
             [
              0.7777777777777778,
              "#fb9f3a"
             ],
             [
              0.8888888888888888,
              "#fdca26"
             ],
             [
              1,
              "#f0f921"
             ]
            ],
            "type": "histogram2d"
           }
          ],
          "histogram2dcontour": [
           {
            "colorbar": {
             "outlinewidth": 0,
             "ticks": ""
            },
            "colorscale": [
             [
              0,
              "#0d0887"
             ],
             [
              0.1111111111111111,
              "#46039f"
             ],
             [
              0.2222222222222222,
              "#7201a8"
             ],
             [
              0.3333333333333333,
              "#9c179e"
             ],
             [
              0.4444444444444444,
              "#bd3786"
             ],
             [
              0.5555555555555556,
              "#d8576b"
             ],
             [
              0.6666666666666666,
              "#ed7953"
             ],
             [
              0.7777777777777778,
              "#fb9f3a"
             ],
             [
              0.8888888888888888,
              "#fdca26"
             ],
             [
              1,
              "#f0f921"
             ]
            ],
            "type": "histogram2dcontour"
           }
          ],
          "mesh3d": [
           {
            "colorbar": {
             "outlinewidth": 0,
             "ticks": ""
            },
            "type": "mesh3d"
           }
          ],
          "parcoords": [
           {
            "line": {
             "colorbar": {
              "outlinewidth": 0,
              "ticks": ""
             }
            },
            "type": "parcoords"
           }
          ],
          "pie": [
           {
            "automargin": true,
            "type": "pie"
           }
          ],
          "scatter": [
           {
            "marker": {
             "colorbar": {
              "outlinewidth": 0,
              "ticks": ""
             }
            },
            "type": "scatter"
           }
          ],
          "scatter3d": [
           {
            "line": {
             "colorbar": {
              "outlinewidth": 0,
              "ticks": ""
             }
            },
            "marker": {
             "colorbar": {
              "outlinewidth": 0,
              "ticks": ""
             }
            },
            "type": "scatter3d"
           }
          ],
          "scattercarpet": [
           {
            "marker": {
             "colorbar": {
              "outlinewidth": 0,
              "ticks": ""
             }
            },
            "type": "scattercarpet"
           }
          ],
          "scattergeo": [
           {
            "marker": {
             "colorbar": {
              "outlinewidth": 0,
              "ticks": ""
             }
            },
            "type": "scattergeo"
           }
          ],
          "scattergl": [
           {
            "marker": {
             "colorbar": {
              "outlinewidth": 0,
              "ticks": ""
             }
            },
            "type": "scattergl"
           }
          ],
          "scattermapbox": [
           {
            "marker": {
             "colorbar": {
              "outlinewidth": 0,
              "ticks": ""
             }
            },
            "type": "scattermapbox"
           }
          ],
          "scatterpolar": [
           {
            "marker": {
             "colorbar": {
              "outlinewidth": 0,
              "ticks": ""
             }
            },
            "type": "scatterpolar"
           }
          ],
          "scatterpolargl": [
           {
            "marker": {
             "colorbar": {
              "outlinewidth": 0,
              "ticks": ""
             }
            },
            "type": "scatterpolargl"
           }
          ],
          "scatterternary": [
           {
            "marker": {
             "colorbar": {
              "outlinewidth": 0,
              "ticks": ""
             }
            },
            "type": "scatterternary"
           }
          ],
          "surface": [
           {
            "colorbar": {
             "outlinewidth": 0,
             "ticks": ""
            },
            "colorscale": [
             [
              0,
              "#0d0887"
             ],
             [
              0.1111111111111111,
              "#46039f"
             ],
             [
              0.2222222222222222,
              "#7201a8"
             ],
             [
              0.3333333333333333,
              "#9c179e"
             ],
             [
              0.4444444444444444,
              "#bd3786"
             ],
             [
              0.5555555555555556,
              "#d8576b"
             ],
             [
              0.6666666666666666,
              "#ed7953"
             ],
             [
              0.7777777777777778,
              "#fb9f3a"
             ],
             [
              0.8888888888888888,
              "#fdca26"
             ],
             [
              1,
              "#f0f921"
             ]
            ],
            "type": "surface"
           }
          ],
          "table": [
           {
            "cells": {
             "fill": {
              "color": "#EBF0F8"
             },
             "line": {
              "color": "white"
             }
            },
            "header": {
             "fill": {
              "color": "#C8D4E3"
             },
             "line": {
              "color": "white"
             }
            },
            "type": "table"
           }
          ]
         },
         "layout": {
          "annotationdefaults": {
           "arrowcolor": "#2a3f5f",
           "arrowhead": 0,
           "arrowwidth": 1
          },
          "autotypenumbers": "strict",
          "coloraxis": {
           "colorbar": {
            "outlinewidth": 0,
            "ticks": ""
           }
          },
          "colorscale": {
           "diverging": [
            [
             0,
             "#8e0152"
            ],
            [
             0.1,
             "#c51b7d"
            ],
            [
             0.2,
             "#de77ae"
            ],
            [
             0.3,
             "#f1b6da"
            ],
            [
             0.4,
             "#fde0ef"
            ],
            [
             0.5,
             "#f7f7f7"
            ],
            [
             0.6,
             "#e6f5d0"
            ],
            [
             0.7,
             "#b8e186"
            ],
            [
             0.8,
             "#7fbc41"
            ],
            [
             0.9,
             "#4d9221"
            ],
            [
             1,
             "#276419"
            ]
           ],
           "sequential": [
            [
             0,
             "#0d0887"
            ],
            [
             0.1111111111111111,
             "#46039f"
            ],
            [
             0.2222222222222222,
             "#7201a8"
            ],
            [
             0.3333333333333333,
             "#9c179e"
            ],
            [
             0.4444444444444444,
             "#bd3786"
            ],
            [
             0.5555555555555556,
             "#d8576b"
            ],
            [
             0.6666666666666666,
             "#ed7953"
            ],
            [
             0.7777777777777778,
             "#fb9f3a"
            ],
            [
             0.8888888888888888,
             "#fdca26"
            ],
            [
             1,
             "#f0f921"
            ]
           ],
           "sequentialminus": [
            [
             0,
             "#0d0887"
            ],
            [
             0.1111111111111111,
             "#46039f"
            ],
            [
             0.2222222222222222,
             "#7201a8"
            ],
            [
             0.3333333333333333,
             "#9c179e"
            ],
            [
             0.4444444444444444,
             "#bd3786"
            ],
            [
             0.5555555555555556,
             "#d8576b"
            ],
            [
             0.6666666666666666,
             "#ed7953"
            ],
            [
             0.7777777777777778,
             "#fb9f3a"
            ],
            [
             0.8888888888888888,
             "#fdca26"
            ],
            [
             1,
             "#f0f921"
            ]
           ]
          },
          "colorway": [
           "#636efa",
           "#EF553B",
           "#00cc96",
           "#ab63fa",
           "#FFA15A",
           "#19d3f3",
           "#FF6692",
           "#B6E880",
           "#FF97FF",
           "#FECB52"
          ],
          "font": {
           "color": "#2a3f5f"
          },
          "geo": {
           "bgcolor": "white",
           "lakecolor": "white",
           "landcolor": "#E5ECF6",
           "showlakes": true,
           "showland": true,
           "subunitcolor": "white"
          },
          "hoverlabel": {
           "align": "left"
          },
          "hovermode": "closest",
          "mapbox": {
           "style": "light"
          },
          "paper_bgcolor": "white",
          "plot_bgcolor": "#E5ECF6",
          "polar": {
           "angularaxis": {
            "gridcolor": "white",
            "linecolor": "white",
            "ticks": ""
           },
           "bgcolor": "#E5ECF6",
           "radialaxis": {
            "gridcolor": "white",
            "linecolor": "white",
            "ticks": ""
           }
          },
          "scene": {
           "xaxis": {
            "backgroundcolor": "#E5ECF6",
            "gridcolor": "white",
            "gridwidth": 2,
            "linecolor": "white",
            "showbackground": true,
            "ticks": "",
            "zerolinecolor": "white"
           },
           "yaxis": {
            "backgroundcolor": "#E5ECF6",
            "gridcolor": "white",
            "gridwidth": 2,
            "linecolor": "white",
            "showbackground": true,
            "ticks": "",
            "zerolinecolor": "white"
           },
           "zaxis": {
            "backgroundcolor": "#E5ECF6",
            "gridcolor": "white",
            "gridwidth": 2,
            "linecolor": "white",
            "showbackground": true,
            "ticks": "",
            "zerolinecolor": "white"
           }
          },
          "shapedefaults": {
           "line": {
            "color": "#2a3f5f"
           }
          },
          "ternary": {
           "aaxis": {
            "gridcolor": "white",
            "linecolor": "white",
            "ticks": ""
           },
           "baxis": {
            "gridcolor": "white",
            "linecolor": "white",
            "ticks": ""
           },
           "bgcolor": "#E5ECF6",
           "caxis": {
            "gridcolor": "white",
            "linecolor": "white",
            "ticks": ""
           }
          },
          "title": {
           "x": 0.05
          },
          "xaxis": {
           "automargin": true,
           "gridcolor": "white",
           "linecolor": "white",
           "ticks": "",
           "title": {
            "standoff": 15
           },
           "zerolinecolor": "white",
           "zerolinewidth": 2
          },
          "yaxis": {
           "automargin": true,
           "gridcolor": "white",
           "linecolor": "white",
           "ticks": "",
           "title": {
            "standoff": 15
           },
           "zerolinecolor": "white",
           "zerolinewidth": 2
          }
         }
        }
       }
      },
      "text/html": [
       "<div>                            <div id=\"90c202c5-d883-4460-9662-ca958308294e\" class=\"plotly-graph-div\" style=\"height:525px; width:100%;\"></div>            <script type=\"text/javascript\">                require([\"plotly\"], function(Plotly) {                    window.PLOTLYENV=window.PLOTLYENV || {};                                    if (document.getElementById(\"90c202c5-d883-4460-9662-ca958308294e\")) {                    Plotly.newPlot(                        \"90c202c5-d883-4460-9662-ca958308294e\",                        [{\"marker\": {\"size\": 5}, \"type\": \"scattergeo\"}, {\"lat\": [39.861968994140625, 43.89683532714844, 45.14026641845703, 46.194026947021484, 45.045291900634766, 44.29787826538086, 46.95684051513672, 44.54986572265625, 39.37472152709961, 33.29427719116211, 28.318735122680664, 25.343135833740234, 24.64143180847168, 24.531354904174805, 24.551572799682617, 24.13292694091797, 24.024173736572266, 23.619239807128906, 23.23541831970215, 23.970657348632812, 23.594900131225586, 23.29534912109375, 23.164892196655273, 23.017919540405273, 22.934091567993164, 22.316171646118164, 22.588756561279297, 22.587142944335938, 23.111255645751953, 23.081958770751953, 22.91090965270996, 23.11094093322754], \"lon\": [-44.25178146362305, -28.87200927734375, -28.37766456604004, -25.253393173217773, -27.052749633789062, -29.038312911987305, -31.890342712402344, -42.53934097290039, -55.73937225341797, -65.67156219482422, -72.97203063964844, -74.99329376220703, -75.79623413085938, -76.71641540527344, -76.48796844482422, -77.59510040283203, -77.88373565673828, -76.97209167480469, -77.94248962402344, -77.82331848144531, -78.34925079345703, -78.2796630859375, -78.78607177734375, -78.72425842285156, -78.46187591552734, -78.53671264648438, -78.38163757324219, -78.54171752929688, -79.61705780029297, -79.36030578613281, -79.33544158935547, -77.9962387084961], \"marker\": {\"color\": [\"rgba(0.503921568627451, 0.9999810273487268, 0.7049255469061472, 1.0)\", \"rgba(0.503921568627451, 0.9999810273487268, 0.7049255469061472, 1.0)\", \"rgba(0.503921568627451, 0.9999810273487268, 0.7049255469061472, 1.0)\", \"rgba(0.503921568627451, 0.9999810273487268, 0.7049255469061472, 1.0)\", \"rgba(0.503921568627451, 0.9999810273487268, 0.7049255469061472, 1.0)\", \"rgba(188, 188, 188, 1.0)\", \"rgba(188, 188, 188, 1.0)\", \"rgba(188, 188, 188, 1.0)\", \"rgba(188, 188, 188, 1.0)\", \"rgba(188, 188, 188, 1.0)\", \"rgba(188, 188, 188, 1.0)\", \"rgba(0.0019607843137254832, 0.7092813076058534, 0.9232891061054893, 1.0)\", \"rgba(0.0019607843137254832, 0.7092813076058534, 0.9232891061054893, 1.0)\", \"rgba(0.0019607843137254832, 0.7092813076058534, 0.9232891061054893, 1.0)\", \"rgba(0.0019607843137254832, 0.7092813076058534, 0.9232891061054893, 1.0)\", \"rgba(0.0019607843137254832, 0.7092813076058534, 0.9232891061054893, 1.0)\", \"rgba(0.0019607843137254832, 0.7092813076058534, 0.9232891061054893, 1.0)\", \"rgba(0.0019607843137254832, 0.7092813076058534, 0.9232891061054893, 1.0)\", \"rgba(0.0019607843137254832, 0.7092813076058534, 0.9232891061054893, 1.0)\", \"rgba(0.0019607843137254832, 0.7092813076058534, 0.9232891061054893, 1.0)\", \"rgba(0.0019607843137254832, 0.7092813076058534, 0.9232891061054893, 1.0)\", \"rgba(0.0019607843137254832, 0.7092813076058534, 0.9232891061054893, 1.0)\", \"rgba(0.0019607843137254832, 0.7092813076058534, 0.9232891061054893, 1.0)\", \"rgba(0.0019607843137254832, 0.7092813076058534, 0.9232891061054893, 1.0)\", \"rgba(0.0019607843137254832, 0.7092813076058534, 0.9232891061054893, 1.0)\", \"rgba(0.0019607843137254832, 0.7092813076058534, 0.9232891061054893, 1.0)\", \"rgba(0.0019607843137254832, 0.7092813076058534, 0.9232891061054893, 1.0)\", \"rgba(0.0019607843137254832, 0.7092813076058534, 0.9232891061054893, 1.0)\", \"rgba(0.0019607843137254832, 0.7092813076058534, 0.9232891061054893, 1.0)\", \"rgba(0.0019607843137254832, 0.7092813076058534, 0.9232891061054893, 1.0)\", \"rgba(0.0019607843137254832, 0.7092813076058534, 0.9232891061054893, 1.0)\", \"rgba(0.0019607843137254832, 0.7092813076058534, 0.9232891061054893, 1.0)\"], \"size\": 5}, \"text\": [\"Italy\", \"Italy\", \"Italy\", \"Italy\", \"Italy\", \"UNK\", \"UNK\", \"UNK\", \"UNK\", \"UNK\", \"UNK\", \"Cuba\", \"Cuba\", \"Cuba\", \"Cuba\", \"Cuba\", \"Cuba\", \"Cuba\", \"Cuba\", \"Cuba\", \"Cuba\", \"Cuba\", \"Cuba\", \"Cuba\", \"Cuba\", \"Cuba\", \"Cuba\", \"Cuba\", \"Cuba\", \"Cuba\", \"Cuba\", \"Cuba\"], \"type\": \"scattergeo\"}, {\"lat\": [41.92068510000001, 41.92068510000001, 41.92068510000001, 41.92068510000001, 41.92068510000001, 41.92068510000001, 41.92068510000001, 41.92068510000001, 23.050000000000004, 23.050000000000004, 23.050000000000004, 23.050000000000004, 23.050000000000004, 23.050000000000004, 23.050000000000004, 23.050000000000004, 23.050000000000004, 23.050000000000004, 23.050000000000004, 23.050000000000004, 23.050000000000004, 23.050000000000004, 23.050000000000004, 23.050000000000004, 23.050000000000004, 23.050000000000004, 23.050000000000004, 23.050000000000004, 23.050000000000004, 23.050000000000004, 23.050000000000004, 23.050000000000004], \"lon\": [12.4894765, 12.4894765, 12.4894765, 12.4894765, 12.4894765, 12.4894765, 12.4894765, 12.4894765, -81.317, -81.317, -81.317, -81.317, -81.317, -81.317, -81.317, -81.317, -81.317, -81.317, -81.317, -81.317, -81.317, -81.317, -81.317, -81.317, -81.317, -81.317, -81.317, -81.317, -81.317, -81.317, -81.317, -81.317], \"marker\": {\"size\": 5, \"symbol\": \"square\"}, \"text\": [\"Italy\", \"Italy\", \"Italy\", \"Italy\", \"Italy\", \"UNK\", \"UNK\", \"UNK\", \"UNK\", \"UNK\", \"UNK\", \"Cuba\", \"Cuba\", \"Cuba\", \"Cuba\", \"Cuba\", \"Cuba\", \"Cuba\", \"Cuba\", \"Cuba\", \"Cuba\", \"Cuba\", \"Cuba\", \"Cuba\", \"Cuba\", \"Cuba\", \"Cuba\", \"Cuba\", \"Cuba\", \"Cuba\", \"Cuba\", \"Cuba\"], \"type\": \"scattergeo\"}],                        {\"template\": {\"data\": {\"bar\": [{\"error_x\": {\"color\": \"#2a3f5f\"}, \"error_y\": {\"color\": \"#2a3f5f\"}, \"marker\": {\"line\": {\"color\": \"#E5ECF6\", \"width\": 0.5}}, \"type\": \"bar\"}], \"barpolar\": [{\"marker\": {\"line\": {\"color\": \"#E5ECF6\", \"width\": 0.5}}, \"type\": \"barpolar\"}], \"carpet\": [{\"aaxis\": {\"endlinecolor\": \"#2a3f5f\", \"gridcolor\": \"white\", \"linecolor\": \"white\", \"minorgridcolor\": \"white\", \"startlinecolor\": \"#2a3f5f\"}, \"baxis\": {\"endlinecolor\": \"#2a3f5f\", \"gridcolor\": \"white\", \"linecolor\": \"white\", \"minorgridcolor\": \"white\", \"startlinecolor\": \"#2a3f5f\"}, \"type\": \"carpet\"}], \"choropleth\": [{\"colorbar\": {\"outlinewidth\": 0, \"ticks\": \"\"}, \"type\": \"choropleth\"}], \"contour\": [{\"colorbar\": {\"outlinewidth\": 0, \"ticks\": \"\"}, \"colorscale\": [[0.0, \"#0d0887\"], [0.1111111111111111, \"#46039f\"], [0.2222222222222222, \"#7201a8\"], [0.3333333333333333, \"#9c179e\"], [0.4444444444444444, \"#bd3786\"], [0.5555555555555556, \"#d8576b\"], [0.6666666666666666, \"#ed7953\"], [0.7777777777777778, \"#fb9f3a\"], [0.8888888888888888, \"#fdca26\"], [1.0, \"#f0f921\"]], \"type\": \"contour\"}], \"contourcarpet\": [{\"colorbar\": {\"outlinewidth\": 0, \"ticks\": \"\"}, \"type\": \"contourcarpet\"}], \"heatmap\": [{\"colorbar\": {\"outlinewidth\": 0, \"ticks\": \"\"}, \"colorscale\": [[0.0, \"#0d0887\"], [0.1111111111111111, \"#46039f\"], [0.2222222222222222, \"#7201a8\"], [0.3333333333333333, \"#9c179e\"], [0.4444444444444444, \"#bd3786\"], [0.5555555555555556, \"#d8576b\"], [0.6666666666666666, \"#ed7953\"], [0.7777777777777778, \"#fb9f3a\"], [0.8888888888888888, \"#fdca26\"], [1.0, \"#f0f921\"]], \"type\": \"heatmap\"}], \"heatmapgl\": [{\"colorbar\": {\"outlinewidth\": 0, \"ticks\": \"\"}, \"colorscale\": [[0.0, \"#0d0887\"], [0.1111111111111111, \"#46039f\"], [0.2222222222222222, \"#7201a8\"], [0.3333333333333333, \"#9c179e\"], [0.4444444444444444, \"#bd3786\"], [0.5555555555555556, \"#d8576b\"], [0.6666666666666666, \"#ed7953\"], [0.7777777777777778, \"#fb9f3a\"], [0.8888888888888888, \"#fdca26\"], [1.0, \"#f0f921\"]], \"type\": \"heatmapgl\"}], \"histogram\": [{\"marker\": {\"colorbar\": {\"outlinewidth\": 0, \"ticks\": \"\"}}, \"type\": \"histogram\"}], \"histogram2d\": [{\"colorbar\": {\"outlinewidth\": 0, \"ticks\": \"\"}, \"colorscale\": [[0.0, \"#0d0887\"], [0.1111111111111111, \"#46039f\"], [0.2222222222222222, \"#7201a8\"], [0.3333333333333333, \"#9c179e\"], [0.4444444444444444, \"#bd3786\"], [0.5555555555555556, \"#d8576b\"], [0.6666666666666666, \"#ed7953\"], [0.7777777777777778, \"#fb9f3a\"], [0.8888888888888888, \"#fdca26\"], [1.0, \"#f0f921\"]], \"type\": \"histogram2d\"}], \"histogram2dcontour\": [{\"colorbar\": {\"outlinewidth\": 0, \"ticks\": \"\"}, \"colorscale\": [[0.0, \"#0d0887\"], [0.1111111111111111, \"#46039f\"], [0.2222222222222222, \"#7201a8\"], [0.3333333333333333, \"#9c179e\"], [0.4444444444444444, \"#bd3786\"], [0.5555555555555556, \"#d8576b\"], [0.6666666666666666, \"#ed7953\"], [0.7777777777777778, \"#fb9f3a\"], [0.8888888888888888, \"#fdca26\"], [1.0, \"#f0f921\"]], \"type\": \"histogram2dcontour\"}], \"mesh3d\": [{\"colorbar\": {\"outlinewidth\": 0, \"ticks\": \"\"}, \"type\": \"mesh3d\"}], \"parcoords\": [{\"line\": {\"colorbar\": {\"outlinewidth\": 0, \"ticks\": \"\"}}, \"type\": \"parcoords\"}], \"pie\": [{\"automargin\": true, \"type\": \"pie\"}], \"scatter\": [{\"marker\": {\"colorbar\": {\"outlinewidth\": 0, \"ticks\": \"\"}}, \"type\": \"scatter\"}], \"scatter3d\": [{\"line\": {\"colorbar\": {\"outlinewidth\": 0, \"ticks\": \"\"}}, \"marker\": {\"colorbar\": {\"outlinewidth\": 0, \"ticks\": \"\"}}, \"type\": \"scatter3d\"}], \"scattercarpet\": [{\"marker\": {\"colorbar\": {\"outlinewidth\": 0, \"ticks\": \"\"}}, \"type\": \"scattercarpet\"}], \"scattergeo\": [{\"marker\": {\"colorbar\": {\"outlinewidth\": 0, \"ticks\": \"\"}}, \"type\": \"scattergeo\"}], \"scattergl\": [{\"marker\": {\"colorbar\": {\"outlinewidth\": 0, \"ticks\": \"\"}}, \"type\": \"scattergl\"}], \"scattermapbox\": [{\"marker\": {\"colorbar\": {\"outlinewidth\": 0, \"ticks\": \"\"}}, \"type\": \"scattermapbox\"}], \"scatterpolar\": [{\"marker\": {\"colorbar\": {\"outlinewidth\": 0, \"ticks\": \"\"}}, \"type\": \"scatterpolar\"}], \"scatterpolargl\": [{\"marker\": {\"colorbar\": {\"outlinewidth\": 0, \"ticks\": \"\"}}, \"type\": \"scatterpolargl\"}], \"scatterternary\": [{\"marker\": {\"colorbar\": {\"outlinewidth\": 0, \"ticks\": \"\"}}, \"type\": \"scatterternary\"}], \"surface\": [{\"colorbar\": {\"outlinewidth\": 0, \"ticks\": \"\"}, \"colorscale\": [[0.0, \"#0d0887\"], [0.1111111111111111, \"#46039f\"], [0.2222222222222222, \"#7201a8\"], [0.3333333333333333, \"#9c179e\"], [0.4444444444444444, \"#bd3786\"], [0.5555555555555556, \"#d8576b\"], [0.6666666666666666, \"#ed7953\"], [0.7777777777777778, \"#fb9f3a\"], [0.8888888888888888, \"#fdca26\"], [1.0, \"#f0f921\"]], \"type\": \"surface\"}], \"table\": [{\"cells\": {\"fill\": {\"color\": \"#EBF0F8\"}, \"line\": {\"color\": \"white\"}}, \"header\": {\"fill\": {\"color\": \"#C8D4E3\"}, \"line\": {\"color\": \"white\"}}, \"type\": \"table\"}]}, \"layout\": {\"annotationdefaults\": {\"arrowcolor\": \"#2a3f5f\", \"arrowhead\": 0, \"arrowwidth\": 1}, \"autotypenumbers\": \"strict\", \"coloraxis\": {\"colorbar\": {\"outlinewidth\": 0, \"ticks\": \"\"}}, \"colorscale\": {\"diverging\": [[0, \"#8e0152\"], [0.1, \"#c51b7d\"], [0.2, \"#de77ae\"], [0.3, \"#f1b6da\"], [0.4, \"#fde0ef\"], [0.5, \"#f7f7f7\"], [0.6, \"#e6f5d0\"], [0.7, \"#b8e186\"], [0.8, \"#7fbc41\"], [0.9, \"#4d9221\"], [1, \"#276419\"]], \"sequential\": [[0.0, \"#0d0887\"], [0.1111111111111111, \"#46039f\"], [0.2222222222222222, \"#7201a8\"], [0.3333333333333333, \"#9c179e\"], [0.4444444444444444, \"#bd3786\"], [0.5555555555555556, \"#d8576b\"], [0.6666666666666666, \"#ed7953\"], [0.7777777777777778, \"#fb9f3a\"], [0.8888888888888888, \"#fdca26\"], [1.0, \"#f0f921\"]], \"sequentialminus\": [[0.0, \"#0d0887\"], [0.1111111111111111, \"#46039f\"], [0.2222222222222222, \"#7201a8\"], [0.3333333333333333, \"#9c179e\"], [0.4444444444444444, \"#bd3786\"], [0.5555555555555556, \"#d8576b\"], [0.6666666666666666, \"#ed7953\"], [0.7777777777777778, \"#fb9f3a\"], [0.8888888888888888, \"#fdca26\"], [1.0, \"#f0f921\"]]}, \"colorway\": [\"#636efa\", \"#EF553B\", \"#00cc96\", \"#ab63fa\", \"#FFA15A\", \"#19d3f3\", \"#FF6692\", \"#B6E880\", \"#FF97FF\", \"#FECB52\"], \"font\": {\"color\": \"#2a3f5f\"}, \"geo\": {\"bgcolor\": \"white\", \"lakecolor\": \"white\", \"landcolor\": \"#E5ECF6\", \"showlakes\": true, \"showland\": true, \"subunitcolor\": \"white\"}, \"hoverlabel\": {\"align\": \"left\"}, \"hovermode\": \"closest\", \"mapbox\": {\"style\": \"light\"}, \"paper_bgcolor\": \"white\", \"plot_bgcolor\": \"#E5ECF6\", \"polar\": {\"angularaxis\": {\"gridcolor\": \"white\", \"linecolor\": \"white\", \"ticks\": \"\"}, \"bgcolor\": \"#E5ECF6\", \"radialaxis\": {\"gridcolor\": \"white\", \"linecolor\": \"white\", \"ticks\": \"\"}}, \"scene\": {\"xaxis\": {\"backgroundcolor\": \"#E5ECF6\", \"gridcolor\": \"white\", \"gridwidth\": 2, \"linecolor\": \"white\", \"showbackground\": true, \"ticks\": \"\", \"zerolinecolor\": \"white\"}, \"yaxis\": {\"backgroundcolor\": \"#E5ECF6\", \"gridcolor\": \"white\", \"gridwidth\": 2, \"linecolor\": \"white\", \"showbackground\": true, \"ticks\": \"\", \"zerolinecolor\": \"white\"}, \"zaxis\": {\"backgroundcolor\": \"#E5ECF6\", \"gridcolor\": \"white\", \"gridwidth\": 2, \"linecolor\": \"white\", \"showbackground\": true, \"ticks\": \"\", \"zerolinecolor\": \"white\"}}, \"shapedefaults\": {\"line\": {\"color\": \"#2a3f5f\"}}, \"ternary\": {\"aaxis\": {\"gridcolor\": \"white\", \"linecolor\": \"white\", \"ticks\": \"\"}, \"baxis\": {\"gridcolor\": \"white\", \"linecolor\": \"white\", \"ticks\": \"\"}, \"bgcolor\": \"#E5ECF6\", \"caxis\": {\"gridcolor\": \"white\", \"linecolor\": \"white\", \"ticks\": \"\"}}, \"title\": {\"x\": 0.05}, \"xaxis\": {\"automargin\": true, \"gridcolor\": \"white\", \"linecolor\": \"white\", \"ticks\": \"\", \"title\": {\"standoff\": 15}, \"zerolinecolor\": \"white\", \"zerolinewidth\": 2}, \"yaxis\": {\"automargin\": true, \"gridcolor\": \"white\", \"linecolor\": \"white\", \"ticks\": \"\", \"title\": {\"standoff\": 15}, \"zerolinecolor\": \"white\", \"zerolinewidth\": 2}}}},                        {\"responsive\": true}                    ).then(function(){\n",
       "                            \n",
       "var gd = document.getElementById('90c202c5-d883-4460-9662-ca958308294e');\n",
       "var x = new MutationObserver(function (mutations, observer) {{\n",
       "        var display = window.getComputedStyle(gd).display;\n",
       "        if (!display || display === 'none') {{\n",
       "            console.log([gd, 'removed!']);\n",
       "            Plotly.purge(gd);\n",
       "            observer.disconnect();\n",
       "        }}\n",
       "}});\n",
       "\n",
       "// Listen for the removal of the full notebook cells\n",
       "var notebookContainer = gd.closest('#notebook-container');\n",
       "if (notebookContainer) {{\n",
       "    x.observe(notebookContainer, {childList: true});\n",
       "}}\n",
       "\n",
       "// Listen for the clearing of the current output cell\n",
       "var outputEl = gd.closest('.output');\n",
       "if (outputEl) {{\n",
       "    x.observe(outputEl, {childList: true});\n",
       "}}\n",
       "\n",
       "                        })                };                });            </script>        </div>"
      ]
     },
     "metadata": {},
     "output_type": "display_data"
    }
   ],
   "source": [
    "lbl_coord=convert_coordinates(y_trueSample[:,0], y_trueSample[:,1], y_trueSample[:,2])\n",
    "pred_coord=convert_coordinates(y_predSample[:,0], y_predSample[:,1], y_predSample[:,2])\n",
    "granularPopNames=namesSample\n",
    "plot_coordinates_map(granularPopNames, pred_coord, lbl_coord, pred_cps=pred_cps_BOCD, cpShow=True)"
   ]
  },
  {
   "cell_type": "markdown",
   "metadata": {
    "collapsed": true
   },
   "source": [
    "# Changepoint accuracy comparison"
   ]
  },
  {
   "cell_type": "code",
   "execution_count": 379,
   "metadata": {},
   "outputs": [
    {
     "name": "stderr",
     "output_type": "stream",
     "text": [
      "INFO: __init__:src.main.dataset: Loading valid Dataset\n",
      "INFO: __init__:src.main.dataset:Loading gen 0\n",
      "INFO: __init__:src.main.dataset: snps data: (112, 16416)\n",
      "INFO: __init__:src.main.dataset: y_labels data :(112, 16416)\n",
      "INFO: __init__:src.main.dataset:Loading gen 2\n",
      "INFO: __init__:src.main.dataset: snps data: (800, 16416)\n",
      "INFO: __init__:src.main.dataset: y_labels data :(800, 16416)\n",
      "INFO: __init__:src.main.dataset:Loading gen 4\n",
      "INFO: __init__:src.main.dataset: snps data: (800, 16416)\n",
      "INFO: __init__:src.main.dataset: y_labels data :(800, 16416)\n"
     ]
    },
    {
     "name": "stdout",
     "output_type": "stream",
     "text": [
      " device used: cuda\n",
      "Loading the datasets...\n"
     ]
    },
    {
     "name": "stderr",
     "output_type": "stream",
     "text": [
      "INFO: __init__:src.main.dataset:Loading gen 8\n",
      "INFO: __init__:src.main.dataset: snps data: (800, 16416)\n",
      "INFO: __init__:src.main.dataset: y_labels data :(800, 16416)\n",
      "INFO: transform_data:src.main.dataset:Transforming the data\n"
     ]
    },
    {
     "name": "stdout",
     "output_type": "stream",
     "text": [
      "Finished '_geoConvertLatLong2nVec' in 0.0053 secs\n",
      "Finished 'mapping_func' in 0.0214 secs\n",
      "Finished 'pop_mapping' in 0.0087 secs\n",
      "Finished 'pop_mapping' in 0.0085 secs\n",
      "Finished 'transform_data' in 2.6083 secs\n",
      "Finished '__init__' in 3.1136 secs\n",
      "Parameter count for model AuxNetwork:1619003\n",
      "Parameter count for model PositionalEncoding:0\n",
      "Parameter count for model attention_single:32342\n",
      "Parameter count for model FFNN:28492\n",
      "Parameter count for model BiRNN:25283\n",
      "Parameter count for model logits_Block:2289\n",
      "Total parameters:1707409\n",
      "Finished 'load_model' in 0.0187 secs\n",
      "best val loss metrics : {'loss_main': 1148.7813868431529, 'loss_aux': 2870.7487559713377, 'l1_loss': 0.27315462318954953, 'mse': 0.05931933214710017, 'smooth_l1': 0.029648422625414124, 'weighted_loss': 0.27315462318954953}\n",
      "at epoch : 47\n",
      "train loss metrics: {'loss_main': 426.51722367910685, 'loss_aux': 815.768280857379, 'l1_loss': 0.09983692130268566, 'mse': 0.008701525532696918, 'smooth_l1': 0.004350268213753395, 'weighted_loss': 0.09983692130268566}\n",
      "best val cp metrics : {'loss_cp': 0.08806702779356841, 'prMetrics': OrderedDict([('Precision', array(0.)), ('Recall', array(0.)), ('Accuracy', array(0.99825836)), ('A_major', array(1.)), ('BalancedAccuracy', 0.5)])}\n",
      "train cp metrics: {'loss_cp': 0.1129039224588646, 'prMetrics': OrderedDict([('Precision', array(0.)), ('Recall', array(0.)), ('Accuracy', array(0.99887129)), ('A_major', array(0.99993254)), ('BalancedAccuracy', 0.49996627148085065)])}\n",
      "best val sp metrics : None\n",
      "train sp metrics: None\n",
      "best val balanced gcd metrics : {'meanBalancedGcdSp': 1019.604985256721, 'meanBalancedGcdGp': 1251.317742352491, 'medianBalancedGcdSp': 1154.514735422406, 'medianBalancedGcdGp': 930.5537055121385, 'median': 846.522216796875}\n",
      "train balanced gcd metrics: {'meanBalancedGcdSp': 504.3249682933289, 'meanBalancedGcdGp': 630.9462321906336, 'medianBalancedGcdSp': 476.9665266098815, 'medianBalancedGcdGp': 520.5457874644886, 'median': 305.3673095703125}\n",
      "is the model on cuda? : True\n",
      "Finished 'batchLoopValid' in 7.1119 secs\n",
      "Finished 'main' in 10.2708 secs\n"
     ]
    }
   ],
   "source": [
    "params.mc_dropout=True\n",
    "params.mc_samples=100\n",
    "results, test_dataset, model, _=inference.main(config, params)"
   ]
  },
  {
   "cell_type": "code",
   "execution_count": 343,
   "metadata": {
    "collapsed": true
   },
   "outputs": [],
   "source": [
    "@timer\n",
    "def prMetricsByThresh(method_name, cp_pred_raw, cp_target, steps, minThresh, maxThresh, win_tol=2, byWindows=False):\n",
    "    increment = (maxThresh - minThresh)/steps\n",
    "    df=pd.DataFrame(columns=list(t_prMetrics._fields)+['thresh'])\n",
    "    for thresh in np.arange(minThresh, maxThresh + increment, increment):\n",
    "        prMetrics, cp_pred = reportChangePointMetrics(method_name, cp_pred_raw, cp_target, thresh, win_tol)\n",
    "        if byWindows: \n",
    "            prMetrics={}\n",
    "            prMetrics['Precision']=precision_score(cp_target.flatten(), cp_pred.flatten())\n",
    "            prMetrics['Recall']=recall_score(cp_target.flatten(), cp_pred.flatten())\n",
    "            prMetrics['BalancedAccuracy']=balanced_accuracy_score(cp_target.flatten(), cp_pred.flatten())\n",
    "            prMetrics['Accuracy']=accuracy_score(cp_target.flatten(), cp_pred.flatten())\n",
    "            prMetrics['A_major']=(2*prMetrics['BalancedAccuracy'])-prMetrics['Recall']\n",
    "        prMetrics['thresh']=thresh\n",
    "        prMetrics['F1']=2*prMetrics['Precision']*prMetrics['Recall']/(prMetrics['Precision']+prMetrics['Recall'])\n",
    "        df=df.append(prMetrics, ignore_index=True)\n",
    "    return df"
   ]
  },
  {
   "cell_type": "code",
   "execution_count": 344,
   "metadata": {},
   "outputs": [
    {
     "name": "stdout",
     "output_type": "stream",
     "text": [
      "shape of coord main:(2512, 32, 3)\n",
      "Finished 'run_recursive' in 1.4738 secs\n"
     ]
    }
   ],
   "source": [
    "results_coord_main=results.t_out.coord_main.mean(0)\n",
    "print(f\"shape of coord main:{results_coord_main.shape}\")\n",
    "y_pred = results_coord_main\n",
    "n_vec_dim=y_pred.shape[-1]\n",
    "data_tensor = torch.tensor(y_pred).float()\n",
    "batch_size_cpd = data_tensor.shape[0]\n",
    "mu_prior = torch.zeros((batch_size_cpd, 1,n_vec_dim))\n",
    "mean_var=torch.mean(torch.var(data_tensor, dim =1),dim=0).unsqueeze(0)\n",
    "cov_prior = (mean_var.repeat(batch_size_cpd,1).unsqueeze(1)* torch.eye(n_vec_dim)).reshape(batch_size_cpd,1,n_vec_dim,n_vec_dim)\n",
    "cov_x = cov_prior\n",
    "likelihood_model = Multivariate_Gaussian(mu_prior, cov_prior, cov_x)\n",
    "T = params.n_win\n",
    "model_cpd = BOCD.BOCD(None, T, likelihood_model, batch_size_cpd)\n",
    "_,_,_,_=model_cpd.run_recursive(data_tensor, 'cpu')"
   ]
  },
  {
   "cell_type": "code",
   "execution_count": 345,
   "metadata": {},
   "outputs": [
    {
     "name": "stderr",
     "output_type": "stream",
     "text": [
      "/share/software/user/open/py-jupyter/1.0.0_py36/lib/python3.6/site-packages/ipykernel_launcher.py:15: RuntimeWarning:\n",
      "\n",
      "invalid value encountered in double_scalars\n",
      "\n"
     ]
    },
    {
     "name": "stdout",
     "output_type": "stream",
     "text": [
      "Finished 'prMetricsByThresh' in 0.6453 secs\n"
     ]
    },
    {
     "data": {
      "text/html": [
       "<style  type=\"text/css\" >\n",
       "    #T_eaa89b06_dd23_11eb_8af7_f48e38cefba2row0_col4 {\n",
       "            background-color:  #f6faff;\n",
       "            color:  #000000;\n",
       "        }    #T_eaa89b06_dd23_11eb_8af7_f48e38cefba2row0_col5 {\n",
       "            background-color:  #f7fbff;\n",
       "            color:  #000000;\n",
       "        }    #T_eaa89b06_dd23_11eb_8af7_f48e38cefba2row0_col6 {\n",
       "            background-color:  #f7fbff;\n",
       "            color:  #000000;\n",
       "        }    #T_eaa89b06_dd23_11eb_8af7_f48e38cefba2row1_col4 {\n",
       "            background-color:  #08306b;\n",
       "            color:  #f1f1f1;\n",
       "        }    #T_eaa89b06_dd23_11eb_8af7_f48e38cefba2row1_col5 {\n",
       "            background-color:  #eef5fc;\n",
       "            color:  #000000;\n",
       "        }    #T_eaa89b06_dd23_11eb_8af7_f48e38cefba2row1_col6 {\n",
       "            background-color:  #519ccc;\n",
       "            color:  #000000;\n",
       "        }    #T_eaa89b06_dd23_11eb_8af7_f48e38cefba2row2_col4 {\n",
       "            background-color:  #8fc2de;\n",
       "            color:  #000000;\n",
       "        }    #T_eaa89b06_dd23_11eb_8af7_f48e38cefba2row2_col5 {\n",
       "            background-color:  #e3eef9;\n",
       "            color:  #000000;\n",
       "        }    #T_eaa89b06_dd23_11eb_8af7_f48e38cefba2row2_col6 {\n",
       "            background-color:  #084a91;\n",
       "            color:  #f1f1f1;\n",
       "        }    #T_eaa89b06_dd23_11eb_8af7_f48e38cefba2row3_col4 {\n",
       "            background-color:  #89bedc;\n",
       "            color:  #000000;\n",
       "        }    #T_eaa89b06_dd23_11eb_8af7_f48e38cefba2row3_col5 {\n",
       "            background-color:  #d9e8f5;\n",
       "            color:  #000000;\n",
       "        }    #T_eaa89b06_dd23_11eb_8af7_f48e38cefba2row3_col6 {\n",
       "            background-color:  #08306b;\n",
       "            color:  #f1f1f1;\n",
       "        }    #T_eaa89b06_dd23_11eb_8af7_f48e38cefba2row4_col4 {\n",
       "            background-color:  #89bedc;\n",
       "            color:  #000000;\n",
       "        }    #T_eaa89b06_dd23_11eb_8af7_f48e38cefba2row4_col5 {\n",
       "            background-color:  #d0e1f2;\n",
       "            color:  #000000;\n",
       "        }    #T_eaa89b06_dd23_11eb_8af7_f48e38cefba2row4_col6 {\n",
       "            background-color:  #08306b;\n",
       "            color:  #f1f1f1;\n",
       "        }    #T_eaa89b06_dd23_11eb_8af7_f48e38cefba2row5_col4 {\n",
       "            background-color:  #89bedc;\n",
       "            color:  #000000;\n",
       "        }    #T_eaa89b06_dd23_11eb_8af7_f48e38cefba2row5_col5 {\n",
       "            background-color:  #c6dbef;\n",
       "            color:  #000000;\n",
       "        }    #T_eaa89b06_dd23_11eb_8af7_f48e38cefba2row5_col6 {\n",
       "            background-color:  #08306b;\n",
       "            color:  #f1f1f1;\n",
       "        }    #T_eaa89b06_dd23_11eb_8af7_f48e38cefba2row6_col4 {\n",
       "            background-color:  #89bedc;\n",
       "            color:  #000000;\n",
       "        }    #T_eaa89b06_dd23_11eb_8af7_f48e38cefba2row6_col5 {\n",
       "            background-color:  #b7d4ea;\n",
       "            color:  #000000;\n",
       "        }    #T_eaa89b06_dd23_11eb_8af7_f48e38cefba2row6_col6 {\n",
       "            background-color:  #08306b;\n",
       "            color:  #f1f1f1;\n",
       "        }    #T_eaa89b06_dd23_11eb_8af7_f48e38cefba2row7_col4 {\n",
       "            background-color:  #89bedc;\n",
       "            color:  #000000;\n",
       "        }    #T_eaa89b06_dd23_11eb_8af7_f48e38cefba2row7_col5 {\n",
       "            background-color:  #a6cee4;\n",
       "            color:  #000000;\n",
       "        }    #T_eaa89b06_dd23_11eb_8af7_f48e38cefba2row7_col6 {\n",
       "            background-color:  #08306b;\n",
       "            color:  #f1f1f1;\n",
       "        }    #T_eaa89b06_dd23_11eb_8af7_f48e38cefba2row8_col4 {\n",
       "            background-color:  #89bedc;\n",
       "            color:  #000000;\n",
       "        }    #T_eaa89b06_dd23_11eb_8af7_f48e38cefba2row8_col5 {\n",
       "            background-color:  #94c4df;\n",
       "            color:  #000000;\n",
       "        }    #T_eaa89b06_dd23_11eb_8af7_f48e38cefba2row8_col6 {\n",
       "            background-color:  #08306b;\n",
       "            color:  #f1f1f1;\n",
       "        }    #T_eaa89b06_dd23_11eb_8af7_f48e38cefba2row9_col4 {\n",
       "            background-color:  #f7fbff;\n",
       "            color:  #000000;\n",
       "        }    #T_eaa89b06_dd23_11eb_8af7_f48e38cefba2row9_col5 {\n",
       "            background-color:  #7fb9da;\n",
       "            color:  #000000;\n",
       "        }    #T_eaa89b06_dd23_11eb_8af7_f48e38cefba2row9_col6 {\n",
       "            background-color:  #000000;\n",
       "            color:  #f1f1f1;\n",
       "        }    #T_eaa89b06_dd23_11eb_8af7_f48e38cefba2row10_col4 {\n",
       "            background-color:  #f7fbff;\n",
       "            color:  #000000;\n",
       "        }    #T_eaa89b06_dd23_11eb_8af7_f48e38cefba2row10_col5 {\n",
       "            background-color:  #6aaed6;\n",
       "            color:  #000000;\n",
       "        }    #T_eaa89b06_dd23_11eb_8af7_f48e38cefba2row10_col6 {\n",
       "            background-color:  #000000;\n",
       "            color:  #f1f1f1;\n",
       "        }    #T_eaa89b06_dd23_11eb_8af7_f48e38cefba2row11_col4 {\n",
       "            background-color:  #f7fbff;\n",
       "            color:  #000000;\n",
       "        }    #T_eaa89b06_dd23_11eb_8af7_f48e38cefba2row11_col5 {\n",
       "            background-color:  #5ba3d0;\n",
       "            color:  #000000;\n",
       "        }    #T_eaa89b06_dd23_11eb_8af7_f48e38cefba2row11_col6 {\n",
       "            background-color:  #000000;\n",
       "            color:  #f1f1f1;\n",
       "        }    #T_eaa89b06_dd23_11eb_8af7_f48e38cefba2row12_col4 {\n",
       "            background-color:  #f7fbff;\n",
       "            color:  #000000;\n",
       "        }    #T_eaa89b06_dd23_11eb_8af7_f48e38cefba2row12_col5 {\n",
       "            background-color:  #4a98c9;\n",
       "            color:  #000000;\n",
       "        }    #T_eaa89b06_dd23_11eb_8af7_f48e38cefba2row12_col6 {\n",
       "            background-color:  #000000;\n",
       "            color:  #f1f1f1;\n",
       "        }    #T_eaa89b06_dd23_11eb_8af7_f48e38cefba2row13_col4 {\n",
       "            background-color:  #f7fbff;\n",
       "            color:  #000000;\n",
       "        }    #T_eaa89b06_dd23_11eb_8af7_f48e38cefba2row13_col5 {\n",
       "            background-color:  #3b8bc2;\n",
       "            color:  #000000;\n",
       "        }    #T_eaa89b06_dd23_11eb_8af7_f48e38cefba2row13_col6 {\n",
       "            background-color:  #000000;\n",
       "            color:  #f1f1f1;\n",
       "        }    #T_eaa89b06_dd23_11eb_8af7_f48e38cefba2row14_col4 {\n",
       "            background-color:  #f7fbff;\n",
       "            color:  #000000;\n",
       "        }    #T_eaa89b06_dd23_11eb_8af7_f48e38cefba2row14_col5 {\n",
       "            background-color:  #2e7ebc;\n",
       "            color:  #000000;\n",
       "        }    #T_eaa89b06_dd23_11eb_8af7_f48e38cefba2row14_col6 {\n",
       "            background-color:  #000000;\n",
       "            color:  #f1f1f1;\n",
       "        }    #T_eaa89b06_dd23_11eb_8af7_f48e38cefba2row15_col4 {\n",
       "            background-color:  #f7fbff;\n",
       "            color:  #000000;\n",
       "        }    #T_eaa89b06_dd23_11eb_8af7_f48e38cefba2row15_col5 {\n",
       "            background-color:  #2070b4;\n",
       "            color:  #f1f1f1;\n",
       "        }    #T_eaa89b06_dd23_11eb_8af7_f48e38cefba2row15_col6 {\n",
       "            background-color:  #000000;\n",
       "            color:  #f1f1f1;\n",
       "        }    #T_eaa89b06_dd23_11eb_8af7_f48e38cefba2row16_col4 {\n",
       "            background-color:  #f7fbff;\n",
       "            color:  #000000;\n",
       "        }    #T_eaa89b06_dd23_11eb_8af7_f48e38cefba2row16_col5 {\n",
       "            background-color:  #1764ab;\n",
       "            color:  #f1f1f1;\n",
       "        }    #T_eaa89b06_dd23_11eb_8af7_f48e38cefba2row16_col6 {\n",
       "            background-color:  #000000;\n",
       "            color:  #f1f1f1;\n",
       "        }    #T_eaa89b06_dd23_11eb_8af7_f48e38cefba2row17_col4 {\n",
       "            background-color:  #f7fbff;\n",
       "            color:  #000000;\n",
       "        }    #T_eaa89b06_dd23_11eb_8af7_f48e38cefba2row17_col5 {\n",
       "            background-color:  #0d57a1;\n",
       "            color:  #f1f1f1;\n",
       "        }    #T_eaa89b06_dd23_11eb_8af7_f48e38cefba2row17_col6 {\n",
       "            background-color:  #000000;\n",
       "            color:  #f1f1f1;\n",
       "        }    #T_eaa89b06_dd23_11eb_8af7_f48e38cefba2row18_col4 {\n",
       "            background-color:  #f7fbff;\n",
       "            color:  #000000;\n",
       "        }    #T_eaa89b06_dd23_11eb_8af7_f48e38cefba2row18_col5 {\n",
       "            background-color:  #084a91;\n",
       "            color:  #f1f1f1;\n",
       "        }    #T_eaa89b06_dd23_11eb_8af7_f48e38cefba2row18_col6 {\n",
       "            background-color:  #000000;\n",
       "            color:  #f1f1f1;\n",
       "        }    #T_eaa89b06_dd23_11eb_8af7_f48e38cefba2row19_col4 {\n",
       "            background-color:  #f7fbff;\n",
       "            color:  #000000;\n",
       "        }    #T_eaa89b06_dd23_11eb_8af7_f48e38cefba2row19_col5 {\n",
       "            background-color:  #083c7d;\n",
       "            color:  #f1f1f1;\n",
       "        }    #T_eaa89b06_dd23_11eb_8af7_f48e38cefba2row19_col6 {\n",
       "            background-color:  #000000;\n",
       "            color:  #f1f1f1;\n",
       "        }    #T_eaa89b06_dd23_11eb_8af7_f48e38cefba2row20_col4 {\n",
       "            background-color:  #f7fbff;\n",
       "            color:  #000000;\n",
       "        }    #T_eaa89b06_dd23_11eb_8af7_f48e38cefba2row20_col5 {\n",
       "            background-color:  #08306b;\n",
       "            color:  #f1f1f1;\n",
       "        }    #T_eaa89b06_dd23_11eb_8af7_f48e38cefba2row20_col6 {\n",
       "            background-color:  #000000;\n",
       "            color:  #f1f1f1;\n",
       "        }</style><table id=\"T_eaa89b06_dd23_11eb_8af7_f48e38cefba2\" ><thead>    <tr>        <th class=\"blank level0\" ></th>        <th class=\"col_heading level0 col0\" >Precision</th>        <th class=\"col_heading level0 col1\" >Recall</th>        <th class=\"col_heading level0 col2\" >Accuracy</th>        <th class=\"col_heading level0 col3\" >A_major</th>        <th class=\"col_heading level0 col4\" >BalancedAccuracy</th>        <th class=\"col_heading level0 col5\" >thresh</th>        <th class=\"col_heading level0 col6\" >F1</th>    </tr></thead><tbody>\n",
       "                <tr>\n",
       "                        <th id=\"T_eaa89b06_dd23_11eb_8af7_f48e38cefba2level0_row0\" class=\"row_heading level0 row0\" >0</th>\n",
       "                        <td id=\"T_eaa89b06_dd23_11eb_8af7_f48e38cefba2row0_col0\" class=\"data row0 col0\" >0.0017475316115986169</td>\n",
       "                        <td id=\"T_eaa89b06_dd23_11eb_8af7_f48e38cefba2row0_col1\" class=\"data row0 col1\" >1.0</td>\n",
       "                        <td id=\"T_eaa89b06_dd23_11eb_8af7_f48e38cefba2row0_col2\" class=\"data row0 col2\" >0.005112957802547771</td>\n",
       "                        <td id=\"T_eaa89b06_dd23_11eb_8af7_f48e38cefba2row0_col3\" class=\"data row0 col3\" >0.003377199541398734</td>\n",
       "                        <td id=\"T_eaa89b06_dd23_11eb_8af7_f48e38cefba2row0_col4\" class=\"data row0 col4\" >0.501689</td>\n",
       "                        <td id=\"T_eaa89b06_dd23_11eb_8af7_f48e38cefba2row0_col5\" class=\"data row0 col5\" >0.000000</td>\n",
       "                        <td id=\"T_eaa89b06_dd23_11eb_8af7_f48e38cefba2row0_col6\" class=\"data row0 col6\" >0.003489</td>\n",
       "            </tr>\n",
       "            <tr>\n",
       "                        <th id=\"T_eaa89b06_dd23_11eb_8af7_f48e38cefba2level0_row1\" class=\"row_heading level0 row1\" >1</th>\n",
       "                        <td id=\"T_eaa89b06_dd23_11eb_8af7_f48e38cefba2row1_col0\" class=\"data row1 col0\" >0.004006887873369097</td>\n",
       "                        <td id=\"T_eaa89b06_dd23_11eb_8af7_f48e38cefba2row1_col1\" class=\"data row1 col1\" >0.8642857142857143</td>\n",
       "                        <td id=\"T_eaa89b06_dd23_11eb_8af7_f48e38cefba2row1_col2\" class=\"data row1 col2\" >0.6255971337579618</td>\n",
       "                        <td id=\"T_eaa89b06_dd23_11eb_8af7_f48e38cefba2row1_col3\" class=\"data row1 col3\" >0.6251806988684512</td>\n",
       "                        <td id=\"T_eaa89b06_dd23_11eb_8af7_f48e38cefba2row1_col4\" class=\"data row1 col4\" >0.744733</td>\n",
       "                        <td id=\"T_eaa89b06_dd23_11eb_8af7_f48e38cefba2row1_col5\" class=\"data row1 col5\" >0.042500</td>\n",
       "                        <td id=\"T_eaa89b06_dd23_11eb_8af7_f48e38cefba2row1_col6\" class=\"data row1 col6\" >0.007977</td>\n",
       "            </tr>\n",
       "            <tr>\n",
       "                        <th id=\"T_eaa89b06_dd23_11eb_8af7_f48e38cefba2level0_row2\" class=\"row_heading level0 row2\" >2</th>\n",
       "                        <td id=\"T_eaa89b06_dd23_11eb_8af7_f48e38cefba2row2_col0\" class=\"data row2 col0\" >0.005321170657544659</td>\n",
       "                        <td id=\"T_eaa89b06_dd23_11eb_8af7_f48e38cefba2row2_col1\" class=\"data row2 col1\" >0.3</td>\n",
       "                        <td id=\"T_eaa89b06_dd23_11eb_8af7_f48e38cefba2row2_col2\" class=\"data row2 col2\" >0.9011121616242038</td>\n",
       "                        <td id=\"T_eaa89b06_dd23_11eb_8af7_f48e38cefba2row2_col3\" class=\"data row2 col3\" >0.9021609092268581</td>\n",
       "                        <td id=\"T_eaa89b06_dd23_11eb_8af7_f48e38cefba2row2_col4\" class=\"data row2 col4\" >0.601080</td>\n",
       "                        <td id=\"T_eaa89b06_dd23_11eb_8af7_f48e38cefba2row2_col5\" class=\"data row2 col5\" >0.085000</td>\n",
       "                        <td id=\"T_eaa89b06_dd23_11eb_8af7_f48e38cefba2row2_col6\" class=\"data row2 col6\" >0.010457</td>\n",
       "            </tr>\n",
       "            <tr>\n",
       "                        <th id=\"T_eaa89b06_dd23_11eb_8af7_f48e38cefba2level0_row3\" class=\"row_heading level0 row3\" >3</th>\n",
       "                        <td id=\"T_eaa89b06_dd23_11eb_8af7_f48e38cefba2row3_col0\" class=\"data row3 col0\" >0.005707297187117815</td>\n",
       "                        <td id=\"T_eaa89b06_dd23_11eb_8af7_f48e38cefba2row3_col1\" class=\"data row3 col1\" >0.3</td>\n",
       "                        <td id=\"T_eaa89b06_dd23_11eb_8af7_f48e38cefba2row3_col2\" class=\"data row3 col2\" >0.9077552746815286</td>\n",
       "                        <td id=\"T_eaa89b06_dd23_11eb_8af7_f48e38cefba2row3_col3\" class=\"data row3 col3\" >0.9088156123822342</td>\n",
       "                        <td id=\"T_eaa89b06_dd23_11eb_8af7_f48e38cefba2row3_col4\" class=\"data row3 col4\" >0.604408</td>\n",
       "                        <td id=\"T_eaa89b06_dd23_11eb_8af7_f48e38cefba2row3_col5\" class=\"data row3 col5\" >0.127500</td>\n",
       "                        <td id=\"T_eaa89b06_dd23_11eb_8af7_f48e38cefba2row3_col6\" class=\"data row3 col6\" >0.011201</td>\n",
       "            </tr>\n",
       "            <tr>\n",
       "                        <th id=\"T_eaa89b06_dd23_11eb_8af7_f48e38cefba2level0_row4\" class=\"row_heading level0 row4\" >4</th>\n",
       "                        <td id=\"T_eaa89b06_dd23_11eb_8af7_f48e38cefba2row4_col0\" class=\"data row4 col0\" >0.005711954304365565</td>\n",
       "                        <td id=\"T_eaa89b06_dd23_11eb_8af7_f48e38cefba2row4_col1\" class=\"data row4 col1\" >0.3</td>\n",
       "                        <td id=\"T_eaa89b06_dd23_11eb_8af7_f48e38cefba2row4_col2\" class=\"data row4 col2\" >0.9078299164012739</td>\n",
       "                        <td id=\"T_eaa89b06_dd23_11eb_8af7_f48e38cefba2row4_col3\" class=\"data row4 col3\" >0.9088903843278002</td>\n",
       "                        <td id=\"T_eaa89b06_dd23_11eb_8af7_f48e38cefba2row4_col4\" class=\"data row4 col4\" >0.604445</td>\n",
       "                        <td id=\"T_eaa89b06_dd23_11eb_8af7_f48e38cefba2row4_col5\" class=\"data row4 col5\" >0.170000</td>\n",
       "                        <td id=\"T_eaa89b06_dd23_11eb_8af7_f48e38cefba2row4_col6\" class=\"data row4 col6\" >0.011210</td>\n",
       "            </tr>\n",
       "            <tr>\n",
       "                        <th id=\"T_eaa89b06_dd23_11eb_8af7_f48e38cefba2level0_row5\" class=\"row_heading level0 row5\" >5</th>\n",
       "                        <td id=\"T_eaa89b06_dd23_11eb_8af7_f48e38cefba2row5_col0\" class=\"data row5 col0\" >0.005712731229597388</td>\n",
       "                        <td id=\"T_eaa89b06_dd23_11eb_8af7_f48e38cefba2row5_col1\" class=\"data row5 col1\" >0.3</td>\n",
       "                        <td id=\"T_eaa89b06_dd23_11eb_8af7_f48e38cefba2row5_col2\" class=\"data row5 col2\" >0.9078423566878981</td>\n",
       "                        <td id=\"T_eaa89b06_dd23_11eb_8af7_f48e38cefba2row5_col3\" class=\"data row5 col3\" >0.9089028463187279</td>\n",
       "                        <td id=\"T_eaa89b06_dd23_11eb_8af7_f48e38cefba2row5_col4\" class=\"data row5 col4\" >0.604451</td>\n",
       "                        <td id=\"T_eaa89b06_dd23_11eb_8af7_f48e38cefba2row5_col5\" class=\"data row5 col5\" >0.212500</td>\n",
       "                        <td id=\"T_eaa89b06_dd23_11eb_8af7_f48e38cefba2row5_col6\" class=\"data row5 col6\" >0.011212</td>\n",
       "            </tr>\n",
       "            <tr>\n",
       "                        <th id=\"T_eaa89b06_dd23_11eb_8af7_f48e38cefba2level0_row6\" class=\"row_heading level0 row6\" >6</th>\n",
       "                        <td id=\"T_eaa89b06_dd23_11eb_8af7_f48e38cefba2row6_col0\" class=\"data row6 col0\" >0.005713508366208679</td>\n",
       "                        <td id=\"T_eaa89b06_dd23_11eb_8af7_f48e38cefba2row6_col1\" class=\"data row6 col1\" >0.3</td>\n",
       "                        <td id=\"T_eaa89b06_dd23_11eb_8af7_f48e38cefba2row6_col2\" class=\"data row6 col2\" >0.9078547969745223</td>\n",
       "                        <td id=\"T_eaa89b06_dd23_11eb_8af7_f48e38cefba2row6_col3\" class=\"data row6 col3\" >0.9089153083096555</td>\n",
       "                        <td id=\"T_eaa89b06_dd23_11eb_8af7_f48e38cefba2row6_col4\" class=\"data row6 col4\" >0.604458</td>\n",
       "                        <td id=\"T_eaa89b06_dd23_11eb_8af7_f48e38cefba2row6_col5\" class=\"data row6 col5\" >0.255000</td>\n",
       "                        <td id=\"T_eaa89b06_dd23_11eb_8af7_f48e38cefba2row6_col6\" class=\"data row6 col6\" >0.011213</td>\n",
       "            </tr>\n",
       "            <tr>\n",
       "                        <th id=\"T_eaa89b06_dd23_11eb_8af7_f48e38cefba2level0_row7\" class=\"row_heading level0 row7\" >7</th>\n",
       "                        <td id=\"T_eaa89b06_dd23_11eb_8af7_f48e38cefba2row7_col0\" class=\"data row7 col0\" >0.005713508366208679</td>\n",
       "                        <td id=\"T_eaa89b06_dd23_11eb_8af7_f48e38cefba2row7_col1\" class=\"data row7 col1\" >0.3</td>\n",
       "                        <td id=\"T_eaa89b06_dd23_11eb_8af7_f48e38cefba2row7_col2\" class=\"data row7 col2\" >0.9078547969745223</td>\n",
       "                        <td id=\"T_eaa89b06_dd23_11eb_8af7_f48e38cefba2row7_col3\" class=\"data row7 col3\" >0.9089153083096555</td>\n",
       "                        <td id=\"T_eaa89b06_dd23_11eb_8af7_f48e38cefba2row7_col4\" class=\"data row7 col4\" >0.604458</td>\n",
       "                        <td id=\"T_eaa89b06_dd23_11eb_8af7_f48e38cefba2row7_col5\" class=\"data row7 col5\" >0.297500</td>\n",
       "                        <td id=\"T_eaa89b06_dd23_11eb_8af7_f48e38cefba2row7_col6\" class=\"data row7 col6\" >0.011213</td>\n",
       "            </tr>\n",
       "            <tr>\n",
       "                        <th id=\"T_eaa89b06_dd23_11eb_8af7_f48e38cefba2level0_row8\" class=\"row_heading level0 row8\" >8</th>\n",
       "                        <td id=\"T_eaa89b06_dd23_11eb_8af7_f48e38cefba2row8_col0\" class=\"data row8 col0\" >0.005713508366208679</td>\n",
       "                        <td id=\"T_eaa89b06_dd23_11eb_8af7_f48e38cefba2row8_col1\" class=\"data row8 col1\" >0.3</td>\n",
       "                        <td id=\"T_eaa89b06_dd23_11eb_8af7_f48e38cefba2row8_col2\" class=\"data row8 col2\" >0.9078547969745223</td>\n",
       "                        <td id=\"T_eaa89b06_dd23_11eb_8af7_f48e38cefba2row8_col3\" class=\"data row8 col3\" >0.9089153083096555</td>\n",
       "                        <td id=\"T_eaa89b06_dd23_11eb_8af7_f48e38cefba2row8_col4\" class=\"data row8 col4\" >0.604458</td>\n",
       "                        <td id=\"T_eaa89b06_dd23_11eb_8af7_f48e38cefba2row8_col5\" class=\"data row8 col5\" >0.340000</td>\n",
       "                        <td id=\"T_eaa89b06_dd23_11eb_8af7_f48e38cefba2row8_col6\" class=\"data row8 col6\" >0.011213</td>\n",
       "            </tr>\n",
       "            <tr>\n",
       "                        <th id=\"T_eaa89b06_dd23_11eb_8af7_f48e38cefba2level0_row9\" class=\"row_heading level0 row9\" >9</th>\n",
       "                        <td id=\"T_eaa89b06_dd23_11eb_8af7_f48e38cefba2row9_col0\" class=\"data row9 col0\" >0.0</td>\n",
       "                        <td id=\"T_eaa89b06_dd23_11eb_8af7_f48e38cefba2row9_col1\" class=\"data row9 col1\" >0.0</td>\n",
       "                        <td id=\"T_eaa89b06_dd23_11eb_8af7_f48e38cefba2row9_col2\" class=\"data row9 col2\" >0.9982459195859873</td>\n",
       "                        <td id=\"T_eaa89b06_dd23_11eb_8af7_f48e38cefba2row9_col3\" class=\"data row9 col3\" >0.9999875380090724</td>\n",
       "                        <td id=\"T_eaa89b06_dd23_11eb_8af7_f48e38cefba2row9_col4\" class=\"data row9 col4\" >0.499994</td>\n",
       "                        <td id=\"T_eaa89b06_dd23_11eb_8af7_f48e38cefba2row9_col5\" class=\"data row9 col5\" >0.382500</td>\n",
       "                        <td id=\"T_eaa89b06_dd23_11eb_8af7_f48e38cefba2row9_col6\" class=\"data row9 col6\" >nan</td>\n",
       "            </tr>\n",
       "            <tr>\n",
       "                        <th id=\"T_eaa89b06_dd23_11eb_8af7_f48e38cefba2level0_row10\" class=\"row_heading level0 row10\" >10</th>\n",
       "                        <td id=\"T_eaa89b06_dd23_11eb_8af7_f48e38cefba2row10_col0\" class=\"data row10 col0\" >0.0</td>\n",
       "                        <td id=\"T_eaa89b06_dd23_11eb_8af7_f48e38cefba2row10_col1\" class=\"data row10 col1\" >0.0</td>\n",
       "                        <td id=\"T_eaa89b06_dd23_11eb_8af7_f48e38cefba2row10_col2\" class=\"data row10 col2\" >0.9982583598726115</td>\n",
       "                        <td id=\"T_eaa89b06_dd23_11eb_8af7_f48e38cefba2row10_col3\" class=\"data row10 col3\" >1.0</td>\n",
       "                        <td id=\"T_eaa89b06_dd23_11eb_8af7_f48e38cefba2row10_col4\" class=\"data row10 col4\" >0.500000</td>\n",
       "                        <td id=\"T_eaa89b06_dd23_11eb_8af7_f48e38cefba2row10_col5\" class=\"data row10 col5\" >0.425000</td>\n",
       "                        <td id=\"T_eaa89b06_dd23_11eb_8af7_f48e38cefba2row10_col6\" class=\"data row10 col6\" >nan</td>\n",
       "            </tr>\n",
       "            <tr>\n",
       "                        <th id=\"T_eaa89b06_dd23_11eb_8af7_f48e38cefba2level0_row11\" class=\"row_heading level0 row11\" >11</th>\n",
       "                        <td id=\"T_eaa89b06_dd23_11eb_8af7_f48e38cefba2row11_col0\" class=\"data row11 col0\" >0.0</td>\n",
       "                        <td id=\"T_eaa89b06_dd23_11eb_8af7_f48e38cefba2row11_col1\" class=\"data row11 col1\" >0.0</td>\n",
       "                        <td id=\"T_eaa89b06_dd23_11eb_8af7_f48e38cefba2row11_col2\" class=\"data row11 col2\" >0.9982583598726115</td>\n",
       "                        <td id=\"T_eaa89b06_dd23_11eb_8af7_f48e38cefba2row11_col3\" class=\"data row11 col3\" >1.0</td>\n",
       "                        <td id=\"T_eaa89b06_dd23_11eb_8af7_f48e38cefba2row11_col4\" class=\"data row11 col4\" >0.500000</td>\n",
       "                        <td id=\"T_eaa89b06_dd23_11eb_8af7_f48e38cefba2row11_col5\" class=\"data row11 col5\" >0.467500</td>\n",
       "                        <td id=\"T_eaa89b06_dd23_11eb_8af7_f48e38cefba2row11_col6\" class=\"data row11 col6\" >nan</td>\n",
       "            </tr>\n",
       "            <tr>\n",
       "                        <th id=\"T_eaa89b06_dd23_11eb_8af7_f48e38cefba2level0_row12\" class=\"row_heading level0 row12\" >12</th>\n",
       "                        <td id=\"T_eaa89b06_dd23_11eb_8af7_f48e38cefba2row12_col0\" class=\"data row12 col0\" >0.0</td>\n",
       "                        <td id=\"T_eaa89b06_dd23_11eb_8af7_f48e38cefba2row12_col1\" class=\"data row12 col1\" >0.0</td>\n",
       "                        <td id=\"T_eaa89b06_dd23_11eb_8af7_f48e38cefba2row12_col2\" class=\"data row12 col2\" >0.9982583598726115</td>\n",
       "                        <td id=\"T_eaa89b06_dd23_11eb_8af7_f48e38cefba2row12_col3\" class=\"data row12 col3\" >1.0</td>\n",
       "                        <td id=\"T_eaa89b06_dd23_11eb_8af7_f48e38cefba2row12_col4\" class=\"data row12 col4\" >0.500000</td>\n",
       "                        <td id=\"T_eaa89b06_dd23_11eb_8af7_f48e38cefba2row12_col5\" class=\"data row12 col5\" >0.510000</td>\n",
       "                        <td id=\"T_eaa89b06_dd23_11eb_8af7_f48e38cefba2row12_col6\" class=\"data row12 col6\" >nan</td>\n",
       "            </tr>\n",
       "            <tr>\n",
       "                        <th id=\"T_eaa89b06_dd23_11eb_8af7_f48e38cefba2level0_row13\" class=\"row_heading level0 row13\" >13</th>\n",
       "                        <td id=\"T_eaa89b06_dd23_11eb_8af7_f48e38cefba2row13_col0\" class=\"data row13 col0\" >0.0</td>\n",
       "                        <td id=\"T_eaa89b06_dd23_11eb_8af7_f48e38cefba2row13_col1\" class=\"data row13 col1\" >0.0</td>\n",
       "                        <td id=\"T_eaa89b06_dd23_11eb_8af7_f48e38cefba2row13_col2\" class=\"data row13 col2\" >0.9982583598726115</td>\n",
       "                        <td id=\"T_eaa89b06_dd23_11eb_8af7_f48e38cefba2row13_col3\" class=\"data row13 col3\" >1.0</td>\n",
       "                        <td id=\"T_eaa89b06_dd23_11eb_8af7_f48e38cefba2row13_col4\" class=\"data row13 col4\" >0.500000</td>\n",
       "                        <td id=\"T_eaa89b06_dd23_11eb_8af7_f48e38cefba2row13_col5\" class=\"data row13 col5\" >0.552500</td>\n",
       "                        <td id=\"T_eaa89b06_dd23_11eb_8af7_f48e38cefba2row13_col6\" class=\"data row13 col6\" >nan</td>\n",
       "            </tr>\n",
       "            <tr>\n",
       "                        <th id=\"T_eaa89b06_dd23_11eb_8af7_f48e38cefba2level0_row14\" class=\"row_heading level0 row14\" >14</th>\n",
       "                        <td id=\"T_eaa89b06_dd23_11eb_8af7_f48e38cefba2row14_col0\" class=\"data row14 col0\" >0.0</td>\n",
       "                        <td id=\"T_eaa89b06_dd23_11eb_8af7_f48e38cefba2row14_col1\" class=\"data row14 col1\" >0.0</td>\n",
       "                        <td id=\"T_eaa89b06_dd23_11eb_8af7_f48e38cefba2row14_col2\" class=\"data row14 col2\" >0.9982583598726115</td>\n",
       "                        <td id=\"T_eaa89b06_dd23_11eb_8af7_f48e38cefba2row14_col3\" class=\"data row14 col3\" >1.0</td>\n",
       "                        <td id=\"T_eaa89b06_dd23_11eb_8af7_f48e38cefba2row14_col4\" class=\"data row14 col4\" >0.500000</td>\n",
       "                        <td id=\"T_eaa89b06_dd23_11eb_8af7_f48e38cefba2row14_col5\" class=\"data row14 col5\" >0.595000</td>\n",
       "                        <td id=\"T_eaa89b06_dd23_11eb_8af7_f48e38cefba2row14_col6\" class=\"data row14 col6\" >nan</td>\n",
       "            </tr>\n",
       "            <tr>\n",
       "                        <th id=\"T_eaa89b06_dd23_11eb_8af7_f48e38cefba2level0_row15\" class=\"row_heading level0 row15\" >15</th>\n",
       "                        <td id=\"T_eaa89b06_dd23_11eb_8af7_f48e38cefba2row15_col0\" class=\"data row15 col0\" >0.0</td>\n",
       "                        <td id=\"T_eaa89b06_dd23_11eb_8af7_f48e38cefba2row15_col1\" class=\"data row15 col1\" >0.0</td>\n",
       "                        <td id=\"T_eaa89b06_dd23_11eb_8af7_f48e38cefba2row15_col2\" class=\"data row15 col2\" >0.9982583598726115</td>\n",
       "                        <td id=\"T_eaa89b06_dd23_11eb_8af7_f48e38cefba2row15_col3\" class=\"data row15 col3\" >1.0</td>\n",
       "                        <td id=\"T_eaa89b06_dd23_11eb_8af7_f48e38cefba2row15_col4\" class=\"data row15 col4\" >0.500000</td>\n",
       "                        <td id=\"T_eaa89b06_dd23_11eb_8af7_f48e38cefba2row15_col5\" class=\"data row15 col5\" >0.637500</td>\n",
       "                        <td id=\"T_eaa89b06_dd23_11eb_8af7_f48e38cefba2row15_col6\" class=\"data row15 col6\" >nan</td>\n",
       "            </tr>\n",
       "            <tr>\n",
       "                        <th id=\"T_eaa89b06_dd23_11eb_8af7_f48e38cefba2level0_row16\" class=\"row_heading level0 row16\" >16</th>\n",
       "                        <td id=\"T_eaa89b06_dd23_11eb_8af7_f48e38cefba2row16_col0\" class=\"data row16 col0\" >0.0</td>\n",
       "                        <td id=\"T_eaa89b06_dd23_11eb_8af7_f48e38cefba2row16_col1\" class=\"data row16 col1\" >0.0</td>\n",
       "                        <td id=\"T_eaa89b06_dd23_11eb_8af7_f48e38cefba2row16_col2\" class=\"data row16 col2\" >0.9982583598726115</td>\n",
       "                        <td id=\"T_eaa89b06_dd23_11eb_8af7_f48e38cefba2row16_col3\" class=\"data row16 col3\" >1.0</td>\n",
       "                        <td id=\"T_eaa89b06_dd23_11eb_8af7_f48e38cefba2row16_col4\" class=\"data row16 col4\" >0.500000</td>\n",
       "                        <td id=\"T_eaa89b06_dd23_11eb_8af7_f48e38cefba2row16_col5\" class=\"data row16 col5\" >0.680000</td>\n",
       "                        <td id=\"T_eaa89b06_dd23_11eb_8af7_f48e38cefba2row16_col6\" class=\"data row16 col6\" >nan</td>\n",
       "            </tr>\n",
       "            <tr>\n",
       "                        <th id=\"T_eaa89b06_dd23_11eb_8af7_f48e38cefba2level0_row17\" class=\"row_heading level0 row17\" >17</th>\n",
       "                        <td id=\"T_eaa89b06_dd23_11eb_8af7_f48e38cefba2row17_col0\" class=\"data row17 col0\" >0.0</td>\n",
       "                        <td id=\"T_eaa89b06_dd23_11eb_8af7_f48e38cefba2row17_col1\" class=\"data row17 col1\" >0.0</td>\n",
       "                        <td id=\"T_eaa89b06_dd23_11eb_8af7_f48e38cefba2row17_col2\" class=\"data row17 col2\" >0.9982583598726115</td>\n",
       "                        <td id=\"T_eaa89b06_dd23_11eb_8af7_f48e38cefba2row17_col3\" class=\"data row17 col3\" >1.0</td>\n",
       "                        <td id=\"T_eaa89b06_dd23_11eb_8af7_f48e38cefba2row17_col4\" class=\"data row17 col4\" >0.500000</td>\n",
       "                        <td id=\"T_eaa89b06_dd23_11eb_8af7_f48e38cefba2row17_col5\" class=\"data row17 col5\" >0.722500</td>\n",
       "                        <td id=\"T_eaa89b06_dd23_11eb_8af7_f48e38cefba2row17_col6\" class=\"data row17 col6\" >nan</td>\n",
       "            </tr>\n",
       "            <tr>\n",
       "                        <th id=\"T_eaa89b06_dd23_11eb_8af7_f48e38cefba2level0_row18\" class=\"row_heading level0 row18\" >18</th>\n",
       "                        <td id=\"T_eaa89b06_dd23_11eb_8af7_f48e38cefba2row18_col0\" class=\"data row18 col0\" >0.0</td>\n",
       "                        <td id=\"T_eaa89b06_dd23_11eb_8af7_f48e38cefba2row18_col1\" class=\"data row18 col1\" >0.0</td>\n",
       "                        <td id=\"T_eaa89b06_dd23_11eb_8af7_f48e38cefba2row18_col2\" class=\"data row18 col2\" >0.9982583598726115</td>\n",
       "                        <td id=\"T_eaa89b06_dd23_11eb_8af7_f48e38cefba2row18_col3\" class=\"data row18 col3\" >1.0</td>\n",
       "                        <td id=\"T_eaa89b06_dd23_11eb_8af7_f48e38cefba2row18_col4\" class=\"data row18 col4\" >0.500000</td>\n",
       "                        <td id=\"T_eaa89b06_dd23_11eb_8af7_f48e38cefba2row18_col5\" class=\"data row18 col5\" >0.765000</td>\n",
       "                        <td id=\"T_eaa89b06_dd23_11eb_8af7_f48e38cefba2row18_col6\" class=\"data row18 col6\" >nan</td>\n",
       "            </tr>\n",
       "            <tr>\n",
       "                        <th id=\"T_eaa89b06_dd23_11eb_8af7_f48e38cefba2level0_row19\" class=\"row_heading level0 row19\" >19</th>\n",
       "                        <td id=\"T_eaa89b06_dd23_11eb_8af7_f48e38cefba2row19_col0\" class=\"data row19 col0\" >0.0</td>\n",
       "                        <td id=\"T_eaa89b06_dd23_11eb_8af7_f48e38cefba2row19_col1\" class=\"data row19 col1\" >0.0</td>\n",
       "                        <td id=\"T_eaa89b06_dd23_11eb_8af7_f48e38cefba2row19_col2\" class=\"data row19 col2\" >0.9982583598726115</td>\n",
       "                        <td id=\"T_eaa89b06_dd23_11eb_8af7_f48e38cefba2row19_col3\" class=\"data row19 col3\" >1.0</td>\n",
       "                        <td id=\"T_eaa89b06_dd23_11eb_8af7_f48e38cefba2row19_col4\" class=\"data row19 col4\" >0.500000</td>\n",
       "                        <td id=\"T_eaa89b06_dd23_11eb_8af7_f48e38cefba2row19_col5\" class=\"data row19 col5\" >0.807500</td>\n",
       "                        <td id=\"T_eaa89b06_dd23_11eb_8af7_f48e38cefba2row19_col6\" class=\"data row19 col6\" >nan</td>\n",
       "            </tr>\n",
       "            <tr>\n",
       "                        <th id=\"T_eaa89b06_dd23_11eb_8af7_f48e38cefba2level0_row20\" class=\"row_heading level0 row20\" >20</th>\n",
       "                        <td id=\"T_eaa89b06_dd23_11eb_8af7_f48e38cefba2row20_col0\" class=\"data row20 col0\" >0.0</td>\n",
       "                        <td id=\"T_eaa89b06_dd23_11eb_8af7_f48e38cefba2row20_col1\" class=\"data row20 col1\" >0.0</td>\n",
       "                        <td id=\"T_eaa89b06_dd23_11eb_8af7_f48e38cefba2row20_col2\" class=\"data row20 col2\" >0.9982583598726115</td>\n",
       "                        <td id=\"T_eaa89b06_dd23_11eb_8af7_f48e38cefba2row20_col3\" class=\"data row20 col3\" >1.0</td>\n",
       "                        <td id=\"T_eaa89b06_dd23_11eb_8af7_f48e38cefba2row20_col4\" class=\"data row20 col4\" >0.500000</td>\n",
       "                        <td id=\"T_eaa89b06_dd23_11eb_8af7_f48e38cefba2row20_col5\" class=\"data row20 col5\" >0.850000</td>\n",
       "                        <td id=\"T_eaa89b06_dd23_11eb_8af7_f48e38cefba2row20_col6\" class=\"data row20 col6\" >nan</td>\n",
       "            </tr>\n",
       "    </tbody></table>"
      ],
      "text/plain": [
       "<pandas.io.formats.style.Styler at 0x7f36303004a8>"
      ]
     },
     "execution_count": 345,
     "metadata": {},
     "output_type": "execute_result"
    }
   ],
   "source": [
    "df_nn=prMetricsByThresh(cpMethod.neural_network.name, torch.tensor(results.t_out.cp_logits).float(), \\\n",
    "                        torch.tensor(test_dataset.data['cps']).unsqueeze(2).float(), 20, 0, 0.85)\n",
    "df_nn.style.background_gradient(cmap=\"Blues\")"
   ]
  },
  {
   "cell_type": "code",
   "execution_count": 346,
   "metadata": {},
   "outputs": [
    {
     "name": "stdout",
     "output_type": "stream",
     "text": [
      "(100, 2512, 32, 3) (2512, 32, 1) (32,)\n"
     ]
    },
    {
     "name": "stderr",
     "output_type": "stream",
     "text": [
      "/share/software/user/open/py-jupyter/1.0.0_py36/lib/python3.6/site-packages/ipykernel_launcher.py:15: RuntimeWarning:\n",
      "\n",
      "invalid value encountered in double_scalars\n",
      "\n"
     ]
    },
    {
     "name": "stdout",
     "output_type": "stream",
     "text": [
      "Finished 'prMetricsByThresh' in 0.6007 secs\n"
     ]
    },
    {
     "data": {
      "text/html": [
       "<style  type=\"text/css\" >\n",
       "    #T_eb0f667e_dd23_11eb_8af7_f48e38cefba2row0_col4 {\n",
       "            background-color:  #d7e6f5;\n",
       "            color:  #000000;\n",
       "        }    #T_eb0f667e_dd23_11eb_8af7_f48e38cefba2row0_col5 {\n",
       "            background-color:  #f7fbff;\n",
       "            color:  #000000;\n",
       "        }    #T_eb0f667e_dd23_11eb_8af7_f48e38cefba2row0_col6 {\n",
       "            background-color:  #f7fbff;\n",
       "            color:  #000000;\n",
       "        }    #T_eb0f667e_dd23_11eb_8af7_f48e38cefba2row1_col4 {\n",
       "            background-color:  #08306b;\n",
       "            color:  #f1f1f1;\n",
       "        }    #T_eb0f667e_dd23_11eb_8af7_f48e38cefba2row1_col5 {\n",
       "            background-color:  #eef5fc;\n",
       "            color:  #000000;\n",
       "        }    #T_eb0f667e_dd23_11eb_8af7_f48e38cefba2row1_col6 {\n",
       "            background-color:  #d2e3f3;\n",
       "            color:  #000000;\n",
       "        }    #T_eb0f667e_dd23_11eb_8af7_f48e38cefba2row2_col4 {\n",
       "            background-color:  #4b98ca;\n",
       "            color:  #000000;\n",
       "        }    #T_eb0f667e_dd23_11eb_8af7_f48e38cefba2row2_col5 {\n",
       "            background-color:  #e3eef9;\n",
       "            color:  #000000;\n",
       "        }    #T_eb0f667e_dd23_11eb_8af7_f48e38cefba2row2_col6 {\n",
       "            background-color:  #a8cee4;\n",
       "            color:  #000000;\n",
       "        }    #T_eb0f667e_dd23_11eb_8af7_f48e38cefba2row3_col4 {\n",
       "            background-color:  #bed8ec;\n",
       "            color:  #000000;\n",
       "        }    #T_eb0f667e_dd23_11eb_8af7_f48e38cefba2row3_col5 {\n",
       "            background-color:  #d9e8f5;\n",
       "            color:  #000000;\n",
       "        }    #T_eb0f667e_dd23_11eb_8af7_f48e38cefba2row3_col6 {\n",
       "            background-color:  #9cc9e1;\n",
       "            color:  #000000;\n",
       "        }    #T_eb0f667e_dd23_11eb_8af7_f48e38cefba2row4_col4 {\n",
       "            background-color:  #d2e3f3;\n",
       "            color:  #000000;\n",
       "        }    #T_eb0f667e_dd23_11eb_8af7_f48e38cefba2row4_col5 {\n",
       "            background-color:  #d0e1f2;\n",
       "            color:  #000000;\n",
       "        }    #T_eb0f667e_dd23_11eb_8af7_f48e38cefba2row4_col6 {\n",
       "            background-color:  #6dafd7;\n",
       "            color:  #000000;\n",
       "        }    #T_eb0f667e_dd23_11eb_8af7_f48e38cefba2row5_col4 {\n",
       "            background-color:  #d0e1f2;\n",
       "            color:  #000000;\n",
       "        }    #T_eb0f667e_dd23_11eb_8af7_f48e38cefba2row5_col5 {\n",
       "            background-color:  #c6dbef;\n",
       "            color:  #000000;\n",
       "        }    #T_eb0f667e_dd23_11eb_8af7_f48e38cefba2row5_col6 {\n",
       "            background-color:  #08306b;\n",
       "            color:  #f1f1f1;\n",
       "        }    #T_eb0f667e_dd23_11eb_8af7_f48e38cefba2row6_col4 {\n",
       "            background-color:  #dceaf6;\n",
       "            color:  #000000;\n",
       "        }    #T_eb0f667e_dd23_11eb_8af7_f48e38cefba2row6_col5 {\n",
       "            background-color:  #b7d4ea;\n",
       "            color:  #000000;\n",
       "        }    #T_eb0f667e_dd23_11eb_8af7_f48e38cefba2row6_col6 {\n",
       "            background-color:  #3181bd;\n",
       "            color:  #000000;\n",
       "        }    #T_eb0f667e_dd23_11eb_8af7_f48e38cefba2row7_col4 {\n",
       "            background-color:  #dceaf6;\n",
       "            color:  #000000;\n",
       "        }    #T_eb0f667e_dd23_11eb_8af7_f48e38cefba2row7_col5 {\n",
       "            background-color:  #a6cee4;\n",
       "            color:  #000000;\n",
       "        }    #T_eb0f667e_dd23_11eb_8af7_f48e38cefba2row7_col6 {\n",
       "            background-color:  #3080bd;\n",
       "            color:  #000000;\n",
       "        }    #T_eb0f667e_dd23_11eb_8af7_f48e38cefba2row8_col4 {\n",
       "            background-color:  #dceaf6;\n",
       "            color:  #000000;\n",
       "        }    #T_eb0f667e_dd23_11eb_8af7_f48e38cefba2row8_col5 {\n",
       "            background-color:  #94c4df;\n",
       "            color:  #000000;\n",
       "        }    #T_eb0f667e_dd23_11eb_8af7_f48e38cefba2row8_col6 {\n",
       "            background-color:  #3080bd;\n",
       "            color:  #000000;\n",
       "        }    #T_eb0f667e_dd23_11eb_8af7_f48e38cefba2row9_col4 {\n",
       "            background-color:  #eaf2fb;\n",
       "            color:  #000000;\n",
       "        }    #T_eb0f667e_dd23_11eb_8af7_f48e38cefba2row9_col5 {\n",
       "            background-color:  #7fb9da;\n",
       "            color:  #000000;\n",
       "        }    #T_eb0f667e_dd23_11eb_8af7_f48e38cefba2row9_col6 {\n",
       "            background-color:  #abd0e6;\n",
       "            color:  #000000;\n",
       "        }    #T_eb0f667e_dd23_11eb_8af7_f48e38cefba2row10_col4 {\n",
       "            background-color:  #f7fbff;\n",
       "            color:  #000000;\n",
       "        }    #T_eb0f667e_dd23_11eb_8af7_f48e38cefba2row10_col5 {\n",
       "            background-color:  #6aaed6;\n",
       "            color:  #000000;\n",
       "        }    #T_eb0f667e_dd23_11eb_8af7_f48e38cefba2row10_col6 {\n",
       "            background-color:  #000000;\n",
       "            color:  #f1f1f1;\n",
       "        }    #T_eb0f667e_dd23_11eb_8af7_f48e38cefba2row11_col4 {\n",
       "            background-color:  #f7fbff;\n",
       "            color:  #000000;\n",
       "        }    #T_eb0f667e_dd23_11eb_8af7_f48e38cefba2row11_col5 {\n",
       "            background-color:  #5ba3d0;\n",
       "            color:  #000000;\n",
       "        }    #T_eb0f667e_dd23_11eb_8af7_f48e38cefba2row11_col6 {\n",
       "            background-color:  #000000;\n",
       "            color:  #f1f1f1;\n",
       "        }    #T_eb0f667e_dd23_11eb_8af7_f48e38cefba2row12_col4 {\n",
       "            background-color:  #f7fbff;\n",
       "            color:  #000000;\n",
       "        }    #T_eb0f667e_dd23_11eb_8af7_f48e38cefba2row12_col5 {\n",
       "            background-color:  #4a98c9;\n",
       "            color:  #000000;\n",
       "        }    #T_eb0f667e_dd23_11eb_8af7_f48e38cefba2row12_col6 {\n",
       "            background-color:  #000000;\n",
       "            color:  #f1f1f1;\n",
       "        }    #T_eb0f667e_dd23_11eb_8af7_f48e38cefba2row13_col4 {\n",
       "            background-color:  #f7fbff;\n",
       "            color:  #000000;\n",
       "        }    #T_eb0f667e_dd23_11eb_8af7_f48e38cefba2row13_col5 {\n",
       "            background-color:  #3b8bc2;\n",
       "            color:  #000000;\n",
       "        }    #T_eb0f667e_dd23_11eb_8af7_f48e38cefba2row13_col6 {\n",
       "            background-color:  #000000;\n",
       "            color:  #f1f1f1;\n",
       "        }    #T_eb0f667e_dd23_11eb_8af7_f48e38cefba2row14_col4 {\n",
       "            background-color:  #f7fbff;\n",
       "            color:  #000000;\n",
       "        }    #T_eb0f667e_dd23_11eb_8af7_f48e38cefba2row14_col5 {\n",
       "            background-color:  #2e7ebc;\n",
       "            color:  #000000;\n",
       "        }    #T_eb0f667e_dd23_11eb_8af7_f48e38cefba2row14_col6 {\n",
       "            background-color:  #000000;\n",
       "            color:  #f1f1f1;\n",
       "        }    #T_eb0f667e_dd23_11eb_8af7_f48e38cefba2row15_col4 {\n",
       "            background-color:  #f7fbff;\n",
       "            color:  #000000;\n",
       "        }    #T_eb0f667e_dd23_11eb_8af7_f48e38cefba2row15_col5 {\n",
       "            background-color:  #2070b4;\n",
       "            color:  #f1f1f1;\n",
       "        }    #T_eb0f667e_dd23_11eb_8af7_f48e38cefba2row15_col6 {\n",
       "            background-color:  #000000;\n",
       "            color:  #f1f1f1;\n",
       "        }    #T_eb0f667e_dd23_11eb_8af7_f48e38cefba2row16_col4 {\n",
       "            background-color:  #f7fbff;\n",
       "            color:  #000000;\n",
       "        }    #T_eb0f667e_dd23_11eb_8af7_f48e38cefba2row16_col5 {\n",
       "            background-color:  #1764ab;\n",
       "            color:  #f1f1f1;\n",
       "        }    #T_eb0f667e_dd23_11eb_8af7_f48e38cefba2row16_col6 {\n",
       "            background-color:  #000000;\n",
       "            color:  #f1f1f1;\n",
       "        }    #T_eb0f667e_dd23_11eb_8af7_f48e38cefba2row17_col4 {\n",
       "            background-color:  #f7fbff;\n",
       "            color:  #000000;\n",
       "        }    #T_eb0f667e_dd23_11eb_8af7_f48e38cefba2row17_col5 {\n",
       "            background-color:  #0d57a1;\n",
       "            color:  #f1f1f1;\n",
       "        }    #T_eb0f667e_dd23_11eb_8af7_f48e38cefba2row17_col6 {\n",
       "            background-color:  #000000;\n",
       "            color:  #f1f1f1;\n",
       "        }    #T_eb0f667e_dd23_11eb_8af7_f48e38cefba2row18_col4 {\n",
       "            background-color:  #f7fbff;\n",
       "            color:  #000000;\n",
       "        }    #T_eb0f667e_dd23_11eb_8af7_f48e38cefba2row18_col5 {\n",
       "            background-color:  #084a91;\n",
       "            color:  #f1f1f1;\n",
       "        }    #T_eb0f667e_dd23_11eb_8af7_f48e38cefba2row18_col6 {\n",
       "            background-color:  #000000;\n",
       "            color:  #f1f1f1;\n",
       "        }    #T_eb0f667e_dd23_11eb_8af7_f48e38cefba2row19_col4 {\n",
       "            background-color:  #f7fbff;\n",
       "            color:  #000000;\n",
       "        }    #T_eb0f667e_dd23_11eb_8af7_f48e38cefba2row19_col5 {\n",
       "            background-color:  #083c7d;\n",
       "            color:  #f1f1f1;\n",
       "        }    #T_eb0f667e_dd23_11eb_8af7_f48e38cefba2row19_col6 {\n",
       "            background-color:  #000000;\n",
       "            color:  #f1f1f1;\n",
       "        }    #T_eb0f667e_dd23_11eb_8af7_f48e38cefba2row20_col4 {\n",
       "            background-color:  #f7fbff;\n",
       "            color:  #000000;\n",
       "        }    #T_eb0f667e_dd23_11eb_8af7_f48e38cefba2row20_col5 {\n",
       "            background-color:  #08306b;\n",
       "            color:  #f1f1f1;\n",
       "        }    #T_eb0f667e_dd23_11eb_8af7_f48e38cefba2row20_col6 {\n",
       "            background-color:  #000000;\n",
       "            color:  #f1f1f1;\n",
       "        }</style><table id=\"T_eb0f667e_dd23_11eb_8af7_f48e38cefba2\" ><thead>    <tr>        <th class=\"blank level0\" ></th>        <th class=\"col_heading level0 col0\" >Precision</th>        <th class=\"col_heading level0 col1\" >Recall</th>        <th class=\"col_heading level0 col2\" >Accuracy</th>        <th class=\"col_heading level0 col3\" >A_major</th>        <th class=\"col_heading level0 col4\" >BalancedAccuracy</th>        <th class=\"col_heading level0 col5\" >thresh</th>        <th class=\"col_heading level0 col6\" >F1</th>    </tr></thead><tbody>\n",
       "                <tr>\n",
       "                        <th id=\"T_eb0f667e_dd23_11eb_8af7_f48e38cefba2level0_row0\" class=\"row_heading level0 row0\" >0</th>\n",
       "                        <td id=\"T_eb0f667e_dd23_11eb_8af7_f48e38cefba2row0_col0\" class=\"data row0 col0\" >0.001804030720065976</td>\n",
       "                        <td id=\"T_eb0f667e_dd23_11eb_8af7_f48e38cefba2row0_col1\" class=\"data row0 col1\" >1.0</td>\n",
       "                        <td id=\"T_eb0f667e_dd23_11eb_8af7_f48e38cefba2row0_col2\" class=\"data row0 col2\" >0.03632563694267516</td>\n",
       "                        <td id=\"T_eb0f667e_dd23_11eb_8af7_f48e38cefba2row0_col3\" class=\"data row0 col3\" >0.03464433477892428</td>\n",
       "                        <td id=\"T_eb0f667e_dd23_11eb_8af7_f48e38cefba2row0_col4\" class=\"data row0 col4\" >0.517322</td>\n",
       "                        <td id=\"T_eb0f667e_dd23_11eb_8af7_f48e38cefba2row0_col5\" class=\"data row0 col5\" >0.000000</td>\n",
       "                        <td id=\"T_eb0f667e_dd23_11eb_8af7_f48e38cefba2row0_col6\" class=\"data row0 col6\" >0.003602</td>\n",
       "            </tr>\n",
       "            <tr>\n",
       "                        <th id=\"T_eb0f667e_dd23_11eb_8af7_f48e38cefba2level0_row1\" class=\"row_heading level0 row1\" >1</th>\n",
       "                        <td id=\"T_eb0f667e_dd23_11eb_8af7_f48e38cefba2row1_col0\" class=\"data row1 col0\" >0.009156149467953477</td>\n",
       "                        <td id=\"T_eb0f667e_dd23_11eb_8af7_f48e38cefba2row1_col1\" class=\"data row1 col1\" >0.2642857142857143</td>\n",
       "                        <td id=\"T_eb0f667e_dd23_11eb_8af7_f48e38cefba2row1_col2\" class=\"data row1 col2\" >0.9489077428343949</td>\n",
       "                        <td id=\"T_eb0f667e_dd23_11eb_8af7_f48e38cefba2row1_col3\" class=\"data row1 col3\" >0.9501021883256069</td>\n",
       "                        <td id=\"T_eb0f667e_dd23_11eb_8af7_f48e38cefba2row1_col4\" class=\"data row1 col4\" >0.607194</td>\n",
       "                        <td id=\"T_eb0f667e_dd23_11eb_8af7_f48e38cefba2row1_col5\" class=\"data row1 col5\" >0.050000</td>\n",
       "                        <td id=\"T_eb0f667e_dd23_11eb_8af7_f48e38cefba2row1_col6\" class=\"data row1 col6\" >0.017699</td>\n",
       "            </tr>\n",
       "            <tr>\n",
       "                        <th id=\"T_eb0f667e_dd23_11eb_8af7_f48e38cefba2level0_row2\" class=\"row_heading level0 row2\" >2</th>\n",
       "                        <td id=\"T_eb0f667e_dd23_11eb_8af7_f48e38cefba2row2_col0\" class=\"data row2 col0\" >0.016286644951140065</td>\n",
       "                        <td id=\"T_eb0f667e_dd23_11eb_8af7_f48e38cefba2row2_col1\" class=\"data row2 col1\" >0.14285714285714285</td>\n",
       "                        <td id=\"T_eb0f667e_dd23_11eb_8af7_f48e38cefba2row2_col2\" class=\"data row2 col2\" >0.9834792993630573</td>\n",
       "                        <td id=\"T_eb0f667e_dd23_11eb_8af7_f48e38cefba2row2_col3\" class=\"data row2 col3\" >0.9849459149593739</td>\n",
       "                        <td id=\"T_eb0f667e_dd23_11eb_8af7_f48e38cefba2row2_col4\" class=\"data row2 col4\" >0.563902</td>\n",
       "                        <td id=\"T_eb0f667e_dd23_11eb_8af7_f48e38cefba2row2_col5\" class=\"data row2 col5\" >0.100000</td>\n",
       "                        <td id=\"T_eb0f667e_dd23_11eb_8af7_f48e38cefba2row2_col6\" class=\"data row2 col6\" >0.029240</td>\n",
       "            </tr>\n",
       "            <tr>\n",
       "                        <th id=\"T_eb0f667e_dd23_11eb_8af7_f48e38cefba2level0_row3\" class=\"row_heading level0 row3\" >3</th>\n",
       "                        <td id=\"T_eb0f667e_dd23_11eb_8af7_f48e38cefba2row3_col0\" class=\"data row3 col0\" >0.020930232558139535</td>\n",
       "                        <td id=\"T_eb0f667e_dd23_11eb_8af7_f48e38cefba2row3_col1\" class=\"data row3 col1\" >0.06428571428571428</td>\n",
       "                        <td id=\"T_eb0f667e_dd23_11eb_8af7_f48e38cefba2row3_col2\" class=\"data row3 col2\" >0.9931329617834395</td>\n",
       "                        <td id=\"T_eb0f667e_dd23_11eb_8af7_f48e38cefba2row3_col3\" class=\"data row3 col3\" >0.9947535018194507</td>\n",
       "                        <td id=\"T_eb0f667e_dd23_11eb_8af7_f48e38cefba2row3_col4\" class=\"data row3 col4\" >0.529520</td>\n",
       "                        <td id=\"T_eb0f667e_dd23_11eb_8af7_f48e38cefba2row3_col5\" class=\"data row3 col5\" >0.150000</td>\n",
       "                        <td id=\"T_eb0f667e_dd23_11eb_8af7_f48e38cefba2row3_col6\" class=\"data row3 col6\" >0.031579</td>\n",
       "            </tr>\n",
       "            <tr>\n",
       "                        <th id=\"T_eb0f667e_dd23_11eb_8af7_f48e38cefba2level0_row4\" class=\"row_heading level0 row4\" >4</th>\n",
       "                        <td id=\"T_eb0f667e_dd23_11eb_8af7_f48e38cefba2row4_col0\" class=\"data row4 col0\" >0.03773584905660377</td>\n",
       "                        <td id=\"T_eb0f667e_dd23_11eb_8af7_f48e38cefba2row4_col1\" class=\"data row4 col1\" >0.04285714285714286</td>\n",
       "                        <td id=\"T_eb0f667e_dd23_11eb_8af7_f48e38cefba2row4_col2\" class=\"data row4 col2\" >0.9964296377388535</td>\n",
       "                        <td id=\"T_eb0f667e_dd23_11eb_8af7_f48e38cefba2row4_col3\" class=\"data row4 col3\" >0.9980933153880664</td>\n",
       "                        <td id=\"T_eb0f667e_dd23_11eb_8af7_f48e38cefba2row4_col4\" class=\"data row4 col4\" >0.520475</td>\n",
       "                        <td id=\"T_eb0f667e_dd23_11eb_8af7_f48e38cefba2row4_col5\" class=\"data row4 col5\" >0.200000</td>\n",
       "                        <td id=\"T_eb0f667e_dd23_11eb_8af7_f48e38cefba2row4_col6\" class=\"data row4 col6\" >0.040134</td>\n",
       "            </tr>\n",
       "            <tr>\n",
       "                        <th id=\"T_eb0f667e_dd23_11eb_8af7_f48e38cefba2level0_row5\" class=\"row_heading level0 row5\" >5</th>\n",
       "                        <td id=\"T_eb0f667e_dd23_11eb_8af7_f48e38cefba2row5_col0\" class=\"data row5 col0\" >0.4</td>\n",
       "                        <td id=\"T_eb0f667e_dd23_11eb_8af7_f48e38cefba2row5_col1\" class=\"data row5 col1\" >0.04285714285714286</td>\n",
       "                        <td id=\"T_eb0f667e_dd23_11eb_8af7_f48e38cefba2row5_col2\" class=\"data row5 col2\" >0.9982210390127388</td>\n",
       "                        <td id=\"T_eb0f667e_dd23_11eb_8af7_f48e38cefba2row5_col3\" class=\"data row5 col3\" >0.9998878420816509</td>\n",
       "                        <td id=\"T_eb0f667e_dd23_11eb_8af7_f48e38cefba2row5_col4\" class=\"data row5 col4\" >0.521372</td>\n",
       "                        <td id=\"T_eb0f667e_dd23_11eb_8af7_f48e38cefba2row5_col5\" class=\"data row5 col5\" >0.250000</td>\n",
       "                        <td id=\"T_eb0f667e_dd23_11eb_8af7_f48e38cefba2row5_col6\" class=\"data row5 col6\" >0.077419</td>\n",
       "            </tr>\n",
       "            <tr>\n",
       "                        <th id=\"T_eb0f667e_dd23_11eb_8af7_f48e38cefba2level0_row6\" class=\"row_heading level0 row6\" >6</th>\n",
       "                        <td id=\"T_eb0f667e_dd23_11eb_8af7_f48e38cefba2row6_col0\" class=\"data row6 col0\" >0.5714285714285714</td>\n",
       "                        <td id=\"T_eb0f667e_dd23_11eb_8af7_f48e38cefba2row6_col1\" class=\"data row6 col1\" >0.02857142857142857</td>\n",
       "                        <td id=\"T_eb0f667e_dd23_11eb_8af7_f48e38cefba2row6_col2\" class=\"data row6 col2\" >0.9982708001592356</td>\n",
       "                        <td id=\"T_eb0f667e_dd23_11eb_8af7_f48e38cefba2row6_col3\" class=\"data row6 col3\" >0.999962614027217</td>\n",
       "                        <td id=\"T_eb0f667e_dd23_11eb_8af7_f48e38cefba2row6_col4\" class=\"data row6 col4\" >0.514267</td>\n",
       "                        <td id=\"T_eb0f667e_dd23_11eb_8af7_f48e38cefba2row6_col5\" class=\"data row6 col5\" >0.300000</td>\n",
       "                        <td id=\"T_eb0f667e_dd23_11eb_8af7_f48e38cefba2row6_col6\" class=\"data row6 col6\" >0.054422</td>\n",
       "            </tr>\n",
       "            <tr>\n",
       "                        <th id=\"T_eb0f667e_dd23_11eb_8af7_f48e38cefba2level0_row7\" class=\"row_heading level0 row7\" >7</th>\n",
       "                        <td id=\"T_eb0f667e_dd23_11eb_8af7_f48e38cefba2row7_col0\" class=\"data row7 col0\" >0.6666666666666666</td>\n",
       "                        <td id=\"T_eb0f667e_dd23_11eb_8af7_f48e38cefba2row7_col1\" class=\"data row7 col1\" >0.02857142857142857</td>\n",
       "                        <td id=\"T_eb0f667e_dd23_11eb_8af7_f48e38cefba2row7_col2\" class=\"data row7 col2\" >0.9982832404458599</td>\n",
       "                        <td id=\"T_eb0f667e_dd23_11eb_8af7_f48e38cefba2row7_col3\" class=\"data row7 col3\" >0.9999750760181446</td>\n",
       "                        <td id=\"T_eb0f667e_dd23_11eb_8af7_f48e38cefba2row7_col4\" class=\"data row7 col4\" >0.514273</td>\n",
       "                        <td id=\"T_eb0f667e_dd23_11eb_8af7_f48e38cefba2row7_col5\" class=\"data row7 col5\" >0.350000</td>\n",
       "                        <td id=\"T_eb0f667e_dd23_11eb_8af7_f48e38cefba2row7_col6\" class=\"data row7 col6\" >0.054795</td>\n",
       "            </tr>\n",
       "            <tr>\n",
       "                        <th id=\"T_eb0f667e_dd23_11eb_8af7_f48e38cefba2level0_row8\" class=\"row_heading level0 row8\" >8</th>\n",
       "                        <td id=\"T_eb0f667e_dd23_11eb_8af7_f48e38cefba2row8_col0\" class=\"data row8 col0\" >0.6666666666666666</td>\n",
       "                        <td id=\"T_eb0f667e_dd23_11eb_8af7_f48e38cefba2row8_col1\" class=\"data row8 col1\" >0.02857142857142857</td>\n",
       "                        <td id=\"T_eb0f667e_dd23_11eb_8af7_f48e38cefba2row8_col2\" class=\"data row8 col2\" >0.9982832404458599</td>\n",
       "                        <td id=\"T_eb0f667e_dd23_11eb_8af7_f48e38cefba2row8_col3\" class=\"data row8 col3\" >0.9999750760181446</td>\n",
       "                        <td id=\"T_eb0f667e_dd23_11eb_8af7_f48e38cefba2row8_col4\" class=\"data row8 col4\" >0.514273</td>\n",
       "                        <td id=\"T_eb0f667e_dd23_11eb_8af7_f48e38cefba2row8_col5\" class=\"data row8 col5\" >0.400000</td>\n",
       "                        <td id=\"T_eb0f667e_dd23_11eb_8af7_f48e38cefba2row8_col6\" class=\"data row8 col6\" >0.054795</td>\n",
       "            </tr>\n",
       "            <tr>\n",
       "                        <th id=\"T_eb0f667e_dd23_11eb_8af7_f48e38cefba2level0_row9\" class=\"row_heading level0 row9\" >9</th>\n",
       "                        <td id=\"T_eb0f667e_dd23_11eb_8af7_f48e38cefba2row9_col0\" class=\"data row9 col0\" >1.0</td>\n",
       "                        <td id=\"T_eb0f667e_dd23_11eb_8af7_f48e38cefba2row9_col1\" class=\"data row9 col1\" >0.014285714285714285</td>\n",
       "                        <td id=\"T_eb0f667e_dd23_11eb_8af7_f48e38cefba2row9_col2\" class=\"data row9 col2\" >0.9982832404458599</td>\n",
       "                        <td id=\"T_eb0f667e_dd23_11eb_8af7_f48e38cefba2row9_col3\" class=\"data row9 col3\" >1.0</td>\n",
       "                        <td id=\"T_eb0f667e_dd23_11eb_8af7_f48e38cefba2row9_col4\" class=\"data row9 col4\" >0.507143</td>\n",
       "                        <td id=\"T_eb0f667e_dd23_11eb_8af7_f48e38cefba2row9_col5\" class=\"data row9 col5\" >0.450000</td>\n",
       "                        <td id=\"T_eb0f667e_dd23_11eb_8af7_f48e38cefba2row9_col6\" class=\"data row9 col6\" >0.028169</td>\n",
       "            </tr>\n",
       "            <tr>\n",
       "                        <th id=\"T_eb0f667e_dd23_11eb_8af7_f48e38cefba2level0_row10\" class=\"row_heading level0 row10\" >10</th>\n",
       "                        <td id=\"T_eb0f667e_dd23_11eb_8af7_f48e38cefba2row10_col0\" class=\"data row10 col0\" >0.0</td>\n",
       "                        <td id=\"T_eb0f667e_dd23_11eb_8af7_f48e38cefba2row10_col1\" class=\"data row10 col1\" >0.0</td>\n",
       "                        <td id=\"T_eb0f667e_dd23_11eb_8af7_f48e38cefba2row10_col2\" class=\"data row10 col2\" >0.9982583598726115</td>\n",
       "                        <td id=\"T_eb0f667e_dd23_11eb_8af7_f48e38cefba2row10_col3\" class=\"data row10 col3\" >1.0</td>\n",
       "                        <td id=\"T_eb0f667e_dd23_11eb_8af7_f48e38cefba2row10_col4\" class=\"data row10 col4\" >0.500000</td>\n",
       "                        <td id=\"T_eb0f667e_dd23_11eb_8af7_f48e38cefba2row10_col5\" class=\"data row10 col5\" >0.500000</td>\n",
       "                        <td id=\"T_eb0f667e_dd23_11eb_8af7_f48e38cefba2row10_col6\" class=\"data row10 col6\" >nan</td>\n",
       "            </tr>\n",
       "            <tr>\n",
       "                        <th id=\"T_eb0f667e_dd23_11eb_8af7_f48e38cefba2level0_row11\" class=\"row_heading level0 row11\" >11</th>\n",
       "                        <td id=\"T_eb0f667e_dd23_11eb_8af7_f48e38cefba2row11_col0\" class=\"data row11 col0\" >0.0</td>\n",
       "                        <td id=\"T_eb0f667e_dd23_11eb_8af7_f48e38cefba2row11_col1\" class=\"data row11 col1\" >0.0</td>\n",
       "                        <td id=\"T_eb0f667e_dd23_11eb_8af7_f48e38cefba2row11_col2\" class=\"data row11 col2\" >0.9982583598726115</td>\n",
       "                        <td id=\"T_eb0f667e_dd23_11eb_8af7_f48e38cefba2row11_col3\" class=\"data row11 col3\" >1.0</td>\n",
       "                        <td id=\"T_eb0f667e_dd23_11eb_8af7_f48e38cefba2row11_col4\" class=\"data row11 col4\" >0.500000</td>\n",
       "                        <td id=\"T_eb0f667e_dd23_11eb_8af7_f48e38cefba2row11_col5\" class=\"data row11 col5\" >0.550000</td>\n",
       "                        <td id=\"T_eb0f667e_dd23_11eb_8af7_f48e38cefba2row11_col6\" class=\"data row11 col6\" >nan</td>\n",
       "            </tr>\n",
       "            <tr>\n",
       "                        <th id=\"T_eb0f667e_dd23_11eb_8af7_f48e38cefba2level0_row12\" class=\"row_heading level0 row12\" >12</th>\n",
       "                        <td id=\"T_eb0f667e_dd23_11eb_8af7_f48e38cefba2row12_col0\" class=\"data row12 col0\" >0.0</td>\n",
       "                        <td id=\"T_eb0f667e_dd23_11eb_8af7_f48e38cefba2row12_col1\" class=\"data row12 col1\" >0.0</td>\n",
       "                        <td id=\"T_eb0f667e_dd23_11eb_8af7_f48e38cefba2row12_col2\" class=\"data row12 col2\" >0.9982583598726115</td>\n",
       "                        <td id=\"T_eb0f667e_dd23_11eb_8af7_f48e38cefba2row12_col3\" class=\"data row12 col3\" >1.0</td>\n",
       "                        <td id=\"T_eb0f667e_dd23_11eb_8af7_f48e38cefba2row12_col4\" class=\"data row12 col4\" >0.500000</td>\n",
       "                        <td id=\"T_eb0f667e_dd23_11eb_8af7_f48e38cefba2row12_col5\" class=\"data row12 col5\" >0.600000</td>\n",
       "                        <td id=\"T_eb0f667e_dd23_11eb_8af7_f48e38cefba2row12_col6\" class=\"data row12 col6\" >nan</td>\n",
       "            </tr>\n",
       "            <tr>\n",
       "                        <th id=\"T_eb0f667e_dd23_11eb_8af7_f48e38cefba2level0_row13\" class=\"row_heading level0 row13\" >13</th>\n",
       "                        <td id=\"T_eb0f667e_dd23_11eb_8af7_f48e38cefba2row13_col0\" class=\"data row13 col0\" >0.0</td>\n",
       "                        <td id=\"T_eb0f667e_dd23_11eb_8af7_f48e38cefba2row13_col1\" class=\"data row13 col1\" >0.0</td>\n",
       "                        <td id=\"T_eb0f667e_dd23_11eb_8af7_f48e38cefba2row13_col2\" class=\"data row13 col2\" >0.9982583598726115</td>\n",
       "                        <td id=\"T_eb0f667e_dd23_11eb_8af7_f48e38cefba2row13_col3\" class=\"data row13 col3\" >1.0</td>\n",
       "                        <td id=\"T_eb0f667e_dd23_11eb_8af7_f48e38cefba2row13_col4\" class=\"data row13 col4\" >0.500000</td>\n",
       "                        <td id=\"T_eb0f667e_dd23_11eb_8af7_f48e38cefba2row13_col5\" class=\"data row13 col5\" >0.650000</td>\n",
       "                        <td id=\"T_eb0f667e_dd23_11eb_8af7_f48e38cefba2row13_col6\" class=\"data row13 col6\" >nan</td>\n",
       "            </tr>\n",
       "            <tr>\n",
       "                        <th id=\"T_eb0f667e_dd23_11eb_8af7_f48e38cefba2level0_row14\" class=\"row_heading level0 row14\" >14</th>\n",
       "                        <td id=\"T_eb0f667e_dd23_11eb_8af7_f48e38cefba2row14_col0\" class=\"data row14 col0\" >0.0</td>\n",
       "                        <td id=\"T_eb0f667e_dd23_11eb_8af7_f48e38cefba2row14_col1\" class=\"data row14 col1\" >0.0</td>\n",
       "                        <td id=\"T_eb0f667e_dd23_11eb_8af7_f48e38cefba2row14_col2\" class=\"data row14 col2\" >0.9982583598726115</td>\n",
       "                        <td id=\"T_eb0f667e_dd23_11eb_8af7_f48e38cefba2row14_col3\" class=\"data row14 col3\" >1.0</td>\n",
       "                        <td id=\"T_eb0f667e_dd23_11eb_8af7_f48e38cefba2row14_col4\" class=\"data row14 col4\" >0.500000</td>\n",
       "                        <td id=\"T_eb0f667e_dd23_11eb_8af7_f48e38cefba2row14_col5\" class=\"data row14 col5\" >0.700000</td>\n",
       "                        <td id=\"T_eb0f667e_dd23_11eb_8af7_f48e38cefba2row14_col6\" class=\"data row14 col6\" >nan</td>\n",
       "            </tr>\n",
       "            <tr>\n",
       "                        <th id=\"T_eb0f667e_dd23_11eb_8af7_f48e38cefba2level0_row15\" class=\"row_heading level0 row15\" >15</th>\n",
       "                        <td id=\"T_eb0f667e_dd23_11eb_8af7_f48e38cefba2row15_col0\" class=\"data row15 col0\" >0.0</td>\n",
       "                        <td id=\"T_eb0f667e_dd23_11eb_8af7_f48e38cefba2row15_col1\" class=\"data row15 col1\" >0.0</td>\n",
       "                        <td id=\"T_eb0f667e_dd23_11eb_8af7_f48e38cefba2row15_col2\" class=\"data row15 col2\" >0.9982583598726115</td>\n",
       "                        <td id=\"T_eb0f667e_dd23_11eb_8af7_f48e38cefba2row15_col3\" class=\"data row15 col3\" >1.0</td>\n",
       "                        <td id=\"T_eb0f667e_dd23_11eb_8af7_f48e38cefba2row15_col4\" class=\"data row15 col4\" >0.500000</td>\n",
       "                        <td id=\"T_eb0f667e_dd23_11eb_8af7_f48e38cefba2row15_col5\" class=\"data row15 col5\" >0.750000</td>\n",
       "                        <td id=\"T_eb0f667e_dd23_11eb_8af7_f48e38cefba2row15_col6\" class=\"data row15 col6\" >nan</td>\n",
       "            </tr>\n",
       "            <tr>\n",
       "                        <th id=\"T_eb0f667e_dd23_11eb_8af7_f48e38cefba2level0_row16\" class=\"row_heading level0 row16\" >16</th>\n",
       "                        <td id=\"T_eb0f667e_dd23_11eb_8af7_f48e38cefba2row16_col0\" class=\"data row16 col0\" >0.0</td>\n",
       "                        <td id=\"T_eb0f667e_dd23_11eb_8af7_f48e38cefba2row16_col1\" class=\"data row16 col1\" >0.0</td>\n",
       "                        <td id=\"T_eb0f667e_dd23_11eb_8af7_f48e38cefba2row16_col2\" class=\"data row16 col2\" >0.9982583598726115</td>\n",
       "                        <td id=\"T_eb0f667e_dd23_11eb_8af7_f48e38cefba2row16_col3\" class=\"data row16 col3\" >1.0</td>\n",
       "                        <td id=\"T_eb0f667e_dd23_11eb_8af7_f48e38cefba2row16_col4\" class=\"data row16 col4\" >0.500000</td>\n",
       "                        <td id=\"T_eb0f667e_dd23_11eb_8af7_f48e38cefba2row16_col5\" class=\"data row16 col5\" >0.800000</td>\n",
       "                        <td id=\"T_eb0f667e_dd23_11eb_8af7_f48e38cefba2row16_col6\" class=\"data row16 col6\" >nan</td>\n",
       "            </tr>\n",
       "            <tr>\n",
       "                        <th id=\"T_eb0f667e_dd23_11eb_8af7_f48e38cefba2level0_row17\" class=\"row_heading level0 row17\" >17</th>\n",
       "                        <td id=\"T_eb0f667e_dd23_11eb_8af7_f48e38cefba2row17_col0\" class=\"data row17 col0\" >0.0</td>\n",
       "                        <td id=\"T_eb0f667e_dd23_11eb_8af7_f48e38cefba2row17_col1\" class=\"data row17 col1\" >0.0</td>\n",
       "                        <td id=\"T_eb0f667e_dd23_11eb_8af7_f48e38cefba2row17_col2\" class=\"data row17 col2\" >0.9982583598726115</td>\n",
       "                        <td id=\"T_eb0f667e_dd23_11eb_8af7_f48e38cefba2row17_col3\" class=\"data row17 col3\" >1.0</td>\n",
       "                        <td id=\"T_eb0f667e_dd23_11eb_8af7_f48e38cefba2row17_col4\" class=\"data row17 col4\" >0.500000</td>\n",
       "                        <td id=\"T_eb0f667e_dd23_11eb_8af7_f48e38cefba2row17_col5\" class=\"data row17 col5\" >0.850000</td>\n",
       "                        <td id=\"T_eb0f667e_dd23_11eb_8af7_f48e38cefba2row17_col6\" class=\"data row17 col6\" >nan</td>\n",
       "            </tr>\n",
       "            <tr>\n",
       "                        <th id=\"T_eb0f667e_dd23_11eb_8af7_f48e38cefba2level0_row18\" class=\"row_heading level0 row18\" >18</th>\n",
       "                        <td id=\"T_eb0f667e_dd23_11eb_8af7_f48e38cefba2row18_col0\" class=\"data row18 col0\" >0.0</td>\n",
       "                        <td id=\"T_eb0f667e_dd23_11eb_8af7_f48e38cefba2row18_col1\" class=\"data row18 col1\" >0.0</td>\n",
       "                        <td id=\"T_eb0f667e_dd23_11eb_8af7_f48e38cefba2row18_col2\" class=\"data row18 col2\" >0.9982583598726115</td>\n",
       "                        <td id=\"T_eb0f667e_dd23_11eb_8af7_f48e38cefba2row18_col3\" class=\"data row18 col3\" >1.0</td>\n",
       "                        <td id=\"T_eb0f667e_dd23_11eb_8af7_f48e38cefba2row18_col4\" class=\"data row18 col4\" >0.500000</td>\n",
       "                        <td id=\"T_eb0f667e_dd23_11eb_8af7_f48e38cefba2row18_col5\" class=\"data row18 col5\" >0.900000</td>\n",
       "                        <td id=\"T_eb0f667e_dd23_11eb_8af7_f48e38cefba2row18_col6\" class=\"data row18 col6\" >nan</td>\n",
       "            </tr>\n",
       "            <tr>\n",
       "                        <th id=\"T_eb0f667e_dd23_11eb_8af7_f48e38cefba2level0_row19\" class=\"row_heading level0 row19\" >19</th>\n",
       "                        <td id=\"T_eb0f667e_dd23_11eb_8af7_f48e38cefba2row19_col0\" class=\"data row19 col0\" >0.0</td>\n",
       "                        <td id=\"T_eb0f667e_dd23_11eb_8af7_f48e38cefba2row19_col1\" class=\"data row19 col1\" >0.0</td>\n",
       "                        <td id=\"T_eb0f667e_dd23_11eb_8af7_f48e38cefba2row19_col2\" class=\"data row19 col2\" >0.9982583598726115</td>\n",
       "                        <td id=\"T_eb0f667e_dd23_11eb_8af7_f48e38cefba2row19_col3\" class=\"data row19 col3\" >1.0</td>\n",
       "                        <td id=\"T_eb0f667e_dd23_11eb_8af7_f48e38cefba2row19_col4\" class=\"data row19 col4\" >0.500000</td>\n",
       "                        <td id=\"T_eb0f667e_dd23_11eb_8af7_f48e38cefba2row19_col5\" class=\"data row19 col5\" >0.950000</td>\n",
       "                        <td id=\"T_eb0f667e_dd23_11eb_8af7_f48e38cefba2row19_col6\" class=\"data row19 col6\" >nan</td>\n",
       "            </tr>\n",
       "            <tr>\n",
       "                        <th id=\"T_eb0f667e_dd23_11eb_8af7_f48e38cefba2level0_row20\" class=\"row_heading level0 row20\" >20</th>\n",
       "                        <td id=\"T_eb0f667e_dd23_11eb_8af7_f48e38cefba2row20_col0\" class=\"data row20 col0\" >0.0</td>\n",
       "                        <td id=\"T_eb0f667e_dd23_11eb_8af7_f48e38cefba2row20_col1\" class=\"data row20 col1\" >0.0</td>\n",
       "                        <td id=\"T_eb0f667e_dd23_11eb_8af7_f48e38cefba2row20_col2\" class=\"data row20 col2\" >0.9982583598726115</td>\n",
       "                        <td id=\"T_eb0f667e_dd23_11eb_8af7_f48e38cefba2row20_col3\" class=\"data row20 col3\" >1.0</td>\n",
       "                        <td id=\"T_eb0f667e_dd23_11eb_8af7_f48e38cefba2row20_col4\" class=\"data row20 col4\" >0.500000</td>\n",
       "                        <td id=\"T_eb0f667e_dd23_11eb_8af7_f48e38cefba2row20_col5\" class=\"data row20 col5\" >1.000000</td>\n",
       "                        <td id=\"T_eb0f667e_dd23_11eb_8af7_f48e38cefba2row20_col6\" class=\"data row20 col6\" >nan</td>\n",
       "            </tr>\n",
       "    </tbody></table>"
      ],
      "text/plain": [
       "<pandas.io.formats.style.Styler at 0x7f36302103c8>"
      ]
     },
     "execution_count": 346,
     "metadata": {},
     "output_type": "execute_result"
    }
   ],
   "source": [
    "print(results.t_out.coord_main.shape, results.t_out.cp_logits.shape, pred_cps_BOCD.shape)\n",
    "df_grad=prMetricsByThresh(cpMethod.gradient.name, torch.tensor(results_coord_main).float(), \\\n",
    "                        torch.tensor(test_dataset.data['cps']).unsqueeze(2).float(), 20, 0,1)\n",
    "df_grad.style.background_gradient(cmap=\"Blues\")"
   ]
  },
  {
   "cell_type": "code",
   "execution_count": 347,
   "metadata": {},
   "outputs": [
    {
     "name": "stdout",
     "output_type": "stream",
     "text": [
      "Finished 'prMetricsByThresh' in 0.8748 secs\n"
     ]
    },
    {
     "data": {
      "text/html": [
       "<style  type=\"text/css\" >\n",
       "    #T_eb9fee06_dd23_11eb_8af7_f48e38cefba2row0_col4 {\n",
       "            background-color:  #f7fbff;\n",
       "            color:  #000000;\n",
       "        }    #T_eb9fee06_dd23_11eb_8af7_f48e38cefba2row0_col5 {\n",
       "            background-color:  #f7fbff;\n",
       "            color:  #000000;\n",
       "        }    #T_eb9fee06_dd23_11eb_8af7_f48e38cefba2row0_col6 {\n",
       "            background-color:  #f7fbff;\n",
       "            color:  #000000;\n",
       "        }    #T_eb9fee06_dd23_11eb_8af7_f48e38cefba2row1_col4 {\n",
       "            background-color:  #f7fbff;\n",
       "            color:  #000000;\n",
       "        }    #T_eb9fee06_dd23_11eb_8af7_f48e38cefba2row1_col5 {\n",
       "            background-color:  #eef5fc;\n",
       "            color:  #000000;\n",
       "        }    #T_eb9fee06_dd23_11eb_8af7_f48e38cefba2row1_col6 {\n",
       "            background-color:  #f7fbff;\n",
       "            color:  #000000;\n",
       "        }    #T_eb9fee06_dd23_11eb_8af7_f48e38cefba2row2_col4 {\n",
       "            background-color:  #f7fbff;\n",
       "            color:  #000000;\n",
       "        }    #T_eb9fee06_dd23_11eb_8af7_f48e38cefba2row2_col5 {\n",
       "            background-color:  #e3eef9;\n",
       "            color:  #000000;\n",
       "        }    #T_eb9fee06_dd23_11eb_8af7_f48e38cefba2row2_col6 {\n",
       "            background-color:  #f7fbff;\n",
       "            color:  #000000;\n",
       "        }    #T_eb9fee06_dd23_11eb_8af7_f48e38cefba2row3_col4 {\n",
       "            background-color:  #b4d3e9;\n",
       "            color:  #000000;\n",
       "        }    #T_eb9fee06_dd23_11eb_8af7_f48e38cefba2row3_col5 {\n",
       "            background-color:  #d9e8f5;\n",
       "            color:  #000000;\n",
       "        }    #T_eb9fee06_dd23_11eb_8af7_f48e38cefba2row3_col6 {\n",
       "            background-color:  #b2d2e8;\n",
       "            color:  #000000;\n",
       "        }    #T_eb9fee06_dd23_11eb_8af7_f48e38cefba2row4_col4 {\n",
       "            background-color:  #b4d3e9;\n",
       "            color:  #000000;\n",
       "        }    #T_eb9fee06_dd23_11eb_8af7_f48e38cefba2row4_col5 {\n",
       "            background-color:  #d0e1f2;\n",
       "            color:  #000000;\n",
       "        }    #T_eb9fee06_dd23_11eb_8af7_f48e38cefba2row4_col6 {\n",
       "            background-color:  #b2d2e8;\n",
       "            color:  #000000;\n",
       "        }    #T_eb9fee06_dd23_11eb_8af7_f48e38cefba2row5_col4 {\n",
       "            background-color:  #4594c7;\n",
       "            color:  #000000;\n",
       "        }    #T_eb9fee06_dd23_11eb_8af7_f48e38cefba2row5_col5 {\n",
       "            background-color:  #c6dbef;\n",
       "            color:  #000000;\n",
       "        }    #T_eb9fee06_dd23_11eb_8af7_f48e38cefba2row5_col6 {\n",
       "            background-color:  #3181bd;\n",
       "            color:  #000000;\n",
       "        }    #T_eb9fee06_dd23_11eb_8af7_f48e38cefba2row6_col4 {\n",
       "            background-color:  #4594c7;\n",
       "            color:  #000000;\n",
       "        }    #T_eb9fee06_dd23_11eb_8af7_f48e38cefba2row6_col5 {\n",
       "            background-color:  #b7d4ea;\n",
       "            color:  #000000;\n",
       "        }    #T_eb9fee06_dd23_11eb_8af7_f48e38cefba2row6_col6 {\n",
       "            background-color:  #3181bd;\n",
       "            color:  #000000;\n",
       "        }    #T_eb9fee06_dd23_11eb_8af7_f48e38cefba2row7_col4 {\n",
       "            background-color:  #1d6cb1;\n",
       "            color:  #f1f1f1;\n",
       "        }    #T_eb9fee06_dd23_11eb_8af7_f48e38cefba2row7_col5 {\n",
       "            background-color:  #a6cee4;\n",
       "            color:  #000000;\n",
       "        }    #T_eb9fee06_dd23_11eb_8af7_f48e38cefba2row7_col6 {\n",
       "            background-color:  #1c6bb0;\n",
       "            color:  #f1f1f1;\n",
       "        }    #T_eb9fee06_dd23_11eb_8af7_f48e38cefba2row8_col4 {\n",
       "            background-color:  #1d6cb1;\n",
       "            color:  #f1f1f1;\n",
       "        }    #T_eb9fee06_dd23_11eb_8af7_f48e38cefba2row8_col5 {\n",
       "            background-color:  #94c4df;\n",
       "            color:  #000000;\n",
       "        }    #T_eb9fee06_dd23_11eb_8af7_f48e38cefba2row8_col6 {\n",
       "            background-color:  #1c6bb0;\n",
       "            color:  #f1f1f1;\n",
       "        }    #T_eb9fee06_dd23_11eb_8af7_f48e38cefba2row9_col4 {\n",
       "            background-color:  #08306b;\n",
       "            color:  #f1f1f1;\n",
       "        }    #T_eb9fee06_dd23_11eb_8af7_f48e38cefba2row9_col5 {\n",
       "            background-color:  #7fb9da;\n",
       "            color:  #000000;\n",
       "        }    #T_eb9fee06_dd23_11eb_8af7_f48e38cefba2row9_col6 {\n",
       "            background-color:  #08306b;\n",
       "            color:  #f1f1f1;\n",
       "        }    #T_eb9fee06_dd23_11eb_8af7_f48e38cefba2row10_col4 {\n",
       "            background-color:  #08306b;\n",
       "            color:  #f1f1f1;\n",
       "        }    #T_eb9fee06_dd23_11eb_8af7_f48e38cefba2row10_col5 {\n",
       "            background-color:  #6aaed6;\n",
       "            color:  #000000;\n",
       "        }    #T_eb9fee06_dd23_11eb_8af7_f48e38cefba2row10_col6 {\n",
       "            background-color:  #08306b;\n",
       "            color:  #f1f1f1;\n",
       "        }    #T_eb9fee06_dd23_11eb_8af7_f48e38cefba2row11_col4 {\n",
       "            background-color:  #08306b;\n",
       "            color:  #f1f1f1;\n",
       "        }    #T_eb9fee06_dd23_11eb_8af7_f48e38cefba2row11_col5 {\n",
       "            background-color:  #5ba3d0;\n",
       "            color:  #000000;\n",
       "        }    #T_eb9fee06_dd23_11eb_8af7_f48e38cefba2row11_col6 {\n",
       "            background-color:  #08306b;\n",
       "            color:  #f1f1f1;\n",
       "        }    #T_eb9fee06_dd23_11eb_8af7_f48e38cefba2row12_col4 {\n",
       "            background-color:  #08306b;\n",
       "            color:  #f1f1f1;\n",
       "        }    #T_eb9fee06_dd23_11eb_8af7_f48e38cefba2row12_col5 {\n",
       "            background-color:  #4a98c9;\n",
       "            color:  #000000;\n",
       "        }    #T_eb9fee06_dd23_11eb_8af7_f48e38cefba2row12_col6 {\n",
       "            background-color:  #084184;\n",
       "            color:  #f1f1f1;\n",
       "        }    #T_eb9fee06_dd23_11eb_8af7_f48e38cefba2row13_col4 {\n",
       "            background-color:  #08306b;\n",
       "            color:  #f1f1f1;\n",
       "        }    #T_eb9fee06_dd23_11eb_8af7_f48e38cefba2row13_col5 {\n",
       "            background-color:  #3b8bc2;\n",
       "            color:  #000000;\n",
       "        }    #T_eb9fee06_dd23_11eb_8af7_f48e38cefba2row13_col6 {\n",
       "            background-color:  #084184;\n",
       "            color:  #f1f1f1;\n",
       "        }    #T_eb9fee06_dd23_11eb_8af7_f48e38cefba2row14_col4 {\n",
       "            background-color:  #08316d;\n",
       "            color:  #f1f1f1;\n",
       "        }    #T_eb9fee06_dd23_11eb_8af7_f48e38cefba2row14_col5 {\n",
       "            background-color:  #2e7ebc;\n",
       "            color:  #000000;\n",
       "        }    #T_eb9fee06_dd23_11eb_8af7_f48e38cefba2row14_col6 {\n",
       "            background-color:  #0e58a2;\n",
       "            color:  #f1f1f1;\n",
       "        }    #T_eb9fee06_dd23_11eb_8af7_f48e38cefba2row15_col4 {\n",
       "            background-color:  #08316d;\n",
       "            color:  #f1f1f1;\n",
       "        }    #T_eb9fee06_dd23_11eb_8af7_f48e38cefba2row15_col5 {\n",
       "            background-color:  #2171b5;\n",
       "            color:  #f1f1f1;\n",
       "        }    #T_eb9fee06_dd23_11eb_8af7_f48e38cefba2row15_col6 {\n",
       "            background-color:  #0e58a2;\n",
       "            color:  #f1f1f1;\n",
       "        }    #T_eb9fee06_dd23_11eb_8af7_f48e38cefba2row16_col4 {\n",
       "            background-color:  #08326e;\n",
       "            color:  #f1f1f1;\n",
       "        }    #T_eb9fee06_dd23_11eb_8af7_f48e38cefba2row16_col5 {\n",
       "            background-color:  #1764ab;\n",
       "            color:  #f1f1f1;\n",
       "        }    #T_eb9fee06_dd23_11eb_8af7_f48e38cefba2row16_col6 {\n",
       "            background-color:  #2f7fbc;\n",
       "            color:  #000000;\n",
       "        }    #T_eb9fee06_dd23_11eb_8af7_f48e38cefba2row17_col4 {\n",
       "            background-color:  #08326e;\n",
       "            color:  #f1f1f1;\n",
       "        }    #T_eb9fee06_dd23_11eb_8af7_f48e38cefba2row17_col5 {\n",
       "            background-color:  #0d57a1;\n",
       "            color:  #f1f1f1;\n",
       "        }    #T_eb9fee06_dd23_11eb_8af7_f48e38cefba2row17_col6 {\n",
       "            background-color:  #2f7fbc;\n",
       "            color:  #000000;\n",
       "        }    #T_eb9fee06_dd23_11eb_8af7_f48e38cefba2row18_col4 {\n",
       "            background-color:  #083370;\n",
       "            color:  #f1f1f1;\n",
       "        }    #T_eb9fee06_dd23_11eb_8af7_f48e38cefba2row18_col5 {\n",
       "            background-color:  #084a91;\n",
       "            color:  #f1f1f1;\n",
       "        }    #T_eb9fee06_dd23_11eb_8af7_f48e38cefba2row18_col6 {\n",
       "            background-color:  #4191c6;\n",
       "            color:  #000000;\n",
       "        }    #T_eb9fee06_dd23_11eb_8af7_f48e38cefba2row19_col4 {\n",
       "            background-color:  #083370;\n",
       "            color:  #f1f1f1;\n",
       "        }    #T_eb9fee06_dd23_11eb_8af7_f48e38cefba2row19_col5 {\n",
       "            background-color:  #083c7d;\n",
       "            color:  #f1f1f1;\n",
       "        }    #T_eb9fee06_dd23_11eb_8af7_f48e38cefba2row19_col6 {\n",
       "            background-color:  #4191c6;\n",
       "            color:  #000000;\n",
       "        }    #T_eb9fee06_dd23_11eb_8af7_f48e38cefba2row20_col4 {\n",
       "            background-color:  #083471;\n",
       "            color:  #f1f1f1;\n",
       "        }    #T_eb9fee06_dd23_11eb_8af7_f48e38cefba2row20_col5 {\n",
       "            background-color:  #08306b;\n",
       "            color:  #f1f1f1;\n",
       "        }    #T_eb9fee06_dd23_11eb_8af7_f48e38cefba2row20_col6 {\n",
       "            background-color:  #519ccc;\n",
       "            color:  #000000;\n",
       "        }</style><table id=\"T_eb9fee06_dd23_11eb_8af7_f48e38cefba2\" ><thead>    <tr>        <th class=\"blank level0\" ></th>        <th class=\"col_heading level0 col0\" >Precision</th>        <th class=\"col_heading level0 col1\" >Recall</th>        <th class=\"col_heading level0 col2\" >Accuracy</th>        <th class=\"col_heading level0 col3\" >A_major</th>        <th class=\"col_heading level0 col4\" >BalancedAccuracy</th>        <th class=\"col_heading level0 col5\" >thresh</th>        <th class=\"col_heading level0 col6\" >F1</th>    </tr></thead><tbody>\n",
       "                <tr>\n",
       "                        <th id=\"T_eb9fee06_dd23_11eb_8af7_f48e38cefba2level0_row0\" class=\"row_heading level0 row0\" >0</th>\n",
       "                        <td id=\"T_eb9fee06_dd23_11eb_8af7_f48e38cefba2row0_col0\" class=\"data row0 col0\" >0.045454545454545456</td>\n",
       "                        <td id=\"T_eb9fee06_dd23_11eb_8af7_f48e38cefba2row0_col1\" class=\"data row0 col1\" >0.03571428571428571</td>\n",
       "                        <td id=\"T_eb9fee06_dd23_11eb_8af7_f48e38cefba2row0_col2\" class=\"data row0 col2\" >0.9970143312101911</td>\n",
       "                        <td id=\"T_eb9fee06_dd23_11eb_8af7_f48e38cefba2row0_col3\" class=\"data row0 col3\" >0.9986914909525946</td>\n",
       "                        <td id=\"T_eb9fee06_dd23_11eb_8af7_f48e38cefba2row0_col4\" class=\"data row0 col4\" >0.517203</td>\n",
       "                        <td id=\"T_eb9fee06_dd23_11eb_8af7_f48e38cefba2row0_col5\" class=\"data row0 col5\" >1.000000</td>\n",
       "                        <td id=\"T_eb9fee06_dd23_11eb_8af7_f48e38cefba2row0_col6\" class=\"data row0 col6\" >0.040000</td>\n",
       "            </tr>\n",
       "            <tr>\n",
       "                        <th id=\"T_eb9fee06_dd23_11eb_8af7_f48e38cefba2level0_row1\" class=\"row_heading level0 row1\" >1</th>\n",
       "                        <td id=\"T_eb9fee06_dd23_11eb_8af7_f48e38cefba2row1_col0\" class=\"data row1 col0\" >0.045454545454545456</td>\n",
       "                        <td id=\"T_eb9fee06_dd23_11eb_8af7_f48e38cefba2row1_col1\" class=\"data row1 col1\" >0.03571428571428571</td>\n",
       "                        <td id=\"T_eb9fee06_dd23_11eb_8af7_f48e38cefba2row1_col2\" class=\"data row1 col2\" >0.9970143312101911</td>\n",
       "                        <td id=\"T_eb9fee06_dd23_11eb_8af7_f48e38cefba2row1_col3\" class=\"data row1 col3\" >0.9986914909525946</td>\n",
       "                        <td id=\"T_eb9fee06_dd23_11eb_8af7_f48e38cefba2row1_col4\" class=\"data row1 col4\" >0.517203</td>\n",
       "                        <td id=\"T_eb9fee06_dd23_11eb_8af7_f48e38cefba2row1_col5\" class=\"data row1 col5\" >1.450000</td>\n",
       "                        <td id=\"T_eb9fee06_dd23_11eb_8af7_f48e38cefba2row1_col6\" class=\"data row1 col6\" >0.040000</td>\n",
       "            </tr>\n",
       "            <tr>\n",
       "                        <th id=\"T_eb9fee06_dd23_11eb_8af7_f48e38cefba2level0_row2\" class=\"row_heading level0 row2\" >2</th>\n",
       "                        <td id=\"T_eb9fee06_dd23_11eb_8af7_f48e38cefba2row2_col0\" class=\"data row2 col0\" >0.045454545454545456</td>\n",
       "                        <td id=\"T_eb9fee06_dd23_11eb_8af7_f48e38cefba2row2_col1\" class=\"data row2 col1\" >0.03571428571428571</td>\n",
       "                        <td id=\"T_eb9fee06_dd23_11eb_8af7_f48e38cefba2row2_col2\" class=\"data row2 col2\" >0.9970143312101911</td>\n",
       "                        <td id=\"T_eb9fee06_dd23_11eb_8af7_f48e38cefba2row2_col3\" class=\"data row2 col3\" >0.9986914909525946</td>\n",
       "                        <td id=\"T_eb9fee06_dd23_11eb_8af7_f48e38cefba2row2_col4\" class=\"data row2 col4\" >0.517203</td>\n",
       "                        <td id=\"T_eb9fee06_dd23_11eb_8af7_f48e38cefba2row2_col5\" class=\"data row2 col5\" >1.900000</td>\n",
       "                        <td id=\"T_eb9fee06_dd23_11eb_8af7_f48e38cefba2row2_col6\" class=\"data row2 col6\" >0.040000</td>\n",
       "            </tr>\n",
       "            <tr>\n",
       "                        <th id=\"T_eb9fee06_dd23_11eb_8af7_f48e38cefba2level0_row3\" class=\"row_heading level0 row3\" >3</th>\n",
       "                        <td id=\"T_eb9fee06_dd23_11eb_8af7_f48e38cefba2row3_col0\" class=\"data row3 col0\" >0.05625</td>\n",
       "                        <td id=\"T_eb9fee06_dd23_11eb_8af7_f48e38cefba2row3_col1\" class=\"data row3 col1\" >0.06428571428571428</td>\n",
       "                        <td id=\"T_eb9fee06_dd23_11eb_8af7_f48e38cefba2row3_col2\" class=\"data row3 col2\" >0.9964918391719745</td>\n",
       "                        <td id=\"T_eb9fee06_dd23_11eb_8af7_f48e38cefba2row3_col3\" class=\"data row3 col3\" >0.9981182393699217</td>\n",
       "                        <td id=\"T_eb9fee06_dd23_11eb_8af7_f48e38cefba2row3_col4\" class=\"data row3 col4\" >0.531202</td>\n",
       "                        <td id=\"T_eb9fee06_dd23_11eb_8af7_f48e38cefba2row3_col5\" class=\"data row3 col5\" >2.350000</td>\n",
       "                        <td id=\"T_eb9fee06_dd23_11eb_8af7_f48e38cefba2row3_col6\" class=\"data row3 col6\" >0.060000</td>\n",
       "            </tr>\n",
       "            <tr>\n",
       "                        <th id=\"T_eb9fee06_dd23_11eb_8af7_f48e38cefba2level0_row4\" class=\"row_heading level0 row4\" >4</th>\n",
       "                        <td id=\"T_eb9fee06_dd23_11eb_8af7_f48e38cefba2row4_col0\" class=\"data row4 col0\" >0.05625</td>\n",
       "                        <td id=\"T_eb9fee06_dd23_11eb_8af7_f48e38cefba2row4_col1\" class=\"data row4 col1\" >0.06428571428571428</td>\n",
       "                        <td id=\"T_eb9fee06_dd23_11eb_8af7_f48e38cefba2row4_col2\" class=\"data row4 col2\" >0.9964918391719745</td>\n",
       "                        <td id=\"T_eb9fee06_dd23_11eb_8af7_f48e38cefba2row4_col3\" class=\"data row4 col3\" >0.9981182393699217</td>\n",
       "                        <td id=\"T_eb9fee06_dd23_11eb_8af7_f48e38cefba2row4_col4\" class=\"data row4 col4\" >0.531202</td>\n",
       "                        <td id=\"T_eb9fee06_dd23_11eb_8af7_f48e38cefba2row4_col5\" class=\"data row4 col5\" >2.800000</td>\n",
       "                        <td id=\"T_eb9fee06_dd23_11eb_8af7_f48e38cefba2row4_col6\" class=\"data row4 col6\" >0.060000</td>\n",
       "            </tr>\n",
       "            <tr>\n",
       "                        <th id=\"T_eb9fee06_dd23_11eb_8af7_f48e38cefba2level0_row5\" class=\"row_heading level0 row5\" >5</th>\n",
       "                        <td id=\"T_eb9fee06_dd23_11eb_8af7_f48e38cefba2row5_col0\" class=\"data row5 col0\" >0.07647058823529412</td>\n",
       "                        <td id=\"T_eb9fee06_dd23_11eb_8af7_f48e38cefba2row5_col1\" class=\"data row5 col1\" >0.09285714285714286</td>\n",
       "                        <td id=\"T_eb9fee06_dd23_11eb_8af7_f48e38cefba2row5_col2\" class=\"data row5 col2\" >0.9964669585987261</td>\n",
       "                        <td id=\"T_eb9fee06_dd23_11eb_8af7_f48e38cefba2row5_col3\" class=\"data row5 col3\" >0.9980434674243557</td>\n",
       "                        <td id=\"T_eb9fee06_dd23_11eb_8af7_f48e38cefba2row5_col4\" class=\"data row5 col4\" >0.545450</td>\n",
       "                        <td id=\"T_eb9fee06_dd23_11eb_8af7_f48e38cefba2row5_col5\" class=\"data row5 col5\" >3.250000</td>\n",
       "                        <td id=\"T_eb9fee06_dd23_11eb_8af7_f48e38cefba2row5_col6\" class=\"data row5 col6\" >0.083871</td>\n",
       "            </tr>\n",
       "            <tr>\n",
       "                        <th id=\"T_eb9fee06_dd23_11eb_8af7_f48e38cefba2level0_row6\" class=\"row_heading level0 row6\" >6</th>\n",
       "                        <td id=\"T_eb9fee06_dd23_11eb_8af7_f48e38cefba2row6_col0\" class=\"data row6 col0\" >0.07647058823529412</td>\n",
       "                        <td id=\"T_eb9fee06_dd23_11eb_8af7_f48e38cefba2row6_col1\" class=\"data row6 col1\" >0.09285714285714286</td>\n",
       "                        <td id=\"T_eb9fee06_dd23_11eb_8af7_f48e38cefba2row6_col2\" class=\"data row6 col2\" >0.9964669585987261</td>\n",
       "                        <td id=\"T_eb9fee06_dd23_11eb_8af7_f48e38cefba2row6_col3\" class=\"data row6 col3\" >0.9980434674243557</td>\n",
       "                        <td id=\"T_eb9fee06_dd23_11eb_8af7_f48e38cefba2row6_col4\" class=\"data row6 col4\" >0.545450</td>\n",
       "                        <td id=\"T_eb9fee06_dd23_11eb_8af7_f48e38cefba2row6_col5\" class=\"data row6 col5\" >3.700000</td>\n",
       "                        <td id=\"T_eb9fee06_dd23_11eb_8af7_f48e38cefba2row6_col6\" class=\"data row6 col6\" >0.083871</td>\n",
       "            </tr>\n",
       "            <tr>\n",
       "                        <th id=\"T_eb9fee06_dd23_11eb_8af7_f48e38cefba2level0_row7\" class=\"row_heading level0 row7\" >7</th>\n",
       "                        <td id=\"T_eb9fee06_dd23_11eb_8af7_f48e38cefba2row7_col0\" class=\"data row7 col0\" >0.07653061224489796</td>\n",
       "                        <td id=\"T_eb9fee06_dd23_11eb_8af7_f48e38cefba2row7_col1\" class=\"data row7 col1\" >0.10714285714285714</td>\n",
       "                        <td id=\"T_eb9fee06_dd23_11eb_8af7_f48e38cefba2row7_col2\" class=\"data row7 col2\" >0.9961932722929936</td>\n",
       "                        <td id=\"T_eb9fee06_dd23_11eb_8af7_f48e38cefba2row7_col3\" class=\"data row7 col3\" >0.9977443796420916</td>\n",
       "                        <td id=\"T_eb9fee06_dd23_11eb_8af7_f48e38cefba2row7_col4\" class=\"data row7 col4\" >0.552444</td>\n",
       "                        <td id=\"T_eb9fee06_dd23_11eb_8af7_f48e38cefba2row7_col5\" class=\"data row7 col5\" >4.150000</td>\n",
       "                        <td id=\"T_eb9fee06_dd23_11eb_8af7_f48e38cefba2row7_col6\" class=\"data row7 col6\" >0.089286</td>\n",
       "            </tr>\n",
       "            <tr>\n",
       "                        <th id=\"T_eb9fee06_dd23_11eb_8af7_f48e38cefba2level0_row8\" class=\"row_heading level0 row8\" >8</th>\n",
       "                        <td id=\"T_eb9fee06_dd23_11eb_8af7_f48e38cefba2row8_col0\" class=\"data row8 col0\" >0.07653061224489796</td>\n",
       "                        <td id=\"T_eb9fee06_dd23_11eb_8af7_f48e38cefba2row8_col1\" class=\"data row8 col1\" >0.10714285714285714</td>\n",
       "                        <td id=\"T_eb9fee06_dd23_11eb_8af7_f48e38cefba2row8_col2\" class=\"data row8 col2\" >0.9961932722929936</td>\n",
       "                        <td id=\"T_eb9fee06_dd23_11eb_8af7_f48e38cefba2row8_col3\" class=\"data row8 col3\" >0.9977443796420916</td>\n",
       "                        <td id=\"T_eb9fee06_dd23_11eb_8af7_f48e38cefba2row8_col4\" class=\"data row8 col4\" >0.552444</td>\n",
       "                        <td id=\"T_eb9fee06_dd23_11eb_8af7_f48e38cefba2row8_col5\" class=\"data row8 col5\" >4.600000</td>\n",
       "                        <td id=\"T_eb9fee06_dd23_11eb_8af7_f48e38cefba2row8_col6\" class=\"data row8 col6\" >0.089286</td>\n",
       "            </tr>\n",
       "            <tr>\n",
       "                        <th id=\"T_eb9fee06_dd23_11eb_8af7_f48e38cefba2level0_row9\" class=\"row_heading level0 row9\" >9</th>\n",
       "                        <td id=\"T_eb9fee06_dd23_11eb_8af7_f48e38cefba2row9_col0\" class=\"data row9 col0\" >0.08695652173913043</td>\n",
       "                        <td id=\"T_eb9fee06_dd23_11eb_8af7_f48e38cefba2row9_col1\" class=\"data row9 col1\" >0.12857142857142856</td>\n",
       "                        <td id=\"T_eb9fee06_dd23_11eb_8af7_f48e38cefba2row9_col2\" class=\"data row9 col2\" >0.9961310708598726</td>\n",
       "                        <td id=\"T_eb9fee06_dd23_11eb_8af7_f48e38cefba2row9_col3\" class=\"data row9 col3\" >0.9976446837146703</td>\n",
       "                        <td id=\"T_eb9fee06_dd23_11eb_8af7_f48e38cefba2row9_col4\" class=\"data row9 col4\" >0.563108</td>\n",
       "                        <td id=\"T_eb9fee06_dd23_11eb_8af7_f48e38cefba2row9_col5\" class=\"data row9 col5\" >5.050000</td>\n",
       "                        <td id=\"T_eb9fee06_dd23_11eb_8af7_f48e38cefba2row9_col6\" class=\"data row9 col6\" >0.103746</td>\n",
       "            </tr>\n",
       "            <tr>\n",
       "                        <th id=\"T_eb9fee06_dd23_11eb_8af7_f48e38cefba2level0_row10\" class=\"row_heading level0 row10\" >10</th>\n",
       "                        <td id=\"T_eb9fee06_dd23_11eb_8af7_f48e38cefba2row10_col0\" class=\"data row10 col0\" >0.08695652173913043</td>\n",
       "                        <td id=\"T_eb9fee06_dd23_11eb_8af7_f48e38cefba2row10_col1\" class=\"data row10 col1\" >0.12857142857142856</td>\n",
       "                        <td id=\"T_eb9fee06_dd23_11eb_8af7_f48e38cefba2row10_col2\" class=\"data row10 col2\" >0.9961310708598726</td>\n",
       "                        <td id=\"T_eb9fee06_dd23_11eb_8af7_f48e38cefba2row10_col3\" class=\"data row10 col3\" >0.9976446837146703</td>\n",
       "                        <td id=\"T_eb9fee06_dd23_11eb_8af7_f48e38cefba2row10_col4\" class=\"data row10 col4\" >0.563108</td>\n",
       "                        <td id=\"T_eb9fee06_dd23_11eb_8af7_f48e38cefba2row10_col5\" class=\"data row10 col5\" >5.500000</td>\n",
       "                        <td id=\"T_eb9fee06_dd23_11eb_8af7_f48e38cefba2row10_col6\" class=\"data row10 col6\" >0.103746</td>\n",
       "            </tr>\n",
       "            <tr>\n",
       "                        <th id=\"T_eb9fee06_dd23_11eb_8af7_f48e38cefba2level0_row11\" class=\"row_heading level0 row11\" >11</th>\n",
       "                        <td id=\"T_eb9fee06_dd23_11eb_8af7_f48e38cefba2row11_col0\" class=\"data row11 col0\" >0.08695652173913043</td>\n",
       "                        <td id=\"T_eb9fee06_dd23_11eb_8af7_f48e38cefba2row11_col1\" class=\"data row11 col1\" >0.12857142857142856</td>\n",
       "                        <td id=\"T_eb9fee06_dd23_11eb_8af7_f48e38cefba2row11_col2\" class=\"data row11 col2\" >0.9961310708598726</td>\n",
       "                        <td id=\"T_eb9fee06_dd23_11eb_8af7_f48e38cefba2row11_col3\" class=\"data row11 col3\" >0.9976446837146703</td>\n",
       "                        <td id=\"T_eb9fee06_dd23_11eb_8af7_f48e38cefba2row11_col4\" class=\"data row11 col4\" >0.563108</td>\n",
       "                        <td id=\"T_eb9fee06_dd23_11eb_8af7_f48e38cefba2row11_col5\" class=\"data row11 col5\" >5.950000</td>\n",
       "                        <td id=\"T_eb9fee06_dd23_11eb_8af7_f48e38cefba2row11_col6\" class=\"data row11 col6\" >0.103746</td>\n",
       "            </tr>\n",
       "            <tr>\n",
       "                        <th id=\"T_eb9fee06_dd23_11eb_8af7_f48e38cefba2level0_row12\" class=\"row_heading level0 row12\" >12</th>\n",
       "                        <td id=\"T_eb9fee06_dd23_11eb_8af7_f48e38cefba2row12_col0\" class=\"data row12 col0\" >0.08144796380090498</td>\n",
       "                        <td id=\"T_eb9fee06_dd23_11eb_8af7_f48e38cefba2row12_col1\" class=\"data row12 col1\" >0.12857142857142856</td>\n",
       "                        <td id=\"T_eb9fee06_dd23_11eb_8af7_f48e38cefba2row12_col2\" class=\"data row12 col2\" >0.9959569068471338</td>\n",
       "                        <td id=\"T_eb9fee06_dd23_11eb_8af7_f48e38cefba2row12_col3\" class=\"data row12 col3\" >0.9974702158416828</td>\n",
       "                        <td id=\"T_eb9fee06_dd23_11eb_8af7_f48e38cefba2row12_col4\" class=\"data row12 col4\" >0.563021</td>\n",
       "                        <td id=\"T_eb9fee06_dd23_11eb_8af7_f48e38cefba2row12_col5\" class=\"data row12 col5\" >6.400000</td>\n",
       "                        <td id=\"T_eb9fee06_dd23_11eb_8af7_f48e38cefba2row12_col6\" class=\"data row12 col6\" >0.099723</td>\n",
       "            </tr>\n",
       "            <tr>\n",
       "                        <th id=\"T_eb9fee06_dd23_11eb_8af7_f48e38cefba2level0_row13\" class=\"row_heading level0 row13\" >13</th>\n",
       "                        <td id=\"T_eb9fee06_dd23_11eb_8af7_f48e38cefba2row13_col0\" class=\"data row13 col0\" >0.08144796380090498</td>\n",
       "                        <td id=\"T_eb9fee06_dd23_11eb_8af7_f48e38cefba2row13_col1\" class=\"data row13 col1\" >0.12857142857142856</td>\n",
       "                        <td id=\"T_eb9fee06_dd23_11eb_8af7_f48e38cefba2row13_col2\" class=\"data row13 col2\" >0.9959569068471338</td>\n",
       "                        <td id=\"T_eb9fee06_dd23_11eb_8af7_f48e38cefba2row13_col3\" class=\"data row13 col3\" >0.9974702158416828</td>\n",
       "                        <td id=\"T_eb9fee06_dd23_11eb_8af7_f48e38cefba2row13_col4\" class=\"data row13 col4\" >0.563021</td>\n",
       "                        <td id=\"T_eb9fee06_dd23_11eb_8af7_f48e38cefba2row13_col5\" class=\"data row13 col5\" >6.850000</td>\n",
       "                        <td id=\"T_eb9fee06_dd23_11eb_8af7_f48e38cefba2row13_col6\" class=\"data row13 col6\" >0.099723</td>\n",
       "            </tr>\n",
       "            <tr>\n",
       "                        <th id=\"T_eb9fee06_dd23_11eb_8af7_f48e38cefba2level0_row14\" class=\"row_heading level0 row14\" >14</th>\n",
       "                        <td id=\"T_eb9fee06_dd23_11eb_8af7_f48e38cefba2row14_col0\" class=\"data row14 col0\" >0.07407407407407407</td>\n",
       "                        <td id=\"T_eb9fee06_dd23_11eb_8af7_f48e38cefba2row14_col1\" class=\"data row14 col1\" >0.12857142857142856</td>\n",
       "                        <td id=\"T_eb9fee06_dd23_11eb_8af7_f48e38cefba2row14_col2\" class=\"data row14 col2\" >0.9956832205414012</td>\n",
       "                        <td id=\"T_eb9fee06_dd23_11eb_8af7_f48e38cefba2row14_col3\" class=\"data row14 col3\" >0.9971960520412742</td>\n",
       "                        <td id=\"T_eb9fee06_dd23_11eb_8af7_f48e38cefba2row14_col4\" class=\"data row14 col4\" >0.562884</td>\n",
       "                        <td id=\"T_eb9fee06_dd23_11eb_8af7_f48e38cefba2row14_col5\" class=\"data row14 col5\" >7.300000</td>\n",
       "                        <td id=\"T_eb9fee06_dd23_11eb_8af7_f48e38cefba2row14_col6\" class=\"data row14 col6\" >0.093995</td>\n",
       "            </tr>\n",
       "            <tr>\n",
       "                        <th id=\"T_eb9fee06_dd23_11eb_8af7_f48e38cefba2level0_row15\" class=\"row_heading level0 row15\" >15</th>\n",
       "                        <td id=\"T_eb9fee06_dd23_11eb_8af7_f48e38cefba2row15_col0\" class=\"data row15 col0\" >0.07407407407407407</td>\n",
       "                        <td id=\"T_eb9fee06_dd23_11eb_8af7_f48e38cefba2row15_col1\" class=\"data row15 col1\" >0.12857142857142856</td>\n",
       "                        <td id=\"T_eb9fee06_dd23_11eb_8af7_f48e38cefba2row15_col2\" class=\"data row15 col2\" >0.9956832205414012</td>\n",
       "                        <td id=\"T_eb9fee06_dd23_11eb_8af7_f48e38cefba2row15_col3\" class=\"data row15 col3\" >0.9971960520412742</td>\n",
       "                        <td id=\"T_eb9fee06_dd23_11eb_8af7_f48e38cefba2row15_col4\" class=\"data row15 col4\" >0.562884</td>\n",
       "                        <td id=\"T_eb9fee06_dd23_11eb_8af7_f48e38cefba2row15_col5\" class=\"data row15 col5\" >7.750000</td>\n",
       "                        <td id=\"T_eb9fee06_dd23_11eb_8af7_f48e38cefba2row15_col6\" class=\"data row15 col6\" >0.093995</td>\n",
       "            </tr>\n",
       "            <tr>\n",
       "                        <th id=\"T_eb9fee06_dd23_11eb_8af7_f48e38cefba2level0_row16\" class=\"row_heading level0 row16\" >16</th>\n",
       "                        <td id=\"T_eb9fee06_dd23_11eb_8af7_f48e38cefba2row16_col0\" class=\"data row16 col0\" >0.06293706293706294</td>\n",
       "                        <td id=\"T_eb9fee06_dd23_11eb_8af7_f48e38cefba2row16_col1\" class=\"data row16 col1\" >0.12857142857142856</td>\n",
       "                        <td id=\"T_eb9fee06_dd23_11eb_8af7_f48e38cefba2row16_col2\" class=\"data row16 col2\" >0.9951482882165605</td>\n",
       "                        <td id=\"T_eb9fee06_dd23_11eb_8af7_f48e38cefba2row16_col3\" class=\"data row16 col3\" >0.9966601864313843</td>\n",
       "                        <td id=\"T_eb9fee06_dd23_11eb_8af7_f48e38cefba2row16_col4\" class=\"data row16 col4\" >0.562616</td>\n",
       "                        <td id=\"T_eb9fee06_dd23_11eb_8af7_f48e38cefba2row16_col5\" class=\"data row16 col5\" >8.200000</td>\n",
       "                        <td id=\"T_eb9fee06_dd23_11eb_8af7_f48e38cefba2row16_col6\" class=\"data row16 col6\" >0.084507</td>\n",
       "            </tr>\n",
       "            <tr>\n",
       "                        <th id=\"T_eb9fee06_dd23_11eb_8af7_f48e38cefba2level0_row17\" class=\"row_heading level0 row17\" >17</th>\n",
       "                        <td id=\"T_eb9fee06_dd23_11eb_8af7_f48e38cefba2row17_col0\" class=\"data row17 col0\" >0.06293706293706294</td>\n",
       "                        <td id=\"T_eb9fee06_dd23_11eb_8af7_f48e38cefba2row17_col1\" class=\"data row17 col1\" >0.12857142857142856</td>\n",
       "                        <td id=\"T_eb9fee06_dd23_11eb_8af7_f48e38cefba2row17_col2\" class=\"data row17 col2\" >0.9951482882165605</td>\n",
       "                        <td id=\"T_eb9fee06_dd23_11eb_8af7_f48e38cefba2row17_col3\" class=\"data row17 col3\" >0.9966601864313843</td>\n",
       "                        <td id=\"T_eb9fee06_dd23_11eb_8af7_f48e38cefba2row17_col4\" class=\"data row17 col4\" >0.562616</td>\n",
       "                        <td id=\"T_eb9fee06_dd23_11eb_8af7_f48e38cefba2row17_col5\" class=\"data row17 col5\" >8.650000</td>\n",
       "                        <td id=\"T_eb9fee06_dd23_11eb_8af7_f48e38cefba2row17_col6\" class=\"data row17 col6\" >0.084507</td>\n",
       "            </tr>\n",
       "            <tr>\n",
       "                        <th id=\"T_eb9fee06_dd23_11eb_8af7_f48e38cefba2level0_row18\" class=\"row_heading level0 row18\" >18</th>\n",
       "                        <td id=\"T_eb9fee06_dd23_11eb_8af7_f48e38cefba2row18_col0\" class=\"data row18 col0\" >0.05806451612903226</td>\n",
       "                        <td id=\"T_eb9fee06_dd23_11eb_8af7_f48e38cefba2row18_col1\" class=\"data row18 col1\" >0.12857142857142856</td>\n",
       "                        <td id=\"T_eb9fee06_dd23_11eb_8af7_f48e38cefba2row18_col2\" class=\"data row18 col2\" >0.9948497213375797</td>\n",
       "                        <td id=\"T_eb9fee06_dd23_11eb_8af7_f48e38cefba2row18_col3\" class=\"data row18 col3\" >0.9963610986491201</td>\n",
       "                        <td id=\"T_eb9fee06_dd23_11eb_8af7_f48e38cefba2row18_col4\" class=\"data row18 col4\" >0.562466</td>\n",
       "                        <td id=\"T_eb9fee06_dd23_11eb_8af7_f48e38cefba2row18_col5\" class=\"data row18 col5\" >9.100000</td>\n",
       "                        <td id=\"T_eb9fee06_dd23_11eb_8af7_f48e38cefba2row18_col6\" class=\"data row18 col6\" >0.080000</td>\n",
       "            </tr>\n",
       "            <tr>\n",
       "                        <th id=\"T_eb9fee06_dd23_11eb_8af7_f48e38cefba2level0_row19\" class=\"row_heading level0 row19\" >19</th>\n",
       "                        <td id=\"T_eb9fee06_dd23_11eb_8af7_f48e38cefba2row19_col0\" class=\"data row19 col0\" >0.05806451612903226</td>\n",
       "                        <td id=\"T_eb9fee06_dd23_11eb_8af7_f48e38cefba2row19_col1\" class=\"data row19 col1\" >0.12857142857142856</td>\n",
       "                        <td id=\"T_eb9fee06_dd23_11eb_8af7_f48e38cefba2row19_col2\" class=\"data row19 col2\" >0.9948497213375797</td>\n",
       "                        <td id=\"T_eb9fee06_dd23_11eb_8af7_f48e38cefba2row19_col3\" class=\"data row19 col3\" >0.9963610986491201</td>\n",
       "                        <td id=\"T_eb9fee06_dd23_11eb_8af7_f48e38cefba2row19_col4\" class=\"data row19 col4\" >0.562466</td>\n",
       "                        <td id=\"T_eb9fee06_dd23_11eb_8af7_f48e38cefba2row19_col5\" class=\"data row19 col5\" >9.550000</td>\n",
       "                        <td id=\"T_eb9fee06_dd23_11eb_8af7_f48e38cefba2row19_col6\" class=\"data row19 col6\" >0.080000</td>\n",
       "            </tr>\n",
       "            <tr>\n",
       "                        <th id=\"T_eb9fee06_dd23_11eb_8af7_f48e38cefba2level0_row20\" class=\"row_heading level0 row20\" >20</th>\n",
       "                        <td id=\"T_eb9fee06_dd23_11eb_8af7_f48e38cefba2row20_col0\" class=\"data row20 col0\" >0.05504587155963303</td>\n",
       "                        <td id=\"T_eb9fee06_dd23_11eb_8af7_f48e38cefba2row20_col1\" class=\"data row20 col1\" >0.12857142857142856</td>\n",
       "                        <td id=\"T_eb9fee06_dd23_11eb_8af7_f48e38cefba2row20_col2\" class=\"data row20 col2\" >0.9946382364649682</td>\n",
       "                        <td id=\"T_eb9fee06_dd23_11eb_8af7_f48e38cefba2row20_col3\" class=\"data row20 col3\" >0.9961492448033498</td>\n",
       "                        <td id=\"T_eb9fee06_dd23_11eb_8af7_f48e38cefba2row20_col4\" class=\"data row20 col4\" >0.562360</td>\n",
       "                        <td id=\"T_eb9fee06_dd23_11eb_8af7_f48e38cefba2row20_col5\" class=\"data row20 col5\" >10.000000</td>\n",
       "                        <td id=\"T_eb9fee06_dd23_11eb_8af7_f48e38cefba2row20_col6\" class=\"data row20 col6\" >0.077088</td>\n",
       "            </tr>\n",
       "    </tbody></table>"
      ],
      "text/plain": [
       "<pandas.io.formats.style.Styler at 0x7f363027e198>"
      ]
     },
     "execution_count": 347,
     "metadata": {},
     "output_type": "execute_result"
    }
   ],
   "source": [
    "df_bocd=prMetricsByThresh(cpMethod.BOCD.name, model_cpd.cp, \\\n",
    "                        torch.tensor(test_dataset.data['cps']).unsqueeze(2).float(), 20,1,10)\n",
    "df_bocd.style.background_gradient(cmap=\"Blues\")"
   ]
  },
  {
   "cell_type": "code",
   "execution_count": 348,
   "metadata": {
    "collapsed": true
   },
   "outputs": [],
   "source": [
    "nnThresh=0.4\n",
    "gradThresh=0.1 \n",
    "varThresh=0.025\n",
    "bocdThresh=5.0\n",
    "cpThresh=[nnThresh, gradThresh, varThresh, bocdThresh]"
   ]
  },
  {
   "cell_type": "code",
   "execution_count": 349,
   "metadata": {
    "collapsed": true
   },
   "outputs": [],
   "source": [
    "granular_pop_dict = load_path(osp.join(labels_path, 'granular_pop.pkl'), en_pickle=True)\n",
    "cp_target=test_dataset.data['cps']\n",
    "seqlen=cp_target.shape[1]\n",
    "rev_pop_dict={v:k for k,v in granular_pop_dict.items()}\n",
    "cp_pred_raw=[torch.tensor(results.t_out.cp_logits).float(), torch.tensor(results_coord_main).float(), \n",
    "             torch.tensor(results.t_out.y_var).float(), model_cpd.cp]\n",
    "pred_cps = {}\n",
    "for name, thresh, pred_raw in zip([cp.name for cp in cpMethod], cpThresh, cp_pred_raw):\n",
    "    _, pred_cps[name]= reportChangePointMetrics(name, pred_raw, cp_target, thresh)\n",
    "\n",
    "true_cps=cp_target\n",
    "pred_cps={k:v.detach().cpu().numpy() for k,v in pred_cps.items()}"
   ]
  },
  {
   "cell_type": "code",
   "execution_count": 367,
   "metadata": {
    "scrolled": false
   },
   "outputs": [
    {
     "data": {
      "image/png": "[encoded data removed]",
      "text/plain": [
       "<Figure size 1296x2160 with 8 Axes>"
      ]
     },
     "metadata": {},
     "output_type": "display_data"
    }
   ],
   "source": [
    "true_cpsSample=true_cps[index,:]\n",
    "pred_cpsSample={k:v[index,:] for k,v in pred_cps.items()}\n",
    "y_predSample=results_coord_main[index,:]\n",
    "y_varSample=results.t_out.y_var[index,:,:]\n",
    "bocp_rlSample=model_cpd.cp.detach().cpu().numpy()[index,:]\n",
    "granularpopSample=test_dataset.data['granular_pop'][index,:]\n",
    "namesSample=[rev_pop_dict[i] for i in granularpopSample.astype(int)]\n",
    "plot_changepoints(true_cpsSample, pred_cpsSample, y_predSample, bocp_rlSample, y_varSample, namesSample)"
   ]
  },
  {
   "cell_type": "code",
   "execution_count": 391,
   "metadata": {},
   "outputs": [
    {
     "data": {
      "text/plain": [
       "(array([ 136,  136,  224,  224,  310,  310,  322,  322,  626,  626,  632,\n",
       "         632,  792,  792,  921,  921,  971,  971,  989,  989, 1005, 1005,\n",
       "        1074, 1074, 1144, 1144, 1158, 1158, 1265, 1265, 1310, 1310, 1330,\n",
       "        1330, 1366, 1366, 1378, 1378, 1383, 1383, 1419, 1419, 1450, 1450,\n",
       "        1476, 1476, 1492, 1492, 1572, 1572, 1586, 1586, 1595, 1595, 1644,\n",
       "        1644, 1674, 1674, 1724, 1724, 1749, 1749, 1759, 1759, 1783, 1783,\n",
       "        1791, 1791, 1806, 1806, 1824, 1824, 1852, 1852, 1853, 1853, 1890,\n",
       "        1890, 1938, 1938, 1959, 1959, 1983, 1983, 1988, 1988, 1994, 1994,\n",
       "        2008, 2008, 2014, 2014, 2028, 2028, 2093, 2093, 2098, 2098, 2115,\n",
       "        2115, 2173, 2173, 2177, 2177, 2179, 2179, 2196, 2196, 2204, 2204,\n",
       "        2226, 2226, 2236, 2236, 2244, 2244, 2266, 2266, 2277, 2277, 2278,\n",
       "        2278, 2286, 2286, 2335, 2335, 2378, 2378, 2382, 2382, 2430, 2430,\n",
       "        2458, 2458, 2461, 2461, 2484, 2484, 2506, 2506]),\n",
       " array([ 6,  7, 24, 25,  0,  1, 25, 26,  2,  3, 12, 13, 24, 25, 11, 12,  7,\n",
       "         8,  9, 10, 17, 18, 10, 11, 21, 22,  4,  5,  4,  5,  4,  5, 18, 19,\n",
       "        20, 21,  6,  7,  3,  4, 24, 25, 17, 18,  2,  3, 18, 19, 15, 16, 30,\n",
       "        31,  2,  3,  8,  9, 27, 28, 19, 20, 14, 15, 21, 22,  2,  3,  6,  7,\n",
       "        26, 27,  1,  2, 26, 27,  7,  8, 25, 26, 25, 26,  0,  1,  3,  4,  5,\n",
       "         6, 27, 28, 18, 19, 16, 17,  2,  3, 29, 30,  6,  7,  6,  7,  5,  6,\n",
       "         3,  4, 25, 26,  8,  9,  9, 10,  2,  3, 23, 24,  4,  5, 17, 18,  7,\n",
       "         8, 16, 17,  6,  7,  9, 10, 24, 25, 12, 13,  2,  3, 17, 18,  7,  8,\n",
       "        25, 26, 29, 30]))"
      ]
     },
     "execution_count": 391,
     "metadata": {},
     "output_type": "execute_result"
    }
   ],
   "source": [
    "np.where(test_dataset.data['cps']==1)"
   ]
  },
  {
   "cell_type": "code",
   "execution_count": 311,
   "metadata": {},
   "outputs": [
    {
     "data": {
      "text/plain": [
       "(73, 146)"
      ]
     },
     "execution_count": 311,
     "metadata": {},
     "output_type": "execute_result"
    }
   ],
   "source": [
    "np.sum(np.sum(test_dataset.data['cps'],axis=1)!=0), np.sum(np.sum(test_dataset.data['cps'],axis=1))"
   ]
  },
  {
   "cell_type": "code",
   "execution_count": 8,
   "metadata": {
    "collapsed": true
   },
   "outputs": [],
   "source": [
    "vcf = allel.read_vcf(osp.join(os.environ.get('IN_PATH'), 'humans/master_vcf_files/ref_final_beagle_phased_1kg_hgdp_sgdp_chr22.vcf.gz'))"
   ]
  },
  {
   "cell_type": "code",
   "execution_count": 9,
   "metadata": {},
   "outputs": [
    {
     "data": {
      "text/plain": [
       "{'calldata/GT': array([[[1, 0],\n",
       "         [0, 0],\n",
       "         [1, 0],\n",
       "         ...,\n",
       "         [1, 1],\n",
       "         [1, 1],\n",
       "         [1, 1]],\n",
       " \n",
       "        [[0, 1],\n",
       "         [1, 1],\n",
       "         [0, 0],\n",
       "         ...,\n",
       "         [0, 0],\n",
       "         [0, 0],\n",
       "         [0, 1]],\n",
       " \n",
       "        [[1, 0],\n",
       "         [0, 0],\n",
       "         [1, 0],\n",
       "         ...,\n",
       "         [1, 1],\n",
       "         [1, 1],\n",
       "         [1, 1]],\n",
       " \n",
       "        ...,\n",
       " \n",
       "        [[0, 0],\n",
       "         [0, 0],\n",
       "         [0, 0],\n",
       "         ...,\n",
       "         [1, 1],\n",
       "         [0, 0],\n",
       "         [0, 0]],\n",
       " \n",
       "        [[0, 0],\n",
       "         [0, 0],\n",
       "         [0, 0],\n",
       "         ...,\n",
       "         [0, 0],\n",
       "         [0, 0],\n",
       "         [0, 0]],\n",
       " \n",
       "        [[0, 0],\n",
       "         [0, 0],\n",
       "         [0, 0],\n",
       "         ...,\n",
       "         [0, 0],\n",
       "         [0, 0],\n",
       "         [0, 0]]], dtype=int8),\n",
       " 'samples': array(['HG00096', 'HG00097', 'HG00099', ..., 'LP6005677-DNA_A03',\n",
       "        'LP6005592-DNA_H01', 'LP6005592-DNA_G01'], dtype=object),\n",
       " 'variants/ALT': array([['A', '', ''],\n",
       "        ['G', '', ''],\n",
       "        ['G', '', ''],\n",
       "        ...,\n",
       "        ['G', '', ''],\n",
       "        ['G', '', ''],\n",
       "        ['T', '', '']], dtype=object),\n",
       " 'variants/CHROM': array(['chr22', 'chr22', 'chr22', ..., 'chr22', 'chr22', 'chr22'],\n",
       "       dtype=object),\n",
       " 'variants/FILTER_PASS': array([ True,  True,  True, ...,  True,  True,  True]),\n",
       " 'variants/ID': array(['rs7291107', 'rs7291299', 'rs7291310', ..., 'rs568168135',\n",
       "        'rs199560686', 'rs575160859'], dtype=object),\n",
       " 'variants/POS': array([16373903, 16373955, 16373981, ..., 50802958, 50805735, 50805809],\n",
       "       dtype=int32),\n",
       " 'variants/QUAL': array([100., 100., 100., ..., 100., 100., 100.], dtype=float32),\n",
       " 'variants/REF': array(['G', 'A', 'A', ..., 'C', 'A', 'C'], dtype=object)}"
      ]
     },
     "execution_count": 9,
     "metadata": {},
     "output_type": "execute_result"
    }
   ],
   "source": [
    "vcf"
   ]
  },
  {
   "cell_type": "code",
   "execution_count": null,
   "metadata": {
    "collapsed": true
   },
   "outputs": [],
   "source": []
  }
 ],
 "metadata": {
  "kernelspec": {
   "display_name": "Python 3",
   "language": "python",
   "name": "python3"
  },
  "language_info": {
   "codemirror_mode": {
    "name": "ipython",
    "version": 3
   },
   "file_extension": ".py",
   "mimetype": "text/x-python",
   "name": "python",
   "nbconvert_exporter": "python",
   "pygments_lexer": "ipython3",
   "version": "3.6.1"
  }
 },
 "nbformat": 4,
 "nbformat_minor": 2
}
