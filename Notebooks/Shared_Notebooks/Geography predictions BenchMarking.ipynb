{
 "cells": [
  {
   "cell_type": "code",
   "execution_count": 1,
   "metadata": {
    "collapsed": true
   },
   "outputs": [],
   "source": [
    "import torch\n",
    "import sys\n",
    "import os\n",
    "import os.path as osp\n",
    "import pandas as pd\n",
    "import numpy as np\n",
    "import itertools\n",
    "import matplotlib.pyplot as plt\n",
    "import seaborn as sns\n",
    "import plotly.graph_objects as go\n",
    "from mpl_toolkits.mplot3d import Axes3D\n",
    "from matplotlib import ticker\n",
    "import matplotlib as mpl\n",
    "from matplotlib.colors import LogNorm\n",
    "import matplotlib.patches as mpatches\n",
    "from sklearn.metrics import precision_recall_curve, recall_score, precision_score, \\\n",
    "balanced_accuracy_score, accuracy_score\n",
    "from sklearn import metrics\n",
    "from IPython.display import display\n",
    "import math"
   ]
  },
  {
   "cell_type": "code",
   "execution_count": 2,
   "metadata": {
    "collapsed": true
   },
   "outputs": [],
   "source": [
    "os.environ['USER_PATH']='/home/users/richras/Ge2Net_Repo'\n",
    "os.environ['USER_SCRATCH_PATH']=\"/scratch/users/richras\"\n",
    "os.environ['IN_PATH']='/scratch/groups/cdbustam/richras/data_in'\n",
    "os.environ['OUT_PATH']='/scratch/groups/cdbustam/richras/data_out'\n",
    "os.environ['LOG_PATH']='/scratch/groups/cdbustam/richras/logs/'"
   ]
  },
  {
   "cell_type": "code",
   "execution_count": 3,
   "metadata": {
    "collapsed": true
   },
   "outputs": [],
   "source": [
    "os.chdir(os.environ.get('USER_PATH'))"
   ]
  },
  {
   "cell_type": "code",
   "execution_count": 17,
   "metadata": {},
   "outputs": [
    {
     "name": "stdout",
     "output_type": "stream",
     "text": [
      "The autoreload extension is already loaded. To reload it, use:\n",
      "  %reload_ext autoreload\n"
     ]
    }
   ],
   "source": [
    "%load_ext autoreload\n",
    "%autoreload 2\n",
    "from src.utils.dataUtil import load_path, save_file, vcf2npy\n",
    "from src.utils.modelUtil import Params, load_model, convert_coordinates, convert_nVector\n",
    "from src.utils.labelUtil import nearestNeighbourMapping, repeat_pop_arr\n",
    "from src.utils.decorators import timer\n",
    "from src.models.modelSelection import modelSelect\n",
    "from src.models.modelParamsSelection import Selections\n",
    "from src.models import Model_A, Model_B, Model_C, BOCD\n",
    "from src.models.distributions import Multivariate_Gaussian\n",
    "from src.main.evaluation import eval_cp_batch, reportChangePointMetrics, t_prMetrics, cpMethod, eval_cp_matrix, \\\n",
    "getCpPred\n",
    "import inference\n",
    "from src.main.settings_model import parse_args\n",
    "from src.models.Ge3Net import Ge3NetBase\n"
   ]
  },
  {
   "cell_type": "markdown",
   "metadata": {},
   "source": [
    "# load the model and use valid data "
   ]
  },
  {
   "cell_type": "code",
   "execution_count": 18,
   "metadata": {
    "collapsed": true
   },
   "outputs": [],
   "source": [
    "\n",
    "# Specify the dataset to be evaluated\n",
    "# chm22 pca full dataset and model\n"
   ]
  },
  {
   "cell_type": "code",
   "execution_count": 24,
   "metadata": {
    "collapsed": true,
    "scrolled": false
   },
   "outputs": [],
   "source": [
    "data_id=['data_id_4_geo']\n",
    "model_id_data_id=['Model_Q_exp_id_3_data_id_4_geo']\n",
    "def loadModelStats(data_id, model_id_data_id):\n",
    "    results, modelStats = {}, {}\n",
    "    \n",
    "    for d, m in zip(data_id, model_id_data_id):\n",
    "        results_gen, modelStats_gen = {}, {}\n",
    "        labels_path = osp.join(os.environ['OUT_PATH'], 'humans/labels', d)\n",
    "        data_path = osp.join(os.environ['OUT_PATH'],'humans/labels', d)\n",
    "        models_path = osp.join(os.environ['OUT_PATH'],'humans/training', m)\n",
    "        dataset_type='test'\n",
    "        config={}\n",
    "        config['data.labels']=labels_path \n",
    "        config['data.dir']=data_path \n",
    "        config['models.dir']=models_path\n",
    "        config['data.dataset_type']=dataset_type\n",
    "        config['cuda']='cuda'\n",
    "        config['model.loadBest']=True\n",
    "        json_path = osp.join(config['models.dir'], 'params.yaml')\n",
    "        assert osp.isfile(json_path), \"No json configuration file found at {}\".format(json_path)\n",
    "        params = Params(json_path)\n",
    "        params.rtnOuts=True\n",
    "        params.mc_dropout=False\n",
    "        params.mc_samples=100\n",
    "        params.cp_tol=1\n",
    "        params.evalCp=True\n",
    "        params.evalBalancedGcd=True\n",
    "        params.evalExtraMainLosses=True\n",
    "        for gen in [[2],[4],[8]]:\n",
    "            ls=[]\n",
    "            params.test_gens=gen\n",
    "            results_gen[str(gen)], dataset, _, modelStats_gen[str(gen)]=inference.main(config, params)\n",
    "            print(f\"num_samples={results_gen[str(gen)].t_out.coord_main.shape[1]}\")\n",
    "            trueCp=dataset.data['cps']\n",
    "            trueCpMask=(trueCp==0)\n",
    "            \n",
    "            #BOCD\n",
    "            y_pred = results_gen[str(gen)].t_out.coord_main.squeeze(0)\n",
    "            n_vec_dim=y_pred.shape[-1]\n",
    "            data_tensor = torch.tensor(y_pred).float()\n",
    "            batch_size_cpd = data_tensor.shape[0]\n",
    "            mu_prior = torch.zeros((batch_size_cpd, 1,n_vec_dim))\n",
    "            mean_var=torch.mean(torch.var(data_tensor, dim =1),dim=0).unsqueeze(0)\n",
    "            cov_prior = (mean_var.repeat(batch_size_cpd,1).unsqueeze(1)* torch.eye(n_vec_dim)).reshape(batch_size_cpd,1,n_vec_dim,n_vec_dim)\n",
    "            cov_x = cov_prior\n",
    "            likelihood_model = Multivariate_Gaussian(mu_prior, cov_prior, cov_x)\n",
    "            T = params.n_win\n",
    "            model_cpd = BOCD.BOCD(None, T, likelihood_model, batch_size_cpd)\n",
    "            posterior, _, predictive, e_mean = model_cpd.run_recursive(data_tensor, 'cpu')\n",
    "            #\n",
    "#             predCp=getCpPred(cpMethod.gradient.name, torch.tensor(results_gen[str(gen)].t_out.coord_main).squeeze(0).float(), cpThresh=0.1, \\\n",
    "#             Batch_size=results_gen[str(gen)].t_out.coord_main.shape[1], T=results_gen[str(gen)].t_out.coord_main.shape[2])\n",
    "            \n",
    "            predCp=getCpPred(cpMethod.BOCD.name, model_cpd.cp, cpThresh=2.0, \\\n",
    "            Batch_size=results_gen[str(gen)].t_out.coord_main.shape[1], \\\n",
    "            T=results_gen[str(gen)].t_out.coord_main.shape[2])\n",
    "            predCp=predCp.detach().cpu().numpy()\n",
    "            predCpMask=(predCp==0)\n",
    "            predCp = np.apply_along_axis(rmAdditionalWin, 1, predCp)\n",
    "            predCpMask=predCpMask\n",
    "            intersectSum=trueCp+predCp\n",
    "            intersectCp=(intersectSum!=2)\n",
    "            loss_main['no_mask']= results_gen[str(gen)].t_accr['loss_main']\n",
    "            coord_main=results_gen[str(gen)].t_out.coord_main.squeeze(0)\n",
    "            loss_main['trueCpMask']= GcdLoss()(coord_main*trueCpMask[...,np.newaxis],\\\n",
    "                                    dataset.data['y']*trueCpMask[...,np.newaxis])/trueCpMask.sum()\n",
    "\n",
    "            loss_main['intersectCpMask']=GcdLoss()(coord_main*intersectCp[...,np.newaxis],\\\n",
    "                                    dataset.data['y']*intersectCp[...,np.newaxis])/intersectCp.sum()\n",
    "            loss_main['predCpMask']= GcdLoss()(coord_main*predCpMask[...,np.newaxis],\\\n",
    "                                    dataset.data['y']*predCpMask[...,np.newaxis])/predCpMask.sum()\n",
    "            ls.append(loss_main)\n",
    "            print(f\"losses\")\n",
    "            print(ls)\n",
    "        results[m]=results_gen\n",
    "        modelStats[m]=modelStats_gen\n",
    "        \n",
    "    return results, modelStats"
   ]
  },
  {
   "cell_type": "code",
   "execution_count": 25,
   "metadata": {
    "collapsed": true
   },
   "outputs": [],
   "source": [
    "def rmAdditionalWin(pred_cps_BOCD):\n",
    "    cpIdx=np.nonzero(pred_cps_BOCD)[0]\n",
    "    remWin=3\n",
    "    seqlen=317\n",
    "    for i in cpIdx:\n",
    "        low=max(0,i-remWin)\n",
    "        high=min(seqlen, i+remWin)\n",
    "        pred_cps_BOCD[low:high]=1\n",
    "    return pred_cps_BOCD"
   ]
  },
  {
   "cell_type": "code",
   "execution_count": 26,
   "metadata": {
    "scrolled": false
   },
   "outputs": [
    {
     "name": "stderr",
     "output_type": "stream",
     "text": [
      "INFO: __init__:src.main.dataset: Loading test Dataset\n",
      "INFO: __init__:src.main.dataset:Loading gen 2\n",
      "INFO: __init__:src.main.dataset: snps data: (800, 317410)\n"
     ]
    },
    {
     "name": "stdout",
     "output_type": "stream",
     "text": [
      " device used: cuda\n",
      "Loading the datasets...\n"
     ]
    },
    {
     "name": "stderr",
     "output_type": "stream",
     "text": [
      "INFO: __init__:src.main.dataset: y_labels data :(800, 317410)\n",
      "INFO: transform_data:src.main.dataset:Transforming the data\n"
     ]
    },
    {
     "name": "stdout",
     "output_type": "stream",
     "text": [
      "Finished '_geoConvertLatLong2nVec' in 0.0153 secs\n",
      "Finished 'mapping_func' in 0.0815 secs\n",
      "Finished 'pop_mapping' in 0.0353 secs\n",
      "Finished 'pop_mapping' in 0.0346 secs\n",
      "Finished 'transform_data' in 9.0226 secs\n",
      "Finished '__init__' in 9.6575 secs\n",
      "Parameter count for model AuxNetwork:31747503\n",
      "Parameter count for model TransformerModel:107528\n",
      "Parameter count for model BiRNN:34499\n",
      "Parameter count for model logits_Block:2289\n",
      "Total parameters:31891819\n",
      "Finished 'load_model' in 0.1641 secs\n",
      "best val loss metrics : {'loss_main': 866.6805836590546, 'loss_aux': 2160.2513772460106, 'l1_loss': 0.20087590047931303, 'mse': 0.045047710068923504, 'smooth_l1': 0.022466416130238673, 'weighted_loss': 0.20087590047931303}\n",
      "at epoch : 227\n",
      "train loss metrics: {'loss_main': 260.368462953392, 'loss_aux': 1561.6972164885574, 'l1_loss': 0.05821169218555197, 'mse': 0.005354038258400175, 'smooth_l1': 0.0026711223615385584, 'weighted_loss': 0.05821169218555197}\n",
      "best val cp metrics : {'loss_cp': 0.49852718259127005, 'prMetrics': OrderedDict([('Precision', array(0.04698644)), ('Recall', array(0.87514953)), ('Accuracy', array(0.70264787)), ('A_major', array(0.6997298)), ('BalancedAccuracy', 0.7874396635842865)])}\n",
      "train cp metrics: {'loss_cp': 0.27772317325980933, 'prMetrics': OrderedDict([('Precision', array(0.43709188)), ('Recall', array(0.81219869)), ('Accuracy', array(0.98198753)), ('A_major', array(0.98450305)), ('BalancedAccuracy', 0.8983508717877995)])}\n",
      "best val sp metrics : None\n",
      "train sp metrics: None\n",
      "best val balanced gcd metrics : {'meanBalancedGcdSp': 847.5928733386421, 'meanBalancedGcdGp': 983.3434251590701, 'medianBalancedGcdSp': 862.1782041181356, 'medianBalancedGcdGp': 880.1238600391921, 'median': 507.4490966796875}\n",
      "train balanced gcd metrics: {'meanBalancedGcdSp': 349.9616934236061, 'meanBalancedGcdGp': 473.6187598408302, 'medianBalancedGcdSp': 255.46220687890678, 'medianBalancedGcdGp': 416.00432274095226, 'median': 124.59101867675781}\n",
      "is the model on cuda? : True\n",
      "Finished 'batchLoopValid' in 0.6676 secs\n",
      "Finished 'main' in 10.7111 secs\n",
      "num_samples=800\n",
      "Finished 'run_recursive' in 41.2366 secs\n"
     ]
    },
    {
     "ename": "NameError",
     "evalue": "name 'loss_main' is not defined",
     "output_type": "error",
     "traceback": [
      "\u001b[0;31m---------------------------------------------------------------------------\u001b[0m",
      "\u001b[0;31mNameError\u001b[0m                                 Traceback (most recent call last)",
      "\u001b[0;32m<ipython-input-26-5465b4d6209a>\u001b[0m in \u001b[0;36m<module>\u001b[0;34m()\u001b[0m\n\u001b[0;32m----> 1\u001b[0;31m \u001b[0mresults\u001b[0m\u001b[0;34m,\u001b[0m \u001b[0mmodelStats\u001b[0m \u001b[0;34m=\u001b[0m \u001b[0mloadModelStats\u001b[0m\u001b[0;34m(\u001b[0m\u001b[0mdata_id\u001b[0m\u001b[0;34m,\u001b[0m \u001b[0mmodel_id_data_id\u001b[0m\u001b[0;34m)\u001b[0m\u001b[0;34m\u001b[0m\u001b[0m\n\u001b[0m",
      "\u001b[0;32m<ipython-input-24-551ece1248a2>\u001b[0m in \u001b[0;36mloadModelStats\u001b[0;34m(data_id, model_id_data_id)\u001b[0m\n\u001b[1;32m     59\u001b[0m             \u001b[0mintersectSum\u001b[0m\u001b[0;34m=\u001b[0m\u001b[0mtrueCp\u001b[0m\u001b[0;34m+\u001b[0m\u001b[0mpredCp\u001b[0m\u001b[0;34m\u001b[0m\u001b[0m\n\u001b[1;32m     60\u001b[0m             \u001b[0mintersectCp\u001b[0m\u001b[0;34m=\u001b[0m\u001b[0;34m(\u001b[0m\u001b[0mintersectSum\u001b[0m\u001b[0;34m!=\u001b[0m\u001b[0;36m2\u001b[0m\u001b[0;34m)\u001b[0m\u001b[0;34m\u001b[0m\u001b[0m\n\u001b[0;32m---> 61\u001b[0;31m             \u001b[0mloss_main\u001b[0m\u001b[0;34m[\u001b[0m\u001b[0;34m'no_mask'\u001b[0m\u001b[0;34m]\u001b[0m\u001b[0;34m=\u001b[0m \u001b[0mresults_gen\u001b[0m\u001b[0;34m[\u001b[0m\u001b[0mstr\u001b[0m\u001b[0;34m(\u001b[0m\u001b[0mgen\u001b[0m\u001b[0;34m)\u001b[0m\u001b[0;34m]\u001b[0m\u001b[0;34m.\u001b[0m\u001b[0mt_accr\u001b[0m\u001b[0;34m[\u001b[0m\u001b[0;34m'loss_main'\u001b[0m\u001b[0;34m]\u001b[0m\u001b[0;34m\u001b[0m\u001b[0m\n\u001b[0m\u001b[1;32m     62\u001b[0m             \u001b[0mcoord_main\u001b[0m\u001b[0;34m=\u001b[0m\u001b[0mresults_gen\u001b[0m\u001b[0;34m[\u001b[0m\u001b[0mstr\u001b[0m\u001b[0;34m(\u001b[0m\u001b[0mgen\u001b[0m\u001b[0;34m)\u001b[0m\u001b[0;34m]\u001b[0m\u001b[0;34m.\u001b[0m\u001b[0mt_out\u001b[0m\u001b[0;34m.\u001b[0m\u001b[0mcoord_main\u001b[0m\u001b[0;34m.\u001b[0m\u001b[0msqueeze\u001b[0m\u001b[0;34m(\u001b[0m\u001b[0;36m0\u001b[0m\u001b[0;34m)\u001b[0m\u001b[0;34m\u001b[0m\u001b[0m\n\u001b[1;32m     63\u001b[0m             \u001b[0mloss_main\u001b[0m\u001b[0;34m[\u001b[0m\u001b[0;34m'trueCpMask'\u001b[0m\u001b[0;34m]\u001b[0m\u001b[0;34m=\u001b[0m \u001b[0mGcdLoss\u001b[0m\u001b[0;34m(\u001b[0m\u001b[0;34m)\u001b[0m\u001b[0;34m(\u001b[0m\u001b[0mcoord_main\u001b[0m\u001b[0;34m*\u001b[0m\u001b[0mtrueCpMask\u001b[0m\u001b[0;34m[\u001b[0m\u001b[0;34m...\u001b[0m\u001b[0;34m,\u001b[0m\u001b[0mnp\u001b[0m\u001b[0;34m.\u001b[0m\u001b[0mnewaxis\u001b[0m\u001b[0;34m]\u001b[0m\u001b[0;34m,\u001b[0m                                    \u001b[0mdataset\u001b[0m\u001b[0;34m.\u001b[0m\u001b[0mdata\u001b[0m\u001b[0;34m[\u001b[0m\u001b[0;34m'y'\u001b[0m\u001b[0;34m]\u001b[0m\u001b[0;34m*\u001b[0m\u001b[0mtrueCpMask\u001b[0m\u001b[0;34m[\u001b[0m\u001b[0;34m...\u001b[0m\u001b[0;34m,\u001b[0m\u001b[0mnp\u001b[0m\u001b[0;34m.\u001b[0m\u001b[0mnewaxis\u001b[0m\u001b[0;34m]\u001b[0m\u001b[0;34m)\u001b[0m\u001b[0;34m/\u001b[0m\u001b[0mtrueCpMask\u001b[0m\u001b[0;34m.\u001b[0m\u001b[0msum\u001b[0m\u001b[0;34m(\u001b[0m\u001b[0;34m)\u001b[0m\u001b[0;34m\u001b[0m\u001b[0m\n",
      "\u001b[0;31mNameError\u001b[0m: name 'loss_main' is not defined"
     ]
    }
   ],
   "source": [
    "results, modelStats = loadModelStats(data_id, model_id_data_id)"
   ]
  },
  {
   "cell_type": "code",
   "execution_count": null,
   "metadata": {
    "collapsed": true
   },
   "outputs": [],
   "source": [
    "def get_all_accr(results, modelStats):    \n",
    "    ls1=list(results.t_accr.keys())\n",
    "    ls2=list(results.t_balanced_gcd.keys())\n",
    "    df_test_accr = pd.DataFrame()\n",
    "    \n",
    "    df_accr_sub = pd.DataFrame([list(results.t_accr.values())])\n",
    "    df_test_accr = pd.concat([df_test_accr, df_accr_sub], axis=0, ignore_index=True)\n",
    "    df_test_accr.columns=ls1\n",
    "    df_test_balanced_accr = pd.DataFrame()\n",
    "    \n",
    "    df_balanced_accr_sub = pd.DataFrame([list(results.t_balanced_gcd.values())])\n",
    "    df_test_balanced_accr=pd.concat([df_test_balanced_accr,df_balanced_accr_sub], axis=0, ignore_index=True)\n",
    "    df_test_balanced_accr.columns=ls2\n",
    "    df_test_accr=pd.concat([df_test_accr, df_test_balanced_accr], axis=1)\n",
    "    df_test_accr['dataset']='test'\n",
    "    \n",
    "    return df_test_accr"
   ]
  },
  {
   "cell_type": "code",
   "execution_count": null,
   "metadata": {},
   "outputs": [],
   "source": [
    "df_ls=[]\n",
    "i=0\n",
    "m='Model_Q_exp_id_3_data_id_4_geo'\n",
    "for d, m in zip(data_id, model_id_data_id):\n",
    "    for gen in [[2],[4],[8]]:\n",
    "        df=pd.DataFrame()\n",
    "        results_gen1=results[m][str(gen)]\n",
    "        modelStats_gen1=modelStats[m][str(gen)]\n",
    "        df=get_all_accr(results_gen1, modelStats_gen1, dataset)\n",
    "        df_copy=df.copy(deep=True)\n",
    "        df_ls.append(df_copy)\n",
    "        print(f\"Test for gen:{gen[0]}, model_id_data_id: {m}\")\n",
    "        display(df_ls[i])\n",
    "        print(f\"loss_main with and without masking\\n\")\n",
    "        print(ls)\n",
    "        i+=1"
   ]
  },
  {
   "cell_type": "code",
   "execution_count": null,
   "metadata": {
    "collapsed": true,
    "scrolled": true
   },
   "outputs": [],
   "source": [
    "ls1=list(modelStats['Model_Q_exp_id_3_data_id_4_geo']['t_accr'].keys())\n",
    "ls2=list(modelStats['Model_Q_exp_id_3_data_id_4_geo']['t_balanced_gcd'].keys())"
   ]
  },
  {
   "cell_type": "code",
   "execution_count": null,
   "metadata": {},
   "outputs": [],
   "source": [
    "df_accr = pd.DataFrame()\n",
    "for m in model_id_data_id:\n",
    "    df_accr_sub = pd.DataFrame([list(modelStats[m]['t_accr'].values())])\n",
    "    df_accr=pd.concat([df_accr,df_accr_sub], axis=0, ignore_index=True)\n",
    "df_accr.columns=ls1\n",
    "df_balanced_accr = pd.DataFrame()\n",
    "for m in model_id_data_id:\n",
    "    df_balanced_accr_sub = pd.DataFrame([list(modelStats[m]['t_balanced_gcd'].values())])\n",
    "    df_balanced_accr=pd.concat([df_balanced_accr,df_balanced_accr_sub], axis=0, ignore_index=True)\n",
    "df_balanced_accr.columns=ls2\n",
    "df_valid_accr=pd.concat([df_accr, df_balanced_accr], axis=1)\n",
    "df_valid_accr['dataset']='valid'"
   ]
  },
  {
   "cell_type": "code",
   "execution_count": null,
   "metadata": {
    "collapsed": true
   },
   "outputs": [],
   "source": [
    "ls1=list(results['Model_B_exp_id_24_data_id_1_geo'].t_accr.keys())\n",
    "ls2=list(results['Model_B_exp_id_24_data_id_1_geo'].t_balanced_gcd.keys())\n",
    "df_test_accr = pd.DataFrame()\n",
    "for m in model_id_data_id:\n",
    "    df_accr_sub = pd.DataFrame([list(results[m].t_accr.values())])\n",
    "    df_test_accr=pd.concat([df_test_accr, df_accr_sub], axis=0, ignore_index=True)\n",
    "df_test_accr.columns=ls1\n",
    "df_test_balanced_accr = pd.DataFrame()\n",
    "for m in model_id_data_id:\n",
    "    df_balanced_accr_sub = pd.DataFrame([list(results[m].t_balanced_gcd.values())])\n",
    "    df_test_balanced_accr=pd.concat([df_test_balanced_accr,df_balanced_accr_sub], axis=0, ignore_index=True)\n",
    "df_test_balanced_accr.columns=ls2\n",
    "df_test_accr=pd.concat([df_test_accr, df_test_balanced_accr], axis=1)\n",
    "df_test_accr['dataset']='test'"
   ]
  },
  {
   "cell_type": "code",
   "execution_count": null,
   "metadata": {},
   "outputs": [],
   "source": [
    "df_all_accr=pd.concat([df_valid_accr, df_test_accr], axis=0, ignore_index=True)"
   ]
  },
  {
   "cell_type": "markdown",
   "metadata": {},
   "source": [
    "# accr metrics"
   ]
  },
  {
   "cell_type": "code",
   "execution_count": 185,
   "metadata": {},
   "outputs": [
    {
     "data": {
      "text/html": [
       "<div>\n",
       "<style scoped>\n",
       "    .dataframe tbody tr th:only-of-type {\n",
       "        vertical-align: middle;\n",
       "    }\n",
       "\n",
       "    .dataframe tbody tr th {\n",
       "        vertical-align: top;\n",
       "    }\n",
       "\n",
       "    .dataframe thead th {\n",
       "        text-align: right;\n",
       "    }\n",
       "</style>\n",
       "<table border=\"1\" class=\"dataframe\">\n",
       "  <thead>\n",
       "    <tr style=\"text-align: right;\">\n",
       "      <th></th>\n",
       "      <th>l1_loss</th>\n",
       "      <th>mse</th>\n",
       "      <th>smooth_l1</th>\n",
       "      <th>weighted_loss</th>\n",
       "      <th>loss_main</th>\n",
       "      <th>loss_aux</th>\n",
       "      <th>meanBalancedGcdSp</th>\n",
       "      <th>meanBalancedGcdGp</th>\n",
       "      <th>medianBalancedGcdSp</th>\n",
       "      <th>medianBalancedGcdGp</th>\n",
       "      <th>median</th>\n",
       "      <th>dataset</th>\n",
       "    </tr>\n",
       "  </thead>\n",
       "  <tbody>\n",
       "    <tr>\n",
       "      <th>0</th>\n",
       "      <td>0.246585</td>\n",
       "      <td>0.055650</td>\n",
       "      <td>0.027766</td>\n",
       "      <td>0.246585</td>\n",
       "      <td>1058.682289</td>\n",
       "      <td>2325.082104</td>\n",
       "      <td>1185.722046</td>\n",
       "      <td>1418.281860</td>\n",
       "      <td>1152.150269</td>\n",
       "      <td>1239.806763</td>\n",
       "      <td>730.513611</td>\n",
       "      <td>valid</td>\n",
       "    </tr>\n",
       "    <tr>\n",
       "      <th>1</th>\n",
       "      <td>0.251268</td>\n",
       "      <td>0.057620</td>\n",
       "      <td>0.028739</td>\n",
       "      <td>0.251268</td>\n",
       "      <td>1083.523908</td>\n",
       "      <td>2351.772691</td>\n",
       "      <td>1218.954712</td>\n",
       "      <td>1450.525024</td>\n",
       "      <td>1174.178955</td>\n",
       "      <td>1276.765747</td>\n",
       "      <td>776.465149</td>\n",
       "      <td>valid</td>\n",
       "    </tr>\n",
       "    <tr>\n",
       "      <th>2</th>\n",
       "      <td>0.245365</td>\n",
       "      <td>0.058508</td>\n",
       "      <td>0.029181</td>\n",
       "      <td>0.245365</td>\n",
       "      <td>1056.111786</td>\n",
       "      <td>2300.368586</td>\n",
       "      <td>1236.363525</td>\n",
       "      <td>1433.415894</td>\n",
       "      <td>1096.512329</td>\n",
       "      <td>1157.433472</td>\n",
       "      <td>704.863342</td>\n",
       "      <td>valid</td>\n",
       "    </tr>\n",
       "    <tr>\n",
       "      <th>3</th>\n",
       "      <td>0.236757</td>\n",
       "      <td>0.052492</td>\n",
       "      <td>0.026192</td>\n",
       "      <td>0.236757</td>\n",
       "      <td>1013.998118</td>\n",
       "      <td>2207.738983</td>\n",
       "      <td>1156.676758</td>\n",
       "      <td>1156.896118</td>\n",
       "      <td>1073.757324</td>\n",
       "      <td>1049.677124</td>\n",
       "      <td>691.597290</td>\n",
       "      <td>test</td>\n",
       "    </tr>\n",
       "    <tr>\n",
       "      <th>4</th>\n",
       "      <td>0.245025</td>\n",
       "      <td>0.054131</td>\n",
       "      <td>0.026977</td>\n",
       "      <td>0.245025</td>\n",
       "      <td>1051.094488</td>\n",
       "      <td>2242.640102</td>\n",
       "      <td>1211.867188</td>\n",
       "      <td>1234.473389</td>\n",
       "      <td>1116.048706</td>\n",
       "      <td>1029.236328</td>\n",
       "      <td>742.732361</td>\n",
       "      <td>test</td>\n",
       "    </tr>\n",
       "    <tr>\n",
       "      <th>5</th>\n",
       "      <td>0.235093</td>\n",
       "      <td>0.054272</td>\n",
       "      <td>0.027069</td>\n",
       "      <td>0.235093</td>\n",
       "      <td>1011.922681</td>\n",
       "      <td>2182.042938</td>\n",
       "      <td>1071.295288</td>\n",
       "      <td>1135.324341</td>\n",
       "      <td>1098.259644</td>\n",
       "      <td>1049.444092</td>\n",
       "      <td>687.709778</td>\n",
       "      <td>test</td>\n",
       "    </tr>\n",
       "  </tbody>\n",
       "</table>\n",
       "</div>"
      ],
      "text/plain": [
       "    l1_loss       mse  smooth_l1  weighted_loss    loss_main     loss_aux  \\\n",
       "0  0.246585  0.055650   0.027766       0.246585  1058.682289  2325.082104   \n",
       "1  0.251268  0.057620   0.028739       0.251268  1083.523908  2351.772691   \n",
       "2  0.245365  0.058508   0.029181       0.245365  1056.111786  2300.368586   \n",
       "3  0.236757  0.052492   0.026192       0.236757  1013.998118  2207.738983   \n",
       "4  0.245025  0.054131   0.026977       0.245025  1051.094488  2242.640102   \n",
       "5  0.235093  0.054272   0.027069       0.235093  1011.922681  2182.042938   \n",
       "\n",
       "   meanBalancedGcdSp  meanBalancedGcdGp  medianBalancedGcdSp  \\\n",
       "0        1185.722046        1418.281860          1152.150269   \n",
       "1        1218.954712        1450.525024          1174.178955   \n",
       "2        1236.363525        1433.415894          1096.512329   \n",
       "3        1156.676758        1156.896118          1073.757324   \n",
       "4        1211.867188        1234.473389          1116.048706   \n",
       "5        1071.295288        1135.324341          1098.259644   \n",
       "\n",
       "   medianBalancedGcdGp      median dataset  \n",
       "0          1239.806763  730.513611   valid  \n",
       "1          1276.765747  776.465149   valid  \n",
       "2          1157.433472  704.863342   valid  \n",
       "3          1049.677124  691.597290    test  \n",
       "4          1029.236328  742.732361    test  \n",
       "5          1049.444092  687.709778    test  "
      ]
     },
     "execution_count": 185,
     "metadata": {},
     "output_type": "execute_result"
    }
   ],
   "source": [
    "df_all_accr"
   ]
  },
  {
   "cell_type": "code",
   "execution_count": 14,
   "metadata": {
    "collapsed": true
   },
   "outputs": [],
   "source": []
  },
  {
   "cell_type": "code",
   "execution_count": 46,
   "metadata": {
    "collapsed": true
   },
   "outputs": [],
   "source": [
    "def gcd_loss(y_pred, y, mask=None):\n",
    "    if mask is not None: \n",
    "        print(mask.shape)\n",
    "        mask=mask.astype(int)\n",
    "    if mask is None:\n",
    "        mask = 1\n",
    "    eps = 1e-4\n",
    "    temp = np.arccos(np.clip(np.sum(y_pred * y, axis=-1),a_min=-1.0 + eps, a_max=1.0 - eps)).reshape(-1,317,1)\n",
    "    sum_gcd = np.sum(temp * 6371 * mask)\n",
    "    return sum_gcd"
   ]
  },
  {
   "cell_type": "code",
   "execution_count": 59,
   "metadata": {},
   "outputs": [
    {
     "name": "stdout",
     "output_type": "stream",
     "text": [
      "3680.5520719348924\n"
     ]
    }
   ],
   "source": [
    "p1=(55.3,3.4)\n",
    "p2=(22.2, 71.2)\n",
    "p1_nvec = convert_nVector(55.3, 3.4)\n",
    "# p2_nvec = convert_nVector(22.2, 71.2)\n",
    "p2_nvec = convert_nVector(22.2, 3.4)\n",
    "# p1_nvec, p2_nvec\n",
    "eps = 1e-4\n",
    "print(np.sum(np.arccos(np.clip(np.sum(p1_nvec * p2_nvec, axis=-1),a_min=-1.0 + eps, a_max=1.0 - eps)) * 6371.0))\n",
    "# lat=np.array([p1[0],p2[0]])\n",
    "# long=[]\n",
    "# nVector = convert_nVector(lat, lon)"
   ]
  },
  {
   "cell_type": "code",
   "execution_count": 61,
   "metadata": {},
   "outputs": [
    {
     "data": {
      "text/plain": [
       "5516.7472300260415"
      ]
     },
     "execution_count": 61,
     "metadata": {},
     "output_type": "execute_result"
    }
   ],
   "source": [
    "math.sqrt(3680*3680+4110**2)\n"
   ]
  },
  {
   "cell_type": "code",
   "execution_count": 47,
   "metadata": {
    "scrolled": false
   },
   "outputs": [
    {
     "name": "stdout",
     "output_type": "stream",
     "text": [
      " device used: cuda\n",
      "Loading the datasets...\n",
      "Finished '_geoConvertLatLong2nVec' in 0.0586 secs\n",
      "Finished 'mapping_func' in 0.2938 secs\n",
      "Finished 'pop_mapping' in 0.1266 secs\n",
      "Finished 'pop_mapping' in 0.1290 secs\n",
      "Finished 'transform_data' in 32.6149 secs\n",
      "Finished '__init__' in 36.0439 secs\n",
      "Parameter count for model AuxNetwork:31747503\n",
      "Parameter count for model BiRNN:60355\n",
      "Parameter count for model logits_Block:2289\n",
      "Total parameters:31810147\n",
      "best val loss metrics : {'l1_loss': 0.24658535200982565, 'mse': 0.05564984682895078, 'smooth_l1': 0.027765671336183614, 'weighted_loss': 0.24658535200982565, 'loss_main': 1058.682288578713, 'loss_aux': 2325.0821036255998}\n",
      "at epoch : 109\n",
      "train loss metrics: {'l1_loss': 0.12335511097228757, 'mse': 0.02516377482076734, 'smooth_l1': 0.012570951358345368, 'weighted_loss': 0.12335511097228757, 'loss_main': 563.9394605949345, 'loss_aux': 2042.904725664368}\n",
      "best val cp metrics : {'loss_cp': 0.0970872686735664, 'prMetrics': OrderedDict([('Precision', array(0.)), ('Recall', array(0.)), ('Accuracy', array(0.98634977)), ('A_major', array(1.)), ('BalancedAccuracy', 0.5)])}\n",
      "train cp metrics: {'loss_cp': 0.15885298391719135, 'prMetrics': OrderedDict([('Precision', array(0.03773585)), ('Recall', array(0.00012677)), ('Accuracy', array(0.99233868)), ('A_major', array(0.99997512)), ('BalancedAccuracy', 0.500050947161587)])}\n",
      "best val sp metrics : None\n",
      "train sp metrics: None\n",
      "best val balanced gcd metrics : {'meanBalancedGcdSp': 1185.7220458984375, 'meanBalancedGcdGp': 1418.2818603515625, 'medianBalancedGcdSp': 1152.1502685546875, 'medianBalancedGcdGp': 1239.8067626953125, 'median': 730.5136108398438}\n",
      "train balanced gcd metrics: {'meanBalancedGcdSp': 632.0104370117188, 'meanBalancedGcdGp': 907.3114624023438, 'medianBalancedGcdSp': 604.325927734375, 'medianBalancedGcdGp': 801.0097045898438, 'median': 205.77166748046875}\n",
      "Finished 'load_model' in 0.2979 secs\n",
      "is the model on cuda? : True\n",
      "Finished 'batchLoopValid' in 1.5001 secs\n",
      "Finished 'main' in 38.0478 secs\n",
      "Finished 'run_recursive' in 155.0695 secs\n",
      "num_samples=2964\n",
      "(2964, 317, 1)\n",
      "(2964, 317, 1)\n",
      "(2964, 317, 1)\n",
      "{'no_mask': 1013.9981183242016, 'trueCpMask': 986.4966492787844, 'intersectCpMask': 995.781956586124, 'predCpMask': 1004.9836508087277}\n",
      " device used: cuda\n",
      "Loading the datasets...\n",
      "Finished '_geoConvertLatLong2nVec' in 0.0595 secs\n",
      "Finished 'mapping_func' in 0.2964 secs\n",
      "Finished 'pop_mapping' in 0.1275 secs\n",
      "Finished 'pop_mapping' in 0.1310 secs\n",
      "Finished 'transform_data' in 32.7371 secs\n",
      "Finished '__init__' in 88.6714 secs\n",
      "Parameter count for model AuxNetwork:31747503\n",
      "Parameter count for model BiRNN:60355\n",
      "Parameter count for model logits_Block:2289\n",
      "Total parameters:31810147\n",
      "best val loss metrics : {'l1_loss': 0.2512681875850763, 'mse': 0.05761978947927245, 'smooth_l1': 0.02873942095975487, 'weighted_loss': 0.2512681875850763, 'loss_main': 1083.5239082148566, 'loss_aux': 2351.7726908949485}\n",
      "at epoch : 117\n",
      "train loss metrics: {'l1_loss': 0.13661600979769467, 'mse': 0.02806319853721209, 'smooth_l1': 0.01402136457190717, 'weighted_loss': 0.13661600979769467, 'loss_main': 618.9979442740316, 'loss_aux': 2130.159258549206}\n",
      "best val cp metrics : {'loss_cp': 0.10304137584873709, 'prMetrics': OrderedDict([('Precision', array(0.)), ('Recall', array(0.)), ('Accuracy', array(0.98634977)), ('A_major', array(1.)), ('BalancedAccuracy', 0.5)])}\n",
      "train cp metrics: {'loss_cp': 0.19162867486357896, 'prMetrics': OrderedDict([('Precision', array(0.03179653)), ('Recall', array(0.39598124)), ('Accuracy', array(0.90329555)), ('A_major', array(0.90720003)), ('BalancedAccuracy', 0.6515906354434154)])}\n",
      "best val sp metrics : None\n",
      "train sp metrics: None\n",
      "best val balanced gcd metrics : {'meanBalancedGcdSp': 1218.9547119140625, 'meanBalancedGcdGp': 1450.5250244140625, 'medianBalancedGcdSp': 1174.178955078125, 'medianBalancedGcdGp': 1276.7657470703125, 'median': 776.4651489257812}\n",
      "train balanced gcd metrics: {'meanBalancedGcdSp': 682.3985595703125, 'meanBalancedGcdGp': 984.7696533203125, 'medianBalancedGcdSp': 666.4555053710938, 'medianBalancedGcdGp': 850.660400390625, 'median': 262.82476806640625}\n",
      "Finished 'load_model' in 0.6892 secs\n",
      "is the model on cuda? : True\n",
      "Finished 'batchLoopValid' in 1.4895 secs\n",
      "Finished 'main' in 91.0569 secs\n",
      "Finished 'run_recursive' in 153.9416 secs\n",
      "num_samples=2964\n",
      "(2964, 317, 1)\n",
      "(2964, 317, 1)\n",
      "(2964, 317, 1)\n",
      "{'no_mask': 1051.0944882224976, 'trueCpMask': 1023.2417461475221, 'intersectCpMask': 1033.5741148247946, 'predCpMask': 1042.7841074428356}\n",
      " device used: cuda\n",
      "Loading the datasets...\n",
      "Finished '_geoConvertLatLong2nVec' in 0.0587 secs\n",
      "Finished 'mapping_func' in 0.2936 secs\n",
      "Finished 'pop_mapping' in 0.1260 secs\n",
      "Finished 'pop_mapping' in 0.1311 secs\n",
      "Finished 'transform_data' in 32.7627 secs\n",
      "Finished '__init__' in 91.2232 secs\n",
      "Parameter count for model AuxNetwork:31747503\n",
      "Parameter count for model BiRNN:60355\n",
      "Parameter count for model logits_Block:2289\n",
      "Total parameters:31810147\n",
      "best val loss metrics : {'l1_loss': 0.24536454169547556, 'mse': 0.058508471693402675, 'smooth_l1': 0.02918084949163552, 'weighted_loss': 0.24536454169547556, 'loss_main': 1056.1117860075192, 'loss_aux': 2300.368585627242}\n",
      "at epoch : 133\n",
      "train loss metrics: {'l1_loss': 0.10835371481316676, 'mse': 0.022180822994338857, 'smooth_l1': 0.011081697735863994, 'weighted_loss': 0.10835371481316676, 'loss_main': 502.27098020548306, 'loss_aux': 1984.25802441164}\n",
      "best val cp metrics : {'loss_cp': 0.09545400555629079, 'prMetrics': OrderedDict([('Precision', array(0.)), ('Recall', array(0.)), ('Accuracy', array(0.98624865)), ('A_major', array(1.)), ('BalancedAccuracy', 0.5)])}\n",
      "train cp metrics: {'loss_cp': 0.1614669405269224, 'prMetrics': OrderedDict([('Precision', array(0.)), ('Recall', array(0.)), ('Accuracy', array(0.99246359)), ('A_major', array(1.)), ('BalancedAccuracy', 0.5)])}\n",
      "best val sp metrics : None\n",
      "train sp metrics: None\n",
      "best val balanced gcd metrics : {'meanBalancedGcdSp': 1236.363525390625, 'meanBalancedGcdGp': 1433.4158935546875, 'medianBalancedGcdSp': 1096.5123291015625, 'medianBalancedGcdGp': 1157.4334716796875, 'median': 704.8633422851562}\n",
      "train balanced gcd metrics: {'meanBalancedGcdSp': 549.1199951171875, 'meanBalancedGcdGp': 805.8355102539062, 'medianBalancedGcdSp': 537.1122436523438, 'medianBalancedGcdGp': 737.7937622070312, 'median': 151.94192504882812}\n",
      "Finished 'load_model' in 0.8419 secs\n",
      "is the model on cuda? : True\n",
      "Finished 'batchLoopValid' in 1.4837 secs\n",
      "Finished 'main' in 93.7560 secs\n",
      "Finished 'run_recursive' in 154.6196 secs\n",
      "num_samples=2964\n",
      "(2964, 317, 1)\n",
      "(2964, 317, 1)\n",
      "(2964, 317, 1)\n",
      "{'no_mask': 1011.9226810048659, 'trueCpMask': 984.194352836848, 'intersectCpMask': 993.264884965975, 'predCpMask': 1002.5354069847997}\n"
     ]
    }
   ],
   "source": [
    "# mean gcd after masking with true cp\n",
    "\n",
    "ls=[]\n",
    "for d, m in zip(data_id, model_id_data_id):\n",
    "    loss_main, balanced_gcd={},{}\n",
    "    labels_path = osp.join(os.environ['OUT_PATH'], 'humans/labels', d)\n",
    "    data_path = osp.join(os.environ['OUT_PATH'],'humans/labels', d)\n",
    "    models_path = osp.join(os.environ['OUT_PATH'],'humans/training', m)\n",
    "    dataset_type='test'\n",
    "    config={}\n",
    "    config['data.labels']=labels_path \n",
    "    config['data.dir']=data_path \n",
    "    config['models.dir']=models_path\n",
    "    config['data.dataset_type']=dataset_type\n",
    "    config['cuda']='cuda'\n",
    "    config['model.loadBest']=True\n",
    "    json_path = osp.join(config['models.dir'], 'params.json')\n",
    "    assert osp.isfile(json_path), \"No json configuration file found at {}\".format(json_path)\n",
    "    params = Params(json_path)\n",
    "    params.rtnOuts=True\n",
    "    params.mc_dropout=False\n",
    "    params.mc_samples=100\n",
    "    params.cp_tol=1\n",
    "    params.test_gens=[0,2,4,8]\n",
    "    params.evalCp=True\n",
    "    params.evalBalancedGcd=True\n",
    "    params.evalExtraMainLosses=True\n",
    "    test_results, dataset, _, _=test.main(config, params)\n",
    "    \n",
    "    #BOCD\n",
    "    y_pred = test_results.t_out.coord_main.squeeze(0)\n",
    "    n_vec_dim=y_pred.shape[-1]\n",
    "    data_tensor = torch.tensor(y_pred).float()\n",
    "    batch_size_cpd = data_tensor.shape[0]\n",
    "    mu_prior = torch.zeros((batch_size_cpd, 1,n_vec_dim))\n",
    "    mean_var=torch.mean(torch.var(data_tensor, dim =1),dim=0).unsqueeze(0)\n",
    "    cov_prior = (mean_var.repeat(batch_size_cpd,1).unsqueeze(1)* torch.eye(n_vec_dim)).reshape(batch_size_cpd,1,n_vec_dim,n_vec_dim)\n",
    "    cov_x = cov_prior\n",
    "    likelihood_model = Multivariate_Gaussian(mu_prior, cov_prior, cov_x)\n",
    "    T = params.n_win\n",
    "    model_cpd = BOCD.BOCD(None, T, likelihood_model, batch_size_cpd)\n",
    "    posterior, _, predictive, e_mean = model_cpd.run_recursive(data_tensor, 'cpu')\n",
    "    #\n",
    "    \n",
    "    trueCp=dataset.data['cps']\n",
    "#     predCp=getCpPred(cpMethod.gradient.name, torch.tensor(test_results.t_out.coord_main).squeeze(0).float(), cpThresh=0.1, \\\n",
    "#                      Batch_size=test_results.t_out.coord_main.shape[1], T=test_results.t_out.coord_main.shape[2])\n",
    "    predCp=getCpPred(cpMethod.BOCD.name, model_cpd.cp, cpThresh=2.0, \\\n",
    "                   Batch_size=test_results.t_out.coord_main.shape[1], T=test_results.t_out.coord_main.shape[2])\n",
    "    \n",
    "    print(f\"num_samples={test_results.t_out.coord_main.shape[1]}\")\n",
    "    trueCpMask=(trueCp==0)\n",
    "    predCpMask=(predCp==0)\n",
    "    predCp=predCp.detach().cpu().numpy()\n",
    "    predCp = np.apply_along_axis(rmAdditionalWin, 1, predCp)\n",
    "    predCpMask=predCpMask.detach().cpu().numpy()\n",
    "    intersectSum=trueCp+predCp\n",
    "    intersectCp=(intersectSum!=2)\n",
    "    loss_main['no_mask']= test_results.t_accr['loss_main']\n",
    "    coord_main=test_results.t_out.coord_main.squeeze(0)\n",
    "    loss_main['trueCpMask']= gcd_loss(coord_main, dataset.data['y'], mask=trueCpMask[...,np.newaxis])/trueCpMask.sum()\n",
    "    loss_main['intersectCpMask']=gcd_loss(coord_main, dataset.data['y'], mask=intersectCp[...,np.newaxis])/intersectCp.sum()\n",
    "    loss_main['predCpMask']= gcd_loss(coord_main, dataset.data['y'], mask=predCpMask[...,np.newaxis])/predCpMask.sum()\n",
    "    print(loss_main)\n",
    "    ls.append(loss_main)\n",
    "    "
   ]
  },
  {
   "cell_type": "code",
   "execution_count": 16,
   "metadata": {},
   "outputs": [
    {
     "data": {
      "text/plain": [
       "[{'intersectCpMask': 1092.1336554885559,\n",
       "  'no_mask': 1013.9981183242016,\n",
       "  'predCpMask': 1095.3783314340708,\n",
       "  'trueCpMask': 1156.8342641997328},\n",
       " {'intersectCpMask': 1125.2594289352235,\n",
       "  'no_mask': 1051.0944882224976,\n",
       "  'predCpMask': 1123.385072690344,\n",
       "  'trueCpMask': 1193.5793610684702},\n",
       " {'intersectCpMask': 1090.7241265914308,\n",
       "  'no_mask': 1011.9226810048659,\n",
       "  'predCpMask': 1089.872928316845,\n",
       "  'trueCpMask': 1154.7523056509863}]"
      ]
     },
     "execution_count": 16,
     "metadata": {},
     "output_type": "execute_result"
    }
   ],
   "source": [
    "balanced_gcd_ls"
   ]
  },
  {
   "cell_type": "code",
   "execution_count": 243,
   "metadata": {},
   "outputs": [
    {
     "data": {
      "text/plain": [
       "[{'intersectCpMask': 1038.727160534413,\n",
       "  'no_mask': 1013.9981183242016,\n",
       "  'predCpMask': 1132.586826645234,\n",
       "  'trueCpMask': 1156.8342641997328},\n",
       " {'intersectCpMask': 1073.4568282647817,\n",
       "  'no_mask': 1051.0944882224976,\n",
       "  'predCpMask': 1157.2893472921833,\n",
       "  'trueCpMask': 1193.5793610684702},\n",
       " {'intersectCpMask': 1037.370101478777,\n",
       "  'no_mask': 1011.9226810048659,\n",
       "  'predCpMask': 1128.2778124729018,\n",
       "  'trueCpMask': 1154.7523056509863}]"
      ]
     },
     "execution_count": 243,
     "metadata": {},
     "output_type": "execute_result"
    }
   ],
   "source": [
    "ls #BOCD"
   ]
  },
  {
   "cell_type": "code",
   "execution_count": 236,
   "metadata": {},
   "outputs": [
    {
     "data": {
      "text/plain": [
       "[{'intersectCpMask': 1071.2902175256045,\n",
       "  'no_mask': 1013.9981183242016,\n",
       "  'predCpMask': 1191.6761865692715,\n",
       "  'trueCpMask': 1156.8342641997328},\n",
       " {'intersectCpMask': 1106.3707654069924,\n",
       "  'no_mask': 1051.0944882224976,\n",
       "  'predCpMask': 1210.3033669452777,\n",
       "  'trueCpMask': 1193.5793610684702},\n",
       " {'intersectCpMask': 1069.8078593593457,\n",
       "  'no_mask': 1011.9226810048659,\n",
       "  'predCpMask': 1180.3186086093122,\n",
       "  'trueCpMask': 1154.7523056509863}]"
      ]
     },
     "execution_count": 236,
     "metadata": {},
     "output_type": "execute_result"
    }
   ],
   "source": [
    "ls #gradient"
   ]
  },
  {
   "cell_type": "code",
   "execution_count": 323,
   "metadata": {},
   "outputs": [
    {
     "data": {
      "text/plain": [
       "array([[0., 0., 0., ..., 0., 0., 0.],\n",
       "       [0., 0., 0., ..., 0., 0., 0.],\n",
       "       [0., 0., 0., ..., 0., 0., 0.],\n",
       "       ...,\n",
       "       [0., 0., 0., ..., 0., 0., 0.],\n",
       "       [0., 0., 0., ..., 0., 0., 0.],\n",
       "       [0., 0., 0., ..., 0., 0., 0.]], dtype=float32)"
      ]
     },
     "execution_count": 323,
     "metadata": {},
     "output_type": "execute_result"
    }
   ],
   "source": [
    "predCp"
   ]
  },
  {
   "cell_type": "code",
   "execution_count": 241,
   "metadata": {},
   "outputs": [
    {
     "data": {
      "text/plain": [
       "923843"
      ]
     },
     "execution_count": 241,
     "metadata": {},
     "output_type": "execute_result"
    }
   ],
   "source": [
    "# mean gcd after masking with intersection of true and predicted cp\n",
    "trueCpMask.sum()"
   ]
  },
  {
   "cell_type": "code",
   "execution_count": 318,
   "metadata": {},
   "outputs": [
    {
     "data": {
      "text/plain": [
       "927658"
      ]
     },
     "execution_count": 318,
     "metadata": {},
     "output_type": "execute_result"
    }
   ],
   "source": [
    "predCpMask.sum()"
   ]
  },
  {
   "cell_type": "code",
   "execution_count": 319,
   "metadata": {},
   "outputs": [
    {
     "data": {
      "text/plain": [
       "936775"
      ]
     },
     "execution_count": 319,
     "metadata": {},
     "output_type": "execute_result"
    }
   ],
   "source": [
    "intersectCp.sum()"
   ]
  },
  {
   "cell_type": "code",
   "execution_count": 317,
   "metadata": {},
   "outputs": [
    {
     "data": {
      "text/plain": [
       "939588"
      ]
     },
     "execution_count": 317,
     "metadata": {},
     "output_type": "execute_result"
    }
   ],
   "source": [
    "2964*317"
   ]
  },
  {
   "cell_type": "markdown",
   "metadata": {},
   "source": [
    "# training related metrics"
   ]
  },
  {
   "cell_type": "markdown",
   "metadata": {},
   "source": [
    "<b> Model Parameter Counts </b>\n",
    "<br />Parameter count for model AuxNetwork:31747503\n",
    "<br />Parameter count for model BiRNN:60355\n",
    "<br />Parameter count for model logits_Block:2289\n",
    "<br />Total parameters:31810147"
   ]
  },
  {
   "cell_type": "markdown",
   "metadata": {},
   "source": [
    "<b> GPU Specs</b>\n",
    "<br /> CLASS:SH3_G4FP64\n",
    "<br /> CPU_FRQ:2.50GHz\n",
    "<br /> CPU_GEN:RME\n",
    "<br /> CPU_MNF:AMD\n",
    "<br /> CPU_SKU:7502P\n",
    "<br /> GPU_BRD:TESLA\n",
    "<br /> GPU_CC:7.0\n",
    "<br /> GPU_GEN:VLT\n",
    "<br /> GPU_MEM:32GB\n",
    "<br /> GPU_SKU:V100S_PCIE\n",
    "<br /> IB:HDR\n",
    "<br /> \n",
    "<br /> CPU_FRQ:2.40GHz\n",
    "<br /> CPU_GEN:BDW\n",
    "<br /> CPU_MNF:INTEL\n",
    "<br /> CPU_SKU:E5-2640v4\n",
    "<br /> GPU_BRD:TESLA\n",
    "<br /> GPU_CC:7.0\n",
    "<br /> GPU_GEN:VLT\n",
    "<br /> GPU_MEM:16GB\n",
    "<br /> GPU_SKU:V100_SXM2\n",
    "<br /> IB:EDR"
   ]
  },
  {
   "cell_type": "markdown",
   "metadata": {},
   "source": [
    "<b> Data Load Time </b>\n",
    "<br/>******Train******\n",
    "<br/>Finished 'transform_data' in 68.4945 secs\n",
    "<br/>Finished 'dataLoad__init__' in 90.8475 secs\n",
    "<br/>******Valid******\n",
    "<br/>Finished 'transform_data' in 38.4268 secs\n",
    "<br/>Finished 'dataLoad__init__' in 53.2155 secs\n",
    "<br/>******Test******\n",
    "<br/>Finished 'transform_data' in 31.0835 secs\n",
    "<br/>Finished 'dataLoad__init__' in 42.5810 secs"
   ]
  },
  {
   "cell_type": "markdown",
   "metadata": {},
   "source": [
    "<br/>******Train******\n",
    "<br/>Finished 'transform_data' in 74.1822 secs\n",
    "<br/>Finished 'dataLoad__init__' in 101.4063 secs\n",
    "<br/>******Valid******\n",
    "<br/>Finished 'transform_data' in 41.3000 secs\n",
    "<br/>Finished 'dataLoad__init__' in 55.1750 secs\n",
    "<br/>******Test******\n",
    "<br/>Finished 'transform_data' in 34.0665 secs\n",
    "<br/>Finished 'dataLoad__init__' in 44.8732 secs"
   ]
  },
  {
   "cell_type": "markdown",
   "metadata": {},
   "source": [
    "<b> Training time metrics </b>\n",
    "<br/> Finished '1_epoch_LoopTrain' in 10.0368 secs\n",
    "<br/> Finished 'batchLoopValid' in 2.4894 secs\n",
    "<br/> Finished '1_epoch_LoopValid' in 1.8716 secs\n",
    "<br/>Finished 'launchTraining' in 2813.0047 secs\n",
    "<br/> Finished 'main' in 3006.3466 secs\n",
    "<br/> best epoch:133\n",
    "<br/> total_epochs:198"
   ]
  },
  {
   "cell_type": "markdown",
   "metadata": {},
   "source": [
    "<b> Training time metrics </b>\n",
    "<br/>Finished '1_epoch_LoopValid' in 2.0109 secs\n",
    "<br/>Finished '1_epoch_LoopTrain' in 13.5793 secs\n",
    "<br/>Finished '1_epoch_LoopValid' in 2.3216 secs\n",
    "<br/>Finished 'launchTraining' in 4109.2407 secs\n",
    "<br/>Finished 'main' in 4318.6068 secs\n",
    "<br/> best epoch:133\n",
    "<br/> total_epochs:198"
   ]
  },
  {
   "cell_type": "markdown",
   "metadata": {},
   "source": [
    "<b> Inference metrics (without mc dropout)</b> \n",
    "<br/>Finished 'transform_data' in 31.4642 secs\n",
    "<br/>Finished 'dataLoad__init__' in 34.9018 secs\n",
    "<br/>Finished '1_epoch_LoopValid' in 1.6459 secs\n",
    "<br/>Finished 'main' in 37.0414 secs"
   ]
  },
  {
   "cell_type": "markdown",
   "metadata": {},
   "source": [
    "<b> Inference metrics (with mc dropout 100 samples)</b> \n",
    "<br/>Finished 'transform_data' in 31.4112 secs\n",
    "<br/>Finished 'dataLoad__init__' in 35.0218 secs\n",
    "<br/>Finished '1_epoch_LoopValid' in 63.4109 secs\n",
    "<br/>Finished 'main' in 98.9647 secs"
   ]
  },
  {
   "cell_type": "code",
   "execution_count": 159,
   "metadata": {
    "collapsed": true
   },
   "outputs": [],
   "source": [
    "num_test_samples=2964"
   ]
  },
  {
   "cell_type": "code",
   "execution_count": 12,
   "metadata": {
    "collapsed": true
   },
   "outputs": [],
   "source": [
    "results_coord_main=results.t_out.coord_main.mean(0)"
   ]
  },
  {
   "cell_type": "code",
   "execution_count": 13,
   "metadata": {},
   "outputs": [
    {
     "name": "stdout",
     "output_type": "stream",
     "text": [
      "Finished 'run_recursive' in 154.1588 secs\n"
     ]
    }
   ],
   "source": [
    "y_pred = results_coord_main\n",
    "n_vec_dim=y_pred.shape[-1]\n",
    "data_tensor = torch.tensor(y_pred).float()\n",
    "batch_size_cpd = data_tensor.shape[0]\n",
    "mu_prior = torch.zeros((batch_size_cpd, 1,n_vec_dim))\n",
    "mean_var=torch.mean(torch.var(data_tensor, dim =1),dim=0).unsqueeze(0)\n",
    "cov_prior = (mean_var.repeat(batch_size_cpd,1).unsqueeze(1)* torch.eye(n_vec_dim)).reshape(batch_size_cpd,1,n_vec_dim,n_vec_dim)\n",
    "cov_x = cov_prior\n",
    "likelihood_model = Multivariate_Gaussian(mu_prior, cov_prior, cov_x)\n",
    "T = params.n_win\n",
    "model_cpd = BOCD.BOCD(None, T, likelihood_model, batch_size_cpd)\n",
    "_,_,_,_=model_cpd.run_recursive(data_tensor, 'cpu')"
   ]
  },
  {
   "cell_type": "code",
   "execution_count": 14,
   "metadata": {
    "collapsed": true
   },
   "outputs": [],
   "source": [
    "granular_pop_dict = load_path(osp.join(labels_path, 'granular_pop.pkl'), en_pickle=True)\n",
    "superop_dict=load_path(osp.join(labels_path, 'superpop.pkl'), en_pickle=True)\n",
    "pop_sample_map=pd.read_csv(osp.join(labels_path, 'pop_sample_map.tsv'),sep=\"\\t\")\n",
    "pop_arr=repeat_pop_arr(pop_sample_map)\n",
    "cp_target=test_dataset.data['cps']\n",
    "seqlen=cp_target.shape[1]\n",
    "rev_pop_dict={v:k for k,v in granular_pop_dict.items()}"
   ]
  },
  {
   "cell_type": "code",
   "execution_count": 15,
   "metadata": {},
   "outputs": [
    {
     "data": {
      "text/plain": [
       "(2964, 317)"
      ]
     },
     "execution_count": 15,
     "metadata": {},
     "output_type": "execute_result"
    }
   ],
   "source": [
    "cp_target.shape"
   ]
  },
  {
   "cell_type": "code",
   "execution_count": 36,
   "metadata": {
    "scrolled": false
   },
   "outputs": [
    {
     "name": "stdout",
     "output_type": "stream",
     "text": [
      "1007\n"
     ]
    }
   ],
   "source": [
    "# index = 2500\n",
    "# index=2620\n",
    "# index=2650\n",
    "# index=3000\n",
    "# index=3100\n",
    "# index=2300\n",
    "# index=2320\n",
    "# index=2338 #interesting Mansi pop\n",
    "# index=2339 # nice example showing Karitiana\n",
    "# index=2344 #interesting clusters of Mongolia\n",
    "# index=2346 # interesting African diversity\n",
    "# index=2355#int. Iranian sample\n",
    "# index=2366# Piapioco and Pima both\n",
    "# index=2388#int example\n",
    "# index=2398#Biaka/Luhya\n",
    "# index=2403#Quechua\n",
    "# index=2414#incorrect Khomani San\n",
    "# index=2421#uyugur\n",
    "# index=2465#balochi similar to MAkrani slave trade\n",
    "# index=2482# interesting Indo euro\n",
    "# index=2876 #icelandic example\n",
    "# index=3533 #San and icelandic\n",
    "# index=1007 #Surui\n",
    "# index=2974 #Surui nice example\n",
    "#1873# nice diversity of samples\n",
    "index=np.random.choice(idxOfInterest)\n",
    "# index=830\n",
    "# index=511\n",
    "# index=1040 #San\n",
    "index=1007 #2205, for 3_geo\n",
    "print(index)\n",
    "true_cpsSample=cp_target[index,:]\n",
    "y_predSample=results_coord_main[index,:]\n",
    "y_trueSample=test_dataset.data['y'][index,:]\n",
    "granularpopSample=test_dataset.data['granular_pop'][index,:]\n",
    "namesSample=[rev_pop_dict[i] for i in granularpopSample.astype(int)]"
   ]
  },
  {
   "cell_type": "code",
   "execution_count": 37,
   "metadata": {},
   "outputs": [
    {
     "data": {
      "text/plain": [
       "(317, 3)"
      ]
     },
     "execution_count": 37,
     "metadata": {},
     "output_type": "execute_result"
    }
   ],
   "source": [
    "y_predSample.shape"
   ]
  },
  {
   "cell_type": "code",
   "execution_count": 38,
   "metadata": {
    "collapsed": true
   },
   "outputs": [],
   "source": [
    "pred_cps=getCpPred(cpMethod.gradient.name, y_predSample, 0.1, 1, len(true_cpsSample))\n",
    "pred_cps=pred_cps.squeeze(0).detach().cpu().numpy()# squeeze the batch dimension of 1"
   ]
  },
  {
   "cell_type": "code",
   "execution_count": 39,
   "metadata": {
    "collapsed": true
   },
   "outputs": [],
   "source": [
    "predBOCDSample=model_cpd.cp[index,:]\n",
    "pred_cps_BOCD=getCpPred(cpMethod.BOCD.name, predBOCDSample, 5.0, 1, len(true_cpsSample))\n",
    "pred_cps_BOCD=pred_cps_BOCD.squeeze(0).detach().cpu().numpy()# squeeze the batch dimension of 1"
   ]
  },
  {
   "cell_type": "code",
   "execution_count": 40,
   "metadata": {
    "collapsed": true
   },
   "outputs": [],
   "source": [
    "cpIdx=np.nonzero(pred_cps_BOCD)[0]\n",
    "remWin=3\n",
    "for i in cpIdx:\n",
    "    low=max(0,i-remWin)\n",
    "    high=min(seqlen, i+remWin)\n",
    "    pred_cps_BOCD[low:high]=1"
   ]
  },
  {
   "cell_type": "code",
   "execution_count": 41,
   "metadata": {},
   "outputs": [
    {
     "name": "stdout",
     "output_type": "stream",
     "text": [
      "Finished 'getSuperpopBins' in 0.0517 secs\n"
     ]
    }
   ],
   "source": [
    "mappedSpArr=getSuperpopBins(labels_path, y_predSample.reshape(-1,3))\n",
    "# mappedSpArr=mappedSpArr.squeeze(1)"
   ]
  },
  {
   "cell_type": "code",
   "execution_count": 42,
   "metadata": {
    "collapsed": true
   },
   "outputs": [],
   "source": [
    "y_predsTrue=test_dataset.data['y'].reshape(-1,3)\n",
    "superpopsTrue=test_dataset.data['superpop'].reshape(-1,)"
   ]
  },
  {
   "cell_type": "code",
   "execution_count": 43,
   "metadata": {
    "collapsed": true
   },
   "outputs": [],
   "source": [
    "@timer\n",
    "def plot_sample(granularPopSample, y_predSample, y_trueSample, **kwargs):\n",
    "    backgroundAxis=kwargs.get('backgroundAxis')\n",
    "    y_predCps=kwargs.get('y_predCps')\n",
    "    y_preds=kwargs.get('y_preds')\n",
    "    superpops=kwargs.get('superpops')\n",
    "    cpShow=kwargs.get('cpShow')\n",
    "    pred_cps=kwargs.get('pred_cps')\n",
    "    mappedSpArr=kwargs.get('mappedSpArr')\n",
    "    fig, ax = plt.subplots(figsize=(12,14))\n",
    "    \n",
    "    gs1 = fig.add_gridspec(nrows=3, ncols=1, height_ratios=[13,1,1])\n",
    "    ax1=fig.add_subplot(gs1[0],projection='3d')\n",
    "    ax2=fig.add_subplot(gs1[1])\n",
    "    ax3=fig.add_subplot(gs1[2])\n",
    "    for axis in [ax, ax2, ax3]:\n",
    "        axis.set_yticks([])\n",
    "        axis.spines['top'].set_color('none')\n",
    "        axis.spines['left'].set_color('none')\n",
    "        axis.spines['right'].set_color('none')\n",
    "    ax.set_xticks([])\n",
    "    plt.subplots_adjust(hspace=0.01)\n",
    "    \n",
    "    if backgroundAxis is not None:\n",
    "        lgnd, colorsPop_sp_dict =plot_all(ax1, y_preds, superpops, cpShow=False)\n",
    "    else:\n",
    "        continentaPops=list(superop_dict.values())\n",
    "        colors_Sp = sns.color_palette(\"bright\", 10)\n",
    "        del colors_Sp[1]\n",
    "        del colors_Sp[4]\n",
    "        del colors_Sp[5]\n",
    "        colorsPop_sp_dict = {k:v for k,v in zip(continentaPops, colors_Sp)}\n",
    "        colorsPop_sp_dict[-1]=(0.7,0.7,0.7) # grey color\n",
    "        patches=[]\n",
    "        for k, val in superop_dict.items():\n",
    "            patches.append(mpatches.Patch(color = colorsPop_sp_dict[val], label = k))\n",
    "        lgnd = ax1.legend(handles=patches, loc=\"upper right\",fontsize=15)\n",
    "    ax1.add_artist(lgnd)    \n",
    "    colors_pop = sns.color_palette(\"rainbow\", len(np.unique(granularPopSample)))\n",
    "    colors_pop_dict = {k:v for k,v in zip(np.unique(granularPopSample), colors_pop)}\n",
    "\n",
    "    alpha=[1]*len(y_predSample)\n",
    "    if cpShow is None:\n",
    "#         alpha=(pred_cps==0).astype(float)\n",
    "        unknownIdx=np.nonzero(pred_cps)[0]\n",
    "        print(f\"number of changepoints removed:{len(unknownIdx)},{len(unknownIdx)/len(y_predSample)}\")\n",
    "        granularPopNames=[\"UNK\" if i in unknownIdx else granularPopSample[i] for i in range(len(granularPopSample))]\n",
    "        colors_pop_dict[\"UNK\"]=(0.9,0.9,0.9) # grey color\n",
    "        mappedSpArr[unknownIdx]=-1\n",
    "    \n",
    "    ax1.scatter(y_predSample[:,0], y_predSample[:,1], y_predSample[:,2], \\\n",
    "               color = [colors_pop_dict[x]+(y,) for x,y in zip(granularPopNames, alpha)], s=50, zorder=0) \n",
    "    ax1.scatter(y_trueSample[:,0], y_trueSample[:,1], y_trueSample[:,2], \\\n",
    "               color = [colors_pop_dict[x] for x in granularPopSample], marker='X', s=200, zorder=0)\n",
    "    \n",
    "    for axis in [ax1.xaxis, ax1.yaxis, ax1.zaxis]:\n",
    "        axis.set_pane_color((1.0, 1.0, 1.0, 0.0))\n",
    "        axis._axinfo[\"grid\"]['color'] = (1,1,1,0)\n",
    "    patches=[]\n",
    "    for i, val in enumerate(np.unique(granularPopSample)):\n",
    "        patches.append(mpatches.Patch(color = colors_pop_dict[val], label = val))\n",
    "    patches.append(mpatches.Patch(color = (0.9,0.9,0.9), label = \"UNK\"))\n",
    "    ax1.legend(handles=patches, loc=\"upper left\", fontsize=20)\n",
    "    \n",
    "    #chm plot ground truth\n",
    "    ax2.scatter(np.arange(len(y_trueSample)),np.ones(len(y_trueSample)),\\\n",
    "                color=[colors_pop_dict[x] for x in granularPopSample], marker='s')\n",
    "    ax2.set_title('Labeled Chromosome22', fontsize=30, y=0.3)\n",
    "    #chm plot of predictions\n",
    "    ax3.scatter(np.arange(len(mappedSpArr)),np.ones(len(mappedSpArr)),\\\n",
    "                color=[colorsPop_sp_dict[x]+(y,) for x,y in zip(mappedSpArr,alpha)], marker='s')\n",
    "    ax3.set_title('Predicted Chromosome22', fontsize=30, y=0.3)\n",
    "    \n",
    "    for ax in [ax2, ax3]:\n",
    "        ax.xaxis.set_major_locator(ticker.MultipleLocator(1.0))\n",
    "        ax.xaxis.set_minor_locator(ticker.MultipleLocator(4))\n",
    "        ax.xaxis.set_ticks_position('bottom')\n",
    "        ax.tick_params(which='major', width=2, length=10, labelsize=25)\n",
    "        ax.tick_params(which='minor', width=2, length=10, labelsize=10)\n",
    "        ax.set_xlim(0, 316)\n",
    "        ax.set_ylim(0.99,1.09)\n",
    "        positions = [0, 160, 300]\n",
    "        x_labels = [0, 150000, 317000]\n",
    "        ax.xaxis.set_major_locator(ticker.FixedLocator(positions))\n",
    "        ax.xaxis.set_major_formatter(ticker.FixedFormatter(x_labels))\n",
    "    \n",
    "    fig.tight_layout()\n",
    "    plt.show()\n",
    "    plt.close('all')"
   ]
  }
 ],
 "metadata": {
  "kernelspec": {
   "display_name": "Python 3",
   "language": "python",
   "name": "python3"
  },
  "language_info": {
   "codemirror_mode": {
    "name": "ipython",
    "version": 3
   },
   "file_extension": ".py",
   "mimetype": "text/x-python",
   "name": "python",
   "nbconvert_exporter": "python",
   "pygments_lexer": "ipython3",
   "version": "3.6.1"
  }
 },
 "nbformat": 4,
 "nbformat_minor": 2
}
