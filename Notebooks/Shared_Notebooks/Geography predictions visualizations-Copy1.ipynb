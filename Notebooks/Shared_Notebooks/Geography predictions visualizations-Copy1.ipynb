{
 "cells": [
  {
   "cell_type": "code",
   "execution_count": 1,
   "metadata": {
    "collapsed": true
   },
   "outputs": [],
   "source": [
    "import torch\n",
    "import sys\n",
    "import os\n",
    "import os.path as osp\n",
    "import pandas as pd\n",
    "import numpy as np\n",
    "import itertools\n",
    "import matplotlib.pyplot as plt\n",
    "import seaborn as sns\n",
    "import plotly.graph_objects as go\n",
    "from mpl_toolkits.mplot3d import Axes3D\n",
    "from matplotlib import ticker\n",
    "import matplotlib as mpl\n",
    "from matplotlib.colors import LogNorm\n",
    "import matplotlib.patches as mpatches\n",
    "from sklearn.metrics import precision_recall_curve, recall_score, precision_score, \\\n",
    "balanced_accuracy_score, accuracy_score\n",
    "from sklearn import metrics\n",
    "import math"
   ]
  },
  {
   "cell_type": "code",
   "execution_count": 2,
   "metadata": {
    "collapsed": true
   },
   "outputs": [],
   "source": [
    "os.environ['USER_PATH']='/home/users/richras/Ge2Net_Repo'\n",
    "os.environ['USER_SCRATCH_PATH']=\"/scratch/users/richras\"\n",
    "os.environ['IN_PATH']='/scratch/groups/cdbustam/richras/data_in'\n",
    "os.environ['OUT_PATH']='/scratch/groups/cdbustam/richras/data_out'\n",
    "os.environ['LOG_PATH']='/scratch/groups/cdbustam/richras/logs/'"
   ]
  },
  {
   "cell_type": "code",
   "execution_count": 3,
   "metadata": {
    "collapsed": true
   },
   "outputs": [],
   "source": [
    "os.chdir(os.environ.get('USER_PATH'))"
   ]
  },
  {
   "cell_type": "code",
   "execution_count": 4,
   "metadata": {
    "collapsed": true
   },
   "outputs": [],
   "source": [
    "%load_ext autoreload\n",
    "%autoreload 2\n",
    "from src.utils.dataUtil import load_path, save_file, vcf2npy\n",
    "from src.utils.modelUtil import Params, load_model, convert_coordinates\n",
    "from src.utils.labelUtil import nearestNeighbourMapping, repeat_pop_arr\n",
    "from src.utils.decorators import timer\n",
    "from src.models.modelSelection import modelSelect\n",
    "from src.models.modelParamsSelection import Selections\n",
    "from src.models import Model_A, Model_B, Model_C, BOCD\n",
    "from src.models.distributions import Multivariate_Gaussian\n",
    "from src.main.evaluation import eval_cp_batch, reportChangePointMetrics, t_prMetrics, cpMethod, eval_cp_matrix, \\\n",
    "getCpPred, GcdLoss\n",
    "from src.main.settings_model import parse_args\n",
    "from src.models.Ge3Net import Ge3NetBase\n",
    "from src.main.visualization import plot_changepoints\n",
    "import inference"
   ]
  },
  {
   "cell_type": "markdown",
   "metadata": {},
   "source": [
    "# load the model and use valid data "
   ]
  },
  {
   "cell_type": "code",
   "execution_count": 288,
   "metadata": {
    "collapsed": true
   },
   "outputs": [],
   "source": [
    "# Specify the dataset to be evaluated\n",
    "# chm22 pca full dataset and model\n",
    "labels_path = osp.join(os.environ['OUT_PATH'],'humans/labels/data_id_1_geo')\n",
    "data_path = osp.join(os.environ['OUT_PATH'],'humans/labels/data_id_1_geo')\n",
    "models_path=osp.join(os.environ['OUT_PATH'],'humans/training/Model_H_exp_id_10_data_id_1_geo/') \n",
    "dataset_type='test'"
   ]
  },
  {
   "cell_type": "code",
   "execution_count": 289,
   "metadata": {
    "scrolled": false
   },
   "outputs": [
    {
     "name": "stdout",
     "output_type": "stream",
     "text": [
      " device used: cuda\n",
      "Loading the datasets...\n",
      "Finished '_geoConvertLatLong2nVec' in 0.0722 secs\n",
      "Finished 'mapping_func' in 0.3141 secs\n",
      "Finished 'pop_mapping' in 0.1204 secs\n",
      "Finished 'pop_mapping' in 0.1125 secs\n",
      "Finished 'transform_data' in 33.6642 secs\n",
      "Finished '__init__' in 95.5039 secs\n",
      "Parameter count for model AuxNetwork:31752803\n",
      "Parameter count for model PositionalEncoding:0\n",
      "Parameter count for model attention_single:32342\n",
      "Parameter count for model FFNN:32548\n",
      "Parameter count for model BiRNN:35395\n",
      "Parameter count for model logits_Block:2289\n",
      "Total parameters:31855377\n",
      "best val loss metrics : {'loss_main': 1022.7950114515362, 'loss_aux': 2302.5517583509786, 'l1_loss': 0.23750537297167365, 'mse': 0.054396821367344486, 'smooth_l1': 0.027125347057171255, 'weighted_loss': 0.23750537297167365}\n",
      "at epoch : 119\n",
      "train loss metrics: {'loss_main': 376.07291603652266, 'loss_aux': 1778.9024937115694, 'l1_loss': 0.08760086007491721, 'mse': 0.008409384318667413, 'smooth_l1': 0.004197009361169736, 'weighted_loss': 0.08760086007491721}\n",
      "best val cp metrics : {'loss_cp': 0.26876976725647256, 'prMetrics': OrderedDict([('Precision', array(0.3753736)), ('Recall', array(0.64410536)), ('Accuracy', array(0.98051165)), ('A_major', array(0.98516722)), ('BalancedAccuracy', 0.8146362878693416)])}\n",
      "train cp metrics: {'loss_cp': 0.18976147443964675, 'prMetrics': OrderedDict([('Precision', array(0.34263696)), ('Recall', array(0.75247211)), ('Accuracy', array(0.98708348)), ('A_major', array(0.98888914)), ('BalancedAccuracy', 0.8706806238848319)])}\n",
      "best val sp metrics : None\n",
      "train sp metrics: None\n",
      "best val balanced gcd metrics : {'meanBalancedGcdSp': 1109.9727783203125, 'meanBalancedGcdGp': 1407.2791748046875, 'medianBalancedGcdSp': 1045.5906982421875, 'medianBalancedGcdGp': 1214.3272705078125, 'median': 697.2177124023438}\n",
      "train balanced gcd metrics: {'meanBalancedGcdSp': 479.5821228027344, 'meanBalancedGcdGp': 637.7451782226562, 'medianBalancedGcdSp': 360.510009765625, 'medianBalancedGcdGp': 521.8018798828125, 'median': 245.4760284423828}\n",
      "Finished 'load_model' in 0.9306 secs\n",
      "is the model on cuda? : True\n",
      "Finished 'batchLoopValid' in 3.0223 secs\n",
      "Finished 'main' in 99.7671 secs\n"
     ]
    }
   ],
   "source": [
    "config={}\n",
    "config['data.labels']=labels_path \n",
    "config['data.dir']=data_path \n",
    "config['models.dir']=models_path\n",
    "config['data.dataset_type']=dataset_type\n",
    "config['cuda']='cuda'\n",
    "config['model.loadBest']=True\n",
    "json_path = osp.join(config['models.dir'], 'params.json')\n",
    "assert osp.isfile(json_path), \"No json configuration file found at {}\".format(json_path)\n",
    "params = Params(json_path)\n",
    "params.rtnOuts=True\n",
    "params.mc_dropout=False\n",
    "params.mc_samples=100\n",
    "params.cp_tol=1\n",
    "params.test_gens=[0,2,4,8]\n",
    "params.evalCp=True\n",
    "params.evalBalancedGcd=True\n",
    "params.evalExtraMainLosses=True\n",
    "results, test_dataset, model, _=inference.main(config, params)"
   ]
  },
  {
   "cell_type": "code",
   "execution_count": 290,
   "metadata": {
    "collapsed": true
   },
   "outputs": [],
   "source": [
    "# def load_model(model_path, model_init, optimizer=None):\n",
    "#     if not osp.exists(model_path):\n",
    "#         # ToDo look into the raise exception error not\n",
    "#         # coming from BaseException\n",
    "#         print(f'{model_path} does not exist')\n",
    "#         raise (f'{model_path} does not exist')\n",
    "        \n",
    "#     checkpoint = torch.load(model_path)\n",
    "\n",
    "#     print(f\"best val loss metrics : {checkpoint['val_accr']['t_accr']}\")\n",
    "#     print(f\"at epoch : {checkpoint['epoch']}\")\n",
    "#     print(f\"train loss metrics: {checkpoint['train_accr']['t_accr']}\")\n",
    "\n",
    "#     print(f\"best val cp metrics : {checkpoint['val_accr']['t_cp_accr']}\")\n",
    "#     print(f\"train cp metrics: {checkpoint['train_accr']['t_cp_accr']}\")\n",
    "\n",
    "#     print(f\"best val sp metrics : {checkpoint['val_accr']['t_sp_accr']}\")\n",
    "#     print(f\"train sp metrics: {checkpoint['train_accr']['t_sp_accr']}\")\n",
    "\n",
    "#     print(f\"best val balanced gcd metrics : {checkpoint['val_accr']['t_balanced_gcd']}\")\n",
    "#     print(f\"train balanced gcd metrics: {checkpoint['train_accr']['t_balanced_gcd']}\")\n",
    "    \n",
    "#     print(f\"checkpoint['model_state_dict']:{checkpoint['model_state_dict']}\")\n",
    "#     model_init.load_state_dict(checkpoint['model_state_dict'])\n",
    "         \n",
    "#     return model_init"
   ]
  },
  {
   "cell_type": "code",
   "execution_count": 291,
   "metadata": {
    "collapsed": true,
    "scrolled": true
   },
   "outputs": [],
   "source": [
    "# model_path = osp.join(config['models.dir'], 'models_dir')\n",
    "# modelOption=modelSelect.get_selection()\n",
    "# option = Selections.get_selection()\n",
    "# criterion = option['loss'][params.criteria](reduction='sum', alpha=params.criteria_alpha, geography=params.geography)\n",
    "# cp_criterion=option['cpMetrics']['loss_cp']\n",
    "# model_init = modelOption['models'][params.model](params, criterion, cp_criterion)\n",
    "# if config['model.loadBest']:\n",
    "#     model = load_model(''.join([str(model_path),'/best.pt']), model_init)\n",
    "# else:\n",
    "#     model= load_model(''.join([str(model_path),'/last.pt']), model_init)\n"
   ]
  },
  {
   "cell_type": "code",
   "execution_count": 292,
   "metadata": {},
   "outputs": [
    {
     "data": {
      "text/plain": [
       "True"
      ]
     },
     "execution_count": 292,
     "metadata": {},
     "output_type": "execute_result"
    }
   ],
   "source": [
    "model.to(params.device)\n",
    "next(model.parameters()).is_cuda"
   ]
  },
  {
   "cell_type": "code",
   "execution_count": 293,
   "metadata": {},
   "outputs": [
    {
     "data": {
      "text/plain": [
       "(1, 2964, 317, 3)"
      ]
     },
     "execution_count": 293,
     "metadata": {},
     "output_type": "execute_result"
    }
   ],
   "source": [
    "results.t_out.coord_main.shape"
   ]
  },
  {
   "cell_type": "code",
   "execution_count": 294,
   "metadata": {},
   "outputs": [
    {
     "data": {
      "text/plain": [
       "({'l1_loss': 0.231020815231982,\n",
       "  'loss_aux': 2183.461500146873,\n",
       "  'loss_main': 989.6348101508321,\n",
       "  'mse': 0.05191568562456031,\n",
       "  'smooth_l1': 0.025889121649304337,\n",
       "  'weighted_loss': 0.231020815231982},\n",
       " {'loss_cp': 0.31530401193586644,\n",
       "  'prMetrics': OrderedDict([('Precision', array(0.41005449)),\n",
       "               ('Recall', array(0.65564388)),\n",
       "               ('Accuracy', array(0.97845013)),\n",
       "               ('A_major', array(0.98394459)),\n",
       "               ('BalancedAccuracy', 0.8197942341801079)])})"
      ]
     },
     "execution_count": 294,
     "metadata": {},
     "output_type": "execute_result"
    }
   ],
   "source": [
    "results.t_accr, results.t_cp_accr"
   ]
  },
  {
   "cell_type": "code",
   "execution_count": 295,
   "metadata": {},
   "outputs": [
    {
     "data": {
      "text/plain": [
       "{'meanBalancedGcdGp': 1153.9429931640625,\n",
       " 'meanBalancedGcdSp': 1081.30078125,\n",
       " 'median': 676.7666625976562,\n",
       " 'medianBalancedGcdGp': 1047.4132080078125,\n",
       " 'medianBalancedGcdSp': 1079.3060302734375}"
      ]
     },
     "execution_count": 295,
     "metadata": {},
     "output_type": "execute_result"
    }
   ],
   "source": [
    "results.t_balanced_gcd"
   ]
  },
  {
   "cell_type": "code",
   "execution_count": 296,
   "metadata": {
    "collapsed": true
   },
   "outputs": [],
   "source": [
    "results_coord_main=results.t_out.coord_main.mean(0)"
   ]
  },
  {
   "cell_type": "code",
   "execution_count": 297,
   "metadata": {},
   "outputs": [
    {
     "name": "stdout",
     "output_type": "stream",
     "text": [
      "Finished 'run_recursive' in 184.9210 secs\n"
     ]
    }
   ],
   "source": [
    "y_pred = results_coord_main\n",
    "n_vec_dim=y_pred.shape[-1]\n",
    "data_tensor = torch.tensor(y_pred).float()\n",
    "batch_size_cpd = data_tensor.shape[0]\n",
    "mu_prior = torch.zeros((batch_size_cpd, 1,n_vec_dim))\n",
    "mean_var=torch.mean(torch.var(data_tensor, dim =1),dim=0).unsqueeze(0)\n",
    "cov_prior = (mean_var.repeat(batch_size_cpd,1).unsqueeze(1)* torch.eye(n_vec_dim)).reshape(batch_size_cpd,1,n_vec_dim,n_vec_dim)\n",
    "cov_x = cov_prior\n",
    "likelihood_model = Multivariate_Gaussian(mu_prior, cov_prior, cov_x)\n",
    "T = params.n_win\n",
    "model_cpd = BOCD.BOCD(None, T, likelihood_model, batch_size_cpd)\n",
    "_,_,_,_=model_cpd.run_recursive(data_tensor, 'cpu')"
   ]
  },
  {
   "cell_type": "code",
   "execution_count": 298,
   "metadata": {
    "collapsed": true
   },
   "outputs": [],
   "source": [
    "granular_pop_dict = load_path(osp.join(labels_path, 'granular_pop.pkl'), en_pickle=True)\n",
    "superop_dict=load_path(osp.join(labels_path, 'superpop.pkl'), en_pickle=True)\n",
    "pop_sample_map=pd.read_csv(osp.join(labels_path, 'pop_sample_map.tsv'),sep=\"\\t\")\n",
    "pop_arr=repeat_pop_arr(pop_sample_map)\n",
    "cp_target=test_dataset.data['cps']\n",
    "seqlen=cp_target.shape[1]\n",
    "rev_pop_dict={v:k for k,v in granular_pop_dict.items()}"
   ]
  },
  {
   "cell_type": "code",
   "execution_count": 299,
   "metadata": {},
   "outputs": [
    {
     "data": {
      "text/plain": [
       "(2964, 317)"
      ]
     },
     "execution_count": 299,
     "metadata": {},
     "output_type": "execute_result"
    }
   ],
   "source": [
    "cp_target.shape"
   ]
  },
  {
   "cell_type": "code",
   "execution_count": 552,
   "metadata": {
    "scrolled": false
   },
   "outputs": [
    {
     "name": "stdout",
     "output_type": "stream",
     "text": [
      "1402\n"
     ]
    }
   ],
   "source": [
    "# index = 2500\n",
    "# index=2620\n",
    "# index=2650\n",
    "# index=3000\n",
    "# index=3100\n",
    "# index=2300\n",
    "# index=2320\n",
    "# index=2338 #interesting Mansi pop\n",
    "# index=2339 # nice example showing Karitiana\n",
    "# index=2344 #interesting clusters of Mongolia\n",
    "# index=2346 # interesting African diversity\n",
    "# index=2355#int. Iranian sample\n",
    "# index=2366# Piapioco and Pima both\n",
    "# index=2388#int example\n",
    "# index=2398#Biaka/Luhya\n",
    "# index=2403#Quechua\n",
    "# index=2414#incorrect Khomani San\n",
    "# index=2421#uyugur\n",
    "# index=2465#balochi similar to MAkrani slave trade\n",
    "# index=2482# interesting Indo euro\n",
    "# index=2876 #icelandic example\n",
    "# index=3533 #San and icelandic\n",
    "# index=1007 #Surui\n",
    "# index=2974 #Surui nice example\n",
    "#1873# nice diversity of samples\n",
    "index=np.random.choice(idxOfInterest)\n",
    "# index=830\n",
    "# index=511\n",
    "# index=1040 #San\n",
    "# index=2205#1007 #2205, for 3_geo\n",
    "# index=437\n",
    "print(index)\n",
    "true_cpsSample=cp_target[index,:]\n",
    "y_predSample=results_coord_main[index,:]\n",
    "y_trueSample=test_dataset.data['y'][index,:]\n",
    "granularpopSample=test_dataset.data['granular_pop'][index,:]\n",
    "namesSample=[rev_pop_dict[i] for i in granularpopSample.astype(int)]"
   ]
  },
  {
   "cell_type": "code",
   "execution_count": 553,
   "metadata": {},
   "outputs": [
    {
     "data": {
      "text/plain": [
       "(317, 3)"
      ]
     },
     "execution_count": 553,
     "metadata": {},
     "output_type": "execute_result"
    }
   ],
   "source": [
    "y_predSample.shape"
   ]
  },
  {
   "cell_type": "code",
   "execution_count": 554,
   "metadata": {
    "collapsed": true
   },
   "outputs": [],
   "source": [
    "pred_cps=getCpPred(cpMethod.gradient.name, y_predSample, 0.1, 1, len(true_cpsSample))\n",
    "pred_cps=pred_cps.squeeze(0).detach().cpu().numpy()# squeeze the batch dimension of 1"
   ]
  },
  {
   "cell_type": "code",
   "execution_count": 555,
   "metadata": {
    "collapsed": true
   },
   "outputs": [],
   "source": [
    "predBOCDSample=model_cpd.cp[index,:]\n",
    "pred_cps_BOCD=getCpPred(cpMethod.BOCD.name, predBOCDSample, 5.0, 1, len(true_cpsSample))\n",
    "pred_cps_BOCD=pred_cps_BOCD.squeeze(0).detach().cpu().numpy()# squeeze the batch dimension of 1"
   ]
  },
  {
   "cell_type": "code",
   "execution_count": 556,
   "metadata": {
    "collapsed": true
   },
   "outputs": [],
   "source": [
    "cpIdx=np.nonzero(pred_cps_BOCD)[0]\n",
    "remWin=3\n",
    "for i in cpIdx:\n",
    "    low=max(0,i-remWin)\n",
    "    high=min(seqlen, i+remWin)\n",
    "    pred_cps_BOCD[low:high]=1"
   ]
  },
  {
   "cell_type": "code",
   "execution_count": 557,
   "metadata": {},
   "outputs": [
    {
     "name": "stdout",
     "output_type": "stream",
     "text": [
      "Finished 'nearestNeighbourMapping' in 0.2849 secs\n"
     ]
    }
   ],
   "source": [
    "mappedSpArr=nearestNeighbourMapping(labels_path, y_predSample.reshape(-1,3))\n",
    "# mappedSpArr=mappedSpArr.squeeze(1)"
   ]
  },
  {
   "cell_type": "code",
   "execution_count": 558,
   "metadata": {
    "collapsed": true
   },
   "outputs": [],
   "source": [
    "y_predsTrue=test_dataset.data['y'].reshape(-1,3)\n",
    "superpopsTrue=test_dataset.data['superpop'].reshape(-1,)"
   ]
  },
  {
   "cell_type": "code",
   "execution_count": 559,
   "metadata": {
    "collapsed": true
   },
   "outputs": [],
   "source": [
    "@timer\n",
    "def plot_sample(granularPopSample, y_predSample, y_trueSample, **kwargs):\n",
    "    backgroundAxis=kwargs.get('backgroundAxis')\n",
    "    y_predCps=kwargs.get('y_predCps')\n",
    "    y_preds=kwargs.get('y_preds')\n",
    "    superpops=kwargs.get('superpops')\n",
    "    cpShow=kwargs.get('cpShow')\n",
    "    pred_cps=kwargs.get('pred_cps')\n",
    "    mappedSpArr=kwargs.get('mappedSpArr')\n",
    "    fig, ax = plt.subplots(figsize=(12,14))\n",
    "    \n",
    "    gs1 = fig.add_gridspec(nrows=3, ncols=1, height_ratios=[13,1,1])\n",
    "    ax1=fig.add_subplot(gs1[0],projection='3d')\n",
    "    ax2=fig.add_subplot(gs1[1])\n",
    "    ax3=fig.add_subplot(gs1[2])\n",
    "    for axis in [ax, ax2, ax3]:\n",
    "        axis.set_yticks([])\n",
    "        axis.spines['top'].set_color('none')\n",
    "        axis.spines['left'].set_color('none')\n",
    "        axis.spines['right'].set_color('none')\n",
    "    ax.set_xticks([])\n",
    "    plt.subplots_adjust(hspace=0.01)\n",
    "    \n",
    "    if backgroundAxis is not None:\n",
    "        lgnd, colorsPop_sp_dict =plot_all(ax1, y_preds, superpops, cpShow=False)\n",
    "    else:\n",
    "        continentaPops=list(superop_dict.values())\n",
    "        colors_Sp = sns.color_palette(\"bright\", 10)\n",
    "        del colors_Sp[1]\n",
    "        del colors_Sp[4]\n",
    "        del colors_Sp[5]\n",
    "        colorsPop_sp_dict = {k:v for k,v in zip(continentaPops, colors_Sp)}\n",
    "        colorsPop_sp_dict[-1]=(0.7,0.7,0.7) # grey color\n",
    "        patches=[]\n",
    "        for k, val in superop_dict.items():\n",
    "            patches.append(mpatches.Patch(color = colorsPop_sp_dict[val], label = k))\n",
    "        lgnd = ax1.legend(handles=patches, loc=\"upper right\",fontsize=15)\n",
    "    ax1.add_artist(lgnd)    \n",
    "    colors_pop = sns.color_palette(\"rainbow\", len(np.unique(granularPopSample)))\n",
    "    colors_pop_dict = {k:v for k,v in zip(np.unique(granularPopSample), colors_pop)}\n",
    "\n",
    "    alpha=[1]*len(y_predSample)\n",
    "    if cpShow is None:\n",
    "#         alpha=(pred_cps==0).astype(float)\n",
    "        unknownIdx=np.nonzero(pred_cps)[0]\n",
    "        print(f\"number of changepoints removed:{len(unknownIdx)},{len(unknownIdx)/len(y_predSample)}\")\n",
    "        granularPopNames=[\"UNK\" if i in unknownIdx else granularPopSample[i] for i in range(len(granularPopSample))]\n",
    "        colors_pop_dict[\"UNK\"]=(0.9,0.9,0.9) # grey color\n",
    "        mappedSpArr[unknownIdx]=-1\n",
    "    \n",
    "    ax1.scatter(y_predSample[:,0], y_predSample[:,1], y_predSample[:,2], \\\n",
    "               color = [colors_pop_dict[x]+(y,) for x,y in zip(granularPopNames, alpha)], s=50, zorder=0) \n",
    "    ax1.scatter(y_trueSample[:,0], y_trueSample[:,1], y_trueSample[:,2], \\\n",
    "               color = [colors_pop_dict[x] for x in granularPopSample], marker='X', s=200, zorder=0)\n",
    "    \n",
    "    for axis in [ax1.xaxis, ax1.yaxis, ax1.zaxis]:\n",
    "        axis.set_pane_color((1.0, 1.0, 1.0, 0.0))\n",
    "        axis._axinfo[\"grid\"]['color'] = (1,1,1,0)\n",
    "    patches=[]\n",
    "    for i, val in enumerate(np.unique(granularPopSample)):\n",
    "        patches.append(mpatches.Patch(color = colors_pop_dict[val], label = val))\n",
    "    patches.append(mpatches.Patch(color = (0.9,0.9,0.9), label = \"UNK\"))\n",
    "    ax1.legend(handles=patches, loc=\"upper left\", fontsize=20)\n",
    "    \n",
    "    #chm plot ground truth\n",
    "    ax2.scatter(np.arange(len(y_trueSample)),np.ones(len(y_trueSample)),\\\n",
    "                color=[colors_pop_dict[x] for x in granularPopSample], marker='s')\n",
    "    ax2.set_title('Labeled Chromosome22', fontsize=30, y=0.3)\n",
    "    #chm plot of predictions\n",
    "    ax3.scatter(np.arange(len(mappedSpArr)),np.ones(len(mappedSpArr)),\\\n",
    "                color=[colorsPop_sp_dict[x]+(y,) for x,y in zip(mappedSpArr,alpha)], marker='s')\n",
    "    ax3.set_title('Predicted Chromosome22', fontsize=30, y=0.3)\n",
    "    \n",
    "    for ax in [ax2, ax3]:\n",
    "        ax.xaxis.set_major_locator(ticker.MultipleLocator(1.0))\n",
    "        ax.xaxis.set_minor_locator(ticker.MultipleLocator(4))\n",
    "        ax.xaxis.set_ticks_position('bottom')\n",
    "        ax.tick_params(which='major', width=2, length=10, labelsize=25)\n",
    "        ax.tick_params(which='minor', width=2, length=10, labelsize=10)\n",
    "        ax.set_xlim(0, 316)\n",
    "        ax.set_ylim(0.99,1.09)\n",
    "        positions = [0, 160, 300]\n",
    "        x_labels = [0, 150000, 317000]\n",
    "        ax.xaxis.set_major_locator(ticker.FixedLocator(positions))\n",
    "        ax.xaxis.set_major_formatter(ticker.FixedFormatter(x_labels))\n",
    "    \n",
    "    fig.tight_layout()\n",
    "    plt.show()\n",
    "    plt.close('all')"
   ]
  },
  {
   "cell_type": "code",
   "execution_count": 560,
   "metadata": {
    "scrolled": false
   },
   "outputs": [
    {
     "name": "stdout",
     "output_type": "stream",
     "text": [
      "number of changepoints removed:18,0.056782334384858045\n"
     ]
    },
    {
     "data": {
      "image/png": "[encoded data removed]",
      "text/plain": [
       "<Figure size 864x1008 with 4 Axes>"
      ]
     },
     "metadata": {},
     "output_type": "display_data"
    },
    {
     "name": "stdout",
     "output_type": "stream",
     "text": [
      "Finished 'plot_sample' in 0.8125 secs\n"
     ]
    }
   ],
   "source": [
    "plot_sample(namesSample, y_predSample, y_trueSample, pred_cps=pred_cps_BOCD, mappedSpArr=mappedSpArr)"
   ]
  },
  {
   "cell_type": "code",
   "execution_count": 561,
   "metadata": {
    "collapsed": true
   },
   "outputs": [],
   "source": [
    "def plot_coordinates_map(granularPopNames, pred_coord, lbl_coord, **kwargs):\n",
    "    \"\"\"\n",
    "    plotly plot for coordinates on a map\n",
    "    label: target label vector (int) for the specific sample\n",
    "    data_coordinates: lat, long for the specific sample\n",
    "    rev_pop_order: dict with keys as target label ints and values\n",
    "    as granular population name\n",
    "    \"\"\"\n",
    "    cpShow=kwargs.get('cpShow')\n",
    "    pred_cps=kwargs.get('pred_cps') \n",
    "    alpha=[1.0]*len(lbl_coord)\n",
    "    if cpShow:\n",
    "        unknownIdx=np.nonzero(pred_cps)[0]\n",
    "        granularPopNames=[\"UNK\" if i in unknownIdx else granularPopNames[i] for i in range(len(granularPopNames))]\n",
    "    fig = go.Figure(go.Scattergeo())\n",
    "    colors_pop = sns.color_palette(\"rainbow\", len(np.unique(granularPopNames)))\n",
    "    \n",
    "    colors_pop_dict = {k:v for k,v in zip(np.unique(granularPopNames), colors_pop)}\n",
    "    colors_pop_dict['UNK']=(188,188,188) # grey color\n",
    "    fig.add_trace(go.Scattergeo(lon=pred_coord[:,1], lat=pred_coord[:,0], text = granularPopNames,\\\n",
    "    marker_color=['rgba'+str(colors_pop_dict[x]+(y,)) for x,y in zip(granularPopNames, alpha)]))\n",
    "    fig.update_traces(marker_size = 5)\n",
    "    fig.add_trace(go.Scattergeo(lon=lbl_coord[:,1], lat=lbl_coord[:,0], marker = dict(symbol = 'square'), \\\n",
    "                                text = granularPopNames))\n",
    "    fig.update_traces(marker_size = 5)\n",
    "\n",
    "    fig.show()\n",
    "    plt.show()\n",
    "    plt.close('all')"
   ]
  },
  {
   "cell_type": "code",
   "execution_count": 562,
   "metadata": {},
   "outputs": [
    {
     "data": {
      "text/plain": [
       "(317, 3)"
      ]
     },
     "execution_count": 562,
     "metadata": {},
     "output_type": "execute_result"
    }
   ],
   "source": [
    "y_trueSample.shape"
   ]
  },
  {
   "cell_type": "code",
   "execution_count": 563,
   "metadata": {},
   "outputs": [
    {
     "data": {
      "application/vnd.plotly.v1+json": {
       "config": {
        "plotlyServerURL": "https://plot.ly"
       },
       "data": [
        {
         "marker": {
          "size": 5
         },
         "type": "scattergeo"
        },
        {
         "lat": [
          13.068065643310547,
          12.852922439575195,
          12.206084251403809,
          11.713398933410645,
          10.84536361694336,
          10.71901798248291,
          10.38288402557373,
          10.11047077178955,
          10.461540222167969,
          10.396949768066406,
          10.86305046081543,
          10.992196083068848,
          11.195060729980469,
          10.942218780517578,
          10.912785530090332,
          10.538334846496582,
          10.877788543701172,
          10.344076156616211,
          10.216667175292969,
          10.184743881225586,
          9.801274299621582,
          9.854106903076172,
          9.934179306030273,
          9.85153579711914,
          9.90037727355957,
          9.611852645874023,
          9.412747383117676,
          9.648429870605469,
          9.59481143951416,
          9.885065078735352,
          9.736241340637207,
          10.12961196899414,
          10.445663452148438,
          10.639443397521973,
          10.389182090759277,
          10.24790096282959,
          10.443609237670898,
          11.37091064453125,
          12.697274208068848,
          13.221521377563477,
          12.405177116394043,
          13.67762565612793,
          14.214783668518066,
          14.303884506225586,
          14.320103645324707,
          14.418149948120117,
          14.460744857788086,
          14.579474449157715,
          14.698050498962402,
          13.992643356323242,
          14.037785530090332,
          14.22853946685791,
          14.433910369873047,
          14.347274780273438,
          14.1956787109375,
          13.81087875366211,
          13.767661094665527,
          13.898991584777832,
          13.813356399536133,
          13.72634220123291,
          13.717254638671875,
          13.641897201538086,
          13.79916763305664,
          14.116923332214355,
          14.232616424560547,
          14.423873901367188,
          14.295222282409668,
          13.45885181427002,
          13.57757568359375,
          13.806001663208008,
          13.390814781188965,
          13.76609992980957,
          15.055389404296875,
          15.458393096923828,
          15.700645446777344,
          15.730475425720215,
          14.961517333984375,
          14.765703201293945,
          14.70583438873291,
          14.696428298950195,
          14.281716346740723,
          14.361272811889648,
          14.618329048156738,
          14.935345649719238,
          15.190085411071777,
          15.695449829101562,
          15.763760566711426,
          15.532879829406738,
          15.566844940185547,
          15.742749214172363,
          15.661613464355469,
          15.969064712524414,
          16.337169647216797,
          16.07646369934082,
          16.273696899414062,
          16.19595718383789,
          15.881719589233398,
          15.748899459838867,
          15.894659996032715,
          15.653690338134766,
          15.719481468200684,
          16.64594268798828,
          16.50380516052246,
          16.738475799560547,
          16.618183135986328,
          16.645864486694336,
          16.575611114501953,
          16.720386505126953,
          16.771379470825195,
          16.81829833984375,
          17.031696319580078,
          17.427452087402344,
          17.743480682373047,
          18.094520568847656,
          18.342731475830078,
          18.440752029418945,
          18.563310623168945,
          18.66316032409668,
          18.687606811523438,
          18.788097381591797,
          18.757280349731445,
          18.81246566772461,
          18.862329483032227,
          18.768476486206055,
          18.353927612304688,
          17.96782112121582,
          18.22218894958496,
          18.327787399291992,
          18.457706451416016,
          18.27766990661621,
          17.480913162231445,
          18.257827758789062,
          21.46759033203125,
          19.535411834716797,
          19.83858871459961,
          19.7276611328125,
          20.175962448120117,
          20.83613395690918,
          22.279624938964844,
          23.984912872314453,
          23.25604248046875,
          22.693998336791992,
          22.26031494140625,
          22.106582641601562,
          22.81053352355957,
          24.467195510864258,
          24.474489212036133,
          25.271154403686523,
          26.934167861938477,
          27.40789794921875,
          26.517887115478516,
          29.698360443115234,
          31.030929565429688,
          31.781444549560547,
          31.62550926208496,
          31.07526969909668,
          30.612525939941406,
          30.751375198364258,
          30.56374740600586,
          30.124296188354492,
          29.49588394165039,
          29.668468475341797,
          30.013290405273438,
          28.912145614624023,
          29.625089645385742,
          30.414995193481445,
          31.58586311340332,
          32.74574661254883,
          34.07805633544922,
          34.72819137573242,
          33.544952392578125,
          34.17510986328125,
          33.90670394897461,
          32.94655227661133,
          32.4918212890625,
          31.36324691772461,
          31.61285400390625,
          32.29613494873047,
          32.52427673339844,
          32.24788284301758,
          32.10943603515625,
          31.79814910888672,
          31.79068374633789,
          31.59467124938965,
          30.613563537597656,
          31.89044189453125,
          31.465726852416992,
          31.48807144165039,
          31.75916290283203,
          31.714160919189453,
          31.7255859375,
          31.47147560119629,
          31.911699295043945,
          31.660451889038086,
          31.482532501220703,
          31.25010871887207,
          31.22720718383789,
          31.039844512939453,
          30.998987197875977,
          31.11576271057129,
          31.193958282470703,
          31.211233139038086,
          31.3265323638916,
          31.4377384185791,
          31.368234634399414,
          31.544418334960938,
          31.62999725341797,
          31.72150993347168,
          31.72918128967285,
          31.66692543029785,
          31.716880798339844,
          31.854522705078125,
          31.62338638305664,
          31.89191436767578,
          31.845449447631836,
          31.88471221923828,
          31.789382934570312,
          31.886327743530273,
          31.667463302612305,
          31.540441513061523,
          31.769502639770508,
          31.637144088745117,
          32.03236770629883,
          31.82882308959961,
          31.96672248840332,
          31.956716537475586,
          31.9804744720459,
          31.917268753051758,
          31.723098754882812,
          31.566617965698242,
          31.895748138427734,
          31.845474243164062,
          31.809202194213867,
          31.764127731323242,
          31.636869430541992,
          31.86420440673828,
          31.678070068359375,
          31.83292579650879,
          31.807132720947266,
          31.642101287841797,
          31.576152801513672,
          31.473073959350586,
          31.259241104125977,
          31.462303161621094,
          31.880817413330078,
          31.97672462463379,
          31.839265823364258,
          31.83181381225586,
          31.757816314697266,
          31.751434326171875,
          31.7664737701416,
          31.706897735595703,
          31.564817428588867,
          31.60149574279785,
          31.654197692871094,
          31.660200119018555,
          31.60434913635254,
          31.765380859375,
          31.64570426940918,
          31.819442749023438,
          31.676828384399414,
          31.81520652770996,
          31.9155330657959,
          32.04658508300781,
          32.27490234375,
          31.997940063476562,
          32.53460693359375,
          32.410545349121094,
          32.616493225097656,
          31.640655517578125,
          31.346752166748047,
          31.9541015625,
          31.977558135986328,
          31.73107147216797,
          32.02634048461914,
          32.22633361816406,
          32.24729537963867,
          32.107112884521484,
          32.27764129638672,
          32.22286605834961,
          32.12361526489258,
          32.33781433105469,
          32.20535659790039,
          32.08427810668945,
          32.17551803588867,
          32.135101318359375,
          32.04844665527344,
          32.208160400390625,
          32.22638702392578,
          32.237300872802734,
          32.33943557739258,
          32.21279525756836,
          32.236106872558594,
          32.191795349121094,
          32.160736083984375,
          31.957473754882812,
          31.95435905456543,
          31.86308479309082,
          31.708309173583984,
          31.568038940429688,
          31.527700424194336,
          31.505844116210938,
          31.568584442138672,
          31.500839233398438,
          31.578109741210938,
          31.59324073791504,
          31.43160629272461,
          31.404401779174805,
          31.146259307861328,
          31.129791259765625,
          31.23926544189453,
          31.20516014099121,
          31.102956771850586,
          31.31898307800293,
          31.533618927001953,
          32.079498291015625,
          34.50052261352539
         ],
         "lon": [
          81.75408935546875,
          81.30130767822266,
          81.31903076171875,
          81.70909881591797,
          81.58633422851562,
          81.17536926269531,
          81.37570190429688,
          81.56372833251953,
          81.3974609375,
          81.74993896484375,
          81.6711654663086,
          81.97453308105469,
          82.09506225585938,
          81.57198333740234,
          81.60987854003906,
          81.49809265136719,
          81.15763092041016,
          81.09830474853516,
          81.16594696044922,
          80.75216674804688,
          80.93179321289062,
          80.61116027832031,
          80.98503875732422,
          80.72500610351562,
          80.8293685913086,
          80.90066528320312,
          80.98709869384766,
          80.94302368164062,
          80.93199920654297,
          80.95577239990234,
          81.28533935546875,
          81.37094116210938,
          81.86652374267578,
          82.12244415283203,
          82.17687225341797,
          82.64625549316406,
          84.44000244140625,
          88.18877410888672,
          91.3482894897461,
          92.71723175048828,
          91.74560546875,
          94.99116516113281,
          96.02320098876953,
          95.99134826660156,
          96.37123107910156,
          96.47049713134766,
          96.37659454345703,
          96.52519989013672,
          96.6518325805664,
          96.11453247070312,
          94.98097229003906,
          95.94095611572266,
          96.27667999267578,
          96.73571014404297,
          96.82744598388672,
          97.0750961303711,
          97.18839263916016,
          96.73358154296875,
          97.0269775390625,
          96.67115020751953,
          97.23506164550781,
          97.38490295410156,
          97.30998229980469,
          97.09413146972656,
          97.7913818359375,
          97.95637512207031,
          98.53520202636719,
          99.71378326416016,
          99.86853790283203,
          99.7825698852539,
          99.84843444824219,
          100.41364288330078,
          100.23242950439453,
          101.6762466430664,
          100.90503692626953,
          101.91273498535156,
          101.17715454101562,
          101.56067657470703,
          101.75900268554688,
          101.52461242675781,
          102.11663818359375,
          102.471923828125,
          102.40754699707031,
          102.98194122314453,
          103.7886734008789,
          105.14251708984375,
          104.77252197265625,
          106.01508331298828,
          106.33209228515625,
          106.43970489501953,
          107.00775909423828,
          107.27626037597656,
          107.09059143066406,
          107.55691528320312,
          107.81324005126953,
          107.59072875976562,
          107.70211029052734,
          107.59148406982422,
          107.30180358886719,
          107.34125518798828,
          107.63334655761719,
          107.49253845214844,
          108.20501708984375,
          108.42308044433594,
          108.22193908691406,
          108.13703918457031,
          108.23857116699219,
          108.1788558959961,
          107.7593765258789,
          107.98631286621094,
          108.5774154663086,
          108.94810485839844,
          109.11253356933594,
          109.23302459716797,
          109.33749389648438,
          109.5704116821289,
          109.71245574951172,
          109.24876403808594,
          109.29732513427734,
          109.14681243896484,
          109.2301025390625,
          109.35184478759766,
          109.39506530761719,
          109.163330078125,
          108.70620727539062,
          108.76467895507812,
          108.72957611083984,
          108.9706039428711,
          109.35472106933594,
          109.13519287109375,
          108.82112121582031,
          105.79540252685547,
          98.62529754638672,
          95.74855041503906,
          87.73269653320312,
          92.81475067138672,
          95.93131256103516,
          100.93692016601562,
          104.0403060913086,
          108.26165771484375,
          107.63140869140625,
          107.15873718261719,
          107.07817077636719,
          105.95710754394531,
          103.51117706298828,
          99.90184783935547,
          96.97582244873047,
          91.37738037109375,
          85.29114532470703,
          84.1816177368164,
          81.84212493896484,
          79.34471893310547,
          73.72962188720703,
          71.22132873535156,
          71.86851501464844,
          73.13838958740234,
          73.60497283935547,
          72.85509490966797,
          73.40763092041016,
          74.15522003173828,
          74.73108673095703,
          74.80195617675781,
          74.63381958007812,
          74.51254272460938,
          74.7897720336914,
          74.0759048461914,
          72.81102752685547,
          69.81777954101562,
          68.56617736816406,
          66.49786376953125,
          68.15975189208984,
          67.91397094726562,
          67.98967742919922,
          68.47633361816406,
          69.09449768066406,
          69.8959732055664,
          69.11026763916016,
          68.9353256225586,
          69.43807983398438,
          69.346923828125,
          69.54195404052734,
          69.86311340332031,
          70.27776336669922,
          70.83340454101562,
          71.90413665771484,
          72.31341552734375,
          70.75948333740234,
          70.5290298461914,
          70.19087219238281,
          69.48059844970703,
          69.82965850830078,
          70.1925277709961,
          70.78853607177734,
          70.27091979980469,
          69.8582763671875,
          69.91028594970703,
          70.08887481689453,
          69.95984649658203,
          70.02487182617188,
          69.76070404052734,
          69.62754821777344,
          69.874267578125,
          70.19994354248047,
          69.95659637451172,
          70.36602783203125,
          69.97685241699219,
          69.43830871582031,
          69.14405822753906,
          69.1788330078125,
          69.32313537597656,
          69.22810363769531,
          69.0989990234375,
          69.01325988769531,
          69.13622283935547,
          68.640625,
          68.99432373046875,
          68.6050033569336,
          69.4315185546875,
          69.32231903076172,
          69.99781036376953,
          70.37279510498047,
          70.33778381347656,
          70.05397033691406,
          69.60964965820312,
          70.0998306274414,
          69.58224487304688,
          69.48168182373047,
          69.42694854736328,
          69.43010711669922,
          70.12957000732422,
          70.28549194335938,
          69.94878387451172,
          70.0186996459961,
          69.91914367675781,
          69.78446197509766,
          70.11785125732422,
          69.7947998046875,
          69.85921478271484,
          69.78323364257812,
          69.85491943359375,
          69.72566986083984,
          69.88064575195312,
          70.79296112060547,
          71.30130767822266,
          71.03250122070312,
          70.73461151123047,
          70.52227020263672,
          70.81109619140625,
          70.9965591430664,
          71.13616943359375,
          70.87364196777344,
          70.97657012939453,
          70.6924819946289,
          70.73030853271484,
          70.86107635498047,
          70.75514221191406,
          70.6365966796875,
          70.49281311035156,
          70.27685546875,
          70.9156494140625,
          70.49073028564453,
          70.7767105102539,
          70.88329315185547,
          70.7818603515625,
          70.34376525878906,
          70.8991928100586,
          73.32515716552734,
          73.6146240234375,
          73.14366149902344,
          73.10502624511719,
          73.59513854980469,
          73.08390808105469,
          72.8021011352539,
          73.42159271240234,
          73.27914428710938,
          73.09636688232422,
          72.86457061767578,
          72.86299133300781,
          72.82357788085938,
          72.71732330322266,
          72.76502227783203,
          72.90837097167969,
          72.94184112548828,
          73.04327392578125,
          72.8759536743164,
          72.78807067871094,
          73.02789306640625,
          72.90733337402344,
          72.82530975341797,
          72.60293579101562,
          72.38179779052734,
          72.21869659423828,
          72.29014587402344,
          72.15556335449219,
          72.36116027832031,
          72.17684936523438,
          72.37068176269531,
          72.50375366210938,
          72.73289489746094,
          73.0365219116211,
          73.11031341552734,
          73.09769439697266,
          72.95909881591797,
          72.87132263183594,
          72.91024017333984,
          72.86124420166016,
          72.88018798828125,
          73.0328369140625,
          73.17041015625,
          73.37261962890625,
          73.29056549072266,
          73.26689147949219,
          73.28681182861328,
          73.37046813964844,
          73.4175796508789,
          73.68978881835938,
          73.01460266113281
         ],
         "marker": {
          "color": [
           "rgba(0.3549019607843137, 0.9741386021045101, 0.7829276104921028, 1.0)",
           "rgba(0.3549019607843137, 0.9741386021045101, 0.7829276104921028, 1.0)",
           "rgba(0.3549019607843137, 0.9741386021045101, 0.7829276104921028, 1.0)",
           "rgba(0.3549019607843137, 0.9741386021045101, 0.7829276104921028, 1.0)",
           "rgba(0.3549019607843137, 0.9741386021045101, 0.7829276104921028, 1.0)",
           "rgba(0.3549019607843137, 0.9741386021045101, 0.7829276104921028, 1.0)",
           "rgba(0.3549019607843137, 0.9741386021045101, 0.7829276104921028, 1.0)",
           "rgba(0.3549019607843137, 0.9741386021045101, 0.7829276104921028, 1.0)",
           "rgba(0.3549019607843137, 0.9741386021045101, 0.7829276104921028, 1.0)",
           "rgba(0.3549019607843137, 0.9741386021045101, 0.7829276104921028, 1.0)",
           "rgba(0.3549019607843137, 0.9741386021045101, 0.7829276104921028, 1.0)",
           "rgba(0.3549019607843137, 0.9741386021045101, 0.7829276104921028, 1.0)",
           "rgba(0.3549019607843137, 0.9741386021045101, 0.7829276104921028, 1.0)",
           "rgba(0.3549019607843137, 0.9741386021045101, 0.7829276104921028, 1.0)",
           "rgba(0.3549019607843137, 0.9741386021045101, 0.7829276104921028, 1.0)",
           "rgba(0.3549019607843137, 0.9741386021045101, 0.7829276104921028, 1.0)",
           "rgba(0.3549019607843137, 0.9741386021045101, 0.7829276104921028, 1.0)",
           "rgba(0.3549019607843137, 0.9741386021045101, 0.7829276104921028, 1.0)",
           "rgba(0.3549019607843137, 0.9741386021045101, 0.7829276104921028, 1.0)",
           "rgba(0.3549019607843137, 0.9741386021045101, 0.7829276104921028, 1.0)",
           "rgba(0.3549019607843137, 0.9741386021045101, 0.7829276104921028, 1.0)",
           "rgba(0.3549019607843137, 0.9741386021045101, 0.7829276104921028, 1.0)",
           "rgba(0.3549019607843137, 0.9741386021045101, 0.7829276104921028, 1.0)",
           "rgba(0.3549019607843137, 0.9741386021045101, 0.7829276104921028, 1.0)",
           "rgba(0.3549019607843137, 0.9741386021045101, 0.7829276104921028, 1.0)",
           "rgba(0.3549019607843137, 0.9741386021045101, 0.7829276104921028, 1.0)",
           "rgba(0.3549019607843137, 0.9741386021045101, 0.7829276104921028, 1.0)",
           "rgba(0.21764705882352942, 0.42912060877260894, 0.9755119679804366, 1.0)",
           "rgba(0.21764705882352942, 0.42912060877260894, 0.9755119679804366, 1.0)",
           "rgba(0.21764705882352942, 0.42912060877260894, 0.9755119679804366, 1.0)",
           "rgba(0.21764705882352942, 0.42912060877260894, 0.9755119679804366, 1.0)",
           "rgba(0.21764705882352942, 0.42912060877260894, 0.9755119679804366, 1.0)",
           "rgba(0.21764705882352942, 0.42912060877260894, 0.9755119679804366, 1.0)",
           "rgba(0.21764705882352942, 0.42912060877260894, 0.9755119679804366, 1.0)",
           "rgba(0.21764705882352942, 0.42912060877260894, 0.9755119679804366, 1.0)",
           "rgba(0.21764705882352942, 0.42912060877260894, 0.9755119679804366, 1.0)",
           "rgba(0.21764705882352942, 0.42912060877260894, 0.9755119679804366, 1.0)",
           "rgba(0.21764705882352942, 0.42912060877260894, 0.9755119679804366, 1.0)",
           "rgba(188, 188, 188, 1.0)",
           "rgba(188, 188, 188, 1.0)",
           "rgba(188, 188, 188, 1.0)",
           "rgba(188, 188, 188, 1.0)",
           "rgba(188, 188, 188, 1.0)",
           "rgba(188, 188, 188, 1.0)",
           "rgba(0.21764705882352942, 0.42912060877260894, 0.9755119679804366, 1.0)",
           "rgba(0.0725490196078431, 0.7829276104921027, 0.9005867023006374, 1.0)",
           "rgba(0.0725490196078431, 0.7829276104921027, 0.9005867023006374, 1.0)",
           "rgba(0.0725490196078431, 0.7829276104921027, 0.9005867023006374, 1.0)",
           "rgba(0.0725490196078431, 0.7829276104921027, 0.9005867023006374, 1.0)",
           "rgba(0.0725490196078431, 0.7829276104921027, 0.9005867023006374, 1.0)",
           "rgba(0.0725490196078431, 0.7829276104921027, 0.9005867023006374, 1.0)",
           "rgba(0.0725490196078431, 0.7829276104921027, 0.9005867023006374, 1.0)",
           "rgba(0.0725490196078431, 0.7829276104921027, 0.9005867023006374, 1.0)",
           "rgba(0.0725490196078431, 0.7829276104921027, 0.9005867023006374, 1.0)",
           "rgba(0.0725490196078431, 0.7829276104921027, 0.9005867023006374, 1.0)",
           "rgba(0.0725490196078431, 0.7829276104921027, 0.9005867023006374, 1.0)",
           "rgba(0.0725490196078431, 0.7829276104921027, 0.9005867023006374, 1.0)",
           "rgba(0.0725490196078431, 0.7829276104921027, 0.9005867023006374, 1.0)",
           "rgba(0.0725490196078431, 0.7829276104921027, 0.9005867023006374, 1.0)",
           "rgba(0.0725490196078431, 0.7829276104921027, 0.9005867023006374, 1.0)",
           "rgba(0.0725490196078431, 0.7829276104921027, 0.9005867023006374, 1.0)",
           "rgba(0.0725490196078431, 0.7829276104921027, 0.9005867023006374, 1.0)",
           "rgba(0.0725490196078431, 0.7829276104921027, 0.9005867023006374, 1.0)",
           "rgba(0.0725490196078431, 0.7829276104921027, 0.9005867023006374, 1.0)",
           "rgba(0.0725490196078431, 0.7829276104921027, 0.9005867023006374, 1.0)",
           "rgba(0.0725490196078431, 0.7829276104921027, 0.9005867023006374, 1.0)",
           "rgba(0.0725490196078431, 0.7829276104921027, 0.9005867023006374, 1.0)",
           "rgba(0.0725490196078431, 0.7829276104921027, 0.9005867023006374, 1.0)",
           "rgba(0.0725490196078431, 0.7829276104921027, 0.9005867023006374, 1.0)",
           "rgba(0.0725490196078431, 0.7829276104921027, 0.9005867023006374, 1.0)",
           "rgba(0.0725490196078431, 0.7829276104921027, 0.9005867023006374, 1.0)",
           "rgba(0.0725490196078431, 0.7829276104921027, 0.9005867023006374, 1.0)",
           "rgba(0.0725490196078431, 0.7829276104921027, 0.9005867023006374, 1.0)",
           "rgba(0.0725490196078431, 0.7829276104921027, 0.9005867023006374, 1.0)",
           "rgba(0.0725490196078431, 0.7829276104921027, 0.9005867023006374, 1.0)",
           "rgba(0.0725490196078431, 0.7829276104921027, 0.9005867023006374, 1.0)",
           "rgba(0.0725490196078431, 0.7829276104921027, 0.9005867023006374, 1.0)",
           "rgba(0.0725490196078431, 0.7829276104921027, 0.9005867023006374, 1.0)",
           "rgba(0.0725490196078431, 0.7829276104921027, 0.9005867023006374, 1.0)",
           "rgba(0.0725490196078431, 0.7829276104921027, 0.9005867023006374, 1.0)",
           "rgba(0.0725490196078431, 0.7829276104921027, 0.9005867023006374, 1.0)",
           "rgba(0.0725490196078431, 0.7829276104921027, 0.9005867023006374, 1.0)",
           "rgba(0.0725490196078431, 0.7829276104921027, 0.9005867023006374, 1.0)",
           "rgba(0.9274509803921569, 0.7829276104921029, 0.43467642176596505, 1.0)",
           "rgba(0.9274509803921569, 0.7829276104921029, 0.43467642176596505, 1.0)",
           "rgba(0.9274509803921569, 0.7829276104921029, 0.43467642176596505, 1.0)",
           "rgba(0.9274509803921569, 0.7829276104921029, 0.43467642176596505, 1.0)",
           "rgba(0.9274509803921569, 0.7829276104921029, 0.43467642176596505, 1.0)",
           "rgba(0.9274509803921569, 0.7829276104921029, 0.43467642176596505, 1.0)",
           "rgba(0.9274509803921569, 0.7829276104921029, 0.43467642176596505, 1.0)",
           "rgba(0.9274509803921569, 0.7829276104921029, 0.43467642176596505, 1.0)",
           "rgba(0.9274509803921569, 0.7829276104921029, 0.43467642176596505, 1.0)",
           "rgba(0.9274509803921569, 0.7829276104921029, 0.43467642176596505, 1.0)",
           "rgba(0.9274509803921569, 0.7829276104921029, 0.43467642176596505, 1.0)",
           "rgba(0.9274509803921569, 0.7829276104921029, 0.43467642176596505, 1.0)",
           "rgba(0.9274509803921569, 0.7829276104921029, 0.43467642176596505, 1.0)",
           "rgba(0.9274509803921569, 0.7829276104921029, 0.43467642176596505, 1.0)",
           "rgba(0.9274509803921569, 0.7829276104921029, 0.43467642176596505, 1.0)",
           "rgba(0.9274509803921569, 0.7829276104921029, 0.43467642176596505, 1.0)",
           "rgba(0.9274509803921569, 0.7829276104921029, 0.43467642176596505, 1.0)",
           "rgba(0.9274509803921569, 0.7829276104921029, 0.43467642176596505, 1.0)",
           "rgba(0.9274509803921569, 0.7829276104921029, 0.43467642176596505, 1.0)",
           "rgba(0.9274509803921569, 0.7829276104921029, 0.43467642176596505, 1.0)",
           "rgba(0.9274509803921569, 0.7829276104921029, 0.43467642176596505, 1.0)",
           "rgba(0.9274509803921569, 0.7829276104921029, 0.43467642176596505, 1.0)",
           "rgba(0.9274509803921569, 0.7829276104921029, 0.43467642176596505, 1.0)",
           "rgba(0.9274509803921569, 0.7829276104921029, 0.43467642176596505, 1.0)",
           "rgba(0.9274509803921569, 0.7829276104921029, 0.43467642176596505, 1.0)",
           "rgba(0.9274509803921569, 0.7829276104921029, 0.43467642176596505, 1.0)",
           "rgba(0.9274509803921569, 0.7829276104921029, 0.43467642176596505, 1.0)",
           "rgba(0.9274509803921569, 0.7829276104921029, 0.43467642176596505, 1.0)",
           "rgba(0.9274509803921569, 0.7829276104921029, 0.43467642176596505, 1.0)",
           "rgba(0.9274509803921569, 0.7829276104921029, 0.43467642176596505, 1.0)",
           "rgba(0.9274509803921569, 0.7829276104921029, 0.43467642176596505, 1.0)",
           "rgba(0.9274509803921569, 0.7829276104921029, 0.43467642176596505, 1.0)",
           "rgba(0.9274509803921569, 0.7829276104921029, 0.43467642176596505, 1.0)",
           "rgba(0.9274509803921569, 0.7829276104921029, 0.43467642176596505, 1.0)",
           "rgba(0.9274509803921569, 0.7829276104921029, 0.43467642176596505, 1.0)",
           "rgba(0.9274509803921569, 0.7829276104921029, 0.43467642176596505, 1.0)",
           "rgba(0.9274509803921569, 0.7829276104921029, 0.43467642176596505, 1.0)",
           "rgba(0.9274509803921569, 0.7829276104921029, 0.43467642176596505, 1.0)",
           "rgba(0.9274509803921569, 0.7829276104921029, 0.43467642176596505, 1.0)",
           "rgba(0.9274509803921569, 0.7829276104921029, 0.43467642176596505, 1.0)",
           "rgba(0.9274509803921569, 0.7829276104921029, 0.43467642176596505, 1.0)",
           "rgba(0.9274509803921569, 0.7829276104921029, 0.43467642176596505, 1.0)",
           "rgba(0.9274509803921569, 0.7829276104921029, 0.43467642176596505, 1.0)",
           "rgba(0.9274509803921569, 0.7829276104921029, 0.43467642176596505, 1.0)",
           "rgba(0.9274509803921569, 0.7829276104921029, 0.43467642176596505, 1.0)",
           "rgba(0.9274509803921569, 0.7829276104921029, 0.43467642176596505, 1.0)",
           "rgba(0.9274509803921569, 0.7829276104921029, 0.43467642176596505, 1.0)",
           "rgba(188, 188, 188, 1.0)",
           "rgba(188, 188, 188, 1.0)",
           "rgba(188, 188, 188, 1.0)",
           "rgba(188, 188, 188, 1.0)",
           "rgba(188, 188, 188, 1.0)",
           "rgba(188, 188, 188, 1.0)",
           "rgba(0.6450980392156862, 0.9741386021045102, 0.622112816721474, 1.0)",
           "rgba(0.6450980392156862, 0.9741386021045102, 0.622112816721474, 1.0)",
           "rgba(0.6450980392156862, 0.9741386021045102, 0.622112816721474, 1.0)",
           "rgba(0.6450980392156862, 0.9741386021045102, 0.622112816721474, 1.0)",
           "rgba(0.6450980392156862, 0.9741386021045102, 0.622112816721474, 1.0)",
           "rgba(0.6450980392156862, 0.9741386021045102, 0.622112816721474, 1.0)",
           "rgba(0.6450980392156862, 0.9741386021045102, 0.622112816721474, 1.0)",
           "rgba(0.6450980392156862, 0.9741386021045102, 0.622112816721474, 1.0)",
           "rgba(0.6450980392156862, 0.9741386021045102, 0.622112816721474, 1.0)",
           "rgba(0.6450980392156862, 0.9741386021045102, 0.622112816721474, 1.0)",
           "rgba(0.6450980392156862, 0.9741386021045102, 0.622112816721474, 1.0)",
           "rgba(188, 188, 188, 1.0)",
           "rgba(188, 188, 188, 1.0)",
           "rgba(188, 188, 188, 1.0)",
           "rgba(188, 188, 188, 1.0)",
           "rgba(188, 188, 188, 1.0)",
           "rgba(188, 188, 188, 1.0)",
           "rgba(0.6450980392156862, 0.9741386021045102, 0.622112816721474, 1.0)",
           "rgba(0.6450980392156862, 0.9741386021045102, 0.622112816721474, 1.0)",
           "rgba(0.6450980392156862, 0.9741386021045102, 0.622112816721474, 1.0)",
           "rgba(0.6450980392156862, 0.9741386021045102, 0.622112816721474, 1.0)",
           "rgba(0.6450980392156862, 0.9741386021045102, 0.622112816721474, 1.0)",
           "rgba(0.6450980392156862, 0.9741386021045102, 0.622112816721474, 1.0)",
           "rgba(0.6450980392156862, 0.9741386021045102, 0.622112816721474, 1.0)",
           "rgba(0.6450980392156862, 0.9741386021045102, 0.622112816721474, 1.0)",
           "rgba(0.6450980392156862, 0.9741386021045102, 0.622112816721474, 1.0)",
           "rgba(0.6450980392156862, 0.9741386021045102, 0.622112816721474, 1.0)",
           "rgba(0.6450980392156862, 0.9741386021045102, 0.622112816721474, 1.0)",
           "rgba(0.6450980392156862, 0.9741386021045102, 0.622112816721474, 1.0)",
           "rgba(0.6450980392156862, 0.9741386021045102, 0.622112816721474, 1.0)",
           "rgba(0.6450980392156862, 0.9741386021045102, 0.622112816721474, 1.0)",
           "rgba(0.6450980392156862, 0.9741386021045102, 0.622112816721474, 1.0)",
           "rgba(0.6450980392156862, 0.9741386021045102, 0.622112816721474, 1.0)",
           "rgba(0.6450980392156862, 0.9741386021045102, 0.622112816721474, 1.0)",
           "rgba(0.6450980392156862, 0.9741386021045102, 0.622112816721474, 1.0)",
           "rgba(0.6450980392156862, 0.9741386021045102, 0.622112816721474, 1.0)",
           "rgba(0.6450980392156862, 0.9741386021045102, 0.622112816721474, 1.0)",
           "rgba(0.6450980392156862, 0.9741386021045102, 0.622112816721474, 1.0)",
           "rgba(0.6450980392156862, 0.9741386021045102, 0.622112816721474, 1.0)",
           "rgba(0.6450980392156862, 0.9741386021045102, 0.622112816721474, 1.0)",
           "rgba(0.6450980392156862, 0.9741386021045102, 0.622112816721474, 1.0)",
           "rgba(0.6450980392156862, 0.9741386021045102, 0.622112816721474, 1.0)",
           "rgba(0.6450980392156862, 0.9741386021045102, 0.622112816721474, 1.0)",
           "rgba(0.6450980392156862, 0.9741386021045102, 0.622112816721474, 1.0)",
           "rgba(0.6450980392156862, 0.9741386021045102, 0.622112816721474, 1.0)",
           "rgba(0.6450980392156862, 0.9741386021045102, 0.622112816721474, 1.0)",
           "rgba(0.6450980392156862, 0.9741386021045102, 0.622112816721474, 1.0)",
           "rgba(0.6450980392156862, 0.9741386021045102, 0.622112816721474, 1.0)",
           "rgba(0.6450980392156862, 0.9741386021045102, 0.622112816721474, 1.0)",
           "rgba(0.6450980392156862, 0.9741386021045102, 0.622112816721474, 1.0)",
           "rgba(0.6450980392156862, 0.9741386021045102, 0.622112816721474, 1.0)",
           "rgba(0.6450980392156862, 0.9741386021045102, 0.622112816721474, 1.0)",
           "rgba(0.6450980392156862, 0.9741386021045102, 0.622112816721474, 1.0)",
           "rgba(0.6450980392156862, 0.9741386021045102, 0.622112816721474, 1.0)",
           "rgba(0.6450980392156862, 0.9741386021045102, 0.622112816721474, 1.0)",
           "rgba(0.6450980392156862, 0.9741386021045102, 0.622112816721474, 1.0)",
           "rgba(0.6450980392156862, 0.9741386021045102, 0.622112816721474, 1.0)",
           "rgba(0.6450980392156862, 0.9741386021045102, 0.622112816721474, 1.0)",
           "rgba(0.6450980392156862, 0.9741386021045102, 0.622112816721474, 1.0)",
           "rgba(0.6450980392156862, 0.9741386021045102, 0.622112816721474, 1.0)",
           "rgba(0.6450980392156862, 0.9741386021045102, 0.622112816721474, 1.0)",
           "rgba(0.6450980392156862, 0.9741386021045102, 0.622112816721474, 1.0)",
           "rgba(0.6450980392156862, 0.9741386021045102, 0.622112816721474, 1.0)",
           "rgba(0.6450980392156862, 0.9741386021045102, 0.622112816721474, 1.0)",
           "rgba(0.6450980392156862, 0.9741386021045102, 0.622112816721474, 1.0)",
           "rgba(0.6450980392156862, 0.9741386021045102, 0.622112816721474, 1.0)",
           "rgba(0.6450980392156862, 0.9741386021045102, 0.622112816721474, 1.0)",
           "rgba(0.6450980392156862, 0.9741386021045102, 0.622112816721474, 1.0)",
           "rgba(0.6450980392156862, 0.9741386021045102, 0.622112816721474, 1.0)",
           "rgba(0.6450980392156862, 0.9741386021045102, 0.622112816721474, 1.0)",
           "rgba(0.6450980392156862, 0.9741386021045102, 0.622112816721474, 1.0)",
           "rgba(0.6450980392156862, 0.9741386021045102, 0.622112816721474, 1.0)",
           "rgba(0.6450980392156862, 0.9741386021045102, 0.622112816721474, 1.0)",
           "rgba(0.6450980392156862, 0.9741386021045102, 0.622112816721474, 1.0)",
           "rgba(0.6450980392156862, 0.9741386021045102, 0.622112816721474, 1.0)",
           "rgba(0.6450980392156862, 0.9741386021045102, 0.622112816721474, 1.0)",
           "rgba(0.6450980392156862, 0.9741386021045102, 0.622112816721474, 1.0)",
           "rgba(0.6450980392156862, 0.9741386021045102, 0.622112816721474, 1.0)",
           "rgba(0.6450980392156862, 0.9741386021045102, 0.622112816721474, 1.0)",
           "rgba(0.6450980392156862, 0.9741386021045102, 0.622112816721474, 1.0)",
           "rgba(0.6450980392156862, 0.9741386021045102, 0.622112816721474, 1.0)",
           "rgba(0.6450980392156862, 0.9741386021045102, 0.622112816721474, 1.0)",
           "rgba(0.6450980392156862, 0.9741386021045102, 0.622112816721474, 1.0)",
           "rgba(0.6450980392156862, 0.9741386021045102, 0.622112816721474, 1.0)",
           "rgba(0.6450980392156862, 0.9741386021045102, 0.622112816721474, 1.0)",
           "rgba(0.6450980392156862, 0.9741386021045102, 0.622112816721474, 1.0)",
           "rgba(0.6450980392156862, 0.9741386021045102, 0.622112816721474, 1.0)",
           "rgba(0.6450980392156862, 0.9741386021045102, 0.622112816721474, 1.0)",
           "rgba(0.6450980392156862, 0.9741386021045102, 0.622112816721474, 1.0)",
           "rgba(0.6450980392156862, 0.9741386021045102, 0.622112816721474, 1.0)",
           "rgba(0.6450980392156862, 0.9741386021045102, 0.622112816721474, 1.0)",
           "rgba(0.6450980392156862, 0.9741386021045102, 0.622112816721474, 1.0)",
           "rgba(0.6450980392156862, 0.9741386021045102, 0.622112816721474, 1.0)",
           "rgba(0.6450980392156862, 0.9741386021045102, 0.622112816721474, 1.0)",
           "rgba(0.6450980392156862, 0.9741386021045102, 0.622112816721474, 1.0)",
           "rgba(0.6450980392156862, 0.9741386021045102, 0.622112816721474, 1.0)",
           "rgba(0.6450980392156862, 0.9741386021045102, 0.622112816721474, 1.0)",
           "rgba(0.6450980392156862, 0.9741386021045102, 0.622112816721474, 1.0)",
           "rgba(0.6450980392156862, 0.9741386021045102, 0.622112816721474, 1.0)",
           "rgba(0.6450980392156862, 0.9741386021045102, 0.622112816721474, 1.0)",
           "rgba(0.6450980392156862, 0.9741386021045102, 0.622112816721474, 1.0)",
           "rgba(0.6450980392156862, 0.9741386021045102, 0.622112816721474, 1.0)",
           "rgba(0.6450980392156862, 0.9741386021045102, 0.622112816721474, 1.0)",
           "rgba(0.6450980392156862, 0.9741386021045102, 0.622112816721474, 1.0)",
           "rgba(0.6450980392156862, 0.9741386021045102, 0.622112816721474, 1.0)",
           "rgba(0.6450980392156862, 0.9741386021045102, 0.622112816721474, 1.0)",
           "rgba(0.6450980392156862, 0.9741386021045102, 0.622112816721474, 1.0)",
           "rgba(0.6450980392156862, 0.9741386021045102, 0.622112816721474, 1.0)",
           "rgba(0.6450980392156862, 0.9741386021045102, 0.622112816721474, 1.0)",
           "rgba(0.6450980392156862, 0.9741386021045102, 0.622112816721474, 1.0)",
           "rgba(0.6450980392156862, 0.9741386021045102, 0.622112816721474, 1.0)",
           "rgba(0.6450980392156862, 0.9741386021045102, 0.622112816721474, 1.0)",
           "rgba(0.6450980392156862, 0.9741386021045102, 0.622112816721474, 1.0)",
           "rgba(0.6450980392156862, 0.9741386021045102, 0.622112816721474, 1.0)",
           "rgba(0.6450980392156862, 0.9741386021045102, 0.622112816721474, 1.0)",
           "rgba(0.6450980392156862, 0.9741386021045102, 0.622112816721474, 1.0)",
           "rgba(0.6450980392156862, 0.9741386021045102, 0.622112816721474, 1.0)",
           "rgba(0.6450980392156862, 0.9741386021045102, 0.622112816721474, 1.0)",
           "rgba(0.6450980392156862, 0.9741386021045102, 0.622112816721474, 1.0)",
           "rgba(0.6450980392156862, 0.9741386021045102, 0.622112816721474, 1.0)",
           "rgba(0.6450980392156862, 0.9741386021045102, 0.622112816721474, 1.0)",
           "rgba(0.6450980392156862, 0.9741386021045102, 0.622112816721474, 1.0)",
           "rgba(0.6450980392156862, 0.9741386021045102, 0.622112816721474, 1.0)",
           "rgba(0.6450980392156862, 0.9741386021045102, 0.622112816721474, 1.0)",
           "rgba(0.6450980392156862, 0.9741386021045102, 0.622112816721474, 1.0)",
           "rgba(0.6450980392156862, 0.9741386021045102, 0.622112816721474, 1.0)",
           "rgba(0.6450980392156862, 0.9741386021045102, 0.622112816721474, 1.0)",
           "rgba(0.6450980392156862, 0.9741386021045102, 0.622112816721474, 1.0)",
           "rgba(0.6450980392156862, 0.9741386021045102, 0.622112816721474, 1.0)",
           "rgba(0.6450980392156862, 0.9741386021045102, 0.622112816721474, 1.0)",
           "rgba(0.6450980392156862, 0.9741386021045102, 0.622112816721474, 1.0)",
           "rgba(0.6450980392156862, 0.9741386021045102, 0.622112816721474, 1.0)",
           "rgba(0.6450980392156862, 0.9741386021045102, 0.622112816721474, 1.0)",
           "rgba(0.6450980392156862, 0.9741386021045102, 0.622112816721474, 1.0)",
           "rgba(0.6450980392156862, 0.9741386021045102, 0.622112816721474, 1.0)",
           "rgba(0.6450980392156862, 0.9741386021045102, 0.622112816721474, 1.0)",
           "rgba(0.6450980392156862, 0.9741386021045102, 0.622112816721474, 1.0)",
           "rgba(0.6450980392156862, 0.9741386021045102, 0.622112816721474, 1.0)",
           "rgba(0.6450980392156862, 0.9741386021045102, 0.622112816721474, 1.0)",
           "rgba(0.6450980392156862, 0.9741386021045102, 0.622112816721474, 1.0)",
           "rgba(0.6450980392156862, 0.9741386021045102, 0.622112816721474, 1.0)",
           "rgba(0.6450980392156862, 0.9741386021045102, 0.622112816721474, 1.0)",
           "rgba(0.6450980392156862, 0.9741386021045102, 0.622112816721474, 1.0)",
           "rgba(0.6450980392156862, 0.9741386021045102, 0.622112816721474, 1.0)",
           "rgba(0.6450980392156862, 0.9741386021045102, 0.622112816721474, 1.0)",
           "rgba(0.6450980392156862, 0.9741386021045102, 0.622112816721474, 1.0)",
           "rgba(0.6450980392156862, 0.9741386021045102, 0.622112816721474, 1.0)",
           "rgba(0.6450980392156862, 0.9741386021045102, 0.622112816721474, 1.0)",
           "rgba(0.6450980392156862, 0.9741386021045102, 0.622112816721474, 1.0)",
           "rgba(0.6450980392156862, 0.9741386021045102, 0.622112816721474, 1.0)",
           "rgba(0.6450980392156862, 0.9741386021045102, 0.622112816721474, 1.0)",
           "rgba(0.6450980392156862, 0.9741386021045102, 0.622112816721474, 1.0)",
           "rgba(0.6450980392156862, 0.9741386021045102, 0.622112816721474, 1.0)",
           "rgba(0.6450980392156862, 0.9741386021045102, 0.622112816721474, 1.0)",
           "rgba(0.6450980392156862, 0.9741386021045102, 0.622112816721474, 1.0)",
           "rgba(0.6450980392156862, 0.9741386021045102, 0.622112816721474, 1.0)",
           "rgba(0.6450980392156862, 0.9741386021045102, 0.622112816721474, 1.0)",
           "rgba(0.6450980392156862, 0.9741386021045102, 0.622112816721474, 1.0)",
           "rgba(0.6450980392156862, 0.9741386021045102, 0.622112816721474, 1.0)",
           "rgba(0.6450980392156862, 0.9741386021045102, 0.622112816721474, 1.0)",
           "rgba(0.6450980392156862, 0.9741386021045102, 0.622112816721474, 1.0)",
           "rgba(0.6450980392156862, 0.9741386021045102, 0.622112816721474, 1.0)",
           "rgba(0.6450980392156862, 0.9741386021045102, 0.622112816721474, 1.0)",
           "rgba(0.6450980392156862, 0.9741386021045102, 0.622112816721474, 1.0)",
           "rgba(0.6450980392156862, 0.9741386021045102, 0.622112816721474, 1.0)",
           "rgba(0.6450980392156862, 0.9741386021045102, 0.622112816721474, 1.0)",
           "rgba(0.6450980392156862, 0.9741386021045102, 0.622112816721474, 1.0)",
           "rgba(0.6450980392156862, 0.9741386021045102, 0.622112816721474, 1.0)",
           "rgba(0.6450980392156862, 0.9741386021045102, 0.622112816721474, 1.0)",
           "rgba(0.6450980392156862, 0.9741386021045102, 0.622112816721474, 1.0)",
           "rgba(0.6450980392156862, 0.9741386021045102, 0.622112816721474, 1.0)",
           "rgba(0.6450980392156862, 0.9741386021045102, 0.622112816721474, 1.0)",
           "rgba(0.6450980392156862, 0.9741386021045102, 0.622112816721474, 1.0)",
           "rgba(0.6450980392156862, 0.9741386021045102, 0.622112816721474, 1.0)",
           "rgba(0.6450980392156862, 0.9741386021045102, 0.622112816721474, 1.0)",
           "rgba(0.6450980392156862, 0.9741386021045102, 0.622112816721474, 1.0)",
           "rgba(0.6450980392156862, 0.9741386021045102, 0.622112816721474, 1.0)",
           "rgba(0.6450980392156862, 0.9741386021045102, 0.622112816721474, 1.0)",
           "rgba(0.6450980392156862, 0.9741386021045102, 0.622112816721474, 1.0)",
           "rgba(0.6450980392156862, 0.9741386021045102, 0.622112816721474, 1.0)",
           "rgba(0.6450980392156862, 0.9741386021045102, 0.622112816721474, 1.0)"
          ],
          "size": 5
         },
         "text": [
          "Indian Telugu",
          "Indian Telugu",
          "Indian Telugu",
          "Indian Telugu",
          "Indian Telugu",
          "Indian Telugu",
          "Indian Telugu",
          "Indian Telugu",
          "Indian Telugu",
          "Indian Telugu",
          "Indian Telugu",
          "Indian Telugu",
          "Indian Telugu",
          "Indian Telugu",
          "Indian Telugu",
          "Indian Telugu",
          "Indian Telugu",
          "Indian Telugu",
          "Indian Telugu",
          "Indian Telugu",
          "Indian Telugu",
          "Indian Telugu",
          "Indian Telugu",
          "Indian Telugu",
          "Indian Telugu",
          "Indian Telugu",
          "Indian Telugu",
          "Bengali",
          "Bengali",
          "Bengali",
          "Bengali",
          "Bengali",
          "Bengali",
          "Bengali",
          "Bengali",
          "Bengali",
          "Bengali",
          "Bengali",
          "UNK",
          "UNK",
          "UNK",
          "UNK",
          "UNK",
          "UNK",
          "Bengali",
          "Bougainville",
          "Bougainville",
          "Bougainville",
          "Bougainville",
          "Bougainville",
          "Bougainville",
          "Bougainville",
          "Bougainville",
          "Bougainville",
          "Bougainville",
          "Bougainville",
          "Bougainville",
          "Bougainville",
          "Bougainville",
          "Bougainville",
          "Bougainville",
          "Bougainville",
          "Bougainville",
          "Bougainville",
          "Bougainville",
          "Bougainville",
          "Bougainville",
          "Bougainville",
          "Bougainville",
          "Bougainville",
          "Bougainville",
          "Bougainville",
          "Bougainville",
          "Bougainville",
          "Bougainville",
          "Bougainville",
          "Bougainville",
          "Bougainville",
          "Bougainville",
          "Bougainville",
          "Bougainville",
          "Bougainville",
          "Bougainville",
          "Miao",
          "Miao",
          "Miao",
          "Miao",
          "Miao",
          "Miao",
          "Miao",
          "Miao",
          "Miao",
          "Miao",
          "Miao",
          "Miao",
          "Miao",
          "Miao",
          "Miao",
          "Miao",
          "Miao",
          "Miao",
          "Miao",
          "Miao",
          "Miao",
          "Miao",
          "Miao",
          "Miao",
          "Miao",
          "Miao",
          "Miao",
          "Miao",
          "Miao",
          "Miao",
          "Miao",
          "Miao",
          "Miao",
          "Miao",
          "Miao",
          "Miao",
          "Miao",
          "Miao",
          "Miao",
          "Miao",
          "Miao",
          "Miao",
          "Miao",
          "Miao",
          "Miao",
          "Miao",
          "Miao",
          "UNK",
          "UNK",
          "UNK",
          "UNK",
          "UNK",
          "UNK",
          "Kalash",
          "Kalash",
          "Kalash",
          "Kalash",
          "Kalash",
          "Kalash",
          "Kalash",
          "Kalash",
          "Kalash",
          "Kalash",
          "Kalash",
          "UNK",
          "UNK",
          "UNK",
          "UNK",
          "UNK",
          "UNK",
          "Kalash",
          "Kalash",
          "Kalash",
          "Kalash",
          "Kalash",
          "Kalash",
          "Kalash",
          "Kalash",
          "Kalash",
          "Kalash",
          "Kalash",
          "Kalash",
          "Kalash",
          "Kalash",
          "Kalash",
          "Kalash",
          "Kalash",
          "Kalash",
          "Kalash",
          "Kalash",
          "Kalash",
          "Kalash",
          "Kalash",
          "Kalash",
          "Kalash",
          "Kalash",
          "Kalash",
          "Kalash",
          "Kalash",
          "Kalash",
          "Kalash",
          "Kalash",
          "Kalash",
          "Kalash",
          "Kalash",
          "Kalash",
          "Kalash",
          "Kalash",
          "Kalash",
          "Kalash",
          "Kalash",
          "Kalash",
          "Kalash",
          "Kalash",
          "Kalash",
          "Kalash",
          "Kalash",
          "Kalash",
          "Kalash",
          "Kalash",
          "Kalash",
          "Kalash",
          "Kalash",
          "Kalash",
          "Kalash",
          "Kalash",
          "Kalash",
          "Kalash",
          "Kalash",
          "Kalash",
          "Kalash",
          "Kalash",
          "Kalash",
          "Kalash",
          "Kalash",
          "Kalash",
          "Kalash",
          "Kalash",
          "Kalash",
          "Kalash",
          "Kalash",
          "Kalash",
          "Kalash",
          "Kalash",
          "Kalash",
          "Kalash",
          "Kalash",
          "Kalash",
          "Kalash",
          "Kalash",
          "Kalash",
          "Kalash",
          "Kalash",
          "Kalash",
          "Kalash",
          "Kalash",
          "Kalash",
          "Kalash",
          "Kalash",
          "Kalash",
          "Kalash",
          "Kalash",
          "Kalash",
          "Kalash",
          "Kalash",
          "Kalash",
          "Kalash",
          "Kalash",
          "Kalash",
          "Kalash",
          "Kalash",
          "Kalash",
          "Kalash",
          "Kalash",
          "Kalash",
          "Kalash",
          "Kalash",
          "Kalash",
          "Kalash",
          "Kalash",
          "Kalash",
          "Kalash",
          "Kalash",
          "Kalash",
          "Kalash",
          "Kalash",
          "Kalash",
          "Kalash",
          "Kalash",
          "Kalash",
          "Kalash",
          "Kalash",
          "Kalash",
          "Kalash",
          "Kalash",
          "Kalash",
          "Kalash",
          "Kalash",
          "Kalash",
          "Kalash",
          "Kalash",
          "Kalash",
          "Kalash",
          "Kalash",
          "Kalash",
          "Kalash",
          "Kalash",
          "Kalash",
          "Kalash",
          "Kalash",
          "Kalash",
          "Kalash",
          "Kalash",
          "Kalash",
          "Kalash",
          "Kalash",
          "Kalash",
          "Kalash",
          "Kalash",
          "Kalash",
          "Kalash",
          "Kalash",
          "Kalash",
          "Kalash",
          "Kalash",
          "Kalash",
          "Kalash",
          "Kalash",
          "Kalash",
          "Kalash",
          "Kalash",
          "Kalash",
          "Kalash",
          "Kalash"
         ],
         "type": "scattergeo"
        },
        {
         "lat": [
          16.5,
          16.5,
          16.5,
          16.5,
          16.5,
          16.5,
          16.5,
          16.5,
          16.5,
          16.5,
          16.5,
          16.5,
          16.5,
          16.5,
          16.5,
          16.5,
          16.5,
          16.5,
          16.5,
          16.5,
          16.5,
          16.5,
          16.5,
          16.5,
          16.5,
          16.5,
          16.5,
          23.86731158,
          23.86731158,
          23.86731158,
          23.86731158,
          23.86731158,
          23.86731158,
          23.86731158,
          23.86731158,
          23.86731158,
          23.86731158,
          23.86731158,
          23.86731158,
          23.86731158,
          23.86731158,
          23.86731158,
          23.86731158,
          23.86731158,
          23.86731158,
          -6,
          -6,
          -6,
          -6,
          -6,
          -6,
          -6,
          -6,
          -6,
          -6,
          -6,
          -6,
          -6,
          -6,
          -6,
          -6,
          -6,
          -6,
          -6,
          -6,
          -6,
          -6,
          -6,
          -6,
          -6,
          -6,
          -6,
          -6,
          -6,
          -6,
          -6,
          -6,
          -6,
          -6,
          -6,
          -6,
          -6,
          -6,
          28,
          28,
          28,
          28,
          28,
          28,
          28,
          28,
          28,
          28,
          28,
          28,
          28,
          28,
          28,
          28,
          28,
          28,
          28,
          28,
          28,
          28,
          28,
          28,
          28,
          28,
          28,
          28,
          28,
          28,
          28,
          28,
          28,
          28,
          28,
          28,
          28,
          28,
          28,
          28,
          28,
          28,
          28,
          28,
          28,
          28,
          28,
          28,
          28,
          28,
          36,
          36,
          36,
          36,
          36,
          36,
          36,
          36,
          36,
          36,
          36,
          36,
          36,
          36,
          36,
          36,
          36,
          36,
          36,
          36,
          36,
          36,
          36,
          36,
          36,
          36,
          36,
          36,
          36,
          36,
          36,
          36,
          36,
          36,
          36,
          36,
          36,
          36,
          36,
          36,
          36,
          36,
          36,
          36,
          36,
          36,
          36,
          36,
          36,
          36,
          36,
          36,
          36,
          36,
          36,
          36,
          36,
          36,
          36,
          36,
          36,
          36,
          36,
          36,
          36,
          36,
          36,
          36,
          36,
          36,
          36,
          36,
          36,
          36,
          36,
          36,
          36,
          36,
          36,
          36,
          36,
          36,
          36,
          36,
          36,
          36,
          36,
          36,
          36,
          36,
          36,
          36,
          36,
          36,
          36,
          36,
          36,
          36,
          36,
          36,
          36,
          36,
          36,
          36,
          36,
          36,
          36,
          36,
          36,
          36,
          36,
          36,
          36,
          36,
          36,
          36,
          36,
          36,
          36,
          36,
          36,
          36,
          36,
          36,
          36,
          36,
          36,
          36,
          36,
          36,
          36,
          36,
          36,
          36,
          36,
          36,
          36,
          36,
          36,
          36,
          36,
          36,
          36,
          36,
          36,
          36,
          36,
          36,
          36,
          36,
          36,
          36,
          36,
          36,
          36,
          36,
          36,
          36,
          36,
          36,
          36,
          36,
          36,
          36,
          36,
          36,
          36,
          36,
          36,
          36,
          36,
          36,
          36,
          36,
          36,
          36,
          36,
          36,
          36,
          36,
          36,
          36,
          36,
          36
         ],
         "lon": [
          80.64,
          80.64,
          80.64,
          80.64,
          80.64,
          80.64,
          80.64,
          80.64,
          80.64,
          80.64,
          80.64,
          80.64,
          80.64,
          80.64,
          80.64,
          80.64,
          80.64,
          80.64,
          80.64,
          80.64,
          80.64,
          80.64,
          80.64,
          80.64,
          80.64,
          80.64,
          80.64,
          90.23812743,
          90.23812743,
          90.23812743,
          90.23812743,
          90.23812743,
          90.23812743,
          90.23812743,
          90.23812743,
          90.23812743,
          90.23812743,
          90.23812743,
          90.23812743,
          90.23812743,
          90.23812743,
          90.23812743,
          90.23812743,
          90.23812743,
          90.23812743,
          155,
          155,
          155,
          155,
          155,
          155,
          155,
          155,
          155,
          155,
          155,
          155,
          155,
          155,
          155,
          155,
          155,
          155,
          155,
          155,
          155,
          155,
          155,
          155,
          155,
          155,
          155,
          155,
          155,
          155,
          155,
          155,
          155,
          155,
          155,
          155,
          155,
          155,
          109.00000000000001,
          109.00000000000001,
          109.00000000000001,
          109.00000000000001,
          109.00000000000001,
          109.00000000000001,
          109.00000000000001,
          109.00000000000001,
          109.00000000000001,
          109.00000000000001,
          109.00000000000001,
          109.00000000000001,
          109.00000000000001,
          109.00000000000001,
          109.00000000000001,
          109.00000000000001,
          109.00000000000001,
          109.00000000000001,
          109.00000000000001,
          109.00000000000001,
          109.00000000000001,
          109.00000000000001,
          109.00000000000001,
          109.00000000000001,
          109.00000000000001,
          109.00000000000001,
          109.00000000000001,
          109.00000000000001,
          109.00000000000001,
          109.00000000000001,
          109.00000000000001,
          109.00000000000001,
          109.00000000000001,
          109.00000000000001,
          109.00000000000001,
          109.00000000000001,
          109.00000000000001,
          109.00000000000001,
          109.00000000000001,
          109.00000000000001,
          109.00000000000001,
          109.00000000000001,
          109.00000000000001,
          109.00000000000001,
          109.00000000000001,
          109.00000000000001,
          109.00000000000001,
          109.00000000000001,
          109.00000000000001,
          109.00000000000001,
          71.5,
          71.5,
          71.5,
          71.5,
          71.5,
          71.5,
          71.5,
          71.5,
          71.5,
          71.5,
          71.5,
          71.5,
          71.5,
          71.5,
          71.5,
          71.5,
          71.5,
          71.5,
          71.5,
          71.5,
          71.5,
          71.5,
          71.5,
          71.5,
          71.5,
          71.5,
          71.5,
          71.5,
          71.5,
          71.5,
          71.5,
          71.5,
          71.5,
          71.5,
          71.5,
          71.5,
          71.5,
          71.5,
          71.5,
          71.5,
          71.5,
          71.5,
          71.5,
          71.5,
          71.5,
          71.5,
          71.5,
          71.5,
          71.5,
          71.5,
          71.5,
          71.5,
          71.5,
          71.5,
          71.5,
          71.5,
          71.5,
          71.5,
          71.5,
          71.5,
          71.5,
          71.5,
          71.5,
          71.5,
          71.5,
          71.5,
          71.5,
          71.5,
          71.5,
          71.5,
          71.5,
          71.5,
          71.5,
          71.5,
          71.5,
          71.5,
          71.5,
          71.5,
          71.5,
          71.5,
          71.5,
          71.5,
          71.5,
          71.5,
          71.5,
          71.5,
          71.5,
          71.5,
          71.5,
          71.5,
          71.5,
          71.5,
          71.5,
          71.5,
          71.5,
          71.5,
          71.5,
          71.5,
          71.5,
          71.5,
          71.5,
          71.5,
          71.5,
          71.5,
          71.5,
          71.5,
          71.5,
          71.5,
          71.5,
          71.5,
          71.5,
          71.5,
          71.5,
          71.5,
          71.5,
          71.5,
          71.5,
          71.5,
          71.5,
          71.5,
          71.5,
          71.5,
          71.5,
          71.5,
          71.5,
          71.5,
          71.5,
          71.5,
          71.5,
          71.5,
          71.5,
          71.5,
          71.5,
          71.5,
          71.5,
          71.5,
          71.5,
          71.5,
          71.5,
          71.5,
          71.5,
          71.5,
          71.5,
          71.5,
          71.5,
          71.5,
          71.5,
          71.5,
          71.5,
          71.5,
          71.5,
          71.5,
          71.5,
          71.5,
          71.5,
          71.5,
          71.5,
          71.5,
          71.5,
          71.5,
          71.5,
          71.5,
          71.5,
          71.5,
          71.5,
          71.5,
          71.5,
          71.5,
          71.5,
          71.5,
          71.5,
          71.5,
          71.5,
          71.5,
          71.5,
          71.5,
          71.5,
          71.5,
          71.5,
          71.5,
          71.5,
          71.5,
          71.5,
          71.5
         ],
         "marker": {
          "size": 5,
          "symbol": "square"
         },
         "text": [
          "Indian Telugu",
          "Indian Telugu",
          "Indian Telugu",
          "Indian Telugu",
          "Indian Telugu",
          "Indian Telugu",
          "Indian Telugu",
          "Indian Telugu",
          "Indian Telugu",
          "Indian Telugu",
          "Indian Telugu",
          "Indian Telugu",
          "Indian Telugu",
          "Indian Telugu",
          "Indian Telugu",
          "Indian Telugu",
          "Indian Telugu",
          "Indian Telugu",
          "Indian Telugu",
          "Indian Telugu",
          "Indian Telugu",
          "Indian Telugu",
          "Indian Telugu",
          "Indian Telugu",
          "Indian Telugu",
          "Indian Telugu",
          "Indian Telugu",
          "Bengali",
          "Bengali",
          "Bengali",
          "Bengali",
          "Bengali",
          "Bengali",
          "Bengali",
          "Bengali",
          "Bengali",
          "Bengali",
          "Bengali",
          "UNK",
          "UNK",
          "UNK",
          "UNK",
          "UNK",
          "UNK",
          "Bengali",
          "Bougainville",
          "Bougainville",
          "Bougainville",
          "Bougainville",
          "Bougainville",
          "Bougainville",
          "Bougainville",
          "Bougainville",
          "Bougainville",
          "Bougainville",
          "Bougainville",
          "Bougainville",
          "Bougainville",
          "Bougainville",
          "Bougainville",
          "Bougainville",
          "Bougainville",
          "Bougainville",
          "Bougainville",
          "Bougainville",
          "Bougainville",
          "Bougainville",
          "Bougainville",
          "Bougainville",
          "Bougainville",
          "Bougainville",
          "Bougainville",
          "Bougainville",
          "Bougainville",
          "Bougainville",
          "Bougainville",
          "Bougainville",
          "Bougainville",
          "Bougainville",
          "Bougainville",
          "Bougainville",
          "Bougainville",
          "Bougainville",
          "Miao",
          "Miao",
          "Miao",
          "Miao",
          "Miao",
          "Miao",
          "Miao",
          "Miao",
          "Miao",
          "Miao",
          "Miao",
          "Miao",
          "Miao",
          "Miao",
          "Miao",
          "Miao",
          "Miao",
          "Miao",
          "Miao",
          "Miao",
          "Miao",
          "Miao",
          "Miao",
          "Miao",
          "Miao",
          "Miao",
          "Miao",
          "Miao",
          "Miao",
          "Miao",
          "Miao",
          "Miao",
          "Miao",
          "Miao",
          "Miao",
          "Miao",
          "Miao",
          "Miao",
          "Miao",
          "Miao",
          "Miao",
          "Miao",
          "Miao",
          "Miao",
          "Miao",
          "Miao",
          "Miao",
          "UNK",
          "UNK",
          "UNK",
          "UNK",
          "UNK",
          "UNK",
          "Kalash",
          "Kalash",
          "Kalash",
          "Kalash",
          "Kalash",
          "Kalash",
          "Kalash",
          "Kalash",
          "Kalash",
          "Kalash",
          "Kalash",
          "UNK",
          "UNK",
          "UNK",
          "UNK",
          "UNK",
          "UNK",
          "Kalash",
          "Kalash",
          "Kalash",
          "Kalash",
          "Kalash",
          "Kalash",
          "Kalash",
          "Kalash",
          "Kalash",
          "Kalash",
          "Kalash",
          "Kalash",
          "Kalash",
          "Kalash",
          "Kalash",
          "Kalash",
          "Kalash",
          "Kalash",
          "Kalash",
          "Kalash",
          "Kalash",
          "Kalash",
          "Kalash",
          "Kalash",
          "Kalash",
          "Kalash",
          "Kalash",
          "Kalash",
          "Kalash",
          "Kalash",
          "Kalash",
          "Kalash",
          "Kalash",
          "Kalash",
          "Kalash",
          "Kalash",
          "Kalash",
          "Kalash",
          "Kalash",
          "Kalash",
          "Kalash",
          "Kalash",
          "Kalash",
          "Kalash",
          "Kalash",
          "Kalash",
          "Kalash",
          "Kalash",
          "Kalash",
          "Kalash",
          "Kalash",
          "Kalash",
          "Kalash",
          "Kalash",
          "Kalash",
          "Kalash",
          "Kalash",
          "Kalash",
          "Kalash",
          "Kalash",
          "Kalash",
          "Kalash",
          "Kalash",
          "Kalash",
          "Kalash",
          "Kalash",
          "Kalash",
          "Kalash",
          "Kalash",
          "Kalash",
          "Kalash",
          "Kalash",
          "Kalash",
          "Kalash",
          "Kalash",
          "Kalash",
          "Kalash",
          "Kalash",
          "Kalash",
          "Kalash",
          "Kalash",
          "Kalash",
          "Kalash",
          "Kalash",
          "Kalash",
          "Kalash",
          "Kalash",
          "Kalash",
          "Kalash",
          "Kalash",
          "Kalash",
          "Kalash",
          "Kalash",
          "Kalash",
          "Kalash",
          "Kalash",
          "Kalash",
          "Kalash",
          "Kalash",
          "Kalash",
          "Kalash",
          "Kalash",
          "Kalash",
          "Kalash",
          "Kalash",
          "Kalash",
          "Kalash",
          "Kalash",
          "Kalash",
          "Kalash",
          "Kalash",
          "Kalash",
          "Kalash",
          "Kalash",
          "Kalash",
          "Kalash",
          "Kalash",
          "Kalash",
          "Kalash",
          "Kalash",
          "Kalash",
          "Kalash",
          "Kalash",
          "Kalash",
          "Kalash",
          "Kalash",
          "Kalash",
          "Kalash",
          "Kalash",
          "Kalash",
          "Kalash",
          "Kalash",
          "Kalash",
          "Kalash",
          "Kalash",
          "Kalash",
          "Kalash",
          "Kalash",
          "Kalash",
          "Kalash",
          "Kalash",
          "Kalash",
          "Kalash",
          "Kalash",
          "Kalash",
          "Kalash",
          "Kalash",
          "Kalash",
          "Kalash",
          "Kalash",
          "Kalash",
          "Kalash",
          "Kalash",
          "Kalash",
          "Kalash",
          "Kalash",
          "Kalash",
          "Kalash",
          "Kalash",
          "Kalash",
          "Kalash",
          "Kalash",
          "Kalash",
          "Kalash"
         ],
         "type": "scattergeo"
        }
       ],
       "layout": {
        "template": {
         "data": {
          "bar": [
           {
            "error_x": {
             "color": "#2a3f5f"
            },
            "error_y": {
             "color": "#2a3f5f"
            },
            "marker": {
             "line": {
              "color": "#E5ECF6",
              "width": 0.5
             }
            },
            "type": "bar"
           }
          ],
          "barpolar": [
           {
            "marker": {
             "line": {
              "color": "#E5ECF6",
              "width": 0.5
             }
            },
            "type": "barpolar"
           }
          ],
          "carpet": [
           {
            "aaxis": {
             "endlinecolor": "#2a3f5f",
             "gridcolor": "white",
             "linecolor": "white",
             "minorgridcolor": "white",
             "startlinecolor": "#2a3f5f"
            },
            "baxis": {
             "endlinecolor": "#2a3f5f",
             "gridcolor": "white",
             "linecolor": "white",
             "minorgridcolor": "white",
             "startlinecolor": "#2a3f5f"
            },
            "type": "carpet"
           }
          ],
          "choropleth": [
           {
            "colorbar": {
             "outlinewidth": 0,
             "ticks": ""
            },
            "type": "choropleth"
           }
          ],
          "contour": [
           {
            "colorbar": {
             "outlinewidth": 0,
             "ticks": ""
            },
            "colorscale": [
             [
              0,
              "#0d0887"
             ],
             [
              0.1111111111111111,
              "#46039f"
             ],
             [
              0.2222222222222222,
              "#7201a8"
             ],
             [
              0.3333333333333333,
              "#9c179e"
             ],
             [
              0.4444444444444444,
              "#bd3786"
             ],
             [
              0.5555555555555556,
              "#d8576b"
             ],
             [
              0.6666666666666666,
              "#ed7953"
             ],
             [
              0.7777777777777778,
              "#fb9f3a"
             ],
             [
              0.8888888888888888,
              "#fdca26"
             ],
             [
              1,
              "#f0f921"
             ]
            ],
            "type": "contour"
           }
          ],
          "contourcarpet": [
           {
            "colorbar": {
             "outlinewidth": 0,
             "ticks": ""
            },
            "type": "contourcarpet"
           }
          ],
          "heatmap": [
           {
            "colorbar": {
             "outlinewidth": 0,
             "ticks": ""
            },
            "colorscale": [
             [
              0,
              "#0d0887"
             ],
             [
              0.1111111111111111,
              "#46039f"
             ],
             [
              0.2222222222222222,
              "#7201a8"
             ],
             [
              0.3333333333333333,
              "#9c179e"
             ],
             [
              0.4444444444444444,
              "#bd3786"
             ],
             [
              0.5555555555555556,
              "#d8576b"
             ],
             [
              0.6666666666666666,
              "#ed7953"
             ],
             [
              0.7777777777777778,
              "#fb9f3a"
             ],
             [
              0.8888888888888888,
              "#fdca26"
             ],
             [
              1,
              "#f0f921"
             ]
            ],
            "type": "heatmap"
           }
          ],
          "heatmapgl": [
           {
            "colorbar": {
             "outlinewidth": 0,
             "ticks": ""
            },
            "colorscale": [
             [
              0,
              "#0d0887"
             ],
             [
              0.1111111111111111,
              "#46039f"
             ],
             [
              0.2222222222222222,
              "#7201a8"
             ],
             [
              0.3333333333333333,
              "#9c179e"
             ],
             [
              0.4444444444444444,
              "#bd3786"
             ],
             [
              0.5555555555555556,
              "#d8576b"
             ],
             [
              0.6666666666666666,
              "#ed7953"
             ],
             [
              0.7777777777777778,
              "#fb9f3a"
             ],
             [
              0.8888888888888888,
              "#fdca26"
             ],
             [
              1,
              "#f0f921"
             ]
            ],
            "type": "heatmapgl"
           }
          ],
          "histogram": [
           {
            "marker": {
             "colorbar": {
              "outlinewidth": 0,
              "ticks": ""
             }
            },
            "type": "histogram"
           }
          ],
          "histogram2d": [
           {
            "colorbar": {
             "outlinewidth": 0,
             "ticks": ""
            },
            "colorscale": [
             [
              0,
              "#0d0887"
             ],
             [
              0.1111111111111111,
              "#46039f"
             ],
             [
              0.2222222222222222,
              "#7201a8"
             ],
             [
              0.3333333333333333,
              "#9c179e"
             ],
             [
              0.4444444444444444,
              "#bd3786"
             ],
             [
              0.5555555555555556,
              "#d8576b"
             ],
             [
              0.6666666666666666,
              "#ed7953"
             ],
             [
              0.7777777777777778,
              "#fb9f3a"
             ],
             [
              0.8888888888888888,
              "#fdca26"
             ],
             [
              1,
              "#f0f921"
             ]
            ],
            "type": "histogram2d"
           }
          ],
          "histogram2dcontour": [
           {
            "colorbar": {
             "outlinewidth": 0,
             "ticks": ""
            },
            "colorscale": [
             [
              0,
              "#0d0887"
             ],
             [
              0.1111111111111111,
              "#46039f"
             ],
             [
              0.2222222222222222,
              "#7201a8"
             ],
             [
              0.3333333333333333,
              "#9c179e"
             ],
             [
              0.4444444444444444,
              "#bd3786"
             ],
             [
              0.5555555555555556,
              "#d8576b"
             ],
             [
              0.6666666666666666,
              "#ed7953"
             ],
             [
              0.7777777777777778,
              "#fb9f3a"
             ],
             [
              0.8888888888888888,
              "#fdca26"
             ],
             [
              1,
              "#f0f921"
             ]
            ],
            "type": "histogram2dcontour"
           }
          ],
          "mesh3d": [
           {
            "colorbar": {
             "outlinewidth": 0,
             "ticks": ""
            },
            "type": "mesh3d"
           }
          ],
          "parcoords": [
           {
            "line": {
             "colorbar": {
              "outlinewidth": 0,
              "ticks": ""
             }
            },
            "type": "parcoords"
           }
          ],
          "pie": [
           {
            "automargin": true,
            "type": "pie"
           }
          ],
          "scatter": [
           {
            "marker": {
             "colorbar": {
              "outlinewidth": 0,
              "ticks": ""
             }
            },
            "type": "scatter"
           }
          ],
          "scatter3d": [
           {
            "line": {
             "colorbar": {
              "outlinewidth": 0,
              "ticks": ""
             }
            },
            "marker": {
             "colorbar": {
              "outlinewidth": 0,
              "ticks": ""
             }
            },
            "type": "scatter3d"
           }
          ],
          "scattercarpet": [
           {
            "marker": {
             "colorbar": {
              "outlinewidth": 0,
              "ticks": ""
             }
            },
            "type": "scattercarpet"
           }
          ],
          "scattergeo": [
           {
            "marker": {
             "colorbar": {
              "outlinewidth": 0,
              "ticks": ""
             }
            },
            "type": "scattergeo"
           }
          ],
          "scattergl": [
           {
            "marker": {
             "colorbar": {
              "outlinewidth": 0,
              "ticks": ""
             }
            },
            "type": "scattergl"
           }
          ],
          "scattermapbox": [
           {
            "marker": {
             "colorbar": {
              "outlinewidth": 0,
              "ticks": ""
             }
            },
            "type": "scattermapbox"
           }
          ],
          "scatterpolar": [
           {
            "marker": {
             "colorbar": {
              "outlinewidth": 0,
              "ticks": ""
             }
            },
            "type": "scatterpolar"
           }
          ],
          "scatterpolargl": [
           {
            "marker": {
             "colorbar": {
              "outlinewidth": 0,
              "ticks": ""
             }
            },
            "type": "scatterpolargl"
           }
          ],
          "scatterternary": [
           {
            "marker": {
             "colorbar": {
              "outlinewidth": 0,
              "ticks": ""
             }
            },
            "type": "scatterternary"
           }
          ],
          "surface": [
           {
            "colorbar": {
             "outlinewidth": 0,
             "ticks": ""
            },
            "colorscale": [
             [
              0,
              "#0d0887"
             ],
             [
              0.1111111111111111,
              "#46039f"
             ],
             [
              0.2222222222222222,
              "#7201a8"
             ],
             [
              0.3333333333333333,
              "#9c179e"
             ],
             [
              0.4444444444444444,
              "#bd3786"
             ],
             [
              0.5555555555555556,
              "#d8576b"
             ],
             [
              0.6666666666666666,
              "#ed7953"
             ],
             [
              0.7777777777777778,
              "#fb9f3a"
             ],
             [
              0.8888888888888888,
              "#fdca26"
             ],
             [
              1,
              "#f0f921"
             ]
            ],
            "type": "surface"
           }
          ],
          "table": [
           {
            "cells": {
             "fill": {
              "color": "#EBF0F8"
             },
             "line": {
              "color": "white"
             }
            },
            "header": {
             "fill": {
              "color": "#C8D4E3"
             },
             "line": {
              "color": "white"
             }
            },
            "type": "table"
           }
          ]
         },
         "layout": {
          "annotationdefaults": {
           "arrowcolor": "#2a3f5f",
           "arrowhead": 0,
           "arrowwidth": 1
          },
          "autotypenumbers": "strict",
          "coloraxis": {
           "colorbar": {
            "outlinewidth": 0,
            "ticks": ""
           }
          },
          "colorscale": {
           "diverging": [
            [
             0,
             "#8e0152"
            ],
            [
             0.1,
             "#c51b7d"
            ],
            [
             0.2,
             "#de77ae"
            ],
            [
             0.3,
             "#f1b6da"
            ],
            [
             0.4,
             "#fde0ef"
            ],
            [
             0.5,
             "#f7f7f7"
            ],
            [
             0.6,
             "#e6f5d0"
            ],
            [
             0.7,
             "#b8e186"
            ],
            [
             0.8,
             "#7fbc41"
            ],
            [
             0.9,
             "#4d9221"
            ],
            [
             1,
             "#276419"
            ]
           ],
           "sequential": [
            [
             0,
             "#0d0887"
            ],
            [
             0.1111111111111111,
             "#46039f"
            ],
            [
             0.2222222222222222,
             "#7201a8"
            ],
            [
             0.3333333333333333,
             "#9c179e"
            ],
            [
             0.4444444444444444,
             "#bd3786"
            ],
            [
             0.5555555555555556,
             "#d8576b"
            ],
            [
             0.6666666666666666,
             "#ed7953"
            ],
            [
             0.7777777777777778,
             "#fb9f3a"
            ],
            [
             0.8888888888888888,
             "#fdca26"
            ],
            [
             1,
             "#f0f921"
            ]
           ],
           "sequentialminus": [
            [
             0,
             "#0d0887"
            ],
            [
             0.1111111111111111,
             "#46039f"
            ],
            [
             0.2222222222222222,
             "#7201a8"
            ],
            [
             0.3333333333333333,
             "#9c179e"
            ],
            [
             0.4444444444444444,
             "#bd3786"
            ],
            [
             0.5555555555555556,
             "#d8576b"
            ],
            [
             0.6666666666666666,
             "#ed7953"
            ],
            [
             0.7777777777777778,
             "#fb9f3a"
            ],
            [
             0.8888888888888888,
             "#fdca26"
            ],
            [
             1,
             "#f0f921"
            ]
           ]
          },
          "colorway": [
           "#636efa",
           "#EF553B",
           "#00cc96",
           "#ab63fa",
           "#FFA15A",
           "#19d3f3",
           "#FF6692",
           "#B6E880",
           "#FF97FF",
           "#FECB52"
          ],
          "font": {
           "color": "#2a3f5f"
          },
          "geo": {
           "bgcolor": "white",
           "lakecolor": "white",
           "landcolor": "#E5ECF6",
           "showlakes": true,
           "showland": true,
           "subunitcolor": "white"
          },
          "hoverlabel": {
           "align": "left"
          },
          "hovermode": "closest",
          "mapbox": {
           "style": "light"
          },
          "paper_bgcolor": "white",
          "plot_bgcolor": "#E5ECF6",
          "polar": {
           "angularaxis": {
            "gridcolor": "white",
            "linecolor": "white",
            "ticks": ""
           },
           "bgcolor": "#E5ECF6",
           "radialaxis": {
            "gridcolor": "white",
            "linecolor": "white",
            "ticks": ""
           }
          },
          "scene": {
           "xaxis": {
            "backgroundcolor": "#E5ECF6",
            "gridcolor": "white",
            "gridwidth": 2,
            "linecolor": "white",
            "showbackground": true,
            "ticks": "",
            "zerolinecolor": "white"
           },
           "yaxis": {
            "backgroundcolor": "#E5ECF6",
            "gridcolor": "white",
            "gridwidth": 2,
            "linecolor": "white",
            "showbackground": true,
            "ticks": "",
            "zerolinecolor": "white"
           },
           "zaxis": {
            "backgroundcolor": "#E5ECF6",
            "gridcolor": "white",
            "gridwidth": 2,
            "linecolor": "white",
            "showbackground": true,
            "ticks": "",
            "zerolinecolor": "white"
           }
          },
          "shapedefaults": {
           "line": {
            "color": "#2a3f5f"
           }
          },
          "ternary": {
           "aaxis": {
            "gridcolor": "white",
            "linecolor": "white",
            "ticks": ""
           },
           "baxis": {
            "gridcolor": "white",
            "linecolor": "white",
            "ticks": ""
           },
           "bgcolor": "#E5ECF6",
           "caxis": {
            "gridcolor": "white",
            "linecolor": "white",
            "ticks": ""
           }
          },
          "title": {
           "x": 0.05
          },
          "xaxis": {
           "automargin": true,
           "gridcolor": "white",
           "linecolor": "white",
           "ticks": "",
           "title": {
            "standoff": 15
           },
           "zerolinecolor": "white",
           "zerolinewidth": 2
          },
          "yaxis": {
           "automargin": true,
           "gridcolor": "white",
           "linecolor": "white",
           "ticks": "",
           "title": {
            "standoff": 15
           },
           "zerolinecolor": "white",
           "zerolinewidth": 2
          }
         }
        }
       }
      },
      "text/html": [
       "<div>                            <div id=\"d45efbd1-a8f2-4ac1-9c13-f4229c026c98\" class=\"plotly-graph-div\" style=\"height:525px; width:100%;\"></div>            <script type=\"text/javascript\">                require([\"plotly\"], function(Plotly) {                    window.PLOTLYENV=window.PLOTLYENV || {};                                    if (document.getElementById(\"d45efbd1-a8f2-4ac1-9c13-f4229c026c98\")) {                    Plotly.newPlot(                        \"d45efbd1-a8f2-4ac1-9c13-f4229c026c98\",                        [{\"marker\": {\"size\": 5}, \"type\": \"scattergeo\"}, {\"lat\": [13.068065643310547, 12.852922439575195, 12.206084251403809, 11.713398933410645, 10.84536361694336, 10.71901798248291, 10.38288402557373, 10.11047077178955, 10.461540222167969, 10.396949768066406, 10.86305046081543, 10.992196083068848, 11.195060729980469, 10.942218780517578, 10.912785530090332, 10.538334846496582, 10.877788543701172, 10.344076156616211, 10.216667175292969, 10.184743881225586, 9.801274299621582, 9.854106903076172, 9.934179306030273, 9.85153579711914, 9.90037727355957, 9.611852645874023, 9.412747383117676, 9.648429870605469, 9.59481143951416, 9.885065078735352, 9.736241340637207, 10.12961196899414, 10.445663452148438, 10.639443397521973, 10.389182090759277, 10.24790096282959, 10.443609237670898, 11.37091064453125, 12.697274208068848, 13.221521377563477, 12.405177116394043, 13.67762565612793, 14.214783668518066, 14.303884506225586, 14.320103645324707, 14.418149948120117, 14.460744857788086, 14.579474449157715, 14.698050498962402, 13.992643356323242, 14.037785530090332, 14.22853946685791, 14.433910369873047, 14.347274780273438, 14.1956787109375, 13.81087875366211, 13.767661094665527, 13.898991584777832, 13.813356399536133, 13.72634220123291, 13.717254638671875, 13.641897201538086, 13.79916763305664, 14.116923332214355, 14.232616424560547, 14.423873901367188, 14.295222282409668, 13.45885181427002, 13.57757568359375, 13.806001663208008, 13.390814781188965, 13.76609992980957, 15.055389404296875, 15.458393096923828, 15.700645446777344, 15.730475425720215, 14.961517333984375, 14.765703201293945, 14.70583438873291, 14.696428298950195, 14.281716346740723, 14.361272811889648, 14.618329048156738, 14.935345649719238, 15.190085411071777, 15.695449829101562, 15.763760566711426, 15.532879829406738, 15.566844940185547, 15.742749214172363, 15.661613464355469, 15.969064712524414, 16.337169647216797, 16.07646369934082, 16.273696899414062, 16.19595718383789, 15.881719589233398, 15.748899459838867, 15.894659996032715, 15.653690338134766, 15.719481468200684, 16.64594268798828, 16.50380516052246, 16.738475799560547, 16.618183135986328, 16.645864486694336, 16.575611114501953, 16.720386505126953, 16.771379470825195, 16.81829833984375, 17.031696319580078, 17.427452087402344, 17.743480682373047, 18.094520568847656, 18.342731475830078, 18.440752029418945, 18.563310623168945, 18.66316032409668, 18.687606811523438, 18.788097381591797, 18.757280349731445, 18.81246566772461, 18.862329483032227, 18.768476486206055, 18.353927612304688, 17.96782112121582, 18.22218894958496, 18.327787399291992, 18.457706451416016, 18.27766990661621, 17.480913162231445, 18.257827758789062, 21.46759033203125, 19.535411834716797, 19.83858871459961, 19.7276611328125, 20.175962448120117, 20.83613395690918, 22.279624938964844, 23.984912872314453, 23.25604248046875, 22.693998336791992, 22.26031494140625, 22.106582641601562, 22.81053352355957, 24.467195510864258, 24.474489212036133, 25.271154403686523, 26.934167861938477, 27.40789794921875, 26.517887115478516, 29.698360443115234, 31.030929565429688, 31.781444549560547, 31.62550926208496, 31.07526969909668, 30.612525939941406, 30.751375198364258, 30.56374740600586, 30.124296188354492, 29.49588394165039, 29.668468475341797, 30.013290405273438, 28.912145614624023, 29.625089645385742, 30.414995193481445, 31.58586311340332, 32.74574661254883, 34.07805633544922, 34.72819137573242, 33.544952392578125, 34.17510986328125, 33.90670394897461, 32.94655227661133, 32.4918212890625, 31.36324691772461, 31.61285400390625, 32.29613494873047, 32.52427673339844, 32.24788284301758, 32.10943603515625, 31.79814910888672, 31.79068374633789, 31.59467124938965, 30.613563537597656, 31.89044189453125, 31.465726852416992, 31.48807144165039, 31.75916290283203, 31.714160919189453, 31.7255859375, 31.47147560119629, 31.911699295043945, 31.660451889038086, 31.482532501220703, 31.25010871887207, 31.22720718383789, 31.039844512939453, 30.998987197875977, 31.11576271057129, 31.193958282470703, 31.211233139038086, 31.3265323638916, 31.4377384185791, 31.368234634399414, 31.544418334960938, 31.62999725341797, 31.72150993347168, 31.72918128967285, 31.66692543029785, 31.716880798339844, 31.854522705078125, 31.62338638305664, 31.89191436767578, 31.845449447631836, 31.88471221923828, 31.789382934570312, 31.886327743530273, 31.667463302612305, 31.540441513061523, 31.769502639770508, 31.637144088745117, 32.03236770629883, 31.82882308959961, 31.96672248840332, 31.956716537475586, 31.9804744720459, 31.917268753051758, 31.723098754882812, 31.566617965698242, 31.895748138427734, 31.845474243164062, 31.809202194213867, 31.764127731323242, 31.636869430541992, 31.86420440673828, 31.678070068359375, 31.83292579650879, 31.807132720947266, 31.642101287841797, 31.576152801513672, 31.473073959350586, 31.259241104125977, 31.462303161621094, 31.880817413330078, 31.97672462463379, 31.839265823364258, 31.83181381225586, 31.757816314697266, 31.751434326171875, 31.7664737701416, 31.706897735595703, 31.564817428588867, 31.60149574279785, 31.654197692871094, 31.660200119018555, 31.60434913635254, 31.765380859375, 31.64570426940918, 31.819442749023438, 31.676828384399414, 31.81520652770996, 31.9155330657959, 32.04658508300781, 32.27490234375, 31.997940063476562, 32.53460693359375, 32.410545349121094, 32.616493225097656, 31.640655517578125, 31.346752166748047, 31.9541015625, 31.977558135986328, 31.73107147216797, 32.02634048461914, 32.22633361816406, 32.24729537963867, 32.107112884521484, 32.27764129638672, 32.22286605834961, 32.12361526489258, 32.33781433105469, 32.20535659790039, 32.08427810668945, 32.17551803588867, 32.135101318359375, 32.04844665527344, 32.208160400390625, 32.22638702392578, 32.237300872802734, 32.33943557739258, 32.21279525756836, 32.236106872558594, 32.191795349121094, 32.160736083984375, 31.957473754882812, 31.95435905456543, 31.86308479309082, 31.708309173583984, 31.568038940429688, 31.527700424194336, 31.505844116210938, 31.568584442138672, 31.500839233398438, 31.578109741210938, 31.59324073791504, 31.43160629272461, 31.404401779174805, 31.146259307861328, 31.129791259765625, 31.23926544189453, 31.20516014099121, 31.102956771850586, 31.31898307800293, 31.533618927001953, 32.079498291015625, 34.50052261352539], \"lon\": [81.75408935546875, 81.30130767822266, 81.31903076171875, 81.70909881591797, 81.58633422851562, 81.17536926269531, 81.37570190429688, 81.56372833251953, 81.3974609375, 81.74993896484375, 81.6711654663086, 81.97453308105469, 82.09506225585938, 81.57198333740234, 81.60987854003906, 81.49809265136719, 81.15763092041016, 81.09830474853516, 81.16594696044922, 80.75216674804688, 80.93179321289062, 80.61116027832031, 80.98503875732422, 80.72500610351562, 80.8293685913086, 80.90066528320312, 80.98709869384766, 80.94302368164062, 80.93199920654297, 80.95577239990234, 81.28533935546875, 81.37094116210938, 81.86652374267578, 82.12244415283203, 82.17687225341797, 82.64625549316406, 84.44000244140625, 88.18877410888672, 91.3482894897461, 92.71723175048828, 91.74560546875, 94.99116516113281, 96.02320098876953, 95.99134826660156, 96.37123107910156, 96.47049713134766, 96.37659454345703, 96.52519989013672, 96.6518325805664, 96.11453247070312, 94.98097229003906, 95.94095611572266, 96.27667999267578, 96.73571014404297, 96.82744598388672, 97.0750961303711, 97.18839263916016, 96.73358154296875, 97.0269775390625, 96.67115020751953, 97.23506164550781, 97.38490295410156, 97.30998229980469, 97.09413146972656, 97.7913818359375, 97.95637512207031, 98.53520202636719, 99.71378326416016, 99.86853790283203, 99.7825698852539, 99.84843444824219, 100.41364288330078, 100.23242950439453, 101.6762466430664, 100.90503692626953, 101.91273498535156, 101.17715454101562, 101.56067657470703, 101.75900268554688, 101.52461242675781, 102.11663818359375, 102.471923828125, 102.40754699707031, 102.98194122314453, 103.7886734008789, 105.14251708984375, 104.77252197265625, 106.01508331298828, 106.33209228515625, 106.43970489501953, 107.00775909423828, 107.27626037597656, 107.09059143066406, 107.55691528320312, 107.81324005126953, 107.59072875976562, 107.70211029052734, 107.59148406982422, 107.30180358886719, 107.34125518798828, 107.63334655761719, 107.49253845214844, 108.20501708984375, 108.42308044433594, 108.22193908691406, 108.13703918457031, 108.23857116699219, 108.1788558959961, 107.7593765258789, 107.98631286621094, 108.5774154663086, 108.94810485839844, 109.11253356933594, 109.23302459716797, 109.33749389648438, 109.5704116821289, 109.71245574951172, 109.24876403808594, 109.29732513427734, 109.14681243896484, 109.2301025390625, 109.35184478759766, 109.39506530761719, 109.163330078125, 108.70620727539062, 108.76467895507812, 108.72957611083984, 108.9706039428711, 109.35472106933594, 109.13519287109375, 108.82112121582031, 105.79540252685547, 98.62529754638672, 95.74855041503906, 87.73269653320312, 92.81475067138672, 95.93131256103516, 100.93692016601562, 104.0403060913086, 108.26165771484375, 107.63140869140625, 107.15873718261719, 107.07817077636719, 105.95710754394531, 103.51117706298828, 99.90184783935547, 96.97582244873047, 91.37738037109375, 85.29114532470703, 84.1816177368164, 81.84212493896484, 79.34471893310547, 73.72962188720703, 71.22132873535156, 71.86851501464844, 73.13838958740234, 73.60497283935547, 72.85509490966797, 73.40763092041016, 74.15522003173828, 74.73108673095703, 74.80195617675781, 74.63381958007812, 74.51254272460938, 74.7897720336914, 74.0759048461914, 72.81102752685547, 69.81777954101562, 68.56617736816406, 66.49786376953125, 68.15975189208984, 67.91397094726562, 67.98967742919922, 68.47633361816406, 69.09449768066406, 69.8959732055664, 69.11026763916016, 68.9353256225586, 69.43807983398438, 69.346923828125, 69.54195404052734, 69.86311340332031, 70.27776336669922, 70.83340454101562, 71.90413665771484, 72.31341552734375, 70.75948333740234, 70.5290298461914, 70.19087219238281, 69.48059844970703, 69.82965850830078, 70.1925277709961, 70.78853607177734, 70.27091979980469, 69.8582763671875, 69.91028594970703, 70.08887481689453, 69.95984649658203, 70.02487182617188, 69.76070404052734, 69.62754821777344, 69.874267578125, 70.19994354248047, 69.95659637451172, 70.36602783203125, 69.97685241699219, 69.43830871582031, 69.14405822753906, 69.1788330078125, 69.32313537597656, 69.22810363769531, 69.0989990234375, 69.01325988769531, 69.13622283935547, 68.640625, 68.99432373046875, 68.6050033569336, 69.4315185546875, 69.32231903076172, 69.99781036376953, 70.37279510498047, 70.33778381347656, 70.05397033691406, 69.60964965820312, 70.0998306274414, 69.58224487304688, 69.48168182373047, 69.42694854736328, 69.43010711669922, 70.12957000732422, 70.28549194335938, 69.94878387451172, 70.0186996459961, 69.91914367675781, 69.78446197509766, 70.11785125732422, 69.7947998046875, 69.85921478271484, 69.78323364257812, 69.85491943359375, 69.72566986083984, 69.88064575195312, 70.79296112060547, 71.30130767822266, 71.03250122070312, 70.73461151123047, 70.52227020263672, 70.81109619140625, 70.9965591430664, 71.13616943359375, 70.87364196777344, 70.97657012939453, 70.6924819946289, 70.73030853271484, 70.86107635498047, 70.75514221191406, 70.6365966796875, 70.49281311035156, 70.27685546875, 70.9156494140625, 70.49073028564453, 70.7767105102539, 70.88329315185547, 70.7818603515625, 70.34376525878906, 70.8991928100586, 73.32515716552734, 73.6146240234375, 73.14366149902344, 73.10502624511719, 73.59513854980469, 73.08390808105469, 72.8021011352539, 73.42159271240234, 73.27914428710938, 73.09636688232422, 72.86457061767578, 72.86299133300781, 72.82357788085938, 72.71732330322266, 72.76502227783203, 72.90837097167969, 72.94184112548828, 73.04327392578125, 72.8759536743164, 72.78807067871094, 73.02789306640625, 72.90733337402344, 72.82530975341797, 72.60293579101562, 72.38179779052734, 72.21869659423828, 72.29014587402344, 72.15556335449219, 72.36116027832031, 72.17684936523438, 72.37068176269531, 72.50375366210938, 72.73289489746094, 73.0365219116211, 73.11031341552734, 73.09769439697266, 72.95909881591797, 72.87132263183594, 72.91024017333984, 72.86124420166016, 72.88018798828125, 73.0328369140625, 73.17041015625, 73.37261962890625, 73.29056549072266, 73.26689147949219, 73.28681182861328, 73.37046813964844, 73.4175796508789, 73.68978881835938, 73.01460266113281], \"marker\": {\"color\": [\"rgba(0.3549019607843137, 0.9741386021045101, 0.7829276104921028, 1.0)\", \"rgba(0.3549019607843137, 0.9741386021045101, 0.7829276104921028, 1.0)\", \"rgba(0.3549019607843137, 0.9741386021045101, 0.7829276104921028, 1.0)\", \"rgba(0.3549019607843137, 0.9741386021045101, 0.7829276104921028, 1.0)\", \"rgba(0.3549019607843137, 0.9741386021045101, 0.7829276104921028, 1.0)\", \"rgba(0.3549019607843137, 0.9741386021045101, 0.7829276104921028, 1.0)\", \"rgba(0.3549019607843137, 0.9741386021045101, 0.7829276104921028, 1.0)\", \"rgba(0.3549019607843137, 0.9741386021045101, 0.7829276104921028, 1.0)\", \"rgba(0.3549019607843137, 0.9741386021045101, 0.7829276104921028, 1.0)\", \"rgba(0.3549019607843137, 0.9741386021045101, 0.7829276104921028, 1.0)\", \"rgba(0.3549019607843137, 0.9741386021045101, 0.7829276104921028, 1.0)\", \"rgba(0.3549019607843137, 0.9741386021045101, 0.7829276104921028, 1.0)\", \"rgba(0.3549019607843137, 0.9741386021045101, 0.7829276104921028, 1.0)\", \"rgba(0.3549019607843137, 0.9741386021045101, 0.7829276104921028, 1.0)\", \"rgba(0.3549019607843137, 0.9741386021045101, 0.7829276104921028, 1.0)\", \"rgba(0.3549019607843137, 0.9741386021045101, 0.7829276104921028, 1.0)\", \"rgba(0.3549019607843137, 0.9741386021045101, 0.7829276104921028, 1.0)\", \"rgba(0.3549019607843137, 0.9741386021045101, 0.7829276104921028, 1.0)\", \"rgba(0.3549019607843137, 0.9741386021045101, 0.7829276104921028, 1.0)\", \"rgba(0.3549019607843137, 0.9741386021045101, 0.7829276104921028, 1.0)\", \"rgba(0.3549019607843137, 0.9741386021045101, 0.7829276104921028, 1.0)\", \"rgba(0.3549019607843137, 0.9741386021045101, 0.7829276104921028, 1.0)\", \"rgba(0.3549019607843137, 0.9741386021045101, 0.7829276104921028, 1.0)\", \"rgba(0.3549019607843137, 0.9741386021045101, 0.7829276104921028, 1.0)\", \"rgba(0.3549019607843137, 0.9741386021045101, 0.7829276104921028, 1.0)\", \"rgba(0.3549019607843137, 0.9741386021045101, 0.7829276104921028, 1.0)\", \"rgba(0.3549019607843137, 0.9741386021045101, 0.7829276104921028, 1.0)\", \"rgba(0.21764705882352942, 0.42912060877260894, 0.9755119679804366, 1.0)\", \"rgba(0.21764705882352942, 0.42912060877260894, 0.9755119679804366, 1.0)\", \"rgba(0.21764705882352942, 0.42912060877260894, 0.9755119679804366, 1.0)\", \"rgba(0.21764705882352942, 0.42912060877260894, 0.9755119679804366, 1.0)\", \"rgba(0.21764705882352942, 0.42912060877260894, 0.9755119679804366, 1.0)\", \"rgba(0.21764705882352942, 0.42912060877260894, 0.9755119679804366, 1.0)\", \"rgba(0.21764705882352942, 0.42912060877260894, 0.9755119679804366, 1.0)\", \"rgba(0.21764705882352942, 0.42912060877260894, 0.9755119679804366, 1.0)\", \"rgba(0.21764705882352942, 0.42912060877260894, 0.9755119679804366, 1.0)\", \"rgba(0.21764705882352942, 0.42912060877260894, 0.9755119679804366, 1.0)\", \"rgba(0.21764705882352942, 0.42912060877260894, 0.9755119679804366, 1.0)\", \"rgba(188, 188, 188, 1.0)\", \"rgba(188, 188, 188, 1.0)\", \"rgba(188, 188, 188, 1.0)\", \"rgba(188, 188, 188, 1.0)\", \"rgba(188, 188, 188, 1.0)\", \"rgba(188, 188, 188, 1.0)\", \"rgba(0.21764705882352942, 0.42912060877260894, 0.9755119679804366, 1.0)\", \"rgba(0.0725490196078431, 0.7829276104921027, 0.9005867023006374, 1.0)\", \"rgba(0.0725490196078431, 0.7829276104921027, 0.9005867023006374, 1.0)\", \"rgba(0.0725490196078431, 0.7829276104921027, 0.9005867023006374, 1.0)\", \"rgba(0.0725490196078431, 0.7829276104921027, 0.9005867023006374, 1.0)\", \"rgba(0.0725490196078431, 0.7829276104921027, 0.9005867023006374, 1.0)\", \"rgba(0.0725490196078431, 0.7829276104921027, 0.9005867023006374, 1.0)\", \"rgba(0.0725490196078431, 0.7829276104921027, 0.9005867023006374, 1.0)\", \"rgba(0.0725490196078431, 0.7829276104921027, 0.9005867023006374, 1.0)\", \"rgba(0.0725490196078431, 0.7829276104921027, 0.9005867023006374, 1.0)\", \"rgba(0.0725490196078431, 0.7829276104921027, 0.9005867023006374, 1.0)\", \"rgba(0.0725490196078431, 0.7829276104921027, 0.9005867023006374, 1.0)\", \"rgba(0.0725490196078431, 0.7829276104921027, 0.9005867023006374, 1.0)\", \"rgba(0.0725490196078431, 0.7829276104921027, 0.9005867023006374, 1.0)\", \"rgba(0.0725490196078431, 0.7829276104921027, 0.9005867023006374, 1.0)\", \"rgba(0.0725490196078431, 0.7829276104921027, 0.9005867023006374, 1.0)\", \"rgba(0.0725490196078431, 0.7829276104921027, 0.9005867023006374, 1.0)\", \"rgba(0.0725490196078431, 0.7829276104921027, 0.9005867023006374, 1.0)\", \"rgba(0.0725490196078431, 0.7829276104921027, 0.9005867023006374, 1.0)\", \"rgba(0.0725490196078431, 0.7829276104921027, 0.9005867023006374, 1.0)\", \"rgba(0.0725490196078431, 0.7829276104921027, 0.9005867023006374, 1.0)\", \"rgba(0.0725490196078431, 0.7829276104921027, 0.9005867023006374, 1.0)\", \"rgba(0.0725490196078431, 0.7829276104921027, 0.9005867023006374, 1.0)\", \"rgba(0.0725490196078431, 0.7829276104921027, 0.9005867023006374, 1.0)\", \"rgba(0.0725490196078431, 0.7829276104921027, 0.9005867023006374, 1.0)\", \"rgba(0.0725490196078431, 0.7829276104921027, 0.9005867023006374, 1.0)\", \"rgba(0.0725490196078431, 0.7829276104921027, 0.9005867023006374, 1.0)\", \"rgba(0.0725490196078431, 0.7829276104921027, 0.9005867023006374, 1.0)\", \"rgba(0.0725490196078431, 0.7829276104921027, 0.9005867023006374, 1.0)\", \"rgba(0.0725490196078431, 0.7829276104921027, 0.9005867023006374, 1.0)\", \"rgba(0.0725490196078431, 0.7829276104921027, 0.9005867023006374, 1.0)\", \"rgba(0.0725490196078431, 0.7829276104921027, 0.9005867023006374, 1.0)\", \"rgba(0.0725490196078431, 0.7829276104921027, 0.9005867023006374, 1.0)\", \"rgba(0.0725490196078431, 0.7829276104921027, 0.9005867023006374, 1.0)\", \"rgba(0.0725490196078431, 0.7829276104921027, 0.9005867023006374, 1.0)\", \"rgba(0.0725490196078431, 0.7829276104921027, 0.9005867023006374, 1.0)\", \"rgba(0.0725490196078431, 0.7829276104921027, 0.9005867023006374, 1.0)\", \"rgba(0.0725490196078431, 0.7829276104921027, 0.9005867023006374, 1.0)\", \"rgba(0.0725490196078431, 0.7829276104921027, 0.9005867023006374, 1.0)\", \"rgba(0.9274509803921569, 0.7829276104921029, 0.43467642176596505, 1.0)\", \"rgba(0.9274509803921569, 0.7829276104921029, 0.43467642176596505, 1.0)\", \"rgba(0.9274509803921569, 0.7829276104921029, 0.43467642176596505, 1.0)\", \"rgba(0.9274509803921569, 0.7829276104921029, 0.43467642176596505, 1.0)\", \"rgba(0.9274509803921569, 0.7829276104921029, 0.43467642176596505, 1.0)\", \"rgba(0.9274509803921569, 0.7829276104921029, 0.43467642176596505, 1.0)\", \"rgba(0.9274509803921569, 0.7829276104921029, 0.43467642176596505, 1.0)\", \"rgba(0.9274509803921569, 0.7829276104921029, 0.43467642176596505, 1.0)\", \"rgba(0.9274509803921569, 0.7829276104921029, 0.43467642176596505, 1.0)\", \"rgba(0.9274509803921569, 0.7829276104921029, 0.43467642176596505, 1.0)\", \"rgba(0.9274509803921569, 0.7829276104921029, 0.43467642176596505, 1.0)\", \"rgba(0.9274509803921569, 0.7829276104921029, 0.43467642176596505, 1.0)\", \"rgba(0.9274509803921569, 0.7829276104921029, 0.43467642176596505, 1.0)\", \"rgba(0.9274509803921569, 0.7829276104921029, 0.43467642176596505, 1.0)\", \"rgba(0.9274509803921569, 0.7829276104921029, 0.43467642176596505, 1.0)\", \"rgba(0.9274509803921569, 0.7829276104921029, 0.43467642176596505, 1.0)\", \"rgba(0.9274509803921569, 0.7829276104921029, 0.43467642176596505, 1.0)\", \"rgba(0.9274509803921569, 0.7829276104921029, 0.43467642176596505, 1.0)\", \"rgba(0.9274509803921569, 0.7829276104921029, 0.43467642176596505, 1.0)\", \"rgba(0.9274509803921569, 0.7829276104921029, 0.43467642176596505, 1.0)\", \"rgba(0.9274509803921569, 0.7829276104921029, 0.43467642176596505, 1.0)\", \"rgba(0.9274509803921569, 0.7829276104921029, 0.43467642176596505, 1.0)\", \"rgba(0.9274509803921569, 0.7829276104921029, 0.43467642176596505, 1.0)\", \"rgba(0.9274509803921569, 0.7829276104921029, 0.43467642176596505, 1.0)\", \"rgba(0.9274509803921569, 0.7829276104921029, 0.43467642176596505, 1.0)\", \"rgba(0.9274509803921569, 0.7829276104921029, 0.43467642176596505, 1.0)\", \"rgba(0.9274509803921569, 0.7829276104921029, 0.43467642176596505, 1.0)\", \"rgba(0.9274509803921569, 0.7829276104921029, 0.43467642176596505, 1.0)\", \"rgba(0.9274509803921569, 0.7829276104921029, 0.43467642176596505, 1.0)\", \"rgba(0.9274509803921569, 0.7829276104921029, 0.43467642176596505, 1.0)\", \"rgba(0.9274509803921569, 0.7829276104921029, 0.43467642176596505, 1.0)\", \"rgba(0.9274509803921569, 0.7829276104921029, 0.43467642176596505, 1.0)\", \"rgba(0.9274509803921569, 0.7829276104921029, 0.43467642176596505, 1.0)\", \"rgba(0.9274509803921569, 0.7829276104921029, 0.43467642176596505, 1.0)\", \"rgba(0.9274509803921569, 0.7829276104921029, 0.43467642176596505, 1.0)\", \"rgba(0.9274509803921569, 0.7829276104921029, 0.43467642176596505, 1.0)\", \"rgba(0.9274509803921569, 0.7829276104921029, 0.43467642176596505, 1.0)\", \"rgba(0.9274509803921569, 0.7829276104921029, 0.43467642176596505, 1.0)\", \"rgba(0.9274509803921569, 0.7829276104921029, 0.43467642176596505, 1.0)\", \"rgba(0.9274509803921569, 0.7829276104921029, 0.43467642176596505, 1.0)\", \"rgba(0.9274509803921569, 0.7829276104921029, 0.43467642176596505, 1.0)\", \"rgba(0.9274509803921569, 0.7829276104921029, 0.43467642176596505, 1.0)\", \"rgba(0.9274509803921569, 0.7829276104921029, 0.43467642176596505, 1.0)\", \"rgba(0.9274509803921569, 0.7829276104921029, 0.43467642176596505, 1.0)\", \"rgba(0.9274509803921569, 0.7829276104921029, 0.43467642176596505, 1.0)\", \"rgba(0.9274509803921569, 0.7829276104921029, 0.43467642176596505, 1.0)\", \"rgba(0.9274509803921569, 0.7829276104921029, 0.43467642176596505, 1.0)\", \"rgba(188, 188, 188, 1.0)\", \"rgba(188, 188, 188, 1.0)\", \"rgba(188, 188, 188, 1.0)\", \"rgba(188, 188, 188, 1.0)\", \"rgba(188, 188, 188, 1.0)\", \"rgba(188, 188, 188, 1.0)\", \"rgba(0.6450980392156862, 0.9741386021045102, 0.622112816721474, 1.0)\", \"rgba(0.6450980392156862, 0.9741386021045102, 0.622112816721474, 1.0)\", \"rgba(0.6450980392156862, 0.9741386021045102, 0.622112816721474, 1.0)\", \"rgba(0.6450980392156862, 0.9741386021045102, 0.622112816721474, 1.0)\", \"rgba(0.6450980392156862, 0.9741386021045102, 0.622112816721474, 1.0)\", \"rgba(0.6450980392156862, 0.9741386021045102, 0.622112816721474, 1.0)\", \"rgba(0.6450980392156862, 0.9741386021045102, 0.622112816721474, 1.0)\", \"rgba(0.6450980392156862, 0.9741386021045102, 0.622112816721474, 1.0)\", \"rgba(0.6450980392156862, 0.9741386021045102, 0.622112816721474, 1.0)\", \"rgba(0.6450980392156862, 0.9741386021045102, 0.622112816721474, 1.0)\", \"rgba(0.6450980392156862, 0.9741386021045102, 0.622112816721474, 1.0)\", \"rgba(188, 188, 188, 1.0)\", \"rgba(188, 188, 188, 1.0)\", \"rgba(188, 188, 188, 1.0)\", \"rgba(188, 188, 188, 1.0)\", \"rgba(188, 188, 188, 1.0)\", \"rgba(188, 188, 188, 1.0)\", \"rgba(0.6450980392156862, 0.9741386021045102, 0.622112816721474, 1.0)\", \"rgba(0.6450980392156862, 0.9741386021045102, 0.622112816721474, 1.0)\", \"rgba(0.6450980392156862, 0.9741386021045102, 0.622112816721474, 1.0)\", \"rgba(0.6450980392156862, 0.9741386021045102, 0.622112816721474, 1.0)\", \"rgba(0.6450980392156862, 0.9741386021045102, 0.622112816721474, 1.0)\", \"rgba(0.6450980392156862, 0.9741386021045102, 0.622112816721474, 1.0)\", \"rgba(0.6450980392156862, 0.9741386021045102, 0.622112816721474, 1.0)\", \"rgba(0.6450980392156862, 0.9741386021045102, 0.622112816721474, 1.0)\", \"rgba(0.6450980392156862, 0.9741386021045102, 0.622112816721474, 1.0)\", \"rgba(0.6450980392156862, 0.9741386021045102, 0.622112816721474, 1.0)\", \"rgba(0.6450980392156862, 0.9741386021045102, 0.622112816721474, 1.0)\", \"rgba(0.6450980392156862, 0.9741386021045102, 0.622112816721474, 1.0)\", \"rgba(0.6450980392156862, 0.9741386021045102, 0.622112816721474, 1.0)\", \"rgba(0.6450980392156862, 0.9741386021045102, 0.622112816721474, 1.0)\", \"rgba(0.6450980392156862, 0.9741386021045102, 0.622112816721474, 1.0)\", \"rgba(0.6450980392156862, 0.9741386021045102, 0.622112816721474, 1.0)\", \"rgba(0.6450980392156862, 0.9741386021045102, 0.622112816721474, 1.0)\", \"rgba(0.6450980392156862, 0.9741386021045102, 0.622112816721474, 1.0)\", \"rgba(0.6450980392156862, 0.9741386021045102, 0.622112816721474, 1.0)\", \"rgba(0.6450980392156862, 0.9741386021045102, 0.622112816721474, 1.0)\", \"rgba(0.6450980392156862, 0.9741386021045102, 0.622112816721474, 1.0)\", \"rgba(0.6450980392156862, 0.9741386021045102, 0.622112816721474, 1.0)\", \"rgba(0.6450980392156862, 0.9741386021045102, 0.622112816721474, 1.0)\", \"rgba(0.6450980392156862, 0.9741386021045102, 0.622112816721474, 1.0)\", \"rgba(0.6450980392156862, 0.9741386021045102, 0.622112816721474, 1.0)\", \"rgba(0.6450980392156862, 0.9741386021045102, 0.622112816721474, 1.0)\", \"rgba(0.6450980392156862, 0.9741386021045102, 0.622112816721474, 1.0)\", \"rgba(0.6450980392156862, 0.9741386021045102, 0.622112816721474, 1.0)\", \"rgba(0.6450980392156862, 0.9741386021045102, 0.622112816721474, 1.0)\", \"rgba(0.6450980392156862, 0.9741386021045102, 0.622112816721474, 1.0)\", \"rgba(0.6450980392156862, 0.9741386021045102, 0.622112816721474, 1.0)\", \"rgba(0.6450980392156862, 0.9741386021045102, 0.622112816721474, 1.0)\", \"rgba(0.6450980392156862, 0.9741386021045102, 0.622112816721474, 1.0)\", \"rgba(0.6450980392156862, 0.9741386021045102, 0.622112816721474, 1.0)\", \"rgba(0.6450980392156862, 0.9741386021045102, 0.622112816721474, 1.0)\", \"rgba(0.6450980392156862, 0.9741386021045102, 0.622112816721474, 1.0)\", \"rgba(0.6450980392156862, 0.9741386021045102, 0.622112816721474, 1.0)\", \"rgba(0.6450980392156862, 0.9741386021045102, 0.622112816721474, 1.0)\", \"rgba(0.6450980392156862, 0.9741386021045102, 0.622112816721474, 1.0)\", \"rgba(0.6450980392156862, 0.9741386021045102, 0.622112816721474, 1.0)\", \"rgba(0.6450980392156862, 0.9741386021045102, 0.622112816721474, 1.0)\", \"rgba(0.6450980392156862, 0.9741386021045102, 0.622112816721474, 1.0)\", \"rgba(0.6450980392156862, 0.9741386021045102, 0.622112816721474, 1.0)\", \"rgba(0.6450980392156862, 0.9741386021045102, 0.622112816721474, 1.0)\", \"rgba(0.6450980392156862, 0.9741386021045102, 0.622112816721474, 1.0)\", \"rgba(0.6450980392156862, 0.9741386021045102, 0.622112816721474, 1.0)\", \"rgba(0.6450980392156862, 0.9741386021045102, 0.622112816721474, 1.0)\", \"rgba(0.6450980392156862, 0.9741386021045102, 0.622112816721474, 1.0)\", \"rgba(0.6450980392156862, 0.9741386021045102, 0.622112816721474, 1.0)\", \"rgba(0.6450980392156862, 0.9741386021045102, 0.622112816721474, 1.0)\", \"rgba(0.6450980392156862, 0.9741386021045102, 0.622112816721474, 1.0)\", \"rgba(0.6450980392156862, 0.9741386021045102, 0.622112816721474, 1.0)\", \"rgba(0.6450980392156862, 0.9741386021045102, 0.622112816721474, 1.0)\", \"rgba(0.6450980392156862, 0.9741386021045102, 0.622112816721474, 1.0)\", \"rgba(0.6450980392156862, 0.9741386021045102, 0.622112816721474, 1.0)\", \"rgba(0.6450980392156862, 0.9741386021045102, 0.622112816721474, 1.0)\", \"rgba(0.6450980392156862, 0.9741386021045102, 0.622112816721474, 1.0)\", \"rgba(0.6450980392156862, 0.9741386021045102, 0.622112816721474, 1.0)\", \"rgba(0.6450980392156862, 0.9741386021045102, 0.622112816721474, 1.0)\", \"rgba(0.6450980392156862, 0.9741386021045102, 0.622112816721474, 1.0)\", \"rgba(0.6450980392156862, 0.9741386021045102, 0.622112816721474, 1.0)\", \"rgba(0.6450980392156862, 0.9741386021045102, 0.622112816721474, 1.0)\", \"rgba(0.6450980392156862, 0.9741386021045102, 0.622112816721474, 1.0)\", \"rgba(0.6450980392156862, 0.9741386021045102, 0.622112816721474, 1.0)\", \"rgba(0.6450980392156862, 0.9741386021045102, 0.622112816721474, 1.0)\", \"rgba(0.6450980392156862, 0.9741386021045102, 0.622112816721474, 1.0)\", \"rgba(0.6450980392156862, 0.9741386021045102, 0.622112816721474, 1.0)\", \"rgba(0.6450980392156862, 0.9741386021045102, 0.622112816721474, 1.0)\", \"rgba(0.6450980392156862, 0.9741386021045102, 0.622112816721474, 1.0)\", \"rgba(0.6450980392156862, 0.9741386021045102, 0.622112816721474, 1.0)\", \"rgba(0.6450980392156862, 0.9741386021045102, 0.622112816721474, 1.0)\", \"rgba(0.6450980392156862, 0.9741386021045102, 0.622112816721474, 1.0)\", \"rgba(0.6450980392156862, 0.9741386021045102, 0.622112816721474, 1.0)\", \"rgba(0.6450980392156862, 0.9741386021045102, 0.622112816721474, 1.0)\", \"rgba(0.6450980392156862, 0.9741386021045102, 0.622112816721474, 1.0)\", \"rgba(0.6450980392156862, 0.9741386021045102, 0.622112816721474, 1.0)\", \"rgba(0.6450980392156862, 0.9741386021045102, 0.622112816721474, 1.0)\", \"rgba(0.6450980392156862, 0.9741386021045102, 0.622112816721474, 1.0)\", \"rgba(0.6450980392156862, 0.9741386021045102, 0.622112816721474, 1.0)\", \"rgba(0.6450980392156862, 0.9741386021045102, 0.622112816721474, 1.0)\", \"rgba(0.6450980392156862, 0.9741386021045102, 0.622112816721474, 1.0)\", \"rgba(0.6450980392156862, 0.9741386021045102, 0.622112816721474, 1.0)\", \"rgba(0.6450980392156862, 0.9741386021045102, 0.622112816721474, 1.0)\", \"rgba(0.6450980392156862, 0.9741386021045102, 0.622112816721474, 1.0)\", \"rgba(0.6450980392156862, 0.9741386021045102, 0.622112816721474, 1.0)\", \"rgba(0.6450980392156862, 0.9741386021045102, 0.622112816721474, 1.0)\", \"rgba(0.6450980392156862, 0.9741386021045102, 0.622112816721474, 1.0)\", \"rgba(0.6450980392156862, 0.9741386021045102, 0.622112816721474, 1.0)\", \"rgba(0.6450980392156862, 0.9741386021045102, 0.622112816721474, 1.0)\", \"rgba(0.6450980392156862, 0.9741386021045102, 0.622112816721474, 1.0)\", \"rgba(0.6450980392156862, 0.9741386021045102, 0.622112816721474, 1.0)\", \"rgba(0.6450980392156862, 0.9741386021045102, 0.622112816721474, 1.0)\", \"rgba(0.6450980392156862, 0.9741386021045102, 0.622112816721474, 1.0)\", \"rgba(0.6450980392156862, 0.9741386021045102, 0.622112816721474, 1.0)\", \"rgba(0.6450980392156862, 0.9741386021045102, 0.622112816721474, 1.0)\", \"rgba(0.6450980392156862, 0.9741386021045102, 0.622112816721474, 1.0)\", \"rgba(0.6450980392156862, 0.9741386021045102, 0.622112816721474, 1.0)\", \"rgba(0.6450980392156862, 0.9741386021045102, 0.622112816721474, 1.0)\", \"rgba(0.6450980392156862, 0.9741386021045102, 0.622112816721474, 1.0)\", \"rgba(0.6450980392156862, 0.9741386021045102, 0.622112816721474, 1.0)\", \"rgba(0.6450980392156862, 0.9741386021045102, 0.622112816721474, 1.0)\", \"rgba(0.6450980392156862, 0.9741386021045102, 0.622112816721474, 1.0)\", \"rgba(0.6450980392156862, 0.9741386021045102, 0.622112816721474, 1.0)\", \"rgba(0.6450980392156862, 0.9741386021045102, 0.622112816721474, 1.0)\", \"rgba(0.6450980392156862, 0.9741386021045102, 0.622112816721474, 1.0)\", \"rgba(0.6450980392156862, 0.9741386021045102, 0.622112816721474, 1.0)\", \"rgba(0.6450980392156862, 0.9741386021045102, 0.622112816721474, 1.0)\", \"rgba(0.6450980392156862, 0.9741386021045102, 0.622112816721474, 1.0)\", \"rgba(0.6450980392156862, 0.9741386021045102, 0.622112816721474, 1.0)\", \"rgba(0.6450980392156862, 0.9741386021045102, 0.622112816721474, 1.0)\", \"rgba(0.6450980392156862, 0.9741386021045102, 0.622112816721474, 1.0)\", \"rgba(0.6450980392156862, 0.9741386021045102, 0.622112816721474, 1.0)\", \"rgba(0.6450980392156862, 0.9741386021045102, 0.622112816721474, 1.0)\", \"rgba(0.6450980392156862, 0.9741386021045102, 0.622112816721474, 1.0)\", \"rgba(0.6450980392156862, 0.9741386021045102, 0.622112816721474, 1.0)\", \"rgba(0.6450980392156862, 0.9741386021045102, 0.622112816721474, 1.0)\", \"rgba(0.6450980392156862, 0.9741386021045102, 0.622112816721474, 1.0)\", \"rgba(0.6450980392156862, 0.9741386021045102, 0.622112816721474, 1.0)\", \"rgba(0.6450980392156862, 0.9741386021045102, 0.622112816721474, 1.0)\", \"rgba(0.6450980392156862, 0.9741386021045102, 0.622112816721474, 1.0)\", \"rgba(0.6450980392156862, 0.9741386021045102, 0.622112816721474, 1.0)\", \"rgba(0.6450980392156862, 0.9741386021045102, 0.622112816721474, 1.0)\", \"rgba(0.6450980392156862, 0.9741386021045102, 0.622112816721474, 1.0)\", \"rgba(0.6450980392156862, 0.9741386021045102, 0.622112816721474, 1.0)\", \"rgba(0.6450980392156862, 0.9741386021045102, 0.622112816721474, 1.0)\", \"rgba(0.6450980392156862, 0.9741386021045102, 0.622112816721474, 1.0)\", \"rgba(0.6450980392156862, 0.9741386021045102, 0.622112816721474, 1.0)\", \"rgba(0.6450980392156862, 0.9741386021045102, 0.622112816721474, 1.0)\", \"rgba(0.6450980392156862, 0.9741386021045102, 0.622112816721474, 1.0)\", \"rgba(0.6450980392156862, 0.9741386021045102, 0.622112816721474, 1.0)\", \"rgba(0.6450980392156862, 0.9741386021045102, 0.622112816721474, 1.0)\", \"rgba(0.6450980392156862, 0.9741386021045102, 0.622112816721474, 1.0)\", \"rgba(0.6450980392156862, 0.9741386021045102, 0.622112816721474, 1.0)\", \"rgba(0.6450980392156862, 0.9741386021045102, 0.622112816721474, 1.0)\", \"rgba(0.6450980392156862, 0.9741386021045102, 0.622112816721474, 1.0)\", \"rgba(0.6450980392156862, 0.9741386021045102, 0.622112816721474, 1.0)\", \"rgba(0.6450980392156862, 0.9741386021045102, 0.622112816721474, 1.0)\", \"rgba(0.6450980392156862, 0.9741386021045102, 0.622112816721474, 1.0)\", \"rgba(0.6450980392156862, 0.9741386021045102, 0.622112816721474, 1.0)\", \"rgba(0.6450980392156862, 0.9741386021045102, 0.622112816721474, 1.0)\", \"rgba(0.6450980392156862, 0.9741386021045102, 0.622112816721474, 1.0)\", \"rgba(0.6450980392156862, 0.9741386021045102, 0.622112816721474, 1.0)\", \"rgba(0.6450980392156862, 0.9741386021045102, 0.622112816721474, 1.0)\", \"rgba(0.6450980392156862, 0.9741386021045102, 0.622112816721474, 1.0)\", \"rgba(0.6450980392156862, 0.9741386021045102, 0.622112816721474, 1.0)\", \"rgba(0.6450980392156862, 0.9741386021045102, 0.622112816721474, 1.0)\", \"rgba(0.6450980392156862, 0.9741386021045102, 0.622112816721474, 1.0)\", \"rgba(0.6450980392156862, 0.9741386021045102, 0.622112816721474, 1.0)\", \"rgba(0.6450980392156862, 0.9741386021045102, 0.622112816721474, 1.0)\", \"rgba(0.6450980392156862, 0.9741386021045102, 0.622112816721474, 1.0)\", \"rgba(0.6450980392156862, 0.9741386021045102, 0.622112816721474, 1.0)\", \"rgba(0.6450980392156862, 0.9741386021045102, 0.622112816721474, 1.0)\", \"rgba(0.6450980392156862, 0.9741386021045102, 0.622112816721474, 1.0)\", \"rgba(0.6450980392156862, 0.9741386021045102, 0.622112816721474, 1.0)\", \"rgba(0.6450980392156862, 0.9741386021045102, 0.622112816721474, 1.0)\", \"rgba(0.6450980392156862, 0.9741386021045102, 0.622112816721474, 1.0)\", \"rgba(0.6450980392156862, 0.9741386021045102, 0.622112816721474, 1.0)\", \"rgba(0.6450980392156862, 0.9741386021045102, 0.622112816721474, 1.0)\", \"rgba(0.6450980392156862, 0.9741386021045102, 0.622112816721474, 1.0)\", \"rgba(0.6450980392156862, 0.9741386021045102, 0.622112816721474, 1.0)\", \"rgba(0.6450980392156862, 0.9741386021045102, 0.622112816721474, 1.0)\", \"rgba(0.6450980392156862, 0.9741386021045102, 0.622112816721474, 1.0)\", \"rgba(0.6450980392156862, 0.9741386021045102, 0.622112816721474, 1.0)\", \"rgba(0.6450980392156862, 0.9741386021045102, 0.622112816721474, 1.0)\"], \"size\": 5}, \"text\": [\"Indian Telugu\", \"Indian Telugu\", \"Indian Telugu\", \"Indian Telugu\", \"Indian Telugu\", \"Indian Telugu\", \"Indian Telugu\", \"Indian Telugu\", \"Indian Telugu\", \"Indian Telugu\", \"Indian Telugu\", \"Indian Telugu\", \"Indian Telugu\", \"Indian Telugu\", \"Indian Telugu\", \"Indian Telugu\", \"Indian Telugu\", \"Indian Telugu\", \"Indian Telugu\", \"Indian Telugu\", \"Indian Telugu\", \"Indian Telugu\", \"Indian Telugu\", \"Indian Telugu\", \"Indian Telugu\", \"Indian Telugu\", \"Indian Telugu\", \"Bengali\", \"Bengali\", \"Bengali\", \"Bengali\", \"Bengali\", \"Bengali\", \"Bengali\", \"Bengali\", \"Bengali\", \"Bengali\", \"Bengali\", \"UNK\", \"UNK\", \"UNK\", \"UNK\", \"UNK\", \"UNK\", \"Bengali\", \"Bougainville\", \"Bougainville\", \"Bougainville\", \"Bougainville\", \"Bougainville\", \"Bougainville\", \"Bougainville\", \"Bougainville\", \"Bougainville\", \"Bougainville\", \"Bougainville\", \"Bougainville\", \"Bougainville\", \"Bougainville\", \"Bougainville\", \"Bougainville\", \"Bougainville\", \"Bougainville\", \"Bougainville\", \"Bougainville\", \"Bougainville\", \"Bougainville\", \"Bougainville\", \"Bougainville\", \"Bougainville\", \"Bougainville\", \"Bougainville\", \"Bougainville\", \"Bougainville\", \"Bougainville\", \"Bougainville\", \"Bougainville\", \"Bougainville\", \"Bougainville\", \"Bougainville\", \"Bougainville\", \"Bougainville\", \"Bougainville\", \"Miao\", \"Miao\", \"Miao\", \"Miao\", \"Miao\", \"Miao\", \"Miao\", \"Miao\", \"Miao\", \"Miao\", \"Miao\", \"Miao\", \"Miao\", \"Miao\", \"Miao\", \"Miao\", \"Miao\", \"Miao\", \"Miao\", \"Miao\", \"Miao\", \"Miao\", \"Miao\", \"Miao\", \"Miao\", \"Miao\", \"Miao\", \"Miao\", \"Miao\", \"Miao\", \"Miao\", \"Miao\", \"Miao\", \"Miao\", \"Miao\", \"Miao\", \"Miao\", \"Miao\", \"Miao\", \"Miao\", \"Miao\", \"Miao\", \"Miao\", \"Miao\", \"Miao\", \"Miao\", \"Miao\", \"UNK\", \"UNK\", \"UNK\", \"UNK\", \"UNK\", \"UNK\", \"Kalash\", \"Kalash\", \"Kalash\", \"Kalash\", \"Kalash\", \"Kalash\", \"Kalash\", \"Kalash\", \"Kalash\", \"Kalash\", \"Kalash\", \"UNK\", \"UNK\", \"UNK\", \"UNK\", \"UNK\", \"UNK\", \"Kalash\", \"Kalash\", \"Kalash\", \"Kalash\", \"Kalash\", \"Kalash\", \"Kalash\", \"Kalash\", \"Kalash\", \"Kalash\", \"Kalash\", \"Kalash\", \"Kalash\", \"Kalash\", \"Kalash\", \"Kalash\", \"Kalash\", \"Kalash\", \"Kalash\", \"Kalash\", \"Kalash\", \"Kalash\", \"Kalash\", \"Kalash\", \"Kalash\", \"Kalash\", \"Kalash\", \"Kalash\", \"Kalash\", \"Kalash\", \"Kalash\", \"Kalash\", \"Kalash\", \"Kalash\", \"Kalash\", \"Kalash\", \"Kalash\", \"Kalash\", \"Kalash\", \"Kalash\", \"Kalash\", \"Kalash\", \"Kalash\", \"Kalash\", \"Kalash\", \"Kalash\", \"Kalash\", \"Kalash\", \"Kalash\", \"Kalash\", \"Kalash\", \"Kalash\", \"Kalash\", \"Kalash\", \"Kalash\", \"Kalash\", \"Kalash\", \"Kalash\", \"Kalash\", \"Kalash\", \"Kalash\", \"Kalash\", \"Kalash\", \"Kalash\", \"Kalash\", \"Kalash\", \"Kalash\", \"Kalash\", \"Kalash\", \"Kalash\", \"Kalash\", \"Kalash\", \"Kalash\", \"Kalash\", \"Kalash\", \"Kalash\", \"Kalash\", \"Kalash\", \"Kalash\", \"Kalash\", \"Kalash\", \"Kalash\", \"Kalash\", \"Kalash\", \"Kalash\", \"Kalash\", \"Kalash\", \"Kalash\", \"Kalash\", \"Kalash\", \"Kalash\", \"Kalash\", \"Kalash\", \"Kalash\", \"Kalash\", \"Kalash\", \"Kalash\", \"Kalash\", \"Kalash\", \"Kalash\", \"Kalash\", \"Kalash\", \"Kalash\", \"Kalash\", \"Kalash\", \"Kalash\", \"Kalash\", \"Kalash\", \"Kalash\", \"Kalash\", \"Kalash\", \"Kalash\", \"Kalash\", \"Kalash\", \"Kalash\", \"Kalash\", \"Kalash\", \"Kalash\", \"Kalash\", \"Kalash\", \"Kalash\", \"Kalash\", \"Kalash\", \"Kalash\", \"Kalash\", \"Kalash\", \"Kalash\", \"Kalash\", \"Kalash\", \"Kalash\", \"Kalash\", \"Kalash\", \"Kalash\", \"Kalash\", \"Kalash\", \"Kalash\", \"Kalash\", \"Kalash\", \"Kalash\", \"Kalash\", \"Kalash\", \"Kalash\", \"Kalash\", \"Kalash\", \"Kalash\", \"Kalash\", \"Kalash\", \"Kalash\", \"Kalash\", \"Kalash\", \"Kalash\", \"Kalash\", \"Kalash\", \"Kalash\", \"Kalash\", \"Kalash\", \"Kalash\", \"Kalash\", \"Kalash\", \"Kalash\", \"Kalash\", \"Kalash\", \"Kalash\", \"Kalash\"], \"type\": \"scattergeo\"}, {\"lat\": [16.5, 16.5, 16.5, 16.5, 16.5, 16.5, 16.5, 16.5, 16.5, 16.5, 16.5, 16.5, 16.5, 16.5, 16.5, 16.5, 16.5, 16.5, 16.5, 16.5, 16.5, 16.5, 16.5, 16.5, 16.5, 16.5, 16.5, 23.86731158, 23.86731158, 23.86731158, 23.86731158, 23.86731158, 23.86731158, 23.86731158, 23.86731158, 23.86731158, 23.86731158, 23.86731158, 23.86731158, 23.86731158, 23.86731158, 23.86731158, 23.86731158, 23.86731158, 23.86731158, -6.0, -6.0, -6.0, -6.0, -6.0, -6.0, -6.0, -6.0, -6.0, -6.0, -6.0, -6.0, -6.0, -6.0, -6.0, -6.0, -6.0, -6.0, -6.0, -6.0, -6.0, -6.0, -6.0, -6.0, -6.0, -6.0, -6.0, -6.0, -6.0, -6.0, -6.0, -6.0, -6.0, -6.0, -6.0, -6.0, -6.0, -6.0, 28.0, 28.0, 28.0, 28.0, 28.0, 28.0, 28.0, 28.0, 28.0, 28.0, 28.0, 28.0, 28.0, 28.0, 28.0, 28.0, 28.0, 28.0, 28.0, 28.0, 28.0, 28.0, 28.0, 28.0, 28.0, 28.0, 28.0, 28.0, 28.0, 28.0, 28.0, 28.0, 28.0, 28.0, 28.0, 28.0, 28.0, 28.0, 28.0, 28.0, 28.0, 28.0, 28.0, 28.0, 28.0, 28.0, 28.0, 28.0, 28.0, 28.0, 36.0, 36.0, 36.0, 36.0, 36.0, 36.0, 36.0, 36.0, 36.0, 36.0, 36.0, 36.0, 36.0, 36.0, 36.0, 36.0, 36.0, 36.0, 36.0, 36.0, 36.0, 36.0, 36.0, 36.0, 36.0, 36.0, 36.0, 36.0, 36.0, 36.0, 36.0, 36.0, 36.0, 36.0, 36.0, 36.0, 36.0, 36.0, 36.0, 36.0, 36.0, 36.0, 36.0, 36.0, 36.0, 36.0, 36.0, 36.0, 36.0, 36.0, 36.0, 36.0, 36.0, 36.0, 36.0, 36.0, 36.0, 36.0, 36.0, 36.0, 36.0, 36.0, 36.0, 36.0, 36.0, 36.0, 36.0, 36.0, 36.0, 36.0, 36.0, 36.0, 36.0, 36.0, 36.0, 36.0, 36.0, 36.0, 36.0, 36.0, 36.0, 36.0, 36.0, 36.0, 36.0, 36.0, 36.0, 36.0, 36.0, 36.0, 36.0, 36.0, 36.0, 36.0, 36.0, 36.0, 36.0, 36.0, 36.0, 36.0, 36.0, 36.0, 36.0, 36.0, 36.0, 36.0, 36.0, 36.0, 36.0, 36.0, 36.0, 36.0, 36.0, 36.0, 36.0, 36.0, 36.0, 36.0, 36.0, 36.0, 36.0, 36.0, 36.0, 36.0, 36.0, 36.0, 36.0, 36.0, 36.0, 36.0, 36.0, 36.0, 36.0, 36.0, 36.0, 36.0, 36.0, 36.0, 36.0, 36.0, 36.0, 36.0, 36.0, 36.0, 36.0, 36.0, 36.0, 36.0, 36.0, 36.0, 36.0, 36.0, 36.0, 36.0, 36.0, 36.0, 36.0, 36.0, 36.0, 36.0, 36.0, 36.0, 36.0, 36.0, 36.0, 36.0, 36.0, 36.0, 36.0, 36.0, 36.0, 36.0, 36.0, 36.0, 36.0, 36.0, 36.0, 36.0, 36.0, 36.0, 36.0, 36.0, 36.0, 36.0], \"lon\": [80.64, 80.64, 80.64, 80.64, 80.64, 80.64, 80.64, 80.64, 80.64, 80.64, 80.64, 80.64, 80.64, 80.64, 80.64, 80.64, 80.64, 80.64, 80.64, 80.64, 80.64, 80.64, 80.64, 80.64, 80.64, 80.64, 80.64, 90.23812743, 90.23812743, 90.23812743, 90.23812743, 90.23812743, 90.23812743, 90.23812743, 90.23812743, 90.23812743, 90.23812743, 90.23812743, 90.23812743, 90.23812743, 90.23812743, 90.23812743, 90.23812743, 90.23812743, 90.23812743, 155.0, 155.0, 155.0, 155.0, 155.0, 155.0, 155.0, 155.0, 155.0, 155.0, 155.0, 155.0, 155.0, 155.0, 155.0, 155.0, 155.0, 155.0, 155.0, 155.0, 155.0, 155.0, 155.0, 155.0, 155.0, 155.0, 155.0, 155.0, 155.0, 155.0, 155.0, 155.0, 155.0, 155.0, 155.0, 155.0, 155.0, 155.0, 109.00000000000001, 109.00000000000001, 109.00000000000001, 109.00000000000001, 109.00000000000001, 109.00000000000001, 109.00000000000001, 109.00000000000001, 109.00000000000001, 109.00000000000001, 109.00000000000001, 109.00000000000001, 109.00000000000001, 109.00000000000001, 109.00000000000001, 109.00000000000001, 109.00000000000001, 109.00000000000001, 109.00000000000001, 109.00000000000001, 109.00000000000001, 109.00000000000001, 109.00000000000001, 109.00000000000001, 109.00000000000001, 109.00000000000001, 109.00000000000001, 109.00000000000001, 109.00000000000001, 109.00000000000001, 109.00000000000001, 109.00000000000001, 109.00000000000001, 109.00000000000001, 109.00000000000001, 109.00000000000001, 109.00000000000001, 109.00000000000001, 109.00000000000001, 109.00000000000001, 109.00000000000001, 109.00000000000001, 109.00000000000001, 109.00000000000001, 109.00000000000001, 109.00000000000001, 109.00000000000001, 109.00000000000001, 109.00000000000001, 109.00000000000001, 71.5, 71.5, 71.5, 71.5, 71.5, 71.5, 71.5, 71.5, 71.5, 71.5, 71.5, 71.5, 71.5, 71.5, 71.5, 71.5, 71.5, 71.5, 71.5, 71.5, 71.5, 71.5, 71.5, 71.5, 71.5, 71.5, 71.5, 71.5, 71.5, 71.5, 71.5, 71.5, 71.5, 71.5, 71.5, 71.5, 71.5, 71.5, 71.5, 71.5, 71.5, 71.5, 71.5, 71.5, 71.5, 71.5, 71.5, 71.5, 71.5, 71.5, 71.5, 71.5, 71.5, 71.5, 71.5, 71.5, 71.5, 71.5, 71.5, 71.5, 71.5, 71.5, 71.5, 71.5, 71.5, 71.5, 71.5, 71.5, 71.5, 71.5, 71.5, 71.5, 71.5, 71.5, 71.5, 71.5, 71.5, 71.5, 71.5, 71.5, 71.5, 71.5, 71.5, 71.5, 71.5, 71.5, 71.5, 71.5, 71.5, 71.5, 71.5, 71.5, 71.5, 71.5, 71.5, 71.5, 71.5, 71.5, 71.5, 71.5, 71.5, 71.5, 71.5, 71.5, 71.5, 71.5, 71.5, 71.5, 71.5, 71.5, 71.5, 71.5, 71.5, 71.5, 71.5, 71.5, 71.5, 71.5, 71.5, 71.5, 71.5, 71.5, 71.5, 71.5, 71.5, 71.5, 71.5, 71.5, 71.5, 71.5, 71.5, 71.5, 71.5, 71.5, 71.5, 71.5, 71.5, 71.5, 71.5, 71.5, 71.5, 71.5, 71.5, 71.5, 71.5, 71.5, 71.5, 71.5, 71.5, 71.5, 71.5, 71.5, 71.5, 71.5, 71.5, 71.5, 71.5, 71.5, 71.5, 71.5, 71.5, 71.5, 71.5, 71.5, 71.5, 71.5, 71.5, 71.5, 71.5, 71.5, 71.5, 71.5, 71.5, 71.5, 71.5, 71.5, 71.5, 71.5, 71.5, 71.5, 71.5, 71.5, 71.5, 71.5], \"marker\": {\"size\": 5, \"symbol\": \"square\"}, \"text\": [\"Indian Telugu\", \"Indian Telugu\", \"Indian Telugu\", \"Indian Telugu\", \"Indian Telugu\", \"Indian Telugu\", \"Indian Telugu\", \"Indian Telugu\", \"Indian Telugu\", \"Indian Telugu\", \"Indian Telugu\", \"Indian Telugu\", \"Indian Telugu\", \"Indian Telugu\", \"Indian Telugu\", \"Indian Telugu\", \"Indian Telugu\", \"Indian Telugu\", \"Indian Telugu\", \"Indian Telugu\", \"Indian Telugu\", \"Indian Telugu\", \"Indian Telugu\", \"Indian Telugu\", \"Indian Telugu\", \"Indian Telugu\", \"Indian Telugu\", \"Bengali\", \"Bengali\", \"Bengali\", \"Bengali\", \"Bengali\", \"Bengali\", \"Bengali\", \"Bengali\", \"Bengali\", \"Bengali\", \"Bengali\", \"UNK\", \"UNK\", \"UNK\", \"UNK\", \"UNK\", \"UNK\", \"Bengali\", \"Bougainville\", \"Bougainville\", \"Bougainville\", \"Bougainville\", \"Bougainville\", \"Bougainville\", \"Bougainville\", \"Bougainville\", \"Bougainville\", \"Bougainville\", \"Bougainville\", \"Bougainville\", \"Bougainville\", \"Bougainville\", \"Bougainville\", \"Bougainville\", \"Bougainville\", \"Bougainville\", \"Bougainville\", \"Bougainville\", \"Bougainville\", \"Bougainville\", \"Bougainville\", \"Bougainville\", \"Bougainville\", \"Bougainville\", \"Bougainville\", \"Bougainville\", \"Bougainville\", \"Bougainville\", \"Bougainville\", \"Bougainville\", \"Bougainville\", \"Bougainville\", \"Bougainville\", \"Bougainville\", \"Bougainville\", \"Bougainville\", \"Miao\", \"Miao\", \"Miao\", \"Miao\", \"Miao\", \"Miao\", \"Miao\", \"Miao\", \"Miao\", \"Miao\", \"Miao\", \"Miao\", \"Miao\", \"Miao\", \"Miao\", \"Miao\", \"Miao\", \"Miao\", \"Miao\", \"Miao\", \"Miao\", \"Miao\", \"Miao\", \"Miao\", \"Miao\", \"Miao\", \"Miao\", \"Miao\", \"Miao\", \"Miao\", \"Miao\", \"Miao\", \"Miao\", \"Miao\", \"Miao\", \"Miao\", \"Miao\", \"Miao\", \"Miao\", \"Miao\", \"Miao\", \"Miao\", \"Miao\", \"Miao\", \"Miao\", \"Miao\", \"Miao\", \"UNK\", \"UNK\", \"UNK\", \"UNK\", \"UNK\", \"UNK\", \"Kalash\", \"Kalash\", \"Kalash\", \"Kalash\", \"Kalash\", \"Kalash\", \"Kalash\", \"Kalash\", \"Kalash\", \"Kalash\", \"Kalash\", \"UNK\", \"UNK\", \"UNK\", \"UNK\", \"UNK\", \"UNK\", \"Kalash\", \"Kalash\", \"Kalash\", \"Kalash\", \"Kalash\", \"Kalash\", \"Kalash\", \"Kalash\", \"Kalash\", \"Kalash\", \"Kalash\", \"Kalash\", \"Kalash\", \"Kalash\", \"Kalash\", \"Kalash\", \"Kalash\", \"Kalash\", \"Kalash\", \"Kalash\", \"Kalash\", \"Kalash\", \"Kalash\", \"Kalash\", \"Kalash\", \"Kalash\", \"Kalash\", \"Kalash\", \"Kalash\", \"Kalash\", \"Kalash\", \"Kalash\", \"Kalash\", \"Kalash\", \"Kalash\", \"Kalash\", \"Kalash\", \"Kalash\", \"Kalash\", \"Kalash\", \"Kalash\", \"Kalash\", \"Kalash\", \"Kalash\", \"Kalash\", \"Kalash\", \"Kalash\", \"Kalash\", \"Kalash\", \"Kalash\", \"Kalash\", \"Kalash\", \"Kalash\", \"Kalash\", \"Kalash\", \"Kalash\", \"Kalash\", \"Kalash\", \"Kalash\", \"Kalash\", \"Kalash\", \"Kalash\", \"Kalash\", \"Kalash\", \"Kalash\", \"Kalash\", \"Kalash\", \"Kalash\", \"Kalash\", \"Kalash\", \"Kalash\", \"Kalash\", \"Kalash\", \"Kalash\", \"Kalash\", \"Kalash\", \"Kalash\", \"Kalash\", \"Kalash\", \"Kalash\", \"Kalash\", \"Kalash\", \"Kalash\", \"Kalash\", \"Kalash\", \"Kalash\", \"Kalash\", \"Kalash\", \"Kalash\", \"Kalash\", \"Kalash\", \"Kalash\", \"Kalash\", \"Kalash\", \"Kalash\", \"Kalash\", \"Kalash\", \"Kalash\", \"Kalash\", \"Kalash\", \"Kalash\", \"Kalash\", \"Kalash\", \"Kalash\", \"Kalash\", \"Kalash\", \"Kalash\", \"Kalash\", \"Kalash\", \"Kalash\", \"Kalash\", \"Kalash\", \"Kalash\", \"Kalash\", \"Kalash\", \"Kalash\", \"Kalash\", \"Kalash\", \"Kalash\", \"Kalash\", \"Kalash\", \"Kalash\", \"Kalash\", \"Kalash\", \"Kalash\", \"Kalash\", \"Kalash\", \"Kalash\", \"Kalash\", \"Kalash\", \"Kalash\", \"Kalash\", \"Kalash\", \"Kalash\", \"Kalash\", \"Kalash\", \"Kalash\", \"Kalash\", \"Kalash\", \"Kalash\", \"Kalash\", \"Kalash\", \"Kalash\", \"Kalash\", \"Kalash\", \"Kalash\", \"Kalash\", \"Kalash\", \"Kalash\", \"Kalash\", \"Kalash\", \"Kalash\", \"Kalash\", \"Kalash\", \"Kalash\", \"Kalash\", \"Kalash\", \"Kalash\", \"Kalash\", \"Kalash\", \"Kalash\", \"Kalash\", \"Kalash\", \"Kalash\"], \"type\": \"scattergeo\"}],                        {\"template\": {\"data\": {\"bar\": [{\"error_x\": {\"color\": \"#2a3f5f\"}, \"error_y\": {\"color\": \"#2a3f5f\"}, \"marker\": {\"line\": {\"color\": \"#E5ECF6\", \"width\": 0.5}}, \"type\": \"bar\"}], \"barpolar\": [{\"marker\": {\"line\": {\"color\": \"#E5ECF6\", \"width\": 0.5}}, \"type\": \"barpolar\"}], \"carpet\": [{\"aaxis\": {\"endlinecolor\": \"#2a3f5f\", \"gridcolor\": \"white\", \"linecolor\": \"white\", \"minorgridcolor\": \"white\", \"startlinecolor\": \"#2a3f5f\"}, \"baxis\": {\"endlinecolor\": \"#2a3f5f\", \"gridcolor\": \"white\", \"linecolor\": \"white\", \"minorgridcolor\": \"white\", \"startlinecolor\": \"#2a3f5f\"}, \"type\": \"carpet\"}], \"choropleth\": [{\"colorbar\": {\"outlinewidth\": 0, \"ticks\": \"\"}, \"type\": \"choropleth\"}], \"contour\": [{\"colorbar\": {\"outlinewidth\": 0, \"ticks\": \"\"}, \"colorscale\": [[0.0, \"#0d0887\"], [0.1111111111111111, \"#46039f\"], [0.2222222222222222, \"#7201a8\"], [0.3333333333333333, \"#9c179e\"], [0.4444444444444444, \"#bd3786\"], [0.5555555555555556, \"#d8576b\"], [0.6666666666666666, \"#ed7953\"], [0.7777777777777778, \"#fb9f3a\"], [0.8888888888888888, \"#fdca26\"], [1.0, \"#f0f921\"]], \"type\": \"contour\"}], \"contourcarpet\": [{\"colorbar\": {\"outlinewidth\": 0, \"ticks\": \"\"}, \"type\": \"contourcarpet\"}], \"heatmap\": [{\"colorbar\": {\"outlinewidth\": 0, \"ticks\": \"\"}, \"colorscale\": [[0.0, \"#0d0887\"], [0.1111111111111111, \"#46039f\"], [0.2222222222222222, \"#7201a8\"], [0.3333333333333333, \"#9c179e\"], [0.4444444444444444, \"#bd3786\"], [0.5555555555555556, \"#d8576b\"], [0.6666666666666666, \"#ed7953\"], [0.7777777777777778, \"#fb9f3a\"], [0.8888888888888888, \"#fdca26\"], [1.0, \"#f0f921\"]], \"type\": \"heatmap\"}], \"heatmapgl\": [{\"colorbar\": {\"outlinewidth\": 0, \"ticks\": \"\"}, \"colorscale\": [[0.0, \"#0d0887\"], [0.1111111111111111, \"#46039f\"], [0.2222222222222222, \"#7201a8\"], [0.3333333333333333, \"#9c179e\"], [0.4444444444444444, \"#bd3786\"], [0.5555555555555556, \"#d8576b\"], [0.6666666666666666, \"#ed7953\"], [0.7777777777777778, \"#fb9f3a\"], [0.8888888888888888, \"#fdca26\"], [1.0, \"#f0f921\"]], \"type\": \"heatmapgl\"}], \"histogram\": [{\"marker\": {\"colorbar\": {\"outlinewidth\": 0, \"ticks\": \"\"}}, \"type\": \"histogram\"}], \"histogram2d\": [{\"colorbar\": {\"outlinewidth\": 0, \"ticks\": \"\"}, \"colorscale\": [[0.0, \"#0d0887\"], [0.1111111111111111, \"#46039f\"], [0.2222222222222222, \"#7201a8\"], [0.3333333333333333, \"#9c179e\"], [0.4444444444444444, \"#bd3786\"], [0.5555555555555556, \"#d8576b\"], [0.6666666666666666, \"#ed7953\"], [0.7777777777777778, \"#fb9f3a\"], [0.8888888888888888, \"#fdca26\"], [1.0, \"#f0f921\"]], \"type\": \"histogram2d\"}], \"histogram2dcontour\": [{\"colorbar\": {\"outlinewidth\": 0, \"ticks\": \"\"}, \"colorscale\": [[0.0, \"#0d0887\"], [0.1111111111111111, \"#46039f\"], [0.2222222222222222, \"#7201a8\"], [0.3333333333333333, \"#9c179e\"], [0.4444444444444444, \"#bd3786\"], [0.5555555555555556, \"#d8576b\"], [0.6666666666666666, \"#ed7953\"], [0.7777777777777778, \"#fb9f3a\"], [0.8888888888888888, \"#fdca26\"], [1.0, \"#f0f921\"]], \"type\": \"histogram2dcontour\"}], \"mesh3d\": [{\"colorbar\": {\"outlinewidth\": 0, \"ticks\": \"\"}, \"type\": \"mesh3d\"}], \"parcoords\": [{\"line\": {\"colorbar\": {\"outlinewidth\": 0, \"ticks\": \"\"}}, \"type\": \"parcoords\"}], \"pie\": [{\"automargin\": true, \"type\": \"pie\"}], \"scatter\": [{\"marker\": {\"colorbar\": {\"outlinewidth\": 0, \"ticks\": \"\"}}, \"type\": \"scatter\"}], \"scatter3d\": [{\"line\": {\"colorbar\": {\"outlinewidth\": 0, \"ticks\": \"\"}}, \"marker\": {\"colorbar\": {\"outlinewidth\": 0, \"ticks\": \"\"}}, \"type\": \"scatter3d\"}], \"scattercarpet\": [{\"marker\": {\"colorbar\": {\"outlinewidth\": 0, \"ticks\": \"\"}}, \"type\": \"scattercarpet\"}], \"scattergeo\": [{\"marker\": {\"colorbar\": {\"outlinewidth\": 0, \"ticks\": \"\"}}, \"type\": \"scattergeo\"}], \"scattergl\": [{\"marker\": {\"colorbar\": {\"outlinewidth\": 0, \"ticks\": \"\"}}, \"type\": \"scattergl\"}], \"scattermapbox\": [{\"marker\": {\"colorbar\": {\"outlinewidth\": 0, \"ticks\": \"\"}}, \"type\": \"scattermapbox\"}], \"scatterpolar\": [{\"marker\": {\"colorbar\": {\"outlinewidth\": 0, \"ticks\": \"\"}}, \"type\": \"scatterpolar\"}], \"scatterpolargl\": [{\"marker\": {\"colorbar\": {\"outlinewidth\": 0, \"ticks\": \"\"}}, \"type\": \"scatterpolargl\"}], \"scatterternary\": [{\"marker\": {\"colorbar\": {\"outlinewidth\": 0, \"ticks\": \"\"}}, \"type\": \"scatterternary\"}], \"surface\": [{\"colorbar\": {\"outlinewidth\": 0, \"ticks\": \"\"}, \"colorscale\": [[0.0, \"#0d0887\"], [0.1111111111111111, \"#46039f\"], [0.2222222222222222, \"#7201a8\"], [0.3333333333333333, \"#9c179e\"], [0.4444444444444444, \"#bd3786\"], [0.5555555555555556, \"#d8576b\"], [0.6666666666666666, \"#ed7953\"], [0.7777777777777778, \"#fb9f3a\"], [0.8888888888888888, \"#fdca26\"], [1.0, \"#f0f921\"]], \"type\": \"surface\"}], \"table\": [{\"cells\": {\"fill\": {\"color\": \"#EBF0F8\"}, \"line\": {\"color\": \"white\"}}, \"header\": {\"fill\": {\"color\": \"#C8D4E3\"}, \"line\": {\"color\": \"white\"}}, \"type\": \"table\"}]}, \"layout\": {\"annotationdefaults\": {\"arrowcolor\": \"#2a3f5f\", \"arrowhead\": 0, \"arrowwidth\": 1}, \"autotypenumbers\": \"strict\", \"coloraxis\": {\"colorbar\": {\"outlinewidth\": 0, \"ticks\": \"\"}}, \"colorscale\": {\"diverging\": [[0, \"#8e0152\"], [0.1, \"#c51b7d\"], [0.2, \"#de77ae\"], [0.3, \"#f1b6da\"], [0.4, \"#fde0ef\"], [0.5, \"#f7f7f7\"], [0.6, \"#e6f5d0\"], [0.7, \"#b8e186\"], [0.8, \"#7fbc41\"], [0.9, \"#4d9221\"], [1, \"#276419\"]], \"sequential\": [[0.0, \"#0d0887\"], [0.1111111111111111, \"#46039f\"], [0.2222222222222222, \"#7201a8\"], [0.3333333333333333, \"#9c179e\"], [0.4444444444444444, \"#bd3786\"], [0.5555555555555556, \"#d8576b\"], [0.6666666666666666, \"#ed7953\"], [0.7777777777777778, \"#fb9f3a\"], [0.8888888888888888, \"#fdca26\"], [1.0, \"#f0f921\"]], \"sequentialminus\": [[0.0, \"#0d0887\"], [0.1111111111111111, \"#46039f\"], [0.2222222222222222, \"#7201a8\"], [0.3333333333333333, \"#9c179e\"], [0.4444444444444444, \"#bd3786\"], [0.5555555555555556, \"#d8576b\"], [0.6666666666666666, \"#ed7953\"], [0.7777777777777778, \"#fb9f3a\"], [0.8888888888888888, \"#fdca26\"], [1.0, \"#f0f921\"]]}, \"colorway\": [\"#636efa\", \"#EF553B\", \"#00cc96\", \"#ab63fa\", \"#FFA15A\", \"#19d3f3\", \"#FF6692\", \"#B6E880\", \"#FF97FF\", \"#FECB52\"], \"font\": {\"color\": \"#2a3f5f\"}, \"geo\": {\"bgcolor\": \"white\", \"lakecolor\": \"white\", \"landcolor\": \"#E5ECF6\", \"showlakes\": true, \"showland\": true, \"subunitcolor\": \"white\"}, \"hoverlabel\": {\"align\": \"left\"}, \"hovermode\": \"closest\", \"mapbox\": {\"style\": \"light\"}, \"paper_bgcolor\": \"white\", \"plot_bgcolor\": \"#E5ECF6\", \"polar\": {\"angularaxis\": {\"gridcolor\": \"white\", \"linecolor\": \"white\", \"ticks\": \"\"}, \"bgcolor\": \"#E5ECF6\", \"radialaxis\": {\"gridcolor\": \"white\", \"linecolor\": \"white\", \"ticks\": \"\"}}, \"scene\": {\"xaxis\": {\"backgroundcolor\": \"#E5ECF6\", \"gridcolor\": \"white\", \"gridwidth\": 2, \"linecolor\": \"white\", \"showbackground\": true, \"ticks\": \"\", \"zerolinecolor\": \"white\"}, \"yaxis\": {\"backgroundcolor\": \"#E5ECF6\", \"gridcolor\": \"white\", \"gridwidth\": 2, \"linecolor\": \"white\", \"showbackground\": true, \"ticks\": \"\", \"zerolinecolor\": \"white\"}, \"zaxis\": {\"backgroundcolor\": \"#E5ECF6\", \"gridcolor\": \"white\", \"gridwidth\": 2, \"linecolor\": \"white\", \"showbackground\": true, \"ticks\": \"\", \"zerolinecolor\": \"white\"}}, \"shapedefaults\": {\"line\": {\"color\": \"#2a3f5f\"}}, \"ternary\": {\"aaxis\": {\"gridcolor\": \"white\", \"linecolor\": \"white\", \"ticks\": \"\"}, \"baxis\": {\"gridcolor\": \"white\", \"linecolor\": \"white\", \"ticks\": \"\"}, \"bgcolor\": \"#E5ECF6\", \"caxis\": {\"gridcolor\": \"white\", \"linecolor\": \"white\", \"ticks\": \"\"}}, \"title\": {\"x\": 0.05}, \"xaxis\": {\"automargin\": true, \"gridcolor\": \"white\", \"linecolor\": \"white\", \"ticks\": \"\", \"title\": {\"standoff\": 15}, \"zerolinecolor\": \"white\", \"zerolinewidth\": 2}, \"yaxis\": {\"automargin\": true, \"gridcolor\": \"white\", \"linecolor\": \"white\", \"ticks\": \"\", \"title\": {\"standoff\": 15}, \"zerolinecolor\": \"white\", \"zerolinewidth\": 2}}}},                        {\"responsive\": true}                    ).then(function(){\n",
       "                            \n",
       "var gd = document.getElementById('d45efbd1-a8f2-4ac1-9c13-f4229c026c98');\n",
       "var x = new MutationObserver(function (mutations, observer) {{\n",
       "        var display = window.getComputedStyle(gd).display;\n",
       "        if (!display || display === 'none') {{\n",
       "            console.log([gd, 'removed!']);\n",
       "            Plotly.purge(gd);\n",
       "            observer.disconnect();\n",
       "        }}\n",
       "}});\n",
       "\n",
       "// Listen for the removal of the full notebook cells\n",
       "var notebookContainer = gd.closest('#notebook-container');\n",
       "if (notebookContainer) {{\n",
       "    x.observe(notebookContainer, {childList: true});\n",
       "}}\n",
       "\n",
       "// Listen for the clearing of the current output cell\n",
       "var outputEl = gd.closest('.output');\n",
       "if (outputEl) {{\n",
       "    x.observe(outputEl, {childList: true});\n",
       "}}\n",
       "\n",
       "                        })                };                });            </script>        </div>"
      ]
     },
     "metadata": {},
     "output_type": "display_data"
    }
   ],
   "source": [
    "lbl_coord=convert_coordinates(y_trueSample[:,0], y_trueSample[:,1], y_trueSample[:,2])\n",
    "pred_coord=convert_coordinates(y_predSample[:,0], y_predSample[:,1], y_predSample[:,2])\n",
    "granularPopNames=namesSample\n",
    "plot_coordinates_map(granularPopNames, pred_coord, lbl_coord, pred_cps=pred_cps_BOCD, cpShow=True)"
   ]
  },
  {
   "cell_type": "code",
   "execution_count": 419,
   "metadata": {
    "collapsed": true
   },
   "outputs": [],
   "source": [
    "def rawGcd(self, input_y, target):\n",
    "    if torch.is_tensor(input_y):\n",
    "        return torch.acos(torch.sum(input_y * target, dim=-1).clamp(-1.0 + self.eps, 1.0 - self.eps)) * self.earth_radius\n",
    "    elif isinstance(input_y, np.ndarray):\n",
    "        return np.arccos(np.clip(np.sum(input_y * target, axis=-1), a_min=-1.0 + self.eps, a_max=1.0 - self.eps)) * self.earth_radius"
   ]
  },
  {
   "cell_type": "code",
   "execution_count": 33,
   "metadata": {
    "collapsed": true
   },
   "outputs": [],
   "source": [
    "def gcd_loss(y_pred, y, mask=None):\n",
    "    if mask is not None: \n",
    "        print(mask.shape)\n",
    "        mask=mask.astype(int)\n",
    "    if mask is None:\n",
    "        mask = 1\n",
    "    eps = 1e-4\n",
    "    temp = np.arccos(np.clip(np.sum(y_pred * y, axis=-1),a_min=-1.0 + eps, a_max=1.0 - eps)).reshape(-1,1)\n",
    "    sum_gcd = np.sum(temp * 6371 * mask)\n",
    "    return sum_gcd"
   ]
  },
  {
   "cell_type": "code",
   "execution_count": 34,
   "metadata": {},
   "outputs": [
    {
     "name": "stdout",
     "output_type": "stream",
     "text": [
      "(317, 1)\n",
      "(317, 1)\n"
     ]
    },
    {
     "data": {
      "text/plain": [
       "{'PredCpMask': 996.5155942763969, 'no_mask': 1268.8211746035172}"
      ]
     },
     "execution_count": 34,
     "metadata": {},
     "output_type": "execute_result"
    }
   ],
   "source": [
    "loss_main={}\n",
    "\n",
    "loss_main['no_mask']=gcd_loss(y_predSample, y_trueSample)/317.0\n",
    "trueCpMask=(true_cpsSample==0)[...,np.newaxis]\n",
    "PredCpMask=(pred_cps_BOCD==0)[...,np.newaxis]\n",
    "# PredCpMask=np.repeat(PredCpMask,3,1)\n",
    "print(PredCpMask.shape)\n",
    "# loss_main['trueCpMask']=gcd_loss(y_predSample, y_trueSample, mask=trueCpMask)/trueCpMask.sum()\n",
    "loss_main['PredCpMask']=gcd_loss(y_predSample, y_trueSample, mask=PredCpMask)/(317.0-12.0)\n",
    "loss_main"
   ]
  },
  {
   "cell_type": "code",
   "execution_count": 35,
   "metadata": {},
   "outputs": [
    {
     "data": {
      "text/plain": [
       "290"
      ]
     },
     "execution_count": 35,
     "metadata": {},
     "output_type": "execute_result"
    }
   ],
   "source": [
    "np.sum(PredCpMask)"
   ]
  },
  {
   "cell_type": "code",
   "execution_count": null,
   "metadata": {},
   "outputs": [],
   "source": [
    "115498040.10265198/305"
   ]
  },
  {
   "cell_type": "code",
   "execution_count": null,
   "metadata": {},
   "outputs": [],
   "source": [
    "PredCpMask"
   ]
  },
  {
   "cell_type": "code",
   "execution_count": null,
   "metadata": {},
   "outputs": [],
   "source": [
    "PredCpMask.sum()"
   ]
  },
  {
   "cell_type": "code",
   "execution_count": null,
   "metadata": {},
   "outputs": [],
   "source": [
    "gcd_loss(y_predSample, y_trueSample, mask=PredCpMask)"
   ]
  },
  {
   "cell_type": "code",
   "execution_count": null,
   "metadata": {},
   "outputs": [],
   "source": [
    "y_predSample*PredCpMask"
   ]
  },
  {
   "cell_type": "code",
   "execution_count": null,
   "metadata": {},
   "outputs": [],
   "source": [
    "trueCpMask.sum()-PredCpMask.sum()"
   ]
  },
  {
   "cell_type": "code",
   "execution_count": null,
   "metadata": {},
   "outputs": [],
   "source": [
    "unknownIdx=np.nonzero(pred_cps_BOCD)[0]\n",
    "gcdUnknownIdx=GcdLoss()(y_predSample[unknownIdx,:], y_trueSample[unknownIdx,:])/12.0\n",
    "gcdUnknownIdx"
   ]
  },
  {
   "cell_type": "code",
   "execution_count": null,
   "metadata": {
    "collapsed": true
   },
   "outputs": [],
   "source": [
    "unknownIdx"
   ]
  },
  {
   "cell_type": "code",
   "execution_count": null,
   "metadata": {
    "collapsed": true
   },
   "outputs": [],
   "source": [
    "knownIdx=np.delete(np.arange(317), unknownIdx)\n",
    "knownIdx"
   ]
  },
  {
   "cell_type": "code",
   "execution_count": null,
   "metadata": {
    "collapsed": true
   },
   "outputs": [],
   "source": [
    "gcdUnknownIdxSum=GcdLoss()(y_predSample[unknownIdx,:], y_trueSample[unknownIdx,:])\n",
    "AllIdxSum = GcdLoss()(y_predSample, y_trueSample)\n",
    "knownIdxSum = GcdLoss()(y_predSample[knownIdx,:], y_trueSample[knownIdx,:])\n",
    "print(AllIdxSum, knownIdxSum, gcdUnknownIdxSum)\n",
    "print(AllIdxSum/317.0, knownIdxSum/(317.0-12.0), gcdUnknownIdxSum/12.0)"
   ]
  },
  {
   "cell_type": "code",
   "execution_count": null,
   "metadata": {
    "collapsed": true
   },
   "outputs": [],
   "source": [
    "def plot_changepoints(true_cps, pred_cps, y_pred, bocp_rl, y_var, popNames):\n",
    "    fig, ax = plt.subplots(4,1,figsize=[18,20])\n",
    "    T=len(true_cps)\n",
    "    ax[0].plot(y_pred)\n",
    "    ax[0].text(0, np.max(y_pred)-0.5, s=popNames[0], size=15)\n",
    "    for i in np.nonzero(true_cps)[0]:\n",
    "        ax[0].plot([i,i], [np.min(y_pred), np.max(y_pred)], 'r' )\n",
    "        ax[0].text(i, np.max(y_pred)-0.5, s=popNames[i+1], size=15)\n",
    "    \n",
    "    ax[1].plot(np.arange(T+1), bocp_rl)\n",
    "    ax[2].plot(pred_cps)\n",
    "    ax[3].plot(true_cps)\n",
    "    \n",
    "    ax[0].set_title(\"n_vectors\")\n",
    "    ax[1].set_title(\"BOCD (post process) run_length\")\n",
    "    ax[2].set_title(\"BOCD (post process) cp\")\n",
    "    ax[3].set_title(\"True Cps\")\n",
    "    plt.show()"
   ]
  },
  {
   "cell_type": "code",
   "execution_count": null,
   "metadata": {
    "collapsed": true,
    "scrolled": false
   },
   "outputs": [],
   "source": [
    "y_var=y_predSample[:,1:]-y_predSample[:,:-1]\n",
    "bocp_rlSample=model_cpd.cp.detach().cpu().numpy()[index,:]\n",
    "plot_changepoints(true_cpsSample, pred_cps_BOCD, y_predSample, bocp_rlSample, y_var, namesSample)"
   ]
  },
  {
   "cell_type": "code",
   "execution_count": null,
   "metadata": {
    "collapsed": true
   },
   "outputs": [],
   "source": [
    "y_predSample.shape"
   ]
  },
  {
   "cell_type": "code",
   "execution_count": null,
   "metadata": {
    "collapsed": true
   },
   "outputs": [],
   "source": [
    "lbl_coord=convert_coordinates(y_trueSample[:,0], y_trueSample[:,1], y_trueSample[:,2])\n",
    "pred_coord=convert_coordinates(y_predSample[:,0], y_predSample[:,1], y_predSample[:,2])\n",
    "granularPopNames=namesSample\n",
    "plot_coordinates_map(granularPopNames, pred_coord, lbl_coord, pred_cps=pred_cps_BOCD, cpShow=True)"
   ]
  },
  {
   "cell_type": "code",
   "execution_count": null,
   "metadata": {
    "collapsed": true,
    "scrolled": false
   },
   "outputs": [],
   "source": [
    "lbl_coord=convert_coordinates(y_trueSample[:,0], y_trueSample[:,1], y_trueSample[:,2])\n",
    "pred_coord=convert_coordinates(y_predSample[:,0], y_predSample[:,1], y_predSample[:,2])\n",
    "granularPopNames=namesSample\n",
    "plot_coordinates_map(granularPopNames, pred_coord, lbl_coord, pred_cps=pred_cps_BOCD, cpShow=True)"
   ]
  },
  {
   "cell_type": "code",
   "execution_count": 381,
   "metadata": {
    "collapsed": true
   },
   "outputs": [],
   "source": [
    "idxOfInterest=np.unique(np.nonzero(test_dataset.data['granular_pop']==granular_pop_dict[\"Bougainville\"])[0])"
   ]
  },
  {
   "cell_type": "code",
   "execution_count": 382,
   "metadata": {},
   "outputs": [
    {
     "data": {
      "text/plain": [
       "array([ 436,  437,  571,  596,  634,  749,  782,  849,  956, 1055, 1162,\n",
       "       1219, 1277, 1352, 1376, 1380, 1402, 1591, 1619, 1634, 1655, 2058,\n",
       "       2183, 2208, 2335, 2381, 2386, 2411, 2423, 2460, 2496, 2512, 2542,\n",
       "       2570, 2694, 2742, 2811, 2892, 2957])"
      ]
     },
     "execution_count": 382,
     "metadata": {},
     "output_type": "execute_result"
    }
   ],
   "source": [
    "idxOfInterest"
   ]
  },
  {
   "cell_type": "code",
   "execution_count": null,
   "metadata": {
    "collapsed": true
   },
   "outputs": [],
   "source": [
    "@timer\n",
    "def plot_all(ax, y_preds, superpops, **kwargs):\n",
    "    cpShow=kwargs.get('cpShow')\n",
    "    pred_cps=kwargs.get('pred_cps')    \n",
    "    continentaPops=list(superop_dict.values())\n",
    "    colors_pop = sns.color_palette(\"bright\", 10)\n",
    "    del colors_pop[1]\n",
    "    del colors_pop[4]\n",
    "    del colors_pop[5]\n",
    "    colors_pop_dict = {k:v for k,v in zip(continentaPops, colors_pop)}\n",
    "    \n",
    "    alpha=[0.03]*len(y_preds)\n",
    "    if cpShow is None:\n",
    "        alpha=(pred_cps==0).astype(float)\n",
    "    \n",
    "    ax.scatter(y_preds[:,0], y_preds[:,1], y_preds[:,2], \\\n",
    "               color = [colors_pop_dict[x]+(y,) for x,y in zip(superpops, alpha)], marker=\".\", s=0.05,zorder=-1) \n",
    "    \n",
    "    patches=[]\n",
    "    for k, val in superop_dict.items():\n",
    "        patches.append(mpatches.Patch(color = colors_pop_dict[val], label = k))\n",
    "    lgnd = ax.legend(handles=patches, loc=\"upper right\", fontsize=15)\n",
    "    return lgnd, colors_pop_dict\n"
   ]
  },
  {
   "cell_type": "code",
   "execution_count": null,
   "metadata": {
    "collapsed": true
   },
   "outputs": [],
   "source": [
    "y_preds=results.t_out.coord_main\n",
    "y_predCps=getCpPred(cpMethod.gradient.name, y_predSample, 0.1, y_preds.shape[0], y_preds.shape[1])\n",
    "y_predCps=y_predCps.reshape(-1,)\n",
    "y_preds=y_preds.reshape(-1,3)\n",
    "superpops=test_dataset.data['superpop'].reshape(-1,)"
   ]
  },
  {
   "cell_type": "code",
   "execution_count": 376,
   "metadata": {},
   "outputs": [
    {
     "data": {
      "text/plain": [
       "{'Abkhasian': 114,\n",
       " 'Adygei': 70,\n",
       " 'Albanian': 115,\n",
       " 'Altaian': 87,\n",
       " 'Ami': 97,\n",
       " 'Armenian': 116,\n",
       " 'Atayal': 98,\n",
       " 'Australian': 74,\n",
       " 'Balochi': 22,\n",
       " 'BantuHerero': 76,\n",
       " 'BantuKenya': 71,\n",
       " 'BantuSouthAfrica': 49,\n",
       " 'BantuTswana': 77,\n",
       " 'Basque': 69,\n",
       " 'Bedouin': 36,\n",
       " 'Bengali': 10,\n",
       " 'Bergamo_Italian': 53,\n",
       " 'Biaka': 30,\n",
       " 'Bougainville': 31,\n",
       " 'Brahmin': 105,\n",
       " 'Brahui': 21,\n",
       " 'British': 0,\n",
       " 'Bulgarian': 117,\n",
       " 'Burmese': 99,\n",
       " 'Burusho': 28,\n",
       " 'Cambodian': 40,\n",
       " 'Chane': 83,\n",
       " 'Chechen': 118,\n",
       " 'Colombian': 39,\n",
       " 'Crete': 75,\n",
       " 'Czech': 119,\n",
       " 'Dai': 64,\n",
       " 'Dai Chinese': 3,\n",
       " 'Daur': 57,\n",
       " 'Dinka': 72,\n",
       " 'Druze': 35,\n",
       " 'Dusun': 103,\n",
       " 'Esan': 9,\n",
       " 'Eskimo_Chaplin': 88,\n",
       " 'Eskimo_Naukan': 89,\n",
       " 'Eskimo_Sireniki': 90,\n",
       " 'Estonian': 120,\n",
       " 'Even': 91,\n",
       " 'Finnish': 1,\n",
       " 'French': 32,\n",
       " 'Gambian Mandinka': 8,\n",
       " 'Georgian_Mingrelian': 121,\n",
       " 'Greek': 122,\n",
       " 'Gujarati': 20,\n",
       " 'Han': 41,\n",
       " 'Han Chinese': 15,\n",
       " 'Hazara': 23,\n",
       " 'Hezhen': 59,\n",
       " 'Hungarian': 123,\n",
       " 'Icelandic': 124,\n",
       " 'Igorot': 104,\n",
       " 'Indian Telugu': 13,\n",
       " 'Iranian': 125,\n",
       " 'Iraqi_Jew': 126,\n",
       " 'Irula': 106,\n",
       " 'Itelman': 92,\n",
       " 'Japanese': 16,\n",
       " 'Jordanian': 127,\n",
       " 'Kalash': 27,\n",
       " 'Kapu': 107,\n",
       " 'Karitiana': 50,\n",
       " 'Khomani_San': 78,\n",
       " 'Khonda_Dora': 108,\n",
       " 'Kinh Vietnamese': 7,\n",
       " 'Korean': 100,\n",
       " 'Kusunda': 109,\n",
       " 'Kyrgyz': 93,\n",
       " 'Lahu': 65,\n",
       " 'Lezgin': 102,\n",
       " 'Luhya': 17,\n",
       " 'Luo': 79,\n",
       " 'Madiga': 110,\n",
       " 'Makrani': 24,\n",
       " 'Mala': 111,\n",
       " 'Mandenka': 46,\n",
       " 'Mansi': 94,\n",
       " 'Masai': 80,\n",
       " 'Maya': 44,\n",
       " 'Mbuti': 29,\n",
       " 'Mende': 11,\n",
       " 'Mexican-American': 18,\n",
       " 'Miao': 55,\n",
       " 'Mixe': 73,\n",
       " 'Mongolian': 58,\n",
       " 'Mozabite': 61,\n",
       " 'Naxi': 67,\n",
       " 'North_Ossetian': 128,\n",
       " 'NorthernHan': 62,\n",
       " 'Norwegian': 129,\n",
       " 'Orcadian': 42,\n",
       " 'Oroqen': 56,\n",
       " 'Palestinian': 38,\n",
       " 'PapuanHighlands': 34,\n",
       " 'PapuanSepik': 33,\n",
       " 'Pathan': 26,\n",
       " 'Peruvian': 5,\n",
       " 'Piapoco': 84,\n",
       " 'Pima': 51,\n",
       " 'Polish': 130,\n",
       " 'Punjabi': 6,\n",
       " 'Quechua': 85,\n",
       " 'Relli': 112,\n",
       " 'Russian': 45,\n",
       " 'Saami': 131,\n",
       " 'Saharawi': 81,\n",
       " 'Samaritan': 132,\n",
       " 'San': 48,\n",
       " 'Sardinian': 37,\n",
       " 'She': 66,\n",
       " 'Sindhi': 25,\n",
       " 'Somali': 82,\n",
       " 'Southern Han Chinese': 2,\n",
       " 'Spanish': 4,\n",
       " 'Sri Lankan': 12,\n",
       " 'Surui': 43,\n",
       " 'Tajik': 133,\n",
       " 'Thai': 101,\n",
       " 'Tu': 68,\n",
       " 'Tubalar': 95,\n",
       " 'Tujia': 52,\n",
       " 'Turkish_Cappadocia': 134,\n",
       " 'Tuscan': 19,\n",
       " 'Ulchi': 96,\n",
       " 'Uygur': 63,\n",
       " 'Xibo': 60,\n",
       " 'Yadava': 113,\n",
       " 'Yakut': 47,\n",
       " 'Yemenite_Jew': 135,\n",
       " 'Yi': 54,\n",
       " 'Yoruba': 14,\n",
       " 'Zapotec': 86}"
      ]
     },
     "execution_count": 376,
     "metadata": {},
     "output_type": "execute_result"
    }
   ],
   "source": [
    "granular_pop_dict"
   ]
  },
  {
   "cell_type": "code",
   "execution_count": null,
   "metadata": {
    "collapsed": true
   },
   "outputs": [],
   "source": []
  },
  {
   "cell_type": "code",
   "execution_count": null,
   "metadata": {
    "collapsed": true
   },
   "outputs": [],
   "source": []
  }
 ],
 "metadata": {
  "kernelspec": {
   "display_name": "Python 3",
   "language": "python",
   "name": "python3"
  },
  "language_info": {
   "codemirror_mode": {
    "name": "ipython",
    "version": 3
   },
   "file_extension": ".py",
   "mimetype": "text/x-python",
   "name": "python",
   "nbconvert_exporter": "python",
   "pygments_lexer": "ipython3",
   "version": "3.6.1"
  }
 },
 "nbformat": 4,
 "nbformat_minor": 2
}
