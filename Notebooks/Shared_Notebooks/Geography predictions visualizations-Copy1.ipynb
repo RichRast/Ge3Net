{
 "cells": [
  {
   "cell_type": "code",
   "execution_count": 1,
   "metadata": {},
   "outputs": [],
   "source": [
    "import torch\n",
    "import sys\n",
    "import os\n",
    "import os.path as osp\n",
    "import pandas as pd\n",
    "import numpy as np\n",
    "import itertools\n",
    "import matplotlib.pyplot as plt\n",
    "import seaborn as sns\n",
    "import plotly.graph_objects as go\n",
    "from mpl_toolkits.mplot3d import Axes3D\n",
    "from matplotlib import ticker\n",
    "import matplotlib as mpl\n",
    "from matplotlib.colors import LogNorm\n",
    "import matplotlib.patches as mpatches\n",
    "from sklearn.metrics import precision_recall_curve, recall_score, precision_score, \\\n",
    "balanced_accuracy_score, accuracy_score\n",
    "from sklearn import metrics\n",
    "import math"
   ]
  },
  {
   "cell_type": "code",
   "execution_count": 2,
   "metadata": {
    "collapsed": true
   },
   "outputs": [],
   "source": [
    "os.environ['USER_PATH']='/home/users/richras/Ge2Net_Repo'\n",
    "os.environ['USER_SCRATCH_PATH']=\"/scratch/users/richras\"\n",
    "os.environ['IN_PATH']='/scratch/groups/cdbustam/richras/data_in'\n",
    "os.environ['OUT_PATH']='/scratch/groups/cdbustam/richras/data_out'\n",
    "os.environ['LOG_PATH']='/scratch/groups/cdbustam/richras/logs/'"
   ]
  },
  {
   "cell_type": "code",
   "execution_count": 3,
   "metadata": {
    "collapsed": true
   },
   "outputs": [],
   "source": [
    "os.chdir(os.environ.get('USER_PATH'))"
   ]
  },
  {
   "cell_type": "code",
   "execution_count": 4,
   "metadata": {},
   "outputs": [],
   "source": [
    "%load_ext autoreload\n",
    "%autoreload 2\n",
    "from src.utils.dataUtil import load_path, save_file, vcf2npy\n",
    "from src.utils.modelUtil import Params, load_model, convert_coordinates\n",
    "from src.utils.labelUtil import nearestNeighbourMapping, repeat_pop_arr\n",
    "from src.utils.decorators import timer\n",
    "from src.models.modelSelection import modelSelect\n",
    "from src.models.modelParamsSelection import Selections\n",
    "from src.models import Model_A, Model_B, Model_C, BOCD\n",
    "from src.models.distributions import Multivariate_Gaussian\n",
    "from src.main.evaluation import eval_cp_batch, reportChangePointMetrics, t_prMetrics, cpMethod, eval_cp_matrix, \\\n",
    "getCpPred, GcdLoss\n",
    "from src.main.settings_model import parse_args\n",
    "from src.models.Ge3Net import Ge3NetBase\n",
    "from src.main.visualization import plot_changepoints\n",
    "import inference"
   ]
  },
  {
   "cell_type": "markdown",
   "metadata": {},
   "source": [
    "# load the model and use valid data "
   ]
  },
  {
   "cell_type": "code",
   "execution_count": 154,
   "metadata": {
    "collapsed": true
   },
   "outputs": [],
   "source": [
    "# Specify the dataset to be evaluated\n",
    "# chm22 pca full dataset and model\n",
    "labels_path = osp.join(os.environ['OUT_PATH'],'humans/labels/data_id_1_geo')\n",
    "data_path = osp.join(os.environ['OUT_PATH'],'humans/labels/data_id_1_geo')\n",
    "models_path=osp.join(os.environ['OUT_PATH'],'humans/training/Model_H_exp_id_16_data_id_1_geo/') \n",
    "dataset_type='test'"
   ]
  },
  {
   "cell_type": "code",
   "execution_count": 155,
   "metadata": {
    "scrolled": false
   },
   "outputs": [
    {
     "name": "stdout",
     "output_type": "stream",
     "text": [
      " device used: cuda\n",
      "Loading the datasets...\n",
      "Finished '_geoConvertLatLong2nVec' in 0.0629 secs\n",
      "Finished 'mapping_func' in 0.2733 secs\n",
      "Finished 'pop_mapping' in 0.1311 secs\n",
      "Finished 'pop_mapping' in 0.1120 secs\n",
      "Finished 'transform_data' in 33.7167 secs\n",
      "Finished '__init__' in 51.0282 secs\n",
      "Parameter count for model AuxNetwork:31752803\n",
      "Parameter count for model PositionalEncoding:0\n",
      "Parameter count for model attention_single:32342\n",
      "Parameter count for model FFNN:32548\n",
      "Parameter count for model BiRNN:35267\n",
      "Parameter count for model logits_Block:2289\n",
      "Total parameters:31855249\n",
      "best val loss metrics : {'loss_main': 995.0653403050862, 'loss_aux': 2294.696049436066, 'l1_loss': 0.23041217681144938, 'mse': 0.051787005034185804, 'smooth_l1': 0.025830070898158978, 'weighted_loss': 0.23041217681144938}\n",
      "at epoch : 114\n",
      "train loss metrics: {'loss_main': 347.652636652623, 'loss_aux': 1730.4453282180275, 'l1_loss': 0.08099115936034, 'mse': 0.007048857359342577, 'smooth_l1': 0.0035188891619404405, 'weighted_loss': 0.08099115936034}\n",
      "best val cp metrics : {'loss_cp': 0.2633955101546295, 'prMetrics': OrderedDict([('Precision', array(0.34249868)), ('Recall', array(0.65854122)), ('Accuracy', array(0.97808219)), ('A_major', array(0.98250436)), ('BalancedAccuracy', 0.8205227908987716)])}\n",
      "train cp metrics: {'loss_cp': 0.17930576412747293, 'prMetrics': OrderedDict([('Precision', array(0.35499957)), ('Recall', array(0.78518002)), ('Accuracy', array(0.98746352)), ('A_major', array(0.98902037)), ('BalancedAccuracy', 0.8871001955458037)])}\n",
      "best val sp metrics : None\n",
      "train sp metrics: None\n",
      "best val balanced gcd metrics : {'meanBalancedGcdSp': 1063.6214599609375, 'meanBalancedGcdGp': 1362.0052490234375, 'medianBalancedGcdSp': 1031.2762451171875, 'medianBalancedGcdGp': 1222.5335693359375, 'median': 675.734375}\n",
      "train balanced gcd metrics: {'meanBalancedGcdSp': 425.018798828125, 'meanBalancedGcdGp': 582.6218872070312, 'medianBalancedGcdSp': 346.7813415527344, 'medianBalancedGcdGp': 507.3817138671875, 'median': 228.29360961914062}\n",
      "Finished 'load_model' in 0.3638 secs\n",
      "is the model on cuda? : True\n",
      "Finished 'batchLoopValid' in 2.8932 secs\n",
      "Finished 'main' in 54.5485 secs\n"
     ]
    }
   ],
   "source": [
    "config={}\n",
    "config['data.labels']=labels_path \n",
    "config['data.dir']=data_path \n",
    "config['models.dir']=models_path\n",
    "config['data.dataset_type']=dataset_type\n",
    "config['cuda']='cuda'\n",
    "config['model.loadBest']=True\n",
    "json_path = osp.join(config['models.dir'], 'params.json')\n",
    "assert osp.isfile(json_path), \"No json configuration file found at {}\".format(json_path)\n",
    "params = Params(json_path)\n",
    "params.rtnOuts=True\n",
    "params.mc_dropout=False\n",
    "params.mc_samples=100\n",
    "params.cp_tol=1\n",
    "params.test_gens=[0,2,4,8]\n",
    "params.evalCp=True\n",
    "params.evalBalancedGcd=True\n",
    "params.evalExtraMainLosses=True\n",
    "results, test_dataset, model, _=inference.main(config, params)"
   ]
  },
  {
   "cell_type": "code",
   "execution_count": 156,
   "metadata": {
    "collapsed": true
   },
   "outputs": [],
   "source": [
    "# def load_model(model_path, model_init, optimizer=None):\n",
    "#     if not osp.exists(model_path):\n",
    "#         # ToDo look into the raise exception error not\n",
    "#         # coming from BaseException\n",
    "#         print(f'{model_path} does not exist')\n",
    "#         raise (f'{model_path} does not exist')\n",
    "        \n",
    "#     checkpoint = torch.load(model_path)\n",
    "\n",
    "#     print(f\"best val loss metrics : {checkpoint['val_accr']['t_accr']}\")\n",
    "#     print(f\"at epoch : {checkpoint['epoch']}\")\n",
    "#     print(f\"train loss metrics: {checkpoint['train_accr']['t_accr']}\")\n",
    "\n",
    "#     print(f\"best val cp metrics : {checkpoint['val_accr']['t_cp_accr']}\")\n",
    "#     print(f\"train cp metrics: {checkpoint['train_accr']['t_cp_accr']}\")\n",
    "\n",
    "#     print(f\"best val sp metrics : {checkpoint['val_accr']['t_sp_accr']}\")\n",
    "#     print(f\"train sp metrics: {checkpoint['train_accr']['t_sp_accr']}\")\n",
    "\n",
    "#     print(f\"best val balanced gcd metrics : {checkpoint['val_accr']['t_balanced_gcd']}\")\n",
    "#     print(f\"train balanced gcd metrics: {checkpoint['train_accr']['t_balanced_gcd']}\")\n",
    "    \n",
    "#     print(f\"checkpoint['model_state_dict']:{checkpoint['model_state_dict']}\")\n",
    "#     model_init.load_state_dict(checkpoint['model_state_dict'])\n",
    "         \n",
    "#     return model_init"
   ]
  },
  {
   "cell_type": "code",
   "execution_count": 157,
   "metadata": {
    "collapsed": true,
    "scrolled": true
   },
   "outputs": [],
   "source": [
    "# model_path = osp.join(config['models.dir'], 'models_dir')\n",
    "# modelOption=modelSelect.get_selection()\n",
    "# option = Selections.get_selection()\n",
    "# criterion = option['loss'][params.criteria](reduction='sum', alpha=params.criteria_alpha, geography=params.geography)\n",
    "# cp_criterion=option['cpMetrics']['loss_cp']\n",
    "# model_init = modelOption['models'][params.model](params, criterion, cp_criterion)\n",
    "# if config['model.loadBest']:\n",
    "#     model = load_model(''.join([str(model_path),'/best.pt']), model_init)\n",
    "# else:\n",
    "#     model= load_model(''.join([str(model_path),'/last.pt']), model_init)\n"
   ]
  },
  {
   "cell_type": "code",
   "execution_count": 158,
   "metadata": {},
   "outputs": [
    {
     "data": {
      "text/plain": [
       "True"
      ]
     },
     "execution_count": 158,
     "metadata": {},
     "output_type": "execute_result"
    }
   ],
   "source": [
    "model.to(params.device)\n",
    "next(model.parameters()).is_cuda"
   ]
  },
  {
   "cell_type": "code",
   "execution_count": 159,
   "metadata": {},
   "outputs": [
    {
     "data": {
      "text/plain": [
       "(1, 2964, 317, 3)"
      ]
     },
     "execution_count": 159,
     "metadata": {},
     "output_type": "execute_result"
    }
   ],
   "source": [
    "results.t_out.coord_main.shape"
   ]
  },
  {
   "cell_type": "code",
   "execution_count": 160,
   "metadata": {},
   "outputs": [
    {
     "data": {
      "text/plain": [
       "({'l1_loss': 0.22453060668279606,\n",
       "  'loss_aux': 2175.1303507494777,\n",
       "  'loss_main': 965.557691243396,\n",
       "  'mse': 0.0500500756070247,\n",
       "  'smooth_l1': 0.02495858528572663,\n",
       "  'weighted_loss': 0.22453060668279606},\n",
       " {'loss_cp': 0.3079994998160929,\n",
       "  'prMetrics': OrderedDict([('Precision', array(0.39587621)),\n",
       "               ('Recall', array(0.6727504)),\n",
       "               ('Accuracy', array(0.97734113)),\n",
       "               ('A_major', array(0.98252555)),\n",
       "               ('BalancedAccuracy', 0.8276379725376766)])})"
      ]
     },
     "execution_count": 160,
     "metadata": {},
     "output_type": "execute_result"
    }
   ],
   "source": [
    "results.t_accr, results.t_cp_accr"
   ]
  },
  {
   "cell_type": "code",
   "execution_count": 161,
   "metadata": {},
   "outputs": [
    {
     "data": {
      "text/plain": [
       "{'meanBalancedGcdGp': 1123.6915283203125,\n",
       " 'meanBalancedGcdSp': 1043.7244873046875,\n",
       " 'median': 646.1265258789062,\n",
       " 'medianBalancedGcdGp': 953.8239135742188,\n",
       " 'medianBalancedGcdSp': 1034.1541748046875}"
      ]
     },
     "execution_count": 161,
     "metadata": {},
     "output_type": "execute_result"
    }
   ],
   "source": [
    "results.t_balanced_gcd"
   ]
  },
  {
   "cell_type": "code",
   "execution_count": 162,
   "metadata": {
    "collapsed": true
   },
   "outputs": [],
   "source": [
    "results_coord_main=results.t_out.coord_main.mean(0)"
   ]
  },
  {
   "cell_type": "code",
   "execution_count": 163,
   "metadata": {},
   "outputs": [
    {
     "name": "stdout",
     "output_type": "stream",
     "text": [
      "Finished 'run_recursive' in 184.2847 secs\n"
     ]
    }
   ],
   "source": [
    "y_pred = results_coord_main\n",
    "n_vec_dim=y_pred.shape[-1]\n",
    "data_tensor = torch.tensor(y_pred).float()\n",
    "batch_size_cpd = data_tensor.shape[0]\n",
    "mu_prior = torch.zeros((batch_size_cpd, 1,n_vec_dim))\n",
    "mean_var=torch.mean(torch.var(data_tensor, dim =1),dim=0).unsqueeze(0)\n",
    "cov_prior = (mean_var.repeat(batch_size_cpd,1).unsqueeze(1)* torch.eye(n_vec_dim)).reshape(batch_size_cpd,1,n_vec_dim,n_vec_dim)\n",
    "cov_x = cov_prior\n",
    "likelihood_model = Multivariate_Gaussian(mu_prior, cov_prior, cov_x)\n",
    "T = params.n_win\n",
    "model_cpd = BOCD.BOCD(None, T, likelihood_model, batch_size_cpd)\n",
    "_,_,_,_=model_cpd.run_recursive(data_tensor, 'cpu')"
   ]
  },
  {
   "cell_type": "code",
   "execution_count": 164,
   "metadata": {
    "collapsed": true
   },
   "outputs": [],
   "source": [
    "granular_pop_dict = load_path(osp.join(labels_path, 'granular_pop.pkl'), en_pickle=True)\n",
    "superop_dict=load_path(osp.join(labels_path, 'superpop.pkl'), en_pickle=True)\n",
    "pop_sample_map=pd.read_csv(osp.join(labels_path, 'pop_sample_map.tsv'),sep=\"\\t\")\n",
    "pop_arr=repeat_pop_arr(pop_sample_map)\n",
    "cp_target=test_dataset.data['cps']\n",
    "seqlen=cp_target.shape[1]\n",
    "rev_pop_dict={v:k for k,v in granular_pop_dict.items()}"
   ]
  },
  {
   "cell_type": "code",
   "execution_count": 165,
   "metadata": {},
   "outputs": [
    {
     "data": {
      "text/plain": [
       "(2964, 317)"
      ]
     },
     "execution_count": 165,
     "metadata": {},
     "output_type": "execute_result"
    }
   ],
   "source": [
    "cp_target.shape"
   ]
  },
  {
   "cell_type": "code",
   "execution_count": 166,
   "metadata": {
    "scrolled": false
   },
   "outputs": [
    {
     "name": "stdout",
     "output_type": "stream",
     "text": [
      "980\n"
     ]
    }
   ],
   "source": [
    "# index = 2500\n",
    "# index=2620\n",
    "# index=2650\n",
    "# index=3000\n",
    "# index=3100\n",
    "# index=2300\n",
    "# index=2320\n",
    "# index=2338 #interesting Mansi pop\n",
    "# index=2339 # nice example showing Karitiana\n",
    "# index=2344 #interesting clusters of Mongolia\n",
    "# index=2346 # interesting African diversity\n",
    "# index=2355#int. Iranian sample\n",
    "# index=2366# Piapioco and Pima both\n",
    "# index=2388#int example\n",
    "# index=2398#Biaka/Luhya\n",
    "# index=2403#Quechua\n",
    "# index=2414#incorrect Khomani San\n",
    "# index=2421#uyugur\n",
    "# index=2465#balochi similar to MAkrani slave trade\n",
    "# index=2482# interesting Indo euro\n",
    "# index=2876 #icelandic example\n",
    "# index=3533 #San and icelandic\n",
    "# index=1007 #Surui\n",
    "# index=2974 #Surui nice example\n",
    "#1873# nice diversity of samples\n",
    "# index=np.random.choice(idxOfInterest)\n",
    "# index=830\n",
    "# index=511\n",
    "# index=1040 #San\n",
    "# index=2205#1007 #2205, for 3_geo\n",
    "index=980\n",
    "print(index)\n",
    "true_cpsSample=cp_target[index,:]\n",
    "y_predSample=results_coord_main[index,:]\n",
    "y_trueSample=test_dataset.data['y'][index,:]\n",
    "granularpopSample=test_dataset.data['granular_pop'][index,:]\n",
    "namesSample=[rev_pop_dict[i] for i in granularpopSample.astype(int)]"
   ]
  },
  {
   "cell_type": "code",
   "execution_count": 167,
   "metadata": {},
   "outputs": [
    {
     "data": {
      "text/plain": [
       "(317, 3)"
      ]
     },
     "execution_count": 167,
     "metadata": {},
     "output_type": "execute_result"
    }
   ],
   "source": [
    "y_predSample.shape"
   ]
  },
  {
   "cell_type": "code",
   "execution_count": 168,
   "metadata": {
    "collapsed": true
   },
   "outputs": [],
   "source": [
    "pred_cps=getCpPred(cpMethod.gradient.name, y_predSample, 0.1, 1, len(true_cpsSample))\n",
    "pred_cps=pred_cps.squeeze(0).detach().cpu().numpy()# squeeze the batch dimension of 1"
   ]
  },
  {
   "cell_type": "code",
   "execution_count": 169,
   "metadata": {
    "collapsed": true
   },
   "outputs": [],
   "source": [
    "predBOCDSample=model_cpd.cp[index,:]\n",
    "pred_cps_BOCD=getCpPred(cpMethod.BOCD.name, predBOCDSample, 5.0, 1, len(true_cpsSample))\n",
    "pred_cps_BOCD=pred_cps_BOCD.squeeze(0).detach().cpu().numpy()# squeeze the batch dimension of 1"
   ]
  },
  {
   "cell_type": "code",
   "execution_count": 170,
   "metadata": {
    "collapsed": true
   },
   "outputs": [],
   "source": [
    "cpIdx=np.nonzero(pred_cps_BOCD)[0]\n",
    "remWin=3\n",
    "for i in cpIdx:\n",
    "    low=max(0,i-remWin)\n",
    "    high=min(seqlen, i+remWin)\n",
    "    pred_cps_BOCD[low:high]=1"
   ]
  },
  {
   "cell_type": "code",
   "execution_count": 171,
   "metadata": {},
   "outputs": [
    {
     "name": "stdout",
     "output_type": "stream",
     "text": [
      "Finished 'nearestNeighbourMapping' in 0.1512 secs\n"
     ]
    }
   ],
   "source": [
    "mappedSpArr=nearestNeighbourMapping(labels_path, y_predSample.reshape(-1,3))\n",
    "# mappedSpArr=mappedSpArr.squeeze(1)"
   ]
  },
  {
   "cell_type": "code",
   "execution_count": 172,
   "metadata": {
    "collapsed": true
   },
   "outputs": [],
   "source": [
    "y_predsTrue=test_dataset.data['y'].reshape(-1,3)\n",
    "superpopsTrue=test_dataset.data['superpop'].reshape(-1,)"
   ]
  },
  {
   "cell_type": "code",
   "execution_count": 173,
   "metadata": {
    "collapsed": true
   },
   "outputs": [],
   "source": [
    "@timer\n",
    "def plot_sample(granularPopSample, y_predSample, y_trueSample, **kwargs):\n",
    "    backgroundAxis=kwargs.get('backgroundAxis')\n",
    "    y_predCps=kwargs.get('y_predCps')\n",
    "    y_preds=kwargs.get('y_preds')\n",
    "    superpops=kwargs.get('superpops')\n",
    "    cpShow=kwargs.get('cpShow')\n",
    "    pred_cps=kwargs.get('pred_cps')\n",
    "    mappedSpArr=kwargs.get('mappedSpArr')\n",
    "    fig, ax = plt.subplots(figsize=(12,14))\n",
    "    \n",
    "    gs1 = fig.add_gridspec(nrows=3, ncols=1, height_ratios=[13,1,1])\n",
    "    ax1=fig.add_subplot(gs1[0],projection='3d')\n",
    "    ax2=fig.add_subplot(gs1[1])\n",
    "    ax3=fig.add_subplot(gs1[2])\n",
    "    for axis in [ax, ax2, ax3]:\n",
    "        axis.set_yticks([])\n",
    "        axis.spines['top'].set_color('none')\n",
    "        axis.spines['left'].set_color('none')\n",
    "        axis.spines['right'].set_color('none')\n",
    "    ax.set_xticks([])\n",
    "    plt.subplots_adjust(hspace=0.01)\n",
    "    \n",
    "    if backgroundAxis is not None:\n",
    "        lgnd, colorsPop_sp_dict =plot_all(ax1, y_preds, superpops, cpShow=False)\n",
    "    else:\n",
    "        continentaPops=list(superop_dict.values())\n",
    "        colors_Sp = sns.color_palette(\"bright\", 10)\n",
    "        del colors_Sp[1]\n",
    "        del colors_Sp[4]\n",
    "        del colors_Sp[5]\n",
    "        colorsPop_sp_dict = {k:v for k,v in zip(continentaPops, colors_Sp)}\n",
    "        colorsPop_sp_dict[-1]=(0.7,0.7,0.7) # grey color\n",
    "        patches=[]\n",
    "        for k, val in superop_dict.items():\n",
    "            patches.append(mpatches.Patch(color = colorsPop_sp_dict[val], label = k))\n",
    "        lgnd = ax1.legend(handles=patches, loc=\"upper right\",fontsize=15)\n",
    "    ax1.add_artist(lgnd)    \n",
    "    colors_pop = sns.color_palette(\"rainbow\", len(np.unique(granularPopSample)))\n",
    "    colors_pop_dict = {k:v for k,v in zip(np.unique(granularPopSample), colors_pop)}\n",
    "\n",
    "    alpha=[1]*len(y_predSample)\n",
    "    if cpShow is None:\n",
    "#         alpha=(pred_cps==0).astype(float)\n",
    "        unknownIdx=np.nonzero(pred_cps)[0]\n",
    "        print(f\"number of changepoints removed:{len(unknownIdx)},{len(unknownIdx)/len(y_predSample)}\")\n",
    "        granularPopNames=[\"UNK\" if i in unknownIdx else granularPopSample[i] for i in range(len(granularPopSample))]\n",
    "        colors_pop_dict[\"UNK\"]=(0.9,0.9,0.9) # grey color\n",
    "        mappedSpArr[unknownIdx]=-1\n",
    "    \n",
    "    ax1.scatter(y_predSample[:,0], y_predSample[:,1], y_predSample[:,2], \\\n",
    "               color = [colors_pop_dict[x]+(y,) for x,y in zip(granularPopNames, alpha)], s=50, zorder=0) \n",
    "    ax1.scatter(y_trueSample[:,0], y_trueSample[:,1], y_trueSample[:,2], \\\n",
    "               color = [colors_pop_dict[x] for x in granularPopSample], marker='X', s=200, zorder=0)\n",
    "    \n",
    "    for axis in [ax1.xaxis, ax1.yaxis, ax1.zaxis]:\n",
    "        axis.set_pane_color((1.0, 1.0, 1.0, 0.0))\n",
    "        axis._axinfo[\"grid\"]['color'] = (1,1,1,0)\n",
    "    patches=[]\n",
    "    for i, val in enumerate(np.unique(granularPopSample)):\n",
    "        patches.append(mpatches.Patch(color = colors_pop_dict[val], label = val))\n",
    "    patches.append(mpatches.Patch(color = (0.9,0.9,0.9), label = \"UNK\"))\n",
    "    ax1.legend(handles=patches, loc=\"upper left\", fontsize=20)\n",
    "    \n",
    "    #chm plot ground truth\n",
    "    ax2.scatter(np.arange(len(y_trueSample)),np.ones(len(y_trueSample)),\\\n",
    "                color=[colors_pop_dict[x] for x in granularPopSample], marker='s')\n",
    "    ax2.set_title('Labeled Chromosome22', fontsize=30, y=0.3)\n",
    "    #chm plot of predictions\n",
    "    ax3.scatter(np.arange(len(mappedSpArr)),np.ones(len(mappedSpArr)),\\\n",
    "                color=[colorsPop_sp_dict[x]+(y,) for x,y in zip(mappedSpArr,alpha)], marker='s')\n",
    "    ax3.set_title('Predicted Chromosome22', fontsize=30, y=0.3)\n",
    "    \n",
    "    for ax in [ax2, ax3]:\n",
    "        ax.xaxis.set_major_locator(ticker.MultipleLocator(1.0))\n",
    "        ax.xaxis.set_minor_locator(ticker.MultipleLocator(4))\n",
    "        ax.xaxis.set_ticks_position('bottom')\n",
    "        ax.tick_params(which='major', width=2, length=10, labelsize=25)\n",
    "        ax.tick_params(which='minor', width=2, length=10, labelsize=10)\n",
    "        ax.set_xlim(0, 316)\n",
    "        ax.set_ylim(0.99,1.09)\n",
    "        positions = [0, 160, 300]\n",
    "        x_labels = [0, 150000, 317000]\n",
    "        ax.xaxis.set_major_locator(ticker.FixedLocator(positions))\n",
    "        ax.xaxis.set_major_formatter(ticker.FixedFormatter(x_labels))\n",
    "    \n",
    "    fig.tight_layout()\n",
    "    plt.show()\n",
    "    plt.close('all')"
   ]
  },
  {
   "cell_type": "code",
   "execution_count": 174,
   "metadata": {
    "scrolled": false
   },
   "outputs": [
    {
     "name": "stdout",
     "output_type": "stream",
     "text": [
      "number of changepoints removed:0,0.0\n"
     ]
    },
    {
     "data": {
      "image/png": "[encoded data removed]",
      "text/plain": [
       "<Figure size 864x1008 with 4 Axes>"
      ]
     },
     "metadata": {},
     "output_type": "display_data"
    },
    {
     "name": "stdout",
     "output_type": "stream",
     "text": [
      "Finished 'plot_sample' in 1.1199 secs\n"
     ]
    }
   ],
   "source": [
    "plot_sample(namesSample, y_predSample, y_trueSample, pred_cps=pred_cps_BOCD, mappedSpArr=mappedSpArr)"
   ]
  },
  {
   "cell_type": "code",
   "execution_count": 175,
   "metadata": {
    "collapsed": true
   },
   "outputs": [],
   "source": [
    "def plot_coordinates_map(granularPopNames, pred_coord, lbl_coord, **kwargs):\n",
    "    \"\"\"\n",
    "    plotly plot for coordinates on a map\n",
    "    label: target label vector (int) for the specific sample\n",
    "    data_coordinates: lat, long for the specific sample\n",
    "    rev_pop_order: dict with keys as target label ints and values\n",
    "    as granular population name\n",
    "    \"\"\"\n",
    "    cpShow=kwargs.get('cpShow')\n",
    "    pred_cps=kwargs.get('pred_cps') \n",
    "    alpha=[1.0]*len(lbl_coord)\n",
    "    if cpShow:\n",
    "        unknownIdx=np.nonzero(pred_cps)[0]\n",
    "        granularPopNames=[\"UNK\" if i in unknownIdx else granularPopNames[i] for i in range(len(granularPopNames))]\n",
    "    fig = go.Figure(go.Scattergeo())\n",
    "    colors_pop = sns.color_palette(\"rainbow\", len(np.unique(granularPopNames)))\n",
    "    \n",
    "    colors_pop_dict = {k:v for k,v in zip(np.unique(granularPopNames), colors_pop)}\n",
    "    colors_pop_dict['UNK']=(188,188,188) # grey color\n",
    "    fig.add_trace(go.Scattergeo(lon=pred_coord[:,1], lat=pred_coord[:,0], text = granularPopNames,\\\n",
    "    marker_color=['rgba'+str(colors_pop_dict[x]+(y,)) for x,y in zip(granularPopNames, alpha)]))\n",
    "    fig.update_traces(marker_size = 5)\n",
    "    fig.add_trace(go.Scattergeo(lon=lbl_coord[:,1], lat=lbl_coord[:,0], marker = dict(symbol = 'square'), \\\n",
    "                                text = granularPopNames))\n",
    "    fig.update_traces(marker_size = 5)\n",
    "\n",
    "    fig.show()\n",
    "    plt.show()\n",
    "    plt.close('all')"
   ]
  },
  {
   "cell_type": "code",
   "execution_count": 176,
   "metadata": {},
   "outputs": [
    {
     "data": {
      "text/plain": [
       "(317, 3)"
      ]
     },
     "execution_count": 176,
     "metadata": {},
     "output_type": "execute_result"
    }
   ],
   "source": [
    "y_trueSample.shape"
   ]
  },
  {
   "cell_type": "code",
   "execution_count": 177,
   "metadata": {},
   "outputs": [
    {
     "data": {
      "application/vnd.plotly.v1+json": {
       "config": {
        "plotlyServerURL": "https://plot.ly"
       },
       "data": [
        {
         "marker": {
          "size": 5
         },
         "type": "scattergeo"
        },
        {
         "lat": [
          46.052452087402344,
          46.07958984375,
          45.99961853027344,
          46.45125961303711,
          45.6589469909668,
          45.1932373046875,
          45.592803955078125,
          45.56537628173828,
          45.56420135498047,
          45.74380874633789,
          46.00752639770508,
          45.95419692993164,
          46.26097869873047,
          46.473289489746094,
          46.54081344604492,
          46.597679138183594,
          46.58680725097656,
          46.58548355102539,
          46.036590576171875,
          46.08026885986328,
          45.908226013183594,
          46.04311752319336,
          46.31375503540039,
          46.31375503540039,
          45.99931716918945,
          45.82819366455078,
          45.947086334228516,
          45.842445373535156,
          45.8592529296875,
          45.994598388671875,
          45.82323455810547,
          45.566246032714844,
          45.41498565673828,
          45.609737396240234,
          45.7105598449707,
          45.563560485839844,
          45.730491638183594,
          45.65740203857422,
          45.6945915222168,
          45.71602249145508,
          45.05760955810547,
          44.752174377441406,
          44.78927993774414,
          44.70647430419922,
          44.47810363769531,
          44.55219268798828,
          44.59843063354492,
          44.675453186035156,
          44.90753173828125,
          44.476097106933594,
          44.4112548828125,
          44.494834899902344,
          44.44514846801758,
          44.28678512573242,
          44.09100341796875,
          44.095130920410156,
          43.97442626953125,
          44.00106430053711,
          44.06194305419922,
          43.9293327331543,
          43.99980163574219,
          44.11227035522461,
          44.185123443603516,
          44.175079345703125,
          44.14784622192383,
          44.14193344116211,
          44.06808853149414,
          44.13096618652344,
          44.30189895629883,
          44.25237274169922,
          44.1579475402832,
          44.50357437133789,
          44.512142181396484,
          44.66515350341797,
          44.8663444519043,
          44.666404724121094,
          44.881439208984375,
          44.88513946533203,
          45.071598052978516,
          45.01661682128906,
          44.94308090209961,
          45.08580780029297,
          45.00457000732422,
          44.986026763916016,
          45.12855911254883,
          45.10057830810547,
          45.3807258605957,
          45.42162322998047,
          45.54025650024414,
          45.41531753540039,
          45.470035552978516,
          45.643856048583984,
          45.6744384765625,
          45.7961540222168,
          45.7342643737793,
          45.82109832763672,
          45.86439514160156,
          45.89308166503906,
          45.70800018310547,
          45.74997329711914,
          45.62620544433594,
          45.70773696899414,
          45.75932312011719,
          45.858455657958984,
          45.62145233154297,
          45.844486236572266,
          45.57399368286133,
          45.67258071899414,
          45.6699333190918,
          45.667816162109375,
          45.814476013183594,
          45.81406784057617,
          45.71819305419922,
          45.622467041015625,
          45.62781524658203,
          45.69728088378906,
          45.802642822265625,
          45.62275314331055,
          45.71175765991211,
          45.75161361694336,
          45.77134323120117,
          45.73344421386719,
          45.761505126953125,
          45.88090896606445,
          45.86323928833008,
          45.99378204345703,
          45.92624282836914,
          46.07572555541992,
          46.11968994140625,
          46.074127197265625,
          46.1680908203125,
          45.82609176635742,
          45.9490966796875,
          46.07344436645508,
          46.26873779296875,
          45.965457916259766,
          46.32151794433594,
          46.22514724731445,
          46.22117614746094,
          46.197998046875,
          46.13248825073242,
          46.34162139892578,
          46.44916915893555,
          46.505821228027344,
          46.46470260620117,
          46.555423736572266,
          46.26179504394531,
          46.42898941040039,
          46.389076232910156,
          46.47947311401367,
          46.3758544921875,
          46.466636657714844,
          46.52724075317383,
          46.35847091674805,
          46.72184371948242,
          46.56156539916992,
          46.59842300415039,
          46.39071273803711,
          46.45627975463867,
          46.36948013305664,
          46.387786865234375,
          46.49015808105469,
          46.4204216003418,
          46.260005950927734,
          46.36021041870117,
          46.395320892333984,
          46.38899230957031,
          46.29501724243164,
          46.381900787353516,
          46.1966667175293,
          46.358341217041016,
          46.068687438964844,
          45.98613739013672,
          45.93925094604492,
          45.99634552001953,
          45.92216873168945,
          45.84540939331055,
          45.97945785522461,
          46.03407669067383,
          45.966407775878906,
          46.01788330078125,
          45.95254898071289,
          45.963340759277344,
          45.75606918334961,
          45.75422286987305,
          45.87578582763672,
          45.742958068847656,
          45.58732986450195,
          45.46372604370117,
          45.51055908203125,
          45.67780303955078,
          45.597816467285156,
          45.68605041503906,
          45.42915725708008,
          45.26969909667969,
          45.11555862426758,
          45.302093505859375,
          45.12220764160156,
          45.32513427734375,
          45.29422378540039,
          45.307613372802734,
          45.340309143066406,
          45.33269119262695,
          45.255523681640625,
          45.541358947753906,
          45.408721923828125,
          45.41989517211914,
          45.47627639770508,
          45.23097610473633,
          45.28815460205078,
          45.348915100097656,
          45.40252685546875,
          45.398658752441406,
          45.510345458984375,
          45.55992126464844,
          45.63443374633789,
          45.62568283081055,
          45.496849060058594,
          45.72368621826172,
          45.65068054199219,
          45.63224792480469,
          45.666316986083984,
          45.680702209472656,
          45.67536926269531,
          45.36274719238281,
          45.312644958496094,
          45.453369140625,
          45.4454345703125,
          45.47426986694336,
          45.4671745300293,
          45.32911682128906,
          45.475406646728516,
          45.292930603027344,
          45.3603515625,
          45.21778106689453,
          45.26957321166992,
          45.28327941894531,
          45.238929748535156,
          45.28190994262695,
          45.01256561279297,
          45.09772872924805,
          45.02741622924805,
          44.92377471923828,
          44.929969787597656,
          44.822811126708984,
          44.932743072509766,
          44.908958435058594,
          44.79502868652344,
          44.66114807128906,
          44.41706466674805,
          44.142921447753906,
          44.15224075317383,
          43.97298812866211,
          43.94581604003906,
          43.87334442138672,
          43.85121154785156,
          43.856929779052734,
          43.84345245361328,
          43.496337890625,
          43.51450729370117,
          43.52056884765625,
          43.48609924316406,
          43.56334686279297,
          43.4078369140625,
          43.38006591796875,
          43.474308013916016,
          43.24360656738281,
          42.99394226074219,
          43.03662109375,
          42.994300842285156,
          43.158042907714844,
          42.96160125732422,
          43.03745651245117,
          43.13330078125,
          43.01526641845703,
          43.01588821411133,
          43.26933670043945,
          43.43607711791992,
          43.32929229736328,
          43.30874252319336,
          43.194061279296875,
          43.15674591064453,
          43.120452880859375,
          43.080238342285156,
          42.96672058105469,
          42.971744537353516,
          43.028106689453125,
          43.1911735534668,
          43.33103561401367,
          43.07254409790039,
          42.189537048339844,
          41.01530456542969,
          41.228797912597656,
          41.10747146606445,
          40.766807556152344,
          40.12773895263672,
          40.72686004638672,
          41.19157028198242,
          41.371700286865234,
          41.79784393310547,
          42.126346588134766,
          42.39464569091797,
          42.3880729675293,
          42.53350067138672,
          42.65601348876953,
          42.26675033569336,
          42.76136016845703,
          42.8315544128418,
          42.88056945800781,
          43.07966232299805,
          43.111167907714844,
          43.11642074584961,
          43.22624969482422,
          43.17934036254883,
          43.50640869140625,
          43.589725494384766,
          43.462825775146484
         ],
         "lon": [
          4.479613780975342,
          4.983921051025391,
          4.90870475769043,
          5.134099960327148,
          4.616630554199219,
          4.950226783752441,
          5.007152557373047,
          4.680217742919922,
          4.39759635925293,
          4.2528276443481445,
          4.277068138122559,
          4.009882926940918,
          4.001784324645996,
          3.2643978595733643,
          2.8307158946990967,
          3.311939001083374,
          3.2159152030944824,
          3.210331439971924,
          3.320113182067871,
          3.138624906539917,
          3.0954389572143555,
          2.623168468475342,
          2.6535043716430664,
          2.7780466079711914,
          2.44437837600708,
          2.2563488483428955,
          1.9627941846847534,
          2.2348709106445312,
          1.7986241579055786,
          1.5647982358932495,
          1.2142728567123413,
          1.1134965419769287,
          0.8814900517463684,
          0.9076586365699768,
          0.7167991399765015,
          0.428881973028183,
          0.7877518534660339,
          0.8574432730674744,
          0.7838669419288635,
          0.46657922863960266,
          -0.1510184407234192,
          -0.18566849827766418,
          0.3207566738128662,
          0.1844160556793213,
          -0.280841588973999,
          -0.1791183352470398,
          -0.1775684505701065,
          -0.036834172904491425,
          -0.027999700978398323,
          -0.26022711396217346,
          0.1328442096710205,
          0.084625244140625,
          0.05266542360186577,
          -0.1362171173095703,
          -0.3217008113861084,
          -0.15532128512859344,
          -0.5001168251037598,
          0.010713773779571056,
          -0.22493436932563782,
          -0.285264790058136,
          0.15240882337093353,
          0.012563928961753845,
          -0.14897339046001434,
          -0.0631842166185379,
          -0.05523309111595154,
          -0.43984246253967285,
          0.24243414402008057,
          0.09441424161195755,
          0.007692224811762571,
          -0.017847754061222076,
          0.33475199341773987,
          0.12295717000961304,
          0.4651303291320801,
          0.47902393341064453,
          0.16400329768657684,
          0.5471223592758179,
          0.24612388014793396,
          0.4696321189403534,
          0.37153005599975586,
          0.44848281145095825,
          0.7765651941299438,
          0.5322085022926331,
          0.5299388766288757,
          0.24331411719322205,
          0.4773715138435364,
          0.5260055065155029,
          0.3600831627845764,
          0.48630866408348083,
          0.6711151003837585,
          0.5237979888916016,
          0.6712561249732971,
          0.48502975702285767,
          0.564919114112854,
          0.598608672618866,
          0.8949375152587891,
          0.6043280363082886,
          0.6089246869087219,
          0.4286499619483948,
          0.6861681938171387,
          0.8142634630203247,
          0.8703187108039856,
          0.8966521620750427,
          0.9596527814865112,
          0.8505755662918091,
          1.045950174331665,
          0.8104190826416016,
          0.824335515499115,
          0.8506374359130859,
          0.7603110671043396,
          0.708889365196228,
          0.8044359087944031,
          0.9614835977554321,
          0.8083826303482056,
          0.8198779821395874,
          0.837289035320282,
          0.8352975845336914,
          0.754841685295105,
          0.6940953135490417,
          0.7732940912246704,
          0.8917045593261719,
          0.8999454975128174,
          0.8105430006980896,
          0.8531718254089355,
          0.9056599140167236,
          0.8190317749977112,
          0.7858707904815674,
          1.0751116275787354,
          0.898094654083252,
          0.9726155996322632,
          0.8599867224693298,
          1.045756459236145,
          0.8843777775764465,
          1.277355432510376,
          1.2195408344268799,
          1.0172663927078247,
          1.3081510066986084,
          1.2348357439041138,
          1.3110464811325073,
          1.1302165985107422,
          1.2222718000411987,
          1.3939515352249146,
          1.5469567775726318,
          1.5746328830718994,
          1.569684624671936,
          1.6767246723175049,
          1.4751681089401245,
          1.596901535987854,
          1.5242258310317993,
          1.6172617673873901,
          1.6076751947402954,
          1.793850302696228,
          1.6697285175323486,
          1.620909333229065,
          1.628818392753601,
          1.4906446933746338,
          1.6540217399597168,
          1.6705073118209839,
          1.7559916973114014,
          1.6483687162399292,
          1.4760578870773315,
          1.308876872062683,
          1.2171467542648315,
          1.1222866773605347,
          1.2045015096664429,
          1.2250217199325562,
          1.1358935832977295,
          1.2440739870071411,
          1.350558876991272,
          1.3374937772750854,
          1.5304752588272095,
          1.2692503929138184,
          1.3191263675689697,
          1.2011966705322266,
          1.0920660495758057,
          1.0678725242614746,
          0.9174426198005676,
          1.3565562963485718,
          1.3576446771621704,
          1.0519236326217651,
          1.1486446857452393,
          0.9815566539764404,
          1.112146019935608,
          0.9077052474021912,
          1.1048539876937866,
          1.145627498626709,
          0.956931471824646,
          0.9646183848381042,
          0.7275550961494446,
          0.5747004747390747,
          1.031857967376709,
          0.836341142654419,
          1.0595223903656006,
          1.1070207357406616,
          1.0288023948669434,
          1.4549829959869385,
          1.5088528394699097,
          1.4657812118530273,
          1.9052703380584717,
          1.5900884866714478,
          1.5570595264434814,
          1.7831076383590698,
          1.7225220203399658,
          1.7085238695144653,
          1.727850079536438,
          1.4248223304748535,
          1.6304731369018555,
          1.6337796449661255,
          1.4107959270477295,
          1.5772178173065186,
          1.927700161933899,
          1.8146766424179077,
          1.7234060764312744,
          1.4600030183792114,
          1.2150912284851074,
          1.172133207321167,
          0.9776467084884644,
          0.8964974880218506,
          0.882511556148529,
          0.7615876793861389,
          0.8846167325973511,
          0.8753596544265747,
          1.0064735412597656,
          0.9668497443199158,
          0.8450455665588379,
          0.6376301050186157,
          1.0501728057861328,
          1.0125662088394165,
          1.0446127653121948,
          1.0153234004974365,
          1.2996222972869873,
          1.6294809579849243,
          1.253960132598877,
          1.3452842235565186,
          1.3444985151290894,
          1.4247069358825684,
          1.5491353273391724,
          1.5392659902572632,
          1.633128046989441,
          1.6303961277008057,
          1.8868154287338257,
          2.0038366317749023,
          2.055209159851074,
          2.0121800899505615,
          2.1136155128479004,
          2.3920340538024902,
          2.472048282623291,
          2.5258469581604004,
          3.0516467094421387,
          2.962286949157715,
          2.6854140758514404,
          2.868692398071289,
          2.927637815475464,
          3.01531720161438,
          2.9216928482055664,
          2.7787582874298096,
          2.9401674270629883,
          2.8739562034606934,
          2.9045004844665527,
          2.9819719791412354,
          2.913088083267212,
          2.884880781173706,
          2.96372127532959,
          2.8969781398773193,
          2.9223196506500244,
          3.0632874965667725,
          3.1772706508636475,
          2.998142719268799,
          2.842517375946045,
          2.8727777004241943,
          3.6167688369750977,
          3.371020555496216,
          3.2708332538604736,
          3.4581947326660156,
          3.474421262741089,
          3.6318440437316895,
          3.560631036758423,
          3.439002513885498,
          3.3020925521850586,
          3.25122332572937,
          2.951422691345215,
          2.9504616260528564,
          3.2638349533081055,
          3.1250553131103516,
          3.267641067504883,
          3.17293381690979,
          2.5209944248199463,
          1.8849356174468994,
          1.899632215499878,
          1.427222728729248,
          0.4363565146923065,
          -0.7799453735351562,
          -2.1707658767700195,
          -1.6146633625030518,
          -0.6418904662132263,
          -0.8305855989456177,
          -1.2936882972717285,
          -0.4965175986289978,
          -0.5319639444351196,
          -0.5472779273986816,
          -0.48487430810928345,
          -0.8238848447799683,
          -0.525321900844574,
          -0.09709928184747696,
          -0.22687013447284698,
          -0.0008252484840340912,
          0.03437509387731552,
          -0.2691988945007324,
          0.6013388633728027,
          0.8531579971313477,
          0.6909356713294983,
          0.7409996390342712,
          0.5146428346633911,
          0.9615095853805542,
          0.8154162764549255,
          0.5086014866828918,
          0.6183873414993286,
          0.8229284286499023
         ],
         "marker": {
          "color": [
           "rgba(0.16666666666666663, 0.8660254037844386, 0.8660254037844387, 1.0)",
           "rgba(0.16666666666666663, 0.8660254037844386, 0.8660254037844387, 1.0)",
           "rgba(0.16666666666666663, 0.8660254037844386, 0.8660254037844387, 1.0)",
           "rgba(0.16666666666666663, 0.8660254037844386, 0.8660254037844387, 1.0)",
           "rgba(0.16666666666666663, 0.8660254037844386, 0.8660254037844387, 1.0)",
           "rgba(0.16666666666666663, 0.8660254037844386, 0.8660254037844387, 1.0)",
           "rgba(0.16666666666666663, 0.8660254037844386, 0.8660254037844387, 1.0)",
           "rgba(0.16666666666666663, 0.8660254037844386, 0.8660254037844387, 1.0)",
           "rgba(0.16666666666666663, 0.8660254037844386, 0.8660254037844387, 1.0)",
           "rgba(0.16666666666666663, 0.8660254037844386, 0.8660254037844387, 1.0)",
           "rgba(0.16666666666666663, 0.8660254037844386, 0.8660254037844387, 1.0)",
           "rgba(0.16666666666666663, 0.8660254037844386, 0.8660254037844387, 1.0)",
           "rgba(0.16666666666666663, 0.8660254037844386, 0.8660254037844387, 1.0)",
           "rgba(0.16666666666666663, 0.8660254037844386, 0.8660254037844387, 1.0)",
           "rgba(0.16666666666666663, 0.8660254037844386, 0.8660254037844387, 1.0)",
           "rgba(0.16666666666666663, 0.8660254037844386, 0.8660254037844387, 1.0)",
           "rgba(0.16666666666666663, 0.8660254037844386, 0.8660254037844387, 1.0)",
           "rgba(0.16666666666666663, 0.8660254037844386, 0.8660254037844387, 1.0)",
           "rgba(0.16666666666666663, 0.8660254037844386, 0.8660254037844387, 1.0)",
           "rgba(0.16666666666666663, 0.8660254037844386, 0.8660254037844387, 1.0)",
           "rgba(0.16666666666666663, 0.8660254037844386, 0.8660254037844387, 1.0)",
           "rgba(0.16666666666666663, 0.8660254037844386, 0.8660254037844387, 1.0)",
           "rgba(0.16666666666666663, 0.8660254037844386, 0.8660254037844387, 1.0)",
           "rgba(0.16666666666666663, 0.8660254037844386, 0.8660254037844387, 1.0)",
           "rgba(0.16666666666666663, 0.8660254037844386, 0.8660254037844387, 1.0)",
           "rgba(0.16666666666666663, 0.8660254037844386, 0.8660254037844387, 1.0)",
           "rgba(0.16666666666666663, 0.8660254037844386, 0.8660254037844387, 1.0)",
           "rgba(0.16666666666666663, 0.8660254037844386, 0.8660254037844387, 1.0)",
           "rgba(0.16666666666666663, 0.8660254037844386, 0.8660254037844387, 1.0)",
           "rgba(0.16666666666666663, 0.8660254037844386, 0.8660254037844387, 1.0)",
           "rgba(0.16666666666666663, 0.8660254037844386, 0.8660254037844387, 1.0)",
           "rgba(0.16666666666666663, 0.8660254037844386, 0.8660254037844387, 1.0)",
           "rgba(0.16666666666666663, 0.8660254037844386, 0.8660254037844387, 1.0)",
           "rgba(0.16666666666666663, 0.8660254037844386, 0.8660254037844387, 1.0)",
           "rgba(0.16666666666666663, 0.8660254037844386, 0.8660254037844387, 1.0)",
           "rgba(0.16666666666666663, 0.8660254037844386, 0.8660254037844387, 1.0)",
           "rgba(0.16666666666666663, 0.8660254037844386, 0.8660254037844387, 1.0)",
           "rgba(0.16666666666666663, 0.8660254037844386, 0.8660254037844387, 1.0)",
           "rgba(0.16666666666666663, 0.8660254037844386, 0.8660254037844387, 1.0)",
           "rgba(0.16666666666666663, 0.8660254037844386, 0.8660254037844387, 1.0)",
           "rgba(0.16666666666666663, 0.8660254037844386, 0.8660254037844387, 1.0)",
           "rgba(0.16666666666666663, 0.8660254037844386, 0.8660254037844387, 1.0)",
           "rgba(0.16666666666666663, 0.8660254037844386, 0.8660254037844387, 1.0)",
           "rgba(0.16666666666666663, 0.8660254037844386, 0.8660254037844387, 1.0)",
           "rgba(0.16666666666666663, 0.8660254037844386, 0.8660254037844387, 1.0)",
           "rgba(0.16666666666666663, 0.8660254037844386, 0.8660254037844387, 1.0)",
           "rgba(0.16666666666666663, 0.8660254037844386, 0.8660254037844387, 1.0)",
           "rgba(0.16666666666666663, 0.8660254037844386, 0.8660254037844387, 1.0)",
           "rgba(0.16666666666666663, 0.8660254037844386, 0.8660254037844387, 1.0)",
           "rgba(0.16666666666666663, 0.8660254037844386, 0.8660254037844387, 1.0)",
           "rgba(0.16666666666666663, 0.8660254037844386, 0.8660254037844387, 1.0)",
           "rgba(0.16666666666666663, 0.8660254037844386, 0.8660254037844387, 1.0)",
           "rgba(0.16666666666666663, 0.8660254037844386, 0.8660254037844387, 1.0)",
           "rgba(0.16666666666666663, 0.8660254037844386, 0.8660254037844387, 1.0)",
           "rgba(0.16666666666666663, 0.8660254037844386, 0.8660254037844387, 1.0)",
           "rgba(0.16666666666666663, 0.8660254037844386, 0.8660254037844387, 1.0)",
           "rgba(0.16666666666666663, 0.8660254037844386, 0.8660254037844387, 1.0)",
           "rgba(0.16666666666666663, 0.8660254037844386, 0.8660254037844387, 1.0)",
           "rgba(0.16666666666666663, 0.8660254037844386, 0.8660254037844387, 1.0)",
           "rgba(0.16666666666666663, 0.8660254037844386, 0.8660254037844387, 1.0)",
           "rgba(0.16666666666666663, 0.8660254037844386, 0.8660254037844387, 1.0)",
           "rgba(0.16666666666666663, 0.8660254037844386, 0.8660254037844387, 1.0)",
           "rgba(0.16666666666666663, 0.8660254037844386, 0.8660254037844387, 1.0)",
           "rgba(0.16666666666666663, 0.8660254037844386, 0.8660254037844387, 1.0)",
           "rgba(0.16666666666666663, 0.8660254037844386, 0.8660254037844387, 1.0)",
           "rgba(0.16666666666666663, 0.8660254037844386, 0.8660254037844387, 1.0)",
           "rgba(0.16666666666666663, 0.8660254037844386, 0.8660254037844387, 1.0)",
           "rgba(0.16666666666666663, 0.8660254037844386, 0.8660254037844387, 1.0)",
           "rgba(0.16666666666666663, 0.8660254037844386, 0.8660254037844387, 1.0)",
           "rgba(0.16666666666666663, 0.8660254037844386, 0.8660254037844387, 1.0)",
           "rgba(0.16666666666666663, 0.8660254037844386, 0.8660254037844387, 1.0)",
           "rgba(0.16666666666666663, 0.8660254037844386, 0.8660254037844387, 1.0)",
           "rgba(0.16666666666666663, 0.8660254037844386, 0.8660254037844387, 1.0)",
           "rgba(0.16666666666666663, 0.8660254037844386, 0.8660254037844387, 1.0)",
           "rgba(0.16666666666666663, 0.8660254037844386, 0.8660254037844387, 1.0)",
           "rgba(0.16666666666666663, 0.8660254037844386, 0.8660254037844387, 1.0)",
           "rgba(0.16666666666666663, 0.8660254037844386, 0.8660254037844387, 1.0)",
           "rgba(0.16666666666666663, 0.8660254037844386, 0.8660254037844387, 1.0)",
           "rgba(0.16666666666666663, 0.8660254037844386, 0.8660254037844387, 1.0)",
           "rgba(0.16666666666666663, 0.8660254037844386, 0.8660254037844387, 1.0)",
           "rgba(0.16666666666666663, 0.8660254037844386, 0.8660254037844387, 1.0)",
           "rgba(0.16666666666666663, 0.8660254037844386, 0.8660254037844387, 1.0)",
           "rgba(0.16666666666666663, 0.8660254037844386, 0.8660254037844387, 1.0)",
           "rgba(0.16666666666666663, 0.8660254037844386, 0.8660254037844387, 1.0)",
           "rgba(0.16666666666666663, 0.8660254037844386, 0.8660254037844387, 1.0)",
           "rgba(0.16666666666666663, 0.8660254037844386, 0.8660254037844387, 1.0)",
           "rgba(0.16666666666666663, 0.8660254037844386, 0.8660254037844387, 1.0)",
           "rgba(0.16666666666666663, 0.8660254037844386, 0.8660254037844387, 1.0)",
           "rgba(0.16666666666666663, 0.8660254037844386, 0.8660254037844387, 1.0)",
           "rgba(0.16666666666666663, 0.8660254037844386, 0.8660254037844387, 1.0)",
           "rgba(0.16666666666666663, 0.8660254037844386, 0.8660254037844387, 1.0)",
           "rgba(0.16666666666666663, 0.8660254037844386, 0.8660254037844387, 1.0)",
           "rgba(0.16666666666666663, 0.8660254037844386, 0.8660254037844387, 1.0)",
           "rgba(0.16666666666666663, 0.8660254037844386, 0.8660254037844387, 1.0)",
           "rgba(0.16666666666666663, 0.8660254037844386, 0.8660254037844387, 1.0)",
           "rgba(0.16666666666666663, 0.8660254037844386, 0.8660254037844387, 1.0)",
           "rgba(0.16666666666666663, 0.8660254037844386, 0.8660254037844387, 1.0)",
           "rgba(0.16666666666666663, 0.8660254037844386, 0.8660254037844387, 1.0)",
           "rgba(0.16666666666666663, 0.8660254037844386, 0.8660254037844387, 1.0)",
           "rgba(0.16666666666666663, 0.8660254037844386, 0.8660254037844387, 1.0)",
           "rgba(0.16666666666666663, 0.8660254037844386, 0.8660254037844387, 1.0)",
           "rgba(0.16666666666666663, 0.8660254037844386, 0.8660254037844387, 1.0)",
           "rgba(0.16666666666666663, 0.8660254037844386, 0.8660254037844387, 1.0)",
           "rgba(0.16666666666666663, 0.8660254037844386, 0.8660254037844387, 1.0)",
           "rgba(0.16666666666666663, 0.8660254037844386, 0.8660254037844387, 1.0)",
           "rgba(0.16666666666666663, 0.8660254037844386, 0.8660254037844387, 1.0)",
           "rgba(0.16666666666666663, 0.8660254037844386, 0.8660254037844387, 1.0)",
           "rgba(0.16666666666666663, 0.8660254037844386, 0.8660254037844387, 1.0)",
           "rgba(0.16666666666666663, 0.8660254037844386, 0.8660254037844387, 1.0)",
           "rgba(0.16666666666666663, 0.8660254037844386, 0.8660254037844387, 1.0)",
           "rgba(0.16666666666666663, 0.8660254037844386, 0.8660254037844387, 1.0)",
           "rgba(0.16666666666666663, 0.8660254037844386, 0.8660254037844387, 1.0)",
           "rgba(0.16666666666666663, 0.8660254037844386, 0.8660254037844387, 1.0)",
           "rgba(0.16666666666666663, 0.8660254037844386, 0.8660254037844387, 1.0)",
           "rgba(0.16666666666666663, 0.8660254037844386, 0.8660254037844387, 1.0)",
           "rgba(0.16666666666666663, 0.8660254037844386, 0.8660254037844387, 1.0)",
           "rgba(0.16666666666666663, 0.8660254037844386, 0.8660254037844387, 1.0)",
           "rgba(0.16666666666666663, 0.8660254037844386, 0.8660254037844387, 1.0)",
           "rgba(0.16666666666666663, 0.8660254037844386, 0.8660254037844387, 1.0)",
           "rgba(0.16666666666666663, 0.8660254037844386, 0.8660254037844387, 1.0)",
           "rgba(0.16666666666666663, 0.8660254037844386, 0.8660254037844387, 1.0)",
           "rgba(0.16666666666666663, 0.8660254037844386, 0.8660254037844387, 1.0)",
           "rgba(0.16666666666666663, 0.8660254037844386, 0.8660254037844387, 1.0)",
           "rgba(0.16666666666666663, 0.8660254037844386, 0.8660254037844387, 1.0)",
           "rgba(0.16666666666666663, 0.8660254037844386, 0.8660254037844387, 1.0)",
           "rgba(0.16666666666666663, 0.8660254037844386, 0.8660254037844387, 1.0)",
           "rgba(0.16666666666666663, 0.8660254037844386, 0.8660254037844387, 1.0)",
           "rgba(0.16666666666666663, 0.8660254037844386, 0.8660254037844387, 1.0)",
           "rgba(0.16666666666666663, 0.8660254037844386, 0.8660254037844387, 1.0)",
           "rgba(0.16666666666666663, 0.8660254037844386, 0.8660254037844387, 1.0)",
           "rgba(0.16666666666666663, 0.8660254037844386, 0.8660254037844387, 1.0)",
           "rgba(0.16666666666666663, 0.8660254037844386, 0.8660254037844387, 1.0)",
           "rgba(0.16666666666666663, 0.8660254037844386, 0.8660254037844387, 1.0)",
           "rgba(0.16666666666666663, 0.8660254037844386, 0.8660254037844387, 1.0)",
           "rgba(0.16666666666666663, 0.8660254037844386, 0.8660254037844387, 1.0)",
           "rgba(0.16666666666666663, 0.8660254037844386, 0.8660254037844387, 1.0)",
           "rgba(0.16666666666666663, 0.8660254037844386, 0.8660254037844387, 1.0)",
           "rgba(0.16666666666666663, 0.8660254037844386, 0.8660254037844387, 1.0)",
           "rgba(0.16666666666666663, 0.8660254037844386, 0.8660254037844387, 1.0)",
           "rgba(0.16666666666666663, 0.8660254037844386, 0.8660254037844387, 1.0)",
           "rgba(0.16666666666666663, 0.8660254037844386, 0.8660254037844387, 1.0)",
           "rgba(0.16666666666666663, 0.8660254037844386, 0.8660254037844387, 1.0)",
           "rgba(0.16666666666666663, 0.8660254037844386, 0.8660254037844387, 1.0)",
           "rgba(0.16666666666666663, 0.8660254037844386, 0.8660254037844387, 1.0)",
           "rgba(0.16666666666666663, 0.8660254037844386, 0.8660254037844387, 1.0)",
           "rgba(0.16666666666666663, 0.8660254037844386, 0.8660254037844387, 1.0)",
           "rgba(0.16666666666666663, 0.8660254037844386, 0.8660254037844387, 1.0)",
           "rgba(0.16666666666666663, 0.8660254037844386, 0.8660254037844387, 1.0)",
           "rgba(0.16666666666666663, 0.8660254037844386, 0.8660254037844387, 1.0)",
           "rgba(0.16666666666666663, 0.8660254037844386, 0.8660254037844387, 1.0)",
           "rgba(0.16666666666666663, 0.8660254037844386, 0.8660254037844387, 1.0)",
           "rgba(0.16666666666666663, 0.8660254037844386, 0.8660254037844387, 1.0)",
           "rgba(0.16666666666666663, 0.8660254037844386, 0.8660254037844387, 1.0)",
           "rgba(0.16666666666666663, 0.8660254037844386, 0.8660254037844387, 1.0)",
           "rgba(0.16666666666666663, 0.8660254037844386, 0.8660254037844387, 1.0)",
           "rgba(0.16666666666666663, 0.8660254037844386, 0.8660254037844387, 1.0)",
           "rgba(0.16666666666666663, 0.8660254037844386, 0.8660254037844387, 1.0)",
           "rgba(0.16666666666666663, 0.8660254037844386, 0.8660254037844387, 1.0)",
           "rgba(0.16666666666666663, 0.8660254037844386, 0.8660254037844387, 1.0)",
           "rgba(0.16666666666666663, 0.8660254037844386, 0.8660254037844387, 1.0)",
           "rgba(0.16666666666666663, 0.8660254037844386, 0.8660254037844387, 1.0)",
           "rgba(0.16666666666666663, 0.8660254037844386, 0.8660254037844387, 1.0)",
           "rgba(0.16666666666666663, 0.8660254037844386, 0.8660254037844387, 1.0)",
           "rgba(0.16666666666666663, 0.8660254037844386, 0.8660254037844387, 1.0)",
           "rgba(0.16666666666666663, 0.8660254037844386, 0.8660254037844387, 1.0)",
           "rgba(0.16666666666666663, 0.8660254037844386, 0.8660254037844387, 1.0)",
           "rgba(0.16666666666666663, 0.8660254037844386, 0.8660254037844387, 1.0)",
           "rgba(0.16666666666666663, 0.8660254037844386, 0.8660254037844387, 1.0)",
           "rgba(0.16666666666666663, 0.8660254037844386, 0.8660254037844387, 1.0)",
           "rgba(0.16666666666666663, 0.8660254037844386, 0.8660254037844387, 1.0)",
           "rgba(0.16666666666666663, 0.8660254037844386, 0.8660254037844387, 1.0)",
           "rgba(0.16666666666666663, 0.8660254037844386, 0.8660254037844387, 1.0)",
           "rgba(0.16666666666666663, 0.8660254037844386, 0.8660254037844387, 1.0)",
           "rgba(0.16666666666666663, 0.8660254037844386, 0.8660254037844387, 1.0)",
           "rgba(0.16666666666666663, 0.8660254037844386, 0.8660254037844387, 1.0)",
           "rgba(0.16666666666666663, 0.8660254037844386, 0.8660254037844387, 1.0)",
           "rgba(0.16666666666666663, 0.8660254037844386, 0.8660254037844387, 1.0)",
           "rgba(0.16666666666666663, 0.8660254037844386, 0.8660254037844387, 1.0)",
           "rgba(0.16666666666666663, 0.8660254037844386, 0.8660254037844387, 1.0)",
           "rgba(0.16666666666666663, 0.8660254037844386, 0.8660254037844387, 1.0)",
           "rgba(0.8333333333333333, 0.8660254037844387, 0.5000000000000001, 1.0)",
           "rgba(0.8333333333333333, 0.8660254037844387, 0.5000000000000001, 1.0)",
           "rgba(0.8333333333333333, 0.8660254037844387, 0.5000000000000001, 1.0)",
           "rgba(0.8333333333333333, 0.8660254037844387, 0.5000000000000001, 1.0)",
           "rgba(0.8333333333333333, 0.8660254037844387, 0.5000000000000001, 1.0)",
           "rgba(0.8333333333333333, 0.8660254037844387, 0.5000000000000001, 1.0)",
           "rgba(0.8333333333333333, 0.8660254037844387, 0.5000000000000001, 1.0)",
           "rgba(0.8333333333333333, 0.8660254037844387, 0.5000000000000001, 1.0)",
           "rgba(0.8333333333333333, 0.8660254037844387, 0.5000000000000001, 1.0)",
           "rgba(0.8333333333333333, 0.8660254037844387, 0.5000000000000001, 1.0)",
           "rgba(0.8333333333333333, 0.8660254037844387, 0.5000000000000001, 1.0)",
           "rgba(0.8333333333333333, 0.8660254037844387, 0.5000000000000001, 1.0)",
           "rgba(0.8333333333333333, 0.8660254037844387, 0.5000000000000001, 1.0)",
           "rgba(0.8333333333333333, 0.8660254037844387, 0.5000000000000001, 1.0)",
           "rgba(0.8333333333333333, 0.8660254037844387, 0.5000000000000001, 1.0)",
           "rgba(0.8333333333333333, 0.8660254037844387, 0.5000000000000001, 1.0)",
           "rgba(0.8333333333333333, 0.8660254037844387, 0.5000000000000001, 1.0)",
           "rgba(0.8333333333333333, 0.8660254037844387, 0.5000000000000001, 1.0)",
           "rgba(0.8333333333333333, 0.8660254037844387, 0.5000000000000001, 1.0)",
           "rgba(0.8333333333333333, 0.8660254037844387, 0.5000000000000001, 1.0)",
           "rgba(0.8333333333333333, 0.8660254037844387, 0.5000000000000001, 1.0)",
           "rgba(0.8333333333333333, 0.8660254037844387, 0.5000000000000001, 1.0)",
           "rgba(0.8333333333333333, 0.8660254037844387, 0.5000000000000001, 1.0)",
           "rgba(0.8333333333333333, 0.8660254037844387, 0.5000000000000001, 1.0)",
           "rgba(0.8333333333333333, 0.8660254037844387, 0.5000000000000001, 1.0)",
           "rgba(0.8333333333333333, 0.8660254037844387, 0.5000000000000001, 1.0)",
           "rgba(0.8333333333333333, 0.8660254037844387, 0.5000000000000001, 1.0)",
           "rgba(0.8333333333333333, 0.8660254037844387, 0.5000000000000001, 1.0)",
           "rgba(0.8333333333333333, 0.8660254037844387, 0.5000000000000001, 1.0)",
           "rgba(0.8333333333333333, 0.8660254037844387, 0.5000000000000001, 1.0)",
           "rgba(0.8333333333333333, 0.8660254037844387, 0.5000000000000001, 1.0)",
           "rgba(0.8333333333333333, 0.8660254037844387, 0.5000000000000001, 1.0)",
           "rgba(0.8333333333333333, 0.8660254037844387, 0.5000000000000001, 1.0)",
           "rgba(0.8333333333333333, 0.8660254037844387, 0.5000000000000001, 1.0)",
           "rgba(0.8333333333333333, 0.8660254037844387, 0.5000000000000001, 1.0)",
           "rgba(0.8333333333333333, 0.8660254037844387, 0.5000000000000001, 1.0)",
           "rgba(0.8333333333333333, 0.8660254037844387, 0.5000000000000001, 1.0)",
           "rgba(0.8333333333333333, 0.8660254037844387, 0.5000000000000001, 1.0)",
           "rgba(0.8333333333333333, 0.8660254037844387, 0.5000000000000001, 1.0)",
           "rgba(0.8333333333333333, 0.8660254037844387, 0.5000000000000001, 1.0)",
           "rgba(0.8333333333333333, 0.8660254037844387, 0.5000000000000001, 1.0)",
           "rgba(0.8333333333333333, 0.8660254037844387, 0.5000000000000001, 1.0)",
           "rgba(0.8333333333333333, 0.8660254037844387, 0.5000000000000001, 1.0)",
           "rgba(0.8333333333333333, 0.8660254037844387, 0.5000000000000001, 1.0)",
           "rgba(0.8333333333333333, 0.8660254037844387, 0.5000000000000001, 1.0)",
           "rgba(0.8333333333333333, 0.8660254037844387, 0.5000000000000001, 1.0)",
           "rgba(0.8333333333333333, 0.8660254037844387, 0.5000000000000001, 1.0)",
           "rgba(0.8333333333333333, 0.8660254037844387, 0.5000000000000001, 1.0)",
           "rgba(0.8333333333333333, 0.8660254037844387, 0.5000000000000001, 1.0)",
           "rgba(0.8333333333333333, 0.8660254037844387, 0.5000000000000001, 1.0)",
           "rgba(0.8333333333333333, 0.8660254037844387, 0.5000000000000001, 1.0)",
           "rgba(0.8333333333333333, 0.8660254037844387, 0.5000000000000001, 1.0)",
           "rgba(0.8333333333333333, 0.8660254037844387, 0.5000000000000001, 1.0)",
           "rgba(0.8333333333333333, 0.8660254037844387, 0.5000000000000001, 1.0)",
           "rgba(0.8333333333333333, 0.8660254037844387, 0.5000000000000001, 1.0)",
           "rgba(0.8333333333333333, 0.8660254037844387, 0.5000000000000001, 1.0)",
           "rgba(0.8333333333333333, 0.8660254037844387, 0.5000000000000001, 1.0)",
           "rgba(0.8333333333333333, 0.8660254037844387, 0.5000000000000001, 1.0)",
           "rgba(0.8333333333333333, 0.8660254037844387, 0.5000000000000001, 1.0)",
           "rgba(0.8333333333333333, 0.8660254037844387, 0.5000000000000001, 1.0)",
           "rgba(0.8333333333333333, 0.8660254037844387, 0.5000000000000001, 1.0)",
           "rgba(0.8333333333333333, 0.8660254037844387, 0.5000000000000001, 1.0)",
           "rgba(0.8333333333333333, 0.8660254037844387, 0.5000000000000001, 1.0)",
           "rgba(0.8333333333333333, 0.8660254037844387, 0.5000000000000001, 1.0)",
           "rgba(0.8333333333333333, 0.8660254037844387, 0.5000000000000001, 1.0)",
           "rgba(0.8333333333333333, 0.8660254037844387, 0.5000000000000001, 1.0)",
           "rgba(0.8333333333333333, 0.8660254037844387, 0.5000000000000001, 1.0)",
           "rgba(0.8333333333333333, 0.8660254037844387, 0.5000000000000001, 1.0)",
           "rgba(0.8333333333333333, 0.8660254037844387, 0.5000000000000001, 1.0)",
           "rgba(0.8333333333333333, 0.8660254037844387, 0.5000000000000001, 1.0)",
           "rgba(0.8333333333333333, 0.8660254037844387, 0.5000000000000001, 1.0)",
           "rgba(0.8333333333333333, 0.8660254037844387, 0.5000000000000001, 1.0)",
           "rgba(0.8333333333333333, 0.8660254037844387, 0.5000000000000001, 1.0)",
           "rgba(0.8333333333333333, 0.8660254037844387, 0.5000000000000001, 1.0)",
           "rgba(0.8333333333333333, 0.8660254037844387, 0.5000000000000001, 1.0)",
           "rgba(0.8333333333333333, 0.8660254037844387, 0.5000000000000001, 1.0)",
           "rgba(0.8333333333333333, 0.8660254037844387, 0.5000000000000001, 1.0)",
           "rgba(0.8333333333333333, 0.8660254037844387, 0.5000000000000001, 1.0)",
           "rgba(0.8333333333333333, 0.8660254037844387, 0.5000000000000001, 1.0)",
           "rgba(0.8333333333333333, 0.8660254037844387, 0.5000000000000001, 1.0)",
           "rgba(0.8333333333333333, 0.8660254037844387, 0.5000000000000001, 1.0)",
           "rgba(0.8333333333333333, 0.8660254037844387, 0.5000000000000001, 1.0)",
           "rgba(0.8333333333333333, 0.8660254037844387, 0.5000000000000001, 1.0)",
           "rgba(0.8333333333333333, 0.8660254037844387, 0.5000000000000001, 1.0)",
           "rgba(0.8333333333333333, 0.8660254037844387, 0.5000000000000001, 1.0)",
           "rgba(0.8333333333333333, 0.8660254037844387, 0.5000000000000001, 1.0)",
           "rgba(0.8333333333333333, 0.8660254037844387, 0.5000000000000001, 1.0)",
           "rgba(0.8333333333333333, 0.8660254037844387, 0.5000000000000001, 1.0)",
           "rgba(0.8333333333333333, 0.8660254037844387, 0.5000000000000001, 1.0)",
           "rgba(0.8333333333333333, 0.8660254037844387, 0.5000000000000001, 1.0)",
           "rgba(0.8333333333333333, 0.8660254037844387, 0.5000000000000001, 1.0)",
           "rgba(0.8333333333333333, 0.8660254037844387, 0.5000000000000001, 1.0)",
           "rgba(0.8333333333333333, 0.8660254037844387, 0.5000000000000001, 1.0)",
           "rgba(0.8333333333333333, 0.8660254037844387, 0.5000000000000001, 1.0)",
           "rgba(0.8333333333333333, 0.8660254037844387, 0.5000000000000001, 1.0)",
           "rgba(0.8333333333333333, 0.8660254037844387, 0.5000000000000001, 1.0)",
           "rgba(0.8333333333333333, 0.8660254037844387, 0.5000000000000001, 1.0)",
           "rgba(0.8333333333333333, 0.8660254037844387, 0.5000000000000001, 1.0)",
           "rgba(0.8333333333333333, 0.8660254037844387, 0.5000000000000001, 1.0)",
           "rgba(0.8333333333333333, 0.8660254037844387, 0.5000000000000001, 1.0)",
           "rgba(0.8333333333333333, 0.8660254037844387, 0.5000000000000001, 1.0)",
           "rgba(0.8333333333333333, 0.8660254037844387, 0.5000000000000001, 1.0)",
           "rgba(0.8333333333333333, 0.8660254037844387, 0.5000000000000001, 1.0)",
           "rgba(0.8333333333333333, 0.8660254037844387, 0.5000000000000001, 1.0)",
           "rgba(0.8333333333333333, 0.8660254037844387, 0.5000000000000001, 1.0)",
           "rgba(0.8333333333333333, 0.8660254037844387, 0.5000000000000001, 1.0)",
           "rgba(0.8333333333333333, 0.8660254037844387, 0.5000000000000001, 1.0)",
           "rgba(0.8333333333333333, 0.8660254037844387, 0.5000000000000001, 1.0)",
           "rgba(0.8333333333333333, 0.8660254037844387, 0.5000000000000001, 1.0)",
           "rgba(0.8333333333333333, 0.8660254037844387, 0.5000000000000001, 1.0)",
           "rgba(0.8333333333333333, 0.8660254037844387, 0.5000000000000001, 1.0)",
           "rgba(0.8333333333333333, 0.8660254037844387, 0.5000000000000001, 1.0)",
           "rgba(0.8333333333333333, 0.8660254037844387, 0.5000000000000001, 1.0)",
           "rgba(0.8333333333333333, 0.8660254037844387, 0.5000000000000001, 1.0)",
           "rgba(0.8333333333333333, 0.8660254037844387, 0.5000000000000001, 1.0)",
           "rgba(0.8333333333333333, 0.8660254037844387, 0.5000000000000001, 1.0)",
           "rgba(0.8333333333333333, 0.8660254037844387, 0.5000000000000001, 1.0)",
           "rgba(0.8333333333333333, 0.8660254037844387, 0.5000000000000001, 1.0)",
           "rgba(0.8333333333333333, 0.8660254037844387, 0.5000000000000001, 1.0)",
           "rgba(0.8333333333333333, 0.8660254037844387, 0.5000000000000001, 1.0)",
           "rgba(0.8333333333333333, 0.8660254037844387, 0.5000000000000001, 1.0)",
           "rgba(0.8333333333333333, 0.8660254037844387, 0.5000000000000001, 1.0)",
           "rgba(0.8333333333333333, 0.8660254037844387, 0.5000000000000001, 1.0)",
           "rgba(0.8333333333333333, 0.8660254037844387, 0.5000000000000001, 1.0)",
           "rgba(0.8333333333333333, 0.8660254037844387, 0.5000000000000001, 1.0)",
           "rgba(0.8333333333333333, 0.8660254037844387, 0.5000000000000001, 1.0)",
           "rgba(0.8333333333333333, 0.8660254037844387, 0.5000000000000001, 1.0)",
           "rgba(0.8333333333333333, 0.8660254037844387, 0.5000000000000001, 1.0)",
           "rgba(0.8333333333333333, 0.8660254037844387, 0.5000000000000001, 1.0)",
           "rgba(0.8333333333333333, 0.8660254037844387, 0.5000000000000001, 1.0)",
           "rgba(0.8333333333333333, 0.8660254037844387, 0.5000000000000001, 1.0)",
           "rgba(0.8333333333333333, 0.8660254037844387, 0.5000000000000001, 1.0)",
           "rgba(0.8333333333333333, 0.8660254037844387, 0.5000000000000001, 1.0)",
           "rgba(0.8333333333333333, 0.8660254037844387, 0.5000000000000001, 1.0)",
           "rgba(0.8333333333333333, 0.8660254037844387, 0.5000000000000001, 1.0)",
           "rgba(0.8333333333333333, 0.8660254037844387, 0.5000000000000001, 1.0)",
           "rgba(0.8333333333333333, 0.8660254037844387, 0.5000000000000001, 1.0)"
          ],
          "size": 5
         },
         "text": [
          "French",
          "French",
          "French",
          "French",
          "French",
          "French",
          "French",
          "French",
          "French",
          "French",
          "French",
          "French",
          "French",
          "French",
          "French",
          "French",
          "French",
          "French",
          "French",
          "French",
          "French",
          "French",
          "French",
          "French",
          "French",
          "French",
          "French",
          "French",
          "French",
          "French",
          "French",
          "French",
          "French",
          "French",
          "French",
          "French",
          "French",
          "French",
          "French",
          "French",
          "French",
          "French",
          "French",
          "French",
          "French",
          "French",
          "French",
          "French",
          "French",
          "French",
          "French",
          "French",
          "French",
          "French",
          "French",
          "French",
          "French",
          "French",
          "French",
          "French",
          "French",
          "French",
          "French",
          "French",
          "French",
          "French",
          "French",
          "French",
          "French",
          "French",
          "French",
          "French",
          "French",
          "French",
          "French",
          "French",
          "French",
          "French",
          "French",
          "French",
          "French",
          "French",
          "French",
          "French",
          "French",
          "French",
          "French",
          "French",
          "French",
          "French",
          "French",
          "French",
          "French",
          "French",
          "French",
          "French",
          "French",
          "French",
          "French",
          "French",
          "French",
          "French",
          "French",
          "French",
          "French",
          "French",
          "French",
          "French",
          "French",
          "French",
          "French",
          "French",
          "French",
          "French",
          "French",
          "French",
          "French",
          "French",
          "French",
          "French",
          "French",
          "French",
          "French",
          "French",
          "French",
          "French",
          "French",
          "French",
          "French",
          "French",
          "French",
          "French",
          "French",
          "French",
          "French",
          "French",
          "French",
          "French",
          "French",
          "French",
          "French",
          "French",
          "French",
          "French",
          "French",
          "French",
          "French",
          "French",
          "French",
          "French",
          "French",
          "French",
          "French",
          "French",
          "French",
          "French",
          "French",
          "French",
          "French",
          "French",
          "French",
          "French",
          "French",
          "French",
          "French",
          "French",
          "French",
          "French",
          "French",
          "French",
          "French",
          "French",
          "French",
          "French",
          "French",
          "French",
          "French",
          "French",
          "French",
          "French",
          "Tuscan",
          "Tuscan",
          "Tuscan",
          "Tuscan",
          "Tuscan",
          "Tuscan",
          "Tuscan",
          "Tuscan",
          "Tuscan",
          "Tuscan",
          "Tuscan",
          "Tuscan",
          "Tuscan",
          "Tuscan",
          "Tuscan",
          "Tuscan",
          "Tuscan",
          "Tuscan",
          "Tuscan",
          "Tuscan",
          "Tuscan",
          "Tuscan",
          "Tuscan",
          "Tuscan",
          "Tuscan",
          "Tuscan",
          "Tuscan",
          "Tuscan",
          "Tuscan",
          "Tuscan",
          "Tuscan",
          "Tuscan",
          "Tuscan",
          "Tuscan",
          "Tuscan",
          "Tuscan",
          "Tuscan",
          "Tuscan",
          "Tuscan",
          "Tuscan",
          "Tuscan",
          "Tuscan",
          "Tuscan",
          "Tuscan",
          "Tuscan",
          "Tuscan",
          "Tuscan",
          "Tuscan",
          "Tuscan",
          "Tuscan",
          "Tuscan",
          "Tuscan",
          "Tuscan",
          "Tuscan",
          "Tuscan",
          "Tuscan",
          "Tuscan",
          "Tuscan",
          "Tuscan",
          "Tuscan",
          "Tuscan",
          "Tuscan",
          "Tuscan",
          "Tuscan",
          "Tuscan",
          "Tuscan",
          "Tuscan",
          "Tuscan",
          "Tuscan",
          "Tuscan",
          "Tuscan",
          "Tuscan",
          "Tuscan",
          "Tuscan",
          "Tuscan",
          "Tuscan",
          "Tuscan",
          "Tuscan",
          "Tuscan",
          "Tuscan",
          "Tuscan",
          "Tuscan",
          "Tuscan",
          "Tuscan",
          "Tuscan",
          "Tuscan",
          "Tuscan",
          "Tuscan",
          "Tuscan",
          "Tuscan",
          "Tuscan",
          "Tuscan",
          "Tuscan",
          "Tuscan",
          "Tuscan",
          "Tuscan",
          "Tuscan",
          "Tuscan",
          "Tuscan",
          "Tuscan",
          "Tuscan",
          "Tuscan",
          "Tuscan",
          "Tuscan",
          "Tuscan",
          "Tuscan",
          "Tuscan",
          "Tuscan",
          "Tuscan",
          "Tuscan",
          "Tuscan",
          "Tuscan",
          "Tuscan",
          "Tuscan",
          "Tuscan",
          "Tuscan",
          "Tuscan",
          "Tuscan",
          "Tuscan",
          "Tuscan",
          "Tuscan",
          "Tuscan",
          "Tuscan",
          "Tuscan",
          "Tuscan",
          "Tuscan",
          "Tuscan",
          "Tuscan",
          "Tuscan",
          "Tuscan",
          "Tuscan",
          "Tuscan",
          "Tuscan",
          "Tuscan",
          "Tuscan",
          "Tuscan",
          "Tuscan"
         ],
         "type": "scattergeo"
        },
        {
         "lat": [
          46,
          46,
          46,
          46,
          46,
          46,
          46,
          46,
          46,
          46,
          46,
          46,
          46,
          46,
          46,
          46,
          46,
          46,
          46,
          46,
          46,
          46,
          46,
          46,
          46,
          46,
          46,
          46,
          46,
          46,
          46,
          46,
          46,
          46,
          46,
          46,
          46,
          46,
          46,
          46,
          46,
          46,
          46,
          46,
          46,
          46,
          46,
          46,
          46,
          46,
          46,
          46,
          46,
          46,
          46,
          46,
          46,
          46,
          46,
          46,
          46,
          46,
          46,
          46,
          46,
          46,
          46,
          46,
          46,
          46,
          46,
          46,
          46,
          46,
          46,
          46,
          46,
          46,
          46,
          46,
          46,
          46,
          46,
          46,
          46,
          46,
          46,
          46,
          46,
          46,
          46,
          46,
          46,
          46,
          46,
          46,
          46,
          46,
          46,
          46,
          46,
          46,
          46,
          46,
          46,
          46,
          46,
          46,
          46,
          46,
          46,
          46,
          46,
          46,
          46,
          46,
          46,
          46,
          46,
          46,
          46,
          46,
          46,
          46,
          46,
          46,
          46,
          46,
          46,
          46,
          46,
          46,
          46,
          46,
          46,
          46,
          46,
          46,
          46,
          46,
          46,
          46,
          46,
          46,
          46,
          46,
          46,
          46,
          46,
          46,
          46,
          46,
          46,
          46,
          46,
          46,
          46,
          46,
          46,
          46,
          46,
          46,
          46,
          46,
          46,
          46,
          46,
          46,
          46,
          46,
          46,
          46,
          46,
          46,
          46,
          46,
          46,
          46,
          46,
          46,
          43.00000000000001,
          43.00000000000001,
          43.00000000000001,
          43.00000000000001,
          43.00000000000001,
          43.00000000000001,
          43.00000000000001,
          43.00000000000001,
          43.00000000000001,
          43.00000000000001,
          43.00000000000001,
          43.00000000000001,
          43.00000000000001,
          43.00000000000001,
          43.00000000000001,
          43.00000000000001,
          43.00000000000001,
          43.00000000000001,
          43.00000000000001,
          43.00000000000001,
          43.00000000000001,
          43.00000000000001,
          43.00000000000001,
          43.00000000000001,
          43.00000000000001,
          43.00000000000001,
          43.00000000000001,
          43.00000000000001,
          43.00000000000001,
          43.00000000000001,
          43.00000000000001,
          43.00000000000001,
          43.00000000000001,
          43.00000000000001,
          43.00000000000001,
          43.00000000000001,
          43.00000000000001,
          43.00000000000001,
          43.00000000000001,
          43.00000000000001,
          43.00000000000001,
          43.00000000000001,
          43.00000000000001,
          43.00000000000001,
          43.00000000000001,
          43.00000000000001,
          43.00000000000001,
          43.00000000000001,
          43.00000000000001,
          43.00000000000001,
          43.00000000000001,
          43.00000000000001,
          43.00000000000001,
          43.00000000000001,
          43.00000000000001,
          43.00000000000001,
          43.00000000000001,
          43.00000000000001,
          43.00000000000001,
          43.00000000000001,
          43.00000000000001,
          43.00000000000001,
          43.00000000000001,
          43.00000000000001,
          43.00000000000001,
          43.00000000000001,
          43.00000000000001,
          43.00000000000001,
          43.00000000000001,
          43.00000000000001,
          43.00000000000001,
          43.00000000000001,
          43.00000000000001,
          43.00000000000001,
          43.00000000000001,
          43.00000000000001,
          43.00000000000001,
          43.00000000000001,
          43.00000000000001,
          43.00000000000001,
          43.00000000000001,
          43.00000000000001,
          43.00000000000001,
          43.00000000000001,
          43.00000000000001,
          43.00000000000001,
          43.00000000000001,
          43.00000000000001,
          43.00000000000001,
          43.00000000000001,
          43.00000000000001,
          43.00000000000001,
          43.00000000000001,
          43.00000000000001,
          43.00000000000001,
          43.00000000000001,
          43.00000000000001,
          43.00000000000001,
          43.00000000000001,
          43.00000000000001,
          43.00000000000001,
          43.00000000000001,
          43.00000000000001,
          43.00000000000001,
          43.00000000000001,
          43.00000000000001,
          43.00000000000001,
          43.00000000000001,
          43.00000000000001,
          43.00000000000001,
          43.00000000000001,
          43.00000000000001,
          43.00000000000001,
          43.00000000000001,
          43.00000000000001,
          43.00000000000001,
          43.00000000000001,
          43.00000000000001,
          43.00000000000001,
          43.00000000000001,
          43.00000000000001,
          43.00000000000001,
          43.00000000000001,
          43.00000000000001,
          43.00000000000001,
          43.00000000000001,
          43.00000000000001,
          43.00000000000001,
          43.00000000000001,
          43.00000000000001,
          43.00000000000001,
          43.00000000000001,
          43.00000000000001,
          43.00000000000001,
          43.00000000000001,
          43.00000000000001,
          43.00000000000001
         ],
         "lon": [
          1.9999999999999998,
          1.9999999999999998,
          1.9999999999999998,
          1.9999999999999998,
          1.9999999999999998,
          1.9999999999999998,
          1.9999999999999998,
          1.9999999999999998,
          1.9999999999999998,
          1.9999999999999998,
          1.9999999999999998,
          1.9999999999999998,
          1.9999999999999998,
          1.9999999999999998,
          1.9999999999999998,
          1.9999999999999998,
          1.9999999999999998,
          1.9999999999999998,
          1.9999999999999998,
          1.9999999999999998,
          1.9999999999999998,
          1.9999999999999998,
          1.9999999999999998,
          1.9999999999999998,
          1.9999999999999998,
          1.9999999999999998,
          1.9999999999999998,
          1.9999999999999998,
          1.9999999999999998,
          1.9999999999999998,
          1.9999999999999998,
          1.9999999999999998,
          1.9999999999999998,
          1.9999999999999998,
          1.9999999999999998,
          1.9999999999999998,
          1.9999999999999998,
          1.9999999999999998,
          1.9999999999999998,
          1.9999999999999998,
          1.9999999999999998,
          1.9999999999999998,
          1.9999999999999998,
          1.9999999999999998,
          1.9999999999999998,
          1.9999999999999998,
          1.9999999999999998,
          1.9999999999999998,
          1.9999999999999998,
          1.9999999999999998,
          1.9999999999999998,
          1.9999999999999998,
          1.9999999999999998,
          1.9999999999999998,
          1.9999999999999998,
          1.9999999999999998,
          1.9999999999999998,
          1.9999999999999998,
          1.9999999999999998,
          1.9999999999999998,
          1.9999999999999998,
          1.9999999999999998,
          1.9999999999999998,
          1.9999999999999998,
          1.9999999999999998,
          1.9999999999999998,
          1.9999999999999998,
          1.9999999999999998,
          1.9999999999999998,
          1.9999999999999998,
          1.9999999999999998,
          1.9999999999999998,
          1.9999999999999998,
          1.9999999999999998,
          1.9999999999999998,
          1.9999999999999998,
          1.9999999999999998,
          1.9999999999999998,
          1.9999999999999998,
          1.9999999999999998,
          1.9999999999999998,
          1.9999999999999998,
          1.9999999999999998,
          1.9999999999999998,
          1.9999999999999998,
          1.9999999999999998,
          1.9999999999999998,
          1.9999999999999998,
          1.9999999999999998,
          1.9999999999999998,
          1.9999999999999998,
          1.9999999999999998,
          1.9999999999999998,
          1.9999999999999998,
          1.9999999999999998,
          1.9999999999999998,
          1.9999999999999998,
          1.9999999999999998,
          1.9999999999999998,
          1.9999999999999998,
          1.9999999999999998,
          1.9999999999999998,
          1.9999999999999998,
          1.9999999999999998,
          1.9999999999999998,
          1.9999999999999998,
          1.9999999999999998,
          1.9999999999999998,
          1.9999999999999998,
          1.9999999999999998,
          1.9999999999999998,
          1.9999999999999998,
          1.9999999999999998,
          1.9999999999999998,
          1.9999999999999998,
          1.9999999999999998,
          1.9999999999999998,
          1.9999999999999998,
          1.9999999999999998,
          1.9999999999999998,
          1.9999999999999998,
          1.9999999999999998,
          1.9999999999999998,
          1.9999999999999998,
          1.9999999999999998,
          1.9999999999999998,
          1.9999999999999998,
          1.9999999999999998,
          1.9999999999999998,
          1.9999999999999998,
          1.9999999999999998,
          1.9999999999999998,
          1.9999999999999998,
          1.9999999999999998,
          1.9999999999999998,
          1.9999999999999998,
          1.9999999999999998,
          1.9999999999999998,
          1.9999999999999998,
          1.9999999999999998,
          1.9999999999999998,
          1.9999999999999998,
          1.9999999999999998,
          1.9999999999999998,
          1.9999999999999998,
          1.9999999999999998,
          1.9999999999999998,
          1.9999999999999998,
          1.9999999999999998,
          1.9999999999999998,
          1.9999999999999998,
          1.9999999999999998,
          1.9999999999999998,
          1.9999999999999998,
          1.9999999999999998,
          1.9999999999999998,
          1.9999999999999998,
          1.9999999999999998,
          1.9999999999999998,
          1.9999999999999998,
          1.9999999999999998,
          1.9999999999999998,
          1.9999999999999998,
          1.9999999999999998,
          1.9999999999999998,
          1.9999999999999998,
          1.9999999999999998,
          1.9999999999999998,
          1.9999999999999998,
          1.9999999999999998,
          1.9999999999999998,
          1.9999999999999998,
          1.9999999999999998,
          1.9999999999999998,
          1.9999999999999998,
          1.9999999999999998,
          1.9999999999999998,
          1.9999999999999998,
          1.9999999999999998,
          1.9999999999999998,
          10.999999999999998,
          10.999999999999998,
          10.999999999999998,
          10.999999999999998,
          10.999999999999998,
          10.999999999999998,
          10.999999999999998,
          10.999999999999998,
          10.999999999999998,
          10.999999999999998,
          10.999999999999998,
          10.999999999999998,
          10.999999999999998,
          10.999999999999998,
          10.999999999999998,
          10.999999999999998,
          10.999999999999998,
          10.999999999999998,
          10.999999999999998,
          10.999999999999998,
          10.999999999999998,
          10.999999999999998,
          10.999999999999998,
          10.999999999999998,
          10.999999999999998,
          10.999999999999998,
          10.999999999999998,
          10.999999999999998,
          10.999999999999998,
          10.999999999999998,
          10.999999999999998,
          10.999999999999998,
          10.999999999999998,
          10.999999999999998,
          10.999999999999998,
          10.999999999999998,
          10.999999999999998,
          10.999999999999998,
          10.999999999999998,
          10.999999999999998,
          10.999999999999998,
          10.999999999999998,
          10.999999999999998,
          10.999999999999998,
          10.999999999999998,
          10.999999999999998,
          10.999999999999998,
          10.999999999999998,
          10.999999999999998,
          10.999999999999998,
          10.999999999999998,
          10.999999999999998,
          10.999999999999998,
          10.999999999999998,
          10.999999999999998,
          10.999999999999998,
          10.999999999999998,
          10.999999999999998,
          10.999999999999998,
          10.999999999999998,
          10.999999999999998,
          10.999999999999998,
          10.999999999999998,
          10.999999999999998,
          10.999999999999998,
          10.999999999999998,
          10.999999999999998,
          10.999999999999998,
          10.999999999999998,
          10.999999999999998,
          10.999999999999998,
          10.999999999999998,
          10.999999999999998,
          10.999999999999998,
          10.999999999999998,
          10.999999999999998,
          10.999999999999998,
          10.999999999999998,
          10.999999999999998,
          10.999999999999998,
          10.999999999999998,
          10.999999999999998,
          10.999999999999998,
          10.999999999999998,
          10.999999999999998,
          10.999999999999998,
          10.999999999999998,
          10.999999999999998,
          10.999999999999998,
          10.999999999999998,
          10.999999999999998,
          10.999999999999998,
          10.999999999999998,
          10.999999999999998,
          10.999999999999998,
          10.999999999999998,
          10.999999999999998,
          10.999999999999998,
          10.999999999999998,
          10.999999999999998,
          10.999999999999998,
          10.999999999999998,
          10.999999999999998,
          10.999999999999998,
          10.999999999999998,
          10.999999999999998,
          10.999999999999998,
          10.999999999999998,
          10.999999999999998,
          10.999999999999998,
          10.999999999999998,
          10.999999999999998,
          10.999999999999998,
          10.999999999999998,
          10.999999999999998,
          10.999999999999998,
          10.999999999999998,
          10.999999999999998,
          10.999999999999998,
          10.999999999999998,
          10.999999999999998,
          10.999999999999998,
          10.999999999999998,
          10.999999999999998,
          10.999999999999998,
          10.999999999999998,
          10.999999999999998,
          10.999999999999998,
          10.999999999999998,
          10.999999999999998,
          10.999999999999998,
          10.999999999999998,
          10.999999999999998,
          10.999999999999998,
          10.999999999999998,
          10.999999999999998,
          10.999999999999998
         ],
         "marker": {
          "size": 5,
          "symbol": "square"
         },
         "text": [
          "French",
          "French",
          "French",
          "French",
          "French",
          "French",
          "French",
          "French",
          "French",
          "French",
          "French",
          "French",
          "French",
          "French",
          "French",
          "French",
          "French",
          "French",
          "French",
          "French",
          "French",
          "French",
          "French",
          "French",
          "French",
          "French",
          "French",
          "French",
          "French",
          "French",
          "French",
          "French",
          "French",
          "French",
          "French",
          "French",
          "French",
          "French",
          "French",
          "French",
          "French",
          "French",
          "French",
          "French",
          "French",
          "French",
          "French",
          "French",
          "French",
          "French",
          "French",
          "French",
          "French",
          "French",
          "French",
          "French",
          "French",
          "French",
          "French",
          "French",
          "French",
          "French",
          "French",
          "French",
          "French",
          "French",
          "French",
          "French",
          "French",
          "French",
          "French",
          "French",
          "French",
          "French",
          "French",
          "French",
          "French",
          "French",
          "French",
          "French",
          "French",
          "French",
          "French",
          "French",
          "French",
          "French",
          "French",
          "French",
          "French",
          "French",
          "French",
          "French",
          "French",
          "French",
          "French",
          "French",
          "French",
          "French",
          "French",
          "French",
          "French",
          "French",
          "French",
          "French",
          "French",
          "French",
          "French",
          "French",
          "French",
          "French",
          "French",
          "French",
          "French",
          "French",
          "French",
          "French",
          "French",
          "French",
          "French",
          "French",
          "French",
          "French",
          "French",
          "French",
          "French",
          "French",
          "French",
          "French",
          "French",
          "French",
          "French",
          "French",
          "French",
          "French",
          "French",
          "French",
          "French",
          "French",
          "French",
          "French",
          "French",
          "French",
          "French",
          "French",
          "French",
          "French",
          "French",
          "French",
          "French",
          "French",
          "French",
          "French",
          "French",
          "French",
          "French",
          "French",
          "French",
          "French",
          "French",
          "French",
          "French",
          "French",
          "French",
          "French",
          "French",
          "French",
          "French",
          "French",
          "French",
          "French",
          "French",
          "French",
          "French",
          "French",
          "French",
          "French",
          "French",
          "French",
          "French",
          "French",
          "Tuscan",
          "Tuscan",
          "Tuscan",
          "Tuscan",
          "Tuscan",
          "Tuscan",
          "Tuscan",
          "Tuscan",
          "Tuscan",
          "Tuscan",
          "Tuscan",
          "Tuscan",
          "Tuscan",
          "Tuscan",
          "Tuscan",
          "Tuscan",
          "Tuscan",
          "Tuscan",
          "Tuscan",
          "Tuscan",
          "Tuscan",
          "Tuscan",
          "Tuscan",
          "Tuscan",
          "Tuscan",
          "Tuscan",
          "Tuscan",
          "Tuscan",
          "Tuscan",
          "Tuscan",
          "Tuscan",
          "Tuscan",
          "Tuscan",
          "Tuscan",
          "Tuscan",
          "Tuscan",
          "Tuscan",
          "Tuscan",
          "Tuscan",
          "Tuscan",
          "Tuscan",
          "Tuscan",
          "Tuscan",
          "Tuscan",
          "Tuscan",
          "Tuscan",
          "Tuscan",
          "Tuscan",
          "Tuscan",
          "Tuscan",
          "Tuscan",
          "Tuscan",
          "Tuscan",
          "Tuscan",
          "Tuscan",
          "Tuscan",
          "Tuscan",
          "Tuscan",
          "Tuscan",
          "Tuscan",
          "Tuscan",
          "Tuscan",
          "Tuscan",
          "Tuscan",
          "Tuscan",
          "Tuscan",
          "Tuscan",
          "Tuscan",
          "Tuscan",
          "Tuscan",
          "Tuscan",
          "Tuscan",
          "Tuscan",
          "Tuscan",
          "Tuscan",
          "Tuscan",
          "Tuscan",
          "Tuscan",
          "Tuscan",
          "Tuscan",
          "Tuscan",
          "Tuscan",
          "Tuscan",
          "Tuscan",
          "Tuscan",
          "Tuscan",
          "Tuscan",
          "Tuscan",
          "Tuscan",
          "Tuscan",
          "Tuscan",
          "Tuscan",
          "Tuscan",
          "Tuscan",
          "Tuscan",
          "Tuscan",
          "Tuscan",
          "Tuscan",
          "Tuscan",
          "Tuscan",
          "Tuscan",
          "Tuscan",
          "Tuscan",
          "Tuscan",
          "Tuscan",
          "Tuscan",
          "Tuscan",
          "Tuscan",
          "Tuscan",
          "Tuscan",
          "Tuscan",
          "Tuscan",
          "Tuscan",
          "Tuscan",
          "Tuscan",
          "Tuscan",
          "Tuscan",
          "Tuscan",
          "Tuscan",
          "Tuscan",
          "Tuscan",
          "Tuscan",
          "Tuscan",
          "Tuscan",
          "Tuscan",
          "Tuscan",
          "Tuscan",
          "Tuscan",
          "Tuscan",
          "Tuscan",
          "Tuscan",
          "Tuscan",
          "Tuscan",
          "Tuscan",
          "Tuscan",
          "Tuscan",
          "Tuscan"
         ],
         "type": "scattergeo"
        }
       ],
       "layout": {
        "template": {
         "data": {
          "bar": [
           {
            "error_x": {
             "color": "#2a3f5f"
            },
            "error_y": {
             "color": "#2a3f5f"
            },
            "marker": {
             "line": {
              "color": "#E5ECF6",
              "width": 0.5
             }
            },
            "type": "bar"
           }
          ],
          "barpolar": [
           {
            "marker": {
             "line": {
              "color": "#E5ECF6",
              "width": 0.5
             }
            },
            "type": "barpolar"
           }
          ],
          "carpet": [
           {
            "aaxis": {
             "endlinecolor": "#2a3f5f",
             "gridcolor": "white",
             "linecolor": "white",
             "minorgridcolor": "white",
             "startlinecolor": "#2a3f5f"
            },
            "baxis": {
             "endlinecolor": "#2a3f5f",
             "gridcolor": "white",
             "linecolor": "white",
             "minorgridcolor": "white",
             "startlinecolor": "#2a3f5f"
            },
            "type": "carpet"
           }
          ],
          "choropleth": [
           {
            "colorbar": {
             "outlinewidth": 0,
             "ticks": ""
            },
            "type": "choropleth"
           }
          ],
          "contour": [
           {
            "colorbar": {
             "outlinewidth": 0,
             "ticks": ""
            },
            "colorscale": [
             [
              0,
              "#0d0887"
             ],
             [
              0.1111111111111111,
              "#46039f"
             ],
             [
              0.2222222222222222,
              "#7201a8"
             ],
             [
              0.3333333333333333,
              "#9c179e"
             ],
             [
              0.4444444444444444,
              "#bd3786"
             ],
             [
              0.5555555555555556,
              "#d8576b"
             ],
             [
              0.6666666666666666,
              "#ed7953"
             ],
             [
              0.7777777777777778,
              "#fb9f3a"
             ],
             [
              0.8888888888888888,
              "#fdca26"
             ],
             [
              1,
              "#f0f921"
             ]
            ],
            "type": "contour"
           }
          ],
          "contourcarpet": [
           {
            "colorbar": {
             "outlinewidth": 0,
             "ticks": ""
            },
            "type": "contourcarpet"
           }
          ],
          "heatmap": [
           {
            "colorbar": {
             "outlinewidth": 0,
             "ticks": ""
            },
            "colorscale": [
             [
              0,
              "#0d0887"
             ],
             [
              0.1111111111111111,
              "#46039f"
             ],
             [
              0.2222222222222222,
              "#7201a8"
             ],
             [
              0.3333333333333333,
              "#9c179e"
             ],
             [
              0.4444444444444444,
              "#bd3786"
             ],
             [
              0.5555555555555556,
              "#d8576b"
             ],
             [
              0.6666666666666666,
              "#ed7953"
             ],
             [
              0.7777777777777778,
              "#fb9f3a"
             ],
             [
              0.8888888888888888,
              "#fdca26"
             ],
             [
              1,
              "#f0f921"
             ]
            ],
            "type": "heatmap"
           }
          ],
          "heatmapgl": [
           {
            "colorbar": {
             "outlinewidth": 0,
             "ticks": ""
            },
            "colorscale": [
             [
              0,
              "#0d0887"
             ],
             [
              0.1111111111111111,
              "#46039f"
             ],
             [
              0.2222222222222222,
              "#7201a8"
             ],
             [
              0.3333333333333333,
              "#9c179e"
             ],
             [
              0.4444444444444444,
              "#bd3786"
             ],
             [
              0.5555555555555556,
              "#d8576b"
             ],
             [
              0.6666666666666666,
              "#ed7953"
             ],
             [
              0.7777777777777778,
              "#fb9f3a"
             ],
             [
              0.8888888888888888,
              "#fdca26"
             ],
             [
              1,
              "#f0f921"
             ]
            ],
            "type": "heatmapgl"
           }
          ],
          "histogram": [
           {
            "marker": {
             "colorbar": {
              "outlinewidth": 0,
              "ticks": ""
             }
            },
            "type": "histogram"
           }
          ],
          "histogram2d": [
           {
            "colorbar": {
             "outlinewidth": 0,
             "ticks": ""
            },
            "colorscale": [
             [
              0,
              "#0d0887"
             ],
             [
              0.1111111111111111,
              "#46039f"
             ],
             [
              0.2222222222222222,
              "#7201a8"
             ],
             [
              0.3333333333333333,
              "#9c179e"
             ],
             [
              0.4444444444444444,
              "#bd3786"
             ],
             [
              0.5555555555555556,
              "#d8576b"
             ],
             [
              0.6666666666666666,
              "#ed7953"
             ],
             [
              0.7777777777777778,
              "#fb9f3a"
             ],
             [
              0.8888888888888888,
              "#fdca26"
             ],
             [
              1,
              "#f0f921"
             ]
            ],
            "type": "histogram2d"
           }
          ],
          "histogram2dcontour": [
           {
            "colorbar": {
             "outlinewidth": 0,
             "ticks": ""
            },
            "colorscale": [
             [
              0,
              "#0d0887"
             ],
             [
              0.1111111111111111,
              "#46039f"
             ],
             [
              0.2222222222222222,
              "#7201a8"
             ],
             [
              0.3333333333333333,
              "#9c179e"
             ],
             [
              0.4444444444444444,
              "#bd3786"
             ],
             [
              0.5555555555555556,
              "#d8576b"
             ],
             [
              0.6666666666666666,
              "#ed7953"
             ],
             [
              0.7777777777777778,
              "#fb9f3a"
             ],
             [
              0.8888888888888888,
              "#fdca26"
             ],
             [
              1,
              "#f0f921"
             ]
            ],
            "type": "histogram2dcontour"
           }
          ],
          "mesh3d": [
           {
            "colorbar": {
             "outlinewidth": 0,
             "ticks": ""
            },
            "type": "mesh3d"
           }
          ],
          "parcoords": [
           {
            "line": {
             "colorbar": {
              "outlinewidth": 0,
              "ticks": ""
             }
            },
            "type": "parcoords"
           }
          ],
          "pie": [
           {
            "automargin": true,
            "type": "pie"
           }
          ],
          "scatter": [
           {
            "marker": {
             "colorbar": {
              "outlinewidth": 0,
              "ticks": ""
             }
            },
            "type": "scatter"
           }
          ],
          "scatter3d": [
           {
            "line": {
             "colorbar": {
              "outlinewidth": 0,
              "ticks": ""
             }
            },
            "marker": {
             "colorbar": {
              "outlinewidth": 0,
              "ticks": ""
             }
            },
            "type": "scatter3d"
           }
          ],
          "scattercarpet": [
           {
            "marker": {
             "colorbar": {
              "outlinewidth": 0,
              "ticks": ""
             }
            },
            "type": "scattercarpet"
           }
          ],
          "scattergeo": [
           {
            "marker": {
             "colorbar": {
              "outlinewidth": 0,
              "ticks": ""
             }
            },
            "type": "scattergeo"
           }
          ],
          "scattergl": [
           {
            "marker": {
             "colorbar": {
              "outlinewidth": 0,
              "ticks": ""
             }
            },
            "type": "scattergl"
           }
          ],
          "scattermapbox": [
           {
            "marker": {
             "colorbar": {
              "outlinewidth": 0,
              "ticks": ""
             }
            },
            "type": "scattermapbox"
           }
          ],
          "scatterpolar": [
           {
            "marker": {
             "colorbar": {
              "outlinewidth": 0,
              "ticks": ""
             }
            },
            "type": "scatterpolar"
           }
          ],
          "scatterpolargl": [
           {
            "marker": {
             "colorbar": {
              "outlinewidth": 0,
              "ticks": ""
             }
            },
            "type": "scatterpolargl"
           }
          ],
          "scatterternary": [
           {
            "marker": {
             "colorbar": {
              "outlinewidth": 0,
              "ticks": ""
             }
            },
            "type": "scatterternary"
           }
          ],
          "surface": [
           {
            "colorbar": {
             "outlinewidth": 0,
             "ticks": ""
            },
            "colorscale": [
             [
              0,
              "#0d0887"
             ],
             [
              0.1111111111111111,
              "#46039f"
             ],
             [
              0.2222222222222222,
              "#7201a8"
             ],
             [
              0.3333333333333333,
              "#9c179e"
             ],
             [
              0.4444444444444444,
              "#bd3786"
             ],
             [
              0.5555555555555556,
              "#d8576b"
             ],
             [
              0.6666666666666666,
              "#ed7953"
             ],
             [
              0.7777777777777778,
              "#fb9f3a"
             ],
             [
              0.8888888888888888,
              "#fdca26"
             ],
             [
              1,
              "#f0f921"
             ]
            ],
            "type": "surface"
           }
          ],
          "table": [
           {
            "cells": {
             "fill": {
              "color": "#EBF0F8"
             },
             "line": {
              "color": "white"
             }
            },
            "header": {
             "fill": {
              "color": "#C8D4E3"
             },
             "line": {
              "color": "white"
             }
            },
            "type": "table"
           }
          ]
         },
         "layout": {
          "annotationdefaults": {
           "arrowcolor": "#2a3f5f",
           "arrowhead": 0,
           "arrowwidth": 1
          },
          "autotypenumbers": "strict",
          "coloraxis": {
           "colorbar": {
            "outlinewidth": 0,
            "ticks": ""
           }
          },
          "colorscale": {
           "diverging": [
            [
             0,
             "#8e0152"
            ],
            [
             0.1,
             "#c51b7d"
            ],
            [
             0.2,
             "#de77ae"
            ],
            [
             0.3,
             "#f1b6da"
            ],
            [
             0.4,
             "#fde0ef"
            ],
            [
             0.5,
             "#f7f7f7"
            ],
            [
             0.6,
             "#e6f5d0"
            ],
            [
             0.7,
             "#b8e186"
            ],
            [
             0.8,
             "#7fbc41"
            ],
            [
             0.9,
             "#4d9221"
            ],
            [
             1,
             "#276419"
            ]
           ],
           "sequential": [
            [
             0,
             "#0d0887"
            ],
            [
             0.1111111111111111,
             "#46039f"
            ],
            [
             0.2222222222222222,
             "#7201a8"
            ],
            [
             0.3333333333333333,
             "#9c179e"
            ],
            [
             0.4444444444444444,
             "#bd3786"
            ],
            [
             0.5555555555555556,
             "#d8576b"
            ],
            [
             0.6666666666666666,
             "#ed7953"
            ],
            [
             0.7777777777777778,
             "#fb9f3a"
            ],
            [
             0.8888888888888888,
             "#fdca26"
            ],
            [
             1,
             "#f0f921"
            ]
           ],
           "sequentialminus": [
            [
             0,
             "#0d0887"
            ],
            [
             0.1111111111111111,
             "#46039f"
            ],
            [
             0.2222222222222222,
             "#7201a8"
            ],
            [
             0.3333333333333333,
             "#9c179e"
            ],
            [
             0.4444444444444444,
             "#bd3786"
            ],
            [
             0.5555555555555556,
             "#d8576b"
            ],
            [
             0.6666666666666666,
             "#ed7953"
            ],
            [
             0.7777777777777778,
             "#fb9f3a"
            ],
            [
             0.8888888888888888,
             "#fdca26"
            ],
            [
             1,
             "#f0f921"
            ]
           ]
          },
          "colorway": [
           "#636efa",
           "#EF553B",
           "#00cc96",
           "#ab63fa",
           "#FFA15A",
           "#19d3f3",
           "#FF6692",
           "#B6E880",
           "#FF97FF",
           "#FECB52"
          ],
          "font": {
           "color": "#2a3f5f"
          },
          "geo": {
           "bgcolor": "white",
           "lakecolor": "white",
           "landcolor": "#E5ECF6",
           "showlakes": true,
           "showland": true,
           "subunitcolor": "white"
          },
          "hoverlabel": {
           "align": "left"
          },
          "hovermode": "closest",
          "mapbox": {
           "style": "light"
          },
          "paper_bgcolor": "white",
          "plot_bgcolor": "#E5ECF6",
          "polar": {
           "angularaxis": {
            "gridcolor": "white",
            "linecolor": "white",
            "ticks": ""
           },
           "bgcolor": "#E5ECF6",
           "radialaxis": {
            "gridcolor": "white",
            "linecolor": "white",
            "ticks": ""
           }
          },
          "scene": {
           "xaxis": {
            "backgroundcolor": "#E5ECF6",
            "gridcolor": "white",
            "gridwidth": 2,
            "linecolor": "white",
            "showbackground": true,
            "ticks": "",
            "zerolinecolor": "white"
           },
           "yaxis": {
            "backgroundcolor": "#E5ECF6",
            "gridcolor": "white",
            "gridwidth": 2,
            "linecolor": "white",
            "showbackground": true,
            "ticks": "",
            "zerolinecolor": "white"
           },
           "zaxis": {
            "backgroundcolor": "#E5ECF6",
            "gridcolor": "white",
            "gridwidth": 2,
            "linecolor": "white",
            "showbackground": true,
            "ticks": "",
            "zerolinecolor": "white"
           }
          },
          "shapedefaults": {
           "line": {
            "color": "#2a3f5f"
           }
          },
          "ternary": {
           "aaxis": {
            "gridcolor": "white",
            "linecolor": "white",
            "ticks": ""
           },
           "baxis": {
            "gridcolor": "white",
            "linecolor": "white",
            "ticks": ""
           },
           "bgcolor": "#E5ECF6",
           "caxis": {
            "gridcolor": "white",
            "linecolor": "white",
            "ticks": ""
           }
          },
          "title": {
           "x": 0.05
          },
          "xaxis": {
           "automargin": true,
           "gridcolor": "white",
           "linecolor": "white",
           "ticks": "",
           "title": {
            "standoff": 15
           },
           "zerolinecolor": "white",
           "zerolinewidth": 2
          },
          "yaxis": {
           "automargin": true,
           "gridcolor": "white",
           "linecolor": "white",
           "ticks": "",
           "title": {
            "standoff": 15
           },
           "zerolinecolor": "white",
           "zerolinewidth": 2
          }
         }
        }
       }
      },
      "text/html": [
       "<div>                            <div id=\"616396da-e43a-4fef-89d7-98846197abb4\" class=\"plotly-graph-div\" style=\"height:525px; width:100%;\"></div>            <script type=\"text/javascript\">                require([\"plotly\"], function(Plotly) {                    window.PLOTLYENV=window.PLOTLYENV || {};                                    if (document.getElementById(\"616396da-e43a-4fef-89d7-98846197abb4\")) {                    Plotly.newPlot(                        \"616396da-e43a-4fef-89d7-98846197abb4\",                        [{\"marker\": {\"size\": 5}, \"type\": \"scattergeo\"}, {\"lat\": [46.052452087402344, 46.07958984375, 45.99961853027344, 46.45125961303711, 45.6589469909668, 45.1932373046875, 45.592803955078125, 45.56537628173828, 45.56420135498047, 45.74380874633789, 46.00752639770508, 45.95419692993164, 46.26097869873047, 46.473289489746094, 46.54081344604492, 46.597679138183594, 46.58680725097656, 46.58548355102539, 46.036590576171875, 46.08026885986328, 45.908226013183594, 46.04311752319336, 46.31375503540039, 46.31375503540039, 45.99931716918945, 45.82819366455078, 45.947086334228516, 45.842445373535156, 45.8592529296875, 45.994598388671875, 45.82323455810547, 45.566246032714844, 45.41498565673828, 45.609737396240234, 45.7105598449707, 45.563560485839844, 45.730491638183594, 45.65740203857422, 45.6945915222168, 45.71602249145508, 45.05760955810547, 44.752174377441406, 44.78927993774414, 44.70647430419922, 44.47810363769531, 44.55219268798828, 44.59843063354492, 44.675453186035156, 44.90753173828125, 44.476097106933594, 44.4112548828125, 44.494834899902344, 44.44514846801758, 44.28678512573242, 44.09100341796875, 44.095130920410156, 43.97442626953125, 44.00106430053711, 44.06194305419922, 43.9293327331543, 43.99980163574219, 44.11227035522461, 44.185123443603516, 44.175079345703125, 44.14784622192383, 44.14193344116211, 44.06808853149414, 44.13096618652344, 44.30189895629883, 44.25237274169922, 44.1579475402832, 44.50357437133789, 44.512142181396484, 44.66515350341797, 44.8663444519043, 44.666404724121094, 44.881439208984375, 44.88513946533203, 45.071598052978516, 45.01661682128906, 44.94308090209961, 45.08580780029297, 45.00457000732422, 44.986026763916016, 45.12855911254883, 45.10057830810547, 45.3807258605957, 45.42162322998047, 45.54025650024414, 45.41531753540039, 45.470035552978516, 45.643856048583984, 45.6744384765625, 45.7961540222168, 45.7342643737793, 45.82109832763672, 45.86439514160156, 45.89308166503906, 45.70800018310547, 45.74997329711914, 45.62620544433594, 45.70773696899414, 45.75932312011719, 45.858455657958984, 45.62145233154297, 45.844486236572266, 45.57399368286133, 45.67258071899414, 45.6699333190918, 45.667816162109375, 45.814476013183594, 45.81406784057617, 45.71819305419922, 45.622467041015625, 45.62781524658203, 45.69728088378906, 45.802642822265625, 45.62275314331055, 45.71175765991211, 45.75161361694336, 45.77134323120117, 45.73344421386719, 45.761505126953125, 45.88090896606445, 45.86323928833008, 45.99378204345703, 45.92624282836914, 46.07572555541992, 46.11968994140625, 46.074127197265625, 46.1680908203125, 45.82609176635742, 45.9490966796875, 46.07344436645508, 46.26873779296875, 45.965457916259766, 46.32151794433594, 46.22514724731445, 46.22117614746094, 46.197998046875, 46.13248825073242, 46.34162139892578, 46.44916915893555, 46.505821228027344, 46.46470260620117, 46.555423736572266, 46.26179504394531, 46.42898941040039, 46.389076232910156, 46.47947311401367, 46.3758544921875, 46.466636657714844, 46.52724075317383, 46.35847091674805, 46.72184371948242, 46.56156539916992, 46.59842300415039, 46.39071273803711, 46.45627975463867, 46.36948013305664, 46.387786865234375, 46.49015808105469, 46.4204216003418, 46.260005950927734, 46.36021041870117, 46.395320892333984, 46.38899230957031, 46.29501724243164, 46.381900787353516, 46.1966667175293, 46.358341217041016, 46.068687438964844, 45.98613739013672, 45.93925094604492, 45.99634552001953, 45.92216873168945, 45.84540939331055, 45.97945785522461, 46.03407669067383, 45.966407775878906, 46.01788330078125, 45.95254898071289, 45.963340759277344, 45.75606918334961, 45.75422286987305, 45.87578582763672, 45.742958068847656, 45.58732986450195, 45.46372604370117, 45.51055908203125, 45.67780303955078, 45.597816467285156, 45.68605041503906, 45.42915725708008, 45.26969909667969, 45.11555862426758, 45.302093505859375, 45.12220764160156, 45.32513427734375, 45.29422378540039, 45.307613372802734, 45.340309143066406, 45.33269119262695, 45.255523681640625, 45.541358947753906, 45.408721923828125, 45.41989517211914, 45.47627639770508, 45.23097610473633, 45.28815460205078, 45.348915100097656, 45.40252685546875, 45.398658752441406, 45.510345458984375, 45.55992126464844, 45.63443374633789, 45.62568283081055, 45.496849060058594, 45.72368621826172, 45.65068054199219, 45.63224792480469, 45.666316986083984, 45.680702209472656, 45.67536926269531, 45.36274719238281, 45.312644958496094, 45.453369140625, 45.4454345703125, 45.47426986694336, 45.4671745300293, 45.32911682128906, 45.475406646728516, 45.292930603027344, 45.3603515625, 45.21778106689453, 45.26957321166992, 45.28327941894531, 45.238929748535156, 45.28190994262695, 45.01256561279297, 45.09772872924805, 45.02741622924805, 44.92377471923828, 44.929969787597656, 44.822811126708984, 44.932743072509766, 44.908958435058594, 44.79502868652344, 44.66114807128906, 44.41706466674805, 44.142921447753906, 44.15224075317383, 43.97298812866211, 43.94581604003906, 43.87334442138672, 43.85121154785156, 43.856929779052734, 43.84345245361328, 43.496337890625, 43.51450729370117, 43.52056884765625, 43.48609924316406, 43.56334686279297, 43.4078369140625, 43.38006591796875, 43.474308013916016, 43.24360656738281, 42.99394226074219, 43.03662109375, 42.994300842285156, 43.158042907714844, 42.96160125732422, 43.03745651245117, 43.13330078125, 43.01526641845703, 43.01588821411133, 43.26933670043945, 43.43607711791992, 43.32929229736328, 43.30874252319336, 43.194061279296875, 43.15674591064453, 43.120452880859375, 43.080238342285156, 42.96672058105469, 42.971744537353516, 43.028106689453125, 43.1911735534668, 43.33103561401367, 43.07254409790039, 42.189537048339844, 41.01530456542969, 41.228797912597656, 41.10747146606445, 40.766807556152344, 40.12773895263672, 40.72686004638672, 41.19157028198242, 41.371700286865234, 41.79784393310547, 42.126346588134766, 42.39464569091797, 42.3880729675293, 42.53350067138672, 42.65601348876953, 42.26675033569336, 42.76136016845703, 42.8315544128418, 42.88056945800781, 43.07966232299805, 43.111167907714844, 43.11642074584961, 43.22624969482422, 43.17934036254883, 43.50640869140625, 43.589725494384766, 43.462825775146484], \"lon\": [4.479613780975342, 4.983921051025391, 4.90870475769043, 5.134099960327148, 4.616630554199219, 4.950226783752441, 5.007152557373047, 4.680217742919922, 4.39759635925293, 4.2528276443481445, 4.277068138122559, 4.009882926940918, 4.001784324645996, 3.2643978595733643, 2.8307158946990967, 3.311939001083374, 3.2159152030944824, 3.210331439971924, 3.320113182067871, 3.138624906539917, 3.0954389572143555, 2.623168468475342, 2.6535043716430664, 2.7780466079711914, 2.44437837600708, 2.2563488483428955, 1.9627941846847534, 2.2348709106445312, 1.7986241579055786, 1.5647982358932495, 1.2142728567123413, 1.1134965419769287, 0.8814900517463684, 0.9076586365699768, 0.7167991399765015, 0.428881973028183, 0.7877518534660339, 0.8574432730674744, 0.7838669419288635, 0.46657922863960266, -0.1510184407234192, -0.18566849827766418, 0.3207566738128662, 0.1844160556793213, -0.280841588973999, -0.1791183352470398, -0.1775684505701065, -0.036834172904491425, -0.027999700978398323, -0.26022711396217346, 0.1328442096710205, 0.084625244140625, 0.05266542360186577, -0.1362171173095703, -0.3217008113861084, -0.15532128512859344, -0.5001168251037598, 0.010713773779571056, -0.22493436932563782, -0.285264790058136, 0.15240882337093353, 0.012563928961753845, -0.14897339046001434, -0.0631842166185379, -0.05523309111595154, -0.43984246253967285, 0.24243414402008057, 0.09441424161195755, 0.007692224811762571, -0.017847754061222076, 0.33475199341773987, 0.12295717000961304, 0.4651303291320801, 0.47902393341064453, 0.16400329768657684, 0.5471223592758179, 0.24612388014793396, 0.4696321189403534, 0.37153005599975586, 0.44848281145095825, 0.7765651941299438, 0.5322085022926331, 0.5299388766288757, 0.24331411719322205, 0.4773715138435364, 0.5260055065155029, 0.3600831627845764, 0.48630866408348083, 0.6711151003837585, 0.5237979888916016, 0.6712561249732971, 0.48502975702285767, 0.564919114112854, 0.598608672618866, 0.8949375152587891, 0.6043280363082886, 0.6089246869087219, 0.4286499619483948, 0.6861681938171387, 0.8142634630203247, 0.8703187108039856, 0.8966521620750427, 0.9596527814865112, 0.8505755662918091, 1.045950174331665, 0.8104190826416016, 0.824335515499115, 0.8506374359130859, 0.7603110671043396, 0.708889365196228, 0.8044359087944031, 0.9614835977554321, 0.8083826303482056, 0.8198779821395874, 0.837289035320282, 0.8352975845336914, 0.754841685295105, 0.6940953135490417, 0.7732940912246704, 0.8917045593261719, 0.8999454975128174, 0.8105430006980896, 0.8531718254089355, 0.9056599140167236, 0.8190317749977112, 0.7858707904815674, 1.0751116275787354, 0.898094654083252, 0.9726155996322632, 0.8599867224693298, 1.045756459236145, 0.8843777775764465, 1.277355432510376, 1.2195408344268799, 1.0172663927078247, 1.3081510066986084, 1.2348357439041138, 1.3110464811325073, 1.1302165985107422, 1.2222718000411987, 1.3939515352249146, 1.5469567775726318, 1.5746328830718994, 1.569684624671936, 1.6767246723175049, 1.4751681089401245, 1.596901535987854, 1.5242258310317993, 1.6172617673873901, 1.6076751947402954, 1.793850302696228, 1.6697285175323486, 1.620909333229065, 1.628818392753601, 1.4906446933746338, 1.6540217399597168, 1.6705073118209839, 1.7559916973114014, 1.6483687162399292, 1.4760578870773315, 1.308876872062683, 1.2171467542648315, 1.1222866773605347, 1.2045015096664429, 1.2250217199325562, 1.1358935832977295, 1.2440739870071411, 1.350558876991272, 1.3374937772750854, 1.5304752588272095, 1.2692503929138184, 1.3191263675689697, 1.2011966705322266, 1.0920660495758057, 1.0678725242614746, 0.9174426198005676, 1.3565562963485718, 1.3576446771621704, 1.0519236326217651, 1.1486446857452393, 0.9815566539764404, 1.112146019935608, 0.9077052474021912, 1.1048539876937866, 1.145627498626709, 0.956931471824646, 0.9646183848381042, 0.7275550961494446, 0.5747004747390747, 1.031857967376709, 0.836341142654419, 1.0595223903656006, 1.1070207357406616, 1.0288023948669434, 1.4549829959869385, 1.5088528394699097, 1.4657812118530273, 1.9052703380584717, 1.5900884866714478, 1.5570595264434814, 1.7831076383590698, 1.7225220203399658, 1.7085238695144653, 1.727850079536438, 1.4248223304748535, 1.6304731369018555, 1.6337796449661255, 1.4107959270477295, 1.5772178173065186, 1.927700161933899, 1.8146766424179077, 1.7234060764312744, 1.4600030183792114, 1.2150912284851074, 1.172133207321167, 0.9776467084884644, 0.8964974880218506, 0.882511556148529, 0.7615876793861389, 0.8846167325973511, 0.8753596544265747, 1.0064735412597656, 0.9668497443199158, 0.8450455665588379, 0.6376301050186157, 1.0501728057861328, 1.0125662088394165, 1.0446127653121948, 1.0153234004974365, 1.2996222972869873, 1.6294809579849243, 1.253960132598877, 1.3452842235565186, 1.3444985151290894, 1.4247069358825684, 1.5491353273391724, 1.5392659902572632, 1.633128046989441, 1.6303961277008057, 1.8868154287338257, 2.0038366317749023, 2.055209159851074, 2.0121800899505615, 2.1136155128479004, 2.3920340538024902, 2.472048282623291, 2.5258469581604004, 3.0516467094421387, 2.962286949157715, 2.6854140758514404, 2.868692398071289, 2.927637815475464, 3.01531720161438, 2.9216928482055664, 2.7787582874298096, 2.9401674270629883, 2.8739562034606934, 2.9045004844665527, 2.9819719791412354, 2.913088083267212, 2.884880781173706, 2.96372127532959, 2.8969781398773193, 2.9223196506500244, 3.0632874965667725, 3.1772706508636475, 2.998142719268799, 2.842517375946045, 2.8727777004241943, 3.6167688369750977, 3.371020555496216, 3.2708332538604736, 3.4581947326660156, 3.474421262741089, 3.6318440437316895, 3.560631036758423, 3.439002513885498, 3.3020925521850586, 3.25122332572937, 2.951422691345215, 2.9504616260528564, 3.2638349533081055, 3.1250553131103516, 3.267641067504883, 3.17293381690979, 2.5209944248199463, 1.8849356174468994, 1.899632215499878, 1.427222728729248, 0.4363565146923065, -0.7799453735351562, -2.1707658767700195, -1.6146633625030518, -0.6418904662132263, -0.8305855989456177, -1.2936882972717285, -0.4965175986289978, -0.5319639444351196, -0.5472779273986816, -0.48487430810928345, -0.8238848447799683, -0.525321900844574, -0.09709928184747696, -0.22687013447284698, -0.0008252484840340912, 0.03437509387731552, -0.2691988945007324, 0.6013388633728027, 0.8531579971313477, 0.6909356713294983, 0.7409996390342712, 0.5146428346633911, 0.9615095853805542, 0.8154162764549255, 0.5086014866828918, 0.6183873414993286, 0.8229284286499023], \"marker\": {\"color\": [\"rgba(0.16666666666666663, 0.8660254037844386, 0.8660254037844387, 1.0)\", \"rgba(0.16666666666666663, 0.8660254037844386, 0.8660254037844387, 1.0)\", \"rgba(0.16666666666666663, 0.8660254037844386, 0.8660254037844387, 1.0)\", \"rgba(0.16666666666666663, 0.8660254037844386, 0.8660254037844387, 1.0)\", \"rgba(0.16666666666666663, 0.8660254037844386, 0.8660254037844387, 1.0)\", \"rgba(0.16666666666666663, 0.8660254037844386, 0.8660254037844387, 1.0)\", \"rgba(0.16666666666666663, 0.8660254037844386, 0.8660254037844387, 1.0)\", \"rgba(0.16666666666666663, 0.8660254037844386, 0.8660254037844387, 1.0)\", \"rgba(0.16666666666666663, 0.8660254037844386, 0.8660254037844387, 1.0)\", \"rgba(0.16666666666666663, 0.8660254037844386, 0.8660254037844387, 1.0)\", \"rgba(0.16666666666666663, 0.8660254037844386, 0.8660254037844387, 1.0)\", \"rgba(0.16666666666666663, 0.8660254037844386, 0.8660254037844387, 1.0)\", \"rgba(0.16666666666666663, 0.8660254037844386, 0.8660254037844387, 1.0)\", \"rgba(0.16666666666666663, 0.8660254037844386, 0.8660254037844387, 1.0)\", \"rgba(0.16666666666666663, 0.8660254037844386, 0.8660254037844387, 1.0)\", \"rgba(0.16666666666666663, 0.8660254037844386, 0.8660254037844387, 1.0)\", \"rgba(0.16666666666666663, 0.8660254037844386, 0.8660254037844387, 1.0)\", \"rgba(0.16666666666666663, 0.8660254037844386, 0.8660254037844387, 1.0)\", \"rgba(0.16666666666666663, 0.8660254037844386, 0.8660254037844387, 1.0)\", \"rgba(0.16666666666666663, 0.8660254037844386, 0.8660254037844387, 1.0)\", \"rgba(0.16666666666666663, 0.8660254037844386, 0.8660254037844387, 1.0)\", \"rgba(0.16666666666666663, 0.8660254037844386, 0.8660254037844387, 1.0)\", \"rgba(0.16666666666666663, 0.8660254037844386, 0.8660254037844387, 1.0)\", \"rgba(0.16666666666666663, 0.8660254037844386, 0.8660254037844387, 1.0)\", \"rgba(0.16666666666666663, 0.8660254037844386, 0.8660254037844387, 1.0)\", \"rgba(0.16666666666666663, 0.8660254037844386, 0.8660254037844387, 1.0)\", \"rgba(0.16666666666666663, 0.8660254037844386, 0.8660254037844387, 1.0)\", \"rgba(0.16666666666666663, 0.8660254037844386, 0.8660254037844387, 1.0)\", \"rgba(0.16666666666666663, 0.8660254037844386, 0.8660254037844387, 1.0)\", \"rgba(0.16666666666666663, 0.8660254037844386, 0.8660254037844387, 1.0)\", \"rgba(0.16666666666666663, 0.8660254037844386, 0.8660254037844387, 1.0)\", \"rgba(0.16666666666666663, 0.8660254037844386, 0.8660254037844387, 1.0)\", \"rgba(0.16666666666666663, 0.8660254037844386, 0.8660254037844387, 1.0)\", \"rgba(0.16666666666666663, 0.8660254037844386, 0.8660254037844387, 1.0)\", \"rgba(0.16666666666666663, 0.8660254037844386, 0.8660254037844387, 1.0)\", \"rgba(0.16666666666666663, 0.8660254037844386, 0.8660254037844387, 1.0)\", \"rgba(0.16666666666666663, 0.8660254037844386, 0.8660254037844387, 1.0)\", \"rgba(0.16666666666666663, 0.8660254037844386, 0.8660254037844387, 1.0)\", \"rgba(0.16666666666666663, 0.8660254037844386, 0.8660254037844387, 1.0)\", \"rgba(0.16666666666666663, 0.8660254037844386, 0.8660254037844387, 1.0)\", \"rgba(0.16666666666666663, 0.8660254037844386, 0.8660254037844387, 1.0)\", \"rgba(0.16666666666666663, 0.8660254037844386, 0.8660254037844387, 1.0)\", \"rgba(0.16666666666666663, 0.8660254037844386, 0.8660254037844387, 1.0)\", \"rgba(0.16666666666666663, 0.8660254037844386, 0.8660254037844387, 1.0)\", \"rgba(0.16666666666666663, 0.8660254037844386, 0.8660254037844387, 1.0)\", \"rgba(0.16666666666666663, 0.8660254037844386, 0.8660254037844387, 1.0)\", \"rgba(0.16666666666666663, 0.8660254037844386, 0.8660254037844387, 1.0)\", \"rgba(0.16666666666666663, 0.8660254037844386, 0.8660254037844387, 1.0)\", \"rgba(0.16666666666666663, 0.8660254037844386, 0.8660254037844387, 1.0)\", \"rgba(0.16666666666666663, 0.8660254037844386, 0.8660254037844387, 1.0)\", \"rgba(0.16666666666666663, 0.8660254037844386, 0.8660254037844387, 1.0)\", \"rgba(0.16666666666666663, 0.8660254037844386, 0.8660254037844387, 1.0)\", \"rgba(0.16666666666666663, 0.8660254037844386, 0.8660254037844387, 1.0)\", \"rgba(0.16666666666666663, 0.8660254037844386, 0.8660254037844387, 1.0)\", \"rgba(0.16666666666666663, 0.8660254037844386, 0.8660254037844387, 1.0)\", \"rgba(0.16666666666666663, 0.8660254037844386, 0.8660254037844387, 1.0)\", \"rgba(0.16666666666666663, 0.8660254037844386, 0.8660254037844387, 1.0)\", \"rgba(0.16666666666666663, 0.8660254037844386, 0.8660254037844387, 1.0)\", \"rgba(0.16666666666666663, 0.8660254037844386, 0.8660254037844387, 1.0)\", \"rgba(0.16666666666666663, 0.8660254037844386, 0.8660254037844387, 1.0)\", \"rgba(0.16666666666666663, 0.8660254037844386, 0.8660254037844387, 1.0)\", \"rgba(0.16666666666666663, 0.8660254037844386, 0.8660254037844387, 1.0)\", \"rgba(0.16666666666666663, 0.8660254037844386, 0.8660254037844387, 1.0)\", \"rgba(0.16666666666666663, 0.8660254037844386, 0.8660254037844387, 1.0)\", \"rgba(0.16666666666666663, 0.8660254037844386, 0.8660254037844387, 1.0)\", \"rgba(0.16666666666666663, 0.8660254037844386, 0.8660254037844387, 1.0)\", \"rgba(0.16666666666666663, 0.8660254037844386, 0.8660254037844387, 1.0)\", \"rgba(0.16666666666666663, 0.8660254037844386, 0.8660254037844387, 1.0)\", \"rgba(0.16666666666666663, 0.8660254037844386, 0.8660254037844387, 1.0)\", \"rgba(0.16666666666666663, 0.8660254037844386, 0.8660254037844387, 1.0)\", \"rgba(0.16666666666666663, 0.8660254037844386, 0.8660254037844387, 1.0)\", \"rgba(0.16666666666666663, 0.8660254037844386, 0.8660254037844387, 1.0)\", \"rgba(0.16666666666666663, 0.8660254037844386, 0.8660254037844387, 1.0)\", \"rgba(0.16666666666666663, 0.8660254037844386, 0.8660254037844387, 1.0)\", \"rgba(0.16666666666666663, 0.8660254037844386, 0.8660254037844387, 1.0)\", \"rgba(0.16666666666666663, 0.8660254037844386, 0.8660254037844387, 1.0)\", \"rgba(0.16666666666666663, 0.8660254037844386, 0.8660254037844387, 1.0)\", \"rgba(0.16666666666666663, 0.8660254037844386, 0.8660254037844387, 1.0)\", \"rgba(0.16666666666666663, 0.8660254037844386, 0.8660254037844387, 1.0)\", \"rgba(0.16666666666666663, 0.8660254037844386, 0.8660254037844387, 1.0)\", \"rgba(0.16666666666666663, 0.8660254037844386, 0.8660254037844387, 1.0)\", \"rgba(0.16666666666666663, 0.8660254037844386, 0.8660254037844387, 1.0)\", \"rgba(0.16666666666666663, 0.8660254037844386, 0.8660254037844387, 1.0)\", \"rgba(0.16666666666666663, 0.8660254037844386, 0.8660254037844387, 1.0)\", \"rgba(0.16666666666666663, 0.8660254037844386, 0.8660254037844387, 1.0)\", \"rgba(0.16666666666666663, 0.8660254037844386, 0.8660254037844387, 1.0)\", \"rgba(0.16666666666666663, 0.8660254037844386, 0.8660254037844387, 1.0)\", \"rgba(0.16666666666666663, 0.8660254037844386, 0.8660254037844387, 1.0)\", \"rgba(0.16666666666666663, 0.8660254037844386, 0.8660254037844387, 1.0)\", \"rgba(0.16666666666666663, 0.8660254037844386, 0.8660254037844387, 1.0)\", \"rgba(0.16666666666666663, 0.8660254037844386, 0.8660254037844387, 1.0)\", \"rgba(0.16666666666666663, 0.8660254037844386, 0.8660254037844387, 1.0)\", \"rgba(0.16666666666666663, 0.8660254037844386, 0.8660254037844387, 1.0)\", \"rgba(0.16666666666666663, 0.8660254037844386, 0.8660254037844387, 1.0)\", \"rgba(0.16666666666666663, 0.8660254037844386, 0.8660254037844387, 1.0)\", \"rgba(0.16666666666666663, 0.8660254037844386, 0.8660254037844387, 1.0)\", \"rgba(0.16666666666666663, 0.8660254037844386, 0.8660254037844387, 1.0)\", \"rgba(0.16666666666666663, 0.8660254037844386, 0.8660254037844387, 1.0)\", \"rgba(0.16666666666666663, 0.8660254037844386, 0.8660254037844387, 1.0)\", \"rgba(0.16666666666666663, 0.8660254037844386, 0.8660254037844387, 1.0)\", \"rgba(0.16666666666666663, 0.8660254037844386, 0.8660254037844387, 1.0)\", \"rgba(0.16666666666666663, 0.8660254037844386, 0.8660254037844387, 1.0)\", \"rgba(0.16666666666666663, 0.8660254037844386, 0.8660254037844387, 1.0)\", \"rgba(0.16666666666666663, 0.8660254037844386, 0.8660254037844387, 1.0)\", \"rgba(0.16666666666666663, 0.8660254037844386, 0.8660254037844387, 1.0)\", \"rgba(0.16666666666666663, 0.8660254037844386, 0.8660254037844387, 1.0)\", \"rgba(0.16666666666666663, 0.8660254037844386, 0.8660254037844387, 1.0)\", \"rgba(0.16666666666666663, 0.8660254037844386, 0.8660254037844387, 1.0)\", \"rgba(0.16666666666666663, 0.8660254037844386, 0.8660254037844387, 1.0)\", \"rgba(0.16666666666666663, 0.8660254037844386, 0.8660254037844387, 1.0)\", \"rgba(0.16666666666666663, 0.8660254037844386, 0.8660254037844387, 1.0)\", \"rgba(0.16666666666666663, 0.8660254037844386, 0.8660254037844387, 1.0)\", \"rgba(0.16666666666666663, 0.8660254037844386, 0.8660254037844387, 1.0)\", \"rgba(0.16666666666666663, 0.8660254037844386, 0.8660254037844387, 1.0)\", \"rgba(0.16666666666666663, 0.8660254037844386, 0.8660254037844387, 1.0)\", \"rgba(0.16666666666666663, 0.8660254037844386, 0.8660254037844387, 1.0)\", \"rgba(0.16666666666666663, 0.8660254037844386, 0.8660254037844387, 1.0)\", \"rgba(0.16666666666666663, 0.8660254037844386, 0.8660254037844387, 1.0)\", \"rgba(0.16666666666666663, 0.8660254037844386, 0.8660254037844387, 1.0)\", \"rgba(0.16666666666666663, 0.8660254037844386, 0.8660254037844387, 1.0)\", \"rgba(0.16666666666666663, 0.8660254037844386, 0.8660254037844387, 1.0)\", \"rgba(0.16666666666666663, 0.8660254037844386, 0.8660254037844387, 1.0)\", \"rgba(0.16666666666666663, 0.8660254037844386, 0.8660254037844387, 1.0)\", \"rgba(0.16666666666666663, 0.8660254037844386, 0.8660254037844387, 1.0)\", \"rgba(0.16666666666666663, 0.8660254037844386, 0.8660254037844387, 1.0)\", \"rgba(0.16666666666666663, 0.8660254037844386, 0.8660254037844387, 1.0)\", \"rgba(0.16666666666666663, 0.8660254037844386, 0.8660254037844387, 1.0)\", \"rgba(0.16666666666666663, 0.8660254037844386, 0.8660254037844387, 1.0)\", \"rgba(0.16666666666666663, 0.8660254037844386, 0.8660254037844387, 1.0)\", \"rgba(0.16666666666666663, 0.8660254037844386, 0.8660254037844387, 1.0)\", \"rgba(0.16666666666666663, 0.8660254037844386, 0.8660254037844387, 1.0)\", \"rgba(0.16666666666666663, 0.8660254037844386, 0.8660254037844387, 1.0)\", \"rgba(0.16666666666666663, 0.8660254037844386, 0.8660254037844387, 1.0)\", \"rgba(0.16666666666666663, 0.8660254037844386, 0.8660254037844387, 1.0)\", \"rgba(0.16666666666666663, 0.8660254037844386, 0.8660254037844387, 1.0)\", \"rgba(0.16666666666666663, 0.8660254037844386, 0.8660254037844387, 1.0)\", \"rgba(0.16666666666666663, 0.8660254037844386, 0.8660254037844387, 1.0)\", \"rgba(0.16666666666666663, 0.8660254037844386, 0.8660254037844387, 1.0)\", \"rgba(0.16666666666666663, 0.8660254037844386, 0.8660254037844387, 1.0)\", \"rgba(0.16666666666666663, 0.8660254037844386, 0.8660254037844387, 1.0)\", \"rgba(0.16666666666666663, 0.8660254037844386, 0.8660254037844387, 1.0)\", \"rgba(0.16666666666666663, 0.8660254037844386, 0.8660254037844387, 1.0)\", \"rgba(0.16666666666666663, 0.8660254037844386, 0.8660254037844387, 1.0)\", \"rgba(0.16666666666666663, 0.8660254037844386, 0.8660254037844387, 1.0)\", \"rgba(0.16666666666666663, 0.8660254037844386, 0.8660254037844387, 1.0)\", \"rgba(0.16666666666666663, 0.8660254037844386, 0.8660254037844387, 1.0)\", \"rgba(0.16666666666666663, 0.8660254037844386, 0.8660254037844387, 1.0)\", \"rgba(0.16666666666666663, 0.8660254037844386, 0.8660254037844387, 1.0)\", \"rgba(0.16666666666666663, 0.8660254037844386, 0.8660254037844387, 1.0)\", \"rgba(0.16666666666666663, 0.8660254037844386, 0.8660254037844387, 1.0)\", \"rgba(0.16666666666666663, 0.8660254037844386, 0.8660254037844387, 1.0)\", \"rgba(0.16666666666666663, 0.8660254037844386, 0.8660254037844387, 1.0)\", \"rgba(0.16666666666666663, 0.8660254037844386, 0.8660254037844387, 1.0)\", \"rgba(0.16666666666666663, 0.8660254037844386, 0.8660254037844387, 1.0)\", \"rgba(0.16666666666666663, 0.8660254037844386, 0.8660254037844387, 1.0)\", \"rgba(0.16666666666666663, 0.8660254037844386, 0.8660254037844387, 1.0)\", \"rgba(0.16666666666666663, 0.8660254037844386, 0.8660254037844387, 1.0)\", \"rgba(0.16666666666666663, 0.8660254037844386, 0.8660254037844387, 1.0)\", \"rgba(0.16666666666666663, 0.8660254037844386, 0.8660254037844387, 1.0)\", \"rgba(0.16666666666666663, 0.8660254037844386, 0.8660254037844387, 1.0)\", \"rgba(0.16666666666666663, 0.8660254037844386, 0.8660254037844387, 1.0)\", \"rgba(0.16666666666666663, 0.8660254037844386, 0.8660254037844387, 1.0)\", \"rgba(0.16666666666666663, 0.8660254037844386, 0.8660254037844387, 1.0)\", \"rgba(0.16666666666666663, 0.8660254037844386, 0.8660254037844387, 1.0)\", \"rgba(0.16666666666666663, 0.8660254037844386, 0.8660254037844387, 1.0)\", \"rgba(0.16666666666666663, 0.8660254037844386, 0.8660254037844387, 1.0)\", \"rgba(0.16666666666666663, 0.8660254037844386, 0.8660254037844387, 1.0)\", \"rgba(0.16666666666666663, 0.8660254037844386, 0.8660254037844387, 1.0)\", \"rgba(0.16666666666666663, 0.8660254037844386, 0.8660254037844387, 1.0)\", \"rgba(0.16666666666666663, 0.8660254037844386, 0.8660254037844387, 1.0)\", \"rgba(0.16666666666666663, 0.8660254037844386, 0.8660254037844387, 1.0)\", \"rgba(0.16666666666666663, 0.8660254037844386, 0.8660254037844387, 1.0)\", \"rgba(0.16666666666666663, 0.8660254037844386, 0.8660254037844387, 1.0)\", \"rgba(0.16666666666666663, 0.8660254037844386, 0.8660254037844387, 1.0)\", \"rgba(0.16666666666666663, 0.8660254037844386, 0.8660254037844387, 1.0)\", \"rgba(0.16666666666666663, 0.8660254037844386, 0.8660254037844387, 1.0)\", \"rgba(0.16666666666666663, 0.8660254037844386, 0.8660254037844387, 1.0)\", \"rgba(0.16666666666666663, 0.8660254037844386, 0.8660254037844387, 1.0)\", \"rgba(0.16666666666666663, 0.8660254037844386, 0.8660254037844387, 1.0)\", \"rgba(0.16666666666666663, 0.8660254037844386, 0.8660254037844387, 1.0)\", \"rgba(0.8333333333333333, 0.8660254037844387, 0.5000000000000001, 1.0)\", \"rgba(0.8333333333333333, 0.8660254037844387, 0.5000000000000001, 1.0)\", \"rgba(0.8333333333333333, 0.8660254037844387, 0.5000000000000001, 1.0)\", \"rgba(0.8333333333333333, 0.8660254037844387, 0.5000000000000001, 1.0)\", \"rgba(0.8333333333333333, 0.8660254037844387, 0.5000000000000001, 1.0)\", \"rgba(0.8333333333333333, 0.8660254037844387, 0.5000000000000001, 1.0)\", \"rgba(0.8333333333333333, 0.8660254037844387, 0.5000000000000001, 1.0)\", \"rgba(0.8333333333333333, 0.8660254037844387, 0.5000000000000001, 1.0)\", \"rgba(0.8333333333333333, 0.8660254037844387, 0.5000000000000001, 1.0)\", \"rgba(0.8333333333333333, 0.8660254037844387, 0.5000000000000001, 1.0)\", \"rgba(0.8333333333333333, 0.8660254037844387, 0.5000000000000001, 1.0)\", \"rgba(0.8333333333333333, 0.8660254037844387, 0.5000000000000001, 1.0)\", \"rgba(0.8333333333333333, 0.8660254037844387, 0.5000000000000001, 1.0)\", \"rgba(0.8333333333333333, 0.8660254037844387, 0.5000000000000001, 1.0)\", \"rgba(0.8333333333333333, 0.8660254037844387, 0.5000000000000001, 1.0)\", \"rgba(0.8333333333333333, 0.8660254037844387, 0.5000000000000001, 1.0)\", \"rgba(0.8333333333333333, 0.8660254037844387, 0.5000000000000001, 1.0)\", \"rgba(0.8333333333333333, 0.8660254037844387, 0.5000000000000001, 1.0)\", \"rgba(0.8333333333333333, 0.8660254037844387, 0.5000000000000001, 1.0)\", \"rgba(0.8333333333333333, 0.8660254037844387, 0.5000000000000001, 1.0)\", \"rgba(0.8333333333333333, 0.8660254037844387, 0.5000000000000001, 1.0)\", \"rgba(0.8333333333333333, 0.8660254037844387, 0.5000000000000001, 1.0)\", \"rgba(0.8333333333333333, 0.8660254037844387, 0.5000000000000001, 1.0)\", \"rgba(0.8333333333333333, 0.8660254037844387, 0.5000000000000001, 1.0)\", \"rgba(0.8333333333333333, 0.8660254037844387, 0.5000000000000001, 1.0)\", \"rgba(0.8333333333333333, 0.8660254037844387, 0.5000000000000001, 1.0)\", \"rgba(0.8333333333333333, 0.8660254037844387, 0.5000000000000001, 1.0)\", \"rgba(0.8333333333333333, 0.8660254037844387, 0.5000000000000001, 1.0)\", \"rgba(0.8333333333333333, 0.8660254037844387, 0.5000000000000001, 1.0)\", \"rgba(0.8333333333333333, 0.8660254037844387, 0.5000000000000001, 1.0)\", \"rgba(0.8333333333333333, 0.8660254037844387, 0.5000000000000001, 1.0)\", \"rgba(0.8333333333333333, 0.8660254037844387, 0.5000000000000001, 1.0)\", \"rgba(0.8333333333333333, 0.8660254037844387, 0.5000000000000001, 1.0)\", \"rgba(0.8333333333333333, 0.8660254037844387, 0.5000000000000001, 1.0)\", \"rgba(0.8333333333333333, 0.8660254037844387, 0.5000000000000001, 1.0)\", \"rgba(0.8333333333333333, 0.8660254037844387, 0.5000000000000001, 1.0)\", \"rgba(0.8333333333333333, 0.8660254037844387, 0.5000000000000001, 1.0)\", \"rgba(0.8333333333333333, 0.8660254037844387, 0.5000000000000001, 1.0)\", \"rgba(0.8333333333333333, 0.8660254037844387, 0.5000000000000001, 1.0)\", \"rgba(0.8333333333333333, 0.8660254037844387, 0.5000000000000001, 1.0)\", \"rgba(0.8333333333333333, 0.8660254037844387, 0.5000000000000001, 1.0)\", \"rgba(0.8333333333333333, 0.8660254037844387, 0.5000000000000001, 1.0)\", \"rgba(0.8333333333333333, 0.8660254037844387, 0.5000000000000001, 1.0)\", \"rgba(0.8333333333333333, 0.8660254037844387, 0.5000000000000001, 1.0)\", \"rgba(0.8333333333333333, 0.8660254037844387, 0.5000000000000001, 1.0)\", \"rgba(0.8333333333333333, 0.8660254037844387, 0.5000000000000001, 1.0)\", \"rgba(0.8333333333333333, 0.8660254037844387, 0.5000000000000001, 1.0)\", \"rgba(0.8333333333333333, 0.8660254037844387, 0.5000000000000001, 1.0)\", \"rgba(0.8333333333333333, 0.8660254037844387, 0.5000000000000001, 1.0)\", \"rgba(0.8333333333333333, 0.8660254037844387, 0.5000000000000001, 1.0)\", \"rgba(0.8333333333333333, 0.8660254037844387, 0.5000000000000001, 1.0)\", \"rgba(0.8333333333333333, 0.8660254037844387, 0.5000000000000001, 1.0)\", \"rgba(0.8333333333333333, 0.8660254037844387, 0.5000000000000001, 1.0)\", \"rgba(0.8333333333333333, 0.8660254037844387, 0.5000000000000001, 1.0)\", \"rgba(0.8333333333333333, 0.8660254037844387, 0.5000000000000001, 1.0)\", \"rgba(0.8333333333333333, 0.8660254037844387, 0.5000000000000001, 1.0)\", \"rgba(0.8333333333333333, 0.8660254037844387, 0.5000000000000001, 1.0)\", \"rgba(0.8333333333333333, 0.8660254037844387, 0.5000000000000001, 1.0)\", \"rgba(0.8333333333333333, 0.8660254037844387, 0.5000000000000001, 1.0)\", \"rgba(0.8333333333333333, 0.8660254037844387, 0.5000000000000001, 1.0)\", \"rgba(0.8333333333333333, 0.8660254037844387, 0.5000000000000001, 1.0)\", \"rgba(0.8333333333333333, 0.8660254037844387, 0.5000000000000001, 1.0)\", \"rgba(0.8333333333333333, 0.8660254037844387, 0.5000000000000001, 1.0)\", \"rgba(0.8333333333333333, 0.8660254037844387, 0.5000000000000001, 1.0)\", \"rgba(0.8333333333333333, 0.8660254037844387, 0.5000000000000001, 1.0)\", \"rgba(0.8333333333333333, 0.8660254037844387, 0.5000000000000001, 1.0)\", \"rgba(0.8333333333333333, 0.8660254037844387, 0.5000000000000001, 1.0)\", \"rgba(0.8333333333333333, 0.8660254037844387, 0.5000000000000001, 1.0)\", \"rgba(0.8333333333333333, 0.8660254037844387, 0.5000000000000001, 1.0)\", \"rgba(0.8333333333333333, 0.8660254037844387, 0.5000000000000001, 1.0)\", \"rgba(0.8333333333333333, 0.8660254037844387, 0.5000000000000001, 1.0)\", \"rgba(0.8333333333333333, 0.8660254037844387, 0.5000000000000001, 1.0)\", \"rgba(0.8333333333333333, 0.8660254037844387, 0.5000000000000001, 1.0)\", \"rgba(0.8333333333333333, 0.8660254037844387, 0.5000000000000001, 1.0)\", \"rgba(0.8333333333333333, 0.8660254037844387, 0.5000000000000001, 1.0)\", \"rgba(0.8333333333333333, 0.8660254037844387, 0.5000000000000001, 1.0)\", \"rgba(0.8333333333333333, 0.8660254037844387, 0.5000000000000001, 1.0)\", \"rgba(0.8333333333333333, 0.8660254037844387, 0.5000000000000001, 1.0)\", \"rgba(0.8333333333333333, 0.8660254037844387, 0.5000000000000001, 1.0)\", \"rgba(0.8333333333333333, 0.8660254037844387, 0.5000000000000001, 1.0)\", \"rgba(0.8333333333333333, 0.8660254037844387, 0.5000000000000001, 1.0)\", \"rgba(0.8333333333333333, 0.8660254037844387, 0.5000000000000001, 1.0)\", \"rgba(0.8333333333333333, 0.8660254037844387, 0.5000000000000001, 1.0)\", \"rgba(0.8333333333333333, 0.8660254037844387, 0.5000000000000001, 1.0)\", \"rgba(0.8333333333333333, 0.8660254037844387, 0.5000000000000001, 1.0)\", \"rgba(0.8333333333333333, 0.8660254037844387, 0.5000000000000001, 1.0)\", \"rgba(0.8333333333333333, 0.8660254037844387, 0.5000000000000001, 1.0)\", \"rgba(0.8333333333333333, 0.8660254037844387, 0.5000000000000001, 1.0)\", \"rgba(0.8333333333333333, 0.8660254037844387, 0.5000000000000001, 1.0)\", \"rgba(0.8333333333333333, 0.8660254037844387, 0.5000000000000001, 1.0)\", \"rgba(0.8333333333333333, 0.8660254037844387, 0.5000000000000001, 1.0)\", \"rgba(0.8333333333333333, 0.8660254037844387, 0.5000000000000001, 1.0)\", \"rgba(0.8333333333333333, 0.8660254037844387, 0.5000000000000001, 1.0)\", \"rgba(0.8333333333333333, 0.8660254037844387, 0.5000000000000001, 1.0)\", \"rgba(0.8333333333333333, 0.8660254037844387, 0.5000000000000001, 1.0)\", \"rgba(0.8333333333333333, 0.8660254037844387, 0.5000000000000001, 1.0)\", \"rgba(0.8333333333333333, 0.8660254037844387, 0.5000000000000001, 1.0)\", \"rgba(0.8333333333333333, 0.8660254037844387, 0.5000000000000001, 1.0)\", \"rgba(0.8333333333333333, 0.8660254037844387, 0.5000000000000001, 1.0)\", \"rgba(0.8333333333333333, 0.8660254037844387, 0.5000000000000001, 1.0)\", \"rgba(0.8333333333333333, 0.8660254037844387, 0.5000000000000001, 1.0)\", \"rgba(0.8333333333333333, 0.8660254037844387, 0.5000000000000001, 1.0)\", \"rgba(0.8333333333333333, 0.8660254037844387, 0.5000000000000001, 1.0)\", \"rgba(0.8333333333333333, 0.8660254037844387, 0.5000000000000001, 1.0)\", \"rgba(0.8333333333333333, 0.8660254037844387, 0.5000000000000001, 1.0)\", \"rgba(0.8333333333333333, 0.8660254037844387, 0.5000000000000001, 1.0)\", \"rgba(0.8333333333333333, 0.8660254037844387, 0.5000000000000001, 1.0)\", \"rgba(0.8333333333333333, 0.8660254037844387, 0.5000000000000001, 1.0)\", \"rgba(0.8333333333333333, 0.8660254037844387, 0.5000000000000001, 1.0)\", \"rgba(0.8333333333333333, 0.8660254037844387, 0.5000000000000001, 1.0)\", \"rgba(0.8333333333333333, 0.8660254037844387, 0.5000000000000001, 1.0)\", \"rgba(0.8333333333333333, 0.8660254037844387, 0.5000000000000001, 1.0)\", \"rgba(0.8333333333333333, 0.8660254037844387, 0.5000000000000001, 1.0)\", \"rgba(0.8333333333333333, 0.8660254037844387, 0.5000000000000001, 1.0)\", \"rgba(0.8333333333333333, 0.8660254037844387, 0.5000000000000001, 1.0)\", \"rgba(0.8333333333333333, 0.8660254037844387, 0.5000000000000001, 1.0)\", \"rgba(0.8333333333333333, 0.8660254037844387, 0.5000000000000001, 1.0)\", \"rgba(0.8333333333333333, 0.8660254037844387, 0.5000000000000001, 1.0)\", \"rgba(0.8333333333333333, 0.8660254037844387, 0.5000000000000001, 1.0)\", \"rgba(0.8333333333333333, 0.8660254037844387, 0.5000000000000001, 1.0)\", \"rgba(0.8333333333333333, 0.8660254037844387, 0.5000000000000001, 1.0)\", \"rgba(0.8333333333333333, 0.8660254037844387, 0.5000000000000001, 1.0)\", \"rgba(0.8333333333333333, 0.8660254037844387, 0.5000000000000001, 1.0)\", \"rgba(0.8333333333333333, 0.8660254037844387, 0.5000000000000001, 1.0)\", \"rgba(0.8333333333333333, 0.8660254037844387, 0.5000000000000001, 1.0)\", \"rgba(0.8333333333333333, 0.8660254037844387, 0.5000000000000001, 1.0)\", \"rgba(0.8333333333333333, 0.8660254037844387, 0.5000000000000001, 1.0)\", \"rgba(0.8333333333333333, 0.8660254037844387, 0.5000000000000001, 1.0)\", \"rgba(0.8333333333333333, 0.8660254037844387, 0.5000000000000001, 1.0)\", \"rgba(0.8333333333333333, 0.8660254037844387, 0.5000000000000001, 1.0)\", \"rgba(0.8333333333333333, 0.8660254037844387, 0.5000000000000001, 1.0)\", \"rgba(0.8333333333333333, 0.8660254037844387, 0.5000000000000001, 1.0)\", \"rgba(0.8333333333333333, 0.8660254037844387, 0.5000000000000001, 1.0)\", \"rgba(0.8333333333333333, 0.8660254037844387, 0.5000000000000001, 1.0)\", \"rgba(0.8333333333333333, 0.8660254037844387, 0.5000000000000001, 1.0)\", \"rgba(0.8333333333333333, 0.8660254037844387, 0.5000000000000001, 1.0)\", \"rgba(0.8333333333333333, 0.8660254037844387, 0.5000000000000001, 1.0)\"], \"size\": 5}, \"text\": [\"French\", \"French\", \"French\", \"French\", \"French\", \"French\", \"French\", \"French\", \"French\", \"French\", \"French\", \"French\", \"French\", \"French\", \"French\", \"French\", \"French\", \"French\", \"French\", \"French\", \"French\", \"French\", \"French\", \"French\", \"French\", \"French\", \"French\", \"French\", \"French\", \"French\", \"French\", \"French\", \"French\", \"French\", \"French\", \"French\", \"French\", \"French\", \"French\", \"French\", \"French\", \"French\", \"French\", \"French\", \"French\", \"French\", \"French\", \"French\", \"French\", \"French\", \"French\", \"French\", \"French\", \"French\", \"French\", \"French\", \"French\", \"French\", \"French\", \"French\", \"French\", \"French\", \"French\", \"French\", \"French\", \"French\", \"French\", \"French\", \"French\", \"French\", \"French\", \"French\", \"French\", \"French\", \"French\", \"French\", \"French\", \"French\", \"French\", \"French\", \"French\", \"French\", \"French\", \"French\", \"French\", \"French\", \"French\", \"French\", \"French\", \"French\", \"French\", \"French\", \"French\", \"French\", \"French\", \"French\", \"French\", \"French\", \"French\", \"French\", \"French\", \"French\", \"French\", \"French\", \"French\", \"French\", \"French\", \"French\", \"French\", \"French\", \"French\", \"French\", \"French\", \"French\", \"French\", \"French\", \"French\", \"French\", \"French\", \"French\", \"French\", \"French\", \"French\", \"French\", \"French\", \"French\", \"French\", \"French\", \"French\", \"French\", \"French\", \"French\", \"French\", \"French\", \"French\", \"French\", \"French\", \"French\", \"French\", \"French\", \"French\", \"French\", \"French\", \"French\", \"French\", \"French\", \"French\", \"French\", \"French\", \"French\", \"French\", \"French\", \"French\", \"French\", \"French\", \"French\", \"French\", \"French\", \"French\", \"French\", \"French\", \"French\", \"French\", \"French\", \"French\", \"French\", \"French\", \"French\", \"French\", \"French\", \"French\", \"French\", \"French\", \"French\", \"French\", \"French\", \"French\", \"French\", \"French\", \"French\", \"Tuscan\", \"Tuscan\", \"Tuscan\", \"Tuscan\", \"Tuscan\", \"Tuscan\", \"Tuscan\", \"Tuscan\", \"Tuscan\", \"Tuscan\", \"Tuscan\", \"Tuscan\", \"Tuscan\", \"Tuscan\", \"Tuscan\", \"Tuscan\", \"Tuscan\", \"Tuscan\", \"Tuscan\", \"Tuscan\", \"Tuscan\", \"Tuscan\", \"Tuscan\", \"Tuscan\", \"Tuscan\", \"Tuscan\", \"Tuscan\", \"Tuscan\", \"Tuscan\", \"Tuscan\", \"Tuscan\", \"Tuscan\", \"Tuscan\", \"Tuscan\", \"Tuscan\", \"Tuscan\", \"Tuscan\", \"Tuscan\", \"Tuscan\", \"Tuscan\", \"Tuscan\", \"Tuscan\", \"Tuscan\", \"Tuscan\", \"Tuscan\", \"Tuscan\", \"Tuscan\", \"Tuscan\", \"Tuscan\", \"Tuscan\", \"Tuscan\", \"Tuscan\", \"Tuscan\", \"Tuscan\", \"Tuscan\", \"Tuscan\", \"Tuscan\", \"Tuscan\", \"Tuscan\", \"Tuscan\", \"Tuscan\", \"Tuscan\", \"Tuscan\", \"Tuscan\", \"Tuscan\", \"Tuscan\", \"Tuscan\", \"Tuscan\", \"Tuscan\", \"Tuscan\", \"Tuscan\", \"Tuscan\", \"Tuscan\", \"Tuscan\", \"Tuscan\", \"Tuscan\", \"Tuscan\", \"Tuscan\", \"Tuscan\", \"Tuscan\", \"Tuscan\", \"Tuscan\", \"Tuscan\", \"Tuscan\", \"Tuscan\", \"Tuscan\", \"Tuscan\", \"Tuscan\", \"Tuscan\", \"Tuscan\", \"Tuscan\", \"Tuscan\", \"Tuscan\", \"Tuscan\", \"Tuscan\", \"Tuscan\", \"Tuscan\", \"Tuscan\", \"Tuscan\", \"Tuscan\", \"Tuscan\", \"Tuscan\", \"Tuscan\", \"Tuscan\", \"Tuscan\", \"Tuscan\", \"Tuscan\", \"Tuscan\", \"Tuscan\", \"Tuscan\", \"Tuscan\", \"Tuscan\", \"Tuscan\", \"Tuscan\", \"Tuscan\", \"Tuscan\", \"Tuscan\", \"Tuscan\", \"Tuscan\", \"Tuscan\", \"Tuscan\", \"Tuscan\", \"Tuscan\", \"Tuscan\", \"Tuscan\", \"Tuscan\", \"Tuscan\", \"Tuscan\", \"Tuscan\", \"Tuscan\", \"Tuscan\", \"Tuscan\", \"Tuscan\", \"Tuscan\", \"Tuscan\", \"Tuscan\", \"Tuscan\"], \"type\": \"scattergeo\"}, {\"lat\": [46.0, 46.0, 46.0, 46.0, 46.0, 46.0, 46.0, 46.0, 46.0, 46.0, 46.0, 46.0, 46.0, 46.0, 46.0, 46.0, 46.0, 46.0, 46.0, 46.0, 46.0, 46.0, 46.0, 46.0, 46.0, 46.0, 46.0, 46.0, 46.0, 46.0, 46.0, 46.0, 46.0, 46.0, 46.0, 46.0, 46.0, 46.0, 46.0, 46.0, 46.0, 46.0, 46.0, 46.0, 46.0, 46.0, 46.0, 46.0, 46.0, 46.0, 46.0, 46.0, 46.0, 46.0, 46.0, 46.0, 46.0, 46.0, 46.0, 46.0, 46.0, 46.0, 46.0, 46.0, 46.0, 46.0, 46.0, 46.0, 46.0, 46.0, 46.0, 46.0, 46.0, 46.0, 46.0, 46.0, 46.0, 46.0, 46.0, 46.0, 46.0, 46.0, 46.0, 46.0, 46.0, 46.0, 46.0, 46.0, 46.0, 46.0, 46.0, 46.0, 46.0, 46.0, 46.0, 46.0, 46.0, 46.0, 46.0, 46.0, 46.0, 46.0, 46.0, 46.0, 46.0, 46.0, 46.0, 46.0, 46.0, 46.0, 46.0, 46.0, 46.0, 46.0, 46.0, 46.0, 46.0, 46.0, 46.0, 46.0, 46.0, 46.0, 46.0, 46.0, 46.0, 46.0, 46.0, 46.0, 46.0, 46.0, 46.0, 46.0, 46.0, 46.0, 46.0, 46.0, 46.0, 46.0, 46.0, 46.0, 46.0, 46.0, 46.0, 46.0, 46.0, 46.0, 46.0, 46.0, 46.0, 46.0, 46.0, 46.0, 46.0, 46.0, 46.0, 46.0, 46.0, 46.0, 46.0, 46.0, 46.0, 46.0, 46.0, 46.0, 46.0, 46.0, 46.0, 46.0, 46.0, 46.0, 46.0, 46.0, 46.0, 46.0, 46.0, 46.0, 46.0, 46.0, 46.0, 46.0, 43.00000000000001, 43.00000000000001, 43.00000000000001, 43.00000000000001, 43.00000000000001, 43.00000000000001, 43.00000000000001, 43.00000000000001, 43.00000000000001, 43.00000000000001, 43.00000000000001, 43.00000000000001, 43.00000000000001, 43.00000000000001, 43.00000000000001, 43.00000000000001, 43.00000000000001, 43.00000000000001, 43.00000000000001, 43.00000000000001, 43.00000000000001, 43.00000000000001, 43.00000000000001, 43.00000000000001, 43.00000000000001, 43.00000000000001, 43.00000000000001, 43.00000000000001, 43.00000000000001, 43.00000000000001, 43.00000000000001, 43.00000000000001, 43.00000000000001, 43.00000000000001, 43.00000000000001, 43.00000000000001, 43.00000000000001, 43.00000000000001, 43.00000000000001, 43.00000000000001, 43.00000000000001, 43.00000000000001, 43.00000000000001, 43.00000000000001, 43.00000000000001, 43.00000000000001, 43.00000000000001, 43.00000000000001, 43.00000000000001, 43.00000000000001, 43.00000000000001, 43.00000000000001, 43.00000000000001, 43.00000000000001, 43.00000000000001, 43.00000000000001, 43.00000000000001, 43.00000000000001, 43.00000000000001, 43.00000000000001, 43.00000000000001, 43.00000000000001, 43.00000000000001, 43.00000000000001, 43.00000000000001, 43.00000000000001, 43.00000000000001, 43.00000000000001, 43.00000000000001, 43.00000000000001, 43.00000000000001, 43.00000000000001, 43.00000000000001, 43.00000000000001, 43.00000000000001, 43.00000000000001, 43.00000000000001, 43.00000000000001, 43.00000000000001, 43.00000000000001, 43.00000000000001, 43.00000000000001, 43.00000000000001, 43.00000000000001, 43.00000000000001, 43.00000000000001, 43.00000000000001, 43.00000000000001, 43.00000000000001, 43.00000000000001, 43.00000000000001, 43.00000000000001, 43.00000000000001, 43.00000000000001, 43.00000000000001, 43.00000000000001, 43.00000000000001, 43.00000000000001, 43.00000000000001, 43.00000000000001, 43.00000000000001, 43.00000000000001, 43.00000000000001, 43.00000000000001, 43.00000000000001, 43.00000000000001, 43.00000000000001, 43.00000000000001, 43.00000000000001, 43.00000000000001, 43.00000000000001, 43.00000000000001, 43.00000000000001, 43.00000000000001, 43.00000000000001, 43.00000000000001, 43.00000000000001, 43.00000000000001, 43.00000000000001, 43.00000000000001, 43.00000000000001, 43.00000000000001, 43.00000000000001, 43.00000000000001, 43.00000000000001, 43.00000000000001, 43.00000000000001, 43.00000000000001, 43.00000000000001, 43.00000000000001, 43.00000000000001, 43.00000000000001, 43.00000000000001, 43.00000000000001, 43.00000000000001, 43.00000000000001, 43.00000000000001], \"lon\": [1.9999999999999998, 1.9999999999999998, 1.9999999999999998, 1.9999999999999998, 1.9999999999999998, 1.9999999999999998, 1.9999999999999998, 1.9999999999999998, 1.9999999999999998, 1.9999999999999998, 1.9999999999999998, 1.9999999999999998, 1.9999999999999998, 1.9999999999999998, 1.9999999999999998, 1.9999999999999998, 1.9999999999999998, 1.9999999999999998, 1.9999999999999998, 1.9999999999999998, 1.9999999999999998, 1.9999999999999998, 1.9999999999999998, 1.9999999999999998, 1.9999999999999998, 1.9999999999999998, 1.9999999999999998, 1.9999999999999998, 1.9999999999999998, 1.9999999999999998, 1.9999999999999998, 1.9999999999999998, 1.9999999999999998, 1.9999999999999998, 1.9999999999999998, 1.9999999999999998, 1.9999999999999998, 1.9999999999999998, 1.9999999999999998, 1.9999999999999998, 1.9999999999999998, 1.9999999999999998, 1.9999999999999998, 1.9999999999999998, 1.9999999999999998, 1.9999999999999998, 1.9999999999999998, 1.9999999999999998, 1.9999999999999998, 1.9999999999999998, 1.9999999999999998, 1.9999999999999998, 1.9999999999999998, 1.9999999999999998, 1.9999999999999998, 1.9999999999999998, 1.9999999999999998, 1.9999999999999998, 1.9999999999999998, 1.9999999999999998, 1.9999999999999998, 1.9999999999999998, 1.9999999999999998, 1.9999999999999998, 1.9999999999999998, 1.9999999999999998, 1.9999999999999998, 1.9999999999999998, 1.9999999999999998, 1.9999999999999998, 1.9999999999999998, 1.9999999999999998, 1.9999999999999998, 1.9999999999999998, 1.9999999999999998, 1.9999999999999998, 1.9999999999999998, 1.9999999999999998, 1.9999999999999998, 1.9999999999999998, 1.9999999999999998, 1.9999999999999998, 1.9999999999999998, 1.9999999999999998, 1.9999999999999998, 1.9999999999999998, 1.9999999999999998, 1.9999999999999998, 1.9999999999999998, 1.9999999999999998, 1.9999999999999998, 1.9999999999999998, 1.9999999999999998, 1.9999999999999998, 1.9999999999999998, 1.9999999999999998, 1.9999999999999998, 1.9999999999999998, 1.9999999999999998, 1.9999999999999998, 1.9999999999999998, 1.9999999999999998, 1.9999999999999998, 1.9999999999999998, 1.9999999999999998, 1.9999999999999998, 1.9999999999999998, 1.9999999999999998, 1.9999999999999998, 1.9999999999999998, 1.9999999999999998, 1.9999999999999998, 1.9999999999999998, 1.9999999999999998, 1.9999999999999998, 1.9999999999999998, 1.9999999999999998, 1.9999999999999998, 1.9999999999999998, 1.9999999999999998, 1.9999999999999998, 1.9999999999999998, 1.9999999999999998, 1.9999999999999998, 1.9999999999999998, 1.9999999999999998, 1.9999999999999998, 1.9999999999999998, 1.9999999999999998, 1.9999999999999998, 1.9999999999999998, 1.9999999999999998, 1.9999999999999998, 1.9999999999999998, 1.9999999999999998, 1.9999999999999998, 1.9999999999999998, 1.9999999999999998, 1.9999999999999998, 1.9999999999999998, 1.9999999999999998, 1.9999999999999998, 1.9999999999999998, 1.9999999999999998, 1.9999999999999998, 1.9999999999999998, 1.9999999999999998, 1.9999999999999998, 1.9999999999999998, 1.9999999999999998, 1.9999999999999998, 1.9999999999999998, 1.9999999999999998, 1.9999999999999998, 1.9999999999999998, 1.9999999999999998, 1.9999999999999998, 1.9999999999999998, 1.9999999999999998, 1.9999999999999998, 1.9999999999999998, 1.9999999999999998, 1.9999999999999998, 1.9999999999999998, 1.9999999999999998, 1.9999999999999998, 1.9999999999999998, 1.9999999999999998, 1.9999999999999998, 1.9999999999999998, 1.9999999999999998, 1.9999999999999998, 1.9999999999999998, 1.9999999999999998, 1.9999999999999998, 1.9999999999999998, 1.9999999999999998, 1.9999999999999998, 1.9999999999999998, 1.9999999999999998, 10.999999999999998, 10.999999999999998, 10.999999999999998, 10.999999999999998, 10.999999999999998, 10.999999999999998, 10.999999999999998, 10.999999999999998, 10.999999999999998, 10.999999999999998, 10.999999999999998, 10.999999999999998, 10.999999999999998, 10.999999999999998, 10.999999999999998, 10.999999999999998, 10.999999999999998, 10.999999999999998, 10.999999999999998, 10.999999999999998, 10.999999999999998, 10.999999999999998, 10.999999999999998, 10.999999999999998, 10.999999999999998, 10.999999999999998, 10.999999999999998, 10.999999999999998, 10.999999999999998, 10.999999999999998, 10.999999999999998, 10.999999999999998, 10.999999999999998, 10.999999999999998, 10.999999999999998, 10.999999999999998, 10.999999999999998, 10.999999999999998, 10.999999999999998, 10.999999999999998, 10.999999999999998, 10.999999999999998, 10.999999999999998, 10.999999999999998, 10.999999999999998, 10.999999999999998, 10.999999999999998, 10.999999999999998, 10.999999999999998, 10.999999999999998, 10.999999999999998, 10.999999999999998, 10.999999999999998, 10.999999999999998, 10.999999999999998, 10.999999999999998, 10.999999999999998, 10.999999999999998, 10.999999999999998, 10.999999999999998, 10.999999999999998, 10.999999999999998, 10.999999999999998, 10.999999999999998, 10.999999999999998, 10.999999999999998, 10.999999999999998, 10.999999999999998, 10.999999999999998, 10.999999999999998, 10.999999999999998, 10.999999999999998, 10.999999999999998, 10.999999999999998, 10.999999999999998, 10.999999999999998, 10.999999999999998, 10.999999999999998, 10.999999999999998, 10.999999999999998, 10.999999999999998, 10.999999999999998, 10.999999999999998, 10.999999999999998, 10.999999999999998, 10.999999999999998, 10.999999999999998, 10.999999999999998, 10.999999999999998, 10.999999999999998, 10.999999999999998, 10.999999999999998, 10.999999999999998, 10.999999999999998, 10.999999999999998, 10.999999999999998, 10.999999999999998, 10.999999999999998, 10.999999999999998, 10.999999999999998, 10.999999999999998, 10.999999999999998, 10.999999999999998, 10.999999999999998, 10.999999999999998, 10.999999999999998, 10.999999999999998, 10.999999999999998, 10.999999999999998, 10.999999999999998, 10.999999999999998, 10.999999999999998, 10.999999999999998, 10.999999999999998, 10.999999999999998, 10.999999999999998, 10.999999999999998, 10.999999999999998, 10.999999999999998, 10.999999999999998, 10.999999999999998, 10.999999999999998, 10.999999999999998, 10.999999999999998, 10.999999999999998, 10.999999999999998, 10.999999999999998, 10.999999999999998, 10.999999999999998, 10.999999999999998, 10.999999999999998, 10.999999999999998, 10.999999999999998, 10.999999999999998, 10.999999999999998, 10.999999999999998, 10.999999999999998], \"marker\": {\"size\": 5, \"symbol\": \"square\"}, \"text\": [\"French\", \"French\", \"French\", \"French\", \"French\", \"French\", \"French\", \"French\", \"French\", \"French\", \"French\", \"French\", \"French\", \"French\", \"French\", \"French\", \"French\", \"French\", \"French\", \"French\", \"French\", \"French\", \"French\", \"French\", \"French\", \"French\", \"French\", \"French\", \"French\", \"French\", \"French\", \"French\", \"French\", \"French\", \"French\", \"French\", \"French\", \"French\", \"French\", \"French\", \"French\", \"French\", \"French\", \"French\", \"French\", \"French\", \"French\", \"French\", \"French\", \"French\", \"French\", \"French\", \"French\", \"French\", \"French\", \"French\", \"French\", \"French\", \"French\", \"French\", \"French\", \"French\", \"French\", \"French\", \"French\", \"French\", \"French\", \"French\", \"French\", \"French\", \"French\", \"French\", \"French\", \"French\", \"French\", \"French\", \"French\", \"French\", \"French\", \"French\", \"French\", \"French\", \"French\", \"French\", \"French\", \"French\", \"French\", \"French\", \"French\", \"French\", \"French\", \"French\", \"French\", \"French\", \"French\", \"French\", \"French\", \"French\", \"French\", \"French\", \"French\", \"French\", \"French\", \"French\", \"French\", \"French\", \"French\", \"French\", \"French\", \"French\", \"French\", \"French\", \"French\", \"French\", \"French\", \"French\", \"French\", \"French\", \"French\", \"French\", \"French\", \"French\", \"French\", \"French\", \"French\", \"French\", \"French\", \"French\", \"French\", \"French\", \"French\", \"French\", \"French\", \"French\", \"French\", \"French\", \"French\", \"French\", \"French\", \"French\", \"French\", \"French\", \"French\", \"French\", \"French\", \"French\", \"French\", \"French\", \"French\", \"French\", \"French\", \"French\", \"French\", \"French\", \"French\", \"French\", \"French\", \"French\", \"French\", \"French\", \"French\", \"French\", \"French\", \"French\", \"French\", \"French\", \"French\", \"French\", \"French\", \"French\", \"French\", \"French\", \"French\", \"French\", \"French\", \"French\", \"French\", \"French\", \"French\", \"French\", \"Tuscan\", \"Tuscan\", \"Tuscan\", \"Tuscan\", \"Tuscan\", \"Tuscan\", \"Tuscan\", \"Tuscan\", \"Tuscan\", \"Tuscan\", \"Tuscan\", \"Tuscan\", \"Tuscan\", \"Tuscan\", \"Tuscan\", \"Tuscan\", \"Tuscan\", \"Tuscan\", \"Tuscan\", \"Tuscan\", \"Tuscan\", \"Tuscan\", \"Tuscan\", \"Tuscan\", \"Tuscan\", \"Tuscan\", \"Tuscan\", \"Tuscan\", \"Tuscan\", \"Tuscan\", \"Tuscan\", \"Tuscan\", \"Tuscan\", \"Tuscan\", \"Tuscan\", \"Tuscan\", \"Tuscan\", \"Tuscan\", \"Tuscan\", \"Tuscan\", \"Tuscan\", \"Tuscan\", \"Tuscan\", \"Tuscan\", \"Tuscan\", \"Tuscan\", \"Tuscan\", \"Tuscan\", \"Tuscan\", \"Tuscan\", \"Tuscan\", \"Tuscan\", \"Tuscan\", \"Tuscan\", \"Tuscan\", \"Tuscan\", \"Tuscan\", \"Tuscan\", \"Tuscan\", \"Tuscan\", \"Tuscan\", \"Tuscan\", \"Tuscan\", \"Tuscan\", \"Tuscan\", \"Tuscan\", \"Tuscan\", \"Tuscan\", \"Tuscan\", \"Tuscan\", \"Tuscan\", \"Tuscan\", \"Tuscan\", \"Tuscan\", \"Tuscan\", \"Tuscan\", \"Tuscan\", \"Tuscan\", \"Tuscan\", \"Tuscan\", \"Tuscan\", \"Tuscan\", \"Tuscan\", \"Tuscan\", \"Tuscan\", \"Tuscan\", \"Tuscan\", \"Tuscan\", \"Tuscan\", \"Tuscan\", \"Tuscan\", \"Tuscan\", \"Tuscan\", \"Tuscan\", \"Tuscan\", \"Tuscan\", \"Tuscan\", \"Tuscan\", \"Tuscan\", \"Tuscan\", \"Tuscan\", \"Tuscan\", \"Tuscan\", \"Tuscan\", \"Tuscan\", \"Tuscan\", \"Tuscan\", \"Tuscan\", \"Tuscan\", \"Tuscan\", \"Tuscan\", \"Tuscan\", \"Tuscan\", \"Tuscan\", \"Tuscan\", \"Tuscan\", \"Tuscan\", \"Tuscan\", \"Tuscan\", \"Tuscan\", \"Tuscan\", \"Tuscan\", \"Tuscan\", \"Tuscan\", \"Tuscan\", \"Tuscan\", \"Tuscan\", \"Tuscan\", \"Tuscan\", \"Tuscan\", \"Tuscan\", \"Tuscan\", \"Tuscan\", \"Tuscan\", \"Tuscan\", \"Tuscan\", \"Tuscan\"], \"type\": \"scattergeo\"}],                        {\"template\": {\"data\": {\"bar\": [{\"error_x\": {\"color\": \"#2a3f5f\"}, \"error_y\": {\"color\": \"#2a3f5f\"}, \"marker\": {\"line\": {\"color\": \"#E5ECF6\", \"width\": 0.5}}, \"type\": \"bar\"}], \"barpolar\": [{\"marker\": {\"line\": {\"color\": \"#E5ECF6\", \"width\": 0.5}}, \"type\": \"barpolar\"}], \"carpet\": [{\"aaxis\": {\"endlinecolor\": \"#2a3f5f\", \"gridcolor\": \"white\", \"linecolor\": \"white\", \"minorgridcolor\": \"white\", \"startlinecolor\": \"#2a3f5f\"}, \"baxis\": {\"endlinecolor\": \"#2a3f5f\", \"gridcolor\": \"white\", \"linecolor\": \"white\", \"minorgridcolor\": \"white\", \"startlinecolor\": \"#2a3f5f\"}, \"type\": \"carpet\"}], \"choropleth\": [{\"colorbar\": {\"outlinewidth\": 0, \"ticks\": \"\"}, \"type\": \"choropleth\"}], \"contour\": [{\"colorbar\": {\"outlinewidth\": 0, \"ticks\": \"\"}, \"colorscale\": [[0.0, \"#0d0887\"], [0.1111111111111111, \"#46039f\"], [0.2222222222222222, \"#7201a8\"], [0.3333333333333333, \"#9c179e\"], [0.4444444444444444, \"#bd3786\"], [0.5555555555555556, \"#d8576b\"], [0.6666666666666666, \"#ed7953\"], [0.7777777777777778, \"#fb9f3a\"], [0.8888888888888888, \"#fdca26\"], [1.0, \"#f0f921\"]], \"type\": \"contour\"}], \"contourcarpet\": [{\"colorbar\": {\"outlinewidth\": 0, \"ticks\": \"\"}, \"type\": \"contourcarpet\"}], \"heatmap\": [{\"colorbar\": {\"outlinewidth\": 0, \"ticks\": \"\"}, \"colorscale\": [[0.0, \"#0d0887\"], [0.1111111111111111, \"#46039f\"], [0.2222222222222222, \"#7201a8\"], [0.3333333333333333, \"#9c179e\"], [0.4444444444444444, \"#bd3786\"], [0.5555555555555556, \"#d8576b\"], [0.6666666666666666, \"#ed7953\"], [0.7777777777777778, \"#fb9f3a\"], [0.8888888888888888, \"#fdca26\"], [1.0, \"#f0f921\"]], \"type\": \"heatmap\"}], \"heatmapgl\": [{\"colorbar\": {\"outlinewidth\": 0, \"ticks\": \"\"}, \"colorscale\": [[0.0, \"#0d0887\"], [0.1111111111111111, \"#46039f\"], [0.2222222222222222, \"#7201a8\"], [0.3333333333333333, \"#9c179e\"], [0.4444444444444444, \"#bd3786\"], [0.5555555555555556, \"#d8576b\"], [0.6666666666666666, \"#ed7953\"], [0.7777777777777778, \"#fb9f3a\"], [0.8888888888888888, \"#fdca26\"], [1.0, \"#f0f921\"]], \"type\": \"heatmapgl\"}], \"histogram\": [{\"marker\": {\"colorbar\": {\"outlinewidth\": 0, \"ticks\": \"\"}}, \"type\": \"histogram\"}], \"histogram2d\": [{\"colorbar\": {\"outlinewidth\": 0, \"ticks\": \"\"}, \"colorscale\": [[0.0, \"#0d0887\"], [0.1111111111111111, \"#46039f\"], [0.2222222222222222, \"#7201a8\"], [0.3333333333333333, \"#9c179e\"], [0.4444444444444444, \"#bd3786\"], [0.5555555555555556, \"#d8576b\"], [0.6666666666666666, \"#ed7953\"], [0.7777777777777778, \"#fb9f3a\"], [0.8888888888888888, \"#fdca26\"], [1.0, \"#f0f921\"]], \"type\": \"histogram2d\"}], \"histogram2dcontour\": [{\"colorbar\": {\"outlinewidth\": 0, \"ticks\": \"\"}, \"colorscale\": [[0.0, \"#0d0887\"], [0.1111111111111111, \"#46039f\"], [0.2222222222222222, \"#7201a8\"], [0.3333333333333333, \"#9c179e\"], [0.4444444444444444, \"#bd3786\"], [0.5555555555555556, \"#d8576b\"], [0.6666666666666666, \"#ed7953\"], [0.7777777777777778, \"#fb9f3a\"], [0.8888888888888888, \"#fdca26\"], [1.0, \"#f0f921\"]], \"type\": \"histogram2dcontour\"}], \"mesh3d\": [{\"colorbar\": {\"outlinewidth\": 0, \"ticks\": \"\"}, \"type\": \"mesh3d\"}], \"parcoords\": [{\"line\": {\"colorbar\": {\"outlinewidth\": 0, \"ticks\": \"\"}}, \"type\": \"parcoords\"}], \"pie\": [{\"automargin\": true, \"type\": \"pie\"}], \"scatter\": [{\"marker\": {\"colorbar\": {\"outlinewidth\": 0, \"ticks\": \"\"}}, \"type\": \"scatter\"}], \"scatter3d\": [{\"line\": {\"colorbar\": {\"outlinewidth\": 0, \"ticks\": \"\"}}, \"marker\": {\"colorbar\": {\"outlinewidth\": 0, \"ticks\": \"\"}}, \"type\": \"scatter3d\"}], \"scattercarpet\": [{\"marker\": {\"colorbar\": {\"outlinewidth\": 0, \"ticks\": \"\"}}, \"type\": \"scattercarpet\"}], \"scattergeo\": [{\"marker\": {\"colorbar\": {\"outlinewidth\": 0, \"ticks\": \"\"}}, \"type\": \"scattergeo\"}], \"scattergl\": [{\"marker\": {\"colorbar\": {\"outlinewidth\": 0, \"ticks\": \"\"}}, \"type\": \"scattergl\"}], \"scattermapbox\": [{\"marker\": {\"colorbar\": {\"outlinewidth\": 0, \"ticks\": \"\"}}, \"type\": \"scattermapbox\"}], \"scatterpolar\": [{\"marker\": {\"colorbar\": {\"outlinewidth\": 0, \"ticks\": \"\"}}, \"type\": \"scatterpolar\"}], \"scatterpolargl\": [{\"marker\": {\"colorbar\": {\"outlinewidth\": 0, \"ticks\": \"\"}}, \"type\": \"scatterpolargl\"}], \"scatterternary\": [{\"marker\": {\"colorbar\": {\"outlinewidth\": 0, \"ticks\": \"\"}}, \"type\": \"scatterternary\"}], \"surface\": [{\"colorbar\": {\"outlinewidth\": 0, \"ticks\": \"\"}, \"colorscale\": [[0.0, \"#0d0887\"], [0.1111111111111111, \"#46039f\"], [0.2222222222222222, \"#7201a8\"], [0.3333333333333333, \"#9c179e\"], [0.4444444444444444, \"#bd3786\"], [0.5555555555555556, \"#d8576b\"], [0.6666666666666666, \"#ed7953\"], [0.7777777777777778, \"#fb9f3a\"], [0.8888888888888888, \"#fdca26\"], [1.0, \"#f0f921\"]], \"type\": \"surface\"}], \"table\": [{\"cells\": {\"fill\": {\"color\": \"#EBF0F8\"}, \"line\": {\"color\": \"white\"}}, \"header\": {\"fill\": {\"color\": \"#C8D4E3\"}, \"line\": {\"color\": \"white\"}}, \"type\": \"table\"}]}, \"layout\": {\"annotationdefaults\": {\"arrowcolor\": \"#2a3f5f\", \"arrowhead\": 0, \"arrowwidth\": 1}, \"autotypenumbers\": \"strict\", \"coloraxis\": {\"colorbar\": {\"outlinewidth\": 0, \"ticks\": \"\"}}, \"colorscale\": {\"diverging\": [[0, \"#8e0152\"], [0.1, \"#c51b7d\"], [0.2, \"#de77ae\"], [0.3, \"#f1b6da\"], [0.4, \"#fde0ef\"], [0.5, \"#f7f7f7\"], [0.6, \"#e6f5d0\"], [0.7, \"#b8e186\"], [0.8, \"#7fbc41\"], [0.9, \"#4d9221\"], [1, \"#276419\"]], \"sequential\": [[0.0, \"#0d0887\"], [0.1111111111111111, \"#46039f\"], [0.2222222222222222, \"#7201a8\"], [0.3333333333333333, \"#9c179e\"], [0.4444444444444444, \"#bd3786\"], [0.5555555555555556, \"#d8576b\"], [0.6666666666666666, \"#ed7953\"], [0.7777777777777778, \"#fb9f3a\"], [0.8888888888888888, \"#fdca26\"], [1.0, \"#f0f921\"]], \"sequentialminus\": [[0.0, \"#0d0887\"], [0.1111111111111111, \"#46039f\"], [0.2222222222222222, \"#7201a8\"], [0.3333333333333333, \"#9c179e\"], [0.4444444444444444, \"#bd3786\"], [0.5555555555555556, \"#d8576b\"], [0.6666666666666666, \"#ed7953\"], [0.7777777777777778, \"#fb9f3a\"], [0.8888888888888888, \"#fdca26\"], [1.0, \"#f0f921\"]]}, \"colorway\": [\"#636efa\", \"#EF553B\", \"#00cc96\", \"#ab63fa\", \"#FFA15A\", \"#19d3f3\", \"#FF6692\", \"#B6E880\", \"#FF97FF\", \"#FECB52\"], \"font\": {\"color\": \"#2a3f5f\"}, \"geo\": {\"bgcolor\": \"white\", \"lakecolor\": \"white\", \"landcolor\": \"#E5ECF6\", \"showlakes\": true, \"showland\": true, \"subunitcolor\": \"white\"}, \"hoverlabel\": {\"align\": \"left\"}, \"hovermode\": \"closest\", \"mapbox\": {\"style\": \"light\"}, \"paper_bgcolor\": \"white\", \"plot_bgcolor\": \"#E5ECF6\", \"polar\": {\"angularaxis\": {\"gridcolor\": \"white\", \"linecolor\": \"white\", \"ticks\": \"\"}, \"bgcolor\": \"#E5ECF6\", \"radialaxis\": {\"gridcolor\": \"white\", \"linecolor\": \"white\", \"ticks\": \"\"}}, \"scene\": {\"xaxis\": {\"backgroundcolor\": \"#E5ECF6\", \"gridcolor\": \"white\", \"gridwidth\": 2, \"linecolor\": \"white\", \"showbackground\": true, \"ticks\": \"\", \"zerolinecolor\": \"white\"}, \"yaxis\": {\"backgroundcolor\": \"#E5ECF6\", \"gridcolor\": \"white\", \"gridwidth\": 2, \"linecolor\": \"white\", \"showbackground\": true, \"ticks\": \"\", \"zerolinecolor\": \"white\"}, \"zaxis\": {\"backgroundcolor\": \"#E5ECF6\", \"gridcolor\": \"white\", \"gridwidth\": 2, \"linecolor\": \"white\", \"showbackground\": true, \"ticks\": \"\", \"zerolinecolor\": \"white\"}}, \"shapedefaults\": {\"line\": {\"color\": \"#2a3f5f\"}}, \"ternary\": {\"aaxis\": {\"gridcolor\": \"white\", \"linecolor\": \"white\", \"ticks\": \"\"}, \"baxis\": {\"gridcolor\": \"white\", \"linecolor\": \"white\", \"ticks\": \"\"}, \"bgcolor\": \"#E5ECF6\", \"caxis\": {\"gridcolor\": \"white\", \"linecolor\": \"white\", \"ticks\": \"\"}}, \"title\": {\"x\": 0.05}, \"xaxis\": {\"automargin\": true, \"gridcolor\": \"white\", \"linecolor\": \"white\", \"ticks\": \"\", \"title\": {\"standoff\": 15}, \"zerolinecolor\": \"white\", \"zerolinewidth\": 2}, \"yaxis\": {\"automargin\": true, \"gridcolor\": \"white\", \"linecolor\": \"white\", \"ticks\": \"\", \"title\": {\"standoff\": 15}, \"zerolinecolor\": \"white\", \"zerolinewidth\": 2}}}},                        {\"responsive\": true}                    ).then(function(){\n",
       "                            \n",
       "var gd = document.getElementById('616396da-e43a-4fef-89d7-98846197abb4');\n",
       "var x = new MutationObserver(function (mutations, observer) {{\n",
       "        var display = window.getComputedStyle(gd).display;\n",
       "        if (!display || display === 'none') {{\n",
       "            console.log([gd, 'removed!']);\n",
       "            Plotly.purge(gd);\n",
       "            observer.disconnect();\n",
       "        }}\n",
       "}});\n",
       "\n",
       "// Listen for the removal of the full notebook cells\n",
       "var notebookContainer = gd.closest('#notebook-container');\n",
       "if (notebookContainer) {{\n",
       "    x.observe(notebookContainer, {childList: true});\n",
       "}}\n",
       "\n",
       "// Listen for the clearing of the current output cell\n",
       "var outputEl = gd.closest('.output');\n",
       "if (outputEl) {{\n",
       "    x.observe(outputEl, {childList: true});\n",
       "}}\n",
       "\n",
       "                        })                };                });            </script>        </div>"
      ]
     },
     "metadata": {},
     "output_type": "display_data"
    }
   ],
   "source": [
    "lbl_coord=convert_coordinates(y_trueSample[:,0], y_trueSample[:,1], y_trueSample[:,2])\n",
    "pred_coord=convert_coordinates(y_predSample[:,0], y_predSample[:,1], y_predSample[:,2])\n",
    "granularPopNames=namesSample\n",
    "plot_coordinates_map(granularPopNames, pred_coord, lbl_coord, pred_cps=pred_cps_BOCD, cpShow=True)"
   ]
  },
  {
   "cell_type": "code",
   "execution_count": 178,
   "metadata": {
    "collapsed": true
   },
   "outputs": [],
   "source": [
    "def rawGcd(self, input_y, target):\n",
    "    if torch.is_tensor(input_y):\n",
    "        return torch.acos(torch.sum(input_y * target, dim=-1).clamp(-1.0 + self.eps, 1.0 - self.eps)) * self.earth_radius\n",
    "    elif isinstance(input_y, np.ndarray):\n",
    "        return np.arccos(np.clip(np.sum(input_y * target, axis=-1), a_min=-1.0 + self.eps, a_max=1.0 - self.eps)) * self.earth_radius"
   ]
  },
  {
   "cell_type": "code",
   "execution_count": 179,
   "metadata": {
    "collapsed": true
   },
   "outputs": [],
   "source": [
    "def gcd_loss(y_pred, y, mask=None):\n",
    "    if mask is not None: \n",
    "        print(mask.shape)\n",
    "        mask=mask.astype(int)\n",
    "    if mask is None:\n",
    "        mask = 1\n",
    "    eps = 1e-4\n",
    "    temp = np.arccos(np.clip(np.sum(y_pred * y, axis=-1),a_min=-1.0 + eps, a_max=1.0 - eps)).reshape(-1,1)\n",
    "    sum_gcd = np.sum(temp * 6371 * mask)\n",
    "    return sum_gcd"
   ]
  },
  {
   "cell_type": "code",
   "execution_count": 180,
   "metadata": {},
   "outputs": [
    {
     "name": "stdout",
     "output_type": "stream",
     "text": [
      "(317, 1)\n",
      "(317, 1)\n"
     ]
    },
    {
     "data": {
      "text/plain": [
       "{'PredCpMask': 433.5322084751535, 'no_mask': 417.1208945896587}"
      ]
     },
     "execution_count": 180,
     "metadata": {},
     "output_type": "execute_result"
    }
   ],
   "source": [
    "loss_main={}\n",
    "\n",
    "loss_main['no_mask']=gcd_loss(y_predSample, y_trueSample)/317.0\n",
    "trueCpMask=(true_cpsSample==0)[...,np.newaxis]\n",
    "PredCpMask=(pred_cps_BOCD==0)[...,np.newaxis]\n",
    "# PredCpMask=np.repeat(PredCpMask,3,1)\n",
    "print(PredCpMask.shape)\n",
    "# loss_main['trueCpMask']=gcd_loss(y_predSample, y_trueSample, mask=trueCpMask)/trueCpMask.sum()\n",
    "loss_main['PredCpMask']=gcd_loss(y_predSample, y_trueSample, mask=PredCpMask)/(317.0-12.0)\n",
    "loss_main"
   ]
  },
  {
   "cell_type": "code",
   "execution_count": 181,
   "metadata": {},
   "outputs": [
    {
     "data": {
      "text/plain": [
       "317"
      ]
     },
     "execution_count": 181,
     "metadata": {},
     "output_type": "execute_result"
    }
   ],
   "source": [
    "np.sum(PredCpMask)"
   ]
  },
  {
   "cell_type": "code",
   "execution_count": null,
   "metadata": {
    "collapsed": true
   },
   "outputs": [],
   "source": [
    "115498040.10265198/305"
   ]
  },
  {
   "cell_type": "code",
   "execution_count": null,
   "metadata": {
    "collapsed": true
   },
   "outputs": [],
   "source": [
    "PredCpMask"
   ]
  },
  {
   "cell_type": "code",
   "execution_count": null,
   "metadata": {
    "collapsed": true
   },
   "outputs": [],
   "source": [
    "PredCpMask.sum()"
   ]
  },
  {
   "cell_type": "code",
   "execution_count": null,
   "metadata": {
    "collapsed": true
   },
   "outputs": [],
   "source": [
    "gcd_loss(y_predSample, y_trueSample, mask=PredCpMask)"
   ]
  },
  {
   "cell_type": "code",
   "execution_count": null,
   "metadata": {
    "collapsed": true
   },
   "outputs": [],
   "source": [
    "y_predSample*PredCpMask"
   ]
  },
  {
   "cell_type": "code",
   "execution_count": null,
   "metadata": {
    "collapsed": true
   },
   "outputs": [],
   "source": [
    "trueCpMask.sum()-PredCpMask.sum()"
   ]
  },
  {
   "cell_type": "code",
   "execution_count": null,
   "metadata": {
    "collapsed": true
   },
   "outputs": [],
   "source": [
    "unknownIdx=np.nonzero(pred_cps_BOCD)[0]\n",
    "gcdUnknownIdx=GcdLoss()(y_predSample[unknownIdx,:], y_trueSample[unknownIdx,:])/12.0\n",
    "gcdUnknownIdx"
   ]
  },
  {
   "cell_type": "code",
   "execution_count": null,
   "metadata": {
    "collapsed": true
   },
   "outputs": [],
   "source": [
    "unknownIdx"
   ]
  },
  {
   "cell_type": "code",
   "execution_count": null,
   "metadata": {
    "collapsed": true
   },
   "outputs": [],
   "source": [
    "knownIdx=np.delete(np.arange(317), unknownIdx)\n",
    "knownIdx"
   ]
  },
  {
   "cell_type": "code",
   "execution_count": null,
   "metadata": {
    "collapsed": true
   },
   "outputs": [],
   "source": [
    "gcdUnknownIdxSum=GcdLoss()(y_predSample[unknownIdx,:], y_trueSample[unknownIdx,:])\n",
    "AllIdxSum = GcdLoss()(y_predSample, y_trueSample)\n",
    "knownIdxSum = GcdLoss()(y_predSample[knownIdx,:], y_trueSample[knownIdx,:])\n",
    "print(AllIdxSum, knownIdxSum, gcdUnknownIdxSum)\n",
    "print(AllIdxSum/317.0, knownIdxSum/(317.0-12.0), gcdUnknownIdxSum/12.0)"
   ]
  },
  {
   "cell_type": "code",
   "execution_count": null,
   "metadata": {
    "collapsed": true
   },
   "outputs": [],
   "source": [
    "def plot_changepoints(true_cps, pred_cps, y_pred, bocp_rl, y_var, popNames):\n",
    "    fig, ax = plt.subplots(4,1,figsize=[18,20])\n",
    "    T=len(true_cps)\n",
    "    ax[0].plot(y_pred)\n",
    "    ax[0].text(0, np.max(y_pred)-0.5, s=popNames[0], size=15)\n",
    "    for i in np.nonzero(true_cps)[0]:\n",
    "        ax[0].plot([i,i], [np.min(y_pred), np.max(y_pred)], 'r' )\n",
    "        ax[0].text(i, np.max(y_pred)-0.5, s=popNames[i+1], size=15)\n",
    "    \n",
    "    ax[1].plot(np.arange(T+1), bocp_rl)\n",
    "    ax[2].plot(pred_cps)\n",
    "    ax[3].plot(true_cps)\n",
    "    \n",
    "    ax[0].set_title(\"n_vectors\")\n",
    "    ax[1].set_title(\"BOCD (post process) run_length\")\n",
    "    ax[2].set_title(\"BOCD (post process) cp\")\n",
    "    ax[3].set_title(\"True Cps\")\n",
    "    plt.show()"
   ]
  },
  {
   "cell_type": "code",
   "execution_count": null,
   "metadata": {
    "collapsed": true,
    "scrolled": false
   },
   "outputs": [],
   "source": [
    "y_var=y_predSample[:,1:]-y_predSample[:,:-1]\n",
    "bocp_rlSample=model_cpd.cp.detach().cpu().numpy()[index,:]\n",
    "plot_changepoints(true_cpsSample, pred_cps_BOCD, y_predSample, bocp_rlSample, y_var, namesSample)"
   ]
  },
  {
   "cell_type": "code",
   "execution_count": null,
   "metadata": {
    "collapsed": true
   },
   "outputs": [],
   "source": [
    "y_predSample.shape"
   ]
  },
  {
   "cell_type": "code",
   "execution_count": null,
   "metadata": {
    "collapsed": true
   },
   "outputs": [],
   "source": [
    "lbl_coord=convert_coordinates(y_trueSample[:,0], y_trueSample[:,1], y_trueSample[:,2])\n",
    "pred_coord=convert_coordinates(y_predSample[:,0], y_predSample[:,1], y_predSample[:,2])\n",
    "granularPopNames=namesSample\n",
    "plot_coordinates_map(granularPopNames, pred_coord, lbl_coord, pred_cps=pred_cps_BOCD, cpShow=True)"
   ]
  },
  {
   "cell_type": "code",
   "execution_count": null,
   "metadata": {
    "collapsed": true,
    "scrolled": false
   },
   "outputs": [],
   "source": [
    "lbl_coord=convert_coordinates(y_trueSample[:,0], y_trueSample[:,1], y_trueSample[:,2])\n",
    "pred_coord=convert_coordinates(y_predSample[:,0], y_predSample[:,1], y_predSample[:,2])\n",
    "granularPopNames=namesSample\n",
    "plot_coordinates_map(granularPopNames, pred_coord, lbl_coord, pred_cps=pred_cps_BOCD, cpShow=True)"
   ]
  },
  {
   "cell_type": "code",
   "execution_count": 182,
   "metadata": {
    "collapsed": true
   },
   "outputs": [],
   "source": [
    "idxOfInterest=np.unique(np.nonzero(test_dataset.data['granular_pop']==granular_pop_dict[\"San\"])[0])"
   ]
  },
  {
   "cell_type": "code",
   "execution_count": 183,
   "metadata": {},
   "outputs": [
    {
     "data": {
      "text/plain": [
       "array([ 510,  511,  615,  905, 1036, 1054, 1159, 1472, 1491, 1566, 1580,\n",
       "       1601, 1715, 1906, 1943, 1970, 2080, 2135, 2166, 2207, 2232, 2241,\n",
       "       2286, 2434, 2468, 2531, 2562, 2636, 2645, 2646, 2698, 2821, 2887,\n",
       "       2907])"
      ]
     },
     "execution_count": 183,
     "metadata": {},
     "output_type": "execute_result"
    }
   ],
   "source": [
    "idxOfInterest"
   ]
  },
  {
   "cell_type": "code",
   "execution_count": null,
   "metadata": {
    "collapsed": true
   },
   "outputs": [],
   "source": [
    "@timer\n",
    "def plot_all(ax, y_preds, superpops, **kwargs):\n",
    "    cpShow=kwargs.get('cpShow')\n",
    "    pred_cps=kwargs.get('pred_cps')    \n",
    "    continentaPops=list(superop_dict.values())\n",
    "    colors_pop = sns.color_palette(\"bright\", 10)\n",
    "    del colors_pop[1]\n",
    "    del colors_pop[4]\n",
    "    del colors_pop[5]\n",
    "    colors_pop_dict = {k:v for k,v in zip(continentaPops, colors_pop)}\n",
    "    \n",
    "    alpha=[0.03]*len(y_preds)\n",
    "    if cpShow is None:\n",
    "        alpha=(pred_cps==0).astype(float)\n",
    "    \n",
    "    ax.scatter(y_preds[:,0], y_preds[:,1], y_preds[:,2], \\\n",
    "               color = [colors_pop_dict[x]+(y,) for x,y in zip(superpops, alpha)], marker=\".\", s=0.05,zorder=-1) \n",
    "    \n",
    "    patches=[]\n",
    "    for k, val in superop_dict.items():\n",
    "        patches.append(mpatches.Patch(color = colors_pop_dict[val], label = k))\n",
    "    lgnd = ax.legend(handles=patches, loc=\"upper right\", fontsize=15)\n",
    "    return lgnd, colors_pop_dict\n"
   ]
  },
  {
   "cell_type": "code",
   "execution_count": null,
   "metadata": {
    "collapsed": true
   },
   "outputs": [],
   "source": [
    "y_preds=results.t_out.coord_main\n",
    "y_predCps=getCpPred(cpMethod.gradient.name, y_predSample, 0.1, y_preds.shape[0], y_preds.shape[1])\n",
    "y_predCps=y_predCps.reshape(-1,)\n",
    "y_preds=y_preds.reshape(-1,3)\n",
    "superpops=test_dataset.data['superpop'].reshape(-1,)"
   ]
  },
  {
   "cell_type": "code",
   "execution_count": null,
   "metadata": {},
   "outputs": [],
   "source": [
    "granular_pop_dict"
   ]
  },
  {
   "cell_type": "code",
   "execution_count": null,
   "metadata": {
    "collapsed": true
   },
   "outputs": [],
   "source": []
  },
  {
   "cell_type": "code",
   "execution_count": null,
   "metadata": {
    "collapsed": true
   },
   "outputs": [],
   "source": []
  }
 ],
 "metadata": {
  "kernelspec": {
   "display_name": "Python 3",
   "language": "python",
   "name": "python3"
  },
  "language_info": {
   "codemirror_mode": {
    "name": "ipython",
    "version": 3
   },
   "file_extension": ".py",
   "mimetype": "text/x-python",
   "name": "python",
   "nbconvert_exporter": "python",
   "pygments_lexer": "ipython3",
   "version": "3.6.1"
  }
 },
 "nbformat": 4,
 "nbformat_minor": 2
}
