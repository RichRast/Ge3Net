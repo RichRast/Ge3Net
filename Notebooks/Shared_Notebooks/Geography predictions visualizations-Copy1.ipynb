{
 "cells": [
  {
   "cell_type": "code",
   "execution_count": 1,
   "metadata": {
    "collapsed": true
   },
   "outputs": [],
   "source": [
    "import torch\n",
    "import sys\n",
    "import os\n",
    "import os.path as osp\n",
    "import pandas as pd\n",
    "import numpy as np\n",
    "import itertools\n",
    "import matplotlib.pyplot as plt\n",
    "import seaborn as sns\n",
    "import plotly.graph_objects as go\n",
    "from mpl_toolkits.mplot3d import Axes3D\n",
    "from matplotlib import ticker\n",
    "import matplotlib as mpl\n",
    "from matplotlib.colors import LogNorm\n",
    "import matplotlib.patches as mpatches\n",
    "from sklearn.metrics import precision_recall_curve, recall_score, precision_score, \\\n",
    "balanced_accuracy_score, accuracy_score\n",
    "from sklearn import metrics\n",
    "import math"
   ]
  },
  {
   "cell_type": "code",
   "execution_count": 2,
   "metadata": {
    "collapsed": true
   },
   "outputs": [],
   "source": [
    "os.environ['USER_PATH']='/home/users/richras/Ge2Net_Repo'\n",
    "os.environ['USER_SCRATCH_PATH']=\"/scratch/users/richras\"\n",
    "os.environ['IN_PATH']='/scratch/groups/cdbustam/richras/data_in'\n",
    "os.environ['OUT_PATH']='/scratch/groups/cdbustam/richras/data_out'\n",
    "os.environ['LOG_PATH']='/scratch/groups/cdbustam/richras/logs/'"
   ]
  },
  {
   "cell_type": "code",
   "execution_count": 3,
   "metadata": {
    "collapsed": true
   },
   "outputs": [],
   "source": [
    "os.chdir(os.environ.get('USER_PATH'))"
   ]
  },
  {
   "cell_type": "code",
   "execution_count": 4,
   "metadata": {
    "collapsed": true
   },
   "outputs": [],
   "source": [
    "%load_ext autoreload\n",
    "%autoreload 2\n",
    "from src.utils.dataUtil import load_path, save_file, vcf2npy\n",
    "from src.utils.modelUtil import Params, load_model, convert_coordinates\n",
    "from src.utils.labelUtil import nearestNeighbourMapping, repeat_pop_arr\n",
    "from src.utils.decorators import timer\n",
    "from src.models.modelSelection import modelSelect\n",
    "from src.models.modelParamsSelection import Selections\n",
    "from src.models import Model_A, Model_B, Model_C, BOCD\n",
    "from src.models.distributions import Multivariate_Gaussian\n",
    "from src.main.evaluation import eval_cp_batch, reportChangePointMetrics, t_prMetrics, cpMethod, eval_cp_matrix, \\\n",
    "getCpPred, GcdLoss\n",
    "from src.main.settings_model import parse_args\n",
    "from src.models.Ge3Net import Ge3NetBase\n",
    "from src.main.visualization import plot_changepoints\n",
    "import inference"
   ]
  },
  {
   "cell_type": "markdown",
   "metadata": {},
   "source": [
    "# load the model and use valid data "
   ]
  },
  {
   "cell_type": "code",
   "execution_count": 288,
   "metadata": {
    "collapsed": true
   },
   "outputs": [],
   "source": [
    "# Specify the dataset to be evaluated\n",
    "# chm22 pca full dataset and model\n",
    "labels_path = osp.join(os.environ['OUT_PATH'],'humans/labels/data_id_1_geo')\n",
    "data_path = osp.join(os.environ['OUT_PATH'],'humans/labels/data_id_1_geo')\n",
    "models_path=osp.join(os.environ['OUT_PATH'],'humans/training/Model_H_exp_id_10_data_id_1_geo/') \n",
    "dataset_type='test'"
   ]
  },
  {
   "cell_type": "code",
   "execution_count": 289,
   "metadata": {
    "scrolled": false
   },
   "outputs": [
    {
     "name": "stdout",
     "output_type": "stream",
     "text": [
      " device used: cuda\n",
      "Loading the datasets...\n",
      "Finished '_geoConvertLatLong2nVec' in 0.0722 secs\n",
      "Finished 'mapping_func' in 0.3141 secs\n",
      "Finished 'pop_mapping' in 0.1204 secs\n",
      "Finished 'pop_mapping' in 0.1125 secs\n",
      "Finished 'transform_data' in 33.6642 secs\n",
      "Finished '__init__' in 95.5039 secs\n",
      "Parameter count for model AuxNetwork:31752803\n",
      "Parameter count for model PositionalEncoding:0\n",
      "Parameter count for model attention_single:32342\n",
      "Parameter count for model FFNN:32548\n",
      "Parameter count for model BiRNN:35395\n",
      "Parameter count for model logits_Block:2289\n",
      "Total parameters:31855377\n",
      "best val loss metrics : {'loss_main': 1022.7950114515362, 'loss_aux': 2302.5517583509786, 'l1_loss': 0.23750537297167365, 'mse': 0.054396821367344486, 'smooth_l1': 0.027125347057171255, 'weighted_loss': 0.23750537297167365}\n",
      "at epoch : 119\n",
      "train loss metrics: {'loss_main': 376.07291603652266, 'loss_aux': 1778.9024937115694, 'l1_loss': 0.08760086007491721, 'mse': 0.008409384318667413, 'smooth_l1': 0.004197009361169736, 'weighted_loss': 0.08760086007491721}\n",
      "best val cp metrics : {'loss_cp': 0.26876976725647256, 'prMetrics': OrderedDict([('Precision', array(0.3753736)), ('Recall', array(0.64410536)), ('Accuracy', array(0.98051165)), ('A_major', array(0.98516722)), ('BalancedAccuracy', 0.8146362878693416)])}\n",
      "train cp metrics: {'loss_cp': 0.18976147443964675, 'prMetrics': OrderedDict([('Precision', array(0.34263696)), ('Recall', array(0.75247211)), ('Accuracy', array(0.98708348)), ('A_major', array(0.98888914)), ('BalancedAccuracy', 0.8706806238848319)])}\n",
      "best val sp metrics : None\n",
      "train sp metrics: None\n",
      "best val balanced gcd metrics : {'meanBalancedGcdSp': 1109.9727783203125, 'meanBalancedGcdGp': 1407.2791748046875, 'medianBalancedGcdSp': 1045.5906982421875, 'medianBalancedGcdGp': 1214.3272705078125, 'median': 697.2177124023438}\n",
      "train balanced gcd metrics: {'meanBalancedGcdSp': 479.5821228027344, 'meanBalancedGcdGp': 637.7451782226562, 'medianBalancedGcdSp': 360.510009765625, 'medianBalancedGcdGp': 521.8018798828125, 'median': 245.4760284423828}\n",
      "Finished 'load_model' in 0.9306 secs\n",
      "is the model on cuda? : True\n",
      "Finished 'batchLoopValid' in 3.0223 secs\n",
      "Finished 'main' in 99.7671 secs\n"
     ]
    }
   ],
   "source": [
    "config={}\n",
    "config['data.labels']=labels_path \n",
    "config['data.dir']=data_path \n",
    "config['models.dir']=models_path\n",
    "config['data.dataset_type']=dataset_type\n",
    "config['cuda']='cuda'\n",
    "config['model.loadBest']=True\n",
    "json_path = osp.join(config['models.dir'], 'params.json')\n",
    "assert osp.isfile(json_path), \"No json configuration file found at {}\".format(json_path)\n",
    "params = Params(json_path)\n",
    "params.rtnOuts=True\n",
    "params.mc_dropout=False\n",
    "params.mc_samples=100\n",
    "params.cp_tol=1\n",
    "params.test_gens=[0,2,4,8]\n",
    "params.evalCp=True\n",
    "params.evalBalancedGcd=True\n",
    "params.evalExtraMainLosses=True\n",
    "results, test_dataset, model, _=inference.main(config, params)"
   ]
  },
  {
   "cell_type": "code",
   "execution_count": 290,
   "metadata": {
    "collapsed": true
   },
   "outputs": [],
   "source": [
    "# def load_model(model_path, model_init, optimizer=None):\n",
    "#     if not osp.exists(model_path):\n",
    "#         # ToDo look into the raise exception error not\n",
    "#         # coming from BaseException\n",
    "#         print(f'{model_path} does not exist')\n",
    "#         raise (f'{model_path} does not exist')\n",
    "        \n",
    "#     checkpoint = torch.load(model_path)\n",
    "\n",
    "#     print(f\"best val loss metrics : {checkpoint['val_accr']['t_accr']}\")\n",
    "#     print(f\"at epoch : {checkpoint['epoch']}\")\n",
    "#     print(f\"train loss metrics: {checkpoint['train_accr']['t_accr']}\")\n",
    "\n",
    "#     print(f\"best val cp metrics : {checkpoint['val_accr']['t_cp_accr']}\")\n",
    "#     print(f\"train cp metrics: {checkpoint['train_accr']['t_cp_accr']}\")\n",
    "\n",
    "#     print(f\"best val sp metrics : {checkpoint['val_accr']['t_sp_accr']}\")\n",
    "#     print(f\"train sp metrics: {checkpoint['train_accr']['t_sp_accr']}\")\n",
    "\n",
    "#     print(f\"best val balanced gcd metrics : {checkpoint['val_accr']['t_balanced_gcd']}\")\n",
    "#     print(f\"train balanced gcd metrics: {checkpoint['train_accr']['t_balanced_gcd']}\")\n",
    "    \n",
    "#     print(f\"checkpoint['model_state_dict']:{checkpoint['model_state_dict']}\")\n",
    "#     model_init.load_state_dict(checkpoint['model_state_dict'])\n",
    "         \n",
    "#     return model_init"
   ]
  },
  {
   "cell_type": "code",
   "execution_count": 291,
   "metadata": {
    "collapsed": true,
    "scrolled": true
   },
   "outputs": [],
   "source": [
    "# model_path = osp.join(config['models.dir'], 'models_dir')\n",
    "# modelOption=modelSelect.get_selection()\n",
    "# option = Selections.get_selection()\n",
    "# criterion = option['loss'][params.criteria](reduction='sum', alpha=params.criteria_alpha, geography=params.geography)\n",
    "# cp_criterion=option['cpMetrics']['loss_cp']\n",
    "# model_init = modelOption['models'][params.model](params, criterion, cp_criterion)\n",
    "# if config['model.loadBest']:\n",
    "#     model = load_model(''.join([str(model_path),'/best.pt']), model_init)\n",
    "# else:\n",
    "#     model= load_model(''.join([str(model_path),'/last.pt']), model_init)\n"
   ]
  },
  {
   "cell_type": "code",
   "execution_count": 292,
   "metadata": {},
   "outputs": [
    {
     "data": {
      "text/plain": [
       "True"
      ]
     },
     "execution_count": 292,
     "metadata": {},
     "output_type": "execute_result"
    }
   ],
   "source": [
    "model.to(params.device)\n",
    "next(model.parameters()).is_cuda"
   ]
  },
  {
   "cell_type": "code",
   "execution_count": 293,
   "metadata": {},
   "outputs": [
    {
     "data": {
      "text/plain": [
       "(1, 2964, 317, 3)"
      ]
     },
     "execution_count": 293,
     "metadata": {},
     "output_type": "execute_result"
    }
   ],
   "source": [
    "results.t_out.coord_main.shape"
   ]
  },
  {
   "cell_type": "code",
   "execution_count": 294,
   "metadata": {},
   "outputs": [
    {
     "data": {
      "text/plain": [
       "({'l1_loss': 0.231020815231982,\n",
       "  'loss_aux': 2183.461500146873,\n",
       "  'loss_main': 989.6348101508321,\n",
       "  'mse': 0.05191568562456031,\n",
       "  'smooth_l1': 0.025889121649304337,\n",
       "  'weighted_loss': 0.231020815231982},\n",
       " {'loss_cp': 0.31530401193586644,\n",
       "  'prMetrics': OrderedDict([('Precision', array(0.41005449)),\n",
       "               ('Recall', array(0.65564388)),\n",
       "               ('Accuracy', array(0.97845013)),\n",
       "               ('A_major', array(0.98394459)),\n",
       "               ('BalancedAccuracy', 0.8197942341801079)])})"
      ]
     },
     "execution_count": 294,
     "metadata": {},
     "output_type": "execute_result"
    }
   ],
   "source": [
    "results.t_accr, results.t_cp_accr"
   ]
  },
  {
   "cell_type": "code",
   "execution_count": 295,
   "metadata": {},
   "outputs": [
    {
     "data": {
      "text/plain": [
       "{'meanBalancedGcdGp': 1153.9429931640625,\n",
       " 'meanBalancedGcdSp': 1081.30078125,\n",
       " 'median': 676.7666625976562,\n",
       " 'medianBalancedGcdGp': 1047.4132080078125,\n",
       " 'medianBalancedGcdSp': 1079.3060302734375}"
      ]
     },
     "execution_count": 295,
     "metadata": {},
     "output_type": "execute_result"
    }
   ],
   "source": [
    "results.t_balanced_gcd"
   ]
  },
  {
   "cell_type": "code",
   "execution_count": 296,
   "metadata": {
    "collapsed": true
   },
   "outputs": [],
   "source": [
    "results_coord_main=results.t_out.coord_main.mean(0)"
   ]
  },
  {
   "cell_type": "code",
   "execution_count": 297,
   "metadata": {},
   "outputs": [
    {
     "name": "stdout",
     "output_type": "stream",
     "text": [
      "Finished 'run_recursive' in 184.9210 secs\n"
     ]
    }
   ],
   "source": [
    "y_pred = results_coord_main\n",
    "n_vec_dim=y_pred.shape[-1]\n",
    "data_tensor = torch.tensor(y_pred).float()\n",
    "batch_size_cpd = data_tensor.shape[0]\n",
    "mu_prior = torch.zeros((batch_size_cpd, 1,n_vec_dim))\n",
    "mean_var=torch.mean(torch.var(data_tensor, dim =1),dim=0).unsqueeze(0)\n",
    "cov_prior = (mean_var.repeat(batch_size_cpd,1).unsqueeze(1)* torch.eye(n_vec_dim)).reshape(batch_size_cpd,1,n_vec_dim,n_vec_dim)\n",
    "cov_x = cov_prior\n",
    "likelihood_model = Multivariate_Gaussian(mu_prior, cov_prior, cov_x)\n",
    "T = params.n_win\n",
    "model_cpd = BOCD.BOCD(None, T, likelihood_model, batch_size_cpd)\n",
    "_,_,_,_=model_cpd.run_recursive(data_tensor, 'cpu')"
   ]
  },
  {
   "cell_type": "code",
   "execution_count": 298,
   "metadata": {
    "collapsed": true
   },
   "outputs": [],
   "source": [
    "granular_pop_dict = load_path(osp.join(labels_path, 'granular_pop.pkl'), en_pickle=True)\n",
    "superop_dict=load_path(osp.join(labels_path, 'superpop.pkl'), en_pickle=True)\n",
    "pop_sample_map=pd.read_csv(osp.join(labels_path, 'pop_sample_map.tsv'),sep=\"\\t\")\n",
    "pop_arr=repeat_pop_arr(pop_sample_map)\n",
    "cp_target=test_dataset.data['cps']\n",
    "seqlen=cp_target.shape[1]\n",
    "rev_pop_dict={v:k for k,v in granular_pop_dict.items()}"
   ]
  },
  {
   "cell_type": "code",
   "execution_count": 299,
   "metadata": {},
   "outputs": [
    {
     "data": {
      "text/plain": [
       "(2964, 317)"
      ]
     },
     "execution_count": 299,
     "metadata": {},
     "output_type": "execute_result"
    }
   ],
   "source": [
    "cp_target.shape"
   ]
  },
  {
   "cell_type": "code",
   "execution_count": 806,
   "metadata": {
    "scrolled": false
   },
   "outputs": [
    {
     "name": "stdout",
     "output_type": "stream",
     "text": [
      "2432\n"
     ]
    }
   ],
   "source": [
    "# index = 2500\n",
    "# index=2620\n",
    "# index=2650\n",
    "# index=3000\n",
    "# index=3100\n",
    "# index=2300\n",
    "# index=2320\n",
    "# index=2338 #interesting Mansi pop\n",
    "# index=2339 # nice example showing Karitiana\n",
    "# index=2344 #interesting clusters of Mongolia\n",
    "# index=2346 # interesting African diversity\n",
    "# index=2355#int. Iranian sample\n",
    "# index=2366# Piapioco and Pima both\n",
    "# index=2388#int example\n",
    "# index=2398#Biaka/Luhya\n",
    "# index=2403#Quechua\n",
    "# index=2414#incorrect Khomani San\n",
    "# index=2421#uyugur\n",
    "# index=2465#balochi similar to MAkrani slave trade\n",
    "# index=2482# interesting Indo euro\n",
    "# index=2876 #icelandic example\n",
    "# index=3533 #San and icelandic\n",
    "# index=1007 #Surui\n",
    "# index=2974 #Surui nice example\n",
    "#1873# nice diversity of samples\n",
    "index=np.random.choice(idxOfInterest)\n",
    "# index=830\n",
    "# index=511\n",
    "# index=1040 #San\n",
    "# index=2205#1007 #2205, for 3_geo\n",
    "# index=437\n",
    "print(index)\n",
    "true_cpsSample=cp_target[index,:]\n",
    "y_predSample=results_coord_main[index,:]\n",
    "y_trueSample=test_dataset.data['y'][index,:]\n",
    "granularpopSample=test_dataset.data['granular_pop'][index,:]\n",
    "namesSample=[rev_pop_dict[i] for i in granularpopSample.astype(int)]"
   ]
  },
  {
   "cell_type": "code",
   "execution_count": 807,
   "metadata": {},
   "outputs": [
    {
     "data": {
      "text/plain": [
       "(317, 3)"
      ]
     },
     "execution_count": 807,
     "metadata": {},
     "output_type": "execute_result"
    }
   ],
   "source": [
    "y_predSample.shape"
   ]
  },
  {
   "cell_type": "code",
   "execution_count": 808,
   "metadata": {
    "collapsed": true
   },
   "outputs": [],
   "source": [
    "pred_cps=getCpPred(cpMethod.gradient.name, y_predSample, 0.1, 1, len(true_cpsSample))\n",
    "pred_cps=pred_cps.squeeze(0).detach().cpu().numpy()# squeeze the batch dimension of 1"
   ]
  },
  {
   "cell_type": "code",
   "execution_count": 809,
   "metadata": {
    "collapsed": true
   },
   "outputs": [],
   "source": [
    "predBOCDSample=model_cpd.cp[index,:]\n",
    "pred_cps_BOCD=getCpPred(cpMethod.BOCD.name, predBOCDSample, 5.0, 1, len(true_cpsSample))\n",
    "pred_cps_BOCD=pred_cps_BOCD.squeeze(0).detach().cpu().numpy()# squeeze the batch dimension of 1"
   ]
  },
  {
   "cell_type": "code",
   "execution_count": 810,
   "metadata": {
    "collapsed": true
   },
   "outputs": [],
   "source": [
    "cpIdx=np.nonzero(pred_cps_BOCD)[0]\n",
    "remWin=3\n",
    "for i in cpIdx:\n",
    "    low=max(0,i-remWin)\n",
    "    high=min(seqlen, i+remWin)\n",
    "    pred_cps_BOCD[low:high]=1"
   ]
  },
  {
   "cell_type": "code",
   "execution_count": 811,
   "metadata": {},
   "outputs": [
    {
     "name": "stdout",
     "output_type": "stream",
     "text": [
      "Finished 'nearestNeighbourMapping' in 0.0895 secs\n"
     ]
    }
   ],
   "source": [
    "mappedSpArr=nearestNeighbourMapping(labels_path, y_predSample.reshape(-1,3))\n",
    "# mappedSpArr=mappedSpArr.squeeze(1)"
   ]
  },
  {
   "cell_type": "code",
   "execution_count": 812,
   "metadata": {
    "collapsed": true
   },
   "outputs": [],
   "source": [
    "y_predsTrue=test_dataset.data['y'].reshape(-1,3)\n",
    "superpopsTrue=test_dataset.data['superpop'].reshape(-1,)"
   ]
  },
  {
   "cell_type": "code",
   "execution_count": 813,
   "metadata": {
    "collapsed": true
   },
   "outputs": [],
   "source": [
    "@timer\n",
    "def plot_sample(granularPopSample, y_predSample, y_trueSample, **kwargs):\n",
    "    backgroundAxis=kwargs.get('backgroundAxis')\n",
    "    y_predCps=kwargs.get('y_predCps')\n",
    "    y_preds=kwargs.get('y_preds')\n",
    "    superpops=kwargs.get('superpops')\n",
    "    cpShow=kwargs.get('cpShow')\n",
    "    pred_cps=kwargs.get('pred_cps')\n",
    "    mappedSpArr=kwargs.get('mappedSpArr')\n",
    "    fig, ax = plt.subplots(figsize=(12,14))\n",
    "    \n",
    "    gs1 = fig.add_gridspec(nrows=3, ncols=1, height_ratios=[13,1,1])\n",
    "    ax1=fig.add_subplot(gs1[0],projection='3d')\n",
    "    ax2=fig.add_subplot(gs1[1])\n",
    "    ax3=fig.add_subplot(gs1[2])\n",
    "    for axis in [ax, ax2, ax3]:\n",
    "        axis.set_yticks([])\n",
    "        axis.spines['top'].set_color('none')\n",
    "        axis.spines['left'].set_color('none')\n",
    "        axis.spines['right'].set_color('none')\n",
    "    ax.set_xticks([])\n",
    "    plt.subplots_adjust(hspace=0.01)\n",
    "    \n",
    "    if backgroundAxis is not None:\n",
    "        lgnd, colorsPop_sp_dict =plot_all(ax1, y_preds, superpops, cpShow=False)\n",
    "    else:\n",
    "        continentaPops=list(superop_dict.values())\n",
    "        colors_Sp = sns.color_palette(\"bright\", 10)\n",
    "        del colors_Sp[1]\n",
    "        del colors_Sp[4]\n",
    "        del colors_Sp[5]\n",
    "        colorsPop_sp_dict = {k:v for k,v in zip(continentaPops, colors_Sp)}\n",
    "        colorsPop_sp_dict[-1]=(0.7,0.7,0.7) # grey color\n",
    "        patches=[]\n",
    "        for k, val in superop_dict.items():\n",
    "            patches.append(mpatches.Patch(color = colorsPop_sp_dict[val], label = k))\n",
    "        lgnd = ax1.legend(handles=patches, loc=\"upper right\",fontsize=15)\n",
    "    ax1.add_artist(lgnd)    \n",
    "    colors_pop = sns.color_palette(\"rainbow\", len(np.unique(granularPopSample)))\n",
    "    colors_pop_dict = {k:v for k,v in zip(np.unique(granularPopSample), colors_pop)}\n",
    "\n",
    "    alpha=[1]*len(y_predSample)\n",
    "    if cpShow is None:\n",
    "#         alpha=(pred_cps==0).astype(float)\n",
    "        unknownIdx=np.nonzero(pred_cps)[0]\n",
    "        print(f\"number of changepoints removed:{len(unknownIdx)},{len(unknownIdx)/len(y_predSample)}\")\n",
    "        granularPopNames=[\"UNK\" if i in unknownIdx else granularPopSample[i] for i in range(len(granularPopSample))]\n",
    "        colors_pop_dict[\"UNK\"]=(0.9,0.9,0.9) # grey color\n",
    "        mappedSpArr[unknownIdx]=-1\n",
    "    \n",
    "    ax1.scatter(y_predSample[:,0], y_predSample[:,1], y_predSample[:,2], \\\n",
    "               color = [colors_pop_dict[x]+(y,) for x,y in zip(granularPopNames, alpha)], s=50, zorder=0) \n",
    "    ax1.scatter(y_trueSample[:,0], y_trueSample[:,1], y_trueSample[:,2], \\\n",
    "               color = [colors_pop_dict[x] for x in granularPopSample], marker='X', s=200, zorder=0)\n",
    "    \n",
    "    for axis in [ax1.xaxis, ax1.yaxis, ax1.zaxis]:\n",
    "        axis.set_pane_color((1.0, 1.0, 1.0, 0.0))\n",
    "        axis._axinfo[\"grid\"]['color'] = (1,1,1,0)\n",
    "    patches=[]\n",
    "    for i, val in enumerate(np.unique(granularPopSample)):\n",
    "        patches.append(mpatches.Patch(color = colors_pop_dict[val], label = val))\n",
    "    patches.append(mpatches.Patch(color = (0.9,0.9,0.9), label = \"UNK\"))\n",
    "    ax1.legend(handles=patches, loc=\"upper left\", fontsize=20)\n",
    "    \n",
    "    #chm plot ground truth\n",
    "    ax2.scatter(np.arange(len(y_trueSample)),np.ones(len(y_trueSample)),\\\n",
    "                color=[colors_pop_dict[x] for x in granularPopSample], marker='s')\n",
    "    ax2.set_title('Labeled Chromosome22', fontsize=30, y=0.3)\n",
    "    #chm plot of predictions\n",
    "    ax3.scatter(np.arange(len(mappedSpArr)),np.ones(len(mappedSpArr)),\\\n",
    "                color=[colorsPop_sp_dict[x]+(y,) for x,y in zip(mappedSpArr,alpha)], marker='s')\n",
    "    ax3.set_title('Predicted Chromosome22', fontsize=30, y=0.3)\n",
    "    \n",
    "    for ax in [ax2, ax3]:\n",
    "        ax.xaxis.set_major_locator(ticker.MultipleLocator(1.0))\n",
    "        ax.xaxis.set_minor_locator(ticker.MultipleLocator(4))\n",
    "        ax.xaxis.set_ticks_position('bottom')\n",
    "        ax.tick_params(which='major', width=2, length=10, labelsize=25)\n",
    "        ax.tick_params(which='minor', width=2, length=10, labelsize=10)\n",
    "        ax.set_xlim(0, 316)\n",
    "        ax.set_ylim(0.99,1.09)\n",
    "        positions = [0, 160, 300]\n",
    "        x_labels = [0, 150000, 317000]\n",
    "        ax.xaxis.set_major_locator(ticker.FixedLocator(positions))\n",
    "        ax.xaxis.set_major_formatter(ticker.FixedFormatter(x_labels))\n",
    "    \n",
    "    fig.tight_layout()\n",
    "    plt.show()\n",
    "    plt.close('all')"
   ]
  },
  {
   "cell_type": "code",
   "execution_count": 814,
   "metadata": {
    "scrolled": false
   },
   "outputs": [
    {
     "name": "stdout",
     "output_type": "stream",
     "text": [
      "number of changepoints removed:18,0.056782334384858045\n"
     ]
    },
    {
     "data": {
      "image/png": "[encoded data removed]",
      "text/plain": [
       "<Figure size 864x1008 with 4 Axes>"
      ]
     },
     "metadata": {},
     "output_type": "display_data"
    },
    {
     "name": "stdout",
     "output_type": "stream",
     "text": [
      "Finished 'plot_sample' in 1.0048 secs\n"
     ]
    }
   ],
   "source": [
    "plot_sample(namesSample, y_predSample, y_trueSample, pred_cps=pred_cps_BOCD, mappedSpArr=mappedSpArr)"
   ]
  },
  {
   "cell_type": "code",
   "execution_count": 815,
   "metadata": {
    "collapsed": true
   },
   "outputs": [],
   "source": [
    "def plot_coordinates_map(granularPopNames, pred_coord, lbl_coord, **kwargs):\n",
    "    \"\"\"\n",
    "    plotly plot for coordinates on a map\n",
    "    label: target label vector (int) for the specific sample\n",
    "    data_coordinates: lat, long for the specific sample\n",
    "    rev_pop_order: dict with keys as target label ints and values\n",
    "    as granular population name\n",
    "    \"\"\"\n",
    "    cpShow=kwargs.get('cpShow')\n",
    "    pred_cps=kwargs.get('pred_cps') \n",
    "    alpha=[1.0]*len(lbl_coord)\n",
    "    if cpShow:\n",
    "        unknownIdx=np.nonzero(pred_cps)[0]\n",
    "        granularPopNames=[\"UNK\" if i in unknownIdx else granularPopNames[i] for i in range(len(granularPopNames))]\n",
    "    fig = go.Figure(go.Scattergeo())\n",
    "    colors_pop = sns.color_palette(\"rainbow\", len(np.unique(granularPopNames)))\n",
    "    \n",
    "    colors_pop_dict = {k:v for k,v in zip(np.unique(granularPopNames), colors_pop)}\n",
    "    colors_pop_dict['UNK']=(188,188,188) # grey color\n",
    "    fig.add_trace(go.Scattergeo(lon=pred_coord[:,1], lat=pred_coord[:,0], text = granularPopNames,\\\n",
    "    marker_color=['rgba'+str(colors_pop_dict[x]+(y,)) for x,y in zip(granularPopNames, alpha)]))\n",
    "    fig.update_traces(marker_size = 5)\n",
    "    fig.add_trace(go.Scattergeo(lon=lbl_coord[:,1], lat=lbl_coord[:,0], marker = dict(symbol = 'square'), \\\n",
    "                                text = granularPopNames))\n",
    "    fig.update_traces(marker_size = 5)\n",
    "\n",
    "    fig.show()\n",
    "    plt.show()\n",
    "    plt.close('all')"
   ]
  },
  {
   "cell_type": "code",
   "execution_count": 816,
   "metadata": {},
   "outputs": [
    {
     "data": {
      "text/plain": [
       "(317, 3)"
      ]
     },
     "execution_count": 816,
     "metadata": {},
     "output_type": "execute_result"
    }
   ],
   "source": [
    "y_trueSample.shape"
   ]
  },
  {
   "cell_type": "code",
   "execution_count": 817,
   "metadata": {},
   "outputs": [
    {
     "data": {
      "application/vnd.plotly.v1+json": {
       "config": {
        "plotlyServerURL": "https://plot.ly"
       },
       "data": [
        {
         "marker": {
          "size": 5
         },
         "type": "scattergeo"
        },
        {
         "lat": [
          17.597620010375977,
          15.168065071105957,
          15.0305757522583,
          15.302699089050293,
          15.805301666259766,
          16.102420806884766,
          15.939140319824219,
          17.35214614868164,
          17.710220336914062,
          18.189462661743164,
          18.727819442749023,
          18.526655197143555,
          17.73903465270996,
          18.6871280670166,
          19.64501953125,
          22.157989501953125,
          23.571619033813477,
          25.53142547607422,
          25.93866539001465,
          25.215789794921875,
          23.867473602294922,
          22.887332916259766,
          20.616376876831055,
          18.38348960876465,
          17.496952056884766,
          18.858394622802734,
          19.925838470458984,
          19.829940795898438,
          20.35862159729004,
          22.323488235473633,
          24.292818069458008,
          26.255704879760742,
          27.522829055786133,
          27.633363723754883,
          27.70147705078125,
          28.025619506835938,
          28.269861221313477,
          28.266660690307617,
          28.131999969482422,
          28.264759063720703,
          28.116439819335938,
          27.602893829345703,
          27.475595474243164,
          27.163898468017578,
          27.563112258911133,
          28.231019973754883,
          28.512094497680664,
          28.873367309570312,
          42.59761047363281,
          47.96835708618164,
          46.40419006347656,
          44.66261672973633,
          43.56968307495117,
          43.44850540161133,
          43.60823440551758,
          43.51149368286133,
          43.505130767822266,
          43.592037200927734,
          43.270206451416016,
          43.43473815917969,
          43.57359313964844,
          43.745758056640625,
          43.765037536621094,
          44.05948257446289,
          43.8616943359375,
          43.579933166503906,
          43.68656539916992,
          43.61836242675781,
          43.74233627319336,
          43.899192810058594,
          43.80506896972656,
          43.980186462402344,
          43.98719024658203,
          43.8709716796875,
          43.7752685546875,
          43.84086990356445,
          43.79630661010742,
          43.6733283996582,
          43.85753631591797,
          43.800323486328125,
          43.56688690185547,
          43.69218826293945,
          44.00654602050781,
          44.009464263916016,
          43.936058044433594,
          43.9739875793457,
          44.063507080078125,
          44.08820724487305,
          44.15607833862305,
          44.28879165649414,
          44.3259162902832,
          44.32344055175781,
          44.55211639404297,
          44.3839111328125,
          44.45929718017578,
          44.38996124267578,
          44.338531494140625,
          44.330074310302734,
          44.221458435058594,
          44.45318603515625,
          44.63752365112305,
          44.687416076660156,
          44.47728729248047,
          44.727333068847656,
          44.47614669799805,
          44.68225860595703,
          44.68212890625,
          44.7587776184082,
          44.67934799194336,
          44.80744934082031,
          44.65353012084961,
          44.494163513183594,
          44.768375396728516,
          44.888065338134766,
          44.83660888671875,
          44.86492156982422,
          44.832237243652344,
          44.778358459472656,
          44.750648498535156,
          44.709415435791016,
          44.901756286621094,
          44.86275863647461,
          44.75330352783203,
          44.802818298339844,
          44.86244583129883,
          44.89482116699219,
          44.840145111083984,
          44.82441329956055,
          44.80192947387695,
          44.79751968383789,
          44.6534309387207,
          44.73544692993164,
          44.65109634399414,
          44.55311965942383,
          44.42000961303711,
          44.54533004760742,
          44.72746276855469,
          44.70692825317383,
          44.74850845336914,
          44.753292083740234,
          44.7133674621582,
          44.77975845336914,
          44.61789321899414,
          44.6923713684082,
          44.589847564697266,
          44.64520263671875,
          44.681419372558594,
          44.60274887084961,
          44.60210418701172,
          44.72883224487305,
          44.724300384521484,
          44.883384704589844,
          44.835018157958984,
          44.71174240112305,
          44.571807861328125,
          44.764129638671875,
          44.831520080566406,
          45.004432678222656,
          44.912078857421875,
          44.92770004272461,
          44.899749755859375,
          44.80918884277344,
          44.85798645019531,
          44.97949981689453,
          45.0564079284668,
          44.85000228881836,
          44.97846984863281,
          45.14574432373047,
          45.090980529785156,
          45.018699645996094,
          45.17238998413086,
          45.11925506591797,
          45.10487365722656,
          45.176143646240234,
          44.69580841064453,
          44.51493453979492,
          44.615478515625,
          45.04207992553711,
          45.030189514160156,
          45.35506820678711,
          45.320011138916016,
          45.391971588134766,
          45.350128173828125,
          45.3178596496582,
          45.25880813598633,
          45.31761169433594,
          45.34191131591797,
          45.17782974243164,
          44.863460540771484,
          45.083621978759766,
          45.33309555053711,
          45.55717849731445,
          45.54288101196289,
          45.46288299560547,
          45.305545806884766,
          45.26085662841797,
          45.229488372802734,
          45.126708984375,
          44.69898986816406,
          45.08280563354492,
          45.14411926269531,
          45.239402770996094,
          45.13493347167969,
          44.84003829956055,
          44.6130256652832,
          45.00114822387695,
          45.811607360839844,
          45.673805236816406,
          45.88211441040039,
          46.10136413574219,
          46.1431884765625,
          46.315670013427734,
          45.954715728759766,
          46.56093215942383,
          47.088134765625,
          47.51517868041992,
          48.05121994018555,
          48.203590393066406,
          48.27358627319336,
          48.3182258605957,
          48.35379409790039,
          48.39284133911133,
          48.26310348510742,
          48.078739166259766,
          48.161048889160156,
          48.266502380371094,
          48.16011047363281,
          47.99570846557617,
          48.387638092041016,
          48.06070327758789,
          48.012596130371094,
          48.06006622314453,
          48.199432373046875,
          48.26333236694336,
          48.2666015625,
          48.28496551513672,
          48.213706970214844,
          48.26955795288086,
          48.13844299316406,
          48.07856750488281,
          47.77054977416992,
          47.71980667114258,
          47.57465362548828,
          47.526676177978516,
          47.4908332824707,
          47.302181243896484,
          47.12325668334961,
          46.99842071533203,
          46.649776458740234,
          46.48283767700195,
          46.34336853027344,
          46.07863235473633,
          46.02294921875,
          45.880550384521484,
          45.69160079956055,
          45.608299255371094,
          45.6001091003418,
          45.45294189453125,
          45.243385314941406,
          45.31867599487305,
          45.32763671875,
          45.21563720703125,
          45.21697235107422,
          45.260650634765625,
          45.170169830322266,
          45.0938606262207,
          45.02923583984375,
          44.967552185058594,
          45.009185791015625,
          45.056602478027344,
          44.98979568481445,
          44.919456481933594,
          45.014060974121094,
          45.07904815673828,
          45.11387634277344,
          45.12679672241211,
          45.08770751953125,
          45.021881103515625,
          45.016231536865234,
          45.07509994506836,
          45.13937759399414,
          44.98204040527344,
          45.218318939208984,
          45.23277282714844,
          45.37981414794922,
          45.33684539794922,
          45.242393493652344,
          45.6316032409668,
          45.474327087402344,
          45.28904342651367,
          45.335975646972656,
          45.268516540527344,
          45.37363815307617,
          45.450531005859375,
          45.8521614074707,
          46.249271392822266,
          46.42049789428711,
          48.94028091430664,
          59.179283142089844,
          59.55534362792969,
          57.076263427734375,
          46.83763885498047,
          40.236045837402344,
          39.935916900634766,
          39.3794059753418,
          39.00374984741211,
          39.51597595214844,
          39.77497482299805,
          39.876468658447266,
          39.28853988647461,
          39.42219543457031,
          38.62242126464844,
          38.218788146972656,
          37.823585510253906,
          37.900142669677734,
          40.07435989379883,
          43.71785354614258
         ],
         "lon": [
          82.83860778808594,
          81.45286560058594,
          81.45381927490234,
          81.3470687866211,
          82.07259368896484,
          82.4388198852539,
          82.36167907714844,
          85.344482421875,
          86.2178955078125,
          88.11872863769531,
          89.04022979736328,
          86.24839782714844,
          84.06640625,
          85.61665344238281,
          83.43582916259766,
          80.8080825805664,
          78.57087707519531,
          78.58473205566406,
          77.35210418701172,
          76.4601058959961,
          77.30806732177734,
          77.55803680419922,
          79.3624038696289,
          81.35848999023438,
          82.81566619873047,
          83.712890625,
          83.73802185058594,
          84.1450424194336,
          85.38134765625,
          92.57328796386719,
          98.84806823730469,
          102.12257385253906,
          104.68592834472656,
          104.89993286132812,
          106.3707046508789,
          107.86771392822266,
          108.35408020019531,
          108.07257843017578,
          107.52040100097656,
          107.9402084350586,
          107.60057067871094,
          106.99336242675781,
          106.88108825683594,
          106.10626220703125,
          106.23405456542969,
          105.61788177490234,
          108.189697265625,
          106.16062927246094,
          84.58519744873047,
          51.37187957763672,
          15.449409484863281,
          9.77874755859375,
          7.035699844360352,
          5.469900131225586,
          4.83513069152832,
          4.784223556518555,
          5.291660785675049,
          5.784872531890869,
          6.52893590927124,
          5.931022644042969,
          5.663088321685791,
          5.7045512199401855,
          5.84727668762207,
          5.001177787780762,
          5.491200923919678,
          5.966660499572754,
          5.694116592407227,
          6.2218852043151855,
          5.906369686126709,
          6.018869400024414,
          5.9897565841674805,
          5.645413875579834,
          5.725444316864014,
          6.384233474731445,
          6.290485858917236,
          6.1680426597595215,
          6.6167216300964355,
          6.842423915863037,
          6.751533031463623,
          5.911769390106201,
          5.588536739349365,
          5.558205604553223,
          5.640506267547607,
          5.817784309387207,
          5.828737735748291,
          5.957363605499268,
          6.333072185516357,
          5.84927225112915,
          5.541854381561279,
          5.035284519195557,
          4.6958327293396,
          4.645265102386475,
          4.473600387573242,
          4.23086404800415,
          4.317484378814697,
          4.307925701141357,
          4.4613566398620605,
          4.8474273681640625,
          4.9926252365112305,
          5.154428958892822,
          4.606936454772949,
          4.131675720214844,
          4.18510103225708,
          4.449328422546387,
          4.072465419769287,
          3.996216297149658,
          3.601276397705078,
          3.6553215980529785,
          3.841848611831665,
          3.9579169750213623,
          3.7824344635009766,
          3.7363884449005127,
          3.940556764602661,
          3.756131887435913,
          3.6250884532928467,
          3.7474899291992188,
          3.6096746921539307,
          3.489187240600586,
          3.5683794021606445,
          3.6610844135284424,
          3.872957468032837,
          3.599571704864502,
          3.4082162380218506,
          3.3687734603881836,
          3.3582375049591064,
          3.479809522628784,
          3.617659568786621,
          3.733017683029175,
          3.723640203475952,
          3.6514670848846436,
          3.598874568939209,
          3.690153121948242,
          3.879206657409668,
          3.815253496170044,
          3.45719051361084,
          3.4302241802215576,
          3.622326612472534,
          3.692556381225586,
          3.7093398571014404,
          3.7772436141967773,
          3.8435187339782715,
          3.8204097747802734,
          3.6383354663848877,
          3.592108964920044,
          3.6931724548339844,
          3.7140698432922363,
          3.8165645599365234,
          3.775653123855591,
          3.6219353675842285,
          3.599137783050537,
          3.6663882732391357,
          3.834599494934082,
          3.9571659564971924,
          4.062229633331299,
          3.783080816268921,
          3.820007801055908,
          3.7500007152557373,
          4.04459285736084,
          3.926555633544922,
          3.933148145675659,
          3.8736605644226074,
          3.718614339828491,
          3.7175350189208984,
          3.801058769226074,
          3.798105001449585,
          3.4136641025543213,
          3.4354734420776367,
          3.5548062324523926,
          3.489159345626831,
          3.383025646209717,
          3.4583168029785156,
          3.5688416957855225,
          3.6735403537750244,
          3.6964268684387207,
          3.23618483543396,
          2.986515998840332,
          3.0345818996429443,
          3.255540132522583,
          3.104661226272583,
          3.226459503173828,
          2.9565484523773193,
          2.9679172039031982,
          3.0621516704559326,
          3.3050637245178223,
          3.2874059677124023,
          3.3494298458099365,
          3.4696624279022217,
          3.2304821014404297,
          2.815781831741333,
          3.056088924407959,
          3.302150249481201,
          3.446042537689209,
          3.414299726486206,
          3.3846683502197266,
          3.3719100952148438,
          3.5893325805664062,
          3.705993175506592,
          4.033470153808594,
          3.6087868213653564,
          2.793585777282715,
          2.6135435104370117,
          2.402916431427002,
          1.8147282600402832,
          1.6179763078689575,
          1.581899642944336,
          2.4707682132720947,
          2.843003273010254,
          2.3400774002075195,
          2.482818126678467,
          2.2135324478149414,
          1.982016682624817,
          2.1721794605255127,
          1.8653212785720825,
          2.160977840423584,
          2.132272481918335,
          1.929166555404663,
          1.7162249088287354,
          1.1553692817687988,
          0.9655148983001709,
          0.9832010269165039,
          0.9039162993431091,
          0.7467048764228821,
          0.6343105435371399,
          0.5315641760826111,
          0.5465600490570068,
          0.6343574523925781,
          0.605038046836853,
          0.5910292267799377,
          0.8780287504196167,
          0.3709424138069153,
          0.5939540863037109,
          0.9964150786399841,
          1.3431708812713623,
          1.4276930093765259,
          1.3692655563354492,
          1.211439847946167,
          1.363817572593689,
          1.1403065919876099,
          1.185936450958252,
          0.8886416554450989,
          0.7663798332214355,
          0.7027472853660583,
          0.558735191822052,
          0.5023780465126038,
          0.6221180558204651,
          0.5999018549919128,
          0.6143168210983276,
          0.6821874976158142,
          0.8162864446640015,
          1.283766746520996,
          1.4793834686279297,
          1.4333405494689941,
          1.5874277353286743,
          1.6293238401412964,
          1.567715048789978,
          1.8133617639541626,
          1.8947117328643799,
          1.8356218338012695,
          1.7052723169326782,
          1.96593177318573,
          2.1253395080566406,
          2.01594614982605,
          2.024871587753296,
          2.13482928276062,
          2.1157188415527344,
          2.2912466526031494,
          2.37716007232666,
          2.3276469707489014,
          2.3018293380737305,
          2.298044204711914,
          2.174513578414917,
          2.0033648014068604,
          1.9979768991470337,
          2.043469190597534,
          2.083841323852539,
          2.2818667888641357,
          2.4936788082122803,
          2.4820444583892822,
          2.395798683166504,
          2.50177001953125,
          2.6330389976501465,
          2.3207714557647705,
          2.2386255264282227,
          2.2953689098358154,
          2.523939609527588,
          2.4820663928985596,
          2.514270782470703,
          2.9923720359802246,
          3.032270908355713,
          2.8897500038146973,
          2.957887649536133,
          3.2850093841552734,
          3.2164647579193115,
          3.4425950050354004,
          3.5860018730163574,
          3.800976276397705,
          4.297160625457764,
          7.530426502227783,
          38.41013717651367,
          70.39810943603516,
          81.30785369873047,
          107.64188385009766,
          118.99703216552734,
          118.86717224121094,
          119.01388549804688,
          119.94898986816406,
          120.27216339111328,
          120.45246124267578,
          122.12133026123047,
          121.69429016113281,
          121.90266418457031,
          121.77467346191406,
          120.48902893066406,
          119.35924530029297,
          116.61981964111328,
          115.9653549194336,
          117.25342559814453
         ],
         "marker": {
          "color": [
           "rgba(0.3549019607843137, 0.9741386021045101, 0.7829276104921028, 1.0)",
           "rgba(0.3549019607843137, 0.9741386021045101, 0.7829276104921028, 1.0)",
           "rgba(0.3549019607843137, 0.9741386021045101, 0.7829276104921028, 1.0)",
           "rgba(0.3549019607843137, 0.9741386021045101, 0.7829276104921028, 1.0)",
           "rgba(0.3549019607843137, 0.9741386021045101, 0.7829276104921028, 1.0)",
           "rgba(0.3549019607843137, 0.9741386021045101, 0.7829276104921028, 1.0)",
           "rgba(0.3549019607843137, 0.9741386021045101, 0.7829276104921028, 1.0)",
           "rgba(0.3549019607843137, 0.9741386021045101, 0.7829276104921028, 1.0)",
           "rgba(0.3549019607843137, 0.9741386021045101, 0.7829276104921028, 1.0)",
           "rgba(0.3549019607843137, 0.9741386021045101, 0.7829276104921028, 1.0)",
           "rgba(0.3549019607843137, 0.9741386021045101, 0.7829276104921028, 1.0)",
           "rgba(0.3549019607843137, 0.9741386021045101, 0.7829276104921028, 1.0)",
           "rgba(0.3549019607843137, 0.9741386021045101, 0.7829276104921028, 1.0)",
           "rgba(0.3549019607843137, 0.9741386021045101, 0.7829276104921028, 1.0)",
           "rgba(0.3549019607843137, 0.9741386021045101, 0.7829276104921028, 1.0)",
           "rgba(0.3549019607843137, 0.9741386021045101, 0.7829276104921028, 1.0)",
           "rgba(0.3549019607843137, 0.9741386021045101, 0.7829276104921028, 1.0)",
           "rgba(0.3549019607843137, 0.9741386021045101, 0.7829276104921028, 1.0)",
           "rgba(0.3549019607843137, 0.9741386021045101, 0.7829276104921028, 1.0)",
           "rgba(0.3549019607843137, 0.9741386021045101, 0.7829276104921028, 1.0)",
           "rgba(0.3549019607843137, 0.9741386021045101, 0.7829276104921028, 1.0)",
           "rgba(0.3549019607843137, 0.9741386021045101, 0.7829276104921028, 1.0)",
           "rgba(0.3549019607843137, 0.9741386021045101, 0.7829276104921028, 1.0)",
           "rgba(0.3549019607843137, 0.9741386021045101, 0.7829276104921028, 1.0)",
           "rgba(0.3549019607843137, 0.9741386021045101, 0.7829276104921028, 1.0)",
           "rgba(0.3549019607843137, 0.9741386021045101, 0.7829276104921028, 1.0)",
           "rgba(0.3549019607843137, 0.9741386021045101, 0.7829276104921028, 1.0)",
           "rgba(188, 188, 188, 1.0)",
           "rgba(188, 188, 188, 1.0)",
           "rgba(188, 188, 188, 1.0)",
           "rgba(188, 188, 188, 1.0)",
           "rgba(188, 188, 188, 1.0)",
           "rgba(188, 188, 188, 1.0)",
           "rgba(0.0725490196078431, 0.7829276104921027, 0.9005867023006374, 1.0)",
           "rgba(0.0725490196078431, 0.7829276104921027, 0.9005867023006374, 1.0)",
           "rgba(0.0725490196078431, 0.7829276104921027, 0.9005867023006374, 1.0)",
           "rgba(0.0725490196078431, 0.7829276104921027, 0.9005867023006374, 1.0)",
           "rgba(0.0725490196078431, 0.7829276104921027, 0.9005867023006374, 1.0)",
           "rgba(0.0725490196078431, 0.7829276104921027, 0.9005867023006374, 1.0)",
           "rgba(0.0725490196078431, 0.7829276104921027, 0.9005867023006374, 1.0)",
           "rgba(0.0725490196078431, 0.7829276104921027, 0.9005867023006374, 1.0)",
           "rgba(0.0725490196078431, 0.7829276104921027, 0.9005867023006374, 1.0)",
           "rgba(0.0725490196078431, 0.7829276104921027, 0.9005867023006374, 1.0)",
           "rgba(0.0725490196078431, 0.7829276104921027, 0.9005867023006374, 1.0)",
           "rgba(188, 188, 188, 1.0)",
           "rgba(188, 188, 188, 1.0)",
           "rgba(188, 188, 188, 1.0)",
           "rgba(188, 188, 188, 1.0)",
           "rgba(188, 188, 188, 1.0)",
           "rgba(188, 188, 188, 1.0)",
           "rgba(0.21764705882352942, 0.42912060877260894, 0.9755119679804366, 1.0)",
           "rgba(0.21764705882352942, 0.42912060877260894, 0.9755119679804366, 1.0)",
           "rgba(0.21764705882352942, 0.42912060877260894, 0.9755119679804366, 1.0)",
           "rgba(0.21764705882352942, 0.42912060877260894, 0.9755119679804366, 1.0)",
           "rgba(0.21764705882352942, 0.42912060877260894, 0.9755119679804366, 1.0)",
           "rgba(0.21764705882352942, 0.42912060877260894, 0.9755119679804366, 1.0)",
           "rgba(0.21764705882352942, 0.42912060877260894, 0.9755119679804366, 1.0)",
           "rgba(0.21764705882352942, 0.42912060877260894, 0.9755119679804366, 1.0)",
           "rgba(0.21764705882352942, 0.42912060877260894, 0.9755119679804366, 1.0)",
           "rgba(0.21764705882352942, 0.42912060877260894, 0.9755119679804366, 1.0)",
           "rgba(0.21764705882352942, 0.42912060877260894, 0.9755119679804366, 1.0)",
           "rgba(0.21764705882352942, 0.42912060877260894, 0.9755119679804366, 1.0)",
           "rgba(0.21764705882352942, 0.42912060877260894, 0.9755119679804366, 1.0)",
           "rgba(0.21764705882352942, 0.42912060877260894, 0.9755119679804366, 1.0)",
           "rgba(0.21764705882352942, 0.42912060877260894, 0.9755119679804366, 1.0)",
           "rgba(0.21764705882352942, 0.42912060877260894, 0.9755119679804366, 1.0)",
           "rgba(0.21764705882352942, 0.42912060877260894, 0.9755119679804366, 1.0)",
           "rgba(0.21764705882352942, 0.42912060877260894, 0.9755119679804366, 1.0)",
           "rgba(0.21764705882352942, 0.42912060877260894, 0.9755119679804366, 1.0)",
           "rgba(0.21764705882352942, 0.42912060877260894, 0.9755119679804366, 1.0)",
           "rgba(0.21764705882352942, 0.42912060877260894, 0.9755119679804366, 1.0)",
           "rgba(0.21764705882352942, 0.42912060877260894, 0.9755119679804366, 1.0)",
           "rgba(0.21764705882352942, 0.42912060877260894, 0.9755119679804366, 1.0)",
           "rgba(0.21764705882352942, 0.42912060877260894, 0.9755119679804366, 1.0)",
           "rgba(0.21764705882352942, 0.42912060877260894, 0.9755119679804366, 1.0)",
           "rgba(0.21764705882352942, 0.42912060877260894, 0.9755119679804366, 1.0)",
           "rgba(0.21764705882352942, 0.42912060877260894, 0.9755119679804366, 1.0)",
           "rgba(0.21764705882352942, 0.42912060877260894, 0.9755119679804366, 1.0)",
           "rgba(0.21764705882352942, 0.42912060877260894, 0.9755119679804366, 1.0)",
           "rgba(0.21764705882352942, 0.42912060877260894, 0.9755119679804366, 1.0)",
           "rgba(0.21764705882352942, 0.42912060877260894, 0.9755119679804366, 1.0)",
           "rgba(0.21764705882352942, 0.42912060877260894, 0.9755119679804366, 1.0)",
           "rgba(0.21764705882352942, 0.42912060877260894, 0.9755119679804366, 1.0)",
           "rgba(0.21764705882352942, 0.42912060877260894, 0.9755119679804366, 1.0)",
           "rgba(0.21764705882352942, 0.42912060877260894, 0.9755119679804366, 1.0)",
           "rgba(0.21764705882352942, 0.42912060877260894, 0.9755119679804366, 1.0)",
           "rgba(0.21764705882352942, 0.42912060877260894, 0.9755119679804366, 1.0)",
           "rgba(0.21764705882352942, 0.42912060877260894, 0.9755119679804366, 1.0)",
           "rgba(0.21764705882352942, 0.42912060877260894, 0.9755119679804366, 1.0)",
           "rgba(0.21764705882352942, 0.42912060877260894, 0.9755119679804366, 1.0)",
           "rgba(0.21764705882352942, 0.42912060877260894, 0.9755119679804366, 1.0)",
           "rgba(0.21764705882352942, 0.42912060877260894, 0.9755119679804366, 1.0)",
           "rgba(0.21764705882352942, 0.42912060877260894, 0.9755119679804366, 1.0)",
           "rgba(0.21764705882352942, 0.42912060877260894, 0.9755119679804366, 1.0)",
           "rgba(0.21764705882352942, 0.42912060877260894, 0.9755119679804366, 1.0)",
           "rgba(0.21764705882352942, 0.42912060877260894, 0.9755119679804366, 1.0)",
           "rgba(0.21764705882352942, 0.42912060877260894, 0.9755119679804366, 1.0)",
           "rgba(0.21764705882352942, 0.42912060877260894, 0.9755119679804366, 1.0)",
           "rgba(0.21764705882352942, 0.42912060877260894, 0.9755119679804366, 1.0)",
           "rgba(0.21764705882352942, 0.42912060877260894, 0.9755119679804366, 1.0)",
           "rgba(0.21764705882352942, 0.42912060877260894, 0.9755119679804366, 1.0)",
           "rgba(0.21764705882352942, 0.42912060877260894, 0.9755119679804366, 1.0)",
           "rgba(0.21764705882352942, 0.42912060877260894, 0.9755119679804366, 1.0)",
           "rgba(0.21764705882352942, 0.42912060877260894, 0.9755119679804366, 1.0)",
           "rgba(0.21764705882352942, 0.42912060877260894, 0.9755119679804366, 1.0)",
           "rgba(0.21764705882352942, 0.42912060877260894, 0.9755119679804366, 1.0)",
           "rgba(0.21764705882352942, 0.42912060877260894, 0.9755119679804366, 1.0)",
           "rgba(0.21764705882352942, 0.42912060877260894, 0.9755119679804366, 1.0)",
           "rgba(0.21764705882352942, 0.42912060877260894, 0.9755119679804366, 1.0)",
           "rgba(0.21764705882352942, 0.42912060877260894, 0.9755119679804366, 1.0)",
           "rgba(0.21764705882352942, 0.42912060877260894, 0.9755119679804366, 1.0)",
           "rgba(0.21764705882352942, 0.42912060877260894, 0.9755119679804366, 1.0)",
           "rgba(0.21764705882352942, 0.42912060877260894, 0.9755119679804366, 1.0)",
           "rgba(0.21764705882352942, 0.42912060877260894, 0.9755119679804366, 1.0)",
           "rgba(0.21764705882352942, 0.42912060877260894, 0.9755119679804366, 1.0)",
           "rgba(0.21764705882352942, 0.42912060877260894, 0.9755119679804366, 1.0)",
           "rgba(0.21764705882352942, 0.42912060877260894, 0.9755119679804366, 1.0)",
           "rgba(0.21764705882352942, 0.42912060877260894, 0.9755119679804366, 1.0)",
           "rgba(0.21764705882352942, 0.42912060877260894, 0.9755119679804366, 1.0)",
           "rgba(0.21764705882352942, 0.42912060877260894, 0.9755119679804366, 1.0)",
           "rgba(0.21764705882352942, 0.42912060877260894, 0.9755119679804366, 1.0)",
           "rgba(0.21764705882352942, 0.42912060877260894, 0.9755119679804366, 1.0)",
           "rgba(0.21764705882352942, 0.42912060877260894, 0.9755119679804366, 1.0)",
           "rgba(0.21764705882352942, 0.42912060877260894, 0.9755119679804366, 1.0)",
           "rgba(0.21764705882352942, 0.42912060877260894, 0.9755119679804366, 1.0)",
           "rgba(0.21764705882352942, 0.42912060877260894, 0.9755119679804366, 1.0)",
           "rgba(0.21764705882352942, 0.42912060877260894, 0.9755119679804366, 1.0)",
           "rgba(0.21764705882352942, 0.42912060877260894, 0.9755119679804366, 1.0)",
           "rgba(0.21764705882352942, 0.42912060877260894, 0.9755119679804366, 1.0)",
           "rgba(0.21764705882352942, 0.42912060877260894, 0.9755119679804366, 1.0)",
           "rgba(0.21764705882352942, 0.42912060877260894, 0.9755119679804366, 1.0)",
           "rgba(0.21764705882352942, 0.42912060877260894, 0.9755119679804366, 1.0)",
           "rgba(0.21764705882352942, 0.42912060877260894, 0.9755119679804366, 1.0)",
           "rgba(0.21764705882352942, 0.42912060877260894, 0.9755119679804366, 1.0)",
           "rgba(0.21764705882352942, 0.42912060877260894, 0.9755119679804366, 1.0)",
           "rgba(0.21764705882352942, 0.42912060877260894, 0.9755119679804366, 1.0)",
           "rgba(0.21764705882352942, 0.42912060877260894, 0.9755119679804366, 1.0)",
           "rgba(0.21764705882352942, 0.42912060877260894, 0.9755119679804366, 1.0)",
           "rgba(0.21764705882352942, 0.42912060877260894, 0.9755119679804366, 1.0)",
           "rgba(0.21764705882352942, 0.42912060877260894, 0.9755119679804366, 1.0)",
           "rgba(0.21764705882352942, 0.42912060877260894, 0.9755119679804366, 1.0)",
           "rgba(0.21764705882352942, 0.42912060877260894, 0.9755119679804366, 1.0)",
           "rgba(0.21764705882352942, 0.42912060877260894, 0.9755119679804366, 1.0)",
           "rgba(0.21764705882352942, 0.42912060877260894, 0.9755119679804366, 1.0)",
           "rgba(0.21764705882352942, 0.42912060877260894, 0.9755119679804366, 1.0)",
           "rgba(0.21764705882352942, 0.42912060877260894, 0.9755119679804366, 1.0)",
           "rgba(0.21764705882352942, 0.42912060877260894, 0.9755119679804366, 1.0)",
           "rgba(0.21764705882352942, 0.42912060877260894, 0.9755119679804366, 1.0)",
           "rgba(0.21764705882352942, 0.42912060877260894, 0.9755119679804366, 1.0)",
           "rgba(0.21764705882352942, 0.42912060877260894, 0.9755119679804366, 1.0)",
           "rgba(0.21764705882352942, 0.42912060877260894, 0.9755119679804366, 1.0)",
           "rgba(0.21764705882352942, 0.42912060877260894, 0.9755119679804366, 1.0)",
           "rgba(0.21764705882352942, 0.42912060877260894, 0.9755119679804366, 1.0)",
           "rgba(0.21764705882352942, 0.42912060877260894, 0.9755119679804366, 1.0)",
           "rgba(0.21764705882352942, 0.42912060877260894, 0.9755119679804366, 1.0)",
           "rgba(0.21764705882352942, 0.42912060877260894, 0.9755119679804366, 1.0)",
           "rgba(0.21764705882352942, 0.42912060877260894, 0.9755119679804366, 1.0)",
           "rgba(0.21764705882352942, 0.42912060877260894, 0.9755119679804366, 1.0)",
           "rgba(0.21764705882352942, 0.42912060877260894, 0.9755119679804366, 1.0)",
           "rgba(0.21764705882352942, 0.42912060877260894, 0.9755119679804366, 1.0)",
           "rgba(0.21764705882352942, 0.42912060877260894, 0.9755119679804366, 1.0)",
           "rgba(0.21764705882352942, 0.42912060877260894, 0.9755119679804366, 1.0)",
           "rgba(0.21764705882352942, 0.42912060877260894, 0.9755119679804366, 1.0)",
           "rgba(0.21764705882352942, 0.42912060877260894, 0.9755119679804366, 1.0)",
           "rgba(0.21764705882352942, 0.42912060877260894, 0.9755119679804366, 1.0)",
           "rgba(0.21764705882352942, 0.42912060877260894, 0.9755119679804366, 1.0)",
           "rgba(0.21764705882352942, 0.42912060877260894, 0.9755119679804366, 1.0)",
           "rgba(0.21764705882352942, 0.42912060877260894, 0.9755119679804366, 1.0)",
           "rgba(0.21764705882352942, 0.42912060877260894, 0.9755119679804366, 1.0)",
           "rgba(0.21764705882352942, 0.42912060877260894, 0.9755119679804366, 1.0)",
           "rgba(0.21764705882352942, 0.42912060877260894, 0.9755119679804366, 1.0)",
           "rgba(0.21764705882352942, 0.42912060877260894, 0.9755119679804366, 1.0)",
           "rgba(0.21764705882352942, 0.42912060877260894, 0.9755119679804366, 1.0)",
           "rgba(0.21764705882352942, 0.42912060877260894, 0.9755119679804366, 1.0)",
           "rgba(0.21764705882352942, 0.42912060877260894, 0.9755119679804366, 1.0)",
           "rgba(0.21764705882352942, 0.42912060877260894, 0.9755119679804366, 1.0)",
           "rgba(0.21764705882352942, 0.42912060877260894, 0.9755119679804366, 1.0)",
           "rgba(0.21764705882352942, 0.42912060877260894, 0.9755119679804366, 1.0)",
           "rgba(0.21764705882352942, 0.42912060877260894, 0.9755119679804366, 1.0)",
           "rgba(0.21764705882352942, 0.42912060877260894, 0.9755119679804366, 1.0)",
           "rgba(0.21764705882352942, 0.42912060877260894, 0.9755119679804366, 1.0)",
           "rgba(0.21764705882352942, 0.42912060877260894, 0.9755119679804366, 1.0)",
           "rgba(0.21764705882352942, 0.42912060877260894, 0.9755119679804366, 1.0)",
           "rgba(0.21764705882352942, 0.42912060877260894, 0.9755119679804366, 1.0)",
           "rgba(0.21764705882352942, 0.42912060877260894, 0.9755119679804366, 1.0)",
           "rgba(0.21764705882352942, 0.42912060877260894, 0.9755119679804366, 1.0)",
           "rgba(0.21764705882352942, 0.42912060877260894, 0.9755119679804366, 1.0)",
           "rgba(0.21764705882352942, 0.42912060877260894, 0.9755119679804366, 1.0)",
           "rgba(0.21764705882352942, 0.42912060877260894, 0.9755119679804366, 1.0)",
           "rgba(0.21764705882352942, 0.42912060877260894, 0.9755119679804366, 1.0)",
           "rgba(0.21764705882352942, 0.42912060877260894, 0.9755119679804366, 1.0)",
           "rgba(0.21764705882352942, 0.42912060877260894, 0.9755119679804366, 1.0)",
           "rgba(0.21764705882352942, 0.42912060877260894, 0.9755119679804366, 1.0)",
           "rgba(0.21764705882352942, 0.42912060877260894, 0.9755119679804366, 1.0)",
           "rgba(0.21764705882352942, 0.42912060877260894, 0.9755119679804366, 1.0)",
           "rgba(0.21764705882352942, 0.42912060877260894, 0.9755119679804366, 1.0)",
           "rgba(0.21764705882352942, 0.42912060877260894, 0.9755119679804366, 1.0)",
           "rgba(0.21764705882352942, 0.42912060877260894, 0.9755119679804366, 1.0)",
           "rgba(0.21764705882352942, 0.42912060877260894, 0.9755119679804366, 1.0)",
           "rgba(0.21764705882352942, 0.42912060877260894, 0.9755119679804366, 1.0)",
           "rgba(0.21764705882352942, 0.42912060877260894, 0.9755119679804366, 1.0)",
           "rgba(0.21764705882352942, 0.42912060877260894, 0.9755119679804366, 1.0)",
           "rgba(0.21764705882352942, 0.42912060877260894, 0.9755119679804366, 1.0)",
           "rgba(0.21764705882352942, 0.42912060877260894, 0.9755119679804366, 1.0)",
           "rgba(0.21764705882352942, 0.42912060877260894, 0.9755119679804366, 1.0)",
           "rgba(0.21764705882352942, 0.42912060877260894, 0.9755119679804366, 1.0)",
           "rgba(0.21764705882352942, 0.42912060877260894, 0.9755119679804366, 1.0)",
           "rgba(0.21764705882352942, 0.42912060877260894, 0.9755119679804366, 1.0)",
           "rgba(0.21764705882352942, 0.42912060877260894, 0.9755119679804366, 1.0)",
           "rgba(0.21764705882352942, 0.42912060877260894, 0.9755119679804366, 1.0)",
           "rgba(0.21764705882352942, 0.42912060877260894, 0.9755119679804366, 1.0)",
           "rgba(0.21764705882352942, 0.42912060877260894, 0.9755119679804366, 1.0)",
           "rgba(0.21764705882352942, 0.42912060877260894, 0.9755119679804366, 1.0)",
           "rgba(0.21764705882352942, 0.42912060877260894, 0.9755119679804366, 1.0)",
           "rgba(0.21764705882352942, 0.42912060877260894, 0.9755119679804366, 1.0)",
           "rgba(0.21764705882352942, 0.42912060877260894, 0.9755119679804366, 1.0)",
           "rgba(0.21764705882352942, 0.42912060877260894, 0.9755119679804366, 1.0)",
           "rgba(0.21764705882352942, 0.42912060877260894, 0.9755119679804366, 1.0)",
           "rgba(0.21764705882352942, 0.42912060877260894, 0.9755119679804366, 1.0)",
           "rgba(0.21764705882352942, 0.42912060877260894, 0.9755119679804366, 1.0)",
           "rgba(0.21764705882352942, 0.42912060877260894, 0.9755119679804366, 1.0)",
           "rgba(0.21764705882352942, 0.42912060877260894, 0.9755119679804366, 1.0)",
           "rgba(0.21764705882352942, 0.42912060877260894, 0.9755119679804366, 1.0)",
           "rgba(0.21764705882352942, 0.42912060877260894, 0.9755119679804366, 1.0)",
           "rgba(0.21764705882352942, 0.42912060877260894, 0.9755119679804366, 1.0)",
           "rgba(0.21764705882352942, 0.42912060877260894, 0.9755119679804366, 1.0)",
           "rgba(0.21764705882352942, 0.42912060877260894, 0.9755119679804366, 1.0)",
           "rgba(0.21764705882352942, 0.42912060877260894, 0.9755119679804366, 1.0)",
           "rgba(0.21764705882352942, 0.42912060877260894, 0.9755119679804366, 1.0)",
           "rgba(0.21764705882352942, 0.42912060877260894, 0.9755119679804366, 1.0)",
           "rgba(0.21764705882352942, 0.42912060877260894, 0.9755119679804366, 1.0)",
           "rgba(0.21764705882352942, 0.42912060877260894, 0.9755119679804366, 1.0)",
           "rgba(0.21764705882352942, 0.42912060877260894, 0.9755119679804366, 1.0)",
           "rgba(0.21764705882352942, 0.42912060877260894, 0.9755119679804366, 1.0)",
           "rgba(0.21764705882352942, 0.42912060877260894, 0.9755119679804366, 1.0)",
           "rgba(0.21764705882352942, 0.42912060877260894, 0.9755119679804366, 1.0)",
           "rgba(0.21764705882352942, 0.42912060877260894, 0.9755119679804366, 1.0)",
           "rgba(0.21764705882352942, 0.42912060877260894, 0.9755119679804366, 1.0)",
           "rgba(0.21764705882352942, 0.42912060877260894, 0.9755119679804366, 1.0)",
           "rgba(0.21764705882352942, 0.42912060877260894, 0.9755119679804366, 1.0)",
           "rgba(0.21764705882352942, 0.42912060877260894, 0.9755119679804366, 1.0)",
           "rgba(0.21764705882352942, 0.42912060877260894, 0.9755119679804366, 1.0)",
           "rgba(0.21764705882352942, 0.42912060877260894, 0.9755119679804366, 1.0)",
           "rgba(0.21764705882352942, 0.42912060877260894, 0.9755119679804366, 1.0)",
           "rgba(0.21764705882352942, 0.42912060877260894, 0.9755119679804366, 1.0)",
           "rgba(0.21764705882352942, 0.42912060877260894, 0.9755119679804366, 1.0)",
           "rgba(0.21764705882352942, 0.42912060877260894, 0.9755119679804366, 1.0)",
           "rgba(0.21764705882352942, 0.42912060877260894, 0.9755119679804366, 1.0)",
           "rgba(0.21764705882352942, 0.42912060877260894, 0.9755119679804366, 1.0)",
           "rgba(0.21764705882352942, 0.42912060877260894, 0.9755119679804366, 1.0)",
           "rgba(0.21764705882352942, 0.42912060877260894, 0.9755119679804366, 1.0)",
           "rgba(0.21764705882352942, 0.42912060877260894, 0.9755119679804366, 1.0)",
           "rgba(0.21764705882352942, 0.42912060877260894, 0.9755119679804366, 1.0)",
           "rgba(0.21764705882352942, 0.42912060877260894, 0.9755119679804366, 1.0)",
           "rgba(0.21764705882352942, 0.42912060877260894, 0.9755119679804366, 1.0)",
           "rgba(0.21764705882352942, 0.42912060877260894, 0.9755119679804366, 1.0)",
           "rgba(0.21764705882352942, 0.42912060877260894, 0.9755119679804366, 1.0)",
           "rgba(0.21764705882352942, 0.42912060877260894, 0.9755119679804366, 1.0)",
           "rgba(0.21764705882352942, 0.42912060877260894, 0.9755119679804366, 1.0)",
           "rgba(0.21764705882352942, 0.42912060877260894, 0.9755119679804366, 1.0)",
           "rgba(0.21764705882352942, 0.42912060877260894, 0.9755119679804366, 1.0)",
           "rgba(0.21764705882352942, 0.42912060877260894, 0.9755119679804366, 1.0)",
           "rgba(0.21764705882352942, 0.42912060877260894, 0.9755119679804366, 1.0)",
           "rgba(0.21764705882352942, 0.42912060877260894, 0.9755119679804366, 1.0)",
           "rgba(0.21764705882352942, 0.42912060877260894, 0.9755119679804366, 1.0)",
           "rgba(0.21764705882352942, 0.42912060877260894, 0.9755119679804366, 1.0)",
           "rgba(0.21764705882352942, 0.42912060877260894, 0.9755119679804366, 1.0)",
           "rgba(0.21764705882352942, 0.42912060877260894, 0.9755119679804366, 1.0)",
           "rgba(0.21764705882352942, 0.42912060877260894, 0.9755119679804366, 1.0)",
           "rgba(0.21764705882352942, 0.42912060877260894, 0.9755119679804366, 1.0)",
           "rgba(0.21764705882352942, 0.42912060877260894, 0.9755119679804366, 1.0)",
           "rgba(0.21764705882352942, 0.42912060877260894, 0.9755119679804366, 1.0)",
           "rgba(0.21764705882352942, 0.42912060877260894, 0.9755119679804366, 1.0)",
           "rgba(0.21764705882352942, 0.42912060877260894, 0.9755119679804366, 1.0)",
           "rgba(0.21764705882352942, 0.42912060877260894, 0.9755119679804366, 1.0)",
           "rgba(0.21764705882352942, 0.42912060877260894, 0.9755119679804366, 1.0)",
           "rgba(0.21764705882352942, 0.42912060877260894, 0.9755119679804366, 1.0)",
           "rgba(0.21764705882352942, 0.42912060877260894, 0.9755119679804366, 1.0)",
           "rgba(0.21764705882352942, 0.42912060877260894, 0.9755119679804366, 1.0)",
           "rgba(0.21764705882352942, 0.42912060877260894, 0.9755119679804366, 1.0)",
           "rgba(0.21764705882352942, 0.42912060877260894, 0.9755119679804366, 1.0)",
           "rgba(0.21764705882352942, 0.42912060877260894, 0.9755119679804366, 1.0)",
           "rgba(0.21764705882352942, 0.42912060877260894, 0.9755119679804366, 1.0)",
           "rgba(0.21764705882352942, 0.42912060877260894, 0.9755119679804366, 1.0)",
           "rgba(0.21764705882352942, 0.42912060877260894, 0.9755119679804366, 1.0)",
           "rgba(0.21764705882352942, 0.42912060877260894, 0.9755119679804366, 1.0)",
           "rgba(0.21764705882352942, 0.42912060877260894, 0.9755119679804366, 1.0)",
           "rgba(0.21764705882352942, 0.42912060877260894, 0.9755119679804366, 1.0)",
           "rgba(0.21764705882352942, 0.42912060877260894, 0.9755119679804366, 1.0)",
           "rgba(0.21764705882352942, 0.42912060877260894, 0.9755119679804366, 1.0)",
           "rgba(0.21764705882352942, 0.42912060877260894, 0.9755119679804366, 1.0)",
           "rgba(0.21764705882352942, 0.42912060877260894, 0.9755119679804366, 1.0)",
           "rgba(0.21764705882352942, 0.42912060877260894, 0.9755119679804366, 1.0)",
           "rgba(0.21764705882352942, 0.42912060877260894, 0.9755119679804366, 1.0)",
           "rgba(188, 188, 188, 1.0)",
           "rgba(188, 188, 188, 1.0)",
           "rgba(188, 188, 188, 1.0)",
           "rgba(188, 188, 188, 1.0)",
           "rgba(188, 188, 188, 1.0)",
           "rgba(188, 188, 188, 1.0)",
           "rgba(1.0, 0.4291206087726091, 0.2199463578396687, 1.0)",
           "rgba(1.0, 0.4291206087726091, 0.2199463578396687, 1.0)",
           "rgba(1.0, 0.4291206087726091, 0.2199463578396687, 1.0)",
           "rgba(0.6450980392156862, 0.9741386021045102, 0.622112816721474, 1.0)",
           "rgba(0.6450980392156862, 0.9741386021045102, 0.622112816721474, 1.0)",
           "rgba(0.6450980392156862, 0.9741386021045102, 0.622112816721474, 1.0)",
           "rgba(0.6450980392156862, 0.9741386021045102, 0.622112816721474, 1.0)",
           "rgba(0.6450980392156862, 0.9741386021045102, 0.622112816721474, 1.0)",
           "rgba(0.6450980392156862, 0.9741386021045102, 0.622112816721474, 1.0)",
           "rgba(0.6450980392156862, 0.9741386021045102, 0.622112816721474, 1.0)",
           "rgba(0.6450980392156862, 0.9741386021045102, 0.622112816721474, 1.0)",
           "rgba(0.6450980392156862, 0.9741386021045102, 0.622112816721474, 1.0)",
           "rgba(0.6450980392156862, 0.9741386021045102, 0.622112816721474, 1.0)",
           "rgba(0.6450980392156862, 0.9741386021045102, 0.622112816721474, 1.0)",
           "rgba(0.6450980392156862, 0.9741386021045102, 0.622112816721474, 1.0)",
           "rgba(0.6450980392156862, 0.9741386021045102, 0.622112816721474, 1.0)",
           "rgba(0.6450980392156862, 0.9741386021045102, 0.622112816721474, 1.0)"
          ],
          "size": 5
         },
         "text": [
          "Indian Telugu",
          "Indian Telugu",
          "Indian Telugu",
          "Indian Telugu",
          "Indian Telugu",
          "Indian Telugu",
          "Indian Telugu",
          "Indian Telugu",
          "Indian Telugu",
          "Indian Telugu",
          "Indian Telugu",
          "Indian Telugu",
          "Indian Telugu",
          "Indian Telugu",
          "Indian Telugu",
          "Indian Telugu",
          "Indian Telugu",
          "Indian Telugu",
          "Indian Telugu",
          "Indian Telugu",
          "Indian Telugu",
          "Indian Telugu",
          "Indian Telugu",
          "Indian Telugu",
          "Indian Telugu",
          "Indian Telugu",
          "Indian Telugu",
          "UNK",
          "UNK",
          "UNK",
          "UNK",
          "UNK",
          "UNK",
          "Dai Chinese",
          "Dai Chinese",
          "Dai Chinese",
          "Dai Chinese",
          "Dai Chinese",
          "Dai Chinese",
          "Dai Chinese",
          "Dai Chinese",
          "Dai Chinese",
          "Dai Chinese",
          "Dai Chinese",
          "UNK",
          "UNK",
          "UNK",
          "UNK",
          "UNK",
          "UNK",
          "Basque",
          "Basque",
          "Basque",
          "Basque",
          "Basque",
          "Basque",
          "Basque",
          "Basque",
          "Basque",
          "Basque",
          "Basque",
          "Basque",
          "Basque",
          "Basque",
          "Basque",
          "Basque",
          "Basque",
          "Basque",
          "Basque",
          "Basque",
          "Basque",
          "Basque",
          "Basque",
          "Basque",
          "Basque",
          "Basque",
          "Basque",
          "Basque",
          "Basque",
          "Basque",
          "Basque",
          "Basque",
          "Basque",
          "Basque",
          "Basque",
          "Basque",
          "Basque",
          "Basque",
          "Basque",
          "Basque",
          "Basque",
          "Basque",
          "Basque",
          "Basque",
          "Basque",
          "Basque",
          "Basque",
          "Basque",
          "Basque",
          "Basque",
          "Basque",
          "Basque",
          "Basque",
          "Basque",
          "Basque",
          "Basque",
          "Basque",
          "Basque",
          "Basque",
          "Basque",
          "Basque",
          "Basque",
          "Basque",
          "Basque",
          "Basque",
          "Basque",
          "Basque",
          "Basque",
          "Basque",
          "Basque",
          "Basque",
          "Basque",
          "Basque",
          "Basque",
          "Basque",
          "Basque",
          "Basque",
          "Basque",
          "Basque",
          "Basque",
          "Basque",
          "Basque",
          "Basque",
          "Basque",
          "Basque",
          "Basque",
          "Basque",
          "Basque",
          "Basque",
          "Basque",
          "Basque",
          "Basque",
          "Basque",
          "Basque",
          "Basque",
          "Basque",
          "Basque",
          "Basque",
          "Basque",
          "Basque",
          "Basque",
          "Basque",
          "Basque",
          "Basque",
          "Basque",
          "Basque",
          "Basque",
          "Basque",
          "Basque",
          "Basque",
          "Basque",
          "Basque",
          "Basque",
          "Basque",
          "Basque",
          "Basque",
          "Basque",
          "Basque",
          "Basque",
          "Basque",
          "Basque",
          "Basque",
          "Basque",
          "Basque",
          "Basque",
          "Basque",
          "Basque",
          "Basque",
          "Basque",
          "Basque",
          "Basque",
          "Basque",
          "Basque",
          "Basque",
          "Basque",
          "Basque",
          "Basque",
          "Basque",
          "Basque",
          "Basque",
          "Basque",
          "Basque",
          "Basque",
          "Basque",
          "Basque",
          "Basque",
          "Basque",
          "Basque",
          "Basque",
          "Basque",
          "Basque",
          "Basque",
          "Basque",
          "Basque",
          "Basque",
          "Basque",
          "Basque",
          "Basque",
          "Basque",
          "Basque",
          "Basque",
          "Basque",
          "Basque",
          "Basque",
          "Basque",
          "Basque",
          "Basque",
          "Basque",
          "Basque",
          "Basque",
          "Basque",
          "Basque",
          "Basque",
          "Basque",
          "Basque",
          "Basque",
          "Basque",
          "Basque",
          "Basque",
          "Basque",
          "Basque",
          "Basque",
          "Basque",
          "Basque",
          "Basque",
          "Basque",
          "Basque",
          "Basque",
          "Basque",
          "Basque",
          "Basque",
          "Basque",
          "Basque",
          "Basque",
          "Basque",
          "Basque",
          "Basque",
          "Basque",
          "Basque",
          "Basque",
          "Basque",
          "Basque",
          "Basque",
          "Basque",
          "Basque",
          "Basque",
          "Basque",
          "Basque",
          "Basque",
          "Basque",
          "Basque",
          "Basque",
          "Basque",
          "Basque",
          "Basque",
          "Basque",
          "Basque",
          "Basque",
          "Basque",
          "Basque",
          "Basque",
          "Basque",
          "Basque",
          "Basque",
          "Basque",
          "Basque",
          "Basque",
          "Basque",
          "Basque",
          "Basque",
          "Basque",
          "Basque",
          "Basque",
          "Basque",
          "Basque",
          "Basque",
          "Basque",
          "Basque",
          "Basque",
          "Basque",
          "Basque",
          "Basque",
          "Basque",
          "Basque",
          "UNK",
          "UNK",
          "UNK",
          "UNK",
          "UNK",
          "UNK",
          "Yakut",
          "Yakut",
          "Yakut",
          "Southern Han Chinese",
          "Southern Han Chinese",
          "Southern Han Chinese",
          "Southern Han Chinese",
          "Southern Han Chinese",
          "Southern Han Chinese",
          "Southern Han Chinese",
          "Southern Han Chinese",
          "Southern Han Chinese",
          "Southern Han Chinese",
          "Southern Han Chinese",
          "Southern Han Chinese",
          "Southern Han Chinese",
          "Southern Han Chinese"
         ],
         "type": "scattergeo"
        },
        {
         "lat": [
          16.5,
          16.5,
          16.5,
          16.5,
          16.5,
          16.5,
          16.5,
          16.5,
          16.5,
          16.5,
          16.5,
          16.5,
          16.5,
          16.5,
          16.5,
          16.5,
          16.5,
          16.5,
          16.5,
          16.5,
          16.5,
          16.5,
          16.5,
          16.5,
          16.5,
          16.5,
          16.5,
          16.5,
          16.5,
          16.5,
          16.5,
          16.5,
          22.000301999999998,
          22.000301999999998,
          22.000301999999998,
          22.000301999999998,
          22.000301999999998,
          22.000301999999998,
          22.000301999999998,
          22.000301999999998,
          22.000301999999998,
          22.000301999999998,
          22.000301999999998,
          22.000301999999998,
          22.000301999999998,
          22.000301999999998,
          22.000301999999998,
          22.000301999999998,
          22.000301999999998,
          22.000301999999998,
          43.00000000000001,
          43.00000000000001,
          43.00000000000001,
          43.00000000000001,
          43.00000000000001,
          43.00000000000001,
          43.00000000000001,
          43.00000000000001,
          43.00000000000001,
          43.00000000000001,
          43.00000000000001,
          43.00000000000001,
          43.00000000000001,
          43.00000000000001,
          43.00000000000001,
          43.00000000000001,
          43.00000000000001,
          43.00000000000001,
          43.00000000000001,
          43.00000000000001,
          43.00000000000001,
          43.00000000000001,
          43.00000000000001,
          43.00000000000001,
          43.00000000000001,
          43.00000000000001,
          43.00000000000001,
          43.00000000000001,
          43.00000000000001,
          43.00000000000001,
          43.00000000000001,
          43.00000000000001,
          43.00000000000001,
          43.00000000000001,
          43.00000000000001,
          43.00000000000001,
          43.00000000000001,
          43.00000000000001,
          43.00000000000001,
          43.00000000000001,
          43.00000000000001,
          43.00000000000001,
          43.00000000000001,
          43.00000000000001,
          43.00000000000001,
          43.00000000000001,
          43.00000000000001,
          43.00000000000001,
          43.00000000000001,
          43.00000000000001,
          43.00000000000001,
          43.00000000000001,
          43.00000000000001,
          43.00000000000001,
          43.00000000000001,
          43.00000000000001,
          43.00000000000001,
          43.00000000000001,
          43.00000000000001,
          43.00000000000001,
          43.00000000000001,
          43.00000000000001,
          43.00000000000001,
          43.00000000000001,
          43.00000000000001,
          43.00000000000001,
          43.00000000000001,
          43.00000000000001,
          43.00000000000001,
          43.00000000000001,
          43.00000000000001,
          43.00000000000001,
          43.00000000000001,
          43.00000000000001,
          43.00000000000001,
          43.00000000000001,
          43.00000000000001,
          43.00000000000001,
          43.00000000000001,
          43.00000000000001,
          43.00000000000001,
          43.00000000000001,
          43.00000000000001,
          43.00000000000001,
          43.00000000000001,
          43.00000000000001,
          43.00000000000001,
          43.00000000000001,
          43.00000000000001,
          43.00000000000001,
          43.00000000000001,
          43.00000000000001,
          43.00000000000001,
          43.00000000000001,
          43.00000000000001,
          43.00000000000001,
          43.00000000000001,
          43.00000000000001,
          43.00000000000001,
          43.00000000000001,
          43.00000000000001,
          43.00000000000001,
          43.00000000000001,
          43.00000000000001,
          43.00000000000001,
          43.00000000000001,
          43.00000000000001,
          43.00000000000001,
          43.00000000000001,
          43.00000000000001,
          43.00000000000001,
          43.00000000000001,
          43.00000000000001,
          43.00000000000001,
          43.00000000000001,
          43.00000000000001,
          43.00000000000001,
          43.00000000000001,
          43.00000000000001,
          43.00000000000001,
          43.00000000000001,
          43.00000000000001,
          43.00000000000001,
          43.00000000000001,
          43.00000000000001,
          43.00000000000001,
          43.00000000000001,
          43.00000000000001,
          43.00000000000001,
          43.00000000000001,
          43.00000000000001,
          43.00000000000001,
          43.00000000000001,
          43.00000000000001,
          43.00000000000001,
          43.00000000000001,
          43.00000000000001,
          43.00000000000001,
          43.00000000000001,
          43.00000000000001,
          43.00000000000001,
          43.00000000000001,
          43.00000000000001,
          43.00000000000001,
          43.00000000000001,
          43.00000000000001,
          43.00000000000001,
          43.00000000000001,
          43.00000000000001,
          43.00000000000001,
          43.00000000000001,
          43.00000000000001,
          43.00000000000001,
          43.00000000000001,
          43.00000000000001,
          43.00000000000001,
          43.00000000000001,
          43.00000000000001,
          43.00000000000001,
          43.00000000000001,
          43.00000000000001,
          43.00000000000001,
          43.00000000000001,
          43.00000000000001,
          43.00000000000001,
          43.00000000000001,
          43.00000000000001,
          43.00000000000001,
          43.00000000000001,
          43.00000000000001,
          43.00000000000001,
          43.00000000000001,
          43.00000000000001,
          43.00000000000001,
          43.00000000000001,
          43.00000000000001,
          43.00000000000001,
          43.00000000000001,
          43.00000000000001,
          43.00000000000001,
          43.00000000000001,
          43.00000000000001,
          43.00000000000001,
          43.00000000000001,
          43.00000000000001,
          43.00000000000001,
          43.00000000000001,
          43.00000000000001,
          43.00000000000001,
          43.00000000000001,
          43.00000000000001,
          43.00000000000001,
          43.00000000000001,
          43.00000000000001,
          43.00000000000001,
          43.00000000000001,
          43.00000000000001,
          43.00000000000001,
          43.00000000000001,
          43.00000000000001,
          43.00000000000001,
          43.00000000000001,
          43.00000000000001,
          43.00000000000001,
          43.00000000000001,
          43.00000000000001,
          43.00000000000001,
          43.00000000000001,
          43.00000000000001,
          43.00000000000001,
          43.00000000000001,
          43.00000000000001,
          43.00000000000001,
          43.00000000000001,
          43.00000000000001,
          43.00000000000001,
          43.00000000000001,
          43.00000000000001,
          43.00000000000001,
          43.00000000000001,
          43.00000000000001,
          43.00000000000001,
          43.00000000000001,
          43.00000000000001,
          43.00000000000001,
          43.00000000000001,
          43.00000000000001,
          43.00000000000001,
          43.00000000000001,
          43.00000000000001,
          43.00000000000001,
          43.00000000000001,
          43.00000000000001,
          43.00000000000001,
          43.00000000000001,
          43.00000000000001,
          43.00000000000001,
          43.00000000000001,
          43.00000000000001,
          43.00000000000001,
          43.00000000000001,
          43.00000000000001,
          43.00000000000001,
          43.00000000000001,
          43.00000000000001,
          43.00000000000001,
          43.00000000000001,
          43.00000000000001,
          43.00000000000001,
          63,
          63,
          63,
          63,
          25.9,
          25.9,
          25.9,
          25.9,
          25.9,
          25.9,
          25.9,
          25.9,
          25.9,
          25.9,
          25.9,
          25.9,
          25.9,
          25.9
         ],
         "lon": [
          80.64,
          80.64,
          80.64,
          80.64,
          80.64,
          80.64,
          80.64,
          80.64,
          80.64,
          80.64,
          80.64,
          80.64,
          80.64,
          80.64,
          80.64,
          80.64,
          80.64,
          80.64,
          80.64,
          80.64,
          80.64,
          80.64,
          80.64,
          80.64,
          80.64,
          80.64,
          80.64,
          80.64,
          80.64,
          80.64,
          80.64,
          80.64,
          100.79837,
          100.79837,
          100.79837,
          100.79837,
          100.79837,
          100.79837,
          100.79837,
          100.79837,
          100.79837,
          100.79837,
          100.79837,
          100.79837,
          100.79837,
          100.79837,
          100.79837,
          100.79837,
          100.79837,
          100.79837,
          0,
          0,
          0,
          0,
          0,
          0,
          0,
          0,
          0,
          0,
          0,
          0,
          0,
          0,
          0,
          0,
          0,
          0,
          0,
          0,
          0,
          0,
          0,
          0,
          0,
          0,
          0,
          0,
          0,
          0,
          0,
          0,
          0,
          0,
          0,
          0,
          0,
          0,
          0,
          0,
          0,
          0,
          0,
          0,
          0,
          0,
          0,
          0,
          0,
          0,
          0,
          0,
          0,
          0,
          0,
          0,
          0,
          0,
          0,
          0,
          0,
          0,
          0,
          0,
          0,
          0,
          0,
          0,
          0,
          0,
          0,
          0,
          0,
          0,
          0,
          0,
          0,
          0,
          0,
          0,
          0,
          0,
          0,
          0,
          0,
          0,
          0,
          0,
          0,
          0,
          0,
          0,
          0,
          0,
          0,
          0,
          0,
          0,
          0,
          0,
          0,
          0,
          0,
          0,
          0,
          0,
          0,
          0,
          0,
          0,
          0,
          0,
          0,
          0,
          0,
          0,
          0,
          0,
          0,
          0,
          0,
          0,
          0,
          0,
          0,
          0,
          0,
          0,
          0,
          0,
          0,
          0,
          0,
          0,
          0,
          0,
          0,
          0,
          0,
          0,
          0,
          0,
          0,
          0,
          0,
          0,
          0,
          0,
          0,
          0,
          0,
          0,
          0,
          0,
          0,
          0,
          0,
          0,
          0,
          0,
          0,
          0,
          0,
          0,
          0,
          0,
          0,
          0,
          0,
          0,
          0,
          0,
          0,
          0,
          0,
          0,
          0,
          0,
          0,
          0,
          0,
          0,
          0,
          0,
          0,
          0,
          0,
          0,
          0,
          0,
          0,
          0,
          0,
          0,
          0,
          0,
          0,
          0,
          0,
          0,
          0,
          0,
          0,
          0,
          0,
          0,
          0,
          0,
          0,
          0,
          0,
          0,
          0,
          0,
          0,
          0,
          0,
          0,
          0,
          0,
          0,
          0,
          0,
          0,
          0,
          0,
          0,
          0,
          0,
          0,
          0,
          0,
          0,
          0,
          0,
          0,
          0,
          0,
          0,
          0,
          0,
          0,
          0,
          0,
          0,
          0,
          0,
          0,
          0,
          129.5,
          129.5,
          129.5,
          129.5,
          118.3,
          118.3,
          118.3,
          118.3,
          118.3,
          118.3,
          118.3,
          118.3,
          118.3,
          118.3,
          118.3,
          118.3,
          118.3,
          118.3
         ],
         "marker": {
          "size": 5,
          "symbol": "square"
         },
         "text": [
          "Indian Telugu",
          "Indian Telugu",
          "Indian Telugu",
          "Indian Telugu",
          "Indian Telugu",
          "Indian Telugu",
          "Indian Telugu",
          "Indian Telugu",
          "Indian Telugu",
          "Indian Telugu",
          "Indian Telugu",
          "Indian Telugu",
          "Indian Telugu",
          "Indian Telugu",
          "Indian Telugu",
          "Indian Telugu",
          "Indian Telugu",
          "Indian Telugu",
          "Indian Telugu",
          "Indian Telugu",
          "Indian Telugu",
          "Indian Telugu",
          "Indian Telugu",
          "Indian Telugu",
          "Indian Telugu",
          "Indian Telugu",
          "Indian Telugu",
          "UNK",
          "UNK",
          "UNK",
          "UNK",
          "UNK",
          "UNK",
          "Dai Chinese",
          "Dai Chinese",
          "Dai Chinese",
          "Dai Chinese",
          "Dai Chinese",
          "Dai Chinese",
          "Dai Chinese",
          "Dai Chinese",
          "Dai Chinese",
          "Dai Chinese",
          "Dai Chinese",
          "UNK",
          "UNK",
          "UNK",
          "UNK",
          "UNK",
          "UNK",
          "Basque",
          "Basque",
          "Basque",
          "Basque",
          "Basque",
          "Basque",
          "Basque",
          "Basque",
          "Basque",
          "Basque",
          "Basque",
          "Basque",
          "Basque",
          "Basque",
          "Basque",
          "Basque",
          "Basque",
          "Basque",
          "Basque",
          "Basque",
          "Basque",
          "Basque",
          "Basque",
          "Basque",
          "Basque",
          "Basque",
          "Basque",
          "Basque",
          "Basque",
          "Basque",
          "Basque",
          "Basque",
          "Basque",
          "Basque",
          "Basque",
          "Basque",
          "Basque",
          "Basque",
          "Basque",
          "Basque",
          "Basque",
          "Basque",
          "Basque",
          "Basque",
          "Basque",
          "Basque",
          "Basque",
          "Basque",
          "Basque",
          "Basque",
          "Basque",
          "Basque",
          "Basque",
          "Basque",
          "Basque",
          "Basque",
          "Basque",
          "Basque",
          "Basque",
          "Basque",
          "Basque",
          "Basque",
          "Basque",
          "Basque",
          "Basque",
          "Basque",
          "Basque",
          "Basque",
          "Basque",
          "Basque",
          "Basque",
          "Basque",
          "Basque",
          "Basque",
          "Basque",
          "Basque",
          "Basque",
          "Basque",
          "Basque",
          "Basque",
          "Basque",
          "Basque",
          "Basque",
          "Basque",
          "Basque",
          "Basque",
          "Basque",
          "Basque",
          "Basque",
          "Basque",
          "Basque",
          "Basque",
          "Basque",
          "Basque",
          "Basque",
          "Basque",
          "Basque",
          "Basque",
          "Basque",
          "Basque",
          "Basque",
          "Basque",
          "Basque",
          "Basque",
          "Basque",
          "Basque",
          "Basque",
          "Basque",
          "Basque",
          "Basque",
          "Basque",
          "Basque",
          "Basque",
          "Basque",
          "Basque",
          "Basque",
          "Basque",
          "Basque",
          "Basque",
          "Basque",
          "Basque",
          "Basque",
          "Basque",
          "Basque",
          "Basque",
          "Basque",
          "Basque",
          "Basque",
          "Basque",
          "Basque",
          "Basque",
          "Basque",
          "Basque",
          "Basque",
          "Basque",
          "Basque",
          "Basque",
          "Basque",
          "Basque",
          "Basque",
          "Basque",
          "Basque",
          "Basque",
          "Basque",
          "Basque",
          "Basque",
          "Basque",
          "Basque",
          "Basque",
          "Basque",
          "Basque",
          "Basque",
          "Basque",
          "Basque",
          "Basque",
          "Basque",
          "Basque",
          "Basque",
          "Basque",
          "Basque",
          "Basque",
          "Basque",
          "Basque",
          "Basque",
          "Basque",
          "Basque",
          "Basque",
          "Basque",
          "Basque",
          "Basque",
          "Basque",
          "Basque",
          "Basque",
          "Basque",
          "Basque",
          "Basque",
          "Basque",
          "Basque",
          "Basque",
          "Basque",
          "Basque",
          "Basque",
          "Basque",
          "Basque",
          "Basque",
          "Basque",
          "Basque",
          "Basque",
          "Basque",
          "Basque",
          "Basque",
          "Basque",
          "Basque",
          "Basque",
          "Basque",
          "Basque",
          "Basque",
          "Basque",
          "Basque",
          "Basque",
          "Basque",
          "Basque",
          "Basque",
          "Basque",
          "Basque",
          "Basque",
          "Basque",
          "Basque",
          "Basque",
          "Basque",
          "Basque",
          "Basque",
          "Basque",
          "Basque",
          "Basque",
          "Basque",
          "Basque",
          "Basque",
          "Basque",
          "Basque",
          "Basque",
          "Basque",
          "Basque",
          "Basque",
          "Basque",
          "Basque",
          "Basque",
          "Basque",
          "Basque",
          "Basque",
          "Basque",
          "Basque",
          "Basque",
          "Basque",
          "Basque",
          "Basque",
          "Basque",
          "Basque",
          "Basque",
          "Basque",
          "Basque",
          "Basque",
          "Basque",
          "Basque",
          "UNK",
          "UNK",
          "UNK",
          "UNK",
          "UNK",
          "UNK",
          "Yakut",
          "Yakut",
          "Yakut",
          "Southern Han Chinese",
          "Southern Han Chinese",
          "Southern Han Chinese",
          "Southern Han Chinese",
          "Southern Han Chinese",
          "Southern Han Chinese",
          "Southern Han Chinese",
          "Southern Han Chinese",
          "Southern Han Chinese",
          "Southern Han Chinese",
          "Southern Han Chinese",
          "Southern Han Chinese",
          "Southern Han Chinese",
          "Southern Han Chinese"
         ],
         "type": "scattergeo"
        }
       ],
       "layout": {
        "template": {
         "data": {
          "bar": [
           {
            "error_x": {
             "color": "#2a3f5f"
            },
            "error_y": {
             "color": "#2a3f5f"
            },
            "marker": {
             "line": {
              "color": "#E5ECF6",
              "width": 0.5
             }
            },
            "type": "bar"
           }
          ],
          "barpolar": [
           {
            "marker": {
             "line": {
              "color": "#E5ECF6",
              "width": 0.5
             }
            },
            "type": "barpolar"
           }
          ],
          "carpet": [
           {
            "aaxis": {
             "endlinecolor": "#2a3f5f",
             "gridcolor": "white",
             "linecolor": "white",
             "minorgridcolor": "white",
             "startlinecolor": "#2a3f5f"
            },
            "baxis": {
             "endlinecolor": "#2a3f5f",
             "gridcolor": "white",
             "linecolor": "white",
             "minorgridcolor": "white",
             "startlinecolor": "#2a3f5f"
            },
            "type": "carpet"
           }
          ],
          "choropleth": [
           {
            "colorbar": {
             "outlinewidth": 0,
             "ticks": ""
            },
            "type": "choropleth"
           }
          ],
          "contour": [
           {
            "colorbar": {
             "outlinewidth": 0,
             "ticks": ""
            },
            "colorscale": [
             [
              0,
              "#0d0887"
             ],
             [
              0.1111111111111111,
              "#46039f"
             ],
             [
              0.2222222222222222,
              "#7201a8"
             ],
             [
              0.3333333333333333,
              "#9c179e"
             ],
             [
              0.4444444444444444,
              "#bd3786"
             ],
             [
              0.5555555555555556,
              "#d8576b"
             ],
             [
              0.6666666666666666,
              "#ed7953"
             ],
             [
              0.7777777777777778,
              "#fb9f3a"
             ],
             [
              0.8888888888888888,
              "#fdca26"
             ],
             [
              1,
              "#f0f921"
             ]
            ],
            "type": "contour"
           }
          ],
          "contourcarpet": [
           {
            "colorbar": {
             "outlinewidth": 0,
             "ticks": ""
            },
            "type": "contourcarpet"
           }
          ],
          "heatmap": [
           {
            "colorbar": {
             "outlinewidth": 0,
             "ticks": ""
            },
            "colorscale": [
             [
              0,
              "#0d0887"
             ],
             [
              0.1111111111111111,
              "#46039f"
             ],
             [
              0.2222222222222222,
              "#7201a8"
             ],
             [
              0.3333333333333333,
              "#9c179e"
             ],
             [
              0.4444444444444444,
              "#bd3786"
             ],
             [
              0.5555555555555556,
              "#d8576b"
             ],
             [
              0.6666666666666666,
              "#ed7953"
             ],
             [
              0.7777777777777778,
              "#fb9f3a"
             ],
             [
              0.8888888888888888,
              "#fdca26"
             ],
             [
              1,
              "#f0f921"
             ]
            ],
            "type": "heatmap"
           }
          ],
          "heatmapgl": [
           {
            "colorbar": {
             "outlinewidth": 0,
             "ticks": ""
            },
            "colorscale": [
             [
              0,
              "#0d0887"
             ],
             [
              0.1111111111111111,
              "#46039f"
             ],
             [
              0.2222222222222222,
              "#7201a8"
             ],
             [
              0.3333333333333333,
              "#9c179e"
             ],
             [
              0.4444444444444444,
              "#bd3786"
             ],
             [
              0.5555555555555556,
              "#d8576b"
             ],
             [
              0.6666666666666666,
              "#ed7953"
             ],
             [
              0.7777777777777778,
              "#fb9f3a"
             ],
             [
              0.8888888888888888,
              "#fdca26"
             ],
             [
              1,
              "#f0f921"
             ]
            ],
            "type": "heatmapgl"
           }
          ],
          "histogram": [
           {
            "marker": {
             "colorbar": {
              "outlinewidth": 0,
              "ticks": ""
             }
            },
            "type": "histogram"
           }
          ],
          "histogram2d": [
           {
            "colorbar": {
             "outlinewidth": 0,
             "ticks": ""
            },
            "colorscale": [
             [
              0,
              "#0d0887"
             ],
             [
              0.1111111111111111,
              "#46039f"
             ],
             [
              0.2222222222222222,
              "#7201a8"
             ],
             [
              0.3333333333333333,
              "#9c179e"
             ],
             [
              0.4444444444444444,
              "#bd3786"
             ],
             [
              0.5555555555555556,
              "#d8576b"
             ],
             [
              0.6666666666666666,
              "#ed7953"
             ],
             [
              0.7777777777777778,
              "#fb9f3a"
             ],
             [
              0.8888888888888888,
              "#fdca26"
             ],
             [
              1,
              "#f0f921"
             ]
            ],
            "type": "histogram2d"
           }
          ],
          "histogram2dcontour": [
           {
            "colorbar": {
             "outlinewidth": 0,
             "ticks": ""
            },
            "colorscale": [
             [
              0,
              "#0d0887"
             ],
             [
              0.1111111111111111,
              "#46039f"
             ],
             [
              0.2222222222222222,
              "#7201a8"
             ],
             [
              0.3333333333333333,
              "#9c179e"
             ],
             [
              0.4444444444444444,
              "#bd3786"
             ],
             [
              0.5555555555555556,
              "#d8576b"
             ],
             [
              0.6666666666666666,
              "#ed7953"
             ],
             [
              0.7777777777777778,
              "#fb9f3a"
             ],
             [
              0.8888888888888888,
              "#fdca26"
             ],
             [
              1,
              "#f0f921"
             ]
            ],
            "type": "histogram2dcontour"
           }
          ],
          "mesh3d": [
           {
            "colorbar": {
             "outlinewidth": 0,
             "ticks": ""
            },
            "type": "mesh3d"
           }
          ],
          "parcoords": [
           {
            "line": {
             "colorbar": {
              "outlinewidth": 0,
              "ticks": ""
             }
            },
            "type": "parcoords"
           }
          ],
          "pie": [
           {
            "automargin": true,
            "type": "pie"
           }
          ],
          "scatter": [
           {
            "marker": {
             "colorbar": {
              "outlinewidth": 0,
              "ticks": ""
             }
            },
            "type": "scatter"
           }
          ],
          "scatter3d": [
           {
            "line": {
             "colorbar": {
              "outlinewidth": 0,
              "ticks": ""
             }
            },
            "marker": {
             "colorbar": {
              "outlinewidth": 0,
              "ticks": ""
             }
            },
            "type": "scatter3d"
           }
          ],
          "scattercarpet": [
           {
            "marker": {
             "colorbar": {
              "outlinewidth": 0,
              "ticks": ""
             }
            },
            "type": "scattercarpet"
           }
          ],
          "scattergeo": [
           {
            "marker": {
             "colorbar": {
              "outlinewidth": 0,
              "ticks": ""
             }
            },
            "type": "scattergeo"
           }
          ],
          "scattergl": [
           {
            "marker": {
             "colorbar": {
              "outlinewidth": 0,
              "ticks": ""
             }
            },
            "type": "scattergl"
           }
          ],
          "scattermapbox": [
           {
            "marker": {
             "colorbar": {
              "outlinewidth": 0,
              "ticks": ""
             }
            },
            "type": "scattermapbox"
           }
          ],
          "scatterpolar": [
           {
            "marker": {
             "colorbar": {
              "outlinewidth": 0,
              "ticks": ""
             }
            },
            "type": "scatterpolar"
           }
          ],
          "scatterpolargl": [
           {
            "marker": {
             "colorbar": {
              "outlinewidth": 0,
              "ticks": ""
             }
            },
            "type": "scatterpolargl"
           }
          ],
          "scatterternary": [
           {
            "marker": {
             "colorbar": {
              "outlinewidth": 0,
              "ticks": ""
             }
            },
            "type": "scatterternary"
           }
          ],
          "surface": [
           {
            "colorbar": {
             "outlinewidth": 0,
             "ticks": ""
            },
            "colorscale": [
             [
              0,
              "#0d0887"
             ],
             [
              0.1111111111111111,
              "#46039f"
             ],
             [
              0.2222222222222222,
              "#7201a8"
             ],
             [
              0.3333333333333333,
              "#9c179e"
             ],
             [
              0.4444444444444444,
              "#bd3786"
             ],
             [
              0.5555555555555556,
              "#d8576b"
             ],
             [
              0.6666666666666666,
              "#ed7953"
             ],
             [
              0.7777777777777778,
              "#fb9f3a"
             ],
             [
              0.8888888888888888,
              "#fdca26"
             ],
             [
              1,
              "#f0f921"
             ]
            ],
            "type": "surface"
           }
          ],
          "table": [
           {
            "cells": {
             "fill": {
              "color": "#EBF0F8"
             },
             "line": {
              "color": "white"
             }
            },
            "header": {
             "fill": {
              "color": "#C8D4E3"
             },
             "line": {
              "color": "white"
             }
            },
            "type": "table"
           }
          ]
         },
         "layout": {
          "annotationdefaults": {
           "arrowcolor": "#2a3f5f",
           "arrowhead": 0,
           "arrowwidth": 1
          },
          "autotypenumbers": "strict",
          "coloraxis": {
           "colorbar": {
            "outlinewidth": 0,
            "ticks": ""
           }
          },
          "colorscale": {
           "diverging": [
            [
             0,
             "#8e0152"
            ],
            [
             0.1,
             "#c51b7d"
            ],
            [
             0.2,
             "#de77ae"
            ],
            [
             0.3,
             "#f1b6da"
            ],
            [
             0.4,
             "#fde0ef"
            ],
            [
             0.5,
             "#f7f7f7"
            ],
            [
             0.6,
             "#e6f5d0"
            ],
            [
             0.7,
             "#b8e186"
            ],
            [
             0.8,
             "#7fbc41"
            ],
            [
             0.9,
             "#4d9221"
            ],
            [
             1,
             "#276419"
            ]
           ],
           "sequential": [
            [
             0,
             "#0d0887"
            ],
            [
             0.1111111111111111,
             "#46039f"
            ],
            [
             0.2222222222222222,
             "#7201a8"
            ],
            [
             0.3333333333333333,
             "#9c179e"
            ],
            [
             0.4444444444444444,
             "#bd3786"
            ],
            [
             0.5555555555555556,
             "#d8576b"
            ],
            [
             0.6666666666666666,
             "#ed7953"
            ],
            [
             0.7777777777777778,
             "#fb9f3a"
            ],
            [
             0.8888888888888888,
             "#fdca26"
            ],
            [
             1,
             "#f0f921"
            ]
           ],
           "sequentialminus": [
            [
             0,
             "#0d0887"
            ],
            [
             0.1111111111111111,
             "#46039f"
            ],
            [
             0.2222222222222222,
             "#7201a8"
            ],
            [
             0.3333333333333333,
             "#9c179e"
            ],
            [
             0.4444444444444444,
             "#bd3786"
            ],
            [
             0.5555555555555556,
             "#d8576b"
            ],
            [
             0.6666666666666666,
             "#ed7953"
            ],
            [
             0.7777777777777778,
             "#fb9f3a"
            ],
            [
             0.8888888888888888,
             "#fdca26"
            ],
            [
             1,
             "#f0f921"
            ]
           ]
          },
          "colorway": [
           "#636efa",
           "#EF553B",
           "#00cc96",
           "#ab63fa",
           "#FFA15A",
           "#19d3f3",
           "#FF6692",
           "#B6E880",
           "#FF97FF",
           "#FECB52"
          ],
          "font": {
           "color": "#2a3f5f"
          },
          "geo": {
           "bgcolor": "white",
           "lakecolor": "white",
           "landcolor": "#E5ECF6",
           "showlakes": true,
           "showland": true,
           "subunitcolor": "white"
          },
          "hoverlabel": {
           "align": "left"
          },
          "hovermode": "closest",
          "mapbox": {
           "style": "light"
          },
          "paper_bgcolor": "white",
          "plot_bgcolor": "#E5ECF6",
          "polar": {
           "angularaxis": {
            "gridcolor": "white",
            "linecolor": "white",
            "ticks": ""
           },
           "bgcolor": "#E5ECF6",
           "radialaxis": {
            "gridcolor": "white",
            "linecolor": "white",
            "ticks": ""
           }
          },
          "scene": {
           "xaxis": {
            "backgroundcolor": "#E5ECF6",
            "gridcolor": "white",
            "gridwidth": 2,
            "linecolor": "white",
            "showbackground": true,
            "ticks": "",
            "zerolinecolor": "white"
           },
           "yaxis": {
            "backgroundcolor": "#E5ECF6",
            "gridcolor": "white",
            "gridwidth": 2,
            "linecolor": "white",
            "showbackground": true,
            "ticks": "",
            "zerolinecolor": "white"
           },
           "zaxis": {
            "backgroundcolor": "#E5ECF6",
            "gridcolor": "white",
            "gridwidth": 2,
            "linecolor": "white",
            "showbackground": true,
            "ticks": "",
            "zerolinecolor": "white"
           }
          },
          "shapedefaults": {
           "line": {
            "color": "#2a3f5f"
           }
          },
          "ternary": {
           "aaxis": {
            "gridcolor": "white",
            "linecolor": "white",
            "ticks": ""
           },
           "baxis": {
            "gridcolor": "white",
            "linecolor": "white",
            "ticks": ""
           },
           "bgcolor": "#E5ECF6",
           "caxis": {
            "gridcolor": "white",
            "linecolor": "white",
            "ticks": ""
           }
          },
          "title": {
           "x": 0.05
          },
          "xaxis": {
           "automargin": true,
           "gridcolor": "white",
           "linecolor": "white",
           "ticks": "",
           "title": {
            "standoff": 15
           },
           "zerolinecolor": "white",
           "zerolinewidth": 2
          },
          "yaxis": {
           "automargin": true,
           "gridcolor": "white",
           "linecolor": "white",
           "ticks": "",
           "title": {
            "standoff": 15
           },
           "zerolinecolor": "white",
           "zerolinewidth": 2
          }
         }
        }
       }
      },
      "text/html": [
       "<div>                            <div id=\"91b479a1-7c02-41b6-937a-fb7a4be68fe7\" class=\"plotly-graph-div\" style=\"height:525px; width:100%;\"></div>            <script type=\"text/javascript\">                require([\"plotly\"], function(Plotly) {                    window.PLOTLYENV=window.PLOTLYENV || {};                                    if (document.getElementById(\"91b479a1-7c02-41b6-937a-fb7a4be68fe7\")) {                    Plotly.newPlot(                        \"91b479a1-7c02-41b6-937a-fb7a4be68fe7\",                        [{\"marker\": {\"size\": 5}, \"type\": \"scattergeo\"}, {\"lat\": [17.597620010375977, 15.168065071105957, 15.0305757522583, 15.302699089050293, 15.805301666259766, 16.102420806884766, 15.939140319824219, 17.35214614868164, 17.710220336914062, 18.189462661743164, 18.727819442749023, 18.526655197143555, 17.73903465270996, 18.6871280670166, 19.64501953125, 22.157989501953125, 23.571619033813477, 25.53142547607422, 25.93866539001465, 25.215789794921875, 23.867473602294922, 22.887332916259766, 20.616376876831055, 18.38348960876465, 17.496952056884766, 18.858394622802734, 19.925838470458984, 19.829940795898438, 20.35862159729004, 22.323488235473633, 24.292818069458008, 26.255704879760742, 27.522829055786133, 27.633363723754883, 27.70147705078125, 28.025619506835938, 28.269861221313477, 28.266660690307617, 28.131999969482422, 28.264759063720703, 28.116439819335938, 27.602893829345703, 27.475595474243164, 27.163898468017578, 27.563112258911133, 28.231019973754883, 28.512094497680664, 28.873367309570312, 42.59761047363281, 47.96835708618164, 46.40419006347656, 44.66261672973633, 43.56968307495117, 43.44850540161133, 43.60823440551758, 43.51149368286133, 43.505130767822266, 43.592037200927734, 43.270206451416016, 43.43473815917969, 43.57359313964844, 43.745758056640625, 43.765037536621094, 44.05948257446289, 43.8616943359375, 43.579933166503906, 43.68656539916992, 43.61836242675781, 43.74233627319336, 43.899192810058594, 43.80506896972656, 43.980186462402344, 43.98719024658203, 43.8709716796875, 43.7752685546875, 43.84086990356445, 43.79630661010742, 43.6733283996582, 43.85753631591797, 43.800323486328125, 43.56688690185547, 43.69218826293945, 44.00654602050781, 44.009464263916016, 43.936058044433594, 43.9739875793457, 44.063507080078125, 44.08820724487305, 44.15607833862305, 44.28879165649414, 44.3259162902832, 44.32344055175781, 44.55211639404297, 44.3839111328125, 44.45929718017578, 44.38996124267578, 44.338531494140625, 44.330074310302734, 44.221458435058594, 44.45318603515625, 44.63752365112305, 44.687416076660156, 44.47728729248047, 44.727333068847656, 44.47614669799805, 44.68225860595703, 44.68212890625, 44.7587776184082, 44.67934799194336, 44.80744934082031, 44.65353012084961, 44.494163513183594, 44.768375396728516, 44.888065338134766, 44.83660888671875, 44.86492156982422, 44.832237243652344, 44.778358459472656, 44.750648498535156, 44.709415435791016, 44.901756286621094, 44.86275863647461, 44.75330352783203, 44.802818298339844, 44.86244583129883, 44.89482116699219, 44.840145111083984, 44.82441329956055, 44.80192947387695, 44.79751968383789, 44.6534309387207, 44.73544692993164, 44.65109634399414, 44.55311965942383, 44.42000961303711, 44.54533004760742, 44.72746276855469, 44.70692825317383, 44.74850845336914, 44.753292083740234, 44.7133674621582, 44.77975845336914, 44.61789321899414, 44.6923713684082, 44.589847564697266, 44.64520263671875, 44.681419372558594, 44.60274887084961, 44.60210418701172, 44.72883224487305, 44.724300384521484, 44.883384704589844, 44.835018157958984, 44.71174240112305, 44.571807861328125, 44.764129638671875, 44.831520080566406, 45.004432678222656, 44.912078857421875, 44.92770004272461, 44.899749755859375, 44.80918884277344, 44.85798645019531, 44.97949981689453, 45.0564079284668, 44.85000228881836, 44.97846984863281, 45.14574432373047, 45.090980529785156, 45.018699645996094, 45.17238998413086, 45.11925506591797, 45.10487365722656, 45.176143646240234, 44.69580841064453, 44.51493453979492, 44.615478515625, 45.04207992553711, 45.030189514160156, 45.35506820678711, 45.320011138916016, 45.391971588134766, 45.350128173828125, 45.3178596496582, 45.25880813598633, 45.31761169433594, 45.34191131591797, 45.17782974243164, 44.863460540771484, 45.083621978759766, 45.33309555053711, 45.55717849731445, 45.54288101196289, 45.46288299560547, 45.305545806884766, 45.26085662841797, 45.229488372802734, 45.126708984375, 44.69898986816406, 45.08280563354492, 45.14411926269531, 45.239402770996094, 45.13493347167969, 44.84003829956055, 44.6130256652832, 45.00114822387695, 45.811607360839844, 45.673805236816406, 45.88211441040039, 46.10136413574219, 46.1431884765625, 46.315670013427734, 45.954715728759766, 46.56093215942383, 47.088134765625, 47.51517868041992, 48.05121994018555, 48.203590393066406, 48.27358627319336, 48.3182258605957, 48.35379409790039, 48.39284133911133, 48.26310348510742, 48.078739166259766, 48.161048889160156, 48.266502380371094, 48.16011047363281, 47.99570846557617, 48.387638092041016, 48.06070327758789, 48.012596130371094, 48.06006622314453, 48.199432373046875, 48.26333236694336, 48.2666015625, 48.28496551513672, 48.213706970214844, 48.26955795288086, 48.13844299316406, 48.07856750488281, 47.77054977416992, 47.71980667114258, 47.57465362548828, 47.526676177978516, 47.4908332824707, 47.302181243896484, 47.12325668334961, 46.99842071533203, 46.649776458740234, 46.48283767700195, 46.34336853027344, 46.07863235473633, 46.02294921875, 45.880550384521484, 45.69160079956055, 45.608299255371094, 45.6001091003418, 45.45294189453125, 45.243385314941406, 45.31867599487305, 45.32763671875, 45.21563720703125, 45.21697235107422, 45.260650634765625, 45.170169830322266, 45.0938606262207, 45.02923583984375, 44.967552185058594, 45.009185791015625, 45.056602478027344, 44.98979568481445, 44.919456481933594, 45.014060974121094, 45.07904815673828, 45.11387634277344, 45.12679672241211, 45.08770751953125, 45.021881103515625, 45.016231536865234, 45.07509994506836, 45.13937759399414, 44.98204040527344, 45.218318939208984, 45.23277282714844, 45.37981414794922, 45.33684539794922, 45.242393493652344, 45.6316032409668, 45.474327087402344, 45.28904342651367, 45.335975646972656, 45.268516540527344, 45.37363815307617, 45.450531005859375, 45.8521614074707, 46.249271392822266, 46.42049789428711, 48.94028091430664, 59.179283142089844, 59.55534362792969, 57.076263427734375, 46.83763885498047, 40.236045837402344, 39.935916900634766, 39.3794059753418, 39.00374984741211, 39.51597595214844, 39.77497482299805, 39.876468658447266, 39.28853988647461, 39.42219543457031, 38.62242126464844, 38.218788146972656, 37.823585510253906, 37.900142669677734, 40.07435989379883, 43.71785354614258], \"lon\": [82.83860778808594, 81.45286560058594, 81.45381927490234, 81.3470687866211, 82.07259368896484, 82.4388198852539, 82.36167907714844, 85.344482421875, 86.2178955078125, 88.11872863769531, 89.04022979736328, 86.24839782714844, 84.06640625, 85.61665344238281, 83.43582916259766, 80.8080825805664, 78.57087707519531, 78.58473205566406, 77.35210418701172, 76.4601058959961, 77.30806732177734, 77.55803680419922, 79.3624038696289, 81.35848999023438, 82.81566619873047, 83.712890625, 83.73802185058594, 84.1450424194336, 85.38134765625, 92.57328796386719, 98.84806823730469, 102.12257385253906, 104.68592834472656, 104.89993286132812, 106.3707046508789, 107.86771392822266, 108.35408020019531, 108.07257843017578, 107.52040100097656, 107.9402084350586, 107.60057067871094, 106.99336242675781, 106.88108825683594, 106.10626220703125, 106.23405456542969, 105.61788177490234, 108.189697265625, 106.16062927246094, 84.58519744873047, 51.37187957763672, 15.449409484863281, 9.77874755859375, 7.035699844360352, 5.469900131225586, 4.83513069152832, 4.784223556518555, 5.291660785675049, 5.784872531890869, 6.52893590927124, 5.931022644042969, 5.663088321685791, 5.7045512199401855, 5.84727668762207, 5.001177787780762, 5.491200923919678, 5.966660499572754, 5.694116592407227, 6.2218852043151855, 5.906369686126709, 6.018869400024414, 5.9897565841674805, 5.645413875579834, 5.725444316864014, 6.384233474731445, 6.290485858917236, 6.1680426597595215, 6.6167216300964355, 6.842423915863037, 6.751533031463623, 5.911769390106201, 5.588536739349365, 5.558205604553223, 5.640506267547607, 5.817784309387207, 5.828737735748291, 5.957363605499268, 6.333072185516357, 5.84927225112915, 5.541854381561279, 5.035284519195557, 4.6958327293396, 4.645265102386475, 4.473600387573242, 4.23086404800415, 4.317484378814697, 4.307925701141357, 4.4613566398620605, 4.8474273681640625, 4.9926252365112305, 5.154428958892822, 4.606936454772949, 4.131675720214844, 4.18510103225708, 4.449328422546387, 4.072465419769287, 3.996216297149658, 3.601276397705078, 3.6553215980529785, 3.841848611831665, 3.9579169750213623, 3.7824344635009766, 3.7363884449005127, 3.940556764602661, 3.756131887435913, 3.6250884532928467, 3.7474899291992188, 3.6096746921539307, 3.489187240600586, 3.5683794021606445, 3.6610844135284424, 3.872957468032837, 3.599571704864502, 3.4082162380218506, 3.3687734603881836, 3.3582375049591064, 3.479809522628784, 3.617659568786621, 3.733017683029175, 3.723640203475952, 3.6514670848846436, 3.598874568939209, 3.690153121948242, 3.879206657409668, 3.815253496170044, 3.45719051361084, 3.4302241802215576, 3.622326612472534, 3.692556381225586, 3.7093398571014404, 3.7772436141967773, 3.8435187339782715, 3.8204097747802734, 3.6383354663848877, 3.592108964920044, 3.6931724548339844, 3.7140698432922363, 3.8165645599365234, 3.775653123855591, 3.6219353675842285, 3.599137783050537, 3.6663882732391357, 3.834599494934082, 3.9571659564971924, 4.062229633331299, 3.783080816268921, 3.820007801055908, 3.7500007152557373, 4.04459285736084, 3.926555633544922, 3.933148145675659, 3.8736605644226074, 3.718614339828491, 3.7175350189208984, 3.801058769226074, 3.798105001449585, 3.4136641025543213, 3.4354734420776367, 3.5548062324523926, 3.489159345626831, 3.383025646209717, 3.4583168029785156, 3.5688416957855225, 3.6735403537750244, 3.6964268684387207, 3.23618483543396, 2.986515998840332, 3.0345818996429443, 3.255540132522583, 3.104661226272583, 3.226459503173828, 2.9565484523773193, 2.9679172039031982, 3.0621516704559326, 3.3050637245178223, 3.2874059677124023, 3.3494298458099365, 3.4696624279022217, 3.2304821014404297, 2.815781831741333, 3.056088924407959, 3.302150249481201, 3.446042537689209, 3.414299726486206, 3.3846683502197266, 3.3719100952148438, 3.5893325805664062, 3.705993175506592, 4.033470153808594, 3.6087868213653564, 2.793585777282715, 2.6135435104370117, 2.402916431427002, 1.8147282600402832, 1.6179763078689575, 1.581899642944336, 2.4707682132720947, 2.843003273010254, 2.3400774002075195, 2.482818126678467, 2.2135324478149414, 1.982016682624817, 2.1721794605255127, 1.8653212785720825, 2.160977840423584, 2.132272481918335, 1.929166555404663, 1.7162249088287354, 1.1553692817687988, 0.9655148983001709, 0.9832010269165039, 0.9039162993431091, 0.7467048764228821, 0.6343105435371399, 0.5315641760826111, 0.5465600490570068, 0.6343574523925781, 0.605038046836853, 0.5910292267799377, 0.8780287504196167, 0.3709424138069153, 0.5939540863037109, 0.9964150786399841, 1.3431708812713623, 1.4276930093765259, 1.3692655563354492, 1.211439847946167, 1.363817572593689, 1.1403065919876099, 1.185936450958252, 0.8886416554450989, 0.7663798332214355, 0.7027472853660583, 0.558735191822052, 0.5023780465126038, 0.6221180558204651, 0.5999018549919128, 0.6143168210983276, 0.6821874976158142, 0.8162864446640015, 1.283766746520996, 1.4793834686279297, 1.4333405494689941, 1.5874277353286743, 1.6293238401412964, 1.567715048789978, 1.8133617639541626, 1.8947117328643799, 1.8356218338012695, 1.7052723169326782, 1.96593177318573, 2.1253395080566406, 2.01594614982605, 2.024871587753296, 2.13482928276062, 2.1157188415527344, 2.2912466526031494, 2.37716007232666, 2.3276469707489014, 2.3018293380737305, 2.298044204711914, 2.174513578414917, 2.0033648014068604, 1.9979768991470337, 2.043469190597534, 2.083841323852539, 2.2818667888641357, 2.4936788082122803, 2.4820444583892822, 2.395798683166504, 2.50177001953125, 2.6330389976501465, 2.3207714557647705, 2.2386255264282227, 2.2953689098358154, 2.523939609527588, 2.4820663928985596, 2.514270782470703, 2.9923720359802246, 3.032270908355713, 2.8897500038146973, 2.957887649536133, 3.2850093841552734, 3.2164647579193115, 3.4425950050354004, 3.5860018730163574, 3.800976276397705, 4.297160625457764, 7.530426502227783, 38.41013717651367, 70.39810943603516, 81.30785369873047, 107.64188385009766, 118.99703216552734, 118.86717224121094, 119.01388549804688, 119.94898986816406, 120.27216339111328, 120.45246124267578, 122.12133026123047, 121.69429016113281, 121.90266418457031, 121.77467346191406, 120.48902893066406, 119.35924530029297, 116.61981964111328, 115.9653549194336, 117.25342559814453], \"marker\": {\"color\": [\"rgba(0.3549019607843137, 0.9741386021045101, 0.7829276104921028, 1.0)\", \"rgba(0.3549019607843137, 0.9741386021045101, 0.7829276104921028, 1.0)\", \"rgba(0.3549019607843137, 0.9741386021045101, 0.7829276104921028, 1.0)\", \"rgba(0.3549019607843137, 0.9741386021045101, 0.7829276104921028, 1.0)\", \"rgba(0.3549019607843137, 0.9741386021045101, 0.7829276104921028, 1.0)\", \"rgba(0.3549019607843137, 0.9741386021045101, 0.7829276104921028, 1.0)\", \"rgba(0.3549019607843137, 0.9741386021045101, 0.7829276104921028, 1.0)\", \"rgba(0.3549019607843137, 0.9741386021045101, 0.7829276104921028, 1.0)\", \"rgba(0.3549019607843137, 0.9741386021045101, 0.7829276104921028, 1.0)\", \"rgba(0.3549019607843137, 0.9741386021045101, 0.7829276104921028, 1.0)\", \"rgba(0.3549019607843137, 0.9741386021045101, 0.7829276104921028, 1.0)\", \"rgba(0.3549019607843137, 0.9741386021045101, 0.7829276104921028, 1.0)\", \"rgba(0.3549019607843137, 0.9741386021045101, 0.7829276104921028, 1.0)\", \"rgba(0.3549019607843137, 0.9741386021045101, 0.7829276104921028, 1.0)\", \"rgba(0.3549019607843137, 0.9741386021045101, 0.7829276104921028, 1.0)\", \"rgba(0.3549019607843137, 0.9741386021045101, 0.7829276104921028, 1.0)\", \"rgba(0.3549019607843137, 0.9741386021045101, 0.7829276104921028, 1.0)\", \"rgba(0.3549019607843137, 0.9741386021045101, 0.7829276104921028, 1.0)\", \"rgba(0.3549019607843137, 0.9741386021045101, 0.7829276104921028, 1.0)\", \"rgba(0.3549019607843137, 0.9741386021045101, 0.7829276104921028, 1.0)\", \"rgba(0.3549019607843137, 0.9741386021045101, 0.7829276104921028, 1.0)\", \"rgba(0.3549019607843137, 0.9741386021045101, 0.7829276104921028, 1.0)\", \"rgba(0.3549019607843137, 0.9741386021045101, 0.7829276104921028, 1.0)\", \"rgba(0.3549019607843137, 0.9741386021045101, 0.7829276104921028, 1.0)\", \"rgba(0.3549019607843137, 0.9741386021045101, 0.7829276104921028, 1.0)\", \"rgba(0.3549019607843137, 0.9741386021045101, 0.7829276104921028, 1.0)\", \"rgba(0.3549019607843137, 0.9741386021045101, 0.7829276104921028, 1.0)\", \"rgba(188, 188, 188, 1.0)\", \"rgba(188, 188, 188, 1.0)\", \"rgba(188, 188, 188, 1.0)\", \"rgba(188, 188, 188, 1.0)\", \"rgba(188, 188, 188, 1.0)\", \"rgba(188, 188, 188, 1.0)\", \"rgba(0.0725490196078431, 0.7829276104921027, 0.9005867023006374, 1.0)\", \"rgba(0.0725490196078431, 0.7829276104921027, 0.9005867023006374, 1.0)\", \"rgba(0.0725490196078431, 0.7829276104921027, 0.9005867023006374, 1.0)\", \"rgba(0.0725490196078431, 0.7829276104921027, 0.9005867023006374, 1.0)\", \"rgba(0.0725490196078431, 0.7829276104921027, 0.9005867023006374, 1.0)\", \"rgba(0.0725490196078431, 0.7829276104921027, 0.9005867023006374, 1.0)\", \"rgba(0.0725490196078431, 0.7829276104921027, 0.9005867023006374, 1.0)\", \"rgba(0.0725490196078431, 0.7829276104921027, 0.9005867023006374, 1.0)\", \"rgba(0.0725490196078431, 0.7829276104921027, 0.9005867023006374, 1.0)\", \"rgba(0.0725490196078431, 0.7829276104921027, 0.9005867023006374, 1.0)\", \"rgba(0.0725490196078431, 0.7829276104921027, 0.9005867023006374, 1.0)\", \"rgba(188, 188, 188, 1.0)\", \"rgba(188, 188, 188, 1.0)\", \"rgba(188, 188, 188, 1.0)\", \"rgba(188, 188, 188, 1.0)\", \"rgba(188, 188, 188, 1.0)\", \"rgba(188, 188, 188, 1.0)\", \"rgba(0.21764705882352942, 0.42912060877260894, 0.9755119679804366, 1.0)\", \"rgba(0.21764705882352942, 0.42912060877260894, 0.9755119679804366, 1.0)\", \"rgba(0.21764705882352942, 0.42912060877260894, 0.9755119679804366, 1.0)\", \"rgba(0.21764705882352942, 0.42912060877260894, 0.9755119679804366, 1.0)\", \"rgba(0.21764705882352942, 0.42912060877260894, 0.9755119679804366, 1.0)\", \"rgba(0.21764705882352942, 0.42912060877260894, 0.9755119679804366, 1.0)\", \"rgba(0.21764705882352942, 0.42912060877260894, 0.9755119679804366, 1.0)\", \"rgba(0.21764705882352942, 0.42912060877260894, 0.9755119679804366, 1.0)\", \"rgba(0.21764705882352942, 0.42912060877260894, 0.9755119679804366, 1.0)\", \"rgba(0.21764705882352942, 0.42912060877260894, 0.9755119679804366, 1.0)\", \"rgba(0.21764705882352942, 0.42912060877260894, 0.9755119679804366, 1.0)\", \"rgba(0.21764705882352942, 0.42912060877260894, 0.9755119679804366, 1.0)\", \"rgba(0.21764705882352942, 0.42912060877260894, 0.9755119679804366, 1.0)\", \"rgba(0.21764705882352942, 0.42912060877260894, 0.9755119679804366, 1.0)\", \"rgba(0.21764705882352942, 0.42912060877260894, 0.9755119679804366, 1.0)\", \"rgba(0.21764705882352942, 0.42912060877260894, 0.9755119679804366, 1.0)\", \"rgba(0.21764705882352942, 0.42912060877260894, 0.9755119679804366, 1.0)\", \"rgba(0.21764705882352942, 0.42912060877260894, 0.9755119679804366, 1.0)\", \"rgba(0.21764705882352942, 0.42912060877260894, 0.9755119679804366, 1.0)\", \"rgba(0.21764705882352942, 0.42912060877260894, 0.9755119679804366, 1.0)\", \"rgba(0.21764705882352942, 0.42912060877260894, 0.9755119679804366, 1.0)\", \"rgba(0.21764705882352942, 0.42912060877260894, 0.9755119679804366, 1.0)\", \"rgba(0.21764705882352942, 0.42912060877260894, 0.9755119679804366, 1.0)\", \"rgba(0.21764705882352942, 0.42912060877260894, 0.9755119679804366, 1.0)\", \"rgba(0.21764705882352942, 0.42912060877260894, 0.9755119679804366, 1.0)\", \"rgba(0.21764705882352942, 0.42912060877260894, 0.9755119679804366, 1.0)\", \"rgba(0.21764705882352942, 0.42912060877260894, 0.9755119679804366, 1.0)\", \"rgba(0.21764705882352942, 0.42912060877260894, 0.9755119679804366, 1.0)\", \"rgba(0.21764705882352942, 0.42912060877260894, 0.9755119679804366, 1.0)\", \"rgba(0.21764705882352942, 0.42912060877260894, 0.9755119679804366, 1.0)\", \"rgba(0.21764705882352942, 0.42912060877260894, 0.9755119679804366, 1.0)\", \"rgba(0.21764705882352942, 0.42912060877260894, 0.9755119679804366, 1.0)\", \"rgba(0.21764705882352942, 0.42912060877260894, 0.9755119679804366, 1.0)\", \"rgba(0.21764705882352942, 0.42912060877260894, 0.9755119679804366, 1.0)\", \"rgba(0.21764705882352942, 0.42912060877260894, 0.9755119679804366, 1.0)\", \"rgba(0.21764705882352942, 0.42912060877260894, 0.9755119679804366, 1.0)\", \"rgba(0.21764705882352942, 0.42912060877260894, 0.9755119679804366, 1.0)\", \"rgba(0.21764705882352942, 0.42912060877260894, 0.9755119679804366, 1.0)\", \"rgba(0.21764705882352942, 0.42912060877260894, 0.9755119679804366, 1.0)\", \"rgba(0.21764705882352942, 0.42912060877260894, 0.9755119679804366, 1.0)\", \"rgba(0.21764705882352942, 0.42912060877260894, 0.9755119679804366, 1.0)\", \"rgba(0.21764705882352942, 0.42912060877260894, 0.9755119679804366, 1.0)\", \"rgba(0.21764705882352942, 0.42912060877260894, 0.9755119679804366, 1.0)\", \"rgba(0.21764705882352942, 0.42912060877260894, 0.9755119679804366, 1.0)\", \"rgba(0.21764705882352942, 0.42912060877260894, 0.9755119679804366, 1.0)\", \"rgba(0.21764705882352942, 0.42912060877260894, 0.9755119679804366, 1.0)\", \"rgba(0.21764705882352942, 0.42912060877260894, 0.9755119679804366, 1.0)\", \"rgba(0.21764705882352942, 0.42912060877260894, 0.9755119679804366, 1.0)\", \"rgba(0.21764705882352942, 0.42912060877260894, 0.9755119679804366, 1.0)\", \"rgba(0.21764705882352942, 0.42912060877260894, 0.9755119679804366, 1.0)\", \"rgba(0.21764705882352942, 0.42912060877260894, 0.9755119679804366, 1.0)\", \"rgba(0.21764705882352942, 0.42912060877260894, 0.9755119679804366, 1.0)\", \"rgba(0.21764705882352942, 0.42912060877260894, 0.9755119679804366, 1.0)\", \"rgba(0.21764705882352942, 0.42912060877260894, 0.9755119679804366, 1.0)\", \"rgba(0.21764705882352942, 0.42912060877260894, 0.9755119679804366, 1.0)\", \"rgba(0.21764705882352942, 0.42912060877260894, 0.9755119679804366, 1.0)\", \"rgba(0.21764705882352942, 0.42912060877260894, 0.9755119679804366, 1.0)\", \"rgba(0.21764705882352942, 0.42912060877260894, 0.9755119679804366, 1.0)\", \"rgba(0.21764705882352942, 0.42912060877260894, 0.9755119679804366, 1.0)\", \"rgba(0.21764705882352942, 0.42912060877260894, 0.9755119679804366, 1.0)\", \"rgba(0.21764705882352942, 0.42912060877260894, 0.9755119679804366, 1.0)\", \"rgba(0.21764705882352942, 0.42912060877260894, 0.9755119679804366, 1.0)\", \"rgba(0.21764705882352942, 0.42912060877260894, 0.9755119679804366, 1.0)\", \"rgba(0.21764705882352942, 0.42912060877260894, 0.9755119679804366, 1.0)\", \"rgba(0.21764705882352942, 0.42912060877260894, 0.9755119679804366, 1.0)\", \"rgba(0.21764705882352942, 0.42912060877260894, 0.9755119679804366, 1.0)\", \"rgba(0.21764705882352942, 0.42912060877260894, 0.9755119679804366, 1.0)\", \"rgba(0.21764705882352942, 0.42912060877260894, 0.9755119679804366, 1.0)\", \"rgba(0.21764705882352942, 0.42912060877260894, 0.9755119679804366, 1.0)\", \"rgba(0.21764705882352942, 0.42912060877260894, 0.9755119679804366, 1.0)\", \"rgba(0.21764705882352942, 0.42912060877260894, 0.9755119679804366, 1.0)\", \"rgba(0.21764705882352942, 0.42912060877260894, 0.9755119679804366, 1.0)\", \"rgba(0.21764705882352942, 0.42912060877260894, 0.9755119679804366, 1.0)\", \"rgba(0.21764705882352942, 0.42912060877260894, 0.9755119679804366, 1.0)\", \"rgba(0.21764705882352942, 0.42912060877260894, 0.9755119679804366, 1.0)\", \"rgba(0.21764705882352942, 0.42912060877260894, 0.9755119679804366, 1.0)\", \"rgba(0.21764705882352942, 0.42912060877260894, 0.9755119679804366, 1.0)\", \"rgba(0.21764705882352942, 0.42912060877260894, 0.9755119679804366, 1.0)\", \"rgba(0.21764705882352942, 0.42912060877260894, 0.9755119679804366, 1.0)\", \"rgba(0.21764705882352942, 0.42912060877260894, 0.9755119679804366, 1.0)\", \"rgba(0.21764705882352942, 0.42912060877260894, 0.9755119679804366, 1.0)\", \"rgba(0.21764705882352942, 0.42912060877260894, 0.9755119679804366, 1.0)\", \"rgba(0.21764705882352942, 0.42912060877260894, 0.9755119679804366, 1.0)\", \"rgba(0.21764705882352942, 0.42912060877260894, 0.9755119679804366, 1.0)\", \"rgba(0.21764705882352942, 0.42912060877260894, 0.9755119679804366, 1.0)\", \"rgba(0.21764705882352942, 0.42912060877260894, 0.9755119679804366, 1.0)\", \"rgba(0.21764705882352942, 0.42912060877260894, 0.9755119679804366, 1.0)\", \"rgba(0.21764705882352942, 0.42912060877260894, 0.9755119679804366, 1.0)\", \"rgba(0.21764705882352942, 0.42912060877260894, 0.9755119679804366, 1.0)\", \"rgba(0.21764705882352942, 0.42912060877260894, 0.9755119679804366, 1.0)\", \"rgba(0.21764705882352942, 0.42912060877260894, 0.9755119679804366, 1.0)\", \"rgba(0.21764705882352942, 0.42912060877260894, 0.9755119679804366, 1.0)\", \"rgba(0.21764705882352942, 0.42912060877260894, 0.9755119679804366, 1.0)\", \"rgba(0.21764705882352942, 0.42912060877260894, 0.9755119679804366, 1.0)\", \"rgba(0.21764705882352942, 0.42912060877260894, 0.9755119679804366, 1.0)\", \"rgba(0.21764705882352942, 0.42912060877260894, 0.9755119679804366, 1.0)\", \"rgba(0.21764705882352942, 0.42912060877260894, 0.9755119679804366, 1.0)\", \"rgba(0.21764705882352942, 0.42912060877260894, 0.9755119679804366, 1.0)\", \"rgba(0.21764705882352942, 0.42912060877260894, 0.9755119679804366, 1.0)\", \"rgba(0.21764705882352942, 0.42912060877260894, 0.9755119679804366, 1.0)\", \"rgba(0.21764705882352942, 0.42912060877260894, 0.9755119679804366, 1.0)\", \"rgba(0.21764705882352942, 0.42912060877260894, 0.9755119679804366, 1.0)\", \"rgba(0.21764705882352942, 0.42912060877260894, 0.9755119679804366, 1.0)\", \"rgba(0.21764705882352942, 0.42912060877260894, 0.9755119679804366, 1.0)\", \"rgba(0.21764705882352942, 0.42912060877260894, 0.9755119679804366, 1.0)\", \"rgba(0.21764705882352942, 0.42912060877260894, 0.9755119679804366, 1.0)\", \"rgba(0.21764705882352942, 0.42912060877260894, 0.9755119679804366, 1.0)\", \"rgba(0.21764705882352942, 0.42912060877260894, 0.9755119679804366, 1.0)\", \"rgba(0.21764705882352942, 0.42912060877260894, 0.9755119679804366, 1.0)\", \"rgba(0.21764705882352942, 0.42912060877260894, 0.9755119679804366, 1.0)\", \"rgba(0.21764705882352942, 0.42912060877260894, 0.9755119679804366, 1.0)\", \"rgba(0.21764705882352942, 0.42912060877260894, 0.9755119679804366, 1.0)\", \"rgba(0.21764705882352942, 0.42912060877260894, 0.9755119679804366, 1.0)\", \"rgba(0.21764705882352942, 0.42912060877260894, 0.9755119679804366, 1.0)\", \"rgba(0.21764705882352942, 0.42912060877260894, 0.9755119679804366, 1.0)\", \"rgba(0.21764705882352942, 0.42912060877260894, 0.9755119679804366, 1.0)\", \"rgba(0.21764705882352942, 0.42912060877260894, 0.9755119679804366, 1.0)\", \"rgba(0.21764705882352942, 0.42912060877260894, 0.9755119679804366, 1.0)\", \"rgba(0.21764705882352942, 0.42912060877260894, 0.9755119679804366, 1.0)\", \"rgba(0.21764705882352942, 0.42912060877260894, 0.9755119679804366, 1.0)\", \"rgba(0.21764705882352942, 0.42912060877260894, 0.9755119679804366, 1.0)\", \"rgba(0.21764705882352942, 0.42912060877260894, 0.9755119679804366, 1.0)\", \"rgba(0.21764705882352942, 0.42912060877260894, 0.9755119679804366, 1.0)\", \"rgba(0.21764705882352942, 0.42912060877260894, 0.9755119679804366, 1.0)\", \"rgba(0.21764705882352942, 0.42912060877260894, 0.9755119679804366, 1.0)\", \"rgba(0.21764705882352942, 0.42912060877260894, 0.9755119679804366, 1.0)\", \"rgba(0.21764705882352942, 0.42912060877260894, 0.9755119679804366, 1.0)\", \"rgba(0.21764705882352942, 0.42912060877260894, 0.9755119679804366, 1.0)\", \"rgba(0.21764705882352942, 0.42912060877260894, 0.9755119679804366, 1.0)\", \"rgba(0.21764705882352942, 0.42912060877260894, 0.9755119679804366, 1.0)\", \"rgba(0.21764705882352942, 0.42912060877260894, 0.9755119679804366, 1.0)\", \"rgba(0.21764705882352942, 0.42912060877260894, 0.9755119679804366, 1.0)\", \"rgba(0.21764705882352942, 0.42912060877260894, 0.9755119679804366, 1.0)\", \"rgba(0.21764705882352942, 0.42912060877260894, 0.9755119679804366, 1.0)\", \"rgba(0.21764705882352942, 0.42912060877260894, 0.9755119679804366, 1.0)\", \"rgba(0.21764705882352942, 0.42912060877260894, 0.9755119679804366, 1.0)\", \"rgba(0.21764705882352942, 0.42912060877260894, 0.9755119679804366, 1.0)\", \"rgba(0.21764705882352942, 0.42912060877260894, 0.9755119679804366, 1.0)\", \"rgba(0.21764705882352942, 0.42912060877260894, 0.9755119679804366, 1.0)\", \"rgba(0.21764705882352942, 0.42912060877260894, 0.9755119679804366, 1.0)\", \"rgba(0.21764705882352942, 0.42912060877260894, 0.9755119679804366, 1.0)\", \"rgba(0.21764705882352942, 0.42912060877260894, 0.9755119679804366, 1.0)\", \"rgba(0.21764705882352942, 0.42912060877260894, 0.9755119679804366, 1.0)\", \"rgba(0.21764705882352942, 0.42912060877260894, 0.9755119679804366, 1.0)\", \"rgba(0.21764705882352942, 0.42912060877260894, 0.9755119679804366, 1.0)\", \"rgba(0.21764705882352942, 0.42912060877260894, 0.9755119679804366, 1.0)\", \"rgba(0.21764705882352942, 0.42912060877260894, 0.9755119679804366, 1.0)\", \"rgba(0.21764705882352942, 0.42912060877260894, 0.9755119679804366, 1.0)\", \"rgba(0.21764705882352942, 0.42912060877260894, 0.9755119679804366, 1.0)\", \"rgba(0.21764705882352942, 0.42912060877260894, 0.9755119679804366, 1.0)\", \"rgba(0.21764705882352942, 0.42912060877260894, 0.9755119679804366, 1.0)\", \"rgba(0.21764705882352942, 0.42912060877260894, 0.9755119679804366, 1.0)\", \"rgba(0.21764705882352942, 0.42912060877260894, 0.9755119679804366, 1.0)\", \"rgba(0.21764705882352942, 0.42912060877260894, 0.9755119679804366, 1.0)\", \"rgba(0.21764705882352942, 0.42912060877260894, 0.9755119679804366, 1.0)\", \"rgba(0.21764705882352942, 0.42912060877260894, 0.9755119679804366, 1.0)\", \"rgba(0.21764705882352942, 0.42912060877260894, 0.9755119679804366, 1.0)\", \"rgba(0.21764705882352942, 0.42912060877260894, 0.9755119679804366, 1.0)\", \"rgba(0.21764705882352942, 0.42912060877260894, 0.9755119679804366, 1.0)\", \"rgba(0.21764705882352942, 0.42912060877260894, 0.9755119679804366, 1.0)\", \"rgba(0.21764705882352942, 0.42912060877260894, 0.9755119679804366, 1.0)\", \"rgba(0.21764705882352942, 0.42912060877260894, 0.9755119679804366, 1.0)\", \"rgba(0.21764705882352942, 0.42912060877260894, 0.9755119679804366, 1.0)\", \"rgba(0.21764705882352942, 0.42912060877260894, 0.9755119679804366, 1.0)\", \"rgba(0.21764705882352942, 0.42912060877260894, 0.9755119679804366, 1.0)\", \"rgba(0.21764705882352942, 0.42912060877260894, 0.9755119679804366, 1.0)\", \"rgba(0.21764705882352942, 0.42912060877260894, 0.9755119679804366, 1.0)\", \"rgba(0.21764705882352942, 0.42912060877260894, 0.9755119679804366, 1.0)\", \"rgba(0.21764705882352942, 0.42912060877260894, 0.9755119679804366, 1.0)\", \"rgba(0.21764705882352942, 0.42912060877260894, 0.9755119679804366, 1.0)\", \"rgba(0.21764705882352942, 0.42912060877260894, 0.9755119679804366, 1.0)\", \"rgba(0.21764705882352942, 0.42912060877260894, 0.9755119679804366, 1.0)\", \"rgba(0.21764705882352942, 0.42912060877260894, 0.9755119679804366, 1.0)\", \"rgba(0.21764705882352942, 0.42912060877260894, 0.9755119679804366, 1.0)\", \"rgba(0.21764705882352942, 0.42912060877260894, 0.9755119679804366, 1.0)\", \"rgba(0.21764705882352942, 0.42912060877260894, 0.9755119679804366, 1.0)\", \"rgba(0.21764705882352942, 0.42912060877260894, 0.9755119679804366, 1.0)\", \"rgba(0.21764705882352942, 0.42912060877260894, 0.9755119679804366, 1.0)\", \"rgba(0.21764705882352942, 0.42912060877260894, 0.9755119679804366, 1.0)\", \"rgba(0.21764705882352942, 0.42912060877260894, 0.9755119679804366, 1.0)\", \"rgba(0.21764705882352942, 0.42912060877260894, 0.9755119679804366, 1.0)\", \"rgba(0.21764705882352942, 0.42912060877260894, 0.9755119679804366, 1.0)\", \"rgba(0.21764705882352942, 0.42912060877260894, 0.9755119679804366, 1.0)\", \"rgba(0.21764705882352942, 0.42912060877260894, 0.9755119679804366, 1.0)\", \"rgba(0.21764705882352942, 0.42912060877260894, 0.9755119679804366, 1.0)\", \"rgba(0.21764705882352942, 0.42912060877260894, 0.9755119679804366, 1.0)\", \"rgba(0.21764705882352942, 0.42912060877260894, 0.9755119679804366, 1.0)\", \"rgba(0.21764705882352942, 0.42912060877260894, 0.9755119679804366, 1.0)\", \"rgba(0.21764705882352942, 0.42912060877260894, 0.9755119679804366, 1.0)\", \"rgba(0.21764705882352942, 0.42912060877260894, 0.9755119679804366, 1.0)\", \"rgba(0.21764705882352942, 0.42912060877260894, 0.9755119679804366, 1.0)\", \"rgba(0.21764705882352942, 0.42912060877260894, 0.9755119679804366, 1.0)\", \"rgba(0.21764705882352942, 0.42912060877260894, 0.9755119679804366, 1.0)\", \"rgba(0.21764705882352942, 0.42912060877260894, 0.9755119679804366, 1.0)\", \"rgba(0.21764705882352942, 0.42912060877260894, 0.9755119679804366, 1.0)\", \"rgba(0.21764705882352942, 0.42912060877260894, 0.9755119679804366, 1.0)\", \"rgba(0.21764705882352942, 0.42912060877260894, 0.9755119679804366, 1.0)\", \"rgba(0.21764705882352942, 0.42912060877260894, 0.9755119679804366, 1.0)\", \"rgba(0.21764705882352942, 0.42912060877260894, 0.9755119679804366, 1.0)\", \"rgba(0.21764705882352942, 0.42912060877260894, 0.9755119679804366, 1.0)\", \"rgba(0.21764705882352942, 0.42912060877260894, 0.9755119679804366, 1.0)\", \"rgba(0.21764705882352942, 0.42912060877260894, 0.9755119679804366, 1.0)\", \"rgba(0.21764705882352942, 0.42912060877260894, 0.9755119679804366, 1.0)\", \"rgba(0.21764705882352942, 0.42912060877260894, 0.9755119679804366, 1.0)\", \"rgba(0.21764705882352942, 0.42912060877260894, 0.9755119679804366, 1.0)\", \"rgba(0.21764705882352942, 0.42912060877260894, 0.9755119679804366, 1.0)\", \"rgba(0.21764705882352942, 0.42912060877260894, 0.9755119679804366, 1.0)\", \"rgba(0.21764705882352942, 0.42912060877260894, 0.9755119679804366, 1.0)\", \"rgba(0.21764705882352942, 0.42912060877260894, 0.9755119679804366, 1.0)\", \"rgba(0.21764705882352942, 0.42912060877260894, 0.9755119679804366, 1.0)\", \"rgba(0.21764705882352942, 0.42912060877260894, 0.9755119679804366, 1.0)\", \"rgba(0.21764705882352942, 0.42912060877260894, 0.9755119679804366, 1.0)\", \"rgba(0.21764705882352942, 0.42912060877260894, 0.9755119679804366, 1.0)\", \"rgba(0.21764705882352942, 0.42912060877260894, 0.9755119679804366, 1.0)\", \"rgba(0.21764705882352942, 0.42912060877260894, 0.9755119679804366, 1.0)\", \"rgba(0.21764705882352942, 0.42912060877260894, 0.9755119679804366, 1.0)\", \"rgba(0.21764705882352942, 0.42912060877260894, 0.9755119679804366, 1.0)\", \"rgba(0.21764705882352942, 0.42912060877260894, 0.9755119679804366, 1.0)\", \"rgba(0.21764705882352942, 0.42912060877260894, 0.9755119679804366, 1.0)\", \"rgba(0.21764705882352942, 0.42912060877260894, 0.9755119679804366, 1.0)\", \"rgba(0.21764705882352942, 0.42912060877260894, 0.9755119679804366, 1.0)\", \"rgba(0.21764705882352942, 0.42912060877260894, 0.9755119679804366, 1.0)\", \"rgba(0.21764705882352942, 0.42912060877260894, 0.9755119679804366, 1.0)\", \"rgba(0.21764705882352942, 0.42912060877260894, 0.9755119679804366, 1.0)\", \"rgba(0.21764705882352942, 0.42912060877260894, 0.9755119679804366, 1.0)\", \"rgba(0.21764705882352942, 0.42912060877260894, 0.9755119679804366, 1.0)\", \"rgba(0.21764705882352942, 0.42912060877260894, 0.9755119679804366, 1.0)\", \"rgba(0.21764705882352942, 0.42912060877260894, 0.9755119679804366, 1.0)\", \"rgba(0.21764705882352942, 0.42912060877260894, 0.9755119679804366, 1.0)\", \"rgba(0.21764705882352942, 0.42912060877260894, 0.9755119679804366, 1.0)\", \"rgba(0.21764705882352942, 0.42912060877260894, 0.9755119679804366, 1.0)\", \"rgba(0.21764705882352942, 0.42912060877260894, 0.9755119679804366, 1.0)\", \"rgba(0.21764705882352942, 0.42912060877260894, 0.9755119679804366, 1.0)\", \"rgba(0.21764705882352942, 0.42912060877260894, 0.9755119679804366, 1.0)\", \"rgba(0.21764705882352942, 0.42912060877260894, 0.9755119679804366, 1.0)\", \"rgba(0.21764705882352942, 0.42912060877260894, 0.9755119679804366, 1.0)\", \"rgba(0.21764705882352942, 0.42912060877260894, 0.9755119679804366, 1.0)\", \"rgba(0.21764705882352942, 0.42912060877260894, 0.9755119679804366, 1.0)\", \"rgba(0.21764705882352942, 0.42912060877260894, 0.9755119679804366, 1.0)\", \"rgba(0.21764705882352942, 0.42912060877260894, 0.9755119679804366, 1.0)\", \"rgba(0.21764705882352942, 0.42912060877260894, 0.9755119679804366, 1.0)\", \"rgba(0.21764705882352942, 0.42912060877260894, 0.9755119679804366, 1.0)\", \"rgba(0.21764705882352942, 0.42912060877260894, 0.9755119679804366, 1.0)\", \"rgba(0.21764705882352942, 0.42912060877260894, 0.9755119679804366, 1.0)\", \"rgba(188, 188, 188, 1.0)\", \"rgba(188, 188, 188, 1.0)\", \"rgba(188, 188, 188, 1.0)\", \"rgba(188, 188, 188, 1.0)\", \"rgba(188, 188, 188, 1.0)\", \"rgba(188, 188, 188, 1.0)\", \"rgba(1.0, 0.4291206087726091, 0.2199463578396687, 1.0)\", \"rgba(1.0, 0.4291206087726091, 0.2199463578396687, 1.0)\", \"rgba(1.0, 0.4291206087726091, 0.2199463578396687, 1.0)\", \"rgba(0.6450980392156862, 0.9741386021045102, 0.622112816721474, 1.0)\", \"rgba(0.6450980392156862, 0.9741386021045102, 0.622112816721474, 1.0)\", \"rgba(0.6450980392156862, 0.9741386021045102, 0.622112816721474, 1.0)\", \"rgba(0.6450980392156862, 0.9741386021045102, 0.622112816721474, 1.0)\", \"rgba(0.6450980392156862, 0.9741386021045102, 0.622112816721474, 1.0)\", \"rgba(0.6450980392156862, 0.9741386021045102, 0.622112816721474, 1.0)\", \"rgba(0.6450980392156862, 0.9741386021045102, 0.622112816721474, 1.0)\", \"rgba(0.6450980392156862, 0.9741386021045102, 0.622112816721474, 1.0)\", \"rgba(0.6450980392156862, 0.9741386021045102, 0.622112816721474, 1.0)\", \"rgba(0.6450980392156862, 0.9741386021045102, 0.622112816721474, 1.0)\", \"rgba(0.6450980392156862, 0.9741386021045102, 0.622112816721474, 1.0)\", \"rgba(0.6450980392156862, 0.9741386021045102, 0.622112816721474, 1.0)\", \"rgba(0.6450980392156862, 0.9741386021045102, 0.622112816721474, 1.0)\", \"rgba(0.6450980392156862, 0.9741386021045102, 0.622112816721474, 1.0)\"], \"size\": 5}, \"text\": [\"Indian Telugu\", \"Indian Telugu\", \"Indian Telugu\", \"Indian Telugu\", \"Indian Telugu\", \"Indian Telugu\", \"Indian Telugu\", \"Indian Telugu\", \"Indian Telugu\", \"Indian Telugu\", \"Indian Telugu\", \"Indian Telugu\", \"Indian Telugu\", \"Indian Telugu\", \"Indian Telugu\", \"Indian Telugu\", \"Indian Telugu\", \"Indian Telugu\", \"Indian Telugu\", \"Indian Telugu\", \"Indian Telugu\", \"Indian Telugu\", \"Indian Telugu\", \"Indian Telugu\", \"Indian Telugu\", \"Indian Telugu\", \"Indian Telugu\", \"UNK\", \"UNK\", \"UNK\", \"UNK\", \"UNK\", \"UNK\", \"Dai Chinese\", \"Dai Chinese\", \"Dai Chinese\", \"Dai Chinese\", \"Dai Chinese\", \"Dai Chinese\", \"Dai Chinese\", \"Dai Chinese\", \"Dai Chinese\", \"Dai Chinese\", \"Dai Chinese\", \"UNK\", \"UNK\", \"UNK\", \"UNK\", \"UNK\", \"UNK\", \"Basque\", \"Basque\", \"Basque\", \"Basque\", \"Basque\", \"Basque\", \"Basque\", \"Basque\", \"Basque\", \"Basque\", \"Basque\", \"Basque\", \"Basque\", \"Basque\", \"Basque\", \"Basque\", \"Basque\", \"Basque\", \"Basque\", \"Basque\", \"Basque\", \"Basque\", \"Basque\", \"Basque\", \"Basque\", \"Basque\", \"Basque\", \"Basque\", \"Basque\", \"Basque\", \"Basque\", \"Basque\", \"Basque\", \"Basque\", \"Basque\", \"Basque\", \"Basque\", \"Basque\", \"Basque\", \"Basque\", \"Basque\", \"Basque\", \"Basque\", \"Basque\", \"Basque\", \"Basque\", \"Basque\", \"Basque\", \"Basque\", \"Basque\", \"Basque\", \"Basque\", \"Basque\", \"Basque\", \"Basque\", \"Basque\", \"Basque\", \"Basque\", \"Basque\", \"Basque\", \"Basque\", \"Basque\", \"Basque\", \"Basque\", \"Basque\", \"Basque\", \"Basque\", \"Basque\", \"Basque\", \"Basque\", \"Basque\", \"Basque\", \"Basque\", \"Basque\", \"Basque\", \"Basque\", \"Basque\", \"Basque\", \"Basque\", \"Basque\", \"Basque\", \"Basque\", \"Basque\", \"Basque\", \"Basque\", \"Basque\", \"Basque\", \"Basque\", \"Basque\", \"Basque\", \"Basque\", \"Basque\", \"Basque\", \"Basque\", \"Basque\", \"Basque\", \"Basque\", \"Basque\", \"Basque\", \"Basque\", \"Basque\", \"Basque\", \"Basque\", \"Basque\", \"Basque\", \"Basque\", \"Basque\", \"Basque\", \"Basque\", \"Basque\", \"Basque\", \"Basque\", \"Basque\", \"Basque\", \"Basque\", \"Basque\", \"Basque\", \"Basque\", \"Basque\", \"Basque\", \"Basque\", \"Basque\", \"Basque\", \"Basque\", \"Basque\", \"Basque\", \"Basque\", \"Basque\", \"Basque\", \"Basque\", \"Basque\", \"Basque\", \"Basque\", \"Basque\", \"Basque\", \"Basque\", \"Basque\", \"Basque\", \"Basque\", \"Basque\", \"Basque\", \"Basque\", \"Basque\", \"Basque\", \"Basque\", \"Basque\", \"Basque\", \"Basque\", \"Basque\", \"Basque\", \"Basque\", \"Basque\", \"Basque\", \"Basque\", \"Basque\", \"Basque\", \"Basque\", \"Basque\", \"Basque\", \"Basque\", \"Basque\", \"Basque\", \"Basque\", \"Basque\", \"Basque\", \"Basque\", \"Basque\", \"Basque\", \"Basque\", \"Basque\", \"Basque\", \"Basque\", \"Basque\", \"Basque\", \"Basque\", \"Basque\", \"Basque\", \"Basque\", \"Basque\", \"Basque\", \"Basque\", \"Basque\", \"Basque\", \"Basque\", \"Basque\", \"Basque\", \"Basque\", \"Basque\", \"Basque\", \"Basque\", \"Basque\", \"Basque\", \"Basque\", \"Basque\", \"Basque\", \"Basque\", \"Basque\", \"Basque\", \"Basque\", \"Basque\", \"Basque\", \"Basque\", \"Basque\", \"Basque\", \"Basque\", \"Basque\", \"Basque\", \"Basque\", \"Basque\", \"Basque\", \"Basque\", \"Basque\", \"Basque\", \"Basque\", \"Basque\", \"Basque\", \"Basque\", \"Basque\", \"Basque\", \"Basque\", \"Basque\", \"Basque\", \"Basque\", \"Basque\", \"Basque\", \"Basque\", \"Basque\", \"Basque\", \"Basque\", \"Basque\", \"Basque\", \"Basque\", \"Basque\", \"Basque\", \"Basque\", \"Basque\", \"Basque\", \"Basque\", \"Basque\", \"Basque\", \"Basque\", \"Basque\", \"Basque\", \"Basque\", \"UNK\", \"UNK\", \"UNK\", \"UNK\", \"UNK\", \"UNK\", \"Yakut\", \"Yakut\", \"Yakut\", \"Southern Han Chinese\", \"Southern Han Chinese\", \"Southern Han Chinese\", \"Southern Han Chinese\", \"Southern Han Chinese\", \"Southern Han Chinese\", \"Southern Han Chinese\", \"Southern Han Chinese\", \"Southern Han Chinese\", \"Southern Han Chinese\", \"Southern Han Chinese\", \"Southern Han Chinese\", \"Southern Han Chinese\", \"Southern Han Chinese\"], \"type\": \"scattergeo\"}, {\"lat\": [16.5, 16.5, 16.5, 16.5, 16.5, 16.5, 16.5, 16.5, 16.5, 16.5, 16.5, 16.5, 16.5, 16.5, 16.5, 16.5, 16.5, 16.5, 16.5, 16.5, 16.5, 16.5, 16.5, 16.5, 16.5, 16.5, 16.5, 16.5, 16.5, 16.5, 16.5, 16.5, 22.000301999999998, 22.000301999999998, 22.000301999999998, 22.000301999999998, 22.000301999999998, 22.000301999999998, 22.000301999999998, 22.000301999999998, 22.000301999999998, 22.000301999999998, 22.000301999999998, 22.000301999999998, 22.000301999999998, 22.000301999999998, 22.000301999999998, 22.000301999999998, 22.000301999999998, 22.000301999999998, 43.00000000000001, 43.00000000000001, 43.00000000000001, 43.00000000000001, 43.00000000000001, 43.00000000000001, 43.00000000000001, 43.00000000000001, 43.00000000000001, 43.00000000000001, 43.00000000000001, 43.00000000000001, 43.00000000000001, 43.00000000000001, 43.00000000000001, 43.00000000000001, 43.00000000000001, 43.00000000000001, 43.00000000000001, 43.00000000000001, 43.00000000000001, 43.00000000000001, 43.00000000000001, 43.00000000000001, 43.00000000000001, 43.00000000000001, 43.00000000000001, 43.00000000000001, 43.00000000000001, 43.00000000000001, 43.00000000000001, 43.00000000000001, 43.00000000000001, 43.00000000000001, 43.00000000000001, 43.00000000000001, 43.00000000000001, 43.00000000000001, 43.00000000000001, 43.00000000000001, 43.00000000000001, 43.00000000000001, 43.00000000000001, 43.00000000000001, 43.00000000000001, 43.00000000000001, 43.00000000000001, 43.00000000000001, 43.00000000000001, 43.00000000000001, 43.00000000000001, 43.00000000000001, 43.00000000000001, 43.00000000000001, 43.00000000000001, 43.00000000000001, 43.00000000000001, 43.00000000000001, 43.00000000000001, 43.00000000000001, 43.00000000000001, 43.00000000000001, 43.00000000000001, 43.00000000000001, 43.00000000000001, 43.00000000000001, 43.00000000000001, 43.00000000000001, 43.00000000000001, 43.00000000000001, 43.00000000000001, 43.00000000000001, 43.00000000000001, 43.00000000000001, 43.00000000000001, 43.00000000000001, 43.00000000000001, 43.00000000000001, 43.00000000000001, 43.00000000000001, 43.00000000000001, 43.00000000000001, 43.00000000000001, 43.00000000000001, 43.00000000000001, 43.00000000000001, 43.00000000000001, 43.00000000000001, 43.00000000000001, 43.00000000000001, 43.00000000000001, 43.00000000000001, 43.00000000000001, 43.00000000000001, 43.00000000000001, 43.00000000000001, 43.00000000000001, 43.00000000000001, 43.00000000000001, 43.00000000000001, 43.00000000000001, 43.00000000000001, 43.00000000000001, 43.00000000000001, 43.00000000000001, 43.00000000000001, 43.00000000000001, 43.00000000000001, 43.00000000000001, 43.00000000000001, 43.00000000000001, 43.00000000000001, 43.00000000000001, 43.00000000000001, 43.00000000000001, 43.00000000000001, 43.00000000000001, 43.00000000000001, 43.00000000000001, 43.00000000000001, 43.00000000000001, 43.00000000000001, 43.00000000000001, 43.00000000000001, 43.00000000000001, 43.00000000000001, 43.00000000000001, 43.00000000000001, 43.00000000000001, 43.00000000000001, 43.00000000000001, 43.00000000000001, 43.00000000000001, 43.00000000000001, 43.00000000000001, 43.00000000000001, 43.00000000000001, 43.00000000000001, 43.00000000000001, 43.00000000000001, 43.00000000000001, 43.00000000000001, 43.00000000000001, 43.00000000000001, 43.00000000000001, 43.00000000000001, 43.00000000000001, 43.00000000000001, 43.00000000000001, 43.00000000000001, 43.00000000000001, 43.00000000000001, 43.00000000000001, 43.00000000000001, 43.00000000000001, 43.00000000000001, 43.00000000000001, 43.00000000000001, 43.00000000000001, 43.00000000000001, 43.00000000000001, 43.00000000000001, 43.00000000000001, 43.00000000000001, 43.00000000000001, 43.00000000000001, 43.00000000000001, 43.00000000000001, 43.00000000000001, 43.00000000000001, 43.00000000000001, 43.00000000000001, 43.00000000000001, 43.00000000000001, 43.00000000000001, 43.00000000000001, 43.00000000000001, 43.00000000000001, 43.00000000000001, 43.00000000000001, 43.00000000000001, 43.00000000000001, 43.00000000000001, 43.00000000000001, 43.00000000000001, 43.00000000000001, 43.00000000000001, 43.00000000000001, 43.00000000000001, 43.00000000000001, 43.00000000000001, 43.00000000000001, 43.00000000000001, 43.00000000000001, 43.00000000000001, 43.00000000000001, 43.00000000000001, 43.00000000000001, 43.00000000000001, 43.00000000000001, 43.00000000000001, 43.00000000000001, 43.00000000000001, 43.00000000000001, 43.00000000000001, 43.00000000000001, 43.00000000000001, 43.00000000000001, 43.00000000000001, 43.00000000000001, 43.00000000000001, 43.00000000000001, 43.00000000000001, 43.00000000000001, 43.00000000000001, 43.00000000000001, 43.00000000000001, 43.00000000000001, 43.00000000000001, 43.00000000000001, 43.00000000000001, 43.00000000000001, 43.00000000000001, 43.00000000000001, 43.00000000000001, 43.00000000000001, 43.00000000000001, 43.00000000000001, 43.00000000000001, 43.00000000000001, 43.00000000000001, 43.00000000000001, 43.00000000000001, 43.00000000000001, 43.00000000000001, 43.00000000000001, 43.00000000000001, 43.00000000000001, 43.00000000000001, 43.00000000000001, 43.00000000000001, 43.00000000000001, 43.00000000000001, 43.00000000000001, 43.00000000000001, 43.00000000000001, 43.00000000000001, 43.00000000000001, 43.00000000000001, 63.0, 63.0, 63.0, 63.0, 25.9, 25.9, 25.9, 25.9, 25.9, 25.9, 25.9, 25.9, 25.9, 25.9, 25.9, 25.9, 25.9, 25.9], \"lon\": [80.64, 80.64, 80.64, 80.64, 80.64, 80.64, 80.64, 80.64, 80.64, 80.64, 80.64, 80.64, 80.64, 80.64, 80.64, 80.64, 80.64, 80.64, 80.64, 80.64, 80.64, 80.64, 80.64, 80.64, 80.64, 80.64, 80.64, 80.64, 80.64, 80.64, 80.64, 80.64, 100.79837, 100.79837, 100.79837, 100.79837, 100.79837, 100.79837, 100.79837, 100.79837, 100.79837, 100.79837, 100.79837, 100.79837, 100.79837, 100.79837, 100.79837, 100.79837, 100.79837, 100.79837, 0.0, 0.0, 0.0, 0.0, 0.0, 0.0, 0.0, 0.0, 0.0, 0.0, 0.0, 0.0, 0.0, 0.0, 0.0, 0.0, 0.0, 0.0, 0.0, 0.0, 0.0, 0.0, 0.0, 0.0, 0.0, 0.0, 0.0, 0.0, 0.0, 0.0, 0.0, 0.0, 0.0, 0.0, 0.0, 0.0, 0.0, 0.0, 0.0, 0.0, 0.0, 0.0, 0.0, 0.0, 0.0, 0.0, 0.0, 0.0, 0.0, 0.0, 0.0, 0.0, 0.0, 0.0, 0.0, 0.0, 0.0, 0.0, 0.0, 0.0, 0.0, 0.0, 0.0, 0.0, 0.0, 0.0, 0.0, 0.0, 0.0, 0.0, 0.0, 0.0, 0.0, 0.0, 0.0, 0.0, 0.0, 0.0, 0.0, 0.0, 0.0, 0.0, 0.0, 0.0, 0.0, 0.0, 0.0, 0.0, 0.0, 0.0, 0.0, 0.0, 0.0, 0.0, 0.0, 0.0, 0.0, 0.0, 0.0, 0.0, 0.0, 0.0, 0.0, 0.0, 0.0, 0.0, 0.0, 0.0, 0.0, 0.0, 0.0, 0.0, 0.0, 0.0, 0.0, 0.0, 0.0, 0.0, 0.0, 0.0, 0.0, 0.0, 0.0, 0.0, 0.0, 0.0, 0.0, 0.0, 0.0, 0.0, 0.0, 0.0, 0.0, 0.0, 0.0, 0.0, 0.0, 0.0, 0.0, 0.0, 0.0, 0.0, 0.0, 0.0, 0.0, 0.0, 0.0, 0.0, 0.0, 0.0, 0.0, 0.0, 0.0, 0.0, 0.0, 0.0, 0.0, 0.0, 0.0, 0.0, 0.0, 0.0, 0.0, 0.0, 0.0, 0.0, 0.0, 0.0, 0.0, 0.0, 0.0, 0.0, 0.0, 0.0, 0.0, 0.0, 0.0, 0.0, 0.0, 0.0, 0.0, 0.0, 0.0, 0.0, 0.0, 0.0, 0.0, 0.0, 0.0, 0.0, 0.0, 0.0, 0.0, 0.0, 0.0, 0.0, 0.0, 0.0, 0.0, 0.0, 0.0, 0.0, 0.0, 0.0, 0.0, 0.0, 0.0, 0.0, 0.0, 0.0, 0.0, 0.0, 0.0, 0.0, 0.0, 0.0, 0.0, 0.0, 0.0, 0.0, 0.0, 0.0, 0.0, 0.0, 0.0, 0.0, 0.0, 0.0, 0.0, 0.0, 0.0, 0.0, 0.0, 0.0, 0.0, 0.0, 0.0, 0.0, 0.0, 0.0, 0.0, 0.0, 0.0, 0.0, 0.0, 0.0, 0.0, 0.0, 0.0, 129.5, 129.5, 129.5, 129.5, 118.3, 118.3, 118.3, 118.3, 118.3, 118.3, 118.3, 118.3, 118.3, 118.3, 118.3, 118.3, 118.3, 118.3], \"marker\": {\"size\": 5, \"symbol\": \"square\"}, \"text\": [\"Indian Telugu\", \"Indian Telugu\", \"Indian Telugu\", \"Indian Telugu\", \"Indian Telugu\", \"Indian Telugu\", \"Indian Telugu\", \"Indian Telugu\", \"Indian Telugu\", \"Indian Telugu\", \"Indian Telugu\", \"Indian Telugu\", \"Indian Telugu\", \"Indian Telugu\", \"Indian Telugu\", \"Indian Telugu\", \"Indian Telugu\", \"Indian Telugu\", \"Indian Telugu\", \"Indian Telugu\", \"Indian Telugu\", \"Indian Telugu\", \"Indian Telugu\", \"Indian Telugu\", \"Indian Telugu\", \"Indian Telugu\", \"Indian Telugu\", \"UNK\", \"UNK\", \"UNK\", \"UNK\", \"UNK\", \"UNK\", \"Dai Chinese\", \"Dai Chinese\", \"Dai Chinese\", \"Dai Chinese\", \"Dai Chinese\", \"Dai Chinese\", \"Dai Chinese\", \"Dai Chinese\", \"Dai Chinese\", \"Dai Chinese\", \"Dai Chinese\", \"UNK\", \"UNK\", \"UNK\", \"UNK\", \"UNK\", \"UNK\", \"Basque\", \"Basque\", \"Basque\", \"Basque\", \"Basque\", \"Basque\", \"Basque\", \"Basque\", \"Basque\", \"Basque\", \"Basque\", \"Basque\", \"Basque\", \"Basque\", \"Basque\", \"Basque\", \"Basque\", \"Basque\", \"Basque\", \"Basque\", \"Basque\", \"Basque\", \"Basque\", \"Basque\", \"Basque\", \"Basque\", \"Basque\", \"Basque\", \"Basque\", \"Basque\", \"Basque\", \"Basque\", \"Basque\", \"Basque\", \"Basque\", \"Basque\", \"Basque\", \"Basque\", \"Basque\", \"Basque\", \"Basque\", \"Basque\", \"Basque\", \"Basque\", \"Basque\", \"Basque\", \"Basque\", \"Basque\", \"Basque\", \"Basque\", \"Basque\", \"Basque\", \"Basque\", \"Basque\", \"Basque\", \"Basque\", \"Basque\", \"Basque\", \"Basque\", \"Basque\", \"Basque\", \"Basque\", \"Basque\", \"Basque\", \"Basque\", \"Basque\", \"Basque\", \"Basque\", \"Basque\", \"Basque\", \"Basque\", \"Basque\", \"Basque\", \"Basque\", \"Basque\", \"Basque\", \"Basque\", \"Basque\", \"Basque\", \"Basque\", \"Basque\", \"Basque\", \"Basque\", \"Basque\", \"Basque\", \"Basque\", \"Basque\", \"Basque\", \"Basque\", \"Basque\", \"Basque\", \"Basque\", \"Basque\", \"Basque\", \"Basque\", \"Basque\", \"Basque\", \"Basque\", \"Basque\", \"Basque\", \"Basque\", \"Basque\", \"Basque\", \"Basque\", \"Basque\", \"Basque\", \"Basque\", \"Basque\", \"Basque\", \"Basque\", \"Basque\", \"Basque\", \"Basque\", \"Basque\", \"Basque\", \"Basque\", \"Basque\", \"Basque\", \"Basque\", \"Basque\", \"Basque\", \"Basque\", \"Basque\", \"Basque\", \"Basque\", \"Basque\", \"Basque\", \"Basque\", \"Basque\", \"Basque\", \"Basque\", \"Basque\", \"Basque\", \"Basque\", \"Basque\", \"Basque\", \"Basque\", \"Basque\", \"Basque\", \"Basque\", \"Basque\", \"Basque\", \"Basque\", \"Basque\", \"Basque\", \"Basque\", \"Basque\", \"Basque\", \"Basque\", \"Basque\", \"Basque\", \"Basque\", \"Basque\", \"Basque\", \"Basque\", \"Basque\", \"Basque\", \"Basque\", \"Basque\", \"Basque\", \"Basque\", \"Basque\", \"Basque\", \"Basque\", \"Basque\", \"Basque\", \"Basque\", \"Basque\", \"Basque\", \"Basque\", \"Basque\", \"Basque\", \"Basque\", \"Basque\", \"Basque\", \"Basque\", \"Basque\", \"Basque\", \"Basque\", \"Basque\", \"Basque\", \"Basque\", \"Basque\", \"Basque\", \"Basque\", \"Basque\", \"Basque\", \"Basque\", \"Basque\", \"Basque\", \"Basque\", \"Basque\", \"Basque\", \"Basque\", \"Basque\", \"Basque\", \"Basque\", \"Basque\", \"Basque\", \"Basque\", \"Basque\", \"Basque\", \"Basque\", \"Basque\", \"Basque\", \"Basque\", \"Basque\", \"Basque\", \"Basque\", \"Basque\", \"Basque\", \"Basque\", \"Basque\", \"Basque\", \"Basque\", \"Basque\", \"Basque\", \"Basque\", \"Basque\", \"Basque\", \"Basque\", \"Basque\", \"Basque\", \"Basque\", \"Basque\", \"Basque\", \"Basque\", \"Basque\", \"Basque\", \"Basque\", \"Basque\", \"Basque\", \"Basque\", \"Basque\", \"Basque\", \"Basque\", \"Basque\", \"Basque\", \"Basque\", \"Basque\", \"Basque\", \"Basque\", \"Basque\", \"Basque\", \"UNK\", \"UNK\", \"UNK\", \"UNK\", \"UNK\", \"UNK\", \"Yakut\", \"Yakut\", \"Yakut\", \"Southern Han Chinese\", \"Southern Han Chinese\", \"Southern Han Chinese\", \"Southern Han Chinese\", \"Southern Han Chinese\", \"Southern Han Chinese\", \"Southern Han Chinese\", \"Southern Han Chinese\", \"Southern Han Chinese\", \"Southern Han Chinese\", \"Southern Han Chinese\", \"Southern Han Chinese\", \"Southern Han Chinese\", \"Southern Han Chinese\"], \"type\": \"scattergeo\"}],                        {\"template\": {\"data\": {\"bar\": [{\"error_x\": {\"color\": \"#2a3f5f\"}, \"error_y\": {\"color\": \"#2a3f5f\"}, \"marker\": {\"line\": {\"color\": \"#E5ECF6\", \"width\": 0.5}}, \"type\": \"bar\"}], \"barpolar\": [{\"marker\": {\"line\": {\"color\": \"#E5ECF6\", \"width\": 0.5}}, \"type\": \"barpolar\"}], \"carpet\": [{\"aaxis\": {\"endlinecolor\": \"#2a3f5f\", \"gridcolor\": \"white\", \"linecolor\": \"white\", \"minorgridcolor\": \"white\", \"startlinecolor\": \"#2a3f5f\"}, \"baxis\": {\"endlinecolor\": \"#2a3f5f\", \"gridcolor\": \"white\", \"linecolor\": \"white\", \"minorgridcolor\": \"white\", \"startlinecolor\": \"#2a3f5f\"}, \"type\": \"carpet\"}], \"choropleth\": [{\"colorbar\": {\"outlinewidth\": 0, \"ticks\": \"\"}, \"type\": \"choropleth\"}], \"contour\": [{\"colorbar\": {\"outlinewidth\": 0, \"ticks\": \"\"}, \"colorscale\": [[0.0, \"#0d0887\"], [0.1111111111111111, \"#46039f\"], [0.2222222222222222, \"#7201a8\"], [0.3333333333333333, \"#9c179e\"], [0.4444444444444444, \"#bd3786\"], [0.5555555555555556, \"#d8576b\"], [0.6666666666666666, \"#ed7953\"], [0.7777777777777778, \"#fb9f3a\"], [0.8888888888888888, \"#fdca26\"], [1.0, \"#f0f921\"]], \"type\": \"contour\"}], \"contourcarpet\": [{\"colorbar\": {\"outlinewidth\": 0, \"ticks\": \"\"}, \"type\": \"contourcarpet\"}], \"heatmap\": [{\"colorbar\": {\"outlinewidth\": 0, \"ticks\": \"\"}, \"colorscale\": [[0.0, \"#0d0887\"], [0.1111111111111111, \"#46039f\"], [0.2222222222222222, \"#7201a8\"], [0.3333333333333333, \"#9c179e\"], [0.4444444444444444, \"#bd3786\"], [0.5555555555555556, \"#d8576b\"], [0.6666666666666666, \"#ed7953\"], [0.7777777777777778, \"#fb9f3a\"], [0.8888888888888888, \"#fdca26\"], [1.0, \"#f0f921\"]], \"type\": \"heatmap\"}], \"heatmapgl\": [{\"colorbar\": {\"outlinewidth\": 0, \"ticks\": \"\"}, \"colorscale\": [[0.0, \"#0d0887\"], [0.1111111111111111, \"#46039f\"], [0.2222222222222222, \"#7201a8\"], [0.3333333333333333, \"#9c179e\"], [0.4444444444444444, \"#bd3786\"], [0.5555555555555556, \"#d8576b\"], [0.6666666666666666, \"#ed7953\"], [0.7777777777777778, \"#fb9f3a\"], [0.8888888888888888, \"#fdca26\"], [1.0, \"#f0f921\"]], \"type\": \"heatmapgl\"}], \"histogram\": [{\"marker\": {\"colorbar\": {\"outlinewidth\": 0, \"ticks\": \"\"}}, \"type\": \"histogram\"}], \"histogram2d\": [{\"colorbar\": {\"outlinewidth\": 0, \"ticks\": \"\"}, \"colorscale\": [[0.0, \"#0d0887\"], [0.1111111111111111, \"#46039f\"], [0.2222222222222222, \"#7201a8\"], [0.3333333333333333, \"#9c179e\"], [0.4444444444444444, \"#bd3786\"], [0.5555555555555556, \"#d8576b\"], [0.6666666666666666, \"#ed7953\"], [0.7777777777777778, \"#fb9f3a\"], [0.8888888888888888, \"#fdca26\"], [1.0, \"#f0f921\"]], \"type\": \"histogram2d\"}], \"histogram2dcontour\": [{\"colorbar\": {\"outlinewidth\": 0, \"ticks\": \"\"}, \"colorscale\": [[0.0, \"#0d0887\"], [0.1111111111111111, \"#46039f\"], [0.2222222222222222, \"#7201a8\"], [0.3333333333333333, \"#9c179e\"], [0.4444444444444444, \"#bd3786\"], [0.5555555555555556, \"#d8576b\"], [0.6666666666666666, \"#ed7953\"], [0.7777777777777778, \"#fb9f3a\"], [0.8888888888888888, \"#fdca26\"], [1.0, \"#f0f921\"]], \"type\": \"histogram2dcontour\"}], \"mesh3d\": [{\"colorbar\": {\"outlinewidth\": 0, \"ticks\": \"\"}, \"type\": \"mesh3d\"}], \"parcoords\": [{\"line\": {\"colorbar\": {\"outlinewidth\": 0, \"ticks\": \"\"}}, \"type\": \"parcoords\"}], \"pie\": [{\"automargin\": true, \"type\": \"pie\"}], \"scatter\": [{\"marker\": {\"colorbar\": {\"outlinewidth\": 0, \"ticks\": \"\"}}, \"type\": \"scatter\"}], \"scatter3d\": [{\"line\": {\"colorbar\": {\"outlinewidth\": 0, \"ticks\": \"\"}}, \"marker\": {\"colorbar\": {\"outlinewidth\": 0, \"ticks\": \"\"}}, \"type\": \"scatter3d\"}], \"scattercarpet\": [{\"marker\": {\"colorbar\": {\"outlinewidth\": 0, \"ticks\": \"\"}}, \"type\": \"scattercarpet\"}], \"scattergeo\": [{\"marker\": {\"colorbar\": {\"outlinewidth\": 0, \"ticks\": \"\"}}, \"type\": \"scattergeo\"}], \"scattergl\": [{\"marker\": {\"colorbar\": {\"outlinewidth\": 0, \"ticks\": \"\"}}, \"type\": \"scattergl\"}], \"scattermapbox\": [{\"marker\": {\"colorbar\": {\"outlinewidth\": 0, \"ticks\": \"\"}}, \"type\": \"scattermapbox\"}], \"scatterpolar\": [{\"marker\": {\"colorbar\": {\"outlinewidth\": 0, \"ticks\": \"\"}}, \"type\": \"scatterpolar\"}], \"scatterpolargl\": [{\"marker\": {\"colorbar\": {\"outlinewidth\": 0, \"ticks\": \"\"}}, \"type\": \"scatterpolargl\"}], \"scatterternary\": [{\"marker\": {\"colorbar\": {\"outlinewidth\": 0, \"ticks\": \"\"}}, \"type\": \"scatterternary\"}], \"surface\": [{\"colorbar\": {\"outlinewidth\": 0, \"ticks\": \"\"}, \"colorscale\": [[0.0, \"#0d0887\"], [0.1111111111111111, \"#46039f\"], [0.2222222222222222, \"#7201a8\"], [0.3333333333333333, \"#9c179e\"], [0.4444444444444444, \"#bd3786\"], [0.5555555555555556, \"#d8576b\"], [0.6666666666666666, \"#ed7953\"], [0.7777777777777778, \"#fb9f3a\"], [0.8888888888888888, \"#fdca26\"], [1.0, \"#f0f921\"]], \"type\": \"surface\"}], \"table\": [{\"cells\": {\"fill\": {\"color\": \"#EBF0F8\"}, \"line\": {\"color\": \"white\"}}, \"header\": {\"fill\": {\"color\": \"#C8D4E3\"}, \"line\": {\"color\": \"white\"}}, \"type\": \"table\"}]}, \"layout\": {\"annotationdefaults\": {\"arrowcolor\": \"#2a3f5f\", \"arrowhead\": 0, \"arrowwidth\": 1}, \"autotypenumbers\": \"strict\", \"coloraxis\": {\"colorbar\": {\"outlinewidth\": 0, \"ticks\": \"\"}}, \"colorscale\": {\"diverging\": [[0, \"#8e0152\"], [0.1, \"#c51b7d\"], [0.2, \"#de77ae\"], [0.3, \"#f1b6da\"], [0.4, \"#fde0ef\"], [0.5, \"#f7f7f7\"], [0.6, \"#e6f5d0\"], [0.7, \"#b8e186\"], [0.8, \"#7fbc41\"], [0.9, \"#4d9221\"], [1, \"#276419\"]], \"sequential\": [[0.0, \"#0d0887\"], [0.1111111111111111, \"#46039f\"], [0.2222222222222222, \"#7201a8\"], [0.3333333333333333, \"#9c179e\"], [0.4444444444444444, \"#bd3786\"], [0.5555555555555556, \"#d8576b\"], [0.6666666666666666, \"#ed7953\"], [0.7777777777777778, \"#fb9f3a\"], [0.8888888888888888, \"#fdca26\"], [1.0, \"#f0f921\"]], \"sequentialminus\": [[0.0, \"#0d0887\"], [0.1111111111111111, \"#46039f\"], [0.2222222222222222, \"#7201a8\"], [0.3333333333333333, \"#9c179e\"], [0.4444444444444444, \"#bd3786\"], [0.5555555555555556, \"#d8576b\"], [0.6666666666666666, \"#ed7953\"], [0.7777777777777778, \"#fb9f3a\"], [0.8888888888888888, \"#fdca26\"], [1.0, \"#f0f921\"]]}, \"colorway\": [\"#636efa\", \"#EF553B\", \"#00cc96\", \"#ab63fa\", \"#FFA15A\", \"#19d3f3\", \"#FF6692\", \"#B6E880\", \"#FF97FF\", \"#FECB52\"], \"font\": {\"color\": \"#2a3f5f\"}, \"geo\": {\"bgcolor\": \"white\", \"lakecolor\": \"white\", \"landcolor\": \"#E5ECF6\", \"showlakes\": true, \"showland\": true, \"subunitcolor\": \"white\"}, \"hoverlabel\": {\"align\": \"left\"}, \"hovermode\": \"closest\", \"mapbox\": {\"style\": \"light\"}, \"paper_bgcolor\": \"white\", \"plot_bgcolor\": \"#E5ECF6\", \"polar\": {\"angularaxis\": {\"gridcolor\": \"white\", \"linecolor\": \"white\", \"ticks\": \"\"}, \"bgcolor\": \"#E5ECF6\", \"radialaxis\": {\"gridcolor\": \"white\", \"linecolor\": \"white\", \"ticks\": \"\"}}, \"scene\": {\"xaxis\": {\"backgroundcolor\": \"#E5ECF6\", \"gridcolor\": \"white\", \"gridwidth\": 2, \"linecolor\": \"white\", \"showbackground\": true, \"ticks\": \"\", \"zerolinecolor\": \"white\"}, \"yaxis\": {\"backgroundcolor\": \"#E5ECF6\", \"gridcolor\": \"white\", \"gridwidth\": 2, \"linecolor\": \"white\", \"showbackground\": true, \"ticks\": \"\", \"zerolinecolor\": \"white\"}, \"zaxis\": {\"backgroundcolor\": \"#E5ECF6\", \"gridcolor\": \"white\", \"gridwidth\": 2, \"linecolor\": \"white\", \"showbackground\": true, \"ticks\": \"\", \"zerolinecolor\": \"white\"}}, \"shapedefaults\": {\"line\": {\"color\": \"#2a3f5f\"}}, \"ternary\": {\"aaxis\": {\"gridcolor\": \"white\", \"linecolor\": \"white\", \"ticks\": \"\"}, \"baxis\": {\"gridcolor\": \"white\", \"linecolor\": \"white\", \"ticks\": \"\"}, \"bgcolor\": \"#E5ECF6\", \"caxis\": {\"gridcolor\": \"white\", \"linecolor\": \"white\", \"ticks\": \"\"}}, \"title\": {\"x\": 0.05}, \"xaxis\": {\"automargin\": true, \"gridcolor\": \"white\", \"linecolor\": \"white\", \"ticks\": \"\", \"title\": {\"standoff\": 15}, \"zerolinecolor\": \"white\", \"zerolinewidth\": 2}, \"yaxis\": {\"automargin\": true, \"gridcolor\": \"white\", \"linecolor\": \"white\", \"ticks\": \"\", \"title\": {\"standoff\": 15}, \"zerolinecolor\": \"white\", \"zerolinewidth\": 2}}}},                        {\"responsive\": true}                    ).then(function(){\n",
       "                            \n",
       "var gd = document.getElementById('91b479a1-7c02-41b6-937a-fb7a4be68fe7');\n",
       "var x = new MutationObserver(function (mutations, observer) {{\n",
       "        var display = window.getComputedStyle(gd).display;\n",
       "        if (!display || display === 'none') {{\n",
       "            console.log([gd, 'removed!']);\n",
       "            Plotly.purge(gd);\n",
       "            observer.disconnect();\n",
       "        }}\n",
       "}});\n",
       "\n",
       "// Listen for the removal of the full notebook cells\n",
       "var notebookContainer = gd.closest('#notebook-container');\n",
       "if (notebookContainer) {{\n",
       "    x.observe(notebookContainer, {childList: true});\n",
       "}}\n",
       "\n",
       "// Listen for the clearing of the current output cell\n",
       "var outputEl = gd.closest('.output');\n",
       "if (outputEl) {{\n",
       "    x.observe(outputEl, {childList: true});\n",
       "}}\n",
       "\n",
       "                        })                };                });            </script>        </div>"
      ]
     },
     "metadata": {},
     "output_type": "display_data"
    }
   ],
   "source": [
    "lbl_coord=convert_coordinates(y_trueSample[:,0], y_trueSample[:,1], y_trueSample[:,2])\n",
    "pred_coord=convert_coordinates(y_predSample[:,0], y_predSample[:,1], y_predSample[:,2])\n",
    "granularPopNames=namesSample\n",
    "plot_coordinates_map(granularPopNames, pred_coord, lbl_coord, pred_cps=pred_cps_BOCD, cpShow=True)"
   ]
  },
  {
   "cell_type": "code",
   "execution_count": 684,
   "metadata": {
    "collapsed": true
   },
   "outputs": [],
   "source": [
    "def rawGcd(self, input_y, target):\n",
    "    if torch.is_tensor(input_y):\n",
    "        return torch.acos(torch.sum(input_y * target, dim=-1).clamp(-1.0 + self.eps, 1.0 - self.eps)) * self.earth_radius\n",
    "    elif isinstance(input_y, np.ndarray):\n",
    "        return np.arccos(np.clip(np.sum(input_y * target, axis=-1), a_min=-1.0 + self.eps, a_max=1.0 - self.eps)) * self.earth_radius"
   ]
  },
  {
   "cell_type": "code",
   "execution_count": 685,
   "metadata": {
    "collapsed": true
   },
   "outputs": [],
   "source": [
    "def gcd_loss(y_pred, y, mask=None):\n",
    "    if mask is not None: \n",
    "        print(mask.shape)\n",
    "        mask=mask.astype(int)\n",
    "    if mask is None:\n",
    "        mask = 1\n",
    "    eps = 1e-4\n",
    "    temp = np.arccos(np.clip(np.sum(y_pred * y, axis=-1),a_min=-1.0 + eps, a_max=1.0 - eps)).reshape(-1,1)\n",
    "    sum_gcd = np.sum(temp * 6371 * mask)\n",
    "    return sum_gcd"
   ]
  },
  {
   "cell_type": "code",
   "execution_count": 34,
   "metadata": {},
   "outputs": [
    {
     "name": "stdout",
     "output_type": "stream",
     "text": [
      "(317, 1)\n",
      "(317, 1)\n"
     ]
    },
    {
     "data": {
      "text/plain": [
       "{'PredCpMask': 996.5155942763969, 'no_mask': 1268.8211746035172}"
      ]
     },
     "execution_count": 34,
     "metadata": {},
     "output_type": "execute_result"
    }
   ],
   "source": [
    "loss_main={}\n",
    "\n",
    "loss_main['no_mask']=gcd_loss(y_predSample, y_trueSample)/317.0\n",
    "trueCpMask=(true_cpsSample==0)[...,np.newaxis]\n",
    "PredCpMask=(pred_cps_BOCD==0)[...,np.newaxis]\n",
    "# PredCpMask=np.repeat(PredCpMask,3,1)\n",
    "print(PredCpMask.shape)\n",
    "# loss_main['trueCpMask']=gcd_loss(y_predSample, y_trueSample, mask=trueCpMask)/trueCpMask.sum()\n",
    "loss_main['PredCpMask']=gcd_loss(y_predSample, y_trueSample, mask=PredCpMask)/(317.0-12.0)\n",
    "loss_main"
   ]
  },
  {
   "cell_type": "code",
   "execution_count": 35,
   "metadata": {},
   "outputs": [
    {
     "data": {
      "text/plain": [
       "290"
      ]
     },
     "execution_count": 35,
     "metadata": {},
     "output_type": "execute_result"
    }
   ],
   "source": [
    "np.sum(PredCpMask)"
   ]
  },
  {
   "cell_type": "code",
   "execution_count": null,
   "metadata": {},
   "outputs": [],
   "source": [
    "115498040.10265198/305"
   ]
  },
  {
   "cell_type": "code",
   "execution_count": null,
   "metadata": {},
   "outputs": [],
   "source": [
    "PredCpMask"
   ]
  },
  {
   "cell_type": "code",
   "execution_count": null,
   "metadata": {},
   "outputs": [],
   "source": [
    "PredCpMask.sum()"
   ]
  },
  {
   "cell_type": "code",
   "execution_count": null,
   "metadata": {},
   "outputs": [],
   "source": [
    "gcd_loss(y_predSample, y_trueSample, mask=PredCpMask)"
   ]
  },
  {
   "cell_type": "code",
   "execution_count": null,
   "metadata": {},
   "outputs": [],
   "source": [
    "y_predSample*PredCpMask"
   ]
  },
  {
   "cell_type": "code",
   "execution_count": null,
   "metadata": {},
   "outputs": [],
   "source": [
    "trueCpMask.sum()-PredCpMask.sum()"
   ]
  },
  {
   "cell_type": "code",
   "execution_count": null,
   "metadata": {},
   "outputs": [],
   "source": [
    "unknownIdx=np.nonzero(pred_cps_BOCD)[0]\n",
    "gcdUnknownIdx=GcdLoss()(y_predSample[unknownIdx,:], y_trueSample[unknownIdx,:])/12.0\n",
    "gcdUnknownIdx"
   ]
  },
  {
   "cell_type": "code",
   "execution_count": null,
   "metadata": {
    "collapsed": true
   },
   "outputs": [],
   "source": [
    "unknownIdx"
   ]
  },
  {
   "cell_type": "code",
   "execution_count": null,
   "metadata": {
    "collapsed": true
   },
   "outputs": [],
   "source": [
    "knownIdx=np.delete(np.arange(317), unknownIdx)\n",
    "knownIdx"
   ]
  },
  {
   "cell_type": "code",
   "execution_count": null,
   "metadata": {
    "collapsed": true
   },
   "outputs": [],
   "source": [
    "gcdUnknownIdxSum=GcdLoss()(y_predSample[unknownIdx,:], y_trueSample[unknownIdx,:])\n",
    "AllIdxSum = GcdLoss()(y_predSample, y_trueSample)\n",
    "knownIdxSum = GcdLoss()(y_predSample[knownIdx,:], y_trueSample[knownIdx,:])\n",
    "print(AllIdxSum, knownIdxSum, gcdUnknownIdxSum)\n",
    "print(AllIdxSum/317.0, knownIdxSum/(317.0-12.0), gcdUnknownIdxSum/12.0)"
   ]
  },
  {
   "cell_type": "code",
   "execution_count": null,
   "metadata": {
    "collapsed": true
   },
   "outputs": [],
   "source": [
    "def plot_changepoints(true_cps, pred_cps, y_pred, bocp_rl, y_var, popNames):\n",
    "    fig, ax = plt.subplots(4,1,figsize=[18,20])\n",
    "    T=len(true_cps)\n",
    "    ax[0].plot(y_pred)\n",
    "    ax[0].text(0, np.max(y_pred)-0.5, s=popNames[0], size=15)\n",
    "    for i in np.nonzero(true_cps)[0]:\n",
    "        ax[0].plot([i,i], [np.min(y_pred), np.max(y_pred)], 'r' )\n",
    "        ax[0].text(i, np.max(y_pred)-0.5, s=popNames[i+1], size=15)\n",
    "    \n",
    "    ax[1].plot(np.arange(T+1), bocp_rl)\n",
    "    ax[2].plot(pred_cps)\n",
    "    ax[3].plot(true_cps)\n",
    "    \n",
    "    ax[0].set_title(\"n_vectors\")\n",
    "    ax[1].set_title(\"BOCD (post process) run_length\")\n",
    "    ax[2].set_title(\"BOCD (post process) cp\")\n",
    "    ax[3].set_title(\"True Cps\")\n",
    "    plt.show()"
   ]
  },
  {
   "cell_type": "code",
   "execution_count": null,
   "metadata": {
    "collapsed": true,
    "scrolled": false
   },
   "outputs": [],
   "source": [
    "y_var=y_predSample[:,1:]-y_predSample[:,:-1]\n",
    "bocp_rlSample=model_cpd.cp.detach().cpu().numpy()[index,:]\n",
    "plot_changepoints(true_cpsSample, pred_cps_BOCD, y_predSample, bocp_rlSample, y_var, namesSample)"
   ]
  },
  {
   "cell_type": "code",
   "execution_count": null,
   "metadata": {
    "collapsed": true
   },
   "outputs": [],
   "source": [
    "y_predSample.shape"
   ]
  },
  {
   "cell_type": "code",
   "execution_count": null,
   "metadata": {
    "collapsed": true
   },
   "outputs": [],
   "source": [
    "lbl_coord=convert_coordinates(y_trueSample[:,0], y_trueSample[:,1], y_trueSample[:,2])\n",
    "pred_coord=convert_coordinates(y_predSample[:,0], y_predSample[:,1], y_predSample[:,2])\n",
    "granularPopNames=namesSample\n",
    "plot_coordinates_map(granularPopNames, pred_coord, lbl_coord, pred_cps=pred_cps_BOCD, cpShow=True)"
   ]
  },
  {
   "cell_type": "code",
   "execution_count": null,
   "metadata": {
    "collapsed": true,
    "scrolled": false
   },
   "outputs": [],
   "source": [
    "lbl_coord=convert_coordinates(y_trueSample[:,0], y_trueSample[:,1], y_trueSample[:,2])\n",
    "pred_coord=convert_coordinates(y_predSample[:,0], y_predSample[:,1], y_predSample[:,2])\n",
    "granularPopNames=namesSample\n",
    "plot_coordinates_map(granularPopNames, pred_coord, lbl_coord, pred_cps=pred_cps_BOCD, cpShow=True)"
   ]
  },
  {
   "cell_type": "code",
   "execution_count": 670,
   "metadata": {
    "collapsed": true
   },
   "outputs": [],
   "source": [
    "idxOfInterest=np.unique(np.nonzero(test_dataset.data['granular_pop']==granular_pop_dict[\"Basque\"])[0])"
   ]
  },
  {
   "cell_type": "code",
   "execution_count": 671,
   "metadata": {},
   "outputs": [
    {
     "data": {
      "text/plain": [
       "array([ 554,  555,  556,  557,  614,  627,  733,  826,  830,  853,  950,\n",
       "       1053, 1243, 1360, 1379, 1511, 1572, 1575, 1581, 1592, 1605, 1669,\n",
       "       1755, 1796, 1819, 1822, 1826, 1860, 1907, 1951, 1996, 2006, 2059,\n",
       "       2099, 2160, 2190, 2262, 2274, 2276, 2281, 2296, 2323, 2326, 2329,\n",
       "       2330, 2338, 2432, 2435, 2446, 2454, 2461, 2493, 2494, 2495, 2506,\n",
       "       2522, 2524, 2533, 2542, 2548, 2577, 2623, 2631, 2633, 2645, 2669,\n",
       "       2688, 2721, 2784, 2805, 2813, 2823, 2824, 2826, 2828, 2861, 2893,\n",
       "       2897, 2905, 2941])"
      ]
     },
     "execution_count": 671,
     "metadata": {},
     "output_type": "execute_result"
    }
   ],
   "source": [
    "idxOfInterest"
   ]
  },
  {
   "cell_type": "code",
   "execution_count": null,
   "metadata": {
    "collapsed": true
   },
   "outputs": [],
   "source": [
    "@timer\n",
    "def plot_all(ax, y_preds, superpops, **kwargs):\n",
    "    cpShow=kwargs.get('cpShow')\n",
    "    pred_cps=kwargs.get('pred_cps')    \n",
    "    continentaPops=list(superop_dict.values())\n",
    "    colors_pop = sns.color_palette(\"bright\", 10)\n",
    "    del colors_pop[1]\n",
    "    del colors_pop[4]\n",
    "    del colors_pop[5]\n",
    "    colors_pop_dict = {k:v for k,v in zip(continentaPops, colors_pop)}\n",
    "    \n",
    "    alpha=[0.03]*len(y_preds)\n",
    "    if cpShow is None:\n",
    "        alpha=(pred_cps==0).astype(float)\n",
    "    \n",
    "    ax.scatter(y_preds[:,0], y_preds[:,1], y_preds[:,2], \\\n",
    "               color = [colors_pop_dict[x]+(y,) for x,y in zip(superpops, alpha)], marker=\".\", s=0.05,zorder=-1) \n",
    "    \n",
    "    patches=[]\n",
    "    for k, val in superop_dict.items():\n",
    "        patches.append(mpatches.Patch(color = colors_pop_dict[val], label = k))\n",
    "    lgnd = ax.legend(handles=patches, loc=\"upper right\", fontsize=15)\n",
    "    return lgnd, colors_pop_dict\n"
   ]
  },
  {
   "cell_type": "code",
   "execution_count": null,
   "metadata": {
    "collapsed": true
   },
   "outputs": [],
   "source": [
    "y_preds=results.t_out.coord_main\n",
    "y_predCps=getCpPred(cpMethod.gradient.name, y_predSample, 0.1, y_preds.shape[0], y_preds.shape[1])\n",
    "y_predCps=y_predCps.reshape(-1,)\n",
    "y_preds=y_preds.reshape(-1,3)\n",
    "superpops=test_dataset.data['superpop'].reshape(-1,)"
   ]
  },
  {
   "cell_type": "code",
   "execution_count": 376,
   "metadata": {},
   "outputs": [
    {
     "data": {
      "text/plain": [
       "{'Abkhasian': 114,\n",
       " 'Adygei': 70,\n",
       " 'Albanian': 115,\n",
       " 'Altaian': 87,\n",
       " 'Ami': 97,\n",
       " 'Armenian': 116,\n",
       " 'Atayal': 98,\n",
       " 'Australian': 74,\n",
       " 'Balochi': 22,\n",
       " 'BantuHerero': 76,\n",
       " 'BantuKenya': 71,\n",
       " 'BantuSouthAfrica': 49,\n",
       " 'BantuTswana': 77,\n",
       " 'Basque': 69,\n",
       " 'Bedouin': 36,\n",
       " 'Bengali': 10,\n",
       " 'Bergamo_Italian': 53,\n",
       " 'Biaka': 30,\n",
       " 'Bougainville': 31,\n",
       " 'Brahmin': 105,\n",
       " 'Brahui': 21,\n",
       " 'British': 0,\n",
       " 'Bulgarian': 117,\n",
       " 'Burmese': 99,\n",
       " 'Burusho': 28,\n",
       " 'Cambodian': 40,\n",
       " 'Chane': 83,\n",
       " 'Chechen': 118,\n",
       " 'Colombian': 39,\n",
       " 'Crete': 75,\n",
       " 'Czech': 119,\n",
       " 'Dai': 64,\n",
       " 'Dai Chinese': 3,\n",
       " 'Daur': 57,\n",
       " 'Dinka': 72,\n",
       " 'Druze': 35,\n",
       " 'Dusun': 103,\n",
       " 'Esan': 9,\n",
       " 'Eskimo_Chaplin': 88,\n",
       " 'Eskimo_Naukan': 89,\n",
       " 'Eskimo_Sireniki': 90,\n",
       " 'Estonian': 120,\n",
       " 'Even': 91,\n",
       " 'Finnish': 1,\n",
       " 'French': 32,\n",
       " 'Gambian Mandinka': 8,\n",
       " 'Georgian_Mingrelian': 121,\n",
       " 'Greek': 122,\n",
       " 'Gujarati': 20,\n",
       " 'Han': 41,\n",
       " 'Han Chinese': 15,\n",
       " 'Hazara': 23,\n",
       " 'Hezhen': 59,\n",
       " 'Hungarian': 123,\n",
       " 'Icelandic': 124,\n",
       " 'Igorot': 104,\n",
       " 'Indian Telugu': 13,\n",
       " 'Iranian': 125,\n",
       " 'Iraqi_Jew': 126,\n",
       " 'Irula': 106,\n",
       " 'Itelman': 92,\n",
       " 'Japanese': 16,\n",
       " 'Jordanian': 127,\n",
       " 'Kalash': 27,\n",
       " 'Kapu': 107,\n",
       " 'Karitiana': 50,\n",
       " 'Khomani_San': 78,\n",
       " 'Khonda_Dora': 108,\n",
       " 'Kinh Vietnamese': 7,\n",
       " 'Korean': 100,\n",
       " 'Kusunda': 109,\n",
       " 'Kyrgyz': 93,\n",
       " 'Lahu': 65,\n",
       " 'Lezgin': 102,\n",
       " 'Luhya': 17,\n",
       " 'Luo': 79,\n",
       " 'Madiga': 110,\n",
       " 'Makrani': 24,\n",
       " 'Mala': 111,\n",
       " 'Mandenka': 46,\n",
       " 'Mansi': 94,\n",
       " 'Masai': 80,\n",
       " 'Maya': 44,\n",
       " 'Mbuti': 29,\n",
       " 'Mende': 11,\n",
       " 'Mexican-American': 18,\n",
       " 'Miao': 55,\n",
       " 'Mixe': 73,\n",
       " 'Mongolian': 58,\n",
       " 'Mozabite': 61,\n",
       " 'Naxi': 67,\n",
       " 'North_Ossetian': 128,\n",
       " 'NorthernHan': 62,\n",
       " 'Norwegian': 129,\n",
       " 'Orcadian': 42,\n",
       " 'Oroqen': 56,\n",
       " 'Palestinian': 38,\n",
       " 'PapuanHighlands': 34,\n",
       " 'PapuanSepik': 33,\n",
       " 'Pathan': 26,\n",
       " 'Peruvian': 5,\n",
       " 'Piapoco': 84,\n",
       " 'Pima': 51,\n",
       " 'Polish': 130,\n",
       " 'Punjabi': 6,\n",
       " 'Quechua': 85,\n",
       " 'Relli': 112,\n",
       " 'Russian': 45,\n",
       " 'Saami': 131,\n",
       " 'Saharawi': 81,\n",
       " 'Samaritan': 132,\n",
       " 'San': 48,\n",
       " 'Sardinian': 37,\n",
       " 'She': 66,\n",
       " 'Sindhi': 25,\n",
       " 'Somali': 82,\n",
       " 'Southern Han Chinese': 2,\n",
       " 'Spanish': 4,\n",
       " 'Sri Lankan': 12,\n",
       " 'Surui': 43,\n",
       " 'Tajik': 133,\n",
       " 'Thai': 101,\n",
       " 'Tu': 68,\n",
       " 'Tubalar': 95,\n",
       " 'Tujia': 52,\n",
       " 'Turkish_Cappadocia': 134,\n",
       " 'Tuscan': 19,\n",
       " 'Ulchi': 96,\n",
       " 'Uygur': 63,\n",
       " 'Xibo': 60,\n",
       " 'Yadava': 113,\n",
       " 'Yakut': 47,\n",
       " 'Yemenite_Jew': 135,\n",
       " 'Yi': 54,\n",
       " 'Yoruba': 14,\n",
       " 'Zapotec': 86}"
      ]
     },
     "execution_count": 376,
     "metadata": {},
     "output_type": "execute_result"
    }
   ],
   "source": [
    "granular_pop_dict"
   ]
  },
  {
   "cell_type": "code",
   "execution_count": null,
   "metadata": {
    "collapsed": true
   },
   "outputs": [],
   "source": []
  },
  {
   "cell_type": "code",
   "execution_count": null,
   "metadata": {
    "collapsed": true
   },
   "outputs": [],
   "source": []
  }
 ],
 "metadata": {
  "kernelspec": {
   "display_name": "Python 3",
   "language": "python",
   "name": "python3"
  },
  "language_info": {
   "codemirror_mode": {
    "name": "ipython",
    "version": 3
   },
   "file_extension": ".py",
   "mimetype": "text/x-python",
   "name": "python",
   "nbconvert_exporter": "python",
   "pygments_lexer": "ipython3",
   "version": "3.6.1"
  }
 },
 "nbformat": 4,
 "nbformat_minor": 2
}
