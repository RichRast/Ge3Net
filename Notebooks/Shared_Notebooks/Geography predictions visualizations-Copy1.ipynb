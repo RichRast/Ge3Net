{
 "cells": [
  {
   "cell_type": "code",
   "execution_count": 1,
   "metadata": {
    "collapsed": true
   },
   "outputs": [],
   "source": [
    "import torch\n",
    "import sys\n",
    "import os\n",
    "import os.path as osp\n",
    "import pandas as pd\n",
    "import numpy as np\n",
    "import itertools\n",
    "import matplotlib.pyplot as plt\n",
    "import seaborn as sns\n",
    "import plotly.graph_objects as go\n",
    "from mpl_toolkits.mplot3d import Axes3D\n",
    "from matplotlib import ticker\n",
    "import matplotlib as mpl\n",
    "from matplotlib.colors import LogNorm\n",
    "import matplotlib.patches as mpatches\n",
    "from sklearn.metrics import precision_recall_curve, recall_score, precision_score, \\\n",
    "balanced_accuracy_score, accuracy_score\n",
    "from sklearn import metrics\n",
    "import math"
   ]
  },
  {
   "cell_type": "code",
   "execution_count": 2,
   "metadata": {
    "collapsed": true
   },
   "outputs": [],
   "source": [
    "os.environ['USER_PATH']='/home/users/richras/Ge2Net_Repo'\n",
    "os.environ['USER_SCRATCH_PATH']=\"/scratch/users/richras\"\n",
    "os.environ['IN_PATH']='/scratch/groups/cdbustam/richras/data_in'\n",
    "os.environ['OUT_PATH']='/scratch/groups/cdbustam/richras/data_out'\n",
    "os.environ['LOG_PATH']='/scratch/groups/cdbustam/richras/logs/'"
   ]
  },
  {
   "cell_type": "code",
   "execution_count": 3,
   "metadata": {
    "collapsed": true
   },
   "outputs": [],
   "source": [
    "os.chdir(os.environ.get('USER_PATH'))"
   ]
  },
  {
   "cell_type": "code",
   "execution_count": 17,
   "metadata": {},
   "outputs": [
    {
     "name": "stdout",
     "output_type": "stream",
     "text": [
      "The autoreload extension is already loaded. To reload it, use:\n",
      "  %reload_ext autoreload\n"
     ]
    }
   ],
   "source": [
    "%load_ext autoreload\n",
    "%autoreload 2\n",
    "from src.utils.dataUtil import load_path, save_file, vcf2npy\n",
    "from src.utils.modelUtil import Params, load_model, convert_coordinates\n",
    "from src.utils.labelUtil import getSuperpopBins, repeat_pop_arr\n",
    "from src.utils.decorators import timer\n",
    "from src.models.modelSelection import modelSelect\n",
    "from src.models.modelParamsSelection import Selections\n",
    "from src.models import Model_A, Model_B, Model_C, BOCD\n",
    "from src.models.distributions import Multivariate_Gaussian\n",
    "from src.main.evaluation import eval_cp_batch, reportChangePointMetrics, t_prMetrics, cpMethod, eval_cp_matrix, \\\n",
    "getCpPred\n",
    "from src.main.settings_model import parse_args\n",
    "from src.models.Ge3Net import Ge3NetBase\n",
    "import test"
   ]
  },
  {
   "cell_type": "markdown",
   "metadata": {},
   "source": [
    "# load the model and use valid data "
   ]
  },
  {
   "cell_type": "code",
   "execution_count": 26,
   "metadata": {
    "collapsed": true
   },
   "outputs": [],
   "source": [
    "# Specify the dataset to be evaluated\n",
    "# chm22 pca full dataset and model\n",
    "labels_path = osp.join(os.environ['OUT_PATH'],'humans/labels/data_id_1_geo')\n",
    "data_path = osp.join(os.environ['OUT_PATH'],'humans/labels/data_id_1_geo')\n",
    "models_path=osp.join(os.environ['OUT_PATH'],'humans/training/Model_B_exp_id_18_data_id_1_geo/') \n",
    "dataset_type='valid'"
   ]
  },
  {
   "cell_type": "code",
   "execution_count": 27,
   "metadata": {
    "scrolled": false
   },
   "outputs": [
    {
     "name": "stdout",
     "output_type": "stream",
     "text": [
      " device used: cuda\n",
      "Loading the datasets...\n",
      "Finished '_geoConvertLatLong2nVec' in 0.0750 secs\n",
      "Finished 'mapping_func' in 0.3573 secs\n",
      "Finished 'pop_mapping' in 0.1592 secs\n",
      "Finished 'pop_mapping' in 0.1578 secs\n",
      "Finished 'transform_data' in 40.2787 secs\n",
      "Finished '__init__' in 111.2466 secs\n",
      "Parameter count for model AuxNetwork:31747503\n",
      "Parameter count for model BiRNN:60355\n",
      "Parameter count for model logits_Block:2289\n",
      "Total parameters:2289\n",
      "best val loss metrics : {'l1_loss': 0.2579494377707586, 'mse': 0.059578730873031095, 'smooth_l1': 0.02974117295702163, 'weighted_loss': 0.2579494377707586, 'loss_main': tensor(1207.7690, device='cuda:0'), 'loss_aux': tensor(2491.7239, device='cuda:0')}\n",
      "at epoch : 71\n",
      "train loss metrics: {'l1_loss': 0.17245596720737696, 'mse': 0.0362445987646263, 'smooth_l1': 0.01810576623101305, 'weighted_loss': 0.17245596720737696, 'loss_main': 768.0802761591885, 'loss_aux': 2262.628921121907}\n",
      "best val cp metrics : {'loss_cp': tensor(0.0896, device='cuda:0'), 'prMetrics': OrderedDict([('Precision', array(0.)), ('Recall', array(0.)), ('Accuracy', array(0.98634977)), ('A_major', array(1.)), ('BalancedAccuracy', 0.5)])}\n",
      "train cp metrics: {'loss_cp': 0.21852591403633537, 'prMetrics': OrderedDict([('Precision', array(0.02124571)), ('Recall', array(0.82936105)), ('Accuracy', array(0.70688507)), ('A_major', array(0.70594245)), ('BalancedAccuracy', 0.7676517498855089)])}\n",
      "best val sp metrics : None\n",
      "train sp metrics: None\n",
      "best val balanced gcd metrics : {'meanBalancedGcdSp': 2217.525634765625, 'meanBalancedGcdGp': 2111.987548828125, 'medianBalancedGcdSp': 1463.7733154296875, 'medianBalancedGcdGp': 1680.1806640625, 'median': 974.7377319335938}\n",
      "train balanced gcd metrics: {'meanBalancedGcdSp': 2222.392822265625, 'meanBalancedGcdGp': 2114.923095703125, 'medianBalancedGcdSp': 1465.281005859375, 'medianBalancedGcdGp': 1680.516357421875, 'median': 975.5870361328125}\n",
      "Finished 'load_model' in 0.2867 secs\n",
      "is the model on cuda? : True\n"
     ]
    },
    {
     "name": "stderr",
     "output_type": "stream",
     "text": [
      "/home/users/richras/Ge2Net_Repo/src/models/Ge3Net.py:99: UserWarning:\n",
      "\n",
      "To copy construct from a tensor, it is recommended to use sourceTensor.clone().detach() or sourceTensor.clone().detach().requires_grad_(True), rather than torch.tensor(sourceTensor).\n",
      "\n",
      "/home/users/richras/Ge2Net_Repo/src/models/Ge3Net.py:100: UserWarning:\n",
      "\n",
      "To copy construct from a tensor, it is recommended to use sourceTensor.clone().detach() or sourceTensor.clone().detach().requires_grad_(True), rather than torch.tensor(sourceTensor).\n",
      "\n",
      "/home/users/richras/Ge2Net_Repo/src/models/Ge3Net.py:101: UserWarning:\n",
      "\n",
      "To copy construct from a tensor, it is recommended to use sourceTensor.clone().detach() or sourceTensor.clone().detach().requires_grad_(True), rather than torch.tensor(sourceTensor).\n",
      "\n"
     ]
    },
    {
     "name": "stdout",
     "output_type": "stream",
     "text": [
      "Finished '_evaluateAccuracy' in 0.0277 secs\n",
      "Finished 'getBalancedClassGcd' in 0.0288 secs\n",
      "Finished 'getExtraGcdMetrics' in 0.0292 secs\n",
      "Finished '_evaluate' in 0.0573 secs\n",
      "Finished '_evaluateAccuracy' in 0.0049 secs\n",
      "Finished 'getBalancedClassGcd' in 0.0284 secs\n",
      "Finished 'getExtraGcdMetrics' in 0.0287 secs\n",
      "Finished '_evaluate' in 0.0339 secs\n",
      "Finished '_evaluateAccuracy' in 0.0050 secs\n",
      "Finished 'getBalancedClassGcd' in 0.0300 secs\n",
      "Finished 'getExtraGcdMetrics' in 0.0303 secs\n",
      "Finished '_evaluate' in 0.0358 secs\n",
      "Finished '_evaluateAccuracy' in 0.0049 secs\n",
      "Finished 'getBalancedClassGcd' in 0.0338 secs\n",
      "Finished 'getExtraGcdMetrics' in 0.0341 secs\n",
      "Finished '_evaluate' in 0.0394 secs\n",
      "Finished '_evaluateAccuracy' in 0.0049 secs\n",
      "Finished 'getBalancedClassGcd' in 0.0593 secs\n",
      "Finished 'getExtraGcdMetrics' in 0.0596 secs\n",
      "Finished '_evaluate' in 0.0651 secs\n",
      "Finished '_evaluateAccuracy' in 0.0051 secs\n",
      "Finished 'getBalancedClassGcd' in 0.0595 secs\n",
      "Finished 'getExtraGcdMetrics' in 0.0598 secs\n",
      "Finished '_evaluate' in 0.0653 secs\n",
      "Finished '_evaluateAccuracy' in 0.0051 secs\n",
      "Finished 'getBalancedClassGcd' in 0.0589 secs\n",
      "Finished 'getExtraGcdMetrics' in 0.0592 secs\n",
      "Finished '_evaluate' in 0.0647 secs\n",
      "Finished '_evaluateAccuracy' in 0.0051 secs\n",
      "Finished 'getBalancedClassGcd' in 0.0598 secs\n",
      "Finished 'getExtraGcdMetrics' in 0.0602 secs\n",
      "Finished '_evaluate' in 0.0658 secs\n",
      "Finished '_evaluateAccuracy' in 0.0051 secs\n",
      "Finished 'getBalancedClassGcd' in 0.0639 secs\n",
      "Finished 'getExtraGcdMetrics' in 0.0642 secs\n",
      "Finished '_evaluate' in 0.0697 secs\n",
      "Finished '_evaluateAccuracy' in 0.0053 secs\n",
      "Finished 'getBalancedClassGcd' in 0.0648 secs\n",
      "Finished 'getExtraGcdMetrics' in 0.0652 secs\n",
      "Finished '_evaluate' in 0.0709 secs\n",
      "Finished '_evaluateAccuracy' in 0.0052 secs\n",
      "Finished 'getBalancedClassGcd' in 0.0645 secs\n",
      "Finished 'getExtraGcdMetrics' in 0.0648 secs\n",
      "Finished '_evaluate' in 0.0706 secs\n",
      "Finished '_evaluateAccuracy' in 0.0053 secs\n",
      "Finished 'getBalancedClassGcd' in 0.0690 secs\n",
      "Finished 'getExtraGcdMetrics' in 0.0693 secs\n",
      "Finished '_evaluate' in 0.0749 secs\n",
      "Finished '_evaluateAccuracy' in 0.0053 secs\n",
      "Finished 'getBalancedClassGcd' in 0.0688 secs\n",
      "Finished 'getExtraGcdMetrics' in 0.0691 secs\n",
      "Finished '_evaluate' in 0.0748 secs\n",
      "Finished '_evaluateAccuracy' in 0.0052 secs\n",
      "Finished 'getBalancedClassGcd' in 0.0689 secs\n",
      "Finished 'getExtraGcdMetrics' in 0.0692 secs\n",
      "Finished '_evaluate' in 0.0750 secs\n",
      "Finished '_evaluateAccuracy' in 0.0024 secs\n",
      "Finished 'getBalancedClassGcd' in 0.0422 secs\n",
      "Finished 'getExtraGcdMetrics' in 0.0425 secs\n",
      "Finished '_evaluate' in 0.0452 secs\n",
      "Finished 'batchLoopValid' in 2.3670 secs\n",
      "Finished 'main' in 114.1086 secs\n"
     ]
    }
   ],
   "source": [
    "config={}\n",
    "config['data.labels']=labels_path \n",
    "config['data.dir']=data_path \n",
    "config['models.dir']=models_path\n",
    "config['data.dataset_type']=dataset_type\n",
    "config['cuda']='cuda'\n",
    "config['model.loadBest']=True\n",
    "json_path = osp.join(config['models.dir'], 'params.json')\n",
    "assert osp.isfile(json_path), \"No json configuration file found at {}\".format(json_path)\n",
    "params = Params(json_path)\n",
    "params.rtnOuts=True\n",
    "params.mc_dropout=False\n",
    "params.mc_samples=100\n",
    "params.cp_tol=0\n",
    "results, test_dataset, model=test.main(config, params)"
   ]
  },
  {
   "cell_type": "code",
   "execution_count": 28,
   "metadata": {
    "collapsed": true
   },
   "outputs": [],
   "source": [
    "def load_model(model_path, model_init, optimizer=None):\n",
    "    if not osp.exists(model_path):\n",
    "        # ToDo look into the raise exception error not\n",
    "        # coming from BaseException\n",
    "        print(f'{model_path} does not exist')\n",
    "        raise (f'{model_path} does not exist')\n",
    "        \n",
    "    checkpoint = torch.load(model_path)\n",
    "\n",
    "    print(f\"best val loss metrics : {checkpoint['val_accr']['t_accr']}\")\n",
    "    print(f\"at epoch : {checkpoint['epoch']}\")\n",
    "    print(f\"train loss metrics: {checkpoint['train_accr']['t_accr']}\")\n",
    "\n",
    "    print(f\"best val cp metrics : {checkpoint['val_accr']['t_cp_accr']}\")\n",
    "    print(f\"train cp metrics: {checkpoint['train_accr']['t_cp_accr']}\")\n",
    "\n",
    "    print(f\"best val sp metrics : {checkpoint['val_accr']['t_sp_accr']}\")\n",
    "    print(f\"train sp metrics: {checkpoint['train_accr']['t_sp_accr']}\")\n",
    "\n",
    "    print(f\"best val balanced gcd metrics : {checkpoint['val_accr']['t_balanced_gcd']}\")\n",
    "    print(f\"train balanced gcd metrics: {checkpoint['train_accr']['t_balanced_gcd']}\")\n",
    "    \n",
    "    print(f\"checkpoint['model_state_dict']:{checkpoint['model_state_dict']}\")\n",
    "    model_init.load_state_dict(checkpoint['model_state_dict'])\n",
    "         \n",
    "    return model_init"
   ]
  },
  {
   "cell_type": "code",
   "execution_count": null,
   "metadata": {
    "scrolled": true
   },
   "outputs": [],
   "source": [
    "# model_path = osp.join(config['models.dir'], 'models_dir')\n",
    "# modelOption=modelSelect.get_selection()\n",
    "# option = Selections.get_selection()\n",
    "# criterion = option['loss'][params.criteria](reduction='sum', alpha=params.criteria_alpha, geography=params.geography)\n",
    "# cp_criterion=option['cpMetrics']['loss_cp']\n",
    "# model_init = modelOption['models'][params.model](params, criterion, cp_criterion)\n",
    "# if config['model.loadBest']:\n",
    "#     model = load_model(''.join([str(model_path),'/best.pt']), model_init)\n",
    "# else:\n",
    "#     model= load_model(''.join([str(model_path),'/last.pt']), model_init)\n"
   ]
  },
  {
   "cell_type": "code",
   "execution_count": null,
   "metadata": {},
   "outputs": [],
   "source": [
    "model.to(params.device)\n",
    "next(model.parameters()).is_cuda"
   ]
  },
  {
   "cell_type": "code",
   "execution_count": null,
   "metadata": {},
   "outputs": [],
   "source": [
    "results.t_accr, results.t_cp_accr"
   ]
  },
  {
   "cell_type": "code",
   "execution_count": null,
   "metadata": {},
   "outputs": [],
   "source": [
    "results.t_balanced_gcd"
   ]
  },
  {
   "cell_type": "code",
   "execution_count": 25,
   "metadata": {
    "collapsed": true
   },
   "outputs": [],
   "source": [
    "results.t_out.coord_main=results.t_out.coord_main.mean(0)"
   ]
  },
  {
   "cell_type": "code",
   "execution_count": null,
   "metadata": {},
   "outputs": [],
   "source": [
    "y_pred = results.t_out.coord_main\n",
    "n_vec_dim=y_pred.shape[-1]\n",
    "data_tensor = torch.tensor(y_pred).float()\n",
    "batch_size_cpd = data_tensor.shape[0]\n",
    "mu_prior = torch.zeros((batch_size_cpd, 1,n_vec_dim))\n",
    "mean_var=torch.mean(torch.var(data_tensor, dim =1),dim=0).unsqueeze(0)\n",
    "cov_prior = (mean_var.repeat(batch_size_cpd,1).unsqueeze(1)* torch.eye(n_vec_dim)).reshape(batch_size_cpd,1,n_vec_dim,n_vec_dim)\n",
    "cov_x = cov_prior\n",
    "likelihood_model = Multivariate_Gaussian(mu_prior, cov_prior, cov_x)\n",
    "T = params.n_win\n",
    "model_cpd = BOCD.BOCD(None, T, likelihood_model, batch_size_cpd)\n",
    "_,_,_,_=model_cpd.run_recursive(data_tensor, 'cpu')"
   ]
  },
  {
   "cell_type": "code",
   "execution_count": null,
   "metadata": {
    "collapsed": true
   },
   "outputs": [],
   "source": [
    "granular_pop_dict = load_path(osp.join(labels_path, 'granular_pop.pkl'), en_pickle=True)\n",
    "superop_dict=load_path(osp.join(labels_path, 'superpop.pkl'), en_pickle=True)\n",
    "pop_sample_map=pd.read_csv(osp.join(labels_path, 'pop_sample_map.tsv'),sep=\"\\t\")\n",
    "pop_arr=repeat_pop_arr(pop_sample_map)\n",
    "cp_target=test_dataset.data['cps']\n",
    "seqlen=cp_target.shape[1]\n",
    "rev_pop_dict={v:k for k,v in granular_pop_dict.items()}"
   ]
  },
  {
   "cell_type": "code",
   "execution_count": null,
   "metadata": {
    "scrolled": false
   },
   "outputs": [],
   "source": [
    "# index = 2500\n",
    "# index=2620\n",
    "# index=2650\n",
    "# index=3000\n",
    "# index=3100\n",
    "# index=2300\n",
    "# index=2320\n",
    "# index=2338 #interesting Mansi pop\n",
    "# index=2339 # nice example showing Karitiana\n",
    "# index=2344 #interesting clusters of Mongolia\n",
    "# index=2346 # interesting African diversity\n",
    "# index=2355#int. Iranian sample\n",
    "# index=2366# Piapioco and Pima both\n",
    "# index=2388#int example\n",
    "# index=2398#Biaka/Luhya\n",
    "# index=2403#Quechua\n",
    "# index=2414#incorrect Khomani San\n",
    "# index=2421#uyugur\n",
    "# index=2465#balochi similar to MAkrani slave trade\n",
    "# index=2482# interesting Indo euro\n",
    "# index=np.random.choice(idxOfInterest)\n",
    "# index=830\n",
    "index=510\n",
    "print(index)\n",
    "true_cpsSample=cp_target[index,:].detach().cpu().numpy()\n",
    "y_predSample=results.t_out.coord_main[index,:]\n",
    "y_trueSample=test_dataset.data['y'][index,:].detach().cpu().numpy()\n",
    "granularpopSample=test_dataset.data['granular_pop'][index,:].detach().cpu().numpy()\n",
    "namesSample=[rev_pop_dict[i] for i in granularpopSample.astype(int)]"
   ]
  },
  {
   "cell_type": "code",
   "execution_count": null,
   "metadata": {},
   "outputs": [],
   "source": [
    "y_predSample.shape"
   ]
  },
  {
   "cell_type": "code",
   "execution_count": null,
   "metadata": {
    "collapsed": true
   },
   "outputs": [],
   "source": [
    "pred_cps=getCpPred(cpMethod.gradient.name, y_predSample, 0.1, 1, len(true_cpsSample))\n",
    "pred_cps=pred_cps.squeeze(0).detach().cpu().numpy()# squeeze the batch dimension of 1"
   ]
  },
  {
   "cell_type": "code",
   "execution_count": null,
   "metadata": {
    "collapsed": true
   },
   "outputs": [],
   "source": [
    "predBOCDSample=model_cpd.cp[index,:]\n",
    "pred_cps_BOCD=getCpPred(cpMethod.BOCD.name, predBOCDSample, 5.0, 1, len(true_cpsSample))\n",
    "pred_cps_BOCD=pred_cps_BOCD.squeeze(0).detach().cpu().numpy()# squeeze the batch dimension of 1"
   ]
  },
  {
   "cell_type": "code",
   "execution_count": null,
   "metadata": {
    "collapsed": true
   },
   "outputs": [],
   "source": [
    "cpIdx=np.nonzero(pred_cps_BOCD)[0]\n",
    "remWin=3\n",
    "for i in cpIdx:\n",
    "    low=max(0,i-remWin)\n",
    "    high=min(seqlen, i+remWin)\n",
    "    pred_cps_BOCD[low:high]=1"
   ]
  },
  {
   "cell_type": "code",
   "execution_count": null,
   "metadata": {},
   "outputs": [],
   "source": [
    "mappedSpArr=getSuperpopBins(labels_path, y_predSample.reshape(-1,3))\n",
    "# mappedSpArr=mappedSpArr.squeeze(1)"
   ]
  },
  {
   "cell_type": "code",
   "execution_count": null,
   "metadata": {
    "collapsed": true
   },
   "outputs": [],
   "source": [
    "y_predsTrue=test_dataset.data['y'].detach().cpu().numpy().reshape(-1,3)\n",
    "superpopsTrue=test_dataset.data['superpop'].detach().cpu().numpy().reshape(-1,)"
   ]
  },
  {
   "cell_type": "code",
   "execution_count": null,
   "metadata": {
    "collapsed": true
   },
   "outputs": [],
   "source": [
    "@timer\n",
    "def plot_sample(granularPopSample, y_predSample, y_trueSample, **kwargs):\n",
    "    backgroundAxis=kwargs.get('backgroundAxis')\n",
    "    y_predCps=kwargs.get('y_predCps')\n",
    "    y_preds=kwargs.get('y_preds')\n",
    "    superpops=kwargs.get('superpops')\n",
    "    cpShow=kwargs.get('cpShow')\n",
    "    pred_cps=kwargs.get('pred_cps')\n",
    "    mappedSpArr=kwargs.get('mappedSpArr')\n",
    "    fig, ax = plt.subplots(figsize=(12,14))\n",
    "    \n",
    "    gs1 = fig.add_gridspec(nrows=3, ncols=1, height_ratios=[13,1,1])\n",
    "    ax1=fig.add_subplot(gs1[0],projection='3d')\n",
    "    ax2=fig.add_subplot(gs1[1])\n",
    "    ax3=fig.add_subplot(gs1[2])\n",
    "    for axis in [ax, ax2, ax3]:\n",
    "        axis.set_yticks([])\n",
    "        axis.spines['top'].set_color('none')\n",
    "        axis.spines['left'].set_color('none')\n",
    "        axis.spines['right'].set_color('none')\n",
    "    ax.set_xticks([])\n",
    "    plt.subplots_adjust(hspace=0.01)\n",
    "    \n",
    "    if backgroundAxis is not None:\n",
    "        lgnd, colorsPop_sp_dict =plot_all(ax1, y_preds, superpops, cpShow=False)\n",
    "    else:\n",
    "        continentaPops=list(superop_dict.values())\n",
    "        colors_Sp = sns.color_palette(\"bright\", 10)\n",
    "        del colors_Sp[1]\n",
    "        del colors_Sp[4]\n",
    "        del colors_Sp[5]\n",
    "        colorsPop_sp_dict = {k:v for k,v in zip(continentaPops, colors_Sp)}\n",
    "        colorsPop_sp_dict[-1]=(0.7,0.7,0.7) # grey color\n",
    "        patches=[]\n",
    "        for k, val in superop_dict.items():\n",
    "            patches.append(mpatches.Patch(color = colorsPop_sp_dict[val], label = k))\n",
    "        lgnd = ax1.legend(handles=patches, loc=\"upper right\",fontsize=15)\n",
    "    ax1.add_artist(lgnd)    \n",
    "    colors_pop = sns.color_palette(\"rainbow\", len(np.unique(granularPopSample)))\n",
    "    colors_pop_dict = {k:v for k,v in zip(np.unique(granularPopSample), colors_pop)}\n",
    "\n",
    "    alpha=[1]*len(y_predSample)\n",
    "    if cpShow is None:\n",
    "#         alpha=(pred_cps==0).astype(float)\n",
    "        unknownIdx=np.nonzero(pred_cps)[0]\n",
    "        granularPopNames=[\"UNK\" if i in unknownIdx else granularPopSample[i] for i in range(len(granularPopSample))]\n",
    "        colors_pop_dict[\"UNK\"]=(0.9,0.9,0.9) # grey color\n",
    "        mappedSpArr[unknownIdx]=-1\n",
    "    \n",
    "    ax1.scatter(y_predSample[:,0], y_predSample[:,1], y_predSample[:,2], \\\n",
    "               color = [colors_pop_dict[x]+(y,) for x,y in zip(granularPopNames, alpha)], s=50, zorder=0) \n",
    "    ax1.scatter(y_trueSample[:,0], y_trueSample[:,1], y_trueSample[:,2], \\\n",
    "               color = [colors_pop_dict[x] for x in granularPopSample], marker='X', s=200, zorder=0)\n",
    "    \n",
    "    for axis in [ax1.xaxis, ax1.yaxis, ax1.zaxis]:\n",
    "        axis.set_pane_color((1.0, 1.0, 1.0, 0.0))\n",
    "        axis._axinfo[\"grid\"]['color'] = (1,1,1,0)\n",
    "    patches=[]\n",
    "    for i, val in enumerate(np.unique(granularPopSample)):\n",
    "        patches.append(mpatches.Patch(color = colors_pop_dict[val], label = val))\n",
    "    patches.append(mpatches.Patch(color = (0.9,0.9,0.9), label = \"UNK\"))\n",
    "    ax1.legend(handles=patches, loc=\"upper left\", fontsize=20)\n",
    "    \n",
    "    #chm plot ground truth\n",
    "    ax2.scatter(np.arange(len(y_trueSample)),np.ones(len(y_trueSample)),\\\n",
    "                color=[colors_pop_dict[x] for x in granularPopSample], marker='s')\n",
    "    ax2.set_title('Labeled Chromosome22', fontsize=30, y=0.3)\n",
    "    #chm plot of predictions\n",
    "    ax3.scatter(np.arange(len(mappedSpArr)),np.ones(len(mappedSpArr)),\\\n",
    "                color=[colorsPop_sp_dict[x]+(y,) for x,y in zip(mappedSpArr,alpha)], marker='s')\n",
    "    ax3.set_title('Predicted Chromosome22', fontsize=30, y=0.3)\n",
    "    \n",
    "    for ax in [ax2, ax3]:\n",
    "        ax.xaxis.set_major_locator(ticker.MultipleLocator(1.0))\n",
    "        ax.xaxis.set_minor_locator(ticker.MultipleLocator(4))\n",
    "        ax.xaxis.set_ticks_position('bottom')\n",
    "        ax.tick_params(which='major', width=2, length=10, labelsize=25)\n",
    "        ax.tick_params(which='minor', width=2, length=10, labelsize=10)\n",
    "        ax.set_xlim(0, 316)\n",
    "        ax.set_ylim(0.99,1.09)\n",
    "        positions = [0, 160, 300]\n",
    "        x_labels = [0, 150000, 317000]\n",
    "        ax.xaxis.set_major_locator(ticker.FixedLocator(positions))\n",
    "        ax.xaxis.set_major_formatter(ticker.FixedFormatter(x_labels))\n",
    "    \n",
    "    fig.tight_layout()\n",
    "    plt.show()\n",
    "    plt.close('all')"
   ]
  },
  {
   "cell_type": "code",
   "execution_count": null,
   "metadata": {
    "scrolled": false
   },
   "outputs": [],
   "source": [
    "plot_sample(namesSample, y_predSample, y_trueSample, pred_cps=pred_cps_BOCD, mappedSpArr=mappedSpArr)"
   ]
  },
  {
   "cell_type": "code",
   "execution_count": null,
   "metadata": {
    "collapsed": true
   },
   "outputs": [],
   "source": [
    "def plot_coordinates_map(granularPopNames, pred_coord, lbl_coord, **kwargs):\n",
    "    \"\"\"\n",
    "    plotly plot for coordinates on a map\n",
    "    label: target label vector (int) for the specific sample\n",
    "    data_coordinates: lat, long for the specific sample\n",
    "    rev_pop_order: dict with keys as target label ints and values\n",
    "    as granular population name\n",
    "    \"\"\"\n",
    "    cpShow=kwargs.get('cpShow')\n",
    "    pred_cps=kwargs.get('pred_cps') \n",
    "    alpha=[1.0]*len(lbl_coord)\n",
    "    if cpShow:\n",
    "        unknownIdx=np.nonzero(pred_cps)[0]\n",
    "        granularPopNames=[\"UNK\" if i in unknownIdx else granularPopNames[i] for i in range(len(granularPopNames))]\n",
    "    fig = go.Figure(go.Scattergeo())\n",
    "    colors_pop = sns.color_palette(\"rainbow\", len(np.unique(granularPopNames)))\n",
    "    \n",
    "    colors_pop_dict = {k:v for k,v in zip(np.unique(granularPopNames), colors_pop)}\n",
    "    colors_pop_dict['UNK']=(188,188,188) # grey color\n",
    "    fig.add_trace(go.Scattergeo(lon=pred_coord[:,1], lat=pred_coord[:,0], text = granularPopNames,\\\n",
    "    marker_color=['rgba'+str(colors_pop_dict[x]+(y,)) for x,y in zip(granularPopNames, alpha)]))\n",
    "    fig.update_traces(marker_size = 5)\n",
    "    fig.add_trace(go.Scattergeo(lon=lbl_coord[:,1], lat=lbl_coord[:,0], marker = dict(symbol = 'square'), \\\n",
    "                                text = granularPopNames))\n",
    "    fig.update_traces(marker_size = 5)\n",
    "\n",
    "    fig.show()\n",
    "    plt.show()\n",
    "    plt.close('all')"
   ]
  },
  {
   "cell_type": "code",
   "execution_count": null,
   "metadata": {},
   "outputs": [],
   "source": [
    "y_trueSample.shape"
   ]
  },
  {
   "cell_type": "code",
   "execution_count": null,
   "metadata": {
    "scrolled": false
   },
   "outputs": [],
   "source": [
    "lbl_coord=convert_coordinates(y_trueSample[:,0], y_trueSample[:,1], y_trueSample[:,2])\n",
    "pred_coord=convert_coordinates(y_predSample[:,0], y_predSample[:,1], y_predSample[:,2])\n",
    "granularPopNames=namesSample\n",
    "plot_coordinates_map(granularPopNames, pred_coord, lbl_coord, pred_cps=pred_cps_BOCD, cpShow=True)"
   ]
  },
  {
   "cell_type": "code",
   "execution_count": null,
   "metadata": {
    "collapsed": true
   },
   "outputs": [],
   "source": [
    "idxOfInterest=torch.unique(torch.nonzero(test_dataset.data['granular_pop']==granular_pop_dict[\"San\"])[:,0])"
   ]
  },
  {
   "cell_type": "code",
   "execution_count": null,
   "metadata": {},
   "outputs": [],
   "source": [
    "idxOfInterest"
   ]
  },
  {
   "cell_type": "code",
   "execution_count": null,
   "metadata": {
    "collapsed": true
   },
   "outputs": [],
   "source": [
    "@timer\n",
    "def plot_all(ax, y_preds, superpops, **kwargs):\n",
    "    cpShow=kwargs.get('cpShow')\n",
    "    pred_cps=kwargs.get('pred_cps')    \n",
    "    continentaPops=list(superop_dict.values())\n",
    "    colors_pop = sns.color_palette(\"bright\", 10)\n",
    "    del colors_pop[1]\n",
    "    del colors_pop[4]\n",
    "    del colors_pop[5]\n",
    "    colors_pop_dict = {k:v for k,v in zip(continentaPops, colors_pop)}\n",
    "    \n",
    "    alpha=[0.03]*len(y_preds)\n",
    "    if cpShow is None:\n",
    "        alpha=(pred_cps==0).astype(float)\n",
    "    \n",
    "    ax.scatter(y_preds[:,0], y_preds[:,1], y_preds[:,2], \\\n",
    "               color = [colors_pop_dict[x]+(y,) for x,y in zip(superpops, alpha)], marker=\".\", s=0.05,zorder=-1) \n",
    "    \n",
    "    patches=[]\n",
    "    for k, val in superop_dict.items():\n",
    "        patches.append(mpatches.Patch(color = colors_pop_dict[val], label = k))\n",
    "    lgnd = ax.legend(handles=patches, loc=\"upper right\", fontsize=15)\n",
    "    return lgnd, colors_pop_dict\n"
   ]
  },
  {
   "cell_type": "code",
   "execution_count": null,
   "metadata": {
    "collapsed": true
   },
   "outputs": [],
   "source": [
    "y_preds=results.t_out.coord_main\n",
    "y_predCps=getCpPred(cpMethod.gradient.name, y_predSample, 0.1, y_preds.shape[0], y_preds.shape[1])\n",
    "y_predCps=y_predCps.detach().cpu().numpy().reshape(-1,)\n",
    "y_preds=y_preds.reshape(-1,3)\n",
    "superpops=test_dataset.data['superpop'].detach().cpu().numpy().reshape(-1,)"
   ]
  },
  {
   "cell_type": "code",
   "execution_count": null,
   "metadata": {
    "collapsed": true
   },
   "outputs": [],
   "source": []
  }
 ],
 "metadata": {
  "kernelspec": {
   "display_name": "Python 3",
   "language": "python",
   "name": "python3"
  },
  "language_info": {
   "codemirror_mode": {
    "name": "ipython",
    "version": 3
   },
   "file_extension": ".py",
   "mimetype": "text/x-python",
   "name": "python",
   "nbconvert_exporter": "python",
   "pygments_lexer": "ipython3",
   "version": "3.6.1"
  }
 },
 "nbformat": 4,
 "nbformat_minor": 2
}
