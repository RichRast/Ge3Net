{
 "cells": [
  {
   "cell_type": "code",
   "execution_count": 1,
   "metadata": {
    "collapsed": true
   },
   "outputs": [],
   "source": [
    "import torch\n",
    "import sys\n",
    "import os\n",
    "import os.path as osp\n",
    "import pandas as pd\n",
    "import numpy as np\n",
    "import itertools\n",
    "import matplotlib.pyplot as plt\n",
    "import seaborn as sns\n",
    "from mpl_toolkits.mplot3d import Axes3D\n",
    "from matplotlib import ticker\n",
    "import matplotlib as mpl\n",
    "from matplotlib.colors import LogNorm\n",
    "import matplotlib.patches as mpatches\n",
    "from sklearn.metrics import precision_recall_curve, recall_score, precision_score, \\\n",
    "balanced_accuracy_score, accuracy_score\n",
    "from sklearn import metrics\n",
    "import math"
   ]
  },
  {
   "cell_type": "code",
   "execution_count": 2,
   "metadata": {
    "collapsed": true
   },
   "outputs": [],
   "source": [
    "os.environ['USER_PATH']='/home/users/richras/Ge2Net_Repo'\n",
    "os.environ['USER_SCRATCH_PATH']=\"/scratch/users/richras\"\n",
    "os.environ['IN_PATH']='/scratch/groups/cdbustam/richras/data_in'\n",
    "os.environ['OUT_PATH']='/scratch/groups/cdbustam/richras/data_out'\n",
    "os.environ['LOG_PATH']='/scratch/groups/cdbustam/richras/logs/'"
   ]
  },
  {
   "cell_type": "code",
   "execution_count": 3,
   "metadata": {
    "collapsed": true
   },
   "outputs": [],
   "source": [
    "os.chdir(os.environ.get('USER_PATH'))"
   ]
  },
  {
   "cell_type": "code",
   "execution_count": 4,
   "metadata": {
    "collapsed": true
   },
   "outputs": [],
   "source": [
    "%load_ext autoreload\n",
    "%autoreload 2\n",
    "from src.utils.dataUtil import load_path, save_file, vcf2npy, get_recomb_rate, interpolate_genetic_pos, form_windows\n",
    "from src.utils.modelUtil import Params, load_model\n",
    "from src.utils.labelUtil import nearestNeighbourMapping, repeat_pop_arr\n",
    "from src.utils.decorators import timer\n",
    "from src.models import AuxiliaryTask, LSTM, Attention, BasicBlock, Model_A, Model_B, Model_C, BOCD\n",
    "from src.models.distributions import Multivariate_Gaussian\n",
    "from src.main.evaluation import eval_cp_batch, reportChangePointMetrics, t_prMetrics, cpMethod, eval_cp_matrix, \\\n",
    "getCpPred\n",
    "import inference"
   ]
  },
  {
   "cell_type": "markdown",
   "metadata": {},
   "source": [
    "# load the model and use valid data "
   ]
  },
  {
   "cell_type": "code",
   "execution_count": 5,
   "metadata": {
    "collapsed": true
   },
   "outputs": [],
   "source": [
    "# Specify the dataset to be evaluated\n",
    "# chm22 pca full dataset and model\n",
    "labels_path = osp.join(os.environ['OUT_PATH'],'humans/labels/data_id_3_pca')\n",
    "data_path = osp.join(os.environ['OUT_PATH'],'humans/labels/data_id_3_pca')\n",
    "models_path=osp.join(os.environ['OUT_PATH'],'humans/training/Model_B_exp_id_11_data_id_3_pca/') \n",
    "dataset_type='valid'"
   ]
  },
  {
   "cell_type": "code",
   "execution_count": 13,
   "metadata": {},
   "outputs": [
    {
     "name": "stdout",
     "output_type": "stream",
     "text": [
      " device used: cuda\n",
      "Loading the datasets...\n",
      "Finished 'transform_data' in 27.3709 secs\n",
      "Finished '__init__' in 33.1825 secs\n",
      "model ['Model_B.model_B'] : AuxiliaryTask.AuxNetwork\n",
      "model ['Model_B.model_B'] : LSTM.BiRNN\n",
      "model ['Model_B.model_B'] : BasicBlock.logits_Block\n",
      "best val loss metrics : {'gcd': None, 'mse': 0.20385380191340585, 'smooth_l1': 0.09717841084952034, 'weighted_loss': 0.3457071813150901, 'loss_main': 0.3457071813150901, 'loss_aux': 0.8641278095425867}\n",
      "at epoch : 112\n",
      "train loss metrics: {'gcd': None, 'mse': 0.10245460406677359, 'smooth_l1': 0.04928272137641228, 'weighted_loss': 0.24640625585042975, 'loss_main': 0.22746289233439268, 'loss_aux': 0.9102970728931684}\n",
      "best val cp metrics : {'loss_cp': 0.07141693137653407, 'prMetrics': OrderedDict([('Precision', array(0.80763529)), ('Recall', array(0.41389135)), ('Accuracy', array(0.99065382)), ('A_major', array(0.99863571)), ('BalancedAccuracy', 0.7062635323904036)])}\n",
      "train cp metrics: {'loss_cp': 0.20447060657562408, 'prMetrics': OrderedDict([('Precision', array(0.0229576)), ('Recall', array(0.90289047)), ('Accuracy', array(0.70577835)), ('A_major', array(0.7042613)), ('BalancedAccuracy', 0.8035758843158733)])}\n",
      "best val sp metrics : None\n",
      "train sp metrics: None\n",
      "best val balanced gcd metrics : None\n",
      "train balanced gcd metrics: None\n",
      "Finished 'load_model' in 0.2532 secs\n",
      "Finished 'valid' in 80.4258 secs\n",
      "Finished 'main' in 114.1051 secs\n"
     ]
    }
   ],
   "source": [
    "config={}\n",
    "config['data.labels']=labels_path \n",
    "config['data.dir']=data_path \n",
    "config['models.dir']=models_path\n",
    "config['data.dataset_type']=dataset_type\n",
    "config['cuda']='cuda'\n",
    "config['model.loadBest']=False\n",
    "json_path = osp.join(config['models.dir'], 'params.json')\n",
    "assert osp.isfile(json_path), \"No json configuration file found at {}\".format(json_path)\n",
    "params = Params(json_path)\n",
    "params.rtnOuts=True\n",
    "params.mc_dropout=True\n",
    "params.mc_samples=100\n",
    "params.cp_tol=1\n",
    "params.balancedLoss=False\n",
    "results, valid_dataset,_,_=inference.main(config, params)"
   ]
  },
  {
   "cell_type": "code",
   "execution_count": 14,
   "metadata": {},
   "outputs": [
    {
     "data": {
      "text/plain": [
       "({'gcd': None,\n",
       "  'loss_aux': 0.8932564749119528,\n",
       "  'loss_main': 0.3306829041933149,\n",
       "  'mse': 0.1720936282936671,\n",
       "  'smooth_l1': 0.0827654607555313,\n",
       "  'weighted_loss': 0.3306829041933149},\n",
       " {'loss_cp': 0.21637593229414243,\n",
       "  'prMetrics': OrderedDict([('Precision', array(0.0407651)),\n",
       "               ('Recall', array(0.89464354)),\n",
       "               ('Accuracy', array(0.71120176)),\n",
       "               ('A_major', array(0.70866309)),\n",
       "               ('BalancedAccuracy', 0.8016533112523417)])})"
      ]
     },
     "execution_count": 14,
     "metadata": {},
     "output_type": "execute_result"
    }
   ],
   "source": [
    "results.t_accr, results.t_cp_accr"
   ]
  },
  {
   "cell_type": "code",
   "execution_count": 15,
   "metadata": {
    "collapsed": true
   },
   "outputs": [],
   "source": [
    "results.t_out.coord_main=results.t_out.coord_main.mean(0)"
   ]
  },
  {
   "cell_type": "code",
   "execution_count": 16,
   "metadata": {},
   "outputs": [
    {
     "name": "stdout",
     "output_type": "stream",
     "text": [
      "Finished 'run_recursive' in 209.6635 secs\n"
     ]
    }
   ],
   "source": [
    "y_pred = results.t_out.coord_main\n",
    "n_vec_dim=y_pred.shape[-1]\n",
    "data_tensor = torch.tensor(y_pred).float()\n",
    "batch_size_cpd = data_tensor.shape[0]\n",
    "mu_prior = torch.zeros((batch_size_cpd, 1,n_vec_dim))\n",
    "mean_var=torch.mean(torch.var(data_tensor, dim =1),dim=0).unsqueeze(0)\n",
    "cov_prior = (mean_var.repeat(batch_size_cpd,1).unsqueeze(1)* torch.eye(n_vec_dim)).reshape(batch_size_cpd,1,n_vec_dim,n_vec_dim)\n",
    "cov_x = cov_prior\n",
    "likelihood_model = Multivariate_Gaussian(mu_prior, cov_prior, cov_x)\n",
    "T = params.n_win\n",
    "model_cpd = BOCD.BOCD(None, T, likelihood_model, batch_size_cpd)\n",
    "_,_,_,_=model_cpd.run_recursive(data_tensor, 'cpu')"
   ]
  },
  {
   "cell_type": "code",
   "execution_count": 17,
   "metadata": {
    "collapsed": true
   },
   "outputs": [],
   "source": [
    "granular_pop_dict = load_path(osp.join(labels_path, 'granular_pop.pkl'), en_pickle=True)\n",
    "superop_dict=load_path(osp.join(labels_path, 'superpop.pkl'), en_pickle=True)\n",
    "pop_sample_map=pd.read_csv(osp.join(labels_path, 'pop_sample_map.tsv'),sep=\"\\t\")\n",
    "pop_arr=repeat_pop_arr(pop_sample_map)\n",
    "cp_target=valid_dataset.data['cps']\n",
    "seqlen=cp_target.shape[1]\n",
    "rev_pop_dict={v:k for k,v in granular_pop_dict.items()}\n",
    "rev_sp_dict={v:k for k,v in superop_dict.items()}"
   ]
  },
  {
   "cell_type": "code",
   "execution_count": 18,
   "metadata": {
    "scrolled": false
   },
   "outputs": [
    {
     "name": "stdout",
     "output_type": "stream",
     "text": [
      "2650\n"
     ]
    }
   ],
   "source": [
    "# index = 2500\n",
    "# index=2620\n",
    "index=2650\n",
    "# index=3000\n",
    "# index=3100\n",
    "# index=2134\n",
    "# index=np.random.choice(idxOfInterest)\n",
    "print(index)\n",
    "true_cpsSample=cp_target[index,:].detach().cpu().numpy()\n",
    "y_predSample=results.t_out.coord_main[index,:]\n",
    "y_trueSample=valid_dataset.data['y'][index,:]\n",
    "granularpopSample=valid_dataset.data['granular_pop'][index,:]\n",
    "namesSample=[rev_pop_dict[i] for i in granularpopSample.astype(int)]\n",
    "superPopSample=valid_dataset.data['superpop'][index,:]\n",
    "SpNamesSample=[rev_sp_dict[i] for i in superPopSample.astype(int)]"
   ]
  },
  {
   "cell_type": "code",
   "execution_count": 19,
   "metadata": {},
   "outputs": [
    {
     "data": {
      "text/plain": [
       "(317, 3)"
      ]
     },
     "execution_count": 19,
     "metadata": {},
     "output_type": "execute_result"
    }
   ],
   "source": [
    "y_predSample.shape"
   ]
  },
  {
   "cell_type": "code",
   "execution_count": 20,
   "metadata": {
    "collapsed": true
   },
   "outputs": [],
   "source": [
    "pred_cps=getCpPred(cpMethod.gradient.name, y_predSample, 0.1, 1, len(true_cpsSample))\n",
    "pred_cps=pred_cps.squeeze(0).detach().cpu().numpy()# squeeze the batch dimension of 1"
   ]
  },
  {
   "cell_type": "code",
   "execution_count": 21,
   "metadata": {
    "collapsed": true
   },
   "outputs": [],
   "source": [
    "predBOCDSample=model_cpd.cp[index,:]\n",
    "pred_cps_BOCD=getCpPred(cpMethod.BOCD.name, predBOCDSample, 5.0, 1, len(true_cpsSample))\n",
    "pred_cps_BOCD=pred_cps_BOCD.squeeze(0).detach().cpu().numpy()# squeeze the batch dimension of 1"
   ]
  },
  {
   "cell_type": "code",
   "execution_count": 22,
   "metadata": {
    "collapsed": true
   },
   "outputs": [],
   "source": [
    "cpIdx=np.nonzero(pred_cps_BOCD)[0]\n",
    "remWin=3\n",
    "for i in cpIdx:\n",
    "    low=max(0,i-remWin)\n",
    "    high=min(seqlen, i+remWin)\n",
    "    pred_cps_BOCD[low:high]=1"
   ]
  },
  {
   "cell_type": "code",
   "execution_count": 23,
   "metadata": {},
   "outputs": [
    {
     "name": "stdout",
     "output_type": "stream",
     "text": [
      "Finished 'getSuperpopBins' in 0.0730 secs\n"
     ]
    }
   ],
   "source": [
    "mappedSpArr=nearestNeighbourMapping(labels_path, y_predSample.reshape(-1,3))"
   ]
  },
  {
   "cell_type": "code",
   "execution_count": 24,
   "metadata": {},
   "outputs": [
    {
     "data": {
      "text/plain": [
       "(317,)"
      ]
     },
     "execution_count": 24,
     "metadata": {},
     "output_type": "execute_result"
    }
   ],
   "source": [
    "mappedSpArr.shape"
   ]
  },
  {
   "cell_type": "code",
   "execution_count": 25,
   "metadata": {
    "collapsed": true
   },
   "outputs": [],
   "source": [
    "y_predsTrue=valid_dataset.data['y'].detach().cpu().numpy().reshape(-1,3)\n",
    "superpopsTrue=valid_dataset.data['superpop'].detach().cpu().numpy().reshape(-1,)"
   ]
  },
  {
   "cell_type": "code",
   "execution_count": 138,
   "metadata": {
    "collapsed": true
   },
   "outputs": [],
   "source": [
    "@timer\n",
    "def plot_sample(granularPopSample, y_predSample, y_trueSample, **kwargs):\n",
    "    backgroundAxis=kwargs.get('backgroundAxis')\n",
    "    y_predCps=kwargs.get('y_predCps')\n",
    "    y_preds=kwargs.get('y_preds')\n",
    "    superpops=kwargs.get('superpops')\n",
    "    cpShow=kwargs.get('cpShow')\n",
    "    pred_cps=kwargs.get('pred_cps')\n",
    "    mappedSpArr=kwargs.get('mappedSpArr')\n",
    "    superPopSample=kwargs.get('superPopSample')\n",
    "    \n",
    "    \n",
    "    fig, ax = plt.subplots(figsize=(12,14))\n",
    "    plt.rcParams['hatch.color']='grey'\n",
    "    \n",
    "    gs1 = fig.add_gridspec(nrows=3, ncols=1, height_ratios=[13,1,1])\n",
    "    ax1=fig.add_subplot(gs1[0],projection='3d')\n",
    "    ax1.set_xlim(np.array([-2,2])*.77)\n",
    "    ax1.set_ylim(np.array([-2,2])*.77)\n",
    "    ax1.set_zlim(np.array([-2,2])*.77)\n",
    "    ax2=fig.add_subplot(gs1[1])\n",
    "    ax3=fig.add_subplot(gs1[2])\n",
    "    for axis in [ax, ax2, ax3]:\n",
    "        axis.set_yticks([])\n",
    "        axis.spines['top'].set_color('none')\n",
    "        axis.spines['left'].set_color('none')\n",
    "        axis.spines['right'].set_color('none')\n",
    "    ax.set_xticks([])\n",
    "    fig.subplots_adjust(left=0, right=0.5, bottom=0, top=0.5)\n",
    "    plt.subplots_adjust(hspace=0.01)\n",
    "    \n",
    "    if backgroundAxis:\n",
    "        lgnd, colorsPop_sp_dict =plot_all(ax1, y_preds, superpops, cpShow=False)\n",
    "    else:\n",
    "        continentaPops=list(superop_dict.values())\n",
    "        colorsPop_sp = sns.color_palette(\"bright\", 10)\n",
    "        del colorsPop_sp[1]\n",
    "        del colorsPop_sp[4]\n",
    "        del colorsPop_sp[5]\n",
    "        colorsPop_sp_dict = {k:v for k,v in zip(continentaPops, colorsPop_sp)}\n",
    "        patches=[]\n",
    "        for k, val in superop_dict.items():\n",
    "            patches.append(mpatches.Patch(color = colorsPop_sp_dict[val], label = k))\n",
    "        lgnd = ax1.legend(handles=patches, loc=\"upper right\", fontsize=15, bbox_to_anchor=(-0.15, 0.49, 1., .5))\n",
    "\n",
    "    ax1.add_artist(lgnd)\n",
    "    #colors_pop = sns.color_palette(\"rainbow\", len(np.unique(granularPopSample)))\n",
    "    #colors_pop_dict = {k:v for k,v in zip(np.unique(granularPopSample), colors_pop)}\n",
    "    colors_Gp_dict,_,_=getColorsPop(granularpopSample, superPopSample, colorsPop_sp_dict)\n",
    "    colors_pop_dict=colors_Gp_dict\n",
    "\n",
    "    alpha=[1]*len(y_predSample)\n",
    "    if cpShow is None:\n",
    "        #alpha=(pred_cps==0).astype(float)\n",
    "        unknownIdx=np.nonzero(pred_cps)[0]\n",
    "        granularPopNames=[\"UNK\" if i in unknownIdx else granularPopSample[i] for i in range(len(granularPopSample))]\n",
    "        colors_pop_dict[\"UNK\"]=(0.9,0.9,0.9) # grey color\n",
    "        mappedSpArr[unknownIdx]=-1\n",
    "        colorsPop_sp_dict[-1]=(0.9,0.9,0.9) # grey color\n",
    "        knownIdx=[i for i in range(len(granularPopNames)) if granularPopNames[i]!=\"UNK\"]\n",
    "        \n",
    "    ax1.scatter(y_predSample[knownIdx,0], y_predSample[knownIdx,1], y_predSample[knownIdx,2],\\\n",
    "    color = [tuple(colors_pop_dict[x])+(y,) for x,y in zip([granularPopNames[i] for i in knownIdx], alpha)], s=50, zorder=0)\n",
    "    \n",
    "    ax1.scatter(y_predSample[unknownIdx,0], y_predSample[unknownIdx,1], y_predSample[unknownIdx,2], facecolor='grey', hatch=3*'+',\\\n",
    "    color = [tuple(colors_pop_dict[x])+(y,) for x,y in zip([granularPopNames[i] for i in unknownIdx], alpha)], s=50, zorder=0) \n",
    "    \n",
    "    #ToDo: plot only the unique trueSample instead of all the windows\n",
    "    ax1.scatter(y_trueSample[:,0], y_trueSample[:,1], y_trueSample[:,2], linewidth=1, \\\n",
    "    color = [tuple(colors_pop_dict[x]) for x in granularPopSample], marker='X', s=200, zorder=0)\n",
    "    \n",
    "    for axis in [ax1.xaxis, ax1.yaxis, ax1.zaxis]:\n",
    "        axis.set_pane_color((1.0, 1.0, 1.0, 0.0))\n",
    "        axis._axinfo[\"grid\"]['color'] = (1,1,1,0)\n",
    "    patches=[]\n",
    "    for i, val in enumerate(np.unique(granularPopSample)):\n",
    "        patches.append(mpatches.Patch(color = colors_pop_dict[val], label = rev_pop_dict[val]))\n",
    "    patches.append(mpatches.Patch(facecolor = (0.9,0.9,0.9), label = \"Changepoint\", hatch=3*'+')) #add UNK legend patch separately\n",
    "    ax1.legend(handles=patches, loc=\"upper left\", fontsize=20)\n",
    "    \n",
    "    #chm plot ground truth\n",
    "    ax2.bar(np.arange(len(y_trueSample)),\\\n",
    "    color=[colors_pop_dict[x] for x in granularPopSample], width=1.0, height=1.02)\n",
    "    ax2.set_title('Labeled Chromosome22', fontsize=30, y=0.3)\n",
    "    \n",
    "    #chm plot of predictions\n",
    "    ax3.bar(knownIdx, 1.02*np.ones(len(mappedSpArr[knownIdx])), \\\n",
    "            color=[colorsPop_sp_dict[x]+(y,) for x,y in zip(mappedSpArr[knownIdx],alpha)], \\\n",
    "            width=1.0)\n",
    "    ax3.bar(unknownIdx, 1.02*np.ones(len(mappedSpArr[unknownIdx])), \\\n",
    "        color=[colorsPop_sp_dict[x]+(y,) for x,y in zip(mappedSpArr[unknownIdx],alpha)], \\\n",
    "        width=1.0, hatch=3*\"+\")\n",
    "    ax3.set_title('Predicted Chromosome22', fontsize=30, y=0.3)\n",
    "    \n",
    "    for ax in [ax2, ax3]:\n",
    "        ax.xaxis.set_major_locator(ticker.MultipleLocator(1.0))\n",
    "        ax.xaxis.set_minor_locator(ticker.MultipleLocator(4))\n",
    "        ax.xaxis.set_ticks_position('bottom')\n",
    "        ax.tick_params(which='major', width=2, length=10, labelsize=25)\n",
    "        ax.tick_params(which='minor', width=2, length=6, labelsize=10)\n",
    "        ax.set_xlim(0, 316)\n",
    "        ax.set_ylim(0.99,1.09)\n",
    "        positions = [0, 160, 300]\n",
    "        x_labels = [0, 150000, 317000]\n",
    "        ax.xaxis.set_major_locator(ticker.FixedLocator(positions))\n",
    "        ax.xaxis.set_major_formatter(ticker.FixedFormatter(x_labels))\n",
    "    \n",
    "    plt.tight_layout(pad=0.4, w_pad=0.3, h_pad=0.3)\n",
    "    plt.show()\n",
    "    plt.close('all')"
   ]
  },
  {
   "cell_type": "code",
   "execution_count": 158,
   "metadata": {
    "scrolled": false
   },
   "outputs": [
    {
     "name": "stdout",
     "output_type": "stream",
     "text": [
      "Finished 'plot_all' in 14.4158 secs\n"
     ]
    },
    {
     "data": {
      "image/png": "[encoded data removed]",
      "text/plain": [
       "<Figure size 864x1008 with 4 Axes>"
      ]
     },
     "metadata": {},
     "output_type": "display_data"
    },
    {
     "name": "stdout",
     "output_type": "stream",
     "text": [
      "Finished 'plot_sample' in 28.4312 secs\n"
     ]
    }
   ],
   "source": [
    "plot_sample(granularpopSample, y_predSample, y_trueSample, pred_cps=pred_cps_BOCD, mappedSpArr=mappedSpArr, \\\n",
    "backgroundAxis=True, y_preds=y_predsTrue, superpops=superpopsTrue, superPopSample=superPopSample)"
   ]
  },
  {
   "cell_type": "code",
   "execution_count": 155,
   "metadata": {
    "collapsed": true
   },
   "outputs": [],
   "source": [
    "@timer\n",
    "def plot_all(ax, y_preds, superpops, **kwargs):\n",
    "    cpShow=kwargs.get('cpShow')\n",
    "    pred_cps=kwargs.get('pred_cps')    \n",
    "    continentaPops=list(superop_dict.values())\n",
    "    colors_pop = sns.color_palette(\"bright\", 10)\n",
    "    del colors_pop[1]\n",
    "    del colors_pop[4]\n",
    "    del colors_pop[5]\n",
    "    colors_pop_dict = {k:v for k,v in zip(continentaPops, colors_pop)}\n",
    "    \n",
    "    alpha=[0.03]*len(y_preds)\n",
    "    if cpShow is None:\n",
    "        alpha=(pred_cps==0).astype(float)\n",
    "    \n",
    "    ax.scatter(y_preds[:,0], y_preds[:,1], y_preds[:,2], \\\n",
    "               color = [colors_pop_dict[x]+(y,) for x,y in zip(superpops, alpha)], marker=\".\", s=0.05,zorder=-1) \n",
    "    \n",
    "    patches=[]\n",
    "    for k, val in superop_dict.items():\n",
    "        patches.append(mpatches.Patch(color = colors_pop_dict[val], label = k))\n",
    "    lgnd = ax.legend(handles=patches, loc=\"upper right\", fontsize=15, bbox_to_anchor=(-0.15, 0.49, 1., .5))\n",
    "    return lgnd, colors_pop_dict\n"
   ]
  },
  {
   "cell_type": "code",
   "execution_count": 28,
   "metadata": {
    "collapsed": true
   },
   "outputs": [],
   "source": [
    "y_preds=results.t_out.coord_main\n",
    "y_predCps=getCpPred(cpMethod.gradient.name, y_predSample, 0.1, y_preds.shape[0], y_preds.shape[1])\n",
    "y_predCps=y_predCps.detach().cpu().numpy().reshape(-1,)\n",
    "y_preds=y_preds.reshape(-1,3)\n",
    "superpops=valid_dataset.data['superpop'].detach().cpu().numpy().reshape(-1,)"
   ]
  },
  {
   "cell_type": "code",
   "execution_count": 29,
   "metadata": {
    "collapsed": true,
    "scrolled": false
   },
   "outputs": [],
   "source": [
    "# lgnd, _=plot_all(y_preds, superpops, pred_cps=y_predCps)"
   ]
  },
  {
   "cell_type": "code",
   "execution_count": 30,
   "metadata": {},
   "outputs": [
    {
     "data": {
      "text/plain": [
       "{'AFR': 4, 'AMR': 2, 'EAS': 1, 'EUR': 0, 'OCE': 5, 'SAS': 3, 'WAS': 6}"
      ]
     },
     "execution_count": 30,
     "metadata": {},
     "output_type": "execute_result"
    }
   ],
   "source": [
    "superop_dict"
   ]
  },
  {
   "cell_type": "code",
   "execution_count": 31,
   "metadata": {
    "collapsed": true
   },
   "outputs": [],
   "source": [
    "def linear_gradient(start_rgb, finish_rgb, n):\n",
    "    ''' returns a gradient list of (n) colors between\n",
    "      two rgb colors. start_rgb and finish_rgb\n",
    "       '''\n",
    "    # Initilize a list of the output colors with the starting color\n",
    "    RGB_list = [start_rgb]\n",
    "    # Calcuate a color at each evenly spaced value of t from 1 to n\n",
    "    for t in range(1, n):\n",
    "        # Interpolate RGB vector for color at the current value of t\n",
    "        curr_vector = [\n",
    "            (start_rgb[j] + (float(t)/(n-1))*(finish_rgb[j]-start_rgb[j]))\n",
    "            for j in range(3)\n",
    "        ]\n",
    "        # Add it to our list of output colors\n",
    "        RGB_list.append(curr_vector)\n",
    "    \n",
    "    return RGB_list"
   ]
  },
  {
   "cell_type": "code",
   "execution_count": 32,
   "metadata": {
    "collapsed": true
   },
   "outputs": [],
   "source": [
    "idxOfInterest=torch.unique(torch.nonzero(valid_dataset.data['granular_pop']==granular_pop_dict[\"San\"])[:,0])"
   ]
  },
  {
   "cell_type": "code",
   "execution_count": 33,
   "metadata": {},
   "outputs": [
    {
     "data": {
      "text/plain": [
       "tensor([1040, 1041, 1294, 1700, 1897, 2156, 2165, 2186, 2302, 2447, 2520, 2851,\n",
       "        2876, 3030, 3133, 3233, 3248, 3296, 3506, 3532, 3533, 3553, 3570, 3579])"
      ]
     },
     "execution_count": 33,
     "metadata": {},
     "output_type": "execute_result"
    }
   ],
   "source": [
    "idxOfInterest"
   ]
  },
  {
   "cell_type": "code",
   "execution_count": 34,
   "metadata": {
    "collapsed": true
   },
   "outputs": [],
   "source": [
    "def getColorsPop(granularpopSample, superPopSample, colorsSP_dict):\n",
    "    counterSPUsed={k:0 for k in range(7)}\n",
    "    haploGp ={}\n",
    "    gpMap2Sp_Color={}\n",
    "    for i in np.unique(granularpopSample):\n",
    "        idx=np.nonzero(granularpopSample==i)[0][0]\n",
    "        sp=superPopSample[idx]\n",
    "        colorIdx=3*counterSPUsed[sp]+3 # because we want to pick alternate colors separated by 2 hops\n",
    "        gpMap2Sp_Color[i]=(sp,colorIdx)\n",
    "        counterSPUsed[sp] +=1\n",
    "    \n",
    "    spGradient=getGradient(counterSPUsed, colorsSP_dict)\n",
    "    \n",
    "    for i in np.unique(granularpopSample):\n",
    "        haploGp[i]=spGradient[gpMap2Sp_Color[i][0]][gpMap2Sp_Color[i][1]]\n",
    "    \n",
    "    return haploGp, counterSPUsed, gpMap2Sp_Color"
   ]
  },
  {
   "cell_type": "code",
   "execution_count": 157,
   "metadata": {
    "collapsed": true
   },
   "outputs": [],
   "source": [
    "\n",
    "continentaPops=list(superop_dict.values())\n",
    "colorsPop = sns.color_palette(\"bright\", 10)\n",
    "del colorsPop[1]\n",
    "del colorsPop[4]\n",
    "del colorsPop[5]\n",
    "colorsSP_dict = {k:v for k,v in zip(continentaPops, colorsPop)}\n",
    "\n",
    "def getGradient(counterSPUsed, colorsSP_dict):\n",
    "    spGradient={}\n",
    "    for k,v in colorsSP_dict.items():\n",
    "        if counterSPUsed[k]>0:\n",
    "            if k<=len(colorsSP_dict)-2:\n",
    "                finish_rgb=k+1\n",
    "            else:\n",
    "                finish_rgb=0\n",
    "            if k == 3:\n",
    "                spGradient[k]=linear_gradient(start_rgb=[147.0/255.0, 112.0/255.0, 219.0/255.0], finish_rgb=[139.0/255.0, 0.0/255.0, 139.0/255.0],\\\n",
    "                n= max(15,3*counterSPUsed[k]+3))                \n",
    "            else:\n",
    "                spGradient[k]=linear_gradient(start_rgb=v, finish_rgb=colorsSP_dict[finish_rgb],\\\n",
    "                n= max(15,3*counterSPUsed[k]+3))\n",
    "#             spGradient[k]=linear_gradient(start_rgb=v, finish_rgb=[1.0, 1.0, 1.0],\\\n",
    "#             n= max(10,3*counterSPUsed[k]+3))\n",
    "\n",
    "    return spGradient\n",
    "    \n",
    "uniqueGpSample=np.unique(namesSample)\n",
    "uniqueSpSample=np.unique(SpNamesSample)\n",
    "colors_Gp_dict, counterSPUsed, gpMap2Sp_Color=getColorsPop(granularpopSample, superPopSample, colorsSP_dict)"
   ]
  },
  {
   "cell_type": "code",
   "execution_count": 35,
   "metadata": {},
   "outputs": [
    {
     "name": "stdout",
     "output_type": "stream",
     "text": [
      "granular_pop:Southern Han Chinese\n",
      "superpop:EAS\n"
     ]
    },
    {
     "data": {
      "image/png": "[encoded data removed]",
      "text/plain": [
       "<Figure size 216x72 with 1 Axes>"
      ]
     },
     "metadata": {},
     "output_type": "display_data"
    },
    {
     "data": {
      "image/png": "[encoded data removed]",
      "text/plain": [
       "<Figure size 216x72 with 1 Axes>"
      ]
     },
     "metadata": {},
     "output_type": "display_data"
    },
    {
     "name": "stdout",
     "output_type": "stream",
     "text": [
      "granular_pop:Kinh Vietnamese\n",
      "superpop:EAS\n"
     ]
    },
    {
     "data": {
      "image/png": "[encoded data removed]",
      "text/plain": [
       "<Figure size 216x72 with 1 Axes>"
      ]
     },
     "metadata": {},
     "output_type": "display_data"
    },
    {
     "name": "stdout",
     "output_type": "stream",
     "text": [
      "granular_pop:Bengali\n",
      "superpop:SAS\n"
     ]
    },
    {
     "data": {
      "image/png": "[encoded data removed]",
      "text/plain": [
       "<Figure size 216x72 with 1 Axes>"
      ]
     },
     "metadata": {},
     "output_type": "display_data"
    },
    {
     "name": "stdout",
     "output_type": "stream",
     "text": [
      "granular_pop:Sri Lankan\n",
      "superpop:SAS\n"
     ]
    },
    {
     "data": {
      "image/png": "[encoded data removed]",
      "text/plain": [
       "<Figure size 216x72 with 1 Axes>"
      ]
     },
     "metadata": {},
     "output_type": "display_data"
    },
    {
     "name": "stdout",
     "output_type": "stream",
     "text": [
      "granular_pop:Tuscan\n",
      "superpop:EUR\n"
     ]
    },
    {
     "data": {
      "image/png": "[encoded data removed]",
      "text/plain": [
       "<Figure size 216x72 with 1 Axes>"
      ]
     },
     "metadata": {},
     "output_type": "display_data"
    },
    {
     "name": "stdout",
     "output_type": "stream",
     "text": [
      "granular_pop:Pathan\n",
      "superpop:SAS\n"
     ]
    },
    {
     "data": {
      "image/png": "[encoded data removed]",
      "text/plain": [
       "<Figure size 216x72 with 1 Axes>"
      ]
     },
     "metadata": {},
     "output_type": "display_data"
    },
    {
     "name": "stdout",
     "output_type": "stream",
     "text": [
      "granular_pop:Basque\n",
      "superpop:EUR\n"
     ]
    },
    {
     "data": {
      "image/png": "[encoded data removed]",
      "text/plain": [
       "<Figure size 216x72 with 1 Axes>"
      ]
     },
     "metadata": {},
     "output_type": "display_data"
    }
   ],
   "source": [
    "for k, v in colors_Gp_dict.items():\n",
    "    print(f\"granular_pop:{rev_pop_dict[int(k)]}\")\n",
    "    print(f\"superpop:{rev_sp_dict[int(gpMap2Sp_Color[k][0])]}\")\n",
    "    sns.palplot(v)\n",
    "    plt.show()\n"
   ]
  },
  {
   "cell_type": "code",
   "execution_count": 34,
   "metadata": {},
   "outputs": [
    {
     "name": "stdout",
     "output_type": "stream",
     "text": [
      "EUR color\n",
      "gradient color\n"
     ]
    },
    {
     "ename": "NameError",
     "evalue": "name 'spGradient' is not defined",
     "output_type": "error",
     "traceback": [
      "\u001b[0;31m---------------------------------------------------------------------------\u001b[0m",
      "\u001b[0;31mNameError\u001b[0m                                 Traceback (most recent call last)",
      "\u001b[0;32m<ipython-input-34-11d6da5fd8c3>\u001b[0m in \u001b[0;36m<module>\u001b[0;34m()\u001b[0m\n\u001b[1;32m      4\u001b[0m     \u001b[0msns\u001b[0m\u001b[0;34m.\u001b[0m\u001b[0mpalplot\u001b[0m\u001b[0;34m(\u001b[0m\u001b[0mcolorsSP_dict\u001b[0m\u001b[0;34m[\u001b[0m\u001b[0mi\u001b[0m\u001b[0;34m]\u001b[0m\u001b[0;34m)\u001b[0m\u001b[0;34m\u001b[0m\u001b[0m\n\u001b[1;32m      5\u001b[0m     \u001b[0mprint\u001b[0m\u001b[0;34m(\u001b[0m\u001b[0;34m\"gradient color\"\u001b[0m\u001b[0;34m)\u001b[0m\u001b[0;34m\u001b[0m\u001b[0m\n\u001b[0;32m----> 6\u001b[0;31m     \u001b[0msns\u001b[0m\u001b[0;34m.\u001b[0m\u001b[0mpalplot\u001b[0m\u001b[0;34m(\u001b[0m\u001b[0mspGradient\u001b[0m\u001b[0;34m[\u001b[0m\u001b[0mi\u001b[0m\u001b[0;34m]\u001b[0m\u001b[0;34m)\u001b[0m\u001b[0;34m\u001b[0m\u001b[0m\n\u001b[0m\u001b[1;32m      7\u001b[0m     \u001b[0mplt\u001b[0m\u001b[0;34m.\u001b[0m\u001b[0mshow\u001b[0m\u001b[0;34m(\u001b[0m\u001b[0;34m)\u001b[0m\u001b[0;34m\u001b[0m\u001b[0m\n\u001b[1;32m      8\u001b[0m \u001b[0mplt\u001b[0m\u001b[0;34m.\u001b[0m\u001b[0mclose\u001b[0m\u001b[0;34m(\u001b[0m\u001b[0;34m'all'\u001b[0m\u001b[0;34m)\u001b[0m\u001b[0;34m\u001b[0m\u001b[0m\n",
      "\u001b[0;31mNameError\u001b[0m: name 'spGradient' is not defined"
     ]
    }
   ],
   "source": [
    "continentaPops=list(superop_dict.keys())\n",
    "for i in range(7):\n",
    "    print(f\"{continentaPops[i]} color\")\n",
    "    sns.palplot(colorsSP_dict[i])\n",
    "    print(\"gradient color\")\n",
    "    sns.palplot(spGradient[i])\n",
    "    plt.show()\n",
    "plt.close('all')"
   ]
  },
  {
   "cell_type": "code",
   "execution_count": null,
   "metadata": {
    "collapsed": true
   },
   "outputs": [],
   "source": [
    "granular_pop_dict"
   ]
  },
  {
   "cell_type": "code",
   "execution_count": null,
   "metadata": {
    "collapsed": true
   },
   "outputs": [],
   "source": [
    "spGradient[3]"
   ]
  },
  {
   "cell_type": "code",
   "execution_count": null,
   "metadata": {
    "collapsed": true,
    "scrolled": false
   },
   "outputs": [],
   "source": [
    "cmaps = [('Perceptually Uniform Sequential', [\n",
    "            'viridis', 'plasma', 'inferno', 'magma','rainbow']),\n",
    "         ('Sequential', [\n",
    "            'Greys', 'Purples', 'Blues', 'Greens', 'Oranges', 'Reds',\n",
    "            'YlOrBr', 'YlOrRd', 'OrRd', 'PuRd', 'RdPu', 'BuPu',\n",
    "            'GnBu', 'PuBu', 'YlGnBu', 'PuBuGn', 'BuGn', 'YlGn']),\n",
    "         ('Sequential (2)', [\n",
    "            'binary', 'gist_yarg', 'gist_gray', 'gray', 'bone', 'pink',\n",
    "            'spring', 'summer', 'autumn', 'winter', 'cool', 'Wistia',\n",
    "            'hot', 'afmhot', 'gist_heat', 'copper']),\n",
    "         ('Diverging', [\n",
    "            'PiYG', 'PRGn', 'BrBG', 'PuOr', 'RdGy', 'RdBu',\n",
    "            'RdYlBu', 'RdYlGn', 'Spectral', 'coolwarm', 'bwr', 'seismic']),\n",
    "         ]\n",
    "\n",
    "\n",
    "nrows = max(len(cmap_list) for cmap_category, cmap_list in cmaps)\n",
    "gradient = np.linspace(0, 1, 14)\n",
    "gradient = np.vstack((gradient, gradient))\n",
    "\n",
    "\n",
    "def plot_color_gradients(cmap_category, cmap_list, nrows):\n",
    "    fig, axes = plt.subplots(nrows=nrows)\n",
    "    fig.subplots_adjust(top=0.95, bottom=0.01, left=0.2, right=0.99)\n",
    "    axes[0].set_title(cmap_category + ' colormaps', fontsize=14)\n",
    "\n",
    "    for ax, name in zip(axes, cmap_list):\n",
    "        ax.imshow(gradient, aspect='auto', cmap=plt.get_cmap(name))\n",
    "        pos = list(ax.get_position().bounds)\n",
    "        x_text = pos[0] - 0.01\n",
    "        y_text = pos[1] + pos[3]/2.\n",
    "        fig.text(x_text, y_text, name, va='center', ha='right', fontsize=10)\n",
    "\n",
    "    # Turn off *all* ticks & spines, not just the ones with colormaps.\n",
    "    for ax in axes:\n",
    "        ax.set_axis_off()\n",
    "\n",
    "\n",
    "for cmap_category, cmap_list in cmaps:\n",
    "    plot_color_gradients(cmap_category, cmap_list, nrows)\n",
    "\n",
    "plt.show()"
   ]
  },
  {
   "cell_type": "code",
   "execution_count": null,
   "metadata": {
    "collapsed": true
   },
   "outputs": [],
   "source": [
    "fig,ax=plt.subplots()\n",
    "gradient = np.linspace(0, 1, 34)\n",
    "gradient = np.vstack((gradient, gradient))\n",
    "ax.imshow(gradient, aspect='auto', cmap='tab10')\n",
    "plt.show()"
   ]
  },
  {
   "cell_type": "code",
   "execution_count": null,
   "metadata": {
    "collapsed": true
   },
   "outputs": [],
   "source": [
    "gradient"
   ]
  },
  {
   "cell_type": "code",
   "execution_count": null,
   "metadata": {
    "collapsed": true
   },
   "outputs": [],
   "source": [
    "from matplotlib.colors import LinearSegmentedColormap\n",
    "\n",
    "def grayscale_cmap(cmap):\n",
    "    \"\"\"Return a grayscale version of the given colormap\"\"\"\n",
    "    cmap = plt.cm.get_cmap(cmap)\n",
    "    colors = cmap(np.arange(cmap.N))\n",
    "\n",
    "    # convert RGBA to perceived grayscale luminance\n",
    "    # cf. http://alienryderflex.com/hsp.html\n",
    "    RGB_weight = [0.299, 0.587, 0.114]\n",
    "    luminance = np.sqrt(np.dot(colors[:, :3] ** 2, RGB_weight))\n",
    "    colors[:, :3] = luminance[:, np.newaxis]\n",
    "\n",
    "    return LinearSegmentedColormap.from_list(cmap.name + \"_gray\", colors, cmap.N)\n",
    "\n",
    "\n",
    "def view_colormap(cmap):\n",
    "    \"\"\"Plot a colormap with its grayscale equivalent\"\"\"\n",
    "    cmap = plt.cm.get_cmap(cmap)\n",
    "    colors = cmap(np.arange(cmap.N))\n",
    "\n",
    "    cmap = grayscale_cmap(cmap)\n",
    "    grayscale = cmap(np.arange(cmap.N))\n",
    "\n",
    "    fig, ax = plt.subplots(2, figsize=(6, 2),\n",
    "                           subplot_kw=dict(xticks=[], yticks=[]))\n",
    "    ax[0].imshow([colors], extent=[0, 10, 0, 1])\n",
    "    ax[1].imshow([grayscale], extent=[0, 10, 0, 1])\n",
    "    plt.show()"
   ]
  },
  {
   "cell_type": "code",
   "execution_count": null,
   "metadata": {
    "collapsed": true
   },
   "outputs": [],
   "source": [
    "view_colormap('Blues')"
   ]
  },
  {
   "cell_type": "code",
   "execution_count": null,
   "metadata": {
    "collapsed": true
   },
   "outputs": [],
   "source": [
    "fig, ax = plt.subplots(figsize=(6, 1))\n",
    "fig.subplots_adjust(bottom=0.5)\n",
    "\n",
    "cmap = mpl.cm.rainbow\n",
    "bounds = [-1, 2, 5, 7, 12, 15,16,17,60]\n",
    "norm = mpl.colors.BoundaryNorm(bounds, cmap.N)\n",
    "\n",
    "fig.colorbar(mpl.cm.ScalarMappable(norm=norm, cmap=cmap),\n",
    "             cax=ax, orientation='horizontal',\n",
    "             label=\"Discrete intervals with extend='both' keyword\")\n",
    "plt.show()"
   ]
  },
  {
   "cell_type": "code",
   "execution_count": null,
   "metadata": {
    "collapsed": true
   },
   "outputs": [],
   "source": [
    "mpl.cm.ScalarMappable(norm=norm, cmap=cmap)"
   ]
  },
  {
   "cell_type": "code",
   "execution_count": null,
   "metadata": {
    "collapsed": true
   },
   "outputs": [],
   "source": [
    "colors_Gp_dict"
   ]
  },
  {
   "cell_type": "code",
   "execution_count": null,
   "metadata": {
    "collapsed": true
   },
   "outputs": [],
   "source": [
    "from matplotlib.colors import LinearSegmentedColormap\n",
    "LinearSegmentedColormap.from_list(name=\"custom\", colors=list(colors_Gp_dict.values()))"
   ]
  },
  {
   "cell_type": "code",
   "execution_count": null,
   "metadata": {
    "collapsed": true
   },
   "outputs": [],
   "source": [
    "fig,ax=plt.subplots(figsize=(30,14))\n",
    "ax.imshow(np.ones(shape=(10,317)), cmap=LinearSegmentedColormap.from_list(name=\"custom\", colors=list(colors_Gp_dict.values())))\n",
    "plt.show()"
   ]
  },
  {
   "cell_type": "code",
   "execution_count": null,
   "metadata": {
    "collapsed": true
   },
   "outputs": [],
   "source": []
  }
 ],
 "metadata": {
  "kernelspec": {
   "display_name": "Python 3",
   "language": "python",
   "name": "python3"
  },
  "language_info": {
   "codemirror_mode": {
    "name": "ipython",
    "version": 3
   },
   "file_extension": ".py",
   "mimetype": "text/x-python",
   "name": "python",
   "nbconvert_exporter": "python",
   "pygments_lexer": "ipython3",
   "version": "3.6.1"
  }
 },
 "nbformat": 4,
 "nbformat_minor": 2
}
